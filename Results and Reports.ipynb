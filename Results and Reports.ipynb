{
 "cells": [
  {
   "cell_type": "code",
   "execution_count": 16,
   "metadata": {
    "collapsed": false
   },
   "outputs": [],
   "source": [
    "from Constants import ROOT_DIR, \\\n",
    "    H5_DIR_FULLYCONNECTED_MULTIPLE_RELU,\\\n",
    "    H5_DIR_FULLYCONNECTED_MULTIPLE_ELU,\\\n",
    "    H5_DIR_COVNET_MULTIPLE_RELU,\\\n",
    "    H5_DIR_COVNET_MULTIPLE_ELU,\\\n",
    "    H5_DIR_COVNET_JUMP_SIGMA,\\\n",
    "    H5_DIR_COVNET_JUMP_MU,\\\n",
    "    H5_DIR_COVNET_LAMBDA,\\\n",
    "    H5_DIR_ENSEMBLING"
   ]
  },
  {
   "cell_type": "code",
   "execution_count": 17,
   "metadata": {
    "collapsed": true
   },
   "outputs": [],
   "source": [
    "import numpy as np\n",
    "import math\n",
    "import random\n",
    "import statsmodels.api as sm\n",
    "import matplotlib.pyplot as plt\n",
    "import pylab\n",
    "\n",
    "from scipy import stats\n",
    "from numpy import random as nrand\n",
    "\n",
    "%matplotlib inline\n",
    "\n",
    "# Optional:\n",
    "import seaborn as sns\n",
    "sns.set(color_codes=True)\n",
    "sns.set_style(style='white')\n",
    "sns.set(font_scale=1.6)"
   ]
  },
  {
   "cell_type": "code",
   "execution_count": 18,
   "metadata": {
    "collapsed": false
   },
   "outputs": [],
   "source": [
    "import tensorflow as tf\n",
    "import keras\n",
    "from keras.models import Model, Sequential, model_from_json, load_model\n",
    "from keras.layers import Input, Dense, Dropout, Activation, Flatten, LSTM, BatchNormalization\n",
    "from keras.layers import Convolution2D, MaxPooling2D, Convolution1D, MaxPooling1D, Conv2D, Input\n",
    "from keras.optimizers import Adam\n",
    "from keras.utils import np_utils\n",
    "from keras import backend as K\n",
    "from keras.layers.core import Reshape"
   ]
  },
  {
   "cell_type": "code",
   "execution_count": 19,
   "metadata": {
    "collapsed": true
   },
   "outputs": [],
   "source": [
    "from Merton_Jump_Diffusion_SDE_Utilities import \\\n",
    "    ModelParameters, \\\n",
    "    random_model_params, \\\n",
    "    geometric_brownian_motion_jump_diffusion_log_returns"
   ]
  },
  {
   "cell_type": "code",
   "execution_count": 20,
   "metadata": {
    "collapsed": true
   },
   "outputs": [],
   "source": [
    "def test_set_model_params():\n",
    "    return ModelParameters(\n",
    "        all_time=2000,\n",
    "        all_delta=0.00396825396,\n",
    "        all_sigma = 0.1,\n",
    "        gbm_mu = 0.05,\n",
    "        jumps_sigma=0.07,\n",
    "        jumps_mu=0.05,\n",
    "        jumps_lamda=0.02)\n",
    "\n",
    "def standard_convolutional_test_set(sample_size = 1000, dim = (40, 50)):\n",
    "    test_set = []\n",
    "    for i in range(sample_size):\n",
    "        if (i%100 == 0):\n",
    "            print(i)\n",
    "        test_set.append(geometric_brownian_motion_jump_diffusion_log_returns(test_set_model_params()))\n",
    "\n",
    "    test_set_pred = np.reshape(np.array(test_set), (sample_size, dim[0], dim[1], 1))\n",
    "    return test_set_pred\n",
    "\n",
    "def convolutional_batch_generator(all_time = 2000, paramset_size = 32, paths_p_paramset = 5):\n",
    "    while True:\n",
    "        RETURNS_ = []\n",
    "        PARAMS_ = []\n",
    "        \n",
    "        for i in range(paramset_size):\n",
    "            mp = random_model_params()\n",
    "            mp.all_time = all_time\n",
    "            \n",
    "            for j in range(paths_p_paramset):\n",
    "                PARAMS_.append(mp)\n",
    "                RETURNS_.append(geometric_brownian_motion_jump_diffusion_log_returns(mp))\n",
    "        \n",
    "        train_data = np.reshape(np.array(RETURNS_), (paramset_size*paths_p_paramset, 40, 50, 1))\n",
    "        sigmas = np.array([[mp.all_sigma] for mp in PARAMS_])\n",
    "        mus = np.array([[mp.gbm_mu] for mp in PARAMS_])\n",
    "        jump_sigmas = np.array([[mp.jumps_sigma] for mp in PARAMS_])\n",
    "        jump_mus = np.array([[mp.jumps_mu] for mp in PARAMS_])\n",
    "        lambdas = np.array([[mp.lamda] for mp in PARAMS_])\n",
    "        \n",
    "        yield train_data, [sigmas, mus, jump_sigmas, jump_mus, lambdas]\n",
    "\n",
    "def standard_fullyconnected_test_set(sample_size = 1000):\n",
    "    test_set = []\n",
    "    for i in range(sample_size):\n",
    "        if (i%100 == 0):\n",
    "            print(i)\n",
    "        test_set.append(geometric_brownian_motion_jump_diffusion_log_returns(test_set_model_params()))\n",
    "\n",
    "    train_moments = [np.append(stats.moment(example, moment = range(2,20)), np.mean(example)) for example in test_set]\n",
    "    train_statistics = np.array([np.append(train_moments[i], \n",
    "                                  sm.tsa.stattools.acf(test_set[i])) \n",
    "                        for i in range(len(test_set))])\n",
    "    return train_statistics\n",
    "\n",
    "def fullyconnected_batch_generator(all_time = 2000, paramset_size = 32, paths_p_paramset = 5):\n",
    "    while True:\n",
    "        RETURNS_ = []\n",
    "        PARAMS_ = []\n",
    "        \n",
    "        for i in range(paramset_size):\n",
    "            mp = random_model_params()\n",
    "            mp.all_time = all_time\n",
    "            \n",
    "            for j in range(paths_p_paramset):\n",
    "                PARAMS_.append(mp)\n",
    "                RETURNS_.append(geometric_brownian_motion_jump_diffusion_log_returns(mp))\n",
    "        \n",
    "        train_moments = [np.append(stats.moment(example, moment = range(2,20)), np.mean(example)) for example in RETURNS_]\n",
    "\n",
    "        train_statistics = np.array([np.append(train_moments[i], \n",
    "                              sm.tsa.stattools.acf(RETURNS_[i])) \n",
    "                    for i in range(len(RETURNS_))])\n",
    "        \n",
    "        sigmas = np.array([[mp.all_sigma] for mp in PARAMS_])\n",
    "        mus = np.array([[mp.gbm_mu] for mp in PARAMS_])\n",
    "        jump_sigmas = np.array([[mp.jumps_sigma] for mp in PARAMS_])\n",
    "        jump_mus = np.array([[mp.jumps_mu] for mp in PARAMS_])\n",
    "        lambdas = np.array([[mp.lamda] for mp in PARAMS_])\n",
    "        \n",
    "        yield train_statistics, [sigmas, mus, jump_sigmas, jump_mus, lambdas]"
   ]
  },
  {
   "cell_type": "code",
   "execution_count": 22,
   "metadata": {
    "collapsed": true
   },
   "outputs": [],
   "source": [
    "histories_elu = np.load(\"covnet_histories_elu.npy\").tolist()\n",
    "covnet_mo_elu_predictions = np.load(\"covnet_mo_elu_predictions.npy\").tolist()"
   ]
  },
  {
   "cell_type": "code",
   "execution_count": 24,
   "metadata": {
    "collapsed": true
   },
   "outputs": [],
   "source": [
    "def predictions_hist(predictions, true_value, plot_title = \"model\", param_name = \"param\", min_edge = None, max_edge = None, y_lim = (None, None), bin_size = 0.0025, img_subdir = \"/Images/\", save_to_file = True):\n",
    "    \n",
    "    if min_edge == None:\n",
    "        min_edge = np.min(predictions)\n",
    "    \n",
    "    if max_edge == None:\n",
    "        max_edge = np.max(predictions)\n",
    "    \n",
    "    bin_size = (max_edge-min_edge)/50\n",
    "    N = (max_edge-min_edge)/bin_size; Nplus1 = N + 1\n",
    "    bin_list = np.linspace(min_edge, max_edge, Nplus1)\n",
    "\n",
    "    fig, ax = pylab.subplots()\n",
    "    pylab.hist(predictions, bins=bin_list, animated = True)\n",
    "    #pylab.title(plot_title);\n",
    "    pylab.axvline(x = true_value, c='k')\n",
    "    pylab.xlim(min_edge, max_edge)\n",
    "    \n",
    "    if y_lim != (None, None):\n",
    "        pylab.ylim(y_lim[0], y_lim[1])\n",
    "        \n",
    "    fig.set_dpi(120)\n",
    "    if save_to_file:\n",
    "        fig.savefig(ROOT_DIR + img_subdir + plot_title + \"_\" + param_name + \".png\")\n",
    "    return fig"
   ]
  },
  {
   "cell_type": "code",
   "execution_count": 25,
   "metadata": {
    "collapsed": false
   },
   "outputs": [
    {
     "ename": "NameError",
     "evalue": "name 'mp' is not defined",
     "output_type": "error",
     "traceback": [
      "\u001b[0;31m---------------------------------------------------------------------------\u001b[0m",
      "\u001b[0;31mNameError\u001b[0m                                 Traceback (most recent call last)",
      "\u001b[0;32m<ipython-input-25-b7d5829dc4db>\u001b[0m in \u001b[0;36m<module>\u001b[0;34m()\u001b[0m\n\u001b[1;32m      1\u001b[0m \u001b[0;32mfor\u001b[0m \u001b[0mprediction_elu\u001b[0m \u001b[0;32min\u001b[0m \u001b[0mcovnet_mo_elu_predictions\u001b[0m\u001b[0;34m:\u001b[0m\u001b[0;34m\u001b[0m\u001b[0m\n\u001b[0;32m----> 2\u001b[0;31m     predictions_hist(prediction_elu[3], mp.jumps_mu, \n\u001b[0m\u001b[1;32m      3\u001b[0m                  \u001b[0;34m\"Convolutional Architecture - Multiple Output - ELU\"\u001b[0m\u001b[0;34m,\u001b[0m\u001b[0;34m\u001b[0m\u001b[0m\n\u001b[1;32m      4\u001b[0m                  \u001b[0;34m\"Jumps Mu\"\u001b[0m\u001b[0;34m,\u001b[0m\u001b[0;34m\u001b[0m\u001b[0m\n\u001b[1;32m      5\u001b[0m                  \u001b[0mmin_edge\u001b[0m \u001b[0;34m=\u001b[0m \u001b[0;34m-\u001b[0m\u001b[0;36m0.1\u001b[0m\u001b[0;34m,\u001b[0m\u001b[0;34m\u001b[0m\u001b[0m\n",
      "\u001b[0;31mNameError\u001b[0m: name 'mp' is not defined"
     ]
    }
   ],
   "source": [
    "for prediction_elu in covnet_mo_elu_predictions:\n",
    "    predictions_hist(prediction_elu[3], mp.jumps_mu, \n",
    "                 \"Convolutional Architecture - Multiple Output - ELU\", \n",
    "                 \"Jumps Mu\",\n",
    "                 min_edge = -0.1,\n",
    "                 max_edge = 0.15,\n",
    "                 y_lim = (0, 120),\n",
    "                 save_to_file = False);"
   ]
  },
  {
   "cell_type": "code",
   "execution_count": null,
   "metadata": {
    "collapsed": true
   },
   "outputs": [],
   "source": []
  }
 ],
 "metadata": {
  "anaconda-cloud": {},
  "kernelspec": {
   "display_name": "Python [conda env:carnd-term1]",
   "language": "python",
   "name": "conda-env-carnd-term1-py"
  },
  "language_info": {
   "codemirror_mode": {
    "name": "ipython",
    "version": 3
   },
   "file_extension": ".py",
   "mimetype": "text/x-python",
   "name": "python",
   "nbconvert_exporter": "python",
   "pygments_lexer": "ipython3",
   "version": "3.5.2"
  }
 },
 "nbformat": 4,
 "nbformat_minor": 1
}
