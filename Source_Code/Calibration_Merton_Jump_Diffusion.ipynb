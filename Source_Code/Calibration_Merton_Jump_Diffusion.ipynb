{
 "cells": [
  {
   "cell_type": "code",
   "execution_count": 1,
   "metadata": {},
   "outputs": [
    {
     "name": "stdout",
     "output_type": "stream",
     "text": [
      "Fetching package metadata .......\n",
      "Solving package specifications: ..........\n",
      "\n",
      "Package plan for installation in environment /home/carnd/anaconda3/envs/carnd-term1:\n",
      "\n",
      "The following packages will be downloaded:\n",
      "\n",
      "    package                    |            build\n",
      "    ---------------------------|-----------------\n",
      "    cudatoolkit-7.5            |                2       235.6 MB\n",
      "    libgcc-5.2.0               |                0         1.1 MB\n",
      "    cudnn-6.0.21               |        cuda7.5_0       108.2 MB\n",
      "    libprotobuf-3.2.0          |                0         6.3 MB\n",
      "    markdown-2.6.8             |           py35_0         100 KB\n",
      "    backports.weakref-1.0rc1   |           py35_0           7 KB\n",
      "    html5lib-0.9999999         |           py35_0         183 KB\n",
      "    protobuf-3.2.0             |           py35_0         458 KB\n",
      "    tensorflow-gpu-1.2.1       |py35cuda7.5cudnn6.0_0        73.5 MB\n",
      "    ------------------------------------------------------------\n",
      "                                           Total:       425.3 MB\n",
      "\n",
      "The following NEW packages will be INSTALLED:\n",
      "\n",
      "    backports:         1.0-py35_0                             \n",
      "    backports.weakref: 1.0rc1-py35_0                          \n",
      "    cudatoolkit:       7.5-2                                  \n",
      "    cudnn:             6.0.21-cuda7.5_0                       \n",
      "    libgcc:            5.2.0-0                                \n",
      "    libprotobuf:       3.2.0-0                                \n",
      "    markdown:          2.6.8-py35_0                           \n",
      "    protobuf:          3.2.0-py35_0                           \n",
      "    tensorflow-gpu:    1.2.1-py35cuda7.5cudnn6.0_0            \n",
      "\n",
      "The following packages will be UPDATED:\n",
      "\n",
      "    html5lib:          0.999-py35_0                conda-forge --> 0.9999999-py35_0\n",
      "\n",
      "Fetching packages ...\n",
      "cudatoolkit-7. 100% |################################| Time: 0:00:04  60.44 MB/s\n",
      "libgcc-5.2.0-0 100% |################################| Time: 0:00:00   9.12 MB/s\n",
      "cudnn-6.0.21-c 100% |################################| Time: 0:00:02  56.27 MB/s\n",
      "libprotobuf-3. 100% |################################| Time: 0:00:00  23.08 MB/s\n",
      "markdown-2.6.8 100% |################################| Time: 0:00:00   4.19 MB/s\n",
      "backports.weak 100% |################################| Time: 0:00:00  14.75 MB/s\n",
      "html5lib-0.999 100% |################################| Time: 0:00:00   5.03 MB/s\n",
      "protobuf-3.2.0 100% |################################| Time: 0:00:00   8.33 MB/s\n",
      "tensorflow-gpu 100% |################################| Time: 0:00:01  54.78 MB/s\n",
      "Extracting packages ...\n",
      "[      COMPLETE      ]|###################################################| 100%\n",
      "Unlinking packages ...\n",
      "[      COMPLETE      ]|###################################################| 100%\n",
      "Linking packages ...\n",
      "[      COMPLETE      ]|###################################################| 100%\n",
      "Fetching package metadata .........\n",
      "Solving package specifications: ..........\n",
      "\n",
      "Package plan for installation in environment /home/carnd/anaconda3/envs/carnd-term1:\n",
      "\n",
      "The following packages will be downloaded:\n",
      "\n",
      "    package                    |            build\n",
      "    ---------------------------|-----------------\n",
      "    libgpuarray-0.6.9          |                0         245 KB  conda-forge\n",
      "    mako-1.0.7                 |           py35_0         115 KB  conda-forge\n",
      "    pygpu-0.6.9                |      np112py35_0         1.4 MB  conda-forge\n",
      "    theano-0.9.0               |           py35_1         4.1 MB  conda-forge\n",
      "    keras-2.0.6                |           py35_0         407 KB  conda-forge\n",
      "    ------------------------------------------------------------\n",
      "                                           Total:         6.3 MB\n",
      "\n",
      "The following NEW packages will be INSTALLED:\n",
      "\n",
      "    keras:       2.0.6-py35_0      conda-forge\n",
      "    libgpuarray: 0.6.9-0           conda-forge\n",
      "    mako:        1.0.7-py35_0      conda-forge\n",
      "    pygpu:       0.6.9-np112py35_0 conda-forge\n",
      "    theano:      0.9.0-py35_1      conda-forge\n",
      "\n",
      "Fetching packages ...\n",
      "libgpuarray-0. 100% |################################| Time: 0:00:00 318.29 kB/s\n",
      "mako-1.0.7-py3 100% |################################| Time: 0:00:00 364.87 kB/s\n",
      "pygpu-0.6.9-np 100% |################################| Time: 0:00:01   1.32 MB/s\n",
      "theano-0.9.0-p 100% |################################| Time: 0:00:01   2.94 MB/s\n",
      "keras-2.0.6-py 100% |################################| Time: 0:00:00 423.44 kB/s\n",
      "Extracting packages ...\n",
      "[      COMPLETE      ]|###################################################| 100%\n",
      "Linking packages ...\n",
      "[      COMPLETE      ]|###################################################| 100%\n"
     ]
    }
   ],
   "source": [
    "#!pip install seaborn\n",
    "!conda install tensorflow-gpu --yes\n",
    "!conda install -c conda-forge keras --yes"
   ]
  },
  {
   "cell_type": "code",
   "execution_count": 2,
   "metadata": {
    "collapsed": true
   },
   "outputs": [],
   "source": [
    "from Constants import ROOT_DIR, \\\n",
    "    H5_DIR_FULLYCONNECTED_MULTIPLE_RELU,\\\n",
    "    H5_DIR_FULLYCONNECTED_MULTIPLE_ELU,\\\n",
    "    H5_DIR_COVNET_MULTIPLE_RELU,\\\n",
    "    H5_DIR_COVNET_MULTIPLE_ELU,\\\n",
    "    H5_DIR_COVNET_JUMP_SIGMA,\\\n",
    "    H5_DIR_COVNET_JUMP_MU,\\\n",
    "    H5_DIR_COVNET_LAMBDA,\\\n",
    "    H5_DIR_ENSEMBLING,\\\n",
    "    HISTORY_DIR_FEEDFORWARD_RELU,\\\n",
    "    PREDICTIONS_DIR_FEEDFORWARD_RELU"
   ]
  },
  {
   "cell_type": "code",
   "execution_count": 3,
   "metadata": {},
   "outputs": [
    {
     "name": "stderr",
     "output_type": "stream",
     "text": [
      "/home/carnd/anaconda3/envs/carnd-term1/lib/python3.5/site-packages/matplotlib/font_manager.py:280: UserWarning: Matplotlib is building the font cache using fc-list. This may take a moment.\n",
      "  'Matplotlib is building the font cache using fc-list. '\n"
     ]
    }
   ],
   "source": [
    "import numpy as np\n",
    "import math\n",
    "import random\n",
    "import statsmodels.api as sm\n",
    "import matplotlib.pyplot as plt\n",
    "import pylab\n",
    "\n",
    "from scipy import stats\n",
    "from numpy import random as nrand\n",
    "\n",
    "%matplotlib inline\n",
    "\n",
    "# Optional:\n",
    "import seaborn as sns\n",
    "sns.set(color_codes=True)\n",
    "sns.set_style(style='white')\n",
    "sns.set(font_scale=1.6)"
   ]
  },
  {
   "cell_type": "code",
   "execution_count": 4,
   "metadata": {},
   "outputs": [
    {
     "name": "stderr",
     "output_type": "stream",
     "text": [
      "Using TensorFlow backend.\n"
     ]
    }
   ],
   "source": [
    "import tensorflow as tf\n",
    "import keras\n",
    "from keras.models import Model, Sequential, load_model\n",
    "from keras.layers import Input, Dense, Flatten, LSTM, Convolution2D, MaxPooling2D, Input\n",
    "from keras.optimizers import Adam\n",
    "from keras import backend as K"
   ]
  },
  {
   "cell_type": "code",
   "execution_count": 5,
   "metadata": {},
   "outputs": [
    {
     "name": "stdout",
     "output_type": "stream",
     "text": [
      "2.0.6\n"
     ]
    }
   ],
   "source": [
    "print(keras.__version__)"
   ]
  },
  {
   "cell_type": "code",
   "execution_count": null,
   "metadata": {
    "collapsed": true
   },
   "outputs": [],
   "source": [
    "sess = tf.Session(config=tf.ConfigProto(log_device_placement=True))"
   ]
  },
  {
   "cell_type": "code",
   "execution_count": 6,
   "metadata": {
    "collapsed": true
   },
   "outputs": [],
   "source": [
    "from Merton_Jump_Diffusion_SDE_Utilities import \\\n",
    "    ModelParameters, \\\n",
    "    random_model_params, \\\n",
    "    geometric_brownian_motion_jump_diffusion_log_returns\n",
    "    \n",
    "from Models import \\\n",
    "    fullyconnected_multiple_ELUs, \\\n",
    "    covnet_multiple_ELUs_8_layers, \\\n",
    "    covnet_single_ReLUs_6_layers, \\\n",
    "    fullyconnected_multiple_ReLUs, \\\n",
    "    covnet_multiple_ELUs_10_layers"
   ]
  },
  {
   "cell_type": "code",
   "execution_count": 7,
   "metadata": {
    "collapsed": true
   },
   "outputs": [],
   "source": [
    "def test_set_model_params():\n",
    "    return ModelParameters(\n",
    "        all_time=2000,\n",
    "        all_delta=0.00396825396,\n",
    "        all_sigma = 0.1,\n",
    "        gbm_mu = 0.05,\n",
    "        jumps_sigma=0.07,\n",
    "        jumps_mu=0.05,\n",
    "        jumps_lamda=0.02)\n",
    "\n",
    "def standard_convolutional_test_set(sample_size = 1000, dim = (40, 50), mp = None):\n",
    "    if mp == None:\n",
    "        mp = test_set_model_params()\n",
    "        \n",
    "    test_set = []\n",
    "    for i in range(sample_size):\n",
    "        if (i%100 == 0):\n",
    "            print(i)\n",
    "        test_set.append(geometric_brownian_motion_jump_diffusion_log_returns(mp))\n",
    "\n",
    "    test_set_pred = np.reshape(np.array(test_set), (sample_size, dim[0], dim[1], 1))\n",
    "    return test_set_pred\n",
    "\n",
    "def convolutional_batch_generator(all_time = 2000, paramset_size = 32, paths_p_paramset = 5, constraint_all_sigma = (0.001,0.2), constraint_gbm_mu = (-1,1), constraint_jumps_lamda = (0.0001,0.025), constraint_jumps_sigma = (0.001, 0.2), constraint_jumps_mu = (-0.5,0.5)):\n",
    "    while True:\n",
    "        RETURNS_ = []\n",
    "        PARAMS_ = []\n",
    "        \n",
    "        for i in range(paramset_size):\n",
    "            mp = random_model_params(constraint_all_sigma, constraint_gbm_mu, constraint_jumps_lamda, constraint_jumps_sigma, constraint_jumps_mu)\n",
    "            mp.all_time = all_time\n",
    "            \n",
    "            for j in range(paths_p_paramset):\n",
    "                PARAMS_.append(mp)\n",
    "                RETURNS_.append(geometric_brownian_motion_jump_diffusion_log_returns(mp))\n",
    "        \n",
    "        train_data = np.reshape(np.array(RETURNS_), (paramset_size*paths_p_paramset, 40, 50, 1))\n",
    "        sigmas = np.array([[mp.all_sigma] for mp in PARAMS_])\n",
    "        mus = np.array([[mp.gbm_mu] for mp in PARAMS_])\n",
    "        jump_sigmas = np.array([[mp.jumps_sigma] for mp in PARAMS_])\n",
    "        jump_mus = np.array([[mp.jumps_mu] for mp in PARAMS_])\n",
    "        lambdas = np.array([[mp.lamda] for mp in PARAMS_])\n",
    "        \n",
    "        yield train_data, [sigmas, mus, jump_sigmas, jump_mus, lambdas]\n",
    "\n",
    "def standard_fullyconnected_test_set(sample_size = 1000):\n",
    "    test_set = []\n",
    "    for i in range(sample_size):\n",
    "        if (i%100 == 0):\n",
    "            print(i)\n",
    "        test_set.append(geometric_brownian_motion_jump_diffusion_log_returns(test_set_model_params()))\n",
    "\n",
    "    train_moments = [np.append(stats.moment(example, moment = range(2,20)), np.mean(example)) for example in test_set]\n",
    "    train_statistics = np.array([np.append(train_moments[i], \n",
    "                                  sm.tsa.stattools.acf(test_set[i])) \n",
    "                        for i in range(len(test_set))])\n",
    "    return train_statistics\n",
    "\n",
    "\n",
    "def standard_test_sets(sample_size = 1000, dim = (40, 50)):\n",
    "    test_set = []\n",
    "    for i in range(sample_size):\n",
    "        if (i%100 == 0):\n",
    "            print(i)\n",
    "        test_set.append(geometric_brownian_motion_jump_diffusion_log_returns(test_set_model_params()))\n",
    "\n",
    "    test_set_pred = np.reshape(np.array(test_set), (sample_size, dim[0], dim[1], 1))\n",
    "    \n",
    "    train_moments = [np.append(stats.moment(example, moment = range(2,20)), np.mean(example)) for example in test_set]\n",
    "    train_statistics = np.array([np.append(train_moments[i], \n",
    "                                  sm.tsa.stattools.acf(test_set[i])) \n",
    "                        for i in range(len(test_set))])\n",
    "    return test_set_pred, train_statistics\n",
    "\n",
    "def fullyconnected_batch_generator(all_time = 2000, paramset_size = 32, paths_p_paramset = 5):\n",
    "    while True:\n",
    "        RETURNS_ = []\n",
    "        PARAMS_ = []\n",
    "        \n",
    "        for i in range(paramset_size):\n",
    "            mp = random_model_params()\n",
    "            mp.all_time = all_time\n",
    "            \n",
    "            for j in range(paths_p_paramset):\n",
    "                PARAMS_.append(mp)\n",
    "                RETURNS_.append(geometric_brownian_motion_jump_diffusion_log_returns(mp))\n",
    "        \n",
    "        train_moments = [np.append(stats.moment(example, moment = range(2,20)), np.mean(example)) for example in RETURNS_]\n",
    "\n",
    "        train_statistics = np.array([np.append(train_moments[i], \n",
    "                              sm.tsa.stattools.acf(RETURNS_[i])) \n",
    "                    for i in range(len(RETURNS_))])\n",
    "        \n",
    "        sigmas = np.array([[mp.all_sigma] for mp in PARAMS_])\n",
    "        mus = np.array([[mp.gbm_mu] for mp in PARAMS_])\n",
    "        jump_sigmas = np.array([[mp.jumps_sigma] for mp in PARAMS_])\n",
    "        jump_mus = np.array([[mp.jumps_mu] for mp in PARAMS_])\n",
    "        lambdas = np.array([[mp.lamda] for mp in PARAMS_])\n",
    "        \n",
    "        yield train_statistics, [sigmas, mus, jump_sigmas, jump_mus, lambdas]"
   ]
  },
  {
   "cell_type": "markdown",
   "metadata": {},
   "source": [
    "### Fully Connected Multiple ReLUs"
   ]
  },
  {
   "cell_type": "code",
   "execution_count": null,
   "metadata": {
    "collapsed": true
   },
   "outputs": [],
   "source": [
    "feedforward = fullyconnected_multiple_ReLUs()\n",
    "#feedforward.load_weights(H5_DIR_FULLYCONNECTED_MULTIPLE_RELU)"
   ]
  },
  {
   "cell_type": "code",
   "execution_count": null,
   "metadata": {
    "collapsed": true
   },
   "outputs": [],
   "source": [
    "test_set = standard_fullyconnected_test_set()"
   ]
  },
  {
   "cell_type": "code",
   "execution_count": null,
   "metadata": {
    "collapsed": true
   },
   "outputs": [],
   "source": [
    "#feedforward_relu_histories = np.load(HISTORY_DIR_FEEDFORWARD_RELU).tolist()\n",
    "#feedforward_relu_predictions = np.load(PREDICTIONS_DIR_FEEDFORWARD_RELU).tolist()\n",
    "feedforward_relu_histories = []\n",
    "feedforward_relu_predictions = []"
   ]
  },
  {
   "cell_type": "code",
   "execution_count": null,
   "metadata": {
    "collapsed": true
   },
   "outputs": [],
   "source": [
    "train_gen = fullyconnected_batch_generator(paramset_size=1500, paths_p_paramset=1)"
   ]
  },
  {
   "cell_type": "code",
   "execution_count": null,
   "metadata": {
    "collapsed": true
   },
   "outputs": [],
   "source": [
    "!git pull"
   ]
  },
  {
   "cell_type": "code",
   "execution_count": null,
   "metadata": {
    "collapsed": true
   },
   "outputs": [],
   "source": [
    "for i in range(1000):\n",
    "    history = feedforward.fit_generator(train_gen, steps_per_epoch = 10, epochs = 1)\n",
    "    feedforward_relu_histories.append(history.history)\n",
    "    feedforward_relu_predictions.append(feedforward.predict(test_set))\n",
    "    \n",
    "    feedforward.save_weights(H5_DIR_FULLYCONNECTED_MULTIPLE_RELU)\n",
    "\n",
    "    np.save(HISTORY_DIR_FEEDFORWARD_RELU, feedforward_relu_histories)\n",
    "    np.save(PREDICTIONS_DIR_FEEDFORWARD_RELU, feedforward_relu_predictions)\n",
    "\n",
    "    if i%5 == 0:\n",
    "        !git config --global user.email \"rwmmostert@gmail.com\"\n",
    "        !git config --global user.name \"RWMostert\"\n",
    "        !git add --all\n",
    "        !git commit -am \"updated history, predictions and model\" \n",
    "        !git push -u origin master --quiet -f"
   ]
  },
  {
   "cell_type": "markdown",
   "metadata": {},
   "source": [
    "# Fully Connected Multiple ELUs"
   ]
  },
  {
   "cell_type": "code",
   "execution_count": null,
   "metadata": {
    "collapsed": true
   },
   "outputs": [],
   "source": [
    "feedforward = fullyconnected_multiple_ELUs()\n",
    "feedforward.load_weights(H5_DIR_FULLYCONNECTED_MULTIPLE_ELU)"
   ]
  },
  {
   "cell_type": "code",
   "execution_count": null,
   "metadata": {
    "collapsed": true
   },
   "outputs": [],
   "source": [
    "feedforward.load_weights(H5_DIR_FULLYCONNECTED_MULTIPLE_ELU)"
   ]
  },
  {
   "cell_type": "code",
   "execution_count": null,
   "metadata": {
    "collapsed": true
   },
   "outputs": [],
   "source": [
    "train_gen = fullyconnected_batch_generator(paramset_size=50, paths_p_paramset=1)\n",
    "#test_set = standard_fullyconnected_test_set()"
   ]
  },
  {
   "cell_type": "code",
   "execution_count": null,
   "metadata": {
    "collapsed": true
   },
   "outputs": [],
   "source": [
    "histories2 = np.load(\"feedforward_mo_histories.npy\").tolist()\n",
    "ff_predicts = np.load(\"ff_predicts.npy\").tolist()\n",
    "#histories2 = []\n",
    "#ff_predicts = []"
   ]
  },
  {
   "cell_type": "code",
   "execution_count": null,
   "metadata": {
    "collapsed": true
   },
   "outputs": [],
   "source": [
    "for i in range(1000):\n",
    "    history = feedforward.fit_generator(train_gen, steps_per_epoch = 1000, epochs = 1)\n",
    "    histories2.append(history.history)\n",
    "    ff_predicts.append(feedforward.predict(test_set))\n",
    "    \n",
    "    feedforward.save_weights(H5_DIR_FULLYCONNECTED_MULTIPLE_ELU)\n",
    "    np.save(\"feedforward_mo_histories.npy\", histories2)\n",
    "    np.save(\"ff_predicts.npy\", ff_predicts)\n",
    "    \n",
    "    !git config --global user.email \"rwmmostert@gmail.com\"\n",
    "    !git config --global user.name \"RWMostert\"\n",
    "    !git add --all\n",
    "    !git commit -am \"updated history, predictions and model\"\n",
    "    !git push -u origin master --quiet"
   ]
  },
  {
   "cell_type": "markdown",
   "metadata": {},
   "source": [
    "# Covnet Multiple Output with ELUs"
   ]
  },
  {
   "cell_type": "code",
   "execution_count": null,
   "metadata": {
    "collapsed": true
   },
   "outputs": [],
   "source": [
    "covnet_mo_elu = load_model(\"FULLMODEL_RELAXED_ELU_COVNET.h5\")"
   ]
  },
  {
   "cell_type": "code",
   "execution_count": null,
   "metadata": {
    "collapsed": true
   },
   "outputs": [],
   "source": [
    "#covnet_mo_elu = covnet_multiple_ELUs_8_layers(r_squared = False)\n",
    "#covnet_mo_elu.load_weights(\"RELAXED_ELU_COVNET.h5\")"
   ]
  },
  {
   "cell_type": "code",
   "execution_count": null,
   "metadata": {
    "collapsed": true
   },
   "outputs": [],
   "source": [
    "#covnet_mo_elu.save(H5_DIR_COVNET_MULTIPLE_ELU)"
   ]
  },
  {
   "cell_type": "code",
   "execution_count": null,
   "metadata": {
    "collapsed": true
   },
   "outputs": [],
   "source": [
    "test_set_pred = standard_convolutional_test_set()"
   ]
  },
  {
   "cell_type": "code",
   "execution_count": null,
   "metadata": {
    "collapsed": true
   },
   "outputs": [],
   "source": [
    "train_gen = convolutional_batch_generator(paramset_size=50, paths_p_paramset=1, constraint_gbm_mu=(-0.5, 0.5))"
   ]
  },
  {
   "cell_type": "code",
   "execution_count": null,
   "metadata": {
    "collapsed": true
   },
   "outputs": [],
   "source": [
    "histories_elu = np.load(\"covnet_histories_elu_RELAXED.npy\").tolist()\n",
    "covnet_mo_elu_predictions = np.load(\"covnet_mo_elu_predictions_RELAXED.npy\").tolist()"
   ]
  },
  {
   "cell_type": "code",
   "execution_count": null,
   "metadata": {
    "collapsed": true,
    "scrolled": true
   },
   "outputs": [],
   "source": [
    "for i in range(150000):\n",
    "    history = covnet_mo_elu.fit_generator(train_gen, samples_per_epoch = 100, nb_epoch = 10)\n",
    "    \n",
    "    histories_elu.append(history.history)\n",
    "    \n",
    "    predictions_elu = covnet_mo_elu.predict(test_set_pred)\n",
    "    \n",
    "    covnet_mo_elu_predictions.append(predictions_elu)\n",
    "    \n",
    "    covnet_mo_elu.save(\"FULLMODEL_RELAXED_ELU_COVNET.h5\")\n",
    "    \n",
    "    np.save(\"covnet_histories_elu_RELAXED.npy\", histories_elu)\n",
    "    np.save(\"covnet_mo_elu_predictions_RELAXED.npy\", covnet_mo_elu_predictions)\n",
    "    \n",
    "    !git config --global user.email \"rwmmostert@gmail.com\"\n",
    "    !git config --global user.name \"RWMostert\"\n",
    "    !git add --all\n",
    "    !git commit -am \"updated history, predictions and model\"\n",
    "    !git push -u origin master --quiet"
   ]
  },
  {
   "cell_type": "markdown",
   "metadata": {},
   "source": [
    "# Covnet Multiple Output with ELUs 10 Layers"
   ]
  },
  {
   "cell_type": "code",
   "execution_count": 10,
   "metadata": {},
   "outputs": [],
   "source": [
    "covnet_mo_elu = load_model(\"FULLMODEL_10LAYERS_COVNET.h5\", custom_objects={\"r2\":r2})"
   ]
  },
  {
   "cell_type": "code",
   "execution_count": null,
   "metadata": {
    "collapsed": true
   },
   "outputs": [],
   "source": [
    "#covnet_mo_elu = covnet_multiple_ELUs_10_layers()\n",
    "#covnet_mo_elu.load_weights(\"RELAXED_ELU_COVNET.h5\")"
   ]
  },
  {
   "cell_type": "code",
   "execution_count": null,
   "metadata": {
    "collapsed": true
   },
   "outputs": [],
   "source": [
    "#covnet_mo_elu.save(H5_DIR_COVNET_MULTIPLE_ELU)"
   ]
  },
  {
   "cell_type": "code",
   "execution_count": 11,
   "metadata": {},
   "outputs": [
    {
     "name": "stdout",
     "output_type": "stream",
     "text": [
      "0\n",
      "100\n",
      "200\n",
      "300\n",
      "400\n",
      "500\n",
      "600\n",
      "700\n",
      "800\n",
      "900\n"
     ]
    }
   ],
   "source": [
    "test_set_pred = standard_convolutional_test_set()"
   ]
  },
  {
   "cell_type": "code",
   "execution_count": 16,
   "metadata": {
    "collapsed": true
   },
   "outputs": [],
   "source": [
    "train_gen = convolutional_batch_generator(paramset_size=1750, paths_p_paramset=1, constraint_gbm_mu=(-0.5, 0.5))"
   ]
  },
  {
   "cell_type": "code",
   "execution_count": 13,
   "metadata": {
    "collapsed": true
   },
   "outputs": [],
   "source": [
    "histories_elu = np.load(\"covnet_histories_elu_10LAYERS.npy\").tolist()\n",
    "covnet_mo_elu_predictions = np.load(\"covnet_mo_elu_predictions_10LAYERS.npy\").tolist()"
   ]
  },
  {
   "cell_type": "code",
   "execution_count": 14,
   "metadata": {
    "collapsed": true
   },
   "outputs": [],
   "source": [
    "smallest_loss = 20"
   ]
  },
  {
   "cell_type": "code",
   "execution_count": 19,
   "metadata": {
    "scrolled": true
   },
   "outputs": [
    {
     "name": "stderr",
     "output_type": "stream",
     "text": [
      "/home/carnd/anaconda3/envs/carnd-term1/lib/python3.5/site-packages/ipykernel_launcher.py:2: UserWarning: The semantics of the Keras 2 argument `steps_per_epoch` is not the same as the Keras 1 argument `samples_per_epoch`. `steps_per_epoch` is the number of batches to draw from the generator at each epoch. Basically steps_per_epoch = samples_per_epoch/batch_size. Similarly `nb_val_samples`->`validation_steps` and `val_samples`->`steps` arguments have changed. Update your method calls accordingly.\n",
      "  \n",
      "/home/carnd/anaconda3/envs/carnd-term1/lib/python3.5/site-packages/ipykernel_launcher.py:2: UserWarning: Update your `fit_generator` call to the Keras 2 API: `fit_generator(<generator..., epochs=1, steps_per_epoch=10)`\n",
      "  \n"
     ]
    },
    {
     "name": "stdout",
     "output_type": "stream",
     "text": [
      "Epoch 1/1\n",
      "10/10 [==============================] - 172s - loss: 0.0069 - sigma_loss: 5.1815e-05 - mu_loss: 0.0024 - jump_sigma_loss: 0.0012 - jump_mu_loss: 0.0033 - lambda_loss: 1.2211e-05 - sigma_mean_absolute_percentage_error: 17.4387 - sigma_r2: 0.9842 - mu_mean_absolute_percentage_error: 82.4425 - mu_r2: 0.9717 - jump_sigma_mean_absolute_percentage_error: 91.5152 - jump_sigma_r2: 0.6515 - jump_mu_mean_absolute_percentage_error: 51.5976 - jump_mu_r2: 0.9599 - lambda_mean_absolute_percentage_error: 50.5395 - lambda_r2: 0.7641    \n",
      "[master a478fe8] updated history, predictions and model\n",
      " 1 file changed, 1 insertion(+), 1 deletion(-)\n",
      "Branch master set up to track remote branch master from origin.\n",
      "Epoch 1/1\n",
      "10/10 [==============================] - 172s - loss: 0.0066 - sigma_loss: 5.1216e-05 - mu_loss: 0.0023 - jump_sigma_loss: 0.0011 - jump_mu_loss: 0.0031 - lambda_loss: 1.0300e-05 - sigma_mean_absolute_percentage_error: 16.1368 - sigma_r2: 0.9843 - mu_mean_absolute_percentage_error: 62.9775 - mu_r2: 0.9720 - jump_sigma_mean_absolute_percentage_error: 86.0733 - jump_sigma_r2: 0.6612 - jump_mu_mean_absolute_percentage_error: 60.4562 - jump_mu_r2: 0.9628 - lambda_mean_absolute_percentage_error: 48.8079 - lambda_r2: 0.7982    \n",
      "SAVE\n",
      "Epoch 1/1\n",
      "10/10 [==============================] - 171s - loss: 0.0067 - sigma_loss: 5.7669e-05 - mu_loss: 0.0023 - jump_sigma_loss: 0.0011 - jump_mu_loss: 0.0033 - lambda_loss: 9.7974e-06 - sigma_mean_absolute_percentage_error: 17.4026 - sigma_r2: 0.9826 - mu_mean_absolute_percentage_error: 237.5184 - mu_r2: 0.9726 - jump_sigma_mean_absolute_percentage_error: 84.1353 - jump_sigma_r2: 0.6569 - jump_mu_mean_absolute_percentage_error: 65.1540 - jump_mu_r2: 0.9605 - lambda_mean_absolute_percentage_error: 43.1536 - lambda_r2: 0.8098    \n",
      "Epoch 1/1\n",
      "10/10 [==============================] - 177s - loss: 0.0069 - sigma_loss: 6.5194e-05 - mu_loss: 0.0024 - jump_sigma_loss: 0.0011 - jump_mu_loss: 0.0033 - lambda_loss: 1.0057e-05 - sigma_mean_absolute_percentage_error: 18.0691 - sigma_r2: 0.9803 - mu_mean_absolute_percentage_error: 76.0986 - mu_r2: 0.9706 - jump_sigma_mean_absolute_percentage_error: 89.3161 - jump_sigma_r2: 0.6544 - jump_mu_mean_absolute_percentage_error: 49.0444 - jump_mu_r2: 0.9607 - lambda_mean_absolute_percentage_error: 48.4414 - lambda_r2: 0.8031    \n",
      "Epoch 1/1\n",
      "10/10 [==============================] - 172s - loss: 0.0066 - sigma_loss: 5.2166e-05 - mu_loss: 0.0021 - jump_sigma_loss: 0.0011 - jump_mu_loss: 0.0032 - lambda_loss: 1.0500e-05 - sigma_mean_absolute_percentage_error: 15.9854 - sigma_r2: 0.9840 - mu_mean_absolute_percentage_error: 59.8715 - mu_r2: 0.9740 - jump_sigma_mean_absolute_percentage_error: 86.6707 - jump_sigma_r2: 0.6559 - jump_mu_mean_absolute_percentage_error: 49.7293 - jump_mu_r2: 0.9610 - lambda_mean_absolute_percentage_error: 44.5212 - lambda_r2: 0.7955    \n",
      "SAVE\n",
      "Epoch 1/1\n",
      "10/10 [==============================] - 172s - loss: 0.0065 - sigma_loss: 5.2249e-05 - mu_loss: 0.0021 - jump_sigma_loss: 0.0011 - jump_mu_loss: 0.0033 - lambda_loss: 1.0148e-05 - sigma_mean_absolute_percentage_error: 17.0226 - sigma_r2: 0.9842 - mu_mean_absolute_percentage_error: 93.9248 - mu_r2: 0.9750 - jump_sigma_mean_absolute_percentage_error: 83.0682 - jump_sigma_r2: 0.6651 - jump_mu_mean_absolute_percentage_error: 78.4308 - jump_mu_r2: 0.9607 - lambda_mean_absolute_percentage_error: 47.3557 - lambda_r2: 0.8036    \n",
      "SAVE\n",
      "[master 15de666] updated history, predictions and model\n",
      " 4 files changed, 16 insertions(+), 1 deletion(-)\n",
      "Branch master set up to track remote branch master from origin.\n",
      "Epoch 1/1\n",
      "10/10 [==============================] - 171s - loss: 0.0066 - sigma_loss: 6.5812e-05 - mu_loss: 0.0022 - jump_sigma_loss: 0.0012 - jump_mu_loss: 0.0032 - lambda_loss: 1.1597e-05 - sigma_mean_absolute_percentage_error: 19.6260 - sigma_r2: 0.9801 - mu_mean_absolute_percentage_error: 57.3707 - mu_r2: 0.9741 - jump_sigma_mean_absolute_percentage_error: 87.3784 - jump_sigma_r2: 0.6428 - jump_mu_mean_absolute_percentage_error: 49.8862 - jump_mu_r2: 0.9615 - lambda_mean_absolute_percentage_error: 52.3950 - lambda_r2: 0.7774    \n",
      "Epoch 1/1\n",
      "10/10 [==============================] - 171s - loss: 0.0066 - sigma_loss: 5.8489e-05 - mu_loss: 0.0023 - jump_sigma_loss: 0.0012 - jump_mu_loss: 0.0031 - lambda_loss: 1.0182e-05 - sigma_mean_absolute_percentage_error: 16.8041 - sigma_r2: 0.9822 - mu_mean_absolute_percentage_error: 92.5004 - mu_r2: 0.9728 - jump_sigma_mean_absolute_percentage_error: 84.0767 - jump_sigma_r2: 0.6528 - jump_mu_mean_absolute_percentage_error: 123.7011 - jump_mu_r2: 0.9628 - lambda_mean_absolute_percentage_error: 46.8480 - lambda_r2: 0.8034    \n",
      "Epoch 1/1\n",
      "10/10 [==============================] - 171s - loss: 0.0066 - sigma_loss: 4.9538e-05 - mu_loss: 0.0021 - jump_sigma_loss: 0.0011 - jump_mu_loss: 0.0033 - lambda_loss: 9.6705e-06 - sigma_mean_absolute_percentage_error: 16.0828 - sigma_r2: 0.9849 - mu_mean_absolute_percentage_error: 63.7799 - mu_r2: 0.9749 - jump_sigma_mean_absolute_percentage_error: 86.2903 - jump_sigma_r2: 0.6621 - jump_mu_mean_absolute_percentage_error: 70.0619 - jump_mu_r2: 0.9608 - lambda_mean_absolute_percentage_error: 46.7639 - lambda_r2: 0.8121    \n",
      "Epoch 1/1\n",
      "10/10 [==============================] - 170s - loss: 0.0066 - sigma_loss: 5.0825e-05 - mu_loss: 0.0022 - jump_sigma_loss: 0.0011 - jump_mu_loss: 0.0032 - lambda_loss: 1.0815e-05 - sigma_mean_absolute_percentage_error: 15.5784 - sigma_r2: 0.9846 - mu_mean_absolute_percentage_error: 94.6141 - mu_r2: 0.9733 - jump_sigma_mean_absolute_percentage_error: 85.8130 - jump_sigma_r2: 0.6565 - jump_mu_mean_absolute_percentage_error: 66.6627 - jump_mu_r2: 0.9607 - lambda_mean_absolute_percentage_error: 52.0126 - lambda_r2: 0.7892    \n",
      "Epoch 1/1\n",
      "10/10 [==============================] - 172s - loss: 0.0066 - sigma_loss: 6.5518e-05 - mu_loss: 0.0022 - jump_sigma_loss: 0.0011 - jump_mu_loss: 0.0031 - lambda_loss: 1.0078e-05 - sigma_mean_absolute_percentage_error: 19.3619 - sigma_r2: 0.9801 - mu_mean_absolute_percentage_error: 69.2087 - mu_r2: 0.9731 - jump_sigma_mean_absolute_percentage_error: 88.1139 - jump_sigma_r2: 0.6652 - jump_mu_mean_absolute_percentage_error: 54.0758 - jump_mu_r2: 0.9624 - lambda_mean_absolute_percentage_error: 44.9872 - lambda_r2: 0.8035    \n",
      "[master 83f6f7a] updated history, predictions and model\n",
      " 1 file changed, 15 insertions(+), 1 deletion(-)\n",
      "Branch master set up to track remote branch master from origin.\n",
      "Epoch 1/1\n",
      "10/10 [==============================] - 171s - loss: 0.0065 - sigma_loss: 5.7281e-05 - mu_loss: 0.0022 - jump_sigma_loss: 0.0011 - jump_mu_loss: 0.0032 - lambda_loss: 1.0173e-05 - sigma_mean_absolute_percentage_error: 16.8327 - sigma_r2: 0.9826 - mu_mean_absolute_percentage_error: 65.6483 - mu_r2: 0.9737 - jump_sigma_mean_absolute_percentage_error: 89.3418 - jump_sigma_r2: 0.6661 - jump_mu_mean_absolute_percentage_error: 64.2400 - jump_mu_r2: 0.9613 - lambda_mean_absolute_percentage_error: 45.9581 - lambda_r2: 0.8028    \n",
      "SAVE\n",
      "Epoch 1/1\n",
      "10/10 [==============================] - 171s - loss: 0.0070 - sigma_loss: 4.9659e-05 - mu_loss: 0.0023 - jump_sigma_loss: 0.0011 - jump_mu_loss: 0.0035 - lambda_loss: 1.0217e-05 - sigma_mean_absolute_percentage_error: 16.5037 - sigma_r2: 0.9850 - mu_mean_absolute_percentage_error: 71.5816 - mu_r2: 0.9719 - jump_sigma_mean_absolute_percentage_error: 89.7370 - jump_sigma_r2: 0.6542 - jump_mu_mean_absolute_percentage_error: 61.8265 - jump_mu_r2: 0.9582 - lambda_mean_absolute_percentage_error: 46.7908 - lambda_r2: 0.8033    \n",
      "Epoch 1/1\n",
      "10/10 [==============================] - 170s - loss: 0.0065 - sigma_loss: 5.8943e-05 - mu_loss: 0.0022 - jump_sigma_loss: 0.0012 - jump_mu_loss: 0.0031 - lambda_loss: 1.0101e-05 - sigma_mean_absolute_percentage_error: 16.8085 - sigma_r2: 0.9821 - mu_mean_absolute_percentage_error: 71.2795 - mu_r2: 0.9733 - jump_sigma_mean_absolute_percentage_error: 84.5162 - jump_sigma_r2: 0.6475 - jump_mu_mean_absolute_percentage_error: 57.2974 - jump_mu_r2: 0.9632 - lambda_mean_absolute_percentage_error: 49.0876 - lambda_r2: 0.8041    \n",
      "Epoch 1/1\n"
     ]
    },
    {
     "name": "stdout",
     "output_type": "stream",
     "text": [
      "10/10 [==============================] - 172s - loss: 0.0063 - sigma_loss: 6.3821e-05 - mu_loss: 0.0021 - jump_sigma_loss: 0.0011 - jump_mu_loss: 0.0030 - lambda_loss: 1.0018e-05 - sigma_mean_absolute_percentage_error: 18.6011 - sigma_r2: 0.9805 - mu_mean_absolute_percentage_error: 92.6168 - mu_r2: 0.9749 - jump_sigma_mean_absolute_percentage_error: 85.0444 - jump_sigma_r2: 0.6722 - jump_mu_mean_absolute_percentage_error: 127.8110 - jump_mu_r2: 0.9635 - lambda_mean_absolute_percentage_error: 47.0981 - lambda_r2: 0.8044   \n",
      "SAVE\n",
      "Epoch 1/1\n",
      "10/10 [==============================] - 171s - loss: 0.0065 - sigma_loss: 5.5324e-05 - mu_loss: 0.0020 - jump_sigma_loss: 0.0011 - jump_mu_loss: 0.0032 - lambda_loss: 9.0393e-06 - sigma_mean_absolute_percentage_error: 18.7198 - sigma_r2: 0.9832 - mu_mean_absolute_percentage_error: 89.7616 - mu_r2: 0.9754 - jump_sigma_mean_absolute_percentage_error: 87.3481 - jump_sigma_r2: 0.6654 - jump_mu_mean_absolute_percentage_error: 92.0683 - jump_mu_r2: 0.9613 - lambda_mean_absolute_percentage_error: 45.5917 - lambda_r2: 0.8240    \n",
      "[master 721e653] updated history, predictions and model\n",
      " 4 files changed, 22 insertions(+), 1 deletion(-)\n",
      "Branch master set up to track remote branch master from origin.\n",
      "Epoch 1/1\n",
      "10/10 [==============================] - 172s - loss: 0.0065 - sigma_loss: 5.3397e-05 - mu_loss: 0.0021 - jump_sigma_loss: 0.0011 - jump_mu_loss: 0.0033 - lambda_loss: 9.7977e-06 - sigma_mean_absolute_percentage_error: 17.4263 - sigma_r2: 0.9839 - mu_mean_absolute_percentage_error: 468.4030 - mu_r2: 0.9749 - jump_sigma_mean_absolute_percentage_error: 85.6092 - jump_sigma_r2: 0.6670 - jump_mu_mean_absolute_percentage_error: 72.1314 - jump_mu_r2: 0.9610 - lambda_mean_absolute_percentage_error: 44.6116 - lambda_r2: 0.8115    \n",
      "Epoch 1/1\n",
      "10/10 [==============================] - 170s - loss: 0.0067 - sigma_loss: 5.9114e-05 - mu_loss: 0.0022 - jump_sigma_loss: 0.0011 - jump_mu_loss: 0.0033 - lambda_loss: 1.0618e-05 - sigma_mean_absolute_percentage_error: 16.0411 - sigma_r2: 0.9821 - mu_mean_absolute_percentage_error: 103.4835 - mu_r2: 0.9733 - jump_sigma_mean_absolute_percentage_error: 86.7290 - jump_sigma_r2: 0.6630 - jump_mu_mean_absolute_percentage_error: 243.4583 - jump_mu_r2: 0.9604 - lambda_mean_absolute_percentage_error: 52.7069 - lambda_r2: 0.7947    \n",
      "Epoch 1/1\n",
      " 2/10 [=====>........................] - ETA: 142s - loss: 0.0064 - sigma_loss: 5.2947e-05 - mu_loss: 0.0023 - jump_sigma_loss: 0.0011 - jump_mu_loss: 0.0030 - lambda_loss: 9.7430e-06 - sigma_mean_absolute_percentage_error: 20.4087 - sigma_r2: 0.9841 - mu_mean_absolute_percentage_error: 75.3367 - mu_r2: 0.9726 - jump_sigma_mean_absolute_percentage_error: 84.0292 - jump_sigma_r2: 0.6696 - jump_mu_mean_absolute_percentage_error: 41.1556 - jump_mu_r2: 0.9628 - lambda_mean_absolute_percentage_error: 42.4517 - lambda_r2: 0.8089"
     ]
    },
    {
     "ename": "KeyboardInterrupt",
     "evalue": "",
     "output_type": "error",
     "traceback": [
      "\u001b[0;31m---------------------------------------------------------------------------\u001b[0m",
      "\u001b[0;31mKeyboardInterrupt\u001b[0m                         Traceback (most recent call last)",
      "\u001b[0;32m<ipython-input-19-0a56e8b13eb6>\u001b[0m in \u001b[0;36m<module>\u001b[0;34m()\u001b[0m\n\u001b[1;32m      1\u001b[0m \u001b[0;32mfor\u001b[0m \u001b[0mi\u001b[0m \u001b[0;32min\u001b[0m \u001b[0mrange\u001b[0m\u001b[0;34m(\u001b[0m\u001b[0;36m150000\u001b[0m\u001b[0;34m)\u001b[0m\u001b[0;34m:\u001b[0m\u001b[0;34m\u001b[0m\u001b[0m\n\u001b[0;32m----> 2\u001b[0;31m     \u001b[0mhistory\u001b[0m \u001b[0;34m=\u001b[0m \u001b[0mcovnet_mo_elu\u001b[0m\u001b[0;34m.\u001b[0m\u001b[0mfit_generator\u001b[0m\u001b[0;34m(\u001b[0m\u001b[0mtrain_gen\u001b[0m\u001b[0;34m,\u001b[0m \u001b[0msamples_per_epoch\u001b[0m \u001b[0;34m=\u001b[0m \u001b[0;36m10\u001b[0m\u001b[0;34m,\u001b[0m \u001b[0mnb_epoch\u001b[0m \u001b[0;34m=\u001b[0m \u001b[0;36m1\u001b[0m\u001b[0;34m)\u001b[0m\u001b[0;34m\u001b[0m\u001b[0m\n\u001b[0m\u001b[1;32m      3\u001b[0m \u001b[0;34m\u001b[0m\u001b[0m\n\u001b[1;32m      4\u001b[0m     \u001b[0;32mif\u001b[0m \u001b[0mhistory\u001b[0m\u001b[0;34m.\u001b[0m\u001b[0mhistory\u001b[0m\u001b[0;34m[\u001b[0m\u001b[0;34m'loss'\u001b[0m\u001b[0;34m]\u001b[0m\u001b[0;34m[\u001b[0m\u001b[0;34m-\u001b[0m\u001b[0;36m1\u001b[0m\u001b[0;34m]\u001b[0m\u001b[0;34m<\u001b[0m\u001b[0msmallest_loss\u001b[0m\u001b[0;34m:\u001b[0m\u001b[0;34m\u001b[0m\u001b[0m\n\u001b[1;32m      5\u001b[0m         \u001b[0mprint\u001b[0m\u001b[0;34m(\u001b[0m\u001b[0;34m\"SAVE\"\u001b[0m\u001b[0;34m)\u001b[0m\u001b[0;34m\u001b[0m\u001b[0m\n",
      "\u001b[0;32m/home/carnd/anaconda3/envs/carnd-term1/lib/python3.5/site-packages/keras/legacy/interfaces.py\u001b[0m in \u001b[0;36mwrapper\u001b[0;34m(*args, **kwargs)\u001b[0m\n\u001b[1;32m     85\u001b[0m                 warnings.warn('Update your `' + object_name +\n\u001b[1;32m     86\u001b[0m                               '` call to the Keras 2 API: ' + signature, stacklevel=2)\n\u001b[0;32m---> 87\u001b[0;31m             \u001b[0;32mreturn\u001b[0m \u001b[0mfunc\u001b[0m\u001b[0;34m(\u001b[0m\u001b[0;34m*\u001b[0m\u001b[0margs\u001b[0m\u001b[0;34m,\u001b[0m \u001b[0;34m**\u001b[0m\u001b[0mkwargs\u001b[0m\u001b[0;34m)\u001b[0m\u001b[0;34m\u001b[0m\u001b[0m\n\u001b[0m\u001b[1;32m     88\u001b[0m         \u001b[0mwrapper\u001b[0m\u001b[0;34m.\u001b[0m\u001b[0m_original_function\u001b[0m \u001b[0;34m=\u001b[0m \u001b[0mfunc\u001b[0m\u001b[0;34m\u001b[0m\u001b[0m\n\u001b[1;32m     89\u001b[0m         \u001b[0;32mreturn\u001b[0m \u001b[0mwrapper\u001b[0m\u001b[0;34m\u001b[0m\u001b[0m\n",
      "\u001b[0;32m/home/carnd/anaconda3/envs/carnd-term1/lib/python3.5/site-packages/keras/engine/training.py\u001b[0m in \u001b[0;36mfit_generator\u001b[0;34m(self, generator, steps_per_epoch, epochs, verbose, callbacks, validation_data, validation_steps, class_weight, max_queue_size, workers, use_multiprocessing, initial_epoch)\u001b[0m\n\u001b[1;32m   1838\u001b[0m                     outs = self.train_on_batch(x, y,\n\u001b[1;32m   1839\u001b[0m                                                \u001b[0msample_weight\u001b[0m\u001b[0;34m=\u001b[0m\u001b[0msample_weight\u001b[0m\u001b[0;34m,\u001b[0m\u001b[0;34m\u001b[0m\u001b[0m\n\u001b[0;32m-> 1840\u001b[0;31m                                                class_weight=class_weight)\n\u001b[0m\u001b[1;32m   1841\u001b[0m \u001b[0;34m\u001b[0m\u001b[0m\n\u001b[1;32m   1842\u001b[0m                     \u001b[0;32mif\u001b[0m \u001b[0;32mnot\u001b[0m \u001b[0misinstance\u001b[0m\u001b[0;34m(\u001b[0m\u001b[0mouts\u001b[0m\u001b[0;34m,\u001b[0m \u001b[0mlist\u001b[0m\u001b[0;34m)\u001b[0m\u001b[0;34m:\u001b[0m\u001b[0;34m\u001b[0m\u001b[0m\n",
      "\u001b[0;32m/home/carnd/anaconda3/envs/carnd-term1/lib/python3.5/site-packages/keras/engine/training.py\u001b[0m in \u001b[0;36mtrain_on_batch\u001b[0;34m(self, x, y, sample_weight, class_weight)\u001b[0m\n\u001b[1;32m   1563\u001b[0m             \u001b[0mins\u001b[0m \u001b[0;34m=\u001b[0m \u001b[0mx\u001b[0m \u001b[0;34m+\u001b[0m \u001b[0my\u001b[0m \u001b[0;34m+\u001b[0m \u001b[0msample_weights\u001b[0m\u001b[0;34m\u001b[0m\u001b[0m\n\u001b[1;32m   1564\u001b[0m         \u001b[0mself\u001b[0m\u001b[0;34m.\u001b[0m\u001b[0m_make_train_function\u001b[0m\u001b[0;34m(\u001b[0m\u001b[0;34m)\u001b[0m\u001b[0;34m\u001b[0m\u001b[0m\n\u001b[0;32m-> 1565\u001b[0;31m         \u001b[0moutputs\u001b[0m \u001b[0;34m=\u001b[0m \u001b[0mself\u001b[0m\u001b[0;34m.\u001b[0m\u001b[0mtrain_function\u001b[0m\u001b[0;34m(\u001b[0m\u001b[0mins\u001b[0m\u001b[0;34m)\u001b[0m\u001b[0;34m\u001b[0m\u001b[0m\n\u001b[0m\u001b[1;32m   1566\u001b[0m         \u001b[0;32mif\u001b[0m \u001b[0mlen\u001b[0m\u001b[0;34m(\u001b[0m\u001b[0moutputs\u001b[0m\u001b[0;34m)\u001b[0m \u001b[0;34m==\u001b[0m \u001b[0;36m1\u001b[0m\u001b[0;34m:\u001b[0m\u001b[0;34m\u001b[0m\u001b[0m\n\u001b[1;32m   1567\u001b[0m             \u001b[0;32mreturn\u001b[0m \u001b[0moutputs\u001b[0m\u001b[0;34m[\u001b[0m\u001b[0;36m0\u001b[0m\u001b[0;34m]\u001b[0m\u001b[0;34m\u001b[0m\u001b[0m\n",
      "\u001b[0;32m/home/carnd/anaconda3/envs/carnd-term1/lib/python3.5/site-packages/keras/backend/tensorflow_backend.py\u001b[0m in \u001b[0;36m__call__\u001b[0;34m(self, inputs)\u001b[0m\n\u001b[1;32m   2266\u001b[0m         updated = session.run(self.outputs + [self.updates_op],\n\u001b[1;32m   2267\u001b[0m                               \u001b[0mfeed_dict\u001b[0m\u001b[0;34m=\u001b[0m\u001b[0mfeed_dict\u001b[0m\u001b[0;34m,\u001b[0m\u001b[0;34m\u001b[0m\u001b[0m\n\u001b[0;32m-> 2268\u001b[0;31m                               **self.session_kwargs)\n\u001b[0m\u001b[1;32m   2269\u001b[0m         \u001b[0;32mreturn\u001b[0m \u001b[0mupdated\u001b[0m\u001b[0;34m[\u001b[0m\u001b[0;34m:\u001b[0m\u001b[0mlen\u001b[0m\u001b[0;34m(\u001b[0m\u001b[0mself\u001b[0m\u001b[0;34m.\u001b[0m\u001b[0moutputs\u001b[0m\u001b[0;34m)\u001b[0m\u001b[0;34m]\u001b[0m\u001b[0;34m\u001b[0m\u001b[0m\n\u001b[1;32m   2270\u001b[0m \u001b[0;34m\u001b[0m\u001b[0m\n",
      "\u001b[0;32m/home/carnd/anaconda3/envs/carnd-term1/lib/python3.5/site-packages/tensorflow/python/client/session.py\u001b[0m in \u001b[0;36mrun\u001b[0;34m(self, fetches, feed_dict, options, run_metadata)\u001b[0m\n\u001b[1;32m    787\u001b[0m     \u001b[0;32mtry\u001b[0m\u001b[0;34m:\u001b[0m\u001b[0;34m\u001b[0m\u001b[0m\n\u001b[1;32m    788\u001b[0m       result = self._run(None, fetches, feed_dict, options_ptr,\n\u001b[0;32m--> 789\u001b[0;31m                          run_metadata_ptr)\n\u001b[0m\u001b[1;32m    790\u001b[0m       \u001b[0;32mif\u001b[0m \u001b[0mrun_metadata\u001b[0m\u001b[0;34m:\u001b[0m\u001b[0;34m\u001b[0m\u001b[0m\n\u001b[1;32m    791\u001b[0m         \u001b[0mproto_data\u001b[0m \u001b[0;34m=\u001b[0m \u001b[0mtf_session\u001b[0m\u001b[0;34m.\u001b[0m\u001b[0mTF_GetBuffer\u001b[0m\u001b[0;34m(\u001b[0m\u001b[0mrun_metadata_ptr\u001b[0m\u001b[0;34m)\u001b[0m\u001b[0;34m\u001b[0m\u001b[0m\n",
      "\u001b[0;32m/home/carnd/anaconda3/envs/carnd-term1/lib/python3.5/site-packages/tensorflow/python/client/session.py\u001b[0m in \u001b[0;36m_run\u001b[0;34m(self, handle, fetches, feed_dict, options, run_metadata)\u001b[0m\n\u001b[1;32m    995\u001b[0m     \u001b[0;32mif\u001b[0m \u001b[0mfinal_fetches\u001b[0m \u001b[0;32mor\u001b[0m \u001b[0mfinal_targets\u001b[0m\u001b[0;34m:\u001b[0m\u001b[0;34m\u001b[0m\u001b[0m\n\u001b[1;32m    996\u001b[0m       results = self._do_run(handle, final_targets, final_fetches,\n\u001b[0;32m--> 997\u001b[0;31m                              feed_dict_string, options, run_metadata)\n\u001b[0m\u001b[1;32m    998\u001b[0m     \u001b[0;32melse\u001b[0m\u001b[0;34m:\u001b[0m\u001b[0;34m\u001b[0m\u001b[0m\n\u001b[1;32m    999\u001b[0m       \u001b[0mresults\u001b[0m \u001b[0;34m=\u001b[0m \u001b[0;34m[\u001b[0m\u001b[0;34m]\u001b[0m\u001b[0;34m\u001b[0m\u001b[0m\n",
      "\u001b[0;32m/home/carnd/anaconda3/envs/carnd-term1/lib/python3.5/site-packages/tensorflow/python/client/session.py\u001b[0m in \u001b[0;36m_do_run\u001b[0;34m(self, handle, target_list, fetch_list, feed_dict, options, run_metadata)\u001b[0m\n\u001b[1;32m   1130\u001b[0m     \u001b[0;32mif\u001b[0m \u001b[0mhandle\u001b[0m \u001b[0;32mis\u001b[0m \u001b[0;32mNone\u001b[0m\u001b[0;34m:\u001b[0m\u001b[0;34m\u001b[0m\u001b[0m\n\u001b[1;32m   1131\u001b[0m       return self._do_call(_run_fn, self._session, feed_dict, fetch_list,\n\u001b[0;32m-> 1132\u001b[0;31m                            target_list, options, run_metadata)\n\u001b[0m\u001b[1;32m   1133\u001b[0m     \u001b[0;32melse\u001b[0m\u001b[0;34m:\u001b[0m\u001b[0;34m\u001b[0m\u001b[0m\n\u001b[1;32m   1134\u001b[0m       return self._do_call(_prun_fn, self._session, handle, feed_dict,\n",
      "\u001b[0;32m/home/carnd/anaconda3/envs/carnd-term1/lib/python3.5/site-packages/tensorflow/python/client/session.py\u001b[0m in \u001b[0;36m_do_call\u001b[0;34m(self, fn, *args)\u001b[0m\n\u001b[1;32m   1137\u001b[0m   \u001b[0;32mdef\u001b[0m \u001b[0m_do_call\u001b[0m\u001b[0;34m(\u001b[0m\u001b[0mself\u001b[0m\u001b[0;34m,\u001b[0m \u001b[0mfn\u001b[0m\u001b[0;34m,\u001b[0m \u001b[0;34m*\u001b[0m\u001b[0margs\u001b[0m\u001b[0;34m)\u001b[0m\u001b[0;34m:\u001b[0m\u001b[0;34m\u001b[0m\u001b[0m\n\u001b[1;32m   1138\u001b[0m     \u001b[0;32mtry\u001b[0m\u001b[0;34m:\u001b[0m\u001b[0;34m\u001b[0m\u001b[0m\n\u001b[0;32m-> 1139\u001b[0;31m       \u001b[0;32mreturn\u001b[0m \u001b[0mfn\u001b[0m\u001b[0;34m(\u001b[0m\u001b[0;34m*\u001b[0m\u001b[0margs\u001b[0m\u001b[0;34m)\u001b[0m\u001b[0;34m\u001b[0m\u001b[0m\n\u001b[0m\u001b[1;32m   1140\u001b[0m     \u001b[0;32mexcept\u001b[0m \u001b[0merrors\u001b[0m\u001b[0;34m.\u001b[0m\u001b[0mOpError\u001b[0m \u001b[0;32mas\u001b[0m \u001b[0me\u001b[0m\u001b[0;34m:\u001b[0m\u001b[0;34m\u001b[0m\u001b[0m\n\u001b[1;32m   1141\u001b[0m       \u001b[0mmessage\u001b[0m \u001b[0;34m=\u001b[0m \u001b[0mcompat\u001b[0m\u001b[0;34m.\u001b[0m\u001b[0mas_text\u001b[0m\u001b[0;34m(\u001b[0m\u001b[0me\u001b[0m\u001b[0;34m.\u001b[0m\u001b[0mmessage\u001b[0m\u001b[0;34m)\u001b[0m\u001b[0;34m\u001b[0m\u001b[0m\n",
      "\u001b[0;32m/home/carnd/anaconda3/envs/carnd-term1/lib/python3.5/site-packages/tensorflow/python/client/session.py\u001b[0m in \u001b[0;36m_run_fn\u001b[0;34m(session, feed_dict, fetch_list, target_list, options, run_metadata)\u001b[0m\n\u001b[1;32m   1119\u001b[0m         return tf_session.TF_Run(session, options,\n\u001b[1;32m   1120\u001b[0m                                  \u001b[0mfeed_dict\u001b[0m\u001b[0;34m,\u001b[0m \u001b[0mfetch_list\u001b[0m\u001b[0;34m,\u001b[0m \u001b[0mtarget_list\u001b[0m\u001b[0;34m,\u001b[0m\u001b[0;34m\u001b[0m\u001b[0m\n\u001b[0;32m-> 1121\u001b[0;31m                                  status, run_metadata)\n\u001b[0m\u001b[1;32m   1122\u001b[0m \u001b[0;34m\u001b[0m\u001b[0m\n\u001b[1;32m   1123\u001b[0m     \u001b[0;32mdef\u001b[0m \u001b[0m_prun_fn\u001b[0m\u001b[0;34m(\u001b[0m\u001b[0msession\u001b[0m\u001b[0;34m,\u001b[0m \u001b[0mhandle\u001b[0m\u001b[0;34m,\u001b[0m \u001b[0mfeed_dict\u001b[0m\u001b[0;34m,\u001b[0m \u001b[0mfetch_list\u001b[0m\u001b[0;34m)\u001b[0m\u001b[0;34m:\u001b[0m\u001b[0;34m\u001b[0m\u001b[0m\n",
      "\u001b[0;31mKeyboardInterrupt\u001b[0m: "
     ]
    }
   ],
   "source": [
    "for i in range(150000):\n",
    "    history = covnet_mo_elu.fit_generator(train_gen, samples_per_epoch = 10, nb_epoch = 1)\n",
    "    \n",
    "    if history.history['loss'][-1]<smallest_loss:\n",
    "        print(\"SAVE\")\n",
    "        smallest_loss = history.history['loss'][-1]\n",
    "        covnet_mo_elu.save(\"FULLMODEL_10LAYERS_COVNET.h5\")\n",
    "        histories_elu.append(history.history)\n",
    "\n",
    "        predictions_elu = covnet_mo_elu.predict(test_set_pred)\n",
    "\n",
    "        covnet_mo_elu_predictions.append(predictions_elu)\n",
    "    \n",
    "    if i%5 == 0:\n",
    "        np.save(\"covnet_histories_elu_10LAYERS.npy\", histories_elu)\n",
    "        np.save(\"covnet_mo_elu_predictions_10LAYERS.npy\", covnet_mo_elu_predictions)\n",
    "\n",
    "        !git config --global user.email \"rwmmostert@gmail.com\"\n",
    "        !git config --global user.name \"RWMostert\"\n",
    "        !git add --all\n",
    "        !git commit -am \"updated history, predictions and model\"\n",
    "        !git push -u origin master --quiet"
   ]
  },
  {
   "cell_type": "code",
   "execution_count": null,
   "metadata": {
    "collapsed": true
   },
   "outputs": [],
   "source": [
    "print()"
   ]
  },
  {
   "cell_type": "markdown",
   "metadata": {},
   "source": [
    "# Covnet Single Output Prediction - Lambda Smaller"
   ]
  },
  {
   "cell_type": "code",
   "execution_count": 21,
   "metadata": {},
   "outputs": [],
   "source": [
    "covnet_lambda = load_model(\"./Models/covnet_lambda.h5\", custom_objects={\"r2\":r2})"
   ]
  },
  {
   "cell_type": "code",
   "execution_count": 22,
   "metadata": {},
   "outputs": [
    {
     "name": "stdout",
     "output_type": "stream",
     "text": [
      "_________________________________________________________________\n",
      "Layer (type)                 Output Shape              Param #   \n",
      "=================================================================\n",
      "conv2d_21 (Conv2D)           (None, 40, 50, 32)        4640      \n",
      "_________________________________________________________________\n",
      "conv2d_22 (Conv2D)           (None, 40, 50, 32)        147488    \n",
      "_________________________________________________________________\n",
      "max_pooling2d_11 (MaxPooling (None, 20, 25, 32)        0         \n",
      "_________________________________________________________________\n",
      "conv2d_23 (Conv2D)           (None, 20, 25, 64)        73792     \n",
      "_________________________________________________________________\n",
      "conv2d_24 (Conv2D)           (None, 20, 25, 64)        147520    \n",
      "_________________________________________________________________\n",
      "max_pooling2d_12 (MaxPooling (None, 10, 12, 64)        0         \n",
      "_________________________________________________________________\n",
      "flatten_6 (Flatten)          (None, 7680)              0         \n",
      "_________________________________________________________________\n",
      "dense_11 (Dense)             (None, 512)               3932672   \n",
      "_________________________________________________________________\n",
      "dense_12 (Dense)             (None, 1)                 513       \n",
      "=================================================================\n",
      "Total params: 4,306,625\n",
      "Trainable params: 4,306,625\n",
      "Non-trainable params: 0\n",
      "_________________________________________________________________\n"
     ]
    }
   ],
   "source": [
    "covnet_lambda.summary()"
   ]
  },
  {
   "cell_type": "code",
   "execution_count": 23,
   "metadata": {
    "collapsed": true
   },
   "outputs": [],
   "source": [
    "def lambda_batch_generator(all_time = 2000, paramset_size = 32, paths_p_paramset = 5):\n",
    "    while True:\n",
    "        RETURNS_ = []\n",
    "        PARAMS_ = []\n",
    "        \n",
    "        for i in range(paramset_size):\n",
    "            mp = random_model_params()\n",
    "            mp.all_time = all_time\n",
    "            \n",
    "            for j in range(paths_p_paramset):\n",
    "                PARAMS_.append(mp)\n",
    "                RETURNS_.append(geometric_brownian_motion_jump_diffusion_log_returns(mp))\n",
    "        \n",
    "        train_data = np.reshape(np.array(RETURNS_), (paramset_size*paths_p_paramset, 40, 50, 1))\n",
    "        \n",
    "        lambdas = np.array([[mp.lamda] for mp in PARAMS_])\n",
    "        \n",
    "        yield train_data, lambdas\n",
    "\n",
    "lambda_train_gen = lambda_batch_generator(paramset_size=1750, paths_p_paramset=1)"
   ]
  },
  {
   "cell_type": "code",
   "execution_count": null,
   "metadata": {
    "collapsed": true
   },
   "outputs": [],
   "source": [
    "test_set_pred = standard_convolutional_test_set()"
   ]
  },
  {
   "cell_type": "code",
   "execution_count": null,
   "metadata": {
    "collapsed": true
   },
   "outputs": [],
   "source": [
    "#covnet_lambda.load_weights(H5_DIR_COVNET_LAMBDA)"
   ]
  },
  {
   "cell_type": "code",
   "execution_count": 24,
   "metadata": {
    "collapsed": true
   },
   "outputs": [],
   "source": [
    "histories_lambda = np.load(\"Lambda_histories.npy\").tolist()\n",
    "preds_lambda = np.load(\"preds_lambda.npy\").tolist()"
   ]
  },
  {
   "cell_type": "code",
   "execution_count": 25,
   "metadata": {},
   "outputs": [
    {
     "name": "stdout",
     "output_type": "stream",
     "text": [
      "Epoch 1/3\n",
      "3/3 [==============================] - 52s - loss: 7.7218e-06 - mean_absolute_percentage_error: 35.3557 - r2: 0.8525     \n",
      "Epoch 2/3\n",
      "3/3 [==============================] - 51s - loss: 7.6746e-06 - mean_absolute_percentage_error: 33.6820 - r2: 0.8491     \n",
      "Epoch 3/3\n",
      "3/3 [==============================] - 51s - loss: 7.5974e-06 - mean_absolute_percentage_error: 31.1514 - r2: 0.8501     \n",
      "[master 5b522d6] Model trained\n",
      " 4 files changed, 88 insertions(+), 33 deletions(-)\n",
      " rewrite Source_Code/Lambda_histories.npy (60%)\n",
      " rewrite Source_Code/preds_lambda.npy (98%)\n",
      "warning: push.default is unset; its implicit value has changed in\n",
      "Git 2.0 from 'matching' to 'simple'. To squelch this message\n",
      "and maintain the traditional behavior, use:\n",
      "\n",
      "  git config --global push.default matching\n",
      "\n",
      "To squelch this message and adopt the new behavior now, use:\n",
      "\n",
      "  git config --global push.default simple\n",
      "\n",
      "When push.default is set to 'matching', git will push local branches\n",
      "to the remote branches that already exist with the same name.\n",
      "\n",
      "Since Git 2.0, Git defaults to the more conservative 'simple'\n",
      "behavior, which only pushes the current branch to the corresponding\n",
      "remote branch that 'git pull' uses to update the current branch.\n",
      "\n",
      "See 'git help config' and search for 'push.default' for further information.\n",
      "(the 'simple' mode was introduced in Git 1.7.11. Use the similar mode\n",
      "'current' instead of 'simple' if you sometimes use older versions of Git)\n",
      "\n",
      "Epoch 1/3\n",
      "3/3 [==============================] - 52s - loss: 7.6166e-06 - mean_absolute_percentage_error: 37.6339 - r2: 0.8507     \n",
      "Epoch 2/3\n",
      "3/3 [==============================] - 51s - loss: 7.6974e-06 - mean_absolute_percentage_error: 33.7691 - r2: 0.8522     \n",
      "Epoch 3/3\n",
      "3/3 [==============================] - 51s - loss: 7.5016e-06 - mean_absolute_percentage_error: 31.5806 - r2: 0.8527     \n",
      "Epoch 1/3\n",
      "3/3 [==============================] - 52s - loss: 8.1574e-06 - mean_absolute_percentage_error: 33.2010 - r2: 0.8442     \n",
      "Epoch 2/3\n",
      "3/3 [==============================] - 51s - loss: 8.5866e-06 - mean_absolute_percentage_error: 35.7791 - r2: 0.8318     \n",
      "Epoch 3/3\n",
      "3/3 [==============================] - 52s - loss: 7.9662e-06 - mean_absolute_percentage_error: 33.5601 - r2: 0.8468     \n",
      "Epoch 1/3\n",
      "3/3 [==============================] - 53s - loss: 8.0003e-06 - mean_absolute_percentage_error: 36.9841 - r2: 0.8442     \n",
      "Epoch 2/3\n",
      "3/3 [==============================] - 51s - loss: 7.9340e-06 - mean_absolute_percentage_error: 35.3863 - r2: 0.8464     \n",
      "Epoch 3/3\n",
      "3/3 [==============================] - 51s - loss: 7.7569e-06 - mean_absolute_percentage_error: 36.5630 - r2: 0.8497     \n",
      "Epoch 1/3\n",
      "3/3 [==============================] - 52s - loss: 7.6868e-06 - mean_absolute_percentage_error: 36.0616 - r2: 0.8499     \n",
      "Epoch 2/3\n",
      "3/3 [==============================] - 51s - loss: 7.8347e-06 - mean_absolute_percentage_error: 35.0995 - r2: 0.8471     \n",
      "Epoch 3/3\n",
      "3/3 [==============================] - 51s - loss: 7.7962e-06 - mean_absolute_percentage_error: 34.8431 - r2: 0.8510     \n",
      "Epoch 1/3\n",
      "3/3 [==============================] - 52s - loss: 7.5789e-06 - mean_absolute_percentage_error: 33.1232 - r2: 0.8520     \n",
      "Epoch 2/3\n",
      "3/3 [==============================] - 51s - loss: 7.4530e-06 - mean_absolute_percentage_error: 34.2246 - r2: 0.8556     \n",
      "Epoch 3/3\n",
      "3/3 [==============================] - 51s - loss: 7.8666e-06 - mean_absolute_percentage_error: 33.9137 - r2: 0.8481     \n",
      "Epoch 1/3\n",
      "3/3 [==============================] - 52s - loss: 7.3795e-06 - mean_absolute_percentage_error: 36.0952 - r2: 0.8585     \n",
      "Epoch 2/3\n",
      "3/3 [==============================] - 51s - loss: 7.5348e-06 - mean_absolute_percentage_error: 33.1668 - r2: 0.8531     \n",
      "Epoch 3/3\n",
      "3/3 [==============================] - 51s - loss: 7.1606e-06 - mean_absolute_percentage_error: 30.9143 - r2: 0.8608     \n",
      "Epoch 1/3\n",
      "3/3 [==============================] - 52s - loss: 7.6645e-06 - mean_absolute_percentage_error: 32.8976 - r2: 0.8472     \n",
      "Epoch 2/3\n",
      "3/3 [==============================] - 51s - loss: 7.8068e-06 - mean_absolute_percentage_error: 34.4882 - r2: 0.8461     \n",
      "Epoch 3/3\n",
      "3/3 [==============================] - 51s - loss: 7.7996e-06 - mean_absolute_percentage_error: 32.6006 - r2: 0.8471     \n",
      "Epoch 1/3\n",
      "3/3 [==============================] - 51s - loss: 7.6303e-06 - mean_absolute_percentage_error: 33.6629 - r2: 0.8535     \n",
      "Epoch 2/3\n",
      "3/3 [==============================] - 50s - loss: 7.9300e-06 - mean_absolute_percentage_error: 33.0060 - r2: 0.8471     \n",
      "Epoch 3/3\n",
      "3/3 [==============================] - 52s - loss: 7.6172e-06 - mean_absolute_percentage_error: 29.2210 - r2: 0.8519     \n",
      "Epoch 1/3\n",
      "3/3 [==============================] - 52s - loss: 7.2602e-06 - mean_absolute_percentage_error: 34.1835 - r2: 0.8592     \n",
      "Epoch 2/3\n",
      "3/3 [==============================] - 51s - loss: 7.8378e-06 - mean_absolute_percentage_error: 34.4191 - r2: 0.8499     \n",
      "Epoch 3/3\n",
      "3/3 [==============================] - 51s - loss: 7.5075e-06 - mean_absolute_percentage_error: 35.5624 - r2: 0.8559     \n",
      "Epoch 1/3\n",
      "3/3 [==============================] - 52s - loss: 7.9065e-06 - mean_absolute_percentage_error: 30.3268 - r2: 0.8457     \n",
      "Epoch 2/3\n",
      "3/3 [==============================] - 50s - loss: 7.6866e-06 - mean_absolute_percentage_error: 34.0779 - r2: 0.8512     \n",
      "Epoch 3/3\n",
      "3/3 [==============================] - 51s - loss: 7.5345e-06 - mean_absolute_percentage_error: 34.6627 - r2: 0.8516     \n",
      "[master 71598bb] Model trained\n",
      " 4 files changed, 85 insertions(+), 1 deletion(-)\n",
      "warning: push.default is unset; its implicit value has changed in\n",
      "Git 2.0 from 'matching' to 'simple'. To squelch this message\n",
      "and maintain the traditional behavior, use:\n",
      "\n",
      "  git config --global push.default matching\n",
      "\n",
      "To squelch this message and adopt the new behavior now, use:\n",
      "\n",
      "  git config --global push.default simple\n",
      "\n",
      "When push.default is set to 'matching', git will push local branches\n",
      "to the remote branches that already exist with the same name.\n",
      "\n",
      "Since Git 2.0, Git defaults to the more conservative 'simple'\n",
      "behavior, which only pushes the current branch to the corresponding\n",
      "remote branch that 'git pull' uses to update the current branch.\n",
      "\n",
      "See 'git help config' and search for 'push.default' for further information.\n",
      "(the 'simple' mode was introduced in Git 1.7.11. Use the similar mode\n",
      "'current' instead of 'simple' if you sometimes use older versions of Git)\n",
      "\n",
      "Epoch 1/3\n",
      "3/3 [==============================] - 52s - loss: 7.4615e-06 - mean_absolute_percentage_error: 30.5792 - r2: 0.8529     \n",
      "Epoch 2/3\n",
      "3/3 [==============================] - 50s - loss: 7.5338e-06 - mean_absolute_percentage_error: 32.7386 - r2: 0.8532     \n",
      "Epoch 3/3\n",
      "3/3 [==============================] - 50s - loss: 7.1658e-06 - mean_absolute_percentage_error: 32.9767 - r2: 0.8589     \n",
      "Epoch 1/3\n",
      "1/3 [=========>....................] - ETA: 36s - loss: 7.8434e-06 - mean_absolute_percentage_error: 30.1488 - r2: 0.8476"
     ]
    },
    {
     "ename": "KeyboardInterrupt",
     "evalue": "",
     "output_type": "error",
     "traceback": [
      "\u001b[0;31m---------------------------------------------------------------------------\u001b[0m",
      "\u001b[0;31mKeyboardInterrupt\u001b[0m                         Traceback (most recent call last)",
      "\u001b[0;32m<ipython-input-25-fc8b15ed7023>\u001b[0m in \u001b[0;36m<module>\u001b[0;34m()\u001b[0m\n\u001b[1;32m      1\u001b[0m \u001b[0;32mfor\u001b[0m \u001b[0mi\u001b[0m \u001b[0;32min\u001b[0m \u001b[0mrange\u001b[0m\u001b[0;34m(\u001b[0m\u001b[0;36m15000\u001b[0m\u001b[0;34m)\u001b[0m\u001b[0;34m:\u001b[0m\u001b[0;34m\u001b[0m\u001b[0m\n\u001b[0;32m----> 2\u001b[0;31m     \u001b[0mhistory\u001b[0m \u001b[0;34m=\u001b[0m \u001b[0mcovnet_lambda\u001b[0m\u001b[0;34m.\u001b[0m\u001b[0mfit_generator\u001b[0m\u001b[0;34m(\u001b[0m\u001b[0mlambda_train_gen\u001b[0m\u001b[0;34m,\u001b[0m \u001b[0msteps_per_epoch\u001b[0m \u001b[0;34m=\u001b[0m \u001b[0;36m3\u001b[0m\u001b[0;34m,\u001b[0m \u001b[0mepochs\u001b[0m \u001b[0;34m=\u001b[0m \u001b[0;36m3\u001b[0m\u001b[0;34m)\u001b[0m\u001b[0;34m\u001b[0m\u001b[0m\n\u001b[0m\u001b[1;32m      3\u001b[0m \u001b[0;34m\u001b[0m\u001b[0m\n\u001b[1;32m      4\u001b[0m     \u001b[0mhistories_lambda\u001b[0m\u001b[0;34m.\u001b[0m\u001b[0mappend\u001b[0m\u001b[0;34m(\u001b[0m\u001b[0mhistory\u001b[0m\u001b[0;34m.\u001b[0m\u001b[0mhistory\u001b[0m\u001b[0;34m)\u001b[0m\u001b[0;34m\u001b[0m\u001b[0m\n\u001b[1;32m      5\u001b[0m     \u001b[0mpreds_lambda\u001b[0m\u001b[0;34m.\u001b[0m\u001b[0mappend\u001b[0m\u001b[0;34m(\u001b[0m\u001b[0mcovnet_lambda\u001b[0m\u001b[0;34m.\u001b[0m\u001b[0mpredict\u001b[0m\u001b[0;34m(\u001b[0m\u001b[0mtest_set_pred\u001b[0m\u001b[0;34m)\u001b[0m\u001b[0;34m)\u001b[0m\u001b[0;34m\u001b[0m\u001b[0m\n",
      "\u001b[0;32m/home/carnd/anaconda3/envs/carnd-term1/lib/python3.5/site-packages/keras/legacy/interfaces.py\u001b[0m in \u001b[0;36mwrapper\u001b[0;34m(*args, **kwargs)\u001b[0m\n\u001b[1;32m     85\u001b[0m                 warnings.warn('Update your `' + object_name +\n\u001b[1;32m     86\u001b[0m                               '` call to the Keras 2 API: ' + signature, stacklevel=2)\n\u001b[0;32m---> 87\u001b[0;31m             \u001b[0;32mreturn\u001b[0m \u001b[0mfunc\u001b[0m\u001b[0;34m(\u001b[0m\u001b[0;34m*\u001b[0m\u001b[0margs\u001b[0m\u001b[0;34m,\u001b[0m \u001b[0;34m**\u001b[0m\u001b[0mkwargs\u001b[0m\u001b[0;34m)\u001b[0m\u001b[0;34m\u001b[0m\u001b[0m\n\u001b[0m\u001b[1;32m     88\u001b[0m         \u001b[0mwrapper\u001b[0m\u001b[0;34m.\u001b[0m\u001b[0m_original_function\u001b[0m \u001b[0;34m=\u001b[0m \u001b[0mfunc\u001b[0m\u001b[0;34m\u001b[0m\u001b[0m\n\u001b[1;32m     89\u001b[0m         \u001b[0;32mreturn\u001b[0m \u001b[0mwrapper\u001b[0m\u001b[0;34m\u001b[0m\u001b[0m\n",
      "\u001b[0;32m/home/carnd/anaconda3/envs/carnd-term1/lib/python3.5/site-packages/keras/models.py\u001b[0m in \u001b[0;36mfit_generator\u001b[0;34m(self, generator, steps_per_epoch, epochs, verbose, callbacks, validation_data, validation_steps, class_weight, max_queue_size, workers, use_multiprocessing, initial_epoch)\u001b[0m\n\u001b[1;32m   1115\u001b[0m                                         \u001b[0mworkers\u001b[0m\u001b[0;34m=\u001b[0m\u001b[0mworkers\u001b[0m\u001b[0;34m,\u001b[0m\u001b[0;34m\u001b[0m\u001b[0m\n\u001b[1;32m   1116\u001b[0m                                         \u001b[0muse_multiprocessing\u001b[0m\u001b[0;34m=\u001b[0m\u001b[0muse_multiprocessing\u001b[0m\u001b[0;34m,\u001b[0m\u001b[0;34m\u001b[0m\u001b[0m\n\u001b[0;32m-> 1117\u001b[0;31m                                         initial_epoch=initial_epoch)\n\u001b[0m\u001b[1;32m   1118\u001b[0m \u001b[0;34m\u001b[0m\u001b[0m\n\u001b[1;32m   1119\u001b[0m     \u001b[0;34m@\u001b[0m\u001b[0minterfaces\u001b[0m\u001b[0;34m.\u001b[0m\u001b[0mlegacy_generator_methods_support\u001b[0m\u001b[0;34m\u001b[0m\u001b[0m\n",
      "\u001b[0;32m/home/carnd/anaconda3/envs/carnd-term1/lib/python3.5/site-packages/keras/legacy/interfaces.py\u001b[0m in \u001b[0;36mwrapper\u001b[0;34m(*args, **kwargs)\u001b[0m\n\u001b[1;32m     85\u001b[0m                 warnings.warn('Update your `' + object_name +\n\u001b[1;32m     86\u001b[0m                               '` call to the Keras 2 API: ' + signature, stacklevel=2)\n\u001b[0;32m---> 87\u001b[0;31m             \u001b[0;32mreturn\u001b[0m \u001b[0mfunc\u001b[0m\u001b[0;34m(\u001b[0m\u001b[0;34m*\u001b[0m\u001b[0margs\u001b[0m\u001b[0;34m,\u001b[0m \u001b[0;34m**\u001b[0m\u001b[0mkwargs\u001b[0m\u001b[0;34m)\u001b[0m\u001b[0;34m\u001b[0m\u001b[0m\n\u001b[0m\u001b[1;32m     88\u001b[0m         \u001b[0mwrapper\u001b[0m\u001b[0;34m.\u001b[0m\u001b[0m_original_function\u001b[0m \u001b[0;34m=\u001b[0m \u001b[0mfunc\u001b[0m\u001b[0;34m\u001b[0m\u001b[0m\n\u001b[1;32m     89\u001b[0m         \u001b[0;32mreturn\u001b[0m \u001b[0mwrapper\u001b[0m\u001b[0;34m\u001b[0m\u001b[0m\n",
      "\u001b[0;32m/home/carnd/anaconda3/envs/carnd-term1/lib/python3.5/site-packages/keras/engine/training.py\u001b[0m in \u001b[0;36mfit_generator\u001b[0;34m(self, generator, steps_per_epoch, epochs, verbose, callbacks, validation_data, validation_steps, class_weight, max_queue_size, workers, use_multiprocessing, initial_epoch)\u001b[0m\n\u001b[1;32m   1807\u001b[0m                 \u001b[0mbatch_index\u001b[0m \u001b[0;34m=\u001b[0m \u001b[0;36m0\u001b[0m\u001b[0;34m\u001b[0m\u001b[0m\n\u001b[1;32m   1808\u001b[0m                 \u001b[0;32mwhile\u001b[0m \u001b[0msteps_done\u001b[0m \u001b[0;34m<\u001b[0m \u001b[0msteps_per_epoch\u001b[0m\u001b[0;34m:\u001b[0m\u001b[0;34m\u001b[0m\u001b[0m\n\u001b[0;32m-> 1809\u001b[0;31m                     \u001b[0mgenerator_output\u001b[0m \u001b[0;34m=\u001b[0m \u001b[0mnext\u001b[0m\u001b[0;34m(\u001b[0m\u001b[0moutput_generator\u001b[0m\u001b[0;34m)\u001b[0m\u001b[0;34m\u001b[0m\u001b[0m\n\u001b[0m\u001b[1;32m   1810\u001b[0m \u001b[0;34m\u001b[0m\u001b[0m\n\u001b[1;32m   1811\u001b[0m                     \u001b[0;32mif\u001b[0m \u001b[0;32mnot\u001b[0m \u001b[0mhasattr\u001b[0m\u001b[0;34m(\u001b[0m\u001b[0mgenerator_output\u001b[0m\u001b[0;34m,\u001b[0m \u001b[0;34m'__len__'\u001b[0m\u001b[0;34m)\u001b[0m\u001b[0;34m:\u001b[0m\u001b[0;34m\u001b[0m\u001b[0m\n",
      "\u001b[0;32m/home/carnd/anaconda3/envs/carnd-term1/lib/python3.5/site-packages/keras/utils/data_utils.py\u001b[0m in \u001b[0;36mget\u001b[0;34m(self)\u001b[0m\n\u001b[1;32m    634\u001b[0m                     \u001b[0;32myield\u001b[0m \u001b[0minputs\u001b[0m\u001b[0;34m\u001b[0m\u001b[0m\n\u001b[1;32m    635\u001b[0m             \u001b[0;32melse\u001b[0m\u001b[0;34m:\u001b[0m\u001b[0;34m\u001b[0m\u001b[0m\n\u001b[0;32m--> 636\u001b[0;31m                 \u001b[0mtime\u001b[0m\u001b[0;34m.\u001b[0m\u001b[0msleep\u001b[0m\u001b[0;34m(\u001b[0m\u001b[0mself\u001b[0m\u001b[0;34m.\u001b[0m\u001b[0mwait_time\u001b[0m\u001b[0;34m)\u001b[0m\u001b[0;34m\u001b[0m\u001b[0m\n\u001b[0m",
      "\u001b[0;31mKeyboardInterrupt\u001b[0m: "
     ]
    }
   ],
   "source": [
    "for i in range(15000):\n",
    "    history = covnet_lambda.fit_generator(lambda_train_gen, steps_per_epoch = 3, epochs = 3)\n",
    "    \n",
    "    histories_lambda.append(history.history)\n",
    "    preds_lambda.append(covnet_lambda.predict(test_set_pred))\n",
    "    \n",
    "    covnet_lambda.save(\"./Models/covnet_lambda.h5\")\n",
    "    if i%10 == 0:\n",
    "        np.save(\"Lambda_histories.npy\", histories_lambda)\n",
    "        np.save(\"preds_lambda.npy\", preds_lambda)\n",
    "        !git add --all\n",
    "        !git commit -am \"Model trained\"\n",
    "        !git push --quiet"
   ]
  },
  {
   "cell_type": "code",
   "execution_count": null,
   "metadata": {
    "collapsed": true
   },
   "outputs": [],
   "source": []
  },
  {
   "cell_type": "markdown",
   "metadata": {},
   "source": [
    "# Convnet Single Output Prediction - Mu"
   ]
  },
  {
   "cell_type": "code",
   "execution_count": 26,
   "metadata": {
    "collapsed": true
   },
   "outputs": [],
   "source": [
    "covnet_mu = load_model(\"./Models/covnet_mu.h5\", custom_objects={\"r2\":r2})"
   ]
  },
  {
   "cell_type": "code",
   "execution_count": 28,
   "metadata": {
    "collapsed": true
   },
   "outputs": [],
   "source": [
    "def jump_mu_batch_generator(all_time = 2000, paramset_size = 32, paths_p_paramset = 5):\n",
    "    while True:\n",
    "        RETURNS_ = []\n",
    "        PARAMS_ = []\n",
    "        \n",
    "        for i in range(paramset_size):\n",
    "            mp = random_model_params()\n",
    "            mp.all_time = all_time\n",
    "            \n",
    "            for j in range(paths_p_paramset):\n",
    "                PARAMS_.append(mp)\n",
    "                RETURNS_.append(geometric_brownian_motion_jump_diffusion_log_returns(mp))\n",
    "        \n",
    "        train_data = np.reshape(np.array(RETURNS_), (paramset_size*paths_p_paramset, 40, 50, 1))\n",
    "        \n",
    "        mus = np.array([[mp.gbm_mu] for mp in PARAMS_])\n",
    "        \n",
    "        yield train_data, mus\n",
    "\n",
    "mu_train_gen = jump_mu_batch_generator(paramset_size=1750, paths_p_paramset=1)"
   ]
  },
  {
   "cell_type": "code",
   "execution_count": null,
   "metadata": {
    "collapsed": true
   },
   "outputs": [],
   "source": [
    "test_set_pred = standard_convolutional_test_set()"
   ]
  },
  {
   "cell_type": "code",
   "execution_count": 29,
   "metadata": {
    "collapsed": true
   },
   "outputs": [],
   "source": [
    "histories_covnet_mu = np.load(\"histories_covnet_mu.npy\").tolist()\n",
    "predictions_covnet_mu = np.load(\"predictions_covnet_mu.npy\").tolist()"
   ]
  },
  {
   "cell_type": "code",
   "execution_count": null,
   "metadata": {
    "collapsed": true
   },
   "outputs": [],
   "source": [
    "covnet_mu.save(\"./Models/covnet_mu.h5\")"
   ]
  },
  {
   "cell_type": "code",
   "execution_count": 30,
   "metadata": {},
   "outputs": [
    {
     "name": "stdout",
     "output_type": "stream",
     "text": [
      "Epoch 1/1\n",
      "10/10 [==============================] - 171s - loss: 0.0046 - mean_absolute_percentage_error: 52.0238 - r2: 0.9862    \n",
      "[master 725c1fd] Model trained\n",
      " 5 files changed, 69 insertions(+), 24 deletions(-)\n",
      " rewrite Source_Code/histories_covnet_mu.npy (85%)\n",
      " rewrite Source_Code/predictions_covnet_mu.npy (91%)\n",
      "warning: push.default is unset; its implicit value has changed in\n",
      "Git 2.0 from 'matching' to 'simple'. To squelch this message\n",
      "and maintain the traditional behavior, use:\n",
      "\n",
      "  git config --global push.default matching\n",
      "\n",
      "To squelch this message and adopt the new behavior now, use:\n",
      "\n",
      "  git config --global push.default simple\n",
      "\n",
      "When push.default is set to 'matching', git will push local branches\n",
      "to the remote branches that already exist with the same name.\n",
      "\n",
      "Since Git 2.0, Git defaults to the more conservative 'simple'\n",
      "behavior, which only pushes the current branch to the corresponding\n",
      "remote branch that 'git pull' uses to update the current branch.\n",
      "\n",
      "See 'git help config' and search for 'push.default' for further information.\n",
      "(the 'simple' mode was introduced in Git 1.7.11. Use the similar mode\n",
      "'current' instead of 'simple' if you sometimes use older versions of Git)\n",
      "\n",
      "Epoch 1/1\n",
      "10/10 [==============================] - 171s - loss: 0.0045 - mean_absolute_percentage_error: 63.3570 - r2: 0.9866    \n",
      "Epoch 1/1\n",
      "10/10 [==============================] - 172s - loss: 0.0045 - mean_absolute_percentage_error: 53.2375 - r2: 0.9863    \n",
      "Epoch 1/1\n",
      "10/10 [==============================] - 173s - loss: 0.0043 - mean_absolute_percentage_error: 35.5094 - r2: 0.9871    \n",
      "Epoch 1/1\n",
      "10/10 [==============================] - 171s - loss: 0.0045 - mean_absolute_percentage_error: 75.3489 - r2: 0.9867    \n",
      "Epoch 1/1\n",
      "10/10 [==============================] - 171s - loss: 0.0042 - mean_absolute_percentage_error: 45.6431 - r2: 0.9876    \n",
      "Epoch 1/1\n",
      "10/10 [==============================] - 171s - loss: 0.0040 - mean_absolute_percentage_error: 78.8929 - r2: 0.9878    \n",
      "Epoch 1/1\n",
      "10/10 [==============================] - 172s - loss: 0.0044 - mean_absolute_percentage_error: 70.5170 - r2: 0.9869    \n",
      "Epoch 1/1\n",
      "10/10 [==============================] - 172s - loss: 0.0042 - mean_absolute_percentage_error: 39.7731 - r2: 0.9873    \n",
      "Epoch 1/1\n",
      "10/10 [==============================] - 171s - loss: 0.0041 - mean_absolute_percentage_error: 83.1227 - r2: 0.9876    \n",
      "Epoch 1/1\n",
      "10/10 [==============================] - 171s - loss: 0.0042 - mean_absolute_percentage_error: 55.1716 - r2: 0.9874    \n",
      "[master 25cedd7] Model trained\n",
      " 4 files changed, 46 insertions(+), 1 deletion(-)\n",
      "warning: push.default is unset; its implicit value has changed in\n",
      "Git 2.0 from 'matching' to 'simple'. To squelch this message\n",
      "and maintain the traditional behavior, use:\n",
      "\n",
      "  git config --global push.default matching\n",
      "\n",
      "To squelch this message and adopt the new behavior now, use:\n",
      "\n",
      "  git config --global push.default simple\n",
      "\n",
      "When push.default is set to 'matching', git will push local branches\n",
      "to the remote branches that already exist with the same name.\n",
      "\n",
      "Since Git 2.0, Git defaults to the more conservative 'simple'\n",
      "behavior, which only pushes the current branch to the corresponding\n",
      "remote branch that 'git pull' uses to update the current branch.\n",
      "\n",
      "See 'git help config' and search for 'push.default' for further information.\n",
      "(the 'simple' mode was introduced in Git 1.7.11. Use the similar mode\n",
      "'current' instead of 'simple' if you sometimes use older versions of Git)\n",
      "\n",
      "Epoch 1/1\n",
      "10/10 [==============================] - 172s - loss: 0.0044 - mean_absolute_percentage_error: 54.7149 - r2: 0.9865    \n",
      "Epoch 1/1\n",
      "10/10 [==============================] - 171s - loss: 0.0044 - mean_absolute_percentage_error: 95.3935 - r2: 0.9869     \n",
      "Epoch 1/1\n",
      "10/10 [==============================] - 170s - loss: 0.0044 - mean_absolute_percentage_error: 45.6176 - r2: 0.9868    \n",
      "Epoch 1/1\n",
      "10/10 [==============================] - 171s - loss: 0.0043 - mean_absolute_percentage_error: 146.5084 - r2: 0.9871   \n",
      "Epoch 1/1\n",
      "10/10 [==============================] - 172s - loss: 0.0040 - mean_absolute_percentage_error: 409.0020 - r2: 0.9881    \n",
      "Epoch 1/1\n",
      "10/10 [==============================] - 172s - loss: 0.0039 - mean_absolute_percentage_error: 56.1694 - r2: 0.9883    \n",
      "Epoch 1/1\n",
      "10/10 [==============================] - 171s - loss: 0.0039 - mean_absolute_percentage_error: 61.6461 - r2: 0.9885    \n",
      "Epoch 1/1\n",
      "10/10 [==============================] - 173s - loss: 0.0040 - mean_absolute_percentage_error: 47.8394 - r2: 0.9881    \n",
      "Epoch 1/1\n",
      "10/10 [==============================] - 172s - loss: 0.0040 - mean_absolute_percentage_error: 43.5371 - r2: 0.9879    \n",
      "Epoch 1/1\n",
      "10/10 [==============================] - 171s - loss: 0.0039 - mean_absolute_percentage_error: 94.9585 - r2: 0.9882     \n",
      "[master af801be] Model trained\n",
      " 4 files changed, 44 insertions(+), 1 deletion(-)\n",
      "warning: push.default is unset; its implicit value has changed in\n",
      "Git 2.0 from 'matching' to 'simple'. To squelch this message\n",
      "and maintain the traditional behavior, use:\n",
      "\n",
      "  git config --global push.default matching\n",
      "\n",
      "To squelch this message and adopt the new behavior now, use:\n",
      "\n",
      "  git config --global push.default simple\n",
      "\n",
      "When push.default is set to 'matching', git will push local branches\n",
      "to the remote branches that already exist with the same name.\n",
      "\n",
      "Since Git 2.0, Git defaults to the more conservative 'simple'\n",
      "behavior, which only pushes the current branch to the corresponding\n",
      "remote branch that 'git pull' uses to update the current branch.\n",
      "\n",
      "See 'git help config' and search for 'push.default' for further information.\n",
      "(the 'simple' mode was introduced in Git 1.7.11. Use the similar mode\n",
      "'current' instead of 'simple' if you sometimes use older versions of Git)\n",
      "\n",
      "Epoch 1/1\n",
      "10/10 [==============================] - 171s - loss: 0.0038 - mean_absolute_percentage_error: 44.8348 - r2: 0.9885    \n",
      "Epoch 1/1\n",
      "10/10 [==============================] - 171s - loss: 0.0037 - mean_absolute_percentage_error: 54.2280 - r2: 0.9888    \n",
      "Epoch 1/1\n",
      "10/10 [==============================] - 171s - loss: 0.0037 - mean_absolute_percentage_error: 77.9082 - r2: 0.9891    \n",
      "Epoch 1/1\n",
      "10/10 [==============================] - 172s - loss: 0.0037 - mean_absolute_percentage_error: 117.2014 - r2: 0.9890    \n",
      "Epoch 1/1\n",
      "10/10 [==============================] - 171s - loss: 0.0042 - mean_absolute_percentage_error: 110.1120 - r2: 0.9873    \n",
      "Epoch 1/1\n",
      "10/10 [==============================] - 171s - loss: 0.0040 - mean_absolute_percentage_error: 47.3915 - r2: 0.9881    \n",
      "Epoch 1/1\n",
      " 9/10 [==========================>...] - ETA: 17s - loss: 0.0039 - mean_absolute_percentage_error: 50.4894 - r2: 0.9882"
     ]
    },
    {
     "ename": "KeyboardInterrupt",
     "evalue": "",
     "output_type": "error",
     "traceback": [
      "\u001b[0;31m---------------------------------------------------------------------------\u001b[0m",
      "\u001b[0;31mKeyboardInterrupt\u001b[0m                         Traceback (most recent call last)",
      "\u001b[0;32m<ipython-input-30-ab4169fb586e>\u001b[0m in \u001b[0;36m<module>\u001b[0;34m()\u001b[0m\n\u001b[1;32m      1\u001b[0m \u001b[0;32mfor\u001b[0m \u001b[0mi\u001b[0m \u001b[0;32min\u001b[0m \u001b[0mrange\u001b[0m\u001b[0;34m(\u001b[0m\u001b[0;36m150000000\u001b[0m\u001b[0;34m)\u001b[0m\u001b[0;34m:\u001b[0m\u001b[0;34m\u001b[0m\u001b[0m\n\u001b[0;32m----> 2\u001b[0;31m     \u001b[0mhistory\u001b[0m \u001b[0;34m=\u001b[0m \u001b[0mcovnet_mu\u001b[0m\u001b[0;34m.\u001b[0m\u001b[0mfit_generator\u001b[0m\u001b[0;34m(\u001b[0m\u001b[0mmu_train_gen\u001b[0m\u001b[0;34m,\u001b[0m \u001b[0msteps_per_epoch\u001b[0m \u001b[0;34m=\u001b[0m \u001b[0;36m10\u001b[0m\u001b[0;34m,\u001b[0m \u001b[0mepochs\u001b[0m \u001b[0;34m=\u001b[0m \u001b[0;36m1\u001b[0m\u001b[0;34m)\u001b[0m\u001b[0;34m\u001b[0m\u001b[0m\n\u001b[0m\u001b[1;32m      3\u001b[0m     \u001b[0mhistories_covnet_mu\u001b[0m\u001b[0;34m.\u001b[0m\u001b[0mappend\u001b[0m\u001b[0;34m(\u001b[0m\u001b[0mhistory\u001b[0m\u001b[0;34m.\u001b[0m\u001b[0mhistory\u001b[0m\u001b[0;34m)\u001b[0m\u001b[0;34m\u001b[0m\u001b[0m\n\u001b[1;32m      4\u001b[0m     \u001b[0mpredictions_covnet_mu\u001b[0m\u001b[0;34m.\u001b[0m\u001b[0mappend\u001b[0m\u001b[0;34m(\u001b[0m\u001b[0mcovnet_mu\u001b[0m\u001b[0;34m.\u001b[0m\u001b[0mpredict\u001b[0m\u001b[0;34m(\u001b[0m\u001b[0mtest_set_pred\u001b[0m\u001b[0;34m)\u001b[0m\u001b[0;34m)\u001b[0m\u001b[0;34m\u001b[0m\u001b[0m\n\u001b[1;32m      5\u001b[0m     \u001b[0mcovnet_mu\u001b[0m\u001b[0;34m.\u001b[0m\u001b[0msave\u001b[0m\u001b[0;34m(\u001b[0m\u001b[0;34m\"covnet_mu_FULLMODEL.h5\"\u001b[0m\u001b[0;34m)\u001b[0m\u001b[0;34m\u001b[0m\u001b[0m\n",
      "\u001b[0;32m/home/carnd/anaconda3/envs/carnd-term1/lib/python3.5/site-packages/keras/legacy/interfaces.py\u001b[0m in \u001b[0;36mwrapper\u001b[0;34m(*args, **kwargs)\u001b[0m\n\u001b[1;32m     85\u001b[0m                 warnings.warn('Update your `' + object_name +\n\u001b[1;32m     86\u001b[0m                               '` call to the Keras 2 API: ' + signature, stacklevel=2)\n\u001b[0;32m---> 87\u001b[0;31m             \u001b[0;32mreturn\u001b[0m \u001b[0mfunc\u001b[0m\u001b[0;34m(\u001b[0m\u001b[0;34m*\u001b[0m\u001b[0margs\u001b[0m\u001b[0;34m,\u001b[0m \u001b[0;34m**\u001b[0m\u001b[0mkwargs\u001b[0m\u001b[0;34m)\u001b[0m\u001b[0;34m\u001b[0m\u001b[0m\n\u001b[0m\u001b[1;32m     88\u001b[0m         \u001b[0mwrapper\u001b[0m\u001b[0;34m.\u001b[0m\u001b[0m_original_function\u001b[0m \u001b[0;34m=\u001b[0m \u001b[0mfunc\u001b[0m\u001b[0;34m\u001b[0m\u001b[0m\n\u001b[1;32m     89\u001b[0m         \u001b[0;32mreturn\u001b[0m \u001b[0mwrapper\u001b[0m\u001b[0;34m\u001b[0m\u001b[0m\n",
      "\u001b[0;32m/home/carnd/anaconda3/envs/carnd-term1/lib/python3.5/site-packages/keras/models.py\u001b[0m in \u001b[0;36mfit_generator\u001b[0;34m(self, generator, steps_per_epoch, epochs, verbose, callbacks, validation_data, validation_steps, class_weight, max_queue_size, workers, use_multiprocessing, initial_epoch)\u001b[0m\n\u001b[1;32m   1115\u001b[0m                                         \u001b[0mworkers\u001b[0m\u001b[0;34m=\u001b[0m\u001b[0mworkers\u001b[0m\u001b[0;34m,\u001b[0m\u001b[0;34m\u001b[0m\u001b[0m\n\u001b[1;32m   1116\u001b[0m                                         \u001b[0muse_multiprocessing\u001b[0m\u001b[0;34m=\u001b[0m\u001b[0muse_multiprocessing\u001b[0m\u001b[0;34m,\u001b[0m\u001b[0;34m\u001b[0m\u001b[0m\n\u001b[0;32m-> 1117\u001b[0;31m                                         initial_epoch=initial_epoch)\n\u001b[0m\u001b[1;32m   1118\u001b[0m \u001b[0;34m\u001b[0m\u001b[0m\n\u001b[1;32m   1119\u001b[0m     \u001b[0;34m@\u001b[0m\u001b[0minterfaces\u001b[0m\u001b[0;34m.\u001b[0m\u001b[0mlegacy_generator_methods_support\u001b[0m\u001b[0;34m\u001b[0m\u001b[0m\n",
      "\u001b[0;32m/home/carnd/anaconda3/envs/carnd-term1/lib/python3.5/site-packages/keras/legacy/interfaces.py\u001b[0m in \u001b[0;36mwrapper\u001b[0;34m(*args, **kwargs)\u001b[0m\n\u001b[1;32m     85\u001b[0m                 warnings.warn('Update your `' + object_name +\n\u001b[1;32m     86\u001b[0m                               '` call to the Keras 2 API: ' + signature, stacklevel=2)\n\u001b[0;32m---> 87\u001b[0;31m             \u001b[0;32mreturn\u001b[0m \u001b[0mfunc\u001b[0m\u001b[0;34m(\u001b[0m\u001b[0;34m*\u001b[0m\u001b[0margs\u001b[0m\u001b[0;34m,\u001b[0m \u001b[0;34m**\u001b[0m\u001b[0mkwargs\u001b[0m\u001b[0;34m)\u001b[0m\u001b[0;34m\u001b[0m\u001b[0m\n\u001b[0m\u001b[1;32m     88\u001b[0m         \u001b[0mwrapper\u001b[0m\u001b[0;34m.\u001b[0m\u001b[0m_original_function\u001b[0m \u001b[0;34m=\u001b[0m \u001b[0mfunc\u001b[0m\u001b[0;34m\u001b[0m\u001b[0m\n\u001b[1;32m     89\u001b[0m         \u001b[0;32mreturn\u001b[0m \u001b[0mwrapper\u001b[0m\u001b[0;34m\u001b[0m\u001b[0m\n",
      "\u001b[0;32m/home/carnd/anaconda3/envs/carnd-term1/lib/python3.5/site-packages/keras/engine/training.py\u001b[0m in \u001b[0;36mfit_generator\u001b[0;34m(self, generator, steps_per_epoch, epochs, verbose, callbacks, validation_data, validation_steps, class_weight, max_queue_size, workers, use_multiprocessing, initial_epoch)\u001b[0m\n\u001b[1;32m   1807\u001b[0m                 \u001b[0mbatch_index\u001b[0m \u001b[0;34m=\u001b[0m \u001b[0;36m0\u001b[0m\u001b[0;34m\u001b[0m\u001b[0m\n\u001b[1;32m   1808\u001b[0m                 \u001b[0;32mwhile\u001b[0m \u001b[0msteps_done\u001b[0m \u001b[0;34m<\u001b[0m \u001b[0msteps_per_epoch\u001b[0m\u001b[0;34m:\u001b[0m\u001b[0;34m\u001b[0m\u001b[0m\n\u001b[0;32m-> 1809\u001b[0;31m                     \u001b[0mgenerator_output\u001b[0m \u001b[0;34m=\u001b[0m \u001b[0mnext\u001b[0m\u001b[0;34m(\u001b[0m\u001b[0moutput_generator\u001b[0m\u001b[0;34m)\u001b[0m\u001b[0;34m\u001b[0m\u001b[0m\n\u001b[0m\u001b[1;32m   1810\u001b[0m \u001b[0;34m\u001b[0m\u001b[0m\n\u001b[1;32m   1811\u001b[0m                     \u001b[0;32mif\u001b[0m \u001b[0;32mnot\u001b[0m \u001b[0mhasattr\u001b[0m\u001b[0;34m(\u001b[0m\u001b[0mgenerator_output\u001b[0m\u001b[0;34m,\u001b[0m \u001b[0;34m'__len__'\u001b[0m\u001b[0;34m)\u001b[0m\u001b[0;34m:\u001b[0m\u001b[0;34m\u001b[0m\u001b[0m\n",
      "\u001b[0;32m/home/carnd/anaconda3/envs/carnd-term1/lib/python3.5/site-packages/keras/utils/data_utils.py\u001b[0m in \u001b[0;36mget\u001b[0;34m(self)\u001b[0m\n\u001b[1;32m    634\u001b[0m                     \u001b[0;32myield\u001b[0m \u001b[0minputs\u001b[0m\u001b[0;34m\u001b[0m\u001b[0m\n\u001b[1;32m    635\u001b[0m             \u001b[0;32melse\u001b[0m\u001b[0;34m:\u001b[0m\u001b[0;34m\u001b[0m\u001b[0m\n\u001b[0;32m--> 636\u001b[0;31m                 \u001b[0mtime\u001b[0m\u001b[0;34m.\u001b[0m\u001b[0msleep\u001b[0m\u001b[0;34m(\u001b[0m\u001b[0mself\u001b[0m\u001b[0;34m.\u001b[0m\u001b[0mwait_time\u001b[0m\u001b[0;34m)\u001b[0m\u001b[0;34m\u001b[0m\u001b[0m\n\u001b[0m",
      "\u001b[0;31mKeyboardInterrupt\u001b[0m: "
     ]
    }
   ],
   "source": [
    "for i in range(150000000):\n",
    "    history = covnet_mu.fit_generator(mu_train_gen, steps_per_epoch = 10, epochs = 1)\n",
    "    histories_covnet_mu.append(history.history)\n",
    "    predictions_covnet_mu.append(covnet_mu.predict(test_set_pred))\n",
    "    covnet_mu.save(\"covnet_mu_FULLMODEL.h5\")\n",
    "    \n",
    "    if (i%10 == 0):\n",
    "        np.save(\"histories_covnet_mu.npy\", histories_covnet_mu)\n",
    "        np.save(\"predictions_covnet_mu.npy\", predictions_covnet_mu)\n",
    "\n",
    "        !git add --all\n",
    "        !git commit -am \"Model trained\"\n",
    "        !git push --quiet"
   ]
  },
  {
   "cell_type": "markdown",
   "metadata": {},
   "source": [
    "# Convnet Single Output Prediction - Sigma"
   ]
  },
  {
   "cell_type": "code",
   "execution_count": 31,
   "metadata": {
    "collapsed": true
   },
   "outputs": [],
   "source": [
    "covnet_sigma = load_model(\"./Models/covnet_sigma.h5\", custom_objects={\"r2\":r2})#covnet_single_ReLUs_6_layers()"
   ]
  },
  {
   "cell_type": "code",
   "execution_count": 32,
   "metadata": {
    "collapsed": true
   },
   "outputs": [],
   "source": [
    "def sigma_batch_generator(all_time = 2000, paramset_size = 32, paths_p_paramset = 5):\n",
    "    while True:\n",
    "        RETURNS_ = []\n",
    "        PARAMS_ = []\n",
    "        \n",
    "        for i in range(paramset_size):\n",
    "            mp = random_model_params()\n",
    "            mp.all_time = all_time\n",
    "            \n",
    "            for j in range(paths_p_paramset):\n",
    "                PARAMS_.append(mp)\n",
    "                RETURNS_.append(geometric_brownian_motion_jump_diffusion_log_returns(mp))\n",
    "        \n",
    "        train_data = np.reshape(np.array(RETURNS_), (paramset_size*paths_p_paramset, 40, 50, 1))\n",
    "        \n",
    "        sigmas = np.array([[mp.all_sigma] for mp in PARAMS_])\n",
    "        \n",
    "        yield train_data, sigmas\n",
    "\n",
    "sigma_train_gen = sigma_batch_generator(paramset_size=1500, paths_p_paramset=1)"
   ]
  },
  {
   "cell_type": "code",
   "execution_count": null,
   "metadata": {
    "collapsed": true
   },
   "outputs": [],
   "source": [
    "test_set_pred = standard_convolutional_test_set()"
   ]
  },
  {
   "cell_type": "code",
   "execution_count": null,
   "metadata": {
    "collapsed": true
   },
   "outputs": [],
   "source": [
    "covnet_jump_mu.load_weights(H5_DIR_COVNET_JUMP_MU)"
   ]
  },
  {
   "cell_type": "code",
   "execution_count": 33,
   "metadata": {
    "collapsed": true
   },
   "outputs": [],
   "source": [
    "histories_covnet_sigma = np.load(\"histories_covnet_sigma.npy\").tolist()\n",
    "predictions_covnet_sigma = np.load(\"predictions_covnet_sigma.npy\").tolist()"
   ]
  },
  {
   "cell_type": "code",
   "execution_count": null,
   "metadata": {
    "collapsed": true
   },
   "outputs": [],
   "source": [
    "#covnet_sigma.save(\"./Models/covnet_sigma.h5\")"
   ]
  },
  {
   "cell_type": "code",
   "execution_count": 34,
   "metadata": {},
   "outputs": [
    {
     "name": "stdout",
     "output_type": "stream",
     "text": [
      "Epoch 1/1\n",
      "10/10 [==============================] - 146s - loss: 6.2224e-05 - mean_absolute_percentage_error: 16.7434 - r2: 0.9810    \n",
      "[master 487b5f3] Model trained\n",
      " 5 files changed, 74 insertions(+), 14 deletions(-)\n",
      " rewrite Source_Code/histories_covnet_sigma.npy (88%)\n",
      " rewrite Source_Code/predictions_covnet_sigma.npy (92%)\n",
      "warning: push.default is unset; its implicit value has changed in\n",
      "Git 2.0 from 'matching' to 'simple'. To squelch this message\n",
      "and maintain the traditional behavior, use:\n",
      "\n",
      "  git config --global push.default matching\n",
      "\n",
      "To squelch this message and adopt the new behavior now, use:\n",
      "\n",
      "  git config --global push.default simple\n",
      "\n",
      "When push.default is set to 'matching', git will push local branches\n",
      "to the remote branches that already exist with the same name.\n",
      "\n",
      "Since Git 2.0, Git defaults to the more conservative 'simple'\n",
      "behavior, which only pushes the current branch to the corresponding\n",
      "remote branch that 'git pull' uses to update the current branch.\n",
      "\n",
      "See 'git help config' and search for 'push.default' for further information.\n",
      "(the 'simple' mode was introduced in Git 1.7.11. Use the similar mode\n",
      "'current' instead of 'simple' if you sometimes use older versions of Git)\n",
      "\n",
      "Epoch 1/1\n",
      "10/10 [==============================] - 147s - loss: 5.5155e-05 - mean_absolute_percentage_error: 14.3079 - r2: 0.9831    \n",
      "Epoch 1/1\n",
      "10/10 [==============================] - 146s - loss: 6.0429e-05 - mean_absolute_percentage_error: 15.5408 - r2: 0.9818    \n",
      "Epoch 1/1\n",
      " 1/10 [==>...........................] - ETA: 140s - loss: 7.0915e-05 - mean_absolute_percentage_error: 21.1011 - r2: 0.9784"
     ]
    },
    {
     "ename": "KeyboardInterrupt",
     "evalue": "",
     "output_type": "error",
     "traceback": [
      "\u001b[0;31m---------------------------------------------------------------------------\u001b[0m",
      "\u001b[0;31mKeyboardInterrupt\u001b[0m                         Traceback (most recent call last)",
      "\u001b[0;32m/home/carnd/anaconda3/envs/carnd-term1/lib/python3.5/site-packages/keras/engine/training.py\u001b[0m in \u001b[0;36mfit_generator\u001b[0;34m(self, generator, steps_per_epoch, epochs, verbose, callbacks, validation_data, validation_steps, class_weight, max_queue_size, workers, use_multiprocessing, initial_epoch)\u001b[0m\n\u001b[1;32m   1835\u001b[0m                     \u001b[0mbatch_logs\u001b[0m\u001b[0;34m[\u001b[0m\u001b[0;34m'size'\u001b[0m\u001b[0;34m]\u001b[0m \u001b[0;34m=\u001b[0m \u001b[0mbatch_size\u001b[0m\u001b[0;34m\u001b[0m\u001b[0m\n\u001b[0;32m-> 1836\u001b[0;31m                     \u001b[0mcallbacks\u001b[0m\u001b[0;34m.\u001b[0m\u001b[0mon_batch_begin\u001b[0m\u001b[0;34m(\u001b[0m\u001b[0mbatch_index\u001b[0m\u001b[0;34m,\u001b[0m \u001b[0mbatch_logs\u001b[0m\u001b[0;34m)\u001b[0m\u001b[0;34m\u001b[0m\u001b[0m\n\u001b[0m\u001b[1;32m   1837\u001b[0m \u001b[0;34m\u001b[0m\u001b[0m\n",
      "\u001b[0;32m/home/carnd/anaconda3/envs/carnd-term1/lib/python3.5/site-packages/keras/callbacks.py\u001b[0m in \u001b[0;36mon_batch_begin\u001b[0;34m(self, batch, logs)\u001b[0m\n\u001b[1;32m     90\u001b[0m         \u001b[0mself\u001b[0m\u001b[0;34m.\u001b[0m\u001b[0m_delta_ts_batch_begin\u001b[0m\u001b[0;34m.\u001b[0m\u001b[0mappend\u001b[0m\u001b[0;34m(\u001b[0m\u001b[0mtime\u001b[0m\u001b[0;34m.\u001b[0m\u001b[0mtime\u001b[0m\u001b[0;34m(\u001b[0m\u001b[0;34m)\u001b[0m \u001b[0;34m-\u001b[0m \u001b[0mt_before_callbacks\u001b[0m\u001b[0;34m)\u001b[0m\u001b[0;34m\u001b[0m\u001b[0m\n\u001b[0;32m---> 91\u001b[0;31m         \u001b[0mdelta_t_median\u001b[0m \u001b[0;34m=\u001b[0m \u001b[0mnp\u001b[0m\u001b[0;34m.\u001b[0m\u001b[0mmedian\u001b[0m\u001b[0;34m(\u001b[0m\u001b[0mself\u001b[0m\u001b[0;34m.\u001b[0m\u001b[0m_delta_ts_batch_begin\u001b[0m\u001b[0;34m)\u001b[0m\u001b[0;34m\u001b[0m\u001b[0m\n\u001b[0m\u001b[1;32m     92\u001b[0m         if (self._delta_t_batch > 0. and\n",
      "\u001b[0;32m/home/carnd/anaconda3/envs/carnd-term1/lib/python3.5/site-packages/numpy/lib/function_base.py\u001b[0m in \u001b[0;36mmedian\u001b[0;34m(a, axis, out, overwrite_input, keepdims)\u001b[0m\n\u001b[1;32m   3943\u001b[0m     r, k = _ureduce(a, func=_median, axis=axis, out=out,\n\u001b[0;32m-> 3944\u001b[0;31m                     overwrite_input=overwrite_input)\n\u001b[0m\u001b[1;32m   3945\u001b[0m     \u001b[0;32mif\u001b[0m \u001b[0mkeepdims\u001b[0m\u001b[0;34m:\u001b[0m\u001b[0;34m\u001b[0m\u001b[0m\n",
      "\u001b[0;32m/home/carnd/anaconda3/envs/carnd-term1/lib/python3.5/site-packages/numpy/lib/function_base.py\u001b[0m in \u001b[0;36m_ureduce\u001b[0;34m(a, func, **kwargs)\u001b[0m\n\u001b[1;32m   3857\u001b[0m \u001b[0;34m\u001b[0m\u001b[0m\n\u001b[0;32m-> 3858\u001b[0;31m     \u001b[0mr\u001b[0m \u001b[0;34m=\u001b[0m \u001b[0mfunc\u001b[0m\u001b[0;34m(\u001b[0m\u001b[0ma\u001b[0m\u001b[0;34m,\u001b[0m \u001b[0;34m**\u001b[0m\u001b[0mkwargs\u001b[0m\u001b[0;34m)\u001b[0m\u001b[0;34m\u001b[0m\u001b[0m\n\u001b[0m\u001b[1;32m   3859\u001b[0m     \u001b[0;32mreturn\u001b[0m \u001b[0mr\u001b[0m\u001b[0;34m,\u001b[0m \u001b[0mkeepdim\u001b[0m\u001b[0;34m\u001b[0m\u001b[0m\n",
      "\u001b[0;32m/home/carnd/anaconda3/envs/carnd-term1/lib/python3.5/site-packages/numpy/lib/function_base.py\u001b[0m in \u001b[0;36m_median\u001b[0;34m(a, axis, out, overwrite_input)\u001b[0m\n\u001b[1;32m   3976\u001b[0m     \u001b[0;32melse\u001b[0m\u001b[0;34m:\u001b[0m\u001b[0;34m\u001b[0m\u001b[0m\n\u001b[0;32m-> 3977\u001b[0;31m         \u001b[0mpart\u001b[0m \u001b[0;34m=\u001b[0m \u001b[0mpartition\u001b[0m\u001b[0;34m(\u001b[0m\u001b[0ma\u001b[0m\u001b[0;34m,\u001b[0m \u001b[0mkth\u001b[0m\u001b[0;34m,\u001b[0m \u001b[0maxis\u001b[0m\u001b[0;34m=\u001b[0m\u001b[0maxis\u001b[0m\u001b[0;34m)\u001b[0m\u001b[0;34m\u001b[0m\u001b[0m\n\u001b[0m\u001b[1;32m   3978\u001b[0m \u001b[0;34m\u001b[0m\u001b[0m\n",
      "\u001b[0;32m/home/carnd/anaconda3/envs/carnd-term1/lib/python3.5/site-packages/numpy/core/fromnumeric.py\u001b[0m in \u001b[0;36mpartition\u001b[0;34m(a, kth, axis, kind, order)\u001b[0m\n\u001b[1;32m    638\u001b[0m         \u001b[0ma\u001b[0m \u001b[0;34m=\u001b[0m \u001b[0masanyarray\u001b[0m\u001b[0;34m(\u001b[0m\u001b[0ma\u001b[0m\u001b[0;34m)\u001b[0m\u001b[0;34m.\u001b[0m\u001b[0mcopy\u001b[0m\u001b[0;34m(\u001b[0m\u001b[0morder\u001b[0m\u001b[0;34m=\u001b[0m\u001b[0;34m\"K\"\u001b[0m\u001b[0;34m)\u001b[0m\u001b[0;34m\u001b[0m\u001b[0m\n\u001b[0;32m--> 639\u001b[0;31m     \u001b[0ma\u001b[0m\u001b[0;34m.\u001b[0m\u001b[0mpartition\u001b[0m\u001b[0;34m(\u001b[0m\u001b[0mkth\u001b[0m\u001b[0;34m,\u001b[0m \u001b[0maxis\u001b[0m\u001b[0;34m=\u001b[0m\u001b[0maxis\u001b[0m\u001b[0;34m,\u001b[0m \u001b[0mkind\u001b[0m\u001b[0;34m=\u001b[0m\u001b[0mkind\u001b[0m\u001b[0;34m,\u001b[0m \u001b[0morder\u001b[0m\u001b[0;34m=\u001b[0m\u001b[0morder\u001b[0m\u001b[0;34m)\u001b[0m\u001b[0;34m\u001b[0m\u001b[0m\n\u001b[0m\u001b[1;32m    640\u001b[0m     \u001b[0;32mreturn\u001b[0m \u001b[0ma\u001b[0m\u001b[0;34m\u001b[0m\u001b[0m\n",
      "\u001b[0;31mKeyboardInterrupt\u001b[0m: ",
      "\nDuring handling of the above exception, another exception occurred:\n",
      "\u001b[0;31mKeyboardInterrupt\u001b[0m                         Traceback (most recent call last)",
      "\u001b[0;32m<ipython-input-34-d0a6104f6a08>\u001b[0m in \u001b[0;36m<module>\u001b[0;34m()\u001b[0m\n\u001b[1;32m      1\u001b[0m \u001b[0;32mfor\u001b[0m \u001b[0mi\u001b[0m \u001b[0;32min\u001b[0m \u001b[0mrange\u001b[0m\u001b[0;34m(\u001b[0m\u001b[0;36m150000000\u001b[0m\u001b[0;34m)\u001b[0m\u001b[0;34m:\u001b[0m\u001b[0;34m\u001b[0m\u001b[0m\n\u001b[0;32m----> 2\u001b[0;31m     \u001b[0mhistory\u001b[0m \u001b[0;34m=\u001b[0m \u001b[0mcovnet_sigma\u001b[0m\u001b[0;34m.\u001b[0m\u001b[0mfit_generator\u001b[0m\u001b[0;34m(\u001b[0m\u001b[0msigma_train_gen\u001b[0m\u001b[0;34m,\u001b[0m \u001b[0msteps_per_epoch\u001b[0m \u001b[0;34m=\u001b[0m \u001b[0;36m10\u001b[0m\u001b[0;34m,\u001b[0m \u001b[0mepochs\u001b[0m \u001b[0;34m=\u001b[0m \u001b[0;36m1\u001b[0m\u001b[0;34m)\u001b[0m\u001b[0;34m\u001b[0m\u001b[0m\n\u001b[0m\u001b[1;32m      3\u001b[0m     \u001b[0mhistories_covnet_sigma\u001b[0m\u001b[0;34m.\u001b[0m\u001b[0mappend\u001b[0m\u001b[0;34m(\u001b[0m\u001b[0mhistory\u001b[0m\u001b[0;34m.\u001b[0m\u001b[0mhistory\u001b[0m\u001b[0;34m)\u001b[0m\u001b[0;34m\u001b[0m\u001b[0m\n\u001b[1;32m      4\u001b[0m     \u001b[0mpredictions_covnet_sigma\u001b[0m\u001b[0;34m.\u001b[0m\u001b[0mappend\u001b[0m\u001b[0;34m(\u001b[0m\u001b[0mcovnet_sigma\u001b[0m\u001b[0;34m.\u001b[0m\u001b[0mpredict\u001b[0m\u001b[0;34m(\u001b[0m\u001b[0mtest_set_pred\u001b[0m\u001b[0;34m)\u001b[0m\u001b[0;34m)\u001b[0m\u001b[0;34m\u001b[0m\u001b[0m\n\u001b[1;32m      5\u001b[0m     \u001b[0mcovnet_sigma\u001b[0m\u001b[0;34m.\u001b[0m\u001b[0msave\u001b[0m\u001b[0;34m(\u001b[0m\u001b[0;34m\"covnet_sigma_FULLMODEL.h5\"\u001b[0m\u001b[0;34m)\u001b[0m\u001b[0;34m\u001b[0m\u001b[0m\n",
      "\u001b[0;32m/home/carnd/anaconda3/envs/carnd-term1/lib/python3.5/site-packages/keras/legacy/interfaces.py\u001b[0m in \u001b[0;36mwrapper\u001b[0;34m(*args, **kwargs)\u001b[0m\n\u001b[1;32m     85\u001b[0m                 warnings.warn('Update your `' + object_name +\n\u001b[1;32m     86\u001b[0m                               '` call to the Keras 2 API: ' + signature, stacklevel=2)\n\u001b[0;32m---> 87\u001b[0;31m             \u001b[0;32mreturn\u001b[0m \u001b[0mfunc\u001b[0m\u001b[0;34m(\u001b[0m\u001b[0;34m*\u001b[0m\u001b[0margs\u001b[0m\u001b[0;34m,\u001b[0m \u001b[0;34m**\u001b[0m\u001b[0mkwargs\u001b[0m\u001b[0;34m)\u001b[0m\u001b[0;34m\u001b[0m\u001b[0m\n\u001b[0m\u001b[1;32m     88\u001b[0m         \u001b[0mwrapper\u001b[0m\u001b[0;34m.\u001b[0m\u001b[0m_original_function\u001b[0m \u001b[0;34m=\u001b[0m \u001b[0mfunc\u001b[0m\u001b[0;34m\u001b[0m\u001b[0m\n\u001b[1;32m     89\u001b[0m         \u001b[0;32mreturn\u001b[0m \u001b[0mwrapper\u001b[0m\u001b[0;34m\u001b[0m\u001b[0m\n",
      "\u001b[0;32m/home/carnd/anaconda3/envs/carnd-term1/lib/python3.5/site-packages/keras/models.py\u001b[0m in \u001b[0;36mfit_generator\u001b[0;34m(self, generator, steps_per_epoch, epochs, verbose, callbacks, validation_data, validation_steps, class_weight, max_queue_size, workers, use_multiprocessing, initial_epoch)\u001b[0m\n\u001b[1;32m   1115\u001b[0m                                         \u001b[0mworkers\u001b[0m\u001b[0;34m=\u001b[0m\u001b[0mworkers\u001b[0m\u001b[0;34m,\u001b[0m\u001b[0;34m\u001b[0m\u001b[0m\n\u001b[1;32m   1116\u001b[0m                                         \u001b[0muse_multiprocessing\u001b[0m\u001b[0;34m=\u001b[0m\u001b[0muse_multiprocessing\u001b[0m\u001b[0;34m,\u001b[0m\u001b[0;34m\u001b[0m\u001b[0m\n\u001b[0;32m-> 1117\u001b[0;31m                                         initial_epoch=initial_epoch)\n\u001b[0m\u001b[1;32m   1118\u001b[0m \u001b[0;34m\u001b[0m\u001b[0m\n\u001b[1;32m   1119\u001b[0m     \u001b[0;34m@\u001b[0m\u001b[0minterfaces\u001b[0m\u001b[0;34m.\u001b[0m\u001b[0mlegacy_generator_methods_support\u001b[0m\u001b[0;34m\u001b[0m\u001b[0m\n",
      "\u001b[0;32m/home/carnd/anaconda3/envs/carnd-term1/lib/python3.5/site-packages/keras/legacy/interfaces.py\u001b[0m in \u001b[0;36mwrapper\u001b[0;34m(*args, **kwargs)\u001b[0m\n\u001b[1;32m     85\u001b[0m                 warnings.warn('Update your `' + object_name +\n\u001b[1;32m     86\u001b[0m                               '` call to the Keras 2 API: ' + signature, stacklevel=2)\n\u001b[0;32m---> 87\u001b[0;31m             \u001b[0;32mreturn\u001b[0m \u001b[0mfunc\u001b[0m\u001b[0;34m(\u001b[0m\u001b[0;34m*\u001b[0m\u001b[0margs\u001b[0m\u001b[0;34m,\u001b[0m \u001b[0;34m**\u001b[0m\u001b[0mkwargs\u001b[0m\u001b[0;34m)\u001b[0m\u001b[0;34m\u001b[0m\u001b[0m\n\u001b[0m\u001b[1;32m     88\u001b[0m         \u001b[0mwrapper\u001b[0m\u001b[0;34m.\u001b[0m\u001b[0m_original_function\u001b[0m \u001b[0;34m=\u001b[0m \u001b[0mfunc\u001b[0m\u001b[0;34m\u001b[0m\u001b[0m\n\u001b[1;32m     89\u001b[0m         \u001b[0;32mreturn\u001b[0m \u001b[0mwrapper\u001b[0m\u001b[0;34m\u001b[0m\u001b[0m\n",
      "\u001b[0;32m/home/carnd/anaconda3/envs/carnd-term1/lib/python3.5/site-packages/keras/engine/training.py\u001b[0m in \u001b[0;36mfit_generator\u001b[0;34m(self, generator, steps_per_epoch, epochs, verbose, callbacks, validation_data, validation_steps, class_weight, max_queue_size, workers, use_multiprocessing, initial_epoch)\u001b[0m\n\u001b[1;32m   1882\u001b[0m         \u001b[0;32mfinally\u001b[0m\u001b[0;34m:\u001b[0m\u001b[0;34m\u001b[0m\u001b[0m\n\u001b[1;32m   1883\u001b[0m             \u001b[0;32mif\u001b[0m \u001b[0menqueuer\u001b[0m \u001b[0;32mis\u001b[0m \u001b[0;32mnot\u001b[0m \u001b[0;32mNone\u001b[0m\u001b[0;34m:\u001b[0m\u001b[0;34m\u001b[0m\u001b[0m\n\u001b[0;32m-> 1884\u001b[0;31m                 \u001b[0menqueuer\u001b[0m\u001b[0;34m.\u001b[0m\u001b[0mstop\u001b[0m\u001b[0;34m(\u001b[0m\u001b[0;34m)\u001b[0m\u001b[0;34m\u001b[0m\u001b[0m\n\u001b[0m\u001b[1;32m   1885\u001b[0m \u001b[0;34m\u001b[0m\u001b[0m\n\u001b[1;32m   1886\u001b[0m         \u001b[0mcallbacks\u001b[0m\u001b[0;34m.\u001b[0m\u001b[0mon_train_end\u001b[0m\u001b[0;34m(\u001b[0m\u001b[0;34m)\u001b[0m\u001b[0;34m\u001b[0m\u001b[0m\n",
      "\u001b[0;32m/home/carnd/anaconda3/envs/carnd-term1/lib/python3.5/site-packages/keras/utils/data_utils.py\u001b[0m in \u001b[0;36mstop\u001b[0;34m(self, timeout)\u001b[0m\n\u001b[1;32m    610\u001b[0m                     \u001b[0mthread\u001b[0m\u001b[0;34m.\u001b[0m\u001b[0mterminate\u001b[0m\u001b[0;34m(\u001b[0m\u001b[0;34m)\u001b[0m\u001b[0;34m\u001b[0m\u001b[0m\n\u001b[1;32m    611\u001b[0m                 \u001b[0;32melse\u001b[0m\u001b[0;34m:\u001b[0m\u001b[0;34m\u001b[0m\u001b[0m\n\u001b[0;32m--> 612\u001b[0;31m                     \u001b[0mthread\u001b[0m\u001b[0;34m.\u001b[0m\u001b[0mjoin\u001b[0m\u001b[0;34m(\u001b[0m\u001b[0mtimeout\u001b[0m\u001b[0;34m)\u001b[0m\u001b[0;34m\u001b[0m\u001b[0m\n\u001b[0m\u001b[1;32m    613\u001b[0m \u001b[0;34m\u001b[0m\u001b[0m\n\u001b[1;32m    614\u001b[0m         \u001b[0;32mif\u001b[0m \u001b[0mself\u001b[0m\u001b[0;34m.\u001b[0m\u001b[0m_use_multiprocessing\u001b[0m\u001b[0;34m:\u001b[0m\u001b[0;34m\u001b[0m\u001b[0m\n",
      "\u001b[0;32m/home/carnd/anaconda3/envs/carnd-term1/lib/python3.5/threading.py\u001b[0m in \u001b[0;36mjoin\u001b[0;34m(self, timeout)\u001b[0m\n\u001b[1;32m   1052\u001b[0m \u001b[0;34m\u001b[0m\u001b[0m\n\u001b[1;32m   1053\u001b[0m         \u001b[0;32mif\u001b[0m \u001b[0mtimeout\u001b[0m \u001b[0;32mis\u001b[0m \u001b[0;32mNone\u001b[0m\u001b[0;34m:\u001b[0m\u001b[0;34m\u001b[0m\u001b[0m\n\u001b[0;32m-> 1054\u001b[0;31m             \u001b[0mself\u001b[0m\u001b[0;34m.\u001b[0m\u001b[0m_wait_for_tstate_lock\u001b[0m\u001b[0;34m(\u001b[0m\u001b[0;34m)\u001b[0m\u001b[0;34m\u001b[0m\u001b[0m\n\u001b[0m\u001b[1;32m   1055\u001b[0m         \u001b[0;32melse\u001b[0m\u001b[0;34m:\u001b[0m\u001b[0;34m\u001b[0m\u001b[0m\n\u001b[1;32m   1056\u001b[0m             \u001b[0;31m# the behavior of a negative timeout isn't documented, but\u001b[0m\u001b[0;34m\u001b[0m\u001b[0;34m\u001b[0m\u001b[0m\n",
      "\u001b[0;32m/home/carnd/anaconda3/envs/carnd-term1/lib/python3.5/threading.py\u001b[0m in \u001b[0;36m_wait_for_tstate_lock\u001b[0;34m(self, block, timeout)\u001b[0m\n\u001b[1;32m   1068\u001b[0m         \u001b[0;32mif\u001b[0m \u001b[0mlock\u001b[0m \u001b[0;32mis\u001b[0m \u001b[0;32mNone\u001b[0m\u001b[0;34m:\u001b[0m  \u001b[0;31m# already determined that the C code is done\u001b[0m\u001b[0;34m\u001b[0m\u001b[0m\n\u001b[1;32m   1069\u001b[0m             \u001b[0;32massert\u001b[0m \u001b[0mself\u001b[0m\u001b[0;34m.\u001b[0m\u001b[0m_is_stopped\u001b[0m\u001b[0;34m\u001b[0m\u001b[0m\n\u001b[0;32m-> 1070\u001b[0;31m         \u001b[0;32melif\u001b[0m \u001b[0mlock\u001b[0m\u001b[0;34m.\u001b[0m\u001b[0macquire\u001b[0m\u001b[0;34m(\u001b[0m\u001b[0mblock\u001b[0m\u001b[0;34m,\u001b[0m \u001b[0mtimeout\u001b[0m\u001b[0;34m)\u001b[0m\u001b[0;34m:\u001b[0m\u001b[0;34m\u001b[0m\u001b[0m\n\u001b[0m\u001b[1;32m   1071\u001b[0m             \u001b[0mlock\u001b[0m\u001b[0;34m.\u001b[0m\u001b[0mrelease\u001b[0m\u001b[0;34m(\u001b[0m\u001b[0;34m)\u001b[0m\u001b[0;34m\u001b[0m\u001b[0m\n\u001b[1;32m   1072\u001b[0m             \u001b[0mself\u001b[0m\u001b[0;34m.\u001b[0m\u001b[0m_stop\u001b[0m\u001b[0;34m(\u001b[0m\u001b[0;34m)\u001b[0m\u001b[0;34m\u001b[0m\u001b[0m\n",
      "\u001b[0;31mKeyboardInterrupt\u001b[0m: "
     ]
    }
   ],
   "source": [
    "for i in range(150000000):\n",
    "    history = covnet_sigma.fit_generator(sigma_train_gen, steps_per_epoch = 10, epochs = 1)\n",
    "    histories_covnet_sigma.append(history.history)\n",
    "    predictions_covnet_sigma.append(covnet_sigma.predict(test_set_pred))\n",
    "    covnet_sigma.save(\"covnet_sigma_FULLMODEL.h5\")\n",
    "    \n",
    "    if (i%10 == 0):\n",
    "        np.save(\"histories_covnet_sigma.npy\", histories_covnet_sigma)\n",
    "        np.save(\"predictions_covnet_sigma.npy\", predictions_covnet_sigma)\n",
    "\n",
    "        !git add --all\n",
    "        !git commit -am \"Model trained\"\n",
    "        !git push --quiet"
   ]
  },
  {
   "cell_type": "markdown",
   "metadata": {},
   "source": [
    "# Convnet Single Output Prediction - Jump Mu"
   ]
  },
  {
   "cell_type": "code",
   "execution_count": 35,
   "metadata": {
    "collapsed": true
   },
   "outputs": [],
   "source": [
    "covnet_jump_mu = load_model(\"./Models/covnet_jump_mu.h5\", custom_objects={\"r2\":r2})#covnet_single_ReLUs_6_layers()"
   ]
  },
  {
   "cell_type": "code",
   "execution_count": 36,
   "metadata": {
    "collapsed": true
   },
   "outputs": [],
   "source": [
    "def jump_mu_batch_generator(all_time = 2000, paramset_size = 32, paths_p_paramset = 5):\n",
    "    while True:\n",
    "        RETURNS_ = []\n",
    "        PARAMS_ = []\n",
    "        \n",
    "        for i in range(paramset_size):\n",
    "            mp = random_model_params()\n",
    "            mp.all_time = all_time\n",
    "            \n",
    "            for j in range(paths_p_paramset):\n",
    "                PARAMS_.append(mp)\n",
    "                RETURNS_.append(geometric_brownian_motion_jump_diffusion_log_returns(mp))\n",
    "        \n",
    "        train_data = np.reshape(np.array(RETURNS_), (paramset_size*paths_p_paramset, 40, 50, 1))\n",
    "        \n",
    "        jumps_mus = np.array([[mp.jumps_mu] for mp in PARAMS_])\n",
    "        \n",
    "        yield train_data, jumps_mus\n",
    "\n",
    "jump_mu_train_gen = jump_mu_batch_generator(paramset_size=1750, paths_p_paramset=1)"
   ]
  },
  {
   "cell_type": "code",
   "execution_count": null,
   "metadata": {
    "collapsed": true
   },
   "outputs": [],
   "source": [
    "test_set_pred = standard_convolutional_test_set()"
   ]
  },
  {
   "cell_type": "code",
   "execution_count": null,
   "metadata": {
    "collapsed": true
   },
   "outputs": [],
   "source": [
    "covnet_jump_mu = load_model(H5_DIR_COVNET_JUMP_MU+\"_FULLMODEL.h5\", custom_objects={\"r2\":r2})"
   ]
  },
  {
   "cell_type": "code",
   "execution_count": 37,
   "metadata": {
    "collapsed": true
   },
   "outputs": [],
   "source": [
    "histories_covnet_jump_mu = np.load(\"histories_covnet_jump_mu.npy\").tolist()\n",
    "predictions_covnet_jump_mu = np.load(\"predictions_covnet_jump_mu.npy\").tolist()"
   ]
  },
  {
   "cell_type": "code",
   "execution_count": null,
   "metadata": {
    "collapsed": true
   },
   "outputs": [],
   "source": [
    "covnet_jump_mu.save(\"./Models/covnet_jump_mu.h5\")"
   ]
  },
  {
   "cell_type": "code",
   "execution_count": 38,
   "metadata": {},
   "outputs": [
    {
     "name": "stdout",
     "output_type": "stream",
     "text": [
      "Epoch 1/1\n",
      "10/10 [==============================] - 172s - loss: 0.0031 - mean_absolute_percentage_error: 56.5280 - r2: 0.9636    \n",
      "[master 0ebbe03] Model trained\n",
      " 5 files changed, 78 insertions(+), 13 deletions(-)\n",
      " rewrite Source_Code/histories_covnet_jump_mu.npy (85%)\n",
      "warning: push.default is unset; its implicit value has changed in\n",
      "Git 2.0 from 'matching' to 'simple'. To squelch this message\n",
      "and maintain the traditional behavior, use:\n",
      "\n",
      "  git config --global push.default matching\n",
      "\n",
      "To squelch this message and adopt the new behavior now, use:\n",
      "\n",
      "  git config --global push.default simple\n",
      "\n",
      "When push.default is set to 'matching', git will push local branches\n",
      "to the remote branches that already exist with the same name.\n",
      "\n",
      "Since Git 2.0, Git defaults to the more conservative 'simple'\n",
      "behavior, which only pushes the current branch to the corresponding\n",
      "remote branch that 'git pull' uses to update the current branch.\n",
      "\n",
      "See 'git help config' and search for 'push.default' for further information.\n",
      "(the 'simple' mode was introduced in Git 1.7.11. Use the similar mode\n",
      "'current' instead of 'simple' if you sometimes use older versions of Git)\n",
      "\n",
      "Epoch 1/1\n",
      "10/10 [==============================] - 172s - loss: 0.0031 - mean_absolute_percentage_error: 81.1408 - r2: 0.9638    \n",
      "Epoch 1/1\n",
      "10/10 [==============================] - 172s - loss: 0.0032 - mean_absolute_percentage_error: 61.9278 - r2: 0.9622    \n",
      "Epoch 1/1\n",
      "10/10 [==============================] - 174s - loss: 0.0029 - mean_absolute_percentage_error: 64.6069 - r2: 0.9648    \n",
      "Epoch 1/1\n",
      "10/10 [==============================] - 172s - loss: 0.0033 - mean_absolute_percentage_error: 50.2714 - r2: 0.9603    \n",
      "Epoch 1/1\n",
      "10/10 [==============================] - 173s - loss: 0.0030 - mean_absolute_percentage_error: 69.5316 - r2: 0.9638    \n",
      "Epoch 1/1\n",
      "10/10 [==============================] - 172s - loss: 0.0030 - mean_absolute_percentage_error: 64.4599 - r2: 0.9634    \n",
      "Epoch 1/1\n",
      " 2/10 [=====>........................] - ETA: 140s - loss: 0.0030 - mean_absolute_percentage_error: 52.5638 - r2: 0.9634"
     ]
    },
    {
     "ename": "KeyboardInterrupt",
     "evalue": "",
     "output_type": "error",
     "traceback": [
      "\u001b[0;31m---------------------------------------------------------------------------\u001b[0m",
      "\u001b[0;31mKeyboardInterrupt\u001b[0m                         Traceback (most recent call last)",
      "\u001b[0;32m<ipython-input-38-8bf3355a5f66>\u001b[0m in \u001b[0;36m<module>\u001b[0;34m()\u001b[0m\n\u001b[1;32m      1\u001b[0m \u001b[0;32mfor\u001b[0m \u001b[0mi\u001b[0m \u001b[0;32min\u001b[0m \u001b[0mrange\u001b[0m\u001b[0;34m(\u001b[0m\u001b[0;36m150000000\u001b[0m\u001b[0;34m)\u001b[0m\u001b[0;34m:\u001b[0m\u001b[0;34m\u001b[0m\u001b[0m\n\u001b[0;32m----> 2\u001b[0;31m     \u001b[0mhistory\u001b[0m \u001b[0;34m=\u001b[0m \u001b[0mcovnet_jump_mu\u001b[0m\u001b[0;34m.\u001b[0m\u001b[0mfit_generator\u001b[0m\u001b[0;34m(\u001b[0m\u001b[0mjump_mu_train_gen\u001b[0m\u001b[0;34m,\u001b[0m \u001b[0msteps_per_epoch\u001b[0m \u001b[0;34m=\u001b[0m \u001b[0;36m10\u001b[0m\u001b[0;34m,\u001b[0m \u001b[0mepochs\u001b[0m \u001b[0;34m=\u001b[0m \u001b[0;36m1\u001b[0m\u001b[0;34m)\u001b[0m\u001b[0;34m\u001b[0m\u001b[0m\n\u001b[0m\u001b[1;32m      3\u001b[0m     \u001b[0mhistories_covnet_jump_mu\u001b[0m\u001b[0;34m.\u001b[0m\u001b[0mappend\u001b[0m\u001b[0;34m(\u001b[0m\u001b[0mhistory\u001b[0m\u001b[0;34m.\u001b[0m\u001b[0mhistory\u001b[0m\u001b[0;34m)\u001b[0m\u001b[0;34m\u001b[0m\u001b[0m\n\u001b[1;32m      4\u001b[0m     \u001b[0mpredictions_covnet_jump_mu\u001b[0m\u001b[0;34m.\u001b[0m\u001b[0mappend\u001b[0m\u001b[0;34m(\u001b[0m\u001b[0mcovnet_jump_mu\u001b[0m\u001b[0;34m.\u001b[0m\u001b[0mpredict\u001b[0m\u001b[0;34m(\u001b[0m\u001b[0mtest_set_pred\u001b[0m\u001b[0;34m)\u001b[0m\u001b[0;34m)\u001b[0m\u001b[0;34m\u001b[0m\u001b[0m\n\u001b[1;32m      5\u001b[0m     \u001b[0mcovnet_jump_mu\u001b[0m\u001b[0;34m.\u001b[0m\u001b[0msave\u001b[0m\u001b[0;34m(\u001b[0m\u001b[0;34m\"./Models/covnet_jump_mu.h5\"\u001b[0m\u001b[0;34m)\u001b[0m\u001b[0;34m\u001b[0m\u001b[0m\n",
      "\u001b[0;32m/home/carnd/anaconda3/envs/carnd-term1/lib/python3.5/site-packages/keras/legacy/interfaces.py\u001b[0m in \u001b[0;36mwrapper\u001b[0;34m(*args, **kwargs)\u001b[0m\n\u001b[1;32m     85\u001b[0m                 warnings.warn('Update your `' + object_name +\n\u001b[1;32m     86\u001b[0m                               '` call to the Keras 2 API: ' + signature, stacklevel=2)\n\u001b[0;32m---> 87\u001b[0;31m             \u001b[0;32mreturn\u001b[0m \u001b[0mfunc\u001b[0m\u001b[0;34m(\u001b[0m\u001b[0;34m*\u001b[0m\u001b[0margs\u001b[0m\u001b[0;34m,\u001b[0m \u001b[0;34m**\u001b[0m\u001b[0mkwargs\u001b[0m\u001b[0;34m)\u001b[0m\u001b[0;34m\u001b[0m\u001b[0m\n\u001b[0m\u001b[1;32m     88\u001b[0m         \u001b[0mwrapper\u001b[0m\u001b[0;34m.\u001b[0m\u001b[0m_original_function\u001b[0m \u001b[0;34m=\u001b[0m \u001b[0mfunc\u001b[0m\u001b[0;34m\u001b[0m\u001b[0m\n\u001b[1;32m     89\u001b[0m         \u001b[0;32mreturn\u001b[0m \u001b[0mwrapper\u001b[0m\u001b[0;34m\u001b[0m\u001b[0m\n",
      "\u001b[0;32m/home/carnd/anaconda3/envs/carnd-term1/lib/python3.5/site-packages/keras/models.py\u001b[0m in \u001b[0;36mfit_generator\u001b[0;34m(self, generator, steps_per_epoch, epochs, verbose, callbacks, validation_data, validation_steps, class_weight, max_queue_size, workers, use_multiprocessing, initial_epoch)\u001b[0m\n\u001b[1;32m   1115\u001b[0m                                         \u001b[0mworkers\u001b[0m\u001b[0;34m=\u001b[0m\u001b[0mworkers\u001b[0m\u001b[0;34m,\u001b[0m\u001b[0;34m\u001b[0m\u001b[0m\n\u001b[1;32m   1116\u001b[0m                                         \u001b[0muse_multiprocessing\u001b[0m\u001b[0;34m=\u001b[0m\u001b[0muse_multiprocessing\u001b[0m\u001b[0;34m,\u001b[0m\u001b[0;34m\u001b[0m\u001b[0m\n\u001b[0;32m-> 1117\u001b[0;31m                                         initial_epoch=initial_epoch)\n\u001b[0m\u001b[1;32m   1118\u001b[0m \u001b[0;34m\u001b[0m\u001b[0m\n\u001b[1;32m   1119\u001b[0m     \u001b[0;34m@\u001b[0m\u001b[0minterfaces\u001b[0m\u001b[0;34m.\u001b[0m\u001b[0mlegacy_generator_methods_support\u001b[0m\u001b[0;34m\u001b[0m\u001b[0m\n",
      "\u001b[0;32m/home/carnd/anaconda3/envs/carnd-term1/lib/python3.5/site-packages/keras/legacy/interfaces.py\u001b[0m in \u001b[0;36mwrapper\u001b[0;34m(*args, **kwargs)\u001b[0m\n\u001b[1;32m     85\u001b[0m                 warnings.warn('Update your `' + object_name +\n\u001b[1;32m     86\u001b[0m                               '` call to the Keras 2 API: ' + signature, stacklevel=2)\n\u001b[0;32m---> 87\u001b[0;31m             \u001b[0;32mreturn\u001b[0m \u001b[0mfunc\u001b[0m\u001b[0;34m(\u001b[0m\u001b[0;34m*\u001b[0m\u001b[0margs\u001b[0m\u001b[0;34m,\u001b[0m \u001b[0;34m**\u001b[0m\u001b[0mkwargs\u001b[0m\u001b[0;34m)\u001b[0m\u001b[0;34m\u001b[0m\u001b[0m\n\u001b[0m\u001b[1;32m     88\u001b[0m         \u001b[0mwrapper\u001b[0m\u001b[0;34m.\u001b[0m\u001b[0m_original_function\u001b[0m \u001b[0;34m=\u001b[0m \u001b[0mfunc\u001b[0m\u001b[0;34m\u001b[0m\u001b[0m\n\u001b[1;32m     89\u001b[0m         \u001b[0;32mreturn\u001b[0m \u001b[0mwrapper\u001b[0m\u001b[0;34m\u001b[0m\u001b[0m\n",
      "\u001b[0;32m/home/carnd/anaconda3/envs/carnd-term1/lib/python3.5/site-packages/keras/engine/training.py\u001b[0m in \u001b[0;36mfit_generator\u001b[0;34m(self, generator, steps_per_epoch, epochs, verbose, callbacks, validation_data, validation_steps, class_weight, max_queue_size, workers, use_multiprocessing, initial_epoch)\u001b[0m\n\u001b[1;32m   1807\u001b[0m                 \u001b[0mbatch_index\u001b[0m \u001b[0;34m=\u001b[0m \u001b[0;36m0\u001b[0m\u001b[0;34m\u001b[0m\u001b[0m\n\u001b[1;32m   1808\u001b[0m                 \u001b[0;32mwhile\u001b[0m \u001b[0msteps_done\u001b[0m \u001b[0;34m<\u001b[0m \u001b[0msteps_per_epoch\u001b[0m\u001b[0;34m:\u001b[0m\u001b[0;34m\u001b[0m\u001b[0m\n\u001b[0;32m-> 1809\u001b[0;31m                     \u001b[0mgenerator_output\u001b[0m \u001b[0;34m=\u001b[0m \u001b[0mnext\u001b[0m\u001b[0;34m(\u001b[0m\u001b[0moutput_generator\u001b[0m\u001b[0;34m)\u001b[0m\u001b[0;34m\u001b[0m\u001b[0m\n\u001b[0m\u001b[1;32m   1810\u001b[0m \u001b[0;34m\u001b[0m\u001b[0m\n\u001b[1;32m   1811\u001b[0m                     \u001b[0;32mif\u001b[0m \u001b[0;32mnot\u001b[0m \u001b[0mhasattr\u001b[0m\u001b[0;34m(\u001b[0m\u001b[0mgenerator_output\u001b[0m\u001b[0;34m,\u001b[0m \u001b[0;34m'__len__'\u001b[0m\u001b[0;34m)\u001b[0m\u001b[0;34m:\u001b[0m\u001b[0;34m\u001b[0m\u001b[0m\n",
      "\u001b[0;32m/home/carnd/anaconda3/envs/carnd-term1/lib/python3.5/site-packages/keras/utils/data_utils.py\u001b[0m in \u001b[0;36mget\u001b[0;34m(self)\u001b[0m\n\u001b[1;32m    634\u001b[0m                     \u001b[0;32myield\u001b[0m \u001b[0minputs\u001b[0m\u001b[0;34m\u001b[0m\u001b[0m\n\u001b[1;32m    635\u001b[0m             \u001b[0;32melse\u001b[0m\u001b[0;34m:\u001b[0m\u001b[0;34m\u001b[0m\u001b[0m\n\u001b[0;32m--> 636\u001b[0;31m                 \u001b[0mtime\u001b[0m\u001b[0;34m.\u001b[0m\u001b[0msleep\u001b[0m\u001b[0;34m(\u001b[0m\u001b[0mself\u001b[0m\u001b[0;34m.\u001b[0m\u001b[0mwait_time\u001b[0m\u001b[0;34m)\u001b[0m\u001b[0;34m\u001b[0m\u001b[0m\n\u001b[0m",
      "\u001b[0;31mKeyboardInterrupt\u001b[0m: "
     ]
    }
   ],
   "source": [
    "for i in range(150000000):\n",
    "    history = covnet_jump_mu.fit_generator(jump_mu_train_gen, steps_per_epoch = 10, epochs = 1)\n",
    "    histories_covnet_jump_mu.append(history.history)\n",
    "    predictions_covnet_jump_mu.append(covnet_jump_mu.predict(test_set_pred))\n",
    "    covnet_jump_mu.save(\"./Models/covnet_jump_mu.h5\")\n",
    "    \n",
    "    if (i%10 == 0):\n",
    "        np.save(\"histories_covnet_jump_mu.npy\", histories_covnet_jump_mu)\n",
    "        np.save(\"predictions_covnet_jump_mu.npy\", predictions_covnet_jump_mu)\n",
    "\n",
    "        !git add --all\n",
    "        !git commit -am \"Model trained\"\n",
    "        !git push --quiet"
   ]
  },
  {
   "cell_type": "markdown",
   "metadata": {},
   "source": [
    "# Convnet Single Output Prediction - Jump Sigma"
   ]
  },
  {
   "cell_type": "code",
   "execution_count": 9,
   "metadata": {},
   "outputs": [
    {
     "ename": "NameError",
     "evalue": "name 'covnet_jump_sigma' is not defined",
     "output_type": "error",
     "traceback": [
      "\u001b[0;31m---------------------------------------------------------------------------\u001b[0m",
      "\u001b[0;31mNameError\u001b[0m                                 Traceback (most recent call last)",
      "\u001b[0;32m<ipython-input-9-7f003b169ad7>\u001b[0m in \u001b[0;36m<module>\u001b[0;34m()\u001b[0m\n\u001b[1;32m     12\u001b[0m     \u001b[0;32mreturn\u001b[0m \u001b[0;36m1\u001b[0m\u001b[0;34m-\u001b[0m\u001b[0mSSE\u001b[0m\u001b[0;34m/\u001b[0m\u001b[0mSST\u001b[0m\u001b[0;34m\u001b[0m\u001b[0m\n\u001b[1;32m     13\u001b[0m \u001b[0;34m\u001b[0m\u001b[0m\n\u001b[0;32m---> 14\u001b[0;31m \u001b[0mcovnet_jump_sigma\u001b[0m\u001b[0;34m.\u001b[0m\u001b[0mcompile\u001b[0m\u001b[0;34m(\u001b[0m\u001b[0;34m'adam'\u001b[0m\u001b[0;34m,\u001b[0m \u001b[0;34m'mean_squared_error'\u001b[0m\u001b[0;34m,\u001b[0m \u001b[0mmetrics\u001b[0m\u001b[0;34m=\u001b[0m\u001b[0;34m[\u001b[0m\u001b[0;34m'mean_absolute_percentage_error'\u001b[0m\u001b[0;34m,\u001b[0m \u001b[0mr2\u001b[0m\u001b[0;34m]\u001b[0m\u001b[0;34m)\u001b[0m\u001b[0;34m\u001b[0m\u001b[0m\n\u001b[0m",
      "\u001b[0;31mNameError\u001b[0m: name 'covnet_jump_sigma' is not defined"
     ]
    }
   ],
   "source": [
    "def r2(y_true, y_pred):\n",
    "    \"\"\"\n",
    "    returns the correlation coefficient of y_pred against y_true.\n",
    "\n",
    "    :param y_true: the true values (independent variable)\n",
    "    :param y_pred: the predicted values (dependent variable)\n",
    "    \"\"\"\n",
    "    \n",
    "    SSE = K.sum(K.square(y_true-y_pred))\n",
    "    SST = K.sum(K.square(y_true-K.mean(y_true)))\n",
    "    \n",
    "    return 1-SSE/SST\n",
    "\n",
    "covnet_jump_sigma.compile('adam', 'mean_squared_error', metrics=['mean_absolute_percentage_error', r2])"
   ]
  },
  {
   "cell_type": "code",
   "execution_count": 43,
   "metadata": {
    "collapsed": true
   },
   "outputs": [],
   "source": [
    "covnet_jump_sigma.compile('adam', 'mean_squared_error', metrics=['mean_absolute_percentage_error', r2])"
   ]
  },
  {
   "cell_type": "code",
   "execution_count": null,
   "metadata": {
    "collapsed": true
   },
   "outputs": [],
   "source": [
    "keras.__version__"
   ]
  },
  {
   "cell_type": "code",
   "execution_count": 39,
   "metadata": {
    "collapsed": true
   },
   "outputs": [],
   "source": [
    "covnet_jump_sigma = load_model(\"./Models/covnet_jump_sigma.h5\", custom_objects={\"r2\":r2})#covnet_single_ReLUs_6_layers()\n",
    "#covnet_jump_sigma.load_weights(H5_DIR_COVNET_JUMP_SIGMA)"
   ]
  },
  {
   "cell_type": "code",
   "execution_count": 40,
   "metadata": {
    "collapsed": true
   },
   "outputs": [],
   "source": [
    "def jump_sigma_batch_generator(all_time = 2000, paramset_size = 32, paths_p_paramset = 5):\n",
    "    while True:\n",
    "        RETURNS_ = []\n",
    "        PARAMS_ = []\n",
    "        \n",
    "        for i in range(paramset_size):\n",
    "            mp = random_model_params()\n",
    "            mp.all_time = all_time\n",
    "            \n",
    "            for j in range(paths_p_paramset):\n",
    "                PARAMS_.append(mp)\n",
    "                RETURNS_.append(geometric_brownian_motion_jump_diffusion_log_returns(mp))\n",
    "        \n",
    "        train_data = np.reshape(np.array(RETURNS_), (paramset_size*paths_p_paramset, 40, 50, 1))\n",
    "        \n",
    "        jumps_sigmas = np.array([[mp.jumps_sigma] for mp in PARAMS_])\n",
    "        \n",
    "        yield train_data, jumps_sigmas\n",
    "\n",
    "jump_sigma_train_gen = jump_sigma_batch_generator(paramset_size=1750, paths_p_paramset=1)"
   ]
  },
  {
   "cell_type": "code",
   "execution_count": null,
   "metadata": {
    "collapsed": true
   },
   "outputs": [],
   "source": [
    "test_set_pred = standard_convolutional_test_set()"
   ]
  },
  {
   "cell_type": "code",
   "execution_count": 41,
   "metadata": {
    "collapsed": true
   },
   "outputs": [],
   "source": [
    "histories_covnet_jump_sigma = np.load(\"histories_covnet_jump_sigma.npy\").tolist()\n",
    "predictions_covnet_jump_sigma = np.load(\"predictions_covnet_jump_sigma.npy\").tolist()\n",
    "    \n",
    "#histories_covnet_jump_sigma = []\n",
    "#predictions_covnet_jump_sigma = []"
   ]
  },
  {
   "cell_type": "code",
   "execution_count": null,
   "metadata": {
    "collapsed": true
   },
   "outputs": [],
   "source": [
    "covnet_jump_sigma.save(\"./Models/covnet_jump_sigma.h5\")"
   ]
  },
  {
   "cell_type": "code",
   "execution_count": null,
   "metadata": {
    "scrolled": true
   },
   "outputs": [
    {
     "name": "stdout",
     "output_type": "stream",
     "text": [
      "Epoch 1/3\n",
      "3/3 [==============================] - 53s - loss: 0.0037 - mean_absolute_percentage_error: 138.4085 - r2: -0.1346      \n",
      "Epoch 2/3\n",
      "3/3 [==============================] - 51s - loss: 0.0038 - mean_absolute_percentage_error: 70.3446 - r2: -0.1576     \n",
      "Epoch 3/3\n",
      "3/3 [==============================] - 51s - loss: 0.0023 - mean_absolute_percentage_error: 114.2168 - r2: 0.3085     \n",
      "[master e01e896] updated history, predictions and model\n",
      " 5 files changed, 74 insertions(+), 10 deletions(-)\n",
      " rewrite Source_Code/histories_covnet_jump_sigma.npy (80%)\n",
      "Branch master set up to track remote branch master from origin.\n",
      "Epoch 1/3\n",
      "3/3 [==============================] - 52s - loss: 0.0025 - mean_absolute_percentage_error: 175.1271 - r2: 0.2270     \n",
      "Epoch 2/3\n",
      "3/3 [==============================] - 52s - loss: 0.0024 - mean_absolute_percentage_error: 173.4059 - r2: 0.2878     \n",
      "Epoch 3/3\n",
      "3/3 [==============================] - 51s - loss: 0.0022 - mean_absolute_percentage_error: 141.4275 - r2: 0.3493     \n",
      "Epoch 1/3\n",
      "3/3 [==============================] - 52s - loss: 0.0019 - mean_absolute_percentage_error: 114.1313 - r2: 0.4142     \n",
      "Epoch 2/3\n",
      "3/3 [==============================] - 51s - loss: 0.0018 - mean_absolute_percentage_error: 141.0664 - r2: 0.4666     \n",
      "Epoch 3/3\n",
      "3/3 [==============================] - 51s - loss: 0.0017 - mean_absolute_percentage_error: 127.3458 - r2: 0.4793     \n",
      "Epoch 1/3\n",
      "3/3 [==============================] - 53s - loss: 0.0016 - mean_absolute_percentage_error: 100.4653 - r2: 0.5009    \n",
      "Epoch 2/3\n",
      "3/3 [==============================] - 50s - loss: 0.0016 - mean_absolute_percentage_error: 118.9141 - r2: 0.5097     \n",
      "Epoch 3/3\n",
      "3/3 [==============================] - 51s - loss: 0.0015 - mean_absolute_percentage_error: 123.6527 - r2: 0.5430     \n",
      "Epoch 1/3\n",
      "3/3 [==============================] - 52s - loss: 0.0015 - mean_absolute_percentage_error: 114.7712 - r2: 0.5647     \n",
      "Epoch 2/3\n",
      "3/3 [==============================] - 51s - loss: 0.0014 - mean_absolute_percentage_error: 115.9134 - r2: 0.5743     \n",
      "Epoch 3/3\n",
      "3/3 [==============================] - 50s - loss: 0.0014 - mean_absolute_percentage_error: 106.1261 - r2: 0.5957     \n",
      "Epoch 1/3\n",
      "3/3 [==============================] - 52s - loss: 0.0013 - mean_absolute_percentage_error: 99.8052 - r2: 0.5983      \n",
      "Epoch 2/3\n",
      "3/3 [==============================] - 50s - loss: 0.0013 - mean_absolute_percentage_error: 95.9682 - r2: 0.6169     \n",
      "Epoch 3/3\n",
      "3/3 [==============================] - 51s - loss: 0.0012 - mean_absolute_percentage_error: 87.3580 - r2: 0.6296     \n",
      "[master a151fd9] updated history, predictions and model\n",
      " 4 files changed, 33 insertions(+), 1 deletion(-)\n",
      "Branch master set up to track remote branch master from origin.\n",
      "Epoch 1/3\n",
      "3/3 [==============================] - 52s - loss: 0.0012 - mean_absolute_percentage_error: 87.4609 - r2: 0.6333     \n",
      "Epoch 2/3\n",
      "3/3 [==============================] - 51s - loss: 0.0011 - mean_absolute_percentage_error: 92.0655 - r2: 0.6525     \n",
      "Epoch 3/3\n",
      "3/3 [==============================] - 51s - loss: 0.0011 - mean_absolute_percentage_error: 85.0451 - r2: 0.6524     \n",
      "Epoch 1/3\n",
      "3/3 [==============================] - 52s - loss: 0.0011 - mean_absolute_percentage_error: 83.1228 - r2: 0.6577     \n",
      "Epoch 2/3\n",
      "3/3 [==============================] - 50s - loss: 0.0011 - mean_absolute_percentage_error: 71.9110 - r2: 0.6692     \n",
      "Epoch 3/3\n",
      "3/3 [==============================] - 51s - loss: 0.0011 - mean_absolute_percentage_error: 81.6505 - r2: 0.6716     \n",
      "Epoch 1/3\n",
      "3/3 [==============================] - 52s - loss: 0.0011 - mean_absolute_percentage_error: 78.5568 - r2: 0.6656     \n",
      "Epoch 2/3\n",
      "3/3 [==============================] - 51s - loss: 0.0011 - mean_absolute_percentage_error: 80.3553 - r2: 0.6639     \n",
      "Epoch 3/3\n",
      "3/3 [==============================] - 51s - loss: 0.0011 - mean_absolute_percentage_error: 82.3225 - r2: 0.6802     \n",
      "Epoch 1/3\n",
      "3/3 [==============================] - 52s - loss: 0.0010 - mean_absolute_percentage_error: 72.3623 - r2: 0.6767     \n",
      "Epoch 2/3\n",
      "3/3 [==============================] - 50s - loss: 0.0010 - mean_absolute_percentage_error: 75.5141 - r2: 0.6799        \n",
      "Epoch 3/3\n",
      "3/3 [==============================] - 51s - loss: 0.0010 - mean_absolute_percentage_error: 67.8234 - r2: 0.6792     \n",
      "Epoch 1/3\n",
      "3/3 [==============================] - 53s - loss: 0.0010 - mean_absolute_percentage_error: 74.8367 - r2: 0.6865     \n",
      "Epoch 2/3\n",
      "3/3 [==============================] - 51s - loss: 0.0010 - mean_absolute_percentage_error: 71.5706 - r2: 0.6889         \n",
      "Epoch 3/3\n",
      "3/3 [==============================] - 50s - loss: 0.0011 - mean_absolute_percentage_error: 82.3429 - r2: 0.6807     \n",
      "[master 8fac5b0] updated history, predictions and model\n",
      " 4 files changed, 36 insertions(+), 1 deletion(-)\n",
      "Branch master set up to track remote branch master from origin.\n",
      "Epoch 1/3\n",
      "3/3 [==============================] - 52s - loss: 0.0010 - mean_absolute_percentage_error: 74.3619 - r2: 0.6892     \n",
      "Epoch 2/3\n",
      "3/3 [==============================] - 50s - loss: 0.0010 - mean_absolute_percentage_error: 72.8070 - r2: 0.6872     \n",
      "Epoch 3/3\n",
      "3/3 [==============================] - 50s - loss: 0.0010 - mean_absolute_percentage_error: 77.7110 - r2: 0.6996         \n",
      "Epoch 1/3\n",
      "3/3 [==============================] - 52s - loss: 9.7641e-04 - mean_absolute_percentage_error: 69.6756 - r2: 0.6974     \n",
      "Epoch 2/3\n",
      "3/3 [==============================] - 50s - loss: 0.0010 - mean_absolute_percentage_error: 67.9971 - r2: 0.6809        \n",
      "Epoch 3/3\n",
      "3/3 [==============================] - 52s - loss: 9.9528e-04 - mean_absolute_percentage_error: 67.6449 - r2: 0.7000     \n",
      "Epoch 1/3\n",
      "3/3 [==============================] - 53s - loss: 0.0011 - mean_absolute_percentage_error: 83.1620 - r2: 0.6784     \n",
      "Epoch 2/3\n",
      "3/3 [==============================] - 50s - loss: 0.0010 - mean_absolute_percentage_error: 75.4402 - r2: 0.6969         \n",
      "Epoch 3/3\n",
      "3/3 [==============================] - 50s - loss: 9.8621e-04 - mean_absolute_percentage_error: 69.9740 - r2: 0.7003     \n",
      "Epoch 1/3\n",
      "3/3 [==============================] - 52s - loss: 9.9146e-04 - mean_absolute_percentage_error: 71.7186 - r2: 0.6987     \n",
      "Epoch 2/3\n",
      "3/3 [==============================] - 51s - loss: 9.5389e-04 - mean_absolute_percentage_error: 69.9007 - r2: 0.7068     \n",
      "Epoch 3/3\n",
      "3/3 [==============================] - 51s - loss: 9.7356e-04 - mean_absolute_percentage_error: 72.4281 - r2: 0.7056     \n",
      "Epoch 1/3\n",
      "3/3 [==============================] - 53s - loss: 9.7767e-04 - mean_absolute_percentage_error: 67.9824 - r2: 0.7035     \n",
      "Epoch 2/3\n",
      "3/3 [==============================] - 51s - loss: 9.5450e-04 - mean_absolute_percentage_error: 60.4983 - r2: 0.7102     \n",
      "Epoch 3/3\n",
      "3/3 [==============================] - 50s - loss: 9.8421e-04 - mean_absolute_percentage_error: 69.2839 - r2: 0.6988     \n",
      "[master ec1c68b] updated history, predictions and model\n",
      " 4 files changed, 36 insertions(+), 1 deletion(-)\n",
      "Branch master set up to track remote branch master from origin.\n",
      "Epoch 1/3\n",
      "3/3 [==============================] - 52s - loss: 9.9143e-04 - mean_absolute_percentage_error: 74.6359 - r2: 0.6979     \n",
      "Epoch 2/3\n",
      "3/3 [==============================] - 51s - loss: 9.4853e-04 - mean_absolute_percentage_error: 72.0476 - r2: 0.7131     \n",
      "Epoch 3/3\n",
      "3/3 [==============================] - 51s - loss: 9.9180e-04 - mean_absolute_percentage_error: 68.3316 - r2: 0.7019     \n",
      "Epoch 1/3\n",
      "3/3 [==============================] - 52s - loss: 9.7712e-04 - mean_absolute_percentage_error: 70.3976 - r2: 0.7007     \n",
      "Epoch 2/3\n",
      "3/3 [==============================] - 52s - loss: 9.4089e-04 - mean_absolute_percentage_error: 67.9170 - r2: 0.7091     \n",
      "Epoch 3/3\n",
      "3/3 [==============================] - 51s - loss: 9.5586e-04 - mean_absolute_percentage_error: 71.0141 - r2: 0.7134     \n",
      "Epoch 1/3\n",
      "3/3 [==============================] - 52s - loss: 9.6236e-04 - mean_absolute_percentage_error: 68.6698 - r2: 0.7046     \n",
      "Epoch 2/3\n",
      "3/3 [==============================] - 50s - loss: 9.6721e-04 - mean_absolute_percentage_error: 72.2449 - r2: 0.7099     \n",
      "Epoch 3/3\n",
      "3/3 [==============================] - 51s - loss: 9.5292e-04 - mean_absolute_percentage_error: 66.2949 - r2: 0.7130     \n",
      "Epoch 1/3\n"
     ]
    },
    {
     "name": "stdout",
     "output_type": "stream",
     "text": [
      "3/3 [==============================] - 52s - loss: 9.0925e-04 - mean_absolute_percentage_error: 61.6496 - r2: 0.7240     \n",
      "Epoch 2/3\n",
      "3/3 [==============================] - 51s - loss: 9.7462e-04 - mean_absolute_percentage_error: 77.4394 - r2: 0.7052     \n",
      "Epoch 3/3\n",
      "3/3 [==============================] - 51s - loss: 9.5741e-04 - mean_absolute_percentage_error: 69.4225 - r2: 0.7106     \n",
      "Epoch 1/3\n",
      "3/3 [==============================] - 53s - loss: 9.4323e-04 - mean_absolute_percentage_error: 71.5883 - r2: 0.7148     \n",
      "Epoch 2/3\n",
      "3/3 [==============================] - 50s - loss: 9.2664e-04 - mean_absolute_percentage_error: 64.1931 - r2: 0.7149     \n",
      "Epoch 3/3\n",
      "3/3 [==============================] - 51s - loss: 9.8700e-04 - mean_absolute_percentage_error: 66.9086 - r2: 0.6973     \n",
      "[master 656c157] updated history, predictions and model\n",
      " 4 files changed, 36 insertions(+), 1 deletion(-)\n",
      "Branch master set up to track remote branch master from origin.\n",
      "Epoch 1/3\n",
      "3/3 [==============================] - 52s - loss: 9.2134e-04 - mean_absolute_percentage_error: 70.2658 - r2: 0.7194     \n",
      "Epoch 2/3\n",
      "3/3 [==============================] - 51s - loss: 9.7834e-04 - mean_absolute_percentage_error: 68.2313 - r2: 0.7060     \n",
      "Epoch 3/3\n",
      "3/3 [==============================] - 50s - loss: 9.2162e-04 - mean_absolute_percentage_error: 68.4463 - r2: 0.7176     \n",
      "Epoch 1/3\n",
      "3/3 [==============================] - 52s - loss: 0.0010 - mean_absolute_percentage_error: 73.4771 - r2: 0.7016         \n",
      "Epoch 2/3\n",
      "3/3 [==============================] - 51s - loss: 9.3662e-04 - mean_absolute_percentage_error: 67.4385 - r2: 0.7198     \n",
      "Epoch 3/3\n",
      "3/3 [==============================] - 52s - loss: 9.6867e-04 - mean_absolute_percentage_error: 64.5443 - r2: 0.7089     \n",
      "Epoch 1/3\n",
      "3/3 [==============================] - 52s - loss: 9.0187e-04 - mean_absolute_percentage_error: 60.2868 - r2: 0.7263     \n",
      "Epoch 2/3\n",
      "3/3 [==============================] - 51s - loss: 9.7007e-04 - mean_absolute_percentage_error: 68.9937 - r2: 0.7002     \n",
      "Epoch 3/3\n",
      "3/3 [==============================] - 52s - loss: 9.5286e-04 - mean_absolute_percentage_error: 79.7244 - r2: 0.7079     \n",
      "Epoch 1/3\n",
      "3/3 [==============================] - 52s - loss: 9.6155e-04 - mean_absolute_percentage_error: 63.5544 - r2: 0.7117     \n",
      "Epoch 2/3\n",
      "3/3 [==============================] - 50s - loss: 9.8014e-04 - mean_absolute_percentage_error: 73.9577 - r2: 0.7051     \n",
      "Epoch 3/3\n",
      "3/3 [==============================] - 52s - loss: 9.6017e-04 - mean_absolute_percentage_error: 71.9791 - r2: 0.7113     \n",
      "Epoch 1/3\n",
      "3/3 [==============================] - 52s - loss: 9.3262e-04 - mean_absolute_percentage_error: 67.9088 - r2: 0.7159     \n",
      "Epoch 2/3\n",
      "3/3 [==============================] - 51s - loss: 9.2791e-04 - mean_absolute_percentage_error: 71.0159 - r2: 0.7132     \n",
      "Epoch 3/3\n",
      "3/3 [==============================] - 52s - loss: 9.2733e-04 - mean_absolute_percentage_error: 70.1289 - r2: 0.7158     \n",
      "[master 9c08927] updated history, predictions and model\n",
      " 4 files changed, 38 insertions(+), 1 deletion(-)\n",
      "Branch master set up to track remote branch master from origin.\n",
      "Epoch 1/3\n",
      "3/3 [==============================] - 52s - loss: 9.1706e-04 - mean_absolute_percentage_error: 62.2657 - r2: 0.7136     \n",
      "Epoch 2/3\n",
      "3/3 [==============================] - 52s - loss: 8.9568e-04 - mean_absolute_percentage_error: 64.0663 - r2: 0.7295     \n",
      "Epoch 3/3\n",
      "3/3 [==============================] - 51s - loss: 9.6365e-04 - mean_absolute_percentage_error: 66.4475 - r2: 0.7095    \n",
      "Epoch 1/3\n",
      "3/3 [==============================] - 53s - loss: 9.4343e-04 - mean_absolute_percentage_error: 68.5383 - r2: 0.7097     \n",
      "Epoch 2/3\n",
      "3/3 [==============================] - 51s - loss: 9.3817e-04 - mean_absolute_percentage_error: 65.8580 - r2: 0.7169     \n",
      "Epoch 3/3\n",
      "3/3 [==============================] - 52s - loss: 9.1252e-04 - mean_absolute_percentage_error: 59.6623 - r2: 0.7203     \n",
      "Epoch 1/3\n",
      "3/3 [==============================] - 53s - loss: 9.2552e-04 - mean_absolute_percentage_error: 72.9260 - r2: 0.7185     \n",
      "Epoch 2/3\n",
      "3/3 [==============================] - 52s - loss: 9.0719e-04 - mean_absolute_percentage_error: 66.4200 - r2: 0.7245     \n",
      "Epoch 3/3\n",
      "3/3 [==============================] - 52s - loss: 9.1728e-04 - mean_absolute_percentage_error: 62.7352 - r2: 0.7245     \n",
      "Epoch 1/3\n",
      "3/3 [==============================] - 52s - loss: 9.3627e-04 - mean_absolute_percentage_error: 63.3394 - r2: 0.7152     \n",
      "Epoch 2/3\n",
      "3/3 [==============================] - 52s - loss: 9.5416e-04 - mean_absolute_percentage_error: 67.0680 - r2: 0.7130     \n",
      "Epoch 3/3\n",
      "3/3 [==============================] - 51s - loss: 9.3598e-04 - mean_absolute_percentage_error: 70.7939 - r2: 0.7213     \n",
      "Epoch 1/3\n",
      "3/3 [==============================] - 53s - loss: 9.2423e-04 - mean_absolute_percentage_error: 67.7562 - r2: 0.7198     \n",
      "Epoch 2/3\n",
      "3/3 [==============================] - 51s - loss: 9.2767e-04 - mean_absolute_percentage_error: 70.5036 - r2: 0.7164     \n",
      "Epoch 3/3\n",
      "3/3 [==============================] - 52s - loss: 9.1749e-04 - mean_absolute_percentage_error: 64.6645 - r2: 0.7258     \n",
      "[master 95556b4] updated history, predictions and model\n",
      " 4 files changed, 32 insertions(+), 1 deletion(-)\n",
      "Branch master set up to track remote branch master from origin.\n",
      "Epoch 1/3\n",
      "3/3 [==============================] - 53s - loss: 8.7728e-04 - mean_absolute_percentage_error: 66.0875 - r2: 0.7309     \n",
      "Epoch 2/3\n",
      "3/3 [==============================] - 51s - loss: 9.1631e-04 - mean_absolute_percentage_error: 72.4802 - r2: 0.7230     \n",
      "Epoch 3/3\n",
      "3/3 [==============================] - 51s - loss: 9.1971e-04 - mean_absolute_percentage_error: 70.0996 - r2: 0.7238     \n",
      "Epoch 1/3\n",
      "3/3 [==============================] - 52s - loss: 9.6255e-04 - mean_absolute_percentage_error: 60.4257 - r2: 0.7078     \n",
      "Epoch 2/3\n",
      "3/3 [==============================] - 52s - loss: 9.4880e-04 - mean_absolute_percentage_error: 60.8011 - r2: 0.7055     \n",
      "Epoch 3/3\n",
      "3/3 [==============================] - 51s - loss: 9.4625e-04 - mean_absolute_percentage_error: 70.3020 - r2: 0.7143     \n",
      "Epoch 1/3\n",
      "3/3 [==============================] - 52s - loss: 9.1576e-04 - mean_absolute_percentage_error: 64.3019 - r2: 0.7183     \n",
      "Epoch 2/3\n",
      "3/3 [==============================] - 52s - loss: 9.2473e-04 - mean_absolute_percentage_error: 65.5395 - r2: 0.7211     \n",
      "Epoch 3/3\n",
      "3/3 [==============================] - 51s - loss: 9.6233e-04 - mean_absolute_percentage_error: 73.4556 - r2: 0.7047     \n",
      "Epoch 1/3\n",
      "3/3 [==============================] - 53s - loss: 9.8991e-04 - mean_absolute_percentage_error: 72.9946 - r2: 0.7028     \n",
      "Epoch 2/3\n",
      "3/3 [==============================] - 51s - loss: 9.8991e-04 - mean_absolute_percentage_error: 66.2750 - r2: 0.6971    \n",
      "Epoch 3/3\n",
      "3/3 [==============================] - 51s - loss: 9.4676e-04 - mean_absolute_percentage_error: 74.5624 - r2: 0.7170     \n",
      "Epoch 1/3\n",
      "3/3 [==============================] - 54s - loss: 9.3818e-04 - mean_absolute_percentage_error: 67.6321 - r2: 0.7147     \n",
      "Epoch 2/3\n",
      "3/3 [==============================] - 52s - loss: 9.0494e-04 - mean_absolute_percentage_error: 73.1381 - r2: 0.7215     \n",
      "Epoch 3/3\n",
      "3/3 [==============================] - 51s - loss: 9.4530e-04 - mean_absolute_percentage_error: 69.0887 - r2: 0.7120     \n",
      "[master 700f27a] updated history, predictions and model\n",
      " 4 files changed, 36 insertions(+), 1 deletion(-)\n",
      "Branch master set up to track remote branch master from origin.\n",
      "Epoch 1/3\n",
      "3/3 [==============================] - 53s - loss: 9.1194e-04 - mean_absolute_percentage_error: 63.7602 - r2: 0.7233     \n",
      "Epoch 2/3\n",
      "3/3 [==============================] - 52s - loss: 9.2370e-04 - mean_absolute_percentage_error: 62.0921 - r2: 0.7183     \n",
      "Epoch 3/3\n",
      "3/3 [==============================] - 51s - loss: 0.0010 - mean_absolute_percentage_error: 76.3405 - r2: 0.6958         \n",
      "Epoch 1/3\n",
      "3/3 [==============================] - 53s - loss: 9.5922e-04 - mean_absolute_percentage_error: 64.8007 - r2: 0.7017     \n",
      "Epoch 2/3\n",
      "3/3 [==============================] - 52s - loss: 9.1761e-04 - mean_absolute_percentage_error: 68.2918 - r2: 0.7168     \n",
      "Epoch 3/3\n",
      "3/3 [==============================] - 52s - loss: 9.0741e-04 - mean_absolute_percentage_error: 67.4693 - r2: 0.7267     \n",
      "Epoch 1/3\n"
     ]
    },
    {
     "name": "stdout",
     "output_type": "stream",
     "text": [
      "3/3 [==============================] - 53s - loss: 9.6245e-04 - mean_absolute_percentage_error: 72.0111 - r2: 0.7110     \n",
      "Epoch 2/3\n",
      "3/3 [==============================] - 51s - loss: 9.7587e-04 - mean_absolute_percentage_error: 70.9085 - r2: 0.7077     \n",
      "Epoch 3/3\n",
      "3/3 [==============================] - 51s - loss: 9.3902e-04 - mean_absolute_percentage_error: 64.5848 - r2: 0.7192     \n",
      "Epoch 1/3\n",
      "3/3 [==============================] - 53s - loss: 9.4618e-04 - mean_absolute_percentage_error: 70.2459 - r2: 0.7139     \n",
      "Epoch 2/3\n",
      "3/3 [==============================] - 52s - loss: 9.1823e-04 - mean_absolute_percentage_error: 68.4163 - r2: 0.7238     \n",
      "Epoch 3/3\n",
      "3/3 [==============================] - 51s - loss: 9.3348e-04 - mean_absolute_percentage_error: 66.2298 - r2: 0.7116     \n",
      "Epoch 1/3\n",
      "3/3 [==============================] - 53s - loss: 9.2383e-04 - mean_absolute_percentage_error: 69.7018 - r2: 0.7219     \n",
      "Epoch 2/3\n",
      "3/3 [==============================] - 51s - loss: 9.4790e-04 - mean_absolute_percentage_error: 73.9843 - r2: 0.7165     \n",
      "Epoch 3/3\n",
      "3/3 [==============================] - 51s - loss: 9.2268e-04 - mean_absolute_percentage_error: 61.6163 - r2: 0.7219     \n",
      "[master 160eb5a] updated history, predictions and model\n",
      " 4 files changed, 37 insertions(+), 1 deletion(-)\n",
      "Branch master set up to track remote branch master from origin.\n",
      "Epoch 1/3\n",
      "3/3 [==============================] - 52s - loss: 9.3195e-04 - mean_absolute_percentage_error: 67.9026 - r2: 0.7182     \n",
      "Epoch 2/3\n",
      "3/3 [==============================] - 50s - loss: 9.3552e-04 - mean_absolute_percentage_error: 64.1623 - r2: 0.7160     \n",
      "Epoch 3/3\n",
      "3/3 [==============================] - 52s - loss: 9.2775e-04 - mean_absolute_percentage_error: 72.1231 - r2: 0.7197     \n",
      "Epoch 1/3\n",
      "3/3 [==============================] - 53s - loss: 9.1124e-04 - mean_absolute_percentage_error: 57.0893 - r2: 0.7242     \n",
      "Epoch 2/3\n",
      "3/3 [==============================] - 51s - loss: 8.9353e-04 - mean_absolute_percentage_error: 64.9251 - r2: 0.7271     \n",
      "Epoch 3/3\n",
      "3/3 [==============================] - 52s - loss: 8.8023e-04 - mean_absolute_percentage_error: 65.4395 - r2: 0.7346     \n",
      "Epoch 1/3\n",
      "3/3 [==============================] - 52s - loss: 8.9162e-04 - mean_absolute_percentage_error: 60.4973 - r2: 0.7289     \n",
      "Epoch 2/3\n",
      "3/3 [==============================] - 52s - loss: 8.7631e-04 - mean_absolute_percentage_error: 62.4429 - r2: 0.7302     \n",
      "Epoch 3/3\n",
      "3/3 [==============================] - 52s - loss: 9.0995e-04 - mean_absolute_percentage_error: 59.5366 - r2: 0.7190     \n",
      "Epoch 1/3\n",
      "3/3 [==============================] - 53s - loss: 9.4421e-04 - mean_absolute_percentage_error: 67.3960 - r2: 0.7103     \n",
      "Epoch 2/3\n",
      "3/3 [==============================] - 50s - loss: 9.3156e-04 - mean_absolute_percentage_error: 64.3629 - r2: 0.7146     \n",
      "Epoch 3/3\n",
      "3/3 [==============================] - 52s - loss: 8.6354e-04 - mean_absolute_percentage_error: 65.3515 - r2: 0.7335     \n",
      "Epoch 1/3\n",
      "3/3 [==============================] - 52s - loss: 8.7991e-04 - mean_absolute_percentage_error: 70.1313 - r2: 0.7333     \n",
      "Epoch 2/3\n",
      "3/3 [==============================] - 52s - loss: 9.4584e-04 - mean_absolute_percentage_error: 64.1668 - r2: 0.7104     \n",
      "Epoch 3/3\n",
      "1/3 [=========>....................] - ETA: 33s - loss: 9.2462e-04 - mean_absolute_percentage_error: 71.3530 - r2: 0.7257"
     ]
    }
   ],
   "source": [
    "for i in range(100000):\n",
    "    \n",
    "    history = covnet_jump_sigma.fit_generator(jump_sigma_train_gen, steps_per_epoch = 3, epochs = 3)\n",
    "    histories_covnet_jump_sigma.append(history.history)\n",
    "    predictions_covnet_jump_sigma.append(covnet_jump_sigma.predict(test_set_pred))\n",
    "    covnet_jump_sigma.save(\"./Models/covnet_jump_sigma.h5\")\n",
    "    \n",
    "    np.save(\"histories_covnet_jump_sigma.npy\", histories_covnet_jump_sigma)\n",
    "    np.save(\"predictions_covnet_jump_sigma.npy\", predictions_covnet_jump_sigma)\n",
    "    \n",
    "    if i % 5 == 0:\n",
    "        !cd ..\n",
    "        !git config --global user.email \"rwmmostert@gmail.com\"\n",
    "        !git config --global user.name \"RWMostert\"\n",
    "        !git add --all\n",
    "        !git commit -am \"updated history, predictions and model\"\n",
    "        !git push -u origin master --quiet"
   ]
  },
  {
   "cell_type": "markdown",
   "metadata": {},
   "source": [
    "# Ensembling Network"
   ]
  },
  {
   "cell_type": "code",
   "execution_count": null,
   "metadata": {
    "collapsed": true
   },
   "outputs": [],
   "source": [
    "ff_ensembling = Sequential()\n",
    "ff_ensembling.add(Dense(128, input_dim = 8, activation='relu'))\n",
    "ff_ensembling.add(Dense(256, activation='relu'))\n",
    "ff_ensembling.add(Dense(128, activation='relu'))\n",
    "ff_ensembling.add(Dense(64, activation='relu'))\n",
    "ff_ensembling.add(Dense(32, activation='relu'))\n",
    "ff_ensembling.add(Dense(5))\n",
    "\n",
    "ff_ensembling.compile('adam', 'mean_squared_error', metrics=['mean_absolute_percentage_error', r2])"
   ]
  },
  {
   "cell_type": "code",
   "execution_count": null,
   "metadata": {
    "collapsed": true
   },
   "outputs": [],
   "source": [
    "all_time = 2000\n",
    "paramset_size = 1\n",
    "paths_p_paramset = 1\n",
    "\n",
    "RETURNS_ = []\n",
    "PARAMS_ = []\n",
    "        \n",
    "for i in range(paramset_size):\n",
    "    mp = random_model_params()\n",
    "    mp.all_time = all_time\n",
    "            \n",
    "    for j in range(paths_p_paramset):\n",
    "        PARAMS_.append([mp.all_sigma, mp.gbm_mu, mp.jumps_sigma, mp.jumps_mu, mp.lamda])\n",
    "        RETURNS_.append(geometric_brownian_motion_jump_diffusion_log_returns(mp))\n",
    "        \n",
    "train_data = np.reshape(np.array(RETURNS_), (paramset_size*paths_p_paramset, 40, 50, 1))\n",
    "                \n",
    "predictions = []\n",
    "for return_set in train_data:\n",
    "    output1 = covnet_mo.predict(np.array([return_set]))\n",
    "    output2 = covnet_lambda.predict(np.array([return_set]))\n",
    "    output3 = covnet_jump_mu.predict(np.array([return_set]))\n",
    "    output4 = covnet_jump_sigma.predict(np.array([return_set]))\n",
    "    for output in output1:\n",
    "        predictions.append(output[0][0])\n",
    "    predictions.append(output2[0][0])\n",
    "    predictions.append(output3[0][0])\n",
    "    predictions.append(output4[0][0])\n",
    "        \n",
    "print(predictions)\n",
    "        \n",
    "print(PARAMS_)"
   ]
  },
  {
   "cell_type": "code",
   "execution_count": null,
   "metadata": {
    "collapsed": true
   },
   "outputs": [],
   "source": [
    "def ensemble_batch_generator(all_time = 2000, paramset_size = 32, paths_p_paramset = 5):\n",
    "    while True:\n",
    "        RETURNS_ = []\n",
    "        PARAMS_ = []\n",
    "        \n",
    "        for i in range(paramset_size):\n",
    "            mp = random_model_params()\n",
    "            mp.all_time = all_time\n",
    "            \n",
    "            for j in range(paths_p_paramset):\n",
    "                PARAMS_.append([mp.all_sigma, mp.gbm_mu, mp.jumps_sigma, mp.jumps_mu, mp.lamda])\n",
    "                RETURNS_.append(geometric_brownian_motion_jump_diffusion_log_returns(mp))\n",
    "        \n",
    "        train_data = np.reshape(np.array(RETURNS_), (paramset_size*paths_p_paramset, 40, 50, 1))\n",
    "                \n",
    "        predictionset = []\n",
    "        for return_set in train_data:\n",
    "            prediction = []\n",
    "            output1 = covnet_mo.predict(np.array([return_set]))\n",
    "            output2 = covnet_lambda.predict(np.array([return_set]))\n",
    "            output3 = covnet_jump_mu.predict(np.array([return_set]))\n",
    "            output4 = covnet_jump_sigma.predict(np.array([return_set]))\n",
    "            for output in output1:\n",
    "                prediction.append(output[0][0])\n",
    "            prediction.append(output2[0][0])\n",
    "            prediction.append(output3[0][0])\n",
    "            prediction.append(output4[0][0])\n",
    "            predictionset.append(prediction)\n",
    "        \n",
    "        \n",
    "        yield np.array(predictionset), np.array(PARAMS_)\n",
    "\n",
    "ensemble_batch_gen = ensemble_batch_generator(paramset_size=10, paths_p_paramset=5)"
   ]
  },
  {
   "cell_type": "code",
   "execution_count": null,
   "metadata": {
    "collapsed": true
   },
   "outputs": [],
   "source": [
    "ff_ensembling.load_weights(H5_DIR_ENSEMBLING)"
   ]
  },
  {
   "cell_type": "code",
   "execution_count": null,
   "metadata": {
    "collapsed": true
   },
   "outputs": [],
   "source": [
    "\n",
    "\n",
    "for i in range(150):\n",
    "    ff_ensembling.fit_generator(ensemble_batch_gen, steps_per_epoch = 10, epochs = 1)\n",
    "    ff_ensembling.save_weights(H5_DIR_ENSEMBLING)"
   ]
  },
  {
   "cell_type": "markdown",
   "metadata": {},
   "source": [
    "# Sensitivity Tests"
   ]
  },
  {
   "cell_type": "markdown",
   "metadata": {},
   "source": [
    "### Sensitivity Test: Mu"
   ]
  },
  {
   "cell_type": "code",
   "execution_count": null,
   "metadata": {
    "collapsed": true
   },
   "outputs": [],
   "source": [
    "mu_s = []\n",
    "preds_MEAN = []\n",
    "preds_Lower_16 = []\n",
    "preds_Upper_84 = []\n",
    "\n",
    "\n",
    "preds_SO_MEAN = []\n",
    "preds_SO_Upper_84 = []\n",
    "preds_SO_Lower_16 = []"
   ]
  },
  {
   "cell_type": "code",
   "execution_count": null,
   "metadata": {
    "collapsed": true
   },
   "outputs": [],
   "source": [
    "for j in range(100):\n",
    "    mp = test_set_model_params()\n",
    "    mp.gbm_mu = -1 + float(j)/50\n",
    "    test_set = []\n",
    "    \n",
    "    print(j)\n",
    "    \n",
    "    print(\"GENERATION...\")\n",
    "    test_set_pred = standard_convolutional_test_set(mp=mp)\n",
    "    \n",
    "    \n",
    "    print(\"PREDICTION...\\n\")\n",
    "    predictions_lambda = covnet_lambda.predict(test_set_pred)\n",
    "    predictions_jump_mu = covnet_jump_mu.predict(test_set_pred)\n",
    "    predictions_jump_sigma = covnet_jump_sigma.predict(test_set_pred)\n",
    "    predictions_sigma = covnet_sigma.predict(test_set_pred)\n",
    "    predictions_mu = covnet_mu.predict(test_set_pred)\n",
    "    \n",
    "    predictions_so = [predictions_sigma, predictions_mu, predictions_jump_sigma, predictions_jump_mu, predictions_lambda]\n",
    "    \n",
    "    preds_SO_MEAN.append(np.mean(predictions_so, axis = 1))\n",
    "    preds_SO_Upper_84.append(np.percentile(predictions_so, 84, axis = 1))\n",
    "    preds_SO_Lower_16.append(np.percentile(predictions_so, 16, axis = 1))\n",
    "    \n",
    "    mu_s.append(mp.gbm_mu)\n",
    "    \n",
    "    predictions_elu = covnet_mo_elu.predict(test_set_pred)\n",
    "    \n",
    "    preds_MEAN.append(np.mean(predictions_elu, axis = 1))\n",
    "    preds_Upper_84.append(np.percentile(predictions_elu, 84, axis = 1))\n",
    "    preds_Lower_16.append(np.percentile(predictions_elu, 16, axis = 1))\n",
    "    \n",
    "    print(np.transpose(np.mean(predictions_so, axis = 1)))\n",
    "    print(\"   sigma,       mu,      jump_sigma,   jump_mu,    lambda\")\n",
    "    print(\"    0.1         \"+str(mp.gbm_mu)+\"     0.07              0.05       0.02\")\n",
    "    print(np.transpose(np.mean(predictions_elu, axis = 1)))\n",
    "    \n",
    "np.save(\"./Sensitivity-Test-Results/Sensitivity_Test-covnet_SO-Mu_preds_Upper_84.npy\", preds_SO_Upper_84)\n",
    "np.save(\"./Sensitivity-Test-Results/Sensitivity_Test-covnet_SO-Mu_preds_Lower_16.npy\", preds_SO_Lower_16)\n",
    "np.save(\"./Sensitivity-Test-Results/Sensitivity_Test-covnet_SO-Mu_preds_MEAN.npy\", preds_SO_MEAN)\n",
    "    \n",
    "np.save(\"./Sensitivity-Test-Results/Sensitivity_Test-covnet_MultipleO-Mu_preds_Upper_84.npy\", preds_Upper_84)\n",
    "np.save(\"./Sensitivity-Test-Results/Sensitivity_Test-covnet_MultipleO-Mu_preds_Lower_16.npy\", preds_Lower_16)\n",
    "np.save(\"./Sensitivity-Test-Results/Sensitivity_Test-covnet_MultipleO-Mu_preds_MEAN.npy\", preds_MEAN)\n",
    "    \n",
    "np.save(\"./Sensitivity-Test-Results/Sensitivity_Test-covnet_lambda_Mu_mu_s.npy\", mu_s)"
   ]
  },
  {
   "cell_type": "code",
   "execution_count": null,
   "metadata": {
    "collapsed": true
   },
   "outputs": [],
   "source": [
    "np.save(\"./Sensitivity-Test-Results/Sensitivity_Test-covnet_SO-Mu_preds_Upper_84.npy\", preds_SO_Upper_84)\n",
    "np.save(\"./Sensitivity-Test-Results/Sensitivity_Test-covnet_SO-Mu_preds_Lower_16.npy\", preds_SO_Lower_16)\n",
    "np.save(\"./Sensitivity-Test-Results/Sensitivity_Test-covnet_SO-Mu_preds_MEAN.npy\", preds_SO_MEAN)\n",
    "    \n",
    "np.save(\"./Sensitivity-Test-Results/Sensitivity_Test-covnet_MultipleO-Mu_preds_Upper_84.npy\", preds_Upper_84)\n",
    "np.save(\"./Sensitivity-Test-Results/Sensitivity_Test-covnet_MultipleO-Mu_preds_Lower_16.npy\", preds_Lower_16)\n",
    "np.save(\"./Sensitivity-Test-Results/Sensitivity_Test-covnet_MultipleO-Mu_preds_MEAN.npy\", preds_MEAN)\n",
    "    \n",
    "np.save(\"./Sensitivity-Test-Results/Sensitivity_Test-covnet_lambda_Mu_mu_s.npy\", mu_s)"
   ]
  },
  {
   "cell_type": "code",
   "execution_count": null,
   "metadata": {
    "collapsed": true
   },
   "outputs": [],
   "source": [
    "sigmas = np.array(preds_MEAN)[:,0].reshape(100)\n",
    "sigma_upper_84 = np.array(preds_Upper_84)[:,0].reshape(100)\n",
    "sigma_lower_16 = np.array(preds_Lower_16)[:,0].reshape(100)\n",
    "\n",
    "sigmas_single = np.array(preds_SO_MEAN)[:,0].reshape(100)\n",
    "sigma_upper_84_single = np.array(preds_SO_Upper_84)[:,0].reshape(100)\n",
    "sigma_lower_16_single = np.array(preds_SO_Lower_16)[:,0].reshape(100)"
   ]
  },
  {
   "cell_type": "code",
   "execution_count": null,
   "metadata": {
    "collapsed": true
   },
   "outputs": [],
   "source": [
    "fig = pylab.figure()\n",
    "sns.set_style(\"white\")\n",
    "pylab.plot(mu_s, sigmas, color='r', label=\"predicted value\");\n",
    "pylab.axhline(y=0.1, color='black', linestyle='-', label=\"actual value\")\n",
    "pylab.fill_between(mu_s, sigma_lower_16, sigma_upper_84, color='r', alpha=0.1, edgecolor='none')\n",
    "pylab.xlabel(\"Mu\")\n",
    "pylab.ylabel(\"Sigma\")\n",
    "\n",
    "pylab.legend(bbox_to_anchor=(1, 1), loc=1, borderaxespad=0.)\n",
    "pylab.show();\n",
    "fig.savefig(ROOT_DIR + \"/Images/Output-Sensitivity-Results/ConvolutionalNN-MultipleOutput-ELU/Varying-Mu/\"+\"sigma.png\")"
   ]
  },
  {
   "cell_type": "code",
   "execution_count": null,
   "metadata": {
    "collapsed": true
   },
   "outputs": [],
   "source": [
    "fig = pylab.figure()\n",
    "sns.set_style(\"white\")\n",
    "pylab.plot(mu_s, sigmas_single, color='r', label=\"predicted value\");\n",
    "pylab.axhline(y=0.1, color='black', linestyle='-', label=\"actual value\")\n",
    "pylab.fill_between(mu_s, sigma_lower_16_single, sigma_upper_84_single, color='r', alpha=0.1, edgecolor='none')\n",
    "pylab.xlabel(\"Mu\")\n",
    "pylab.ylabel(\"Sigma\")\n",
    "\n",
    "pylab.legend(bbox_to_anchor=(1, 1), loc=1, borderaxespad=0.)\n",
    "pylab.show();\n",
    "fig.savefig(ROOT_DIR + \"/Images/Output-Sensitivity-Results/ConvolutionalNN-SingleOutput/Varying-Mu/\"+\"sigma.png\")"
   ]
  },
  {
   "cell_type": "code",
   "execution_count": null,
   "metadata": {
    "collapsed": true
   },
   "outputs": [],
   "source": [
    "jump_sigmas = np.array(preds_MEAN)[:,2].reshape(100)\n",
    "jump_sigmas_upper_84 = np.array(preds_Upper_84)[:,2].reshape(100)\n",
    "jump_sigmas_lower_16 = np.array(preds_Lower_16)[:,2].reshape(100)"
   ]
  },
  {
   "cell_type": "code",
   "execution_count": null,
   "metadata": {
    "collapsed": true
   },
   "outputs": [],
   "source": [
    "fig = pylab.figure()\n",
    "pylab.plot(mu_s, jump_sigmas, color='b', label=\"predicted value\");\n",
    "pylab.axhline(y=0.07, color='black', linestyle='-', label=\"actual value\")\n",
    "pylab.fill_between(mu_s, jump_sigmas_lower_16, jump_sigmas_upper_84, color='b', alpha=0.1, edgecolor='none')\n",
    "pylab.xlabel(\"Mu\")\n",
    "pylab.ylabel(\"Jumps Sigma\")\n",
    "\n",
    "pylab.legend(bbox_to_anchor=(1, 1), loc=1, borderaxespad=0.)\n",
    "pylab.show();\n",
    "fig.savefig(ROOT_DIR + \"/Images/Output-Sensitivity-Results/ConvolutionalNN-MultipleOutput-ELU/Varying-Mu/\"+\"Jumps_Sigma.png\")"
   ]
  },
  {
   "cell_type": "code",
   "execution_count": null,
   "metadata": {
    "collapsed": true
   },
   "outputs": [],
   "source": [
    "jump_mus = np.array(preds_MEAN)[:,3].reshape(100)\n",
    "jump_mus_upper_84 = np.array(preds_Upper_84)[:,3].reshape(100)\n",
    "jump_mus_lower_16 = np.array(preds_Lower_16)[:,3].reshape(100)"
   ]
  },
  {
   "cell_type": "code",
   "execution_count": null,
   "metadata": {
    "collapsed": true
   },
   "outputs": [],
   "source": [
    "fig = pylab.figure()\n",
    "pylab.plot(mu_s, jump_mus, color='g', label=\"predicted value\");\n",
    "pylab.axhline(y=0.05, color='black', linestyle='-', label=\"actual value\")\n",
    "pylab.fill_between(mu_s, jump_mus_lower_16, jump_mus_upper_84, color='g', alpha=0.1, edgecolor='none')\n",
    "pylab.xlabel(\"Mu\")\n",
    "pylab.ylabel(\"Jumps Mu\")\n",
    "\n",
    "pylab.legend(bbox_to_anchor=(1, 1), loc=1, borderaxespad=0.)\n",
    "pylab.show();\n",
    "fig.savefig(ROOT_DIR + \"/Images/Output-Sensitivity-Results/ConvolutionalNN-MultipleOutput-ELU/Varying-Mu/\"+\"Jumps_Mu.png\")"
   ]
  },
  {
   "cell_type": "code",
   "execution_count": null,
   "metadata": {
    "collapsed": true
   },
   "outputs": [],
   "source": [
    "lambdas = np.array(preds_MEAN)[:,4].reshape(100)\n",
    "lambdas_upper_84 = np.array(preds_Upper_84)[:,4].reshape(100)\n",
    "lambdas_lower_16 = np.array(preds_Lower_16)[:,4].reshape(100)"
   ]
  },
  {
   "cell_type": "code",
   "execution_count": null,
   "metadata": {
    "collapsed": true
   },
   "outputs": [],
   "source": [
    "fig = pylab.figure()\n",
    "pylab.plot(mu_s, lambdas, color='y', label=\"predicted value\");\n",
    "pylab.axhline(y=0.02, color='black', linestyle='-', label=\"actual value\")\n",
    "pylab.fill_between(mu_s, lambdas_lower_16, lambdas_upper_84, color='y', alpha=0.2, edgecolor='none')\n",
    "pylab.xlabel(\"Mu\")\n",
    "pylab.ylabel(\"Lambda\")\n",
    "\n",
    "pylab.legend(bbox_to_anchor=(1, 1), loc=1, borderaxespad=0.)\n",
    "pylab.show();\n",
    "fig.savefig(ROOT_DIR + \"/Images/Output-Sensitivity-Results/ConvolutionalNN-MultipleOutput-ELU/Varying-Mu/\"+\"Lambda.png\")"
   ]
  },
  {
   "cell_type": "code",
   "execution_count": null,
   "metadata": {
    "collapsed": true
   },
   "outputs": [],
   "source": [
    "mus_ = np.array(preds_MEAN)[:,1].reshape(100)\n",
    "mus_upper_84 = np.array(preds_Upper_84)[:,1].reshape(100)\n",
    "mus_lower_16 = np.array(preds_Lower_16)[:,1].reshape(100)"
   ]
  },
  {
   "cell_type": "code",
   "execution_count": null,
   "metadata": {
    "collapsed": true
   },
   "outputs": [],
   "source": [
    "fig = pylab.figure()\n",
    "pylab.plot(mu_s, mus_-mu_s, color='g', label=\"predicted value\");\n",
    "#pylab.plot(0, mu_s, color='black', alpha = 0.5, label=\"actual value\");\n",
    "pylab.axhline(y=0, color='black', linestyle='-', label=\"actual value\")\n",
    "pylab.fill_between(mu_s, mus_lower_16-mu_s, mus_upper_84-mu_s, color='g', alpha=0.1, edgecolor='none')\n",
    "pylab.xlabel(\"Mu\")\n",
    "pylab.ylabel(\"Prediction Deviation from Mu\")\n",
    "ax = pylab.gca()\n",
    "vals = ax.get_yticks()\n",
    "ax.set_yticklabels(['-'+str(x) for x in vals[vals<0]] + [0] + ['+'+str(x) for x in vals[vals>0]])\n",
    "\n",
    "pylab.legend(bbox_to_anchor=(1, 0.185), loc=1, borderaxespad=0.)\n",
    "pylab.show();\n",
    "fig.savefig(ROOT_DIR + \"/Images/Output-Sensitivity-Results/ConvolutionalNN-MultipleOutput-ELU/Varying-Mu/\"+\"Mu.png\")"
   ]
  },
  {
   "cell_type": "markdown",
   "metadata": {},
   "source": [
    "# Sensitivity Test - Sigma"
   ]
  },
  {
   "cell_type": "code",
   "execution_count": null,
   "metadata": {
    "collapsed": true
   },
   "outputs": [],
   "source": [
    "sigma_s = []\n",
    "\n",
    "preds_MEAN = []\n",
    "preds_Lower_16 = []\n",
    "preds_Upper_84 = []\n",
    "\n",
    "preds_SO_MEAN = []\n",
    "preds_SO_Upper_84 = []\n",
    "preds_SO_Lower_16 = []\n",
    "\n",
    "for j in range(100):\n",
    "    mp = test_set_model_params()\n",
    "    mp.all_sigma = 0.001 + j*(0.2 - 0.001)/100\n",
    "    test_set = []\n",
    "    \n",
    "    print(j)\n",
    "    \n",
    "    print(\"GENERATION...\")\n",
    "    test_set_pred = standard_convolutional_test_set(mp=mp)\n",
    "    \n",
    "    \n",
    "    print(\"PREDICTION...\\n\")\n",
    "    predictions_lambda = covnet_lambda.predict(test_set_pred)\n",
    "    predictions_jump_mu = covnet_jump_mu.predict(test_set_pred)\n",
    "    predictions_jump_sigma = covnet_jump_sigma.predict(test_set_pred)\n",
    "    predictions_sigma = covnet_sigma.predict(test_set_pred)\n",
    "    predictions_mu = covnet_mu.predict(test_set_pred)\n",
    "    \n",
    "    predictions_so = [predictions_sigma, predictions_mu, predictions_jump_sigma, predictions_jump_mu, predictions_lambda]\n",
    "    \n",
    "    preds_SO_MEAN.append(np.mean(predictions_so, axis = 1))\n",
    "    preds_SO_Upper_84.append(np.percentile(predictions_so, 84, axis = 1))\n",
    "    preds_SO_Lower_16.append(np.percentile(predictions_so, 16, axis = 1))\n",
    "    \n",
    "    sigma_s.append(mp.all_sigma)\n",
    "    \n",
    "    predictions_elu = covnet_mo_elu.predict(test_set_pred)\n",
    "    \n",
    "    preds_MEAN.append(np.mean(predictions_elu, axis = 1))\n",
    "    preds_Upper_84.append(np.percentile(predictions_elu, 84, axis = 1))\n",
    "    preds_Lower_16.append(np.percentile(predictions_elu, 16, axis = 1))\n",
    "    \n",
    "    print(np.transpose(np.mean(predictions_so, axis = 1)))\n",
    "    print(\"   sigma,       mu,      jump_sigma,   jump_mu,    lambda\")\n",
    "    print(\"   \"+str(mp.all_sigma)+\"      0.05       0.07              0.05       0.02\")\n",
    "    print(np.transpose(np.mean(predictions_elu, axis = 1)))\n",
    "    \n",
    "np.save(\"./Sensitivity-Test-Results/Sensitivity_Test-Covnet_MO_Sigma_sigma_s.npy\", sigma_s)\n",
    "   \n",
    "np.save(\"./Sensitivity-Test-Results/Sensitivity_Test-covnet_SO-Sigma_preds_Upper_84.npy\", preds_SO_Upper_84)\n",
    "np.save(\"./Sensitivity-Test-Results/Sensitivity_Test-covnet_SO-Sigma_preds_Lower_16.npy\", preds_SO_Lower_16)\n",
    "np.save(\"./Sensitivity-Test-Results/Sensitivity_Test-covnet_SO-Sigma_preds_MEAN.npy\", preds_SO_MEAN)\n",
    "    \n",
    "np.save(\"./Sensitivity-Test-Results/Sensitivity_Test-covnet_MultipleO-Sigma_preds_Upper_84.npy\", preds_Upper_84)\n",
    "np.save(\"./Sensitivity-Test-Results/Sensitivity_Test-covnet_MultipleO-Sigma_preds_Lower_16.npy\", preds_Lower_16)\n",
    "np.save(\"./Sensitivity-Test-Results/Sensitivity_Test-covnet_MultipleO-Sigma_preds_MEAN.npy\", preds_MEAN)"
   ]
  },
  {
   "cell_type": "code",
   "execution_count": null,
   "metadata": {
    "collapsed": true
   },
   "outputs": [],
   "source": [
    "sigma_s = []\n",
    "preds_MEAN = []\n",
    "preds_Lower_16 = []\n",
    "preds_Upper_84 = []\n",
    "\n",
    "for j in range(100):\n",
    "    covnet_mo_elu = covnet_multiple_output_with_ELUs()\n",
    "    covnet_mo_elu.load_weights(H5_DIR_COVNET_MULTIPLE_ELU)\n",
    "    \n",
    "    mp.all_sigma = 0.001 + j*(0.2 - 0.001)/100\n",
    "    test_set = []\n",
    "    \n",
    "    print(j)\n",
    "    \n",
    "    print(\"GENERATION...\")\n",
    "    test_set_pred = standard_convolutional_test_set()\n",
    "    \n",
    "    print(\"PREDICTION...\\n\")\n",
    "    predictions_elu = covnet_mo_elu.predict(test_set_pred)\n",
    "    \n",
    "    print(np.transpose(np.mean(predictions_elu, axis = 1)))\n",
    "    print(\"   sigma,    mu,      jump_sigma,      jump_mu,    lambda\")\n",
    "    print(\"   \"+str(mp.all_sigma)+\"      0.05       0.07              0.05       0.02\")\n",
    "    print(np.mean(predictions_elu, axis = 1)+np.std(predictions_elu, axis = 1))\n",
    "    print(np.percentile(predictions_elu, 84, axis = 1))\n",
    "    preds_MEAN.append(np.mean(predictions_elu, axis = 1))\n",
    "    preds_Upper_84.append(np.percentile(predictions_elu, 84, axis = 1))\n",
    "    preds_Lower_16.append(np.percentile(predictions_elu, 16, axis = 1))\n",
    "    sigma_s.append(mp.all_sigma)\n",
    "    \n",
    "np.save(\"Sensitivity_Test-Covnet_MO_Sigma_sigma_s.npy\", sigma_s)\n",
    "np.save(\"Sensitivity_Test-Covnet_MO_Sigma_preds_MEAN.npy\", preds_MEAN)\n",
    "np.save(\"Sensitivity_Test-Covnet_MO_Sigma_preds_Upper_84.npy\", preds_Upper_84)\n",
    "np.save(\"Sensitivity_Test-Covnet_MO_Sigma_preds_Lower_16.npy\", preds_Lower_16)"
   ]
  },
  {
   "cell_type": "code",
   "execution_count": null,
   "metadata": {
    "collapsed": true
   },
   "outputs": [],
   "source": [
    "sigma_s = np.load(\"Sensitivity_Test-Covnet_MO_Sigma_sigma_s.npy\")\n",
    "preds_MEAN = np.load(\"Sensitivity_Test-Covnet_MO_Sigma_preds_MEAN.npy\")\n",
    "preds_Upper_84 = np.load(\"Sensitivity_Test-Covnet_MO_Sigma_preds_Upper_84.npy\")\n",
    "preds_Lower_16 = np.load(\"Sensitivity_Test-Covnet_MO_Sigma_preds_Lower_16.npy\")"
   ]
  },
  {
   "cell_type": "code",
   "execution_count": null,
   "metadata": {
    "collapsed": true
   },
   "outputs": [],
   "source": [
    "sigmas = np.array(preds_MEAN)[:,0].reshape(100)\n",
    "sigma_upper_84 = np.array(preds_Upper_84)[:,0].reshape(100)\n",
    "sigma_lower_16 = np.array(preds_Lower_16)[:,0].reshape(100)\n",
    "\n",
    "fig = pylab.figure()\n",
    "pylab.plot(sigma_s, sigmas-sigma_s, color='r', label=\"predicted value\");\n",
    "#pylab.plot(sigma_s, sigma_s, color='black', label=\"actual value\");\n",
    "pylab.axhline(y=0, color='black', linestyle='-', label=\"actual value\")\n",
    "pylab.fill_between(sigma_s, sigma_lower_16-sigma_s, sigma_upper_84-sigma_s, color='r', alpha=0.1, edgecolor='none')\n",
    "pylab.xlabel(\"Sigma\")\n",
    "pylab.ylabel(\"Prediction Deviation from Sigma\")\n",
    "ax = pylab.gca()\n",
    "vals = ax.get_yticks()\n",
    "ax.set_yticklabels(['-'+str(x) for x in vals[vals<0]] + [0] + ['+'+str(x) for x in vals[vals>0]])\n",
    "\n",
    "\n",
    "pylab.legend(bbox_to_anchor=(1, 0.185), loc=0, borderaxespad=0.)\n",
    "pylab.show();\n",
    "fig.savefig(ROOT_DIR + \"/Images/Output-Sensitivity-Results/ConvolutionalNN-MultipleOutput-ELU/Varying-Sigma/\"+\"Sigma.png\")"
   ]
  },
  {
   "cell_type": "code",
   "execution_count": null,
   "metadata": {
    "collapsed": true
   },
   "outputs": [],
   "source": [
    "jump_sigmas = np.array(preds_MEAN)[:,2].reshape(100)\n",
    "jump_sigmas_upper_84 = np.array(preds_Upper_84)[:,2].reshape(100)\n",
    "jump_sigmas_lower_16 = np.array(preds_Lower_16)[:,2].reshape(100)\n",
    "\n",
    "fig = pylab.figure()\n",
    "pylab.plot(sigma_s, jump_sigmas, color='b', label=\"predicted value\");\n",
    "pylab.axhline(y=0.07, color='black', linestyle='-', label=\"actual value\")\n",
    "pylab.fill_between(sigma_s, jump_sigmas_lower_16, jump_sigmas_upper_84, color='b', alpha=0.1, edgecolor='none')\n",
    "pylab.xlabel(\"Sigma\")\n",
    "pylab.ylabel(\"Jumps Sigma\")\n",
    "\n",
    "pylab.legend(bbox_to_anchor=(1, 0.185), loc=1, borderaxespad=0.)\n",
    "pylab.show();\n",
    "fig.savefig(ROOT_DIR + \"/Images/Output-Sensitivity-Results/ConvolutionalNN-MultipleOutput-ELU/Varying-Sigma/\"+\"Jumps_Sigma.png\")"
   ]
  },
  {
   "cell_type": "code",
   "execution_count": null,
   "metadata": {
    "collapsed": true
   },
   "outputs": [],
   "source": [
    "jump_mus = np.array(preds_MEAN)[:,3].reshape(100)\n",
    "jump_mus_upper_84 = np.array(preds_Upper_84)[:,3].reshape(100)\n",
    "jump_mus_lower_16 = np.array(preds_Lower_16)[:,3].reshape(100)\n",
    "\n",
    "fig = pylab.figure()\n",
    "pylab.plot(sigma_s, jump_mus, color='g', label=\"predicted value\");\n",
    "pylab.axhline(y=0.05, color='black', linestyle='-', label=\"actual value\")\n",
    "pylab.fill_between(sigma_s, jump_mus_lower_16, jump_mus_upper_84, color='g', alpha=0.1, edgecolor='none')\n",
    "pylab.xlabel(\"Sigma\")\n",
    "pylab.ylabel(\"Jumps Mu\")\n",
    "\n",
    "pylab.legend(bbox_to_anchor=(1, 0.185), loc=1, borderaxespad=0.)\n",
    "pylab.show();\n",
    "fig.savefig(ROOT_DIR + \"/Images/Output-Sensitivity-Results/ConvolutionalNN-MultipleOutput-ELU/Varying-Sigma/\"+\"Jumps_Mu.png\")"
   ]
  },
  {
   "cell_type": "code",
   "execution_count": null,
   "metadata": {
    "collapsed": true
   },
   "outputs": [],
   "source": [
    "lambdas = np.array(preds_MEAN)[:,4].reshape(100)\n",
    "lambdas_upper_84 = np.array(preds_Upper_84)[:,4].reshape(100)\n",
    "lambdas_lower_16 = np.array(preds_Lower_16)[:,4].reshape(100)\n",
    "\n",
    "fig = pylab.figure()\n",
    "pylab.plot(sigma_s, lambdas, color='y', label=\"predicted value\");\n",
    "pylab.axhline(y=0.02, color='black', linestyle='-', label=\"actual value\")\n",
    "pylab.fill_between(sigma_s, lambdas_lower_16, lambdas_upper_84, color='y', alpha=0.2, edgecolor='none')\n",
    "pylab.xlabel(\"Sigma\")\n",
    "pylab.ylabel(\"Lambda\")\n",
    "\n",
    "pylab.legend(bbox_to_anchor=(1, 0.185), loc=1, borderaxespad=0.)\n",
    "pylab.show();\n",
    "fig.savefig(ROOT_DIR + \"/Images/Output-Sensitivity-Results/ConvolutionalNN-MultipleOutput-ELU/Varying-Sigma/\"+\"Lambda.png\")"
   ]
  },
  {
   "cell_type": "code",
   "execution_count": null,
   "metadata": {
    "collapsed": true
   },
   "outputs": [],
   "source": [
    "mus_ = np.array(preds_MEAN)[:,1].reshape(100)\n",
    "mus_upper_84 = np.array(preds_Upper_84)[:,1].reshape(100)\n",
    "mus_lower_16 = np.array(preds_Lower_16)[:,1].reshape(100)\n",
    "\n",
    "fig = pylab.figure()\n",
    "pylab.plot(sigma_s, mus_, color='g', label=\"predicted value\");\n",
    "pylab.axhline(y=0.05, color='black', linestyle='-', label=\"actual value\")\n",
    "pylab.fill_between(sigma_s, mus_lower_16, mus_upper_84, color='g', alpha=0.1, edgecolor='none')\n",
    "pylab.xlabel(\"Sigma\")\n",
    "pylab.ylabel(\"Mu\")\n",
    "\n",
    "pylab.legend(bbox_to_anchor=(0.4085, 1), loc=1, borderaxespad=0.)\n",
    "pylab.show();\n",
    "fig.savefig(ROOT_DIR + \"/Images/Output-Sensitivity-Results/ConvolutionalNN-MultipleOutput-ELU/Varying-Sigma/\"+\"Mu.png\")"
   ]
  },
  {
   "cell_type": "markdown",
   "metadata": {},
   "source": [
    "# Sensitivity Test - Jumps Sigma"
   ]
  },
  {
   "cell_type": "code",
   "execution_count": null,
   "metadata": {
    "collapsed": true
   },
   "outputs": [],
   "source": [
    "jump_sigma_s = []\n",
    "\n",
    "preds_MEAN = []\n",
    "preds_Lower_16 = []\n",
    "preds_Upper_84 = []\n",
    "\n",
    "preds_SO_MEAN = []\n",
    "preds_SO_Upper_84 = []\n",
    "preds_SO_Lower_16 = []\n",
    "\n",
    "for j in range(100):\n",
    "    mp = test_set_model_params()\n",
    "    mp.jumps_sigma = 0.001 + j*(0.2 - 0.001)/100\n",
    "    test_set = []\n",
    "    \n",
    "    print(j)\n",
    "    \n",
    "    print(\"GENERATION...\")\n",
    "    test_set_pred = standard_convolutional_test_set(mp=mp)\n",
    "    \n",
    "    \n",
    "    print(\"PREDICTION...\\n\")\n",
    "    predictions_lambda = covnet_lambda.predict(test_set_pred)\n",
    "    predictions_jump_mu = covnet_jump_mu.predict(test_set_pred)\n",
    "    predictions_jump_sigma = covnet_jump_sigma.predict(test_set_pred)\n",
    "    predictions_sigma = covnet_sigma.predict(test_set_pred)\n",
    "    predictions_mu = covnet_mu.predict(test_set_pred)\n",
    "    \n",
    "    predictions_so = [predictions_sigma, predictions_mu, predictions_jump_sigma, predictions_jump_mu, predictions_lambda]\n",
    "    \n",
    "    preds_SO_MEAN.append(np.mean(predictions_so, axis = 1))\n",
    "    preds_SO_Upper_84.append(np.percentile(predictions_so, 84, axis = 1))\n",
    "    preds_SO_Lower_16.append(np.percentile(predictions_so, 16, axis = 1))\n",
    "    \n",
    "    jump_sigma_s.append(mp.jumps_sigma)\n",
    "    \n",
    "    predictions_elu = covnet_mo_elu.predict(test_set_pred)\n",
    "    \n",
    "    preds_MEAN.append(np.mean(predictions_elu, axis = 1))\n",
    "    preds_Upper_84.append(np.percentile(predictions_elu, 84, axis = 1))\n",
    "    preds_Lower_16.append(np.percentile(predictions_elu, 16, axis = 1))\n",
    "    \n",
    "    print(np.transpose(np.mean(predictions_so, axis = 1)))\n",
    "    print(\"   sigma,       mu,      jump_sigma,   jump_mu,    lambda\")\n",
    "    print(\"   0.1      0.05       \"+str(mp.jumps_sigma)+\"              0.05       0.02\")\n",
    "    print(np.transpose(np.mean(predictions_elu, axis = 1)))\n",
    "    \n",
    "np.save(\"Sensitivity_Test-Covnet_MO_JumpSigma_jumpsigma_s.npy\", jump_sigma_s)\n",
    "   \n",
    "np.save(\"./Sensitivity-Test-Results/Sensitivity_Test-covnet_SO-JumpSigma_preds_Upper_84.npy\", preds_SO_Upper_84)\n",
    "np.save(\"./Sensitivity-Test-Results/Sensitivity_Test-covnet_SO-JumpSigma_preds_Lower_16.npy\", preds_SO_Lower_16)\n",
    "np.save(\"./Sensitivity-Test-Results/Sensitivity_Test-covnet_SO-JumpSigma_preds_MEAN.npy\", preds_SO_MEAN)\n",
    "    \n",
    "np.save(\"./Sensitivity-Test-Results/Sensitivity_Test-covnet_MultipleO-JumpSigma_preds_Upper_84.npy\", preds_Upper_84)\n",
    "np.save(\"./Sensitivity-Test-Results/Sensitivity_Test-covnet_MultipleO-JumpSigma_preds_Lower_16.npy\", preds_Lower_16)\n",
    "np.save(\"./Sensitivity-Test-Results/Sensitivity_Test-covnet_MultipleO-JumpSigma_preds_MEAN.npy\", preds_MEAN)"
   ]
  },
  {
   "cell_type": "code",
   "execution_count": null,
   "metadata": {
    "collapsed": true
   },
   "outputs": [],
   "source": [
    "jump_sigma_s = []\n",
    "preds_MEAN = []\n",
    "preds_Lower_16 = []\n",
    "preds_Upper_84 = []\n",
    "\n",
    "for j in range(100):\n",
    "    covnet_mo_elu = covnet_multiple_output_with_ELUs()\n",
    "    covnet_mo_elu.load_weights(H5_DIR_COVNET_MULTIPLE_ELU)\n",
    "    \n",
    "    mp.jumps_sigma = 0.001 + j*(0.2 - 0.001)/100\n",
    "    test_set = []\n",
    "    \n",
    "    print(str(j) + \" out of \"+str(100))\n",
    "    \n",
    "    print(\"GENERATION...\")\n",
    "    test_set_pred = standard_convolutional_test_set()\n",
    "    \n",
    "    \n",
    "    print(\"PREDICTION...\\n\")\n",
    "    predictions_elu = covnet_mo_elu.predict(test_set_pred)\n",
    "    \n",
    "    print(np.transpose(np.mean(predictions_elu, axis = 1)))\n",
    "    print(\"   sigma,    mu,      jump_sigma,      jump_mu,    lambda\")\n",
    "    print(\"   0.1      0.05       \"+str(mp.jumps_sigma)+\"              0.05       0.02\")\n",
    "    preds_MEAN.append(np.mean(predictions_elu, axis = 1))\n",
    "    jump_sigma_s.append(mp.jumps_sigma)\n",
    "    preds_Upper_84.append(np.percentile(predictions_elu, 84, axis = 1))\n",
    "    preds_Lower_16.append(np.percentile(predictions_elu, 16, axis = 1))\n",
    "    \n",
    "np.save(\"Sensitivity_Test-Covnet_MO_JumpSigma_preds_Upper_84.npy\", preds_Upper_84)\n",
    "np.save(\"Sensitivity_Test-Covnet_MO_JumpSigma_preds_Lower_16.npy\", preds_Lower_16)\n",
    "np.save(\"Sensitivity_Test-Covnet_MO_JumpSigma_jump_sigma_s.npy\", jump_sigma_s)\n",
    "np.save(\"Sensitivity_Test-Covnet_MO_JumpSigma_preds_MEAN.npy\", preds_MEAN)"
   ]
  },
  {
   "cell_type": "code",
   "execution_count": null,
   "metadata": {
    "collapsed": true
   },
   "outputs": [],
   "source": [
    "preds_Upper_84 = np.load(\"Sensitivity_Test-Covnet_MO_JumpSigma_preds_Upper_84.npy\")\n",
    "preds_Lower_16 = np.load(\"Sensitivity_Test-Covnet_MO_JumpSigma_preds_Lower_16.npy\")\n",
    "jump_sigma_s = np.load(\"Sensitivity_Test-Covnet_MO_JumpSigma_jump_sigma_s.npy\")\n",
    "preds_MEAN = np.load(\"Sensitivity_Test-Covnet_MO_JumpSigma_preds_MEAN.npy\")"
   ]
  },
  {
   "cell_type": "code",
   "execution_count": null,
   "metadata": {
    "collapsed": true
   },
   "outputs": [],
   "source": [
    "def sensitivity_plot_w_true_value(x_values, predictions, true_value, upper_confidence_predictions, lower_confidence_predictions, \n",
    "                                  x_name, y_name, line_color = 'b', save_dir = None, legend_anchor = (1,1)):\n",
    "    fig = pylab.figure()\n",
    "    pylab.plot(x_values, predictions, color=line_color, label=\"predicted value\");\n",
    "    pylab.axhline(y=true_value, color='black', linestyle='-', label=\"actual value\")\n",
    "    pylab.fill_between(x_values, mus_lower_16, mus_upper_84, color=line_color, alpha=0.1, edgecolor='none')\n",
    "    pylab.xlabel(x_name)\n",
    "    pylab.ylabel(y_name)\n",
    "\n",
    "    pylab.legend(bbox_to_anchor=legend_anchor, loc=1, borderaxespad=0.)\n",
    "    if save_dir != None:\n",
    "        fig.savefig(save_dir)\n",
    "    \n",
    "    return fig"
   ]
  },
  {
   "cell_type": "code",
   "execution_count": null,
   "metadata": {
    "collapsed": true
   },
   "outputs": [],
   "source": [
    "mus_ = np.array(preds_MEAN)[:,1].reshape(100)\n",
    "mus_upper_84 = np.array(preds_Upper_84)[:,1].reshape(100)\n",
    "mus_lower_16 = np.array(preds_Lower_16)[:,1].reshape(100)\n",
    "save_dir = ROOT_DIR + \"/Images/Output-Sensitivity-Results/ConvolutionalNN-MultipleOutput-ELU/Varying-Jumps_sigma/\"+\"Mu.png\"\n",
    "\n",
    "sensitivity_plot_w_true_value(jump_sigma_s, mus_, test_set_model_params().jumps_sigma, mus_upper_84, mus_lower_16, \n",
    "                              \"Jumps Mu\", \"Mu\", line_color = 'g', save_dir = \"./Mu.png\")"
   ]
  },
  {
   "cell_type": "code",
   "execution_count": null,
   "metadata": {
    "collapsed": true
   },
   "outputs": [],
   "source": [
    "sigmas = np.array(preds_MEAN)[:,0].reshape(100)\n",
    "sigmas_upper_84 = np.array(preds_Upper_84)[:,0].reshape(100)\n",
    "sigmas_lower_16 = np.array(preds_Lower_16)[:,0].reshape(100)\n",
    "\n",
    "fig = pylab.figure()\n",
    "pylab.plot(jump_sigma_s, sigmas, color='r', label=\"predicted value\");\n",
    "pylab.axhline(y=0.1, color='black', linestyle='-', label=\"actual value\")\n",
    "pylab.fill_between(jump_sigma_s, sigmas_lower_16, sigmas_upper_84, color='r', alpha=0.1, edgecolor='none')\n",
    "pylab.xlabel(\"Jumps Sigma\")\n",
    "pylab.ylabel(\"Sigma\")\n",
    "\n",
    "pylab.legend(bbox_to_anchor=(1, 1), loc=0, borderaxespad=0.)\n",
    "pylab.show();\n",
    "fig.savefig(ROOT_DIR + \"/Images/Output-Sensitivity-Results/ConvolutionalNN-MultipleOutput-ELU/Varying-Jumps_sigma/\"+\"Sigma.png\")"
   ]
  },
  {
   "cell_type": "code",
   "execution_count": null,
   "metadata": {
    "collapsed": true
   },
   "outputs": [],
   "source": [
    "jump_sigmas = np.array(preds_MEAN)[:,2].reshape(100)\n",
    "jump_sigmas_upper_84 = np.array(preds_Upper_84)[:,2].reshape(100)\n",
    "jump_sigmas_lower_16 = np.array(preds_Lower_16)[:,2].reshape(100)\n",
    "\n",
    "fig = pylab.figure()\n",
    "pylab.plot(jump_sigma_s, jump_sigmas, color='b', label=\"predicted value\");\n",
    "pylab.plot(jump_sigma_s, jump_sigma_s, color='black', label=\"actual value\");\n",
    "pylab.fill_between(jump_sigma_s, jump_sigmas_lower_16, jump_sigmas_upper_84, color='b', alpha=0.1, edgecolor='none')\n",
    "pylab.xlabel(\"Jumps Sigma\")\n",
    "pylab.ylabel(\"Jumps Sigma\")\n",
    "\n",
    "pylab.legend(bbox_to_anchor=(1, 0.185), loc=1, borderaxespad=0.)\n",
    "pylab.show();\n",
    "fig.savefig(ROOT_DIR + \"/Images/Output-Sensitivity-Results/ConvolutionalNN-MultipleOutput-ELU/Varying-Jumps_sigma/\"+\"Jumps_Sigma.png\")"
   ]
  },
  {
   "cell_type": "code",
   "execution_count": null,
   "metadata": {
    "collapsed": true
   },
   "outputs": [],
   "source": [
    "jump_mus = np.array(preds_MEAN)[:,3].reshape(100)\n",
    "jump_mus_upper_84 = np.array(preds_Upper_84)[:,3].reshape(100)\n",
    "jump_mus_lower_16 = np.array(preds_Lower_16)[:,3].reshape(100)\n",
    "\n",
    "fig = pylab.figure()\n",
    "pylab.plot(jump_sigma_s, jump_mus, color='g', label=\"predicted value\");\n",
    "pylab.axhline(y=0.05, color='black', linestyle='-', label=\"actual value\")\n",
    "pylab.fill_between(jump_sigma_s, jump_mus_lower_16, jump_mus_upper_84, color='g', alpha=0.1, edgecolor='none')\n",
    "pylab.xlabel(\"Jumps Sigma\")\n",
    "pylab.ylabel(\"Jumps Mu\")\n",
    "\n",
    "pylab.legend(bbox_to_anchor=(1, 0.185), loc=1, borderaxespad=0.)\n",
    "pylab.show();\n",
    "fig.savefig(ROOT_DIR + \"/Images/Output-Sensitivity-Results/ConvolutionalNN-MultipleOutput-ELU/Varying-Jumps_sigma/\"+\"Jumps_Mu.png\")"
   ]
  },
  {
   "cell_type": "code",
   "execution_count": null,
   "metadata": {
    "collapsed": true
   },
   "outputs": [],
   "source": [
    "lambdas = np.array(preds_MEAN)[:,4].reshape(100)\n",
    "lambdas_upper_84 = np.array(preds_Upper_84)[:,4].reshape(100)\n",
    "lambdas_lower_16 = np.array(preds_Lower_16)[:,4].reshape(100)\n",
    "\n",
    "fig = pylab.figure()\n",
    "pylab.plot(jump_sigma_s, lambdas, color='y', label=\"predicted value\");\n",
    "pylab.axhline(y=0.02, color='black', linestyle='-', label=\"actual value\")\n",
    "pylab.fill_between(jump_sigma_s, lambdas_lower_16, lambdas_upper_84, color='y', alpha=0.2, edgecolor='none')\n",
    "pylab.xlabel(\"Jumps Sigma\")\n",
    "pylab.ylabel(\"Lambda\")\n",
    "\n",
    "pylab.legend(bbox_to_anchor=(1, 0.185), loc=1, borderaxespad=0.)\n",
    "pylab.show();\n",
    "fig.savefig(ROOT_DIR + \"/Images/Output-Sensitivity-Results/ConvolutionalNN-MultipleOutput-ELU/Varying-Jumps_sigma/\"+\"Lambda.png\")"
   ]
  },
  {
   "cell_type": "markdown",
   "metadata": {},
   "source": [
    "# Sensitivity Test - Jumps Mu"
   ]
  },
  {
   "cell_type": "code",
   "execution_count": null,
   "metadata": {
    "collapsed": true
   },
   "outputs": [],
   "source": [
    "jump_mu_s = []\n",
    "\n",
    "preds_MEAN = []\n",
    "preds_Lower_16 = []\n",
    "preds_Upper_84 = []\n",
    "\n",
    "preds_SO_MEAN = []\n",
    "preds_SO_Upper_84 = []\n",
    "preds_SO_Lower_16 = []\n",
    "\n",
    "for j in range(100):\n",
    "    mp = test_set_model_params()\n",
    "    mp.jumps_mu = -0.5 + j/100\n",
    "    test_set = []\n",
    "    \n",
    "    print(j)\n",
    "    \n",
    "    print(\"GENERATION...\")\n",
    "    test_set_pred = standard_convolutional_test_set(mp=mp)\n",
    "    \n",
    "    \n",
    "    print(\"PREDICTION...\\n\")\n",
    "    predictions_lambda = covnet_lambda.predict(test_set_pred)\n",
    "    predictions_jump_mu = covnet_jump_mu.predict(test_set_pred)\n",
    "    predictions_jump_sigma = covnet_jump_sigma.predict(test_set_pred)\n",
    "    predictions_sigma = covnet_sigma.predict(test_set_pred)\n",
    "    predictions_mu = covnet_mu.predict(test_set_pred)\n",
    "    \n",
    "    predictions_so = [predictions_sigma, predictions_mu, predictions_jump_sigma, predictions_jump_mu, predictions_lambda]\n",
    "    \n",
    "    preds_SO_MEAN.append(np.mean(predictions_so, axis = 1))\n",
    "    preds_SO_Upper_84.append(np.percentile(predictions_so, 84, axis = 1))\n",
    "    preds_SO_Lower_16.append(np.percentile(predictions_so, 16, axis = 1))\n",
    "    \n",
    "    jump_mu_s.append(mp.jumps_mu)\n",
    "    \n",
    "    predictions_elu = covnet_mo_elu.predict(test_set_pred)\n",
    "    \n",
    "    preds_MEAN.append(np.mean(predictions_elu, axis = 1))\n",
    "    preds_Upper_84.append(np.percentile(predictions_elu, 84, axis = 1))\n",
    "    preds_Lower_16.append(np.percentile(predictions_elu, 16, axis = 1))\n",
    "    \n",
    "    print(np.transpose(np.mean(predictions_so, axis = 1)))\n",
    "    print(\"   sigma,       mu,      jump_sigma,   jump_mu,    lambda\")\n",
    "    print(\"   0.1      0.05       0.07              \"+str(mp.jumps_mu)+\"       0.02\")\n",
    "    print(np.transpose(np.mean(predictions_elu, axis = 1)))\n",
    "    \n",
    "np.save(\"Sensitivity_Test-Covnet_MO_JumpMu_jump_mu_s.npy\", jump_mu_s)\n",
    "\n",
    "np.save(\"./Sensitivity-Test-Results/Sensitivity_Test-covnet_SO-JumpMu_preds_Upper_84.npy\", preds_SO_Upper_84)\n",
    "np.save(\"./Sensitivity-Test-Results/Sensitivity_Test-covnet_SO-JumpMu_preds_Lower_16.npy\", preds_SO_Lower_16)\n",
    "np.save(\"./Sensitivity-Test-Results/Sensitivity_Test-covnet_SO-JumpMu_preds_MEAN.npy\", preds_SO_MEAN)\n",
    "    \n",
    "np.save(\"./Sensitivity-Test-Results/Sensitivity_Test-covnet_MultipleO-JumpMu_preds_Upper_84.npy\", preds_Upper_84)\n",
    "np.save(\"./Sensitivity-Test-Results/Sensitivity_Test-covnet_MultipleO-JumpMu_preds_Lower_16.npy\", preds_Lower_16)\n",
    "np.save(\"./Sensitivity-Test-Results/Sensitivity_Test-covnet_MultipleO-JumpMu_preds_MEAN.npy\", preds_MEAN)"
   ]
  },
  {
   "cell_type": "code",
   "execution_count": null,
   "metadata": {
    "collapsed": true
   },
   "outputs": [],
   "source": [
    "jump_mu_s = []\n",
    "preds_MEAN = []\n",
    "preds_Upper_84 = []\n",
    "preds_Lower_16 = []\n",
    "\n",
    "for j in range(100):\n",
    "    covnet_mo_elu = covnet_multiple_output_with_ELUs()\n",
    "    covnet_mo_elu.load_weights(H5_DIR_COVNET_MULTIPLE_ELU)\n",
    "    \n",
    "    mp.jumps_mu = -0.5 + j/100\n",
    "    test_set = []\n",
    "    \n",
    "    print(j)\n",
    "    \n",
    "    print(\"GENERATION...\")\n",
    "    test_set_pred = standard_convolutional_test_set()\n",
    "    \n",
    "    \n",
    "    print(\"PREDICTION...\\n\")\n",
    "    predictions_elu = covnet_mo_elu.predict(test_set_pred)\n",
    "    \n",
    "    print(np.transpose(np.mean(predictions_elu, axis = 1)))\n",
    "    print(\"   sigma,    mu,      jump_sigma,      jump_mu,    lambda\")\n",
    "    print(\"   0.1      0.05       0.07              \"+str(mp.jumps_mu)+\"       0.02\")\n",
    "    preds_MEAN.append(np.mean(predictions_elu, axis = 1))\n",
    "    jump_mu_s.append(mp.jumps_mu)\n",
    "    preds_Upper_84.append(np.percentile(predictions_elu, 84, axis = 1))\n",
    "    preds_Lower_16.append(np.percentile(predictions_elu, 16, axis = 1))\n",
    "    \n",
    "np.save(\"Sensitivity_Test-Covnet_MO_JumpMu_preds_Upper_84.npy\", preds_Upper_84)\n",
    "np.save(\"Sensitivity_Test-Covnet_MO_JumpMu_preds_Lower_16.npy\", preds_Lower_16)\n",
    "    \n",
    "np.save(\"Sensitivity_Test-Covnet_MO_JumpMu_jump_mu_s.npy\", jump_mu_s)\n",
    "np.save(\"Sensitivity_Test-Covnet_MO_JumpMu_preds_MEAN.npy\", preds_MEAN)"
   ]
  },
  {
   "cell_type": "code",
   "execution_count": null,
   "metadata": {
    "collapsed": true
   },
   "outputs": [],
   "source": [
    "preds_Upper_84 = np.load(\"Sensitivity_Test-Covnet_MO_JumpMu_preds_Upper_84.npy\")\n",
    "preds_Lower_16 = np.load(\"Sensitivity_Test-Covnet_MO_JumpMu_preds_Lower_16.npy\")\n",
    "    \n",
    "jump_mu_s = np.load(\"Sensitivity_Test-Covnet_MO_JumpMu_jump_mu_s.npy\")\n",
    "preds_MEAN = np.load(\"Sensitivity_Test-Covnet_MO_JumpMu_preds_MEAN.npy\")"
   ]
  },
  {
   "cell_type": "code",
   "execution_count": null,
   "metadata": {
    "collapsed": true
   },
   "outputs": [],
   "source": [
    "mus_ = np.array(preds_MEAN)[:,1].reshape(100)\n",
    "mus_upper_84 = np.array(preds_Upper_84)[:,1].reshape(100)\n",
    "mus_lower_16 = np.array(preds_Lower_16)[:,1].reshape(100)\n",
    "\n",
    "fig = pylab.figure()\n",
    "pylab.plot(jump_mu_s, mus_, color='g', label=\"predicted value\");\n",
    "pylab.axhline(y=0.05, color='black', linestyle='-', label=\"actual value\")\n",
    "pylab.fill_between(jump_mu_s, mus_lower_16, mus_upper_84, color='g', alpha=0.1, edgecolor='none')\n",
    "pylab.xlabel(\"Jumps Mu\")\n",
    "pylab.ylabel(\"Mu\")\n",
    "pylab.xlim(-0.5, 0.5)\n",
    "\n",
    "pylab.legend(bbox_to_anchor=(1, 0.19), loc=1, borderaxespad=0.)\n",
    "pylab.show();\n",
    "fig.savefig(ROOT_DIR + \"/Images/Output-Sensitivity-Results/ConvolutionalNN-MultipleOutput-ELU/Varying-Jumps_mu/\"+\"Mu.png\")"
   ]
  },
  {
   "cell_type": "code",
   "execution_count": null,
   "metadata": {
    "collapsed": true
   },
   "outputs": [],
   "source": [
    "sigmas = np.array(preds_MEAN)[:,0].reshape(100)\n",
    "sigmas_upper_84 = np.array(preds_Upper_84)[:,0].reshape(100)\n",
    "sigmas_lower_16 = np.array(preds_Lower_16)[:,0].reshape(100)\n",
    "\n",
    "fig = pylab.figure()\n",
    "pylab.plot(jump_mu_s, sigmas, color='r', label=\"predicted value\");\n",
    "pylab.axhline(y=0.1, color='black', linestyle='-', label=\"actual value\")\n",
    "pylab.fill_between(jump_mu_s, sigmas_lower_16, sigmas_upper_84, color='r', alpha=0.1, edgecolor='none')\n",
    "pylab.xlabel(\"Jumps Mu\")\n",
    "pylab.ylabel(\"Sigma\")\n",
    "pylab.xlim(-0.5, 0.5)\n",
    "\n",
    "pylab.legend(bbox_to_anchor=(1, 0.185), loc=0, borderaxespad=0.)\n",
    "pylab.show();\n",
    "fig.savefig(ROOT_DIR + \"/Images/Output-Sensitivity-Results/ConvolutionalNN-MultipleOutput-ELU/Varying-Jumps_mu/\"+\"Sigma.png\")"
   ]
  },
  {
   "cell_type": "code",
   "execution_count": null,
   "metadata": {
    "collapsed": true
   },
   "outputs": [],
   "source": [
    "jump_sigmas = np.array(preds_MEAN)[:,2].reshape(100)\n",
    "jump_sigmas_upper_84 = np.array(preds_Upper_84)[:,2].reshape(100)\n",
    "jump_sigmas_lower_16 = np.array(preds_Lower_16)[:,2].reshape(100)\n",
    "\n",
    "fig = pylab.figure()\n",
    "pylab.plot(jump_mu_s, jump_sigmas, color='b', label=\"predicted value\");\n",
    "pylab.axhline(y=0.07, color='black', linestyle='-', label=\"actual value\")\n",
    "pylab.fill_between(jump_mu_s, jump_sigmas_lower_16, jump_sigmas_upper_84, color='b', alpha=0.1, edgecolor='none')\n",
    "pylab.xlabel(\"Jumps Mu\")\n",
    "pylab.ylabel(\"Jumps Sigma\")\n",
    "pylab.xlim(-0.5, 0.5)\n",
    "\n",
    "pylab.legend(bbox_to_anchor=(1, 1), loc=1, borderaxespad=0.)\n",
    "pylab.show();\n",
    "fig.savefig(ROOT_DIR + \"/Images/Output-Sensitivity-Results/ConvolutionalNN-MultipleOutput-ELU/Varying-Jumps_mu/\"+\"Jumps_Sigma.png\")"
   ]
  },
  {
   "cell_type": "code",
   "execution_count": null,
   "metadata": {
    "collapsed": true
   },
   "outputs": [],
   "source": [
    "jump_mus = np.array(preds_MEAN)[:,3].reshape(100)\n",
    "jump_mus_upper_84 = np.array(preds_Upper_84)[:,3].reshape(100)\n",
    "jump_mus_lower_16 = np.array(preds_Lower_16)[:,3].reshape(100)\n",
    "\n",
    "fig = pylab.figure()\n",
    "pylab.plot(jump_mu_s, jump_mus-jump_mu_s, color='g', label=\"predicted value\");\n",
    "pylab.axhline(y=0, color='black', linestyle='-', label=\"actual value\")\n",
    "\n",
    "#pylab.plot(jump_mu_s, jump_mu_s, color='black', label=\"actual value\");\n",
    "pylab.fill_between(jump_mu_s, jump_mus_lower_16-jump_mu_s, jump_mus_upper_84-jump_mu_s, color='g', alpha=0.1, edgecolor='none')\n",
    "pylab.xlabel(\"Jumps Mu\")\n",
    "pylab.ylabel(\"Prediction Deviation from Jumps Mu\")\n",
    "pylab.xlim(-0.5, 0.5)\n",
    "ax = pylab.gca()\n",
    "vals = ax.get_yticks()\n",
    "ax.set_yticklabels(['-'+str(x) for x in vals[vals<0]] + [0] + ['+'+str(x) for x in vals[vals>0]])\n",
    "\n",
    "\n",
    "pylab.legend(bbox_to_anchor=(1, 0.185), loc=1, borderaxespad=0.)\n",
    "pylab.show();\n",
    "fig.savefig(ROOT_DIR + \"/Images/Output-Sensitivity-Results/ConvolutionalNN-MultipleOutput-ELU/Varying-Jumps_mu/\"+\"Jumps_Mu.png\")"
   ]
  },
  {
   "cell_type": "code",
   "execution_count": null,
   "metadata": {
    "collapsed": true
   },
   "outputs": [],
   "source": [
    "lambdas = np.array(preds_MEAN)[:,4].reshape(100)\n",
    "lambdas_upper_84 = np.array(preds_Upper_84)[:,4].reshape(100)\n",
    "lambdas_lower_16 = np.array(preds_Lower_16)[:,4].reshape(100)\n",
    "\n",
    "fig = pylab.figure()\n",
    "pylab.plot(jump_mu_s, lambdas, color='y', label=\"predicted value\");\n",
    "pylab.axhline(y=0.02, color='black', linestyle='-', label=\"actual value\")\n",
    "pylab.fill_between(jump_mu_s, lambdas_lower_16, lambdas_upper_84, color='y', alpha=0.2, edgecolor='none')\n",
    "pylab.xlabel(\"Jumps Mu\")\n",
    "pylab.ylabel(\"Lambda\")\n",
    "pylab.xlim(-0.5, 0.5)\n",
    "\n",
    "pylab.legend(bbox_to_anchor=(1, 0.185), loc=1, borderaxespad=0.)\n",
    "pylab.show();\n",
    "fig.savefig(ROOT_DIR + \"/Images/Output-Sensitivity-Results/ConvolutionalNN-MultipleOutput-ELU/Varying-Jumps_mu/\"+\"Lambda.png\")"
   ]
  },
  {
   "cell_type": "markdown",
   "metadata": {},
   "source": [
    "# Sensitivity Test - Lambda"
   ]
  },
  {
   "cell_type": "code",
   "execution_count": null,
   "metadata": {
    "collapsed": true
   },
   "outputs": [],
   "source": [
    "jump_lambda_s = []\n",
    "\n",
    "preds_MEAN = []\n",
    "preds_Lower_16 = []\n",
    "preds_Upper_84 = []\n",
    "\n",
    "preds_SO_MEAN = []\n",
    "preds_SO_Upper_84 = []\n",
    "preds_SO_Lower_16 = []\n",
    "\n",
    "for j in range(100):\n",
    "    mp = test_set_model_params()\n",
    "    mp.lamda = 0.0001 + j*(0.025 - 0.0001)/100\n",
    "    test_set = []\n",
    "    \n",
    "    print(j)\n",
    "    \n",
    "    print(\"GENERATION...\")\n",
    "    test_set_pred = standard_convolutional_test_set(mp=mp)\n",
    "    \n",
    "    \n",
    "    print(\"PREDICTION...\\n\")\n",
    "    predictions_lambda = covnet_lambda.predict(test_set_pred)\n",
    "    predictions_jump_mu = covnet_jump_mu.predict(test_set_pred)\n",
    "    predictions_jump_sigma = covnet_jump_sigma.predict(test_set_pred)\n",
    "    predictions_sigma = covnet_sigma.predict(test_set_pred)\n",
    "    predictions_mu = covnet_mu.predict(test_set_pred)\n",
    "    \n",
    "    predictions_so = [predictions_sigma, predictions_mu, predictions_jump_sigma, predictions_jump_mu, predictions_lambda]\n",
    "    \n",
    "    preds_SO_MEAN.append(np.mean(predictions_so, axis = 1))\n",
    "    preds_SO_Upper_84.append(np.percentile(predictions_so, 84, axis = 1))\n",
    "    preds_SO_Lower_16.append(np.percentile(predictions_so, 16, axis = 1))\n",
    "    \n",
    "    jump_mu_s.append(mp.jumps_mu)\n",
    "    \n",
    "    predictions_elu = covnet_mo_elu.predict(test_set_pred)\n",
    "    \n",
    "    preds_MEAN.append(np.mean(predictions_elu, axis = 1))\n",
    "    preds_Upper_84.append(np.percentile(predictions_elu, 84, axis = 1))\n",
    "    preds_Lower_16.append(np.percentile(predictions_elu, 16, axis = 1))\n",
    "    \n",
    "    print(np.transpose(np.mean(predictions_so, axis = 1)))\n",
    "    print(\"   sigma,       mu,      jump_sigma,   jump_mu,    lambda\")\n",
    "    print(\"   0.1      0.05       0.07              0.05       \"+str(mp.lamda))\n",
    "    print(np.transpose(np.mean(predictions_elu, axis = 1)))\n",
    "    \n",
    "np.save(\"Sensitivity_Test-Covnet_MO_Lambda_jump_lambda_s.npy\", jump_lambda_s)\n",
    "\n",
    "\n",
    "np.save(\"./Sensitivity-Test-Results/Sensitivity_Test-covnet_SO-Lambda_preds_Upper_84.npy\", preds_SO_Upper_84)\n",
    "np.save(\"./Sensitivity-Test-Results/Sensitivity_Test-covnet_SO-Lambda_preds_Lower_16.npy\", preds_SO_Lower_16)\n",
    "np.save(\"./Sensitivity-Test-Results/Sensitivity_Test-covnet_SO-Lambda_preds_MEAN.npy\", preds_SO_MEAN)\n",
    "    \n",
    "np.save(\"./Sensitivity-Test-Results/Sensitivity_Test-covnet_MultipleO-Lambda_preds_Upper_84.npy\", preds_Upper_84)\n",
    "np.save(\"./Sensitivity-Test-Results/Sensitivity_Test-covnet_MultipleO-Lambda_preds_Lower_16.npy\", preds_Lower_16)\n",
    "np.save(\"./Sensitivity-Test-Results/Sensitivity_Test-covnet_MultipleO-Lambda_preds_MEAN.npy\", preds_MEAN)"
   ]
  },
  {
   "cell_type": "code",
   "execution_count": null,
   "metadata": {
    "collapsed": true
   },
   "outputs": [],
   "source": [
    "jump_lambda_s = []\n",
    "preds_MEAN = []\n",
    "preds_Upper_84 = []\n",
    "preds_Lower_16 = []\n",
    "\n",
    "for j in range(100):\n",
    "    covnet_mo_elu = covnet_multiple_output_with_ELUs()\n",
    "    covnet_mo_elu.load_weights(H5_DIR_COVNET_MULTIPLE_ELU)\n",
    "    \n",
    "    mp.lamda = 0.0001 + j*(0.025 - 0.0001)/100\n",
    "    test_set = []\n",
    "    \n",
    "    print(j)\n",
    "    \n",
    "    print(\"GENERATION...\")\n",
    "    test_set_pred = standard_convolutional_test_set()\n",
    "    \n",
    "    \n",
    "    print(\"PREDICTION...\\n\")\n",
    "    predictions_elu = covnet_mo_elu.predict(test_set_pred)\n",
    "    \n",
    "    print(np.transpose(np.mean(predictions_elu, axis = 1)))\n",
    "    print(\"   sigma,    mu,      jump_sigma,      jump_mu,    lambda\")\n",
    "    print(\"   0.1      0.05       0.07              0.05       \"+str(mp.lamda))\n",
    "    preds_MEAN.append(np.mean(predictions_elu, axis = 1))\n",
    "    jump_lambda_s.append(mp.lamda)\n",
    "    preds_Upper_84.append(np.percentile(predictions_elu, 84, axis = 1))\n",
    "    preds_Lower_16.append(np.percentile(predictions_elu, 16, axis = 1))\n",
    "    \n",
    "np.save(\"Sensitivity_Test-Covnet_MO_Lambda_preds_Upper_84.npy\", preds_Upper_84)\n",
    "np.save(\"Sensitivity_Test-Covnet_MO_Lambda_preds_Lower_16.npy\", preds_Lower_16)\n",
    "    \n",
    "np.save(\"Sensitivity_Test-Covnet_MO_Lambda_jump_lambda_s.npy\", jump_lambda_s)\n",
    "np.save(\"Sensitivity_Test-Covnet_MO_Lambda_preds_MEAN.npy\", preds_MEAN)"
   ]
  },
  {
   "cell_type": "code",
   "execution_count": null,
   "metadata": {
    "collapsed": true
   },
   "outputs": [],
   "source": [
    "preds_Upper_84 = np.load(\"Sensitivity_Test-Covnet_MO_Lambda_preds_Upper_84.npy\")\n",
    "preds_Lower_16 = np.load(\"Sensitivity_Test-Covnet_MO_Lambda_preds_Lower_16.npy\")\n",
    "    \n",
    "jump_lambda_s = np.load(\"Sensitivity_Test-Covnet_MO_Lambda_jump_lambda_s.npy\")\n",
    "preds_MEAN = np.load(\"Sensitivity_Test-Covnet_MO_Lambda_preds_MEAN.npy\")"
   ]
  },
  {
   "cell_type": "code",
   "execution_count": null,
   "metadata": {
    "collapsed": true
   },
   "outputs": [],
   "source": [
    "mus_ = np.array(preds_MEAN)[:,1].reshape(100)\n",
    "mus_upper_84 = np.array(preds_Upper_84)[:,1].reshape(100)\n",
    "mus_lower_16 = np.array(preds_Lower_16)[:,1].reshape(100)\n",
    "\n",
    "fig = pylab.figure()\n",
    "pylab.plot(jump_lambda_s, mus_, color='g', label=\"predicted value\");\n",
    "pylab.axhline(y=0.05, color='black', linestyle='-', label=\"actual value\")\n",
    "pylab.fill_between(jump_lambda_s, mus_lower_16, mus_upper_84, color='g', alpha=0.1, edgecolor='none')\n",
    "pylab.xlabel(\"Lambda\")\n",
    "pylab.ylabel(\"Mu\")\n",
    "\n",
    "pylab.legend(bbox_to_anchor=(1, 0.19), loc=1, borderaxespad=0.)\n",
    "pylab.show();\n",
    "fig.savefig(ROOT_DIR + \"/Images/Output-Sensitivity-Results/ConvolutionalNN-MultipleOutput-ELU/Varying-Lambda/\"+\"Mu.png\")"
   ]
  },
  {
   "cell_type": "code",
   "execution_count": null,
   "metadata": {
    "collapsed": true
   },
   "outputs": [],
   "source": [
    "sigmas = np.array(preds_MEAN)[:,0].reshape(100)\n",
    "sigmas_upper_84 = np.array(preds_Upper_84)[:,0].reshape(100)\n",
    "sigmas_lower_16 = np.array(preds_Lower_16)[:,0].reshape(100)\n",
    "\n",
    "fig = pylab.figure()\n",
    "pylab.plot(jump_lambda_s, sigmas, color='r', label=\"predicted value\");\n",
    "pylab.axhline(y=0.1, color='black', linestyle='-', label=\"actual value\")\n",
    "pylab.fill_between(jump_lambda_s, sigmas_lower_16, sigmas_upper_84, color='r', alpha=0.1, edgecolor='none')\n",
    "pylab.xlabel(\"Lambda\")\n",
    "pylab.ylabel(\"Sigma\")\n",
    "\n",
    "pylab.legend(bbox_to_anchor=(1, 0.185), loc=0, borderaxespad=0.)\n",
    "pylab.show();\n",
    "fig.savefig(ROOT_DIR + \"/Images/Output-Sensitivity-Results/ConvolutionalNN-MultipleOutput-ELU/Varying-Lambda/\"+\"Sigma.png\")"
   ]
  },
  {
   "cell_type": "code",
   "execution_count": null,
   "metadata": {
    "collapsed": true
   },
   "outputs": [],
   "source": [
    "jump_sigmas = np.array(preds_MEAN)[:,2].reshape(100)\n",
    "jump_sigmas_upper_84 = np.array(preds_Upper_84)[:,2].reshape(100)\n",
    "jump_sigmas_lower_16 = np.array(preds_Lower_16)[:,2].reshape(100)\n",
    "\n",
    "fig = pylab.figure()\n",
    "pylab.plot(jump_lambda_s, jump_sigmas, color='b', label=\"predicted value\");\n",
    "pylab.axhline(y=0.07, color='black', linestyle='-', label=\"actual value\")\n",
    "pylab.fill_between(jump_lambda_s, jump_sigmas_lower_16, jump_sigmas_upper_84, color='b', alpha=0.1, edgecolor='none')\n",
    "pylab.xlabel(\"Lambda\")\n",
    "pylab.ylabel(\"Jumps Sigma\")\n",
    "\n",
    "pylab.legend(bbox_to_anchor=(1, 0.185), loc=1, borderaxespad=0.)\n",
    "pylab.show();\n",
    "fig.savefig(ROOT_DIR + \"/Images/Output-Sensitivity-Results/ConvolutionalNN-MultipleOutput-ELU/Varying-Lambda/\"+\"Jumps_Sigma.png\")"
   ]
  },
  {
   "cell_type": "code",
   "execution_count": null,
   "metadata": {
    "collapsed": true
   },
   "outputs": [],
   "source": [
    "jump_mus = np.array(preds_MEAN)[:,3].reshape(100)\n",
    "jump_mus_upper_84 = np.array(preds_Upper_84)[:,3].reshape(100)\n",
    "jump_mus_lower_16 = np.array(preds_Lower_16)[:,3].reshape(100)\n",
    "\n",
    "fig = pylab.figure()\n",
    "pylab.plot(jump_lambda_s, jump_mus, color='g', label=\"predicted value\");\n",
    "pylab.axhline(y=0.05, color='black', linestyle='-', label=\"actual value\")\n",
    "pylab.fill_between(jump_lambda_s, jump_mus_lower_16, jump_mus_upper_84, color='g', alpha=0.1, edgecolor='none')\n",
    "pylab.xlabel(\"Lambda\")\n",
    "pylab.ylabel(\"Jumps Mu\")\n",
    "\n",
    "pylab.legend(bbox_to_anchor=(1, 0.185), loc=1, borderaxespad=0.)\n",
    "pylab.show();\n",
    "fig.savefig(ROOT_DIR + \"/Images/Output-Sensitivity-Results/ConvolutionalNN-MultipleOutput-ELU/Varying-Lambda/\"+\"Jumps_Mu.png\")"
   ]
  },
  {
   "cell_type": "code",
   "execution_count": null,
   "metadata": {
    "collapsed": true
   },
   "outputs": [],
   "source": [
    "lambdas = np.array(preds_MEAN)[:,4].reshape(100)\n",
    "lambdas_upper_84 = np.array(preds_Upper_84)[:,4].reshape(100)\n",
    "lambdas_lower_16 = np.array(preds_Lower_16)[:,4].reshape(100)\n",
    "\n",
    "fig = pylab.figure()\n",
    "pylab.plot(jump_lambda_s, lambdas, color='y', label=\"predicted value\");\n",
    "pylab.plot(jump_lambda_s, jump_lambda_s, color='black', label=\"actual value\");\n",
    "pylab.fill_between(jump_lambda_s, lambdas_lower_16, lambdas_upper_84, color='y', alpha=0.2, edgecolor='none')\n",
    "pylab.xlabel(\"Lambda\")\n",
    "pylab.ylabel(\"Lambda\")\n",
    "\n",
    "pylab.legend(bbox_to_anchor=(1, 0.185), loc=1, borderaxespad=0.)\n",
    "pylab.show();\n",
    "fig.savefig(ROOT_DIR + \"/Images/Output-Sensitivity-Results/ConvolutionalNN-MultipleOutput-ELU/Varying-Lambda/\"+\"Lambda.png\")"
   ]
  },
  {
   "cell_type": "markdown",
   "metadata": {},
   "source": [
    "# Sensitivity Tests"
   ]
  },
  {
   "cell_type": "markdown",
   "metadata": {},
   "source": [
    "### Sensitivity Test: Mu"
   ]
  },
  {
   "cell_type": "code",
   "execution_count": null,
   "metadata": {
    "collapsed": true
   },
   "outputs": [],
   "source": [
    "mu_s = []\n",
    "preds_MEAN = []\n",
    "preds_Lower_16 = []\n",
    "preds_Upper_84 = []\n",
    "\n",
    "\n",
    "preds_SINGLE_LAMBDA_MEAN = []\n",
    "preds_SINGLE_LAMBDA_Lower_16 = []\n",
    "preds_SINGLE_LAMBDA_Upper_84 = []"
   ]
  },
  {
   "cell_type": "code",
   "execution_count": null,
   "metadata": {
    "collapsed": true
   },
   "outputs": [],
   "source": [
    "for j in range(100):\n",
    "    covnet_lambda = covnet_single_lambda()\n",
    "    covnet_lambda.load_weights(H5_DIR_COVNET_LAMBDA)\n",
    "    \n",
    "    mp.gbm_mu = -1 + float(j)/50\n",
    "    test_set = []\n",
    "    \n",
    "    print(j)\n",
    "    \n",
    "    print(\"GENERATION...\")\n",
    "    test_set_pred = standard_convolutional_test_set()\n",
    "    \n",
    "    \n",
    "    print(\"PREDICTION...\\n\")\n",
    "    predictions_elu = covnet_lambda.predict(test_set_pred)\n",
    "    \n",
    "    #predictions_lambda = covnet_lambda.predict(test_set_pred)\n",
    "    \n",
    "    print(np.transpose(np.mean(predictions_elu, axis = 1)))\n",
    "    print(\"   sigma,       mu,      jump_sigma,   jump_mu,    lambda\")\n",
    "    print(\"    0.1         \"+str(mp.gbm_mu)+\"     0.07              0.05       0.02\")\n",
    "    \n",
    "    preds_MEAN.append(np.mean(predictions_elu, axis = 1))\n",
    "    mu_s.append(mp.gbm_mu)\n",
    "    preds_Upper_84.append(np.percentile(predictions_elu, 84, axis = 1))\n",
    "    preds_Lower_16.append(np.percentile(predictions_elu, 16, axis = 1))\n",
    "    \n",
    "np.save(\"Sensitivity_Test-covnet_lambda_Mu_preds_Upper_84.npy\", preds_Upper_84)\n",
    "np.save(\"Sensitivity_Test-covnet_lambda_Mu_preds_Lower_16.npy\", preds_Lower_16)\n",
    "    \n",
    "np.save(\"Sensitivity_Test-covnet_lambda_Mu_mu_s.npy\", mu_s)\n",
    "np.save(\"Sensitivity_Test-covnet_lambda_Mu_preds_MEAN.npy\", preds_MEAN)\n",
    "\n",
    "#np.save(\"Sensitivity_Test-preds_VaryingMu_SINGLE_LAMBDA_MEAN.npy\", preds_SINGLE_LAMBDA_MEAN)\n",
    "#np.save(\"Sensitivity_Test-preds_VaryingMu_preds_SINGLE_LAMBDA_Lower_16\", preds_SINGLE_LAMBDA_Lower_16)\n",
    "#np.save(\"Sensitivity_Test-preds_VaryingMu_preds_SINGLE_LAMBDA_Upper_84\", preds_SINGLE_LAMBDA_Upper_84)"
   ]
  },
  {
   "cell_type": "code",
   "execution_count": null,
   "metadata": {
    "collapsed": true
   },
   "outputs": [],
   "source": [
    "preds_Upper_84 = np.load(\"Sensitivity_Test-covnet_lambda_Mu_preds_Upper_84.npy\")\n",
    "preds_Lower_16 = np.load(\"Sensitivity_Test-covnet_lambda_Mu_preds_Lower_16.npy\")\n",
    "    \n",
    "mu_s = np.load(\"Sensitivity_Test-covnet_lambda_Mu_mu_s.npy\")\n",
    "preds_MEAN = np.load(\"Sensitivity_Test-covnet_lambda_Mu_preds_MEAN.npy\")"
   ]
  },
  {
   "cell_type": "code",
   "execution_count": null,
   "metadata": {
    "collapsed": true
   },
   "outputs": [],
   "source": [
    "sigmas = np.array(preds_MEAN)[:,0].reshape(100)\n",
    "sigma_upper_84 = np.array(preds_Upper_84)[:,0].reshape(100)\n",
    "sigma_lower_16 = np.array(preds_Lower_16)[:,0].reshape(100)"
   ]
  },
  {
   "cell_type": "code",
   "execution_count": null,
   "metadata": {
    "collapsed": true
   },
   "outputs": [],
   "source": [
    "fig = pylab.figure()\n",
    "pylab.plot(mu_s, sigmas, color='r', label=\"predicted value\");\n",
    "pylab.axhline(y=0.1, color='black', linestyle='-', label=\"actual value\")\n",
    "pylab.fill_between(mu_s, sigma_lower_16, sigma_upper_84, color='r', alpha=0.1, edgecolor='none')\n",
    "pylab.xlabel(\"Mu\")\n",
    "pylab.ylabel(\"Sigma\")\n",
    "\n",
    "pylab.legend(bbox_to_anchor=(1, 1), loc=1, borderaxespad=0.)\n",
    "pylab.show();\n",
    "fig.savefig(ROOT_DIR + \"/Images/Output-Sensitivity-Results/ConvolutionalNN-MultipleOutput-ELU/Varying-Mu/\"+\"sigma.png\")"
   ]
  },
  {
   "cell_type": "code",
   "execution_count": null,
   "metadata": {
    "collapsed": true
   },
   "outputs": [],
   "source": [
    "jump_sigmas = np.array(preds_MEAN)[:,2].reshape(100)\n",
    "jump_sigmas_upper_84 = np.array(preds_Upper_84)[:,2].reshape(100)\n",
    "jump_sigmas_lower_16 = np.array(preds_Lower_16)[:,2].reshape(100)"
   ]
  },
  {
   "cell_type": "code",
   "execution_count": null,
   "metadata": {
    "collapsed": true
   },
   "outputs": [],
   "source": [
    "plt.plot(mu_s, jump_sigmas, color='b', label=\"predicted value\");\n",
    "plt.axhline(y=0.07, color='black', linestyle='-', label=\"actual value\")\n",
    "plt.fill_between(mu_s, jump_sigmas_lower_16, jump_sigmas_upper_84, color='b', alpha=0.1, edgecolor='none')\n",
    "plt.xlabel(\"Mu\")\n",
    "plt.ylabel(\"Jumps Sigma\")\n",
    "\n",
    "plt.legend(bbox_to_anchor=(1, 0.185), loc=1, borderaxespad=0.)\n",
    "plt.show();"
   ]
  },
  {
   "cell_type": "code",
   "execution_count": null,
   "metadata": {
    "collapsed": true
   },
   "outputs": [],
   "source": [
    "jump_mus = np.array(preds_MEAN)[:,3].reshape(100)\n",
    "jump_mus_upper_84 = np.array(preds_Upper_84)[:,3].reshape(100)\n",
    "jump_mus_lower_16 = np.array(preds_Lower_16)[:,3].reshape(100)"
   ]
  },
  {
   "cell_type": "code",
   "execution_count": null,
   "metadata": {
    "collapsed": true
   },
   "outputs": [],
   "source": [
    "plt.plot(mu_s, jump_mus, color='g', label=\"predicted value\");\n",
    "plt.axhline(y=0.05, color='black', linestyle='-', label=\"actual value\")\n",
    "plt.fill_between(mu_s, jump_mus_lower_16, jump_mus_upper_84, color='g', alpha=0.1, edgecolor='none')\n",
    "plt.xlabel(\"Mu\")\n",
    "plt.ylabel(\"Jumps Mu\")\n",
    "\n",
    "plt.legend(bbox_to_anchor=(1, 1), loc=1, borderaxespad=0.)\n",
    "plt.show();"
   ]
  },
  {
   "cell_type": "code",
   "execution_count": null,
   "metadata": {
    "collapsed": true
   },
   "outputs": [],
   "source": [
    "lambdas = np.array(preds_MEAN)[:,0].reshape(100)\n",
    "lambdas_upper_84 = np.array(preds_Upper_84)[:,0].reshape(100)\n",
    "lambdas_lower_16 = np.array(preds_Lower_16)[:,0].reshape(100)"
   ]
  },
  {
   "cell_type": "code",
   "execution_count": null,
   "metadata": {
    "collapsed": true
   },
   "outputs": [],
   "source": [
    "lambdas_upper_84"
   ]
  },
  {
   "cell_type": "code",
   "execution_count": null,
   "metadata": {
    "collapsed": true
   },
   "outputs": [],
   "source": [
    "plt.plot(mu_s, lambdas, color='y', label=\"predicted value\");\n",
    "plt.axhline(y=0.02, color='black', linestyle='-', label=\"actual value\")\n",
    "plt.fill_between(mu_s, lambdas_lower_16, lambdas_upper_84, color='b', alpha=1, edgecolor='none')\n",
    "plt.xlabel(\"Mu\")\n",
    "plt.ylabel(\"Lambda\")\n",
    "\n",
    "plt.legend(bbox_to_anchor=(1, 1), loc=1, borderaxespad=0.)\n",
    "plt.show();"
   ]
  },
  {
   "cell_type": "code",
   "execution_count": null,
   "metadata": {
    "collapsed": true
   },
   "outputs": [],
   "source": [
    "mus_ = np.array(preds_MEAN)[:,1].reshape(100)\n",
    "mus_upper_84 = np.array(preds_Upper_84)[:,1].reshape(100)\n",
    "mus_lower_16 = np.array(preds_Lower_16)[:,1].reshape(100)"
   ]
  },
  {
   "cell_type": "code",
   "execution_count": null,
   "metadata": {
    "collapsed": true
   },
   "outputs": [],
   "source": [
    "plt.plot(mu_s, mus_, color='g', label=\"predicted value\");\n",
    "plt.plot(mu_s, mu_s, color='black', label=\"actual value\");\n",
    "plt.fill_between(mu_s, mus_lower_16, mus_upper_84, color='g', alpha=0.1, edgecolor='none')\n",
    "plt.xlabel(\"Mu\")\n",
    "plt.ylabel(\"Mu\")\n",
    "\n",
    "plt.legend(bbox_to_anchor=(1, 0.185), loc=1, borderaxespad=0.)\n",
    "plt.show();"
   ]
  },
  {
   "cell_type": "markdown",
   "metadata": {},
   "source": [
    "# Sensitivity Test - Sigma"
   ]
  },
  {
   "cell_type": "code",
   "execution_count": null,
   "metadata": {
    "collapsed": true
   },
   "outputs": [],
   "source": [
    "sigma_s = []\n",
    "preds_MEAN = []\n",
    "preds_Lower_16 = []\n",
    "preds_Upper_84 = []\n",
    "\n",
    "for j in range(100):\n",
    "    covnet_lambda = covnet_multiple_output_with_ELUs()\n",
    "    covnet_lambda.load_weights(H5_DIR_COVNET_MULTIPLE_ELU)\n",
    "    \n",
    "    mp.all_sigma = 0.001 + j*(0.2 - 0.001)/100\n",
    "    test_set = []\n",
    "    \n",
    "    print(j)\n",
    "    \n",
    "    print(\"GENERATION...\")\n",
    "    test_set_pred = standard_convolutional_test_set()\n",
    "    \n",
    "    print(\"PREDICTION...\\n\")\n",
    "    predictions_elu = covnet_lambda.predict(test_set_pred)\n",
    "    \n",
    "    print(np.transpose(np.mean(predictions_elu, axis = 1)))\n",
    "    print(\"   sigma,    mu,      jump_sigma,      jump_mu,    lambda\")\n",
    "    print(\"   \"+str(mp.all_sigma)+\"      0.05       0.07              0.05       0.02\")\n",
    "    print(np.mean(predictions_elu, axis = 1)+np.std(predictions_elu, axis = 1))\n",
    "    print(np.percentile(predictions_elu, 84, axis = 1))\n",
    "    preds_MEAN.append(np.mean(predictions_elu, axis = 1))\n",
    "    preds_Upper_84.append(np.percentile(predictions_elu, 84, axis = 1))\n",
    "    preds_Lower_16.append(np.percentile(predictions_elu, 16, axis = 1))\n",
    "    sigma_s.append(mp.all_sigma)\n",
    "    \n",
    "np.save(\"Sensitivity_Test-covnet_lambda_Sigma_sigma_s.npy\", sigma_s)\n",
    "np.save(\"Sensitivity_Test-covnet_lambda_Sigma_preds_MEAN.npy\", preds_MEAN)\n",
    "np.save(\"Sensitivity_Test-covnet_lambda_Sigma_preds_Upper_84.npy\", preds_Upper_84)\n",
    "np.save(\"Sensitivity_Test-covnet_lambda_Sigma_preds_Lower_16.npy\", preds_Lower_16)"
   ]
  },
  {
   "cell_type": "code",
   "execution_count": null,
   "metadata": {
    "collapsed": true
   },
   "outputs": [],
   "source": []
  },
  {
   "cell_type": "code",
   "execution_count": null,
   "metadata": {
    "collapsed": true
   },
   "outputs": [],
   "source": [
    "sigmas = np.array(preds_MEAN)[:,0].reshape(100)\n",
    "sigma_upper_84 = np.array(preds_Upper_84)[:,0].reshape(100)\n",
    "sigma_lower_16 = np.array(preds_Lower_16)[:,0].reshape(100)\n",
    "\n",
    "plt.plot(sigma_s, sigmas, color='r', label=\"predicted value\");\n",
    "plt.plot(sigma_s, sigma_s, color='black', label=\"actual value\");\n",
    "plt.fill_between(sigma_s, sigma_lower_16, sigma_upper_84, color='r', alpha=0.1, edgecolor='none')\n",
    "plt.xlabel(\"Sigma\")\n",
    "plt.ylabel(\"Sigma\")\n",
    "\n",
    "plt.legend(bbox_to_anchor=(1, 0.185), loc=0, borderaxespad=0.)\n",
    "plt.show();"
   ]
  },
  {
   "cell_type": "code",
   "execution_count": null,
   "metadata": {
    "collapsed": true
   },
   "outputs": [],
   "source": [
    "jump_sigmas = np.array(preds_MEAN)[:,2].reshape(100)\n",
    "jump_sigmas_upper_84 = np.array(preds_Upper_84)[:,2].reshape(100)\n",
    "jump_sigmas_lower_16 = np.array(preds_Lower_16)[:,2].reshape(100)\n",
    "\n",
    "plt.plot(sigma_s, jump_sigmas, color='b', label=\"predicted value\");\n",
    "plt.axhline(y=0.07, color='black', linestyle='-', label=\"actual value\")\n",
    "plt.fill_between(sigma_s, jump_sigmas_lower_16, jump_sigmas_upper_84, color='b', alpha=0.1, edgecolor='none')\n",
    "plt.xlabel(\"Sigma\")\n",
    "plt.ylabel(\"Jumps Sigma\")\n",
    "\n",
    "plt.legend(bbox_to_anchor=(1, 0.185), loc=1, borderaxespad=0.)\n",
    "plt.show();"
   ]
  },
  {
   "cell_type": "code",
   "execution_count": null,
   "metadata": {
    "collapsed": true
   },
   "outputs": [],
   "source": [
    "jump_mus = np.array(preds_MEAN)[:,3].reshape(100)\n",
    "jump_mus_upper_84 = np.array(preds_Upper_84)[:,3].reshape(100)\n",
    "jump_mus_lower_16 = np.array(preds_Lower_16)[:,3].reshape(100)\n",
    "\n",
    "plt.plot(sigma_s, jump_mus, color='g', label=\"predicted value\");\n",
    "plt.axhline(y=0.05, color='black', linestyle='-', label=\"actual value\")\n",
    "plt.fill_between(sigma_s, jump_mus_lower_16, jump_mus_upper_84, color='g', alpha=0.1, edgecolor='none')\n",
    "plt.xlabel(\"Sigma\")\n",
    "plt.ylabel(\"Jumps Mu\")\n",
    "\n",
    "plt.legend(bbox_to_anchor=(1, 0.185), loc=1, borderaxespad=0.)\n",
    "plt.show();"
   ]
  },
  {
   "cell_type": "code",
   "execution_count": null,
   "metadata": {
    "collapsed": true
   },
   "outputs": [],
   "source": [
    "lambdas = np.array(preds_MEAN)[:,4].reshape(100)\n",
    "lambdas_upper_84 = np.array(preds_Upper_84)[:,4].reshape(100)\n",
    "lambdas_lower_16 = np.array(preds_Lower_16)[:,4].reshape(100)\n",
    "\n",
    "plt.plot(sigma_s, lambdas, color='y', label=\"predicted value\");\n",
    "plt.axhline(y=0.02, color='black', linestyle='-', label=\"actual value\")\n",
    "plt.fill_between(sigma_s, lambdas_lower_16, lambdas_upper_84, color='y', alpha=0.1, edgecolor='none')\n",
    "plt.xlabel(\"Sigma\")\n",
    "plt.ylabel(\"Lambda\")\n",
    "\n",
    "plt.legend(bbox_to_anchor=(1, 0.185), loc=1, borderaxespad=0.)\n",
    "plt.show();"
   ]
  },
  {
   "cell_type": "code",
   "execution_count": null,
   "metadata": {
    "collapsed": true
   },
   "outputs": [],
   "source": [
    "mus_ = np.array(preds_MEAN)[:,1].reshape(100)\n",
    "mus_upper_84 = np.array(preds_Upper_84)[:,1].reshape(100)\n",
    "mus_lower_16 = np.array(preds_Lower_16)[:,1].reshape(100)\n",
    "\n",
    "plt.plot(sigma_s, mus_, color='g', label=\"predicted value\");\n",
    "plt.axhline(y=0.05, color='black', linestyle='-', label=\"actual value\")\n",
    "plt.fill_between(sigma_s, mus_lower_16, mus_upper_84, color='g', alpha=0.1, edgecolor='none')\n",
    "plt.xlabel(\"Sigma\")\n",
    "plt.ylabel(\"Mu\")\n",
    "\n",
    "plt.legend(bbox_to_anchor=(0.4085, 1), loc=1, borderaxespad=0.)\n",
    "plt.show();"
   ]
  },
  {
   "cell_type": "markdown",
   "metadata": {},
   "source": [
    "# Sensitivity Test - Jumps Sigma"
   ]
  },
  {
   "cell_type": "code",
   "execution_count": null,
   "metadata": {
    "collapsed": true
   },
   "outputs": [],
   "source": [
    "jump_sigma_s = []\n",
    "preds_MEAN = []\n",
    "preds_Lower_16 = []\n",
    "preds_Upper_84 = []\n",
    "\n",
    "for j in range(100):\n",
    "    covnet_lambda = covnet_multiple_output_with_ELUs()\n",
    "    covnet_lambda.load_weights(H5_DIR_COVNET_MULTIPLE_ELU)\n",
    "    \n",
    "    mp.jumps_sigma = 0.001 + j*(0.2 - 0.001)/100\n",
    "    test_set = []\n",
    "    \n",
    "    print(j)\n",
    "    \n",
    "    print(\"GENERATION...\")\n",
    "    test_set_pred = standard_convolutional_test_set()\n",
    "    \n",
    "    \n",
    "    print(\"PREDICTION...\\n\")\n",
    "    predictions_elu = covnet_lambda.predict(test_set_pred)\n",
    "    \n",
    "    print(np.transpose(np.mean(predictions_elu, axis = 1)))\n",
    "    print(\"   sigma,    mu,      jump_sigma,      jump_mu,    lambda\")\n",
    "    print(\"   0.1      0.05       \"+str(mp.jumps_sigma)+\"              0.05       0.02\")\n",
    "    preds_MEAN.append(np.mean(predictions_elu, axis = 1))\n",
    "    jump_sigma_s.append(mp.jumps_sigma)\n",
    "    preds_Upper_84.append(np.percentile(predictions_elu, 84, axis = 1))\n",
    "    preds_Lower_16.append(np.percentile(predictions_elu, 16, axis = 1))\n",
    "    \n",
    "np.save(\"Sensitivity_Test-covnet_lambda_JumpSigma_preds_Upper_84.npy\", preds_Upper_84)\n",
    "np.save(\"Sensitivity_Test-covnet_lambda_JumpSigma_preds_Lower_16.npy\", preds_Lower_16)\n",
    "np.save(\"Sensitivity_Test-covnet_lambda_JumpSigma_jump_sigma_s.npy\", jump_sigma_s)\n",
    "np.save(\"Sensitivity_Test-covnet_lambda_JumpSigma_preds_MEAN.npy\", preds_MEAN)"
   ]
  },
  {
   "cell_type": "code",
   "execution_count": null,
   "metadata": {
    "collapsed": true
   },
   "outputs": [],
   "source": [
    "preds_Upper_84 = np.load(\"Sensitivity_Test-covnet_lambda_JumpSigma_preds_Upper_84.npy\")\n",
    "preds_Lower_16 = np.load(\"Sensitivity_Test-covnet_lambda_JumpSigma_preds_Lower_16.npy\")\n",
    "jump_sigma_s = np.load(\"Sensitivity_Test-covnet_lambda_JumpSigma_jump_sigma_s.npy\")\n",
    "preds_MEAN = np.load(\"Sensitivity_Test-covnet_lambda_JumpSigma_preds_MEAN.npy\")"
   ]
  },
  {
   "cell_type": "code",
   "execution_count": null,
   "metadata": {
    "collapsed": true
   },
   "outputs": [],
   "source": [
    "mus_ = np.array(preds_MEAN)[:,1].reshape(100)\n",
    "mus_upper_84 = np.array(preds_Upper_84)[:,1].reshape(100)\n",
    "mus_lower_16 = np.array(preds_Lower_16)[:,1].reshape(100)\n",
    "\n",
    "plt.plot(jump_sigma_s, mus_, color='g', label=\"predicted value\");\n",
    "plt.axhline(y=0.05, color='black', linestyle='-', label=\"actual value\")\n",
    "plt.fill_between(jump_sigma_s, mus_lower_16, mus_upper_84, color='g', alpha=0.1, edgecolor='none')\n",
    "plt.xlabel(\"Jumps Sigma\")\n",
    "plt.ylabel(\"Mu\")\n",
    "\n",
    "plt.legend(bbox_to_anchor=(1, 0.19), loc=1, borderaxespad=0.)\n",
    "plt.show();"
   ]
  },
  {
   "cell_type": "code",
   "execution_count": null,
   "metadata": {
    "collapsed": true
   },
   "outputs": [],
   "source": [
    "sigmas = np.array(preds_MEAN)[:,0].reshape(100)\n",
    "sigmas_upper_84 = np.array(preds_Upper_84)[:,0].reshape(100)\n",
    "sigmas_lower_16 = np.array(preds_Lower_16)[:,0].reshape(100)\n",
    "\n",
    "plt.plot(jump_sigma_s, sigmas, color='r', label=\"predicted value\");\n",
    "plt.axhline(y=0.1, color='black', linestyle='-', label=\"actual value\")\n",
    "plt.fill_between(jump_sigma_s, sigmas_lower_16, sigmas_upper_84, color='r', alpha=0.1, edgecolor='none')\n",
    "plt.xlabel(\"Jumps Sigma\")\n",
    "plt.ylabel(\"Sigma\")\n",
    "\n",
    "plt.legend(bbox_to_anchor=(1, 0.185), loc=0, borderaxespad=0.)\n",
    "plt.show();"
   ]
  },
  {
   "cell_type": "code",
   "execution_count": null,
   "metadata": {
    "collapsed": true
   },
   "outputs": [],
   "source": [
    "jump_sigmas = np.array(preds_MEAN)[:,2].reshape(100)\n",
    "jump_sigmas_upper_84 = np.array(preds_Upper_84)[:,2].reshape(100)\n",
    "jump_sigmas_lower_16 = np.array(preds_Lower_16)[:,2].reshape(100)\n",
    "\n",
    "plt.plot(jump_sigma_s, jump_sigmas, color='b', label=\"predicted value\");\n",
    "plt.plot(jump_sigma_s, jump_sigma_s, color='black', label=\"actual value\");\n",
    "plt.fill_between(jump_sigma_s, jump_sigmas_lower_16, jump_sigmas_upper_84, color='b', alpha=0.1, edgecolor='none')\n",
    "plt.xlabel(\"Jumps Sigma\")\n",
    "plt.ylabel(\"Jumps Sigma\")\n",
    "\n",
    "plt.legend(bbox_to_anchor=(1, 0.185), loc=1, borderaxespad=0.)\n",
    "plt.show();"
   ]
  },
  {
   "cell_type": "code",
   "execution_count": null,
   "metadata": {
    "collapsed": true
   },
   "outputs": [],
   "source": [
    "jump_mus = np.array(preds_MEAN)[:,3].reshape(100)\n",
    "jump_mus_upper_84 = np.array(preds_Upper_84)[:,3].reshape(100)\n",
    "jump_mus_lower_16 = np.array(preds_Lower_16)[:,3].reshape(100)\n",
    "\n",
    "plt.plot(jump_sigma_s, jump_mus, color='g', label=\"predicted value\");\n",
    "plt.axhline(y=0.05, color='black', linestyle='-', label=\"actual value\")\n",
    "plt.fill_between(jump_sigma_s, jump_mus_lower_16, jump_mus_upper_84, color='g', alpha=0.1, edgecolor='none')\n",
    "plt.xlabel(\"Jumps Sigma\")\n",
    "plt.ylabel(\"Jumps Mu\")\n",
    "\n",
    "plt.legend(bbox_to_anchor=(1, 0.185), loc=1, borderaxespad=0.)\n",
    "plt.show();"
   ]
  },
  {
   "cell_type": "code",
   "execution_count": null,
   "metadata": {
    "collapsed": true
   },
   "outputs": [],
   "source": [
    "lambdas = np.array(preds_MEAN)[:,4].reshape(100)\n",
    "lambdas_upper_84 = np.array(preds_Upper_84)[:,4].reshape(100)\n",
    "lambdas_lower_16 = np.array(preds_Lower_16)[:,4].reshape(100)\n",
    "\n",
    "plt.plot(jump_sigma_s, lambdas, color='y', label=\"predicted value\");\n",
    "plt.axhline(y=0.02, color='black', linestyle='-', label=\"actual value\")\n",
    "plt.fill_between(jump_sigma_s, lambdas_lower_16, lambdas_upper_84, color='y', alpha=0.2, edgecolor='none')\n",
    "plt.xlabel(\"Jumps Sigma\")\n",
    "plt.ylabel(\"Lambda\")\n",
    "\n",
    "plt.legend(bbox_to_anchor=(1, 0.185), loc=1, borderaxespad=0.)\n",
    "plt.show();"
   ]
  },
  {
   "cell_type": "markdown",
   "metadata": {},
   "source": [
    "# Sensitivity Test - Jumps Mu"
   ]
  },
  {
   "cell_type": "code",
   "execution_count": null,
   "metadata": {
    "collapsed": true
   },
   "outputs": [],
   "source": [
    "jump_mu_s = []\n",
    "preds_MEAN = []\n",
    "preds_Upper_84 = []\n",
    "preds_Lower_16 = []\n",
    "\n",
    "for j in range(100):\n",
    "    covnet_lambda = covnet_multiple_output_with_ELUs()\n",
    "    covnet_lambda.load_weights(H5_DIR_COVNET_MULTIPLE_ELU)\n",
    "    \n",
    "    mp.jumps_mu = -0.5 + j/100\n",
    "    test_set = []\n",
    "    \n",
    "    print(j)\n",
    "    \n",
    "    print(\"GENERATION...\")\n",
    "    test_set_pred = standard_convolutional_test_set()\n",
    "    \n",
    "    \n",
    "    print(\"PREDICTION...\\n\")\n",
    "    predictions_elu = covnet_lambda.predict(test_set_pred)\n",
    "    \n",
    "    print(np.transpose(np.mean(predictions_elu, axis = 1)))\n",
    "    print(\"   sigma,    mu,      jump_sigma,      jump_mu,    lambda\")\n",
    "    print(\"   0.1      0.05       0.07              \"+str(mp.jumps_mu)+\"       0.02\")\n",
    "    preds_MEAN.append(np.mean(predictions_elu, axis = 1))\n",
    "    jump_mu_s.append(mp.jumps_mu)\n",
    "    preds_Upper_84.append(np.percentile(predictions_elu, 84, axis = 1))\n",
    "    preds_Lower_16.append(np.percentile(predictions_elu, 16, axis = 1))\n",
    "    \n",
    "np.save(\"Sensitivity_Test-covnet_lambda_JumpMu_preds_Upper_84.npy\", preds_Upper_84)\n",
    "np.save(\"Sensitivity_Test-covnet_lambda_JumpMu_preds_Lower_16.npy\", preds_Lower_16)\n",
    "    \n",
    "np.save(\"Sensitivity_Test-covnet_lambda_JumpMu_jump_mu_s.npy\", jump_mu_s)\n",
    "np.save(\"Sensitivity_Test-covnet_lambda_JumpMu_preds_MEAN.npy\", preds_MEAN)"
   ]
  },
  {
   "cell_type": "code",
   "execution_count": null,
   "metadata": {
    "collapsed": true
   },
   "outputs": [],
   "source": []
  },
  {
   "cell_type": "code",
   "execution_count": null,
   "metadata": {
    "collapsed": true
   },
   "outputs": [],
   "source": [
    "mus_ = np.array(preds_MEAN)[:,1].reshape(100)\n",
    "mus_upper_84 = np.array(preds_Upper_84)[:,1].reshape(100)\n",
    "mus_lower_16 = np.array(preds_Lower_16)[:,1].reshape(100)\n",
    "\n",
    "plt.plot(jump_mu_s, mus_, color='g', label=\"predicted value\");\n",
    "plt.axhline(y=0.05, color='black', linestyle='-', label=\"actual value\")\n",
    "plt.fill_between(jump_mu_s, mus_lower_16, mus_upper_84, color='g', alpha=0.1, edgecolor='none')\n",
    "plt.xlabel(\"Jumps Mu\")\n",
    "plt.ylabel(\"Mu\")\n",
    "\n",
    "plt.legend(bbox_to_anchor=(1, 0.19), loc=1, borderaxespad=0.)\n",
    "plt.show();"
   ]
  },
  {
   "cell_type": "code",
   "execution_count": null,
   "metadata": {
    "collapsed": true
   },
   "outputs": [],
   "source": [
    "sigmas = np.array(preds_MEAN)[:,0].reshape(100)\n",
    "sigmas_upper_84 = np.array(preds_Upper_84)[:,0].reshape(100)\n",
    "sigmas_lower_16 = np.array(preds_Lower_16)[:,0].reshape(100)\n",
    "\n",
    "plt.plot(jump_mu_s, sigmas, color='r', label=\"predicted value\");\n",
    "plt.axhline(y=0.1, color='black', linestyle='-', label=\"actual value\")\n",
    "plt.fill_between(jump_mu_s, sigmas_lower_16, sigmas_upper_84, color='r', alpha=0.1, edgecolor='none')\n",
    "plt.xlabel(\"Jumps Mu\")\n",
    "plt.ylabel(\"Sigma\")\n",
    "\n",
    "plt.legend(bbox_to_anchor=(1, 0.185), loc=0, borderaxespad=0.)\n",
    "plt.show();"
   ]
  },
  {
   "cell_type": "code",
   "execution_count": null,
   "metadata": {
    "collapsed": true
   },
   "outputs": [],
   "source": [
    "jump_sigmas = np.array(preds_MEAN)[:,2].reshape(100)\n",
    "jump_sigmas_upper_84 = np.array(preds_Upper_84)[:,2].reshape(100)\n",
    "jump_sigmas_lower_16 = np.array(preds_Lower_16)[:,2].reshape(100)\n",
    "\n",
    "plt.plot(jump_mu_s, jump_sigmas, color='b', label=\"predicted value\");\n",
    "plt.axhline(y=0.05, color='black', linestyle='-', label=\"actual value\")\n",
    "plt.fill_between(jump_mu_s, jump_sigmas_lower_16, jump_sigmas_upper_84, color='b', alpha=0.1, edgecolor='none')\n",
    "plt.xlabel(\"Jumps Mu\")\n",
    "plt.ylabel(\"Jumps Sigma\")\n",
    "\n",
    "plt.legend(bbox_to_anchor=(1, 0.185), loc=1, borderaxespad=0.)\n",
    "plt.show();"
   ]
  },
  {
   "cell_type": "code",
   "execution_count": null,
   "metadata": {
    "collapsed": true
   },
   "outputs": [],
   "source": [
    "jump_mus = np.array(preds_MEAN)[:,3].reshape(100)\n",
    "jump_mus_upper_84 = np.array(preds_Upper_84)[:,3].reshape(100)\n",
    "jump_mus_lower_16 = np.array(preds_Lower_16)[:,3].reshape(100)\n",
    "\n",
    "plt.plot(jump_mu_s, jump_mus, color='g', label=\"predicted value\");\n",
    "plt.plot(jump_mu_s, jump_mu_s, color='black', label=\"actual value\");\n",
    "plt.fill_between(jump_mu_s, jump_mus_lower_16, jump_mus_upper_84, color='g', alpha=0.1, edgecolor='none')\n",
    "plt.xlabel(\"Jumps Mu\")\n",
    "plt.ylabel(\"Jumps Mu\")\n",
    "\n",
    "plt.legend(bbox_to_anchor=(1, 0.185), loc=1, borderaxespad=0.)\n",
    "plt.show();"
   ]
  },
  {
   "cell_type": "code",
   "execution_count": null,
   "metadata": {
    "collapsed": true
   },
   "outputs": [],
   "source": [
    "lambdas = np.array(preds_MEAN)[:,4].reshape(100)\n",
    "lambdas_upper_84 = np.array(preds_Upper_84)[:,4].reshape(100)\n",
    "lambdas_lower_16 = np.array(preds_Lower_16)[:,4].reshape(100)\n",
    "\n",
    "plt.plot(jump_mu_s, lambdas, color='y', label=\"predicted value\");\n",
    "plt.axhline(y=0.02, color='black', linestyle='-', label=\"actual value\")\n",
    "plt.fill_between(jump_mu_s, lambdas_lower_16, lambdas_upper_84, color='y', alpha=0.2, edgecolor='none')\n",
    "plt.xlabel(\"Jumps Mu\")\n",
    "plt.ylabel(\"Lambda\")\n",
    "\n",
    "plt.legend(bbox_to_anchor=(1, 0.185), loc=1, borderaxespad=0.)\n",
    "plt.show();"
   ]
  },
  {
   "cell_type": "markdown",
   "metadata": {},
   "source": [
    "# Sensitivity Test - Lambda"
   ]
  },
  {
   "cell_type": "code",
   "execution_count": null,
   "metadata": {
    "collapsed": true
   },
   "outputs": [],
   "source": [
    "jump_lambda_s = []\n",
    "preds_MEAN = []\n",
    "preds_Upper_84 = []\n",
    "preds_Lower_16 = []\n",
    "\n",
    "for j in range(100):\n",
    "    covnet_lambda = covnet_multiple_output_with_ELUs()\n",
    "    covnet_lambda.load_weights(H5_DIR_COVNET_MULTIPLE_ELU)\n",
    "    \n",
    "    mp.lamda = 0.0001 + j*(0.025 - 0.0001)/100\n",
    "    test_set = []\n",
    "    \n",
    "    print(j)\n",
    "    \n",
    "    print(\"GENERATION...\")\n",
    "    test_set_pred = standard_convolutional_test_set()\n",
    "    \n",
    "    \n",
    "    print(\"PREDICTION...\\n\")\n",
    "    predictions_elu = covnet_lambda.predict(test_set_pred)\n",
    "    \n",
    "    print(np.transpose(np.mean(predictions_elu, axis = 1)))\n",
    "    print(\"   sigma,    mu,      jump_sigma,      jump_mu,    lambda\")\n",
    "    print(\"   0.1      0.05       0.07              0.05       \"+str(mp.lamda))\n",
    "    preds_MEAN.append(np.mean(predictions_elu, axis = 1))\n",
    "    jump_lambda_s.append(mp.lamda)\n",
    "    preds_Upper_84.append(np.percentile(predictions_elu, 84, axis = 1))\n",
    "    preds_Lower_16.append(np.percentile(predictions_elu, 16, axis = 1))\n",
    "    \n",
    "np.save(\"Sensitivity_Test-covnet_lambda_Lambda_preds_Upper_84.npy\", preds_Upper_84)\n",
    "np.save(\"Sensitivity_Test-covnet_lambda_Lambda_preds_Lower_16.npy\", preds_Lower_16)\n",
    "    \n",
    "np.save(\"Sensitivity_Test-covnet_lambda_Lambda_jump_lambda_s.npy\", jump_lambda_s)\n",
    "np.save(\"Sensitivity_Test-covnet_lambda_Lambda_preds_MEAN.npy\", preds_MEAN)"
   ]
  },
  {
   "cell_type": "code",
   "execution_count": null,
   "metadata": {
    "collapsed": true
   },
   "outputs": [],
   "source": [
    "mus_ = np.array(preds_MEAN)[:,1].reshape(100)\n",
    "mus_upper_84 = np.array(preds_Upper_84)[:,1].reshape(100)\n",
    "mus_lower_16 = np.array(preds_Lower_16)[:,1].reshape(100)\n",
    "\n",
    "plt.plot(jump_lambda_s, mus_, color='g', label=\"predicted value\");\n",
    "plt.axhline(y=0.05, color='black', linestyle='-', label=\"actual value\")\n",
    "plt.fill_between(jump_lambda_s, mus_lower_16, mus_upper_84, color='g', alpha=0.1, edgecolor='none')\n",
    "plt.xlabel(\"Lambda\")\n",
    "plt.ylabel(\"Mu\")\n",
    "\n",
    "plt.legend(bbox_to_anchor=(1, 0.19), loc=1, borderaxespad=0.)\n",
    "plt.show();"
   ]
  },
  {
   "cell_type": "code",
   "execution_count": null,
   "metadata": {
    "collapsed": true
   },
   "outputs": [],
   "source": [
    "sigmas = np.array(preds_MEAN)[:,0].reshape(100)\n",
    "sigmas_upper_84 = np.array(preds_Upper_84)[:,0].reshape(100)\n",
    "sigmas_lower_16 = np.array(preds_Lower_16)[:,0].reshape(100)\n",
    "\n",
    "plt.plot(jump_lambda_s, sigmas, color='r', label=\"predicted value\");\n",
    "plt.axhline(y=0.1, color='black', linestyle='-', label=\"actual value\")\n",
    "plt.fill_between(jump_lambda_s, sigmas_lower_16, sigmas_upper_84, color='r', alpha=0.1, edgecolor='none')\n",
    "plt.xlabel(\"Lambda\")\n",
    "plt.ylabel(\"Sigma\")\n",
    "\n",
    "plt.legend(bbox_to_anchor=(1, 0.185), loc=0, borderaxespad=0.)\n",
    "plt.show();"
   ]
  },
  {
   "cell_type": "code",
   "execution_count": null,
   "metadata": {
    "collapsed": true
   },
   "outputs": [],
   "source": [
    "jump_sigmas = np.array(preds_MEAN)[:,2].reshape(100)\n",
    "jump_sigmas_upper_84 = np.array(preds_Upper_84)[:,2].reshape(100)\n",
    "jump_sigmas_lower_16 = np.array(preds_Lower_16)[:,2].reshape(100)\n",
    "\n",
    "plt.plot(jump_lambda_s, jump_sigmas, color='b', label=\"predicted value\");\n",
    "plt.axhline(y=0.05, color='black', linestyle='-', label=\"actual value\")\n",
    "plt.fill_between(jump_lambda_s, jump_sigmas_lower_16, jump_sigmas_upper_84, color='b', alpha=0.1, edgecolor='none')\n",
    "plt.xlabel(\"Lambda\")\n",
    "plt.ylabel(\"Jumps Sigma\")\n",
    "\n",
    "plt.legend(bbox_to_anchor=(1, 0.185), loc=1, borderaxespad=0.)\n",
    "plt.show();"
   ]
  },
  {
   "cell_type": "code",
   "execution_count": null,
   "metadata": {
    "collapsed": true
   },
   "outputs": [],
   "source": [
    "jump_sigmas = np.array(preds_MEAN)[:,2].reshape(100)\n",
    "jump_sigmas_upper_84 = np.array(preds_Upper_84)[:,2].reshape(100)\n",
    "jump_sigmas_lower_16 = np.array(preds_Lower_16)[:,2].reshape(100)\n",
    "\n",
    "\n",
    "plt.plot(jump_lambda_s, jump_sigmas, color='b', label=\"predicted value\");\n",
    "plt.axhline(y=0.05, color='black', linestyle='-', label=\"actual value\")\n",
    "plt.fill_between(jump_lambda_s, jump_sigmas_lower_16, jump_sigmas_upper_84, color='b', alpha=0.1, edgecolor='none')\n",
    "plt.xlabel(\"Lambda\")\n",
    "plt.ylabel(\"Jumps Sigma\")\n",
    "\n",
    "plt.legend(bbox_to_anchor=(1, 0.185), loc=1, borderaxespad=0.)\n",
    "plt.show();"
   ]
  },
  {
   "cell_type": "code",
   "execution_count": null,
   "metadata": {
    "collapsed": true
   },
   "outputs": [],
   "source": [
    "jump_mus = np.array(preds_MEAN)[:,3].reshape(100)\n",
    "jump_mus_upper_84 = np.array(preds_Upper_84)[:,3].reshape(100)\n",
    "jump_mus_lower_16 = np.array(preds_Lower_16)[:,3].reshape(100)\n",
    "\n",
    "plt.plot(jump_lambda_s, jump_mus, color='g', label=\"predicted value\");\n",
    "plt.axhline(y=0.05, color='black', linestyle='-', label=\"actual value\")\n",
    "plt.fill_between(jump_lambda_s, jump_mus_lower_16, jump_mus_upper_84, color='g', alpha=0.1, edgecolor='none')\n",
    "plt.xlabel(\"Lambda\")\n",
    "plt.ylabel(\"Jumps Mu\")\n",
    "\n",
    "plt.legend(bbox_to_anchor=(1, 0.185), loc=1, borderaxespad=0.)\n",
    "plt.show();"
   ]
  },
  {
   "cell_type": "code",
   "execution_count": null,
   "metadata": {
    "collapsed": true
   },
   "outputs": [],
   "source": [
    "lambdas = np.array(preds_MEAN)[:,4].reshape(100)\n",
    "lambdas_upper_84 = np.array(preds_Upper_84)[:,4].reshape(100)\n",
    "lambdas_lower_16 = np.array(preds_Lower_16)[:,4].reshape(100)\n",
    "\n",
    "plt.plot(jump_lambda_s, lambdas, color='y', label=\"predicted value\");\n",
    "plt.plot(jump_lambda_s, jump_lambda_s, color='black', label=\"actual value\");\n",
    "plt.fill_between(jump_lambda_s, lambdas_lower_16, lambdas_upper_84, color='y', alpha=0.2, edgecolor='none')\n",
    "plt.xlabel(\"Lambda\")\n",
    "plt.ylabel(\"Lambda\")\n",
    "\n",
    "plt.legend(bbox_to_anchor=(1, 0.185), loc=1, borderaxespad=0.)\n",
    "plt.show();"
   ]
  },
  {
   "cell_type": "markdown",
   "metadata": {
    "collapsed": true
   },
   "source": [
    "# Tests"
   ]
  },
  {
   "cell_type": "code",
   "execution_count": null,
   "metadata": {
    "collapsed": true
   },
   "outputs": [],
   "source": [
    "test_set_pred, train_statistics = standard_test_sets()"
   ]
  },
  {
   "cell_type": "code",
   "execution_count": null,
   "metadata": {
    "collapsed": true
   },
   "outputs": [],
   "source": [
    "#predictions = covnet_mo.predict(test_set_pred)\n",
    "predictions_elu = covnet_mo_elu.predict(test_set_pred)"
   ]
  },
  {
   "cell_type": "code",
   "execution_count": null,
   "metadata": {
    "collapsed": true
   },
   "outputs": [],
   "source": [
    "predictions_ff = feedforward.predict(train_statistics)"
   ]
  },
  {
   "cell_type": "code",
   "execution_count": null,
   "metadata": {
    "collapsed": true
   },
   "outputs": [],
   "source": [
    "np.mean(predictions_ff, axis = 1)"
   ]
  },
  {
   "cell_type": "code",
   "execution_count": null,
   "metadata": {
    "collapsed": true
   },
   "outputs": [],
   "source": [
    "np.mean(predictions_elu, axis = 1)"
   ]
  },
  {
   "cell_type": "code",
   "execution_count": null,
   "metadata": {
    "collapsed": true
   },
   "outputs": [],
   "source": [
    "mp = test_set_model_params()\n",
    "print(mp.all_sigma, mp.gbm_mu, mp.jumps_sigma, mp.jumps_mu, mp.lamda)"
   ]
  },
  {
   "cell_type": "code",
   "execution_count": null,
   "metadata": {
    "collapsed": true
   },
   "outputs": [],
   "source": [
    "from PIL import Image"
   ]
  },
  {
   "cell_type": "code",
   "execution_count": null,
   "metadata": {
    "collapsed": true
   },
   "outputs": [],
   "source": [
    "def predictions_hist(predictions, true_value, plot_title = \"model\", param_name = \"param\", min_edge = None, max_edge = None, y_lim = (None, None), bin_size = 0.0025, img_subdir = \"/Images/\", save_to_file = True):\n",
    "    \n",
    "    if min_edge == None:\n",
    "        min_edge = np.min(predictions)\n",
    "    \n",
    "    if max_edge == None:\n",
    "        max_edge = np.max(predictions)\n",
    "    \n",
    "    bin_size = (max_edge-min_edge)/50\n",
    "    N = (max_edge-min_edge)/bin_size; Nplus1 = N + 1\n",
    "    bin_list = np.linspace(min_edge, max_edge, Nplus1)\n",
    "\n",
    "    fig = pylab.figure();\n",
    "    l = pylab.hist(predictions, bins=bin_list);\n",
    "    #pylab.title(plot_title);\n",
    "    pylab.axvline(x = true_value, c='k');\n",
    "    pylab.xlim(min_edge, max_edge);\n",
    "    \n",
    "    if y_lim != (None, None):\n",
    "        pylab.ylim(y_lim[0], y_lim[1])\n",
    "    \n",
    "    fig.set_dpi(120)     # draw the canvas, cache the renderer\n",
    "    \n",
    "    def fig2data ( fig ):\n",
    "        \"\"\"\n",
    "        @brief Convert a Matplotlib figure to a 4D numpy array with RGBA channels and return it\n",
    "        @param fig a matplotlib figure\n",
    "        @return a numpy 3D array of RGBA values\n",
    "        \"\"\"\n",
    "        # draw the renderer\n",
    "        fig.canvas.draw ( )\n",
    "\n",
    "        # Get the RGBA buffer from the figure\n",
    "        w,h = fig.canvas.get_width_height()\n",
    "        buf = numpy.fromstring ( fig.canvas.tostring_argb(), dtype=numpy.uint8 )\n",
    "        buf.shape = ( w, h,4 )\n",
    "\n",
    "        # canvas.tostring_argb give pixmap in ARGB mode. Roll the ALPHA channel to have it in RGBA mode\n",
    "        buf = numpy.roll ( buf, 3, axis = 2 )\n",
    "        return buf\n",
    "\n",
    "    def fig2img ( fig ):\n",
    "        \"\"\"\n",
    "        @brief Convert a Matplotlib figure to a PIL Image in RGBA format and return it\n",
    "        @param fig a matplotlib figure\n",
    "        @return a Python Imaging Library ( PIL ) image\n",
    "        \"\"\"\n",
    "        # put the figure pixmap into a numpy array\n",
    "        buf = fig2data ( fig )\n",
    "        w, h, d = buf.shape\n",
    "        return Image.frombytes( \"RGBA\", ( w ,h ), buf.tostring( ) )\n",
    "    \n",
    "    #width, height = fig.get_size_inches() * fig.get_dpi()\n",
    "    #img = (np.fromstring(fig.canvas.tostring_rgb(), dtype='uint8', sep='')).reshape(fig.canvas.get_width_height()[::-1] + (3,))\n",
    "    \n",
    "    if save_to_file:\n",
    "        fig.savefig(ROOT_DIR + img_subdir + plot_title + \"_\" + param_name + \".png\");\n",
    "    return fig, l"
   ]
  },
  {
   "cell_type": "code",
   "execution_count": null,
   "metadata": {
    "collapsed": true
   },
   "outputs": [],
   "source": [
    "\"\"\"predictions_hist(predictions[0], mp.all_sigma, \n",
    "                 \"Convolutional Architecture - Multiple Output - ReLU\", \n",
    "                 \"Sigma\",\n",
    "                 min_edge = 0.08,\n",
    "                 max_edge = 0.155,\n",
    "                 y_lim = (0, 210),\n",
    "                 img_subdir = \"/Images/Parameter-Prediction-Results/ConvolutionalNN-MultipleOutput-ReLU/\");\n",
    "\"\"\"\n",
    "predictions_hist(predictions_elu[0], mp.all_sigma, \n",
    "                 \"Convolutional Architecture - Multiple Output - ELU\", \n",
    "                 \"Sigma\",\n",
    "                 min_edge = 0.08,\n",
    "                 max_edge = 0.155,\n",
    "                 y_lim = (0, 210),\n",
    "                 img_subdir = \"/Images/Parameter-Prediction-Results/ConvolutionalNN-MultipleOutput-ELU/\");\n",
    "\n",
    "predictions_hist(predictions_ff[0], mp.all_sigma, \n",
    "                 \"Fully Connected Architecture - Multiple Output - ELU\", \n",
    "                 \"Sigma\",\n",
    "                 min_edge = 0.08,\n",
    "                 max_edge = 0.155,\n",
    "                 img_subdir = \"/Images/Parameter-Prediction-Results/FullyConnected-MultipleOutput-ELU/\");"
   ]
  },
  {
   "cell_type": "code",
   "execution_count": null,
   "metadata": {
    "collapsed": true
   },
   "outputs": [],
   "source": [
    "\"\"\"predictions_hist(predictions[1], mp.gbm_mu, \n",
    "                 \"Convolutional Architecture - Multiple Output - ReLU\", \n",
    "                 \"Mu\",\n",
    "                 min_edge = -0.1,\n",
    "                 max_edge = 0.4,\n",
    "                 y_lim = (0, 120),\n",
    "                 img_subdir = \"/Images/Parameter-Prediction-Results/ConvolutionalNN-MultipleOutput-ReLU/\");\n",
    "\"\"\"\n",
    "predictions_hist(predictions_elu[1], mp.gbm_mu, \n",
    "                 \"Convolutional Architecture - Multiple Output - ELU\", \n",
    "                 \"Mu\",\n",
    "                 min_edge = -0.1,\n",
    "                 max_edge = 0.4,\n",
    "                 y_lim = (0, 120),\n",
    "                 img_subdir = \"/Images/Parameter-Prediction-Results/ConvolutionalNN-MultipleOutput-ELU/\");\n",
    "\n",
    "predictions_hist(predictions_ff[1], mp.gbm_mu, \n",
    "                 \"Fully Connected Architecture - Multiple Output - ELU\", \n",
    "                 \"Mu\",\n",
    "                 min_edge = -0.1,\n",
    "                 max_edge = 0.4,\n",
    "                 y_lim = (0, 120),\n",
    "                 img_subdir = \"/Images/Parameter-Prediction-Results/FullyConnected-MultipleOutput-ELU/\");"
   ]
  },
  {
   "cell_type": "code",
   "execution_count": null,
   "metadata": {
    "collapsed": true
   },
   "outputs": [],
   "source": [
    "\"\"\"predictions_hist(predictions[2], mp.jumps_sigma, \n",
    "                 \"Convolutional Architecture - Multiple Output - ReLU\", \n",
    "                 \"Jumps Sigma\",\n",
    "                 min_edge = 0.02,\n",
    "                 max_edge = 0.13,\n",
    "                 y_lim = (0, 80),\n",
    "                 img_subdir = \"/Images/Parameter-Prediction-Results/ConvolutionalNN-MultipleOutput-ReLU/\");\n",
    "\"\"\"\n",
    "predictions_hist(predictions_elu[2], mp.jumps_sigma, \n",
    "                 \"Convolutional Architecture - Multiple Output - ELU\", \n",
    "                 \"Jumps Sigma\",\n",
    "                 min_edge = 0.02,\n",
    "                 max_edge = 0.13,\n",
    "                 y_lim = (0, 80),\n",
    "                 img_subdir = \"/Images/Parameter-Prediction-Results/ConvolutionalNN-MultipleOutput-ELU/\");\n",
    "\n",
    "\"\"\"predictions_hist(predictions_ff[2], mp.jumps_sigma, \n",
    "                 \"Fully Connected Architecture - Multiple Output - ELU\", \n",
    "                 \"Jumps Sigma\",\n",
    "                 min_edge = 0.02,\n",
    "                 max_edge = 0.13,\n",
    "                 img_subdir = \"/Images/Parameter-Prediction-Results/FullyConnected-MultipleOutput-ELU/\");\"\"\"\n",
    "\n",
    "preds_so = covnet_jump_sigma.predict(test_set_pred)\n",
    "predictions_hist(preds_so, mp.jumps_sigma, \n",
    "                 \"Convolutional Architecture - Multiple Output - ELU\", \n",
    "                 \"Jumps Sigma\",\n",
    "                 min_edge = 0.02,\n",
    "                 max_edge = 0.13,\n",
    "                 y_lim = (0, 80),\n",
    "                 img_subdir = \"/Images/Parameter-Prediction-Results/ConvolutionalNN-MultipleOutput-ELU/\");"
   ]
  },
  {
   "cell_type": "code",
   "execution_count": null,
   "metadata": {
    "collapsed": true
   },
   "outputs": [],
   "source": [
    "\"\"\"predictions_hist(predictions[3], mp.jumps_mu, \n",
    "                 \"Convolutional Architecture - Multiple Output - ReLU\", \n",
    "                 \"Jumps Mu\",\n",
    "                 min_edge = -0.1,\n",
    "                 max_edge = 0.15,\n",
    "                 y_lim = (0, 120),\n",
    "                 img_subdir = \"/Images/Parameter-Prediction-Results/ConvolutionalNN-MultipleOutput-ReLU/\");\n",
    "\"\"\"\n",
    "predictions_hist(predictions_elu[3], mp.jumps_mu, \n",
    "                 \"Convolutional Architecture - Multiple Output - ELU\", \n",
    "                 \"Jumps Mu\",\n",
    "                 min_edge = -0.1,\n",
    "                 max_edge = 0.15,\n",
    "                 y_lim = (0, 120),\n",
    "                 img_subdir = \"/Images/Parameter-Prediction-Results/ConvolutionalNN-MultipleOutput-ELU/\");\n",
    "\n",
    "predictions_hist(predictions_so, mp.jumps_mu, \n",
    "                 \"Convolutional Architecture - Single Output - ELU\", \n",
    "                 \"Jumps Mu\",\n",
    "                 min_edge = -0.1,\n",
    "                 max_edge = 0.15,\n",
    "                 y_lim = (0, 120),\n",
    "                 img_subdir = \"/Images/Parameter-Prediction-Results/ConvolutionalNN-SingleOutput/\");\n",
    "\n",
    "predictions_hist(predictions_ff[3], mp.jumps_mu, \n",
    "                 \"Fully Connected Architecture - Multiple Output - ELU\", \n",
    "                 \"Jumps Mu\",\n",
    "                 min_edge = -0.1,\n",
    "                 max_edge = 0.15,\n",
    "                 y_lim = (0, 120),\n",
    "                 img_subdir = \"/Images/Parameter-Prediction-Results/FullyConnected-MultipleOutput-ELU/\");"
   ]
  },
  {
   "cell_type": "code",
   "execution_count": null,
   "metadata": {
    "collapsed": true
   },
   "outputs": [],
   "source": [
    "predictions_so = covnet_jump_mu.predict(test_set_pred)"
   ]
  },
  {
   "cell_type": "code",
   "execution_count": null,
   "metadata": {
    "collapsed": true
   },
   "outputs": [],
   "source": [
    "predictions_so"
   ]
  },
  {
   "cell_type": "code",
   "execution_count": null,
   "metadata": {
    "collapsed": true
   },
   "outputs": [],
   "source": [
    "predictions_hist(np.reshape(predictions_so, len(predictions_so)), mp.jumps_mu, \n",
    "                 \"Fully Connected Architecture - Multiple Output - ELU\", \n",
    "                 \"Jumps Mu\",\n",
    "                 min_edge = -0.1,\n",
    "                 max_edge = 0.15,\n",
    "                 y_lim = (0, 120),\n",
    "                 img_subdir = \"/Images/Parameter-Prediction-Results/FullyConnected-MultipleOutput-ELU/\");\n"
   ]
  },
  {
   "cell_type": "code",
   "execution_count": null,
   "metadata": {
    "collapsed": true
   },
   "outputs": [],
   "source": [
    "single_param_predictions_lambda = covnet_lambda.predict(test_set_pred)"
   ]
  },
  {
   "cell_type": "code",
   "execution_count": null,
   "metadata": {
    "collapsed": true
   },
   "outputs": [],
   "source": [
    "\"\"\"predictions_hist(predictions[4], mp.lamda, \n",
    "                 \"Convolutional Architecture - Multiple Output - ReLU\", \n",
    "                 \"Lambda\",\n",
    "                 min_edge = 0.004,\n",
    "                 max_edge = 0.025,\n",
    "                 y_lim = (0, 100),\n",
    "                 img_subdir = \"/Images/Parameter-Prediction-Results/ConvolutionalNN-MultipleOutput-ReLU/\");\n",
    "\"\"\"\n",
    "\n",
    "predictions_hist(predictions_elu[4], mp.lamda, \n",
    "                 \"Convolutional Architecture - Multiple Output - ELU\", \n",
    "                 \"Lambda\",\n",
    "                 min_edge = 0.004,\n",
    "                 max_edge = 0.025,\n",
    "                 y_lim = (0, 100),\n",
    "                 img_subdir = \"/Images/Parameter-Prediction-Results/ConvolutionalNN-MultipleOutput-ELU/\");\n",
    "\n",
    "predictions_hist(predictions_ff[4], mp.lamda, \n",
    "                 \"Fully Connected Architecture - Multiple Output - ELU\", \n",
    "                 \"Lambda\",\n",
    "                 min_edge = 0.004,\n",
    "                 max_edge = 0.025,\n",
    "                 img_subdir = \"/Images/Parameter-Prediction-Results/FullyConnected-MultipleOutput-ELU/\");\n",
    "\n",
    "predictions_hist(single_param_predictions_lambda, mp.lamda, \n",
    "                 \"Convolutional Architecture - Single Output - ELU\", \n",
    "                 \"Lambda\",\n",
    "                 min_edge = 0.004,\n",
    "                 max_edge = 0.025,\n",
    "                 img_subdir = \"/Images/Parameter-Prediction-Results/ConvolutionalNN-SingleOutput/\");"
   ]
  },
  {
   "cell_type": "code",
   "execution_count": null,
   "metadata": {
    "collapsed": true
   },
   "outputs": [],
   "source": [
    "predictionset = []\n",
    "for return_set in test_set:\n",
    "    prediction = []\n",
    "    output1 = covnet_mo.predict(np.array([return_set]))\n",
    "    output2 = covnet_lambda.predict(np.array([return_set]))\n",
    "    output3 = covnet_jump_mu.predict(np.array([return_set]))\n",
    "    output4 = covnet_jump_sigma.predict(np.array([return_set]))\n",
    "    for output in output1:\n",
    "        prediction.append(output[0][0])\n",
    "    prediction.append(output2[0][0])\n",
    "    prediction.append(output3[0][0])\n",
    "    prediction.append(output4[0][0])\n",
    "    predictionset.append(prediction)\n",
    "        "
   ]
  },
  {
   "cell_type": "code",
   "execution_count": null,
   "metadata": {
    "collapsed": true
   },
   "outputs": [],
   "source": [
    "preds = ff_ensembling.predict(np.array(predictionset))\n",
    "np.transpose(preds)[4]"
   ]
  },
  {
   "cell_type": "code",
   "execution_count": null,
   "metadata": {
    "collapsed": true
   },
   "outputs": [],
   "source": [
    "lambdas = np.transpose(preds)[4]\n",
    "\n",
    "bin_size = 0.0005; min_edge = np.min(lambdas)-0.003; max_edge = np.max(lambdas)\n",
    "N = (max_edge-min_edge)/bin_size; Nplus1 = N + 1\n",
    "bin_list = np.linspace(min_edge, max_edge, Nplus1)\n",
    "\n",
    "plt.hist(lambdas, bins=bin_list);\n",
    "plt.title(\"Single Output:  Lambda with true value = \"+str(mp.lamda));\n",
    "plt.axvline(x=mp.lamda, c='k')\n",
    "plt.show();"
   ]
  },
  {
   "cell_type": "code",
   "execution_count": null,
   "metadata": {
    "collapsed": true
   },
   "outputs": [],
   "source": [
    "jump_mus = np.transpose(preds)[3]\n",
    "\n",
    "bin_size = 0.0025; min_edge = np.min(jump_mus)-0.03; max_edge = np.max(jump_mus)\n",
    "N = (max_edge-min_edge)/bin_size; Nplus1 = N + 1\n",
    "bin_list = np.linspace(min_edge, max_edge, Nplus1)\n",
    "\n",
    "plt.hist(jump_mus, bins=bin_list);\n",
    "plt.axvline(x=mp.jumps_mu, c='k')\n",
    "plt.title(\"Multiple Output: Mu_jumps with true value = \"+str(mp.jumps_mu));\n",
    "plt.show();"
   ]
  },
  {
   "cell_type": "code",
   "execution_count": null,
   "metadata": {
    "collapsed": true
   },
   "outputs": [],
   "source": [
    "jump_sigmas = np.transpose(preds)[2]\n",
    "\n",
    "bin_size = 0.0025; min_edge = np.min(jump_sigmas)-0.025; max_edge = np.max(jump_sigmas)\n",
    "N = (max_edge-min_edge)/bin_size; Nplus1 = N + 1\n",
    "bin_list = np.linspace(min_edge, max_edge, Nplus1)\n",
    "\n",
    "plt.hist(jump_sigmas, bins=bin_list);\n",
    "plt.title(\"Multiple Output: Sigma_jumps with true value = \"+str(mp.jumps_sigma));\n",
    "plt.axvline(x=mp.jumps_sigma, c='k')\n",
    "plt.show();"
   ]
  },
  {
   "cell_type": "code",
   "execution_count": null,
   "metadata": {
    "collapsed": true
   },
   "outputs": [],
   "source": [
    "preds"
   ]
  },
  {
   "cell_type": "code",
   "execution_count": null,
   "metadata": {
    "collapsed": true
   },
   "outputs": [],
   "source": [
    "random_seed = System.currentTimeMillis()\n",
    "print(random_seed)"
   ]
  },
  {
   "cell_type": "code",
   "execution_count": null,
   "metadata": {
    "collapsed": true
   },
   "outputs": [],
   "source": [
    "mp = random_model_params()\n",
    "mp.gbm_mu = 0.1\n",
    "mp.all_sigma = 0.1\n",
    "mp.lamda = 0.02\n",
    "mp.jumps_mu = 0.1\n",
    "mp.jumps_sigma = 0.05\n",
    "\n",
    "nrand.seed(random_seed)\n",
    "random.seed(random_seed)\n",
    "RETURNS_ = np.exp(geometric_brownian_motion_jump_diffusion_log_returns(mp))"
   ]
  },
  {
   "cell_type": "code",
   "execution_count": null,
   "metadata": {
    "collapsed": true
   },
   "outputs": [],
   "source": [
    "path1 = [1]\n",
    "for i in range(len(RETURNS_)):\n",
    "    path1.append(path1[i]*RETURNS_[i])"
   ]
  },
  {
   "cell_type": "code",
   "execution_count": null,
   "metadata": {
    "collapsed": true
   },
   "outputs": [],
   "source": [
    "nrand.seed(random_seed)\n",
    "random.seed(random_seed)\n",
    "return_set = np.reshape(np.array(geometric_brownian_motion_jump_diffusion_log_returns(mp)), (40, 50, 1))\n",
    "\n",
    "output1 = covnet_mo.predict(np.array([return_set]))\n",
    "output2 = covnet_lambda.predict(np.array([return_set]))\n",
    "output3 = covnet_jump_mu.predict(np.array([return_set]))\n",
    "output4 = covnet_jump_sigma.predict(np.array([return_set]))\n",
    "prediction = []\n",
    "\n",
    "for output in output1:\n",
    "    prediction.append(output[0][0])\n",
    "prediction.append(output2[0][0])\n",
    "prediction.append(output3[0][0])\n",
    "prediction.append(output4[0][0])    "
   ]
  },
  {
   "cell_type": "code",
   "execution_count": null,
   "metadata": {
    "collapsed": true
   },
   "outputs": [],
   "source": []
  },
  {
   "cell_type": "code",
   "execution_count": null,
   "metadata": {
    "collapsed": true
   },
   "outputs": [],
   "source": [
    "preds = covnet_mo_elu.predict(np.array([return_set]))"
   ]
  },
  {
   "cell_type": "code",
   "execution_count": null,
   "metadata": {
    "collapsed": true
   },
   "outputs": [],
   "source": [
    "mp.all_sigma = preds[0][0][0]\n",
    "mp.gbm_mu = preds[1][0][0]\n",
    "mp.jumps_sigma = preds[2][0][0]\n",
    "mp.jumps_mu = preds[3][0][0]\n",
    "mp.lamda = preds[4][0][0]"
   ]
  },
  {
   "cell_type": "code",
   "execution_count": null,
   "metadata": {
    "collapsed": true
   },
   "outputs": [],
   "source": [
    "preds"
   ]
  },
  {
   "cell_type": "code",
   "execution_count": null,
   "metadata": {
    "collapsed": true
   },
   "outputs": [],
   "source": [
    "nrand.seed(random_seed)\n",
    "random.seed(random_seed)\n",
    "RETURNS_ = np.exp(geometric_brownian_motion_jump_diffusion_log_returns(mp))\n",
    "path2 = [1]\n",
    "for i in range(len(RETURNS_)):\n",
    "    path2.append(path2[i]*RETURNS_[i])\n",
    "plt.plot(path2);\n",
    "plt.plot(path1);"
   ]
  },
  {
   "cell_type": "code",
   "execution_count": null,
   "metadata": {
    "collapsed": true
   },
   "outputs": [],
   "source": []
  },
  {
   "cell_type": "code",
   "execution_count": null,
   "metadata": {
    "collapsed": true
   },
   "outputs": [],
   "source": []
  },
  {
   "cell_type": "code",
   "execution_count": null,
   "metadata": {
    "collapsed": true
   },
   "outputs": [],
   "source": []
  }
 ],
 "metadata": {
  "anaconda-cloud": {},
  "kernelspec": {
   "display_name": "Python 3",
   "language": "python",
   "name": "python3"
  },
  "language_info": {
   "codemirror_mode": {
    "name": "ipython",
    "version": 3
   },
   "file_extension": ".py",
   "mimetype": "text/x-python",
   "name": "python",
   "nbconvert_exporter": "python",
   "pygments_lexer": "ipython3",
   "version": "3.5.2"
  },
  "widgets": {
   "state": {},
   "version": "1.1.2"
  }
 },
 "nbformat": 4,
 "nbformat_minor": 2
}
