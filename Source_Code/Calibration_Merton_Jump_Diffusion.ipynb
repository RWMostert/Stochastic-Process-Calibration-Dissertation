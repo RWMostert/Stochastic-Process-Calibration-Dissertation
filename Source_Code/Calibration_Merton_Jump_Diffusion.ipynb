{
 "cells": [
  {
   "cell_type": "code",
   "execution_count": 1,
   "metadata": {},
   "outputs": [
    {
     "name": "stdout",
     "output_type": "stream",
     "text": [
      "Fetching package metadata .......\n",
      "Solving package specifications: ..........\n",
      "\n",
      "Package plan for installation in environment /home/carnd/anaconda3/envs/carnd-term1:\n",
      "\n",
      "The following packages will be downloaded:\n",
      "\n",
      "    package                    |            build\n",
      "    ---------------------------|-----------------\n",
      "    cudatoolkit-7.5            |                2       235.6 MB\n",
      "    libgcc-5.2.0               |                0         1.1 MB\n",
      "    cudnn-6.0.21               |        cuda7.5_0       108.2 MB\n",
      "    libprotobuf-3.2.0          |                0         6.3 MB\n",
      "    markdown-2.6.8             |           py35_0         100 KB\n",
      "    backports.weakref-1.0rc1   |           py35_0           7 KB\n",
      "    html5lib-0.9999999         |           py35_0         183 KB\n",
      "    protobuf-3.2.0             |           py35_0         458 KB\n",
      "    tensorflow-gpu-1.2.1       |py35cuda7.5cudnn6.0_0        73.5 MB\n",
      "    ------------------------------------------------------------\n",
      "                                           Total:       425.3 MB\n",
      "\n",
      "The following NEW packages will be INSTALLED:\n",
      "\n",
      "    backports:         1.0-py35_0                             \n",
      "    backports.weakref: 1.0rc1-py35_0                          \n",
      "    cudatoolkit:       7.5-2                                  \n",
      "    cudnn:             6.0.21-cuda7.5_0                       \n",
      "    libgcc:            5.2.0-0                                \n",
      "    libprotobuf:       3.2.0-0                                \n",
      "    markdown:          2.6.8-py35_0                           \n",
      "    protobuf:          3.2.0-py35_0                           \n",
      "    tensorflow-gpu:    1.2.1-py35cuda7.5cudnn6.0_0            \n",
      "\n",
      "The following packages will be UPDATED:\n",
      "\n",
      "    html5lib:          0.999-py35_0                conda-forge --> 0.9999999-py35_0\n",
      "\n",
      "Fetching packages ...\n",
      "cudatoolkit-7. 100% |################################| Time: 0:00:04  60.44 MB/s\n",
      "libgcc-5.2.0-0 100% |################################| Time: 0:00:00   9.12 MB/s\n",
      "cudnn-6.0.21-c 100% |################################| Time: 0:00:02  56.27 MB/s\n",
      "libprotobuf-3. 100% |################################| Time: 0:00:00  23.08 MB/s\n",
      "markdown-2.6.8 100% |################################| Time: 0:00:00   4.19 MB/s\n",
      "backports.weak 100% |################################| Time: 0:00:00  14.75 MB/s\n",
      "html5lib-0.999 100% |################################| Time: 0:00:00   5.03 MB/s\n",
      "protobuf-3.2.0 100% |################################| Time: 0:00:00   8.33 MB/s\n",
      "tensorflow-gpu 100% |################################| Time: 0:00:01  54.78 MB/s\n",
      "Extracting packages ...\n",
      "[      COMPLETE      ]|###################################################| 100%\n",
      "Unlinking packages ...\n",
      "[      COMPLETE      ]|###################################################| 100%\n",
      "Linking packages ...\n",
      "[      COMPLETE      ]|###################################################| 100%\n",
      "Fetching package metadata .........\n",
      "Solving package specifications: ..........\n",
      "\n",
      "Package plan for installation in environment /home/carnd/anaconda3/envs/carnd-term1:\n",
      "\n",
      "The following packages will be downloaded:\n",
      "\n",
      "    package                    |            build\n",
      "    ---------------------------|-----------------\n",
      "    libgpuarray-0.6.9          |                0         245 KB  conda-forge\n",
      "    mako-1.0.7                 |           py35_0         115 KB  conda-forge\n",
      "    pygpu-0.6.9                |      np112py35_0         1.4 MB  conda-forge\n",
      "    theano-0.9.0               |           py35_1         4.1 MB  conda-forge\n",
      "    keras-2.0.6                |           py35_0         407 KB  conda-forge\n",
      "    ------------------------------------------------------------\n",
      "                                           Total:         6.3 MB\n",
      "\n",
      "The following NEW packages will be INSTALLED:\n",
      "\n",
      "    keras:       2.0.6-py35_0      conda-forge\n",
      "    libgpuarray: 0.6.9-0           conda-forge\n",
      "    mako:        1.0.7-py35_0      conda-forge\n",
      "    pygpu:       0.6.9-np112py35_0 conda-forge\n",
      "    theano:      0.9.0-py35_1      conda-forge\n",
      "\n",
      "Fetching packages ...\n",
      "libgpuarray-0. 100% |################################| Time: 0:00:00 318.29 kB/s\n",
      "mako-1.0.7-py3 100% |################################| Time: 0:00:00 364.87 kB/s\n",
      "pygpu-0.6.9-np 100% |################################| Time: 0:00:01   1.32 MB/s\n",
      "theano-0.9.0-p 100% |################################| Time: 0:00:01   2.94 MB/s\n",
      "keras-2.0.6-py 100% |################################| Time: 0:00:00 423.44 kB/s\n",
      "Extracting packages ...\n",
      "[      COMPLETE      ]|###################################################| 100%\n",
      "Linking packages ...\n",
      "[      COMPLETE      ]|###################################################| 100%\n"
     ]
    }
   ],
   "source": [
    "#!pip install seaborn\n",
    "!conda install tensorflow-gpu --yes\n",
    "!conda install -c conda-forge keras --yes"
   ]
  },
  {
   "cell_type": "code",
   "execution_count": 2,
   "metadata": {
    "collapsed": true
   },
   "outputs": [],
   "source": [
    "from Constants import ROOT_DIR, \\\n",
    "    H5_DIR_FULLYCONNECTED_MULTIPLE_RELU,\\\n",
    "    H5_DIR_FULLYCONNECTED_MULTIPLE_ELU,\\\n",
    "    H5_DIR_COVNET_MULTIPLE_RELU,\\\n",
    "    H5_DIR_COVNET_MULTIPLE_ELU,\\\n",
    "    H5_DIR_COVNET_JUMP_SIGMA,\\\n",
    "    H5_DIR_COVNET_JUMP_MU,\\\n",
    "    H5_DIR_COVNET_LAMBDA,\\\n",
    "    H5_DIR_ENSEMBLING,\\\n",
    "    HISTORY_DIR_FEEDFORWARD_RELU,\\\n",
    "    PREDICTIONS_DIR_FEEDFORWARD_RELU"
   ]
  },
  {
   "cell_type": "code",
   "execution_count": 3,
   "metadata": {},
   "outputs": [
    {
     "name": "stderr",
     "output_type": "stream",
     "text": [
      "/home/carnd/anaconda3/envs/carnd-term1/lib/python3.5/site-packages/matplotlib/font_manager.py:280: UserWarning: Matplotlib is building the font cache using fc-list. This may take a moment.\n",
      "  'Matplotlib is building the font cache using fc-list. '\n"
     ]
    }
   ],
   "source": [
    "import numpy as np\n",
    "import math\n",
    "import random\n",
    "import statsmodels.api as sm\n",
    "import matplotlib.pyplot as plt\n",
    "import pylab\n",
    "\n",
    "from scipy import stats\n",
    "from numpy import random as nrand\n",
    "\n",
    "%matplotlib inline\n",
    "\n",
    "# Optional:\n",
    "import seaborn as sns\n",
    "sns.set(color_codes=True)\n",
    "sns.set_style(style='white')\n",
    "sns.set(font_scale=1.6)"
   ]
  },
  {
   "cell_type": "code",
   "execution_count": 4,
   "metadata": {},
   "outputs": [
    {
     "name": "stderr",
     "output_type": "stream",
     "text": [
      "Using TensorFlow backend.\n"
     ]
    }
   ],
   "source": [
    "import tensorflow as tf\n",
    "import keras\n",
    "from keras.models import Model, Sequential, load_model\n",
    "from keras.layers import Input, Dense, Flatten, LSTM, Convolution2D, MaxPooling2D, Input\n",
    "from keras.optimizers import Adam\n",
    "from keras import backend as K"
   ]
  },
  {
   "cell_type": "code",
   "execution_count": 5,
   "metadata": {},
   "outputs": [
    {
     "name": "stdout",
     "output_type": "stream",
     "text": [
      "2.0.6\n"
     ]
    }
   ],
   "source": [
    "print(keras.__version__)"
   ]
  },
  {
   "cell_type": "code",
   "execution_count": null,
   "metadata": {
    "collapsed": true
   },
   "outputs": [],
   "source": [
    "sess = tf.Session(config=tf.ConfigProto(log_device_placement=True))"
   ]
  },
  {
   "cell_type": "code",
   "execution_count": 6,
   "metadata": {
    "collapsed": true
   },
   "outputs": [],
   "source": [
    "from Merton_Jump_Diffusion_SDE_Utilities import \\\n",
    "    ModelParameters, \\\n",
    "    random_model_params, \\\n",
    "    geometric_brownian_motion_jump_diffusion_log_returns\n",
    "    \n",
    "from Models import \\\n",
    "    fullyconnected_multiple_ELUs, \\\n",
    "    covnet_multiple_ELUs_8_layers, \\\n",
    "    covnet_single_ReLUs_6_layers, \\\n",
    "    fullyconnected_multiple_ReLUs, \\\n",
    "    covnet_multiple_ELUs_10_layers"
   ]
  },
  {
   "cell_type": "code",
   "execution_count": 7,
   "metadata": {
    "collapsed": true
   },
   "outputs": [],
   "source": [
    "def test_set_model_params():\n",
    "    return ModelParameters(\n",
    "        all_time=2000,\n",
    "        all_delta=0.00396825396,\n",
    "        all_sigma = 0.1,\n",
    "        gbm_mu = 0.05,\n",
    "        jumps_sigma=0.07,\n",
    "        jumps_mu=0.05,\n",
    "        jumps_lamda=0.02)\n",
    "\n",
    "def standard_convolutional_test_set(sample_size = 1000, dim = (40, 50), mp = None):\n",
    "    if mp == None:\n",
    "        mp = test_set_model_params()\n",
    "        \n",
    "    test_set = []\n",
    "    for i in range(sample_size):\n",
    "        if (i%100 == 0):\n",
    "            print(i)\n",
    "        test_set.append(geometric_brownian_motion_jump_diffusion_log_returns(mp))\n",
    "\n",
    "    test_set_pred = np.reshape(np.array(test_set), (sample_size, dim[0], dim[1], 1))\n",
    "    return test_set_pred\n",
    "\n",
    "def convolutional_batch_generator(all_time = 2000, paramset_size = 32, paths_p_paramset = 5, constraint_all_sigma = (0.001,0.2), constraint_gbm_mu = (-1,1), constraint_jumps_lamda = (0.0001,0.025), constraint_jumps_sigma = (0.001, 0.2), constraint_jumps_mu = (-0.5,0.5)):\n",
    "    while True:\n",
    "        RETURNS_ = []\n",
    "        PARAMS_ = []\n",
    "        \n",
    "        for i in range(paramset_size):\n",
    "            mp = random_model_params(constraint_all_sigma, constraint_gbm_mu, constraint_jumps_lamda, constraint_jumps_sigma, constraint_jumps_mu)\n",
    "            mp.all_time = all_time\n",
    "            \n",
    "            for j in range(paths_p_paramset):\n",
    "                PARAMS_.append(mp)\n",
    "                RETURNS_.append(geometric_brownian_motion_jump_diffusion_log_returns(mp))\n",
    "        \n",
    "        train_data = np.reshape(np.array(RETURNS_), (paramset_size*paths_p_paramset, 40, 50, 1))\n",
    "        sigmas = np.array([[mp.all_sigma] for mp in PARAMS_])\n",
    "        mus = np.array([[mp.gbm_mu] for mp in PARAMS_])\n",
    "        jump_sigmas = np.array([[mp.jumps_sigma] for mp in PARAMS_])\n",
    "        jump_mus = np.array([[mp.jumps_mu] for mp in PARAMS_])\n",
    "        lambdas = np.array([[mp.lamda] for mp in PARAMS_])\n",
    "        \n",
    "        yield train_data, [sigmas, mus, jump_sigmas, jump_mus, lambdas]\n",
    "\n",
    "def standard_fullyconnected_test_set(sample_size = 1000):\n",
    "    test_set = []\n",
    "    for i in range(sample_size):\n",
    "        if (i%100 == 0):\n",
    "            print(i)\n",
    "        test_set.append(geometric_brownian_motion_jump_diffusion_log_returns(test_set_model_params()))\n",
    "\n",
    "    train_moments = [np.append(stats.moment(example, moment = range(2,20)), np.mean(example)) for example in test_set]\n",
    "    train_statistics = np.array([np.append(train_moments[i], \n",
    "                                  sm.tsa.stattools.acf(test_set[i])) \n",
    "                        for i in range(len(test_set))])\n",
    "    return train_statistics\n",
    "\n",
    "\n",
    "def standard_test_sets(sample_size = 1000, dim = (40, 50)):\n",
    "    test_set = []\n",
    "    for i in range(sample_size):\n",
    "        if (i%100 == 0):\n",
    "            print(i)\n",
    "        test_set.append(geometric_brownian_motion_jump_diffusion_log_returns(test_set_model_params()))\n",
    "\n",
    "    test_set_pred = np.reshape(np.array(test_set), (sample_size, dim[0], dim[1], 1))\n",
    "    \n",
    "    train_moments = [np.append(stats.moment(example, moment = range(2,20)), np.mean(example)) for example in test_set]\n",
    "    train_statistics = np.array([np.append(train_moments[i], \n",
    "                                  sm.tsa.stattools.acf(test_set[i])) \n",
    "                        for i in range(len(test_set))])\n",
    "    return test_set_pred, train_statistics\n",
    "\n",
    "def fullyconnected_batch_generator(all_time = 2000, paramset_size = 32, paths_p_paramset = 5):\n",
    "    while True:\n",
    "        RETURNS_ = []\n",
    "        PARAMS_ = []\n",
    "        \n",
    "        for i in range(paramset_size):\n",
    "            mp = random_model_params()\n",
    "            mp.all_time = all_time\n",
    "            \n",
    "            for j in range(paths_p_paramset):\n",
    "                PARAMS_.append(mp)\n",
    "                RETURNS_.append(geometric_brownian_motion_jump_diffusion_log_returns(mp))\n",
    "        \n",
    "        train_moments = [np.append(stats.moment(example, moment = range(2,20)), np.mean(example)) for example in RETURNS_]\n",
    "\n",
    "        train_statistics = np.array([np.append(train_moments[i], \n",
    "                              sm.tsa.stattools.acf(RETURNS_[i])) \n",
    "                    for i in range(len(RETURNS_))])\n",
    "        \n",
    "        sigmas = np.array([[mp.all_sigma] for mp in PARAMS_])\n",
    "        mus = np.array([[mp.gbm_mu] for mp in PARAMS_])\n",
    "        jump_sigmas = np.array([[mp.jumps_sigma] for mp in PARAMS_])\n",
    "        jump_mus = np.array([[mp.jumps_mu] for mp in PARAMS_])\n",
    "        lambdas = np.array([[mp.lamda] for mp in PARAMS_])\n",
    "        \n",
    "        yield train_statistics, [sigmas, mus, jump_sigmas, jump_mus, lambdas]"
   ]
  },
  {
   "cell_type": "markdown",
   "metadata": {},
   "source": [
    "### Fully Connected Multiple ReLUs"
   ]
  },
  {
   "cell_type": "code",
   "execution_count": null,
   "metadata": {
    "collapsed": true
   },
   "outputs": [],
   "source": [
    "feedforward = fullyconnected_multiple_ReLUs()\n",
    "#feedforward.load_weights(H5_DIR_FULLYCONNECTED_MULTIPLE_RELU)"
   ]
  },
  {
   "cell_type": "code",
   "execution_count": null,
   "metadata": {
    "collapsed": true
   },
   "outputs": [],
   "source": [
    "test_set = standard_fullyconnected_test_set()"
   ]
  },
  {
   "cell_type": "code",
   "execution_count": null,
   "metadata": {
    "collapsed": true
   },
   "outputs": [],
   "source": [
    "#feedforward_relu_histories = np.load(HISTORY_DIR_FEEDFORWARD_RELU).tolist()\n",
    "#feedforward_relu_predictions = np.load(PREDICTIONS_DIR_FEEDFORWARD_RELU).tolist()\n",
    "feedforward_relu_histories = []\n",
    "feedforward_relu_predictions = []"
   ]
  },
  {
   "cell_type": "code",
   "execution_count": null,
   "metadata": {
    "collapsed": true
   },
   "outputs": [],
   "source": [
    "train_gen = fullyconnected_batch_generator(paramset_size=1500, paths_p_paramset=1)"
   ]
  },
  {
   "cell_type": "code",
   "execution_count": null,
   "metadata": {
    "collapsed": true
   },
   "outputs": [],
   "source": [
    "!git pull"
   ]
  },
  {
   "cell_type": "code",
   "execution_count": null,
   "metadata": {
    "collapsed": true
   },
   "outputs": [],
   "source": [
    "for i in range(1000):\n",
    "    history = feedforward.fit_generator(train_gen, steps_per_epoch = 10, epochs = 1)\n",
    "    feedforward_relu_histories.append(history.history)\n",
    "    feedforward_relu_predictions.append(feedforward.predict(test_set))\n",
    "    \n",
    "    feedforward.save_weights(H5_DIR_FULLYCONNECTED_MULTIPLE_RELU)\n",
    "\n",
    "    np.save(HISTORY_DIR_FEEDFORWARD_RELU, feedforward_relu_histories)\n",
    "    np.save(PREDICTIONS_DIR_FEEDFORWARD_RELU, feedforward_relu_predictions)\n",
    "\n",
    "    if i%5 == 0:\n",
    "        !git config --global user.email \"rwmmostert@gmail.com\"\n",
    "        !git config --global user.name \"RWMostert\"\n",
    "        !git add --all\n",
    "        !git commit -am \"updated history, predictions and model\" \n",
    "        !git push -u origin master --quiet -f"
   ]
  },
  {
   "cell_type": "markdown",
   "metadata": {},
   "source": [
    "# Fully Connected Multiple ELUs"
   ]
  },
  {
   "cell_type": "code",
   "execution_count": null,
   "metadata": {
    "collapsed": true
   },
   "outputs": [],
   "source": [
    "feedforward = fullyconnected_multiple_ELUs()\n",
    "feedforward.load_weights(H5_DIR_FULLYCONNECTED_MULTIPLE_ELU)"
   ]
  },
  {
   "cell_type": "code",
   "execution_count": null,
   "metadata": {
    "collapsed": true
   },
   "outputs": [],
   "source": [
    "feedforward.load_weights(H5_DIR_FULLYCONNECTED_MULTIPLE_ELU)"
   ]
  },
  {
   "cell_type": "code",
   "execution_count": null,
   "metadata": {
    "collapsed": true
   },
   "outputs": [],
   "source": [
    "train_gen = fullyconnected_batch_generator(paramset_size=50, paths_p_paramset=1)\n",
    "#test_set = standard_fullyconnected_test_set()"
   ]
  },
  {
   "cell_type": "code",
   "execution_count": null,
   "metadata": {
    "collapsed": true
   },
   "outputs": [],
   "source": [
    "histories2 = np.load(\"feedforward_mo_histories.npy\").tolist()\n",
    "ff_predicts = np.load(\"ff_predicts.npy\").tolist()\n",
    "#histories2 = []\n",
    "#ff_predicts = []"
   ]
  },
  {
   "cell_type": "code",
   "execution_count": null,
   "metadata": {
    "collapsed": true
   },
   "outputs": [],
   "source": [
    "for i in range(1000):\n",
    "    history = feedforward.fit_generator(train_gen, steps_per_epoch = 1000, epochs = 1)\n",
    "    histories2.append(history.history)\n",
    "    ff_predicts.append(feedforward.predict(test_set))\n",
    "    \n",
    "    feedforward.save_weights(H5_DIR_FULLYCONNECTED_MULTIPLE_ELU)\n",
    "    np.save(\"feedforward_mo_histories.npy\", histories2)\n",
    "    np.save(\"ff_predicts.npy\", ff_predicts)\n",
    "    \n",
    "    !git config --global user.email \"rwmmostert@gmail.com\"\n",
    "    !git config --global user.name \"RWMostert\"\n",
    "    !git add --all\n",
    "    !git commit -am \"updated history, predictions and model\"\n",
    "    !git push -u origin master --quiet"
   ]
  },
  {
   "cell_type": "markdown",
   "metadata": {},
   "source": [
    "# Covnet Multiple Output with ELUs"
   ]
  },
  {
   "cell_type": "code",
   "execution_count": null,
   "metadata": {
    "collapsed": true
   },
   "outputs": [],
   "source": [
    "covnet_mo_elu = load_model(\"FULLMODEL_RELAXED_ELU_COVNET.h5\")"
   ]
  },
  {
   "cell_type": "code",
   "execution_count": null,
   "metadata": {
    "collapsed": true
   },
   "outputs": [],
   "source": [
    "#covnet_mo_elu = covnet_multiple_ELUs_8_layers(r_squared = False)\n",
    "#covnet_mo_elu.load_weights(\"RELAXED_ELU_COVNET.h5\")"
   ]
  },
  {
   "cell_type": "code",
   "execution_count": null,
   "metadata": {
    "collapsed": true
   },
   "outputs": [],
   "source": [
    "#covnet_mo_elu.save(H5_DIR_COVNET_MULTIPLE_ELU)"
   ]
  },
  {
   "cell_type": "code",
   "execution_count": null,
   "metadata": {
    "collapsed": true
   },
   "outputs": [],
   "source": [
    "test_set_pred = standard_convolutional_test_set()"
   ]
  },
  {
   "cell_type": "code",
   "execution_count": null,
   "metadata": {
    "collapsed": true
   },
   "outputs": [],
   "source": [
    "train_gen = convolutional_batch_generator(paramset_size=50, paths_p_paramset=1, constraint_gbm_mu=(-0.5, 0.5))"
   ]
  },
  {
   "cell_type": "code",
   "execution_count": null,
   "metadata": {
    "collapsed": true
   },
   "outputs": [],
   "source": [
    "histories_elu = np.load(\"covnet_histories_elu_RELAXED.npy\").tolist()\n",
    "covnet_mo_elu_predictions = np.load(\"covnet_mo_elu_predictions_RELAXED.npy\").tolist()"
   ]
  },
  {
   "cell_type": "code",
   "execution_count": null,
   "metadata": {
    "collapsed": true,
    "scrolled": true
   },
   "outputs": [],
   "source": [
    "for i in range(150000):\n",
    "    history = covnet_mo_elu.fit_generator(train_gen, samples_per_epoch = 100, nb_epoch = 10)\n",
    "    \n",
    "    histories_elu.append(history.history)\n",
    "    \n",
    "    predictions_elu = covnet_mo_elu.predict(test_set_pred)\n",
    "    \n",
    "    covnet_mo_elu_predictions.append(predictions_elu)\n",
    "    \n",
    "    covnet_mo_elu.save(\"FULLMODEL_RELAXED_ELU_COVNET.h5\")\n",
    "    \n",
    "    np.save(\"covnet_histories_elu_RELAXED.npy\", histories_elu)\n",
    "    np.save(\"covnet_mo_elu_predictions_RELAXED.npy\", covnet_mo_elu_predictions)\n",
    "    \n",
    "    !git config --global user.email \"rwmmostert@gmail.com\"\n",
    "    !git config --global user.name \"RWMostert\"\n",
    "    !git add --all\n",
    "    !git commit -am \"updated history, predictions and model\"\n",
    "    !git push -u origin master --quiet"
   ]
  },
  {
   "cell_type": "markdown",
   "metadata": {},
   "source": [
    "# Covnet Multiple Output with ELUs 10 Layers"
   ]
  },
  {
   "cell_type": "code",
   "execution_count": 10,
   "metadata": {},
   "outputs": [],
   "source": [
    "covnet_mo_elu = load_model(\"FULLMODEL_10LAYERS_COVNET.h5\", custom_objects={\"r2\":r2})"
   ]
  },
  {
   "cell_type": "code",
   "execution_count": null,
   "metadata": {
    "collapsed": true
   },
   "outputs": [],
   "source": [
    "#covnet_mo_elu = covnet_multiple_ELUs_10_layers()\n",
    "#covnet_mo_elu.load_weights(\"RELAXED_ELU_COVNET.h5\")"
   ]
  },
  {
   "cell_type": "code",
   "execution_count": null,
   "metadata": {
    "collapsed": true
   },
   "outputs": [],
   "source": [
    "#covnet_mo_elu.save(H5_DIR_COVNET_MULTIPLE_ELU)"
   ]
  },
  {
   "cell_type": "code",
   "execution_count": 11,
   "metadata": {},
   "outputs": [
    {
     "name": "stdout",
     "output_type": "stream",
     "text": [
      "0\n",
      "100\n",
      "200\n",
      "300\n",
      "400\n",
      "500\n",
      "600\n",
      "700\n",
      "800\n",
      "900\n"
     ]
    }
   ],
   "source": [
    "test_set_pred = standard_convolutional_test_set()"
   ]
  },
  {
   "cell_type": "code",
   "execution_count": 16,
   "metadata": {
    "collapsed": true
   },
   "outputs": [],
   "source": [
    "train_gen = convolutional_batch_generator(paramset_size=1750, paths_p_paramset=1, constraint_gbm_mu=(-0.5, 0.5))"
   ]
  },
  {
   "cell_type": "code",
   "execution_count": 13,
   "metadata": {
    "collapsed": true
   },
   "outputs": [],
   "source": [
    "histories_elu = np.load(\"covnet_histories_elu_10LAYERS.npy\").tolist()\n",
    "covnet_mo_elu_predictions = np.load(\"covnet_mo_elu_predictions_10LAYERS.npy\").tolist()"
   ]
  },
  {
   "cell_type": "code",
   "execution_count": 14,
   "metadata": {
    "collapsed": true
   },
   "outputs": [],
   "source": [
    "smallest_loss = 20"
   ]
  },
  {
   "cell_type": "code",
   "execution_count": null,
   "metadata": {
    "scrolled": true
   },
   "outputs": [
    {
     "name": "stderr",
     "output_type": "stream",
     "text": [
      "/home/carnd/anaconda3/envs/carnd-term1/lib/python3.5/site-packages/ipykernel_launcher.py:2: UserWarning: The semantics of the Keras 2 argument `steps_per_epoch` is not the same as the Keras 1 argument `samples_per_epoch`. `steps_per_epoch` is the number of batches to draw from the generator at each epoch. Basically steps_per_epoch = samples_per_epoch/batch_size. Similarly `nb_val_samples`->`validation_steps` and `val_samples`->`steps` arguments have changed. Update your method calls accordingly.\n",
      "  \n",
      "/home/carnd/anaconda3/envs/carnd-term1/lib/python3.5/site-packages/ipykernel_launcher.py:2: UserWarning: Update your `fit_generator` call to the Keras 2 API: `fit_generator(<generator..., epochs=1, steps_per_epoch=10)`\n",
      "  \n"
     ]
    },
    {
     "name": "stdout",
     "output_type": "stream",
     "text": [
      "Epoch 1/1\n",
      " 4/10 [===========>..................] - ETA: 103s - loss: 0.0069 - sigma_loss: 5.5149e-05 - mu_loss: 0.0024 - jump_sigma_loss: 0.0012 - jump_mu_loss: 0.0032 - lambda_loss: 1.0304e-05 - sigma_mean_absolute_percentage_error: 18.8306 - sigma_r2: 0.9832 - mu_mean_absolute_percentage_error: 62.3744 - mu_r2: 0.9719 - jump_sigma_mean_absolute_percentage_error: 95.2567 - jump_sigma_r2: 0.6488 - jump_mu_mean_absolute_percentage_error: 50.6605 - jump_mu_r2: 0.9612 - lambda_mean_absolute_percentage_error: 50.3138 - lambda_r2: 0.8021"
     ]
    }
   ],
   "source": [
    "for i in range(150000):\n",
    "    history = covnet_mo_elu.fit_generator(train_gen, samples_per_epoch = 10, nb_epoch = 1)\n",
    "    \n",
    "    if history.history['loss'][-1]<smallest_loss:\n",
    "        print(\"SAVE\")\n",
    "        smallest_loss = history.history['loss'][-1]\n",
    "        covnet_mo_elu.save(\"FULLMODEL_10LAYERS_COVNET.h5\")\n",
    "        histories_elu.append(history.history)\n",
    "\n",
    "        predictions_elu = covnet_mo_elu.predict(test_set_pred)\n",
    "\n",
    "        covnet_mo_elu_predictions.append(predictions_elu)\n",
    "    \n",
    "    if i%5 == 0:\n",
    "        np.save(\"covnet_histories_elu_10LAYERS.npy\", histories_elu)\n",
    "        np.save(\"covnet_mo_elu_predictions_10LAYERS.npy\", covnet_mo_elu_predictions)\n",
    "\n",
    "        !git config --global user.email \"rwmmostert@gmail.com\"\n",
    "        !git config --global user.name \"RWMostert\"\n",
    "        !git add --all\n",
    "        !git commit -am \"updated history, predictions and model\"\n",
    "        !git push -u origin master --quiet"
   ]
  },
  {
   "cell_type": "code",
   "execution_count": null,
   "metadata": {
    "collapsed": true
   },
   "outputs": [],
   "source": [
    "print()"
   ]
  },
  {
   "cell_type": "markdown",
   "metadata": {},
   "source": [
    "# Covnet Single Output Prediction - Lambda Smaller"
   ]
  },
  {
   "cell_type": "code",
   "execution_count": null,
   "metadata": {
    "collapsed": true
   },
   "outputs": [],
   "source": [
    "covnet_lambda = covnet_single_ReLUs_6_layers()"
   ]
  },
  {
   "cell_type": "code",
   "execution_count": null,
   "metadata": {
    "collapsed": true
   },
   "outputs": [],
   "source": [
    "covnet_lambda.summary()"
   ]
  },
  {
   "cell_type": "code",
   "execution_count": null,
   "metadata": {
    "collapsed": true
   },
   "outputs": [],
   "source": [
    "def lambda_batch_generator(all_time = 2000, paramset_size = 32, paths_p_paramset = 5):\n",
    "    while True:\n",
    "        RETURNS_ = []\n",
    "        PARAMS_ = []\n",
    "        \n",
    "        for i in range(paramset_size):\n",
    "            mp = random_model_params()\n",
    "            mp.all_time = all_time\n",
    "            \n",
    "            for j in range(paths_p_paramset):\n",
    "                PARAMS_.append(mp)\n",
    "                RETURNS_.append(geometric_brownian_motion_jump_diffusion_log_returns(mp))\n",
    "        \n",
    "        train_data = np.reshape(np.array(RETURNS_), (paramset_size*paths_p_paramset, 40, 50, 1))\n",
    "        \n",
    "        lambdas = np.array([[mp.lamda] for mp in PARAMS_])\n",
    "        \n",
    "        yield train_data, lambdas\n",
    "\n",
    "lambda_train_gen = lambda_batch_generator(paramset_size=1750, paths_p_paramset=1)"
   ]
  },
  {
   "cell_type": "code",
   "execution_count": null,
   "metadata": {
    "collapsed": true
   },
   "outputs": [],
   "source": [
    "test_set_pred = standard_convolutional_test_set()"
   ]
  },
  {
   "cell_type": "code",
   "execution_count": null,
   "metadata": {
    "collapsed": true
   },
   "outputs": [],
   "source": [
    "covnet_lambda.load_weights(H5_DIR_COVNET_LAMBDA)"
   ]
  },
  {
   "cell_type": "code",
   "execution_count": null,
   "metadata": {
    "collapsed": true
   },
   "outputs": [],
   "source": [
    "histories_lambda =[]# np.load(\"Lambda_histories.npy\").tolist()\n",
    "preds_lambda = []#np.load(\"preds_lambda.npy\").tolist()"
   ]
  },
  {
   "cell_type": "code",
   "execution_count": null,
   "metadata": {
    "collapsed": true
   },
   "outputs": [],
   "source": [
    "!git config --global user.email \"rwmmostert@gmail.com\"\n",
    "!git config --global user.name \"RWMostert\""
   ]
  },
  {
   "cell_type": "code",
   "execution_count": null,
   "metadata": {
    "collapsed": true
   },
   "outputs": [],
   "source": [
    "for i in range(15000):\n",
    "    history = covnet_lambda.fit_generator(lambda_train_gen, steps_per_epoch = 3, epochs = 3)\n",
    "    \n",
    "    histories_lambda.append(history.history)\n",
    "    preds_lambda.append(covnet_lambda.predict(test_set_pred))\n",
    "    \n",
    "    covnet_lambda.save(\"./Models/covnet_lambda.h5\")\n",
    "    if i%10 == 0:\n",
    "        np.save(\"Lambda_histories.npy\", histories_lambda)\n",
    "        np.save(\"preds_lambda.npy\", preds_lambda)\n",
    "        !git add --all\n",
    "        !git commit -am \"Model trained\"\n",
    "        !git push --quiet"
   ]
  },
  {
   "cell_type": "code",
   "execution_count": null,
   "metadata": {
    "collapsed": true
   },
   "outputs": [],
   "source": []
  },
  {
   "cell_type": "markdown",
   "metadata": {},
   "source": [
    "# Convnet Single Output Prediction - Mu"
   ]
  },
  {
   "cell_type": "code",
   "execution_count": null,
   "metadata": {
    "collapsed": true
   },
   "outputs": [],
   "source": [
    "covnet_mu = covnet_single_ReLUs_6_layers()"
   ]
  },
  {
   "cell_type": "code",
   "execution_count": null,
   "metadata": {
    "collapsed": true
   },
   "outputs": [],
   "source": [
    "def jump_mu_batch_generator(all_time = 2000, paramset_size = 32, paths_p_paramset = 5):\n",
    "    while True:\n",
    "        RETURNS_ = []\n",
    "        PARAMS_ = []\n",
    "        \n",
    "        for i in range(paramset_size):\n",
    "            mp = random_model_params()\n",
    "            mp.all_time = all_time\n",
    "            \n",
    "            for j in range(paths_p_paramset):\n",
    "                PARAMS_.append(mp)\n",
    "                RETURNS_.append(geometric_brownian_motion_jump_diffusion_log_returns(mp))\n",
    "        \n",
    "        train_data = np.reshape(np.array(RETURNS_), (paramset_size*paths_p_paramset, 40, 50, 1))\n",
    "        \n",
    "        mus = np.array([[mp.gbm_mu] for mp in PARAMS_])\n",
    "        \n",
    "        yield train_data, mus\n",
    "\n",
    "mu_train_gen = jump_mu_batch_generator(paramset_size=1500, paths_p_paramset=1)"
   ]
  },
  {
   "cell_type": "code",
   "execution_count": null,
   "metadata": {
    "collapsed": true
   },
   "outputs": [],
   "source": [
    "test_set_pred = standard_convolutional_test_set()"
   ]
  },
  {
   "cell_type": "code",
   "execution_count": null,
   "metadata": {
    "collapsed": true
   },
   "outputs": [],
   "source": [
    "covnet_jump_mu.load_weights(H5_DIR_COVNET_JUMP_MU)"
   ]
  },
  {
   "cell_type": "code",
   "execution_count": null,
   "metadata": {
    "collapsed": true
   },
   "outputs": [],
   "source": [
    "histories_covnet_mu = []#np.load(\"./Arrays_and_Results/histories_covnet_jump_mu.npy\").tolist()\n",
    "predictions_covnet_mu = []#np.load(\"./Arrays_and_Results/predictions_covnet_jump_mu.npy\").tolist()"
   ]
  },
  {
   "cell_type": "code",
   "execution_count": null,
   "metadata": {
    "collapsed": true
   },
   "outputs": [],
   "source": [
    "covnet_mu.save(\"./Models/covnet_mu.h5\")"
   ]
  },
  {
   "cell_type": "code",
   "execution_count": null,
   "metadata": {
    "collapsed": true
   },
   "outputs": [],
   "source": [
    "for i in range(150000000):\n",
    "    history = covnet_mu.fit_generator(mu_train_gen, steps_per_epoch = 10, epochs = 1)\n",
    "    histories_covnet_mu.append(history.history)\n",
    "    predictions_covnet_mu.append(covnet_mu.predict(test_set_pred))\n",
    "    covnet_mu.save(\"covnet_mu_FULLMODEL.h5\")\n",
    "    \n",
    "    if (i%10 == 0):\n",
    "        np.save(\"histories_covnet_mu.npy\", histories_covnet_mu)\n",
    "        np.save(\"predictions_covnet_mu.npy\", predictions_covnet_mu)\n",
    "\n",
    "        !git add --all\n",
    "        !git commit -am \"Model trained\"\n",
    "        !git push --quiet"
   ]
  },
  {
   "cell_type": "markdown",
   "metadata": {},
   "source": [
    "# Convnet Single Output Prediction - Mu"
   ]
  },
  {
   "cell_type": "code",
   "execution_count": null,
   "metadata": {
    "collapsed": true
   },
   "outputs": [],
   "source": [
    "covnet_sigma = covnet_single_ReLUs_6_layers()"
   ]
  },
  {
   "cell_type": "code",
   "execution_count": null,
   "metadata": {
    "collapsed": true
   },
   "outputs": [],
   "source": [
    "def sigma_batch_generator(all_time = 2000, paramset_size = 32, paths_p_paramset = 5):\n",
    "    while True:\n",
    "        RETURNS_ = []\n",
    "        PARAMS_ = []\n",
    "        \n",
    "        for i in range(paramset_size):\n",
    "            mp = random_model_params()\n",
    "            mp.all_time = all_time\n",
    "            \n",
    "            for j in range(paths_p_paramset):\n",
    "                PARAMS_.append(mp)\n",
    "                RETURNS_.append(geometric_brownian_motion_jump_diffusion_log_returns(mp))\n",
    "        \n",
    "        train_data = np.reshape(np.array(RETURNS_), (paramset_size*paths_p_paramset, 40, 50, 1))\n",
    "        \n",
    "        sigmas = np.array([[mp.all_sigma] for mp in PARAMS_])\n",
    "        \n",
    "        yield train_data, sigmas\n",
    "\n",
    "sigma_train_gen = sigma_batch_generator(paramset_size=1500, paths_p_paramset=1)"
   ]
  },
  {
   "cell_type": "code",
   "execution_count": null,
   "metadata": {
    "collapsed": true
   },
   "outputs": [],
   "source": [
    "test_set_pred = standard_convolutional_test_set()"
   ]
  },
  {
   "cell_type": "code",
   "execution_count": null,
   "metadata": {
    "collapsed": true
   },
   "outputs": [],
   "source": [
    "covnet_jump_mu.load_weights(H5_DIR_COVNET_JUMP_MU)"
   ]
  },
  {
   "cell_type": "code",
   "execution_count": null,
   "metadata": {
    "collapsed": true
   },
   "outputs": [],
   "source": [
    "histories_covnet_sigma = []#np.load(\"./Arrays_and_Results/histories_covnet_jump_mu.npy\").tolist()\n",
    "predictions_covnet_sigma = []#np.load(\"./Arrays_and_Results/predictions_covnet_jump_mu.npy\").tolist()"
   ]
  },
  {
   "cell_type": "code",
   "execution_count": null,
   "metadata": {
    "collapsed": true
   },
   "outputs": [],
   "source": [
    "covnet_sigma.save(\"./Models/covnet_sigma.h5\")"
   ]
  },
  {
   "cell_type": "code",
   "execution_count": null,
   "metadata": {
    "collapsed": true
   },
   "outputs": [],
   "source": [
    "for i in range(150000000):\n",
    "    history = covnet_sigma.fit_generator(sigma_train_gen, steps_per_epoch = 10, epochs = 1)\n",
    "    histories_covnet_sigma.append(history.history)\n",
    "    predictions_covnet_sigma.append(covnet_sigma.predict(test_set_pred))\n",
    "    covnet_sigma.save(\"covnet_sigma_FULLMODEL.h5\")\n",
    "    \n",
    "    if (i%10 == 0):\n",
    "        np.save(\"histories_covnet_sigma.npy\", histories_covnet_sigma)\n",
    "        np.save(\"predictions_covnet_sigma.npy\", predictions_covnet_sigma)\n",
    "\n",
    "        !git add --all\n",
    "        !git commit -am \"Model trained\"\n",
    "        !git push --quiet"
   ]
  },
  {
   "cell_type": "markdown",
   "metadata": {},
   "source": [
    "# Convnet Single Output Prediction - Jump Mu"
   ]
  },
  {
   "cell_type": "code",
   "execution_count": null,
   "metadata": {
    "collapsed": true
   },
   "outputs": [],
   "source": [
    "covnet_jump_mu = covnet_single_ReLUs_6_layers()"
   ]
  },
  {
   "cell_type": "code",
   "execution_count": null,
   "metadata": {
    "collapsed": true
   },
   "outputs": [],
   "source": [
    "def jump_mu_batch_generator(all_time = 2000, paramset_size = 32, paths_p_paramset = 5):\n",
    "    while True:\n",
    "        RETURNS_ = []\n",
    "        PARAMS_ = []\n",
    "        \n",
    "        for i in range(paramset_size):\n",
    "            mp = random_model_params()\n",
    "            mp.all_time = all_time\n",
    "            \n",
    "            for j in range(paths_p_paramset):\n",
    "                PARAMS_.append(mp)\n",
    "                RETURNS_.append(geometric_brownian_motion_jump_diffusion_log_returns(mp))\n",
    "        \n",
    "        train_data = np.reshape(np.array(RETURNS_), (paramset_size*paths_p_paramset, 40, 50, 1))\n",
    "        \n",
    "        jumps_mus = np.array([[mp.jumps_mu] for mp in PARAMS_])\n",
    "        \n",
    "        yield train_data, jumps_mus\n",
    "\n",
    "jump_mu_train_gen = jump_mu_batch_generator(paramset_size=1750, paths_p_paramset=1)"
   ]
  },
  {
   "cell_type": "code",
   "execution_count": null,
   "metadata": {
    "collapsed": true
   },
   "outputs": [],
   "source": [
    "test_set_pred = standard_convolutional_test_set()"
   ]
  },
  {
   "cell_type": "code",
   "execution_count": null,
   "metadata": {
    "collapsed": true
   },
   "outputs": [],
   "source": [
    "covnet_jump_mu = load_model(H5_DIR_COVNET_JUMP_MU+\"_FULLMODEL.h5\", custom_objects={\"r2\":r2})"
   ]
  },
  {
   "cell_type": "code",
   "execution_count": null,
   "metadata": {
    "collapsed": true
   },
   "outputs": [],
   "source": [
    "histories_covnet_jump_mu = np.load(\"./Arrays_and_Results/histories_covnet_jump_mu.npy\").tolist()\n",
    "predictions_covnet_jump_mu = np.load(\"./Arrays_and_Results/predictions_covnet_jump_mu.npy\").tolist()"
   ]
  },
  {
   "cell_type": "code",
   "execution_count": null,
   "metadata": {
    "collapsed": true
   },
   "outputs": [],
   "source": [
    "covnet_jump_mu.save(\"./Models/covnet_jump_mu.h5\")"
   ]
  },
  {
   "cell_type": "code",
   "execution_count": null,
   "metadata": {
    "collapsed": true
   },
   "outputs": [],
   "source": [
    "for i in range(150000000):\n",
    "    history = covnet_jump_mu.fit_generator(jump_mu_train_gen, steps_per_epoch = 10, epochs = 1)\n",
    "    histories_covnet_jump_mu.append(history.history)\n",
    "    predictions_covnet_jump_mu.append(covnet_jump_mu.predict(test_set_pred))\n",
    "    covnet_jump_mu.save(H5_DIR_COVNET_JUMP_MU+\"_FULLMODEL.h5\")\n",
    "    \n",
    "    if (i%10 == 0):\n",
    "        np.save(\"histories_covnet_jump_mu.npy\", histories_covnet_jump_mu)\n",
    "        np.save(\"predictions_covnet_jump_mu.npy\", predictions_covnet_jump_mu)\n",
    "\n",
    "        !git add --all\n",
    "        !git commit -am \"Model trained\"\n",
    "        !git push --quiet"
   ]
  },
  {
   "cell_type": "markdown",
   "metadata": {},
   "source": [
    "# Convnet Single Output Prediction - Jump Sigma"
   ]
  },
  {
   "cell_type": "code",
   "execution_count": 9,
   "metadata": {},
   "outputs": [
    {
     "ename": "NameError",
     "evalue": "name 'covnet_jump_sigma' is not defined",
     "output_type": "error",
     "traceback": [
      "\u001b[0;31m---------------------------------------------------------------------------\u001b[0m",
      "\u001b[0;31mNameError\u001b[0m                                 Traceback (most recent call last)",
      "\u001b[0;32m<ipython-input-9-7f003b169ad7>\u001b[0m in \u001b[0;36m<module>\u001b[0;34m()\u001b[0m\n\u001b[1;32m     12\u001b[0m     \u001b[0;32mreturn\u001b[0m \u001b[0;36m1\u001b[0m\u001b[0;34m-\u001b[0m\u001b[0mSSE\u001b[0m\u001b[0;34m/\u001b[0m\u001b[0mSST\u001b[0m\u001b[0;34m\u001b[0m\u001b[0m\n\u001b[1;32m     13\u001b[0m \u001b[0;34m\u001b[0m\u001b[0m\n\u001b[0;32m---> 14\u001b[0;31m \u001b[0mcovnet_jump_sigma\u001b[0m\u001b[0;34m.\u001b[0m\u001b[0mcompile\u001b[0m\u001b[0;34m(\u001b[0m\u001b[0;34m'adam'\u001b[0m\u001b[0;34m,\u001b[0m \u001b[0;34m'mean_squared_error'\u001b[0m\u001b[0;34m,\u001b[0m \u001b[0mmetrics\u001b[0m\u001b[0;34m=\u001b[0m\u001b[0;34m[\u001b[0m\u001b[0;34m'mean_absolute_percentage_error'\u001b[0m\u001b[0;34m,\u001b[0m \u001b[0mr2\u001b[0m\u001b[0;34m]\u001b[0m\u001b[0;34m)\u001b[0m\u001b[0;34m\u001b[0m\u001b[0m\n\u001b[0m",
      "\u001b[0;31mNameError\u001b[0m: name 'covnet_jump_sigma' is not defined"
     ]
    }
   ],
   "source": [
    "def r2(y_true, y_pred):\n",
    "    \"\"\"\n",
    "    returns the correlation coefficient of y_pred against y_true.\n",
    "\n",
    "    :param y_true: the true values (independent variable)\n",
    "    :param y_pred: the predicted values (dependent variable)\n",
    "    \"\"\"\n",
    "    \n",
    "    SSE = K.sum(K.square(y_true-y_pred))\n",
    "    SST = K.sum(K.square(y_true-K.mean(y_true)))\n",
    "    \n",
    "    return 1-SSE/SST\n",
    "\n",
    "covnet_jump_sigma.compile('adam', 'mean_squared_error', metrics=['mean_absolute_percentage_error', r2])"
   ]
  },
  {
   "cell_type": "code",
   "execution_count": null,
   "metadata": {
    "collapsed": true
   },
   "outputs": [],
   "source": [
    "covnet_jump_sigma.compile('adam', 'mean_squared_error', metrics=['mean_absolute_percentage_error', r2])"
   ]
  },
  {
   "cell_type": "code",
   "execution_count": null,
   "metadata": {
    "collapsed": true
   },
   "outputs": [],
   "source": [
    "keras.__version__"
   ]
  },
  {
   "cell_type": "code",
   "execution_count": null,
   "metadata": {
    "collapsed": true
   },
   "outputs": [],
   "source": [
    "covnet_jump_sigma = load_model(\"covnet_jump_sigma_running_FULLMODEL.h5\", custom_objects={\"r2\":r2})#covnet_single_ReLUs_6_layers()\n",
    "#covnet_jump_sigma.load_weights(H5_DIR_COVNET_JUMP_SIGMA)"
   ]
  },
  {
   "cell_type": "code",
   "execution_count": null,
   "metadata": {
    "collapsed": true
   },
   "outputs": [],
   "source": [
    "def jump_sigma_batch_generator(all_time = 2000, paramset_size = 32, paths_p_paramset = 5):\n",
    "    while True:\n",
    "        RETURNS_ = []\n",
    "        PARAMS_ = []\n",
    "        \n",
    "        for i in range(paramset_size):\n",
    "            mp = random_model_params()\n",
    "            mp.all_time = all_time\n",
    "            \n",
    "            for j in range(paths_p_paramset):\n",
    "                PARAMS_.append(mp)\n",
    "                RETURNS_.append(geometric_brownian_motion_jump_diffusion_log_returns(mp))\n",
    "        \n",
    "        train_data = np.reshape(np.array(RETURNS_), (paramset_size*paths_p_paramset, 40, 50, 1))\n",
    "        \n",
    "        jumps_sigmas = np.array([[mp.jumps_sigma] for mp in PARAMS_])\n",
    "        \n",
    "        yield train_data, jumps_sigmas\n",
    "\n",
    "jump_sigma_train_gen = jump_sigma_batch_generator(paramset_size=1750, paths_p_paramset=1)"
   ]
  },
  {
   "cell_type": "code",
   "execution_count": null,
   "metadata": {
    "collapsed": true
   },
   "outputs": [],
   "source": [
    "test_set_pred = standard_convolutional_test_set()"
   ]
  },
  {
   "cell_type": "code",
   "execution_count": null,
   "metadata": {
    "collapsed": true
   },
   "outputs": [],
   "source": [
    "histories_covnet_jump_sigma = np.load(\"histories_covnet_jump_sigma.npy\").tolist()\n",
    "predictions_covnet_jump_sigma = np.load(\"predictions_covnet_jump_sigma.npy\").tolist()\n",
    "    \n",
    "#histories_covnet_jump_sigma = []\n",
    "#predictions_covnet_jump_sigma = []"
   ]
  },
  {
   "cell_type": "code",
   "execution_count": null,
   "metadata": {
    "collapsed": true
   },
   "outputs": [],
   "source": [
    "covnet_jump_sigma.save(\"./Models/covnet_jump_sigma.h5\")"
   ]
  },
  {
   "cell_type": "code",
   "execution_count": null,
   "metadata": {
    "collapsed": true,
    "scrolled": true
   },
   "outputs": [],
   "source": [
    "for i in range(100000):\n",
    "    \n",
    "    history = covnet_jump_sigma.fit_generator(jump_sigma_train_gen, steps_per_epoch = 3, epochs = 3)\n",
    "    histories_covnet_jump_sigma.append(history.history)\n",
    "    predictions_covnet_jump_sigma.append(covnet_jump_sigma.predict(test_set_pred))\n",
    "    covnet_jump_sigma.save(H5_DIR_COVNET_JUMP_SIGMA+\"FULLMODEL.h5\")\n",
    "    \n",
    "    np.save(\"histories_covnet_jump_sigma.npy\", histories_covnet_jump_sigma)\n",
    "    np.save(\"predictions_covnet_jump_sigma.npy\", predictions_covnet_jump_sigma)\n",
    "    \n",
    "    if i % 5 == 0:\n",
    "        !cd ..\n",
    "        !git config --global user.email \"rwmmostert@gmail.com\"\n",
    "        !git config --global user.name \"RWMostert\"\n",
    "        !git add --all\n",
    "        !git commit -am \"updated history, predictions and model\"\n",
    "        !git push -u origin master --quiet"
   ]
  },
  {
   "cell_type": "markdown",
   "metadata": {},
   "source": [
    "# Ensembling Network"
   ]
  },
  {
   "cell_type": "code",
   "execution_count": null,
   "metadata": {
    "collapsed": true
   },
   "outputs": [],
   "source": [
    "ff_ensembling = Sequential()\n",
    "ff_ensembling.add(Dense(128, input_dim = 8, activation='relu'))\n",
    "ff_ensembling.add(Dense(256, activation='relu'))\n",
    "ff_ensembling.add(Dense(128, activation='relu'))\n",
    "ff_ensembling.add(Dense(64, activation='relu'))\n",
    "ff_ensembling.add(Dense(32, activation='relu'))\n",
    "ff_ensembling.add(Dense(5))\n",
    "\n",
    "ff_ensembling.compile('adam', 'mean_squared_error', metrics=['mean_absolute_percentage_error', r2])"
   ]
  },
  {
   "cell_type": "code",
   "execution_count": null,
   "metadata": {
    "collapsed": true
   },
   "outputs": [],
   "source": [
    "all_time = 2000\n",
    "paramset_size = 1\n",
    "paths_p_paramset = 1\n",
    "\n",
    "RETURNS_ = []\n",
    "PARAMS_ = []\n",
    "        \n",
    "for i in range(paramset_size):\n",
    "    mp = random_model_params()\n",
    "    mp.all_time = all_time\n",
    "            \n",
    "    for j in range(paths_p_paramset):\n",
    "        PARAMS_.append([mp.all_sigma, mp.gbm_mu, mp.jumps_sigma, mp.jumps_mu, mp.lamda])\n",
    "        RETURNS_.append(geometric_brownian_motion_jump_diffusion_log_returns(mp))\n",
    "        \n",
    "train_data = np.reshape(np.array(RETURNS_), (paramset_size*paths_p_paramset, 40, 50, 1))\n",
    "                \n",
    "predictions = []\n",
    "for return_set in train_data:\n",
    "    output1 = covnet_mo.predict(np.array([return_set]))\n",
    "    output2 = covnet_lambda.predict(np.array([return_set]))\n",
    "    output3 = covnet_jump_mu.predict(np.array([return_set]))\n",
    "    output4 = covnet_jump_sigma.predict(np.array([return_set]))\n",
    "    for output in output1:\n",
    "        predictions.append(output[0][0])\n",
    "    predictions.append(output2[0][0])\n",
    "    predictions.append(output3[0][0])\n",
    "    predictions.append(output4[0][0])\n",
    "        \n",
    "print(predictions)\n",
    "        \n",
    "print(PARAMS_)"
   ]
  },
  {
   "cell_type": "code",
   "execution_count": null,
   "metadata": {
    "collapsed": true
   },
   "outputs": [],
   "source": [
    "def ensemble_batch_generator(all_time = 2000, paramset_size = 32, paths_p_paramset = 5):\n",
    "    while True:\n",
    "        RETURNS_ = []\n",
    "        PARAMS_ = []\n",
    "        \n",
    "        for i in range(paramset_size):\n",
    "            mp = random_model_params()\n",
    "            mp.all_time = all_time\n",
    "            \n",
    "            for j in range(paths_p_paramset):\n",
    "                PARAMS_.append([mp.all_sigma, mp.gbm_mu, mp.jumps_sigma, mp.jumps_mu, mp.lamda])\n",
    "                RETURNS_.append(geometric_brownian_motion_jump_diffusion_log_returns(mp))\n",
    "        \n",
    "        train_data = np.reshape(np.array(RETURNS_), (paramset_size*paths_p_paramset, 40, 50, 1))\n",
    "                \n",
    "        predictionset = []\n",
    "        for return_set in train_data:\n",
    "            prediction = []\n",
    "            output1 = covnet_mo.predict(np.array([return_set]))\n",
    "            output2 = covnet_lambda.predict(np.array([return_set]))\n",
    "            output3 = covnet_jump_mu.predict(np.array([return_set]))\n",
    "            output4 = covnet_jump_sigma.predict(np.array([return_set]))\n",
    "            for output in output1:\n",
    "                prediction.append(output[0][0])\n",
    "            prediction.append(output2[0][0])\n",
    "            prediction.append(output3[0][0])\n",
    "            prediction.append(output4[0][0])\n",
    "            predictionset.append(prediction)\n",
    "        \n",
    "        \n",
    "        yield np.array(predictionset), np.array(PARAMS_)\n",
    "\n",
    "ensemble_batch_gen = ensemble_batch_generator(paramset_size=10, paths_p_paramset=5)"
   ]
  },
  {
   "cell_type": "code",
   "execution_count": null,
   "metadata": {
    "collapsed": true
   },
   "outputs": [],
   "source": [
    "ff_ensembling.load_weights(H5_DIR_ENSEMBLING)"
   ]
  },
  {
   "cell_type": "code",
   "execution_count": null,
   "metadata": {
    "collapsed": true
   },
   "outputs": [],
   "source": [
    "\n",
    "\n",
    "for i in range(150):\n",
    "    ff_ensembling.fit_generator(ensemble_batch_gen, steps_per_epoch = 10, epochs = 1)\n",
    "    ff_ensembling.save_weights(H5_DIR_ENSEMBLING)"
   ]
  },
  {
   "cell_type": "markdown",
   "metadata": {},
   "source": [
    "# Sensitivity Tests"
   ]
  },
  {
   "cell_type": "markdown",
   "metadata": {},
   "source": [
    "### Sensitivity Test: Mu"
   ]
  },
  {
   "cell_type": "code",
   "execution_count": null,
   "metadata": {
    "collapsed": true
   },
   "outputs": [],
   "source": [
    "mu_s = []\n",
    "preds_MEAN = []\n",
    "preds_Lower_16 = []\n",
    "preds_Upper_84 = []\n",
    "\n",
    "\n",
    "preds_SO_MEAN = []\n",
    "preds_SO_Upper_84 = []\n",
    "preds_SO_Lower_16 = []"
   ]
  },
  {
   "cell_type": "code",
   "execution_count": null,
   "metadata": {
    "collapsed": true
   },
   "outputs": [],
   "source": [
    "for j in range(100):\n",
    "    mp = test_set_model_params()\n",
    "    mp.gbm_mu = -1 + float(j)/50\n",
    "    test_set = []\n",
    "    \n",
    "    print(j)\n",
    "    \n",
    "    print(\"GENERATION...\")\n",
    "    test_set_pred = standard_convolutional_test_set(mp=mp)\n",
    "    \n",
    "    \n",
    "    print(\"PREDICTION...\\n\")\n",
    "    predictions_lambda = covnet_lambda.predict(test_set_pred)\n",
    "    predictions_jump_mu = covnet_jump_mu.predict(test_set_pred)\n",
    "    predictions_jump_sigma = covnet_jump_sigma.predict(test_set_pred)\n",
    "    predictions_sigma = covnet_sigma.predict(test_set_pred)\n",
    "    predictions_mu = covnet_mu.predict(test_set_pred)\n",
    "    \n",
    "    predictions_so = [predictions_sigma, predictions_mu, predictions_jump_sigma, predictions_jump_mu, predictions_lambda]\n",
    "    \n",
    "    preds_SO_MEAN.append(np.mean(predictions_so, axis = 1))\n",
    "    preds_SO_Upper_84.append(np.percentile(predictions_so, 84, axis = 1))\n",
    "    preds_SO_Lower_16.append(np.percentile(predictions_so, 16, axis = 1))\n",
    "    \n",
    "    mu_s.append(mp.gbm_mu)\n",
    "    \n",
    "    predictions_elu = covnet_mo_elu.predict(test_set_pred)\n",
    "    \n",
    "    preds_MEAN.append(np.mean(predictions_elu, axis = 1))\n",
    "    preds_Upper_84.append(np.percentile(predictions_elu, 84, axis = 1))\n",
    "    preds_Lower_16.append(np.percentile(predictions_elu, 16, axis = 1))\n",
    "    \n",
    "    print(np.transpose(np.mean(predictions_so, axis = 1)))\n",
    "    print(\"   sigma,       mu,      jump_sigma,   jump_mu,    lambda\")\n",
    "    print(\"    0.1         \"+str(mp.gbm_mu)+\"     0.07              0.05       0.02\")\n",
    "    print(np.transpose(np.mean(predictions_elu, axis = 1)))\n",
    "    \n",
    "np.save(\"./Sensitivity-Test-Results/Sensitivity_Test-covnet_SO-Mu_preds_Upper_84.npy\", preds_SO_Upper_84)\n",
    "np.save(\"./Sensitivity-Test-Results/Sensitivity_Test-covnet_SO-Mu_preds_Lower_16.npy\", preds_SO_Lower_16)\n",
    "np.save(\"./Sensitivity-Test-Results/Sensitivity_Test-covnet_SO-Mu_preds_MEAN.npy\", preds_SO_MEAN)\n",
    "    \n",
    "np.save(\"./Sensitivity-Test-Results/Sensitivity_Test-covnet_MultipleO-Mu_preds_Upper_84.npy\", preds_Upper_84)\n",
    "np.save(\"./Sensitivity-Test-Results/Sensitivity_Test-covnet_MultipleO-Mu_preds_Lower_16.npy\", preds_Lower_16)\n",
    "np.save(\"./Sensitivity-Test-Results/Sensitivity_Test-covnet_MultipleO-Mu_preds_MEAN.npy\", preds_MEAN)\n",
    "    \n",
    "np.save(\"./Sensitivity-Test-Results/Sensitivity_Test-covnet_lambda_Mu_mu_s.npy\", mu_s)"
   ]
  },
  {
   "cell_type": "code",
   "execution_count": null,
   "metadata": {
    "collapsed": true
   },
   "outputs": [],
   "source": [
    "np.save(\"./Sensitivity-Test-Results/Sensitivity_Test-covnet_SO-Mu_preds_Upper_84.npy\", preds_SO_Upper_84)\n",
    "np.save(\"./Sensitivity-Test-Results/Sensitivity_Test-covnet_SO-Mu_preds_Lower_16.npy\", preds_SO_Lower_16)\n",
    "np.save(\"./Sensitivity-Test-Results/Sensitivity_Test-covnet_SO-Mu_preds_MEAN.npy\", preds_SO_MEAN)\n",
    "    \n",
    "np.save(\"./Sensitivity-Test-Results/Sensitivity_Test-covnet_MultipleO-Mu_preds_Upper_84.npy\", preds_Upper_84)\n",
    "np.save(\"./Sensitivity-Test-Results/Sensitivity_Test-covnet_MultipleO-Mu_preds_Lower_16.npy\", preds_Lower_16)\n",
    "np.save(\"./Sensitivity-Test-Results/Sensitivity_Test-covnet_MultipleO-Mu_preds_MEAN.npy\", preds_MEAN)\n",
    "    \n",
    "np.save(\"./Sensitivity-Test-Results/Sensitivity_Test-covnet_lambda_Mu_mu_s.npy\", mu_s)"
   ]
  },
  {
   "cell_type": "code",
   "execution_count": null,
   "metadata": {
    "collapsed": true
   },
   "outputs": [],
   "source": [
    "sigmas = np.array(preds_MEAN)[:,0].reshape(100)\n",
    "sigma_upper_84 = np.array(preds_Upper_84)[:,0].reshape(100)\n",
    "sigma_lower_16 = np.array(preds_Lower_16)[:,0].reshape(100)\n",
    "\n",
    "sigmas_single = np.array(preds_SO_MEAN)[:,0].reshape(100)\n",
    "sigma_upper_84_single = np.array(preds_SO_Upper_84)[:,0].reshape(100)\n",
    "sigma_lower_16_single = np.array(preds_SO_Lower_16)[:,0].reshape(100)"
   ]
  },
  {
   "cell_type": "code",
   "execution_count": null,
   "metadata": {
    "collapsed": true
   },
   "outputs": [],
   "source": [
    "fig = pylab.figure()\n",
    "sns.set_style(\"white\")\n",
    "pylab.plot(mu_s, sigmas, color='r', label=\"predicted value\");\n",
    "pylab.axhline(y=0.1, color='black', linestyle='-', label=\"actual value\")\n",
    "pylab.fill_between(mu_s, sigma_lower_16, sigma_upper_84, color='r', alpha=0.1, edgecolor='none')\n",
    "pylab.xlabel(\"Mu\")\n",
    "pylab.ylabel(\"Sigma\")\n",
    "\n",
    "pylab.legend(bbox_to_anchor=(1, 1), loc=1, borderaxespad=0.)\n",
    "pylab.show();\n",
    "fig.savefig(ROOT_DIR + \"/Images/Output-Sensitivity-Results/ConvolutionalNN-MultipleOutput-ELU/Varying-Mu/\"+\"sigma.png\")"
   ]
  },
  {
   "cell_type": "code",
   "execution_count": null,
   "metadata": {
    "collapsed": true
   },
   "outputs": [],
   "source": [
    "fig = pylab.figure()\n",
    "sns.set_style(\"white\")\n",
    "pylab.plot(mu_s, sigmas_single, color='r', label=\"predicted value\");\n",
    "pylab.axhline(y=0.1, color='black', linestyle='-', label=\"actual value\")\n",
    "pylab.fill_between(mu_s, sigma_lower_16_single, sigma_upper_84_single, color='r', alpha=0.1, edgecolor='none')\n",
    "pylab.xlabel(\"Mu\")\n",
    "pylab.ylabel(\"Sigma\")\n",
    "\n",
    "pylab.legend(bbox_to_anchor=(1, 1), loc=1, borderaxespad=0.)\n",
    "pylab.show();\n",
    "fig.savefig(ROOT_DIR + \"/Images/Output-Sensitivity-Results/ConvolutionalNN-SingleOutput/Varying-Mu/\"+\"sigma.png\")"
   ]
  },
  {
   "cell_type": "code",
   "execution_count": null,
   "metadata": {
    "collapsed": true
   },
   "outputs": [],
   "source": [
    "jump_sigmas = np.array(preds_MEAN)[:,2].reshape(100)\n",
    "jump_sigmas_upper_84 = np.array(preds_Upper_84)[:,2].reshape(100)\n",
    "jump_sigmas_lower_16 = np.array(preds_Lower_16)[:,2].reshape(100)"
   ]
  },
  {
   "cell_type": "code",
   "execution_count": null,
   "metadata": {
    "collapsed": true
   },
   "outputs": [],
   "source": [
    "fig = pylab.figure()\n",
    "pylab.plot(mu_s, jump_sigmas, color='b', label=\"predicted value\");\n",
    "pylab.axhline(y=0.07, color='black', linestyle='-', label=\"actual value\")\n",
    "pylab.fill_between(mu_s, jump_sigmas_lower_16, jump_sigmas_upper_84, color='b', alpha=0.1, edgecolor='none')\n",
    "pylab.xlabel(\"Mu\")\n",
    "pylab.ylabel(\"Jumps Sigma\")\n",
    "\n",
    "pylab.legend(bbox_to_anchor=(1, 1), loc=1, borderaxespad=0.)\n",
    "pylab.show();\n",
    "fig.savefig(ROOT_DIR + \"/Images/Output-Sensitivity-Results/ConvolutionalNN-MultipleOutput-ELU/Varying-Mu/\"+\"Jumps_Sigma.png\")"
   ]
  },
  {
   "cell_type": "code",
   "execution_count": null,
   "metadata": {
    "collapsed": true
   },
   "outputs": [],
   "source": [
    "jump_mus = np.array(preds_MEAN)[:,3].reshape(100)\n",
    "jump_mus_upper_84 = np.array(preds_Upper_84)[:,3].reshape(100)\n",
    "jump_mus_lower_16 = np.array(preds_Lower_16)[:,3].reshape(100)"
   ]
  },
  {
   "cell_type": "code",
   "execution_count": null,
   "metadata": {
    "collapsed": true
   },
   "outputs": [],
   "source": [
    "fig = pylab.figure()\n",
    "pylab.plot(mu_s, jump_mus, color='g', label=\"predicted value\");\n",
    "pylab.axhline(y=0.05, color='black', linestyle='-', label=\"actual value\")\n",
    "pylab.fill_between(mu_s, jump_mus_lower_16, jump_mus_upper_84, color='g', alpha=0.1, edgecolor='none')\n",
    "pylab.xlabel(\"Mu\")\n",
    "pylab.ylabel(\"Jumps Mu\")\n",
    "\n",
    "pylab.legend(bbox_to_anchor=(1, 1), loc=1, borderaxespad=0.)\n",
    "pylab.show();\n",
    "fig.savefig(ROOT_DIR + \"/Images/Output-Sensitivity-Results/ConvolutionalNN-MultipleOutput-ELU/Varying-Mu/\"+\"Jumps_Mu.png\")"
   ]
  },
  {
   "cell_type": "code",
   "execution_count": null,
   "metadata": {
    "collapsed": true
   },
   "outputs": [],
   "source": [
    "lambdas = np.array(preds_MEAN)[:,4].reshape(100)\n",
    "lambdas_upper_84 = np.array(preds_Upper_84)[:,4].reshape(100)\n",
    "lambdas_lower_16 = np.array(preds_Lower_16)[:,4].reshape(100)"
   ]
  },
  {
   "cell_type": "code",
   "execution_count": null,
   "metadata": {
    "collapsed": true
   },
   "outputs": [],
   "source": [
    "fig = pylab.figure()\n",
    "pylab.plot(mu_s, lambdas, color='y', label=\"predicted value\");\n",
    "pylab.axhline(y=0.02, color='black', linestyle='-', label=\"actual value\")\n",
    "pylab.fill_between(mu_s, lambdas_lower_16, lambdas_upper_84, color='y', alpha=0.2, edgecolor='none')\n",
    "pylab.xlabel(\"Mu\")\n",
    "pylab.ylabel(\"Lambda\")\n",
    "\n",
    "pylab.legend(bbox_to_anchor=(1, 1), loc=1, borderaxespad=0.)\n",
    "pylab.show();\n",
    "fig.savefig(ROOT_DIR + \"/Images/Output-Sensitivity-Results/ConvolutionalNN-MultipleOutput-ELU/Varying-Mu/\"+\"Lambda.png\")"
   ]
  },
  {
   "cell_type": "code",
   "execution_count": null,
   "metadata": {
    "collapsed": true
   },
   "outputs": [],
   "source": [
    "mus_ = np.array(preds_MEAN)[:,1].reshape(100)\n",
    "mus_upper_84 = np.array(preds_Upper_84)[:,1].reshape(100)\n",
    "mus_lower_16 = np.array(preds_Lower_16)[:,1].reshape(100)"
   ]
  },
  {
   "cell_type": "code",
   "execution_count": null,
   "metadata": {
    "collapsed": true
   },
   "outputs": [],
   "source": [
    "fig = pylab.figure()\n",
    "pylab.plot(mu_s, mus_-mu_s, color='g', label=\"predicted value\");\n",
    "#pylab.plot(0, mu_s, color='black', alpha = 0.5, label=\"actual value\");\n",
    "pylab.axhline(y=0, color='black', linestyle='-', label=\"actual value\")\n",
    "pylab.fill_between(mu_s, mus_lower_16-mu_s, mus_upper_84-mu_s, color='g', alpha=0.1, edgecolor='none')\n",
    "pylab.xlabel(\"Mu\")\n",
    "pylab.ylabel(\"Prediction Deviation from Mu\")\n",
    "ax = pylab.gca()\n",
    "vals = ax.get_yticks()\n",
    "ax.set_yticklabels(['-'+str(x) for x in vals[vals<0]] + [0] + ['+'+str(x) for x in vals[vals>0]])\n",
    "\n",
    "pylab.legend(bbox_to_anchor=(1, 0.185), loc=1, borderaxespad=0.)\n",
    "pylab.show();\n",
    "fig.savefig(ROOT_DIR + \"/Images/Output-Sensitivity-Results/ConvolutionalNN-MultipleOutput-ELU/Varying-Mu/\"+\"Mu.png\")"
   ]
  },
  {
   "cell_type": "markdown",
   "metadata": {},
   "source": [
    "# Sensitivity Test - Sigma"
   ]
  },
  {
   "cell_type": "code",
   "execution_count": null,
   "metadata": {
    "collapsed": true
   },
   "outputs": [],
   "source": [
    "sigma_s = []\n",
    "\n",
    "preds_MEAN = []\n",
    "preds_Lower_16 = []\n",
    "preds_Upper_84 = []\n",
    "\n",
    "preds_SO_MEAN = []\n",
    "preds_SO_Upper_84 = []\n",
    "preds_SO_Lower_16 = []\n",
    "\n",
    "for j in range(100):\n",
    "    mp = test_set_model_params()\n",
    "    mp.all_sigma = 0.001 + j*(0.2 - 0.001)/100\n",
    "    test_set = []\n",
    "    \n",
    "    print(j)\n",
    "    \n",
    "    print(\"GENERATION...\")\n",
    "    test_set_pred = standard_convolutional_test_set(mp=mp)\n",
    "    \n",
    "    \n",
    "    print(\"PREDICTION...\\n\")\n",
    "    predictions_lambda = covnet_lambda.predict(test_set_pred)\n",
    "    predictions_jump_mu = covnet_jump_mu.predict(test_set_pred)\n",
    "    predictions_jump_sigma = covnet_jump_sigma.predict(test_set_pred)\n",
    "    predictions_sigma = covnet_sigma.predict(test_set_pred)\n",
    "    predictions_mu = covnet_mu.predict(test_set_pred)\n",
    "    \n",
    "    predictions_so = [predictions_sigma, predictions_mu, predictions_jump_sigma, predictions_jump_mu, predictions_lambda]\n",
    "    \n",
    "    preds_SO_MEAN.append(np.mean(predictions_so, axis = 1))\n",
    "    preds_SO_Upper_84.append(np.percentile(predictions_so, 84, axis = 1))\n",
    "    preds_SO_Lower_16.append(np.percentile(predictions_so, 16, axis = 1))\n",
    "    \n",
    "    sigma_s.append(mp.all_sigma)\n",
    "    \n",
    "    predictions_elu = covnet_mo_elu.predict(test_set_pred)\n",
    "    \n",
    "    preds_MEAN.append(np.mean(predictions_elu, axis = 1))\n",
    "    preds_Upper_84.append(np.percentile(predictions_elu, 84, axis = 1))\n",
    "    preds_Lower_16.append(np.percentile(predictions_elu, 16, axis = 1))\n",
    "    \n",
    "    print(np.transpose(np.mean(predictions_so, axis = 1)))\n",
    "    print(\"   sigma,       mu,      jump_sigma,   jump_mu,    lambda\")\n",
    "    print(\"   \"+str(mp.all_sigma)+\"      0.05       0.07              0.05       0.02\")\n",
    "    print(np.transpose(np.mean(predictions_elu, axis = 1)))\n",
    "    \n",
    "np.save(\"./Sensitivity-Test-Results/Sensitivity_Test-Covnet_MO_Sigma_sigma_s.npy\", sigma_s)\n",
    "   \n",
    "np.save(\"./Sensitivity-Test-Results/Sensitivity_Test-covnet_SO-Sigma_preds_Upper_84.npy\", preds_SO_Upper_84)\n",
    "np.save(\"./Sensitivity-Test-Results/Sensitivity_Test-covnet_SO-Sigma_preds_Lower_16.npy\", preds_SO_Lower_16)\n",
    "np.save(\"./Sensitivity-Test-Results/Sensitivity_Test-covnet_SO-Sigma_preds_MEAN.npy\", preds_SO_MEAN)\n",
    "    \n",
    "np.save(\"./Sensitivity-Test-Results/Sensitivity_Test-covnet_MultipleO-Sigma_preds_Upper_84.npy\", preds_Upper_84)\n",
    "np.save(\"./Sensitivity-Test-Results/Sensitivity_Test-covnet_MultipleO-Sigma_preds_Lower_16.npy\", preds_Lower_16)\n",
    "np.save(\"./Sensitivity-Test-Results/Sensitivity_Test-covnet_MultipleO-Sigma_preds_MEAN.npy\", preds_MEAN)"
   ]
  },
  {
   "cell_type": "code",
   "execution_count": null,
   "metadata": {
    "collapsed": true
   },
   "outputs": [],
   "source": [
    "sigma_s = []\n",
    "preds_MEAN = []\n",
    "preds_Lower_16 = []\n",
    "preds_Upper_84 = []\n",
    "\n",
    "for j in range(100):\n",
    "    covnet_mo_elu = covnet_multiple_output_with_ELUs()\n",
    "    covnet_mo_elu.load_weights(H5_DIR_COVNET_MULTIPLE_ELU)\n",
    "    \n",
    "    mp.all_sigma = 0.001 + j*(0.2 - 0.001)/100\n",
    "    test_set = []\n",
    "    \n",
    "    print(j)\n",
    "    \n",
    "    print(\"GENERATION...\")\n",
    "    test_set_pred = standard_convolutional_test_set()\n",
    "    \n",
    "    print(\"PREDICTION...\\n\")\n",
    "    predictions_elu = covnet_mo_elu.predict(test_set_pred)\n",
    "    \n",
    "    print(np.transpose(np.mean(predictions_elu, axis = 1)))\n",
    "    print(\"   sigma,    mu,      jump_sigma,      jump_mu,    lambda\")\n",
    "    print(\"   \"+str(mp.all_sigma)+\"      0.05       0.07              0.05       0.02\")\n",
    "    print(np.mean(predictions_elu, axis = 1)+np.std(predictions_elu, axis = 1))\n",
    "    print(np.percentile(predictions_elu, 84, axis = 1))\n",
    "    preds_MEAN.append(np.mean(predictions_elu, axis = 1))\n",
    "    preds_Upper_84.append(np.percentile(predictions_elu, 84, axis = 1))\n",
    "    preds_Lower_16.append(np.percentile(predictions_elu, 16, axis = 1))\n",
    "    sigma_s.append(mp.all_sigma)\n",
    "    \n",
    "np.save(\"Sensitivity_Test-Covnet_MO_Sigma_sigma_s.npy\", sigma_s)\n",
    "np.save(\"Sensitivity_Test-Covnet_MO_Sigma_preds_MEAN.npy\", preds_MEAN)\n",
    "np.save(\"Sensitivity_Test-Covnet_MO_Sigma_preds_Upper_84.npy\", preds_Upper_84)\n",
    "np.save(\"Sensitivity_Test-Covnet_MO_Sigma_preds_Lower_16.npy\", preds_Lower_16)"
   ]
  },
  {
   "cell_type": "code",
   "execution_count": null,
   "metadata": {
    "collapsed": true
   },
   "outputs": [],
   "source": [
    "sigma_s = np.load(\"Sensitivity_Test-Covnet_MO_Sigma_sigma_s.npy\")\n",
    "preds_MEAN = np.load(\"Sensitivity_Test-Covnet_MO_Sigma_preds_MEAN.npy\")\n",
    "preds_Upper_84 = np.load(\"Sensitivity_Test-Covnet_MO_Sigma_preds_Upper_84.npy\")\n",
    "preds_Lower_16 = np.load(\"Sensitivity_Test-Covnet_MO_Sigma_preds_Lower_16.npy\")"
   ]
  },
  {
   "cell_type": "code",
   "execution_count": null,
   "metadata": {
    "collapsed": true
   },
   "outputs": [],
   "source": [
    "sigmas = np.array(preds_MEAN)[:,0].reshape(100)\n",
    "sigma_upper_84 = np.array(preds_Upper_84)[:,0].reshape(100)\n",
    "sigma_lower_16 = np.array(preds_Lower_16)[:,0].reshape(100)\n",
    "\n",
    "fig = pylab.figure()\n",
    "pylab.plot(sigma_s, sigmas-sigma_s, color='r', label=\"predicted value\");\n",
    "#pylab.plot(sigma_s, sigma_s, color='black', label=\"actual value\");\n",
    "pylab.axhline(y=0, color='black', linestyle='-', label=\"actual value\")\n",
    "pylab.fill_between(sigma_s, sigma_lower_16-sigma_s, sigma_upper_84-sigma_s, color='r', alpha=0.1, edgecolor='none')\n",
    "pylab.xlabel(\"Sigma\")\n",
    "pylab.ylabel(\"Prediction Deviation from Sigma\")\n",
    "ax = pylab.gca()\n",
    "vals = ax.get_yticks()\n",
    "ax.set_yticklabels(['-'+str(x) for x in vals[vals<0]] + [0] + ['+'+str(x) for x in vals[vals>0]])\n",
    "\n",
    "\n",
    "pylab.legend(bbox_to_anchor=(1, 0.185), loc=0, borderaxespad=0.)\n",
    "pylab.show();\n",
    "fig.savefig(ROOT_DIR + \"/Images/Output-Sensitivity-Results/ConvolutionalNN-MultipleOutput-ELU/Varying-Sigma/\"+\"Sigma.png\")"
   ]
  },
  {
   "cell_type": "code",
   "execution_count": null,
   "metadata": {
    "collapsed": true
   },
   "outputs": [],
   "source": [
    "jump_sigmas = np.array(preds_MEAN)[:,2].reshape(100)\n",
    "jump_sigmas_upper_84 = np.array(preds_Upper_84)[:,2].reshape(100)\n",
    "jump_sigmas_lower_16 = np.array(preds_Lower_16)[:,2].reshape(100)\n",
    "\n",
    "fig = pylab.figure()\n",
    "pylab.plot(sigma_s, jump_sigmas, color='b', label=\"predicted value\");\n",
    "pylab.axhline(y=0.07, color='black', linestyle='-', label=\"actual value\")\n",
    "pylab.fill_between(sigma_s, jump_sigmas_lower_16, jump_sigmas_upper_84, color='b', alpha=0.1, edgecolor='none')\n",
    "pylab.xlabel(\"Sigma\")\n",
    "pylab.ylabel(\"Jumps Sigma\")\n",
    "\n",
    "pylab.legend(bbox_to_anchor=(1, 0.185), loc=1, borderaxespad=0.)\n",
    "pylab.show();\n",
    "fig.savefig(ROOT_DIR + \"/Images/Output-Sensitivity-Results/ConvolutionalNN-MultipleOutput-ELU/Varying-Sigma/\"+\"Jumps_Sigma.png\")"
   ]
  },
  {
   "cell_type": "code",
   "execution_count": null,
   "metadata": {
    "collapsed": true
   },
   "outputs": [],
   "source": [
    "jump_mus = np.array(preds_MEAN)[:,3].reshape(100)\n",
    "jump_mus_upper_84 = np.array(preds_Upper_84)[:,3].reshape(100)\n",
    "jump_mus_lower_16 = np.array(preds_Lower_16)[:,3].reshape(100)\n",
    "\n",
    "fig = pylab.figure()\n",
    "pylab.plot(sigma_s, jump_mus, color='g', label=\"predicted value\");\n",
    "pylab.axhline(y=0.05, color='black', linestyle='-', label=\"actual value\")\n",
    "pylab.fill_between(sigma_s, jump_mus_lower_16, jump_mus_upper_84, color='g', alpha=0.1, edgecolor='none')\n",
    "pylab.xlabel(\"Sigma\")\n",
    "pylab.ylabel(\"Jumps Mu\")\n",
    "\n",
    "pylab.legend(bbox_to_anchor=(1, 0.185), loc=1, borderaxespad=0.)\n",
    "pylab.show();\n",
    "fig.savefig(ROOT_DIR + \"/Images/Output-Sensitivity-Results/ConvolutionalNN-MultipleOutput-ELU/Varying-Sigma/\"+\"Jumps_Mu.png\")"
   ]
  },
  {
   "cell_type": "code",
   "execution_count": null,
   "metadata": {
    "collapsed": true
   },
   "outputs": [],
   "source": [
    "lambdas = np.array(preds_MEAN)[:,4].reshape(100)\n",
    "lambdas_upper_84 = np.array(preds_Upper_84)[:,4].reshape(100)\n",
    "lambdas_lower_16 = np.array(preds_Lower_16)[:,4].reshape(100)\n",
    "\n",
    "fig = pylab.figure()\n",
    "pylab.plot(sigma_s, lambdas, color='y', label=\"predicted value\");\n",
    "pylab.axhline(y=0.02, color='black', linestyle='-', label=\"actual value\")\n",
    "pylab.fill_between(sigma_s, lambdas_lower_16, lambdas_upper_84, color='y', alpha=0.2, edgecolor='none')\n",
    "pylab.xlabel(\"Sigma\")\n",
    "pylab.ylabel(\"Lambda\")\n",
    "\n",
    "pylab.legend(bbox_to_anchor=(1, 0.185), loc=1, borderaxespad=0.)\n",
    "pylab.show();\n",
    "fig.savefig(ROOT_DIR + \"/Images/Output-Sensitivity-Results/ConvolutionalNN-MultipleOutput-ELU/Varying-Sigma/\"+\"Lambda.png\")"
   ]
  },
  {
   "cell_type": "code",
   "execution_count": null,
   "metadata": {
    "collapsed": true
   },
   "outputs": [],
   "source": [
    "mus_ = np.array(preds_MEAN)[:,1].reshape(100)\n",
    "mus_upper_84 = np.array(preds_Upper_84)[:,1].reshape(100)\n",
    "mus_lower_16 = np.array(preds_Lower_16)[:,1].reshape(100)\n",
    "\n",
    "fig = pylab.figure()\n",
    "pylab.plot(sigma_s, mus_, color='g', label=\"predicted value\");\n",
    "pylab.axhline(y=0.05, color='black', linestyle='-', label=\"actual value\")\n",
    "pylab.fill_between(sigma_s, mus_lower_16, mus_upper_84, color='g', alpha=0.1, edgecolor='none')\n",
    "pylab.xlabel(\"Sigma\")\n",
    "pylab.ylabel(\"Mu\")\n",
    "\n",
    "pylab.legend(bbox_to_anchor=(0.4085, 1), loc=1, borderaxespad=0.)\n",
    "pylab.show();\n",
    "fig.savefig(ROOT_DIR + \"/Images/Output-Sensitivity-Results/ConvolutionalNN-MultipleOutput-ELU/Varying-Sigma/\"+\"Mu.png\")"
   ]
  },
  {
   "cell_type": "markdown",
   "metadata": {},
   "source": [
    "# Sensitivity Test - Jumps Sigma"
   ]
  },
  {
   "cell_type": "code",
   "execution_count": null,
   "metadata": {
    "collapsed": true
   },
   "outputs": [],
   "source": [
    "jump_sigma_s = []\n",
    "\n",
    "preds_MEAN = []\n",
    "preds_Lower_16 = []\n",
    "preds_Upper_84 = []\n",
    "\n",
    "preds_SO_MEAN = []\n",
    "preds_SO_Upper_84 = []\n",
    "preds_SO_Lower_16 = []\n",
    "\n",
    "for j in range(100):\n",
    "    mp = test_set_model_params()\n",
    "    mp.jumps_sigma = 0.001 + j*(0.2 - 0.001)/100\n",
    "    test_set = []\n",
    "    \n",
    "    print(j)\n",
    "    \n",
    "    print(\"GENERATION...\")\n",
    "    test_set_pred = standard_convolutional_test_set(mp=mp)\n",
    "    \n",
    "    \n",
    "    print(\"PREDICTION...\\n\")\n",
    "    predictions_lambda = covnet_lambda.predict(test_set_pred)\n",
    "    predictions_jump_mu = covnet_jump_mu.predict(test_set_pred)\n",
    "    predictions_jump_sigma = covnet_jump_sigma.predict(test_set_pred)\n",
    "    predictions_sigma = covnet_sigma.predict(test_set_pred)\n",
    "    predictions_mu = covnet_mu.predict(test_set_pred)\n",
    "    \n",
    "    predictions_so = [predictions_sigma, predictions_mu, predictions_jump_sigma, predictions_jump_mu, predictions_lambda]\n",
    "    \n",
    "    preds_SO_MEAN.append(np.mean(predictions_so, axis = 1))\n",
    "    preds_SO_Upper_84.append(np.percentile(predictions_so, 84, axis = 1))\n",
    "    preds_SO_Lower_16.append(np.percentile(predictions_so, 16, axis = 1))\n",
    "    \n",
    "    jump_sigma_s.append(mp.jumps_sigma)\n",
    "    \n",
    "    predictions_elu = covnet_mo_elu.predict(test_set_pred)\n",
    "    \n",
    "    preds_MEAN.append(np.mean(predictions_elu, axis = 1))\n",
    "    preds_Upper_84.append(np.percentile(predictions_elu, 84, axis = 1))\n",
    "    preds_Lower_16.append(np.percentile(predictions_elu, 16, axis = 1))\n",
    "    \n",
    "    print(np.transpose(np.mean(predictions_so, axis = 1)))\n",
    "    print(\"   sigma,       mu,      jump_sigma,   jump_mu,    lambda\")\n",
    "    print(\"   0.1      0.05       \"+str(mp.jumps_sigma)+\"              0.05       0.02\")\n",
    "    print(np.transpose(np.mean(predictions_elu, axis = 1)))\n",
    "    \n",
    "np.save(\"Sensitivity_Test-Covnet_MO_JumpSigma_jumpsigma_s.npy\", jump_sigma_s)\n",
    "   \n",
    "np.save(\"./Sensitivity-Test-Results/Sensitivity_Test-covnet_SO-JumpSigma_preds_Upper_84.npy\", preds_SO_Upper_84)\n",
    "np.save(\"./Sensitivity-Test-Results/Sensitivity_Test-covnet_SO-JumpSigma_preds_Lower_16.npy\", preds_SO_Lower_16)\n",
    "np.save(\"./Sensitivity-Test-Results/Sensitivity_Test-covnet_SO-JumpSigma_preds_MEAN.npy\", preds_SO_MEAN)\n",
    "    \n",
    "np.save(\"./Sensitivity-Test-Results/Sensitivity_Test-covnet_MultipleO-JumpSigma_preds_Upper_84.npy\", preds_Upper_84)\n",
    "np.save(\"./Sensitivity-Test-Results/Sensitivity_Test-covnet_MultipleO-JumpSigma_preds_Lower_16.npy\", preds_Lower_16)\n",
    "np.save(\"./Sensitivity-Test-Results/Sensitivity_Test-covnet_MultipleO-JumpSigma_preds_MEAN.npy\", preds_MEAN)"
   ]
  },
  {
   "cell_type": "code",
   "execution_count": null,
   "metadata": {
    "collapsed": true
   },
   "outputs": [],
   "source": [
    "jump_sigma_s = []\n",
    "preds_MEAN = []\n",
    "preds_Lower_16 = []\n",
    "preds_Upper_84 = []\n",
    "\n",
    "for j in range(100):\n",
    "    covnet_mo_elu = covnet_multiple_output_with_ELUs()\n",
    "    covnet_mo_elu.load_weights(H5_DIR_COVNET_MULTIPLE_ELU)\n",
    "    \n",
    "    mp.jumps_sigma = 0.001 + j*(0.2 - 0.001)/100\n",
    "    test_set = []\n",
    "    \n",
    "    print(str(j) + \" out of \"+str(100))\n",
    "    \n",
    "    print(\"GENERATION...\")\n",
    "    test_set_pred = standard_convolutional_test_set()\n",
    "    \n",
    "    \n",
    "    print(\"PREDICTION...\\n\")\n",
    "    predictions_elu = covnet_mo_elu.predict(test_set_pred)\n",
    "    \n",
    "    print(np.transpose(np.mean(predictions_elu, axis = 1)))\n",
    "    print(\"   sigma,    mu,      jump_sigma,      jump_mu,    lambda\")\n",
    "    print(\"   0.1      0.05       \"+str(mp.jumps_sigma)+\"              0.05       0.02\")\n",
    "    preds_MEAN.append(np.mean(predictions_elu, axis = 1))\n",
    "    jump_sigma_s.append(mp.jumps_sigma)\n",
    "    preds_Upper_84.append(np.percentile(predictions_elu, 84, axis = 1))\n",
    "    preds_Lower_16.append(np.percentile(predictions_elu, 16, axis = 1))\n",
    "    \n",
    "np.save(\"Sensitivity_Test-Covnet_MO_JumpSigma_preds_Upper_84.npy\", preds_Upper_84)\n",
    "np.save(\"Sensitivity_Test-Covnet_MO_JumpSigma_preds_Lower_16.npy\", preds_Lower_16)\n",
    "np.save(\"Sensitivity_Test-Covnet_MO_JumpSigma_jump_sigma_s.npy\", jump_sigma_s)\n",
    "np.save(\"Sensitivity_Test-Covnet_MO_JumpSigma_preds_MEAN.npy\", preds_MEAN)"
   ]
  },
  {
   "cell_type": "code",
   "execution_count": null,
   "metadata": {
    "collapsed": true
   },
   "outputs": [],
   "source": [
    "preds_Upper_84 = np.load(\"Sensitivity_Test-Covnet_MO_JumpSigma_preds_Upper_84.npy\")\n",
    "preds_Lower_16 = np.load(\"Sensitivity_Test-Covnet_MO_JumpSigma_preds_Lower_16.npy\")\n",
    "jump_sigma_s = np.load(\"Sensitivity_Test-Covnet_MO_JumpSigma_jump_sigma_s.npy\")\n",
    "preds_MEAN = np.load(\"Sensitivity_Test-Covnet_MO_JumpSigma_preds_MEAN.npy\")"
   ]
  },
  {
   "cell_type": "code",
   "execution_count": null,
   "metadata": {
    "collapsed": true
   },
   "outputs": [],
   "source": [
    "def sensitivity_plot_w_true_value(x_values, predictions, true_value, upper_confidence_predictions, lower_confidence_predictions, \n",
    "                                  x_name, y_name, line_color = 'b', save_dir = None, legend_anchor = (1,1)):\n",
    "    fig = pylab.figure()\n",
    "    pylab.plot(x_values, predictions, color=line_color, label=\"predicted value\");\n",
    "    pylab.axhline(y=true_value, color='black', linestyle='-', label=\"actual value\")\n",
    "    pylab.fill_between(x_values, mus_lower_16, mus_upper_84, color=line_color, alpha=0.1, edgecolor='none')\n",
    "    pylab.xlabel(x_name)\n",
    "    pylab.ylabel(y_name)\n",
    "\n",
    "    pylab.legend(bbox_to_anchor=legend_anchor, loc=1, borderaxespad=0.)\n",
    "    if save_dir != None:\n",
    "        fig.savefig(save_dir)\n",
    "    \n",
    "    return fig"
   ]
  },
  {
   "cell_type": "code",
   "execution_count": null,
   "metadata": {
    "collapsed": true
   },
   "outputs": [],
   "source": [
    "mus_ = np.array(preds_MEAN)[:,1].reshape(100)\n",
    "mus_upper_84 = np.array(preds_Upper_84)[:,1].reshape(100)\n",
    "mus_lower_16 = np.array(preds_Lower_16)[:,1].reshape(100)\n",
    "save_dir = ROOT_DIR + \"/Images/Output-Sensitivity-Results/ConvolutionalNN-MultipleOutput-ELU/Varying-Jumps_sigma/\"+\"Mu.png\"\n",
    "\n",
    "sensitivity_plot_w_true_value(jump_sigma_s, mus_, test_set_model_params().jumps_sigma, mus_upper_84, mus_lower_16, \n",
    "                              \"Jumps Mu\", \"Mu\", line_color = 'g', save_dir = \"./Mu.png\")"
   ]
  },
  {
   "cell_type": "code",
   "execution_count": null,
   "metadata": {
    "collapsed": true
   },
   "outputs": [],
   "source": [
    "sigmas = np.array(preds_MEAN)[:,0].reshape(100)\n",
    "sigmas_upper_84 = np.array(preds_Upper_84)[:,0].reshape(100)\n",
    "sigmas_lower_16 = np.array(preds_Lower_16)[:,0].reshape(100)\n",
    "\n",
    "fig = pylab.figure()\n",
    "pylab.plot(jump_sigma_s, sigmas, color='r', label=\"predicted value\");\n",
    "pylab.axhline(y=0.1, color='black', linestyle='-', label=\"actual value\")\n",
    "pylab.fill_between(jump_sigma_s, sigmas_lower_16, sigmas_upper_84, color='r', alpha=0.1, edgecolor='none')\n",
    "pylab.xlabel(\"Jumps Sigma\")\n",
    "pylab.ylabel(\"Sigma\")\n",
    "\n",
    "pylab.legend(bbox_to_anchor=(1, 1), loc=0, borderaxespad=0.)\n",
    "pylab.show();\n",
    "fig.savefig(ROOT_DIR + \"/Images/Output-Sensitivity-Results/ConvolutionalNN-MultipleOutput-ELU/Varying-Jumps_sigma/\"+\"Sigma.png\")"
   ]
  },
  {
   "cell_type": "code",
   "execution_count": null,
   "metadata": {
    "collapsed": true
   },
   "outputs": [],
   "source": [
    "jump_sigmas = np.array(preds_MEAN)[:,2].reshape(100)\n",
    "jump_sigmas_upper_84 = np.array(preds_Upper_84)[:,2].reshape(100)\n",
    "jump_sigmas_lower_16 = np.array(preds_Lower_16)[:,2].reshape(100)\n",
    "\n",
    "fig = pylab.figure()\n",
    "pylab.plot(jump_sigma_s, jump_sigmas, color='b', label=\"predicted value\");\n",
    "pylab.plot(jump_sigma_s, jump_sigma_s, color='black', label=\"actual value\");\n",
    "pylab.fill_between(jump_sigma_s, jump_sigmas_lower_16, jump_sigmas_upper_84, color='b', alpha=0.1, edgecolor='none')\n",
    "pylab.xlabel(\"Jumps Sigma\")\n",
    "pylab.ylabel(\"Jumps Sigma\")\n",
    "\n",
    "pylab.legend(bbox_to_anchor=(1, 0.185), loc=1, borderaxespad=0.)\n",
    "pylab.show();\n",
    "fig.savefig(ROOT_DIR + \"/Images/Output-Sensitivity-Results/ConvolutionalNN-MultipleOutput-ELU/Varying-Jumps_sigma/\"+\"Jumps_Sigma.png\")"
   ]
  },
  {
   "cell_type": "code",
   "execution_count": null,
   "metadata": {
    "collapsed": true
   },
   "outputs": [],
   "source": [
    "jump_mus = np.array(preds_MEAN)[:,3].reshape(100)\n",
    "jump_mus_upper_84 = np.array(preds_Upper_84)[:,3].reshape(100)\n",
    "jump_mus_lower_16 = np.array(preds_Lower_16)[:,3].reshape(100)\n",
    "\n",
    "fig = pylab.figure()\n",
    "pylab.plot(jump_sigma_s, jump_mus, color='g', label=\"predicted value\");\n",
    "pylab.axhline(y=0.05, color='black', linestyle='-', label=\"actual value\")\n",
    "pylab.fill_between(jump_sigma_s, jump_mus_lower_16, jump_mus_upper_84, color='g', alpha=0.1, edgecolor='none')\n",
    "pylab.xlabel(\"Jumps Sigma\")\n",
    "pylab.ylabel(\"Jumps Mu\")\n",
    "\n",
    "pylab.legend(bbox_to_anchor=(1, 0.185), loc=1, borderaxespad=0.)\n",
    "pylab.show();\n",
    "fig.savefig(ROOT_DIR + \"/Images/Output-Sensitivity-Results/ConvolutionalNN-MultipleOutput-ELU/Varying-Jumps_sigma/\"+\"Jumps_Mu.png\")"
   ]
  },
  {
   "cell_type": "code",
   "execution_count": null,
   "metadata": {
    "collapsed": true
   },
   "outputs": [],
   "source": [
    "lambdas = np.array(preds_MEAN)[:,4].reshape(100)\n",
    "lambdas_upper_84 = np.array(preds_Upper_84)[:,4].reshape(100)\n",
    "lambdas_lower_16 = np.array(preds_Lower_16)[:,4].reshape(100)\n",
    "\n",
    "fig = pylab.figure()\n",
    "pylab.plot(jump_sigma_s, lambdas, color='y', label=\"predicted value\");\n",
    "pylab.axhline(y=0.02, color='black', linestyle='-', label=\"actual value\")\n",
    "pylab.fill_between(jump_sigma_s, lambdas_lower_16, lambdas_upper_84, color='y', alpha=0.2, edgecolor='none')\n",
    "pylab.xlabel(\"Jumps Sigma\")\n",
    "pylab.ylabel(\"Lambda\")\n",
    "\n",
    "pylab.legend(bbox_to_anchor=(1, 0.185), loc=1, borderaxespad=0.)\n",
    "pylab.show();\n",
    "fig.savefig(ROOT_DIR + \"/Images/Output-Sensitivity-Results/ConvolutionalNN-MultipleOutput-ELU/Varying-Jumps_sigma/\"+\"Lambda.png\")"
   ]
  },
  {
   "cell_type": "markdown",
   "metadata": {},
   "source": [
    "# Sensitivity Test - Jumps Mu"
   ]
  },
  {
   "cell_type": "code",
   "execution_count": null,
   "metadata": {
    "collapsed": true
   },
   "outputs": [],
   "source": [
    "jump_mu_s = []\n",
    "\n",
    "preds_MEAN = []\n",
    "preds_Lower_16 = []\n",
    "preds_Upper_84 = []\n",
    "\n",
    "preds_SO_MEAN = []\n",
    "preds_SO_Upper_84 = []\n",
    "preds_SO_Lower_16 = []\n",
    "\n",
    "for j in range(100):\n",
    "    mp = test_set_model_params()\n",
    "    mp.jumps_mu = -0.5 + j/100\n",
    "    test_set = []\n",
    "    \n",
    "    print(j)\n",
    "    \n",
    "    print(\"GENERATION...\")\n",
    "    test_set_pred = standard_convolutional_test_set(mp=mp)\n",
    "    \n",
    "    \n",
    "    print(\"PREDICTION...\\n\")\n",
    "    predictions_lambda = covnet_lambda.predict(test_set_pred)\n",
    "    predictions_jump_mu = covnet_jump_mu.predict(test_set_pred)\n",
    "    predictions_jump_sigma = covnet_jump_sigma.predict(test_set_pred)\n",
    "    predictions_sigma = covnet_sigma.predict(test_set_pred)\n",
    "    predictions_mu = covnet_mu.predict(test_set_pred)\n",
    "    \n",
    "    predictions_so = [predictions_sigma, predictions_mu, predictions_jump_sigma, predictions_jump_mu, predictions_lambda]\n",
    "    \n",
    "    preds_SO_MEAN.append(np.mean(predictions_so, axis = 1))\n",
    "    preds_SO_Upper_84.append(np.percentile(predictions_so, 84, axis = 1))\n",
    "    preds_SO_Lower_16.append(np.percentile(predictions_so, 16, axis = 1))\n",
    "    \n",
    "    jump_mu_s.append(mp.jumps_mu)\n",
    "    \n",
    "    predictions_elu = covnet_mo_elu.predict(test_set_pred)\n",
    "    \n",
    "    preds_MEAN.append(np.mean(predictions_elu, axis = 1))\n",
    "    preds_Upper_84.append(np.percentile(predictions_elu, 84, axis = 1))\n",
    "    preds_Lower_16.append(np.percentile(predictions_elu, 16, axis = 1))\n",
    "    \n",
    "    print(np.transpose(np.mean(predictions_so, axis = 1)))\n",
    "    print(\"   sigma,       mu,      jump_sigma,   jump_mu,    lambda\")\n",
    "    print(\"   0.1      0.05       0.07              \"+str(mp.jumps_mu)+\"       0.02\")\n",
    "    print(np.transpose(np.mean(predictions_elu, axis = 1)))\n",
    "    \n",
    "np.save(\"Sensitivity_Test-Covnet_MO_JumpMu_jump_mu_s.npy\", jump_mu_s)\n",
    "\n",
    "np.save(\"./Sensitivity-Test-Results/Sensitivity_Test-covnet_SO-JumpMu_preds_Upper_84.npy\", preds_SO_Upper_84)\n",
    "np.save(\"./Sensitivity-Test-Results/Sensitivity_Test-covnet_SO-JumpMu_preds_Lower_16.npy\", preds_SO_Lower_16)\n",
    "np.save(\"./Sensitivity-Test-Results/Sensitivity_Test-covnet_SO-JumpMu_preds_MEAN.npy\", preds_SO_MEAN)\n",
    "    \n",
    "np.save(\"./Sensitivity-Test-Results/Sensitivity_Test-covnet_MultipleO-JumpMu_preds_Upper_84.npy\", preds_Upper_84)\n",
    "np.save(\"./Sensitivity-Test-Results/Sensitivity_Test-covnet_MultipleO-JumpMu_preds_Lower_16.npy\", preds_Lower_16)\n",
    "np.save(\"./Sensitivity-Test-Results/Sensitivity_Test-covnet_MultipleO-JumpMu_preds_MEAN.npy\", preds_MEAN)"
   ]
  },
  {
   "cell_type": "code",
   "execution_count": null,
   "metadata": {
    "collapsed": true
   },
   "outputs": [],
   "source": [
    "jump_mu_s = []\n",
    "preds_MEAN = []\n",
    "preds_Upper_84 = []\n",
    "preds_Lower_16 = []\n",
    "\n",
    "for j in range(100):\n",
    "    covnet_mo_elu = covnet_multiple_output_with_ELUs()\n",
    "    covnet_mo_elu.load_weights(H5_DIR_COVNET_MULTIPLE_ELU)\n",
    "    \n",
    "    mp.jumps_mu = -0.5 + j/100\n",
    "    test_set = []\n",
    "    \n",
    "    print(j)\n",
    "    \n",
    "    print(\"GENERATION...\")\n",
    "    test_set_pred = standard_convolutional_test_set()\n",
    "    \n",
    "    \n",
    "    print(\"PREDICTION...\\n\")\n",
    "    predictions_elu = covnet_mo_elu.predict(test_set_pred)\n",
    "    \n",
    "    print(np.transpose(np.mean(predictions_elu, axis = 1)))\n",
    "    print(\"   sigma,    mu,      jump_sigma,      jump_mu,    lambda\")\n",
    "    print(\"   0.1      0.05       0.07              \"+str(mp.jumps_mu)+\"       0.02\")\n",
    "    preds_MEAN.append(np.mean(predictions_elu, axis = 1))\n",
    "    jump_mu_s.append(mp.jumps_mu)\n",
    "    preds_Upper_84.append(np.percentile(predictions_elu, 84, axis = 1))\n",
    "    preds_Lower_16.append(np.percentile(predictions_elu, 16, axis = 1))\n",
    "    \n",
    "np.save(\"Sensitivity_Test-Covnet_MO_JumpMu_preds_Upper_84.npy\", preds_Upper_84)\n",
    "np.save(\"Sensitivity_Test-Covnet_MO_JumpMu_preds_Lower_16.npy\", preds_Lower_16)\n",
    "    \n",
    "np.save(\"Sensitivity_Test-Covnet_MO_JumpMu_jump_mu_s.npy\", jump_mu_s)\n",
    "np.save(\"Sensitivity_Test-Covnet_MO_JumpMu_preds_MEAN.npy\", preds_MEAN)"
   ]
  },
  {
   "cell_type": "code",
   "execution_count": null,
   "metadata": {
    "collapsed": true
   },
   "outputs": [],
   "source": [
    "preds_Upper_84 = np.load(\"Sensitivity_Test-Covnet_MO_JumpMu_preds_Upper_84.npy\")\n",
    "preds_Lower_16 = np.load(\"Sensitivity_Test-Covnet_MO_JumpMu_preds_Lower_16.npy\")\n",
    "    \n",
    "jump_mu_s = np.load(\"Sensitivity_Test-Covnet_MO_JumpMu_jump_mu_s.npy\")\n",
    "preds_MEAN = np.load(\"Sensitivity_Test-Covnet_MO_JumpMu_preds_MEAN.npy\")"
   ]
  },
  {
   "cell_type": "code",
   "execution_count": null,
   "metadata": {
    "collapsed": true
   },
   "outputs": [],
   "source": [
    "mus_ = np.array(preds_MEAN)[:,1].reshape(100)\n",
    "mus_upper_84 = np.array(preds_Upper_84)[:,1].reshape(100)\n",
    "mus_lower_16 = np.array(preds_Lower_16)[:,1].reshape(100)\n",
    "\n",
    "fig = pylab.figure()\n",
    "pylab.plot(jump_mu_s, mus_, color='g', label=\"predicted value\");\n",
    "pylab.axhline(y=0.05, color='black', linestyle='-', label=\"actual value\")\n",
    "pylab.fill_between(jump_mu_s, mus_lower_16, mus_upper_84, color='g', alpha=0.1, edgecolor='none')\n",
    "pylab.xlabel(\"Jumps Mu\")\n",
    "pylab.ylabel(\"Mu\")\n",
    "pylab.xlim(-0.5, 0.5)\n",
    "\n",
    "pylab.legend(bbox_to_anchor=(1, 0.19), loc=1, borderaxespad=0.)\n",
    "pylab.show();\n",
    "fig.savefig(ROOT_DIR + \"/Images/Output-Sensitivity-Results/ConvolutionalNN-MultipleOutput-ELU/Varying-Jumps_mu/\"+\"Mu.png\")"
   ]
  },
  {
   "cell_type": "code",
   "execution_count": null,
   "metadata": {
    "collapsed": true
   },
   "outputs": [],
   "source": [
    "sigmas = np.array(preds_MEAN)[:,0].reshape(100)\n",
    "sigmas_upper_84 = np.array(preds_Upper_84)[:,0].reshape(100)\n",
    "sigmas_lower_16 = np.array(preds_Lower_16)[:,0].reshape(100)\n",
    "\n",
    "fig = pylab.figure()\n",
    "pylab.plot(jump_mu_s, sigmas, color='r', label=\"predicted value\");\n",
    "pylab.axhline(y=0.1, color='black', linestyle='-', label=\"actual value\")\n",
    "pylab.fill_between(jump_mu_s, sigmas_lower_16, sigmas_upper_84, color='r', alpha=0.1, edgecolor='none')\n",
    "pylab.xlabel(\"Jumps Mu\")\n",
    "pylab.ylabel(\"Sigma\")\n",
    "pylab.xlim(-0.5, 0.5)\n",
    "\n",
    "pylab.legend(bbox_to_anchor=(1, 0.185), loc=0, borderaxespad=0.)\n",
    "pylab.show();\n",
    "fig.savefig(ROOT_DIR + \"/Images/Output-Sensitivity-Results/ConvolutionalNN-MultipleOutput-ELU/Varying-Jumps_mu/\"+\"Sigma.png\")"
   ]
  },
  {
   "cell_type": "code",
   "execution_count": null,
   "metadata": {
    "collapsed": true
   },
   "outputs": [],
   "source": [
    "jump_sigmas = np.array(preds_MEAN)[:,2].reshape(100)\n",
    "jump_sigmas_upper_84 = np.array(preds_Upper_84)[:,2].reshape(100)\n",
    "jump_sigmas_lower_16 = np.array(preds_Lower_16)[:,2].reshape(100)\n",
    "\n",
    "fig = pylab.figure()\n",
    "pylab.plot(jump_mu_s, jump_sigmas, color='b', label=\"predicted value\");\n",
    "pylab.axhline(y=0.07, color='black', linestyle='-', label=\"actual value\")\n",
    "pylab.fill_between(jump_mu_s, jump_sigmas_lower_16, jump_sigmas_upper_84, color='b', alpha=0.1, edgecolor='none')\n",
    "pylab.xlabel(\"Jumps Mu\")\n",
    "pylab.ylabel(\"Jumps Sigma\")\n",
    "pylab.xlim(-0.5, 0.5)\n",
    "\n",
    "pylab.legend(bbox_to_anchor=(1, 1), loc=1, borderaxespad=0.)\n",
    "pylab.show();\n",
    "fig.savefig(ROOT_DIR + \"/Images/Output-Sensitivity-Results/ConvolutionalNN-MultipleOutput-ELU/Varying-Jumps_mu/\"+\"Jumps_Sigma.png\")"
   ]
  },
  {
   "cell_type": "code",
   "execution_count": null,
   "metadata": {
    "collapsed": true
   },
   "outputs": [],
   "source": [
    "jump_mus = np.array(preds_MEAN)[:,3].reshape(100)\n",
    "jump_mus_upper_84 = np.array(preds_Upper_84)[:,3].reshape(100)\n",
    "jump_mus_lower_16 = np.array(preds_Lower_16)[:,3].reshape(100)\n",
    "\n",
    "fig = pylab.figure()\n",
    "pylab.plot(jump_mu_s, jump_mus-jump_mu_s, color='g', label=\"predicted value\");\n",
    "pylab.axhline(y=0, color='black', linestyle='-', label=\"actual value\")\n",
    "\n",
    "#pylab.plot(jump_mu_s, jump_mu_s, color='black', label=\"actual value\");\n",
    "pylab.fill_between(jump_mu_s, jump_mus_lower_16-jump_mu_s, jump_mus_upper_84-jump_mu_s, color='g', alpha=0.1, edgecolor='none')\n",
    "pylab.xlabel(\"Jumps Mu\")\n",
    "pylab.ylabel(\"Prediction Deviation from Jumps Mu\")\n",
    "pylab.xlim(-0.5, 0.5)\n",
    "ax = pylab.gca()\n",
    "vals = ax.get_yticks()\n",
    "ax.set_yticklabels(['-'+str(x) for x in vals[vals<0]] + [0] + ['+'+str(x) for x in vals[vals>0]])\n",
    "\n",
    "\n",
    "pylab.legend(bbox_to_anchor=(1, 0.185), loc=1, borderaxespad=0.)\n",
    "pylab.show();\n",
    "fig.savefig(ROOT_DIR + \"/Images/Output-Sensitivity-Results/ConvolutionalNN-MultipleOutput-ELU/Varying-Jumps_mu/\"+\"Jumps_Mu.png\")"
   ]
  },
  {
   "cell_type": "code",
   "execution_count": null,
   "metadata": {
    "collapsed": true
   },
   "outputs": [],
   "source": [
    "lambdas = np.array(preds_MEAN)[:,4].reshape(100)\n",
    "lambdas_upper_84 = np.array(preds_Upper_84)[:,4].reshape(100)\n",
    "lambdas_lower_16 = np.array(preds_Lower_16)[:,4].reshape(100)\n",
    "\n",
    "fig = pylab.figure()\n",
    "pylab.plot(jump_mu_s, lambdas, color='y', label=\"predicted value\");\n",
    "pylab.axhline(y=0.02, color='black', linestyle='-', label=\"actual value\")\n",
    "pylab.fill_between(jump_mu_s, lambdas_lower_16, lambdas_upper_84, color='y', alpha=0.2, edgecolor='none')\n",
    "pylab.xlabel(\"Jumps Mu\")\n",
    "pylab.ylabel(\"Lambda\")\n",
    "pylab.xlim(-0.5, 0.5)\n",
    "\n",
    "pylab.legend(bbox_to_anchor=(1, 0.185), loc=1, borderaxespad=0.)\n",
    "pylab.show();\n",
    "fig.savefig(ROOT_DIR + \"/Images/Output-Sensitivity-Results/ConvolutionalNN-MultipleOutput-ELU/Varying-Jumps_mu/\"+\"Lambda.png\")"
   ]
  },
  {
   "cell_type": "markdown",
   "metadata": {},
   "source": [
    "# Sensitivity Test - Lambda"
   ]
  },
  {
   "cell_type": "code",
   "execution_count": null,
   "metadata": {
    "collapsed": true
   },
   "outputs": [],
   "source": [
    "jump_lambda_s = []\n",
    "\n",
    "preds_MEAN = []\n",
    "preds_Lower_16 = []\n",
    "preds_Upper_84 = []\n",
    "\n",
    "preds_SO_MEAN = []\n",
    "preds_SO_Upper_84 = []\n",
    "preds_SO_Lower_16 = []\n",
    "\n",
    "for j in range(100):\n",
    "    mp = test_set_model_params()\n",
    "    mp.lamda = 0.0001 + j*(0.025 - 0.0001)/100\n",
    "    test_set = []\n",
    "    \n",
    "    print(j)\n",
    "    \n",
    "    print(\"GENERATION...\")\n",
    "    test_set_pred = standard_convolutional_test_set(mp=mp)\n",
    "    \n",
    "    \n",
    "    print(\"PREDICTION...\\n\")\n",
    "    predictions_lambda = covnet_lambda.predict(test_set_pred)\n",
    "    predictions_jump_mu = covnet_jump_mu.predict(test_set_pred)\n",
    "    predictions_jump_sigma = covnet_jump_sigma.predict(test_set_pred)\n",
    "    predictions_sigma = covnet_sigma.predict(test_set_pred)\n",
    "    predictions_mu = covnet_mu.predict(test_set_pred)\n",
    "    \n",
    "    predictions_so = [predictions_sigma, predictions_mu, predictions_jump_sigma, predictions_jump_mu, predictions_lambda]\n",
    "    \n",
    "    preds_SO_MEAN.append(np.mean(predictions_so, axis = 1))\n",
    "    preds_SO_Upper_84.append(np.percentile(predictions_so, 84, axis = 1))\n",
    "    preds_SO_Lower_16.append(np.percentile(predictions_so, 16, axis = 1))\n",
    "    \n",
    "    jump_mu_s.append(mp.jumps_mu)\n",
    "    \n",
    "    predictions_elu = covnet_mo_elu.predict(test_set_pred)\n",
    "    \n",
    "    preds_MEAN.append(np.mean(predictions_elu, axis = 1))\n",
    "    preds_Upper_84.append(np.percentile(predictions_elu, 84, axis = 1))\n",
    "    preds_Lower_16.append(np.percentile(predictions_elu, 16, axis = 1))\n",
    "    \n",
    "    print(np.transpose(np.mean(predictions_so, axis = 1)))\n",
    "    print(\"   sigma,       mu,      jump_sigma,   jump_mu,    lambda\")\n",
    "    print(\"   0.1      0.05       0.07              0.05       \"+str(mp.lamda))\n",
    "    print(np.transpose(np.mean(predictions_elu, axis = 1)))\n",
    "    \n",
    "np.save(\"Sensitivity_Test-Covnet_MO_Lambda_jump_lambda_s.npy\", jump_lambda_s)\n",
    "\n",
    "\n",
    "np.save(\"./Sensitivity-Test-Results/Sensitivity_Test-covnet_SO-Lambda_preds_Upper_84.npy\", preds_SO_Upper_84)\n",
    "np.save(\"./Sensitivity-Test-Results/Sensitivity_Test-covnet_SO-Lambda_preds_Lower_16.npy\", preds_SO_Lower_16)\n",
    "np.save(\"./Sensitivity-Test-Results/Sensitivity_Test-covnet_SO-Lambda_preds_MEAN.npy\", preds_SO_MEAN)\n",
    "    \n",
    "np.save(\"./Sensitivity-Test-Results/Sensitivity_Test-covnet_MultipleO-Lambda_preds_Upper_84.npy\", preds_Upper_84)\n",
    "np.save(\"./Sensitivity-Test-Results/Sensitivity_Test-covnet_MultipleO-Lambda_preds_Lower_16.npy\", preds_Lower_16)\n",
    "np.save(\"./Sensitivity-Test-Results/Sensitivity_Test-covnet_MultipleO-Lambda_preds_MEAN.npy\", preds_MEAN)"
   ]
  },
  {
   "cell_type": "code",
   "execution_count": null,
   "metadata": {
    "collapsed": true
   },
   "outputs": [],
   "source": [
    "jump_lambda_s = []\n",
    "preds_MEAN = []\n",
    "preds_Upper_84 = []\n",
    "preds_Lower_16 = []\n",
    "\n",
    "for j in range(100):\n",
    "    covnet_mo_elu = covnet_multiple_output_with_ELUs()\n",
    "    covnet_mo_elu.load_weights(H5_DIR_COVNET_MULTIPLE_ELU)\n",
    "    \n",
    "    mp.lamda = 0.0001 + j*(0.025 - 0.0001)/100\n",
    "    test_set = []\n",
    "    \n",
    "    print(j)\n",
    "    \n",
    "    print(\"GENERATION...\")\n",
    "    test_set_pred = standard_convolutional_test_set()\n",
    "    \n",
    "    \n",
    "    print(\"PREDICTION...\\n\")\n",
    "    predictions_elu = covnet_mo_elu.predict(test_set_pred)\n",
    "    \n",
    "    print(np.transpose(np.mean(predictions_elu, axis = 1)))\n",
    "    print(\"   sigma,    mu,      jump_sigma,      jump_mu,    lambda\")\n",
    "    print(\"   0.1      0.05       0.07              0.05       \"+str(mp.lamda))\n",
    "    preds_MEAN.append(np.mean(predictions_elu, axis = 1))\n",
    "    jump_lambda_s.append(mp.lamda)\n",
    "    preds_Upper_84.append(np.percentile(predictions_elu, 84, axis = 1))\n",
    "    preds_Lower_16.append(np.percentile(predictions_elu, 16, axis = 1))\n",
    "    \n",
    "np.save(\"Sensitivity_Test-Covnet_MO_Lambda_preds_Upper_84.npy\", preds_Upper_84)\n",
    "np.save(\"Sensitivity_Test-Covnet_MO_Lambda_preds_Lower_16.npy\", preds_Lower_16)\n",
    "    \n",
    "np.save(\"Sensitivity_Test-Covnet_MO_Lambda_jump_lambda_s.npy\", jump_lambda_s)\n",
    "np.save(\"Sensitivity_Test-Covnet_MO_Lambda_preds_MEAN.npy\", preds_MEAN)"
   ]
  },
  {
   "cell_type": "code",
   "execution_count": null,
   "metadata": {
    "collapsed": true
   },
   "outputs": [],
   "source": [
    "preds_Upper_84 = np.load(\"Sensitivity_Test-Covnet_MO_Lambda_preds_Upper_84.npy\")\n",
    "preds_Lower_16 = np.load(\"Sensitivity_Test-Covnet_MO_Lambda_preds_Lower_16.npy\")\n",
    "    \n",
    "jump_lambda_s = np.load(\"Sensitivity_Test-Covnet_MO_Lambda_jump_lambda_s.npy\")\n",
    "preds_MEAN = np.load(\"Sensitivity_Test-Covnet_MO_Lambda_preds_MEAN.npy\")"
   ]
  },
  {
   "cell_type": "code",
   "execution_count": null,
   "metadata": {
    "collapsed": true
   },
   "outputs": [],
   "source": [
    "mus_ = np.array(preds_MEAN)[:,1].reshape(100)\n",
    "mus_upper_84 = np.array(preds_Upper_84)[:,1].reshape(100)\n",
    "mus_lower_16 = np.array(preds_Lower_16)[:,1].reshape(100)\n",
    "\n",
    "fig = pylab.figure()\n",
    "pylab.plot(jump_lambda_s, mus_, color='g', label=\"predicted value\");\n",
    "pylab.axhline(y=0.05, color='black', linestyle='-', label=\"actual value\")\n",
    "pylab.fill_between(jump_lambda_s, mus_lower_16, mus_upper_84, color='g', alpha=0.1, edgecolor='none')\n",
    "pylab.xlabel(\"Lambda\")\n",
    "pylab.ylabel(\"Mu\")\n",
    "\n",
    "pylab.legend(bbox_to_anchor=(1, 0.19), loc=1, borderaxespad=0.)\n",
    "pylab.show();\n",
    "fig.savefig(ROOT_DIR + \"/Images/Output-Sensitivity-Results/ConvolutionalNN-MultipleOutput-ELU/Varying-Lambda/\"+\"Mu.png\")"
   ]
  },
  {
   "cell_type": "code",
   "execution_count": null,
   "metadata": {
    "collapsed": true
   },
   "outputs": [],
   "source": [
    "sigmas = np.array(preds_MEAN)[:,0].reshape(100)\n",
    "sigmas_upper_84 = np.array(preds_Upper_84)[:,0].reshape(100)\n",
    "sigmas_lower_16 = np.array(preds_Lower_16)[:,0].reshape(100)\n",
    "\n",
    "fig = pylab.figure()\n",
    "pylab.plot(jump_lambda_s, sigmas, color='r', label=\"predicted value\");\n",
    "pylab.axhline(y=0.1, color='black', linestyle='-', label=\"actual value\")\n",
    "pylab.fill_between(jump_lambda_s, sigmas_lower_16, sigmas_upper_84, color='r', alpha=0.1, edgecolor='none')\n",
    "pylab.xlabel(\"Lambda\")\n",
    "pylab.ylabel(\"Sigma\")\n",
    "\n",
    "pylab.legend(bbox_to_anchor=(1, 0.185), loc=0, borderaxespad=0.)\n",
    "pylab.show();\n",
    "fig.savefig(ROOT_DIR + \"/Images/Output-Sensitivity-Results/ConvolutionalNN-MultipleOutput-ELU/Varying-Lambda/\"+\"Sigma.png\")"
   ]
  },
  {
   "cell_type": "code",
   "execution_count": null,
   "metadata": {
    "collapsed": true
   },
   "outputs": [],
   "source": [
    "jump_sigmas = np.array(preds_MEAN)[:,2].reshape(100)\n",
    "jump_sigmas_upper_84 = np.array(preds_Upper_84)[:,2].reshape(100)\n",
    "jump_sigmas_lower_16 = np.array(preds_Lower_16)[:,2].reshape(100)\n",
    "\n",
    "fig = pylab.figure()\n",
    "pylab.plot(jump_lambda_s, jump_sigmas, color='b', label=\"predicted value\");\n",
    "pylab.axhline(y=0.07, color='black', linestyle='-', label=\"actual value\")\n",
    "pylab.fill_between(jump_lambda_s, jump_sigmas_lower_16, jump_sigmas_upper_84, color='b', alpha=0.1, edgecolor='none')\n",
    "pylab.xlabel(\"Lambda\")\n",
    "pylab.ylabel(\"Jumps Sigma\")\n",
    "\n",
    "pylab.legend(bbox_to_anchor=(1, 0.185), loc=1, borderaxespad=0.)\n",
    "pylab.show();\n",
    "fig.savefig(ROOT_DIR + \"/Images/Output-Sensitivity-Results/ConvolutionalNN-MultipleOutput-ELU/Varying-Lambda/\"+\"Jumps_Sigma.png\")"
   ]
  },
  {
   "cell_type": "code",
   "execution_count": null,
   "metadata": {
    "collapsed": true
   },
   "outputs": [],
   "source": [
    "jump_mus = np.array(preds_MEAN)[:,3].reshape(100)\n",
    "jump_mus_upper_84 = np.array(preds_Upper_84)[:,3].reshape(100)\n",
    "jump_mus_lower_16 = np.array(preds_Lower_16)[:,3].reshape(100)\n",
    "\n",
    "fig = pylab.figure()\n",
    "pylab.plot(jump_lambda_s, jump_mus, color='g', label=\"predicted value\");\n",
    "pylab.axhline(y=0.05, color='black', linestyle='-', label=\"actual value\")\n",
    "pylab.fill_between(jump_lambda_s, jump_mus_lower_16, jump_mus_upper_84, color='g', alpha=0.1, edgecolor='none')\n",
    "pylab.xlabel(\"Lambda\")\n",
    "pylab.ylabel(\"Jumps Mu\")\n",
    "\n",
    "pylab.legend(bbox_to_anchor=(1, 0.185), loc=1, borderaxespad=0.)\n",
    "pylab.show();\n",
    "fig.savefig(ROOT_DIR + \"/Images/Output-Sensitivity-Results/ConvolutionalNN-MultipleOutput-ELU/Varying-Lambda/\"+\"Jumps_Mu.png\")"
   ]
  },
  {
   "cell_type": "code",
   "execution_count": null,
   "metadata": {
    "collapsed": true
   },
   "outputs": [],
   "source": [
    "lambdas = np.array(preds_MEAN)[:,4].reshape(100)\n",
    "lambdas_upper_84 = np.array(preds_Upper_84)[:,4].reshape(100)\n",
    "lambdas_lower_16 = np.array(preds_Lower_16)[:,4].reshape(100)\n",
    "\n",
    "fig = pylab.figure()\n",
    "pylab.plot(jump_lambda_s, lambdas, color='y', label=\"predicted value\");\n",
    "pylab.plot(jump_lambda_s, jump_lambda_s, color='black', label=\"actual value\");\n",
    "pylab.fill_between(jump_lambda_s, lambdas_lower_16, lambdas_upper_84, color='y', alpha=0.2, edgecolor='none')\n",
    "pylab.xlabel(\"Lambda\")\n",
    "pylab.ylabel(\"Lambda\")\n",
    "\n",
    "pylab.legend(bbox_to_anchor=(1, 0.185), loc=1, borderaxespad=0.)\n",
    "pylab.show();\n",
    "fig.savefig(ROOT_DIR + \"/Images/Output-Sensitivity-Results/ConvolutionalNN-MultipleOutput-ELU/Varying-Lambda/\"+\"Lambda.png\")"
   ]
  },
  {
   "cell_type": "markdown",
   "metadata": {},
   "source": [
    "# Sensitivity Tests"
   ]
  },
  {
   "cell_type": "markdown",
   "metadata": {},
   "source": [
    "### Sensitivity Test: Mu"
   ]
  },
  {
   "cell_type": "code",
   "execution_count": null,
   "metadata": {
    "collapsed": true
   },
   "outputs": [],
   "source": [
    "mu_s = []\n",
    "preds_MEAN = []\n",
    "preds_Lower_16 = []\n",
    "preds_Upper_84 = []\n",
    "\n",
    "\n",
    "preds_SINGLE_LAMBDA_MEAN = []\n",
    "preds_SINGLE_LAMBDA_Lower_16 = []\n",
    "preds_SINGLE_LAMBDA_Upper_84 = []"
   ]
  },
  {
   "cell_type": "code",
   "execution_count": null,
   "metadata": {
    "collapsed": true
   },
   "outputs": [],
   "source": [
    "for j in range(100):\n",
    "    covnet_lambda = covnet_single_lambda()\n",
    "    covnet_lambda.load_weights(H5_DIR_COVNET_LAMBDA)\n",
    "    \n",
    "    mp.gbm_mu = -1 + float(j)/50\n",
    "    test_set = []\n",
    "    \n",
    "    print(j)\n",
    "    \n",
    "    print(\"GENERATION...\")\n",
    "    test_set_pred = standard_convolutional_test_set()\n",
    "    \n",
    "    \n",
    "    print(\"PREDICTION...\\n\")\n",
    "    predictions_elu = covnet_lambda.predict(test_set_pred)\n",
    "    \n",
    "    #predictions_lambda = covnet_lambda.predict(test_set_pred)\n",
    "    \n",
    "    print(np.transpose(np.mean(predictions_elu, axis = 1)))\n",
    "    print(\"   sigma,       mu,      jump_sigma,   jump_mu,    lambda\")\n",
    "    print(\"    0.1         \"+str(mp.gbm_mu)+\"     0.07              0.05       0.02\")\n",
    "    \n",
    "    preds_MEAN.append(np.mean(predictions_elu, axis = 1))\n",
    "    mu_s.append(mp.gbm_mu)\n",
    "    preds_Upper_84.append(np.percentile(predictions_elu, 84, axis = 1))\n",
    "    preds_Lower_16.append(np.percentile(predictions_elu, 16, axis = 1))\n",
    "    \n",
    "np.save(\"Sensitivity_Test-covnet_lambda_Mu_preds_Upper_84.npy\", preds_Upper_84)\n",
    "np.save(\"Sensitivity_Test-covnet_lambda_Mu_preds_Lower_16.npy\", preds_Lower_16)\n",
    "    \n",
    "np.save(\"Sensitivity_Test-covnet_lambda_Mu_mu_s.npy\", mu_s)\n",
    "np.save(\"Sensitivity_Test-covnet_lambda_Mu_preds_MEAN.npy\", preds_MEAN)\n",
    "\n",
    "#np.save(\"Sensitivity_Test-preds_VaryingMu_SINGLE_LAMBDA_MEAN.npy\", preds_SINGLE_LAMBDA_MEAN)\n",
    "#np.save(\"Sensitivity_Test-preds_VaryingMu_preds_SINGLE_LAMBDA_Lower_16\", preds_SINGLE_LAMBDA_Lower_16)\n",
    "#np.save(\"Sensitivity_Test-preds_VaryingMu_preds_SINGLE_LAMBDA_Upper_84\", preds_SINGLE_LAMBDA_Upper_84)"
   ]
  },
  {
   "cell_type": "code",
   "execution_count": null,
   "metadata": {
    "collapsed": true
   },
   "outputs": [],
   "source": [
    "preds_Upper_84 = np.load(\"Sensitivity_Test-covnet_lambda_Mu_preds_Upper_84.npy\")\n",
    "preds_Lower_16 = np.load(\"Sensitivity_Test-covnet_lambda_Mu_preds_Lower_16.npy\")\n",
    "    \n",
    "mu_s = np.load(\"Sensitivity_Test-covnet_lambda_Mu_mu_s.npy\")\n",
    "preds_MEAN = np.load(\"Sensitivity_Test-covnet_lambda_Mu_preds_MEAN.npy\")"
   ]
  },
  {
   "cell_type": "code",
   "execution_count": null,
   "metadata": {
    "collapsed": true
   },
   "outputs": [],
   "source": [
    "sigmas = np.array(preds_MEAN)[:,0].reshape(100)\n",
    "sigma_upper_84 = np.array(preds_Upper_84)[:,0].reshape(100)\n",
    "sigma_lower_16 = np.array(preds_Lower_16)[:,0].reshape(100)"
   ]
  },
  {
   "cell_type": "code",
   "execution_count": null,
   "metadata": {
    "collapsed": true
   },
   "outputs": [],
   "source": [
    "fig = pylab.figure()\n",
    "pylab.plot(mu_s, sigmas, color='r', label=\"predicted value\");\n",
    "pylab.axhline(y=0.1, color='black', linestyle='-', label=\"actual value\")\n",
    "pylab.fill_between(mu_s, sigma_lower_16, sigma_upper_84, color='r', alpha=0.1, edgecolor='none')\n",
    "pylab.xlabel(\"Mu\")\n",
    "pylab.ylabel(\"Sigma\")\n",
    "\n",
    "pylab.legend(bbox_to_anchor=(1, 1), loc=1, borderaxespad=0.)\n",
    "pylab.show();\n",
    "fig.savefig(ROOT_DIR + \"/Images/Output-Sensitivity-Results/ConvolutionalNN-MultipleOutput-ELU/Varying-Mu/\"+\"sigma.png\")"
   ]
  },
  {
   "cell_type": "code",
   "execution_count": null,
   "metadata": {
    "collapsed": true
   },
   "outputs": [],
   "source": [
    "jump_sigmas = np.array(preds_MEAN)[:,2].reshape(100)\n",
    "jump_sigmas_upper_84 = np.array(preds_Upper_84)[:,2].reshape(100)\n",
    "jump_sigmas_lower_16 = np.array(preds_Lower_16)[:,2].reshape(100)"
   ]
  },
  {
   "cell_type": "code",
   "execution_count": null,
   "metadata": {
    "collapsed": true
   },
   "outputs": [],
   "source": [
    "plt.plot(mu_s, jump_sigmas, color='b', label=\"predicted value\");\n",
    "plt.axhline(y=0.07, color='black', linestyle='-', label=\"actual value\")\n",
    "plt.fill_between(mu_s, jump_sigmas_lower_16, jump_sigmas_upper_84, color='b', alpha=0.1, edgecolor='none')\n",
    "plt.xlabel(\"Mu\")\n",
    "plt.ylabel(\"Jumps Sigma\")\n",
    "\n",
    "plt.legend(bbox_to_anchor=(1, 0.185), loc=1, borderaxespad=0.)\n",
    "plt.show();"
   ]
  },
  {
   "cell_type": "code",
   "execution_count": null,
   "metadata": {
    "collapsed": true
   },
   "outputs": [],
   "source": [
    "jump_mus = np.array(preds_MEAN)[:,3].reshape(100)\n",
    "jump_mus_upper_84 = np.array(preds_Upper_84)[:,3].reshape(100)\n",
    "jump_mus_lower_16 = np.array(preds_Lower_16)[:,3].reshape(100)"
   ]
  },
  {
   "cell_type": "code",
   "execution_count": null,
   "metadata": {
    "collapsed": true
   },
   "outputs": [],
   "source": [
    "plt.plot(mu_s, jump_mus, color='g', label=\"predicted value\");\n",
    "plt.axhline(y=0.05, color='black', linestyle='-', label=\"actual value\")\n",
    "plt.fill_between(mu_s, jump_mus_lower_16, jump_mus_upper_84, color='g', alpha=0.1, edgecolor='none')\n",
    "plt.xlabel(\"Mu\")\n",
    "plt.ylabel(\"Jumps Mu\")\n",
    "\n",
    "plt.legend(bbox_to_anchor=(1, 1), loc=1, borderaxespad=0.)\n",
    "plt.show();"
   ]
  },
  {
   "cell_type": "code",
   "execution_count": null,
   "metadata": {
    "collapsed": true
   },
   "outputs": [],
   "source": [
    "lambdas = np.array(preds_MEAN)[:,0].reshape(100)\n",
    "lambdas_upper_84 = np.array(preds_Upper_84)[:,0].reshape(100)\n",
    "lambdas_lower_16 = np.array(preds_Lower_16)[:,0].reshape(100)"
   ]
  },
  {
   "cell_type": "code",
   "execution_count": null,
   "metadata": {
    "collapsed": true
   },
   "outputs": [],
   "source": [
    "lambdas_upper_84"
   ]
  },
  {
   "cell_type": "code",
   "execution_count": null,
   "metadata": {
    "collapsed": true
   },
   "outputs": [],
   "source": [
    "plt.plot(mu_s, lambdas, color='y', label=\"predicted value\");\n",
    "plt.axhline(y=0.02, color='black', linestyle='-', label=\"actual value\")\n",
    "plt.fill_between(mu_s, lambdas_lower_16, lambdas_upper_84, color='b', alpha=1, edgecolor='none')\n",
    "plt.xlabel(\"Mu\")\n",
    "plt.ylabel(\"Lambda\")\n",
    "\n",
    "plt.legend(bbox_to_anchor=(1, 1), loc=1, borderaxespad=0.)\n",
    "plt.show();"
   ]
  },
  {
   "cell_type": "code",
   "execution_count": null,
   "metadata": {
    "collapsed": true
   },
   "outputs": [],
   "source": [
    "mus_ = np.array(preds_MEAN)[:,1].reshape(100)\n",
    "mus_upper_84 = np.array(preds_Upper_84)[:,1].reshape(100)\n",
    "mus_lower_16 = np.array(preds_Lower_16)[:,1].reshape(100)"
   ]
  },
  {
   "cell_type": "code",
   "execution_count": null,
   "metadata": {
    "collapsed": true
   },
   "outputs": [],
   "source": [
    "plt.plot(mu_s, mus_, color='g', label=\"predicted value\");\n",
    "plt.plot(mu_s, mu_s, color='black', label=\"actual value\");\n",
    "plt.fill_between(mu_s, mus_lower_16, mus_upper_84, color='g', alpha=0.1, edgecolor='none')\n",
    "plt.xlabel(\"Mu\")\n",
    "plt.ylabel(\"Mu\")\n",
    "\n",
    "plt.legend(bbox_to_anchor=(1, 0.185), loc=1, borderaxespad=0.)\n",
    "plt.show();"
   ]
  },
  {
   "cell_type": "markdown",
   "metadata": {},
   "source": [
    "# Sensitivity Test - Sigma"
   ]
  },
  {
   "cell_type": "code",
   "execution_count": null,
   "metadata": {
    "collapsed": true
   },
   "outputs": [],
   "source": [
    "sigma_s = []\n",
    "preds_MEAN = []\n",
    "preds_Lower_16 = []\n",
    "preds_Upper_84 = []\n",
    "\n",
    "for j in range(100):\n",
    "    covnet_lambda = covnet_multiple_output_with_ELUs()\n",
    "    covnet_lambda.load_weights(H5_DIR_COVNET_MULTIPLE_ELU)\n",
    "    \n",
    "    mp.all_sigma = 0.001 + j*(0.2 - 0.001)/100\n",
    "    test_set = []\n",
    "    \n",
    "    print(j)\n",
    "    \n",
    "    print(\"GENERATION...\")\n",
    "    test_set_pred = standard_convolutional_test_set()\n",
    "    \n",
    "    print(\"PREDICTION...\\n\")\n",
    "    predictions_elu = covnet_lambda.predict(test_set_pred)\n",
    "    \n",
    "    print(np.transpose(np.mean(predictions_elu, axis = 1)))\n",
    "    print(\"   sigma,    mu,      jump_sigma,      jump_mu,    lambda\")\n",
    "    print(\"   \"+str(mp.all_sigma)+\"      0.05       0.07              0.05       0.02\")\n",
    "    print(np.mean(predictions_elu, axis = 1)+np.std(predictions_elu, axis = 1))\n",
    "    print(np.percentile(predictions_elu, 84, axis = 1))\n",
    "    preds_MEAN.append(np.mean(predictions_elu, axis = 1))\n",
    "    preds_Upper_84.append(np.percentile(predictions_elu, 84, axis = 1))\n",
    "    preds_Lower_16.append(np.percentile(predictions_elu, 16, axis = 1))\n",
    "    sigma_s.append(mp.all_sigma)\n",
    "    \n",
    "np.save(\"Sensitivity_Test-covnet_lambda_Sigma_sigma_s.npy\", sigma_s)\n",
    "np.save(\"Sensitivity_Test-covnet_lambda_Sigma_preds_MEAN.npy\", preds_MEAN)\n",
    "np.save(\"Sensitivity_Test-covnet_lambda_Sigma_preds_Upper_84.npy\", preds_Upper_84)\n",
    "np.save(\"Sensitivity_Test-covnet_lambda_Sigma_preds_Lower_16.npy\", preds_Lower_16)"
   ]
  },
  {
   "cell_type": "code",
   "execution_count": null,
   "metadata": {
    "collapsed": true
   },
   "outputs": [],
   "source": []
  },
  {
   "cell_type": "code",
   "execution_count": null,
   "metadata": {
    "collapsed": true
   },
   "outputs": [],
   "source": [
    "sigmas = np.array(preds_MEAN)[:,0].reshape(100)\n",
    "sigma_upper_84 = np.array(preds_Upper_84)[:,0].reshape(100)\n",
    "sigma_lower_16 = np.array(preds_Lower_16)[:,0].reshape(100)\n",
    "\n",
    "plt.plot(sigma_s, sigmas, color='r', label=\"predicted value\");\n",
    "plt.plot(sigma_s, sigma_s, color='black', label=\"actual value\");\n",
    "plt.fill_between(sigma_s, sigma_lower_16, sigma_upper_84, color='r', alpha=0.1, edgecolor='none')\n",
    "plt.xlabel(\"Sigma\")\n",
    "plt.ylabel(\"Sigma\")\n",
    "\n",
    "plt.legend(bbox_to_anchor=(1, 0.185), loc=0, borderaxespad=0.)\n",
    "plt.show();"
   ]
  },
  {
   "cell_type": "code",
   "execution_count": null,
   "metadata": {
    "collapsed": true
   },
   "outputs": [],
   "source": [
    "jump_sigmas = np.array(preds_MEAN)[:,2].reshape(100)\n",
    "jump_sigmas_upper_84 = np.array(preds_Upper_84)[:,2].reshape(100)\n",
    "jump_sigmas_lower_16 = np.array(preds_Lower_16)[:,2].reshape(100)\n",
    "\n",
    "plt.plot(sigma_s, jump_sigmas, color='b', label=\"predicted value\");\n",
    "plt.axhline(y=0.07, color='black', linestyle='-', label=\"actual value\")\n",
    "plt.fill_between(sigma_s, jump_sigmas_lower_16, jump_sigmas_upper_84, color='b', alpha=0.1, edgecolor='none')\n",
    "plt.xlabel(\"Sigma\")\n",
    "plt.ylabel(\"Jumps Sigma\")\n",
    "\n",
    "plt.legend(bbox_to_anchor=(1, 0.185), loc=1, borderaxespad=0.)\n",
    "plt.show();"
   ]
  },
  {
   "cell_type": "code",
   "execution_count": null,
   "metadata": {
    "collapsed": true
   },
   "outputs": [],
   "source": [
    "jump_mus = np.array(preds_MEAN)[:,3].reshape(100)\n",
    "jump_mus_upper_84 = np.array(preds_Upper_84)[:,3].reshape(100)\n",
    "jump_mus_lower_16 = np.array(preds_Lower_16)[:,3].reshape(100)\n",
    "\n",
    "plt.plot(sigma_s, jump_mus, color='g', label=\"predicted value\");\n",
    "plt.axhline(y=0.05, color='black', linestyle='-', label=\"actual value\")\n",
    "plt.fill_between(sigma_s, jump_mus_lower_16, jump_mus_upper_84, color='g', alpha=0.1, edgecolor='none')\n",
    "plt.xlabel(\"Sigma\")\n",
    "plt.ylabel(\"Jumps Mu\")\n",
    "\n",
    "plt.legend(bbox_to_anchor=(1, 0.185), loc=1, borderaxespad=0.)\n",
    "plt.show();"
   ]
  },
  {
   "cell_type": "code",
   "execution_count": null,
   "metadata": {
    "collapsed": true
   },
   "outputs": [],
   "source": [
    "lambdas = np.array(preds_MEAN)[:,4].reshape(100)\n",
    "lambdas_upper_84 = np.array(preds_Upper_84)[:,4].reshape(100)\n",
    "lambdas_lower_16 = np.array(preds_Lower_16)[:,4].reshape(100)\n",
    "\n",
    "plt.plot(sigma_s, lambdas, color='y', label=\"predicted value\");\n",
    "plt.axhline(y=0.02, color='black', linestyle='-', label=\"actual value\")\n",
    "plt.fill_between(sigma_s, lambdas_lower_16, lambdas_upper_84, color='y', alpha=0.1, edgecolor='none')\n",
    "plt.xlabel(\"Sigma\")\n",
    "plt.ylabel(\"Lambda\")\n",
    "\n",
    "plt.legend(bbox_to_anchor=(1, 0.185), loc=1, borderaxespad=0.)\n",
    "plt.show();"
   ]
  },
  {
   "cell_type": "code",
   "execution_count": null,
   "metadata": {
    "collapsed": true
   },
   "outputs": [],
   "source": [
    "mus_ = np.array(preds_MEAN)[:,1].reshape(100)\n",
    "mus_upper_84 = np.array(preds_Upper_84)[:,1].reshape(100)\n",
    "mus_lower_16 = np.array(preds_Lower_16)[:,1].reshape(100)\n",
    "\n",
    "plt.plot(sigma_s, mus_, color='g', label=\"predicted value\");\n",
    "plt.axhline(y=0.05, color='black', linestyle='-', label=\"actual value\")\n",
    "plt.fill_between(sigma_s, mus_lower_16, mus_upper_84, color='g', alpha=0.1, edgecolor='none')\n",
    "plt.xlabel(\"Sigma\")\n",
    "plt.ylabel(\"Mu\")\n",
    "\n",
    "plt.legend(bbox_to_anchor=(0.4085, 1), loc=1, borderaxespad=0.)\n",
    "plt.show();"
   ]
  },
  {
   "cell_type": "markdown",
   "metadata": {},
   "source": [
    "# Sensitivity Test - Jumps Sigma"
   ]
  },
  {
   "cell_type": "code",
   "execution_count": null,
   "metadata": {
    "collapsed": true
   },
   "outputs": [],
   "source": [
    "jump_sigma_s = []\n",
    "preds_MEAN = []\n",
    "preds_Lower_16 = []\n",
    "preds_Upper_84 = []\n",
    "\n",
    "for j in range(100):\n",
    "    covnet_lambda = covnet_multiple_output_with_ELUs()\n",
    "    covnet_lambda.load_weights(H5_DIR_COVNET_MULTIPLE_ELU)\n",
    "    \n",
    "    mp.jumps_sigma = 0.001 + j*(0.2 - 0.001)/100\n",
    "    test_set = []\n",
    "    \n",
    "    print(j)\n",
    "    \n",
    "    print(\"GENERATION...\")\n",
    "    test_set_pred = standard_convolutional_test_set()\n",
    "    \n",
    "    \n",
    "    print(\"PREDICTION...\\n\")\n",
    "    predictions_elu = covnet_lambda.predict(test_set_pred)\n",
    "    \n",
    "    print(np.transpose(np.mean(predictions_elu, axis = 1)))\n",
    "    print(\"   sigma,    mu,      jump_sigma,      jump_mu,    lambda\")\n",
    "    print(\"   0.1      0.05       \"+str(mp.jumps_sigma)+\"              0.05       0.02\")\n",
    "    preds_MEAN.append(np.mean(predictions_elu, axis = 1))\n",
    "    jump_sigma_s.append(mp.jumps_sigma)\n",
    "    preds_Upper_84.append(np.percentile(predictions_elu, 84, axis = 1))\n",
    "    preds_Lower_16.append(np.percentile(predictions_elu, 16, axis = 1))\n",
    "    \n",
    "np.save(\"Sensitivity_Test-covnet_lambda_JumpSigma_preds_Upper_84.npy\", preds_Upper_84)\n",
    "np.save(\"Sensitivity_Test-covnet_lambda_JumpSigma_preds_Lower_16.npy\", preds_Lower_16)\n",
    "np.save(\"Sensitivity_Test-covnet_lambda_JumpSigma_jump_sigma_s.npy\", jump_sigma_s)\n",
    "np.save(\"Sensitivity_Test-covnet_lambda_JumpSigma_preds_MEAN.npy\", preds_MEAN)"
   ]
  },
  {
   "cell_type": "code",
   "execution_count": null,
   "metadata": {
    "collapsed": true
   },
   "outputs": [],
   "source": [
    "preds_Upper_84 = np.load(\"Sensitivity_Test-covnet_lambda_JumpSigma_preds_Upper_84.npy\")\n",
    "preds_Lower_16 = np.load(\"Sensitivity_Test-covnet_lambda_JumpSigma_preds_Lower_16.npy\")\n",
    "jump_sigma_s = np.load(\"Sensitivity_Test-covnet_lambda_JumpSigma_jump_sigma_s.npy\")\n",
    "preds_MEAN = np.load(\"Sensitivity_Test-covnet_lambda_JumpSigma_preds_MEAN.npy\")"
   ]
  },
  {
   "cell_type": "code",
   "execution_count": null,
   "metadata": {
    "collapsed": true
   },
   "outputs": [],
   "source": [
    "mus_ = np.array(preds_MEAN)[:,1].reshape(100)\n",
    "mus_upper_84 = np.array(preds_Upper_84)[:,1].reshape(100)\n",
    "mus_lower_16 = np.array(preds_Lower_16)[:,1].reshape(100)\n",
    "\n",
    "plt.plot(jump_sigma_s, mus_, color='g', label=\"predicted value\");\n",
    "plt.axhline(y=0.05, color='black', linestyle='-', label=\"actual value\")\n",
    "plt.fill_between(jump_sigma_s, mus_lower_16, mus_upper_84, color='g', alpha=0.1, edgecolor='none')\n",
    "plt.xlabel(\"Jumps Sigma\")\n",
    "plt.ylabel(\"Mu\")\n",
    "\n",
    "plt.legend(bbox_to_anchor=(1, 0.19), loc=1, borderaxespad=0.)\n",
    "plt.show();"
   ]
  },
  {
   "cell_type": "code",
   "execution_count": null,
   "metadata": {
    "collapsed": true
   },
   "outputs": [],
   "source": [
    "sigmas = np.array(preds_MEAN)[:,0].reshape(100)\n",
    "sigmas_upper_84 = np.array(preds_Upper_84)[:,0].reshape(100)\n",
    "sigmas_lower_16 = np.array(preds_Lower_16)[:,0].reshape(100)\n",
    "\n",
    "plt.plot(jump_sigma_s, sigmas, color='r', label=\"predicted value\");\n",
    "plt.axhline(y=0.1, color='black', linestyle='-', label=\"actual value\")\n",
    "plt.fill_between(jump_sigma_s, sigmas_lower_16, sigmas_upper_84, color='r', alpha=0.1, edgecolor='none')\n",
    "plt.xlabel(\"Jumps Sigma\")\n",
    "plt.ylabel(\"Sigma\")\n",
    "\n",
    "plt.legend(bbox_to_anchor=(1, 0.185), loc=0, borderaxespad=0.)\n",
    "plt.show();"
   ]
  },
  {
   "cell_type": "code",
   "execution_count": null,
   "metadata": {
    "collapsed": true
   },
   "outputs": [],
   "source": [
    "jump_sigmas = np.array(preds_MEAN)[:,2].reshape(100)\n",
    "jump_sigmas_upper_84 = np.array(preds_Upper_84)[:,2].reshape(100)\n",
    "jump_sigmas_lower_16 = np.array(preds_Lower_16)[:,2].reshape(100)\n",
    "\n",
    "plt.plot(jump_sigma_s, jump_sigmas, color='b', label=\"predicted value\");\n",
    "plt.plot(jump_sigma_s, jump_sigma_s, color='black', label=\"actual value\");\n",
    "plt.fill_between(jump_sigma_s, jump_sigmas_lower_16, jump_sigmas_upper_84, color='b', alpha=0.1, edgecolor='none')\n",
    "plt.xlabel(\"Jumps Sigma\")\n",
    "plt.ylabel(\"Jumps Sigma\")\n",
    "\n",
    "plt.legend(bbox_to_anchor=(1, 0.185), loc=1, borderaxespad=0.)\n",
    "plt.show();"
   ]
  },
  {
   "cell_type": "code",
   "execution_count": null,
   "metadata": {
    "collapsed": true
   },
   "outputs": [],
   "source": [
    "jump_mus = np.array(preds_MEAN)[:,3].reshape(100)\n",
    "jump_mus_upper_84 = np.array(preds_Upper_84)[:,3].reshape(100)\n",
    "jump_mus_lower_16 = np.array(preds_Lower_16)[:,3].reshape(100)\n",
    "\n",
    "plt.plot(jump_sigma_s, jump_mus, color='g', label=\"predicted value\");\n",
    "plt.axhline(y=0.05, color='black', linestyle='-', label=\"actual value\")\n",
    "plt.fill_between(jump_sigma_s, jump_mus_lower_16, jump_mus_upper_84, color='g', alpha=0.1, edgecolor='none')\n",
    "plt.xlabel(\"Jumps Sigma\")\n",
    "plt.ylabel(\"Jumps Mu\")\n",
    "\n",
    "plt.legend(bbox_to_anchor=(1, 0.185), loc=1, borderaxespad=0.)\n",
    "plt.show();"
   ]
  },
  {
   "cell_type": "code",
   "execution_count": null,
   "metadata": {
    "collapsed": true
   },
   "outputs": [],
   "source": [
    "lambdas = np.array(preds_MEAN)[:,4].reshape(100)\n",
    "lambdas_upper_84 = np.array(preds_Upper_84)[:,4].reshape(100)\n",
    "lambdas_lower_16 = np.array(preds_Lower_16)[:,4].reshape(100)\n",
    "\n",
    "plt.plot(jump_sigma_s, lambdas, color='y', label=\"predicted value\");\n",
    "plt.axhline(y=0.02, color='black', linestyle='-', label=\"actual value\")\n",
    "plt.fill_between(jump_sigma_s, lambdas_lower_16, lambdas_upper_84, color='y', alpha=0.2, edgecolor='none')\n",
    "plt.xlabel(\"Jumps Sigma\")\n",
    "plt.ylabel(\"Lambda\")\n",
    "\n",
    "plt.legend(bbox_to_anchor=(1, 0.185), loc=1, borderaxespad=0.)\n",
    "plt.show();"
   ]
  },
  {
   "cell_type": "markdown",
   "metadata": {},
   "source": [
    "# Sensitivity Test - Jumps Mu"
   ]
  },
  {
   "cell_type": "code",
   "execution_count": null,
   "metadata": {
    "collapsed": true
   },
   "outputs": [],
   "source": [
    "jump_mu_s = []\n",
    "preds_MEAN = []\n",
    "preds_Upper_84 = []\n",
    "preds_Lower_16 = []\n",
    "\n",
    "for j in range(100):\n",
    "    covnet_lambda = covnet_multiple_output_with_ELUs()\n",
    "    covnet_lambda.load_weights(H5_DIR_COVNET_MULTIPLE_ELU)\n",
    "    \n",
    "    mp.jumps_mu = -0.5 + j/100\n",
    "    test_set = []\n",
    "    \n",
    "    print(j)\n",
    "    \n",
    "    print(\"GENERATION...\")\n",
    "    test_set_pred = standard_convolutional_test_set()\n",
    "    \n",
    "    \n",
    "    print(\"PREDICTION...\\n\")\n",
    "    predictions_elu = covnet_lambda.predict(test_set_pred)\n",
    "    \n",
    "    print(np.transpose(np.mean(predictions_elu, axis = 1)))\n",
    "    print(\"   sigma,    mu,      jump_sigma,      jump_mu,    lambda\")\n",
    "    print(\"   0.1      0.05       0.07              \"+str(mp.jumps_mu)+\"       0.02\")\n",
    "    preds_MEAN.append(np.mean(predictions_elu, axis = 1))\n",
    "    jump_mu_s.append(mp.jumps_mu)\n",
    "    preds_Upper_84.append(np.percentile(predictions_elu, 84, axis = 1))\n",
    "    preds_Lower_16.append(np.percentile(predictions_elu, 16, axis = 1))\n",
    "    \n",
    "np.save(\"Sensitivity_Test-covnet_lambda_JumpMu_preds_Upper_84.npy\", preds_Upper_84)\n",
    "np.save(\"Sensitivity_Test-covnet_lambda_JumpMu_preds_Lower_16.npy\", preds_Lower_16)\n",
    "    \n",
    "np.save(\"Sensitivity_Test-covnet_lambda_JumpMu_jump_mu_s.npy\", jump_mu_s)\n",
    "np.save(\"Sensitivity_Test-covnet_lambda_JumpMu_preds_MEAN.npy\", preds_MEAN)"
   ]
  },
  {
   "cell_type": "code",
   "execution_count": null,
   "metadata": {
    "collapsed": true
   },
   "outputs": [],
   "source": []
  },
  {
   "cell_type": "code",
   "execution_count": null,
   "metadata": {
    "collapsed": true
   },
   "outputs": [],
   "source": [
    "mus_ = np.array(preds_MEAN)[:,1].reshape(100)\n",
    "mus_upper_84 = np.array(preds_Upper_84)[:,1].reshape(100)\n",
    "mus_lower_16 = np.array(preds_Lower_16)[:,1].reshape(100)\n",
    "\n",
    "plt.plot(jump_mu_s, mus_, color='g', label=\"predicted value\");\n",
    "plt.axhline(y=0.05, color='black', linestyle='-', label=\"actual value\")\n",
    "plt.fill_between(jump_mu_s, mus_lower_16, mus_upper_84, color='g', alpha=0.1, edgecolor='none')\n",
    "plt.xlabel(\"Jumps Mu\")\n",
    "plt.ylabel(\"Mu\")\n",
    "\n",
    "plt.legend(bbox_to_anchor=(1, 0.19), loc=1, borderaxespad=0.)\n",
    "plt.show();"
   ]
  },
  {
   "cell_type": "code",
   "execution_count": null,
   "metadata": {
    "collapsed": true
   },
   "outputs": [],
   "source": [
    "sigmas = np.array(preds_MEAN)[:,0].reshape(100)\n",
    "sigmas_upper_84 = np.array(preds_Upper_84)[:,0].reshape(100)\n",
    "sigmas_lower_16 = np.array(preds_Lower_16)[:,0].reshape(100)\n",
    "\n",
    "plt.plot(jump_mu_s, sigmas, color='r', label=\"predicted value\");\n",
    "plt.axhline(y=0.1, color='black', linestyle='-', label=\"actual value\")\n",
    "plt.fill_between(jump_mu_s, sigmas_lower_16, sigmas_upper_84, color='r', alpha=0.1, edgecolor='none')\n",
    "plt.xlabel(\"Jumps Mu\")\n",
    "plt.ylabel(\"Sigma\")\n",
    "\n",
    "plt.legend(bbox_to_anchor=(1, 0.185), loc=0, borderaxespad=0.)\n",
    "plt.show();"
   ]
  },
  {
   "cell_type": "code",
   "execution_count": null,
   "metadata": {
    "collapsed": true
   },
   "outputs": [],
   "source": [
    "jump_sigmas = np.array(preds_MEAN)[:,2].reshape(100)\n",
    "jump_sigmas_upper_84 = np.array(preds_Upper_84)[:,2].reshape(100)\n",
    "jump_sigmas_lower_16 = np.array(preds_Lower_16)[:,2].reshape(100)\n",
    "\n",
    "plt.plot(jump_mu_s, jump_sigmas, color='b', label=\"predicted value\");\n",
    "plt.axhline(y=0.05, color='black', linestyle='-', label=\"actual value\")\n",
    "plt.fill_between(jump_mu_s, jump_sigmas_lower_16, jump_sigmas_upper_84, color='b', alpha=0.1, edgecolor='none')\n",
    "plt.xlabel(\"Jumps Mu\")\n",
    "plt.ylabel(\"Jumps Sigma\")\n",
    "\n",
    "plt.legend(bbox_to_anchor=(1, 0.185), loc=1, borderaxespad=0.)\n",
    "plt.show();"
   ]
  },
  {
   "cell_type": "code",
   "execution_count": null,
   "metadata": {
    "collapsed": true
   },
   "outputs": [],
   "source": [
    "jump_mus = np.array(preds_MEAN)[:,3].reshape(100)\n",
    "jump_mus_upper_84 = np.array(preds_Upper_84)[:,3].reshape(100)\n",
    "jump_mus_lower_16 = np.array(preds_Lower_16)[:,3].reshape(100)\n",
    "\n",
    "plt.plot(jump_mu_s, jump_mus, color='g', label=\"predicted value\");\n",
    "plt.plot(jump_mu_s, jump_mu_s, color='black', label=\"actual value\");\n",
    "plt.fill_between(jump_mu_s, jump_mus_lower_16, jump_mus_upper_84, color='g', alpha=0.1, edgecolor='none')\n",
    "plt.xlabel(\"Jumps Mu\")\n",
    "plt.ylabel(\"Jumps Mu\")\n",
    "\n",
    "plt.legend(bbox_to_anchor=(1, 0.185), loc=1, borderaxespad=0.)\n",
    "plt.show();"
   ]
  },
  {
   "cell_type": "code",
   "execution_count": null,
   "metadata": {
    "collapsed": true
   },
   "outputs": [],
   "source": [
    "lambdas = np.array(preds_MEAN)[:,4].reshape(100)\n",
    "lambdas_upper_84 = np.array(preds_Upper_84)[:,4].reshape(100)\n",
    "lambdas_lower_16 = np.array(preds_Lower_16)[:,4].reshape(100)\n",
    "\n",
    "plt.plot(jump_mu_s, lambdas, color='y', label=\"predicted value\");\n",
    "plt.axhline(y=0.02, color='black', linestyle='-', label=\"actual value\")\n",
    "plt.fill_between(jump_mu_s, lambdas_lower_16, lambdas_upper_84, color='y', alpha=0.2, edgecolor='none')\n",
    "plt.xlabel(\"Jumps Mu\")\n",
    "plt.ylabel(\"Lambda\")\n",
    "\n",
    "plt.legend(bbox_to_anchor=(1, 0.185), loc=1, borderaxespad=0.)\n",
    "plt.show();"
   ]
  },
  {
   "cell_type": "markdown",
   "metadata": {},
   "source": [
    "# Sensitivity Test - Lambda"
   ]
  },
  {
   "cell_type": "code",
   "execution_count": null,
   "metadata": {
    "collapsed": true
   },
   "outputs": [],
   "source": [
    "jump_lambda_s = []\n",
    "preds_MEAN = []\n",
    "preds_Upper_84 = []\n",
    "preds_Lower_16 = []\n",
    "\n",
    "for j in range(100):\n",
    "    covnet_lambda = covnet_multiple_output_with_ELUs()\n",
    "    covnet_lambda.load_weights(H5_DIR_COVNET_MULTIPLE_ELU)\n",
    "    \n",
    "    mp.lamda = 0.0001 + j*(0.025 - 0.0001)/100\n",
    "    test_set = []\n",
    "    \n",
    "    print(j)\n",
    "    \n",
    "    print(\"GENERATION...\")\n",
    "    test_set_pred = standard_convolutional_test_set()\n",
    "    \n",
    "    \n",
    "    print(\"PREDICTION...\\n\")\n",
    "    predictions_elu = covnet_lambda.predict(test_set_pred)\n",
    "    \n",
    "    print(np.transpose(np.mean(predictions_elu, axis = 1)))\n",
    "    print(\"   sigma,    mu,      jump_sigma,      jump_mu,    lambda\")\n",
    "    print(\"   0.1      0.05       0.07              0.05       \"+str(mp.lamda))\n",
    "    preds_MEAN.append(np.mean(predictions_elu, axis = 1))\n",
    "    jump_lambda_s.append(mp.lamda)\n",
    "    preds_Upper_84.append(np.percentile(predictions_elu, 84, axis = 1))\n",
    "    preds_Lower_16.append(np.percentile(predictions_elu, 16, axis = 1))\n",
    "    \n",
    "np.save(\"Sensitivity_Test-covnet_lambda_Lambda_preds_Upper_84.npy\", preds_Upper_84)\n",
    "np.save(\"Sensitivity_Test-covnet_lambda_Lambda_preds_Lower_16.npy\", preds_Lower_16)\n",
    "    \n",
    "np.save(\"Sensitivity_Test-covnet_lambda_Lambda_jump_lambda_s.npy\", jump_lambda_s)\n",
    "np.save(\"Sensitivity_Test-covnet_lambda_Lambda_preds_MEAN.npy\", preds_MEAN)"
   ]
  },
  {
   "cell_type": "code",
   "execution_count": null,
   "metadata": {
    "collapsed": true
   },
   "outputs": [],
   "source": [
    "mus_ = np.array(preds_MEAN)[:,1].reshape(100)\n",
    "mus_upper_84 = np.array(preds_Upper_84)[:,1].reshape(100)\n",
    "mus_lower_16 = np.array(preds_Lower_16)[:,1].reshape(100)\n",
    "\n",
    "plt.plot(jump_lambda_s, mus_, color='g', label=\"predicted value\");\n",
    "plt.axhline(y=0.05, color='black', linestyle='-', label=\"actual value\")\n",
    "plt.fill_between(jump_lambda_s, mus_lower_16, mus_upper_84, color='g', alpha=0.1, edgecolor='none')\n",
    "plt.xlabel(\"Lambda\")\n",
    "plt.ylabel(\"Mu\")\n",
    "\n",
    "plt.legend(bbox_to_anchor=(1, 0.19), loc=1, borderaxespad=0.)\n",
    "plt.show();"
   ]
  },
  {
   "cell_type": "code",
   "execution_count": null,
   "metadata": {
    "collapsed": true
   },
   "outputs": [],
   "source": [
    "sigmas = np.array(preds_MEAN)[:,0].reshape(100)\n",
    "sigmas_upper_84 = np.array(preds_Upper_84)[:,0].reshape(100)\n",
    "sigmas_lower_16 = np.array(preds_Lower_16)[:,0].reshape(100)\n",
    "\n",
    "plt.plot(jump_lambda_s, sigmas, color='r', label=\"predicted value\");\n",
    "plt.axhline(y=0.1, color='black', linestyle='-', label=\"actual value\")\n",
    "plt.fill_between(jump_lambda_s, sigmas_lower_16, sigmas_upper_84, color='r', alpha=0.1, edgecolor='none')\n",
    "plt.xlabel(\"Lambda\")\n",
    "plt.ylabel(\"Sigma\")\n",
    "\n",
    "plt.legend(bbox_to_anchor=(1, 0.185), loc=0, borderaxespad=0.)\n",
    "plt.show();"
   ]
  },
  {
   "cell_type": "code",
   "execution_count": null,
   "metadata": {
    "collapsed": true
   },
   "outputs": [],
   "source": [
    "jump_sigmas = np.array(preds_MEAN)[:,2].reshape(100)\n",
    "jump_sigmas_upper_84 = np.array(preds_Upper_84)[:,2].reshape(100)\n",
    "jump_sigmas_lower_16 = np.array(preds_Lower_16)[:,2].reshape(100)\n",
    "\n",
    "plt.plot(jump_lambda_s, jump_sigmas, color='b', label=\"predicted value\");\n",
    "plt.axhline(y=0.05, color='black', linestyle='-', label=\"actual value\")\n",
    "plt.fill_between(jump_lambda_s, jump_sigmas_lower_16, jump_sigmas_upper_84, color='b', alpha=0.1, edgecolor='none')\n",
    "plt.xlabel(\"Lambda\")\n",
    "plt.ylabel(\"Jumps Sigma\")\n",
    "\n",
    "plt.legend(bbox_to_anchor=(1, 0.185), loc=1, borderaxespad=0.)\n",
    "plt.show();"
   ]
  },
  {
   "cell_type": "code",
   "execution_count": null,
   "metadata": {
    "collapsed": true
   },
   "outputs": [],
   "source": [
    "jump_sigmas = np.array(preds_MEAN)[:,2].reshape(100)\n",
    "jump_sigmas_upper_84 = np.array(preds_Upper_84)[:,2].reshape(100)\n",
    "jump_sigmas_lower_16 = np.array(preds_Lower_16)[:,2].reshape(100)\n",
    "\n",
    "\n",
    "plt.plot(jump_lambda_s, jump_sigmas, color='b', label=\"predicted value\");\n",
    "plt.axhline(y=0.05, color='black', linestyle='-', label=\"actual value\")\n",
    "plt.fill_between(jump_lambda_s, jump_sigmas_lower_16, jump_sigmas_upper_84, color='b', alpha=0.1, edgecolor='none')\n",
    "plt.xlabel(\"Lambda\")\n",
    "plt.ylabel(\"Jumps Sigma\")\n",
    "\n",
    "plt.legend(bbox_to_anchor=(1, 0.185), loc=1, borderaxespad=0.)\n",
    "plt.show();"
   ]
  },
  {
   "cell_type": "code",
   "execution_count": null,
   "metadata": {
    "collapsed": true
   },
   "outputs": [],
   "source": [
    "jump_mus = np.array(preds_MEAN)[:,3].reshape(100)\n",
    "jump_mus_upper_84 = np.array(preds_Upper_84)[:,3].reshape(100)\n",
    "jump_mus_lower_16 = np.array(preds_Lower_16)[:,3].reshape(100)\n",
    "\n",
    "plt.plot(jump_lambda_s, jump_mus, color='g', label=\"predicted value\");\n",
    "plt.axhline(y=0.05, color='black', linestyle='-', label=\"actual value\")\n",
    "plt.fill_between(jump_lambda_s, jump_mus_lower_16, jump_mus_upper_84, color='g', alpha=0.1, edgecolor='none')\n",
    "plt.xlabel(\"Lambda\")\n",
    "plt.ylabel(\"Jumps Mu\")\n",
    "\n",
    "plt.legend(bbox_to_anchor=(1, 0.185), loc=1, borderaxespad=0.)\n",
    "plt.show();"
   ]
  },
  {
   "cell_type": "code",
   "execution_count": null,
   "metadata": {
    "collapsed": true
   },
   "outputs": [],
   "source": [
    "lambdas = np.array(preds_MEAN)[:,4].reshape(100)\n",
    "lambdas_upper_84 = np.array(preds_Upper_84)[:,4].reshape(100)\n",
    "lambdas_lower_16 = np.array(preds_Lower_16)[:,4].reshape(100)\n",
    "\n",
    "plt.plot(jump_lambda_s, lambdas, color='y', label=\"predicted value\");\n",
    "plt.plot(jump_lambda_s, jump_lambda_s, color='black', label=\"actual value\");\n",
    "plt.fill_between(jump_lambda_s, lambdas_lower_16, lambdas_upper_84, color='y', alpha=0.2, edgecolor='none')\n",
    "plt.xlabel(\"Lambda\")\n",
    "plt.ylabel(\"Lambda\")\n",
    "\n",
    "plt.legend(bbox_to_anchor=(1, 0.185), loc=1, borderaxespad=0.)\n",
    "plt.show();"
   ]
  },
  {
   "cell_type": "markdown",
   "metadata": {
    "collapsed": true
   },
   "source": [
    "# Tests"
   ]
  },
  {
   "cell_type": "code",
   "execution_count": null,
   "metadata": {
    "collapsed": true
   },
   "outputs": [],
   "source": [
    "test_set_pred, train_statistics = standard_test_sets()"
   ]
  },
  {
   "cell_type": "code",
   "execution_count": null,
   "metadata": {
    "collapsed": true
   },
   "outputs": [],
   "source": [
    "#predictions = covnet_mo.predict(test_set_pred)\n",
    "predictions_elu = covnet_mo_elu.predict(test_set_pred)"
   ]
  },
  {
   "cell_type": "code",
   "execution_count": null,
   "metadata": {
    "collapsed": true
   },
   "outputs": [],
   "source": [
    "predictions_ff = feedforward.predict(train_statistics)"
   ]
  },
  {
   "cell_type": "code",
   "execution_count": null,
   "metadata": {
    "collapsed": true
   },
   "outputs": [],
   "source": [
    "np.mean(predictions_ff, axis = 1)"
   ]
  },
  {
   "cell_type": "code",
   "execution_count": null,
   "metadata": {
    "collapsed": true
   },
   "outputs": [],
   "source": [
    "np.mean(predictions_elu, axis = 1)"
   ]
  },
  {
   "cell_type": "code",
   "execution_count": null,
   "metadata": {
    "collapsed": true
   },
   "outputs": [],
   "source": [
    "mp = test_set_model_params()\n",
    "print(mp.all_sigma, mp.gbm_mu, mp.jumps_sigma, mp.jumps_mu, mp.lamda)"
   ]
  },
  {
   "cell_type": "code",
   "execution_count": null,
   "metadata": {
    "collapsed": true
   },
   "outputs": [],
   "source": [
    "from PIL import Image"
   ]
  },
  {
   "cell_type": "code",
   "execution_count": null,
   "metadata": {
    "collapsed": true
   },
   "outputs": [],
   "source": [
    "def predictions_hist(predictions, true_value, plot_title = \"model\", param_name = \"param\", min_edge = None, max_edge = None, y_lim = (None, None), bin_size = 0.0025, img_subdir = \"/Images/\", save_to_file = True):\n",
    "    \n",
    "    if min_edge == None:\n",
    "        min_edge = np.min(predictions)\n",
    "    \n",
    "    if max_edge == None:\n",
    "        max_edge = np.max(predictions)\n",
    "    \n",
    "    bin_size = (max_edge-min_edge)/50\n",
    "    N = (max_edge-min_edge)/bin_size; Nplus1 = N + 1\n",
    "    bin_list = np.linspace(min_edge, max_edge, Nplus1)\n",
    "\n",
    "    fig = pylab.figure();\n",
    "    l = pylab.hist(predictions, bins=bin_list);\n",
    "    #pylab.title(plot_title);\n",
    "    pylab.axvline(x = true_value, c='k');\n",
    "    pylab.xlim(min_edge, max_edge);\n",
    "    \n",
    "    if y_lim != (None, None):\n",
    "        pylab.ylim(y_lim[0], y_lim[1])\n",
    "    \n",
    "    fig.set_dpi(120)     # draw the canvas, cache the renderer\n",
    "    \n",
    "    def fig2data ( fig ):\n",
    "        \"\"\"\n",
    "        @brief Convert a Matplotlib figure to a 4D numpy array with RGBA channels and return it\n",
    "        @param fig a matplotlib figure\n",
    "        @return a numpy 3D array of RGBA values\n",
    "        \"\"\"\n",
    "        # draw the renderer\n",
    "        fig.canvas.draw ( )\n",
    "\n",
    "        # Get the RGBA buffer from the figure\n",
    "        w,h = fig.canvas.get_width_height()\n",
    "        buf = numpy.fromstring ( fig.canvas.tostring_argb(), dtype=numpy.uint8 )\n",
    "        buf.shape = ( w, h,4 )\n",
    "\n",
    "        # canvas.tostring_argb give pixmap in ARGB mode. Roll the ALPHA channel to have it in RGBA mode\n",
    "        buf = numpy.roll ( buf, 3, axis = 2 )\n",
    "        return buf\n",
    "\n",
    "    def fig2img ( fig ):\n",
    "        \"\"\"\n",
    "        @brief Convert a Matplotlib figure to a PIL Image in RGBA format and return it\n",
    "        @param fig a matplotlib figure\n",
    "        @return a Python Imaging Library ( PIL ) image\n",
    "        \"\"\"\n",
    "        # put the figure pixmap into a numpy array\n",
    "        buf = fig2data ( fig )\n",
    "        w, h, d = buf.shape\n",
    "        return Image.frombytes( \"RGBA\", ( w ,h ), buf.tostring( ) )\n",
    "    \n",
    "    #width, height = fig.get_size_inches() * fig.get_dpi()\n",
    "    #img = (np.fromstring(fig.canvas.tostring_rgb(), dtype='uint8', sep='')).reshape(fig.canvas.get_width_height()[::-1] + (3,))\n",
    "    \n",
    "    if save_to_file:\n",
    "        fig.savefig(ROOT_DIR + img_subdir + plot_title + \"_\" + param_name + \".png\");\n",
    "    return fig, l"
   ]
  },
  {
   "cell_type": "code",
   "execution_count": null,
   "metadata": {
    "collapsed": true
   },
   "outputs": [],
   "source": [
    "\"\"\"predictions_hist(predictions[0], mp.all_sigma, \n",
    "                 \"Convolutional Architecture - Multiple Output - ReLU\", \n",
    "                 \"Sigma\",\n",
    "                 min_edge = 0.08,\n",
    "                 max_edge = 0.155,\n",
    "                 y_lim = (0, 210),\n",
    "                 img_subdir = \"/Images/Parameter-Prediction-Results/ConvolutionalNN-MultipleOutput-ReLU/\");\n",
    "\"\"\"\n",
    "predictions_hist(predictions_elu[0], mp.all_sigma, \n",
    "                 \"Convolutional Architecture - Multiple Output - ELU\", \n",
    "                 \"Sigma\",\n",
    "                 min_edge = 0.08,\n",
    "                 max_edge = 0.155,\n",
    "                 y_lim = (0, 210),\n",
    "                 img_subdir = \"/Images/Parameter-Prediction-Results/ConvolutionalNN-MultipleOutput-ELU/\");\n",
    "\n",
    "predictions_hist(predictions_ff[0], mp.all_sigma, \n",
    "                 \"Fully Connected Architecture - Multiple Output - ELU\", \n",
    "                 \"Sigma\",\n",
    "                 min_edge = 0.08,\n",
    "                 max_edge = 0.155,\n",
    "                 img_subdir = \"/Images/Parameter-Prediction-Results/FullyConnected-MultipleOutput-ELU/\");"
   ]
  },
  {
   "cell_type": "code",
   "execution_count": null,
   "metadata": {
    "collapsed": true
   },
   "outputs": [],
   "source": [
    "\"\"\"predictions_hist(predictions[1], mp.gbm_mu, \n",
    "                 \"Convolutional Architecture - Multiple Output - ReLU\", \n",
    "                 \"Mu\",\n",
    "                 min_edge = -0.1,\n",
    "                 max_edge = 0.4,\n",
    "                 y_lim = (0, 120),\n",
    "                 img_subdir = \"/Images/Parameter-Prediction-Results/ConvolutionalNN-MultipleOutput-ReLU/\");\n",
    "\"\"\"\n",
    "predictions_hist(predictions_elu[1], mp.gbm_mu, \n",
    "                 \"Convolutional Architecture - Multiple Output - ELU\", \n",
    "                 \"Mu\",\n",
    "                 min_edge = -0.1,\n",
    "                 max_edge = 0.4,\n",
    "                 y_lim = (0, 120),\n",
    "                 img_subdir = \"/Images/Parameter-Prediction-Results/ConvolutionalNN-MultipleOutput-ELU/\");\n",
    "\n",
    "predictions_hist(predictions_ff[1], mp.gbm_mu, \n",
    "                 \"Fully Connected Architecture - Multiple Output - ELU\", \n",
    "                 \"Mu\",\n",
    "                 min_edge = -0.1,\n",
    "                 max_edge = 0.4,\n",
    "                 y_lim = (0, 120),\n",
    "                 img_subdir = \"/Images/Parameter-Prediction-Results/FullyConnected-MultipleOutput-ELU/\");"
   ]
  },
  {
   "cell_type": "code",
   "execution_count": null,
   "metadata": {
    "collapsed": true
   },
   "outputs": [],
   "source": [
    "\"\"\"predictions_hist(predictions[2], mp.jumps_sigma, \n",
    "                 \"Convolutional Architecture - Multiple Output - ReLU\", \n",
    "                 \"Jumps Sigma\",\n",
    "                 min_edge = 0.02,\n",
    "                 max_edge = 0.13,\n",
    "                 y_lim = (0, 80),\n",
    "                 img_subdir = \"/Images/Parameter-Prediction-Results/ConvolutionalNN-MultipleOutput-ReLU/\");\n",
    "\"\"\"\n",
    "predictions_hist(predictions_elu[2], mp.jumps_sigma, \n",
    "                 \"Convolutional Architecture - Multiple Output - ELU\", \n",
    "                 \"Jumps Sigma\",\n",
    "                 min_edge = 0.02,\n",
    "                 max_edge = 0.13,\n",
    "                 y_lim = (0, 80),\n",
    "                 img_subdir = \"/Images/Parameter-Prediction-Results/ConvolutionalNN-MultipleOutput-ELU/\");\n",
    "\n",
    "\"\"\"predictions_hist(predictions_ff[2], mp.jumps_sigma, \n",
    "                 \"Fully Connected Architecture - Multiple Output - ELU\", \n",
    "                 \"Jumps Sigma\",\n",
    "                 min_edge = 0.02,\n",
    "                 max_edge = 0.13,\n",
    "                 img_subdir = \"/Images/Parameter-Prediction-Results/FullyConnected-MultipleOutput-ELU/\");\"\"\"\n",
    "\n",
    "preds_so = covnet_jump_sigma.predict(test_set_pred)\n",
    "predictions_hist(preds_so, mp.jumps_sigma, \n",
    "                 \"Convolutional Architecture - Multiple Output - ELU\", \n",
    "                 \"Jumps Sigma\",\n",
    "                 min_edge = 0.02,\n",
    "                 max_edge = 0.13,\n",
    "                 y_lim = (0, 80),\n",
    "                 img_subdir = \"/Images/Parameter-Prediction-Results/ConvolutionalNN-MultipleOutput-ELU/\");"
   ]
  },
  {
   "cell_type": "code",
   "execution_count": null,
   "metadata": {
    "collapsed": true
   },
   "outputs": [],
   "source": [
    "\"\"\"predictions_hist(predictions[3], mp.jumps_mu, \n",
    "                 \"Convolutional Architecture - Multiple Output - ReLU\", \n",
    "                 \"Jumps Mu\",\n",
    "                 min_edge = -0.1,\n",
    "                 max_edge = 0.15,\n",
    "                 y_lim = (0, 120),\n",
    "                 img_subdir = \"/Images/Parameter-Prediction-Results/ConvolutionalNN-MultipleOutput-ReLU/\");\n",
    "\"\"\"\n",
    "predictions_hist(predictions_elu[3], mp.jumps_mu, \n",
    "                 \"Convolutional Architecture - Multiple Output - ELU\", \n",
    "                 \"Jumps Mu\",\n",
    "                 min_edge = -0.1,\n",
    "                 max_edge = 0.15,\n",
    "                 y_lim = (0, 120),\n",
    "                 img_subdir = \"/Images/Parameter-Prediction-Results/ConvolutionalNN-MultipleOutput-ELU/\");\n",
    "\n",
    "predictions_hist(predictions_so, mp.jumps_mu, \n",
    "                 \"Convolutional Architecture - Single Output - ELU\", \n",
    "                 \"Jumps Mu\",\n",
    "                 min_edge = -0.1,\n",
    "                 max_edge = 0.15,\n",
    "                 y_lim = (0, 120),\n",
    "                 img_subdir = \"/Images/Parameter-Prediction-Results/ConvolutionalNN-SingleOutput/\");\n",
    "\n",
    "predictions_hist(predictions_ff[3], mp.jumps_mu, \n",
    "                 \"Fully Connected Architecture - Multiple Output - ELU\", \n",
    "                 \"Jumps Mu\",\n",
    "                 min_edge = -0.1,\n",
    "                 max_edge = 0.15,\n",
    "                 y_lim = (0, 120),\n",
    "                 img_subdir = \"/Images/Parameter-Prediction-Results/FullyConnected-MultipleOutput-ELU/\");"
   ]
  },
  {
   "cell_type": "code",
   "execution_count": null,
   "metadata": {
    "collapsed": true
   },
   "outputs": [],
   "source": [
    "predictions_so = covnet_jump_mu.predict(test_set_pred)"
   ]
  },
  {
   "cell_type": "code",
   "execution_count": null,
   "metadata": {
    "collapsed": true
   },
   "outputs": [],
   "source": [
    "predictions_so"
   ]
  },
  {
   "cell_type": "code",
   "execution_count": null,
   "metadata": {
    "collapsed": true
   },
   "outputs": [],
   "source": [
    "predictions_hist(np.reshape(predictions_so, len(predictions_so)), mp.jumps_mu, \n",
    "                 \"Fully Connected Architecture - Multiple Output - ELU\", \n",
    "                 \"Jumps Mu\",\n",
    "                 min_edge = -0.1,\n",
    "                 max_edge = 0.15,\n",
    "                 y_lim = (0, 120),\n",
    "                 img_subdir = \"/Images/Parameter-Prediction-Results/FullyConnected-MultipleOutput-ELU/\");\n"
   ]
  },
  {
   "cell_type": "code",
   "execution_count": null,
   "metadata": {
    "collapsed": true
   },
   "outputs": [],
   "source": [
    "single_param_predictions_lambda = covnet_lambda.predict(test_set_pred)"
   ]
  },
  {
   "cell_type": "code",
   "execution_count": null,
   "metadata": {
    "collapsed": true
   },
   "outputs": [],
   "source": [
    "\"\"\"predictions_hist(predictions[4], mp.lamda, \n",
    "                 \"Convolutional Architecture - Multiple Output - ReLU\", \n",
    "                 \"Lambda\",\n",
    "                 min_edge = 0.004,\n",
    "                 max_edge = 0.025,\n",
    "                 y_lim = (0, 100),\n",
    "                 img_subdir = \"/Images/Parameter-Prediction-Results/ConvolutionalNN-MultipleOutput-ReLU/\");\n",
    "\"\"\"\n",
    "\n",
    "predictions_hist(predictions_elu[4], mp.lamda, \n",
    "                 \"Convolutional Architecture - Multiple Output - ELU\", \n",
    "                 \"Lambda\",\n",
    "                 min_edge = 0.004,\n",
    "                 max_edge = 0.025,\n",
    "                 y_lim = (0, 100),\n",
    "                 img_subdir = \"/Images/Parameter-Prediction-Results/ConvolutionalNN-MultipleOutput-ELU/\");\n",
    "\n",
    "predictions_hist(predictions_ff[4], mp.lamda, \n",
    "                 \"Fully Connected Architecture - Multiple Output - ELU\", \n",
    "                 \"Lambda\",\n",
    "                 min_edge = 0.004,\n",
    "                 max_edge = 0.025,\n",
    "                 img_subdir = \"/Images/Parameter-Prediction-Results/FullyConnected-MultipleOutput-ELU/\");\n",
    "\n",
    "predictions_hist(single_param_predictions_lambda, mp.lamda, \n",
    "                 \"Convolutional Architecture - Single Output - ELU\", \n",
    "                 \"Lambda\",\n",
    "                 min_edge = 0.004,\n",
    "                 max_edge = 0.025,\n",
    "                 img_subdir = \"/Images/Parameter-Prediction-Results/ConvolutionalNN-SingleOutput/\");"
   ]
  },
  {
   "cell_type": "code",
   "execution_count": null,
   "metadata": {
    "collapsed": true
   },
   "outputs": [],
   "source": [
    "predictionset = []\n",
    "for return_set in test_set:\n",
    "    prediction = []\n",
    "    output1 = covnet_mo.predict(np.array([return_set]))\n",
    "    output2 = covnet_lambda.predict(np.array([return_set]))\n",
    "    output3 = covnet_jump_mu.predict(np.array([return_set]))\n",
    "    output4 = covnet_jump_sigma.predict(np.array([return_set]))\n",
    "    for output in output1:\n",
    "        prediction.append(output[0][0])\n",
    "    prediction.append(output2[0][0])\n",
    "    prediction.append(output3[0][0])\n",
    "    prediction.append(output4[0][0])\n",
    "    predictionset.append(prediction)\n",
    "        "
   ]
  },
  {
   "cell_type": "code",
   "execution_count": null,
   "metadata": {
    "collapsed": true
   },
   "outputs": [],
   "source": [
    "preds = ff_ensembling.predict(np.array(predictionset))\n",
    "np.transpose(preds)[4]"
   ]
  },
  {
   "cell_type": "code",
   "execution_count": null,
   "metadata": {
    "collapsed": true
   },
   "outputs": [],
   "source": [
    "lambdas = np.transpose(preds)[4]\n",
    "\n",
    "bin_size = 0.0005; min_edge = np.min(lambdas)-0.003; max_edge = np.max(lambdas)\n",
    "N = (max_edge-min_edge)/bin_size; Nplus1 = N + 1\n",
    "bin_list = np.linspace(min_edge, max_edge, Nplus1)\n",
    "\n",
    "plt.hist(lambdas, bins=bin_list);\n",
    "plt.title(\"Single Output:  Lambda with true value = \"+str(mp.lamda));\n",
    "plt.axvline(x=mp.lamda, c='k')\n",
    "plt.show();"
   ]
  },
  {
   "cell_type": "code",
   "execution_count": null,
   "metadata": {
    "collapsed": true
   },
   "outputs": [],
   "source": [
    "jump_mus = np.transpose(preds)[3]\n",
    "\n",
    "bin_size = 0.0025; min_edge = np.min(jump_mus)-0.03; max_edge = np.max(jump_mus)\n",
    "N = (max_edge-min_edge)/bin_size; Nplus1 = N + 1\n",
    "bin_list = np.linspace(min_edge, max_edge, Nplus1)\n",
    "\n",
    "plt.hist(jump_mus, bins=bin_list);\n",
    "plt.axvline(x=mp.jumps_mu, c='k')\n",
    "plt.title(\"Multiple Output: Mu_jumps with true value = \"+str(mp.jumps_mu));\n",
    "plt.show();"
   ]
  },
  {
   "cell_type": "code",
   "execution_count": null,
   "metadata": {
    "collapsed": true
   },
   "outputs": [],
   "source": [
    "jump_sigmas = np.transpose(preds)[2]\n",
    "\n",
    "bin_size = 0.0025; min_edge = np.min(jump_sigmas)-0.025; max_edge = np.max(jump_sigmas)\n",
    "N = (max_edge-min_edge)/bin_size; Nplus1 = N + 1\n",
    "bin_list = np.linspace(min_edge, max_edge, Nplus1)\n",
    "\n",
    "plt.hist(jump_sigmas, bins=bin_list);\n",
    "plt.title(\"Multiple Output: Sigma_jumps with true value = \"+str(mp.jumps_sigma));\n",
    "plt.axvline(x=mp.jumps_sigma, c='k')\n",
    "plt.show();"
   ]
  },
  {
   "cell_type": "code",
   "execution_count": null,
   "metadata": {
    "collapsed": true
   },
   "outputs": [],
   "source": [
    "preds"
   ]
  },
  {
   "cell_type": "code",
   "execution_count": null,
   "metadata": {
    "collapsed": true
   },
   "outputs": [],
   "source": [
    "random_seed = System.currentTimeMillis()\n",
    "print(random_seed)"
   ]
  },
  {
   "cell_type": "code",
   "execution_count": null,
   "metadata": {
    "collapsed": true
   },
   "outputs": [],
   "source": [
    "mp = random_model_params()\n",
    "mp.gbm_mu = 0.1\n",
    "mp.all_sigma = 0.1\n",
    "mp.lamda = 0.02\n",
    "mp.jumps_mu = 0.1\n",
    "mp.jumps_sigma = 0.05\n",
    "\n",
    "nrand.seed(random_seed)\n",
    "random.seed(random_seed)\n",
    "RETURNS_ = np.exp(geometric_brownian_motion_jump_diffusion_log_returns(mp))"
   ]
  },
  {
   "cell_type": "code",
   "execution_count": null,
   "metadata": {
    "collapsed": true
   },
   "outputs": [],
   "source": [
    "path1 = [1]\n",
    "for i in range(len(RETURNS_)):\n",
    "    path1.append(path1[i]*RETURNS_[i])"
   ]
  },
  {
   "cell_type": "code",
   "execution_count": null,
   "metadata": {
    "collapsed": true
   },
   "outputs": [],
   "source": [
    "nrand.seed(random_seed)\n",
    "random.seed(random_seed)\n",
    "return_set = np.reshape(np.array(geometric_brownian_motion_jump_diffusion_log_returns(mp)), (40, 50, 1))\n",
    "\n",
    "output1 = covnet_mo.predict(np.array([return_set]))\n",
    "output2 = covnet_lambda.predict(np.array([return_set]))\n",
    "output3 = covnet_jump_mu.predict(np.array([return_set]))\n",
    "output4 = covnet_jump_sigma.predict(np.array([return_set]))\n",
    "prediction = []\n",
    "\n",
    "for output in output1:\n",
    "    prediction.append(output[0][0])\n",
    "prediction.append(output2[0][0])\n",
    "prediction.append(output3[0][0])\n",
    "prediction.append(output4[0][0])    "
   ]
  },
  {
   "cell_type": "code",
   "execution_count": null,
   "metadata": {
    "collapsed": true
   },
   "outputs": [],
   "source": []
  },
  {
   "cell_type": "code",
   "execution_count": null,
   "metadata": {
    "collapsed": true
   },
   "outputs": [],
   "source": [
    "preds = covnet_mo_elu.predict(np.array([return_set]))"
   ]
  },
  {
   "cell_type": "code",
   "execution_count": null,
   "metadata": {
    "collapsed": true
   },
   "outputs": [],
   "source": [
    "mp.all_sigma = preds[0][0][0]\n",
    "mp.gbm_mu = preds[1][0][0]\n",
    "mp.jumps_sigma = preds[2][0][0]\n",
    "mp.jumps_mu = preds[3][0][0]\n",
    "mp.lamda = preds[4][0][0]"
   ]
  },
  {
   "cell_type": "code",
   "execution_count": null,
   "metadata": {
    "collapsed": true
   },
   "outputs": [],
   "source": [
    "preds"
   ]
  },
  {
   "cell_type": "code",
   "execution_count": null,
   "metadata": {
    "collapsed": true
   },
   "outputs": [],
   "source": [
    "nrand.seed(random_seed)\n",
    "random.seed(random_seed)\n",
    "RETURNS_ = np.exp(geometric_brownian_motion_jump_diffusion_log_returns(mp))\n",
    "path2 = [1]\n",
    "for i in range(len(RETURNS_)):\n",
    "    path2.append(path2[i]*RETURNS_[i])\n",
    "plt.plot(path2);\n",
    "plt.plot(path1);"
   ]
  },
  {
   "cell_type": "code",
   "execution_count": null,
   "metadata": {
    "collapsed": true
   },
   "outputs": [],
   "source": []
  },
  {
   "cell_type": "code",
   "execution_count": null,
   "metadata": {
    "collapsed": true
   },
   "outputs": [],
   "source": []
  },
  {
   "cell_type": "code",
   "execution_count": null,
   "metadata": {
    "collapsed": true
   },
   "outputs": [],
   "source": []
  }
 ],
 "metadata": {
  "anaconda-cloud": {},
  "kernelspec": {
   "display_name": "Python 3",
   "language": "python",
   "name": "python3"
  },
  "language_info": {
   "codemirror_mode": {
    "name": "ipython",
    "version": 3
   },
   "file_extension": ".py",
   "mimetype": "text/x-python",
   "name": "python",
   "nbconvert_exporter": "python",
   "pygments_lexer": "ipython3",
   "version": "3.5.2"
  },
  "widgets": {
   "state": {},
   "version": "1.1.2"
  }
 },
 "nbformat": 4,
 "nbformat_minor": 2
}
