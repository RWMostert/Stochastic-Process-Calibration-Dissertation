{
 "cells": [
  {
   "cell_type": "code",
   "execution_count": 1,
   "metadata": {},
   "outputs": [
    {
     "name": "stdout",
     "output_type": "stream",
     "text": [
      "Collecting keras\n",
      "  Using cached Keras-2.0.8-py2.py3-none-any.whl\n",
      "Collecting six>=1.9.0 (from keras)\n",
      "  Using cached six-1.11.0-py2.py3-none-any.whl\n",
      "Requirement already up-to-date: pyyaml in /usr/lib64/python2.7/dist-packages (from keras)\n",
      "Requirement already up-to-date: numpy>=1.9.1 in /usr/lib64/python2.7/dist-packages (from keras)\n",
      "Requirement already up-to-date: scipy>=0.14 in /usr/lib64/python2.7/dist-packages (from keras)\n",
      "Installing collected packages: six, keras\n",
      "  Found existing installation: six 1.10.0\n",
      "    Uninstalling six-1.10.0:\n",
      "      Successfully uninstalled six-1.10.0\n",
      "  Found existing installation: Keras 1.2.2\n",
      "    Uninstalling Keras-1.2.2:\n",
      "      Successfully uninstalled Keras-1.2.2\n",
      "Successfully installed keras-2.0.8 six-1.11.0\n"
     ]
    }
   ],
   "source": [
    "#!pip install seaborn\n",
    "!sudo pip install keras --upgrade"
   ]
  },
  {
   "cell_type": "code",
   "execution_count": 1,
   "metadata": {
    "collapsed": true
   },
   "outputs": [],
   "source": [
    "from Constants import ROOT_DIR, \\\n",
    "    H5_DIR_FULLYCONNECTED_MULTIPLE_RELU,\\\n",
    "    H5_DIR_FULLYCONNECTED_MULTIPLE_ELU,\\\n",
    "    H5_DIR_COVNET_MULTIPLE_RELU,\\\n",
    "    H5_DIR_COVNET_MULTIPLE_ELU,\\\n",
    "    H5_DIR_COVNET_JUMP_SIGMA,\\\n",
    "    H5_DIR_COVNET_JUMP_MU,\\\n",
    "    H5_DIR_COVNET_LAMBDA,\\\n",
    "    H5_DIR_ENSEMBLING,\\\n",
    "    HISTORY_DIR_FEEDFORWARD_RELU,\\\n",
    "    PREDICTIONS_DIR_FEEDFORWARD_RELU"
   ]
  },
  {
   "cell_type": "code",
   "execution_count": 2,
   "metadata": {},
   "outputs": [
    {
     "ename": "ImportError",
     "evalue": "No module named seaborn",
     "output_type": "error",
     "traceback": [
      "\u001b[0;31m---------------------------------------------------------------------------\u001b[0m",
      "\u001b[0;31mImportError\u001b[0m                               Traceback (most recent call last)",
      "\u001b[0;32m<ipython-input-2-50e9e615b4be>\u001b[0m in \u001b[0;36m<module>\u001b[0;34m()\u001b[0m\n\u001b[1;32m     12\u001b[0m \u001b[0;34m\u001b[0m\u001b[0m\n\u001b[1;32m     13\u001b[0m \u001b[0;31m# Optional:\u001b[0m\u001b[0;34m\u001b[0m\u001b[0;34m\u001b[0m\u001b[0m\n\u001b[0;32m---> 14\u001b[0;31m \u001b[0;32mimport\u001b[0m \u001b[0mseaborn\u001b[0m \u001b[0;32mas\u001b[0m \u001b[0msns\u001b[0m\u001b[0;34m\u001b[0m\u001b[0m\n\u001b[0m\u001b[1;32m     15\u001b[0m \u001b[0msns\u001b[0m\u001b[0;34m.\u001b[0m\u001b[0mset\u001b[0m\u001b[0;34m(\u001b[0m\u001b[0mcolor_codes\u001b[0m\u001b[0;34m=\u001b[0m\u001b[0mTrue\u001b[0m\u001b[0;34m)\u001b[0m\u001b[0;34m\u001b[0m\u001b[0m\n\u001b[1;32m     16\u001b[0m \u001b[0msns\u001b[0m\u001b[0;34m.\u001b[0m\u001b[0mset_style\u001b[0m\u001b[0;34m(\u001b[0m\u001b[0mstyle\u001b[0m\u001b[0;34m=\u001b[0m\u001b[0;34m'white'\u001b[0m\u001b[0;34m)\u001b[0m\u001b[0;34m\u001b[0m\u001b[0m\n",
      "\u001b[0;31mImportError\u001b[0m: No module named seaborn"
     ]
    }
   ],
   "source": [
    "import numpy as np\n",
    "import math\n",
    "import random\n",
    "#import statsmodels.api as sm\n",
    "import matplotlib.pyplot as plt\n",
    "import pylab\n",
    "\n",
    "from scipy import stats\n",
    "from numpy import random as nrand\n",
    "\n",
    "%matplotlib inline\n",
    "\n",
    "# Optional:\n",
    "import seaborn as sns\n",
    "sns.set(color_codes=True)\n",
    "sns.set_style(style='white')\n",
    "sns.set(font_scale=1.6)"
   ]
  },
  {
   "cell_type": "code",
   "execution_count": 3,
   "metadata": {},
   "outputs": [
    {
     "name": "stderr",
     "output_type": "stream",
     "text": [
      "Using TensorFlow backend.\n"
     ]
    }
   ],
   "source": [
    "import tensorflow as tf\n",
    "import keras\n",
    "from keras.models import Model, Sequential, load_model\n",
    "from keras.layers import Input, Dense, Flatten, LSTM, Convolution2D, MaxPooling2D, Input\n",
    "from keras.optimizers import Adam\n",
    "from keras import backend as K"
   ]
  },
  {
   "cell_type": "code",
   "execution_count": 4,
   "metadata": {},
   "outputs": [
    {
     "name": "stdout",
     "output_type": "stream",
     "text": [
      "2.0.8\n"
     ]
    }
   ],
   "source": [
    "print(keras.__version__)"
   ]
  },
  {
   "cell_type": "code",
   "execution_count": 5,
   "metadata": {
    "collapsed": true
   },
   "outputs": [],
   "source": [
    "sess = tf.Session(config=tf.ConfigProto(log_device_placement=True))"
   ]
  },
  {
   "cell_type": "code",
   "execution_count": 6,
   "metadata": {
    "collapsed": true
   },
   "outputs": [],
   "source": [
    "from Merton_Jump_Diffusion_SDE_Utilities import \\\n",
    "    ModelParameters, \\\n",
    "    random_model_params, \\\n",
    "    geometric_brownian_motion_jump_diffusion_log_returns\n",
    "    \n",
    "from Models import \\\n",
    "    fullyconnected_multiple_ELUs, \\\n",
    "    covnet_multiple_ELUs_8_layers, \\\n",
    "    covnet_single_ReLUs_6_layers, \\\n",
    "    fullyconnected_multiple_ReLUs, \\\n",
    "    covnet_multiple_ELUs_10_layers, \\\n",
    "    covnet_multiple_ELUs_10_layers_dilated"
   ]
  },
  {
   "cell_type": "code",
   "execution_count": 7,
   "metadata": {
    "collapsed": true
   },
   "outputs": [],
   "source": [
    "def test_set_model_params():\n",
    "    return ModelParameters(\n",
    "        all_time=2000,\n",
    "        all_delta=0.00396825396,\n",
    "        all_sigma = 0.1,\n",
    "        gbm_mu = 0.05,\n",
    "        jumps_sigma=0.07,\n",
    "        jumps_mu=0.05,\n",
    "        jumps_lamda=0.02)\n",
    "\n",
    "def standard_convolutional_test_set(sample_size = 1000, dim = (40, 50), mp = None):\n",
    "    if mp == None:\n",
    "        mp = test_set_model_params()\n",
    "        \n",
    "    test_set = []\n",
    "    for i in range(sample_size):\n",
    "        if (i%100 == 0):\n",
    "            print(i)\n",
    "        test_set.append(geometric_brownian_motion_jump_diffusion_log_returns(mp))\n",
    "\n",
    "    test_set_pred = np.reshape(np.array(test_set), (sample_size, dim[0], dim[1], 1))\n",
    "    return test_set_pred\n",
    "\n",
    "def convolutional_batch_generator(all_time = 2000, paramset_size = 32, paths_p_paramset = 5, constraint_all_sigma = (0.001,0.2), constraint_gbm_mu = (-1,1), constraint_jumps_lamda = (0.0001,0.025), constraint_jumps_sigma = (0.001, 0.2), constraint_jumps_mu = (-0.5,0.5)):\n",
    "    while True:\n",
    "        RETURNS_ = []\n",
    "        PARAMS_ = []\n",
    "        \n",
    "        for i in range(paramset_size):\n",
    "            mp = random_model_params(constraint_all_sigma, constraint_gbm_mu, constraint_jumps_lamda, constraint_jumps_sigma, constraint_jumps_mu)\n",
    "            mp.all_time = all_time\n",
    "            \n",
    "            for j in range(paths_p_paramset):\n",
    "                PARAMS_.append(mp)\n",
    "                RETURNS_.append(geometric_brownian_motion_jump_diffusion_log_returns(mp))\n",
    "        \n",
    "        train_data = np.reshape(np.array(RETURNS_), (paramset_size*paths_p_paramset, 40, 50, 1))\n",
    "        sigmas = np.array([[mp.all_sigma] for mp in PARAMS_])\n",
    "        mus = np.array([[mp.gbm_mu] for mp in PARAMS_])\n",
    "        jump_sigmas = np.array([[mp.jumps_sigma] for mp in PARAMS_])\n",
    "        jump_mus = np.array([[mp.jumps_mu] for mp in PARAMS_])\n",
    "        lambdas = np.array([[mp.lamda] for mp in PARAMS_])\n",
    "        \n",
    "        yield train_data, [sigmas, mus, jump_sigmas, jump_mus, lambdas]\n",
    "\n",
    "def standard_fullyconnected_test_set(sample_size = 1000):\n",
    "    test_set = []\n",
    "    for i in range(sample_size):\n",
    "        if (i%100 == 0):\n",
    "            print(i)\n",
    "        test_set.append(geometric_brownian_motion_jump_diffusion_log_returns(test_set_model_params()))\n",
    "\n",
    "    train_moments = [np.append(stats.moment(example, moment = range(2,20)), np.mean(example)) for example in test_set]\n",
    "    train_statistics = np.array([np.append(train_moments[i], \n",
    "                                  sm.tsa.stattools.acf(test_set[i])) \n",
    "                        for i in range(len(test_set))])\n",
    "    return train_statistics\n",
    "\n",
    "\n",
    "def standard_test_sets(sample_size = 1000, dim = (40, 50)):\n",
    "    test_set = []\n",
    "    for i in range(sample_size):\n",
    "        if (i%100 == 0):\n",
    "            print(i)\n",
    "        test_set.append(geometric_brownian_motion_jump_diffusion_log_returns(test_set_model_params()))\n",
    "\n",
    "    test_set_pred = np.reshape(np.array(test_set), (sample_size, dim[0], dim[1], 1))\n",
    "    \n",
    "    train_moments = [np.append(stats.moment(example, moment = range(2,20)), np.mean(example)) for example in test_set]\n",
    "    train_statistics = np.array([np.append(train_moments[i], \n",
    "                                  sm.tsa.stattools.acf(test_set[i])) \n",
    "                        for i in range(len(test_set))])\n",
    "    return test_set_pred, train_statistics\n",
    "\n",
    "def fullyconnected_batch_generator(all_time = 2000, paramset_size = 32, paths_p_paramset = 5):\n",
    "    while True:\n",
    "        RETURNS_ = []\n",
    "        PARAMS_ = []\n",
    "        \n",
    "        for i in range(paramset_size):\n",
    "            mp = random_model_params()\n",
    "            mp.all_time = all_time\n",
    "            \n",
    "            for j in range(paths_p_paramset):\n",
    "                PARAMS_.append(mp)\n",
    "                RETURNS_.append(geometric_brownian_motion_jump_diffusion_log_returns(mp))\n",
    "        \n",
    "        train_moments = [np.append(stats.moment(example, moment = range(2,20)), np.mean(example)) for example in RETURNS_]\n",
    "\n",
    "        train_statistics = np.array([np.append(train_moments[i], \n",
    "                              sm.tsa.stattools.acf(RETURNS_[i])) \n",
    "                    for i in range(len(RETURNS_))])\n",
    "        \n",
    "        sigmas = np.array([[mp.all_sigma] for mp in PARAMS_])\n",
    "        mus = np.array([[mp.gbm_mu] for mp in PARAMS_])\n",
    "        jump_sigmas = np.array([[mp.jumps_sigma] for mp in PARAMS_])\n",
    "        jump_mus = np.array([[mp.jumps_mu] for mp in PARAMS_])\n",
    "        lambdas = np.array([[mp.lamda] for mp in PARAMS_])\n",
    "        \n",
    "        yield train_statistics, [sigmas, mus, jump_sigmas, jump_mus, lambdas]"
   ]
  },
  {
   "cell_type": "markdown",
   "metadata": {},
   "source": [
    "### Fully Connected Multiple ReLUs"
   ]
  },
  {
   "cell_type": "code",
   "execution_count": null,
   "metadata": {
    "collapsed": true
   },
   "outputs": [],
   "source": [
    "feedforward = fullyconnected_multiple_ReLUs()\n",
    "#feedforward.load_weights(H5_DIR_FULLYCONNECTED_MULTIPLE_RELU)"
   ]
  },
  {
   "cell_type": "code",
   "execution_count": null,
   "metadata": {
    "collapsed": true
   },
   "outputs": [],
   "source": [
    "test_set = standard_fullyconnected_test_set()"
   ]
  },
  {
   "cell_type": "code",
   "execution_count": null,
   "metadata": {
    "collapsed": true
   },
   "outputs": [],
   "source": [
    "#feedforward_relu_histories = np.load(HISTORY_DIR_FEEDFORWARD_RELU).tolist()\n",
    "#feedforward_relu_predictions = np.load(PREDICTIONS_DIR_FEEDFORWARD_RELU).tolist()\n",
    "feedforward_relu_histories = []\n",
    "feedforward_relu_predictions = []"
   ]
  },
  {
   "cell_type": "code",
   "execution_count": null,
   "metadata": {
    "collapsed": true
   },
   "outputs": [],
   "source": [
    "train_gen = fullyconnected_batch_generator(paramset_size=1500, paths_p_paramset=1)"
   ]
  },
  {
   "cell_type": "code",
   "execution_count": null,
   "metadata": {
    "collapsed": true
   },
   "outputs": [],
   "source": [
    "!git pull"
   ]
  },
  {
   "cell_type": "code",
   "execution_count": null,
   "metadata": {
    "collapsed": true
   },
   "outputs": [],
   "source": [
    "for i in range(1000):\n",
    "    history = feedforward.fit_generator(train_gen, steps_per_epoch = 10, epochs = 1)\n",
    "    feedforward_relu_histories.append(history.history)\n",
    "    feedforward_relu_predictions.append(feedforward.predict(test_set))\n",
    "    \n",
    "    feedforward.save_weights(H5_DIR_FULLYCONNECTED_MULTIPLE_RELU)\n",
    "\n",
    "    np.save(HISTORY_DIR_FEEDFORWARD_RELU, feedforward_relu_histories)\n",
    "    np.save(PREDICTIONS_DIR_FEEDFORWARD_RELU, feedforward_relu_predictions)\n",
    "\n",
    "    if i%5 == 0:\n",
    "        !git config --global user.email \"rwmmostert@gmail.com\"\n",
    "        !git config --global user.name \"RWMostert\"\n",
    "        !git add --all\n",
    "        !git commit -am \"updated history, predictions and model\" \n",
    "        !git push -u origin master --quiet -f"
   ]
  },
  {
   "cell_type": "markdown",
   "metadata": {},
   "source": [
    "# Fully Connected Multiple ELUs"
   ]
  },
  {
   "cell_type": "code",
   "execution_count": null,
   "metadata": {
    "collapsed": true
   },
   "outputs": [],
   "source": [
    "feedforward = fullyconnected_multiple_ELUs()\n",
    "feedforward.load_weights(H5_DIR_FULLYCONNECTED_MULTIPLE_ELU)"
   ]
  },
  {
   "cell_type": "code",
   "execution_count": null,
   "metadata": {
    "collapsed": true
   },
   "outputs": [],
   "source": [
    "feedforward.load_weights(H5_DIR_FULLYCONNECTED_MULTIPLE_ELU)"
   ]
  },
  {
   "cell_type": "code",
   "execution_count": null,
   "metadata": {
    "collapsed": true
   },
   "outputs": [],
   "source": [
    "train_gen = fullyconnected_batch_generator(paramset_size=50, paths_p_paramset=1)\n",
    "#test_set = standard_fullyconnected_test_set()"
   ]
  },
  {
   "cell_type": "code",
   "execution_count": null,
   "metadata": {
    "collapsed": true
   },
   "outputs": [],
   "source": [
    "histories2 = np.load(\"feedforward_mo_histories.npy\").tolist()\n",
    "ff_predicts = np.load(\"ff_predicts.npy\").tolist()\n",
    "#histories2 = []\n",
    "#ff_predicts = []"
   ]
  },
  {
   "cell_type": "code",
   "execution_count": null,
   "metadata": {
    "collapsed": true
   },
   "outputs": [],
   "source": [
    "for i in range(1000):\n",
    "    history = feedforward.fit_generator(train_gen, steps_per_epoch = 1000, epochs = 1)\n",
    "    histories2.append(history.history)\n",
    "    ff_predicts.append(feedforward.predict(test_set))\n",
    "    \n",
    "    feedforward.save_weights(H5_DIR_FULLYCONNECTED_MULTIPLE_ELU)\n",
    "    np.save(\"feedforward_mo_histories.npy\", histories2)\n",
    "    np.save(\"ff_predicts.npy\", ff_predicts)\n",
    "    \n",
    "    !git config --global user.email \"rwmmostert@gmail.com\"\n",
    "    !git config --global user.name \"RWMostert\"\n",
    "    !git add --all\n",
    "    !git commit -am \"updated history, predictions and model\"\n",
    "    !git push -u origin master --quiet"
   ]
  },
  {
   "cell_type": "markdown",
   "metadata": {},
   "source": [
    "# Covnet Multiple Output with ELUs"
   ]
  },
  {
   "cell_type": "code",
   "execution_count": null,
   "metadata": {
    "collapsed": true
   },
   "outputs": [],
   "source": [
    "covnet_mo_elu = load_model(\"FULLMODEL_RELAXED_ELU_COVNET.h5\")"
   ]
  },
  {
   "cell_type": "code",
   "execution_count": null,
   "metadata": {
    "collapsed": true
   },
   "outputs": [],
   "source": [
    "#covnet_mo_elu = covnet_multiple_ELUs_8_layers(r_squared = False)\n",
    "#covnet_mo_elu.load_weights(\"RELAXED_ELU_COVNET.h5\")"
   ]
  },
  {
   "cell_type": "code",
   "execution_count": null,
   "metadata": {
    "collapsed": true
   },
   "outputs": [],
   "source": [
    "#covnet_mo_elu.save(H5_DIR_COVNET_MULTIPLE_ELU)"
   ]
  },
  {
   "cell_type": "code",
   "execution_count": null,
   "metadata": {
    "collapsed": true
   },
   "outputs": [],
   "source": [
    "test_set_pred = standard_convolutional_test_set()"
   ]
  },
  {
   "cell_type": "code",
   "execution_count": null,
   "metadata": {
    "collapsed": true
   },
   "outputs": [],
   "source": [
    "train_gen = convolutional_batch_generator(paramset_size=50, paths_p_paramset=1, constraint_gbm_mu=(-0.5, 0.5))"
   ]
  },
  {
   "cell_type": "code",
   "execution_count": null,
   "metadata": {
    "collapsed": true
   },
   "outputs": [],
   "source": [
    "histories_elu = np.load(\"covnet_histories_elu_RELAXED.npy\").tolist()\n",
    "covnet_mo_elu_predictions = np.load(\"covnet_mo_elu_predictions_RELAXED.npy\").tolist()"
   ]
  },
  {
   "cell_type": "code",
   "execution_count": null,
   "metadata": {
    "collapsed": true,
    "scrolled": true
   },
   "outputs": [],
   "source": [
    "for i in range(150000):\n",
    "    history = covnet_mo_elu.fit_generator(train_gen, samples_per_epoch = 100, nb_epoch = 10)\n",
    "    \n",
    "    histories_elu.append(history.history)\n",
    "    \n",
    "    predictions_elu = covnet_mo_elu.predict(test_set_pred)\n",
    "    \n",
    "    covnet_mo_elu_predictions.append(predictions_elu)\n",
    "    \n",
    "    covnet_mo_elu.save(\"FULLMODEL_RELAXED_ELU_COVNET.h5\")\n",
    "    \n",
    "    np.save(\"covnet_histories_elu_RELAXED.npy\", histories_elu)\n",
    "    np.save(\"covnet_mo_elu_predictions_RELAXED.npy\", covnet_mo_elu_predictions)\n",
    "    \n",
    "    !git config --global user.email \"rwmmostert@gmail.com\"\n",
    "    !git config --global user.name \"RWMostert\"\n",
    "    !git add --all\n",
    "    !git commit -am \"updated history, predictions and model\"\n",
    "    !git push -u origin master --quiet"
   ]
  },
  {
   "cell_type": "code",
   "execution_count": null,
   "metadata": {
    "collapsed": true
   },
   "outputs": [],
   "source": [
    "print()"
   ]
  },
  {
   "cell_type": "markdown",
   "metadata": {},
   "source": [
    "# DILATED Covnet Multiple Output with ELUs 10 Layers"
   ]
  },
  {
   "cell_type": "code",
   "execution_count": 8,
   "metadata": {},
   "outputs": [
    {
     "name": "stderr",
     "output_type": "stream",
     "text": [
      "/home/carnd/Stochastic-Process-Calibration-Dissertation/Source_Code/Models.py:192: UserWarning: The `merge` function is deprecated and will be removed after 08/2017. Use instead layers from `keras.layers.merge`, e.g. `add`, `concatenate`, etc.\n",
      "  merged = merge([layer1, dilated_layer], mode='concat',concat_axis=1) #or 'concat' or 'mul'\n",
      "/home/carnd/anaconda3/envs/carnd-term1/lib/python3.5/site-packages/keras/legacy/layers.py:460: UserWarning: The `Merge` layer is deprecated and will be removed after 08/2017. Use instead layers from `keras.layers.merge`, e.g. `add`, `concatenate`, etc.\n",
      "  name=name)\n",
      "/home/carnd/Stochastic-Process-Calibration-Dissertation/Source_Code/Models.py:227: UserWarning: Update your `Model` call to the Keras 2 API: `Model(outputs=[<tf.Tenso..., inputs=Tensor(\"in...)`\n",
      "  convnet_mo_elu = Model(input = input_1, output=[output1, output2, output3, output4, output5])\n"
     ]
    }
   ],
   "source": [
    "#covnet_mo_elu = load_model(\"FULLMODEL_10LAYERS_COVNET.h5\", custom_objects={\"r2\":r2})\n",
    "covnet_mo_elu = covnet_multiple_ELUs_10_layers_dilated()"
   ]
  },
  {
   "cell_type": "code",
   "execution_count": 9,
   "metadata": {
    "collapsed": true
   },
   "outputs": [],
   "source": [
    "#covnet_mo_elu = covnet_multiple_ELUs_10_layers()\n",
    "#covnet_mo_elu.load_weights(\"RELAXED_ELU_COVNET.h5\")"
   ]
  },
  {
   "cell_type": "code",
   "execution_count": 10,
   "metadata": {
    "collapsed": true
   },
   "outputs": [],
   "source": [
    "#covnet_mo_elu.save(H5_DIR_COVNET_MULTIPLE_ELU)"
   ]
  },
  {
   "cell_type": "code",
   "execution_count": 11,
   "metadata": {},
   "outputs": [
    {
     "name": "stdout",
     "output_type": "stream",
     "text": [
      "0\n",
      "100\n",
      "200\n",
      "300\n",
      "400\n",
      "500\n",
      "600\n",
      "700\n",
      "800\n",
      "900\n"
     ]
    }
   ],
   "source": [
    "test_set_pred = standard_convolutional_test_set()"
   ]
  },
  {
   "cell_type": "code",
   "execution_count": 25,
   "metadata": {
    "collapsed": true
   },
   "outputs": [],
   "source": [
    "train_gen = convolutional_batch_generator(paramset_size=1250, paths_p_paramset=1, constraint_gbm_mu=(-0.5, 0.5))"
   ]
  },
  {
   "cell_type": "code",
   "execution_count": 13,
   "metadata": {
    "collapsed": true
   },
   "outputs": [],
   "source": [
    "histories_elu = []#np.load(\"covnet_histories_elu_10LAYERS.npy\").tolist()\n",
    "covnet_mo_elu_predictions = []#np.load(\"covnet_mo_elu_predictions_10LAYERS.npy\").tolist()"
   ]
  },
  {
   "cell_type": "code",
   "execution_count": 14,
   "metadata": {
    "collapsed": true
   },
   "outputs": [],
   "source": [
    "smallest_loss = 20"
   ]
  },
  {
   "cell_type": "markdown",
   "metadata": {},
   "source": [
    "# Covnet Multiple Output with ELUs 10 Layers"
   ]
  },
  {
   "cell_type": "code",
   "execution_count": 10,
   "metadata": {
    "collapsed": true
   },
   "outputs": [],
   "source": [
    "covnet_mo_elu = load_model(\"FULLMODEL_10LAYERS_COVNET.h5\", custom_objects={\"r2\":r2})"
   ]
  },
  {
   "cell_type": "code",
   "execution_count": null,
   "metadata": {
    "collapsed": true
   },
   "outputs": [],
   "source": [
    "#covnet_mo_elu = covnet_multiple_ELUs_10_layers()\n",
    "#covnet_mo_elu.load_weights(\"RELAXED_ELU_COVNET.h5\")"
   ]
  },
  {
   "cell_type": "code",
   "execution_count": null,
   "metadata": {
    "collapsed": true
   },
   "outputs": [],
   "source": [
    "#covnet_mo_elu.save(H5_DIR_COVNET_MULTIPLE_ELU)"
   ]
  },
  {
   "cell_type": "code",
   "execution_count": 11,
   "metadata": {},
   "outputs": [
    {
     "name": "stdout",
     "output_type": "stream",
     "text": [
      "0\n",
      "100\n",
      "200\n",
      "300\n",
      "400\n",
      "500\n",
      "600\n",
      "700\n",
      "800\n",
      "900\n"
     ]
    }
   ],
   "source": [
    "test_set_pred = standard_convolutional_test_set()"
   ]
  },
  {
   "cell_type": "code",
   "execution_count": 16,
   "metadata": {
    "collapsed": true
   },
   "outputs": [],
   "source": [
    "train_gen = convolutional_batch_generator(paramset_size=1750, paths_p_paramset=1, constraint_gbm_mu=(-0.5, 0.5))"
   ]
  },
  {
   "cell_type": "code",
   "execution_count": 13,
   "metadata": {
    "collapsed": true
   },
   "outputs": [],
   "source": [
    "histories_elu = np.load(\"covnet_histories_elu_10LAYERS.npy\").tolist()\n",
    "covnet_mo_elu_predictions = np.load(\"covnet_mo_elu_predictions_10LAYERS.npy\").tolist()"
   ]
  },
  {
   "cell_type": "code",
   "execution_count": 14,
   "metadata": {
    "collapsed": true
   },
   "outputs": [],
   "source": [
    "smallest_loss = 20"
   ]
  },
  {
   "cell_type": "code",
   "execution_count": 19,
   "metadata": {
    "scrolled": true
   },
   "outputs": [
    {
     "name": "stderr",
     "output_type": "stream",
     "text": [
      "/home/carnd/anaconda3/envs/carnd-term1/lib/python3.5/site-packages/ipykernel_launcher.py:2: UserWarning: The semantics of the Keras 2 argument `steps_per_epoch` is not the same as the Keras 1 argument `samples_per_epoch`. `steps_per_epoch` is the number of batches to draw from the generator at each epoch. Basically steps_per_epoch = samples_per_epoch/batch_size. Similarly `nb_val_samples`->`validation_steps` and `val_samples`->`steps` arguments have changed. Update your method calls accordingly.\n",
      "  \n",
      "/home/carnd/anaconda3/envs/carnd-term1/lib/python3.5/site-packages/ipykernel_launcher.py:2: UserWarning: Update your `fit_generator` call to the Keras 2 API: `fit_generator(<generator..., epochs=1, steps_per_epoch=10)`\n",
      "  \n"
     ]
    },
    {
     "name": "stdout",
     "output_type": "stream",
     "text": [
      "Epoch 1/1\n",
      "10/10 [==============================] - 172s - loss: 0.0069 - sigma_loss: 5.1815e-05 - mu_loss: 0.0024 - jump_sigma_loss: 0.0012 - jump_mu_loss: 0.0033 - lambda_loss: 1.2211e-05 - sigma_mean_absolute_percentage_error: 17.4387 - sigma_r2: 0.9842 - mu_mean_absolute_percentage_error: 82.4425 - mu_r2: 0.9717 - jump_sigma_mean_absolute_percentage_error: 91.5152 - jump_sigma_r2: 0.6515 - jump_mu_mean_absolute_percentage_error: 51.5976 - jump_mu_r2: 0.9599 - lambda_mean_absolute_percentage_error: 50.5395 - lambda_r2: 0.7641    \n",
      "[master a478fe8] updated history, predictions and model\n",
      " 1 file changed, 1 insertion(+), 1 deletion(-)\n",
      "Branch master set up to track remote branch master from origin.\n",
      "Epoch 1/1\n",
      "10/10 [==============================] - 172s - loss: 0.0066 - sigma_loss: 5.1216e-05 - mu_loss: 0.0023 - jump_sigma_loss: 0.0011 - jump_mu_loss: 0.0031 - lambda_loss: 1.0300e-05 - sigma_mean_absolute_percentage_error: 16.1368 - sigma_r2: 0.9843 - mu_mean_absolute_percentage_error: 62.9775 - mu_r2: 0.9720 - jump_sigma_mean_absolute_percentage_error: 86.0733 - jump_sigma_r2: 0.6612 - jump_mu_mean_absolute_percentage_error: 60.4562 - jump_mu_r2: 0.9628 - lambda_mean_absolute_percentage_error: 48.8079 - lambda_r2: 0.7982    \n",
      "SAVE\n",
      "Epoch 1/1\n",
      "10/10 [==============================] - 171s - loss: 0.0067 - sigma_loss: 5.7669e-05 - mu_loss: 0.0023 - jump_sigma_loss: 0.0011 - jump_mu_loss: 0.0033 - lambda_loss: 9.7974e-06 - sigma_mean_absolute_percentage_error: 17.4026 - sigma_r2: 0.9826 - mu_mean_absolute_percentage_error: 237.5184 - mu_r2: 0.9726 - jump_sigma_mean_absolute_percentage_error: 84.1353 - jump_sigma_r2: 0.6569 - jump_mu_mean_absolute_percentage_error: 65.1540 - jump_mu_r2: 0.9605 - lambda_mean_absolute_percentage_error: 43.1536 - lambda_r2: 0.8098    \n",
      "Epoch 1/1\n",
      "10/10 [==============================] - 177s - loss: 0.0069 - sigma_loss: 6.5194e-05 - mu_loss: 0.0024 - jump_sigma_loss: 0.0011 - jump_mu_loss: 0.0033 - lambda_loss: 1.0057e-05 - sigma_mean_absolute_percentage_error: 18.0691 - sigma_r2: 0.9803 - mu_mean_absolute_percentage_error: 76.0986 - mu_r2: 0.9706 - jump_sigma_mean_absolute_percentage_error: 89.3161 - jump_sigma_r2: 0.6544 - jump_mu_mean_absolute_percentage_error: 49.0444 - jump_mu_r2: 0.9607 - lambda_mean_absolute_percentage_error: 48.4414 - lambda_r2: 0.8031    \n",
      "Epoch 1/1\n",
      "10/10 [==============================] - 172s - loss: 0.0066 - sigma_loss: 5.2166e-05 - mu_loss: 0.0021 - jump_sigma_loss: 0.0011 - jump_mu_loss: 0.0032 - lambda_loss: 1.0500e-05 - sigma_mean_absolute_percentage_error: 15.9854 - sigma_r2: 0.9840 - mu_mean_absolute_percentage_error: 59.8715 - mu_r2: 0.9740 - jump_sigma_mean_absolute_percentage_error: 86.6707 - jump_sigma_r2: 0.6559 - jump_mu_mean_absolute_percentage_error: 49.7293 - jump_mu_r2: 0.9610 - lambda_mean_absolute_percentage_error: 44.5212 - lambda_r2: 0.7955    \n",
      "SAVE\n",
      "Epoch 1/1\n",
      "10/10 [==============================] - 172s - loss: 0.0065 - sigma_loss: 5.2249e-05 - mu_loss: 0.0021 - jump_sigma_loss: 0.0011 - jump_mu_loss: 0.0033 - lambda_loss: 1.0148e-05 - sigma_mean_absolute_percentage_error: 17.0226 - sigma_r2: 0.9842 - mu_mean_absolute_percentage_error: 93.9248 - mu_r2: 0.9750 - jump_sigma_mean_absolute_percentage_error: 83.0682 - jump_sigma_r2: 0.6651 - jump_mu_mean_absolute_percentage_error: 78.4308 - jump_mu_r2: 0.9607 - lambda_mean_absolute_percentage_error: 47.3557 - lambda_r2: 0.8036    \n",
      "SAVE\n",
      "[master 15de666] updated history, predictions and model\n",
      " 4 files changed, 16 insertions(+), 1 deletion(-)\n",
      "Branch master set up to track remote branch master from origin.\n",
      "Epoch 1/1\n",
      "10/10 [==============================] - 171s - loss: 0.0066 - sigma_loss: 6.5812e-05 - mu_loss: 0.0022 - jump_sigma_loss: 0.0012 - jump_mu_loss: 0.0032 - lambda_loss: 1.1597e-05 - sigma_mean_absolute_percentage_error: 19.6260 - sigma_r2: 0.9801 - mu_mean_absolute_percentage_error: 57.3707 - mu_r2: 0.9741 - jump_sigma_mean_absolute_percentage_error: 87.3784 - jump_sigma_r2: 0.6428 - jump_mu_mean_absolute_percentage_error: 49.8862 - jump_mu_r2: 0.9615 - lambda_mean_absolute_percentage_error: 52.3950 - lambda_r2: 0.7774    \n",
      "Epoch 1/1\n",
      "10/10 [==============================] - 171s - loss: 0.0066 - sigma_loss: 5.8489e-05 - mu_loss: 0.0023 - jump_sigma_loss: 0.0012 - jump_mu_loss: 0.0031 - lambda_loss: 1.0182e-05 - sigma_mean_absolute_percentage_error: 16.8041 - sigma_r2: 0.9822 - mu_mean_absolute_percentage_error: 92.5004 - mu_r2: 0.9728 - jump_sigma_mean_absolute_percentage_error: 84.0767 - jump_sigma_r2: 0.6528 - jump_mu_mean_absolute_percentage_error: 123.7011 - jump_mu_r2: 0.9628 - lambda_mean_absolute_percentage_error: 46.8480 - lambda_r2: 0.8034    \n",
      "Epoch 1/1\n",
      "10/10 [==============================] - 171s - loss: 0.0066 - sigma_loss: 4.9538e-05 - mu_loss: 0.0021 - jump_sigma_loss: 0.0011 - jump_mu_loss: 0.0033 - lambda_loss: 9.6705e-06 - sigma_mean_absolute_percentage_error: 16.0828 - sigma_r2: 0.9849 - mu_mean_absolute_percentage_error: 63.7799 - mu_r2: 0.9749 - jump_sigma_mean_absolute_percentage_error: 86.2903 - jump_sigma_r2: 0.6621 - jump_mu_mean_absolute_percentage_error: 70.0619 - jump_mu_r2: 0.9608 - lambda_mean_absolute_percentage_error: 46.7639 - lambda_r2: 0.8121    \n",
      "Epoch 1/1\n",
      "10/10 [==============================] - 170s - loss: 0.0066 - sigma_loss: 5.0825e-05 - mu_loss: 0.0022 - jump_sigma_loss: 0.0011 - jump_mu_loss: 0.0032 - lambda_loss: 1.0815e-05 - sigma_mean_absolute_percentage_error: 15.5784 - sigma_r2: 0.9846 - mu_mean_absolute_percentage_error: 94.6141 - mu_r2: 0.9733 - jump_sigma_mean_absolute_percentage_error: 85.8130 - jump_sigma_r2: 0.6565 - jump_mu_mean_absolute_percentage_error: 66.6627 - jump_mu_r2: 0.9607 - lambda_mean_absolute_percentage_error: 52.0126 - lambda_r2: 0.7892    \n",
      "Epoch 1/1\n",
      "10/10 [==============================] - 172s - loss: 0.0066 - sigma_loss: 6.5518e-05 - mu_loss: 0.0022 - jump_sigma_loss: 0.0011 - jump_mu_loss: 0.0031 - lambda_loss: 1.0078e-05 - sigma_mean_absolute_percentage_error: 19.3619 - sigma_r2: 0.9801 - mu_mean_absolute_percentage_error: 69.2087 - mu_r2: 0.9731 - jump_sigma_mean_absolute_percentage_error: 88.1139 - jump_sigma_r2: 0.6652 - jump_mu_mean_absolute_percentage_error: 54.0758 - jump_mu_r2: 0.9624 - lambda_mean_absolute_percentage_error: 44.9872 - lambda_r2: 0.8035    \n",
      "[master 83f6f7a] updated history, predictions and model\n",
      " 1 file changed, 15 insertions(+), 1 deletion(-)\n",
      "Branch master set up to track remote branch master from origin.\n",
      "Epoch 1/1\n",
      "10/10 [==============================] - 171s - loss: 0.0065 - sigma_loss: 5.7281e-05 - mu_loss: 0.0022 - jump_sigma_loss: 0.0011 - jump_mu_loss: 0.0032 - lambda_loss: 1.0173e-05 - sigma_mean_absolute_percentage_error: 16.8327 - sigma_r2: 0.9826 - mu_mean_absolute_percentage_error: 65.6483 - mu_r2: 0.9737 - jump_sigma_mean_absolute_percentage_error: 89.3418 - jump_sigma_r2: 0.6661 - jump_mu_mean_absolute_percentage_error: 64.2400 - jump_mu_r2: 0.9613 - lambda_mean_absolute_percentage_error: 45.9581 - lambda_r2: 0.8028    \n",
      "SAVE\n",
      "Epoch 1/1\n",
      "10/10 [==============================] - 171s - loss: 0.0070 - sigma_loss: 4.9659e-05 - mu_loss: 0.0023 - jump_sigma_loss: 0.0011 - jump_mu_loss: 0.0035 - lambda_loss: 1.0217e-05 - sigma_mean_absolute_percentage_error: 16.5037 - sigma_r2: 0.9850 - mu_mean_absolute_percentage_error: 71.5816 - mu_r2: 0.9719 - jump_sigma_mean_absolute_percentage_error: 89.7370 - jump_sigma_r2: 0.6542 - jump_mu_mean_absolute_percentage_error: 61.8265 - jump_mu_r2: 0.9582 - lambda_mean_absolute_percentage_error: 46.7908 - lambda_r2: 0.8033    \n",
      "Epoch 1/1\n",
      "10/10 [==============================] - 170s - loss: 0.0065 - sigma_loss: 5.8943e-05 - mu_loss: 0.0022 - jump_sigma_loss: 0.0012 - jump_mu_loss: 0.0031 - lambda_loss: 1.0101e-05 - sigma_mean_absolute_percentage_error: 16.8085 - sigma_r2: 0.9821 - mu_mean_absolute_percentage_error: 71.2795 - mu_r2: 0.9733 - jump_sigma_mean_absolute_percentage_error: 84.5162 - jump_sigma_r2: 0.6475 - jump_mu_mean_absolute_percentage_error: 57.2974 - jump_mu_r2: 0.9632 - lambda_mean_absolute_percentage_error: 49.0876 - lambda_r2: 0.8041    \n",
      "Epoch 1/1\n",
      "10/10 [==============================] - 172s - loss: 0.0063 - sigma_loss: 6.3821e-05 - mu_loss: 0.0021 - jump_sigma_loss: 0.0011 - jump_mu_loss: 0.0030 - lambda_loss: 1.0018e-05 - sigma_mean_absolute_percentage_error: 18.6011 - sigma_r2: 0.9805 - mu_mean_absolute_percentage_error: 92.6168 - mu_r2: 0.9749 - jump_sigma_mean_absolute_percentage_error: 85.0444 - jump_sigma_r2: 0.6722 - jump_mu_mean_absolute_percentage_error: 127.8110 - jump_mu_r2: 0.9635 - lambda_mean_absolute_percentage_error: 47.0981 - lambda_r2: 0.8044   \n",
      "SAVE\n",
      "Epoch 1/1\n",
      "10/10 [==============================] - 171s - loss: 0.0065 - sigma_loss: 5.5324e-05 - mu_loss: 0.0020 - jump_sigma_loss: 0.0011 - jump_mu_loss: 0.0032 - lambda_loss: 9.0393e-06 - sigma_mean_absolute_percentage_error: 18.7198 - sigma_r2: 0.9832 - mu_mean_absolute_percentage_error: 89.7616 - mu_r2: 0.9754 - jump_sigma_mean_absolute_percentage_error: 87.3481 - jump_sigma_r2: 0.6654 - jump_mu_mean_absolute_percentage_error: 92.0683 - jump_mu_r2: 0.9613 - lambda_mean_absolute_percentage_error: 45.5917 - lambda_r2: 0.8240    \n",
      "[master 721e653] updated history, predictions and model\n",
      " 4 files changed, 22 insertions(+), 1 deletion(-)\n",
      "Branch master set up to track remote branch master from origin.\n",
      "Epoch 1/1\n",
      "10/10 [==============================] - 172s - loss: 0.0065 - sigma_loss: 5.3397e-05 - mu_loss: 0.0021 - jump_sigma_loss: 0.0011 - jump_mu_loss: 0.0033 - lambda_loss: 9.7977e-06 - sigma_mean_absolute_percentage_error: 17.4263 - sigma_r2: 0.9839 - mu_mean_absolute_percentage_error: 468.4030 - mu_r2: 0.9749 - jump_sigma_mean_absolute_percentage_error: 85.6092 - jump_sigma_r2: 0.6670 - jump_mu_mean_absolute_percentage_error: 72.1314 - jump_mu_r2: 0.9610 - lambda_mean_absolute_percentage_error: 44.6116 - lambda_r2: 0.8115    \n",
      "Epoch 1/1\n",
      "10/10 [==============================] - 170s - loss: 0.0067 - sigma_loss: 5.9114e-05 - mu_loss: 0.0022 - jump_sigma_loss: 0.0011 - jump_mu_loss: 0.0033 - lambda_loss: 1.0618e-05 - sigma_mean_absolute_percentage_error: 16.0411 - sigma_r2: 0.9821 - mu_mean_absolute_percentage_error: 103.4835 - mu_r2: 0.9733 - jump_sigma_mean_absolute_percentage_error: 86.7290 - jump_sigma_r2: 0.6630 - jump_mu_mean_absolute_percentage_error: 243.4583 - jump_mu_r2: 0.9604 - lambda_mean_absolute_percentage_error: 52.7069 - lambda_r2: 0.7947    \n",
      "Epoch 1/1\n",
      " 2/10 [=====>........................] - ETA: 142s - loss: 0.0064 - sigma_loss: 5.2947e-05 - mu_loss: 0.0023 - jump_sigma_loss: 0.0011 - jump_mu_loss: 0.0030 - lambda_loss: 9.7430e-06 - sigma_mean_absolute_percentage_error: 20.4087 - sigma_r2: 0.9841 - mu_mean_absolute_percentage_error: 75.3367 - mu_r2: 0.9726 - jump_sigma_mean_absolute_percentage_error: 84.0292 - jump_sigma_r2: 0.6696 - jump_mu_mean_absolute_percentage_error: 41.1556 - jump_mu_r2: 0.9628 - lambda_mean_absolute_percentage_error: 42.4517 - lambda_r2: 0.8089"
     ]
    },
    {
     "ename": "KeyboardInterrupt",
     "evalue": "",
     "output_type": "error",
     "traceback": [
      "\u001b[0;31m---------------------------------------------------------------------------\u001b[0m",
      "\u001b[0;31mKeyboardInterrupt\u001b[0m                         Traceback (most recent call last)",
      "\u001b[0;32m<ipython-input-19-0a56e8b13eb6>\u001b[0m in \u001b[0;36m<module>\u001b[0;34m()\u001b[0m\n\u001b[1;32m      1\u001b[0m \u001b[0;32mfor\u001b[0m \u001b[0mi\u001b[0m \u001b[0;32min\u001b[0m \u001b[0mrange\u001b[0m\u001b[0;34m(\u001b[0m\u001b[0;36m150000\u001b[0m\u001b[0;34m)\u001b[0m\u001b[0;34m:\u001b[0m\u001b[0;34m\u001b[0m\u001b[0m\n\u001b[0;32m----> 2\u001b[0;31m     \u001b[0mhistory\u001b[0m \u001b[0;34m=\u001b[0m \u001b[0mcovnet_mo_elu\u001b[0m\u001b[0;34m.\u001b[0m\u001b[0mfit_generator\u001b[0m\u001b[0;34m(\u001b[0m\u001b[0mtrain_gen\u001b[0m\u001b[0;34m,\u001b[0m \u001b[0msamples_per_epoch\u001b[0m \u001b[0;34m=\u001b[0m \u001b[0;36m10\u001b[0m\u001b[0;34m,\u001b[0m \u001b[0mnb_epoch\u001b[0m \u001b[0;34m=\u001b[0m \u001b[0;36m1\u001b[0m\u001b[0;34m)\u001b[0m\u001b[0;34m\u001b[0m\u001b[0m\n\u001b[0m\u001b[1;32m      3\u001b[0m \u001b[0;34m\u001b[0m\u001b[0m\n\u001b[1;32m      4\u001b[0m     \u001b[0;32mif\u001b[0m \u001b[0mhistory\u001b[0m\u001b[0;34m.\u001b[0m\u001b[0mhistory\u001b[0m\u001b[0;34m[\u001b[0m\u001b[0;34m'loss'\u001b[0m\u001b[0;34m]\u001b[0m\u001b[0;34m[\u001b[0m\u001b[0;34m-\u001b[0m\u001b[0;36m1\u001b[0m\u001b[0;34m]\u001b[0m\u001b[0;34m<\u001b[0m\u001b[0msmallest_loss\u001b[0m\u001b[0;34m:\u001b[0m\u001b[0;34m\u001b[0m\u001b[0m\n\u001b[1;32m      5\u001b[0m         \u001b[0mprint\u001b[0m\u001b[0;34m(\u001b[0m\u001b[0;34m\"SAVE\"\u001b[0m\u001b[0;34m)\u001b[0m\u001b[0;34m\u001b[0m\u001b[0m\n",
      "\u001b[0;32m/home/carnd/anaconda3/envs/carnd-term1/lib/python3.5/site-packages/keras/legacy/interfaces.py\u001b[0m in \u001b[0;36mwrapper\u001b[0;34m(*args, **kwargs)\u001b[0m\n\u001b[1;32m     85\u001b[0m                 warnings.warn('Update your `' + object_name +\n\u001b[1;32m     86\u001b[0m                               '` call to the Keras 2 API: ' + signature, stacklevel=2)\n\u001b[0;32m---> 87\u001b[0;31m             \u001b[0;32mreturn\u001b[0m \u001b[0mfunc\u001b[0m\u001b[0;34m(\u001b[0m\u001b[0;34m*\u001b[0m\u001b[0margs\u001b[0m\u001b[0;34m,\u001b[0m \u001b[0;34m**\u001b[0m\u001b[0mkwargs\u001b[0m\u001b[0;34m)\u001b[0m\u001b[0;34m\u001b[0m\u001b[0m\n\u001b[0m\u001b[1;32m     88\u001b[0m         \u001b[0mwrapper\u001b[0m\u001b[0;34m.\u001b[0m\u001b[0m_original_function\u001b[0m \u001b[0;34m=\u001b[0m \u001b[0mfunc\u001b[0m\u001b[0;34m\u001b[0m\u001b[0m\n\u001b[1;32m     89\u001b[0m         \u001b[0;32mreturn\u001b[0m \u001b[0mwrapper\u001b[0m\u001b[0;34m\u001b[0m\u001b[0m\n",
      "\u001b[0;32m/home/carnd/anaconda3/envs/carnd-term1/lib/python3.5/site-packages/keras/engine/training.py\u001b[0m in \u001b[0;36mfit_generator\u001b[0;34m(self, generator, steps_per_epoch, epochs, verbose, callbacks, validation_data, validation_steps, class_weight, max_queue_size, workers, use_multiprocessing, initial_epoch)\u001b[0m\n\u001b[1;32m   1838\u001b[0m                     outs = self.train_on_batch(x, y,\n\u001b[1;32m   1839\u001b[0m                                                \u001b[0msample_weight\u001b[0m\u001b[0;34m=\u001b[0m\u001b[0msample_weight\u001b[0m\u001b[0;34m,\u001b[0m\u001b[0;34m\u001b[0m\u001b[0m\n\u001b[0;32m-> 1840\u001b[0;31m                                                class_weight=class_weight)\n\u001b[0m\u001b[1;32m   1841\u001b[0m \u001b[0;34m\u001b[0m\u001b[0m\n\u001b[1;32m   1842\u001b[0m                     \u001b[0;32mif\u001b[0m \u001b[0;32mnot\u001b[0m \u001b[0misinstance\u001b[0m\u001b[0;34m(\u001b[0m\u001b[0mouts\u001b[0m\u001b[0;34m,\u001b[0m \u001b[0mlist\u001b[0m\u001b[0;34m)\u001b[0m\u001b[0;34m:\u001b[0m\u001b[0;34m\u001b[0m\u001b[0m\n",
      "\u001b[0;32m/home/carnd/anaconda3/envs/carnd-term1/lib/python3.5/site-packages/keras/engine/training.py\u001b[0m in \u001b[0;36mtrain_on_batch\u001b[0;34m(self, x, y, sample_weight, class_weight)\u001b[0m\n\u001b[1;32m   1563\u001b[0m             \u001b[0mins\u001b[0m \u001b[0;34m=\u001b[0m \u001b[0mx\u001b[0m \u001b[0;34m+\u001b[0m \u001b[0my\u001b[0m \u001b[0;34m+\u001b[0m \u001b[0msample_weights\u001b[0m\u001b[0;34m\u001b[0m\u001b[0m\n\u001b[1;32m   1564\u001b[0m         \u001b[0mself\u001b[0m\u001b[0;34m.\u001b[0m\u001b[0m_make_train_function\u001b[0m\u001b[0;34m(\u001b[0m\u001b[0;34m)\u001b[0m\u001b[0;34m\u001b[0m\u001b[0m\n\u001b[0;32m-> 1565\u001b[0;31m         \u001b[0moutputs\u001b[0m \u001b[0;34m=\u001b[0m \u001b[0mself\u001b[0m\u001b[0;34m.\u001b[0m\u001b[0mtrain_function\u001b[0m\u001b[0;34m(\u001b[0m\u001b[0mins\u001b[0m\u001b[0;34m)\u001b[0m\u001b[0;34m\u001b[0m\u001b[0m\n\u001b[0m\u001b[1;32m   1566\u001b[0m         \u001b[0;32mif\u001b[0m \u001b[0mlen\u001b[0m\u001b[0;34m(\u001b[0m\u001b[0moutputs\u001b[0m\u001b[0;34m)\u001b[0m \u001b[0;34m==\u001b[0m \u001b[0;36m1\u001b[0m\u001b[0;34m:\u001b[0m\u001b[0;34m\u001b[0m\u001b[0m\n\u001b[1;32m   1567\u001b[0m             \u001b[0;32mreturn\u001b[0m \u001b[0moutputs\u001b[0m\u001b[0;34m[\u001b[0m\u001b[0;36m0\u001b[0m\u001b[0;34m]\u001b[0m\u001b[0;34m\u001b[0m\u001b[0m\n",
      "\u001b[0;32m/home/carnd/anaconda3/envs/carnd-term1/lib/python3.5/site-packages/keras/backend/tensorflow_backend.py\u001b[0m in \u001b[0;36m__call__\u001b[0;34m(self, inputs)\u001b[0m\n\u001b[1;32m   2266\u001b[0m         updated = session.run(self.outputs + [self.updates_op],\n\u001b[1;32m   2267\u001b[0m                               \u001b[0mfeed_dict\u001b[0m\u001b[0;34m=\u001b[0m\u001b[0mfeed_dict\u001b[0m\u001b[0;34m,\u001b[0m\u001b[0;34m\u001b[0m\u001b[0m\n\u001b[0;32m-> 2268\u001b[0;31m                               **self.session_kwargs)\n\u001b[0m\u001b[1;32m   2269\u001b[0m         \u001b[0;32mreturn\u001b[0m \u001b[0mupdated\u001b[0m\u001b[0;34m[\u001b[0m\u001b[0;34m:\u001b[0m\u001b[0mlen\u001b[0m\u001b[0;34m(\u001b[0m\u001b[0mself\u001b[0m\u001b[0;34m.\u001b[0m\u001b[0moutputs\u001b[0m\u001b[0;34m)\u001b[0m\u001b[0;34m]\u001b[0m\u001b[0;34m\u001b[0m\u001b[0m\n\u001b[1;32m   2270\u001b[0m \u001b[0;34m\u001b[0m\u001b[0m\n",
      "\u001b[0;32m/home/carnd/anaconda3/envs/carnd-term1/lib/python3.5/site-packages/tensorflow/python/client/session.py\u001b[0m in \u001b[0;36mrun\u001b[0;34m(self, fetches, feed_dict, options, run_metadata)\u001b[0m\n\u001b[1;32m    787\u001b[0m     \u001b[0;32mtry\u001b[0m\u001b[0;34m:\u001b[0m\u001b[0;34m\u001b[0m\u001b[0m\n\u001b[1;32m    788\u001b[0m       result = self._run(None, fetches, feed_dict, options_ptr,\n\u001b[0;32m--> 789\u001b[0;31m                          run_metadata_ptr)\n\u001b[0m\u001b[1;32m    790\u001b[0m       \u001b[0;32mif\u001b[0m \u001b[0mrun_metadata\u001b[0m\u001b[0;34m:\u001b[0m\u001b[0;34m\u001b[0m\u001b[0m\n\u001b[1;32m    791\u001b[0m         \u001b[0mproto_data\u001b[0m \u001b[0;34m=\u001b[0m \u001b[0mtf_session\u001b[0m\u001b[0;34m.\u001b[0m\u001b[0mTF_GetBuffer\u001b[0m\u001b[0;34m(\u001b[0m\u001b[0mrun_metadata_ptr\u001b[0m\u001b[0;34m)\u001b[0m\u001b[0;34m\u001b[0m\u001b[0m\n",
      "\u001b[0;32m/home/carnd/anaconda3/envs/carnd-term1/lib/python3.5/site-packages/tensorflow/python/client/session.py\u001b[0m in \u001b[0;36m_run\u001b[0;34m(self, handle, fetches, feed_dict, options, run_metadata)\u001b[0m\n\u001b[1;32m    995\u001b[0m     \u001b[0;32mif\u001b[0m \u001b[0mfinal_fetches\u001b[0m \u001b[0;32mor\u001b[0m \u001b[0mfinal_targets\u001b[0m\u001b[0;34m:\u001b[0m\u001b[0;34m\u001b[0m\u001b[0m\n\u001b[1;32m    996\u001b[0m       results = self._do_run(handle, final_targets, final_fetches,\n\u001b[0;32m--> 997\u001b[0;31m                              feed_dict_string, options, run_metadata)\n\u001b[0m\u001b[1;32m    998\u001b[0m     \u001b[0;32melse\u001b[0m\u001b[0;34m:\u001b[0m\u001b[0;34m\u001b[0m\u001b[0m\n\u001b[1;32m    999\u001b[0m       \u001b[0mresults\u001b[0m \u001b[0;34m=\u001b[0m \u001b[0;34m[\u001b[0m\u001b[0;34m]\u001b[0m\u001b[0;34m\u001b[0m\u001b[0m\n",
      "\u001b[0;32m/home/carnd/anaconda3/envs/carnd-term1/lib/python3.5/site-packages/tensorflow/python/client/session.py\u001b[0m in \u001b[0;36m_do_run\u001b[0;34m(self, handle, target_list, fetch_list, feed_dict, options, run_metadata)\u001b[0m\n\u001b[1;32m   1130\u001b[0m     \u001b[0;32mif\u001b[0m \u001b[0mhandle\u001b[0m \u001b[0;32mis\u001b[0m \u001b[0;32mNone\u001b[0m\u001b[0;34m:\u001b[0m\u001b[0;34m\u001b[0m\u001b[0m\n\u001b[1;32m   1131\u001b[0m       return self._do_call(_run_fn, self._session, feed_dict, fetch_list,\n\u001b[0;32m-> 1132\u001b[0;31m                            target_list, options, run_metadata)\n\u001b[0m\u001b[1;32m   1133\u001b[0m     \u001b[0;32melse\u001b[0m\u001b[0;34m:\u001b[0m\u001b[0;34m\u001b[0m\u001b[0m\n\u001b[1;32m   1134\u001b[0m       return self._do_call(_prun_fn, self._session, handle, feed_dict,\n",
      "\u001b[0;32m/home/carnd/anaconda3/envs/carnd-term1/lib/python3.5/site-packages/tensorflow/python/client/session.py\u001b[0m in \u001b[0;36m_do_call\u001b[0;34m(self, fn, *args)\u001b[0m\n\u001b[1;32m   1137\u001b[0m   \u001b[0;32mdef\u001b[0m \u001b[0m_do_call\u001b[0m\u001b[0;34m(\u001b[0m\u001b[0mself\u001b[0m\u001b[0;34m,\u001b[0m \u001b[0mfn\u001b[0m\u001b[0;34m,\u001b[0m \u001b[0;34m*\u001b[0m\u001b[0margs\u001b[0m\u001b[0;34m)\u001b[0m\u001b[0;34m:\u001b[0m\u001b[0;34m\u001b[0m\u001b[0m\n\u001b[1;32m   1138\u001b[0m     \u001b[0;32mtry\u001b[0m\u001b[0;34m:\u001b[0m\u001b[0;34m\u001b[0m\u001b[0m\n\u001b[0;32m-> 1139\u001b[0;31m       \u001b[0;32mreturn\u001b[0m \u001b[0mfn\u001b[0m\u001b[0;34m(\u001b[0m\u001b[0;34m*\u001b[0m\u001b[0margs\u001b[0m\u001b[0;34m)\u001b[0m\u001b[0;34m\u001b[0m\u001b[0m\n\u001b[0m\u001b[1;32m   1140\u001b[0m     \u001b[0;32mexcept\u001b[0m \u001b[0merrors\u001b[0m\u001b[0;34m.\u001b[0m\u001b[0mOpError\u001b[0m \u001b[0;32mas\u001b[0m \u001b[0me\u001b[0m\u001b[0;34m:\u001b[0m\u001b[0;34m\u001b[0m\u001b[0m\n\u001b[1;32m   1141\u001b[0m       \u001b[0mmessage\u001b[0m \u001b[0;34m=\u001b[0m \u001b[0mcompat\u001b[0m\u001b[0;34m.\u001b[0m\u001b[0mas_text\u001b[0m\u001b[0;34m(\u001b[0m\u001b[0me\u001b[0m\u001b[0;34m.\u001b[0m\u001b[0mmessage\u001b[0m\u001b[0;34m)\u001b[0m\u001b[0;34m\u001b[0m\u001b[0m\n",
      "\u001b[0;32m/home/carnd/anaconda3/envs/carnd-term1/lib/python3.5/site-packages/tensorflow/python/client/session.py\u001b[0m in \u001b[0;36m_run_fn\u001b[0;34m(session, feed_dict, fetch_list, target_list, options, run_metadata)\u001b[0m\n\u001b[1;32m   1119\u001b[0m         return tf_session.TF_Run(session, options,\n\u001b[1;32m   1120\u001b[0m                                  \u001b[0mfeed_dict\u001b[0m\u001b[0;34m,\u001b[0m \u001b[0mfetch_list\u001b[0m\u001b[0;34m,\u001b[0m \u001b[0mtarget_list\u001b[0m\u001b[0;34m,\u001b[0m\u001b[0;34m\u001b[0m\u001b[0m\n\u001b[0;32m-> 1121\u001b[0;31m                                  status, run_metadata)\n\u001b[0m\u001b[1;32m   1122\u001b[0m \u001b[0;34m\u001b[0m\u001b[0m\n\u001b[1;32m   1123\u001b[0m     \u001b[0;32mdef\u001b[0m \u001b[0m_prun_fn\u001b[0m\u001b[0;34m(\u001b[0m\u001b[0msession\u001b[0m\u001b[0;34m,\u001b[0m \u001b[0mhandle\u001b[0m\u001b[0;34m,\u001b[0m \u001b[0mfeed_dict\u001b[0m\u001b[0;34m,\u001b[0m \u001b[0mfetch_list\u001b[0m\u001b[0;34m)\u001b[0m\u001b[0;34m:\u001b[0m\u001b[0;34m\u001b[0m\u001b[0m\n",
      "\u001b[0;31mKeyboardInterrupt\u001b[0m: "
     ]
    }
   ],
   "source": [
    "for i in range(150000):\n",
    "    history = covnet_mo_elu.fit_generator(train_gen, samples_per_epoch = 10, nb_epoch = 1)\n",
    "    \n",
    "    if history.history['loss'][-1]<smallest_loss:\n",
    "        print(\"SAVE\")\n",
    "        smallest_loss = history.history['loss'][-1]\n",
    "        covnet_mo_elu.save(\"FULLMODEL_10LAYERS_COVNET.h5\")\n",
    "        histories_elu.append(history.history)\n",
    "\n",
    "        predictions_elu = covnet_mo_elu.predict(test_set_pred)\n",
    "\n",
    "        covnet_mo_elu_predictions.append(predictions_elu)\n",
    "    \n",
    "    if i%5 == 0:\n",
    "        np.save(\"covnet_histories_elu_10LAYERS.npy\", histories_elu)\n",
    "        np.save(\"covnet_mo_elu_predictions_10LAYERS.npy\", covnet_mo_elu_predictions)\n",
    "\n",
    "        !git config --global user.email \"rwmmostert@gmail.com\"\n",
    "        !git config --global user.name \"RWMostert\"\n",
    "        !git add --all\n",
    "        !git commit -am \"updated history, predictions and model\"\n",
    "        !git push -u origin master --quiet"
   ]
  },
  {
   "cell_type": "markdown",
   "metadata": {},
   "source": [
    "# SAME Covnet Multiple Output with ELUs 10 Layers"
   ]
  },
  {
   "cell_type": "code",
   "execution_count": 14,
   "metadata": {
    "collapsed": true
   },
   "outputs": [],
   "source": [
    "import tensorflow as tf\n",
    "import keras\n",
    "from keras.models import Model, Sequential\n",
    "from keras.layers import Input, Dense, Flatten, LSTM, MaxPooling2D, Input, merge\n",
    "from keras.layers.convolutional import Conv2D\n",
    "from keras.optimizers import Adam\n",
    "from keras import backend as K"
   ]
  },
  {
   "cell_type": "code",
   "execution_count": 15,
   "metadata": {
    "collapsed": true
   },
   "outputs": [],
   "source": [
    "def r2(y_true, y_pred):\n",
    "    \"\"\"\n",
    "    returns the correlation coefficient of y_pred against y_true.\n",
    "\n",
    "    :param y_true: the true values (independent variable)\n",
    "    :param y_pred: the predicted values (dependent variable)\n",
    "    \"\"\"\n",
    "    \n",
    "    SSE = K.sum(K.square(y_true-y_pred))\n",
    "    SST = K.sum(K.square(y_true-K.mean(y_true)))\n",
    "    \n",
    "    return 1-SSE/SST"
   ]
  },
  {
   "cell_type": "code",
   "execution_count": 22,
   "metadata": {},
   "outputs": [
    {
     "ename": "IOError",
     "evalue": "Unable to open file (unable to open file: name = 'FULLMODEL_6_hidden_LAYERS.h5', errno = 2, error message = 'No such file or directory', flags = 0, o_flags = 0)",
     "output_type": "error",
     "traceback": [
      "\u001b[0;31m---------------------------------------------------------------------------\u001b[0m",
      "\u001b[0;31mIOError\u001b[0m                                   Traceback (most recent call last)",
      "\u001b[0;32m<ipython-input-22-2e89dbf26a53>\u001b[0m in \u001b[0;36m<module>\u001b[0;34m()\u001b[0m\n\u001b[0;32m----> 1\u001b[0;31m \u001b[0mconvnet_mo_elu\u001b[0m \u001b[0;34m=\u001b[0m \u001b[0mload_model\u001b[0m\u001b[0;34m(\u001b[0m\u001b[0;34m\"FULLMODEL_6_hidden_LAYERS.h5\"\u001b[0m\u001b[0;34m,\u001b[0m \u001b[0mcustom_objects\u001b[0m\u001b[0;34m=\u001b[0m\u001b[0;34m{\u001b[0m\u001b[0;34m\"r2\"\u001b[0m\u001b[0;34m:\u001b[0m\u001b[0mr2\u001b[0m\u001b[0;34m}\u001b[0m\u001b[0;34m)\u001b[0m\u001b[0;34m\u001b[0m\u001b[0m\n\u001b[0m",
      "\u001b[0;32m/usr/local/lib64/python2.7/site-packages/keras/models.pyc\u001b[0m in \u001b[0;36mload_model\u001b[0;34m(filepath, custom_objects, compile)\u001b[0m\n\u001b[1;32m    231\u001b[0m             \u001b[0;32mreturn\u001b[0m \u001b[0mcustom_objects\u001b[0m\u001b[0;34m[\u001b[0m\u001b[0mobj\u001b[0m\u001b[0;34m]\u001b[0m\u001b[0;34m\u001b[0m\u001b[0m\n\u001b[1;32m    232\u001b[0m         \u001b[0;32mreturn\u001b[0m \u001b[0mobj\u001b[0m\u001b[0;34m\u001b[0m\u001b[0m\n\u001b[0;32m--> 233\u001b[0;31m     \u001b[0;32mwith\u001b[0m \u001b[0mh5py\u001b[0m\u001b[0;34m.\u001b[0m\u001b[0mFile\u001b[0m\u001b[0;34m(\u001b[0m\u001b[0mfilepath\u001b[0m\u001b[0;34m,\u001b[0m \u001b[0mmode\u001b[0m\u001b[0;34m=\u001b[0m\u001b[0;34m'r'\u001b[0m\u001b[0;34m)\u001b[0m \u001b[0;32mas\u001b[0m \u001b[0mf\u001b[0m\u001b[0;34m:\u001b[0m\u001b[0;34m\u001b[0m\u001b[0m\n\u001b[0m\u001b[1;32m    234\u001b[0m         \u001b[0;31m# instantiate model\u001b[0m\u001b[0;34m\u001b[0m\u001b[0;34m\u001b[0m\u001b[0m\n\u001b[1;32m    235\u001b[0m         \u001b[0mmodel_config\u001b[0m \u001b[0;34m=\u001b[0m \u001b[0mf\u001b[0m\u001b[0;34m.\u001b[0m\u001b[0mattrs\u001b[0m\u001b[0;34m.\u001b[0m\u001b[0mget\u001b[0m\u001b[0;34m(\u001b[0m\u001b[0;34m'model_config'\u001b[0m\u001b[0;34m)\u001b[0m\u001b[0;34m\u001b[0m\u001b[0m\n",
      "\u001b[0;32m/usr/lib64/python2.7/dist-packages/h5py/_hl/files.pyc\u001b[0m in \u001b[0;36m__init__\u001b[0;34m(self, name, mode, driver, libver, userblock_size, swmr, **kwds)\u001b[0m\n\u001b[1;32m    267\u001b[0m             \u001b[0;32mwith\u001b[0m \u001b[0mphil\u001b[0m\u001b[0;34m:\u001b[0m\u001b[0;34m\u001b[0m\u001b[0m\n\u001b[1;32m    268\u001b[0m                 \u001b[0mfapl\u001b[0m \u001b[0;34m=\u001b[0m \u001b[0mmake_fapl\u001b[0m\u001b[0;34m(\u001b[0m\u001b[0mdriver\u001b[0m\u001b[0;34m,\u001b[0m \u001b[0mlibver\u001b[0m\u001b[0;34m,\u001b[0m \u001b[0;34m**\u001b[0m\u001b[0mkwds\u001b[0m\u001b[0;34m)\u001b[0m\u001b[0;34m\u001b[0m\u001b[0m\n\u001b[0;32m--> 269\u001b[0;31m                 \u001b[0mfid\u001b[0m \u001b[0;34m=\u001b[0m \u001b[0mmake_fid\u001b[0m\u001b[0;34m(\u001b[0m\u001b[0mname\u001b[0m\u001b[0;34m,\u001b[0m \u001b[0mmode\u001b[0m\u001b[0;34m,\u001b[0m \u001b[0muserblock_size\u001b[0m\u001b[0;34m,\u001b[0m \u001b[0mfapl\u001b[0m\u001b[0;34m,\u001b[0m \u001b[0mswmr\u001b[0m\u001b[0;34m=\u001b[0m\u001b[0mswmr\u001b[0m\u001b[0;34m)\u001b[0m\u001b[0;34m\u001b[0m\u001b[0m\n\u001b[0m\u001b[1;32m    270\u001b[0m \u001b[0;34m\u001b[0m\u001b[0m\n\u001b[1;32m    271\u001b[0m                 \u001b[0;32mif\u001b[0m \u001b[0mswmr_support\u001b[0m\u001b[0;34m:\u001b[0m\u001b[0;34m\u001b[0m\u001b[0m\n",
      "\u001b[0;32m/usr/lib64/python2.7/dist-packages/h5py/_hl/files.pyc\u001b[0m in \u001b[0;36mmake_fid\u001b[0;34m(name, mode, userblock_size, fapl, fcpl, swmr)\u001b[0m\n\u001b[1;32m     97\u001b[0m         \u001b[0;32mif\u001b[0m \u001b[0mswmr\u001b[0m \u001b[0;32mand\u001b[0m \u001b[0mswmr_support\u001b[0m\u001b[0;34m:\u001b[0m\u001b[0;34m\u001b[0m\u001b[0m\n\u001b[1;32m     98\u001b[0m             \u001b[0mflags\u001b[0m \u001b[0;34m|=\u001b[0m \u001b[0mh5f\u001b[0m\u001b[0;34m.\u001b[0m\u001b[0mACC_SWMR_READ\u001b[0m\u001b[0;34m\u001b[0m\u001b[0m\n\u001b[0;32m---> 99\u001b[0;31m         \u001b[0mfid\u001b[0m \u001b[0;34m=\u001b[0m \u001b[0mh5f\u001b[0m\u001b[0;34m.\u001b[0m\u001b[0mopen\u001b[0m\u001b[0;34m(\u001b[0m\u001b[0mname\u001b[0m\u001b[0;34m,\u001b[0m \u001b[0mflags\u001b[0m\u001b[0;34m,\u001b[0m \u001b[0mfapl\u001b[0m\u001b[0;34m=\u001b[0m\u001b[0mfapl\u001b[0m\u001b[0;34m)\u001b[0m\u001b[0;34m\u001b[0m\u001b[0m\n\u001b[0m\u001b[1;32m    100\u001b[0m     \u001b[0;32melif\u001b[0m \u001b[0mmode\u001b[0m \u001b[0;34m==\u001b[0m \u001b[0;34m'r+'\u001b[0m\u001b[0;34m:\u001b[0m\u001b[0;34m\u001b[0m\u001b[0m\n\u001b[1;32m    101\u001b[0m         \u001b[0mfid\u001b[0m \u001b[0;34m=\u001b[0m \u001b[0mh5f\u001b[0m\u001b[0;34m.\u001b[0m\u001b[0mopen\u001b[0m\u001b[0;34m(\u001b[0m\u001b[0mname\u001b[0m\u001b[0;34m,\u001b[0m \u001b[0mh5f\u001b[0m\u001b[0;34m.\u001b[0m\u001b[0mACC_RDWR\u001b[0m\u001b[0;34m,\u001b[0m \u001b[0mfapl\u001b[0m\u001b[0;34m=\u001b[0m\u001b[0mfapl\u001b[0m\u001b[0;34m)\u001b[0m\u001b[0;34m\u001b[0m\u001b[0m\n",
      "\u001b[0;32mh5py/_objects.pyx\u001b[0m in \u001b[0;36mh5py._objects.with_phil.wrapper\u001b[0;34m()\u001b[0m\n",
      "\u001b[0;32mh5py/_objects.pyx\u001b[0m in \u001b[0;36mh5py._objects.with_phil.wrapper\u001b[0;34m()\u001b[0m\n",
      "\u001b[0;32mh5py/h5f.pyx\u001b[0m in \u001b[0;36mh5py.h5f.open\u001b[0;34m()\u001b[0m\n",
      "\u001b[0;31mIOError\u001b[0m: Unable to open file (unable to open file: name = 'FULLMODEL_6_hidden_LAYERS.h5', errno = 2, error message = 'No such file or directory', flags = 0, o_flags = 0)"
     ]
    }
   ],
   "source": [
    "convnet_mo_elu = load_model(\"FULLMODEL_6_hidden_LAYERS.h5\", custom_objects={\"r2\":r2})"
   ]
  },
  {
   "cell_type": "code",
   "execution_count": 23,
   "metadata": {},
   "outputs": [
    {
     "name": "stderr",
     "output_type": "stream",
     "text": [
      "/usr/lib/python2.7/dist-packages/ipykernel_launcher.py:35: UserWarning: Update your `Model` call to the Keras 2 API: `Model(outputs=[<tf.Tenso..., inputs=Tensor(\"in...)`\n"
     ]
    }
   ],
   "source": [
    "#covnet_mo_elu = load_model(\"FULLMODEL_10LAYERS_COVNET.h5\", custom_objects={\"r2\":r2})\n",
    "\n",
    "input_1 = Input(shape = (40, 50, 1))\n",
    "\n",
    "layer1 = Conv2D(32, (3, 3), activation='elu')(input_1)\n",
    "layer2 = Conv2D(32, (3, 3), activation='elu')(layer1)\n",
    "layer3 = MaxPooling2D(pool_size=(2,2))(layer2)\n",
    "\n",
    "layer4 = Conv2D(64, (3, 3), activation='elu')(layer3)\n",
    "layer5 = Conv2D(64, (3, 3), activation='elu')(layer4)\n",
    "layer6 = MaxPooling2D(pool_size=(2,2))(layer5)\n",
    "\n",
    "flatten = Flatten()(layer6)\n",
    "\n",
    "output1_layer1 = Dense(32, activation='elu')(flatten)\n",
    "output1_layer2 = Dense(16, activation='elu')(output1_layer1)\n",
    "output1 = Dense(1, name=\"sigma\")(output1_layer2)\n",
    "\n",
    "output2_layer1 = Dense(32, activation='elu')(flatten)\n",
    "output2_layer2 = Dense(16, activation='elu')(output2_layer1)\n",
    "output2 = Dense(1, name=\"mu\")(output2_layer2)\n",
    "\n",
    "output3_layer1 = Dense(32, activation='elu')(flatten)\n",
    "output3_layer2 = Dense(16, activation='elu')(output3_layer1)\n",
    "output3 = Dense(1, name=\"jump_sigma\")(output3_layer2)\n",
    "\n",
    "output4_layer1 = Dense(32, activation='elu')(flatten)\n",
    "output4_layer2 = Dense(16, activation='elu')(output4_layer1)\n",
    "output4 = Dense(1, name=\"jump_mu\")(output4_layer2)\n",
    "\n",
    "output5_layer1 = Dense(32, activation='elu')(flatten)\n",
    "output5_layer2 = Dense(16, activation='elu')(output5_layer1)\n",
    "output5 = Dense(1, name=\"lambda\")(output5_layer2)\n",
    "\n",
    "convnet_mo_elu = Model(input = input_1, output=[output1, output2, output3, output4, output5])\n",
    "convnet_mo_elu.compile('adam', 'mean_squared_error', metrics=['mean_absolute_percentage_error', r2])"
   ]
  },
  {
   "cell_type": "code",
   "execution_count": 20,
   "metadata": {
    "collapsed": true
   },
   "outputs": [],
   "source": [
    "#covnet_mo_elu = covnet_multiple_ELUs_10_layers()\n",
    "#covnet_mo_elu.load_weights(\"RELAXED_ELU_COVNET.h5\")"
   ]
  },
  {
   "cell_type": "code",
   "execution_count": 21,
   "metadata": {
    "collapsed": true
   },
   "outputs": [],
   "source": [
    "#covnet_mo_elu.save(H5_DIR_COVNET_MULTIPLE_ELU)"
   ]
  },
  {
   "cell_type": "code",
   "execution_count": 17,
   "metadata": {},
   "outputs": [
    {
     "name": "stdout",
     "output_type": "stream",
     "text": [
      "0\n",
      "100\n",
      "200\n",
      "300\n",
      "400\n",
      "500\n",
      "600\n",
      "700\n",
      "800\n",
      "900\n"
     ]
    }
   ],
   "source": [
    "test_set_pred = standard_convolutional_test_set()"
   ]
  },
  {
   "cell_type": "code",
   "execution_count": 35,
   "metadata": {
    "collapsed": true
   },
   "outputs": [],
   "source": [
    "train_gen = convolutional_batch_generator(paramset_size=300, paths_p_paramset=5, constraint_gbm_mu=(-0.5, 0.5))"
   ]
  },
  {
   "cell_type": "code",
   "execution_count": 25,
   "metadata": {
    "collapsed": true
   },
   "outputs": [],
   "source": [
    "histories_elu = []#np.load(\"SIMPLE_histories_elu_6_hidden_LAYERS.npy\").tolist()\n",
    "covnet_mo_elu_predictions = []# np.load(\"SIMPLE_mo_elu_predictions_6_hidden_LAYERS.npy\").tolist()"
   ]
  },
  {
   "cell_type": "code",
   "execution_count": 24,
   "metadata": {
    "collapsed": true
   },
   "outputs": [],
   "source": [
    "smallest_loss = 20"
   ]
  },
  {
   "cell_type": "code",
   "execution_count": 36,
   "metadata": {
    "scrolled": true
   },
   "outputs": [
    {
     "name": "stderr",
     "output_type": "stream",
     "text": [
      "/usr/lib/python2.7/dist-packages/ipykernel_launcher.py:2: UserWarning: The semantics of the Keras 2 argument `steps_per_epoch` is not the same as the Keras 1 argument `samples_per_epoch`. `steps_per_epoch` is the number of batches to draw from the generator at each epoch. Basically steps_per_epoch = samples_per_epoch/batch_size. Similarly `nb_val_samples`->`validation_steps` and `val_samples`->`steps` arguments have changed. Update your method calls accordingly.\n",
      "  \n",
      "/usr/lib/python2.7/dist-packages/ipykernel_launcher.py:2: UserWarning: Update your `fit_generator` call to the Keras 2 API: `fit_generator(<generator..., epochs=1, steps_per_epoch=10)`\n",
      "  \n"
     ]
    },
    {
     "name": "stdout",
     "output_type": "stream",
     "text": [
      "Epoch 1/1\n",
      "10/10 [==============================] - 115s - loss: 0.0136 - sigma_loss: 1.3725e-04 - mu_loss: 0.0034 - jump_sigma_loss: 0.0028 - jump_mu_loss: 0.0072 - lambda_loss: 2.5272e-05 - sigma_mean_absolute_percentage_error: 21.3842 - sigma_r2: 0.9582 - mu_mean_absolute_percentage_error: 76.8772 - mu_r2: 0.9583 - jump_sigma_mean_absolute_percentage_error: 153.4793 - jump_sigma_r2: 0.1153 - jump_mu_mean_absolute_percentage_error: 110.3437 - jump_mu_r2: 0.9134 - lambda_mean_absolute_percentage_error: 109.6344 - lambda_r2: 0.5234    \n",
      "[master 0ab34b8] updated history, predictions and model\n",
      " 3 files changed, 3 insertions(+), 3 deletions(-)\n",
      "^C\n",
      "Epoch 1/1\n",
      "10/10 [==============================] - 117s - loss: 0.0134 - sigma_loss: 1.2004e-04 - mu_loss: 0.0035 - jump_sigma_loss: 0.0029 - jump_mu_loss: 0.0069 - lambda_loss: 2.4766e-05 - sigma_mean_absolute_percentage_error: 19.4939 - sigma_r2: 0.9625 - mu_mean_absolute_percentage_error: 137.7743 - mu_r2: 0.9571 - jump_sigma_mean_absolute_percentage_error: 172.5789 - jump_sigma_r2: 0.1263 - jump_mu_mean_absolute_percentage_error: 160.9545 - jump_mu_r2: 0.9172 - lambda_mean_absolute_percentage_error: 97.8153 - lambda_r2: 0.5194    \n",
      "Epoch 1/1\n",
      " 8/10 [=======================>......] - ETA: 22s - loss: 0.0139 - sigma_loss: 1.0201e-04 - mu_loss: 0.0034 - jump_sigma_loss: 0.0028 - jump_mu_loss: 0.0075 - lambda_loss: 2.2954e-05 - sigma_mean_absolute_percentage_error: 16.7412 - sigma_r2: 0.9679 - mu_mean_absolute_percentage_error: 66.3325 - mu_r2: 0.9571 - jump_sigma_mean_absolute_percentage_error: 185.4488 - jump_sigma_r2: 0.1225 - jump_mu_mean_absolute_percentage_error: 68.7233 - jump_mu_r2: 0.9076 - lambda_mean_absolute_percentage_error: 109.7755 - lambda_r2: 0.5588"
     ]
    },
    {
     "ename": "KeyboardInterrupt",
     "evalue": "",
     "output_type": "error",
     "traceback": [
      "\u001b[0;31m---------------------------------------------------------------------------\u001b[0m",
      "\u001b[0;31mKeyboardInterrupt\u001b[0m                         Traceback (most recent call last)",
      "\u001b[0;32m<ipython-input-36-447e6a454be9>\u001b[0m in \u001b[0;36m<module>\u001b[0;34m()\u001b[0m\n\u001b[1;32m      1\u001b[0m \u001b[0;32mfor\u001b[0m \u001b[0mi\u001b[0m \u001b[0;32min\u001b[0m \u001b[0mrange\u001b[0m\u001b[0;34m(\u001b[0m\u001b[0;36m150000\u001b[0m\u001b[0;34m)\u001b[0m\u001b[0;34m:\u001b[0m\u001b[0;34m\u001b[0m\u001b[0m\n\u001b[0;32m----> 2\u001b[0;31m     \u001b[0mhistory\u001b[0m \u001b[0;34m=\u001b[0m \u001b[0mconvnet_mo_elu\u001b[0m\u001b[0;34m.\u001b[0m\u001b[0mfit_generator\u001b[0m\u001b[0;34m(\u001b[0m\u001b[0mtrain_gen\u001b[0m\u001b[0;34m,\u001b[0m \u001b[0msamples_per_epoch\u001b[0m \u001b[0;34m=\u001b[0m \u001b[0;36m10\u001b[0m\u001b[0;34m,\u001b[0m \u001b[0mnb_epoch\u001b[0m \u001b[0;34m=\u001b[0m \u001b[0;36m1\u001b[0m\u001b[0;34m)\u001b[0m\u001b[0;34m\u001b[0m\u001b[0m\n\u001b[0m\u001b[1;32m      3\u001b[0m     \u001b[0mhistories_elu\u001b[0m\u001b[0;34m.\u001b[0m\u001b[0mappend\u001b[0m\u001b[0;34m(\u001b[0m\u001b[0mhistory\u001b[0m\u001b[0;34m.\u001b[0m\u001b[0mhistory\u001b[0m\u001b[0;34m)\u001b[0m\u001b[0;34m\u001b[0m\u001b[0m\n\u001b[1;32m      4\u001b[0m \u001b[0;34m\u001b[0m\u001b[0m\n\u001b[1;32m      5\u001b[0m     \u001b[0mpredictions_elu\u001b[0m \u001b[0;34m=\u001b[0m \u001b[0mconvnet_mo_elu\u001b[0m\u001b[0;34m.\u001b[0m\u001b[0mpredict\u001b[0m\u001b[0;34m(\u001b[0m\u001b[0mtest_set_pred\u001b[0m\u001b[0;34m)\u001b[0m\u001b[0;34m\u001b[0m\u001b[0m\n",
      "\u001b[0;32m/usr/local/lib64/python2.7/site-packages/keras/legacy/interfaces.pyc\u001b[0m in \u001b[0;36mwrapper\u001b[0;34m(*args, **kwargs)\u001b[0m\n\u001b[1;32m     85\u001b[0m                 warnings.warn('Update your `' + object_name +\n\u001b[1;32m     86\u001b[0m                               '` call to the Keras 2 API: ' + signature, stacklevel=2)\n\u001b[0;32m---> 87\u001b[0;31m             \u001b[0;32mreturn\u001b[0m \u001b[0mfunc\u001b[0m\u001b[0;34m(\u001b[0m\u001b[0;34m*\u001b[0m\u001b[0margs\u001b[0m\u001b[0;34m,\u001b[0m \u001b[0;34m**\u001b[0m\u001b[0mkwargs\u001b[0m\u001b[0;34m)\u001b[0m\u001b[0;34m\u001b[0m\u001b[0m\n\u001b[0m\u001b[1;32m     88\u001b[0m         \u001b[0mwrapper\u001b[0m\u001b[0;34m.\u001b[0m\u001b[0m_original_function\u001b[0m \u001b[0;34m=\u001b[0m \u001b[0mfunc\u001b[0m\u001b[0;34m\u001b[0m\u001b[0m\n\u001b[1;32m     89\u001b[0m         \u001b[0;32mreturn\u001b[0m \u001b[0mwrapper\u001b[0m\u001b[0;34m\u001b[0m\u001b[0m\n",
      "\u001b[0;32m/usr/local/lib64/python2.7/site-packages/keras/engine/training.pyc\u001b[0m in \u001b[0;36mfit_generator\u001b[0;34m(self, generator, steps_per_epoch, epochs, verbose, callbacks, validation_data, validation_steps, class_weight, max_queue_size, workers, use_multiprocessing, shuffle, initial_epoch)\u001b[0m\n\u001b[1;32m   2087\u001b[0m         \u001b[0;32mfinally\u001b[0m\u001b[0;34m:\u001b[0m\u001b[0;34m\u001b[0m\u001b[0m\n\u001b[1;32m   2088\u001b[0m             \u001b[0;32mif\u001b[0m \u001b[0menqueuer\u001b[0m \u001b[0;32mis\u001b[0m \u001b[0;32mnot\u001b[0m \u001b[0mNone\u001b[0m\u001b[0;34m:\u001b[0m\u001b[0;34m\u001b[0m\u001b[0m\n\u001b[0;32m-> 2089\u001b[0;31m                 \u001b[0menqueuer\u001b[0m\u001b[0;34m.\u001b[0m\u001b[0mstop\u001b[0m\u001b[0;34m(\u001b[0m\u001b[0;34m)\u001b[0m\u001b[0;34m\u001b[0m\u001b[0m\n\u001b[0m\u001b[1;32m   2090\u001b[0m \u001b[0;34m\u001b[0m\u001b[0m\n\u001b[1;32m   2091\u001b[0m         \u001b[0mcallbacks\u001b[0m\u001b[0;34m.\u001b[0m\u001b[0mon_train_end\u001b[0m\u001b[0;34m(\u001b[0m\u001b[0;34m)\u001b[0m\u001b[0;34m\u001b[0m\u001b[0m\n",
      "\u001b[0;32m/usr/local/lib64/python2.7/site-packages/keras/utils/data_utils.pyc\u001b[0m in \u001b[0;36mstop\u001b[0;34m(self, timeout)\u001b[0m\n\u001b[1;32m    618\u001b[0m                     \u001b[0mthread\u001b[0m\u001b[0;34m.\u001b[0m\u001b[0mterminate\u001b[0m\u001b[0;34m(\u001b[0m\u001b[0;34m)\u001b[0m\u001b[0;34m\u001b[0m\u001b[0m\n\u001b[1;32m    619\u001b[0m                 \u001b[0;32melse\u001b[0m\u001b[0;34m:\u001b[0m\u001b[0;34m\u001b[0m\u001b[0m\n\u001b[0;32m--> 620\u001b[0;31m                     \u001b[0mthread\u001b[0m\u001b[0;34m.\u001b[0m\u001b[0mjoin\u001b[0m\u001b[0;34m(\u001b[0m\u001b[0mtimeout\u001b[0m\u001b[0;34m)\u001b[0m\u001b[0;34m\u001b[0m\u001b[0m\n\u001b[0m\u001b[1;32m    621\u001b[0m \u001b[0;34m\u001b[0m\u001b[0m\n\u001b[1;32m    622\u001b[0m         \u001b[0;32mif\u001b[0m \u001b[0mself\u001b[0m\u001b[0;34m.\u001b[0m\u001b[0m_use_multiprocessing\u001b[0m\u001b[0;34m:\u001b[0m\u001b[0;34m\u001b[0m\u001b[0m\n",
      "\u001b[0;32m/usr/lib64/python2.7/threading.pyc\u001b[0m in \u001b[0;36mjoin\u001b[0;34m(self, timeout, balancing)\u001b[0m\n\u001b[1;32m    941\u001b[0m             \u001b[0;32mif\u001b[0m \u001b[0mtimeout\u001b[0m \u001b[0;32mis\u001b[0m \u001b[0mNone\u001b[0m\u001b[0;34m:\u001b[0m\u001b[0;34m\u001b[0m\u001b[0m\n\u001b[1;32m    942\u001b[0m                 \u001b[0;32mwhile\u001b[0m \u001b[0;32mnot\u001b[0m \u001b[0mself\u001b[0m\u001b[0;34m.\u001b[0m\u001b[0m__stopped\u001b[0m\u001b[0;34m:\u001b[0m\u001b[0;34m\u001b[0m\u001b[0m\n\u001b[0;32m--> 943\u001b[0;31m                     \u001b[0mself\u001b[0m\u001b[0;34m.\u001b[0m\u001b[0m__block\u001b[0m\u001b[0;34m.\u001b[0m\u001b[0mwait\u001b[0m\u001b[0;34m(\u001b[0m\u001b[0;34m)\u001b[0m\u001b[0;34m\u001b[0m\u001b[0m\n\u001b[0m\u001b[1;32m    944\u001b[0m                 \u001b[0;32mif\u001b[0m \u001b[0m__debug__\u001b[0m\u001b[0;34m:\u001b[0m\u001b[0;34m\u001b[0m\u001b[0m\n\u001b[1;32m    945\u001b[0m                     \u001b[0mself\u001b[0m\u001b[0;34m.\u001b[0m\u001b[0m_note\u001b[0m\u001b[0;34m(\u001b[0m\u001b[0;34m\"%s.join(): thread stopped\"\u001b[0m\u001b[0;34m,\u001b[0m \u001b[0mself\u001b[0m\u001b[0;34m)\u001b[0m\u001b[0;34m\u001b[0m\u001b[0m\n",
      "\u001b[0;32m/usr/lib64/python2.7/threading.pyc\u001b[0m in \u001b[0;36mwait\u001b[0;34m(self, timeout, balancing)\u001b[0m\n\u001b[1;32m    338\u001b[0m         \u001b[0;32mtry\u001b[0m\u001b[0;34m:\u001b[0m    \u001b[0;31m# restore state no matter what (e.g., KeyboardInterrupt)\u001b[0m\u001b[0;34m\u001b[0m\u001b[0m\n\u001b[1;32m    339\u001b[0m             \u001b[0;32mif\u001b[0m \u001b[0mtimeout\u001b[0m \u001b[0;32mis\u001b[0m \u001b[0mNone\u001b[0m\u001b[0;34m:\u001b[0m\u001b[0;34m\u001b[0m\u001b[0m\n\u001b[0;32m--> 340\u001b[0;31m                 \u001b[0mwaiter\u001b[0m\u001b[0;34m.\u001b[0m\u001b[0macquire\u001b[0m\u001b[0;34m(\u001b[0m\u001b[0;34m)\u001b[0m\u001b[0;34m\u001b[0m\u001b[0m\n\u001b[0m\u001b[1;32m    341\u001b[0m                 \u001b[0;32mif\u001b[0m \u001b[0m__debug__\u001b[0m\u001b[0;34m:\u001b[0m\u001b[0;34m\u001b[0m\u001b[0m\n\u001b[1;32m    342\u001b[0m                     \u001b[0mself\u001b[0m\u001b[0;34m.\u001b[0m\u001b[0m_note\u001b[0m\u001b[0;34m(\u001b[0m\u001b[0;34m\"%s.wait(): got it\"\u001b[0m\u001b[0;34m,\u001b[0m \u001b[0mself\u001b[0m\u001b[0;34m)\u001b[0m\u001b[0;34m\u001b[0m\u001b[0m\n",
      "\u001b[0;31mKeyboardInterrupt\u001b[0m: "
     ]
    }
   ],
   "source": [
    "for i in range(150000):\n",
    "    history = convnet_mo_elu.fit_generator(train_gen, samples_per_epoch = 10, nb_epoch = 1)\n",
    "    histories_elu.append(history.history)\n",
    "\n",
    "    predictions_elu = convnet_mo_elu.predict(test_set_pred)\n",
    "\n",
    "    covnet_mo_elu_predictions.append(predictions_elu)\n",
    "    \n",
    "    if history.history['loss'][-1]<smallest_loss:\n",
    "        print(\"SAVE\")\n",
    "        smallest_loss = history.history['loss'][-1]\n",
    "        convnet_mo_elu.save(\"SIMPLE_6_hidden_LAYERS.h5\")\n",
    "    \n",
    "    if i%5 == 0:\n",
    "        np.save(\"SIMPLE_histories_elu_6_hidden_LAYERS.npy\", histories_elu)\n",
    "        np.save(\"SIMPLE_mo_elu_predictions_6_hidden_LAYERS.npy\", covnet_mo_elu_predictions)\n",
    "\n",
    "        !git config --global user.email \"rwmmostert@gmail.com\"\n",
    "        !git config --global user.name \"RWMostert\"\n",
    "        !git add --all\n",
    "        !git commit -am \"updated history, predictions and model\"\n",
    "        !git push -u origin master --quiet"
   ]
  },
  {
   "cell_type": "code",
   "execution_count": 26,
   "metadata": {
    "scrolled": true
   },
   "outputs": [
    {
     "name": "stderr",
     "output_type": "stream",
     "text": [
      "/home/carnd/anaconda3/envs/carnd-term1/lib/python3.5/site-packages/ipykernel_launcher.py:2: UserWarning: The semantics of the Keras 2 argument  `steps_per_epoch` is not the same as the Keras 1 argument `samples_per_epoch`. `steps_per_epoch` is the number of batches to draw from the generator at each epoch. Update your method calls accordingly.\n",
      "  \n",
      "/home/carnd/anaconda3/envs/carnd-term1/lib/python3.5/site-packages/ipykernel_launcher.py:2: UserWarning: Update your `fit_generator` call to the Keras 2 API: `fit_generator(<generator..., steps_per_epoch=10, epochs=1)`\n",
      "  \n"
     ]
    },
    {
     "name": "stdout",
     "output_type": "stream",
     "text": [
      "Epoch 1/1\n",
      "10/10 [==============================] - 124s - loss: 0.0321 - sigma_loss: 0.0026 - mu_loss: 0.0175 - jump_sigma_loss: 0.0030 - jump_mu_loss: 0.0090 - lambda_loss: 6.6771e-05 - sigma_mean_absolute_percentage_error: 158.1034 - sigma_r2: 0.2157 - mu_mean_absolute_percentage_error: 266.4196 - mu_r2: 0.7900 - jump_sigma_mean_absolute_percentage_error: 182.5469 - jump_sigma_r2: 0.0875 - jump_mu_mean_absolute_percentage_error: 91.8385 - jump_mu_r2: 0.8915 - lambda_mean_absolute_percentage_error: 132.3332 - lambda_r2: -0.2917    \n",
      "SAVE\n",
      "[master cf49ed9] updated history, predictions and model\n",
      " 4 files changed, 6 insertions(+), 22 deletions(-)\n",
      "Branch master set up to track remote branch master from origin.\n",
      "Epoch 1/1\n",
      "10/10 [==============================] - 124s - loss: 0.0310 - sigma_loss: 0.0026 - mu_loss: 0.0163 - jump_sigma_loss: 0.0030 - jump_mu_loss: 0.0091 - lambda_loss: 6.1937e-05 - sigma_mean_absolute_percentage_error: 157.1786 - sigma_r2: 0.2261 - mu_mean_absolute_percentage_error: 148.7495 - mu_r2: 0.8034 - jump_sigma_mean_absolute_percentage_error: 187.1650 - jump_sigma_r2: 0.0889 - jump_mu_mean_absolute_percentage_error: 112.1127 - jump_mu_r2: 0.8919 - lambda_mean_absolute_percentage_error: 142.2984 - lambda_r2: -0.1997    \n",
      "SAVE\n",
      "Epoch 1/1\n",
      "10/10 [==============================] - 123s - loss: 0.0299 - sigma_loss: 0.0024 - mu_loss: 0.0156 - jump_sigma_loss: 0.0029 - jump_mu_loss: 0.0089 - lambda_loss: 5.8360e-05 - sigma_mean_absolute_percentage_error: 153.0024 - sigma_r2: 0.2873 - mu_mean_absolute_percentage_error: 155.2785 - mu_r2: 0.8106 - jump_sigma_mean_absolute_percentage_error: 174.0854 - jump_sigma_r2: 0.0963 - jump_mu_mean_absolute_percentage_error: 123.5186 - jump_mu_r2: 0.8926 - lambda_mean_absolute_percentage_error: 163.6590 - lambda_r2: -0.1326    \n",
      "SAVE\n",
      "Epoch 1/1\n",
      "10/10 [==============================] - 123s - loss: 0.0287 - sigma_loss: 0.0022 - mu_loss: 0.0143 - jump_sigma_loss: 0.0030 - jump_mu_loss: 0.0091 - lambda_loss: 5.8522e-05 - sigma_mean_absolute_percentage_error: 146.3418 - sigma_r2: 0.3150 - mu_mean_absolute_percentage_error: 170.2344 - mu_r2: 0.8240 - jump_sigma_mean_absolute_percentage_error: 185.9072 - jump_sigma_r2: 0.1094 - jump_mu_mean_absolute_percentage_error: 89.9862 - jump_mu_r2: 0.8904 - lambda_mean_absolute_percentage_error: 142.0796 - lambda_r2: -0.1274    \n",
      "SAVE\n",
      "Epoch 1/1\n",
      "10/10 [==============================] - 123s - loss: 0.0283 - sigma_loss: 0.0023 - mu_loss: 0.0141 - jump_sigma_loss: 0.0029 - jump_mu_loss: 0.0090 - lambda_loss: 5.9000e-05 - sigma_mean_absolute_percentage_error: 138.2225 - sigma_r2: 0.3016 - mu_mean_absolute_percentage_error: 154.7261 - mu_r2: 0.8297 - jump_sigma_mean_absolute_percentage_error: 170.3082 - jump_sigma_r2: 0.1149 - jump_mu_mean_absolute_percentage_error: 80.6549 - jump_mu_r2: 0.8943 - lambda_mean_absolute_percentage_error: 143.7285 - lambda_r2: -0.1456    \n",
      "SAVE\n",
      "Epoch 1/1\n",
      "10/10 [==============================] - 123s - loss: 0.0284 - sigma_loss: 0.0022 - mu_loss: 0.0144 - jump_sigma_loss: 0.0030 - jump_mu_loss: 0.0087 - lambda_loss: 5.9896e-05 - sigma_mean_absolute_percentage_error: 139.9352 - sigma_r2: 0.3432 - mu_mean_absolute_percentage_error: 135.2027 - mu_r2: 0.8246 - jump_sigma_mean_absolute_percentage_error: 186.2393 - jump_sigma_r2: 0.1099 - jump_mu_mean_absolute_percentage_error: 109.0133 - jump_mu_r2: 0.8943 - lambda_mean_absolute_percentage_error: 143.2961 - lambda_r2: -0.1576    \n",
      "[master e426403] updated history, predictions and model\n",
      " 4 files changed, 19 insertions(+), 1 deletion(-)\n",
      "Branch master set up to track remote branch master from origin.\n",
      "Epoch 1/1\n",
      "10/10 [==============================] - 124s - loss: 0.0283 - sigma_loss: 0.0022 - mu_loss: 0.0145 - jump_sigma_loss: 0.0029 - jump_mu_loss: 0.0085 - lambda_loss: 6.2564e-05 - sigma_mean_absolute_percentage_error: 138.2138 - sigma_r2: 0.3248 - mu_mean_absolute_percentage_error: 156.7408 - mu_r2: 0.8247 - jump_sigma_mean_absolute_percentage_error: 178.8331 - jump_sigma_r2: 0.1235 - jump_mu_mean_absolute_percentage_error: 102.3747 - jump_mu_r2: 0.8969 - lambda_mean_absolute_percentage_error: 151.2465 - lambda_r2: -0.2251   \n",
      "SAVE\n",
      "Epoch 1/1\n",
      "10/10 [==============================] - 124s - loss: 0.0269 - sigma_loss: 0.0021 - mu_loss: 0.0131 - jump_sigma_loss: 0.0029 - jump_mu_loss: 0.0088 - lambda_loss: 6.0153e-05 - sigma_mean_absolute_percentage_error: 136.0947 - sigma_r2: 0.3709 - mu_mean_absolute_percentage_error: 158.5473 - mu_r2: 0.8440 - jump_sigma_mean_absolute_percentage_error: 178.5396 - jump_sigma_r2: 0.1173 - jump_mu_mean_absolute_percentage_error: 152.6841 - jump_mu_r2: 0.8940 - lambda_mean_absolute_percentage_error: 151.9829 - lambda_r2: -0.1753    \n",
      "SAVE\n",
      "Epoch 1/1\n",
      "10/10 [==============================] - 135s - loss: 0.0260 - sigma_loss: 0.0020 - mu_loss: 0.0120 - jump_sigma_loss: 0.0029 - jump_mu_loss: 0.0090 - lambda_loss: 6.5939e-05 - sigma_mean_absolute_percentage_error: 132.6365 - sigma_r2: 0.3811 - mu_mean_absolute_percentage_error: 151.9239 - mu_r2: 0.8540 - jump_sigma_mean_absolute_percentage_error: 178.6275 - jump_sigma_r2: 0.1207 - jump_mu_mean_absolute_percentage_error: 161.5607 - jump_mu_r2: 0.8912 - lambda_mean_absolute_percentage_error: 158.3958 - lambda_r2: -0.2671    \n"
     ]
    },
    {
     "ename": "KeyboardInterrupt",
     "evalue": "",
     "output_type": "error",
     "traceback": [
      "\u001b[0;31m---------------------------------------------------------------------------\u001b[0m",
      "\u001b[0;31mKeyboardInterrupt\u001b[0m                         Traceback (most recent call last)",
      "\u001b[0;32m<ipython-input-26-0a56e8b13eb6>\u001b[0m in \u001b[0;36m<module>\u001b[0;34m()\u001b[0m\n\u001b[1;32m      1\u001b[0m \u001b[0;32mfor\u001b[0m \u001b[0mi\u001b[0m \u001b[0;32min\u001b[0m \u001b[0mrange\u001b[0m\u001b[0;34m(\u001b[0m\u001b[0;36m150000\u001b[0m\u001b[0;34m)\u001b[0m\u001b[0;34m:\u001b[0m\u001b[0;34m\u001b[0m\u001b[0m\n\u001b[0;32m----> 2\u001b[0;31m     \u001b[0mhistory\u001b[0m \u001b[0;34m=\u001b[0m \u001b[0mcovnet_mo_elu\u001b[0m\u001b[0;34m.\u001b[0m\u001b[0mfit_generator\u001b[0m\u001b[0;34m(\u001b[0m\u001b[0mtrain_gen\u001b[0m\u001b[0;34m,\u001b[0m \u001b[0msamples_per_epoch\u001b[0m \u001b[0;34m=\u001b[0m \u001b[0;36m10\u001b[0m\u001b[0;34m,\u001b[0m \u001b[0mnb_epoch\u001b[0m \u001b[0;34m=\u001b[0m \u001b[0;36m1\u001b[0m\u001b[0;34m)\u001b[0m\u001b[0;34m\u001b[0m\u001b[0m\n\u001b[0m\u001b[1;32m      3\u001b[0m \u001b[0;34m\u001b[0m\u001b[0m\n\u001b[1;32m      4\u001b[0m     \u001b[0;32mif\u001b[0m \u001b[0mhistory\u001b[0m\u001b[0;34m.\u001b[0m\u001b[0mhistory\u001b[0m\u001b[0;34m[\u001b[0m\u001b[0;34m'loss'\u001b[0m\u001b[0;34m]\u001b[0m\u001b[0;34m[\u001b[0m\u001b[0;34m-\u001b[0m\u001b[0;36m1\u001b[0m\u001b[0;34m]\u001b[0m\u001b[0;34m<\u001b[0m\u001b[0msmallest_loss\u001b[0m\u001b[0;34m:\u001b[0m\u001b[0;34m\u001b[0m\u001b[0m\n\u001b[1;32m      5\u001b[0m         \u001b[0mprint\u001b[0m\u001b[0;34m(\u001b[0m\u001b[0;34m\"SAVE\"\u001b[0m\u001b[0;34m)\u001b[0m\u001b[0;34m\u001b[0m\u001b[0m\n",
      "\u001b[0;32m/home/carnd/anaconda3/envs/carnd-term1/lib/python3.5/site-packages/keras/legacy/interfaces.py\u001b[0m in \u001b[0;36mwrapper\u001b[0;34m(*args, **kwargs)\u001b[0m\n\u001b[1;32m     86\u001b[0m                 warnings.warn('Update your `' + object_name +\n\u001b[1;32m     87\u001b[0m                               '` call to the Keras 2 API: ' + signature, stacklevel=2)\n\u001b[0;32m---> 88\u001b[0;31m             \u001b[0;32mreturn\u001b[0m \u001b[0mfunc\u001b[0m\u001b[0;34m(\u001b[0m\u001b[0;34m*\u001b[0m\u001b[0margs\u001b[0m\u001b[0;34m,\u001b[0m \u001b[0;34m**\u001b[0m\u001b[0mkwargs\u001b[0m\u001b[0;34m)\u001b[0m\u001b[0;34m\u001b[0m\u001b[0m\n\u001b[0m\u001b[1;32m     89\u001b[0m         \u001b[0mwrapper\u001b[0m\u001b[0;34m.\u001b[0m\u001b[0m_legacy_support_signature\u001b[0m \u001b[0;34m=\u001b[0m \u001b[0minspect\u001b[0m\u001b[0;34m.\u001b[0m\u001b[0mgetargspec\u001b[0m\u001b[0;34m(\u001b[0m\u001b[0mfunc\u001b[0m\u001b[0;34m)\u001b[0m\u001b[0;34m\u001b[0m\u001b[0m\n\u001b[1;32m     90\u001b[0m         \u001b[0;32mreturn\u001b[0m \u001b[0mwrapper\u001b[0m\u001b[0;34m\u001b[0m\u001b[0m\n",
      "\u001b[0;32m/home/carnd/anaconda3/envs/carnd-term1/lib/python3.5/site-packages/keras/engine/training.py\u001b[0m in \u001b[0;36mfit_generator\u001b[0;34m(self, generator, steps_per_epoch, epochs, verbose, callbacks, validation_data, validation_steps, class_weight, max_q_size, workers, pickle_safe, initial_epoch)\u001b[0m\n\u001b[1;32m   1944\u001b[0m         \u001b[0;32mfinally\u001b[0m\u001b[0;34m:\u001b[0m\u001b[0;34m\u001b[0m\u001b[0m\n\u001b[1;32m   1945\u001b[0m             \u001b[0;32mif\u001b[0m \u001b[0menqueuer\u001b[0m \u001b[0;32mis\u001b[0m \u001b[0;32mnot\u001b[0m \u001b[0;32mNone\u001b[0m\u001b[0;34m:\u001b[0m\u001b[0;34m\u001b[0m\u001b[0m\n\u001b[0;32m-> 1946\u001b[0;31m                 \u001b[0menqueuer\u001b[0m\u001b[0;34m.\u001b[0m\u001b[0mstop\u001b[0m\u001b[0;34m(\u001b[0m\u001b[0;34m)\u001b[0m\u001b[0;34m\u001b[0m\u001b[0m\n\u001b[0m\u001b[1;32m   1947\u001b[0m \u001b[0;34m\u001b[0m\u001b[0m\n\u001b[1;32m   1948\u001b[0m         \u001b[0mcallbacks\u001b[0m\u001b[0;34m.\u001b[0m\u001b[0mon_train_end\u001b[0m\u001b[0;34m(\u001b[0m\u001b[0;34m)\u001b[0m\u001b[0;34m\u001b[0m\u001b[0m\n",
      "\u001b[0;32m/home/carnd/anaconda3/envs/carnd-term1/lib/python3.5/site-packages/keras/engine/training.py\u001b[0m in \u001b[0;36mstop\u001b[0;34m(self, timeout)\u001b[0m\n\u001b[1;32m    660\u001b[0m                     \u001b[0mthread\u001b[0m\u001b[0;34m.\u001b[0m\u001b[0mterminate\u001b[0m\u001b[0;34m(\u001b[0m\u001b[0;34m)\u001b[0m\u001b[0;34m\u001b[0m\u001b[0m\n\u001b[1;32m    661\u001b[0m                 \u001b[0;32melse\u001b[0m\u001b[0;34m:\u001b[0m\u001b[0;34m\u001b[0m\u001b[0m\n\u001b[0;32m--> 662\u001b[0;31m                     \u001b[0mthread\u001b[0m\u001b[0;34m.\u001b[0m\u001b[0mjoin\u001b[0m\u001b[0;34m(\u001b[0m\u001b[0mtimeout\u001b[0m\u001b[0;34m)\u001b[0m\u001b[0;34m\u001b[0m\u001b[0m\n\u001b[0m\u001b[1;32m    663\u001b[0m \u001b[0;34m\u001b[0m\u001b[0m\n\u001b[1;32m    664\u001b[0m         \u001b[0;32mif\u001b[0m \u001b[0mself\u001b[0m\u001b[0;34m.\u001b[0m\u001b[0m_pickle_safe\u001b[0m\u001b[0;34m:\u001b[0m\u001b[0;34m\u001b[0m\u001b[0m\n",
      "\u001b[0;32m/home/carnd/anaconda3/envs/carnd-term1/lib/python3.5/threading.py\u001b[0m in \u001b[0;36mjoin\u001b[0;34m(self, timeout)\u001b[0m\n\u001b[1;32m   1052\u001b[0m \u001b[0;34m\u001b[0m\u001b[0m\n\u001b[1;32m   1053\u001b[0m         \u001b[0;32mif\u001b[0m \u001b[0mtimeout\u001b[0m \u001b[0;32mis\u001b[0m \u001b[0;32mNone\u001b[0m\u001b[0;34m:\u001b[0m\u001b[0;34m\u001b[0m\u001b[0m\n\u001b[0;32m-> 1054\u001b[0;31m             \u001b[0mself\u001b[0m\u001b[0;34m.\u001b[0m\u001b[0m_wait_for_tstate_lock\u001b[0m\u001b[0;34m(\u001b[0m\u001b[0;34m)\u001b[0m\u001b[0;34m\u001b[0m\u001b[0m\n\u001b[0m\u001b[1;32m   1055\u001b[0m         \u001b[0;32melse\u001b[0m\u001b[0;34m:\u001b[0m\u001b[0;34m\u001b[0m\u001b[0m\n\u001b[1;32m   1056\u001b[0m             \u001b[0;31m# the behavior of a negative timeout isn't documented, but\u001b[0m\u001b[0;34m\u001b[0m\u001b[0;34m\u001b[0m\u001b[0m\n",
      "\u001b[0;32m/home/carnd/anaconda3/envs/carnd-term1/lib/python3.5/threading.py\u001b[0m in \u001b[0;36m_wait_for_tstate_lock\u001b[0;34m(self, block, timeout)\u001b[0m\n\u001b[1;32m   1068\u001b[0m         \u001b[0;32mif\u001b[0m \u001b[0mlock\u001b[0m \u001b[0;32mis\u001b[0m \u001b[0;32mNone\u001b[0m\u001b[0;34m:\u001b[0m  \u001b[0;31m# already determined that the C code is done\u001b[0m\u001b[0;34m\u001b[0m\u001b[0m\n\u001b[1;32m   1069\u001b[0m             \u001b[0;32massert\u001b[0m \u001b[0mself\u001b[0m\u001b[0;34m.\u001b[0m\u001b[0m_is_stopped\u001b[0m\u001b[0;34m\u001b[0m\u001b[0m\n\u001b[0;32m-> 1070\u001b[0;31m         \u001b[0;32melif\u001b[0m \u001b[0mlock\u001b[0m\u001b[0;34m.\u001b[0m\u001b[0macquire\u001b[0m\u001b[0;34m(\u001b[0m\u001b[0mblock\u001b[0m\u001b[0;34m,\u001b[0m \u001b[0mtimeout\u001b[0m\u001b[0;34m)\u001b[0m\u001b[0;34m:\u001b[0m\u001b[0;34m\u001b[0m\u001b[0m\n\u001b[0m\u001b[1;32m   1071\u001b[0m             \u001b[0mlock\u001b[0m\u001b[0;34m.\u001b[0m\u001b[0mrelease\u001b[0m\u001b[0;34m(\u001b[0m\u001b[0;34m)\u001b[0m\u001b[0;34m\u001b[0m\u001b[0m\n\u001b[1;32m   1072\u001b[0m             \u001b[0mself\u001b[0m\u001b[0;34m.\u001b[0m\u001b[0m_stop\u001b[0m\u001b[0;34m(\u001b[0m\u001b[0;34m)\u001b[0m\u001b[0;34m\u001b[0m\u001b[0m\n",
      "\u001b[0;31mKeyboardInterrupt\u001b[0m: "
     ]
    }
   ],
   "source": [
    "for i in range(150000):\n",
    "    history = covnet_mo_elu.fit_generator(train_gen, samples_per_epoch = 10, nb_epoch = 1)\n",
    "    \n",
    "    if history.history['loss'][-1]<smallest_loss:\n",
    "        print(\"SAVE\")\n",
    "        smallest_loss = history.history['loss'][-1]\n",
    "        covnet_mo_elu.save(\"FULLMODEL_10LAYERS_COVNET.h5\")\n",
    "        histories_elu.append(history.history)\n",
    "\n",
    "        predictions_elu = covnet_mo_elu.predict(test_set_pred)\n",
    "\n",
    "        covnet_mo_elu_predictions.append(predictions_elu)\n",
    "    \n",
    "    if i%5 == 0:\n",
    "        np.save(\"covnet_histories_elu_10LAYERS.npy\", histories_elu)\n",
    "        np.save(\"covnet_mo_elu_predictions_10LAYERS.npy\", covnet_mo_elu_predictions)\n",
    "\n",
    "        !git config --global user.email \"rwmmostert@gmail.com\"\n",
    "        !git config --global user.name \"RWMostert\"\n",
    "        !git add --all\n",
    "        !git commit -am \"updated history, predictions and model\"\n",
    "        !git push -u origin master --quiet"
   ]
  },
  {
   "cell_type": "code",
   "execution_count": null,
   "metadata": {
    "collapsed": true
   },
   "outputs": [],
   "source": [
    "print()"
   ]
  },
  {
   "cell_type": "markdown",
   "metadata": {},
   "source": [
    "# LESS SIMPLE Covnet Multiple Output with ELUs 10 Layers"
   ]
  },
  {
   "cell_type": "code",
   "execution_count": 14,
   "metadata": {
    "collapsed": true
   },
   "outputs": [],
   "source": [
    "import tensorflow as tf\n",
    "import keras\n",
    "from keras.models import Model, Sequential\n",
    "from keras.layers import Input, Dense, Flatten, LSTM, MaxPooling2D, Input, merge\n",
    "from keras.layers.convolutional import Conv2D\n",
    "from keras.optimizers import Adam\n",
    "from keras import backend as K"
   ]
  },
  {
   "cell_type": "code",
   "execution_count": 15,
   "metadata": {
    "collapsed": true
   },
   "outputs": [],
   "source": [
    "def r2(y_true, y_pred):\n",
    "    \"\"\"\n",
    "    returns the correlation coefficient of y_pred against y_true.\n",
    "\n",
    "    :param y_true: the true values (independent variable)\n",
    "    :param y_pred: the predicted values (dependent variable)\n",
    "    \"\"\"\n",
    "    \n",
    "    SSE = K.sum(K.square(y_true-y_pred))\n",
    "    SST = K.sum(K.square(y_true-K.mean(y_true)))\n",
    "    \n",
    "    return 1-SSE/SST"
   ]
  },
  {
   "cell_type": "code",
   "execution_count": 22,
   "metadata": {},
   "outputs": [
    {
     "ename": "IOError",
     "evalue": "Unable to open file (unable to open file: name = 'FULLMODEL_6_hidden_LAYERS.h5', errno = 2, error message = 'No such file or directory', flags = 0, o_flags = 0)",
     "output_type": "error",
     "traceback": [
      "\u001b[0;31m---------------------------------------------------------------------------\u001b[0m",
      "\u001b[0;31mIOError\u001b[0m                                   Traceback (most recent call last)",
      "\u001b[0;32m<ipython-input-22-2e89dbf26a53>\u001b[0m in \u001b[0;36m<module>\u001b[0;34m()\u001b[0m\n\u001b[0;32m----> 1\u001b[0;31m \u001b[0mconvnet_mo_elu\u001b[0m \u001b[0;34m=\u001b[0m \u001b[0mload_model\u001b[0m\u001b[0;34m(\u001b[0m\u001b[0;34m\"FULLMODEL_6_hidden_LAYERS.h5\"\u001b[0m\u001b[0;34m,\u001b[0m \u001b[0mcustom_objects\u001b[0m\u001b[0;34m=\u001b[0m\u001b[0;34m{\u001b[0m\u001b[0;34m\"r2\"\u001b[0m\u001b[0;34m:\u001b[0m\u001b[0mr2\u001b[0m\u001b[0;34m}\u001b[0m\u001b[0;34m)\u001b[0m\u001b[0;34m\u001b[0m\u001b[0m\n\u001b[0m",
      "\u001b[0;32m/usr/local/lib64/python2.7/site-packages/keras/models.pyc\u001b[0m in \u001b[0;36mload_model\u001b[0;34m(filepath, custom_objects, compile)\u001b[0m\n\u001b[1;32m    231\u001b[0m             \u001b[0;32mreturn\u001b[0m \u001b[0mcustom_objects\u001b[0m\u001b[0;34m[\u001b[0m\u001b[0mobj\u001b[0m\u001b[0;34m]\u001b[0m\u001b[0;34m\u001b[0m\u001b[0m\n\u001b[1;32m    232\u001b[0m         \u001b[0;32mreturn\u001b[0m \u001b[0mobj\u001b[0m\u001b[0;34m\u001b[0m\u001b[0m\n\u001b[0;32m--> 233\u001b[0;31m     \u001b[0;32mwith\u001b[0m \u001b[0mh5py\u001b[0m\u001b[0;34m.\u001b[0m\u001b[0mFile\u001b[0m\u001b[0;34m(\u001b[0m\u001b[0mfilepath\u001b[0m\u001b[0;34m,\u001b[0m \u001b[0mmode\u001b[0m\u001b[0;34m=\u001b[0m\u001b[0;34m'r'\u001b[0m\u001b[0;34m)\u001b[0m \u001b[0;32mas\u001b[0m \u001b[0mf\u001b[0m\u001b[0;34m:\u001b[0m\u001b[0;34m\u001b[0m\u001b[0m\n\u001b[0m\u001b[1;32m    234\u001b[0m         \u001b[0;31m# instantiate model\u001b[0m\u001b[0;34m\u001b[0m\u001b[0;34m\u001b[0m\u001b[0m\n\u001b[1;32m    235\u001b[0m         \u001b[0mmodel_config\u001b[0m \u001b[0;34m=\u001b[0m \u001b[0mf\u001b[0m\u001b[0;34m.\u001b[0m\u001b[0mattrs\u001b[0m\u001b[0;34m.\u001b[0m\u001b[0mget\u001b[0m\u001b[0;34m(\u001b[0m\u001b[0;34m'model_config'\u001b[0m\u001b[0;34m)\u001b[0m\u001b[0;34m\u001b[0m\u001b[0m\n",
      "\u001b[0;32m/usr/lib64/python2.7/dist-packages/h5py/_hl/files.pyc\u001b[0m in \u001b[0;36m__init__\u001b[0;34m(self, name, mode, driver, libver, userblock_size, swmr, **kwds)\u001b[0m\n\u001b[1;32m    267\u001b[0m             \u001b[0;32mwith\u001b[0m \u001b[0mphil\u001b[0m\u001b[0;34m:\u001b[0m\u001b[0;34m\u001b[0m\u001b[0m\n\u001b[1;32m    268\u001b[0m                 \u001b[0mfapl\u001b[0m \u001b[0;34m=\u001b[0m \u001b[0mmake_fapl\u001b[0m\u001b[0;34m(\u001b[0m\u001b[0mdriver\u001b[0m\u001b[0;34m,\u001b[0m \u001b[0mlibver\u001b[0m\u001b[0;34m,\u001b[0m \u001b[0;34m**\u001b[0m\u001b[0mkwds\u001b[0m\u001b[0;34m)\u001b[0m\u001b[0;34m\u001b[0m\u001b[0m\n\u001b[0;32m--> 269\u001b[0;31m                 \u001b[0mfid\u001b[0m \u001b[0;34m=\u001b[0m \u001b[0mmake_fid\u001b[0m\u001b[0;34m(\u001b[0m\u001b[0mname\u001b[0m\u001b[0;34m,\u001b[0m \u001b[0mmode\u001b[0m\u001b[0;34m,\u001b[0m \u001b[0muserblock_size\u001b[0m\u001b[0;34m,\u001b[0m \u001b[0mfapl\u001b[0m\u001b[0;34m,\u001b[0m \u001b[0mswmr\u001b[0m\u001b[0;34m=\u001b[0m\u001b[0mswmr\u001b[0m\u001b[0;34m)\u001b[0m\u001b[0;34m\u001b[0m\u001b[0m\n\u001b[0m\u001b[1;32m    270\u001b[0m \u001b[0;34m\u001b[0m\u001b[0m\n\u001b[1;32m    271\u001b[0m                 \u001b[0;32mif\u001b[0m \u001b[0mswmr_support\u001b[0m\u001b[0;34m:\u001b[0m\u001b[0;34m\u001b[0m\u001b[0m\n",
      "\u001b[0;32m/usr/lib64/python2.7/dist-packages/h5py/_hl/files.pyc\u001b[0m in \u001b[0;36mmake_fid\u001b[0;34m(name, mode, userblock_size, fapl, fcpl, swmr)\u001b[0m\n\u001b[1;32m     97\u001b[0m         \u001b[0;32mif\u001b[0m \u001b[0mswmr\u001b[0m \u001b[0;32mand\u001b[0m \u001b[0mswmr_support\u001b[0m\u001b[0;34m:\u001b[0m\u001b[0;34m\u001b[0m\u001b[0m\n\u001b[1;32m     98\u001b[0m             \u001b[0mflags\u001b[0m \u001b[0;34m|=\u001b[0m \u001b[0mh5f\u001b[0m\u001b[0;34m.\u001b[0m\u001b[0mACC_SWMR_READ\u001b[0m\u001b[0;34m\u001b[0m\u001b[0m\n\u001b[0;32m---> 99\u001b[0;31m         \u001b[0mfid\u001b[0m \u001b[0;34m=\u001b[0m \u001b[0mh5f\u001b[0m\u001b[0;34m.\u001b[0m\u001b[0mopen\u001b[0m\u001b[0;34m(\u001b[0m\u001b[0mname\u001b[0m\u001b[0;34m,\u001b[0m \u001b[0mflags\u001b[0m\u001b[0;34m,\u001b[0m \u001b[0mfapl\u001b[0m\u001b[0;34m=\u001b[0m\u001b[0mfapl\u001b[0m\u001b[0;34m)\u001b[0m\u001b[0;34m\u001b[0m\u001b[0m\n\u001b[0m\u001b[1;32m    100\u001b[0m     \u001b[0;32melif\u001b[0m \u001b[0mmode\u001b[0m \u001b[0;34m==\u001b[0m \u001b[0;34m'r+'\u001b[0m\u001b[0;34m:\u001b[0m\u001b[0;34m\u001b[0m\u001b[0m\n\u001b[1;32m    101\u001b[0m         \u001b[0mfid\u001b[0m \u001b[0;34m=\u001b[0m \u001b[0mh5f\u001b[0m\u001b[0;34m.\u001b[0m\u001b[0mopen\u001b[0m\u001b[0;34m(\u001b[0m\u001b[0mname\u001b[0m\u001b[0;34m,\u001b[0m \u001b[0mh5f\u001b[0m\u001b[0;34m.\u001b[0m\u001b[0mACC_RDWR\u001b[0m\u001b[0;34m,\u001b[0m \u001b[0mfapl\u001b[0m\u001b[0;34m=\u001b[0m\u001b[0mfapl\u001b[0m\u001b[0;34m)\u001b[0m\u001b[0;34m\u001b[0m\u001b[0m\n",
      "\u001b[0;32mh5py/_objects.pyx\u001b[0m in \u001b[0;36mh5py._objects.with_phil.wrapper\u001b[0;34m()\u001b[0m\n",
      "\u001b[0;32mh5py/_objects.pyx\u001b[0m in \u001b[0;36mh5py._objects.with_phil.wrapper\u001b[0;34m()\u001b[0m\n",
      "\u001b[0;32mh5py/h5f.pyx\u001b[0m in \u001b[0;36mh5py.h5f.open\u001b[0;34m()\u001b[0m\n",
      "\u001b[0;31mIOError\u001b[0m: Unable to open file (unable to open file: name = 'FULLMODEL_6_hidden_LAYERS.h5', errno = 2, error message = 'No such file or directory', flags = 0, o_flags = 0)"
     ]
    }
   ],
   "source": [
    "convnet_mo_elu = load_model(\"FULLMODEL_6_hidden_LAYERS.h5\", custom_objects={\"r2\":r2})"
   ]
  },
  {
   "cell_type": "code",
   "execution_count": 41,
   "metadata": {},
   "outputs": [
    {
     "name": "stderr",
     "output_type": "stream",
     "text": [
      "/usr/lib/python2.7/dist-packages/ipykernel_launcher.py:39: UserWarning: Update your `Model` call to the Keras 2 API: `Model(outputs=[<tf.Tenso..., inputs=Tensor(\"in...)`\n"
     ]
    }
   ],
   "source": [
    "#covnet_mo_elu = load_model(\"FULLMODEL_10LAYERS_COVNET.h5\", custom_objects={\"r2\":r2})\n",
    "\n",
    "input_1 = Input(shape = (40, 50, 1))\n",
    "\n",
    "layer1 = Conv2D(32, (3, 3), activation='elu')(input_1)\n",
    "layer2 = Conv2D(32, (3, 3), activation='elu')(layer1)\n",
    "layer3 = MaxPooling2D(pool_size=(2,2))(layer2)\n",
    "\n",
    "layer4 = Conv2D(64, (3, 3), activation='elu')(layer3)\n",
    "layer5 = Conv2D(64, (3, 3), activation='elu')(layer4)\n",
    "layer6 = MaxPooling2D(pool_size=(2,2))(layer5)\n",
    "\n",
    "layer4 = Conv2D(128, (3, 3), activation='elu')(layer3)\n",
    "layer5 = Conv2D(128, (3, 3), activation='elu')(layer4)\n",
    "layer6 = MaxPooling2D(pool_size=(2,2))(layer5)\n",
    "\n",
    "flatten = Flatten()(layer6)\n",
    "\n",
    "output1_layer1 = Dense(32, activation='elu')(flatten)\n",
    "output1_layer2 = Dense(16, activation='elu')(output1_layer1)\n",
    "output1 = Dense(1, name=\"sigma\")(output1_layer2)\n",
    "\n",
    "output2_layer1 = Dense(32, activation='elu')(flatten)\n",
    "output2_layer2 = Dense(16, activation='elu')(output2_layer1)\n",
    "output2 = Dense(1, name=\"mu\")(output2_layer2)\n",
    "\n",
    "output3_layer1 = Dense(32, activation='elu')(flatten)\n",
    "output3_layer2 = Dense(16, activation='elu')(output3_layer1)\n",
    "output3 = Dense(1, name=\"jump_sigma\")(output3_layer2)\n",
    "\n",
    "output4_layer1 = Dense(32, activation='elu')(flatten)\n",
    "output4_layer2 = Dense(16, activation='elu')(output4_layer1)\n",
    "output4 = Dense(1, name=\"jump_mu\")(output4_layer2)\n",
    "\n",
    "output5_layer1 = Dense(32, activation='elu')(flatten)\n",
    "output5_layer2 = Dense(16, activation='elu')(output5_layer1)\n",
    "output5 = Dense(1, name=\"lambda\")(output5_layer2)\n",
    "\n",
    "convnet_mo_elu = Model(input = input_1, output=[output1, output2, output3, output4, output5])\n",
    "convnet_mo_elu.compile('adam', 'mean_squared_error', metrics=['mean_absolute_percentage_error', r2])"
   ]
  },
  {
   "cell_type": "code",
   "execution_count": 20,
   "metadata": {
    "collapsed": true
   },
   "outputs": [],
   "source": [
    "#covnet_mo_elu = covnet_multiple_ELUs_10_layers()\n",
    "#covnet_mo_elu.load_weights(\"RELAXED_ELU_COVNET.h5\")"
   ]
  },
  {
   "cell_type": "code",
   "execution_count": 21,
   "metadata": {
    "collapsed": true
   },
   "outputs": [],
   "source": [
    "#covnet_mo_elu.save(H5_DIR_COVNET_MULTIPLE_ELU)"
   ]
  },
  {
   "cell_type": "code",
   "execution_count": 17,
   "metadata": {},
   "outputs": [
    {
     "name": "stdout",
     "output_type": "stream",
     "text": [
      "0\n",
      "100\n",
      "200\n",
      "300\n",
      "400\n",
      "500\n",
      "600\n",
      "700\n",
      "800\n",
      "900\n"
     ]
    }
   ],
   "source": [
    "test_set_pred = standard_convolutional_test_set()"
   ]
  },
  {
   "cell_type": "code",
   "execution_count": 52,
   "metadata": {
    "collapsed": true
   },
   "outputs": [],
   "source": [
    "train_gen = convolutional_batch_generator(paramset_size=1750, paths_p_paramset=1, constraint_gbm_mu=(-0.5, 0.5))"
   ]
  },
  {
   "cell_type": "code",
   "execution_count": 42,
   "metadata": {
    "collapsed": true
   },
   "outputs": [],
   "source": [
    "histories_elu = []#np.load(\"SIMPLE_histories_elu_6_hidden_LAYERS.npy\").tolist()\n",
    "covnet_mo_elu_predictions = []# np.load(\"SIMPLE_mo_elu_predictions_6_hidden_LAYERS.npy\").tolist()"
   ]
  },
  {
   "cell_type": "code",
   "execution_count": 39,
   "metadata": {
    "collapsed": true
   },
   "outputs": [],
   "source": [
    "smallest_loss = 20"
   ]
  },
  {
   "cell_type": "code",
   "execution_count": null,
   "metadata": {
    "scrolled": true
   },
   "outputs": [
    {
     "name": "stderr",
     "output_type": "stream",
     "text": [
      "/usr/lib/python2.7/dist-packages/ipykernel_launcher.py:2: UserWarning: The semantics of the Keras 2 argument `steps_per_epoch` is not the same as the Keras 1 argument `samples_per_epoch`. `steps_per_epoch` is the number of batches to draw from the generator at each epoch. Basically steps_per_epoch = samples_per_epoch/batch_size. Similarly `nb_val_samples`->`validation_steps` and `val_samples`->`steps` arguments have changed. Update your method calls accordingly.\n",
      "  \n",
      "/usr/lib/python2.7/dist-packages/ipykernel_launcher.py:2: UserWarning: Update your `fit_generator` call to the Keras 2 API: `fit_generator(<generator..., epochs=1, steps_per_epoch=10)`\n",
      "  \n"
     ]
    },
    {
     "name": "stdout",
     "output_type": "stream",
     "text": [
      "Epoch 1/1\n",
      "10/10 [==============================] - 135s - loss: 0.0139 - sigma_loss: 1.2166e-04 - mu_loss: 0.0035 - jump_sigma_loss: 0.0029 - jump_mu_loss: 0.0073 - lambda_loss: 4.5955e-05 - sigma_mean_absolute_percentage_error: 21.1051 - sigma_r2: 0.9632 - mu_mean_absolute_percentage_error: 101.7523 - mu_r2: 0.9584 - jump_sigma_mean_absolute_percentage_error: 178.6135 - jump_sigma_r2: 0.1273 - jump_mu_mean_absolute_percentage_error: 132.7918 - jump_mu_r2: 0.9131 - lambda_mean_absolute_percentage_error: 105.5221 - lambda_r2: 0.1059    \n",
      "SAVE\n",
      "[master bc54140] updated history, predictions and model\n",
      " 4 files changed, 3 insertions(+), 3 deletions(-)\n",
      "Branch master set up to track remote branch master from origin.\n",
      "Epoch 1/1\n",
      "10/10 [==============================] - 136s - loss: 0.0135 - sigma_loss: 9.8040e-05 - mu_loss: 0.0034 - jump_sigma_loss: 0.0029 - jump_mu_loss: 0.0071 - lambda_loss: 4.6092e-05 - sigma_mean_absolute_percentage_error: 17.5162 - sigma_r2: 0.9702 - mu_mean_absolute_percentage_error: 149.9190 - mu_r2: 0.9594 - jump_sigma_mean_absolute_percentage_error: 178.2239 - jump_sigma_r2: 0.1299 - jump_mu_mean_absolute_percentage_error: 103.3370 - jump_mu_r2: 0.9148 - lambda_mean_absolute_percentage_error: 95.9816 - lambda_r2: 0.1057   \n",
      "SAVE\n",
      "Epoch 1/1\n",
      "10/10 [==============================] - 135s - loss: 0.0133 - sigma_loss: 1.0124e-04 - mu_loss: 0.0034 - jump_sigma_loss: 0.0028 - jump_mu_loss: 0.0070 - lambda_loss: 4.5195e-05 - sigma_mean_absolute_percentage_error: 19.9740 - sigma_r2: 0.9690 - mu_mean_absolute_percentage_error: 76.6672 - mu_r2: 0.9594 - jump_sigma_mean_absolute_percentage_error: 182.9582 - jump_sigma_r2: 0.1430 - jump_mu_mean_absolute_percentage_error: 88.2944 - jump_mu_r2: 0.9161 - lambda_mean_absolute_percentage_error: 100.3988 - lambda_r2: 0.1262   \n",
      "SAVE\n",
      "Epoch 1/1\n",
      "10/10 [==============================] - 134s - loss: 0.0136 - sigma_loss: 1.1211e-04 - mu_loss: 0.0033 - jump_sigma_loss: 0.0029 - jump_mu_loss: 0.0073 - lambda_loss: 4.6332e-05 - sigma_mean_absolute_percentage_error: 20.6298 - sigma_r2: 0.9666 - mu_mean_absolute_percentage_error: 80.3064 - mu_r2: 0.9606 - jump_sigma_mean_absolute_percentage_error: 173.4177 - jump_sigma_r2: 0.1424 - jump_mu_mean_absolute_percentage_error: 1142.9155 - jump_mu_r2: 0.9115 - lambda_mean_absolute_percentage_error: 103.0819 - lambda_r2: 0.1105    \n",
      "Epoch 1/1\n",
      "10/10 [==============================] - 135s - loss: 0.0135 - sigma_loss: 9.5522e-05 - mu_loss: 0.0034 - jump_sigma_loss: 0.0028 - jump_mu_loss: 0.0071 - lambda_loss: 5.1340e-05 - sigma_mean_absolute_percentage_error: 18.1539 - sigma_r2: 0.9711 - mu_mean_absolute_percentage_error: 104.8831 - mu_r2: 0.9595 - jump_sigma_mean_absolute_percentage_error: 184.0247 - jump_sigma_r2: 0.1497 - jump_mu_mean_absolute_percentage_error: 127.5919 - jump_mu_r2: 0.9143 - lambda_mean_absolute_percentage_error: 110.2895 - lambda_r2: 0.0050     \n",
      "Epoch 1/1\n",
      "10/10 [==============================] - 135s - loss: 0.0134 - sigma_loss: 9.8539e-05 - mu_loss: 0.0035 - jump_sigma_loss: 0.0028 - jump_mu_loss: 0.0070 - lambda_loss: 5.1993e-05 - sigma_mean_absolute_percentage_error: 20.1881 - sigma_r2: 0.9702 - mu_mean_absolute_percentage_error: 99.4130 - mu_r2: 0.9582 - jump_sigma_mean_absolute_percentage_error: 170.7391 - jump_sigma_r2: 0.1563 - jump_mu_mean_absolute_percentage_error: 110.3872 - jump_mu_r2: 0.9159 - lambda_mean_absolute_percentage_error: 104.2191 - lambda_r2: -0.0049    \n",
      "[master cc07026] updated history, predictions and model\n",
      " 4 files changed, 17 insertions(+), 1 deletion(-)\n",
      "Branch master set up to track remote branch master from origin.\n",
      "Epoch 1/1\n",
      "10/10 [==============================] - 135s - loss: 0.0133 - sigma_loss: 9.3931e-05 - mu_loss: 0.0033 - jump_sigma_loss: 0.0028 - jump_mu_loss: 0.0070 - lambda_loss: 4.7201e-05 - sigma_mean_absolute_percentage_error: 19.6734 - sigma_r2: 0.9715 - mu_mean_absolute_percentage_error: 86.9461 - mu_r2: 0.9603 - jump_sigma_mean_absolute_percentage_error: 176.4920 - jump_sigma_r2: 0.1599 - jump_mu_mean_absolute_percentage_error: 91.9690 - jump_mu_r2: 0.9170 - lambda_mean_absolute_percentage_error: 100.5665 - lambda_r2: 0.0834    \n",
      "SAVE\n",
      "Epoch 1/1\n",
      "10/10 [==============================] - 136s - loss: 0.0133 - sigma_loss: 9.5066e-05 - mu_loss: 0.0034 - jump_sigma_loss: 0.0028 - jump_mu_loss: 0.0070 - lambda_loss: 4.2639e-05 - sigma_mean_absolute_percentage_error: 17.9370 - sigma_r2: 0.9710 - mu_mean_absolute_percentage_error: 99.7707 - mu_r2: 0.9597 - jump_sigma_mean_absolute_percentage_error: 173.7814 - jump_sigma_r2: 0.1662 - jump_mu_mean_absolute_percentage_error: 122.1582 - jump_mu_r2: 0.9166 - lambda_mean_absolute_percentage_error: 96.1877 - lambda_r2: 0.1817    \n",
      "SAVE\n",
      "Epoch 1/1\n",
      "10/10 [==============================] - 136s - loss: 0.0130 - sigma_loss: 8.3164e-05 - mu_loss: 0.0033 - jump_sigma_loss: 0.0028 - jump_mu_loss: 0.0068 - lambda_loss: 4.2119e-05 - sigma_mean_absolute_percentage_error: 16.4801 - sigma_r2: 0.9748 - mu_mean_absolute_percentage_error: 72.2062 - mu_r2: 0.9600 - jump_sigma_mean_absolute_percentage_error: 170.2195 - jump_sigma_r2: 0.1695 - jump_mu_mean_absolute_percentage_error: 81.9463 - jump_mu_r2: 0.9184 - lambda_mean_absolute_percentage_error: 96.7635 - lambda_r2: 0.1840    \n",
      "SAVE\n",
      "Epoch 1/1\n",
      "10/10 [==============================] - 135s - loss: 0.0137 - sigma_loss: 8.9226e-05 - mu_loss: 0.0036 - jump_sigma_loss: 0.0027 - jump_mu_loss: 0.0072 - lambda_loss: 4.4497e-05 - sigma_mean_absolute_percentage_error: 16.6641 - sigma_r2: 0.9732 - mu_mean_absolute_percentage_error: 97.7398 - mu_r2: 0.9564 - jump_sigma_mean_absolute_percentage_error: 171.4222 - jump_sigma_r2: 0.1701 - jump_mu_mean_absolute_percentage_error: 119.5237 - jump_mu_r2: 0.9129 - lambda_mean_absolute_percentage_error: 101.2565 - lambda_r2: 0.1367    \n",
      "Epoch 1/1\n",
      "10/10 [==============================] - 135s - loss: 0.0131 - sigma_loss: 8.6383e-05 - mu_loss: 0.0037 - jump_sigma_loss: 0.0027 - jump_mu_loss: 0.0066 - lambda_loss: 5.3134e-05 - sigma_mean_absolute_percentage_error: 18.7619 - sigma_r2: 0.9738 - mu_mean_absolute_percentage_error: 127.1310 - mu_r2: 0.9559 - jump_sigma_mean_absolute_percentage_error: 174.5762 - jump_sigma_r2: 0.1759 - jump_mu_mean_absolute_percentage_error: 106.3329 - jump_mu_r2: 0.9207 - lambda_mean_absolute_percentage_error: 101.7584 - lambda_r2: -0.0263    \n",
      "[master dbac308] updated history, predictions and model\n",
      " 4 files changed, 17 insertions(+), 1 deletion(-)\n",
      "Branch master set up to track remote branch master from origin.\n",
      "Epoch 1/1\n",
      "10/10 [==============================] - 136s - loss: 0.0132 - sigma_loss: 1.0025e-04 - mu_loss: 0.0034 - jump_sigma_loss: 0.0027 - jump_mu_loss: 0.0070 - lambda_loss: 4.5468e-05 - sigma_mean_absolute_percentage_error: 20.4378 - sigma_r2: 0.9697 - mu_mean_absolute_percentage_error: 104.9422 - mu_r2: 0.9597 - jump_sigma_mean_absolute_percentage_error: 176.1726 - jump_sigma_r2: 0.1740 - jump_mu_mean_absolute_percentage_error: 83.0150 - jump_mu_r2: 0.9159 - lambda_mean_absolute_percentage_error: 104.7918 - lambda_r2: 0.1089    \n",
      "Epoch 1/1\n",
      "10/10 [==============================] - 137s - loss: 0.0129 - sigma_loss: 8.5257e-05 - mu_loss: 0.0033 - jump_sigma_loss: 0.0028 - jump_mu_loss: 0.0068 - lambda_loss: 4.4241e-05 - sigma_mean_absolute_percentage_error: 16.0915 - sigma_r2: 0.9742 - mu_mean_absolute_percentage_error: 125.1980 - mu_r2: 0.9610 - jump_sigma_mean_absolute_percentage_error: 165.0787 - jump_sigma_r2: 0.1607 - jump_mu_mean_absolute_percentage_error: 93.2043 - jump_mu_r2: 0.9189 - lambda_mean_absolute_percentage_error: 97.5089 - lambda_r2: 0.1489    \n",
      "SAVE\n",
      "Epoch 1/1\n",
      "10/10 [==============================] - 136s - loss: 0.0131 - sigma_loss: 8.2743e-05 - mu_loss: 0.0035 - jump_sigma_loss: 0.0028 - jump_mu_loss: 0.0068 - lambda_loss: 4.3812e-05 - sigma_mean_absolute_percentage_error: 18.8182 - sigma_r2: 0.9751 - mu_mean_absolute_percentage_error: 89.6754 - mu_r2: 0.9579 - jump_sigma_mean_absolute_percentage_error: 169.6768 - jump_sigma_r2: 0.1685 - jump_mu_mean_absolute_percentage_error: 88.6405 - jump_mu_r2: 0.9181 - lambda_mean_absolute_percentage_error: 100.3299 - lambda_r2: 0.1493    \n",
      "Epoch 1/1\n"
     ]
    },
    {
     "name": "stdout",
     "output_type": "stream",
     "text": [
      "10/10 [==============================] - 137s - loss: 0.0125 - sigma_loss: 8.0327e-05 - mu_loss: 0.0033 - jump_sigma_loss: 0.0026 - jump_mu_loss: 0.0064 - lambda_loss: 3.9214e-05 - sigma_mean_absolute_percentage_error: 16.8791 - sigma_r2: 0.9753 - mu_mean_absolute_percentage_error: 409.3439 - mu_r2: 0.9602 - jump_sigma_mean_absolute_percentage_error: 165.6989 - jump_sigma_r2: 0.1889 - jump_mu_mean_absolute_percentage_error: 80.4612 - jump_mu_r2: 0.9234 - lambda_mean_absolute_percentage_error: 92.2146 - lambda_r2: 0.2359    \n",
      "SAVE\n",
      "Epoch 1/1\n",
      "10/10 [==============================] - 136s - loss: 0.0125 - sigma_loss: 8.6204e-05 - mu_loss: 0.0032 - jump_sigma_loss: 0.0027 - jump_mu_loss: 0.0065 - lambda_loss: 3.8615e-05 - sigma_mean_absolute_percentage_error: 17.9318 - sigma_r2: 0.9738 - mu_mean_absolute_percentage_error: 151.2248 - mu_r2: 0.9615 - jump_sigma_mean_absolute_percentage_error: 167.1943 - jump_sigma_r2: 0.1918 - jump_mu_mean_absolute_percentage_error: 421.5596 - jump_mu_r2: 0.9219 - lambda_mean_absolute_percentage_error: 95.5969 - lambda_r2: 0.2559    \n",
      "[master e9cafcb] updated history, predictions and model\n",
      " 4 files changed, 22 insertions(+), 1 deletion(-)\n",
      "Branch master set up to track remote branch master from origin.\n",
      "Epoch 1/1\n",
      "10/10 [==============================] - 137s - loss: 0.0127 - sigma_loss: 9.7193e-05 - mu_loss: 0.0033 - jump_sigma_loss: 0.0027 - jump_mu_loss: 0.0065 - lambda_loss: 5.1236e-05 - sigma_mean_absolute_percentage_error: 19.1633 - sigma_r2: 0.9707 - mu_mean_absolute_percentage_error: 241.7549 - mu_r2: 0.9597 - jump_sigma_mean_absolute_percentage_error: 168.5188 - jump_sigma_r2: 0.1878 - jump_mu_mean_absolute_percentage_error: 87.6649 - jump_mu_r2: 0.9219 - lambda_mean_absolute_percentage_error: 104.6700 - lambda_r2: 0.0130     \n",
      "Epoch 1/1\n",
      "10/10 [==============================] - 138s - loss: 0.0125 - sigma_loss: 8.6396e-05 - mu_loss: 0.0033 - jump_sigma_loss: 0.0026 - jump_mu_loss: 0.0064 - lambda_loss: 5.7721e-05 - sigma_mean_absolute_percentage_error: 18.3948 - sigma_r2: 0.9742 - mu_mean_absolute_percentage_error: 79.8646 - mu_r2: 0.9602 - jump_sigma_mean_absolute_percentage_error: 172.5866 - jump_sigma_r2: 0.2124 - jump_mu_mean_absolute_percentage_error: 148.1765 - jump_mu_r2: 0.9234 - lambda_mean_absolute_percentage_error: 99.9464 - lambda_r2: -0.1020     \n",
      "SAVE\n",
      "Epoch 1/1\n",
      "10/10 [==============================] - 136s - loss: 0.0127 - sigma_loss: 9.3857e-05 - mu_loss: 0.0036 - jump_sigma_loss: 0.0026 - jump_mu_loss: 0.0063 - lambda_loss: 4.9953e-05 - sigma_mean_absolute_percentage_error: 18.9709 - sigma_r2: 0.9717 - mu_mean_absolute_percentage_error: 86.2389 - mu_r2: 0.9570 - jump_sigma_mean_absolute_percentage_error: 168.3900 - jump_sigma_r2: 0.2020 - jump_mu_mean_absolute_percentage_error: 136.9139 - jump_mu_r2: 0.9238 - lambda_mean_absolute_percentage_error: 99.6062 - lambda_r2: 0.0379    \n",
      "Epoch 1/1\n",
      "10/10 [==============================] - 137s - loss: 0.0127 - sigma_loss: 8.3125e-05 - mu_loss: 0.0033 - jump_sigma_loss: 0.0026 - jump_mu_loss: 0.0066 - lambda_loss: 3.9333e-05 - sigma_mean_absolute_percentage_error: 17.5842 - sigma_r2: 0.9746 - mu_mean_absolute_percentage_error: 132.4380 - mu_r2: 0.9593 - jump_sigma_mean_absolute_percentage_error: 174.1542 - jump_sigma_r2: 0.2187 - jump_mu_mean_absolute_percentage_error: 84.1035 - jump_mu_r2: 0.9205 - lambda_mean_absolute_percentage_error: 94.6109 - lambda_r2: 0.2364    \n",
      "Epoch 1/1\n",
      "10/10 [==============================] - 134s - loss: 0.0123 - sigma_loss: 8.0384e-05 - mu_loss: 0.0032 - jump_sigma_loss: 0.0026 - jump_mu_loss: 0.0063 - lambda_loss: 4.1127e-05 - sigma_mean_absolute_percentage_error: 17.3579 - sigma_r2: 0.9756 - mu_mean_absolute_percentage_error: 73.6205 - mu_r2: 0.9615 - jump_sigma_mean_absolute_percentage_error: 172.5079 - jump_sigma_r2: 0.2077 - jump_mu_mean_absolute_percentage_error: 317.1671 - jump_mu_r2: 0.9241 - lambda_mean_absolute_percentage_error: 94.7482 - lambda_r2: 0.1991    \n",
      "SAVE\n",
      "[master 6b3b0e3] updated history, predictions and model\n",
      " 4 files changed, 15 insertions(+), 1 deletion(-)\n",
      "Branch master set up to track remote branch master from origin.\n",
      "Epoch 1/1\n",
      "10/10 [==============================] - 136s - loss: 0.0124 - sigma_loss: 7.3607e-05 - mu_loss: 0.0032 - jump_sigma_loss: 0.0026 - jump_mu_loss: 0.0064 - lambda_loss: 3.9299e-05 - sigma_mean_absolute_percentage_error: 16.2989 - sigma_r2: 0.9779 - mu_mean_absolute_percentage_error: 89.8029 - mu_r2: 0.9616 - jump_sigma_mean_absolute_percentage_error: 171.3920 - jump_sigma_r2: 0.2005 - jump_mu_mean_absolute_percentage_error: 97.1146 - jump_mu_r2: 0.9223 - lambda_mean_absolute_percentage_error: 93.3953 - lambda_r2: 0.2411    \n",
      "Epoch 1/1\n",
      "10/10 [==============================] - 136s - loss: 0.0126 - sigma_loss: 9.3668e-05 - mu_loss: 0.0036 - jump_sigma_loss: 0.0026 - jump_mu_loss: 0.0062 - lambda_loss: 4.3755e-05 - sigma_mean_absolute_percentage_error: 20.3254 - sigma_r2: 0.9718 - mu_mean_absolute_percentage_error: 102.2799 - mu_r2: 0.9562 - jump_sigma_mean_absolute_percentage_error: 159.3876 - jump_sigma_r2: 0.2021 - jump_mu_mean_absolute_percentage_error: 98.1612 - jump_mu_r2: 0.9255 - lambda_mean_absolute_percentage_error: 102.0971 - lambda_r2: 0.1555  \n",
      "Epoch 1/1\n",
      "10/10 [==============================] - 136s - loss: 0.0127 - sigma_loss: 9.3503e-05 - mu_loss: 0.0035 - jump_sigma_loss: 0.0027 - jump_mu_loss: 0.0064 - lambda_loss: 5.4167e-05 - sigma_mean_absolute_percentage_error: 19.1653 - sigma_r2: 0.9714 - mu_mean_absolute_percentage_error: 100.7307 - mu_r2: 0.9585 - jump_sigma_mean_absolute_percentage_error: 165.3127 - jump_sigma_r2: 0.1910 - jump_mu_mean_absolute_percentage_error: 252.7644 - jump_mu_r2: 0.9231 - lambda_mean_absolute_percentage_error: 103.0334 - lambda_r2: -0.0395    \n",
      "Epoch 1/1\n",
      "10/10 [==============================] - 136s - loss: 0.0126 - sigma_loss: 7.5228e-05 - mu_loss: 0.0033 - jump_sigma_loss: 0.0026 - jump_mu_loss: 0.0065 - lambda_loss: 4.0296e-05 - sigma_mean_absolute_percentage_error: 16.0469 - sigma_r2: 0.9772 - mu_mean_absolute_percentage_error: 74.5096 - mu_r2: 0.9603 - jump_sigma_mean_absolute_percentage_error: 164.4908 - jump_sigma_r2: 0.1949 - jump_mu_mean_absolute_percentage_error: 116.1376 - jump_mu_r2: 0.9214 - lambda_mean_absolute_percentage_error: 91.5582 - lambda_r2: 0.2211    \n",
      "Epoch 1/1\n",
      "10/10 [==============================] - 134s - loss: 0.0125 - sigma_loss: 7.3606e-05 - mu_loss: 0.0035 - jump_sigma_loss: 0.0026 - jump_mu_loss: 0.0063 - lambda_loss: 3.5789e-05 - sigma_mean_absolute_percentage_error: 16.2237 - sigma_r2: 0.9775 - mu_mean_absolute_percentage_error: 82.0173 - mu_r2: 0.9578 - jump_sigma_mean_absolute_percentage_error: 166.6524 - jump_sigma_r2: 0.2209 - jump_mu_mean_absolute_percentage_error: 84.6818 - jump_mu_r2: 0.9248 - lambda_mean_absolute_percentage_error: 97.3779 - lambda_r2: 0.3051    \n",
      "[master 8cc92c2] updated history, predictions and model\n",
      " 3 files changed, 15 insertions(+), 1 deletion(-)\n",
      "Branch master set up to track remote branch master from origin.\n",
      "Epoch 1/1\n",
      "10/10 [==============================] - 137s - loss: 0.0121 - sigma_loss: 7.3528e-05 - mu_loss: 0.0033 - jump_sigma_loss: 0.0026 - jump_mu_loss: 0.0061 - lambda_loss: 3.8239e-05 - sigma_mean_absolute_percentage_error: 15.7005 - sigma_r2: 0.9777 - mu_mean_absolute_percentage_error: 78.4667 - mu_r2: 0.9601 - jump_sigma_mean_absolute_percentage_error: 170.8798 - jump_sigma_r2: 0.2146 - jump_mu_mean_absolute_percentage_error: 72.1219 - jump_mu_r2: 0.9266 - lambda_mean_absolute_percentage_error: 97.6195 - lambda_r2: 0.2602    \n",
      "SAVE\n",
      "Epoch 1/1\n",
      "10/10 [==============================] - 137s - loss: 0.0122 - sigma_loss: 8.3612e-05 - mu_loss: 0.0036 - jump_sigma_loss: 0.0026 - jump_mu_loss: 0.0059 - lambda_loss: 3.8241e-05 - sigma_mean_absolute_percentage_error: 17.3076 - sigma_r2: 0.9747 - mu_mean_absolute_percentage_error: 96.0784 - mu_r2: 0.9565 - jump_sigma_mean_absolute_percentage_error: 167.3119 - jump_sigma_r2: 0.2257 - jump_mu_mean_absolute_percentage_error: 103.1776 - jump_mu_r2: 0.9287 - lambda_mean_absolute_percentage_error: 86.5829 - lambda_r2: 0.2610   \n",
      "Epoch 1/1\n"
     ]
    },
    {
     "name": "stdout",
     "output_type": "stream",
     "text": [
      "10/10 [==============================] - 137s - loss: 0.0127 - sigma_loss: 8.4577e-05 - mu_loss: 0.0038 - jump_sigma_loss: 0.0026 - jump_mu_loss: 0.0062 - lambda_loss: 4.5858e-05 - sigma_mean_absolute_percentage_error: 18.5231 - sigma_r2: 0.9744 - mu_mean_absolute_percentage_error: 136.9708 - mu_r2: 0.9545 - jump_sigma_mean_absolute_percentage_error: 165.0148 - jump_sigma_r2: 0.2197 - jump_mu_mean_absolute_percentage_error: 120.4236 - jump_mu_r2: 0.9262 - lambda_mean_absolute_percentage_error: 94.1431 - lambda_r2: 0.1085    \n",
      "Epoch 1/1\n",
      "10/10 [==============================] - 136s - loss: 0.0127 - sigma_loss: 7.9031e-05 - mu_loss: 0.0038 - jump_sigma_loss: 0.0026 - jump_mu_loss: 0.0061 - lambda_loss: 3.5915e-05 - sigma_mean_absolute_percentage_error: 17.6332 - sigma_r2: 0.9760 - mu_mean_absolute_percentage_error: 142.7013 - mu_r2: 0.9536 - jump_sigma_mean_absolute_percentage_error: 158.3913 - jump_sigma_r2: 0.2162 - jump_mu_mean_absolute_percentage_error: 133.4705 - jump_mu_r2: 0.9264 - lambda_mean_absolute_percentage_error: 101.0937 - lambda_r2: 0.3068    \n",
      "Epoch 1/1\n",
      "10/10 [==============================] - 134s - loss: 0.0122 - sigma_loss: 8.0072e-05 - mu_loss: 0.0034 - jump_sigma_loss: 0.0026 - jump_mu_loss: 0.0060 - lambda_loss: 4.1353e-05 - sigma_mean_absolute_percentage_error: 17.1817 - sigma_r2: 0.9755 - mu_mean_absolute_percentage_error: 131.1131 - mu_r2: 0.9591 - jump_sigma_mean_absolute_percentage_error: 163.6315 - jump_sigma_r2: 0.2176 - jump_mu_mean_absolute_percentage_error: 141.8795 - jump_mu_r2: 0.9279 - lambda_mean_absolute_percentage_error: 93.6164 - lambda_r2: 0.2058   \n",
      "[master 9909a2b] updated history, predictions and model\n",
      " 4 files changed, 21 insertions(+), 1 deletion(-)\n",
      "Branch master set up to track remote branch master from origin.\n",
      "Epoch 1/1\n",
      "10/10 [==============================] - 137s - loss: 0.0120 - sigma_loss: 7.1875e-05 - mu_loss: 0.0031 - jump_sigma_loss: 0.0025 - jump_mu_loss: 0.0063 - lambda_loss: 3.9269e-05 - sigma_mean_absolute_percentage_error: 16.4445 - sigma_r2: 0.9782 - mu_mean_absolute_percentage_error: 144.9989 - mu_r2: 0.9620 - jump_sigma_mean_absolute_percentage_error: 158.6568 - jump_sigma_r2: 0.2371 - jump_mu_mean_absolute_percentage_error: 105.6530 - jump_mu_r2: 0.9263 - lambda_mean_absolute_percentage_error: 91.1324 - lambda_r2: 0.2359   \n",
      "SAVE\n",
      "Epoch 1/1\n",
      "10/10 [==============================] - 136s - loss: 0.0126 - sigma_loss: 1.1295e-04 - mu_loss: 0.0034 - jump_sigma_loss: 0.0026 - jump_mu_loss: 0.0064 - lambda_loss: 4.0996e-05 - sigma_mean_absolute_percentage_error: 21.2034 - sigma_r2: 0.9657 - mu_mean_absolute_percentage_error: 104.7240 - mu_r2: 0.9592 - jump_sigma_mean_absolute_percentage_error: 164.5329 - jump_sigma_r2: 0.2208 - jump_mu_mean_absolute_percentage_error: 67.6456 - jump_mu_r2: 0.9230 - lambda_mean_absolute_percentage_error: 91.4522 - lambda_r2: 0.2127    \n",
      "Epoch 1/1\n",
      "10/10 [==============================] - 136s - loss: 0.0119 - sigma_loss: 6.9498e-05 - mu_loss: 0.0032 - jump_sigma_loss: 0.0026 - jump_mu_loss: 0.0059 - lambda_loss: 5.7311e-05 - sigma_mean_absolute_percentage_error: 15.1991 - sigma_r2: 0.9788 - mu_mean_absolute_percentage_error: 74.3235 - mu_r2: 0.9616 - jump_sigma_mean_absolute_percentage_error: 170.9169 - jump_sigma_r2: 0.2025 - jump_mu_mean_absolute_percentage_error: 72.3871 - jump_mu_r2: 0.9302 - lambda_mean_absolute_percentage_error: 95.4029 - lambda_r2: -0.1113    \n",
      "SAVE\n",
      "Epoch 1/1\n",
      "10/10 [==============================] - 135s - loss: 0.0118 - sigma_loss: 7.4579e-05 - mu_loss: 0.0031 - jump_sigma_loss: 0.0026 - jump_mu_loss: 0.0060 - lambda_loss: 4.0507e-05 - sigma_mean_absolute_percentage_error: 16.9942 - sigma_r2: 0.9775 - mu_mean_absolute_percentage_error: 85.6678 - mu_r2: 0.9625 - jump_sigma_mean_absolute_percentage_error: 160.6345 - jump_sigma_r2: 0.2228 - jump_mu_mean_absolute_percentage_error: 87.5865 - jump_mu_r2: 0.9288 - lambda_mean_absolute_percentage_error: 91.9052 - lambda_r2: 0.2095    \n",
      "SAVE\n",
      "Epoch 1/1\n",
      "10/10 [==============================] - 135s - loss: 0.0115 - sigma_loss: 6.9738e-05 - mu_loss: 0.0031 - jump_sigma_loss: 0.0026 - jump_mu_loss: 0.0057 - lambda_loss: 4.1038e-05 - sigma_mean_absolute_percentage_error: 15.7027 - sigma_r2: 0.9788 - mu_mean_absolute_percentage_error: 105.1374 - mu_r2: 0.9626 - jump_sigma_mean_absolute_percentage_error: 171.5217 - jump_sigma_r2: 0.2299 - jump_mu_mean_absolute_percentage_error: 83.3004 - jump_mu_r2: 0.9320 - lambda_mean_absolute_percentage_error: 88.7744 - lambda_r2: 0.2037    \n",
      "SAVE\n",
      "[master f1ecdd6] updated history, predictions and model\n",
      " 4 files changed, 17 insertions(+), 1 deletion(-)\n",
      "Branch master set up to track remote branch master from origin.\n",
      "Epoch 1/1\n",
      "10/10 [==============================] - 138s - loss: 0.0118 - sigma_loss: 7.5469e-05 - mu_loss: 0.0033 - jump_sigma_loss: 0.0025 - jump_mu_loss: 0.0059 - lambda_loss: 4.1500e-05 - sigma_mean_absolute_percentage_error: 16.5858 - sigma_r2: 0.9772 - mu_mean_absolute_percentage_error: 101.2514 - mu_r2: 0.9603 - jump_sigma_mean_absolute_percentage_error: 162.7475 - jump_sigma_r2: 0.2409 - jump_mu_mean_absolute_percentage_error: 82.4715 - jump_mu_r2: 0.9303 - lambda_mean_absolute_percentage_error: 101.4944 - lambda_r2: 0.1961    \n",
      "Epoch 1/1\n",
      "10/10 [==============================] - 137s - loss: 0.0129 - sigma_loss: 8.4630e-05 - mu_loss: 0.0041 - jump_sigma_loss: 0.0025 - jump_mu_loss: 0.0061 - lambda_loss: 4.1273e-05 - sigma_mean_absolute_percentage_error: 17.7020 - sigma_r2: 0.9744 - mu_mean_absolute_percentage_error: 88.0128 - mu_r2: 0.9501 - jump_sigma_mean_absolute_percentage_error: 163.9092 - jump_sigma_r2: 0.2398 - jump_mu_mean_absolute_percentage_error: 167.2169 - jump_mu_r2: 0.9261 - lambda_mean_absolute_percentage_error: 96.2181 - lambda_r2: 0.1968    \n",
      "Epoch 1/1\n",
      "10/10 [==============================] - 137s - loss: 0.0124 - sigma_loss: 7.5175e-05 - mu_loss: 0.0037 - jump_sigma_loss: 0.0025 - jump_mu_loss: 0.0060 - lambda_loss: 3.4198e-05 - sigma_mean_absolute_percentage_error: 15.5653 - sigma_r2: 0.9771 - mu_mean_absolute_percentage_error: 94.0201 - mu_r2: 0.9547 - jump_sigma_mean_absolute_percentage_error: 170.2758 - jump_sigma_r2: 0.2312 - jump_mu_mean_absolute_percentage_error: 86.5890 - jump_mu_r2: 0.9280 - lambda_mean_absolute_percentage_error: 81.8108 - lambda_r2: 0.3325    \n",
      "Epoch 1/1\n",
      "10/10 [==============================] - 135s - loss: 0.0122 - sigma_loss: 7.1886e-05 - mu_loss: 0.0036 - jump_sigma_loss: 0.0025 - jump_mu_loss: 0.0060 - lambda_loss: 3.1845e-05 - sigma_mean_absolute_percentage_error: 17.2626 - sigma_r2: 0.9783 - mu_mean_absolute_percentage_error: 101.8494 - mu_r2: 0.9566 - jump_sigma_mean_absolute_percentage_error: 165.6008 - jump_sigma_r2: 0.2349 - jump_mu_mean_absolute_percentage_error: 138.9639 - jump_mu_r2: 0.9277 - lambda_mean_absolute_percentage_error: 87.3780 - lambda_r2: 0.3731    \n",
      "Epoch 1/1\n",
      "10/10 [==============================] - 135s - loss: 0.0114 - sigma_loss: 7.0730e-05 - mu_loss: 0.0032 - jump_sigma_loss: 0.0025 - jump_mu_loss: 0.0057 - lambda_loss: 3.0231e-05 - sigma_mean_absolute_percentage_error: 17.0111 - sigma_r2: 0.9787 - mu_mean_absolute_percentage_error: 105.7962 - mu_r2: 0.9619 - jump_sigma_mean_absolute_percentage_error: 163.6370 - jump_sigma_r2: 0.2393 - jump_mu_mean_absolute_percentage_error: 177.5619 - jump_mu_r2: 0.9320 - lambda_mean_absolute_percentage_error: 90.0519 - lambda_r2: 0.4090    \n",
      "SAVE\n",
      "[master de6ac35] updated history, predictions and model\n",
      " 4 files changed, 15 insertions(+), 1 deletion(-)\n",
      "Branch master set up to track remote branch master from origin.\n",
      "Epoch 1/1\n",
      "10/10 [==============================] - 136s - loss: 0.0122 - sigma_loss: 6.8231e-05 - mu_loss: 0.0033 - jump_sigma_loss: 0.0025 - jump_mu_loss: 0.0062 - lambda_loss: 3.0316e-05 - sigma_mean_absolute_percentage_error: 15.3774 - sigma_r2: 0.9793 - mu_mean_absolute_percentage_error: 214.6872 - mu_r2: 0.9599 - jump_sigma_mean_absolute_percentage_error: 163.3693 - jump_sigma_r2: 0.2290 - jump_mu_mean_absolute_percentage_error: 82.7468 - jump_mu_r2: 0.9255 - lambda_mean_absolute_percentage_error: 88.0847 - lambda_r2: 0.4158    \n",
      "Epoch 1/1\n"
     ]
    },
    {
     "name": "stdout",
     "output_type": "stream",
     "text": [
      "10/10 [==============================] - 137s - loss: 0.0117 - sigma_loss: 6.8273e-05 - mu_loss: 0.0033 - jump_sigma_loss: 0.0025 - jump_mu_loss: 0.0058 - lambda_loss: 3.1128e-05 - sigma_mean_absolute_percentage_error: 16.3624 - sigma_r2: 0.9793 - mu_mean_absolute_percentage_error: 70.9165 - mu_r2: 0.9602 - jump_sigma_mean_absolute_percentage_error: 166.1997 - jump_sigma_r2: 0.2420 - jump_mu_mean_absolute_percentage_error: 107.2483 - jump_mu_r2: 0.9307 - lambda_mean_absolute_percentage_error: 89.4078 - lambda_r2: 0.3955    \n",
      "Epoch 1/1\n",
      "10/10 [==============================] - 136s - loss: 0.0117 - sigma_loss: 6.7284e-05 - mu_loss: 0.0033 - jump_sigma_loss: 0.0026 - jump_mu_loss: 0.0058 - lambda_loss: 2.8802e-05 - sigma_mean_absolute_percentage_error: 15.1822 - sigma_r2: 0.9798 - mu_mean_absolute_percentage_error: 109.0811 - mu_r2: 0.9603 - jump_sigma_mean_absolute_percentage_error: 161.9186 - jump_sigma_r2: 0.2309 - jump_mu_mean_absolute_percentage_error: 80.6473 - jump_mu_r2: 0.9304 - lambda_mean_absolute_percentage_error: 84.6056 - lambda_r2: 0.4466    \n",
      "Epoch 1/1\n",
      "10/10 [==============================] - 136s - loss: 0.0115 - sigma_loss: 7.8774e-05 - mu_loss: 0.0031 - jump_sigma_loss: 0.0025 - jump_mu_loss: 0.0057 - lambda_loss: 3.0512e-05 - sigma_mean_absolute_percentage_error: 15.8429 - sigma_r2: 0.9759 - mu_mean_absolute_percentage_error: 72.1660 - mu_r2: 0.9629 - jump_sigma_mean_absolute_percentage_error: 160.0766 - jump_sigma_r2: 0.2401 - jump_mu_mean_absolute_percentage_error: 83.6280 - jump_mu_r2: 0.9307 - lambda_mean_absolute_percentage_error: 77.3890 - lambda_r2: 0.4088    \n",
      "Epoch 1/1\n",
      "10/10 [==============================] - 134s - loss: 0.0118 - sigma_loss: 6.9107e-05 - mu_loss: 0.0033 - jump_sigma_loss: 0.0025 - jump_mu_loss: 0.0059 - lambda_loss: 3.2639e-05 - sigma_mean_absolute_percentage_error: 15.6912 - sigma_r2: 0.9790 - mu_mean_absolute_percentage_error: 108.2254 - mu_r2: 0.9606 - jump_sigma_mean_absolute_percentage_error: 164.0429 - jump_sigma_r2: 0.2440 - jump_mu_mean_absolute_percentage_error: 99.9226 - jump_mu_r2: 0.9281 - lambda_mean_absolute_percentage_error: 95.2747 - lambda_r2: 0.3798    \n",
      "[master 65bb220] updated history, predictions and model\n",
      " 3 files changed, 21 insertions(+), 1 deletion(-)\n",
      "Branch master set up to track remote branch master from origin.\n",
      "Epoch 1/1\n",
      "10/10 [==============================] - 138s - loss: 0.0121 - sigma_loss: 7.5899e-05 - mu_loss: 0.0041 - jump_sigma_loss: 0.0025 - jump_mu_loss: 0.0054 - lambda_loss: 3.3348e-05 - sigma_mean_absolute_percentage_error: 17.5287 - sigma_r2: 0.9771 - mu_mean_absolute_percentage_error: 147.0613 - mu_r2: 0.9509 - jump_sigma_mean_absolute_percentage_error: 165.2856 - jump_sigma_r2: 0.2414 - jump_mu_mean_absolute_percentage_error: 85.8839 - jump_mu_r2: 0.9345 - lambda_mean_absolute_percentage_error: 89.0862 - lambda_r2: 0.3492   \n",
      "Epoch 1/1\n",
      "10/10 [==============================] - 138s - loss: 0.0122 - sigma_loss: 8.7856e-05 - mu_loss: 0.0036 - jump_sigma_loss: 0.0025 - jump_mu_loss: 0.0059 - lambda_loss: 4.2194e-05 - sigma_mean_absolute_percentage_error: 18.0989 - sigma_r2: 0.9734 - mu_mean_absolute_percentage_error: 96.9388 - mu_r2: 0.9567 - jump_sigma_mean_absolute_percentage_error: 163.3785 - jump_sigma_r2: 0.2346 - jump_mu_mean_absolute_percentage_error: 143.9382 - jump_mu_r2: 0.9289 - lambda_mean_absolute_percentage_error: 89.9811 - lambda_r2: 0.1783     \n",
      "Epoch 1/1\n",
      "10/10 [==============================] - 137s - loss: 0.0119 - sigma_loss: 7.3460e-05 - mu_loss: 0.0033 - jump_sigma_loss: 0.0025 - jump_mu_loss: 0.0060 - lambda_loss: 3.3927e-05 - sigma_mean_absolute_percentage_error: 15.8571 - sigma_r2: 0.9779 - mu_mean_absolute_percentage_error: 144.9887 - mu_r2: 0.9603 - jump_sigma_mean_absolute_percentage_error: 163.3480 - jump_sigma_r2: 0.2288 - jump_mu_mean_absolute_percentage_error: 120.3059 - jump_mu_r2: 0.9279 - lambda_mean_absolute_percentage_error: 89.7455 - lambda_r2: 0.3384    \n",
      "Epoch 1/1\n",
      "10/10 [==============================] - 136s - loss: 0.0113 - sigma_loss: 7.0017e-05 - mu_loss: 0.0032 - jump_sigma_loss: 0.0025 - jump_mu_loss: 0.0055 - lambda_loss: 3.2365e-05 - sigma_mean_absolute_percentage_error: 16.0067 - sigma_r2: 0.9789 - mu_mean_absolute_percentage_error: 90.5748 - mu_r2: 0.9620 - jump_sigma_mean_absolute_percentage_error: 165.0679 - jump_sigma_r2: 0.2283 - jump_mu_mean_absolute_percentage_error: 137.9149 - jump_mu_r2: 0.9338 - lambda_mean_absolute_percentage_error: 85.5583 - lambda_r2: 0.3763    \n",
      "SAVE\n",
      "Epoch 1/1\n",
      "10/10 [==============================] - 134s - loss: 0.0112 - sigma_loss: 5.9879e-05 - mu_loss: 0.0033 - jump_sigma_loss: 0.0025 - jump_mu_loss: 0.0054 - lambda_loss: 3.0529e-05 - sigma_mean_absolute_percentage_error: 14.0240 - sigma_r2: 0.9818 - mu_mean_absolute_percentage_error: 500.7102 - mu_r2: 0.9607 - jump_sigma_mean_absolute_percentage_error: 170.3950 - jump_sigma_r2: 0.2522 - jump_mu_mean_absolute_percentage_error: 71.6122 - jump_mu_r2: 0.9346 - lambda_mean_absolute_percentage_error: 86.6475 - lambda_r2: 0.4064    \n",
      "SAVE\n",
      "[master e2a5021] updated history, predictions and model\n",
      " 4 files changed, 15 insertions(+), 1 deletion(-)\n",
      "Branch master set up to track remote branch master from origin.\n",
      "Epoch 1/1\n",
      "10/10 [==============================] - 137s - loss: 0.0115 - sigma_loss: 6.2438e-05 - mu_loss: 0.0031 - jump_sigma_loss: 0.0026 - jump_mu_loss: 0.0057 - lambda_loss: 3.3974e-05 - sigma_mean_absolute_percentage_error: 15.5202 - sigma_r2: 0.9809 - mu_mean_absolute_percentage_error: 84.1962 - mu_r2: 0.9623 - jump_sigma_mean_absolute_percentage_error: 162.5659 - jump_sigma_r2: 0.2195 - jump_mu_mean_absolute_percentage_error: 139.0285 - jump_mu_r2: 0.9319 - lambda_mean_absolute_percentage_error: 88.5370 - lambda_r2: 0.3457    \n",
      "Epoch 1/1\n",
      "10/10 [==============================] - 136s - loss: 0.0116 - sigma_loss: 8.4192e-05 - mu_loss: 0.0031 - jump_sigma_loss: 0.0026 - jump_mu_loss: 0.0058 - lambda_loss: 3.9622e-05 - sigma_mean_absolute_percentage_error: 18.1185 - sigma_r2: 0.9747 - mu_mean_absolute_percentage_error: 74.4054 - mu_r2: 0.9622 - jump_sigma_mean_absolute_percentage_error: 162.0903 - jump_sigma_r2: 0.2223 - jump_mu_mean_absolute_percentage_error: 118.9644 - jump_mu_r2: 0.9305 - lambda_mean_absolute_percentage_error: 91.8464 - lambda_r2: 0.2304    \n",
      "Epoch 1/1\n",
      "10/10 [==============================] - 137s - loss: 0.0116 - sigma_loss: 6.7482e-05 - mu_loss: 0.0032 - jump_sigma_loss: 0.0026 - jump_mu_loss: 0.0057 - lambda_loss: 3.6446e-05 - sigma_mean_absolute_percentage_error: 16.3611 - sigma_r2: 0.9794 - mu_mean_absolute_percentage_error: 104.1771 - mu_r2: 0.9616 - jump_sigma_mean_absolute_percentage_error: 163.5195 - jump_sigma_r2: 0.2262 - jump_mu_mean_absolute_percentage_error: 91.6061 - jump_mu_r2: 0.9306 - lambda_mean_absolute_percentage_error: 87.9373 - lambda_r2: 0.3001    \n",
      "Epoch 1/1\n",
      "10/10 [==============================] - 134s - loss: 0.0118 - sigma_loss: 6.4587e-05 - mu_loss: 0.0037 - jump_sigma_loss: 0.0025 - jump_mu_loss: 0.0055 - lambda_loss: 3.3223e-05 - sigma_mean_absolute_percentage_error: 16.0002 - sigma_r2: 0.9804 - mu_mean_absolute_percentage_error: 125.2926 - mu_r2: 0.9552 - jump_sigma_mean_absolute_percentage_error: 168.3200 - jump_sigma_r2: 0.2281 - jump_mu_mean_absolute_percentage_error: 90.2031 - jump_mu_r2: 0.9343 - lambda_mean_absolute_percentage_error: 85.8153 - lambda_r2: 0.3564    \n",
      "Epoch 1/1\n",
      "10/10 [==============================] - 134s - loss: 0.0117 - sigma_loss: 7.6946e-05 - mu_loss: 0.0032 - jump_sigma_loss: 0.0025 - jump_mu_loss: 0.0059 - lambda_loss: 3.2601e-05 - sigma_mean_absolute_percentage_error: 16.5986 - sigma_r2: 0.9765 - mu_mean_absolute_percentage_error: 88.8097 - mu_r2: 0.9623 - jump_sigma_mean_absolute_percentage_error: 159.8640 - jump_sigma_r2: 0.2374 - jump_mu_mean_absolute_percentage_error: 89.0471 - jump_mu_r2: 0.9276 - lambda_mean_absolute_percentage_error: 92.0474 - lambda_r2: 0.3686    \n",
      "[master 232e12e] updated history, predictions and model\n",
      " 3 files changed, 15 insertions(+), 1 deletion(-)\n",
      "Branch master set up to track remote branch master from origin.\n",
      "Epoch 1/1\n"
     ]
    },
    {
     "name": "stdout",
     "output_type": "stream",
     "text": [
      "10/10 [==============================] - 137s - loss: 0.0111 - sigma_loss: 6.6479e-05 - mu_loss: 0.0030 - jump_sigma_loss: 0.0024 - jump_mu_loss: 0.0055 - lambda_loss: 3.0407e-05 - sigma_mean_absolute_percentage_error: 15.8198 - sigma_r2: 0.9799 - mu_mean_absolute_percentage_error: 74.6067 - mu_r2: 0.9636 - jump_sigma_mean_absolute_percentage_error: 163.2029 - jump_sigma_r2: 0.2572 - jump_mu_mean_absolute_percentage_error: 80.8705 - jump_mu_r2: 0.9341 - lambda_mean_absolute_percentage_error: 82.7366 - lambda_r2: 0.4078    \n",
      "SAVE\n",
      "Epoch 1/1\n",
      "10/10 [==============================] - 137s - loss: 0.0116 - sigma_loss: 6.8780e-05 - mu_loss: 0.0032 - jump_sigma_loss: 0.0026 - jump_mu_loss: 0.0057 - lambda_loss: 3.0015e-05 - sigma_mean_absolute_percentage_error: 16.4655 - sigma_r2: 0.9791 - mu_mean_absolute_percentage_error: 106.6702 - mu_r2: 0.9616 - jump_sigma_mean_absolute_percentage_error: 162.9480 - jump_sigma_r2: 0.2307 - jump_mu_mean_absolute_percentage_error: 101.9359 - jump_mu_r2: 0.9315 - lambda_mean_absolute_percentage_error: 89.6482 - lambda_r2: 0.4156    \n",
      "Epoch 1/1\n",
      "10/10 [==============================] - 137s - loss: 0.0139 - sigma_loss: 6.8738e-05 - mu_loss: 0.0055 - jump_sigma_loss: 0.0025 - jump_mu_loss: 0.0059 - lambda_loss: 3.3487e-05 - sigma_mean_absolute_percentage_error: 15.8740 - sigma_r2: 0.9791 - mu_mean_absolute_percentage_error: 148.1602 - mu_r2: 0.9346 - jump_sigma_mean_absolute_percentage_error: 166.0343 - jump_sigma_r2: 0.2471 - jump_mu_mean_absolute_percentage_error: 103.8765 - jump_mu_r2: 0.9292 - lambda_mean_absolute_percentage_error: 90.1443 - lambda_r2: 0.3471    \n",
      "Epoch 1/1\n",
      "10/10 [==============================] - 136s - loss: 0.0123 - sigma_loss: 7.3068e-05 - mu_loss: 0.0040 - jump_sigma_loss: 0.0025 - jump_mu_loss: 0.0057 - lambda_loss: 2.9635e-05 - sigma_mean_absolute_percentage_error: 15.5787 - sigma_r2: 0.9778 - mu_mean_absolute_percentage_error: 100.4155 - mu_r2: 0.9522 - jump_sigma_mean_absolute_percentage_error: 160.4901 - jump_sigma_r2: 0.2399 - jump_mu_mean_absolute_percentage_error: 98.7596 - jump_mu_r2: 0.9323 - lambda_mean_absolute_percentage_error: 85.5800 - lambda_r2: 0.4297    \n",
      "Epoch 1/1\n",
      "10/10 [==============================] - 134s - loss: 0.0117 - sigma_loss: 6.9106e-05 - mu_loss: 0.0036 - jump_sigma_loss: 0.0025 - jump_mu_loss: 0.0056 - lambda_loss: 3.4455e-05 - sigma_mean_absolute_percentage_error: 14.6984 - sigma_r2: 0.9791 - mu_mean_absolute_percentage_error: 119.6071 - mu_r2: 0.9569 - jump_sigma_mean_absolute_percentage_error: 156.4003 - jump_sigma_r2: 0.2508 - jump_mu_mean_absolute_percentage_error: 104.5530 - jump_mu_r2: 0.9326 - lambda_mean_absolute_percentage_error: 93.4496 - lambda_r2: 0.3350    \n",
      "[master e654d29] updated history, predictions and model\n",
      " 4 files changed, 21 insertions(+), 1 deletion(-)\n",
      "Branch master set up to track remote branch master from origin.\n",
      "Epoch 1/1\n",
      "10/10 [==============================] - 137s - loss: 0.0111 - sigma_loss: 5.6855e-05 - mu_loss: 0.0031 - jump_sigma_loss: 0.0025 - jump_mu_loss: 0.0055 - lambda_loss: 2.7477e-05 - sigma_mean_absolute_percentage_error: 14.0375 - sigma_r2: 0.9827 - mu_mean_absolute_percentage_error: 109.3261 - mu_r2: 0.9633 - jump_sigma_mean_absolute_percentage_error: 151.6044 - jump_sigma_r2: 0.2423 - jump_mu_mean_absolute_percentage_error: 116.0724 - jump_mu_r2: 0.9342 - lambda_mean_absolute_percentage_error: 77.3499 - lambda_r2: 0.4667    \n",
      "Epoch 1/1\n",
      "10/10 [==============================] - 137s - loss: 0.0108 - sigma_loss: 5.3301e-05 - mu_loss: 0.0030 - jump_sigma_loss: 0.0025 - jump_mu_loss: 0.0053 - lambda_loss: 2.5460e-05 - sigma_mean_absolute_percentage_error: 13.7562 - sigma_r2: 0.9839 - mu_mean_absolute_percentage_error: 97.6813 - mu_r2: 0.9639 - jump_sigma_mean_absolute_percentage_error: 159.9656 - jump_sigma_r2: 0.2598 - jump_mu_mean_absolute_percentage_error: 88.9975 - jump_mu_r2: 0.9365 - lambda_mean_absolute_percentage_error: 79.5297 - lambda_r2: 0.5059     \n",
      "SAVE\n",
      "Epoch 1/1\n",
      "10/10 [==============================] - 138s - loss: 0.0110 - sigma_loss: 5.5056e-05 - mu_loss: 0.0031 - jump_sigma_loss: 0.0024 - jump_mu_loss: 0.0054 - lambda_loss: 2.8840e-05 - sigma_mean_absolute_percentage_error: 13.3586 - sigma_r2: 0.9832 - mu_mean_absolute_percentage_error: 110.2557 - mu_r2: 0.9630 - jump_sigma_mean_absolute_percentage_error: 162.1699 - jump_sigma_r2: 0.2611 - jump_mu_mean_absolute_percentage_error: 79.0215 - jump_mu_r2: 0.9349 - lambda_mean_absolute_percentage_error: 83.8522 - lambda_r2: 0.4403    \n",
      "Epoch 1/1\n",
      "10/10 [==============================] - 135s - loss: 0.0110 - sigma_loss: 5.4349e-05 - mu_loss: 0.0030 - jump_sigma_loss: 0.0025 - jump_mu_loss: 0.0055 - lambda_loss: 2.9500e-05 - sigma_mean_absolute_percentage_error: 13.3975 - sigma_r2: 0.9837 - mu_mean_absolute_percentage_error: 90.3939 - mu_r2: 0.9637 - jump_sigma_mean_absolute_percentage_error: 154.7311 - jump_sigma_r2: 0.2534 - jump_mu_mean_absolute_percentage_error: 100.0834 - jump_mu_r2: 0.9347 - lambda_mean_absolute_percentage_error: 77.6851 - lambda_r2: 0.4331    \n",
      "Epoch 1/1\n",
      "10/10 [==============================] - 134s - loss: 0.0112 - sigma_loss: 5.9289e-05 - mu_loss: 0.0031 - jump_sigma_loss: 0.0024 - jump_mu_loss: 0.0055 - lambda_loss: 2.6150e-05 - sigma_mean_absolute_percentage_error: 14.3386 - sigma_r2: 0.9818 - mu_mean_absolute_percentage_error: 5371.1529 - mu_r2: 0.9629 - jump_sigma_mean_absolute_percentage_error: 164.6045 - jump_sigma_r2: 0.2563 - jump_mu_mean_absolute_percentage_error: 76.5344 - jump_mu_r2: 0.9342 - lambda_mean_absolute_percentage_error: 80.0994 - lambda_r2: 0.4958    \n",
      "[master 041ca97] updated history, predictions and model\n",
      " 4 files changed, 15 insertions(+), 1 deletion(-)\n",
      "Branch master set up to track remote branch master from origin.\n",
      "Epoch 1/1\n",
      "10/10 [==============================] - 138s - loss: 0.0111 - sigma_loss: 6.5687e-05 - mu_loss: 0.0030 - jump_sigma_loss: 0.0025 - jump_mu_loss: 0.0056 - lambda_loss: 2.8209e-05 - sigma_mean_absolute_percentage_error: 15.0362 - sigma_r2: 0.9800 - mu_mean_absolute_percentage_error: 97.0888 - mu_r2: 0.9639 - jump_sigma_mean_absolute_percentage_error: 156.0338 - jump_sigma_r2: 0.2550 - jump_mu_mean_absolute_percentage_error: 134.1753 - jump_mu_r2: 0.9332 - lambda_mean_absolute_percentage_error: 86.6683 - lambda_r2: 0.4570     \n",
      "Epoch 1/1\n",
      "10/10 [==============================] - 138s - loss: 0.0117 - sigma_loss: 6.8998e-05 - mu_loss: 0.0036 - jump_sigma_loss: 0.0025 - jump_mu_loss: 0.0055 - lambda_loss: 4.1773e-05 - sigma_mean_absolute_percentage_error: 15.6346 - sigma_r2: 0.9791 - mu_mean_absolute_percentage_error: 130.5505 - mu_r2: 0.9570 - jump_sigma_mean_absolute_percentage_error: 163.3561 - jump_sigma_r2: 0.2427 - jump_mu_mean_absolute_percentage_error: 106.1495 - jump_mu_r2: 0.9344 - lambda_mean_absolute_percentage_error: 83.0285 - lambda_r2: 0.1960    \n",
      "Epoch 1/1\n",
      "10/10 [==============================] - 138s - loss: 0.0122 - sigma_loss: 6.4918e-05 - mu_loss: 0.0042 - jump_sigma_loss: 0.0025 - jump_mu_loss: 0.0054 - lambda_loss: 2.5734e-05 - sigma_mean_absolute_percentage_error: 15.7054 - sigma_r2: 0.9803 - mu_mean_absolute_percentage_error: 145.1043 - mu_r2: 0.9497 - jump_sigma_mean_absolute_percentage_error: 155.1317 - jump_sigma_r2: 0.2508 - jump_mu_mean_absolute_percentage_error: 139.5942 - jump_mu_r2: 0.9350 - lambda_mean_absolute_percentage_error: 82.5927 - lambda_r2: 0.5022    \n",
      "Epoch 1/1\n",
      "10/10 [==============================] - 135s - loss: 0.0112 - sigma_loss: 6.2827e-05 - mu_loss: 0.0032 - jump_sigma_loss: 0.0024 - jump_mu_loss: 0.0054 - lambda_loss: 2.7995e-05 - sigma_mean_absolute_percentage_error: 14.5302 - sigma_r2: 0.9809 - mu_mean_absolute_percentage_error: 214.1791 - mu_r2: 0.9612 - jump_sigma_mean_absolute_percentage_error: 161.9313 - jump_sigma_r2: 0.2557 - jump_mu_mean_absolute_percentage_error: 77.1776 - jump_mu_r2: 0.9358 - lambda_mean_absolute_percentage_error: 79.5239 - lambda_r2: 0.4523    \n",
      "Epoch 1/1\n"
     ]
    },
    {
     "name": "stdout",
     "output_type": "stream",
     "text": [
      "10/10 [==============================] - 135s - loss: 0.0112 - sigma_loss: 6.9918e-05 - mu_loss: 0.0033 - jump_sigma_loss: 0.0024 - jump_mu_loss: 0.0054 - lambda_loss: 3.2308e-05 - sigma_mean_absolute_percentage_error: 15.3387 - sigma_r2: 0.9791 - mu_mean_absolute_percentage_error: 106.9158 - mu_r2: 0.9601 - jump_sigma_mean_absolute_percentage_error: 154.6660 - jump_sigma_r2: 0.2605 - jump_mu_mean_absolute_percentage_error: 140.7831 - jump_mu_r2: 0.9343 - lambda_mean_absolute_percentage_error: 78.8113 - lambda_r2: 0.3696    \n",
      "[master aafc4e3] updated history, predictions and model\n",
      " 3 files changed, 20 insertions(+), 1 deletion(-)\n",
      "Branch master set up to track remote branch master from origin.\n",
      "Epoch 1/1\n",
      "10/10 [==============================] - 137s - loss: 0.0113 - sigma_loss: 7.4914e-05 - mu_loss: 0.0031 - jump_sigma_loss: 0.0024 - jump_mu_loss: 0.0057 - lambda_loss: 3.6616e-05 - sigma_mean_absolute_percentage_error: 17.1043 - sigma_r2: 0.9772 - mu_mean_absolute_percentage_error: 93.3616 - mu_r2: 0.9629 - jump_sigma_mean_absolute_percentage_error: 158.3533 - jump_sigma_r2: 0.2550 - jump_mu_mean_absolute_percentage_error: 81.4301 - jump_mu_r2: 0.9308 - lambda_mean_absolute_percentage_error: 92.4862 - lambda_r2: 0.2913    \n",
      "Epoch 1/1\n",
      "10/10 [==============================] - 138s - loss: 0.0111 - sigma_loss: 7.2530e-05 - mu_loss: 0.0029 - jump_sigma_loss: 0.0025 - jump_mu_loss: 0.0056 - lambda_loss: 2.8384e-05 - sigma_mean_absolute_percentage_error: 17.1171 - sigma_r2: 0.9779 - mu_mean_absolute_percentage_error: 1554.5446 - mu_r2: 0.9649 - jump_sigma_mean_absolute_percentage_error: 166.1942 - jump_sigma_r2: 0.2586 - jump_mu_mean_absolute_percentage_error: 93.3374 - jump_mu_r2: 0.9330 - lambda_mean_absolute_percentage_error: 83.4766 - lambda_r2: 0.4590    \n",
      "Epoch 1/1\n",
      "10/10 [==============================] - 138s - loss: 0.0113 - sigma_loss: 7.1833e-05 - mu_loss: 0.0031 - jump_sigma_loss: 0.0024 - jump_mu_loss: 0.0057 - lambda_loss: 4.0571e-05 - sigma_mean_absolute_percentage_error: 16.6216 - sigma_r2: 0.9783 - mu_mean_absolute_percentage_error: 156.5886 - mu_r2: 0.9633 - jump_sigma_mean_absolute_percentage_error: 164.4412 - jump_sigma_r2: 0.2628 - jump_mu_mean_absolute_percentage_error: 71.5127 - jump_mu_r2: 0.9312 - lambda_mean_absolute_percentage_error: 87.3761 - lambda_r2: 0.2165    \n",
      "Epoch 1/1\n",
      "10/10 [==============================] - 135s - loss: 0.0112 - sigma_loss: 7.0593e-05 - mu_loss: 0.0033 - jump_sigma_loss: 0.0026 - jump_mu_loss: 0.0052 - lambda_loss: 3.3288e-05 - sigma_mean_absolute_percentage_error: 15.3637 - sigma_r2: 0.9786 - mu_mean_absolute_percentage_error: 100.8670 - mu_r2: 0.9603 - jump_sigma_mean_absolute_percentage_error: 149.0586 - jump_sigma_r2: 0.2181 - jump_mu_mean_absolute_percentage_error: 188.7189 - jump_mu_r2: 0.9386 - lambda_mean_absolute_percentage_error: 88.1751 - lambda_r2: 0.3483    \n",
      "Epoch 1/1\n",
      "10/10 [==============================] - 134s - loss: 0.0115 - sigma_loss: 5.7298e-05 - mu_loss: 0.0035 - jump_sigma_loss: 0.0025 - jump_mu_loss: 0.0054 - lambda_loss: 2.5492e-05 - sigma_mean_absolute_percentage_error: 15.2554 - sigma_r2: 0.9826 - mu_mean_absolute_percentage_error: 78.9287 - mu_r2: 0.9574 - jump_sigma_mean_absolute_percentage_error: 165.6717 - jump_sigma_r2: 0.2564 - jump_mu_mean_absolute_percentage_error: 140.7137 - jump_mu_r2: 0.9349 - lambda_mean_absolute_percentage_error: 75.5325 - lambda_r2: 0.5059    \n",
      "[master 79a41de] updated history, predictions and model\n",
      " 3 files changed, 14 insertions(+), 1 deletion(-)\n",
      "Branch master set up to track remote branch master from origin.\n",
      "Epoch 1/1\n",
      "10/10 [==============================] - 137s - loss: 0.0113 - sigma_loss: 5.7612e-05 - mu_loss: 0.0033 - jump_sigma_loss: 0.0025 - jump_mu_loss: 0.0054 - lambda_loss: 2.7018e-05 - sigma_mean_absolute_percentage_error: 14.1692 - sigma_r2: 0.9826 - mu_mean_absolute_percentage_error: 273.8627 - mu_r2: 0.9602 - jump_sigma_mean_absolute_percentage_error: 169.5536 - jump_sigma_r2: 0.2490 - jump_mu_mean_absolute_percentage_error: 143.4363 - jump_mu_r2: 0.9351 - lambda_mean_absolute_percentage_error: 85.3952 - lambda_r2: 0.4826    \n",
      "Epoch 1/1\n",
      "10/10 [==============================] - 138s - loss: 0.0111 - sigma_loss: 6.5253e-05 - mu_loss: 0.0032 - jump_sigma_loss: 0.0024 - jump_mu_loss: 0.0054 - lambda_loss: 3.1258e-05 - sigma_mean_absolute_percentage_error: 15.0920 - sigma_r2: 0.9800 - mu_mean_absolute_percentage_error: 76.0858 - mu_r2: 0.9614 - jump_sigma_mean_absolute_percentage_error: 154.5813 - jump_sigma_r2: 0.2658 - jump_mu_mean_absolute_percentage_error: 210.5049 - jump_mu_r2: 0.9354 - lambda_mean_absolute_percentage_error: 81.5422 - lambda_r2: 0.3957    \n",
      "Epoch 1/1\n",
      "10/10 [==============================] - 136s - loss: 0.0115 - sigma_loss: 6.0077e-05 - mu_loss: 0.0035 - jump_sigma_loss: 0.0024 - jump_mu_loss: 0.0055 - lambda_loss: 2.8643e-05 - sigma_mean_absolute_percentage_error: 15.0621 - sigma_r2: 0.9818 - mu_mean_absolute_percentage_error: 117.6473 - mu_r2: 0.9580 - jump_sigma_mean_absolute_percentage_error: 159.0239 - jump_sigma_r2: 0.2575 - jump_mu_mean_absolute_percentage_error: 876.5950 - jump_mu_r2: 0.9351 - lambda_mean_absolute_percentage_error: 79.8503 - lambda_r2: 0.4416    \n",
      "Epoch 1/1\n",
      "10/10 [==============================] - 134s - loss: 0.0114 - sigma_loss: 6.2446e-05 - mu_loss: 0.0033 - jump_sigma_loss: 0.0025 - jump_mu_loss: 0.0055 - lambda_loss: 3.1209e-05 - sigma_mean_absolute_percentage_error: 14.8634 - sigma_r2: 0.9809 - mu_mean_absolute_percentage_error: 69.8380 - mu_r2: 0.9601 - jump_sigma_mean_absolute_percentage_error: 160.5183 - jump_sigma_r2: 0.2594 - jump_mu_mean_absolute_percentage_error: 102.3608 - jump_mu_r2: 0.9342 - lambda_mean_absolute_percentage_error: 81.5814 - lambda_r2: 0.3987    \n",
      "Epoch 1/1\n",
      "10/10 [==============================] - 134s - loss: 0.0112 - sigma_loss: 5.9503e-05 - mu_loss: 0.0032 - jump_sigma_loss: 0.0025 - jump_mu_loss: 0.0054 - lambda_loss: 3.3962e-05 - sigma_mean_absolute_percentage_error: 14.1055 - sigma_r2: 0.9820 - mu_mean_absolute_percentage_error: 82.6830 - mu_r2: 0.9608 - jump_sigma_mean_absolute_percentage_error: 160.5489 - jump_sigma_r2: 0.2497 - jump_mu_mean_absolute_percentage_error: 81.0167 - jump_mu_r2: 0.9358 - lambda_mean_absolute_percentage_error: 75.8716 - lambda_r2: 0.3432    \n",
      "[master bbaaf58] updated history, predictions and model\n",
      " 3 files changed, 14 insertions(+), 1 deletion(-)\n",
      "Branch master set up to track remote branch master from origin.\n",
      "Epoch 1/1\n",
      "10/10 [==============================] - 135s - loss: 0.0111 - sigma_loss: 6.7950e-05 - mu_loss: 0.0031 - jump_sigma_loss: 0.0025 - jump_mu_loss: 0.0054 - lambda_loss: 3.0846e-05 - sigma_mean_absolute_percentage_error: 17.2492 - sigma_r2: 0.9794 - mu_mean_absolute_percentage_error: 79.2895 - mu_r2: 0.9632 - jump_sigma_mean_absolute_percentage_error: 160.5322 - jump_sigma_r2: 0.2412 - jump_mu_mean_absolute_percentage_error: 114.5359 - jump_mu_r2: 0.9343 - lambda_mean_absolute_percentage_error: 90.4778 - lambda_r2: 0.4129    \n",
      "Epoch 1/1\n",
      "10/10 [==============================] - 137s - loss: 0.0110 - sigma_loss: 6.7723e-05 - mu_loss: 0.0030 - jump_sigma_loss: 0.0024 - jump_mu_loss: 0.0055 - lambda_loss: 2.7295e-05 - sigma_mean_absolute_percentage_error: 16.9601 - sigma_r2: 0.9791 - mu_mean_absolute_percentage_error: 456.8213 - mu_r2: 0.9637 - jump_sigma_mean_absolute_percentage_error: 152.9977 - jump_sigma_r2: 0.2665 - jump_mu_mean_absolute_percentage_error: 77.4601 - jump_mu_r2: 0.9340 - lambda_mean_absolute_percentage_error: 84.2202 - lambda_r2: 0.4674    \n",
      "Epoch 1/1\n",
      "10/10 [==============================] - 136s - loss: 0.0108 - sigma_loss: 6.8150e-05 - mu_loss: 0.0030 - jump_sigma_loss: 0.0024 - jump_mu_loss: 0.0053 - lambda_loss: 2.4986e-05 - sigma_mean_absolute_percentage_error: 15.8736 - sigma_r2: 0.9793 - mu_mean_absolute_percentage_error: 149.7504 - mu_r2: 0.9644 - jump_sigma_mean_absolute_percentage_error: 156.6831 - jump_sigma_r2: 0.2818 - jump_mu_mean_absolute_percentage_error: 93.2932 - jump_mu_r2: 0.9357 - lambda_mean_absolute_percentage_error: 77.6515 - lambda_r2: 0.5194    \n",
      "SAVE\n",
      "Epoch 1/1\n"
     ]
    },
    {
     "name": "stdout",
     "output_type": "stream",
     "text": [
      "10/10 [==============================] - 136s - loss: 0.0105 - sigma_loss: 5.5790e-05 - mu_loss: 0.0030 - jump_sigma_loss: 0.0024 - jump_mu_loss: 0.0050 - lambda_loss: 2.6390e-05 - sigma_mean_absolute_percentage_error: 14.5059 - sigma_r2: 0.9828 - mu_mean_absolute_percentage_error: 242.1015 - mu_r2: 0.9636 - jump_sigma_mean_absolute_percentage_error: 153.8246 - jump_sigma_r2: 0.2653 - jump_mu_mean_absolute_percentage_error: 85.0956 - jump_mu_r2: 0.9403 - lambda_mean_absolute_percentage_error: 77.2616 - lambda_r2: 0.4845    \n",
      "SAVE\n",
      "Epoch 1/1\n",
      "10/10 [==============================] - 133s - loss: 0.0108 - sigma_loss: 5.0727e-05 - mu_loss: 0.0032 - jump_sigma_loss: 0.0025 - jump_mu_loss: 0.0051 - lambda_loss: 2.3516e-05 - sigma_mean_absolute_percentage_error: 12.9463 - sigma_r2: 0.9846 - mu_mean_absolute_percentage_error: 321.7081 - mu_r2: 0.9616 - jump_sigma_mean_absolute_percentage_error: 158.4708 - jump_sigma_r2: 0.2563 - jump_mu_mean_absolute_percentage_error: 84.7149 - jump_mu_r2: 0.9388 - lambda_mean_absolute_percentage_error: 77.3974 - lambda_r2: 0.5394    \n",
      "[master 9348e93] updated history, predictions and model\n",
      " 4 files changed, 22 insertions(+), 1 deletion(-)\n",
      "Branch master set up to track remote branch master from origin.\n",
      "Epoch 1/1\n",
      "10/10 [==============================] - 137s - loss: 0.0105 - sigma_loss: 5.4192e-05 - mu_loss: 0.0031 - jump_sigma_loss: 0.0024 - jump_mu_loss: 0.0050 - lambda_loss: 2.7268e-05 - sigma_mean_absolute_percentage_error: 13.0478 - sigma_r2: 0.9835 - mu_mean_absolute_percentage_error: 98.4056 - mu_r2: 0.9636 - jump_sigma_mean_absolute_percentage_error: 157.2212 - jump_sigma_r2: 0.2682 - jump_mu_mean_absolute_percentage_error: 80.1173 - jump_mu_r2: 0.9398 - lambda_mean_absolute_percentage_error: 78.5324 - lambda_r2: 0.4693    \n",
      "Epoch 1/1\n",
      "10/10 [==============================] - 136s - loss: 0.0110 - sigma_loss: 5.5639e-05 - mu_loss: 0.0032 - jump_sigma_loss: 0.0024 - jump_mu_loss: 0.0053 - lambda_loss: 2.2455e-05 - sigma_mean_absolute_percentage_error: 14.2288 - sigma_r2: 0.9832 - mu_mean_absolute_percentage_error: 127.3310 - mu_r2: 0.9615 - jump_sigma_mean_absolute_percentage_error: 164.3821 - jump_sigma_r2: 0.2641 - jump_mu_mean_absolute_percentage_error: 120.8662 - jump_mu_r2: 0.9368 - lambda_mean_absolute_percentage_error: 75.1773 - lambda_r2: 0.5664    \n",
      "Epoch 1/1\n",
      "10/10 [==============================] - 137s - loss: 0.0107 - sigma_loss: 5.8015e-05 - mu_loss: 0.0030 - jump_sigma_loss: 0.0024 - jump_mu_loss: 0.0052 - lambda_loss: 2.8623e-05 - sigma_mean_absolute_percentage_error: 14.0233 - sigma_r2: 0.9825 - mu_mean_absolute_percentage_error: 83.0066 - mu_r2: 0.9638 - jump_sigma_mean_absolute_percentage_error: 156.4454 - jump_sigma_r2: 0.2813 - jump_mu_mean_absolute_percentage_error: 68.9141 - jump_mu_r2: 0.9381 - lambda_mean_absolute_percentage_error: 74.3311 - lambda_r2: 0.4467    \n",
      "Epoch 1/1\n",
      "10/10 [==============================] - 134s - loss: 0.0110 - sigma_loss: 5.8160e-05 - mu_loss: 0.0030 - jump_sigma_loss: 0.0024 - jump_mu_loss: 0.0055 - lambda_loss: 2.4946e-05 - sigma_mean_absolute_percentage_error: 14.9223 - sigma_r2: 0.9825 - mu_mean_absolute_percentage_error: 94.4673 - mu_r2: 0.9641 - jump_sigma_mean_absolute_percentage_error: 158.0438 - jump_sigma_r2: 0.2766 - jump_mu_mean_absolute_percentage_error: 123.1713 - jump_mu_r2: 0.9331 - lambda_mean_absolute_percentage_error: 75.8993 - lambda_r2: 0.5203    \n",
      "Epoch 1/1\n",
      "10/10 [==============================] - 134s - loss: 0.0121 - sigma_loss: 6.8151e-05 - mu_loss: 0.0043 - jump_sigma_loss: 0.0024 - jump_mu_loss: 0.0053 - lambda_loss: 2.6227e-05 - sigma_mean_absolute_percentage_error: 17.0750 - sigma_r2: 0.9792 - mu_mean_absolute_percentage_error: 133.7001 - mu_r2: 0.9480 - jump_sigma_mean_absolute_percentage_error: 159.4825 - jump_sigma_r2: 0.2547 - jump_mu_mean_absolute_percentage_error: 242.5498 - jump_mu_r2: 0.9374 - lambda_mean_absolute_percentage_error: 77.3363 - lambda_r2: 0.4919    \n",
      "[master b8a3367] updated history, predictions and model\n",
      " 3 files changed, 14 insertions(+), 1 deletion(-)\n",
      "Branch master set up to track remote branch master from origin.\n",
      "Epoch 1/1\n",
      "10/10 [==============================] - 138s - loss: 0.0112 - sigma_loss: 6.8442e-05 - mu_loss: 0.0033 - jump_sigma_loss: 0.0025 - jump_mu_loss: 0.0052 - lambda_loss: 2.8608e-05 - sigma_mean_absolute_percentage_error: 15.9278 - sigma_r2: 0.9793 - mu_mean_absolute_percentage_error: 144.3105 - mu_r2: 0.9597 - jump_sigma_mean_absolute_percentage_error: 154.6388 - jump_sigma_r2: 0.2363 - jump_mu_mean_absolute_percentage_error: 106.4631 - jump_mu_r2: 0.9374 - lambda_mean_absolute_percentage_error: 90.9741 - lambda_r2: 0.4473    \n",
      "Epoch 1/1\n",
      "10/10 [==============================] - 138s - loss: 0.0104 - sigma_loss: 6.0237e-05 - mu_loss: 0.0030 - jump_sigma_loss: 0.0025 - jump_mu_loss: 0.0049 - lambda_loss: 2.6394e-05 - sigma_mean_absolute_percentage_error: 15.4401 - sigma_r2: 0.9814 - mu_mean_absolute_percentage_error: 79.3238 - mu_r2: 0.9642 - jump_sigma_mean_absolute_percentage_error: 162.8459 - jump_sigma_r2: 0.2572 - jump_mu_mean_absolute_percentage_error: 72.9120 - jump_mu_r2: 0.9410 - lambda_mean_absolute_percentage_error: 79.6203 - lambda_r2: 0.4929    \n",
      "SAVE\n",
      "Epoch 1/1\n",
      "10/10 [==============================] - 134s - loss: 0.0104 - sigma_loss: 5.2074e-05 - mu_loss: 0.0029 - jump_sigma_loss: 0.0024 - jump_mu_loss: 0.0051 - lambda_loss: 2.1999e-05 - sigma_mean_absolute_percentage_error: 13.8435 - sigma_r2: 0.9841 - mu_mean_absolute_percentage_error: 93.5425 - mu_r2: 0.9653 - jump_sigma_mean_absolute_percentage_error: 159.3810 - jump_sigma_r2: 0.2801 - jump_mu_mean_absolute_percentage_error: 80.4137 - jump_mu_r2: 0.9389 - lambda_mean_absolute_percentage_error: 70.8580 - lambda_r2: 0.5726    \n",
      "SAVE\n",
      "Epoch 1/1\n",
      "10/10 [==============================] - 136s - loss: 0.0106 - sigma_loss: 6.3057e-05 - mu_loss: 0.0030 - jump_sigma_loss: 0.0024 - jump_mu_loss: 0.0051 - lambda_loss: 2.4803e-05 - sigma_mean_absolute_percentage_error: 15.7154 - sigma_r2: 0.9809 - mu_mean_absolute_percentage_error: 115.3363 - mu_r2: 0.9633 - jump_sigma_mean_absolute_percentage_error: 163.5688 - jump_sigma_r2: 0.2762 - jump_mu_mean_absolute_percentage_error: 79.6792 - jump_mu_r2: 0.9385 - lambda_mean_absolute_percentage_error: 84.3704 - lambda_r2: 0.5176    \n",
      "Epoch 1/1\n",
      "10/10 [==============================] - 133s - loss: 0.0110 - sigma_loss: 6.1445e-05 - mu_loss: 0.0034 - jump_sigma_loss: 0.0024 - jump_mu_loss: 0.0050 - lambda_loss: 2.9384e-05 - sigma_mean_absolute_percentage_error: 15.3621 - sigma_r2: 0.9813 - mu_mean_absolute_percentage_error: 106.1061 - mu_r2: 0.9585 - jump_sigma_mean_absolute_percentage_error: 160.2896 - jump_sigma_r2: 0.2682 - jump_mu_mean_absolute_percentage_error: 74.8539 - jump_mu_r2: 0.9400 - lambda_mean_absolute_percentage_error: 86.0495 - lambda_r2: 0.4313   \n",
      "[master 8f3ee94] updated history, predictions and model\n",
      " 4 files changed, 16 insertions(+), 1 deletion(-)\n",
      "Branch master set up to track remote branch master from origin.\n",
      "Epoch 1/1\n",
      "10/10 [==============================] - 136s - loss: 0.0112 - sigma_loss: 5.0326e-05 - mu_loss: 0.0035 - jump_sigma_loss: 0.0024 - jump_mu_loss: 0.0052 - lambda_loss: 2.3882e-05 - sigma_mean_absolute_percentage_error: 13.1061 - sigma_r2: 0.9848 - mu_mean_absolute_percentage_error: 127.3713 - mu_r2: 0.9584 - jump_sigma_mean_absolute_percentage_error: 160.7355 - jump_sigma_r2: 0.2700 - jump_mu_mean_absolute_percentage_error: 94.9284 - jump_mu_r2: 0.9368 - lambda_mean_absolute_percentage_error: 82.8122 - lambda_r2: 0.5381    \n",
      "Epoch 1/1\n",
      "10/10 [==============================] - 137s - loss: 0.0119 - sigma_loss: 5.0314e-05 - mu_loss: 0.0043 - jump_sigma_loss: 0.0025 - jump_mu_loss: 0.0051 - lambda_loss: 2.4418e-05 - sigma_mean_absolute_percentage_error: 12.6989 - sigma_r2: 0.9849 - mu_mean_absolute_percentage_error: 3221.8305 - mu_r2: 0.9477 - jump_sigma_mean_absolute_percentage_error: 154.9807 - jump_sigma_r2: 0.2503 - jump_mu_mean_absolute_percentage_error: 71.5621 - jump_mu_r2: 0.9399 - lambda_mean_absolute_percentage_error: 72.6957 - lambda_r2: 0.5253    \n",
      "Epoch 1/1\n"
     ]
    },
    {
     "name": "stdout",
     "output_type": "stream",
     "text": [
      "10/10 [==============================] - 134s - loss: 0.0110 - sigma_loss: 5.0049e-05 - mu_loss: 0.0032 - jump_sigma_loss: 0.0024 - jump_mu_loss: 0.0054 - lambda_loss: 2.2968e-05 - sigma_mean_absolute_percentage_error: 13.1565 - sigma_r2: 0.9847 - mu_mean_absolute_percentage_error: 82.4655 - mu_r2: 0.9619 - jump_sigma_mean_absolute_percentage_error: 158.3708 - jump_sigma_r2: 0.2628 - jump_mu_mean_absolute_percentage_error: 143.0353 - jump_mu_r2: 0.9362 - lambda_mean_absolute_percentage_error: 76.7272 - lambda_r2: 0.5582    \n",
      "Epoch 1/1\n",
      "10/10 [==============================] - 134s - loss: 0.0106 - sigma_loss: 5.8170e-05 - mu_loss: 0.0030 - jump_sigma_loss: 0.0024 - jump_mu_loss: 0.0051 - lambda_loss: 2.5380e-05 - sigma_mean_absolute_percentage_error: 14.6895 - sigma_r2: 0.9823 - mu_mean_absolute_percentage_error: 98.3488 - mu_r2: 0.9637 - jump_sigma_mean_absolute_percentage_error: 155.2255 - jump_sigma_r2: 0.2757 - jump_mu_mean_absolute_percentage_error: 92.4835 - jump_mu_r2: 0.9390 - lambda_mean_absolute_percentage_error: 80.1137 - lambda_r2: 0.5040     \n",
      "Epoch 1/1\n",
      "10/10 [==============================] - 133s - loss: 0.0111 - sigma_loss: 5.2307e-05 - mu_loss: 0.0033 - jump_sigma_loss: 0.0023 - jump_mu_loss: 0.0053 - lambda_loss: 2.2809e-05 - sigma_mean_absolute_percentage_error: 13.5612 - sigma_r2: 0.9841 - mu_mean_absolute_percentage_error: 108.4237 - mu_r2: 0.9605 - jump_sigma_mean_absolute_percentage_error: 155.3196 - jump_sigma_r2: 0.2853 - jump_mu_mean_absolute_percentage_error: 99.4185 - jump_mu_r2: 0.9357 - lambda_mean_absolute_percentage_error: 74.4540 - lambda_r2: 0.5581    \n",
      "[master 2863560] updated history, predictions and model\n",
      " 3 files changed, 20 insertions(+), 1 deletion(-)\n",
      "Branch master set up to track remote branch master from origin.\n",
      "Epoch 1/1\n",
      "10/10 [==============================] - 138s - loss: 0.0106 - sigma_loss: 5.6670e-05 - mu_loss: 0.0030 - jump_sigma_loss: 0.0023 - jump_mu_loss: 0.0051 - lambda_loss: 3.2561e-05 - sigma_mean_absolute_percentage_error: 13.7114 - sigma_r2: 0.9827 - mu_mean_absolute_percentage_error: 97.0373 - mu_r2: 0.9635 - jump_sigma_mean_absolute_percentage_error: 146.7474 - jump_sigma_r2: 0.3008 - jump_mu_mean_absolute_percentage_error: 75.7290 - jump_mu_r2: 0.9388 - lambda_mean_absolute_percentage_error: 84.5710 - lambda_r2: 0.3711    \n",
      "Epoch 1/1\n",
      "10/10 [==============================] - 138s - loss: 0.0108 - sigma_loss: 5.5697e-05 - mu_loss: 0.0029 - jump_sigma_loss: 0.0024 - jump_mu_loss: 0.0054 - lambda_loss: 2.5821e-05 - sigma_mean_absolute_percentage_error: 14.1921 - sigma_r2: 0.9830 - mu_mean_absolute_percentage_error: 109.1046 - mu_r2: 0.9648 - jump_sigma_mean_absolute_percentage_error: 155.8812 - jump_sigma_r2: 0.2820 - jump_mu_mean_absolute_percentage_error: 108.2528 - jump_mu_r2: 0.9356 - lambda_mean_absolute_percentage_error: 76.8401 - lambda_r2: 0.5033    \n",
      "Epoch 1/1\n",
      "10/10 [==============================] - 136s - loss: 0.0108 - sigma_loss: 6.1025e-05 - mu_loss: 0.0029 - jump_sigma_loss: 0.0025 - jump_mu_loss: 0.0053 - lambda_loss: 2.6319e-05 - sigma_mean_absolute_percentage_error: 15.0986 - sigma_r2: 0.9816 - mu_mean_absolute_percentage_error: 95.5568 - mu_r2: 0.9652 - jump_sigma_mean_absolute_percentage_error: 161.0987 - jump_sigma_r2: 0.2445 - jump_mu_mean_absolute_percentage_error: 216.2723 - jump_mu_r2: 0.9362 - lambda_mean_absolute_percentage_error: 82.1404 - lambda_r2: 0.4976    \n",
      "Epoch 1/1\n",
      "10/10 [==============================] - 134s - loss: 0.0105 - sigma_loss: 5.9661e-05 - mu_loss: 0.0028 - jump_sigma_loss: 0.0025 - jump_mu_loss: 0.0050 - lambda_loss: 2.3531e-05 - sigma_mean_absolute_percentage_error: 14.6451 - sigma_r2: 0.9819 - mu_mean_absolute_percentage_error: 89.0723 - mu_r2: 0.9658 - jump_sigma_mean_absolute_percentage_error: 168.8151 - jump_sigma_r2: 0.2665 - jump_mu_mean_absolute_percentage_error: 77.9350 - jump_mu_r2: 0.9398 - lambda_mean_absolute_percentage_error: 76.0651 - lambda_r2: 0.5421    \n",
      "Epoch 1/1\n",
      "10/10 [==============================] - 133s - loss: 0.0107 - sigma_loss: 4.9557e-05 - mu_loss: 0.0030 - jump_sigma_loss: 0.0024 - jump_mu_loss: 0.0052 - lambda_loss: 2.5135e-05 - sigma_mean_absolute_percentage_error: 12.7572 - sigma_r2: 0.9849 - mu_mean_absolute_percentage_error: 84.3050 - mu_r2: 0.9639 - jump_sigma_mean_absolute_percentage_error: 158.3573 - jump_sigma_r2: 0.2590 - jump_mu_mean_absolute_percentage_error: 95.3857 - jump_mu_r2: 0.9377 - lambda_mean_absolute_percentage_error: 78.9543 - lambda_r2: 0.5172    \n",
      "[master ca758ee] updated history, predictions and model\n",
      " 3 files changed, 14 insertions(+), 1 deletion(-)\n",
      "Branch master set up to track remote branch master from origin.\n",
      "Epoch 1/1\n",
      "10/10 [==============================] - 138s - loss: 0.0106 - sigma_loss: 6.1114e-05 - mu_loss: 0.0030 - jump_sigma_loss: 0.0025 - jump_mu_loss: 0.0050 - lambda_loss: 2.8217e-05 - sigma_mean_absolute_percentage_error: 14.5452 - sigma_r2: 0.9813 - mu_mean_absolute_percentage_error: 116.8304 - mu_r2: 0.9645 - jump_sigma_mean_absolute_percentage_error: 158.3270 - jump_sigma_r2: 0.2310 - jump_mu_mean_absolute_percentage_error: 86.4841 - jump_mu_r2: 0.9393 - lambda_mean_absolute_percentage_error: 78.1834 - lambda_r2: 0.4553    \n",
      "Epoch 1/1\n",
      "10/10 [==============================] - 138s - loss: 0.0106 - sigma_loss: 6.0481e-05 - mu_loss: 0.0030 - jump_sigma_loss: 0.0025 - jump_mu_loss: 0.0051 - lambda_loss: 2.5704e-05 - sigma_mean_absolute_percentage_error: 15.1260 - sigma_r2: 0.9816 - mu_mean_absolute_percentage_error: 76.1069 - mu_r2: 0.9638 - jump_sigma_mean_absolute_percentage_error: 155.0675 - jump_sigma_r2: 0.2605 - jump_mu_mean_absolute_percentage_error: 112.1356 - jump_mu_r2: 0.9393 - lambda_mean_absolute_percentage_error: 77.8407 - lambda_r2: 0.4965    \n",
      "Epoch 1/1\n",
      "10/10 [==============================] - 135s - loss: 0.0104 - sigma_loss: 5.2977e-05 - mu_loss: 0.0028 - jump_sigma_loss: 0.0024 - jump_mu_loss: 0.0051 - lambda_loss: 2.6817e-05 - sigma_mean_absolute_percentage_error: 15.1178 - sigma_r2: 0.9839 - mu_mean_absolute_percentage_error: 143.9258 - mu_r2: 0.9659 - jump_sigma_mean_absolute_percentage_error: 151.5967 - jump_sigma_r2: 0.2591 - jump_mu_mean_absolute_percentage_error: 118.4643 - jump_mu_r2: 0.9393 - lambda_mean_absolute_percentage_error: 72.3198 - lambda_r2: 0.4822    \n",
      "Epoch 1/1\n",
      "10/10 [==============================] - 135s - loss: 0.0112 - sigma_loss: 5.2528e-05 - mu_loss: 0.0035 - jump_sigma_loss: 0.0024 - jump_mu_loss: 0.0052 - lambda_loss: 3.5768e-05 - sigma_mean_absolute_percentage_error: 13.4713 - sigma_r2: 0.9840 - mu_mean_absolute_percentage_error: 189.2315 - mu_r2: 0.9576 - jump_sigma_mean_absolute_percentage_error: 151.5875 - jump_sigma_r2: 0.2785 - jump_mu_mean_absolute_percentage_error: 80.7807 - jump_mu_r2: 0.9385 - lambda_mean_absolute_percentage_error: 77.7752 - lambda_r2: 0.3090    \n",
      "Epoch 1/1\n",
      "10/10 [==============================] - 134s - loss: 0.0117 - sigma_loss: 5.4156e-05 - mu_loss: 0.0039 - jump_sigma_loss: 0.0024 - jump_mu_loss: 0.0053 - lambda_loss: 3.0160e-05 - sigma_mean_absolute_percentage_error: 13.6758 - sigma_r2: 0.9838 - mu_mean_absolute_percentage_error: 226.0942 - mu_r2: 0.9527 - jump_sigma_mean_absolute_percentage_error: 148.4503 - jump_sigma_r2: 0.2755 - jump_mu_mean_absolute_percentage_error: 74.8417 - jump_mu_r2: 0.9354 - lambda_mean_absolute_percentage_error: 93.5660 - lambda_r2: 0.4161    \n",
      "[master e0d5d1b] updated history, predictions and model\n",
      " 3 files changed, 14 insertions(+), 1 deletion(-)\n",
      "Branch master set up to track remote branch master from origin.\n",
      "Epoch 1/1\n",
      "10/10 [==============================] - 137s - loss: 0.0115 - sigma_loss: 6.5481e-05 - mu_loss: 0.0038 - jump_sigma_loss: 0.0023 - jump_mu_loss: 0.0052 - lambda_loss: 2.8071e-05 - sigma_mean_absolute_percentage_error: 15.3881 - sigma_r2: 0.9804 - mu_mean_absolute_percentage_error: 157.5468 - mu_r2: 0.9534 - jump_sigma_mean_absolute_percentage_error: 155.5745 - jump_sigma_r2: 0.2895 - jump_mu_mean_absolute_percentage_error: 103.8100 - jump_mu_r2: 0.9373 - lambda_mean_absolute_percentage_error: 71.3421 - lambda_r2: 0.4595    \n",
      "Epoch 1/1\n"
     ]
    },
    {
     "name": "stdout",
     "output_type": "stream",
     "text": [
      "10/10 [==============================] - 137s - loss: 0.0111 - sigma_loss: 4.9112e-05 - mu_loss: 0.0033 - jump_sigma_loss: 0.0023 - jump_mu_loss: 0.0054 - lambda_loss: 3.4075e-05 - sigma_mean_absolute_percentage_error: 12.7211 - sigma_r2: 0.9851 - mu_mean_absolute_percentage_error: 92.1319 - mu_r2: 0.9606 - jump_sigma_mean_absolute_percentage_error: 149.7783 - jump_sigma_r2: 0.2953 - jump_mu_mean_absolute_percentage_error: 81.0425 - jump_mu_r2: 0.9342 - lambda_mean_absolute_percentage_error: 82.0703 - lambda_r2: 0.3406    \n",
      "Epoch 1/1\n",
      "10/10 [==============================] - 136s - loss: 0.0105 - sigma_loss: 4.8159e-05 - mu_loss: 0.0029 - jump_sigma_loss: 0.0023 - jump_mu_loss: 0.0053 - lambda_loss: 2.4349e-05 - sigma_mean_absolute_percentage_error: 13.5194 - sigma_r2: 0.9856 - mu_mean_absolute_percentage_error: 86.5423 - mu_r2: 0.9653 - jump_sigma_mean_absolute_percentage_error: 154.6792 - jump_sigma_r2: 0.3007 - jump_mu_mean_absolute_percentage_error: 83.9071 - jump_mu_r2: 0.9368 - lambda_mean_absolute_percentage_error: 83.3435 - lambda_r2: 0.5271    \n",
      "Epoch 1/1\n",
      "10/10 [==============================] - 135s - loss: 0.0104 - sigma_loss: 4.6486e-05 - mu_loss: 0.0030 - jump_sigma_loss: 0.0023 - jump_mu_loss: 0.0050 - lambda_loss: 1.9840e-05 - sigma_mean_absolute_percentage_error: 12.3161 - sigma_r2: 0.9859 - mu_mean_absolute_percentage_error: 104.9492 - mu_r2: 0.9640 - jump_sigma_mean_absolute_percentage_error: 150.3110 - jump_sigma_r2: 0.2898 - jump_mu_mean_absolute_percentage_error: 77.8502 - jump_mu_r2: 0.9394 - lambda_mean_absolute_percentage_error: 73.4224 - lambda_r2: 0.6122   \n",
      "Epoch 1/1\n",
      "10/10 [==============================] - 135s - loss: 0.0104 - sigma_loss: 6.2194e-05 - mu_loss: 0.0028 - jump_sigma_loss: 0.0023 - jump_mu_loss: 0.0052 - lambda_loss: 2.5991e-05 - sigma_mean_absolute_percentage_error: 15.7968 - sigma_r2: 0.9811 - mu_mean_absolute_percentage_error: 75.8602 - mu_r2: 0.9664 - jump_sigma_mean_absolute_percentage_error: 142.9913 - jump_sigma_r2: 0.2985 - jump_mu_mean_absolute_percentage_error: 361.2068 - jump_mu_r2: 0.9369 - lambda_mean_absolute_percentage_error: 73.9090 - lambda_r2: 0.4952    \n",
      "[master adc3f5e] updated history, predictions and model\n",
      " 3 files changed, 20 insertions(+), 1 deletion(-)\n",
      "Branch master set up to track remote branch master from origin.\n",
      "Epoch 1/1\n",
      "10/10 [==============================] - 138s - loss: 0.0107 - sigma_loss: 6.0739e-05 - mu_loss: 0.0033 - jump_sigma_loss: 0.0023 - jump_mu_loss: 0.0050 - lambda_loss: 3.1736e-05 - sigma_mean_absolute_percentage_error: 15.2020 - sigma_r2: 0.9816 - mu_mean_absolute_percentage_error: 100.9843 - mu_r2: 0.9606 - jump_sigma_mean_absolute_percentage_error: 154.7270 - jump_sigma_r2: 0.2853 - jump_mu_mean_absolute_percentage_error: 82.7498 - jump_mu_r2: 0.9397 - lambda_mean_absolute_percentage_error: 89.9197 - lambda_r2: 0.3874    \n",
      "Epoch 1/1\n",
      "10/10 [==============================] - 138s - loss: 0.0107 - sigma_loss: 6.2071e-05 - mu_loss: 0.0034 - jump_sigma_loss: 0.0023 - jump_mu_loss: 0.0049 - lambda_loss: 2.2204e-05 - sigma_mean_absolute_percentage_error: 14.0368 - sigma_r2: 0.9815 - mu_mean_absolute_percentage_error: 121.1185 - mu_r2: 0.9597 - jump_sigma_mean_absolute_percentage_error: 157.7701 - jump_sigma_r2: 0.2954 - jump_mu_mean_absolute_percentage_error: 74.4235 - jump_mu_r2: 0.9411 - lambda_mean_absolute_percentage_error: 73.2631 - lambda_r2: 0.5689    \n",
      "Epoch 1/1\n",
      "10/10 [==============================] - 135s - loss: 0.0107 - sigma_loss: 5.2336e-05 - mu_loss: 0.0030 - jump_sigma_loss: 0.0024 - jump_mu_loss: 0.0052 - lambda_loss: 2.0711e-05 - sigma_mean_absolute_percentage_error: 13.1929 - sigma_r2: 0.9841 - mu_mean_absolute_percentage_error: 90.8836 - mu_r2: 0.9637 - jump_sigma_mean_absolute_percentage_error: 152.4336 - jump_sigma_r2: 0.2668 - jump_mu_mean_absolute_percentage_error: 93.6842 - jump_mu_r2: 0.9382 - lambda_mean_absolute_percentage_error: 69.0044 - lambda_r2: 0.5987    \n",
      "Epoch 1/1\n",
      "10/10 [==============================] - 135s - loss: 0.0103 - sigma_loss: 6.0265e-05 - mu_loss: 0.0030 - jump_sigma_loss: 0.0023 - jump_mu_loss: 0.0049 - lambda_loss: 2.3414e-05 - sigma_mean_absolute_percentage_error: 16.3535 - sigma_r2: 0.9816 - mu_mean_absolute_percentage_error: 120.6437 - mu_r2: 0.9643 - jump_sigma_mean_absolute_percentage_error: 152.9287 - jump_sigma_r2: 0.2950 - jump_mu_mean_absolute_percentage_error: 173.9161 - jump_mu_r2: 0.9407 - lambda_mean_absolute_percentage_error: 85.1787 - lambda_r2: 0.5412    \n",
      "SAVE\n",
      "Epoch 1/1\n",
      "10/10 [==============================] - 135s - loss: 0.0106 - sigma_loss: 5.4468e-05 - mu_loss: 0.0030 - jump_sigma_loss: 0.0024 - jump_mu_loss: 0.0051 - lambda_loss: 2.3060e-05 - sigma_mean_absolute_percentage_error: 15.2470 - sigma_r2: 0.9834 - mu_mean_absolute_percentage_error: 95.6786 - mu_r2: 0.9642 - jump_sigma_mean_absolute_percentage_error: 159.6892 - jump_sigma_r2: 0.2693 - jump_mu_mean_absolute_percentage_error: 95.6663 - jump_mu_r2: 0.9391 - lambda_mean_absolute_percentage_error: 75.0187 - lambda_r2: 0.5567    \n",
      "[master b5b5083] updated history, predictions and model\n",
      " 4 files changed, 15 insertions(+), 1 deletion(-)\n",
      "Branch master set up to track remote branch master from origin.\n",
      "Epoch 1/1\n",
      "10/10 [==============================] - 138s - loss: 0.0107 - sigma_loss: 5.5466e-05 - mu_loss: 0.0034 - jump_sigma_loss: 0.0024 - jump_mu_loss: 0.0049 - lambda_loss: 2.3287e-05 - sigma_mean_absolute_percentage_error: 14.9845 - sigma_r2: 0.9832 - mu_mean_absolute_percentage_error: 268.6871 - mu_r2: 0.9598 - jump_sigma_mean_absolute_percentage_error: 152.8293 - jump_sigma_r2: 0.2930 - jump_mu_mean_absolute_percentage_error: 102.3533 - jump_mu_r2: 0.9411 - lambda_mean_absolute_percentage_error: 74.0555 - lambda_r2: 0.5494    \n",
      "Epoch 1/1\n",
      "10/10 [==============================] - 137s - loss: 0.0106 - sigma_loss: 4.6953e-05 - mu_loss: 0.0033 - jump_sigma_loss: 0.0024 - jump_mu_loss: 0.0049 - lambda_loss: 1.9193e-05 - sigma_mean_absolute_percentage_error: 12.8860 - sigma_r2: 0.9857 - mu_mean_absolute_percentage_error: 123.7880 - mu_r2: 0.9607 - jump_sigma_mean_absolute_percentage_error: 150.8101 - jump_sigma_r2: 0.2849 - jump_mu_mean_absolute_percentage_error: 60.5117 - jump_mu_r2: 0.9423 - lambda_mean_absolute_percentage_error: 65.5958 - lambda_r2: 0.6267    \n",
      "Epoch 1/1\n",
      "10/10 [==============================] - 134s - loss: 0.0104 - sigma_loss: 4.5305e-05 - mu_loss: 0.0029 - jump_sigma_loss: 0.0023 - jump_mu_loss: 0.0052 - lambda_loss: 2.2537e-05 - sigma_mean_absolute_percentage_error: 13.0088 - sigma_r2: 0.9863 - mu_mean_absolute_percentage_error: 228.8153 - mu_r2: 0.9651 - jump_sigma_mean_absolute_percentage_error: 150.7052 - jump_sigma_r2: 0.2960 - jump_mu_mean_absolute_percentage_error: 75.9644 - jump_mu_r2: 0.9383 - lambda_mean_absolute_percentage_error: 76.3525 - lambda_r2: 0.5657    \n",
      "Epoch 1/1\n",
      "10/10 [==============================] - 133s - loss: 0.0105 - sigma_loss: 4.8859e-05 - mu_loss: 0.0031 - jump_sigma_loss: 0.0023 - jump_mu_loss: 0.0051 - lambda_loss: 2.4114e-05 - sigma_mean_absolute_percentage_error: 12.9854 - sigma_r2: 0.9852 - mu_mean_absolute_percentage_error: 86.7148 - mu_r2: 0.9632 - jump_sigma_mean_absolute_percentage_error: 150.2944 - jump_sigma_r2: 0.2970 - jump_mu_mean_absolute_percentage_error: 104.8921 - jump_mu_r2: 0.9399 - lambda_mean_absolute_percentage_error: 77.8976 - lambda_r2: 0.5328    \n",
      "Epoch 1/1\n",
      "10/10 [==============================] - 135s - loss: 0.0110 - sigma_loss: 5.4600e-05 - mu_loss: 0.0035 - jump_sigma_loss: 0.0024 - jump_mu_loss: 0.0050 - lambda_loss: 2.0842e-05 - sigma_mean_absolute_percentage_error: 14.2975 - sigma_r2: 0.9832 - mu_mean_absolute_percentage_error: 139.5493 - mu_r2: 0.9574 - jump_sigma_mean_absolute_percentage_error: 157.9969 - jump_sigma_r2: 0.2607 - jump_mu_mean_absolute_percentage_error: 151.4847 - jump_mu_r2: 0.9392 - lambda_mean_absolute_percentage_error: 70.5513 - lambda_r2: 0.5959    \n",
      "[master ba2fdfc] updated history, predictions and model\n",
      " 3 files changed, 14 insertions(+), 1 deletion(-)\n",
      "Branch master set up to track remote branch master from origin.\n",
      "Epoch 1/1\n"
     ]
    },
    {
     "name": "stdout",
     "output_type": "stream",
     "text": [
      "10/10 [==============================] - 137s - loss: 0.0106 - sigma_loss: 4.9917e-05 - mu_loss: 0.0030 - jump_sigma_loss: 0.0023 - jump_mu_loss: 0.0052 - lambda_loss: 2.0438e-05 - sigma_mean_absolute_percentage_error: 12.5657 - sigma_r2: 0.9848 - mu_mean_absolute_percentage_error: 104.6286 - mu_r2: 0.9643 - jump_sigma_mean_absolute_percentage_error: 151.4693 - jump_sigma_r2: 0.2968 - jump_mu_mean_absolute_percentage_error: 83.5997 - jump_mu_r2: 0.9374 - lambda_mean_absolute_percentage_error: 70.1783 - lambda_r2: 0.6034    \n",
      "Epoch 1/1\n",
      "10/10 [==============================] - 137s - loss: 0.0102 - sigma_loss: 5.1751e-05 - mu_loss: 0.0032 - jump_sigma_loss: 0.0023 - jump_mu_loss: 0.0046 - lambda_loss: 2.4301e-05 - sigma_mean_absolute_percentage_error: 14.2081 - sigma_r2: 0.9842 - mu_mean_absolute_percentage_error: 93.1851 - mu_r2: 0.9618 - jump_sigma_mean_absolute_percentage_error: 147.2444 - jump_sigma_r2: 0.2952 - jump_mu_mean_absolute_percentage_error: 122.0910 - jump_mu_r2: 0.9444 - lambda_mean_absolute_percentage_error: 75.7970 - lambda_r2: 0.5320    \n",
      "SAVE\n",
      "Epoch 1/1\n",
      "10/10 [==============================] - 133s - loss: 0.0110 - sigma_loss: 5.2772e-05 - mu_loss: 0.0034 - jump_sigma_loss: 0.0023 - jump_mu_loss: 0.0052 - lambda_loss: 2.2290e-05 - sigma_mean_absolute_percentage_error: 14.1046 - sigma_r2: 0.9839 - mu_mean_absolute_percentage_error: 92.4754 - mu_r2: 0.9595 - jump_sigma_mean_absolute_percentage_error: 153.4547 - jump_sigma_r2: 0.2925 - jump_mu_mean_absolute_percentage_error: 167.9195 - jump_mu_r2: 0.9380 - lambda_mean_absolute_percentage_error: 70.1908 - lambda_r2: 0.5701    \n",
      "Epoch 1/1\n",
      "10/10 [==============================] - 134s - loss: 0.0109 - sigma_loss: 5.1972e-05 - mu_loss: 0.0033 - jump_sigma_loss: 0.0023 - jump_mu_loss: 0.0052 - lambda_loss: 2.4912e-05 - sigma_mean_absolute_percentage_error: 13.9343 - sigma_r2: 0.9843 - mu_mean_absolute_percentage_error: 73.7604 - mu_r2: 0.9600 - jump_sigma_mean_absolute_percentage_error: 149.5103 - jump_sigma_r2: 0.2940 - jump_mu_mean_absolute_percentage_error: 149.1661 - jump_mu_r2: 0.9374 - lambda_mean_absolute_percentage_error: 70.6429 - lambda_r2: 0.5146    \n",
      "Epoch 1/1\n",
      "10/10 [==============================] - 134s - loss: 0.0104 - sigma_loss: 5.2691e-05 - mu_loss: 0.0033 - jump_sigma_loss: 0.0024 - jump_mu_loss: 0.0046 - lambda_loss: 2.2302e-05 - sigma_mean_absolute_percentage_error: 14.8303 - sigma_r2: 0.9841 - mu_mean_absolute_percentage_error: 155.8598 - mu_r2: 0.9603 - jump_sigma_mean_absolute_percentage_error: 151.1414 - jump_sigma_r2: 0.2834 - jump_mu_mean_absolute_percentage_error: 177.4657 - jump_mu_r2: 0.9441 - lambda_mean_absolute_percentage_error: 73.9719 - lambda_r2: 0.5650    \n",
      "[master 820221f] updated history, predictions and model\n",
      " 4 files changed, 21 insertions(+), 1 deletion(-)\n",
      "Branch master set up to track remote branch master from origin.\n",
      "Epoch 1/1\n",
      "10/10 [==============================] - 137s - loss: 0.0101 - sigma_loss: 4.9878e-05 - mu_loss: 0.0030 - jump_sigma_loss: 0.0023 - jump_mu_loss: 0.0048 - lambda_loss: 2.2739e-05 - sigma_mean_absolute_percentage_error: 14.2658 - sigma_r2: 0.9850 - mu_mean_absolute_percentage_error: 132.6651 - mu_r2: 0.9642 - jump_sigma_mean_absolute_percentage_error: 152.6123 - jump_sigma_r2: 0.2991 - jump_mu_mean_absolute_percentage_error: 90.2446 - jump_mu_r2: 0.9422 - lambda_mean_absolute_percentage_error: 69.1513 - lambda_r2: 0.5545    \n",
      "SAVE\n",
      "Epoch 1/1\n",
      "10/10 [==============================] - 137s - loss: 0.0107 - sigma_loss: 5.7982e-05 - mu_loss: 0.0034 - jump_sigma_loss: 0.0023 - jump_mu_loss: 0.0050 - lambda_loss: 2.0163e-05 - sigma_mean_absolute_percentage_error: 14.4509 - sigma_r2: 0.9824 - mu_mean_absolute_percentage_error: 90.8247 - mu_r2: 0.9598 - jump_sigma_mean_absolute_percentage_error: 148.9593 - jump_sigma_r2: 0.3128 - jump_mu_mean_absolute_percentage_error: 204.6458 - jump_mu_r2: 0.9391 - lambda_mean_absolute_percentage_error: 78.5907 - lambda_r2: 0.6133    \n",
      "Epoch 1/1\n",
      "10/10 [==============================] - 135s - loss: 0.0111 - sigma_loss: 6.7273e-05 - mu_loss: 0.0036 - jump_sigma_loss: 0.0023 - jump_mu_loss: 0.0051 - lambda_loss: 2.4845e-05 - sigma_mean_absolute_percentage_error: 16.5606 - sigma_r2: 0.9796 - mu_mean_absolute_percentage_error: 156.7748 - mu_r2: 0.9565 - jump_sigma_mean_absolute_percentage_error: 148.3003 - jump_sigma_r2: 0.3107 - jump_mu_mean_absolute_percentage_error: 106.7599 - jump_mu_r2: 0.9390 - lambda_mean_absolute_percentage_error: 69.5269 - lambda_r2: 0.5210   \n",
      "Epoch 1/1\n",
      "10/10 [==============================] - 134s - loss: 0.0101 - sigma_loss: 5.1740e-05 - mu_loss: 0.0027 - jump_sigma_loss: 0.0023 - jump_mu_loss: 0.0050 - lambda_loss: 2.4333e-05 - sigma_mean_absolute_percentage_error: 14.4982 - sigma_r2: 0.9842 - mu_mean_absolute_percentage_error: 66.0742 - mu_r2: 0.9669 - jump_sigma_mean_absolute_percentage_error: 144.3628 - jump_sigma_r2: 0.3160 - jump_mu_mean_absolute_percentage_error: 77.4851 - jump_mu_r2: 0.9403 - lambda_mean_absolute_percentage_error: 77.2158 - lambda_r2: 0.5301    \n",
      "SAVE\n",
      "Epoch 1/1\n",
      "10/10 [==============================] - 136s - loss: 0.0104 - sigma_loss: 5.6323e-05 - mu_loss: 0.0029 - jump_sigma_loss: 0.0023 - jump_mu_loss: 0.0050 - lambda_loss: 2.5609e-05 - sigma_mean_absolute_percentage_error: 13.7968 - sigma_r2: 0.9829 - mu_mean_absolute_percentage_error: 131.9419 - mu_r2: 0.9647 - jump_sigma_mean_absolute_percentage_error: 155.2469 - jump_sigma_r2: 0.2964 - jump_mu_mean_absolute_percentage_error: 59.6303 - jump_mu_r2: 0.9405 - lambda_mean_absolute_percentage_error: 69.3612 - lambda_r2: 0.5096    \n",
      "[master a9330e7] updated history, predictions and model\n",
      " 4 files changed, 16 insertions(+), 1 deletion(-)\n",
      "Branch master set up to track remote branch master from origin.\n",
      "Epoch 1/1\n",
      "10/10 [==============================] - 136s - loss: 0.0105 - sigma_loss: 5.4026e-05 - mu_loss: 0.0033 - jump_sigma_loss: 0.0023 - jump_mu_loss: 0.0048 - lambda_loss: 2.1030e-05 - sigma_mean_absolute_percentage_error: 13.7097 - sigma_r2: 0.9837 - mu_mean_absolute_percentage_error: 96.0638 - mu_r2: 0.9602 - jump_sigma_mean_absolute_percentage_error: 147.4881 - jump_sigma_r2: 0.2988 - jump_mu_mean_absolute_percentage_error: 96.8094 - jump_mu_r2: 0.9419 - lambda_mean_absolute_percentage_error: 73.4161 - lambda_r2: 0.5962    \n",
      "Epoch 1/1\n",
      "10/10 [==============================] - 137s - loss: 0.0104 - sigma_loss: 4.6774e-05 - mu_loss: 0.0031 - jump_sigma_loss: 0.0022 - jump_mu_loss: 0.0050 - lambda_loss: 2.9034e-05 - sigma_mean_absolute_percentage_error: 12.0128 - sigma_r2: 0.9857 - mu_mean_absolute_percentage_error: 84.5210 - mu_r2: 0.9633 - jump_sigma_mean_absolute_percentage_error: 150.3975 - jump_sigma_r2: 0.3192 - jump_mu_mean_absolute_percentage_error: 86.9965 - jump_mu_r2: 0.9393 - lambda_mean_absolute_percentage_error: 74.1979 - lambda_r2: 0.4340    \n",
      "Epoch 1/1\n",
      "10/10 [==============================] - 134s - loss: 0.0116 - sigma_loss: 5.3733e-05 - mu_loss: 0.0043 - jump_sigma_loss: 0.0023 - jump_mu_loss: 0.0050 - lambda_loss: 2.4228e-05 - sigma_mean_absolute_percentage_error: 13.1256 - sigma_r2: 0.9835 - mu_mean_absolute_percentage_error: 499.9769 - mu_r2: 0.9490 - jump_sigma_mean_absolute_percentage_error: 146.4099 - jump_sigma_r2: 0.2980 - jump_mu_mean_absolute_percentage_error: 76.9520 - jump_mu_r2: 0.9405 - lambda_mean_absolute_percentage_error: 73.5517 - lambda_r2: 0.5261    \n",
      "Epoch 1/1\n",
      "10/10 [==============================] - 134s - loss: 0.0114 - sigma_loss: 5.3847e-05 - mu_loss: 0.0042 - jump_sigma_loss: 0.0024 - jump_mu_loss: 0.0048 - lambda_loss: 2.8069e-05 - sigma_mean_absolute_percentage_error: 13.5928 - sigma_r2: 0.9837 - mu_mean_absolute_percentage_error: 205.9823 - mu_r2: 0.9497 - jump_sigma_mean_absolute_percentage_error: 154.8195 - jump_sigma_r2: 0.2884 - jump_mu_mean_absolute_percentage_error: 61.7353 - jump_mu_r2: 0.9423 - lambda_mean_absolute_percentage_error: 74.3515 - lambda_r2: 0.4531    \n",
      "Epoch 1/1\n"
     ]
    },
    {
     "name": "stdout",
     "output_type": "stream",
     "text": [
      "10/10 [==============================] - 135s - loss: 0.0113 - sigma_loss: 5.7317e-05 - mu_loss: 0.0038 - jump_sigma_loss: 0.0023 - jump_mu_loss: 0.0051 - lambda_loss: 2.1286e-05 - sigma_mean_absolute_percentage_error: 13.6924 - sigma_r2: 0.9826 - mu_mean_absolute_percentage_error: 128.6326 - mu_r2: 0.9537 - jump_sigma_mean_absolute_percentage_error: 144.6233 - jump_sigma_r2: 0.2879 - jump_mu_mean_absolute_percentage_error: 72.2804 - jump_mu_r2: 0.9396 - lambda_mean_absolute_percentage_error: 76.2475 - lambda_r2: 0.5914    \n",
      "[master 5242320] updated history, predictions and model\n",
      " 3 files changed, 20 insertions(+), 1 deletion(-)\n",
      "Branch master set up to track remote branch master from origin.\n",
      "Epoch 1/1\n",
      "10/10 [==============================] - 137s - loss: 0.0103 - sigma_loss: 5.2719e-05 - mu_loss: 0.0031 - jump_sigma_loss: 0.0023 - jump_mu_loss: 0.0049 - lambda_loss: 2.4733e-05 - sigma_mean_absolute_percentage_error: 13.3287 - sigma_r2: 0.9842 - mu_mean_absolute_percentage_error: 101.2242 - mu_r2: 0.9632 - jump_sigma_mean_absolute_percentage_error: 148.5099 - jump_sigma_r2: 0.3062 - jump_mu_mean_absolute_percentage_error: 70.7828 - jump_mu_r2: 0.9428 - lambda_mean_absolute_percentage_error: 67.6779 - lambda_r2: 0.5238    \n",
      "Epoch 1/1\n",
      "10/10 [==============================] - 134s - loss: 0.0104 - sigma_loss: 5.1991e-05 - mu_loss: 0.0031 - jump_sigma_loss: 0.0023 - jump_mu_loss: 0.0049 - lambda_loss: 2.3956e-05 - sigma_mean_absolute_percentage_error: 15.1998 - sigma_r2: 0.9842 - mu_mean_absolute_percentage_error: 89.3126 - mu_r2: 0.9632 - jump_sigma_mean_absolute_percentage_error: 147.2336 - jump_sigma_r2: 0.3124 - jump_mu_mean_absolute_percentage_error: 82.1414 - jump_mu_r2: 0.9408 - lambda_mean_absolute_percentage_error: 79.6811 - lambda_r2: 0.5320    \n",
      "Epoch 1/1\n",
      "10/10 [==============================] - 133s - loss: 0.0105 - sigma_loss: 5.4757e-05 - mu_loss: 0.0031 - jump_sigma_loss: 0.0023 - jump_mu_loss: 0.0049 - lambda_loss: 2.2919e-05 - sigma_mean_absolute_percentage_error: 14.3029 - sigma_r2: 0.9834 - mu_mean_absolute_percentage_error: 85.6275 - mu_r2: 0.9620 - jump_sigma_mean_absolute_percentage_error: 152.9057 - jump_sigma_r2: 0.2963 - jump_mu_mean_absolute_percentage_error: 76.9501 - jump_mu_r2: 0.9416 - lambda_mean_absolute_percentage_error: 74.1604 - lambda_r2: 0.5534    \n",
      "Epoch 1/1\n",
      "10/10 [==============================] - 134s - loss: 0.0099 - sigma_loss: 5.5182e-05 - mu_loss: 0.0027 - jump_sigma_loss: 0.0023 - jump_mu_loss: 0.0048 - lambda_loss: 2.1225e-05 - sigma_mean_absolute_percentage_error: 13.9152 - sigma_r2: 0.9831 - mu_mean_absolute_percentage_error: 75.8533 - mu_r2: 0.9675 - jump_sigma_mean_absolute_percentage_error: 150.8658 - jump_sigma_r2: 0.3041 - jump_mu_mean_absolute_percentage_error: 64.3352 - jump_mu_r2: 0.9416 - lambda_mean_absolute_percentage_error: 72.0098 - lambda_r2: 0.5849    \n",
      "SAVE\n",
      "Epoch 1/1\n",
      "10/10 [==============================] - 134s - loss: 0.0099 - sigma_loss: 4.6072e-05 - mu_loss: 0.0027 - jump_sigma_loss: 0.0023 - jump_mu_loss: 0.0048 - lambda_loss: 2.0351e-05 - sigma_mean_absolute_percentage_error: 11.6105 - sigma_r2: 0.9860 - mu_mean_absolute_percentage_error: 111.1875 - mu_r2: 0.9672 - jump_sigma_mean_absolute_percentage_error: 156.0655 - jump_sigma_r2: 0.3102 - jump_mu_mean_absolute_percentage_error: 68.4480 - jump_mu_r2: 0.9421 - lambda_mean_absolute_percentage_error: 70.1183 - lambda_r2: 0.6092    \n",
      "[master 100e028] updated history, predictions and model\n",
      " 4 files changed, 15 insertions(+), 1 deletion(-)\n",
      "Branch master set up to track remote branch master from origin.\n",
      "Epoch 1/1\n",
      "10/10 [==============================] - 137s - loss: 0.0098 - sigma_loss: 4.1912e-05 - mu_loss: 0.0029 - jump_sigma_loss: 0.0022 - jump_mu_loss: 0.0047 - lambda_loss: 1.8270e-05 - sigma_mean_absolute_percentage_error: 11.9863 - sigma_r2: 0.9872 - mu_mean_absolute_percentage_error: 199.3258 - mu_r2: 0.9654 - jump_sigma_mean_absolute_percentage_error: 140.4826 - jump_sigma_r2: 0.3179 - jump_mu_mean_absolute_percentage_error: 77.6959 - jump_mu_r2: 0.9436 - lambda_mean_absolute_percentage_error: 68.0677 - lambda_r2: 0.6488    \n",
      "SAVE\n",
      "Epoch 1/1\n",
      "10/10 [==============================] - 134s - loss: 0.0100 - sigma_loss: 4.6320e-05 - mu_loss: 0.0029 - jump_sigma_loss: 0.0023 - jump_mu_loss: 0.0047 - lambda_loss: 2.0036e-05 - sigma_mean_absolute_percentage_error: 13.4108 - sigma_r2: 0.9860 - mu_mean_absolute_percentage_error: 85.2324 - mu_r2: 0.9643 - jump_sigma_mean_absolute_percentage_error: 146.0435 - jump_sigma_r2: 0.3002 - jump_mu_mean_absolute_percentage_error: 170.3559 - jump_mu_r2: 0.9431 - lambda_mean_absolute_percentage_error: 72.9201 - lambda_r2: 0.6138    \n",
      "Epoch 1/1\n",
      "10/10 [==============================] - 133s - loss: 0.0105 - sigma_loss: 5.2459e-05 - mu_loss: 0.0030 - jump_sigma_loss: 0.0024 - jump_mu_loss: 0.0051 - lambda_loss: 2.4326e-05 - sigma_mean_absolute_percentage_error: 12.9583 - sigma_r2: 0.9843 - mu_mean_absolute_percentage_error: 75.0608 - mu_r2: 0.9647 - jump_sigma_mean_absolute_percentage_error: 155.2940 - jump_sigma_r2: 0.2777 - jump_mu_mean_absolute_percentage_error: 71.4586 - jump_mu_r2: 0.9390 - lambda_mean_absolute_percentage_error: 76.0039 - lambda_r2: 0.5260    \n",
      "Epoch 1/1\n",
      "10/10 [==============================] - 133s - loss: 0.0104 - sigma_loss: 5.5853e-05 - mu_loss: 0.0030 - jump_sigma_loss: 0.0023 - jump_mu_loss: 0.0050 - lambda_loss: 2.1502e-05 - sigma_mean_absolute_percentage_error: 14.7003 - sigma_r2: 0.9829 - mu_mean_absolute_percentage_error: 73.3847 - mu_r2: 0.9644 - jump_sigma_mean_absolute_percentage_error: 142.1790 - jump_sigma_r2: 0.2951 - jump_mu_mean_absolute_percentage_error: 101.4228 - jump_mu_r2: 0.9400 - lambda_mean_absolute_percentage_error: 69.7154 - lambda_r2: 0.5813    \n",
      "Epoch 1/1\n",
      "10/10 [==============================] - 134s - loss: 0.0105 - sigma_loss: 4.7134e-05 - mu_loss: 0.0034 - jump_sigma_loss: 0.0022 - jump_mu_loss: 0.0048 - lambda_loss: 2.2741e-05 - sigma_mean_absolute_percentage_error: 12.2771 - sigma_r2: 0.9858 - mu_mean_absolute_percentage_error: 85.4045 - mu_r2: 0.9593 - jump_sigma_mean_absolute_percentage_error: 147.1467 - jump_sigma_r2: 0.3206 - jump_mu_mean_absolute_percentage_error: 89.2957 - jump_mu_r2: 0.9417 - lambda_mean_absolute_percentage_error: 70.2786 - lambda_r2: 0.5613    \n",
      "[master a11d92a] updated history, predictions and model\n",
      " 4 files changed, 15 insertions(+), 1 deletion(-)\n",
      "Branch master set up to track remote branch master from origin.\n",
      "Epoch 1/1\n",
      "10/10 [==============================] - 137s - loss: 0.0102 - sigma_loss: 5.3043e-05 - mu_loss: 0.0030 - jump_sigma_loss: 0.0022 - jump_mu_loss: 0.0049 - lambda_loss: 2.0430e-05 - sigma_mean_absolute_percentage_error: 14.6040 - sigma_r2: 0.9842 - mu_mean_absolute_percentage_error: 298.2327 - mu_r2: 0.9638 - jump_sigma_mean_absolute_percentage_error: 145.1478 - jump_sigma_r2: 0.3224 - jump_mu_mean_absolute_percentage_error: 78.7579 - jump_mu_r2: 0.9410 - lambda_mean_absolute_percentage_error: 68.2484 - lambda_r2: 0.6092    \n",
      "Epoch 1/1\n",
      "10/10 [==============================] - 136s - loss: 0.0101 - sigma_loss: 6.5615e-05 - mu_loss: 0.0028 - jump_sigma_loss: 0.0023 - jump_mu_loss: 0.0049 - lambda_loss: 1.8876e-05 - sigma_mean_absolute_percentage_error: 15.2918 - sigma_r2: 0.9801 - mu_mean_absolute_percentage_error: 87.0429 - mu_r2: 0.9662 - jump_sigma_mean_absolute_percentage_error: 148.6851 - jump_sigma_r2: 0.3050 - jump_mu_mean_absolute_percentage_error: 80.1947 - jump_mu_r2: 0.9414 - lambda_mean_absolute_percentage_error: 70.6034 - lambda_r2: 0.6330    \n",
      "Epoch 1/1\n",
      "10/10 [==============================] - 134s - loss: 0.0103 - sigma_loss: 5.2165e-05 - mu_loss: 0.0030 - jump_sigma_loss: 0.0023 - jump_mu_loss: 0.0050 - lambda_loss: 1.9916e-05 - sigma_mean_absolute_percentage_error: 13.3796 - sigma_r2: 0.9844 - mu_mean_absolute_percentage_error: 83.0255 - mu_r2: 0.9634 - jump_sigma_mean_absolute_percentage_error: 148.0526 - jump_sigma_r2: 0.2983 - jump_mu_mean_absolute_percentage_error: 89.5732 - jump_mu_r2: 0.9410 - lambda_mean_absolute_percentage_error: 68.9297 - lambda_r2: 0.6101    \n",
      "Epoch 1/1\n"
     ]
    },
    {
     "name": "stdout",
     "output_type": "stream",
     "text": [
      "10/10 [==============================] - 134s - loss: 0.0107 - sigma_loss: 5.3809e-05 - mu_loss: 0.0032 - jump_sigma_loss: 0.0023 - jump_mu_loss: 0.0052 - lambda_loss: 2.1935e-05 - sigma_mean_absolute_percentage_error: 14.3319 - sigma_r2: 0.9837 - mu_mean_absolute_percentage_error: 182.6198 - mu_r2: 0.9618 - jump_sigma_mean_absolute_percentage_error: 152.4358 - jump_sigma_r2: 0.2952 - jump_mu_mean_absolute_percentage_error: 91.5849 - jump_mu_r2: 0.9384 - lambda_mean_absolute_percentage_error: 74.1143 - lambda_r2: 0.5782    \n",
      "Epoch 1/1\n",
      "10/10 [==============================] - 135s - loss: 0.0103 - sigma_loss: 4.4927e-05 - mu_loss: 0.0032 - jump_sigma_loss: 0.0022 - jump_mu_loss: 0.0048 - lambda_loss: 2.2106e-05 - sigma_mean_absolute_percentage_error: 12.6127 - sigma_r2: 0.9864 - mu_mean_absolute_percentage_error: 85.1623 - mu_r2: 0.9612 - jump_sigma_mean_absolute_percentage_error: 140.0042 - jump_sigma_r2: 0.3248 - jump_mu_mean_absolute_percentage_error: 2279.7941 - jump_mu_r2: 0.9426 - lambda_mean_absolute_percentage_error: 72.9180 - lambda_r2: 0.5722    \n",
      "[master b30cef8] updated history, predictions and model\n",
      " 3 files changed, 20 insertions(+), 1 deletion(-)\n",
      "Branch master set up to track remote branch master from origin.\n",
      "Epoch 1/1\n",
      "10/10 [==============================] - 137s - loss: 0.0102 - sigma_loss: 4.6624e-05 - mu_loss: 0.0031 - jump_sigma_loss: 0.0022 - jump_mu_loss: 0.0047 - lambda_loss: 1.8630e-05 - sigma_mean_absolute_percentage_error: 12.4554 - sigma_r2: 0.9861 - mu_mean_absolute_percentage_error: 123.1307 - mu_r2: 0.9625 - jump_sigma_mean_absolute_percentage_error: 150.8173 - jump_sigma_r2: 0.3156 - jump_mu_mean_absolute_percentage_error: 94.8262 - jump_mu_r2: 0.9431 - lambda_mean_absolute_percentage_error: 69.9043 - lambda_r2: 0.6455    \n",
      "Epoch 1/1\n",
      "10/10 [==============================] - 134s - loss: 0.0102 - sigma_loss: 4.4477e-05 - mu_loss: 0.0030 - jump_sigma_loss: 0.0023 - jump_mu_loss: 0.0049 - lambda_loss: 1.8459e-05 - sigma_mean_absolute_percentage_error: 12.4639 - sigma_r2: 0.9866 - mu_mean_absolute_percentage_error: 75.7284 - mu_r2: 0.9638 - jump_sigma_mean_absolute_percentage_error: 150.3482 - jump_sigma_r2: 0.3008 - jump_mu_mean_absolute_percentage_error: 108.7009 - jump_mu_r2: 0.9418 - lambda_mean_absolute_percentage_error: 63.8264 - lambda_r2: 0.6467    \n",
      "Epoch 1/1\n",
      "10/10 [==============================] - 134s - loss: 0.0099 - sigma_loss: 5.0798e-05 - mu_loss: 0.0028 - jump_sigma_loss: 0.0023 - jump_mu_loss: 0.0047 - lambda_loss: 1.8817e-05 - sigma_mean_absolute_percentage_error: 12.5964 - sigma_r2: 0.9845 - mu_mean_absolute_percentage_error: 113.6602 - mu_r2: 0.9659 - jump_sigma_mean_absolute_percentage_error: 146.0521 - jump_sigma_r2: 0.3046 - jump_mu_mean_absolute_percentage_error: 64.4040 - jump_mu_r2: 0.9436 - lambda_mean_absolute_percentage_error: 69.7784 - lambda_r2: 0.6351    \n",
      "Epoch 1/1\n",
      "10/10 [==============================] - 135s - loss: 0.0104 - sigma_loss: 5.6313e-05 - mu_loss: 0.0029 - jump_sigma_loss: 0.0022 - jump_mu_loss: 0.0053 - lambda_loss: 2.4588e-05 - sigma_mean_absolute_percentage_error: 14.2655 - sigma_r2: 0.9829 - mu_mean_absolute_percentage_error: 529.9493 - mu_r2: 0.9658 - jump_sigma_mean_absolute_percentage_error: 141.3332 - jump_sigma_r2: 0.3154 - jump_mu_mean_absolute_percentage_error: 135.5276 - jump_mu_r2: 0.9362 - lambda_mean_absolute_percentage_error: 68.9673 - lambda_r2: 0.5245   \n",
      "Epoch 1/1\n",
      "10/10 [==============================] - 135s - loss: 0.0100 - sigma_loss: 7.4436e-05 - mu_loss: 0.0028 - jump_sigma_loss: 0.0023 - jump_mu_loss: 0.0048 - lambda_loss: 2.7334e-05 - sigma_mean_absolute_percentage_error: 16.7483 - sigma_r2: 0.9774 - mu_mean_absolute_percentage_error: 107.1187 - mu_r2: 0.9666 - jump_sigma_mean_absolute_percentage_error: 151.3276 - jump_sigma_r2: 0.2943 - jump_mu_mean_absolute_percentage_error: 57.3882 - jump_mu_r2: 0.9423 - lambda_mean_absolute_percentage_error: 87.0265 - lambda_r2: 0.4677   \n",
      "[master 2c3e4d8] updated history, predictions and model\n",
      " 3 files changed, 14 insertions(+), 1 deletion(-)\n",
      "Branch master set up to track remote branch master from origin.\n",
      "Epoch 1/1\n",
      "10/10 [==============================] - 138s - loss: 0.0104 - sigma_loss: 7.4696e-05 - mu_loss: 0.0034 - jump_sigma_loss: 0.0022 - jump_mu_loss: 0.0047 - lambda_loss: 1.9215e-05 - sigma_mean_absolute_percentage_error: 15.2120 - sigma_r2: 0.9771 - mu_mean_absolute_percentage_error: 78.4372 - mu_r2: 0.9588 - jump_sigma_mean_absolute_percentage_error: 149.8131 - jump_sigma_r2: 0.3346 - jump_mu_mean_absolute_percentage_error: 101.4532 - jump_mu_r2: 0.9433 - lambda_mean_absolute_percentage_error: 64.7975 - lambda_r2: 0.6257    \n",
      "Epoch 1/1\n",
      "10/10 [==============================] - 134s - loss: 0.0102 - sigma_loss: 6.6231e-05 - mu_loss: 0.0033 - jump_sigma_loss: 0.0023 - jump_mu_loss: 0.0046 - lambda_loss: 1.9190e-05 - sigma_mean_absolute_percentage_error: 16.9857 - sigma_r2: 0.9800 - mu_mean_absolute_percentage_error: 131.2008 - mu_r2: 0.9604 - jump_sigma_mean_absolute_percentage_error: 152.7071 - jump_sigma_r2: 0.3113 - jump_mu_mean_absolute_percentage_error: 94.9725 - jump_mu_r2: 0.9448 - lambda_mean_absolute_percentage_error: 69.1797 - lambda_r2: 0.6310    \n",
      "Epoch 1/1\n",
      "10/10 [==============================] - 134s - loss: 0.0100 - sigma_loss: 5.0370e-05 - mu_loss: 0.0027 - jump_sigma_loss: 0.0023 - jump_mu_loss: 0.0049 - lambda_loss: 1.7922e-05 - sigma_mean_absolute_percentage_error: 12.9196 - sigma_r2: 0.9848 - mu_mean_absolute_percentage_error: 159.3725 - mu_r2: 0.9672 - jump_sigma_mean_absolute_percentage_error: 153.3106 - jump_sigma_r2: 0.3073 - jump_mu_mean_absolute_percentage_error: 74.2513 - jump_mu_r2: 0.9422 - lambda_mean_absolute_percentage_error: 73.4381 - lambda_r2: 0.6542    \n",
      "Epoch 1/1\n",
      "10/10 [==============================] - 133s - loss: 0.0104 - sigma_loss: 4.4061e-05 - mu_loss: 0.0033 - jump_sigma_loss: 0.0022 - jump_mu_loss: 0.0048 - lambda_loss: 1.7949e-05 - sigma_mean_absolute_percentage_error: 13.1879 - sigma_r2: 0.9867 - mu_mean_absolute_percentage_error: 141.8369 - mu_r2: 0.9610 - jump_sigma_mean_absolute_percentage_error: 146.2321 - jump_sigma_r2: 0.3204 - jump_mu_mean_absolute_percentage_error: 71.2064 - jump_mu_r2: 0.9419 - lambda_mean_absolute_percentage_error: 64.4158 - lambda_r2: 0.6540    \n",
      "Epoch 1/1\n",
      "10/10 [==============================] - 135s - loss: 0.0113 - sigma_loss: 4.6301e-05 - mu_loss: 0.0046 - jump_sigma_loss: 0.0022 - jump_mu_loss: 0.0045 - lambda_loss: 1.9818e-05 - sigma_mean_absolute_percentage_error: 13.3975 - sigma_r2: 0.9861 - mu_mean_absolute_percentage_error: 105.8685 - mu_r2: 0.9447 - jump_sigma_mean_absolute_percentage_error: 149.4721 - jump_sigma_r2: 0.3360 - jump_mu_mean_absolute_percentage_error: 70.6389 - jump_mu_r2: 0.9453 - lambda_mean_absolute_percentage_error: 70.6192 - lambda_r2: 0.6174    \n",
      "[master e21d3a8] updated history, predictions and model\n",
      " 3 files changed, 14 insertions(+), 1 deletion(-)\n",
      "Branch master set up to track remote branch master from origin.\n",
      "Epoch 1/1\n",
      "10/10 [==============================] - 136s - loss: 0.0108 - sigma_loss: 4.9001e-05 - mu_loss: 0.0039 - jump_sigma_loss: 0.0023 - jump_mu_loss: 0.0046 - lambda_loss: 2.1639e-05 - sigma_mean_absolute_percentage_error: 15.2557 - sigma_r2: 0.9853 - mu_mean_absolute_percentage_error: 85.0109 - mu_r2: 0.9530 - jump_sigma_mean_absolute_percentage_error: 147.3136 - jump_sigma_r2: 0.3071 - jump_mu_mean_absolute_percentage_error: 102.2152 - jump_mu_r2: 0.9451 - lambda_mean_absolute_percentage_error: 65.9806 - lambda_r2: 0.5810    \n",
      "Epoch 1/1\n",
      "10/10 [==============================] - 134s - loss: 0.0108 - sigma_loss: 5.3726e-05 - mu_loss: 0.0035 - jump_sigma_loss: 0.0023 - jump_mu_loss: 0.0050 - lambda_loss: 2.4644e-05 - sigma_mean_absolute_percentage_error: 14.0990 - sigma_r2: 0.9838 - mu_mean_absolute_percentage_error: 94.9592 - mu_r2: 0.9576 - jump_sigma_mean_absolute_percentage_error: 155.9204 - jump_sigma_r2: 0.3107 - jump_mu_mean_absolute_percentage_error: 86.8754 - jump_mu_r2: 0.9400 - lambda_mean_absolute_percentage_error: 76.3225 - lambda_r2: 0.5193    \n",
      "Epoch 1/1\n"
     ]
    },
    {
     "name": "stdout",
     "output_type": "stream",
     "text": [
      "10/10 [==============================] - 134s - loss: 0.0100 - sigma_loss: 5.1716e-05 - mu_loss: 0.0028 - jump_sigma_loss: 0.0023 - jump_mu_loss: 0.0048 - lambda_loss: 2.4462e-05 - sigma_mean_absolute_percentage_error: 14.6588 - sigma_r2: 0.9842 - mu_mean_absolute_percentage_error: 75.3845 - mu_r2: 0.9665 - jump_sigma_mean_absolute_percentage_error: 151.0800 - jump_sigma_r2: 0.3076 - jump_mu_mean_absolute_percentage_error: 67.0924 - jump_mu_r2: 0.9427 - lambda_mean_absolute_percentage_error: 70.4151 - lambda_r2: 0.5269    \n",
      "Epoch 1/1\n",
      "10/10 [==============================] - 133s - loss: 0.0097 - sigma_loss: 5.6503e-05 - mu_loss: 0.0027 - jump_sigma_loss: 0.0022 - jump_mu_loss: 0.0047 - lambda_loss: 2.2331e-05 - sigma_mean_absolute_percentage_error: 15.3900 - sigma_r2: 0.9829 - mu_mean_absolute_percentage_error: 128.8099 - mu_r2: 0.9673 - jump_sigma_mean_absolute_percentage_error: 145.9953 - jump_sigma_r2: 0.3232 - jump_mu_mean_absolute_percentage_error: 327.5632 - jump_mu_r2: 0.9440 - lambda_mean_absolute_percentage_error: 64.0732 - lambda_r2: 0.5672    \n",
      "SAVE\n",
      "Epoch 1/1\n",
      "10/10 [==============================] - 135s - loss: 0.0102 - sigma_loss: 5.9436e-05 - mu_loss: 0.0029 - jump_sigma_loss: 0.0022 - jump_mu_loss: 0.0049 - lambda_loss: 2.3643e-05 - sigma_mean_absolute_percentage_error: 16.0773 - sigma_r2: 0.9819 - mu_mean_absolute_percentage_error: 105.0087 - mu_r2: 0.9648 - jump_sigma_mean_absolute_percentage_error: 151.6014 - jump_sigma_r2: 0.3299 - jump_mu_mean_absolute_percentage_error: 57.1319 - jump_mu_r2: 0.9416 - lambda_mean_absolute_percentage_error: 80.0034 - lambda_r2: 0.5353    \n",
      "[master 8d43eda] updated history, predictions and model\n",
      " 4 files changed, 21 insertions(+), 1 deletion(-)\n",
      "Branch master set up to track remote branch master from origin.\n",
      "Epoch 1/1\n",
      "10/10 [==============================] - 136s - loss: 0.0097 - sigma_loss: 5.6206e-05 - mu_loss: 0.0028 - jump_sigma_loss: 0.0022 - jump_mu_loss: 0.0046 - lambda_loss: 2.1265e-05 - sigma_mean_absolute_percentage_error: 16.0337 - sigma_r2: 0.9829 - mu_mean_absolute_percentage_error: 70.3246 - mu_r2: 0.9662 - jump_sigma_mean_absolute_percentage_error: 142.3290 - jump_sigma_r2: 0.3415 - jump_mu_mean_absolute_percentage_error: 74.7615 - jump_mu_r2: 0.9436 - lambda_mean_absolute_percentage_error: 75.9353 - lambda_r2: 0.5904    \n",
      "SAVE\n",
      "Epoch 1/1\n",
      "10/10 [==============================] - 134s - loss: 0.0098 - sigma_loss: 4.8475e-05 - mu_loss: 0.0030 - jump_sigma_loss: 0.0022 - jump_mu_loss: 0.0045 - lambda_loss: 2.4754e-05 - sigma_mean_absolute_percentage_error: 12.1853 - sigma_r2: 0.9852 - mu_mean_absolute_percentage_error: 76.7034 - mu_r2: 0.9641 - jump_sigma_mean_absolute_percentage_error: 144.2944 - jump_sigma_r2: 0.3369 - jump_mu_mean_absolute_percentage_error: 113.9906 - jump_mu_r2: 0.9458 - lambda_mean_absolute_percentage_error: 66.6254 - lambda_r2: 0.5248    \n",
      "Epoch 1/1\n",
      "10/10 [==============================] - 134s - loss: 0.0100 - sigma_loss: 5.3516e-05 - mu_loss: 0.0027 - jump_sigma_loss: 0.0023 - jump_mu_loss: 0.0049 - lambda_loss: 1.8735e-05 - sigma_mean_absolute_percentage_error: 13.4676 - sigma_r2: 0.9839 - mu_mean_absolute_percentage_error: 77.0419 - mu_r2: 0.9670 - jump_sigma_mean_absolute_percentage_error: 144.9108 - jump_sigma_r2: 0.3210 - jump_mu_mean_absolute_percentage_error: 94.0215 - jump_mu_r2: 0.9408 - lambda_mean_absolute_percentage_error: 68.5496 - lambda_r2: 0.6420    \n",
      "Epoch 1/1\n",
      "10/10 [==============================] - 134s - loss: 0.0097 - sigma_loss: 5.2910e-05 - mu_loss: 0.0027 - jump_sigma_loss: 0.0022 - jump_mu_loss: 0.0047 - lambda_loss: 1.8668e-05 - sigma_mean_absolute_percentage_error: 12.9729 - sigma_r2: 0.9841 - mu_mean_absolute_percentage_error: 71.5790 - mu_r2: 0.9676 - jump_sigma_mean_absolute_percentage_error: 152.7294 - jump_sigma_r2: 0.3298 - jump_mu_mean_absolute_percentage_error: 80.2408 - jump_mu_r2: 0.9438 - lambda_mean_absolute_percentage_error: 66.1316 - lambda_r2: 0.6365    \n",
      "SAVE\n",
      "Epoch 1/1\n",
      "10/10 [==============================] - 134s - loss: 0.0099 - sigma_loss: 4.7270e-05 - mu_loss: 0.0031 - jump_sigma_loss: 0.0022 - jump_mu_loss: 0.0046 - lambda_loss: 1.8914e-05 - sigma_mean_absolute_percentage_error: 13.6686 - sigma_r2: 0.9857 - mu_mean_absolute_percentage_error: 104.0656 - mu_r2: 0.9631 - jump_sigma_mean_absolute_percentage_error: 143.2987 - jump_sigma_r2: 0.3424 - jump_mu_mean_absolute_percentage_error: 73.4176 - jump_mu_r2: 0.9441 - lambda_mean_absolute_percentage_error: 70.5214 - lambda_r2: 0.6332    \n",
      "[master 1459225] updated history, predictions and model\n",
      " 4 files changed, 16 insertions(+), 1 deletion(-)\n",
      "Branch master set up to track remote branch master from origin.\n",
      "Epoch 1/1\n",
      "10/10 [==============================] - 136s - loss: 0.0100 - sigma_loss: 4.5062e-05 - mu_loss: 0.0029 - jump_sigma_loss: 0.0022 - jump_mu_loss: 0.0048 - lambda_loss: 1.7452e-05 - sigma_mean_absolute_percentage_error: 11.7682 - sigma_r2: 0.9862 - mu_mean_absolute_percentage_error: 108.2756 - mu_r2: 0.9656 - jump_sigma_mean_absolute_percentage_error: 150.2895 - jump_sigma_r2: 0.3334 - jump_mu_mean_absolute_percentage_error: 123.8582 - jump_mu_r2: 0.9421 - lambda_mean_absolute_percentage_error: 61.7057 - lambda_r2: 0.6637    \n",
      "Epoch 1/1\n",
      "10/10 [==============================] - 134s - loss: 0.0099 - sigma_loss: 4.0576e-05 - mu_loss: 0.0030 - jump_sigma_loss: 0.0022 - jump_mu_loss: 0.0046 - lambda_loss: 1.9961e-05 - sigma_mean_absolute_percentage_error: 11.0696 - sigma_r2: 0.9876 - mu_mean_absolute_percentage_error: 273.8740 - mu_r2: 0.9638 - jump_sigma_mean_absolute_percentage_error: 140.8962 - jump_sigma_r2: 0.3368 - jump_mu_mean_absolute_percentage_error: 66.5945 - jump_mu_r2: 0.9443 - lambda_mean_absolute_percentage_error: 71.9754 - lambda_r2: 0.6158    \n",
      "Epoch 1/1\n",
      "10/10 [==============================] - 135s - loss: 0.0093 - sigma_loss: 3.8517e-05 - mu_loss: 0.0027 - jump_sigma_loss: 0.0021 - jump_mu_loss: 0.0045 - lambda_loss: 1.8604e-05 - sigma_mean_absolute_percentage_error: 11.3752 - sigma_r2: 0.9882 - mu_mean_absolute_percentage_error: 109.7315 - mu_r2: 0.9680 - jump_sigma_mean_absolute_percentage_error: 141.3777 - jump_sigma_r2: 0.3457 - jump_mu_mean_absolute_percentage_error: 84.4231 - jump_mu_r2: 0.9465 - lambda_mean_absolute_percentage_error: 64.5336 - lambda_r2: 0.6431    \n",
      "SAVE\n",
      "Epoch 1/1\n",
      "10/10 [==============================] - 134s - loss: 0.0097 - sigma_loss: 3.9224e-05 - mu_loss: 0.0027 - jump_sigma_loss: 0.0022 - jump_mu_loss: 0.0047 - lambda_loss: 1.7100e-05 - sigma_mean_absolute_percentage_error: 10.6592 - sigma_r2: 0.9881 - mu_mean_absolute_percentage_error: 74.9501 - mu_r2: 0.9679 - jump_sigma_mean_absolute_percentage_error: 143.4645 - jump_sigma_r2: 0.3196 - jump_mu_mean_absolute_percentage_error: 85.0020 - jump_mu_r2: 0.9437 - lambda_mean_absolute_percentage_error: 65.1116 - lambda_r2: 0.6669    \n",
      "Epoch 1/1\n",
      "10/10 [==============================] - 134s - loss: 0.0100 - sigma_loss: 4.6491e-05 - mu_loss: 0.0029 - jump_sigma_loss: 0.0022 - jump_mu_loss: 0.0048 - lambda_loss: 1.6582e-05 - sigma_mean_absolute_percentage_error: 13.2371 - sigma_r2: 0.9859 - mu_mean_absolute_percentage_error: 105.8159 - mu_r2: 0.9655 - jump_sigma_mean_absolute_percentage_error: 151.0801 - jump_sigma_r2: 0.3225 - jump_mu_mean_absolute_percentage_error: 103.0230 - jump_mu_r2: 0.9422 - lambda_mean_absolute_percentage_error: 62.8177 - lambda_r2: 0.6761   \n",
      "[master cbeffe7] updated history, predictions and model\n",
      " 4 files changed, 15 insertions(+), 1 deletion(-)\n",
      "Branch master set up to track remote branch master from origin.\n",
      "Epoch 1/1\n",
      "10/10 [==============================] - 135s - loss: 0.0097 - sigma_loss: 4.3708e-05 - mu_loss: 0.0028 - jump_sigma_loss: 0.0022 - jump_mu_loss: 0.0047 - lambda_loss: 1.6906e-05 - sigma_mean_absolute_percentage_error: 12.5609 - sigma_r2: 0.9866 - mu_mean_absolute_percentage_error: 84.2390 - mu_r2: 0.9667 - jump_sigma_mean_absolute_percentage_error: 139.2840 - jump_sigma_r2: 0.3324 - jump_mu_mean_absolute_percentage_error: 65.8472 - jump_mu_r2: 0.9427 - lambda_mean_absolute_percentage_error: 67.4095 - lambda_r2: 0.6778    \n",
      "Epoch 1/1\n"
     ]
    },
    {
     "name": "stdout",
     "output_type": "stream",
     "text": [
      "10/10 [==============================] - 134s - loss: 0.0099 - sigma_loss: 4.7860e-05 - mu_loss: 0.0029 - jump_sigma_loss: 0.0022 - jump_mu_loss: 0.0048 - lambda_loss: 1.6951e-05 - sigma_mean_absolute_percentage_error: 14.2141 - sigma_r2: 0.9855 - mu_mean_absolute_percentage_error: 98.8681 - mu_r2: 0.9657 - jump_sigma_mean_absolute_percentage_error: 150.0660 - jump_sigma_r2: 0.3365 - jump_mu_mean_absolute_percentage_error: 81.1194 - jump_mu_r2: 0.9428 - lambda_mean_absolute_percentage_error: 67.0755 - lambda_r2: 0.6710     \n",
      "Epoch 1/1\n",
      "10/10 [==============================] - 134s - loss: 0.0104 - sigma_loss: 5.1475e-05 - mu_loss: 0.0033 - jump_sigma_loss: 0.0023 - jump_mu_loss: 0.0048 - lambda_loss: 1.6886e-05 - sigma_mean_absolute_percentage_error: 15.1213 - sigma_r2: 0.9844 - mu_mean_absolute_percentage_error: 130.1235 - mu_r2: 0.9604 - jump_sigma_mean_absolute_percentage_error: 154.0146 - jump_sigma_r2: 0.3190 - jump_mu_mean_absolute_percentage_error: 75.2344 - jump_mu_r2: 0.9436 - lambda_mean_absolute_percentage_error: 62.6515 - lambda_r2: 0.6739    \n",
      "Epoch 1/1\n",
      "10/10 [==============================] - 135s - loss: 0.0096 - sigma_loss: 4.3072e-05 - mu_loss: 0.0030 - jump_sigma_loss: 0.0021 - jump_mu_loss: 0.0044 - lambda_loss: 1.7433e-05 - sigma_mean_absolute_percentage_error: 12.6868 - sigma_r2: 0.9868 - mu_mean_absolute_percentage_error: 112.0651 - mu_r2: 0.9641 - jump_sigma_mean_absolute_percentage_error: 142.3239 - jump_sigma_r2: 0.3466 - jump_mu_mean_absolute_percentage_error: 63.4621 - jump_mu_r2: 0.9475 - lambda_mean_absolute_percentage_error: 62.2460 - lambda_r2: 0.6621    \n",
      "Epoch 1/1\n",
      "10/10 [==============================] - 134s - loss: 0.0098 - sigma_loss: 3.8706e-05 - mu_loss: 0.0029 - jump_sigma_loss: 0.0022 - jump_mu_loss: 0.0046 - lambda_loss: 1.7223e-05 - sigma_mean_absolute_percentage_error: 10.5317 - sigma_r2: 0.9882 - mu_mean_absolute_percentage_error: 87.0788 - mu_r2: 0.9652 - jump_sigma_mean_absolute_percentage_error: 149.3741 - jump_sigma_r2: 0.3396 - jump_mu_mean_absolute_percentage_error: 73.9993 - jump_mu_r2: 0.9442 - lambda_mean_absolute_percentage_error: 67.5898 - lambda_r2: 0.6699    \n",
      "[master c9152a9] updated history, predictions and model\n",
      " 3 files changed, 20 insertions(+), 1 deletion(-)\n",
      "Branch master set up to track remote branch master from origin.\n",
      "Epoch 1/1\n",
      "10/10 [==============================] - 135s - loss: 0.0099 - sigma_loss: 4.4324e-05 - mu_loss: 0.0028 - jump_sigma_loss: 0.0022 - jump_mu_loss: 0.0048 - lambda_loss: 1.8988e-05 - sigma_mean_absolute_percentage_error: 12.9742 - sigma_r2: 0.9867 - mu_mean_absolute_percentage_error: 81.8002 - mu_r2: 0.9665 - jump_sigma_mean_absolute_percentage_error: 140.9220 - jump_sigma_r2: 0.3273 - jump_mu_mean_absolute_percentage_error: 102.8495 - jump_mu_r2: 0.9415 - lambda_mean_absolute_percentage_error: 68.8557 - lambda_r2: 0.6348    \n",
      "Epoch 1/1\n",
      "10/10 [==============================] - 134s - loss: 0.0105 - sigma_loss: 5.0372e-05 - mu_loss: 0.0035 - jump_sigma_loss: 0.0022 - jump_mu_loss: 0.0048 - lambda_loss: 2.1510e-05 - sigma_mean_absolute_percentage_error: 13.3318 - sigma_r2: 0.9847 - mu_mean_absolute_percentage_error: 107.8022 - mu_r2: 0.9579 - jump_sigma_mean_absolute_percentage_error: 145.8594 - jump_sigma_r2: 0.3286 - jump_mu_mean_absolute_percentage_error: 154.1133 - jump_mu_r2: 0.9423 - lambda_mean_absolute_percentage_error: 68.4313 - lambda_r2: 0.5796   \n",
      "Epoch 1/1\n",
      "10/10 [==============================] - 134s - loss: 0.0108 - sigma_loss: 6.5987e-05 - mu_loss: 0.0038 - jump_sigma_loss: 0.0022 - jump_mu_loss: 0.0047 - lambda_loss: 1.9128e-05 - sigma_mean_absolute_percentage_error: 15.1349 - sigma_r2: 0.9802 - mu_mean_absolute_percentage_error: 199.8260 - mu_r2: 0.9536 - jump_sigma_mean_absolute_percentage_error: 143.7764 - jump_sigma_r2: 0.3170 - jump_mu_mean_absolute_percentage_error: 62.6683 - jump_mu_r2: 0.9432 - lambda_mean_absolute_percentage_error: 71.0221 - lambda_r2: 0.6312    \n",
      "Epoch 1/1\n",
      "10/10 [==============================] - 133s - loss: 0.0107 - sigma_loss: 5.8913e-05 - mu_loss: 0.0036 - jump_sigma_loss: 0.0023 - jump_mu_loss: 0.0047 - lambda_loss: 1.9379e-05 - sigma_mean_absolute_percentage_error: 15.7046 - sigma_r2: 0.9821 - mu_mean_absolute_percentage_error: 109.8381 - mu_r2: 0.9564 - jump_sigma_mean_absolute_percentage_error: 150.0045 - jump_sigma_r2: 0.3124 - jump_mu_mean_absolute_percentage_error: 102.2492 - jump_mu_r2: 0.9440 - lambda_mean_absolute_percentage_error: 69.5216 - lambda_r2: 0.6233    \n",
      "Epoch 1/1\n",
      "10/10 [==============================] - 135s - loss: 0.0098 - sigma_loss: 5.6036e-05 - mu_loss: 0.0030 - jump_sigma_loss: 0.0023 - jump_mu_loss: 0.0044 - lambda_loss: 2.1141e-05 - sigma_mean_absolute_percentage_error: 14.8518 - sigma_r2: 0.9832 - mu_mean_absolute_percentage_error: 253.4878 - mu_r2: 0.9632 - jump_sigma_mean_absolute_percentage_error: 149.6365 - jump_sigma_r2: 0.3106 - jump_mu_mean_absolute_percentage_error: 80.3179 - jump_mu_r2: 0.9473 - lambda_mean_absolute_percentage_error: 77.8954 - lambda_r2: 0.5873    \n",
      "[master d4932f2] updated history, predictions and model\n",
      " 3 files changed, 14 insertions(+), 1 deletion(-)\n",
      "Branch master set up to track remote branch master from origin.\n",
      "Epoch 1/1\n",
      "10/10 [==============================] - 137s - loss: 0.0100 - sigma_loss: 5.0548e-05 - mu_loss: 0.0030 - jump_sigma_loss: 0.0022 - jump_mu_loss: 0.0048 - lambda_loss: 2.0055e-05 - sigma_mean_absolute_percentage_error: 13.4562 - sigma_r2: 0.9846 - mu_mean_absolute_percentage_error: 553.3224 - mu_r2: 0.9647 - jump_sigma_mean_absolute_percentage_error: 144.6483 - jump_sigma_r2: 0.3334 - jump_mu_mean_absolute_percentage_error: 91.1291 - jump_mu_r2: 0.9419 - lambda_mean_absolute_percentage_error: 76.0561 - lambda_r2: 0.6100    \n",
      "Epoch 1/1\n",
      "10/10 [==============================] - 138s - loss: 0.0100 - sigma_loss: 5.9876e-05 - mu_loss: 0.0029 - jump_sigma_loss: 0.0023 - jump_mu_loss: 0.0047 - lambda_loss: 1.8807e-05 - sigma_mean_absolute_percentage_error: 16.3581 - sigma_r2: 0.9819 - mu_mean_absolute_percentage_error: 88.2753 - mu_r2: 0.9645 - jump_sigma_mean_absolute_percentage_error: 146.9033 - jump_sigma_r2: 0.3090 - jump_mu_mean_absolute_percentage_error: 106.8942 - jump_mu_r2: 0.9438 - lambda_mean_absolute_percentage_error: 62.6930 - lambda_r2: 0.6345   \n",
      "Epoch 1/1\n",
      "10/10 [==============================] - 138s - loss: 0.0097 - sigma_loss: 5.5944e-05 - mu_loss: 0.0028 - jump_sigma_loss: 0.0022 - jump_mu_loss: 0.0047 - lambda_loss: 2.2545e-05 - sigma_mean_absolute_percentage_error: 13.6078 - sigma_r2: 0.9831 - mu_mean_absolute_percentage_error: 135.4723 - mu_r2: 0.9671 - jump_sigma_mean_absolute_percentage_error: 147.9556 - jump_sigma_r2: 0.3401 - jump_mu_mean_absolute_percentage_error: 61.4589 - jump_mu_r2: 0.9426 - lambda_mean_absolute_percentage_error: 75.8766 - lambda_r2: 0.5625    \n",
      "Epoch 1/1\n",
      "10/10 [==============================] - 138s - loss: 0.0096 - sigma_loss: 4.7867e-05 - mu_loss: 0.0027 - jump_sigma_loss: 0.0022 - jump_mu_loss: 0.0046 - lambda_loss: 2.0867e-05 - sigma_mean_absolute_percentage_error: 13.3256 - sigma_r2: 0.9855 - mu_mean_absolute_percentage_error: 238.1093 - mu_r2: 0.9675 - jump_sigma_mean_absolute_percentage_error: 148.3134 - jump_sigma_r2: 0.3303 - jump_mu_mean_absolute_percentage_error: 683.8039 - jump_mu_r2: 0.9450 - lambda_mean_absolute_percentage_error: 67.4637 - lambda_r2: 0.6003    \n",
      "Epoch 1/1\n",
      "10/10 [==============================] - 137s - loss: 0.0092 - sigma_loss: 4.2486e-05 - mu_loss: 0.0025 - jump_sigma_loss: 0.0022 - jump_mu_loss: 0.0044 - lambda_loss: 1.9668e-05 - sigma_mean_absolute_percentage_error: 12.0702 - sigma_r2: 0.9870 - mu_mean_absolute_percentage_error: 68.8904 - mu_r2: 0.9693 - jump_sigma_mean_absolute_percentage_error: 150.5810 - jump_sigma_r2: 0.3329 - jump_mu_mean_absolute_percentage_error: 67.1461 - jump_mu_r2: 0.9467 - lambda_mean_absolute_percentage_error: 64.6799 - lambda_r2: 0.6169    \n",
      "SAVE\n",
      "[master c2b1a09] updated history, predictions and model\n",
      " 4 files changed, 14 insertions(+), 1 deletion(-)\n",
      "Branch master set up to track remote branch master from origin.\n",
      "Epoch 1/1\n"
     ]
    },
    {
     "name": "stdout",
     "output_type": "stream",
     "text": [
      "10/10 [==============================] - 139s - loss: 0.0094 - sigma_loss: 4.1829e-05 - mu_loss: 0.0026 - jump_sigma_loss: 0.0022 - jump_mu_loss: 0.0045 - lambda_loss: 1.6614e-05 - sigma_mean_absolute_percentage_error: 11.4274 - sigma_r2: 0.9873 - mu_mean_absolute_percentage_error: 137.1119 - mu_r2: 0.9687 - jump_sigma_mean_absolute_percentage_error: 150.9117 - jump_sigma_r2: 0.3463 - jump_mu_mean_absolute_percentage_error: 70.0369 - jump_mu_r2: 0.9459 - lambda_mean_absolute_percentage_error: 65.3543 - lambda_r2: 0.6756   \n",
      "Epoch 1/1\n",
      "10/10 [==============================] - 140s - loss: 0.0096 - sigma_loss: 4.6970e-05 - mu_loss: 0.0027 - jump_sigma_loss: 0.0022 - jump_mu_loss: 0.0046 - lambda_loss: 1.9681e-05 - sigma_mean_absolute_percentage_error: 13.3570 - sigma_r2: 0.9857 - mu_mean_absolute_percentage_error: 80.4339 - mu_r2: 0.9674 - jump_sigma_mean_absolute_percentage_error: 150.8795 - jump_sigma_r2: 0.3338 - jump_mu_mean_absolute_percentage_error: 76.9652 - jump_mu_r2: 0.9438 - lambda_mean_absolute_percentage_error: 69.9888 - lambda_r2: 0.6223    \n",
      "Epoch 1/1\n",
      "10/10 [==============================] - 138s - loss: 0.0096 - sigma_loss: 4.5194e-05 - mu_loss: 0.0027 - jump_sigma_loss: 0.0022 - jump_mu_loss: 0.0047 - lambda_loss: 2.0069e-05 - sigma_mean_absolute_percentage_error: 13.2494 - sigma_r2: 0.9863 - mu_mean_absolute_percentage_error: 1290.7055 - mu_r2: 0.9679 - jump_sigma_mean_absolute_percentage_error: 150.1695 - jump_sigma_r2: 0.3361 - jump_mu_mean_absolute_percentage_error: 64.4933 - jump_mu_r2: 0.9430 - lambda_mean_absolute_percentage_error: 63.6889 - lambda_r2: 0.6118    \n",
      "Epoch 1/1\n",
      "10/10 [==============================] - 137s - loss: 0.0093 - sigma_loss: 4.2130e-05 - mu_loss: 0.0027 - jump_sigma_loss: 0.0021 - jump_mu_loss: 0.0044 - lambda_loss: 1.7377e-05 - sigma_mean_absolute_percentage_error: 11.2814 - sigma_r2: 0.9873 - mu_mean_absolute_percentage_error: 80.1021 - mu_r2: 0.9680 - jump_sigma_mean_absolute_percentage_error: 145.1876 - jump_sigma_r2: 0.3516 - jump_mu_mean_absolute_percentage_error: 85.2128 - jump_mu_r2: 0.9456 - lambda_mean_absolute_percentage_error: 68.4564 - lambda_r2: 0.6607    \n",
      "Epoch 1/1\n",
      "10/10 [==============================] - 139s - loss: 0.0094 - sigma_loss: 4.6021e-05 - mu_loss: 0.0027 - jump_sigma_loss: 0.0022 - jump_mu_loss: 0.0045 - lambda_loss: 1.8920e-05 - sigma_mean_absolute_percentage_error: 13.6278 - sigma_r2: 0.9860 - mu_mean_absolute_percentage_error: 72.8678 - mu_r2: 0.9680 - jump_sigma_mean_absolute_percentage_error: 141.9558 - jump_sigma_r2: 0.3352 - jump_mu_mean_absolute_percentage_error: 149.3539 - jump_mu_r2: 0.9454 - lambda_mean_absolute_percentage_error: 63.7277 - lambda_r2: 0.6336    \n",
      "[master 2174206] updated history, predictions and model\n",
      " 3 files changed, 21 insertions(+), 1 deletion(-)\n",
      "Branch master set up to track remote branch master from origin.\n",
      "Epoch 1/1\n",
      "10/10 [==============================] - 138s - loss: 0.0100 - sigma_loss: 4.5411e-05 - mu_loss: 0.0032 - jump_sigma_loss: 0.0021 - jump_mu_loss: 0.0046 - lambda_loss: 1.8139e-05 - sigma_mean_absolute_percentage_error: 12.3523 - sigma_r2: 0.9864 - mu_mean_absolute_percentage_error: 907.8817 - mu_r2: 0.9623 - jump_sigma_mean_absolute_percentage_error: 138.9743 - jump_sigma_r2: 0.3454 - jump_mu_mean_absolute_percentage_error: 70.4364 - jump_mu_r2: 0.9441 - lambda_mean_absolute_percentage_error: 66.5209 - lambda_r2: 0.6524    \n",
      "Epoch 1/1\n",
      "10/10 [==============================] - 137s - loss: 0.0108 - sigma_loss: 4.4248e-05 - mu_loss: 0.0037 - jump_sigma_loss: 0.0022 - jump_mu_loss: 0.0048 - lambda_loss: 1.6490e-05 - sigma_mean_absolute_percentage_error: 13.6603 - sigma_r2: 0.9867 - mu_mean_absolute_percentage_error: 74.8537 - mu_r2: 0.9554 - jump_sigma_mean_absolute_percentage_error: 150.1388 - jump_sigma_r2: 0.3348 - jump_mu_mean_absolute_percentage_error: 63.8870 - jump_mu_r2: 0.9421 - lambda_mean_absolute_percentage_error: 61.1604 - lambda_r2: 0.6816    \n",
      "Epoch 1/1\n",
      "10/10 [==============================] - 137s - loss: 0.0100 - sigma_loss: 4.4567e-05 - mu_loss: 0.0030 - jump_sigma_loss: 0.0022 - jump_mu_loss: 0.0048 - lambda_loss: 1.6469e-05 - sigma_mean_absolute_percentage_error: 14.5520 - sigma_r2: 0.9865 - mu_mean_absolute_percentage_error: 106.0135 - mu_r2: 0.9644 - jump_sigma_mean_absolute_percentage_error: 148.1533 - jump_sigma_r2: 0.3292 - jump_mu_mean_absolute_percentage_error: 59.5843 - jump_mu_r2: 0.9423 - lambda_mean_absolute_percentage_error: 66.0409 - lambda_r2: 0.6807    \n",
      "Epoch 1/1\n",
      "10/10 [==============================] - 138s - loss: 0.0099 - sigma_loss: 6.3827e-05 - mu_loss: 0.0029 - jump_sigma_loss: 0.0021 - jump_mu_loss: 0.0048 - lambda_loss: 1.8946e-05 - sigma_mean_absolute_percentage_error: 14.1759 - sigma_r2: 0.9807 - mu_mean_absolute_percentage_error: 92.2893 - mu_r2: 0.9649 - jump_sigma_mean_absolute_percentage_error: 142.1207 - jump_sigma_r2: 0.3534 - jump_mu_mean_absolute_percentage_error: 93.5175 - jump_mu_r2: 0.9428 - lambda_mean_absolute_percentage_error: 65.8398 - lambda_r2: 0.6287    \n",
      "Epoch 1/1\n",
      "10/10 [==============================] - 135s - loss: 0.0097 - sigma_loss: 5.9053e-05 - mu_loss: 0.0026 - jump_sigma_loss: 0.0022 - jump_mu_loss: 0.0048 - lambda_loss: 1.7417e-05 - sigma_mean_absolute_percentage_error: 14.7963 - sigma_r2: 0.9822 - mu_mean_absolute_percentage_error: 116.4859 - mu_r2: 0.9683 - jump_sigma_mean_absolute_percentage_error: 141.9030 - jump_sigma_r2: 0.3340 - jump_mu_mean_absolute_percentage_error: 67.1514 - jump_mu_r2: 0.9424 - lambda_mean_absolute_percentage_error: 65.1420 - lambda_r2: 0.6631    \n",
      "[master 90c8ad0] updated history, predictions and model\n",
      " 3 files changed, 14 insertions(+), 1 deletion(-)\n",
      "Branch master set up to track remote branch master from origin.\n",
      "Epoch 1/1\n",
      "10/10 [==============================] - 137s - loss: 0.0093 - sigma_loss: 5.4769e-05 - mu_loss: 0.0026 - jump_sigma_loss: 0.0021 - jump_mu_loss: 0.0046 - lambda_loss: 1.7313e-05 - sigma_mean_absolute_percentage_error: 15.5048 - sigma_r2: 0.9834 - mu_mean_absolute_percentage_error: 77.6281 - mu_r2: 0.9691 - jump_sigma_mean_absolute_percentage_error: 145.4572 - jump_sigma_r2: 0.3478 - jump_mu_mean_absolute_percentage_error: 74.5227 - jump_mu_r2: 0.9451 - lambda_mean_absolute_percentage_error: 61.1550 - lambda_r2: 0.6655    \n",
      "Epoch 1/1\n",
      "10/10 [==============================] - 137s - loss: 0.0094 - sigma_loss: 4.9722e-05 - mu_loss: 0.0029 - jump_sigma_loss: 0.0021 - jump_mu_loss: 0.0043 - lambda_loss: 1.7695e-05 - sigma_mean_absolute_percentage_error: 13.7560 - sigma_r2: 0.9850 - mu_mean_absolute_percentage_error: 80.8060 - mu_r2: 0.9648 - jump_sigma_mean_absolute_percentage_error: 145.7661 - jump_sigma_r2: 0.3460 - jump_mu_mean_absolute_percentage_error: 123.3404 - jump_mu_r2: 0.9480 - lambda_mean_absolute_percentage_error: 63.4597 - lambda_r2: 0.6560    \n",
      "Epoch 1/1\n",
      "10/10 [==============================] - 138s - loss: 0.0104 - sigma_loss: 3.9202e-05 - mu_loss: 0.0033 - jump_sigma_loss: 0.0022 - jump_mu_loss: 0.0048 - lambda_loss: 1.8338e-05 - sigma_mean_absolute_percentage_error: 11.6479 - sigma_r2: 0.9882 - mu_mean_absolute_percentage_error: 123.1187 - mu_r2: 0.9596 - jump_sigma_mean_absolute_percentage_error: 146.8349 - jump_sigma_r2: 0.3388 - jump_mu_mean_absolute_percentage_error: 78.6196 - jump_mu_r2: 0.9427 - lambda_mean_absolute_percentage_error: 64.6668 - lambda_r2: 0.6416    \n",
      "Epoch 1/1\n",
      "10/10 [==============================] - 137s - loss: 0.0099 - sigma_loss: 5.0261e-05 - mu_loss: 0.0029 - jump_sigma_loss: 0.0022 - jump_mu_loss: 0.0047 - lambda_loss: 1.8541e-05 - sigma_mean_absolute_percentage_error: 13.9601 - sigma_r2: 0.9850 - mu_mean_absolute_percentage_error: 88.6348 - mu_r2: 0.9654 - jump_sigma_mean_absolute_percentage_error: 146.7552 - jump_sigma_r2: 0.3280 - jump_mu_mean_absolute_percentage_error: 197.6340 - jump_mu_r2: 0.9439 - lambda_mean_absolute_percentage_error: 68.2167 - lambda_r2: 0.6416    \n",
      "Epoch 1/1\n"
     ]
    },
    {
     "name": "stdout",
     "output_type": "stream",
     "text": [
      "10/10 [==============================] - 136s - loss: 0.0100 - sigma_loss: 5.2197e-05 - mu_loss: 0.0030 - jump_sigma_loss: 0.0022 - jump_mu_loss: 0.0047 - lambda_loss: 1.8248e-05 - sigma_mean_absolute_percentage_error: 14.0231 - sigma_r2: 0.9844 - mu_mean_absolute_percentage_error: 79.6383 - mu_r2: 0.9635 - jump_sigma_mean_absolute_percentage_error: 144.5294 - jump_sigma_r2: 0.3352 - jump_mu_mean_absolute_percentage_error: 99.2434 - jump_mu_r2: 0.9439 - lambda_mean_absolute_percentage_error: 63.7759 - lambda_r2: 0.6501     \n",
      "[master 2519e63] updated history, predictions and model\n",
      " 3 files changed, 20 insertions(+), 1 deletion(-)\n",
      "Branch master set up to track remote branch master from origin.\n",
      "Epoch 1/1\n",
      "10/10 [==============================] - 137s - loss: 0.0096 - sigma_loss: 4.9125e-05 - mu_loss: 0.0029 - jump_sigma_loss: 0.0021 - jump_mu_loss: 0.0045 - lambda_loss: 1.6638e-05 - sigma_mean_absolute_percentage_error: 13.8831 - sigma_r2: 0.9849 - mu_mean_absolute_percentage_error: 81.4313 - mu_r2: 0.9646 - jump_sigma_mean_absolute_percentage_error: 146.9467 - jump_sigma_r2: 0.3542 - jump_mu_mean_absolute_percentage_error: 74.3310 - jump_mu_r2: 0.9463 - lambda_mean_absolute_percentage_error: 64.5900 - lambda_r2: 0.6762    \n",
      "Epoch 1/1\n",
      "10/10 [==============================] - 138s - loss: 0.0095 - sigma_loss: 4.4499e-05 - mu_loss: 0.0030 - jump_sigma_loss: 0.0021 - jump_mu_loss: 0.0043 - lambda_loss: 1.6179e-05 - sigma_mean_absolute_percentage_error: 14.5173 - sigma_r2: 0.9863 - mu_mean_absolute_percentage_error: 112.1439 - mu_r2: 0.9644 - jump_sigma_mean_absolute_percentage_error: 155.3837 - jump_sigma_r2: 0.3547 - jump_mu_mean_absolute_percentage_error: 67.6052 - jump_mu_r2: 0.9489 - lambda_mean_absolute_percentage_error: 58.1548 - lambda_r2: 0.6833    \n",
      "Epoch 1/1\n",
      "10/10 [==============================] - 137s - loss: 0.0096 - sigma_loss: 5.0786e-05 - mu_loss: 0.0026 - jump_sigma_loss: 0.0022 - jump_mu_loss: 0.0048 - lambda_loss: 1.7678e-05 - sigma_mean_absolute_percentage_error: 15.8607 - sigma_r2: 0.9843 - mu_mean_absolute_percentage_error: 75.3168 - mu_r2: 0.9688 - jump_sigma_mean_absolute_percentage_error: 142.9944 - jump_sigma_r2: 0.3364 - jump_mu_mean_absolute_percentage_error: 556.5689 - jump_mu_r2: 0.9427 - lambda_mean_absolute_percentage_error: 71.9102 - lambda_r2: 0.6626    \n",
      "Epoch 1/1\n",
      "10/10 [==============================] - 138s - loss: 0.0093 - sigma_loss: 4.9952e-05 - mu_loss: 0.0028 - jump_sigma_loss: 0.0021 - jump_mu_loss: 0.0044 - lambda_loss: 1.8284e-05 - sigma_mean_absolute_percentage_error: 15.6203 - sigma_r2: 0.9849 - mu_mean_absolute_percentage_error: 130.0701 - mu_r2: 0.9669 - jump_sigma_mean_absolute_percentage_error: 134.6863 - jump_sigma_r2: 0.3698 - jump_mu_mean_absolute_percentage_error: 66.1672 - jump_mu_r2: 0.9475 - lambda_mean_absolute_percentage_error: 74.4649 - lambda_r2: 0.6450    \n",
      "Epoch 1/1\n",
      "10/10 [==============================] - 134s - loss: 0.0095 - sigma_loss: 4.6967e-05 - mu_loss: 0.0027 - jump_sigma_loss: 0.0022 - jump_mu_loss: 0.0046 - lambda_loss: 1.6459e-05 - sigma_mean_absolute_percentage_error: 12.5438 - sigma_r2: 0.9856 - mu_mean_absolute_percentage_error: 72.2183 - mu_r2: 0.9681 - jump_sigma_mean_absolute_percentage_error: 155.1376 - jump_sigma_r2: 0.3437 - jump_mu_mean_absolute_percentage_error: 73.5255 - jump_mu_r2: 0.9456 - lambda_mean_absolute_percentage_error: 62.7806 - lambda_r2: 0.6799    \n",
      "[master 5ea3109] updated history, predictions and model\n",
      " 3 files changed, 14 insertions(+), 1 deletion(-)\n",
      "Branch master set up to track remote branch master from origin.\n",
      "Epoch 1/1\n",
      "10/10 [==============================] - 137s - loss: 0.0109 - sigma_loss: 5.7580e-05 - mu_loss: 0.0039 - jump_sigma_loss: 0.0022 - jump_mu_loss: 0.0047 - lambda_loss: 1.7016e-05 - sigma_mean_absolute_percentage_error: 13.9231 - sigma_r2: 0.9825 - mu_mean_absolute_percentage_error: 111.2717 - mu_r2: 0.9525 - jump_sigma_mean_absolute_percentage_error: 148.9881 - jump_sigma_r2: 0.3423 - jump_mu_mean_absolute_percentage_error: 86.8646 - jump_mu_r2: 0.9436 - lambda_mean_absolute_percentage_error: 64.0674 - lambda_r2: 0.6714    \n",
      "Epoch 1/1\n",
      "10/10 [==============================] - 138s - loss: 0.0113 - sigma_loss: 7.1833e-05 - mu_loss: 0.0044 - jump_sigma_loss: 0.0021 - jump_mu_loss: 0.0047 - lambda_loss: 1.7020e-05 - sigma_mean_absolute_percentage_error: 17.2862 - sigma_r2: 0.9782 - mu_mean_absolute_percentage_error: 141.2815 - mu_r2: 0.9478 - jump_sigma_mean_absolute_percentage_error: 142.4460 - jump_sigma_r2: 0.3542 - jump_mu_mean_absolute_percentage_error: 82.7327 - jump_mu_r2: 0.9433 - lambda_mean_absolute_percentage_error: 68.9238 - lambda_r2: 0.6728    \n",
      "Epoch 1/1\n",
      "10/10 [==============================] - 137s - loss: 0.0100 - sigma_loss: 4.8479e-05 - mu_loss: 0.0032 - jump_sigma_loss: 0.0022 - jump_mu_loss: 0.0045 - lambda_loss: 1.7307e-05 - sigma_mean_absolute_percentage_error: 13.0748 - sigma_r2: 0.9855 - mu_mean_absolute_percentage_error: 91.9402 - mu_r2: 0.9614 - jump_sigma_mean_absolute_percentage_error: 149.2123 - jump_sigma_r2: 0.3316 - jump_mu_mean_absolute_percentage_error: 75.7536 - jump_mu_r2: 0.9455 - lambda_mean_absolute_percentage_error: 62.6137 - lambda_r2: 0.6625    \n",
      "Epoch 1/1\n",
      "10/10 [==============================] - 137s - loss: 0.0095 - sigma_loss: 4.7630e-05 - mu_loss: 0.0026 - jump_sigma_loss: 0.0022 - jump_mu_loss: 0.0046 - lambda_loss: 1.7018e-05 - sigma_mean_absolute_percentage_error: 12.4943 - sigma_r2: 0.9854 - mu_mean_absolute_percentage_error: 85.7409 - mu_r2: 0.9683 - jump_sigma_mean_absolute_percentage_error: 148.0335 - jump_sigma_r2: 0.3411 - jump_mu_mean_absolute_percentage_error: 71.7760 - jump_mu_r2: 0.9448 - lambda_mean_absolute_percentage_error: 63.3039 - lambda_r2: 0.6703    \n",
      "Epoch 1/1\n",
      "10/10 [==============================] - 136s - loss: 0.0094 - sigma_loss: 4.6371e-05 - mu_loss: 0.0027 - jump_sigma_loss: 0.0022 - jump_mu_loss: 0.0044 - lambda_loss: 1.7599e-05 - sigma_mean_absolute_percentage_error: 11.9478 - sigma_r2: 0.9859 - mu_mean_absolute_percentage_error: 131.8819 - mu_r2: 0.9676 - jump_sigma_mean_absolute_percentage_error: 141.2721 - jump_sigma_r2: 0.3425 - jump_mu_mean_absolute_percentage_error: 241.4891 - jump_mu_r2: 0.9472 - lambda_mean_absolute_percentage_error: 62.3205 - lambda_r2: 0.6578    \n",
      "[master b9ce5b9] updated history, predictions and model\n",
      " 3 files changed, 14 insertions(+), 1 deletion(-)\n",
      "Branch master set up to track remote branch master from origin.\n",
      "Epoch 1/1\n",
      "10/10 [==============================] - 138s - loss: 0.0093 - sigma_loss: 5.4984e-05 - mu_loss: 0.0026 - jump_sigma_loss: 0.0022 - jump_mu_loss: 0.0044 - lambda_loss: 2.1322e-05 - sigma_mean_absolute_percentage_error: 13.9701 - sigma_r2: 0.9834 - mu_mean_absolute_percentage_error: 85.9934 - mu_r2: 0.9683 - jump_sigma_mean_absolute_percentage_error: 141.6188 - jump_sigma_r2: 0.3355 - jump_mu_mean_absolute_percentage_error: 59.0750 - jump_mu_r2: 0.9465 - lambda_mean_absolute_percentage_error: 65.1277 - lambda_r2: 0.5830    \n",
      "Epoch 1/1\n",
      "10/10 [==============================] - 138s - loss: 0.0095 - sigma_loss: 4.8182e-05 - mu_loss: 0.0028 - jump_sigma_loss: 0.0021 - jump_mu_loss: 0.0046 - lambda_loss: 2.1657e-05 - sigma_mean_absolute_percentage_error: 13.2711 - sigma_r2: 0.9854 - mu_mean_absolute_percentage_error: 103.6616 - mu_r2: 0.9670 - jump_sigma_mean_absolute_percentage_error: 151.4607 - jump_sigma_r2: 0.3618 - jump_mu_mean_absolute_percentage_error: 80.9233 - jump_mu_r2: 0.9450 - lambda_mean_absolute_percentage_error: 61.4322 - lambda_r2: 0.5776    \n",
      "Epoch 1/1\n",
      "10/10 [==============================] - 137s - loss: 0.0104 - sigma_loss: 4.6476e-05 - mu_loss: 0.0035 - jump_sigma_loss: 0.0021 - jump_mu_loss: 0.0047 - lambda_loss: 1.8258e-05 - sigma_mean_absolute_percentage_error: 13.3793 - sigma_r2: 0.9858 - mu_mean_absolute_percentage_error: 315.9841 - mu_r2: 0.9570 - jump_sigma_mean_absolute_percentage_error: 150.1780 - jump_sigma_r2: 0.3647 - jump_mu_mean_absolute_percentage_error: 123.8284 - jump_mu_r2: 0.9437 - lambda_mean_absolute_percentage_error: 67.3415 - lambda_r2: 0.6504    \n",
      "Epoch 1/1\n"
     ]
    },
    {
     "name": "stdout",
     "output_type": "stream",
     "text": [
      "10/10 [==============================] - 138s - loss: 0.0096 - sigma_loss: 4.7600e-05 - mu_loss: 0.0029 - jump_sigma_loss: 0.0021 - jump_mu_loss: 0.0046 - lambda_loss: 1.8247e-05 - sigma_mean_absolute_percentage_error: 12.4882 - sigma_r2: 0.9856 - mu_mean_absolute_percentage_error: 167.5444 - mu_r2: 0.9650 - jump_sigma_mean_absolute_percentage_error: 143.4117 - jump_sigma_r2: 0.3657 - jump_mu_mean_absolute_percentage_error: 358.7601 - jump_mu_r2: 0.9444 - lambda_mean_absolute_percentage_error: 68.3353 - lambda_r2: 0.6447    \n",
      "Epoch 1/1\n",
      "10/10 [==============================] - 135s - loss: 0.0095 - sigma_loss: 4.4022e-05 - mu_loss: 0.0027 - jump_sigma_loss: 0.0022 - jump_mu_loss: 0.0046 - lambda_loss: 1.6938e-05 - sigma_mean_absolute_percentage_error: 11.7574 - sigma_r2: 0.9866 - mu_mean_absolute_percentage_error: 67.3671 - mu_r2: 0.9670 - jump_sigma_mean_absolute_percentage_error: 150.2380 - jump_sigma_r2: 0.3419 - jump_mu_mean_absolute_percentage_error: 78.9808 - jump_mu_r2: 0.9456 - lambda_mean_absolute_percentage_error: 61.9372 - lambda_r2: 0.6727    \n",
      "[master 3a96940] updated history, predictions and model\n",
      " 3 files changed, 20 insertions(+), 1 deletion(-)\n",
      "Branch master set up to track remote branch master from origin.\n",
      "Epoch 1/1\n",
      "10/10 [==============================] - 137s - loss: 0.0091 - sigma_loss: 4.2819e-05 - mu_loss: 0.0028 - jump_sigma_loss: 0.0021 - jump_mu_loss: 0.0042 - lambda_loss: 1.6307e-05 - sigma_mean_absolute_percentage_error: 11.5809 - sigma_r2: 0.9869 - mu_mean_absolute_percentage_error: 74.8549 - mu_r2: 0.9671 - jump_sigma_mean_absolute_percentage_error: 144.5386 - jump_sigma_r2: 0.3562 - jump_mu_mean_absolute_percentage_error: 73.0180 - jump_mu_r2: 0.9491 - lambda_mean_absolute_percentage_error: 61.2882 - lambda_r2: 0.6844    \n",
      "SAVE\n",
      "Epoch 1/1\n",
      "10/10 [==============================] - 138s - loss: 0.0092 - sigma_loss: 4.2913e-05 - mu_loss: 0.0026 - jump_sigma_loss: 0.0022 - jump_mu_loss: 0.0044 - lambda_loss: 1.7492e-05 - sigma_mean_absolute_percentage_error: 12.3868 - sigma_r2: 0.9870 - mu_mean_absolute_percentage_error: 83.4386 - mu_r2: 0.9691 - jump_sigma_mean_absolute_percentage_error: 146.7443 - jump_sigma_r2: 0.3496 - jump_mu_mean_absolute_percentage_error: 79.6753 - jump_mu_r2: 0.9470 - lambda_mean_absolute_percentage_error: 62.7409 - lambda_r2: 0.6570    \n",
      "Epoch 1/1\n",
      "10/10 [==============================] - 138s - loss: 0.0095 - sigma_loss: 4.6559e-05 - mu_loss: 0.0027 - jump_sigma_loss: 0.0021 - jump_mu_loss: 0.0046 - lambda_loss: 1.7758e-05 - sigma_mean_absolute_percentage_error: 13.4791 - sigma_r2: 0.9859 - mu_mean_absolute_percentage_error: 100.6414 - mu_r2: 0.9673 - jump_sigma_mean_absolute_percentage_error: 146.7494 - jump_sigma_r2: 0.3613 - jump_mu_mean_absolute_percentage_error: 226.7903 - jump_mu_r2: 0.9449 - lambda_mean_absolute_percentage_error: 67.9916 - lambda_r2: 0.6539   \n",
      "Epoch 1/1\n",
      "10/10 [==============================] - 138s - loss: 0.0097 - sigma_loss: 5.0713e-05 - mu_loss: 0.0030 - jump_sigma_loss: 0.0022 - jump_mu_loss: 0.0044 - lambda_loss: 1.7507e-05 - sigma_mean_absolute_percentage_error: 13.1127 - sigma_r2: 0.9845 - mu_mean_absolute_percentage_error: 113.0107 - mu_r2: 0.9636 - jump_sigma_mean_absolute_percentage_error: 136.6649 - jump_sigma_r2: 0.3226 - jump_mu_mean_absolute_percentage_error: 59.8292 - jump_mu_r2: 0.9473 - lambda_mean_absolute_percentage_error: 60.8153 - lambda_r2: 0.6560    \n",
      "Epoch 1/1\n",
      "10/10 [==============================] - 135s - loss: 0.0095 - sigma_loss: 5.5236e-05 - mu_loss: 0.0028 - jump_sigma_loss: 0.0022 - jump_mu_loss: 0.0044 - lambda_loss: 1.7810e-05 - sigma_mean_absolute_percentage_error: 13.4879 - sigma_r2: 0.9831 - mu_mean_absolute_percentage_error: 81.3719 - mu_r2: 0.9670 - jump_sigma_mean_absolute_percentage_error: 141.6963 - jump_sigma_r2: 0.3458 - jump_mu_mean_absolute_percentage_error: 108.5974 - jump_mu_r2: 0.9468 - lambda_mean_absolute_percentage_error: 63.3462 - lambda_r2: 0.6554    \n",
      "[master b32c992] updated history, predictions and model\n",
      " 4 files changed, 15 insertions(+), 1 deletion(-)\n",
      "Branch master set up to track remote branch master from origin.\n",
      "Epoch 1/1\n",
      "10/10 [==============================] - 138s - loss: 0.0099 - sigma_loss: 6.5766e-05 - mu_loss: 0.0031 - jump_sigma_loss: 0.0021 - jump_mu_loss: 0.0047 - lambda_loss: 1.8674e-05 - sigma_mean_absolute_percentage_error: 16.9742 - sigma_r2: 0.9801 - mu_mean_absolute_percentage_error: 104.3574 - mu_r2: 0.9635 - jump_sigma_mean_absolute_percentage_error: 143.5063 - jump_sigma_r2: 0.3738 - jump_mu_mean_absolute_percentage_error: 105.1326 - jump_mu_r2: 0.9434 - lambda_mean_absolute_percentage_error: 66.0442 - lambda_r2: 0.6389    \n",
      "Epoch 1/1\n",
      "10/10 [==============================] - 139s - loss: 0.0094 - sigma_loss: 4.6450e-05 - mu_loss: 0.0029 - jump_sigma_loss: 0.0021 - jump_mu_loss: 0.0043 - lambda_loss: 1.7261e-05 - sigma_mean_absolute_percentage_error: 13.2657 - sigma_r2: 0.9860 - mu_mean_absolute_percentage_error: 72.9300 - mu_r2: 0.9654 - jump_sigma_mean_absolute_percentage_error: 138.1853 - jump_sigma_r2: 0.3651 - jump_mu_mean_absolute_percentage_error: 129.6013 - jump_mu_r2: 0.9475 - lambda_mean_absolute_percentage_error: 64.1257 - lambda_r2: 0.6676    \n",
      "Epoch 1/1\n",
      "10/10 [==============================] - 137s - loss: 0.0093 - sigma_loss: 4.0896e-05 - mu_loss: 0.0026 - jump_sigma_loss: 0.0022 - jump_mu_loss: 0.0045 - lambda_loss: 1.4900e-05 - sigma_mean_absolute_percentage_error: 11.1969 - sigma_r2: 0.9876 - mu_mean_absolute_percentage_error: 79.8913 - mu_r2: 0.9694 - jump_sigma_mean_absolute_percentage_error: 140.8276 - jump_sigma_r2: 0.3514 - jump_mu_mean_absolute_percentage_error: 68.2505 - jump_mu_r2: 0.9461 - lambda_mean_absolute_percentage_error: 58.1806 - lambda_r2: 0.7126    \n",
      "Epoch 1/1\n",
      "10/10 [==============================] - 138s - loss: 0.0101 - sigma_loss: 5.7538e-05 - mu_loss: 0.0029 - jump_sigma_loss: 0.0022 - jump_mu_loss: 0.0049 - lambda_loss: 2.3497e-05 - sigma_mean_absolute_percentage_error: 15.1092 - sigma_r2: 0.9825 - mu_mean_absolute_percentage_error: 143.6475 - mu_r2: 0.9654 - jump_sigma_mean_absolute_percentage_error: 145.8300 - jump_sigma_r2: 0.3339 - jump_mu_mean_absolute_percentage_error: 108.0230 - jump_mu_r2: 0.9415 - lambda_mean_absolute_percentage_error: 71.1929 - lambda_r2: 0.5459   \n",
      "Epoch 1/1\n",
      "10/10 [==============================] - 136s - loss: 0.0098 - sigma_loss: 7.4998e-05 - mu_loss: 0.0030 - jump_sigma_loss: 0.0021 - jump_mu_loss: 0.0046 - lambda_loss: 1.9528e-05 - sigma_mean_absolute_percentage_error: 17.4929 - sigma_r2: 0.9777 - mu_mean_absolute_percentage_error: 89.0997 - mu_r2: 0.9638 - jump_sigma_mean_absolute_percentage_error: 138.8863 - jump_sigma_r2: 0.3510 - jump_mu_mean_absolute_percentage_error: 65.5789 - jump_mu_r2: 0.9446 - lambda_mean_absolute_percentage_error: 64.4525 - lambda_r2: 0.6221    \n",
      "[master 3f090ee] updated history, predictions and model\n",
      " 3 files changed, 14 insertions(+), 1 deletion(-)\n",
      "Branch master set up to track remote branch master from origin.\n",
      "Epoch 1/1\n",
      "10/10 [==============================] - 139s - loss: 0.0103 - sigma_loss: 5.9538e-05 - mu_loss: 0.0036 - jump_sigma_loss: 0.0022 - jump_mu_loss: 0.0045 - lambda_loss: 1.4932e-05 - sigma_mean_absolute_percentage_error: 13.5007 - sigma_r2: 0.9818 - mu_mean_absolute_percentage_error: 114.7695 - mu_r2: 0.9573 - jump_sigma_mean_absolute_percentage_error: 141.7608 - jump_sigma_r2: 0.3427 - jump_mu_mean_absolute_percentage_error: 80.4180 - jump_mu_r2: 0.9461 - lambda_mean_absolute_percentage_error: 57.1354 - lambda_r2: 0.7078   \n",
      "Epoch 1/1\n",
      "10/10 [==============================] - 137s - loss: 0.0102 - sigma_loss: 4.2712e-05 - mu_loss: 0.0035 - jump_sigma_loss: 0.0021 - jump_mu_loss: 0.0046 - lambda_loss: 1.6377e-05 - sigma_mean_absolute_percentage_error: 12.1930 - sigma_r2: 0.9871 - mu_mean_absolute_percentage_error: 153.1083 - mu_r2: 0.9576 - jump_sigma_mean_absolute_percentage_error: 141.5793 - jump_sigma_r2: 0.3664 - jump_mu_mean_absolute_percentage_error: 73.6574 - jump_mu_r2: 0.9457 - lambda_mean_absolute_percentage_error: 60.1657 - lambda_r2: 0.6851    \n",
      "Epoch 1/1\n"
     ]
    },
    {
     "name": "stdout",
     "output_type": "stream",
     "text": [
      "10/10 [==============================] - 137s - loss: 0.0095 - sigma_loss: 4.8098e-05 - mu_loss: 0.0030 - jump_sigma_loss: 0.0021 - jump_mu_loss: 0.0044 - lambda_loss: 1.5600e-05 - sigma_mean_absolute_percentage_error: 12.1148 - sigma_r2: 0.9855 - mu_mean_absolute_percentage_error: 69.5714 - mu_r2: 0.9646 - jump_sigma_mean_absolute_percentage_error: 138.7301 - jump_sigma_r2: 0.3669 - jump_mu_mean_absolute_percentage_error: 98.7823 - jump_mu_r2: 0.9474 - lambda_mean_absolute_percentage_error: 63.5168 - lambda_r2: 0.6986    \n",
      "Epoch 1/1\n",
      "10/10 [==============================] - 139s - loss: 0.0097 - sigma_loss: 4.8907e-05 - mu_loss: 0.0032 - jump_sigma_loss: 0.0021 - jump_mu_loss: 0.0044 - lambda_loss: 1.5404e-05 - sigma_mean_absolute_percentage_error: 13.6479 - sigma_r2: 0.9851 - mu_mean_absolute_percentage_error: 96.4895 - mu_r2: 0.9612 - jump_sigma_mean_absolute_percentage_error: 137.0339 - jump_sigma_r2: 0.3765 - jump_mu_mean_absolute_percentage_error: 59.2626 - jump_mu_r2: 0.9468 - lambda_mean_absolute_percentage_error: 59.1276 - lambda_r2: 0.7024    \n",
      "Epoch 1/1\n",
      "10/10 [==============================] - 135s - loss: 0.0096 - sigma_loss: 4.7929e-05 - mu_loss: 0.0027 - jump_sigma_loss: 0.0021 - jump_mu_loss: 0.0047 - lambda_loss: 1.6289e-05 - sigma_mean_absolute_percentage_error: 13.3644 - sigma_r2: 0.9855 - mu_mean_absolute_percentage_error: 67.7899 - mu_r2: 0.9673 - jump_sigma_mean_absolute_percentage_error: 141.4680 - jump_sigma_r2: 0.3650 - jump_mu_mean_absolute_percentage_error: 67.7199 - jump_mu_r2: 0.9433 - lambda_mean_absolute_percentage_error: 66.3970 - lambda_r2: 0.6815    \n",
      "[master 36e542c] updated history, predictions and model\n",
      " 3 files changed, 20 insertions(+), 1 deletion(-)\n",
      "Branch master set up to track remote branch master from origin.\n",
      "Epoch 1/1\n",
      "10/10 [==============================] - 138s - loss: 0.0096 - sigma_loss: 4.4820e-05 - mu_loss: 0.0027 - jump_sigma_loss: 0.0021 - jump_mu_loss: 0.0048 - lambda_loss: 1.7674e-05 - sigma_mean_absolute_percentage_error: 13.2411 - sigma_r2: 0.9863 - mu_mean_absolute_percentage_error: 162.5672 - mu_r2: 0.9677 - jump_sigma_mean_absolute_percentage_error: 135.4342 - jump_sigma_r2: 0.3644 - jump_mu_mean_absolute_percentage_error: 127.4705 - jump_mu_r2: 0.9427 - lambda_mean_absolute_percentage_error: 64.2411 - lambda_r2: 0.6523    \n",
      "Epoch 1/1\n",
      "10/10 [==============================] - 138s - loss: 0.0092 - sigma_loss: 4.7048e-05 - mu_loss: 0.0026 - jump_sigma_loss: 0.0021 - jump_mu_loss: 0.0044 - lambda_loss: 1.6784e-05 - sigma_mean_absolute_percentage_error: 13.2714 - sigma_r2: 0.9856 - mu_mean_absolute_percentage_error: 187.5434 - mu_r2: 0.9691 - jump_sigma_mean_absolute_percentage_error: 141.6215 - jump_sigma_r2: 0.3623 - jump_mu_mean_absolute_percentage_error: 71.9448 - jump_mu_r2: 0.9465 - lambda_mean_absolute_percentage_error: 66.9868 - lambda_r2: 0.6732    \n",
      "Epoch 1/1\n",
      "10/10 [==============================] - 137s - loss: 0.0094 - sigma_loss: 4.0943e-05 - mu_loss: 0.0028 - jump_sigma_loss: 0.0021 - jump_mu_loss: 0.0044 - lambda_loss: 1.6545e-05 - sigma_mean_absolute_percentage_error: 11.3388 - sigma_r2: 0.9876 - mu_mean_absolute_percentage_error: 83.5845 - mu_r2: 0.9669 - jump_sigma_mean_absolute_percentage_error: 140.0256 - jump_sigma_r2: 0.3583 - jump_mu_mean_absolute_percentage_error: 81.9477 - jump_mu_r2: 0.9473 - lambda_mean_absolute_percentage_error: 59.5712 - lambda_r2: 0.6745    \n",
      "Epoch 1/1\n",
      "10/10 [==============================] - 138s - loss: 0.0095 - sigma_loss: 3.8293e-05 - mu_loss: 0.0026 - jump_sigma_loss: 0.0021 - jump_mu_loss: 0.0047 - lambda_loss: 1.7697e-05 - sigma_mean_absolute_percentage_error: 10.8824 - sigma_r2: 0.9884 - mu_mean_absolute_percentage_error: 82.9209 - mu_r2: 0.9690 - jump_sigma_mean_absolute_percentage_error: 136.7933 - jump_sigma_r2: 0.3510 - jump_mu_mean_absolute_percentage_error: 116.1413 - jump_mu_r2: 0.9435 - lambda_mean_absolute_percentage_error: 63.3225 - lambda_r2: 0.6582    \n",
      "Epoch 1/1\n",
      " 6/10 [=================>............] - ETA: 55s - loss: 0.0093 - sigma_loss: 3.7841e-05 - mu_loss: 0.0025 - jump_sigma_loss: 0.0021 - jump_mu_loss: 0.0046 - lambda_loss: 1.6808e-05 - sigma_mean_absolute_percentage_error: 10.8769 - sigma_r2: 0.9884 - mu_mean_absolute_percentage_error: 91.3961 - mu_r2: 0.9698 - jump_sigma_mean_absolute_percentage_error: 138.0256 - jump_sigma_r2: 0.3583 - jump_mu_mean_absolute_percentage_error: 82.2346 - jump_mu_r2: 0.9440 - lambda_mean_absolute_percentage_error: 57.3107 - lambda_r2: 0.6768"
     ]
    }
   ],
   "source": [
    "for i in range(150000):\n",
    "    history = convnet_mo_elu.fit_generator(train_gen, samples_per_epoch = 10, nb_epoch = 1)\n",
    "    histories_elu.append(history.history)\n",
    "\n",
    "    predictions_elu = convnet_mo_elu.predict(test_set_pred)\n",
    "\n",
    "    covnet_mo_elu_predictions.append(predictions_elu)\n",
    "    \n",
    "    if history.history['loss'][-1]<smallest_loss:\n",
    "        print(\"SAVE\")\n",
    "        smallest_loss = history.history['loss'][-1]\n",
    "        convnet_mo_elu.save(\"LESS_SIMPLE_6_hidden_LAYERS.h5\")\n",
    "    \n",
    "    if i%5 == 0:\n",
    "        np.save(\"LESS_SIMPLE_histories_elu_6_hidden_LAYERS.npy\", histories_elu)\n",
    "        np.save(\"LESS_SIMPLE_mo_elu_predictions_6_hidden_LAYERS.npy\", covnet_mo_elu_predictions)\n",
    "\n",
    "        !git config --global user.email \"rwmmostert@gmail.com\"\n",
    "        !git config --global user.name \"RWMostert\"\n",
    "        !git add --all\n",
    "        !git commit -am \"updated history, predictions and model\"\n",
    "        !git push -u origin master --quiet"
   ]
  },
  {
   "cell_type": "markdown",
   "metadata": {},
   "source": [
    "# THIS HERE DILUTED Covnet Multiple Output with ELUs 10 Layers"
   ]
  },
  {
   "cell_type": "code",
   "execution_count": 9,
   "metadata": {
    "collapsed": true
   },
   "outputs": [],
   "source": [
    "from keras.layers.merge import Concatenate"
   ]
  },
  {
   "cell_type": "code",
   "execution_count": 9,
   "metadata": {
    "collapsed": true
   },
   "outputs": [],
   "source": [
    "import tensorflow as tf\n",
    "import keras\n",
    "from keras.models import Model, Sequential, load_model\n",
    "from keras.layers import Input, Dense, Flatten, LSTM, MaxPooling2D, Input, merge\n",
    "from keras.layers.convolutional import Conv2D\n",
    "from keras.optimizers import Adam\n",
    "from keras import backend as K"
   ]
  },
  {
   "cell_type": "code",
   "execution_count": 10,
   "metadata": {
    "collapsed": true
   },
   "outputs": [],
   "source": [
    "def r2(y_true, y_pred):\n",
    "    \"\"\"\n",
    "    returns the correlation coefficient of y_pred against y_true.\n",
    "\n",
    "    :param y_true: the true values (independent variable)\n",
    "    :param y_pred: the predicted values (dependent variable)\n",
    "    \"\"\"\n",
    "    \n",
    "    SSE = K.sum(K.square(y_true-y_pred))\n",
    "    SST = K.sum(K.square(y_true-K.mean(y_true)))\n",
    "    \n",
    "    return 1-SSE/SST"
   ]
  },
  {
   "cell_type": "code",
   "execution_count": 11,
   "metadata": {
    "collapsed": true
   },
   "outputs": [],
   "source": [
    "import h5py as h5py"
   ]
  },
  {
   "cell_type": "code",
   "execution_count": 26,
   "metadata": {},
   "outputs": [
    {
     "name": "stdout",
     "output_type": "stream",
     "text": [
      "sudo: apt-get: command not found\r\n"
     ]
    }
   ],
   "source": [
    "!sudo apt-get install libhdf5-dev"
   ]
  },
  {
   "cell_type": "code",
   "execution_count": 12,
   "metadata": {},
   "outputs": [
    {
     "name": "stderr",
     "output_type": "stream",
     "text": [
      "/usr/local/lib64/python2.7/site-packages/keras/engine/topology.py:1252: UserWarning: The `Merge` layer is deprecated and will be removed after 08/2017. Use instead layers from `keras.layers.merge`, e.g. `add`, `concatenate`, etc.\n",
      "  return cls(**config)\n"
     ]
    }
   ],
   "source": [
    "convnet_mo_elu = load_model(\"diluted_FULLMODEL_6_hidden_LAYERS.h5\", custom_objects={\"r2\":r2})"
   ]
  },
  {
   "cell_type": "code",
   "execution_count": 36,
   "metadata": {},
   "outputs": [
    {
     "name": "stderr",
     "output_type": "stream",
     "text": [
      "/usr/lib/python3.4/dist-packages/ipykernel_launcher.py:11: UserWarning: The `merge` function is deprecated and will be removed after 08/2017. Use instead layers from `keras.layers.merge`, e.g. `add`, `concatenate`, etc.\n",
      "  # This is added back by InteractiveShellApp.init_path()\n",
      "/usr/local/lib64/python3.4/site-packages/keras/legacy/layers.py:458: UserWarning: The `Merge` layer is deprecated and will be removed after 08/2017. Use instead layers from `keras.layers.merge`, e.g. `add`, `concatenate`, etc.\n",
      "  name=name)\n",
      "/usr/lib/python3.4/dist-packages/ipykernel_launcher.py:39: UserWarning: Update your `Model` call to the Keras 2 API: `Model(outputs=[<tf.Tenso..., inputs=Tensor(\"in...)`\n"
     ]
    }
   ],
   "source": [
    "input_1 = Input(shape = (40, 50, 1))\n",
    "\n",
    "layer1 = Conv2D(32, (6, 6), activation='elu')(input_1)\n",
    "layer2 = Conv2D(32, (6, 6), activation='elu')(layer1)\n",
    "layer3 = MaxPooling2D(pool_size=(2,2))(layer2)\n",
    "\n",
    "dil_layer1 = Conv2D(32, (3, 3), dilation_rate=(3, 3), activation='elu')(input_1)\n",
    "dil_layer2 = Conv2D(32, (3, 3), dilation_rate=(2, 2), activation='elu')(dil_layer1)\n",
    "dil_layer3 = MaxPooling2D(pool_size=(2,2))(dil_layer2)\n",
    "\n",
    "concat = merge([layer3, dil_layer3], mode=\"concat\")\n",
    "\n",
    "layer4 = Conv2D(64, (3, 3), activation='elu')(concat)\n",
    "layer5 = Conv2D(64, (3, 3), activation='elu')(layer4)\n",
    "layer6 = MaxPooling2D(pool_size=(2,2))(layer5)\n",
    "\n",
    "flatten = Flatten()(layer6)\n",
    "\n",
    "output1_layer1 = Dense(32, activation='elu')(flatten)\n",
    "output1_layer2 = Dense(16, activation='elu')(output1_layer1)\n",
    "output1 = Dense(1, name=\"sigma\")(output1_layer2)\n",
    "\n",
    "output2_layer1 = Dense(32, activation='elu')(flatten)\n",
    "output2_layer2 = Dense(16, activation='elu')(output2_layer1)\n",
    "output2 = Dense(1, name=\"mu\")(output2_layer2)\n",
    "\n",
    "output3_layer1 = Dense(32, activation='elu')(flatten)\n",
    "output3_layer2 = Dense(16, activation='elu')(output3_layer1)\n",
    "output3 = Dense(1, name=\"jump_sigma\")(output3_layer2)\n",
    "\n",
    "output4_layer1 = Dense(32, activation='elu')(flatten)\n",
    "output4_layer2 = Dense(16, activation='elu')(output4_layer1)\n",
    "output4 = Dense(1, name=\"jump_mu\")(output4_layer2)\n",
    "\n",
    "output5_layer1 = Dense(32, activation='elu')(flatten)\n",
    "output5_layer2 = Dense(16, activation='elu')(output5_layer1)\n",
    "output5 = Dense(1, name=\"lambda\")(output5_layer2)\n",
    "\n",
    "convnet_mo_elu = Model(input = input_1, output=[output1, output2, output3, output4, output5])\n",
    "convnet_mo_elu.compile('adam', 'mean_squared_error', metrics=['mean_absolute_percentage_error', r2])"
   ]
  },
  {
   "cell_type": "code",
   "execution_count": 20,
   "metadata": {
    "collapsed": true
   },
   "outputs": [],
   "source": [
    "#covnet_mo_elu = covnet_multiple_ELUs_10_layers()\n",
    "#covnet_mo_elu.load_weights(\"RELAXED_ELU_COVNET.h5\")"
   ]
  },
  {
   "cell_type": "code",
   "execution_count": 21,
   "metadata": {
    "collapsed": true
   },
   "outputs": [],
   "source": [
    "#covnet_mo_elu.save(H5_DIR_COVNET_MULTIPLE_ELU)"
   ]
  },
  {
   "cell_type": "code",
   "execution_count": 13,
   "metadata": {},
   "outputs": [
    {
     "name": "stdout",
     "output_type": "stream",
     "text": [
      "0\n",
      "100\n",
      "200\n",
      "300\n",
      "400\n",
      "500\n",
      "600\n",
      "700\n",
      "800\n",
      "900\n"
     ]
    }
   ],
   "source": [
    "test_set_pred = standard_convolutional_test_set()"
   ]
  },
  {
   "cell_type": "code",
   "execution_count": 20,
   "metadata": {
    "collapsed": true
   },
   "outputs": [],
   "source": [
    "train_gen = convolutional_batch_generator(paramset_size=500, paths_p_paramset=3, constraint_gbm_mu=(-0.5, 0.5))"
   ]
  },
  {
   "cell_type": "code",
   "execution_count": 15,
   "metadata": {
    "collapsed": true
   },
   "outputs": [],
   "source": [
    "histories_elu = np.load(\"diluted_covnet_histories_elu_6_hidden_LAYERS.npy\").tolist()\n",
    "covnet_mo_elu_predictions = np.load(\"diluted_covnet_mo_elu_predictions_6_hidden_LAYERS.npy\").tolist()"
   ]
  },
  {
   "cell_type": "code",
   "execution_count": 16,
   "metadata": {
    "collapsed": true
   },
   "outputs": [],
   "source": [
    "smallest_loss = 20"
   ]
  },
  {
   "cell_type": "code",
   "execution_count": 21,
   "metadata": {
    "scrolled": true
   },
   "outputs": [
    {
     "name": "stderr",
     "output_type": "stream",
     "text": [
      "/usr/lib/python2.7/dist-packages/ipykernel_launcher.py:2: UserWarning: The semantics of the Keras 2 argument `steps_per_epoch` is not the same as the Keras 1 argument `samples_per_epoch`. `steps_per_epoch` is the number of batches to draw from the generator at each epoch. Basically steps_per_epoch = samples_per_epoch/batch_size. Similarly `nb_val_samples`->`validation_steps` and `val_samples`->`steps` arguments have changed. Update your method calls accordingly.\n",
      "  \n",
      "/usr/lib/python2.7/dist-packages/ipykernel_launcher.py:2: UserWarning: Update your `fit_generator` call to the Keras 2 API: `fit_generator(<generator..., epochs=1, steps_per_epoch=10)`\n",
      "  \n"
     ]
    },
    {
     "name": "stdout",
     "output_type": "stream",
     "text": [
      "Epoch 1/1\n",
      "10/10 [==============================] - 115s - loss: 0.0127 - sigma_loss: 1.3061e-04 - mu_loss: 0.0039 - jump_sigma_loss: 0.0025 - jump_mu_loss: 0.0062 - lambda_loss: 1.9385e-05 - sigma_mean_absolute_percentage_error: 23.1099 - sigma_r2: 0.9602 - mu_mean_absolute_percentage_error: 119.5370 - mu_r2: 0.9530 - jump_sigma_mean_absolute_percentage_error: 158.5887 - jump_sigma_r2: 0.2509 - jump_mu_mean_absolute_percentage_error: 121.7904 - jump_mu_r2: 0.9274 - lambda_mean_absolute_percentage_error: 82.0272 - lambda_r2: 0.6193    \n",
      "SAVE\n",
      "[master 2d259dc] updated history, predictions and model\n",
      " 4 files changed, 32 insertions(+), 27 deletions(-)\n",
      "Branch master set up to track remote branch master from origin.\n",
      "Epoch 1/1\n",
      "10/10 [==============================] - 118s - loss: 0.0126 - sigma_loss: 1.2259e-04 - mu_loss: 0.0040 - jump_sigma_loss: 0.0024 - jump_mu_loss: 0.0060 - lambda_loss: 2.0020e-05 - sigma_mean_absolute_percentage_error: 23.9235 - sigma_r2: 0.9627 - mu_mean_absolute_percentage_error: 112.9326 - mu_r2: 0.9514 - jump_sigma_mean_absolute_percentage_error: 160.8443 - jump_sigma_r2: 0.2686 - jump_mu_mean_absolute_percentage_error: 133.4993 - jump_mu_r2: 0.9260 - lambda_mean_absolute_percentage_error: 82.3728 - lambda_r2: 0.6139    \n",
      "SAVE\n",
      "Epoch 1/1\n",
      "10/10 [==============================] - 117s - loss: 0.0126 - sigma_loss: 1.4142e-04 - mu_loss: 0.0042 - jump_sigma_loss: 0.0025 - jump_mu_loss: 0.0058 - lambda_loss: 2.1945e-05 - sigma_mean_absolute_percentage_error: 25.2763 - sigma_r2: 0.9575 - mu_mean_absolute_percentage_error: 82.5695 - mu_r2: 0.9504 - jump_sigma_mean_absolute_percentage_error: 158.2809 - jump_sigma_r2: 0.2597 - jump_mu_mean_absolute_percentage_error: 151.3053 - jump_mu_r2: 0.9304 - lambda_mean_absolute_percentage_error: 81.9958 - lambda_r2: 0.5655    \n",
      "Epoch 1/1\n",
      "10/10 [==============================] - 117s - loss: 0.0126 - sigma_loss: 1.2184e-04 - mu_loss: 0.0040 - jump_sigma_loss: 0.0025 - jump_mu_loss: 0.0060 - lambda_loss: 1.8746e-05 - sigma_mean_absolute_percentage_error: 22.5027 - sigma_r2: 0.9633 - mu_mean_absolute_percentage_error: 121.2964 - mu_r2: 0.9528 - jump_sigma_mean_absolute_percentage_error: 160.8601 - jump_sigma_r2: 0.2457 - jump_mu_mean_absolute_percentage_error: 105.6481 - jump_mu_r2: 0.9290 - lambda_mean_absolute_percentage_error: 78.1603 - lambda_r2: 0.6283    \n",
      "Epoch 1/1\n",
      "10/10 [==============================] - 117s - loss: 0.0126 - sigma_loss: 1.1724e-04 - mu_loss: 0.0041 - jump_sigma_loss: 0.0025 - jump_mu_loss: 0.0060 - lambda_loss: 1.8454e-05 - sigma_mean_absolute_percentage_error: 23.8130 - sigma_r2: 0.9641 - mu_mean_absolute_percentage_error: 89.3548 - mu_r2: 0.9518 - jump_sigma_mean_absolute_percentage_error: 163.4288 - jump_sigma_r2: 0.2475 - jump_mu_mean_absolute_percentage_error: 89.1326 - jump_mu_r2: 0.9282 - lambda_mean_absolute_percentage_error: 79.6611 - lambda_r2: 0.6485    \n",
      "Epoch 1/1\n",
      "10/10 [==============================] - 117s - loss: 0.0133 - sigma_loss: 1.4645e-04 - mu_loss: 0.0044 - jump_sigma_loss: 0.0025 - jump_mu_loss: 0.0062 - lambda_loss: 2.1047e-05 - sigma_mean_absolute_percentage_error: 26.5941 - sigma_r2: 0.9556 - mu_mean_absolute_percentage_error: 82.9849 - mu_r2: 0.9476 - jump_sigma_mean_absolute_percentage_error: 154.8141 - jump_sigma_r2: 0.2400 - jump_mu_mean_absolute_percentage_error: 189.8146 - jump_mu_r2: 0.9246 - lambda_mean_absolute_percentage_error: 91.7207 - lambda_r2: 0.5906    \n",
      "[master 3dd5283] updated history, predictions and model\n",
      " 4 files changed, 16 insertions(+), 1 deletion(-)\n",
      "Branch master set up to track remote branch master from origin.\n",
      "Epoch 1/1\n",
      "10/10 [==============================] - 119s - loss: 0.0133 - sigma_loss: 1.0634e-04 - mu_loss: 0.0049 - jump_sigma_loss: 0.0024 - jump_mu_loss: 0.0059 - lambda_loss: 1.9288e-05 - sigma_mean_absolute_percentage_error: 21.6825 - sigma_r2: 0.9680 - mu_mean_absolute_percentage_error: 98.1522 - mu_r2: 0.9401 - jump_sigma_mean_absolute_percentage_error: 156.4243 - jump_sigma_r2: 0.2710 - jump_mu_mean_absolute_percentage_error: 99.4310 - jump_mu_r2: 0.9287 - lambda_mean_absolute_percentage_error: 74.4032 - lambda_r2: 0.6330    \n",
      "Epoch 1/1\n",
      "10/10 [==============================] - 118s - loss: 0.0128 - sigma_loss: 1.2639e-04 - mu_loss: 0.0040 - jump_sigma_loss: 0.0025 - jump_mu_loss: 0.0061 - lambda_loss: 1.9637e-05 - sigma_mean_absolute_percentage_error: 22.1253 - sigma_r2: 0.9618 - mu_mean_absolute_percentage_error: 91.9448 - mu_r2: 0.9512 - jump_sigma_mean_absolute_percentage_error: 160.7533 - jump_sigma_r2: 0.2518 - jump_mu_mean_absolute_percentage_error: 101.2199 - jump_mu_r2: 0.9263 - lambda_mean_absolute_percentage_error: 84.1686 - lambda_r2: 0.6199    \n",
      "Epoch 1/1\n",
      "10/10 [==============================] - 119s - loss: 0.0125 - sigma_loss: 1.2004e-04 - mu_loss: 0.0039 - jump_sigma_loss: 0.0025 - jump_mu_loss: 0.0060 - lambda_loss: 1.9116e-05 - sigma_mean_absolute_percentage_error: 24.1909 - sigma_r2: 0.9633 - mu_mean_absolute_percentage_error: 96.7620 - mu_r2: 0.9533 - jump_sigma_mean_absolute_percentage_error: 159.9525 - jump_sigma_r2: 0.2537 - jump_mu_mean_absolute_percentage_error: 74.9377 - jump_mu_r2: 0.9275 - lambda_mean_absolute_percentage_error: 76.0341 - lambda_r2: 0.6268    \n",
      "SAVE\n",
      "Epoch 1/1\n",
      "10/10 [==============================] - 118s - loss: 0.0125 - sigma_loss: 1.2007e-04 - mu_loss: 0.0040 - jump_sigma_loss: 0.0025 - jump_mu_loss: 0.0060 - lambda_loss: 2.1042e-05 - sigma_mean_absolute_percentage_error: 21.5849 - sigma_r2: 0.9634 - mu_mean_absolute_percentage_error: 81.0588 - mu_r2: 0.9524 - jump_sigma_mean_absolute_percentage_error: 148.1880 - jump_sigma_r2: 0.2534 - jump_mu_mean_absolute_percentage_error: 66.1821 - jump_mu_r2: 0.9292 - lambda_mean_absolute_percentage_error: 84.7406 - lambda_r2: 0.5931    \n",
      "Epoch 1/1\n",
      "10/10 [==============================] - 120s - loss: 0.0122 - sigma_loss: 1.0893e-04 - mu_loss: 0.0041 - jump_sigma_loss: 0.0023 - jump_mu_loss: 0.0056 - lambda_loss: 2.0258e-05 - sigma_mean_absolute_percentage_error: 25.6253 - sigma_r2: 0.9670 - mu_mean_absolute_percentage_error: 95.4535 - mu_r2: 0.9500 - jump_sigma_mean_absolute_percentage_error: 144.7486 - jump_sigma_r2: 0.2742 - jump_mu_mean_absolute_percentage_error: 109.8502 - jump_mu_r2: 0.9325 - lambda_mean_absolute_percentage_error: 78.9167 - lambda_r2: 0.6063   \n",
      "SAVE\n",
      "[master 8d6484c] updated history, predictions and model\n",
      " 4 files changed, 15 insertions(+), 1 deletion(-)\n",
      "Branch master set up to track remote branch master from origin.\n",
      "Epoch 1/1\n",
      "10/10 [==============================] - 119s - loss: 0.0123 - sigma_loss: 9.1702e-05 - mu_loss: 0.0039 - jump_sigma_loss: 0.0023 - jump_mu_loss: 0.0059 - lambda_loss: 1.7921e-05 - sigma_mean_absolute_percentage_error: 20.9284 - sigma_r2: 0.9729 - mu_mean_absolute_percentage_error: 87.8063 - mu_r2: 0.9519 - jump_sigma_mean_absolute_percentage_error: 149.4210 - jump_sigma_r2: 0.2815 - jump_mu_mean_absolute_percentage_error: 89.0401 - jump_mu_r2: 0.9281 - lambda_mean_absolute_percentage_error: 73.0440 - lambda_r2: 0.6510    \n",
      "Epoch 1/1\n",
      "10/10 [==============================] - 117s - loss: 0.0123 - sigma_loss: 1.0114e-04 - mu_loss: 0.0041 - jump_sigma_loss: 0.0024 - jump_mu_loss: 0.0057 - lambda_loss: 1.7542e-05 - sigma_mean_absolute_percentage_error: 24.1224 - sigma_r2: 0.9696 - mu_mean_absolute_percentage_error: 103.2455 - mu_r2: 0.9502 - jump_sigma_mean_absolute_percentage_error: 151.7310 - jump_sigma_r2: 0.2635 - jump_mu_mean_absolute_percentage_error: 132.4027 - jump_mu_r2: 0.9319 - lambda_mean_absolute_percentage_error: 68.7317 - lambda_r2: 0.6532    \n",
      "Epoch 1/1\n",
      "10/10 [==============================] - 117s - loss: 0.0126 - sigma_loss: 9.8944e-05 - mu_loss: 0.0042 - jump_sigma_loss: 0.0024 - jump_mu_loss: 0.0058 - lambda_loss: 1.8187e-05 - sigma_mean_absolute_percentage_error: 18.4027 - sigma_r2: 0.9694 - mu_mean_absolute_percentage_error: 138.4911 - mu_r2: 0.9490 - jump_sigma_mean_absolute_percentage_error: 161.6139 - jump_sigma_r2: 0.2703 - jump_mu_mean_absolute_percentage_error: 69.6017 - jump_mu_r2: 0.9301 - lambda_mean_absolute_percentage_error: 76.9256 - lambda_r2: 0.6466    \n",
      "Epoch 1/1\n"
     ]
    },
    {
     "name": "stdout",
     "output_type": "stream",
     "text": [
      "10/10 [==============================] - 118s - loss: 0.0128 - sigma_loss: 1.1203e-04 - mu_loss: 0.0043 - jump_sigma_loss: 0.0024 - jump_mu_loss: 0.0060 - lambda_loss: 2.0403e-05 - sigma_mean_absolute_percentage_error: 24.3946 - sigma_r2: 0.9662 - mu_mean_absolute_percentage_error: 109.4488 - mu_r2: 0.9477 - jump_sigma_mean_absolute_percentage_error: 160.1737 - jump_sigma_r2: 0.2694 - jump_mu_mean_absolute_percentage_error: 69.9613 - jump_mu_r2: 0.9272 - lambda_mean_absolute_percentage_error: 77.5324 - lambda_r2: 0.5861    \n",
      "Epoch 1/1\n",
      "10/10 [==============================] - 119s - loss: 0.0123 - sigma_loss: 1.2022e-04 - mu_loss: 0.0042 - jump_sigma_loss: 0.0023 - jump_mu_loss: 0.0057 - lambda_loss: 2.0690e-05 - sigma_mean_absolute_percentage_error: 19.6040 - sigma_r2: 0.9624 - mu_mean_absolute_percentage_error: 157.5255 - mu_r2: 0.9505 - jump_sigma_mean_absolute_percentage_error: 146.7098 - jump_sigma_r2: 0.2908 - jump_mu_mean_absolute_percentage_error: 74.7728 - jump_mu_r2: 0.9313 - lambda_mean_absolute_percentage_error: 83.1787 - lambda_r2: 0.5963    \n",
      "[master 3090fba] updated history, predictions and model\n",
      " 3 files changed, 21 insertions(+), 1 deletion(-)\n",
      "Branch master set up to track remote branch master from origin.\n",
      "Epoch 1/1\n",
      "10/10 [==============================] - 116s - loss: 0.0121 - sigma_loss: 1.0457e-04 - mu_loss: 0.0041 - jump_sigma_loss: 0.0024 - jump_mu_loss: 0.0055 - lambda_loss: 1.9491e-05 - sigma_mean_absolute_percentage_error: 21.5920 - sigma_r2: 0.9677 - mu_mean_absolute_percentage_error: 109.3676 - mu_r2: 0.9504 - jump_sigma_mean_absolute_percentage_error: 147.6330 - jump_sigma_r2: 0.2996 - jump_mu_mean_absolute_percentage_error: 190.4565 - jump_mu_r2: 0.9323 - lambda_mean_absolute_percentage_error: 79.8589 - lambda_r2: 0.6239    \n",
      "SAVE\n",
      "Epoch 1/1\n",
      "10/10 [==============================] - 116s - loss: 0.0122 - sigma_loss: 9.7769e-05 - mu_loss: 0.0038 - jump_sigma_loss: 0.0023 - jump_mu_loss: 0.0059 - lambda_loss: 1.8898e-05 - sigma_mean_absolute_percentage_error: 23.7107 - sigma_r2: 0.9710 - mu_mean_absolute_percentage_error: 163.3440 - mu_r2: 0.9545 - jump_sigma_mean_absolute_percentage_error: 145.8064 - jump_sigma_r2: 0.2898 - jump_mu_mean_absolute_percentage_error: 72.7170 - jump_mu_r2: 0.9283 - lambda_mean_absolute_percentage_error: 79.4619 - lambda_r2: 0.6348    \n",
      "Epoch 1/1\n",
      "10/10 [==============================] - 115s - loss: 0.0122 - sigma_loss: 1.3889e-04 - mu_loss: 0.0041 - jump_sigma_loss: 0.0024 - jump_mu_loss: 0.0056 - lambda_loss: 1.8363e-05 - sigma_mean_absolute_percentage_error: 25.1204 - sigma_r2: 0.9581 - mu_mean_absolute_percentage_error: 153.2042 - mu_r2: 0.9504 - jump_sigma_mean_absolute_percentage_error: 158.9012 - jump_sigma_r2: 0.2653 - jump_mu_mean_absolute_percentage_error: 143.9771 - jump_mu_r2: 0.9342 - lambda_mean_absolute_percentage_error: 76.6476 - lambda_r2: 0.6432    \n",
      "Epoch 1/1\n",
      "10/10 [==============================] - 115s - loss: 0.0120 - sigma_loss: 1.2115e-04 - mu_loss: 0.0039 - jump_sigma_loss: 0.0024 - jump_mu_loss: 0.0056 - lambda_loss: 1.9061e-05 - sigma_mean_absolute_percentage_error: 25.0600 - sigma_r2: 0.9629 - mu_mean_absolute_percentage_error: 90.9529 - mu_r2: 0.9545 - jump_sigma_mean_absolute_percentage_error: 155.9814 - jump_sigma_r2: 0.2704 - jump_mu_mean_absolute_percentage_error: 88.5282 - jump_mu_r2: 0.9301 - lambda_mean_absolute_percentage_error: 71.4974 - lambda_r2: 0.6299    \n",
      "SAVE\n",
      "Epoch 1/1\n",
      "10/10 [==============================] - 115s - loss: 0.0124 - sigma_loss: 1.3198e-04 - mu_loss: 0.0038 - jump_sigma_loss: 0.0024 - jump_mu_loss: 0.0060 - lambda_loss: 2.0315e-05 - sigma_mean_absolute_percentage_error: 20.3275 - sigma_r2: 0.9589 - mu_mean_absolute_percentage_error: 107.3017 - mu_r2: 0.9545 - jump_sigma_mean_absolute_percentage_error: 156.7252 - jump_sigma_r2: 0.2465 - jump_mu_mean_absolute_percentage_error: 103.3119 - jump_mu_r2: 0.9279 - lambda_mean_absolute_percentage_error: 91.9463 - lambda_r2: 0.5955    \n",
      "[master 135a222] updated history, predictions and model\n",
      " 4 files changed, 16 insertions(+), 1 deletion(-)\n",
      "Branch master set up to track remote branch master from origin.\n",
      "Epoch 1/1\n",
      "10/10 [==============================] - 119s - loss: 0.0120 - sigma_loss: 1.0130e-04 - mu_loss: 0.0037 - jump_sigma_loss: 0.0024 - jump_mu_loss: 0.0057 - lambda_loss: 1.9597e-05 - sigma_mean_absolute_percentage_error: 22.0759 - sigma_r2: 0.9693 - mu_mean_absolute_percentage_error: 125.7159 - mu_r2: 0.9556 - jump_sigma_mean_absolute_percentage_error: 158.7325 - jump_sigma_r2: 0.2685 - jump_mu_mean_absolute_percentage_error: 68.3722 - jump_mu_r2: 0.9303 - lambda_mean_absolute_percentage_error: 77.5758 - lambda_r2: 0.6150    \n",
      "SAVE\n",
      "Epoch 1/1\n",
      "10/10 [==============================] - 119s - loss: 0.0127 - sigma_loss: 1.0158e-04 - mu_loss: 0.0041 - jump_sigma_loss: 0.0025 - jump_mu_loss: 0.0060 - lambda_loss: 1.9974e-05 - sigma_mean_absolute_percentage_error: 23.5809 - sigma_r2: 0.9687 - mu_mean_absolute_percentage_error: 89.0422 - mu_r2: 0.9493 - jump_sigma_mean_absolute_percentage_error: 168.5628 - jump_sigma_r2: 0.2585 - jump_mu_mean_absolute_percentage_error: 77.7864 - jump_mu_r2: 0.9284 - lambda_mean_absolute_percentage_error: 81.6400 - lambda_r2: 0.6151    \n",
      "Epoch 1/1\n",
      "10/10 [==============================] - 117s - loss: 0.0122 - sigma_loss: 9.4835e-05 - mu_loss: 0.0038 - jump_sigma_loss: 0.0024 - jump_mu_loss: 0.0058 - lambda_loss: 1.7734e-05 - sigma_mean_absolute_percentage_error: 20.8436 - sigma_r2: 0.9710 - mu_mean_absolute_percentage_error: 88.5731 - mu_r2: 0.9549 - jump_sigma_mean_absolute_percentage_error: 165.1222 - jump_sigma_r2: 0.2664 - jump_mu_mean_absolute_percentage_error: 94.9053 - jump_mu_r2: 0.9312 - lambda_mean_absolute_percentage_error: 78.9022 - lambda_r2: 0.6522    \n",
      "Epoch 1/1\n",
      "10/10 [==============================] - 119s - loss: 0.0121 - sigma_loss: 9.4853e-05 - mu_loss: 0.0037 - jump_sigma_loss: 0.0024 - jump_mu_loss: 0.0059 - lambda_loss: 1.9047e-05 - sigma_mean_absolute_percentage_error: 19.6504 - sigma_r2: 0.9718 - mu_mean_absolute_percentage_error: 79.0814 - mu_r2: 0.9555 - jump_sigma_mean_absolute_percentage_error: 168.9956 - jump_sigma_r2: 0.2765 - jump_mu_mean_absolute_percentage_error: 104.5384 - jump_mu_r2: 0.9299 - lambda_mean_absolute_percentage_error: 85.2075 - lambda_r2: 0.6292    \n",
      "Epoch 1/1\n",
      "10/10 [==============================] - 119s - loss: 0.0128 - sigma_loss: 1.0970e-04 - mu_loss: 0.0045 - jump_sigma_loss: 0.0024 - jump_mu_loss: 0.0058 - lambda_loss: 1.9180e-05 - sigma_mean_absolute_percentage_error: 21.9422 - sigma_r2: 0.9670 - mu_mean_absolute_percentage_error: 84.3366 - mu_r2: 0.9459 - jump_sigma_mean_absolute_percentage_error: 160.8069 - jump_sigma_r2: 0.2849 - jump_mu_mean_absolute_percentage_error: 104.0846 - jump_mu_r2: 0.9298 - lambda_mean_absolute_percentage_error: 71.2505 - lambda_r2: 0.6348    \n",
      "[master cccdb0d] updated history, predictions and model\n",
      " 4 files changed, 15 insertions(+), 1 deletion(-)\n",
      "Branch master set up to track remote branch master from origin.\n",
      "Epoch 1/1\n",
      "10/10 [==============================] - 115s - loss: 0.0123 - sigma_loss: 9.0220e-05 - mu_loss: 0.0040 - jump_sigma_loss: 0.0024 - jump_mu_loss: 0.0059 - lambda_loss: 1.9645e-05 - sigma_mean_absolute_percentage_error: 20.4851 - sigma_r2: 0.9725 - mu_mean_absolute_percentage_error: 97.0832 - mu_r2: 0.9515 - jump_sigma_mean_absolute_percentage_error: 148.9355 - jump_sigma_r2: 0.2698 - jump_mu_mean_absolute_percentage_error: 89.8228 - jump_mu_r2: 0.9282 - lambda_mean_absolute_percentage_error: 78.0222 - lambda_r2: 0.6200    \n",
      "Epoch 1/1\n",
      "10/10 [==============================] - 114s - loss: 0.0126 - sigma_loss: 1.2869e-04 - mu_loss: 0.0038 - jump_sigma_loss: 0.0024 - jump_mu_loss: 0.0064 - lambda_loss: 2.1257e-05 - sigma_mean_absolute_percentage_error: 25.6800 - sigma_r2: 0.9603 - mu_mean_absolute_percentage_error: 103.9669 - mu_r2: 0.9548 - jump_sigma_mean_absolute_percentage_error: 154.4417 - jump_sigma_r2: 0.2674 - jump_mu_mean_absolute_percentage_error: 104.6480 - jump_mu_r2: 0.9237 - lambda_mean_absolute_percentage_error: 96.2685 - lambda_r2: 0.5921    \n",
      "Epoch 1/1\n"
     ]
    },
    {
     "name": "stdout",
     "output_type": "stream",
     "text": [
      "10/10 [==============================] - 114s - loss: 0.0124 - sigma_loss: 1.2926e-04 - mu_loss: 0.0037 - jump_sigma_loss: 0.0024 - jump_mu_loss: 0.0061 - lambda_loss: 2.0476e-05 - sigma_mean_absolute_percentage_error: 24.4112 - sigma_r2: 0.9605 - mu_mean_absolute_percentage_error: 163.8629 - mu_r2: 0.9554 - jump_sigma_mean_absolute_percentage_error: 149.0956 - jump_sigma_r2: 0.2656 - jump_mu_mean_absolute_percentage_error: 107.0388 - jump_mu_r2: 0.9261 - lambda_mean_absolute_percentage_error: 81.2071 - lambda_r2: 0.6046    \n",
      "Epoch 1/1\n",
      "10/10 [==============================] - 114s - loss: 0.0120 - sigma_loss: 1.2417e-04 - mu_loss: 0.0039 - jump_sigma_loss: 0.0024 - jump_mu_loss: 0.0056 - lambda_loss: 1.8181e-05 - sigma_mean_absolute_percentage_error: 25.2890 - sigma_r2: 0.9620 - mu_mean_absolute_percentage_error: 74.1834 - mu_r2: 0.9529 - jump_sigma_mean_absolute_percentage_error: 155.4009 - jump_sigma_r2: 0.2775 - jump_mu_mean_absolute_percentage_error: 88.3188 - jump_mu_r2: 0.9321 - lambda_mean_absolute_percentage_error: 74.5395 - lambda_r2: 0.6505    \n",
      "Epoch 1/1\n",
      "10/10 [==============================] - 114s - loss: 0.0118 - sigma_loss: 1.0674e-04 - mu_loss: 0.0038 - jump_sigma_loss: 0.0023 - jump_mu_loss: 0.0055 - lambda_loss: 1.7195e-05 - sigma_mean_absolute_percentage_error: 23.6732 - sigma_r2: 0.9677 - mu_mean_absolute_percentage_error: 182.3874 - mu_r2: 0.9540 - jump_sigma_mean_absolute_percentage_error: 155.3675 - jump_sigma_r2: 0.2902 - jump_mu_mean_absolute_percentage_error: 163.0024 - jump_mu_r2: 0.9342 - lambda_mean_absolute_percentage_error: 75.5889 - lambda_r2: 0.6703   \n",
      "SAVE\n",
      "[master 41b79bc] updated history, predictions and model\n",
      " 4 files changed, 20 insertions(+), 1 deletion(-)\n",
      "Branch master set up to track remote branch master from origin.\n",
      "Epoch 1/1\n",
      "10/10 [==============================] - 118s - loss: 0.0119 - sigma_loss: 9.6520e-05 - mu_loss: 0.0037 - jump_sigma_loss: 0.0024 - jump_mu_loss: 0.0057 - lambda_loss: 1.7487e-05 - sigma_mean_absolute_percentage_error: 21.4665 - sigma_r2: 0.9701 - mu_mean_absolute_percentage_error: 76.3725 - mu_r2: 0.9573 - jump_sigma_mean_absolute_percentage_error: 156.7580 - jump_sigma_r2: 0.2671 - jump_mu_mean_absolute_percentage_error: 79.1379 - jump_mu_r2: 0.9319 - lambda_mean_absolute_percentage_error: 75.6484 - lambda_r2: 0.6646    \n",
      "Epoch 1/1\n",
      "10/10 [==============================] - 119s - loss: 0.0114 - sigma_loss: 9.0098e-05 - mu_loss: 0.0039 - jump_sigma_loss: 0.0023 - jump_mu_loss: 0.0051 - lambda_loss: 1.6940e-05 - sigma_mean_absolute_percentage_error: 20.3423 - sigma_r2: 0.9726 - mu_mean_absolute_percentage_error: 401.3263 - mu_r2: 0.9523 - jump_sigma_mean_absolute_percentage_error: 154.3556 - jump_sigma_r2: 0.2987 - jump_mu_mean_absolute_percentage_error: 90.4023 - jump_mu_r2: 0.9379 - lambda_mean_absolute_percentage_error: 72.6529 - lambda_r2: 0.6594    \n",
      "SAVE\n",
      "Epoch 1/1\n",
      "10/10 [==============================] - 118s - loss: 0.0121 - sigma_loss: 8.9741e-05 - mu_loss: 0.0043 - jump_sigma_loss: 0.0024 - jump_mu_loss: 0.0053 - lambda_loss: 1.8115e-05 - sigma_mean_absolute_percentage_error: 18.9335 - sigma_r2: 0.9724 - mu_mean_absolute_percentage_error: 86.1095 - mu_r2: 0.9485 - jump_sigma_mean_absolute_percentage_error: 156.9872 - jump_sigma_r2: 0.2949 - jump_mu_mean_absolute_percentage_error: 80.0666 - jump_mu_r2: 0.9372 - lambda_mean_absolute_percentage_error: 73.5865 - lambda_r2: 0.6442    \n",
      "Epoch 1/1\n",
      "10/10 [==============================] - 119s - loss: 0.0115 - sigma_loss: 9.7275e-05 - mu_loss: 0.0038 - jump_sigma_loss: 0.0023 - jump_mu_loss: 0.0054 - lambda_loss: 1.7717e-05 - sigma_mean_absolute_percentage_error: 22.3125 - sigma_r2: 0.9705 - mu_mean_absolute_percentage_error: 140.3146 - mu_r2: 0.9549 - jump_sigma_mean_absolute_percentage_error: 144.4475 - jump_sigma_r2: 0.2983 - jump_mu_mean_absolute_percentage_error: 96.8647 - jump_mu_r2: 0.9351 - lambda_mean_absolute_percentage_error: 78.3434 - lambda_r2: 0.6544     \n",
      "Epoch 1/1\n",
      "10/10 [==============================] - 118s - loss: 0.0119 - sigma_loss: 1.1084e-04 - mu_loss: 0.0040 - jump_sigma_loss: 0.0023 - jump_mu_loss: 0.0055 - lambda_loss: 1.9871e-05 - sigma_mean_absolute_percentage_error: 23.7627 - sigma_r2: 0.9664 - mu_mean_absolute_percentage_error: 95.3452 - mu_r2: 0.9523 - jump_sigma_mean_absolute_percentage_error: 163.9494 - jump_sigma_r2: 0.3019 - jump_mu_mean_absolute_percentage_error: 87.7392 - jump_mu_r2: 0.9335 - lambda_mean_absolute_percentage_error: 83.1671 - lambda_r2: 0.6103    \n",
      "[master 370c6c4] updated history, predictions and model\n",
      " 4 files changed, 16 insertions(+), 1 deletion(-)\n",
      "Branch master set up to track remote branch master from origin.\n",
      "Epoch 1/1\n",
      "10/10 [==============================] - 119s - loss: 0.0121 - sigma_loss: 1.1639e-04 - mu_loss: 0.0041 - jump_sigma_loss: 0.0024 - jump_mu_loss: 0.0054 - lambda_loss: 1.7405e-05 - sigma_mean_absolute_percentage_error: 21.2964 - sigma_r2: 0.9642 - mu_mean_absolute_percentage_error: 90.5710 - mu_r2: 0.9496 - jump_sigma_mean_absolute_percentage_error: 174.9506 - jump_sigma_r2: 0.2749 - jump_mu_mean_absolute_percentage_error: 104.5391 - jump_mu_r2: 0.9355 - lambda_mean_absolute_percentage_error: 74.6095 - lambda_r2: 0.6619    \n",
      "Epoch 1/1\n",
      "10/10 [==============================] - 115s - loss: 0.0119 - sigma_loss: 9.7504e-05 - mu_loss: 0.0039 - jump_sigma_loss: 0.0024 - jump_mu_loss: 0.0056 - lambda_loss: 1.8041e-05 - sigma_mean_absolute_percentage_error: 20.3300 - sigma_r2: 0.9700 - mu_mean_absolute_percentage_error: 103.7844 - mu_r2: 0.9525 - jump_sigma_mean_absolute_percentage_error: 156.8816 - jump_sigma_r2: 0.2883 - jump_mu_mean_absolute_percentage_error: 93.8710 - jump_mu_r2: 0.9326 - lambda_mean_absolute_percentage_error: 70.6031 - lambda_r2: 0.6465   \n",
      "Epoch 1/1\n",
      "10/10 [==============================] - 112s - loss: 0.0119 - sigma_loss: 1.0319e-04 - mu_loss: 0.0037 - jump_sigma_loss: 0.0024 - jump_mu_loss: 0.0057 - lambda_loss: 1.7768e-05 - sigma_mean_absolute_percentage_error: 20.9476 - sigma_r2: 0.9686 - mu_mean_absolute_percentage_error: 91.2104 - mu_r2: 0.9547 - jump_sigma_mean_absolute_percentage_error: 147.5127 - jump_sigma_r2: 0.2891 - jump_mu_mean_absolute_percentage_error: 64.7749 - jump_mu_r2: 0.9320 - lambda_mean_absolute_percentage_error: 80.2302 - lambda_r2: 0.6440    \n",
      "Epoch 1/1\n",
      "10/10 [==============================] - 114s - loss: 0.0120 - sigma_loss: 1.0069e-04 - mu_loss: 0.0039 - jump_sigma_loss: 0.0024 - jump_mu_loss: 0.0056 - lambda_loss: 1.8756e-05 - sigma_mean_absolute_percentage_error: 20.8943 - sigma_r2: 0.9694 - mu_mean_absolute_percentage_error: 82.2074 - mu_r2: 0.9533 - jump_sigma_mean_absolute_percentage_error: 155.2751 - jump_sigma_r2: 0.2790 - jump_mu_mean_absolute_percentage_error: 160.9470 - jump_mu_r2: 0.9330 - lambda_mean_absolute_percentage_error: 77.0353 - lambda_r2: 0.6371    \n",
      "Epoch 1/1\n",
      "10/10 [==============================] - 115s - loss: 0.0118 - sigma_loss: 9.4702e-05 - mu_loss: 0.0036 - jump_sigma_loss: 0.0024 - jump_mu_loss: 0.0056 - lambda_loss: 1.7388e-05 - sigma_mean_absolute_percentage_error: 17.5170 - sigma_r2: 0.9709 - mu_mean_absolute_percentage_error: 68.9831 - mu_r2: 0.9571 - jump_sigma_mean_absolute_percentage_error: 146.8334 - jump_sigma_r2: 0.2768 - jump_mu_mean_absolute_percentage_error: 81.0470 - jump_mu_r2: 0.9323 - lambda_mean_absolute_percentage_error: 75.8725 - lambda_r2: 0.6667    \n",
      "[master 871758a] updated history, predictions and model\n",
      " 3 files changed, 14 insertions(+), 1 deletion(-)\n",
      "Branch master set up to track remote branch master from origin.\n",
      "Epoch 1/1\n",
      "10/10 [==============================] - 120s - loss: 0.0119 - sigma_loss: 1.1300e-04 - mu_loss: 0.0038 - jump_sigma_loss: 0.0025 - jump_mu_loss: 0.0055 - lambda_loss: 1.9406e-05 - sigma_mean_absolute_percentage_error: 22.8721 - sigma_r2: 0.9657 - mu_mean_absolute_percentage_error: 101.4884 - mu_r2: 0.9546 - jump_sigma_mean_absolute_percentage_error: 152.5163 - jump_sigma_r2: 0.2498 - jump_mu_mean_absolute_percentage_error: 75.3415 - jump_mu_r2: 0.9326 - lambda_mean_absolute_percentage_error: 74.3056 - lambda_r2: 0.6315    \n",
      "Epoch 1/1\n"
     ]
    },
    {
     "name": "stdout",
     "output_type": "stream",
     "text": [
      "10/10 [==============================] - 117s - loss: 0.0124 - sigma_loss: 9.9145e-05 - mu_loss: 0.0040 - jump_sigma_loss: 0.0025 - jump_mu_loss: 0.0059 - lambda_loss: 1.8943e-05 - sigma_mean_absolute_percentage_error: 19.0118 - sigma_r2: 0.9696 - mu_mean_absolute_percentage_error: 56.0474 - mu_r2: 0.9524 - jump_sigma_mean_absolute_percentage_error: 166.5304 - jump_sigma_r2: 0.2583 - jump_mu_mean_absolute_percentage_error: 78.1880 - jump_mu_r2: 0.9298 - lambda_mean_absolute_percentage_error: 82.2507 - lambda_r2: 0.6370    \n",
      "Epoch 1/1\n",
      "10/10 [==============================] - 117s - loss: 0.0116 - sigma_loss: 9.7731e-05 - mu_loss: 0.0037 - jump_sigma_loss: 0.0024 - jump_mu_loss: 0.0054 - lambda_loss: 2.0592e-05 - sigma_mean_absolute_percentage_error: 19.9704 - sigma_r2: 0.9702 - mu_mean_absolute_percentage_error: 77.1965 - mu_r2: 0.9539 - jump_sigma_mean_absolute_percentage_error: 160.6262 - jump_sigma_r2: 0.2749 - jump_mu_mean_absolute_percentage_error: 475.6020 - jump_mu_r2: 0.9365 - lambda_mean_absolute_percentage_error: 80.3204 - lambda_r2: 0.6040    \n",
      "Epoch 1/1\n",
      "10/10 [==============================] - 119s - loss: 0.0115 - sigma_loss: 9.7437e-05 - mu_loss: 0.0039 - jump_sigma_loss: 0.0024 - jump_mu_loss: 0.0052 - lambda_loss: 1.9762e-05 - sigma_mean_absolute_percentage_error: 20.1326 - sigma_r2: 0.9704 - mu_mean_absolute_percentage_error: 79.7881 - mu_r2: 0.9524 - jump_sigma_mean_absolute_percentage_error: 161.3704 - jump_sigma_r2: 0.2844 - jump_mu_mean_absolute_percentage_error: 83.6939 - jump_mu_r2: 0.9377 - lambda_mean_absolute_percentage_error: 76.5955 - lambda_r2: 0.6185    \n",
      "Epoch 1/1\n",
      "10/10 [==============================] - 119s - loss: 0.0115 - sigma_loss: 8.3311e-05 - mu_loss: 0.0037 - jump_sigma_loss: 0.0023 - jump_mu_loss: 0.0054 - lambda_loss: 1.9292e-05 - sigma_mean_absolute_percentage_error: 19.0713 - sigma_r2: 0.9752 - mu_mean_absolute_percentage_error: 267.0913 - mu_r2: 0.9555 - jump_sigma_mean_absolute_percentage_error: 146.5853 - jump_sigma_r2: 0.2937 - jump_mu_mean_absolute_percentage_error: 68.2286 - jump_mu_r2: 0.9336 - lambda_mean_absolute_percentage_error: 77.3127 - lambda_r2: 0.6319    \n",
      "[master f915fc1] updated history, predictions and model\n",
      " 3 files changed, 20 insertions(+), 1 deletion(-)\n",
      "Branch master set up to track remote branch master from origin.\n",
      "Epoch 1/1\n",
      "10/10 [==============================] - 120s - loss: 0.0116 - sigma_loss: 8.6080e-05 - mu_loss: 0.0038 - jump_sigma_loss: 0.0023 - jump_mu_loss: 0.0054 - lambda_loss: 1.9548e-05 - sigma_mean_absolute_percentage_error: 21.4713 - sigma_r2: 0.9741 - mu_mean_absolute_percentage_error: 153.3780 - mu_r2: 0.9550 - jump_sigma_mean_absolute_percentage_error: 150.6798 - jump_sigma_r2: 0.2874 - jump_mu_mean_absolute_percentage_error: 77.9000 - jump_mu_r2: 0.9348 - lambda_mean_absolute_percentage_error: 84.2764 - lambda_r2: 0.6225    \n",
      "Epoch 1/1\n",
      "10/10 [==============================] - 119s - loss: 0.0122 - sigma_loss: 1.3215e-04 - mu_loss: 0.0039 - jump_sigma_loss: 0.0024 - jump_mu_loss: 0.0057 - lambda_loss: 1.9737e-05 - sigma_mean_absolute_percentage_error: 24.6646 - sigma_r2: 0.9597 - mu_mean_absolute_percentage_error: 170.5323 - mu_r2: 0.9531 - jump_sigma_mean_absolute_percentage_error: 157.0981 - jump_sigma_r2: 0.2813 - jump_mu_mean_absolute_percentage_error: 142.1264 - jump_mu_r2: 0.9326 - lambda_mean_absolute_percentage_error: 79.0920 - lambda_r2: 0.6178   \n",
      "Epoch 1/1\n",
      "10/10 [==============================] - 118s - loss: 0.0119 - sigma_loss: 8.7685e-05 - mu_loss: 0.0041 - jump_sigma_loss: 0.0024 - jump_mu_loss: 0.0054 - lambda_loss: 1.7339e-05 - sigma_mean_absolute_percentage_error: 19.6920 - sigma_r2: 0.9734 - mu_mean_absolute_percentage_error: 170.4961 - mu_r2: 0.9499 - jump_sigma_mean_absolute_percentage_error: 155.5896 - jump_sigma_r2: 0.3008 - jump_mu_mean_absolute_percentage_error: 81.6707 - jump_mu_r2: 0.9345 - lambda_mean_absolute_percentage_error: 74.1363 - lambda_r2: 0.6650    \n",
      "Epoch 1/1\n",
      "10/10 [==============================] - 118s - loss: 0.0120 - sigma_loss: 7.7239e-05 - mu_loss: 0.0040 - jump_sigma_loss: 0.0023 - jump_mu_loss: 0.0056 - lambda_loss: 1.8141e-05 - sigma_mean_absolute_percentage_error: 17.3226 - sigma_r2: 0.9765 - mu_mean_absolute_percentage_error: 167.9924 - mu_r2: 0.9516 - jump_sigma_mean_absolute_percentage_error: 156.6424 - jump_sigma_r2: 0.2862 - jump_mu_mean_absolute_percentage_error: 67.5539 - jump_mu_r2: 0.9327 - lambda_mean_absolute_percentage_error: 80.7196 - lambda_r2: 0.6485    \n",
      "Epoch 1/1\n",
      "10/10 [==============================] - 119s - loss: 0.0118 - sigma_loss: 1.0160e-04 - mu_loss: 0.0041 - jump_sigma_loss: 0.0023 - jump_mu_loss: 0.0053 - lambda_loss: 1.7619e-05 - sigma_mean_absolute_percentage_error: 18.9984 - sigma_r2: 0.9691 - mu_mean_absolute_percentage_error: 137.3357 - mu_r2: 0.9512 - jump_sigma_mean_absolute_percentage_error: 162.1969 - jump_sigma_r2: 0.3046 - jump_mu_mean_absolute_percentage_error: 78.5998 - jump_mu_r2: 0.9361 - lambda_mean_absolute_percentage_error: 72.8831 - lambda_r2: 0.6542    \n",
      "[master 28329ef] updated history, predictions and model\n",
      " 3 files changed, 14 insertions(+), 1 deletion(-)\n",
      "Branch master set up to track remote branch master from origin.\n",
      "Epoch 1/1\n",
      "10/10 [==============================] - 117s - loss: 0.0129 - sigma_loss: 1.0974e-04 - mu_loss: 0.0049 - jump_sigma_loss: 0.0024 - jump_mu_loss: 0.0054 - lambda_loss: 1.7998e-05 - sigma_mean_absolute_percentage_error: 24.2516 - sigma_r2: 0.9667 - mu_mean_absolute_percentage_error: 104.2495 - mu_r2: 0.9405 - jump_sigma_mean_absolute_percentage_error: 164.6146 - jump_sigma_r2: 0.2769 - jump_mu_mean_absolute_percentage_error: 118.0949 - jump_mu_r2: 0.9355 - lambda_mean_absolute_percentage_error: 79.2645 - lambda_r2: 0.6519    \n",
      "Epoch 1/1\n",
      "10/10 [==============================] - 118s - loss: 0.0128 - sigma_loss: 1.3901e-04 - mu_loss: 0.0046 - jump_sigma_loss: 0.0023 - jump_mu_loss: 0.0057 - lambda_loss: 1.8270e-05 - sigma_mean_absolute_percentage_error: 22.8245 - sigma_r2: 0.9578 - mu_mean_absolute_percentage_error: 135.7732 - mu_r2: 0.9453 - jump_sigma_mean_absolute_percentage_error: 158.7295 - jump_sigma_r2: 0.3170 - jump_mu_mean_absolute_percentage_error: 107.6982 - jump_mu_r2: 0.9295 - lambda_mean_absolute_percentage_error: 79.9183 - lambda_r2: 0.6453    \n",
      "Epoch 1/1\n",
      "10/10 [==============================] - 117s - loss: 0.0117 - sigma_loss: 1.0846e-04 - mu_loss: 0.0038 - jump_sigma_loss: 0.0024 - jump_mu_loss: 0.0053 - lambda_loss: 1.7922e-05 - sigma_mean_absolute_percentage_error: 18.4617 - sigma_r2: 0.9665 - mu_mean_absolute_percentage_error: 865.9795 - mu_r2: 0.9529 - jump_sigma_mean_absolute_percentage_error: 150.3410 - jump_sigma_r2: 0.2601 - jump_mu_mean_absolute_percentage_error: 101.5980 - jump_mu_r2: 0.9346 - lambda_mean_absolute_percentage_error: 68.9389 - lambda_r2: 0.6497    \n",
      "Epoch 1/1\n",
      "10/10 [==============================] - 118s - loss: 0.0114 - sigma_loss: 9.9143e-05 - mu_loss: 0.0036 - jump_sigma_loss: 0.0024 - jump_mu_loss: 0.0053 - lambda_loss: 1.7509e-05 - sigma_mean_absolute_percentage_error: 20.2742 - sigma_r2: 0.9701 - mu_mean_absolute_percentage_error: 102.9840 - mu_r2: 0.9569 - jump_sigma_mean_absolute_percentage_error: 161.6812 - jump_sigma_r2: 0.2883 - jump_mu_mean_absolute_percentage_error: 83.1384 - jump_mu_r2: 0.9358 - lambda_mean_absolute_percentage_error: 79.3370 - lambda_r2: 0.6582   \n",
      "Epoch 1/1\n",
      "10/10 [==============================] - 117s - loss: 0.0116 - sigma_loss: 1.2322e-04 - mu_loss: 0.0036 - jump_sigma_loss: 0.0023 - jump_mu_loss: 0.0055 - lambda_loss: 1.7462e-05 - sigma_mean_absolute_percentage_error: 24.1315 - sigma_r2: 0.9630 - mu_mean_absolute_percentage_error: 114.5201 - mu_r2: 0.9566 - jump_sigma_mean_absolute_percentage_error: 156.0369 - jump_sigma_r2: 0.2900 - jump_mu_mean_absolute_percentage_error: 113.3342 - jump_mu_r2: 0.9333 - lambda_mean_absolute_percentage_error: 70.6903 - lambda_r2: 0.6602    \n",
      "[master 233554c] updated history, predictions and model\n",
      " 3 files changed, 14 insertions(+), 1 deletion(-)\n",
      "Branch master set up to track remote branch master from origin.\n",
      "Epoch 1/1\n"
     ]
    },
    {
     "name": "stdout",
     "output_type": "stream",
     "text": [
      "10/10 [==============================] - 118s - loss: 0.0114 - sigma_loss: 8.7837e-05 - mu_loss: 0.0036 - jump_sigma_loss: 0.0023 - jump_mu_loss: 0.0053 - lambda_loss: 1.7163e-05 - sigma_mean_absolute_percentage_error: 18.6411 - sigma_r2: 0.9735 - mu_mean_absolute_percentage_error: 81.0467 - mu_r2: 0.9569 - jump_sigma_mean_absolute_percentage_error: 138.8200 - jump_sigma_r2: 0.2975 - jump_mu_mean_absolute_percentage_error: 73.8252 - jump_mu_r2: 0.9350 - lambda_mean_absolute_percentage_error: 76.9622 - lambda_r2: 0.6635    \n",
      "SAVE\n",
      "Epoch 1/1\n",
      "10/10 [==============================] - 114s - loss: 0.0117 - sigma_loss: 1.0017e-04 - mu_loss: 0.0036 - jump_sigma_loss: 0.0024 - jump_mu_loss: 0.0057 - lambda_loss: 1.7983e-05 - sigma_mean_absolute_percentage_error: 22.7993 - sigma_r2: 0.9698 - mu_mean_absolute_percentage_error: 146.7455 - mu_r2: 0.9563 - jump_sigma_mean_absolute_percentage_error: 154.9646 - jump_sigma_r2: 0.2795 - jump_mu_mean_absolute_percentage_error: 68.7803 - jump_mu_r2: 0.9304 - lambda_mean_absolute_percentage_error: 80.4529 - lambda_r2: 0.6475    \n",
      "Epoch 1/1\n",
      "10/10 [==============================] - 115s - loss: 0.0113 - sigma_loss: 8.8764e-05 - mu_loss: 0.0035 - jump_sigma_loss: 0.0024 - jump_mu_loss: 0.0052 - lambda_loss: 1.7847e-05 - sigma_mean_absolute_percentage_error: 20.4881 - sigma_r2: 0.9726 - mu_mean_absolute_percentage_error: 86.8229 - mu_r2: 0.9579 - jump_sigma_mean_absolute_percentage_error: 152.7840 - jump_sigma_r2: 0.2679 - jump_mu_mean_absolute_percentage_error: 85.1371 - jump_mu_r2: 0.9378 - lambda_mean_absolute_percentage_error: 76.8640 - lambda_r2: 0.6502    \n",
      "SAVE\n",
      "Epoch 1/1\n",
      "10/10 [==============================] - 116s - loss: 0.0112 - sigma_loss: 8.1679e-05 - mu_loss: 0.0035 - jump_sigma_loss: 0.0023 - jump_mu_loss: 0.0053 - lambda_loss: 2.0374e-05 - sigma_mean_absolute_percentage_error: 20.4098 - sigma_r2: 0.9749 - mu_mean_absolute_percentage_error: 323.9298 - mu_r2: 0.9571 - jump_sigma_mean_absolute_percentage_error: 161.1367 - jump_sigma_r2: 0.2772 - jump_mu_mean_absolute_percentage_error: 66.1725 - jump_mu_r2: 0.9371 - lambda_mean_absolute_percentage_error: 78.7194 - lambda_r2: 0.6115    \n",
      "SAVE\n",
      "Epoch 1/1\n",
      "10/10 [==============================] - 115s - loss: 0.0113 - sigma_loss: 8.3843e-05 - mu_loss: 0.0035 - jump_sigma_loss: 0.0023 - jump_mu_loss: 0.0054 - lambda_loss: 1.8111e-05 - sigma_mean_absolute_percentage_error: 20.5321 - sigma_r2: 0.9749 - mu_mean_absolute_percentage_error: 84.1698 - mu_r2: 0.9583 - jump_sigma_mean_absolute_percentage_error: 140.5030 - jump_sigma_r2: 0.2737 - jump_mu_mean_absolute_percentage_error: 98.0446 - jump_mu_r2: 0.9340 - lambda_mean_absolute_percentage_error: 76.3195 - lambda_r2: 0.6431    \n",
      "[master b7f8ae4] updated history, predictions and model\n",
      " 4 files changed, 23 insertions(+), 1 deletion(-)\n",
      "Branch master set up to track remote branch master from origin.\n",
      "Epoch 1/1\n",
      "10/10 [==============================] - 121s - loss: 0.0118 - sigma_loss: 1.0434e-04 - mu_loss: 0.0040 - jump_sigma_loss: 0.0023 - jump_mu_loss: 0.0054 - lambda_loss: 1.7756e-05 - sigma_mean_absolute_percentage_error: 20.8445 - sigma_r2: 0.9688 - mu_mean_absolute_percentage_error: 129.3193 - mu_r2: 0.9521 - jump_sigma_mean_absolute_percentage_error: 145.3309 - jump_sigma_r2: 0.2955 - jump_mu_mean_absolute_percentage_error: 73.4706 - jump_mu_r2: 0.9357 - lambda_mean_absolute_percentage_error: 69.8724 - lambda_r2: 0.6530    \n",
      "Epoch 1/1\n",
      "10/10 [==============================] - 117s - loss: 0.0117 - sigma_loss: 1.0099e-04 - mu_loss: 0.0038 - jump_sigma_loss: 0.0024 - jump_mu_loss: 0.0054 - lambda_loss: 1.8663e-05 - sigma_mean_absolute_percentage_error: 20.9736 - sigma_r2: 0.9688 - mu_mean_absolute_percentage_error: 185.1887 - mu_r2: 0.9534 - jump_sigma_mean_absolute_percentage_error: 154.3856 - jump_sigma_r2: 0.2740 - jump_mu_mean_absolute_percentage_error: 128.6456 - jump_mu_r2: 0.9354 - lambda_mean_absolute_percentage_error: 77.4120 - lambda_r2: 0.6381    \n",
      "Epoch 1/1\n",
      "10/10 [==============================] - 119s - loss: 0.0120 - sigma_loss: 1.2758e-04 - mu_loss: 0.0041 - jump_sigma_loss: 0.0024 - jump_mu_loss: 0.0054 - lambda_loss: 1.8386e-05 - sigma_mean_absolute_percentage_error: 23.3861 - sigma_r2: 0.9614 - mu_mean_absolute_percentage_error: 124.4412 - mu_r2: 0.9518 - jump_sigma_mean_absolute_percentage_error: 154.7013 - jump_sigma_r2: 0.2766 - jump_mu_mean_absolute_percentage_error: 70.9399 - jump_mu_r2: 0.9345 - lambda_mean_absolute_percentage_error: 73.6465 - lambda_r2: 0.6412    \n",
      "Epoch 1/1\n",
      "10/10 [==============================] - 117s - loss: 0.0117 - sigma_loss: 1.1086e-04 - mu_loss: 0.0037 - jump_sigma_loss: 0.0024 - jump_mu_loss: 0.0055 - lambda_loss: 1.8069e-05 - sigma_mean_absolute_percentage_error: 20.3389 - sigma_r2: 0.9657 - mu_mean_absolute_percentage_error: 173.2085 - mu_r2: 0.9556 - jump_sigma_mean_absolute_percentage_error: 152.7949 - jump_sigma_r2: 0.2810 - jump_mu_mean_absolute_percentage_error: 130.0648 - jump_mu_r2: 0.9344 - lambda_mean_absolute_percentage_error: 73.3393 - lambda_r2: 0.6508    \n",
      "Epoch 1/1\n",
      "10/10 [==============================] - 117s - loss: 0.0111 - sigma_loss: 8.2865e-05 - mu_loss: 0.0035 - jump_sigma_loss: 0.0022 - jump_mu_loss: 0.0053 - lambda_loss: 1.7652e-05 - sigma_mean_absolute_percentage_error: 16.9275 - sigma_r2: 0.9750 - mu_mean_absolute_percentage_error: 194.0185 - mu_r2: 0.9573 - jump_sigma_mean_absolute_percentage_error: 144.1549 - jump_sigma_r2: 0.3205 - jump_mu_mean_absolute_percentage_error: 86.7950 - jump_mu_r2: 0.9354 - lambda_mean_absolute_percentage_error: 76.9920 - lambda_r2: 0.6560    \n",
      "SAVE\n",
      "[master 205048b] updated history, predictions and model\n",
      " 4 files changed, 14 insertions(+), 1 deletion(-)\n",
      "Branch master set up to track remote branch master from origin.\n",
      "Epoch 1/1\n",
      "10/10 [==============================] - 118s - loss: 0.0115 - sigma_loss: 8.0207e-05 - mu_loss: 0.0036 - jump_sigma_loss: 0.0023 - jump_mu_loss: 0.0055 - lambda_loss: 1.6960e-05 - sigma_mean_absolute_percentage_error: 20.0811 - sigma_r2: 0.9754 - mu_mean_absolute_percentage_error: 110.3872 - mu_r2: 0.9574 - jump_sigma_mean_absolute_percentage_error: 159.7806 - jump_sigma_r2: 0.2879 - jump_mu_mean_absolute_percentage_error: 73.4912 - jump_mu_r2: 0.9359 - lambda_mean_absolute_percentage_error: 75.2181 - lambda_r2: 0.6739    \n",
      "Epoch 1/1\n",
      "10/10 [==============================] - 115s - loss: 0.0118 - sigma_loss: 1.2102e-04 - mu_loss: 0.0037 - jump_sigma_loss: 0.0024 - jump_mu_loss: 0.0056 - lambda_loss: 1.8694e-05 - sigma_mean_absolute_percentage_error: 22.7788 - sigma_r2: 0.9632 - mu_mean_absolute_percentage_error: 112.1649 - mu_r2: 0.9561 - jump_sigma_mean_absolute_percentage_error: 146.6330 - jump_sigma_r2: 0.2951 - jump_mu_mean_absolute_percentage_error: 71.8864 - jump_mu_r2: 0.9329 - lambda_mean_absolute_percentage_error: 86.5750 - lambda_r2: 0.6436   \n",
      "Epoch 1/1\n",
      "10/10 [==============================] - 114s - loss: 0.0115 - sigma_loss: 9.3890e-05 - mu_loss: 0.0036 - jump_sigma_loss: 0.0023 - jump_mu_loss: 0.0054 - lambda_loss: 1.7504e-05 - sigma_mean_absolute_percentage_error: 20.2730 - sigma_r2: 0.9711 - mu_mean_absolute_percentage_error: 78.0846 - mu_r2: 0.9570 - jump_sigma_mean_absolute_percentage_error: 146.5114 - jump_sigma_r2: 0.3005 - jump_mu_mean_absolute_percentage_error: 67.0322 - jump_mu_r2: 0.9365 - lambda_mean_absolute_percentage_error: 70.6839 - lambda_r2: 0.6532    \n",
      "Epoch 1/1\n",
      "10/10 [==============================] - 116s - loss: 0.0114 - sigma_loss: 1.1545e-04 - mu_loss: 0.0035 - jump_sigma_loss: 0.0023 - jump_mu_loss: 0.0054 - lambda_loss: 1.7840e-05 - sigma_mean_absolute_percentage_error: 22.7844 - sigma_r2: 0.9653 - mu_mean_absolute_percentage_error: 100.5339 - mu_r2: 0.9564 - jump_sigma_mean_absolute_percentage_error: 145.6914 - jump_sigma_r2: 0.2909 - jump_mu_mean_absolute_percentage_error: 1172.4215 - jump_mu_r2: 0.9349 - lambda_mean_absolute_percentage_error: 69.1798 - lambda_r2: 0.6606   \n",
      "Epoch 1/1\n"
     ]
    },
    {
     "name": "stdout",
     "output_type": "stream",
     "text": [
      "10/10 [==============================] - 115s - loss: 0.0115 - sigma_loss: 9.4143e-05 - mu_loss: 0.0038 - jump_sigma_loss: 0.0023 - jump_mu_loss: 0.0053 - lambda_loss: 1.8673e-05 - sigma_mean_absolute_percentage_error: 19.4352 - sigma_r2: 0.9717 - mu_mean_absolute_percentage_error: 75.8911 - mu_r2: 0.9536 - jump_sigma_mean_absolute_percentage_error: 155.8872 - jump_sigma_r2: 0.2937 - jump_mu_mean_absolute_percentage_error: 62.6205 - jump_mu_r2: 0.9372 - lambda_mean_absolute_percentage_error: 73.9602 - lambda_r2: 0.6306    \n",
      "[master 531506f] updated history, predictions and model\n",
      " 3 files changed, 22 insertions(+), 1 deletion(-)\n",
      "Branch master set up to track remote branch master from origin.\n",
      "Epoch 1/1\n",
      "10/10 [==============================] - 119s - loss: 0.0116 - sigma_loss: 9.2619e-05 - mu_loss: 0.0040 - jump_sigma_loss: 0.0022 - jump_mu_loss: 0.0053 - lambda_loss: 1.6620e-05 - sigma_mean_absolute_percentage_error: 19.6951 - sigma_r2: 0.9719 - mu_mean_absolute_percentage_error: 134.3866 - mu_r2: 0.9523 - jump_sigma_mean_absolute_percentage_error: 147.9903 - jump_sigma_r2: 0.3122 - jump_mu_mean_absolute_percentage_error: 64.1765 - jump_mu_r2: 0.9369 - lambda_mean_absolute_percentage_error: 66.5982 - lambda_r2: 0.6791    \n",
      "Epoch 1/1\n",
      "10/10 [==============================] - 116s - loss: 0.0116 - sigma_loss: 9.3119e-05 - mu_loss: 0.0038 - jump_sigma_loss: 0.0023 - jump_mu_loss: 0.0054 - lambda_loss: 1.7662e-05 - sigma_mean_absolute_percentage_error: 19.3613 - sigma_r2: 0.9714 - mu_mean_absolute_percentage_error: 62.0148 - mu_r2: 0.9544 - jump_sigma_mean_absolute_percentage_error: 150.9364 - jump_sigma_r2: 0.2965 - jump_mu_mean_absolute_percentage_error: 73.6076 - jump_mu_r2: 0.9348 - lambda_mean_absolute_percentage_error: 79.2031 - lambda_r2: 0.6592    \n",
      "Epoch 1/1\n",
      "10/10 [==============================] - 117s - loss: 0.0114 - sigma_loss: 1.1142e-04 - mu_loss: 0.0038 - jump_sigma_loss: 0.0023 - jump_mu_loss: 0.0051 - lambda_loss: 1.7690e-05 - sigma_mean_absolute_percentage_error: 23.7994 - sigma_r2: 0.9649 - mu_mean_absolute_percentage_error: 596.1660 - mu_r2: 0.9543 - jump_sigma_mean_absolute_percentage_error: 161.4589 - jump_sigma_r2: 0.2842 - jump_mu_mean_absolute_percentage_error: 123.0980 - jump_mu_r2: 0.9369 - lambda_mean_absolute_percentage_error: 72.2474 - lambda_r2: 0.6609    \n",
      "Epoch 1/1\n",
      "10/10 [==============================] - 118s - loss: 0.0120 - sigma_loss: 9.4423e-05 - mu_loss: 0.0043 - jump_sigma_loss: 0.0024 - jump_mu_loss: 0.0052 - lambda_loss: 1.6464e-05 - sigma_mean_absolute_percentage_error: 22.8756 - sigma_r2: 0.9707 - mu_mean_absolute_percentage_error: 166.9017 - mu_r2: 0.9475 - jump_sigma_mean_absolute_percentage_error: 159.8259 - jump_sigma_r2: 0.2936 - jump_mu_mean_absolute_percentage_error: 165.4715 - jump_mu_r2: 0.9376 - lambda_mean_absolute_percentage_error: 70.0479 - lambda_r2: 0.6837    \n",
      "Epoch 1/1\n",
      "10/10 [==============================] - 118s - loss: 0.0121 - sigma_loss: 8.9319e-05 - mu_loss: 0.0043 - jump_sigma_loss: 0.0023 - jump_mu_loss: 0.0054 - lambda_loss: 1.8312e-05 - sigma_mean_absolute_percentage_error: 18.8529 - sigma_r2: 0.9727 - mu_mean_absolute_percentage_error: 148.8734 - mu_r2: 0.9479 - jump_sigma_mean_absolute_percentage_error: 149.1245 - jump_sigma_r2: 0.3022 - jump_mu_mean_absolute_percentage_error: 146.3440 - jump_mu_r2: 0.9347 - lambda_mean_absolute_percentage_error: 71.8047 - lambda_r2: 0.6423    \n",
      "[master 0d8557c] updated history, predictions and model\n",
      " 3 files changed, 14 insertions(+), 2 deletions(-)\n",
      "Branch master set up to track remote branch master from origin.\n",
      "Epoch 1/1\n",
      "10/10 [==============================] - 120s - loss: 0.0120 - sigma_loss: 1.3248e-04 - mu_loss: 0.0042 - jump_sigma_loss: 0.0023 - jump_mu_loss: 0.0054 - lambda_loss: 1.7464e-05 - sigma_mean_absolute_percentage_error: 21.3471 - sigma_r2: 0.9598 - mu_mean_absolute_percentage_error: 144.7801 - mu_r2: 0.9504 - jump_sigma_mean_absolute_percentage_error: 152.0565 - jump_sigma_r2: 0.2952 - jump_mu_mean_absolute_percentage_error: 169.1021 - jump_mu_r2: 0.9365 - lambda_mean_absolute_percentage_error: 62.5617 - lambda_r2: 0.6564    \n",
      "Epoch 1/1\n",
      "10/10 [==============================] - 115s - loss: 0.0114 - sigma_loss: 1.1302e-04 - mu_loss: 0.0039 - jump_sigma_loss: 0.0023 - jump_mu_loss: 0.0051 - lambda_loss: 2.0237e-05 - sigma_mean_absolute_percentage_error: 22.6510 - sigma_r2: 0.9657 - mu_mean_absolute_percentage_error: 79.8047 - mu_r2: 0.9542 - jump_sigma_mean_absolute_percentage_error: 145.8935 - jump_sigma_r2: 0.2813 - jump_mu_mean_absolute_percentage_error: 137.2910 - jump_mu_r2: 0.9385 - lambda_mean_absolute_percentage_error: 81.0925 - lambda_r2: 0.6091    \n",
      "Epoch 1/1\n",
      "10/10 [==============================] - 115s - loss: 0.0115 - sigma_loss: 1.0968e-04 - mu_loss: 0.0039 - jump_sigma_loss: 0.0023 - jump_mu_loss: 0.0052 - lambda_loss: 1.8733e-05 - sigma_mean_absolute_percentage_error: 21.4320 - sigma_r2: 0.9662 - mu_mean_absolute_percentage_error: 86.0781 - mu_r2: 0.9540 - jump_sigma_mean_absolute_percentage_error: 143.9314 - jump_sigma_r2: 0.2993 - jump_mu_mean_absolute_percentage_error: 108.6619 - jump_mu_r2: 0.9372 - lambda_mean_absolute_percentage_error: 75.2912 - lambda_r2: 0.6366   \n",
      "Epoch 1/1\n",
      "10/10 [==============================] - 115s - loss: 0.0114 - sigma_loss: 8.2560e-05 - mu_loss: 0.0038 - jump_sigma_loss: 0.0023 - jump_mu_loss: 0.0052 - lambda_loss: 1.7766e-05 - sigma_mean_absolute_percentage_error: 17.2968 - sigma_r2: 0.9748 - mu_mean_absolute_percentage_error: 103.0545 - mu_r2: 0.9538 - jump_sigma_mean_absolute_percentage_error: 159.0172 - jump_sigma_r2: 0.3094 - jump_mu_mean_absolute_percentage_error: 89.1703 - jump_mu_r2: 0.9366 - lambda_mean_absolute_percentage_error: 68.6150 - lambda_r2: 0.6524    \n",
      "Epoch 1/1\n",
      "10/10 [==============================] - 116s - loss: 0.0109 - sigma_loss: 8.5657e-05 - mu_loss: 0.0034 - jump_sigma_loss: 0.0023 - jump_mu_loss: 0.0052 - lambda_loss: 1.7665e-05 - sigma_mean_absolute_percentage_error: 19.7109 - sigma_r2: 0.9738 - mu_mean_absolute_percentage_error: 113.4936 - mu_r2: 0.9597 - jump_sigma_mean_absolute_percentage_error: 150.9845 - jump_sigma_r2: 0.3040 - jump_mu_mean_absolute_percentage_error: 86.7037 - jump_mu_r2: 0.9373 - lambda_mean_absolute_percentage_error: 78.0560 - lambda_r2: 0.6587    \n",
      "SAVE\n",
      "[master 9c0d3ab] updated history, predictions and model\n",
      " 4 files changed, 14 insertions(+), 1 deletion(-)\n",
      "Branch master set up to track remote branch master from origin.\n",
      "Epoch 1/1\n",
      "10/10 [==============================] - 118s - loss: 0.0114 - sigma_loss: 8.8508e-05 - mu_loss: 0.0036 - jump_sigma_loss: 0.0023 - jump_mu_loss: 0.0054 - lambda_loss: 1.6531e-05 - sigma_mean_absolute_percentage_error: 19.4558 - sigma_r2: 0.9733 - mu_mean_absolute_percentage_error: 115.3458 - mu_r2: 0.9559 - jump_sigma_mean_absolute_percentage_error: 159.4327 - jump_sigma_r2: 0.3002 - jump_mu_mean_absolute_percentage_error: 73.1872 - jump_mu_r2: 0.9358 - lambda_mean_absolute_percentage_error: 76.9757 - lambda_r2: 0.6886    \n",
      "Epoch 1/1\n",
      "10/10 [==============================] - 119s - loss: 0.0113 - sigma_loss: 8.8837e-05 - mu_loss: 0.0035 - jump_sigma_loss: 0.0023 - jump_mu_loss: 0.0054 - lambda_loss: 1.7254e-05 - sigma_mean_absolute_percentage_error: 19.6085 - sigma_r2: 0.9731 - mu_mean_absolute_percentage_error: 152.7394 - mu_r2: 0.9582 - jump_sigma_mean_absolute_percentage_error: 143.1489 - jump_sigma_r2: 0.3026 - jump_mu_mean_absolute_percentage_error: 158.8801 - jump_mu_r2: 0.9346 - lambda_mean_absolute_percentage_error: 70.2093 - lambda_r2: 0.6581    \n",
      "Epoch 1/1\n",
      "10/10 [==============================] - 120s - loss: 0.0110 - sigma_loss: 9.0329e-05 - mu_loss: 0.0035 - jump_sigma_loss: 0.0023 - jump_mu_loss: 0.0051 - lambda_loss: 1.6942e-05 - sigma_mean_absolute_percentage_error: 21.2586 - sigma_r2: 0.9730 - mu_mean_absolute_percentage_error: 78.9013 - mu_r2: 0.9583 - jump_sigma_mean_absolute_percentage_error: 135.5663 - jump_sigma_r2: 0.3018 - jump_mu_mean_absolute_percentage_error: 110.6090 - jump_mu_r2: 0.9378 - lambda_mean_absolute_percentage_error: 73.2370 - lambda_r2: 0.6754    \n",
      "Epoch 1/1\n"
     ]
    },
    {
     "name": "stdout",
     "output_type": "stream",
     "text": [
      "10/10 [==============================] - 117s - loss: 0.0115 - sigma_loss: 1.0605e-04 - mu_loss: 0.0037 - jump_sigma_loss: 0.0023 - jump_mu_loss: 0.0054 - lambda_loss: 1.7917e-05 - sigma_mean_absolute_percentage_error: 21.6307 - sigma_r2: 0.9681 - mu_mean_absolute_percentage_error: 90.3119 - mu_r2: 0.9561 - jump_sigma_mean_absolute_percentage_error: 151.3977 - jump_sigma_r2: 0.3100 - jump_mu_mean_absolute_percentage_error: 228.3776 - jump_mu_r2: 0.9345 - lambda_mean_absolute_percentage_error: 76.1037 - lambda_r2: 0.6592    \n",
      "Epoch 1/1\n",
      "10/10 [==============================] - 117s - loss: 0.0116 - sigma_loss: 9.0649e-05 - mu_loss: 0.0042 - jump_sigma_loss: 0.0023 - jump_mu_loss: 0.0050 - lambda_loss: 1.6922e-05 - sigma_mean_absolute_percentage_error: 21.3873 - sigma_r2: 0.9728 - mu_mean_absolute_percentage_error: 117.9198 - mu_r2: 0.9502 - jump_sigma_mean_absolute_percentage_error: 148.3024 - jump_sigma_r2: 0.3091 - jump_mu_mean_absolute_percentage_error: 67.1838 - jump_mu_r2: 0.9403 - lambda_mean_absolute_percentage_error: 68.5102 - lambda_r2: 0.6679    \n",
      "[master 0605281] updated history, predictions and model\n",
      " 3 files changed, 21 insertions(+), 1 deletion(-)\n",
      "Branch master set up to track remote branch master from origin.\n",
      "Epoch 1/1\n",
      "10/10 [==============================] - 116s - loss: 0.0123 - sigma_loss: 1.0848e-04 - mu_loss: 0.0043 - jump_sigma_loss: 0.0023 - jump_mu_loss: 0.0056 - lambda_loss: 2.2058e-05 - sigma_mean_absolute_percentage_error: 26.3376 - sigma_r2: 0.9672 - mu_mean_absolute_percentage_error: 100.0185 - mu_r2: 0.9477 - jump_sigma_mean_absolute_percentage_error: 144.9571 - jump_sigma_r2: 0.2894 - jump_mu_mean_absolute_percentage_error: 572.3974 - jump_mu_r2: 0.9322 - lambda_mean_absolute_percentage_error: 107.0232 - lambda_r2: 0.5629   \n",
      "Epoch 1/1\n",
      "10/10 [==============================] - 117s - loss: 0.0118 - sigma_loss: 1.0342e-04 - mu_loss: 0.0044 - jump_sigma_loss: 0.0023 - jump_mu_loss: 0.0049 - lambda_loss: 1.8193e-05 - sigma_mean_absolute_percentage_error: 25.1112 - sigma_r2: 0.9686 - mu_mean_absolute_percentage_error: 105.6376 - mu_r2: 0.9465 - jump_sigma_mean_absolute_percentage_error: 148.9040 - jump_sigma_r2: 0.3034 - jump_mu_mean_absolute_percentage_error: 59.5050 - jump_mu_r2: 0.9414 - lambda_mean_absolute_percentage_error: 71.1208 - lambda_r2: 0.6408    \n",
      "Epoch 1/1\n",
      "10/10 [==============================] - 115s - loss: 0.0117 - sigma_loss: 1.3391e-04 - mu_loss: 0.0039 - jump_sigma_loss: 0.0023 - jump_mu_loss: 0.0052 - lambda_loss: 2.0247e-05 - sigma_mean_absolute_percentage_error: 26.5921 - sigma_r2: 0.9599 - mu_mean_absolute_percentage_error: 111.0032 - mu_r2: 0.9531 - jump_sigma_mean_absolute_percentage_error: 154.3499 - jump_sigma_r2: 0.2888 - jump_mu_mean_absolute_percentage_error: 75.7974 - jump_mu_r2: 0.9383 - lambda_mean_absolute_percentage_error: 68.0129 - lambda_r2: 0.6072    \n",
      "Epoch 1/1\n",
      "10/10 [==============================] - 114s - loss: 0.0115 - sigma_loss: 9.2666e-05 - mu_loss: 0.0035 - jump_sigma_loss: 0.0023 - jump_mu_loss: 0.0055 - lambda_loss: 1.9411e-05 - sigma_mean_absolute_percentage_error: 20.2153 - sigma_r2: 0.9716 - mu_mean_absolute_percentage_error: 86.3612 - mu_r2: 0.9569 - jump_sigma_mean_absolute_percentage_error: 154.3440 - jump_sigma_r2: 0.2939 - jump_mu_mean_absolute_percentage_error: 98.5695 - jump_mu_r2: 0.9340 - lambda_mean_absolute_percentage_error: 81.7045 - lambda_r2: 0.6296    \n",
      "Epoch 1/1\n",
      "10/10 [==============================] - 114s - loss: 0.0114 - sigma_loss: 8.6474e-05 - mu_loss: 0.0036 - jump_sigma_loss: 0.0023 - jump_mu_loss: 0.0055 - lambda_loss: 1.7286e-05 - sigma_mean_absolute_percentage_error: 20.8406 - sigma_r2: 0.9743 - mu_mean_absolute_percentage_error: 140.0815 - mu_r2: 0.9566 - jump_sigma_mean_absolute_percentage_error: 145.8569 - jump_sigma_r2: 0.3133 - jump_mu_mean_absolute_percentage_error: 111.2864 - jump_mu_r2: 0.9353 - lambda_mean_absolute_percentage_error: 76.7521 - lambda_r2: 0.6629    \n",
      "[master 09f12aa] updated history, predictions and model\n",
      " 3 files changed, 14 insertions(+), 1 deletion(-)\n",
      "Branch master set up to track remote branch master from origin.\n",
      "Epoch 1/1\n",
      "10/10 [==============================] - 119s - loss: 0.0112 - sigma_loss: 9.6463e-05 - mu_loss: 0.0035 - jump_sigma_loss: 0.0023 - jump_mu_loss: 0.0053 - lambda_loss: 1.7430e-05 - sigma_mean_absolute_percentage_error: 20.5930 - sigma_r2: 0.9704 - mu_mean_absolute_percentage_error: 366.6100 - mu_r2: 0.9578 - jump_sigma_mean_absolute_percentage_error: 174.8152 - jump_sigma_r2: 0.3173 - jump_mu_mean_absolute_percentage_error: 75.3551 - jump_mu_r2: 0.9377 - lambda_mean_absolute_percentage_error: 72.9170 - lambda_r2: 0.6628    \n",
      "Epoch 1/1\n",
      "10/10 [==============================] - 117s - loss: 0.0120 - sigma_loss: 1.4188e-04 - mu_loss: 0.0035 - jump_sigma_loss: 0.0023 - jump_mu_loss: 0.0060 - lambda_loss: 2.1190e-05 - sigma_mean_absolute_percentage_error: 28.4905 - sigma_r2: 0.9572 - mu_mean_absolute_percentage_error: 86.4652 - mu_r2: 0.9575 - jump_sigma_mean_absolute_percentage_error: 160.4252 - jump_sigma_r2: 0.3189 - jump_mu_mean_absolute_percentage_error: 84.3869 - jump_mu_r2: 0.9258 - lambda_mean_absolute_percentage_error: 96.5943 - lambda_r2: 0.5934    \n",
      "Epoch 1/1\n",
      "10/10 [==============================] - 118s - loss: 0.0120 - sigma_loss: 1.3678e-04 - mu_loss: 0.0039 - jump_sigma_loss: 0.0024 - jump_mu_loss: 0.0056 - lambda_loss: 1.8053e-05 - sigma_mean_absolute_percentage_error: 25.3821 - sigma_r2: 0.9585 - mu_mean_absolute_percentage_error: 135.5649 - mu_r2: 0.9528 - jump_sigma_mean_absolute_percentage_error: 158.4547 - jump_sigma_r2: 0.2814 - jump_mu_mean_absolute_percentage_error: 85.9939 - jump_mu_r2: 0.9346 - lambda_mean_absolute_percentage_error: 78.8099 - lambda_r2: 0.6498    \n",
      "Epoch 1/1\n",
      "10/10 [==============================] - 117s - loss: 0.0111 - sigma_loss: 1.0471e-04 - mu_loss: 0.0037 - jump_sigma_loss: 0.0023 - jump_mu_loss: 0.0049 - lambda_loss: 1.7945e-05 - sigma_mean_absolute_percentage_error: 19.7470 - sigma_r2: 0.9682 - mu_mean_absolute_percentage_error: 81.0466 - mu_r2: 0.9555 - jump_sigma_mean_absolute_percentage_error: 161.9477 - jump_sigma_r2: 0.3001 - jump_mu_mean_absolute_percentage_error: 62.8901 - jump_mu_r2: 0.9409 - lambda_mean_absolute_percentage_error: 79.9352 - lambda_r2: 0.6505    \n",
      "Epoch 1/1\n",
      "10/10 [==============================] - 119s - loss: 0.0111 - sigma_loss: 1.1489e-04 - mu_loss: 0.0037 - jump_sigma_loss: 0.0022 - jump_mu_loss: 0.0051 - lambda_loss: 1.6865e-05 - sigma_mean_absolute_percentage_error: 29.9497 - sigma_r2: 0.9653 - mu_mean_absolute_percentage_error: 100.1149 - mu_r2: 0.9541 - jump_sigma_mean_absolute_percentage_error: 148.6286 - jump_sigma_r2: 0.3196 - jump_mu_mean_absolute_percentage_error: 118.5900 - jump_mu_r2: 0.9385 - lambda_mean_absolute_percentage_error: 72.1704 - lambda_r2: 0.6734    \n",
      "[master 442277b] updated history, predictions and model\n",
      " 3 files changed, 14 insertions(+), 1 deletion(-)\n",
      "Branch master set up to track remote branch master from origin.\n",
      "Epoch 1/1\n",
      "10/10 [==============================] - 120s - loss: 0.0111 - sigma_loss: 8.1322e-05 - mu_loss: 0.0036 - jump_sigma_loss: 0.0022 - jump_mu_loss: 0.0051 - lambda_loss: 1.7014e-05 - sigma_mean_absolute_percentage_error: 18.0227 - sigma_r2: 0.9754 - mu_mean_absolute_percentage_error: 71.0348 - mu_r2: 0.9559 - jump_sigma_mean_absolute_percentage_error: 144.6184 - jump_sigma_r2: 0.3279 - jump_mu_mean_absolute_percentage_error: 100.7075 - jump_mu_r2: 0.9378 - lambda_mean_absolute_percentage_error: 69.3663 - lambda_r2: 0.6654    \n",
      "Epoch 1/1\n",
      "10/10 [==============================] - 116s - loss: 0.0109 - sigma_loss: 1.1391e-04 - mu_loss: 0.0036 - jump_sigma_loss: 0.0023 - jump_mu_loss: 0.0049 - lambda_loss: 1.7946e-05 - sigma_mean_absolute_percentage_error: 21.7157 - sigma_r2: 0.9654 - mu_mean_absolute_percentage_error: 84.4793 - mu_r2: 0.9577 - jump_sigma_mean_absolute_percentage_error: 155.4928 - jump_sigma_r2: 0.3038 - jump_mu_mean_absolute_percentage_error: 70.2754 - jump_mu_r2: 0.9399 - lambda_mean_absolute_percentage_error: 70.9471 - lambda_r2: 0.6504    \n",
      "SAVE\n",
      "Epoch 1/1\n"
     ]
    },
    {
     "name": "stdout",
     "output_type": "stream",
     "text": [
      "10/10 [==============================] - 116s - loss: 0.0109 - sigma_loss: 9.6034e-05 - mu_loss: 0.0036 - jump_sigma_loss: 0.0023 - jump_mu_loss: 0.0049 - lambda_loss: 1.7240e-05 - sigma_mean_absolute_percentage_error: 18.2555 - sigma_r2: 0.9705 - mu_mean_absolute_percentage_error: 72.0852 - mu_r2: 0.9562 - jump_sigma_mean_absolute_percentage_error: 149.1527 - jump_sigma_r2: 0.3164 - jump_mu_mean_absolute_percentage_error: 84.0412 - jump_mu_r2: 0.9403 - lambda_mean_absolute_percentage_error: 68.5058 - lambda_r2: 0.6663    \n",
      "SAVE\n",
      "Epoch 1/1\n",
      "10/10 [==============================] - 116s - loss: 0.0115 - sigma_loss: 8.7889e-05 - mu_loss: 0.0038 - jump_sigma_loss: 0.0023 - jump_mu_loss: 0.0053 - lambda_loss: 1.7894e-05 - sigma_mean_absolute_percentage_error: 19.2195 - sigma_r2: 0.9729 - mu_mean_absolute_percentage_error: 99.1275 - mu_r2: 0.9536 - jump_sigma_mean_absolute_percentage_error: 155.5600 - jump_sigma_r2: 0.3071 - jump_mu_mean_absolute_percentage_error: 111.2755 - jump_mu_r2: 0.9372 - lambda_mean_absolute_percentage_error: 67.6518 - lambda_r2: 0.6540    \n",
      "Epoch 1/1\n",
      "10/10 [==============================] - 114s - loss: 0.0112 - sigma_loss: 9.0887e-05 - mu_loss: 0.0036 - jump_sigma_loss: 0.0022 - jump_mu_loss: 0.0052 - lambda_loss: 1.7488e-05 - sigma_mean_absolute_percentage_error: 20.0512 - sigma_r2: 0.9729 - mu_mean_absolute_percentage_error: 63.5638 - mu_r2: 0.9570 - jump_sigma_mean_absolute_percentage_error: 144.2974 - jump_sigma_r2: 0.3033 - jump_mu_mean_absolute_percentage_error: 62.9599 - jump_mu_r2: 0.9373 - lambda_mean_absolute_percentage_error: 79.7322 - lambda_r2: 0.6622    \n",
      "[master 7a45486] updated history, predictions and model\n",
      " 4 files changed, 22 insertions(+), 1 deletion(-)\n",
      "Branch master set up to track remote branch master from origin.\n",
      "Epoch 1/1\n",
      "10/10 [==============================] - 119s - loss: 0.0114 - sigma_loss: 8.4639e-05 - mu_loss: 0.0038 - jump_sigma_loss: 0.0023 - jump_mu_loss: 0.0052 - lambda_loss: 1.5527e-05 - sigma_mean_absolute_percentage_error: 17.4126 - sigma_r2: 0.9742 - mu_mean_absolute_percentage_error: 82.4210 - mu_r2: 0.9537 - jump_sigma_mean_absolute_percentage_error: 144.0153 - jump_sigma_r2: 0.3094 - jump_mu_mean_absolute_percentage_error: 59.8748 - jump_mu_r2: 0.9373 - lambda_mean_absolute_percentage_error: 63.5420 - lambda_r2: 0.7052    \n",
      "Epoch 1/1\n",
      "10/10 [==============================] - 118s - loss: 0.0112 - sigma_loss: 1.0468e-04 - mu_loss: 0.0037 - jump_sigma_loss: 0.0022 - jump_mu_loss: 0.0051 - lambda_loss: 1.7747e-05 - sigma_mean_absolute_percentage_error: 20.6934 - sigma_r2: 0.9675 - mu_mean_absolute_percentage_error: 90.1225 - mu_r2: 0.9548 - jump_sigma_mean_absolute_percentage_error: 143.8330 - jump_sigma_r2: 0.3186 - jump_mu_mean_absolute_percentage_error: 68.5581 - jump_mu_r2: 0.9392 - lambda_mean_absolute_percentage_error: 67.2238 - lambda_r2: 0.6478    \n",
      "Epoch 1/1\n",
      "10/10 [==============================] - 118s - loss: 0.0109 - sigma_loss: 9.9909e-05 - mu_loss: 0.0035 - jump_sigma_loss: 0.0022 - jump_mu_loss: 0.0051 - lambda_loss: 1.6505e-05 - sigma_mean_absolute_percentage_error: 21.9082 - sigma_r2: 0.9698 - mu_mean_absolute_percentage_error: 111.8606 - mu_r2: 0.9577 - jump_sigma_mean_absolute_percentage_error: 142.1552 - jump_sigma_r2: 0.3129 - jump_mu_mean_absolute_percentage_error: 368.7888 - jump_mu_r2: 0.9381 - lambda_mean_absolute_percentage_error: 77.4568 - lambda_r2: 0.6760    \n",
      "Epoch 1/1\n",
      "10/10 [==============================] - 118s - loss: 0.0110 - sigma_loss: 8.8697e-05 - mu_loss: 0.0034 - jump_sigma_loss: 0.0022 - jump_mu_loss: 0.0052 - lambda_loss: 1.6437e-05 - sigma_mean_absolute_percentage_error: 18.5430 - sigma_r2: 0.9730 - mu_mean_absolute_percentage_error: 152.3537 - mu_r2: 0.9589 - jump_sigma_mean_absolute_percentage_error: 135.5663 - jump_sigma_r2: 0.3346 - jump_mu_mean_absolute_percentage_error: 71.5404 - jump_mu_r2: 0.9370 - lambda_mean_absolute_percentage_error: 73.1639 - lambda_r2: 0.6834    \n",
      "Epoch 1/1\n",
      "10/10 [==============================] - 116s - loss: 0.0109 - sigma_loss: 7.7618e-05 - mu_loss: 0.0035 - jump_sigma_loss: 0.0022 - jump_mu_loss: 0.0051 - lambda_loss: 1.6747e-05 - sigma_mean_absolute_percentage_error: 18.4001 - sigma_r2: 0.9763 - mu_mean_absolute_percentage_error: 374.4010 - mu_r2: 0.9578 - jump_sigma_mean_absolute_percentage_error: 138.7517 - jump_sigma_r2: 0.3060 - jump_mu_mean_absolute_percentage_error: 112.7941 - jump_mu_r2: 0.9394 - lambda_mean_absolute_percentage_error: 66.1723 - lambda_r2: 0.6749    \n",
      "[master 1586ab8] updated history, predictions and model\n",
      " 3 files changed, 14 insertions(+), 1 deletion(-)\n",
      "Branch master set up to track remote branch master from origin.\n",
      "Epoch 1/1\n",
      "10/10 [==============================] - 121s - loss: 0.0108 - sigma_loss: 7.7543e-05 - mu_loss: 0.0035 - jump_sigma_loss: 0.0022 - jump_mu_loss: 0.0050 - lambda_loss: 1.6656e-05 - sigma_mean_absolute_percentage_error: 17.4666 - sigma_r2: 0.9762 - mu_mean_absolute_percentage_error: 67.8939 - mu_r2: 0.9591 - jump_sigma_mean_absolute_percentage_error: 137.3401 - jump_sigma_r2: 0.3263 - jump_mu_mean_absolute_percentage_error: 80.2282 - jump_mu_r2: 0.9410 - lambda_mean_absolute_percentage_error: 65.8295 - lambda_r2: 0.6739    \n",
      "SAVE\n",
      "Epoch 1/1\n",
      "10/10 [==============================] - 120s - loss: 0.0119 - sigma_loss: 1.1656e-04 - mu_loss: 0.0042 - jump_sigma_loss: 0.0022 - jump_mu_loss: 0.0054 - lambda_loss: 1.8637e-05 - sigma_mean_absolute_percentage_error: 22.2171 - sigma_r2: 0.9649 - mu_mean_absolute_percentage_error: 102.4042 - mu_r2: 0.9505 - jump_sigma_mean_absolute_percentage_error: 153.1300 - jump_sigma_r2: 0.3235 - jump_mu_mean_absolute_percentage_error: 64.9658 - jump_mu_r2: 0.9346 - lambda_mean_absolute_percentage_error: 84.8728 - lambda_r2: 0.6413   \n",
      "Epoch 1/1\n",
      "10/10 [==============================] - 115s - loss: 0.0125 - sigma_loss: 1.2751e-04 - mu_loss: 0.0050 - jump_sigma_loss: 0.0023 - jump_mu_loss: 0.0050 - lambda_loss: 1.8466e-05 - sigma_mean_absolute_percentage_error: 25.6158 - sigma_r2: 0.9614 - mu_mean_absolute_percentage_error: 99.5892 - mu_r2: 0.9390 - jump_sigma_mean_absolute_percentage_error: 150.8298 - jump_sigma_r2: 0.2969 - jump_mu_mean_absolute_percentage_error: 62.1531 - jump_mu_r2: 0.9406 - lambda_mean_absolute_percentage_error: 69.8907 - lambda_r2: 0.6350     \n",
      "Epoch 1/1\n",
      "10/10 [==============================] - 114s - loss: 0.0116 - sigma_loss: 1.2803e-04 - mu_loss: 0.0038 - jump_sigma_loss: 0.0024 - jump_mu_loss: 0.0052 - lambda_loss: 1.7588e-05 - sigma_mean_absolute_percentage_error: 21.7307 - sigma_r2: 0.9609 - mu_mean_absolute_percentage_error: 146.9988 - mu_r2: 0.9533 - jump_sigma_mean_absolute_percentage_error: 143.8584 - jump_sigma_r2: 0.2769 - jump_mu_mean_absolute_percentage_error: 75.8563 - jump_mu_r2: 0.9379 - lambda_mean_absolute_percentage_error: 78.5408 - lambda_r2: 0.6620    \n",
      "Epoch 1/1\n",
      "10/10 [==============================] - 115s - loss: 0.0110 - sigma_loss: 1.0063e-04 - mu_loss: 0.0035 - jump_sigma_loss: 0.0023 - jump_mu_loss: 0.0051 - lambda_loss: 1.7182e-05 - sigma_mean_absolute_percentage_error: 17.6450 - sigma_r2: 0.9696 - mu_mean_absolute_percentage_error: 90.8833 - mu_r2: 0.9578 - jump_sigma_mean_absolute_percentage_error: 141.0931 - jump_sigma_r2: 0.2918 - jump_mu_mean_absolute_percentage_error: 67.7203 - jump_mu_r2: 0.9386 - lambda_mean_absolute_percentage_error: 77.1828 - lambda_r2: 0.6610    \n",
      "[master 22876fb] updated history, predictions and model\n",
      " 4 files changed, 15 insertions(+), 1 deletion(-)\n",
      "Branch master set up to track remote branch master from origin.\n",
      "Epoch 1/1\n",
      "10/10 [==============================] - 119s - loss: 0.0107 - sigma_loss: 9.4649e-05 - mu_loss: 0.0036 - jump_sigma_loss: 0.0022 - jump_mu_loss: 0.0047 - lambda_loss: 1.7358e-05 - sigma_mean_absolute_percentage_error: 17.1099 - sigma_r2: 0.9706 - mu_mean_absolute_percentage_error: 737.4750 - mu_r2: 0.9553 - jump_sigma_mean_absolute_percentage_error: 145.8484 - jump_sigma_r2: 0.3236 - jump_mu_mean_absolute_percentage_error: 67.0129 - jump_mu_r2: 0.9433 - lambda_mean_absolute_percentage_error: 75.4503 - lambda_r2: 0.6616    \n",
      "SAVE\n",
      "Epoch 1/1\n"
     ]
    },
    {
     "name": "stdout",
     "output_type": "stream",
     "text": [
      "10/10 [==============================] - 118s - loss: 0.0108 - sigma_loss: 8.2989e-05 - mu_loss: 0.0035 - jump_sigma_loss: 0.0021 - jump_mu_loss: 0.0050 - lambda_loss: 1.6689e-05 - sigma_mean_absolute_percentage_error: 19.7334 - sigma_r2: 0.9752 - mu_mean_absolute_percentage_error: 110.7421 - mu_r2: 0.9572 - jump_sigma_mean_absolute_percentage_error: 134.4055 - jump_sigma_r2: 0.3330 - jump_mu_mean_absolute_percentage_error: 73.6481 - jump_mu_r2: 0.9393 - lambda_mean_absolute_percentage_error: 63.9819 - lambda_r2: 0.6722    \n",
      "Epoch 1/1\n",
      "10/10 [==============================] - 118s - loss: 0.0103 - sigma_loss: 8.3402e-05 - mu_loss: 0.0034 - jump_sigma_loss: 0.0022 - jump_mu_loss: 0.0046 - lambda_loss: 1.7922e-05 - sigma_mean_absolute_percentage_error: 18.0304 - sigma_r2: 0.9746 - mu_mean_absolute_percentage_error: 144.5337 - mu_r2: 0.9591 - jump_sigma_mean_absolute_percentage_error: 154.4393 - jump_sigma_r2: 0.3144 - jump_mu_mean_absolute_percentage_error: 66.1370 - jump_mu_r2: 0.9446 - lambda_mean_absolute_percentage_error: 71.7513 - lambda_r2: 0.6528    \n",
      "SAVE\n",
      "Epoch 1/1\n",
      "10/10 [==============================] - 118s - loss: 0.0108 - sigma_loss: 7.9220e-05 - mu_loss: 0.0035 - jump_sigma_loss: 0.0022 - jump_mu_loss: 0.0051 - lambda_loss: 1.6511e-05 - sigma_mean_absolute_percentage_error: 16.6585 - sigma_r2: 0.9757 - mu_mean_absolute_percentage_error: 130.7578 - mu_r2: 0.9584 - jump_sigma_mean_absolute_percentage_error: 154.5507 - jump_sigma_r2: 0.3274 - jump_mu_mean_absolute_percentage_error: 100.3455 - jump_mu_r2: 0.9397 - lambda_mean_absolute_percentage_error: 70.3572 - lambda_r2: 0.6796    \n",
      "Epoch 1/1\n",
      "10/10 [==============================] - 119s - loss: 0.0111 - sigma_loss: 8.1455e-05 - mu_loss: 0.0038 - jump_sigma_loss: 0.0022 - jump_mu_loss: 0.0049 - lambda_loss: 1.6257e-05 - sigma_mean_absolute_percentage_error: 19.2365 - sigma_r2: 0.9754 - mu_mean_absolute_percentage_error: 89.5155 - mu_r2: 0.9532 - jump_sigma_mean_absolute_percentage_error: 143.0431 - jump_sigma_r2: 0.3174 - jump_mu_mean_absolute_percentage_error: 110.2122 - jump_mu_r2: 0.9414 - lambda_mean_absolute_percentage_error: 66.6562 - lambda_r2: 0.6846    \n",
      "[master b735446] updated history, predictions and model\n",
      " 4 files changed, 22 insertions(+), 1 deletion(-)\n",
      "Branch master set up to track remote branch master from origin.\n",
      "Epoch 1/1\n",
      "10/10 [==============================] - 120s - loss: 0.0108 - sigma_loss: 9.9866e-05 - mu_loss: 0.0037 - jump_sigma_loss: 0.0022 - jump_mu_loss: 0.0047 - lambda_loss: 1.7413e-05 - sigma_mean_absolute_percentage_error: 17.9066 - sigma_r2: 0.9686 - mu_mean_absolute_percentage_error: 109.4262 - mu_r2: 0.9552 - jump_sigma_mean_absolute_percentage_error: 143.7797 - jump_sigma_r2: 0.3199 - jump_mu_mean_absolute_percentage_error: 69.1047 - jump_mu_r2: 0.9432 - lambda_mean_absolute_percentage_error: 72.8609 - lambda_r2: 0.6638    \n",
      "Epoch 1/1\n",
      "10/10 [==============================] - 118s - loss: 0.0109 - sigma_loss: 7.6244e-05 - mu_loss: 0.0036 - jump_sigma_loss: 0.0022 - jump_mu_loss: 0.0049 - lambda_loss: 1.6576e-05 - sigma_mean_absolute_percentage_error: 16.9990 - sigma_r2: 0.9772 - mu_mean_absolute_percentage_error: 104.6182 - mu_r2: 0.9567 - jump_sigma_mean_absolute_percentage_error: 157.1236 - jump_sigma_r2: 0.3087 - jump_mu_mean_absolute_percentage_error: 69.4890 - jump_mu_r2: 0.9394 - lambda_mean_absolute_percentage_error: 70.0920 - lambda_r2: 0.6745    \n",
      "Epoch 1/1\n",
      "10/10 [==============================] - 117s - loss: 0.0109 - sigma_loss: 1.0856e-04 - mu_loss: 0.0034 - jump_sigma_loss: 0.0023 - jump_mu_loss: 0.0051 - lambda_loss: 1.8891e-05 - sigma_mean_absolute_percentage_error: 23.6492 - sigma_r2: 0.9672 - mu_mean_absolute_percentage_error: 71.7964 - mu_r2: 0.9592 - jump_sigma_mean_absolute_percentage_error: 154.7475 - jump_sigma_r2: 0.3081 - jump_mu_mean_absolute_percentage_error: 79.9176 - jump_mu_r2: 0.9385 - lambda_mean_absolute_percentage_error: 77.9296 - lambda_r2: 0.6330    \n",
      "Epoch 1/1\n",
      " 6/10 [=================>............] - ETA: 46s - loss: 0.0106 - sigma_loss: 7.0452e-05 - mu_loss: 0.0033 - jump_sigma_loss: 0.0023 - jump_mu_loss: 0.0049 - lambda_loss: 1.8962e-05 - sigma_mean_absolute_percentage_error: 16.2044 - sigma_r2: 0.9782 - mu_mean_absolute_percentage_error: 171.5694 - mu_r2: 0.9593 - jump_sigma_mean_absolute_percentage_error: 142.5909 - jump_sigma_r2: 0.3028 - jump_mu_mean_absolute_percentage_error: 74.6734 - jump_mu_r2: 0.9397 - lambda_mean_absolute_percentage_error: 61.8611 - lambda_r2: 0.6311"
     ]
    },
    {
     "ename": "KeyboardInterrupt",
     "evalue": "",
     "output_type": "error",
     "traceback": [
      "\u001b[0;31m---------------------------------------------------------------------------\u001b[0m",
      "\u001b[0;31mKeyboardInterrupt\u001b[0m                         Traceback (most recent call last)",
      "\u001b[0;32m<ipython-input-21-ee087cc8fa39>\u001b[0m in \u001b[0;36m<module>\u001b[0;34m()\u001b[0m\n\u001b[1;32m      1\u001b[0m \u001b[0;32mfor\u001b[0m \u001b[0mi\u001b[0m \u001b[0;32min\u001b[0m \u001b[0mrange\u001b[0m\u001b[0;34m(\u001b[0m\u001b[0;36m150000\u001b[0m\u001b[0;34m)\u001b[0m\u001b[0;34m:\u001b[0m\u001b[0;34m\u001b[0m\u001b[0m\n\u001b[0;32m----> 2\u001b[0;31m     \u001b[0mhistory\u001b[0m \u001b[0;34m=\u001b[0m \u001b[0mconvnet_mo_elu\u001b[0m\u001b[0;34m.\u001b[0m\u001b[0mfit_generator\u001b[0m\u001b[0;34m(\u001b[0m\u001b[0mtrain_gen\u001b[0m\u001b[0;34m,\u001b[0m \u001b[0msamples_per_epoch\u001b[0m \u001b[0;34m=\u001b[0m \u001b[0;36m10\u001b[0m\u001b[0;34m,\u001b[0m \u001b[0mnb_epoch\u001b[0m \u001b[0;34m=\u001b[0m \u001b[0;36m1\u001b[0m\u001b[0;34m)\u001b[0m\u001b[0;34m\u001b[0m\u001b[0m\n\u001b[0m\u001b[1;32m      3\u001b[0m     \u001b[0mhistories_elu\u001b[0m\u001b[0;34m.\u001b[0m\u001b[0mappend\u001b[0m\u001b[0;34m(\u001b[0m\u001b[0mhistory\u001b[0m\u001b[0;34m.\u001b[0m\u001b[0mhistory\u001b[0m\u001b[0;34m)\u001b[0m\u001b[0;34m\u001b[0m\u001b[0m\n\u001b[1;32m      4\u001b[0m \u001b[0;34m\u001b[0m\u001b[0m\n\u001b[1;32m      5\u001b[0m     \u001b[0mpredictions_elu\u001b[0m \u001b[0;34m=\u001b[0m \u001b[0mconvnet_mo_elu\u001b[0m\u001b[0;34m.\u001b[0m\u001b[0mpredict\u001b[0m\u001b[0;34m(\u001b[0m\u001b[0mtest_set_pred\u001b[0m\u001b[0;34m)\u001b[0m\u001b[0;34m\u001b[0m\u001b[0m\n",
      "\u001b[0;32m/usr/local/lib64/python2.7/site-packages/keras/legacy/interfaces.pyc\u001b[0m in \u001b[0;36mwrapper\u001b[0;34m(*args, **kwargs)\u001b[0m\n\u001b[1;32m     85\u001b[0m                 warnings.warn('Update your `' + object_name +\n\u001b[1;32m     86\u001b[0m                               '` call to the Keras 2 API: ' + signature, stacklevel=2)\n\u001b[0;32m---> 87\u001b[0;31m             \u001b[0;32mreturn\u001b[0m \u001b[0mfunc\u001b[0m\u001b[0;34m(\u001b[0m\u001b[0;34m*\u001b[0m\u001b[0margs\u001b[0m\u001b[0;34m,\u001b[0m \u001b[0;34m**\u001b[0m\u001b[0mkwargs\u001b[0m\u001b[0;34m)\u001b[0m\u001b[0;34m\u001b[0m\u001b[0m\n\u001b[0m\u001b[1;32m     88\u001b[0m         \u001b[0mwrapper\u001b[0m\u001b[0;34m.\u001b[0m\u001b[0m_original_function\u001b[0m \u001b[0;34m=\u001b[0m \u001b[0mfunc\u001b[0m\u001b[0;34m\u001b[0m\u001b[0m\n\u001b[1;32m     89\u001b[0m         \u001b[0;32mreturn\u001b[0m \u001b[0mwrapper\u001b[0m\u001b[0;34m\u001b[0m\u001b[0m\n",
      "\u001b[0;32m/usr/local/lib64/python2.7/site-packages/keras/engine/training.pyc\u001b[0m in \u001b[0;36mfit_generator\u001b[0;34m(self, generator, steps_per_epoch, epochs, verbose, callbacks, validation_data, validation_steps, class_weight, max_queue_size, workers, use_multiprocessing, shuffle, initial_epoch)\u001b[0m\n\u001b[1;32m   2009\u001b[0m                 \u001b[0mbatch_index\u001b[0m \u001b[0;34m=\u001b[0m \u001b[0;36m0\u001b[0m\u001b[0;34m\u001b[0m\u001b[0m\n\u001b[1;32m   2010\u001b[0m                 \u001b[0;32mwhile\u001b[0m \u001b[0msteps_done\u001b[0m \u001b[0;34m<\u001b[0m \u001b[0msteps_per_epoch\u001b[0m\u001b[0;34m:\u001b[0m\u001b[0;34m\u001b[0m\u001b[0m\n\u001b[0;32m-> 2011\u001b[0;31m                     \u001b[0mgenerator_output\u001b[0m \u001b[0;34m=\u001b[0m \u001b[0mnext\u001b[0m\u001b[0;34m(\u001b[0m\u001b[0moutput_generator\u001b[0m\u001b[0;34m)\u001b[0m\u001b[0;34m\u001b[0m\u001b[0m\n\u001b[0m\u001b[1;32m   2012\u001b[0m \u001b[0;34m\u001b[0m\u001b[0m\n\u001b[1;32m   2013\u001b[0m                     \u001b[0;32mif\u001b[0m \u001b[0;32mnot\u001b[0m \u001b[0mhasattr\u001b[0m\u001b[0;34m(\u001b[0m\u001b[0mgenerator_output\u001b[0m\u001b[0;34m,\u001b[0m \u001b[0;34m'__len__'\u001b[0m\u001b[0;34m)\u001b[0m\u001b[0;34m:\u001b[0m\u001b[0;34m\u001b[0m\u001b[0m\n",
      "\u001b[0;32m/usr/local/lib64/python2.7/site-packages/keras/utils/data_utils.pyc\u001b[0m in \u001b[0;36mget\u001b[0;34m(self)\u001b[0m\n\u001b[1;32m    642\u001b[0m                     \u001b[0;32myield\u001b[0m \u001b[0minputs\u001b[0m\u001b[0;34m\u001b[0m\u001b[0m\n\u001b[1;32m    643\u001b[0m             \u001b[0;32melse\u001b[0m\u001b[0;34m:\u001b[0m\u001b[0;34m\u001b[0m\u001b[0m\n\u001b[0;32m--> 644\u001b[0;31m                 \u001b[0mtime\u001b[0m\u001b[0;34m.\u001b[0m\u001b[0msleep\u001b[0m\u001b[0;34m(\u001b[0m\u001b[0mself\u001b[0m\u001b[0;34m.\u001b[0m\u001b[0mwait_time\u001b[0m\u001b[0;34m)\u001b[0m\u001b[0;34m\u001b[0m\u001b[0m\n\u001b[0m",
      "\u001b[0;31mKeyboardInterrupt\u001b[0m: "
     ]
    }
   ],
   "source": [
    "for i in range(150000):\n",
    "    history = convnet_mo_elu.fit_generator(train_gen, samples_per_epoch = 10, nb_epoch = 1)\n",
    "    histories_elu.append(history.history)\n",
    "\n",
    "    predictions_elu = convnet_mo_elu.predict(test_set_pred)\n",
    "\n",
    "    covnet_mo_elu_predictions.append(predictions_elu)\n",
    "    \n",
    "    if history.history['loss'][-1]<smallest_loss:\n",
    "        print(\"SAVE\")\n",
    "        smallest_loss = history.history['loss'][-1]\n",
    "        convnet_mo_elu.save(\"diluted_FULLMODEL_6_hidden_LAYERS.h5\")\n",
    "    \n",
    "    if i%5 == 0:\n",
    "        np.save(\"diluted_covnet_histories_elu_6_hidden_LAYERS.npy\", histories_elu)\n",
    "        np.save(\"diluted_covnet_mo_elu_predictions_6_hidden_LAYERS.npy\", covnet_mo_elu_predictions)\n",
    "\n",
    "        !git config --global user.email \"rwmmostert@gmail.com\"\n",
    "        !git config --global user.name \"RWMostert\"\n",
    "        !git add --all\n",
    "        !git commit -am \"updated history, predictions and model\"\n",
    "        !git push -u origin master --quiet"
   ]
  },
  {
   "cell_type": "markdown",
   "metadata": {},
   "source": [
    "# SAME Covnet Multiple Output with ELUs 10 Layers"
   ]
  },
  {
   "cell_type": "code",
   "execution_count": 41,
   "metadata": {
    "collapsed": true
   },
   "outputs": [],
   "source": [
    "from keras.layers.merge import Concatenate"
   ]
  },
  {
   "cell_type": "code",
   "execution_count": 35,
   "metadata": {
    "collapsed": true
   },
   "outputs": [],
   "source": [
    "import tensorflow as tf\n",
    "import keras\n",
    "from keras.models import Model, Sequential\n",
    "from keras.layers import Input, Dense, Flatten, LSTM, MaxPooling2D, Input, Merge\n",
    "from keras.layers.convolutional import Conv2D\n",
    "from keras.optimizers import Adam\n",
    "from keras import backend as K"
   ]
  },
  {
   "cell_type": "code",
   "execution_count": 36,
   "metadata": {
    "collapsed": true
   },
   "outputs": [],
   "source": [
    "def r2(y_true, y_pred):\n",
    "    \"\"\"\n",
    "    returns the correlation coefficient of y_pred against y_true.\n",
    "\n",
    "    :param y_true: the true values (independent variable)\n",
    "    :param y_pred: the predicted values (dependent variable)\n",
    "    \"\"\"\n",
    "    \n",
    "    SSE = K.sum(K.square(y_true-y_pred))\n",
    "    SST = K.sum(K.square(y_true-K.mean(y_true)))\n",
    "    \n",
    "    return 1-SSE/SST"
   ]
  },
  {
   "cell_type": "code",
   "execution_count": 40,
   "metadata": {},
   "outputs": [
    {
     "name": "stderr",
     "output_type": "stream",
     "text": [
      "/usr/lib/python2.7/dist-packages/ipykernel_launcher.py:13: UserWarning: The `merge` function is deprecated and will be removed after 08/2017. Use instead layers from `keras.layers.merge`, e.g. `add`, `concatenate`, etc.\n",
      "  del sys.path[0]\n",
      "/usr/lib/python2.7/dist-packages/ipykernel_launcher.py:41: UserWarning: Update your `Model` call to the Keras 2 API: `Model(outputs=[<tf.Tenso..., inputs=Tensor(\"in...)`\n"
     ]
    }
   ],
   "source": [
    "#covnet_mo_elu = load_model(\"FULLMODEL_10LAYERS_COVNET.h5\", custom_objects={\"r2\":r2})\n",
    "\n",
    "input_1 = Input(shape = (40, 50, 1))\n",
    "\n",
    "layer1 = Conv2D(128, (6, 6), activation='elu')(input_1)\n",
    "layer2 = Conv2D(64, (6, 6), activation='elu')(layer1)\n",
    "layer3 = MaxPooling2D(pool_size=(2,2))(layer2)\n",
    "\n",
    "dil_layer1 = Conv2D(128, (3, 3), dilation_rate=(3, 3), activation='elu')(input_1)\n",
    "dil_layer2 = Conv2D(64, (3, 3), dilation_rate=(2, 2), activation='elu')(dil_layer1)\n",
    "dil_layer3 = MaxPooling2D(pool_size=(2,2))(dil_layer2)\n",
    "\n",
    "concat = merge([layer3, dil_layer3], mode=\"concat\")\n",
    "\n",
    "layer4 = Conv2D(64, (3, 3), activation='elu')(concat)\n",
    "layer5 = Conv2D(32, (3, 3), activation='elu')(layer4)\n",
    "layer6 = MaxPooling2D(pool_size=(2,2))(layer5)\n",
    "\n",
    "flatten = Flatten()(layer6)\n",
    "\n",
    "output1_layer1 = Dense(32, activation='elu')(flatten)\n",
    "output1_layer2 = Dense(16, activation='elu')(output1_layer1)\n",
    "output1 = Dense(1, name=\"sigma\")(output1_layer2)\n",
    "\n",
    "output2_layer1 = Dense(32, activation='elu')(flatten)\n",
    "output2_layer2 = Dense(16, activation='elu')(output2_layer1)\n",
    "output2 = Dense(1, name=\"mu\")(output2_layer2)\n",
    "\n",
    "output3_layer1 = Dense(32, activation='elu')(flatten)\n",
    "output3_layer2 = Dense(16, activation='elu')(output3_layer1)\n",
    "output3 = Dense(1, name=\"jump_sigma\")(output3_layer2)\n",
    "\n",
    "output4_layer1 = Dense(32, activation='elu')(flatten)\n",
    "output4_layer2 = Dense(16, activation='elu')(output4_layer1)\n",
    "output4 = Dense(1, name=\"jump_mu\")(output4_layer2)\n",
    "\n",
    "output5_layer1 = Dense(32, activation='elu')(flatten)\n",
    "output5_layer2 = Dense(16, activation='elu')(output5_layer1)\n",
    "output5 = Dense(1, name=\"lambda\")(output5_layer2)\n",
    "\n",
    "convnet_mo_elu = Model(input = input_1, output=[output1, output2, output3, output4, output5])\n",
    "convnet_mo_elu.compile('adam', 'mean_squared_error', metrics=['mean_absolute_percentage_error', r2])"
   ]
  },
  {
   "cell_type": "code",
   "execution_count": 20,
   "metadata": {
    "collapsed": true
   },
   "outputs": [],
   "source": [
    "#covnet_mo_elu = covnet_multiple_ELUs_10_layers()\n",
    "#covnet_mo_elu.load_weights(\"RELAXED_ELU_COVNET.h5\")"
   ]
  },
  {
   "cell_type": "code",
   "execution_count": 21,
   "metadata": {
    "collapsed": true
   },
   "outputs": [],
   "source": [
    "#covnet_mo_elu.save(H5_DIR_COVNET_MULTIPLE_ELU)"
   ]
  },
  {
   "cell_type": "code",
   "execution_count": 17,
   "metadata": {},
   "outputs": [
    {
     "name": "stdout",
     "output_type": "stream",
     "text": [
      "0\n",
      "100\n",
      "200\n",
      "300\n",
      "400\n",
      "500\n",
      "600\n",
      "700\n",
      "800\n",
      "900\n"
     ]
    }
   ],
   "source": [
    "test_set_pred = standard_convolutional_test_set()"
   ]
  },
  {
   "cell_type": "code",
   "execution_count": 45,
   "metadata": {
    "collapsed": true
   },
   "outputs": [],
   "source": [
    "train_gen = convolutional_batch_generator(paramset_size=500, paths_p_paramset=1, constraint_gbm_mu=(-0.5, 0.5))"
   ]
  },
  {
   "cell_type": "code",
   "execution_count": 42,
   "metadata": {
    "collapsed": true
   },
   "outputs": [],
   "source": [
    "histories_elu = []#np.load(\"covnet_histories_elu_10LAYERS.npy\").tolist()\n",
    "covnet_mo_elu_predictions = []# np.load(\"covnet_mo_elu_predictions_10LAYERS.npy\").tolist()"
   ]
  },
  {
   "cell_type": "code",
   "execution_count": 43,
   "metadata": {
    "collapsed": true
   },
   "outputs": [],
   "source": [
    "smallest_loss = 20"
   ]
  },
  {
   "cell_type": "code",
   "execution_count": 46,
   "metadata": {
    "scrolled": true
   },
   "outputs": [
    {
     "name": "stderr",
     "output_type": "stream",
     "text": [
      "/usr/lib/python2.7/dist-packages/ipykernel_launcher.py:2: UserWarning: The semantics of the Keras 2 argument `steps_per_epoch` is not the same as the Keras 1 argument `samples_per_epoch`. `steps_per_epoch` is the number of batches to draw from the generator at each epoch. Basically steps_per_epoch = samples_per_epoch/batch_size. Similarly `nb_val_samples`->`validation_steps` and `val_samples`->`steps` arguments have changed. Update your method calls accordingly.\n",
      "  \n",
      "/usr/lib/python2.7/dist-packages/ipykernel_launcher.py:2: UserWarning: Update your `fit_generator` call to the Keras 2 API: `fit_generator(<generator..., epochs=1, steps_per_epoch=10)`\n",
      "  \n"
     ]
    },
    {
     "name": "stdout",
     "output_type": "stream",
     "text": [
      "Epoch 1/1\n",
      "10/10 [==============================] - 39s - loss: 0.0294 - sigma_loss: 9.7586e-04 - mu_loss: 0.0141 - jump_sigma_loss: 0.0033 - jump_mu_loss: 0.0110 - lambda_loss: 4.6384e-05 - sigma_mean_absolute_percentage_error: 82.0049 - sigma_r2: 0.7011 - mu_mean_absolute_percentage_error: 10069.2652 - mu_r2: 0.8335 - jump_sigma_mean_absolute_percentage_error: 197.5624 - jump_sigma_r2: 0.0154 - jump_mu_mean_absolute_percentage_error: 170.2377 - jump_mu_r2: 0.8653 - lambda_mean_absolute_percentage_error: 128.8849 - lambda_r2: 0.1229    \n",
      "[master 68f8418] updated history, predictions and model\n",
      " 2 files changed, 0 insertions(+), 0 deletions(-)\n",
      "Branch master set up to track remote branch master from origin.\n",
      "Epoch 1/1\n",
      "10/10 [==============================] - 39s - loss: 0.0239 - sigma_loss: 7.5593e-04 - mu_loss: 0.0095 - jump_sigma_loss: 0.0032 - jump_mu_loss: 0.0103 - lambda_loss: 4.3539e-05 - sigma_mean_absolute_percentage_error: 70.0279 - sigma_r2: 0.7723 - mu_mean_absolute_percentage_error: 107.2310 - mu_r2: 0.8850 - jump_sigma_mean_absolute_percentage_error: 190.7031 - jump_sigma_r2: 0.0228 - jump_mu_mean_absolute_percentage_error: 84.1653 - jump_mu_r2: 0.8769 - lambda_mean_absolute_percentage_error: 122.0900 - lambda_r2: 0.1443    \n",
      "SAVE\n",
      "Epoch 1/1\n",
      "10/10 [==============================] - 40s - loss: 0.0220 - sigma_loss: 5.6567e-04 - mu_loss: 0.0078 - jump_sigma_loss: 0.0032 - jump_mu_loss: 0.0104 - lambda_loss: 4.2934e-05 - sigma_mean_absolute_percentage_error: 52.6466 - sigma_r2: 0.8219 - mu_mean_absolute_percentage_error: 108.5975 - mu_r2: 0.9071 - jump_sigma_mean_absolute_percentage_error: 185.6476 - jump_sigma_r2: 0.0259 - jump_mu_mean_absolute_percentage_error: 293.0472 - jump_mu_r2: 0.8750 - lambda_mean_absolute_percentage_error: 136.8541 - lambda_r2: 0.1840    \n",
      "SAVE\n",
      "Epoch 1/1\n",
      "10/10 [==============================] - 39s - loss: 0.0207 - sigma_loss: 5.1437e-04 - mu_loss: 0.0072 - jump_sigma_loss: 0.0032 - jump_mu_loss: 0.0097 - lambda_loss: 4.1599e-05 - sigma_mean_absolute_percentage_error: 49.5450 - sigma_r2: 0.8424 - mu_mean_absolute_percentage_error: 118.5229 - mu_r2: 0.9146 - jump_sigma_mean_absolute_percentage_error: 197.9078 - jump_sigma_r2: 0.0350 - jump_mu_mean_absolute_percentage_error: 136.4909 - jump_mu_r2: 0.8851 - lambda_mean_absolute_percentage_error: 112.6426 - lambda_r2: 0.2147    \n",
      "SAVE\n",
      "Epoch 1/1\n",
      "10/10 [==============================] - 40s - loss: 0.0214 - sigma_loss: 4.8187e-04 - mu_loss: 0.0075 - jump_sigma_loss: 0.0032 - jump_mu_loss: 0.0101 - lambda_loss: 4.1153e-05 - sigma_mean_absolute_percentage_error: 50.8164 - sigma_r2: 0.8526 - mu_mean_absolute_percentage_error: 99.4445 - mu_r2: 0.9087 - jump_sigma_mean_absolute_percentage_error: 203.6430 - jump_sigma_r2: 0.0305 - jump_mu_mean_absolute_percentage_error: 124.9293 - jump_mu_r2: 0.8804 - lambda_mean_absolute_percentage_error: 114.5446 - lambda_r2: 0.1999     \n",
      "Epoch 1/1\n",
      "10/10 [==============================] - 39s - loss: 0.0205 - sigma_loss: 4.6056e-04 - mu_loss: 0.0072 - jump_sigma_loss: 0.0032 - jump_mu_loss: 0.0096 - lambda_loss: 3.9419e-05 - sigma_mean_absolute_percentage_error: 46.0152 - sigma_r2: 0.8563 - mu_mean_absolute_percentage_error: 414.2550 - mu_r2: 0.9146 - jump_sigma_mean_absolute_percentage_error: 184.5388 - jump_sigma_r2: 0.0301 - jump_mu_mean_absolute_percentage_error: 137.2226 - jump_mu_r2: 0.8849 - lambda_mean_absolute_percentage_error: 129.1535 - lambda_r2: 0.2446    \n",
      "SAVE\n",
      "[master 20c8cef] updated history, predictions and model\n",
      " 4 files changed, 7 insertions(+), 160 deletions(-)\n",
      "Branch master set up to track remote branch master from origin.\n",
      "Epoch 1/1\n",
      "10/10 [==============================] - 39s - loss: 0.0194 - sigma_loss: 4.3256e-04 - mu_loss: 0.0061 - jump_sigma_loss: 0.0032 - jump_mu_loss: 0.0096 - lambda_loss: 3.9031e-05 - sigma_mean_absolute_percentage_error: 45.5160 - sigma_r2: 0.8698 - mu_mean_absolute_percentage_error: 102.8555 - mu_r2: 0.9270 - jump_sigma_mean_absolute_percentage_error: 203.3551 - jump_sigma_r2: 0.0288 - jump_mu_mean_absolute_percentage_error: 128.4883 - jump_mu_r2: 0.8855 - lambda_mean_absolute_percentage_error: 110.2241 - lambda_r2: 0.2481   \n",
      "SAVE\n",
      "Epoch 1/1\n",
      "10/10 [==============================] - 39s - loss: 0.0194 - sigma_loss: 3.8538e-04 - mu_loss: 0.0064 - jump_sigma_loss: 0.0032 - jump_mu_loss: 0.0093 - lambda_loss: 4.0072e-05 - sigma_mean_absolute_percentage_error: 42.3427 - sigma_r2: 0.8839 - mu_mean_absolute_percentage_error: 114.3731 - mu_r2: 0.9237 - jump_sigma_mean_absolute_percentage_error: 180.7807 - jump_sigma_r2: 0.0332 - jump_mu_mean_absolute_percentage_error: 73.9927 - jump_mu_r2: 0.8897 - lambda_mean_absolute_percentage_error: 117.5622 - lambda_r2: 0.2235    \n",
      "SAVE\n",
      "Epoch 1/1\n",
      "10/10 [==============================] - 39s - loss: 0.0195 - sigma_loss: 3.9739e-04 - mu_loss: 0.0065 - jump_sigma_loss: 0.0031 - jump_mu_loss: 0.0094 - lambda_loss: 3.9587e-05 - sigma_mean_absolute_percentage_error: 44.9334 - sigma_r2: 0.8801 - mu_mean_absolute_percentage_error: 168.2744 - mu_r2: 0.9216 - jump_sigma_mean_absolute_percentage_error: 193.8892 - jump_sigma_r2: 0.0359 - jump_mu_mean_absolute_percentage_error: 534.8863 - jump_mu_r2: 0.8880 - lambda_mean_absolute_percentage_error: 117.7704 - lambda_r2: 0.2331    \n",
      "Epoch 1/1\n",
      "10/10 [==============================] - 40s - loss: 0.0195 - sigma_loss: 4.0458e-04 - mu_loss: 0.0065 - jump_sigma_loss: 0.0031 - jump_mu_loss: 0.0094 - lambda_loss: 3.8423e-05 - sigma_mean_absolute_percentage_error: 45.2810 - sigma_r2: 0.8794 - mu_mean_absolute_percentage_error: 88.9022 - mu_r2: 0.9225 - jump_sigma_mean_absolute_percentage_error: 184.3710 - jump_sigma_r2: 0.0395 - jump_mu_mean_absolute_percentage_error: 92.9206 - jump_mu_r2: 0.8848 - lambda_mean_absolute_percentage_error: 115.8274 - lambda_r2: 0.2549    \n",
      "Epoch 1/1\n",
      "10/10 [==============================] - 40s - loss: 0.0194 - sigma_loss: 3.7928e-04 - mu_loss: 0.0068 - jump_sigma_loss: 0.0032 - jump_mu_loss: 0.0089 - lambda_loss: 3.8277e-05 - sigma_mean_absolute_percentage_error: 41.0904 - sigma_r2: 0.8849 - mu_mean_absolute_percentage_error: 169.6675 - mu_r2: 0.9172 - jump_sigma_mean_absolute_percentage_error: 182.0796 - jump_sigma_r2: 0.0437 - jump_mu_mean_absolute_percentage_error: 88.4499 - jump_mu_r2: 0.8941 - lambda_mean_absolute_percentage_error: 112.9016 - lambda_r2: 0.2485    \n",
      "SAVE\n",
      "[master 04ec620] updated history, predictions and model\n",
      " 4 files changed, 20 insertions(+), 1 deletion(-)\n",
      "Branch master set up to track remote branch master from origin.\n",
      "Epoch 1/1\n",
      "10/10 [==============================] - 39s - loss: 0.0181 - sigma_loss: 3.5223e-04 - mu_loss: 0.0061 - jump_sigma_loss: 0.0032 - jump_mu_loss: 0.0084 - lambda_loss: 3.9047e-05 - sigma_mean_absolute_percentage_error: 40.4406 - sigma_r2: 0.8928 - mu_mean_absolute_percentage_error: 164.9386 - mu_r2: 0.9281 - jump_sigma_mean_absolute_percentage_error: 202.0516 - jump_sigma_r2: 0.0390 - jump_mu_mean_absolute_percentage_error: 160.6697 - jump_mu_r2: 0.9001 - lambda_mean_absolute_percentage_error: 118.6633 - lambda_r2: 0.2568   \n",
      "SAVE\n",
      "Epoch 1/1\n",
      "10/10 [==============================] - 39s - loss: 0.0178 - sigma_loss: 3.2491e-04 - mu_loss: 0.0055 - jump_sigma_loss: 0.0031 - jump_mu_loss: 0.0088 - lambda_loss: 3.7176e-05 - sigma_mean_absolute_percentage_error: 39.0844 - sigma_r2: 0.9022 - mu_mean_absolute_percentage_error: 99.3483 - mu_r2: 0.9335 - jump_sigma_mean_absolute_percentage_error: 189.6733 - jump_sigma_r2: 0.0435 - jump_mu_mean_absolute_percentage_error: 88.6039 - jump_mu_r2: 0.8945 - lambda_mean_absolute_percentage_error: 110.6315 - lambda_r2: 0.2640     \n",
      "SAVE\n",
      "Epoch 1/1\n",
      "10/10 [==============================] - 39s - loss: 0.0186 - sigma_loss: 3.5572e-04 - mu_loss: 0.0059 - jump_sigma_loss: 0.0031 - jump_mu_loss: 0.0091 - lambda_loss: 3.6769e-05 - sigma_mean_absolute_percentage_error: 42.6908 - sigma_r2: 0.8933 - mu_mean_absolute_percentage_error: 190.5779 - mu_r2: 0.9285 - jump_sigma_mean_absolute_percentage_error: 187.8035 - jump_sigma_r2: 0.0552 - jump_mu_mean_absolute_percentage_error: 82.5100 - jump_mu_r2: 0.8911 - lambda_mean_absolute_percentage_error: 119.4390 - lambda_r2: 0.2919    \n",
      "Epoch 1/1\n",
      "10/10 [==============================] - 39s - loss: 0.0177 - sigma_loss: 3.3098e-04 - mu_loss: 0.0057 - jump_sigma_loss: 0.0032 - jump_mu_loss: 0.0085 - lambda_loss: 3.7217e-05 - sigma_mean_absolute_percentage_error: 42.0554 - sigma_r2: 0.9016 - mu_mean_absolute_percentage_error: 229.5210 - mu_r2: 0.9306 - jump_sigma_mean_absolute_percentage_error: 201.8087 - jump_sigma_r2: 0.0501 - jump_mu_mean_absolute_percentage_error: 106.8405 - jump_mu_r2: 0.8992 - lambda_mean_absolute_percentage_error: 108.5987 - lambda_r2: 0.2802    \n",
      "SAVE\n",
      "Epoch 1/1\n",
      "10/10 [==============================] - 40s - loss: 0.0184 - sigma_loss: 3.1311e-04 - mu_loss: 0.0063 - jump_sigma_loss: 0.0031 - jump_mu_loss: 0.0086 - lambda_loss: 3.6297e-05 - sigma_mean_absolute_percentage_error: 42.9088 - sigma_r2: 0.9048 - mu_mean_absolute_percentage_error: 183.8286 - mu_r2: 0.9243 - jump_sigma_mean_absolute_percentage_error: 184.6133 - jump_sigma_r2: 0.0505 - jump_mu_mean_absolute_percentage_error: 186.0881 - jump_mu_r2: 0.8980 - lambda_mean_absolute_percentage_error: 116.9530 - lambda_r2: 0.2890    \n",
      "[master ebabcd1] updated history, predictions and model\n",
      " 4 files changed, 23 insertions(+), 1 deletion(-)\n",
      "Branch master set up to track remote branch master from origin.\n",
      "Epoch 1/1\n",
      "10/10 [==============================] - 39s - loss: 0.0178 - sigma_loss: 2.9531e-04 - mu_loss: 0.0056 - jump_sigma_loss: 0.0032 - jump_mu_loss: 0.0087 - lambda_loss: 3.4685e-05 - sigma_mean_absolute_percentage_error: 38.0048 - sigma_r2: 0.9109 - mu_mean_absolute_percentage_error: 84.6290 - mu_r2: 0.9332 - jump_sigma_mean_absolute_percentage_error: 193.2184 - jump_sigma_r2: 0.0508 - jump_mu_mean_absolute_percentage_error: 96.3911 - jump_mu_r2: 0.8926 - lambda_mean_absolute_percentage_error: 114.6485 - lambda_r2: 0.3284     \n",
      "Epoch 1/1\n",
      "10/10 [==============================] - 39s - loss: 0.0167 - sigma_loss: 2.8188e-04 - mu_loss: 0.0052 - jump_sigma_loss: 0.0030 - jump_mu_loss: 0.0082 - lambda_loss: 3.4967e-05 - sigma_mean_absolute_percentage_error: 34.6838 - sigma_r2: 0.9157 - mu_mean_absolute_percentage_error: 268.0628 - mu_r2: 0.9369 - jump_sigma_mean_absolute_percentage_error: 177.8667 - jump_sigma_r2: 0.0604 - jump_mu_mean_absolute_percentage_error: 71.3266 - jump_mu_r2: 0.8988 - lambda_mean_absolute_percentage_error: 109.4595 - lambda_r2: 0.3207    \n",
      "SAVE\n",
      "Epoch 1/1\n",
      "10/10 [==============================] - 40s - loss: 0.0170 - sigma_loss: 3.1076e-04 - mu_loss: 0.0054 - jump_sigma_loss: 0.0031 - jump_mu_loss: 0.0081 - lambda_loss: 3.4929e-05 - sigma_mean_absolute_percentage_error: 37.6156 - sigma_r2: 0.9070 - mu_mean_absolute_percentage_error: 181.0879 - mu_r2: 0.9337 - jump_sigma_mean_absolute_percentage_error: 207.0665 - jump_sigma_r2: 0.0585 - jump_mu_mean_absolute_percentage_error: 105.2534 - jump_mu_r2: 0.9032 - lambda_mean_absolute_percentage_error: 113.4189 - lambda_r2: 0.3187    \n",
      "Epoch 1/1\n",
      " 9/10 [==========================>...] - ETA: 3s - loss: 0.0172 - sigma_loss: 3.0926e-04 - mu_loss: 0.0053 - jump_sigma_loss: 0.0031 - jump_mu_loss: 0.0084 - lambda_loss: 3.5804e-05 - sigma_mean_absolute_percentage_error: 37.7847 - sigma_r2: 0.9056 - mu_mean_absolute_percentage_error: 219.1907 - mu_r2: 0.9351 - jump_sigma_mean_absolute_percentage_error: 193.3193 - jump_sigma_r2: 0.0562 - jump_mu_mean_absolute_percentage_error: 92.7236 - jump_mu_r2: 0.9015 - lambda_mean_absolute_percentage_error: 104.4371 - lambda_r2: 0.3108"
     ]
    },
    {
     "ename": "KeyboardInterrupt",
     "evalue": "",
     "output_type": "error",
     "traceback": [
      "\u001b[0;31m---------------------------------------------------------------------------\u001b[0m",
      "\u001b[0;31mKeyboardInterrupt\u001b[0m                         Traceback (most recent call last)",
      "\u001b[0;32m<ipython-input-46-5271caf68ac4>\u001b[0m in \u001b[0;36m<module>\u001b[0;34m()\u001b[0m\n\u001b[1;32m      1\u001b[0m \u001b[0;32mfor\u001b[0m \u001b[0mi\u001b[0m \u001b[0;32min\u001b[0m \u001b[0mrange\u001b[0m\u001b[0;34m(\u001b[0m\u001b[0;36m150000\u001b[0m\u001b[0;34m)\u001b[0m\u001b[0;34m:\u001b[0m\u001b[0;34m\u001b[0m\u001b[0m\n\u001b[0;32m----> 2\u001b[0;31m     \u001b[0mhistory\u001b[0m \u001b[0;34m=\u001b[0m \u001b[0mconvnet_mo_elu\u001b[0m\u001b[0;34m.\u001b[0m\u001b[0mfit_generator\u001b[0m\u001b[0;34m(\u001b[0m\u001b[0mtrain_gen\u001b[0m\u001b[0;34m,\u001b[0m \u001b[0msamples_per_epoch\u001b[0m \u001b[0;34m=\u001b[0m \u001b[0;36m10\u001b[0m\u001b[0;34m,\u001b[0m \u001b[0mnb_epoch\u001b[0m \u001b[0;34m=\u001b[0m \u001b[0;36m1\u001b[0m\u001b[0;34m)\u001b[0m\u001b[0;34m\u001b[0m\u001b[0m\n\u001b[0m\u001b[1;32m      3\u001b[0m     \u001b[0mhistories_elu\u001b[0m\u001b[0;34m.\u001b[0m\u001b[0mappend\u001b[0m\u001b[0;34m(\u001b[0m\u001b[0mhistory\u001b[0m\u001b[0;34m.\u001b[0m\u001b[0mhistory\u001b[0m\u001b[0;34m)\u001b[0m\u001b[0;34m\u001b[0m\u001b[0m\n\u001b[1;32m      4\u001b[0m \u001b[0;34m\u001b[0m\u001b[0m\n\u001b[1;32m      5\u001b[0m     \u001b[0mpredictions_elu\u001b[0m \u001b[0;34m=\u001b[0m \u001b[0mconvnet_mo_elu\u001b[0m\u001b[0;34m.\u001b[0m\u001b[0mpredict\u001b[0m\u001b[0;34m(\u001b[0m\u001b[0mtest_set_pred\u001b[0m\u001b[0;34m)\u001b[0m\u001b[0;34m\u001b[0m\u001b[0m\n",
      "\u001b[0;32m/usr/local/lib64/python2.7/site-packages/keras/legacy/interfaces.pyc\u001b[0m in \u001b[0;36mwrapper\u001b[0;34m(*args, **kwargs)\u001b[0m\n\u001b[1;32m     85\u001b[0m                 warnings.warn('Update your `' + object_name +\n\u001b[1;32m     86\u001b[0m                               '` call to the Keras 2 API: ' + signature, stacklevel=2)\n\u001b[0;32m---> 87\u001b[0;31m             \u001b[0;32mreturn\u001b[0m \u001b[0mfunc\u001b[0m\u001b[0;34m(\u001b[0m\u001b[0;34m*\u001b[0m\u001b[0margs\u001b[0m\u001b[0;34m,\u001b[0m \u001b[0;34m**\u001b[0m\u001b[0mkwargs\u001b[0m\u001b[0;34m)\u001b[0m\u001b[0;34m\u001b[0m\u001b[0m\n\u001b[0m\u001b[1;32m     88\u001b[0m         \u001b[0mwrapper\u001b[0m\u001b[0;34m.\u001b[0m\u001b[0m_original_function\u001b[0m \u001b[0;34m=\u001b[0m \u001b[0mfunc\u001b[0m\u001b[0;34m\u001b[0m\u001b[0m\n\u001b[1;32m     89\u001b[0m         \u001b[0;32mreturn\u001b[0m \u001b[0mwrapper\u001b[0m\u001b[0;34m\u001b[0m\u001b[0m\n",
      "\u001b[0;32m/usr/local/lib64/python2.7/site-packages/keras/engine/training.pyc\u001b[0m in \u001b[0;36mfit_generator\u001b[0;34m(self, generator, steps_per_epoch, epochs, verbose, callbacks, validation_data, validation_steps, class_weight, max_queue_size, workers, use_multiprocessing, shuffle, initial_epoch)\u001b[0m\n\u001b[1;32m   2009\u001b[0m                 \u001b[0mbatch_index\u001b[0m \u001b[0;34m=\u001b[0m \u001b[0;36m0\u001b[0m\u001b[0;34m\u001b[0m\u001b[0m\n\u001b[1;32m   2010\u001b[0m                 \u001b[0;32mwhile\u001b[0m \u001b[0msteps_done\u001b[0m \u001b[0;34m<\u001b[0m \u001b[0msteps_per_epoch\u001b[0m\u001b[0;34m:\u001b[0m\u001b[0;34m\u001b[0m\u001b[0m\n\u001b[0;32m-> 2011\u001b[0;31m                     \u001b[0mgenerator_output\u001b[0m \u001b[0;34m=\u001b[0m \u001b[0mnext\u001b[0m\u001b[0;34m(\u001b[0m\u001b[0moutput_generator\u001b[0m\u001b[0;34m)\u001b[0m\u001b[0;34m\u001b[0m\u001b[0m\n\u001b[0m\u001b[1;32m   2012\u001b[0m \u001b[0;34m\u001b[0m\u001b[0m\n\u001b[1;32m   2013\u001b[0m                     \u001b[0;32mif\u001b[0m \u001b[0;32mnot\u001b[0m \u001b[0mhasattr\u001b[0m\u001b[0;34m(\u001b[0m\u001b[0mgenerator_output\u001b[0m\u001b[0;34m,\u001b[0m \u001b[0;34m'__len__'\u001b[0m\u001b[0;34m)\u001b[0m\u001b[0;34m:\u001b[0m\u001b[0;34m\u001b[0m\u001b[0m\n",
      "\u001b[0;32m/usr/local/lib64/python2.7/site-packages/keras/utils/data_utils.pyc\u001b[0m in \u001b[0;36mget\u001b[0;34m(self)\u001b[0m\n\u001b[1;32m    642\u001b[0m                     \u001b[0;32myield\u001b[0m \u001b[0minputs\u001b[0m\u001b[0;34m\u001b[0m\u001b[0m\n\u001b[1;32m    643\u001b[0m             \u001b[0;32melse\u001b[0m\u001b[0;34m:\u001b[0m\u001b[0;34m\u001b[0m\u001b[0m\n\u001b[0;32m--> 644\u001b[0;31m                 \u001b[0mtime\u001b[0m\u001b[0;34m.\u001b[0m\u001b[0msleep\u001b[0m\u001b[0;34m(\u001b[0m\u001b[0mself\u001b[0m\u001b[0;34m.\u001b[0m\u001b[0mwait_time\u001b[0m\u001b[0;34m)\u001b[0m\u001b[0;34m\u001b[0m\u001b[0m\n\u001b[0m",
      "\u001b[0;31mKeyboardInterrupt\u001b[0m: "
     ]
    }
   ],
   "source": [
    "for i in range(150000):\n",
    "    history = convnet_mo_elu.fit_generator(train_gen, samples_per_epoch = 10, nb_epoch = 1)\n",
    "    histories_elu.append(history.history)\n",
    "\n",
    "    predictions_elu = convnet_mo_elu.predict(test_set_pred)\n",
    "\n",
    "    covnet_mo_elu_predictions.append(predictions_elu)\n",
    "    \n",
    "    if history.history['loss'][-1]<smallest_loss:\n",
    "        print(\"SAVE\")\n",
    "        smallest_loss = history.history['loss'][-1]\n",
    "        convnet_mo_elu.save(\"beta_FULLMODEL_6_hidden_LAYERS.h5\")\n",
    "    \n",
    "    if i%5 == 0:\n",
    "        np.save(\"beta_covnet_histories_elu_6_hidden_LAYERS.npy\", histories_elu)\n",
    "        np.save(\"beta_covnet_mo_elu_predictions_6_hidden_LAYERS.npy\", covnet_mo_elu_predictions)\n",
    "\n",
    "        !git config --global user.email \"rwmmostert@gmail.com\"\n",
    "        !git config --global user.name \"RWMostert\"\n",
    "        !git add --all\n",
    "        !git commit -am \"updated history, predictions and model\"\n",
    "        !git push -u origin master --quiet"
   ]
  },
  {
   "cell_type": "markdown",
   "metadata": {},
   "source": [
    "# Covnet Single Output Prediction - Lambda Smaller"
   ]
  },
  {
   "cell_type": "code",
   "execution_count": 46,
   "metadata": {
    "collapsed": true
   },
   "outputs": [],
   "source": [
    "covnet_lambda = load_model(\"./Models/covnet_lambda.h5\", custom_objects={\"r2\":r2})"
   ]
  },
  {
   "cell_type": "code",
   "execution_count": 47,
   "metadata": {},
   "outputs": [
    {
     "name": "stdout",
     "output_type": "stream",
     "text": [
      "_________________________________________________________________\n",
      "Layer (type)                 Output Shape              Param #   \n",
      "=================================================================\n",
      "conv2d_21 (Conv2D)           (None, 40, 50, 32)        4640      \n",
      "_________________________________________________________________\n",
      "conv2d_22 (Conv2D)           (None, 40, 50, 32)        147488    \n",
      "_________________________________________________________________\n",
      "max_pooling2d_11 (MaxPooling (None, 20, 25, 32)        0         \n",
      "_________________________________________________________________\n",
      "conv2d_23 (Conv2D)           (None, 20, 25, 64)        73792     \n",
      "_________________________________________________________________\n",
      "conv2d_24 (Conv2D)           (None, 20, 25, 64)        147520    \n",
      "_________________________________________________________________\n",
      "max_pooling2d_12 (MaxPooling (None, 10, 12, 64)        0         \n",
      "_________________________________________________________________\n",
      "flatten_6 (Flatten)          (None, 7680)              0         \n",
      "_________________________________________________________________\n",
      "dense_11 (Dense)             (None, 512)               3932672   \n",
      "_________________________________________________________________\n",
      "dense_12 (Dense)             (None, 1)                 513       \n",
      "=================================================================\n",
      "Total params: 4,306,625\n",
      "Trainable params: 4,306,625\n",
      "Non-trainable params: 0\n",
      "_________________________________________________________________\n"
     ]
    }
   ],
   "source": [
    "covnet_lambda.summary()"
   ]
  },
  {
   "cell_type": "code",
   "execution_count": 23,
   "metadata": {
    "collapsed": true
   },
   "outputs": [],
   "source": [
    "def lambda_batch_generator(all_time = 2000, paramset_size = 32, paths_p_paramset = 5):\n",
    "    while True:\n",
    "        RETURNS_ = []\n",
    "        PARAMS_ = []\n",
    "        \n",
    "        for i in range(paramset_size):\n",
    "            mp = random_model_params()\n",
    "            mp.all_time = all_time\n",
    "            \n",
    "            for j in range(paths_p_paramset):\n",
    "                PARAMS_.append(mp)\n",
    "                RETURNS_.append(geometric_brownian_motion_jump_diffusion_log_returns(mp))\n",
    "        \n",
    "        train_data = np.reshape(np.array(RETURNS_), (paramset_size*paths_p_paramset, 40, 50, 1))\n",
    "        \n",
    "        lambdas = np.array([[mp.lamda] for mp in PARAMS_])\n",
    "        \n",
    "        yield train_data, lambdas\n",
    "\n",
    "lambda_train_gen = lambda_batch_generator(paramset_size=1750, paths_p_paramset=1)"
   ]
  },
  {
   "cell_type": "code",
   "execution_count": null,
   "metadata": {
    "collapsed": true
   },
   "outputs": [],
   "source": [
    "test_set_pred = standard_convolutional_test_set()"
   ]
  },
  {
   "cell_type": "code",
   "execution_count": null,
   "metadata": {
    "collapsed": true
   },
   "outputs": [],
   "source": [
    "covnet_lambda.load_weights(H5_DIR_COVNET_LAMBDA)"
   ]
  },
  {
   "cell_type": "code",
   "execution_count": 48,
   "metadata": {
    "collapsed": true
   },
   "outputs": [],
   "source": [
    "histories_lambda = np.load(\"Lambda_histories.npy\").tolist()\n",
    "preds_lambda = np.load(\"preds_lambda.npy\").tolist()"
   ]
  },
  {
   "cell_type": "code",
   "execution_count": 49,
   "metadata": {},
   "outputs": [
    {
     "name": "stdout",
     "output_type": "stream",
     "text": [
      "Epoch 1/3\n",
      "3/3 [==============================] - 52s - loss: 7.4174e-06 - mean_absolute_percentage_error: 32.1472 - r2: 0.8554     \n",
      "Epoch 2/3\n",
      "3/3 [==============================] - 51s - loss: 7.4208e-06 - mean_absolute_percentage_error: 32.2215 - r2: 0.8567     \n",
      "Epoch 3/3\n",
      "3/3 [==============================] - 51s - loss: 7.4522e-06 - mean_absolute_percentage_error: 32.1867 - r2: 0.8556     \n",
      "[master 2126606] Model trained\n",
      " 4 files changed, 38 insertions(+), 143 deletions(-)\n",
      "warning: push.default is unset; its implicit value has changed in\n",
      "Git 2.0 from 'matching' to 'simple'. To squelch this message\n",
      "and maintain the traditional behavior, use:\n",
      "\n",
      "  git config --global push.default matching\n",
      "\n",
      "To squelch this message and adopt the new behavior now, use:\n",
      "\n",
      "  git config --global push.default simple\n",
      "\n",
      "When push.default is set to 'matching', git will push local branches\n",
      "to the remote branches that already exist with the same name.\n",
      "\n",
      "Since Git 2.0, Git defaults to the more conservative 'simple'\n",
      "behavior, which only pushes the current branch to the corresponding\n",
      "remote branch that 'git pull' uses to update the current branch.\n",
      "\n",
      "See 'git help config' and search for 'push.default' for further information.\n",
      "(the 'simple' mode was introduced in Git 1.7.11. Use the similar mode\n",
      "'current' instead of 'simple' if you sometimes use older versions of Git)\n",
      "\n",
      "Epoch 1/3\n",
      "3/3 [==============================] - 52s - loss: 7.5332e-06 - mean_absolute_percentage_error: 33.7208 - r2: 0.8527     \n",
      "Epoch 2/3\n",
      "3/3 [==============================] - 51s - loss: 7.9208e-06 - mean_absolute_percentage_error: 39.2620 - r2: 0.8494     \n",
      "Epoch 3/3\n",
      "3/3 [==============================] - 50s - loss: 7.6471e-06 - mean_absolute_percentage_error: 33.0316 - r2: 0.8543     \n",
      "Epoch 1/3\n",
      "3/3 [==============================] - 51s - loss: 7.4909e-06 - mean_absolute_percentage_error: 30.3747 - r2: 0.8545     \n",
      "Epoch 2/3\n",
      "1/3 [=========>....................] - ETA: 33s - loss: 7.0161e-06 - mean_absolute_percentage_error: 34.1442 - r2: 0.8542"
     ]
    },
    {
     "ename": "KeyboardInterrupt",
     "evalue": "",
     "output_type": "error",
     "traceback": [
      "\u001b[0;31m---------------------------------------------------------------------------\u001b[0m",
      "\u001b[0;31mKeyboardInterrupt\u001b[0m                         Traceback (most recent call last)",
      "\u001b[0;32m<ipython-input-49-fc8b15ed7023>\u001b[0m in \u001b[0;36m<module>\u001b[0;34m()\u001b[0m\n\u001b[1;32m      1\u001b[0m \u001b[0;32mfor\u001b[0m \u001b[0mi\u001b[0m \u001b[0;32min\u001b[0m \u001b[0mrange\u001b[0m\u001b[0;34m(\u001b[0m\u001b[0;36m15000\u001b[0m\u001b[0;34m)\u001b[0m\u001b[0;34m:\u001b[0m\u001b[0;34m\u001b[0m\u001b[0m\n\u001b[0;32m----> 2\u001b[0;31m     \u001b[0mhistory\u001b[0m \u001b[0;34m=\u001b[0m \u001b[0mcovnet_lambda\u001b[0m\u001b[0;34m.\u001b[0m\u001b[0mfit_generator\u001b[0m\u001b[0;34m(\u001b[0m\u001b[0mlambda_train_gen\u001b[0m\u001b[0;34m,\u001b[0m \u001b[0msteps_per_epoch\u001b[0m \u001b[0;34m=\u001b[0m \u001b[0;36m3\u001b[0m\u001b[0;34m,\u001b[0m \u001b[0mepochs\u001b[0m \u001b[0;34m=\u001b[0m \u001b[0;36m3\u001b[0m\u001b[0;34m)\u001b[0m\u001b[0;34m\u001b[0m\u001b[0m\n\u001b[0m\u001b[1;32m      3\u001b[0m \u001b[0;34m\u001b[0m\u001b[0m\n\u001b[1;32m      4\u001b[0m     \u001b[0mhistories_lambda\u001b[0m\u001b[0;34m.\u001b[0m\u001b[0mappend\u001b[0m\u001b[0;34m(\u001b[0m\u001b[0mhistory\u001b[0m\u001b[0;34m.\u001b[0m\u001b[0mhistory\u001b[0m\u001b[0;34m)\u001b[0m\u001b[0;34m\u001b[0m\u001b[0m\n\u001b[1;32m      5\u001b[0m     \u001b[0mpreds_lambda\u001b[0m\u001b[0;34m.\u001b[0m\u001b[0mappend\u001b[0m\u001b[0;34m(\u001b[0m\u001b[0mcovnet_lambda\u001b[0m\u001b[0;34m.\u001b[0m\u001b[0mpredict\u001b[0m\u001b[0;34m(\u001b[0m\u001b[0mtest_set_pred\u001b[0m\u001b[0;34m)\u001b[0m\u001b[0;34m)\u001b[0m\u001b[0;34m\u001b[0m\u001b[0m\n",
      "\u001b[0;32m/home/carnd/anaconda3/envs/carnd-term1/lib/python3.5/site-packages/keras/legacy/interfaces.py\u001b[0m in \u001b[0;36mwrapper\u001b[0;34m(*args, **kwargs)\u001b[0m\n\u001b[1;32m     85\u001b[0m                 warnings.warn('Update your `' + object_name +\n\u001b[1;32m     86\u001b[0m                               '` call to the Keras 2 API: ' + signature, stacklevel=2)\n\u001b[0;32m---> 87\u001b[0;31m             \u001b[0;32mreturn\u001b[0m \u001b[0mfunc\u001b[0m\u001b[0;34m(\u001b[0m\u001b[0;34m*\u001b[0m\u001b[0margs\u001b[0m\u001b[0;34m,\u001b[0m \u001b[0;34m**\u001b[0m\u001b[0mkwargs\u001b[0m\u001b[0;34m)\u001b[0m\u001b[0;34m\u001b[0m\u001b[0m\n\u001b[0m\u001b[1;32m     88\u001b[0m         \u001b[0mwrapper\u001b[0m\u001b[0;34m.\u001b[0m\u001b[0m_original_function\u001b[0m \u001b[0;34m=\u001b[0m \u001b[0mfunc\u001b[0m\u001b[0;34m\u001b[0m\u001b[0m\n\u001b[1;32m     89\u001b[0m         \u001b[0;32mreturn\u001b[0m \u001b[0mwrapper\u001b[0m\u001b[0;34m\u001b[0m\u001b[0m\n",
      "\u001b[0;32m/home/carnd/anaconda3/envs/carnd-term1/lib/python3.5/site-packages/keras/models.py\u001b[0m in \u001b[0;36mfit_generator\u001b[0;34m(self, generator, steps_per_epoch, epochs, verbose, callbacks, validation_data, validation_steps, class_weight, max_queue_size, workers, use_multiprocessing, initial_epoch)\u001b[0m\n\u001b[1;32m   1115\u001b[0m                                         \u001b[0mworkers\u001b[0m\u001b[0;34m=\u001b[0m\u001b[0mworkers\u001b[0m\u001b[0;34m,\u001b[0m\u001b[0;34m\u001b[0m\u001b[0m\n\u001b[1;32m   1116\u001b[0m                                         \u001b[0muse_multiprocessing\u001b[0m\u001b[0;34m=\u001b[0m\u001b[0muse_multiprocessing\u001b[0m\u001b[0;34m,\u001b[0m\u001b[0;34m\u001b[0m\u001b[0m\n\u001b[0;32m-> 1117\u001b[0;31m                                         initial_epoch=initial_epoch)\n\u001b[0m\u001b[1;32m   1118\u001b[0m \u001b[0;34m\u001b[0m\u001b[0m\n\u001b[1;32m   1119\u001b[0m     \u001b[0;34m@\u001b[0m\u001b[0minterfaces\u001b[0m\u001b[0;34m.\u001b[0m\u001b[0mlegacy_generator_methods_support\u001b[0m\u001b[0;34m\u001b[0m\u001b[0m\n",
      "\u001b[0;32m/home/carnd/anaconda3/envs/carnd-term1/lib/python3.5/site-packages/keras/legacy/interfaces.py\u001b[0m in \u001b[0;36mwrapper\u001b[0;34m(*args, **kwargs)\u001b[0m\n\u001b[1;32m     85\u001b[0m                 warnings.warn('Update your `' + object_name +\n\u001b[1;32m     86\u001b[0m                               '` call to the Keras 2 API: ' + signature, stacklevel=2)\n\u001b[0;32m---> 87\u001b[0;31m             \u001b[0;32mreturn\u001b[0m \u001b[0mfunc\u001b[0m\u001b[0;34m(\u001b[0m\u001b[0;34m*\u001b[0m\u001b[0margs\u001b[0m\u001b[0;34m,\u001b[0m \u001b[0;34m**\u001b[0m\u001b[0mkwargs\u001b[0m\u001b[0;34m)\u001b[0m\u001b[0;34m\u001b[0m\u001b[0m\n\u001b[0m\u001b[1;32m     88\u001b[0m         \u001b[0mwrapper\u001b[0m\u001b[0;34m.\u001b[0m\u001b[0m_original_function\u001b[0m \u001b[0;34m=\u001b[0m \u001b[0mfunc\u001b[0m\u001b[0;34m\u001b[0m\u001b[0m\n\u001b[1;32m     89\u001b[0m         \u001b[0;32mreturn\u001b[0m \u001b[0mwrapper\u001b[0m\u001b[0;34m\u001b[0m\u001b[0m\n",
      "\u001b[0;32m/home/carnd/anaconda3/envs/carnd-term1/lib/python3.5/site-packages/keras/engine/training.py\u001b[0m in \u001b[0;36mfit_generator\u001b[0;34m(self, generator, steps_per_epoch, epochs, verbose, callbacks, validation_data, validation_steps, class_weight, max_queue_size, workers, use_multiprocessing, initial_epoch)\u001b[0m\n\u001b[1;32m   1807\u001b[0m                 \u001b[0mbatch_index\u001b[0m \u001b[0;34m=\u001b[0m \u001b[0;36m0\u001b[0m\u001b[0;34m\u001b[0m\u001b[0m\n\u001b[1;32m   1808\u001b[0m                 \u001b[0;32mwhile\u001b[0m \u001b[0msteps_done\u001b[0m \u001b[0;34m<\u001b[0m \u001b[0msteps_per_epoch\u001b[0m\u001b[0;34m:\u001b[0m\u001b[0;34m\u001b[0m\u001b[0m\n\u001b[0;32m-> 1809\u001b[0;31m                     \u001b[0mgenerator_output\u001b[0m \u001b[0;34m=\u001b[0m \u001b[0mnext\u001b[0m\u001b[0;34m(\u001b[0m\u001b[0moutput_generator\u001b[0m\u001b[0;34m)\u001b[0m\u001b[0;34m\u001b[0m\u001b[0m\n\u001b[0m\u001b[1;32m   1810\u001b[0m \u001b[0;34m\u001b[0m\u001b[0m\n\u001b[1;32m   1811\u001b[0m                     \u001b[0;32mif\u001b[0m \u001b[0;32mnot\u001b[0m \u001b[0mhasattr\u001b[0m\u001b[0;34m(\u001b[0m\u001b[0mgenerator_output\u001b[0m\u001b[0;34m,\u001b[0m \u001b[0;34m'__len__'\u001b[0m\u001b[0;34m)\u001b[0m\u001b[0;34m:\u001b[0m\u001b[0;34m\u001b[0m\u001b[0m\n",
      "\u001b[0;32m/home/carnd/anaconda3/envs/carnd-term1/lib/python3.5/site-packages/keras/utils/data_utils.py\u001b[0m in \u001b[0;36mget\u001b[0;34m(self)\u001b[0m\n\u001b[1;32m    634\u001b[0m                     \u001b[0;32myield\u001b[0m \u001b[0minputs\u001b[0m\u001b[0;34m\u001b[0m\u001b[0m\n\u001b[1;32m    635\u001b[0m             \u001b[0;32melse\u001b[0m\u001b[0;34m:\u001b[0m\u001b[0;34m\u001b[0m\u001b[0m\n\u001b[0;32m--> 636\u001b[0;31m                 \u001b[0mtime\u001b[0m\u001b[0;34m.\u001b[0m\u001b[0msleep\u001b[0m\u001b[0;34m(\u001b[0m\u001b[0mself\u001b[0m\u001b[0;34m.\u001b[0m\u001b[0mwait_time\u001b[0m\u001b[0;34m)\u001b[0m\u001b[0;34m\u001b[0m\u001b[0m\n\u001b[0m",
      "\u001b[0;31mKeyboardInterrupt\u001b[0m: "
     ]
    }
   ],
   "source": [
    "for i in range(15000):\n",
    "    history = covnet_lambda.fit_generator(lambda_train_gen, steps_per_epoch = 3, epochs = 3)\n",
    "    \n",
    "    histories_lambda.append(history.history)\n",
    "    preds_lambda.append(covnet_lambda.predict(test_set_pred))\n",
    "    \n",
    "    covnet_lambda.save(\"./Models/covnet_lambda.h5\")\n",
    "    if i%10 == 0:\n",
    "        np.save(\"Lambda_histories.npy\", histories_lambda)\n",
    "        np.save(\"preds_lambda.npy\", preds_lambda)\n",
    "        !git add --all\n",
    "        !git commit -am \"Model trained\"\n",
    "        !git push --quiet"
   ]
  },
  {
   "cell_type": "code",
   "execution_count": null,
   "metadata": {
    "collapsed": true
   },
   "outputs": [],
   "source": []
  },
  {
   "cell_type": "markdown",
   "metadata": {},
   "source": [
    "# Convnet Single Output Prediction - Mu"
   ]
  },
  {
   "cell_type": "code",
   "execution_count": 26,
   "metadata": {
    "collapsed": true
   },
   "outputs": [],
   "source": [
    "covnet_mu = load_model(\"./Models/covnet_mu.h5\", custom_objects={\"r2\":r2})"
   ]
  },
  {
   "cell_type": "code",
   "execution_count": 28,
   "metadata": {
    "collapsed": true
   },
   "outputs": [],
   "source": [
    "def jump_mu_batch_generator(all_time = 2000, paramset_size = 32, paths_p_paramset = 5):\n",
    "    while True:\n",
    "        RETURNS_ = []\n",
    "        PARAMS_ = []\n",
    "        \n",
    "        for i in range(paramset_size):\n",
    "            mp = random_model_params()\n",
    "            mp.all_time = all_time\n",
    "            \n",
    "            for j in range(paths_p_paramset):\n",
    "                PARAMS_.append(mp)\n",
    "                RETURNS_.append(geometric_brownian_motion_jump_diffusion_log_returns(mp))\n",
    "        \n",
    "        train_data = np.reshape(np.array(RETURNS_), (paramset_size*paths_p_paramset, 40, 50, 1))\n",
    "        \n",
    "        mus = np.array([[mp.gbm_mu] for mp in PARAMS_])\n",
    "        \n",
    "        yield train_data, mus\n",
    "\n",
    "mu_train_gen = jump_mu_batch_generator(paramset_size=1750, paths_p_paramset=1)"
   ]
  },
  {
   "cell_type": "code",
   "execution_count": null,
   "metadata": {
    "collapsed": true
   },
   "outputs": [],
   "source": [
    "test_set_pred = standard_convolutional_test_set()"
   ]
  },
  {
   "cell_type": "code",
   "execution_count": 29,
   "metadata": {
    "collapsed": true
   },
   "outputs": [],
   "source": [
    "histories_covnet_mu = np.load(\"histories_covnet_mu.npy\").tolist()\n",
    "predictions_covnet_mu = np.load(\"predictions_covnet_mu.npy\").tolist()"
   ]
  },
  {
   "cell_type": "code",
   "execution_count": null,
   "metadata": {
    "collapsed": true
   },
   "outputs": [],
   "source": [
    "covnet_mu.save(\"./Models/covnet_mu.h5\")"
   ]
  },
  {
   "cell_type": "code",
   "execution_count": 30,
   "metadata": {},
   "outputs": [
    {
     "name": "stdout",
     "output_type": "stream",
     "text": [
      "Epoch 1/1\n",
      "10/10 [==============================] - 171s - loss: 0.0046 - mean_absolute_percentage_error: 52.0238 - r2: 0.9862    \n",
      "[master 725c1fd] Model trained\n",
      " 5 files changed, 69 insertions(+), 24 deletions(-)\n",
      " rewrite Source_Code/histories_covnet_mu.npy (85%)\n",
      " rewrite Source_Code/predictions_covnet_mu.npy (91%)\n",
      "warning: push.default is unset; its implicit value has changed in\n",
      "Git 2.0 from 'matching' to 'simple'. To squelch this message\n",
      "and maintain the traditional behavior, use:\n",
      "\n",
      "  git config --global push.default matching\n",
      "\n",
      "To squelch this message and adopt the new behavior now, use:\n",
      "\n",
      "  git config --global push.default simple\n",
      "\n",
      "When push.default is set to 'matching', git will push local branches\n",
      "to the remote branches that already exist with the same name.\n",
      "\n",
      "Since Git 2.0, Git defaults to the more conservative 'simple'\n",
      "behavior, which only pushes the current branch to the corresponding\n",
      "remote branch that 'git pull' uses to update the current branch.\n",
      "\n",
      "See 'git help config' and search for 'push.default' for further information.\n",
      "(the 'simple' mode was introduced in Git 1.7.11. Use the similar mode\n",
      "'current' instead of 'simple' if you sometimes use older versions of Git)\n",
      "\n",
      "Epoch 1/1\n",
      "10/10 [==============================] - 171s - loss: 0.0045 - mean_absolute_percentage_error: 63.3570 - r2: 0.9866    \n",
      "Epoch 1/1\n",
      "10/10 [==============================] - 172s - loss: 0.0045 - mean_absolute_percentage_error: 53.2375 - r2: 0.9863    \n",
      "Epoch 1/1\n",
      "10/10 [==============================] - 173s - loss: 0.0043 - mean_absolute_percentage_error: 35.5094 - r2: 0.9871    \n",
      "Epoch 1/1\n",
      "10/10 [==============================] - 171s - loss: 0.0045 - mean_absolute_percentage_error: 75.3489 - r2: 0.9867    \n",
      "Epoch 1/1\n",
      "10/10 [==============================] - 171s - loss: 0.0042 - mean_absolute_percentage_error: 45.6431 - r2: 0.9876    \n",
      "Epoch 1/1\n",
      "10/10 [==============================] - 171s - loss: 0.0040 - mean_absolute_percentage_error: 78.8929 - r2: 0.9878    \n",
      "Epoch 1/1\n",
      "10/10 [==============================] - 172s - loss: 0.0044 - mean_absolute_percentage_error: 70.5170 - r2: 0.9869    \n",
      "Epoch 1/1\n",
      "10/10 [==============================] - 172s - loss: 0.0042 - mean_absolute_percentage_error: 39.7731 - r2: 0.9873    \n",
      "Epoch 1/1\n",
      "10/10 [==============================] - 171s - loss: 0.0041 - mean_absolute_percentage_error: 83.1227 - r2: 0.9876    \n",
      "Epoch 1/1\n",
      "10/10 [==============================] - 171s - loss: 0.0042 - mean_absolute_percentage_error: 55.1716 - r2: 0.9874    \n",
      "[master 25cedd7] Model trained\n",
      " 4 files changed, 46 insertions(+), 1 deletion(-)\n",
      "warning: push.default is unset; its implicit value has changed in\n",
      "Git 2.0 from 'matching' to 'simple'. To squelch this message\n",
      "and maintain the traditional behavior, use:\n",
      "\n",
      "  git config --global push.default matching\n",
      "\n",
      "To squelch this message and adopt the new behavior now, use:\n",
      "\n",
      "  git config --global push.default simple\n",
      "\n",
      "When push.default is set to 'matching', git will push local branches\n",
      "to the remote branches that already exist with the same name.\n",
      "\n",
      "Since Git 2.0, Git defaults to the more conservative 'simple'\n",
      "behavior, which only pushes the current branch to the corresponding\n",
      "remote branch that 'git pull' uses to update the current branch.\n",
      "\n",
      "See 'git help config' and search for 'push.default' for further information.\n",
      "(the 'simple' mode was introduced in Git 1.7.11. Use the similar mode\n",
      "'current' instead of 'simple' if you sometimes use older versions of Git)\n",
      "\n",
      "Epoch 1/1\n",
      "10/10 [==============================] - 172s - loss: 0.0044 - mean_absolute_percentage_error: 54.7149 - r2: 0.9865    \n",
      "Epoch 1/1\n",
      "10/10 [==============================] - 171s - loss: 0.0044 - mean_absolute_percentage_error: 95.3935 - r2: 0.9869     \n",
      "Epoch 1/1\n",
      "10/10 [==============================] - 170s - loss: 0.0044 - mean_absolute_percentage_error: 45.6176 - r2: 0.9868    \n",
      "Epoch 1/1\n",
      "10/10 [==============================] - 171s - loss: 0.0043 - mean_absolute_percentage_error: 146.5084 - r2: 0.9871   \n",
      "Epoch 1/1\n",
      "10/10 [==============================] - 172s - loss: 0.0040 - mean_absolute_percentage_error: 409.0020 - r2: 0.9881    \n",
      "Epoch 1/1\n",
      "10/10 [==============================] - 172s - loss: 0.0039 - mean_absolute_percentage_error: 56.1694 - r2: 0.9883    \n",
      "Epoch 1/1\n",
      "10/10 [==============================] - 171s - loss: 0.0039 - mean_absolute_percentage_error: 61.6461 - r2: 0.9885    \n",
      "Epoch 1/1\n",
      "10/10 [==============================] - 173s - loss: 0.0040 - mean_absolute_percentage_error: 47.8394 - r2: 0.9881    \n",
      "Epoch 1/1\n",
      "10/10 [==============================] - 172s - loss: 0.0040 - mean_absolute_percentage_error: 43.5371 - r2: 0.9879    \n",
      "Epoch 1/1\n",
      "10/10 [==============================] - 171s - loss: 0.0039 - mean_absolute_percentage_error: 94.9585 - r2: 0.9882     \n",
      "[master af801be] Model trained\n",
      " 4 files changed, 44 insertions(+), 1 deletion(-)\n",
      "warning: push.default is unset; its implicit value has changed in\n",
      "Git 2.0 from 'matching' to 'simple'. To squelch this message\n",
      "and maintain the traditional behavior, use:\n",
      "\n",
      "  git config --global push.default matching\n",
      "\n",
      "To squelch this message and adopt the new behavior now, use:\n",
      "\n",
      "  git config --global push.default simple\n",
      "\n",
      "When push.default is set to 'matching', git will push local branches\n",
      "to the remote branches that already exist with the same name.\n",
      "\n",
      "Since Git 2.0, Git defaults to the more conservative 'simple'\n",
      "behavior, which only pushes the current branch to the corresponding\n",
      "remote branch that 'git pull' uses to update the current branch.\n",
      "\n",
      "See 'git help config' and search for 'push.default' for further information.\n",
      "(the 'simple' mode was introduced in Git 1.7.11. Use the similar mode\n",
      "'current' instead of 'simple' if you sometimes use older versions of Git)\n",
      "\n",
      "Epoch 1/1\n",
      "10/10 [==============================] - 171s - loss: 0.0038 - mean_absolute_percentage_error: 44.8348 - r2: 0.9885    \n",
      "Epoch 1/1\n",
      "10/10 [==============================] - 171s - loss: 0.0037 - mean_absolute_percentage_error: 54.2280 - r2: 0.9888    \n",
      "Epoch 1/1\n",
      "10/10 [==============================] - 171s - loss: 0.0037 - mean_absolute_percentage_error: 77.9082 - r2: 0.9891    \n",
      "Epoch 1/1\n",
      "10/10 [==============================] - 172s - loss: 0.0037 - mean_absolute_percentage_error: 117.2014 - r2: 0.9890    \n",
      "Epoch 1/1\n",
      "10/10 [==============================] - 171s - loss: 0.0042 - mean_absolute_percentage_error: 110.1120 - r2: 0.9873    \n",
      "Epoch 1/1\n",
      "10/10 [==============================] - 171s - loss: 0.0040 - mean_absolute_percentage_error: 47.3915 - r2: 0.9881    \n",
      "Epoch 1/1\n",
      " 9/10 [==========================>...] - ETA: 17s - loss: 0.0039 - mean_absolute_percentage_error: 50.4894 - r2: 0.9882"
     ]
    },
    {
     "ename": "KeyboardInterrupt",
     "evalue": "",
     "output_type": "error",
     "traceback": [
      "\u001b[0;31m---------------------------------------------------------------------------\u001b[0m",
      "\u001b[0;31mKeyboardInterrupt\u001b[0m                         Traceback (most recent call last)",
      "\u001b[0;32m<ipython-input-30-ab4169fb586e>\u001b[0m in \u001b[0;36m<module>\u001b[0;34m()\u001b[0m\n\u001b[1;32m      1\u001b[0m \u001b[0;32mfor\u001b[0m \u001b[0mi\u001b[0m \u001b[0;32min\u001b[0m \u001b[0mrange\u001b[0m\u001b[0;34m(\u001b[0m\u001b[0;36m150000000\u001b[0m\u001b[0;34m)\u001b[0m\u001b[0;34m:\u001b[0m\u001b[0;34m\u001b[0m\u001b[0m\n\u001b[0;32m----> 2\u001b[0;31m     \u001b[0mhistory\u001b[0m \u001b[0;34m=\u001b[0m \u001b[0mcovnet_mu\u001b[0m\u001b[0;34m.\u001b[0m\u001b[0mfit_generator\u001b[0m\u001b[0;34m(\u001b[0m\u001b[0mmu_train_gen\u001b[0m\u001b[0;34m,\u001b[0m \u001b[0msteps_per_epoch\u001b[0m \u001b[0;34m=\u001b[0m \u001b[0;36m10\u001b[0m\u001b[0;34m,\u001b[0m \u001b[0mepochs\u001b[0m \u001b[0;34m=\u001b[0m \u001b[0;36m1\u001b[0m\u001b[0;34m)\u001b[0m\u001b[0;34m\u001b[0m\u001b[0m\n\u001b[0m\u001b[1;32m      3\u001b[0m     \u001b[0mhistories_covnet_mu\u001b[0m\u001b[0;34m.\u001b[0m\u001b[0mappend\u001b[0m\u001b[0;34m(\u001b[0m\u001b[0mhistory\u001b[0m\u001b[0;34m.\u001b[0m\u001b[0mhistory\u001b[0m\u001b[0;34m)\u001b[0m\u001b[0;34m\u001b[0m\u001b[0m\n\u001b[1;32m      4\u001b[0m     \u001b[0mpredictions_covnet_mu\u001b[0m\u001b[0;34m.\u001b[0m\u001b[0mappend\u001b[0m\u001b[0;34m(\u001b[0m\u001b[0mcovnet_mu\u001b[0m\u001b[0;34m.\u001b[0m\u001b[0mpredict\u001b[0m\u001b[0;34m(\u001b[0m\u001b[0mtest_set_pred\u001b[0m\u001b[0;34m)\u001b[0m\u001b[0;34m)\u001b[0m\u001b[0;34m\u001b[0m\u001b[0m\n\u001b[1;32m      5\u001b[0m     \u001b[0mcovnet_mu\u001b[0m\u001b[0;34m.\u001b[0m\u001b[0msave\u001b[0m\u001b[0;34m(\u001b[0m\u001b[0;34m\"covnet_mu_FULLMODEL.h5\"\u001b[0m\u001b[0;34m)\u001b[0m\u001b[0;34m\u001b[0m\u001b[0m\n",
      "\u001b[0;32m/home/carnd/anaconda3/envs/carnd-term1/lib/python3.5/site-packages/keras/legacy/interfaces.py\u001b[0m in \u001b[0;36mwrapper\u001b[0;34m(*args, **kwargs)\u001b[0m\n\u001b[1;32m     85\u001b[0m                 warnings.warn('Update your `' + object_name +\n\u001b[1;32m     86\u001b[0m                               '` call to the Keras 2 API: ' + signature, stacklevel=2)\n\u001b[0;32m---> 87\u001b[0;31m             \u001b[0;32mreturn\u001b[0m \u001b[0mfunc\u001b[0m\u001b[0;34m(\u001b[0m\u001b[0;34m*\u001b[0m\u001b[0margs\u001b[0m\u001b[0;34m,\u001b[0m \u001b[0;34m**\u001b[0m\u001b[0mkwargs\u001b[0m\u001b[0;34m)\u001b[0m\u001b[0;34m\u001b[0m\u001b[0m\n\u001b[0m\u001b[1;32m     88\u001b[0m         \u001b[0mwrapper\u001b[0m\u001b[0;34m.\u001b[0m\u001b[0m_original_function\u001b[0m \u001b[0;34m=\u001b[0m \u001b[0mfunc\u001b[0m\u001b[0;34m\u001b[0m\u001b[0m\n\u001b[1;32m     89\u001b[0m         \u001b[0;32mreturn\u001b[0m \u001b[0mwrapper\u001b[0m\u001b[0;34m\u001b[0m\u001b[0m\n",
      "\u001b[0;32m/home/carnd/anaconda3/envs/carnd-term1/lib/python3.5/site-packages/keras/models.py\u001b[0m in \u001b[0;36mfit_generator\u001b[0;34m(self, generator, steps_per_epoch, epochs, verbose, callbacks, validation_data, validation_steps, class_weight, max_queue_size, workers, use_multiprocessing, initial_epoch)\u001b[0m\n\u001b[1;32m   1115\u001b[0m                                         \u001b[0mworkers\u001b[0m\u001b[0;34m=\u001b[0m\u001b[0mworkers\u001b[0m\u001b[0;34m,\u001b[0m\u001b[0;34m\u001b[0m\u001b[0m\n\u001b[1;32m   1116\u001b[0m                                         \u001b[0muse_multiprocessing\u001b[0m\u001b[0;34m=\u001b[0m\u001b[0muse_multiprocessing\u001b[0m\u001b[0;34m,\u001b[0m\u001b[0;34m\u001b[0m\u001b[0m\n\u001b[0;32m-> 1117\u001b[0;31m                                         initial_epoch=initial_epoch)\n\u001b[0m\u001b[1;32m   1118\u001b[0m \u001b[0;34m\u001b[0m\u001b[0m\n\u001b[1;32m   1119\u001b[0m     \u001b[0;34m@\u001b[0m\u001b[0minterfaces\u001b[0m\u001b[0;34m.\u001b[0m\u001b[0mlegacy_generator_methods_support\u001b[0m\u001b[0;34m\u001b[0m\u001b[0m\n",
      "\u001b[0;32m/home/carnd/anaconda3/envs/carnd-term1/lib/python3.5/site-packages/keras/legacy/interfaces.py\u001b[0m in \u001b[0;36mwrapper\u001b[0;34m(*args, **kwargs)\u001b[0m\n\u001b[1;32m     85\u001b[0m                 warnings.warn('Update your `' + object_name +\n\u001b[1;32m     86\u001b[0m                               '` call to the Keras 2 API: ' + signature, stacklevel=2)\n\u001b[0;32m---> 87\u001b[0;31m             \u001b[0;32mreturn\u001b[0m \u001b[0mfunc\u001b[0m\u001b[0;34m(\u001b[0m\u001b[0;34m*\u001b[0m\u001b[0margs\u001b[0m\u001b[0;34m,\u001b[0m \u001b[0;34m**\u001b[0m\u001b[0mkwargs\u001b[0m\u001b[0;34m)\u001b[0m\u001b[0;34m\u001b[0m\u001b[0m\n\u001b[0m\u001b[1;32m     88\u001b[0m         \u001b[0mwrapper\u001b[0m\u001b[0;34m.\u001b[0m\u001b[0m_original_function\u001b[0m \u001b[0;34m=\u001b[0m \u001b[0mfunc\u001b[0m\u001b[0;34m\u001b[0m\u001b[0m\n\u001b[1;32m     89\u001b[0m         \u001b[0;32mreturn\u001b[0m \u001b[0mwrapper\u001b[0m\u001b[0;34m\u001b[0m\u001b[0m\n",
      "\u001b[0;32m/home/carnd/anaconda3/envs/carnd-term1/lib/python3.5/site-packages/keras/engine/training.py\u001b[0m in \u001b[0;36mfit_generator\u001b[0;34m(self, generator, steps_per_epoch, epochs, verbose, callbacks, validation_data, validation_steps, class_weight, max_queue_size, workers, use_multiprocessing, initial_epoch)\u001b[0m\n\u001b[1;32m   1807\u001b[0m                 \u001b[0mbatch_index\u001b[0m \u001b[0;34m=\u001b[0m \u001b[0;36m0\u001b[0m\u001b[0;34m\u001b[0m\u001b[0m\n\u001b[1;32m   1808\u001b[0m                 \u001b[0;32mwhile\u001b[0m \u001b[0msteps_done\u001b[0m \u001b[0;34m<\u001b[0m \u001b[0msteps_per_epoch\u001b[0m\u001b[0;34m:\u001b[0m\u001b[0;34m\u001b[0m\u001b[0m\n\u001b[0;32m-> 1809\u001b[0;31m                     \u001b[0mgenerator_output\u001b[0m \u001b[0;34m=\u001b[0m \u001b[0mnext\u001b[0m\u001b[0;34m(\u001b[0m\u001b[0moutput_generator\u001b[0m\u001b[0;34m)\u001b[0m\u001b[0;34m\u001b[0m\u001b[0m\n\u001b[0m\u001b[1;32m   1810\u001b[0m \u001b[0;34m\u001b[0m\u001b[0m\n\u001b[1;32m   1811\u001b[0m                     \u001b[0;32mif\u001b[0m \u001b[0;32mnot\u001b[0m \u001b[0mhasattr\u001b[0m\u001b[0;34m(\u001b[0m\u001b[0mgenerator_output\u001b[0m\u001b[0;34m,\u001b[0m \u001b[0;34m'__len__'\u001b[0m\u001b[0;34m)\u001b[0m\u001b[0;34m:\u001b[0m\u001b[0;34m\u001b[0m\u001b[0m\n",
      "\u001b[0;32m/home/carnd/anaconda3/envs/carnd-term1/lib/python3.5/site-packages/keras/utils/data_utils.py\u001b[0m in \u001b[0;36mget\u001b[0;34m(self)\u001b[0m\n\u001b[1;32m    634\u001b[0m                     \u001b[0;32myield\u001b[0m \u001b[0minputs\u001b[0m\u001b[0;34m\u001b[0m\u001b[0m\n\u001b[1;32m    635\u001b[0m             \u001b[0;32melse\u001b[0m\u001b[0;34m:\u001b[0m\u001b[0;34m\u001b[0m\u001b[0m\n\u001b[0;32m--> 636\u001b[0;31m                 \u001b[0mtime\u001b[0m\u001b[0;34m.\u001b[0m\u001b[0msleep\u001b[0m\u001b[0;34m(\u001b[0m\u001b[0mself\u001b[0m\u001b[0;34m.\u001b[0m\u001b[0mwait_time\u001b[0m\u001b[0;34m)\u001b[0m\u001b[0;34m\u001b[0m\u001b[0m\n\u001b[0m",
      "\u001b[0;31mKeyboardInterrupt\u001b[0m: "
     ]
    }
   ],
   "source": [
    "for i in range(150000000):\n",
    "    history = covnet_mu.fit_generator(mu_train_gen, steps_per_epoch = 10, epochs = 1)\n",
    "    histories_covnet_mu.append(history.history)\n",
    "    predictions_covnet_mu.append(covnet_mu.predict(test_set_pred))\n",
    "    covnet_mu.save(\"covnet_mu_FULLMODEL.h5\")\n",
    "    \n",
    "    if (i%10 == 0):\n",
    "        np.save(\"histories_covnet_mu.npy\", histories_covnet_mu)\n",
    "        np.save(\"predictions_covnet_mu.npy\", predictions_covnet_mu)\n",
    "\n",
    "        !git add --all\n",
    "        !git commit -am \"Model trained\"\n",
    "        !git push --quiet"
   ]
  },
  {
   "cell_type": "markdown",
   "metadata": {},
   "source": [
    "# Convnet Single Output Prediction - Sigma"
   ]
  },
  {
   "cell_type": "code",
   "execution_count": 31,
   "metadata": {
    "collapsed": true
   },
   "outputs": [],
   "source": [
    "covnet_sigma = load_model(\"./Models/covnet_sigma.h5\", custom_objects={\"r2\":r2})#covnet_single_ReLUs_6_layers()"
   ]
  },
  {
   "cell_type": "code",
   "execution_count": 32,
   "metadata": {
    "collapsed": true
   },
   "outputs": [],
   "source": [
    "def sigma_batch_generator(all_time = 2000, paramset_size = 32, paths_p_paramset = 5):\n",
    "    while True:\n",
    "        RETURNS_ = []\n",
    "        PARAMS_ = []\n",
    "        \n",
    "        for i in range(paramset_size):\n",
    "            mp = random_model_params()\n",
    "            mp.all_time = all_time\n",
    "            \n",
    "            for j in range(paths_p_paramset):\n",
    "                PARAMS_.append(mp)\n",
    "                RETURNS_.append(geometric_brownian_motion_jump_diffusion_log_returns(mp))\n",
    "        \n",
    "        train_data = np.reshape(np.array(RETURNS_), (paramset_size*paths_p_paramset, 40, 50, 1))\n",
    "        \n",
    "        sigmas = np.array([[mp.all_sigma] for mp in PARAMS_])\n",
    "        \n",
    "        yield train_data, sigmas\n",
    "\n",
    "sigma_train_gen = sigma_batch_generator(paramset_size=1500, paths_p_paramset=1)"
   ]
  },
  {
   "cell_type": "code",
   "execution_count": null,
   "metadata": {
    "collapsed": true
   },
   "outputs": [],
   "source": [
    "test_set_pred = standard_convolutional_test_set()"
   ]
  },
  {
   "cell_type": "code",
   "execution_count": null,
   "metadata": {
    "collapsed": true
   },
   "outputs": [],
   "source": [
    "covnet_jump_mu.load_weights(H5_DIR_COVNET_JUMP_MU)"
   ]
  },
  {
   "cell_type": "code",
   "execution_count": 33,
   "metadata": {
    "collapsed": true
   },
   "outputs": [],
   "source": [
    "histories_covnet_sigma = np.load(\"histories_covnet_sigma.npy\").tolist()\n",
    "predictions_covnet_sigma = np.load(\"predictions_covnet_sigma.npy\").tolist()"
   ]
  },
  {
   "cell_type": "code",
   "execution_count": null,
   "metadata": {
    "collapsed": true
   },
   "outputs": [],
   "source": [
    "#covnet_sigma.save(\"./Models/covnet_sigma.h5\")"
   ]
  },
  {
   "cell_type": "code",
   "execution_count": 34,
   "metadata": {},
   "outputs": [
    {
     "name": "stdout",
     "output_type": "stream",
     "text": [
      "Epoch 1/1\n",
      "10/10 [==============================] - 146s - loss: 6.2224e-05 - mean_absolute_percentage_error: 16.7434 - r2: 0.9810    \n",
      "[master 487b5f3] Model trained\n",
      " 5 files changed, 74 insertions(+), 14 deletions(-)\n",
      " rewrite Source_Code/histories_covnet_sigma.npy (88%)\n",
      " rewrite Source_Code/predictions_covnet_sigma.npy (92%)\n",
      "warning: push.default is unset; its implicit value has changed in\n",
      "Git 2.0 from 'matching' to 'simple'. To squelch this message\n",
      "and maintain the traditional behavior, use:\n",
      "\n",
      "  git config --global push.default matching\n",
      "\n",
      "To squelch this message and adopt the new behavior now, use:\n",
      "\n",
      "  git config --global push.default simple\n",
      "\n",
      "When push.default is set to 'matching', git will push local branches\n",
      "to the remote branches that already exist with the same name.\n",
      "\n",
      "Since Git 2.0, Git defaults to the more conservative 'simple'\n",
      "behavior, which only pushes the current branch to the corresponding\n",
      "remote branch that 'git pull' uses to update the current branch.\n",
      "\n",
      "See 'git help config' and search for 'push.default' for further information.\n",
      "(the 'simple' mode was introduced in Git 1.7.11. Use the similar mode\n",
      "'current' instead of 'simple' if you sometimes use older versions of Git)\n",
      "\n",
      "Epoch 1/1\n",
      "10/10 [==============================] - 147s - loss: 5.5155e-05 - mean_absolute_percentage_error: 14.3079 - r2: 0.9831    \n",
      "Epoch 1/1\n",
      "10/10 [==============================] - 146s - loss: 6.0429e-05 - mean_absolute_percentage_error: 15.5408 - r2: 0.9818    \n",
      "Epoch 1/1\n",
      " 1/10 [==>...........................] - ETA: 140s - loss: 7.0915e-05 - mean_absolute_percentage_error: 21.1011 - r2: 0.9784"
     ]
    },
    {
     "ename": "KeyboardInterrupt",
     "evalue": "",
     "output_type": "error",
     "traceback": [
      "\u001b[0;31m---------------------------------------------------------------------------\u001b[0m",
      "\u001b[0;31mKeyboardInterrupt\u001b[0m                         Traceback (most recent call last)",
      "\u001b[0;32m/home/carnd/anaconda3/envs/carnd-term1/lib/python3.5/site-packages/keras/engine/training.py\u001b[0m in \u001b[0;36mfit_generator\u001b[0;34m(self, generator, steps_per_epoch, epochs, verbose, callbacks, validation_data, validation_steps, class_weight, max_queue_size, workers, use_multiprocessing, initial_epoch)\u001b[0m\n\u001b[1;32m   1835\u001b[0m                     \u001b[0mbatch_logs\u001b[0m\u001b[0;34m[\u001b[0m\u001b[0;34m'size'\u001b[0m\u001b[0;34m]\u001b[0m \u001b[0;34m=\u001b[0m \u001b[0mbatch_size\u001b[0m\u001b[0;34m\u001b[0m\u001b[0m\n\u001b[0;32m-> 1836\u001b[0;31m                     \u001b[0mcallbacks\u001b[0m\u001b[0;34m.\u001b[0m\u001b[0mon_batch_begin\u001b[0m\u001b[0;34m(\u001b[0m\u001b[0mbatch_index\u001b[0m\u001b[0;34m,\u001b[0m \u001b[0mbatch_logs\u001b[0m\u001b[0;34m)\u001b[0m\u001b[0;34m\u001b[0m\u001b[0m\n\u001b[0m\u001b[1;32m   1837\u001b[0m \u001b[0;34m\u001b[0m\u001b[0m\n",
      "\u001b[0;32m/home/carnd/anaconda3/envs/carnd-term1/lib/python3.5/site-packages/keras/callbacks.py\u001b[0m in \u001b[0;36mon_batch_begin\u001b[0;34m(self, batch, logs)\u001b[0m\n\u001b[1;32m     90\u001b[0m         \u001b[0mself\u001b[0m\u001b[0;34m.\u001b[0m\u001b[0m_delta_ts_batch_begin\u001b[0m\u001b[0;34m.\u001b[0m\u001b[0mappend\u001b[0m\u001b[0;34m(\u001b[0m\u001b[0mtime\u001b[0m\u001b[0;34m.\u001b[0m\u001b[0mtime\u001b[0m\u001b[0;34m(\u001b[0m\u001b[0;34m)\u001b[0m \u001b[0;34m-\u001b[0m \u001b[0mt_before_callbacks\u001b[0m\u001b[0;34m)\u001b[0m\u001b[0;34m\u001b[0m\u001b[0m\n\u001b[0;32m---> 91\u001b[0;31m         \u001b[0mdelta_t_median\u001b[0m \u001b[0;34m=\u001b[0m \u001b[0mnp\u001b[0m\u001b[0;34m.\u001b[0m\u001b[0mmedian\u001b[0m\u001b[0;34m(\u001b[0m\u001b[0mself\u001b[0m\u001b[0;34m.\u001b[0m\u001b[0m_delta_ts_batch_begin\u001b[0m\u001b[0;34m)\u001b[0m\u001b[0;34m\u001b[0m\u001b[0m\n\u001b[0m\u001b[1;32m     92\u001b[0m         if (self._delta_t_batch > 0. and\n",
      "\u001b[0;32m/home/carnd/anaconda3/envs/carnd-term1/lib/python3.5/site-packages/numpy/lib/function_base.py\u001b[0m in \u001b[0;36mmedian\u001b[0;34m(a, axis, out, overwrite_input, keepdims)\u001b[0m\n\u001b[1;32m   3943\u001b[0m     r, k = _ureduce(a, func=_median, axis=axis, out=out,\n\u001b[0;32m-> 3944\u001b[0;31m                     overwrite_input=overwrite_input)\n\u001b[0m\u001b[1;32m   3945\u001b[0m     \u001b[0;32mif\u001b[0m \u001b[0mkeepdims\u001b[0m\u001b[0;34m:\u001b[0m\u001b[0;34m\u001b[0m\u001b[0m\n",
      "\u001b[0;32m/home/carnd/anaconda3/envs/carnd-term1/lib/python3.5/site-packages/numpy/lib/function_base.py\u001b[0m in \u001b[0;36m_ureduce\u001b[0;34m(a, func, **kwargs)\u001b[0m\n\u001b[1;32m   3857\u001b[0m \u001b[0;34m\u001b[0m\u001b[0m\n\u001b[0;32m-> 3858\u001b[0;31m     \u001b[0mr\u001b[0m \u001b[0;34m=\u001b[0m \u001b[0mfunc\u001b[0m\u001b[0;34m(\u001b[0m\u001b[0ma\u001b[0m\u001b[0;34m,\u001b[0m \u001b[0;34m**\u001b[0m\u001b[0mkwargs\u001b[0m\u001b[0;34m)\u001b[0m\u001b[0;34m\u001b[0m\u001b[0m\n\u001b[0m\u001b[1;32m   3859\u001b[0m     \u001b[0;32mreturn\u001b[0m \u001b[0mr\u001b[0m\u001b[0;34m,\u001b[0m \u001b[0mkeepdim\u001b[0m\u001b[0;34m\u001b[0m\u001b[0m\n",
      "\u001b[0;32m/home/carnd/anaconda3/envs/carnd-term1/lib/python3.5/site-packages/numpy/lib/function_base.py\u001b[0m in \u001b[0;36m_median\u001b[0;34m(a, axis, out, overwrite_input)\u001b[0m\n\u001b[1;32m   3976\u001b[0m     \u001b[0;32melse\u001b[0m\u001b[0;34m:\u001b[0m\u001b[0;34m\u001b[0m\u001b[0m\n\u001b[0;32m-> 3977\u001b[0;31m         \u001b[0mpart\u001b[0m \u001b[0;34m=\u001b[0m \u001b[0mpartition\u001b[0m\u001b[0;34m(\u001b[0m\u001b[0ma\u001b[0m\u001b[0;34m,\u001b[0m \u001b[0mkth\u001b[0m\u001b[0;34m,\u001b[0m \u001b[0maxis\u001b[0m\u001b[0;34m=\u001b[0m\u001b[0maxis\u001b[0m\u001b[0;34m)\u001b[0m\u001b[0;34m\u001b[0m\u001b[0m\n\u001b[0m\u001b[1;32m   3978\u001b[0m \u001b[0;34m\u001b[0m\u001b[0m\n",
      "\u001b[0;32m/home/carnd/anaconda3/envs/carnd-term1/lib/python3.5/site-packages/numpy/core/fromnumeric.py\u001b[0m in \u001b[0;36mpartition\u001b[0;34m(a, kth, axis, kind, order)\u001b[0m\n\u001b[1;32m    638\u001b[0m         \u001b[0ma\u001b[0m \u001b[0;34m=\u001b[0m \u001b[0masanyarray\u001b[0m\u001b[0;34m(\u001b[0m\u001b[0ma\u001b[0m\u001b[0;34m)\u001b[0m\u001b[0;34m.\u001b[0m\u001b[0mcopy\u001b[0m\u001b[0;34m(\u001b[0m\u001b[0morder\u001b[0m\u001b[0;34m=\u001b[0m\u001b[0;34m\"K\"\u001b[0m\u001b[0;34m)\u001b[0m\u001b[0;34m\u001b[0m\u001b[0m\n\u001b[0;32m--> 639\u001b[0;31m     \u001b[0ma\u001b[0m\u001b[0;34m.\u001b[0m\u001b[0mpartition\u001b[0m\u001b[0;34m(\u001b[0m\u001b[0mkth\u001b[0m\u001b[0;34m,\u001b[0m \u001b[0maxis\u001b[0m\u001b[0;34m=\u001b[0m\u001b[0maxis\u001b[0m\u001b[0;34m,\u001b[0m \u001b[0mkind\u001b[0m\u001b[0;34m=\u001b[0m\u001b[0mkind\u001b[0m\u001b[0;34m,\u001b[0m \u001b[0morder\u001b[0m\u001b[0;34m=\u001b[0m\u001b[0morder\u001b[0m\u001b[0;34m)\u001b[0m\u001b[0;34m\u001b[0m\u001b[0m\n\u001b[0m\u001b[1;32m    640\u001b[0m     \u001b[0;32mreturn\u001b[0m \u001b[0ma\u001b[0m\u001b[0;34m\u001b[0m\u001b[0m\n",
      "\u001b[0;31mKeyboardInterrupt\u001b[0m: ",
      "\nDuring handling of the above exception, another exception occurred:\n",
      "\u001b[0;31mKeyboardInterrupt\u001b[0m                         Traceback (most recent call last)",
      "\u001b[0;32m<ipython-input-34-d0a6104f6a08>\u001b[0m in \u001b[0;36m<module>\u001b[0;34m()\u001b[0m\n\u001b[1;32m      1\u001b[0m \u001b[0;32mfor\u001b[0m \u001b[0mi\u001b[0m \u001b[0;32min\u001b[0m \u001b[0mrange\u001b[0m\u001b[0;34m(\u001b[0m\u001b[0;36m150000000\u001b[0m\u001b[0;34m)\u001b[0m\u001b[0;34m:\u001b[0m\u001b[0;34m\u001b[0m\u001b[0m\n\u001b[0;32m----> 2\u001b[0;31m     \u001b[0mhistory\u001b[0m \u001b[0;34m=\u001b[0m \u001b[0mcovnet_sigma\u001b[0m\u001b[0;34m.\u001b[0m\u001b[0mfit_generator\u001b[0m\u001b[0;34m(\u001b[0m\u001b[0msigma_train_gen\u001b[0m\u001b[0;34m,\u001b[0m \u001b[0msteps_per_epoch\u001b[0m \u001b[0;34m=\u001b[0m \u001b[0;36m10\u001b[0m\u001b[0;34m,\u001b[0m \u001b[0mepochs\u001b[0m \u001b[0;34m=\u001b[0m \u001b[0;36m1\u001b[0m\u001b[0;34m)\u001b[0m\u001b[0;34m\u001b[0m\u001b[0m\n\u001b[0m\u001b[1;32m      3\u001b[0m     \u001b[0mhistories_covnet_sigma\u001b[0m\u001b[0;34m.\u001b[0m\u001b[0mappend\u001b[0m\u001b[0;34m(\u001b[0m\u001b[0mhistory\u001b[0m\u001b[0;34m.\u001b[0m\u001b[0mhistory\u001b[0m\u001b[0;34m)\u001b[0m\u001b[0;34m\u001b[0m\u001b[0m\n\u001b[1;32m      4\u001b[0m     \u001b[0mpredictions_covnet_sigma\u001b[0m\u001b[0;34m.\u001b[0m\u001b[0mappend\u001b[0m\u001b[0;34m(\u001b[0m\u001b[0mcovnet_sigma\u001b[0m\u001b[0;34m.\u001b[0m\u001b[0mpredict\u001b[0m\u001b[0;34m(\u001b[0m\u001b[0mtest_set_pred\u001b[0m\u001b[0;34m)\u001b[0m\u001b[0;34m)\u001b[0m\u001b[0;34m\u001b[0m\u001b[0m\n\u001b[1;32m      5\u001b[0m     \u001b[0mcovnet_sigma\u001b[0m\u001b[0;34m.\u001b[0m\u001b[0msave\u001b[0m\u001b[0;34m(\u001b[0m\u001b[0;34m\"covnet_sigma_FULLMODEL.h5\"\u001b[0m\u001b[0;34m)\u001b[0m\u001b[0;34m\u001b[0m\u001b[0m\n",
      "\u001b[0;32m/home/carnd/anaconda3/envs/carnd-term1/lib/python3.5/site-packages/keras/legacy/interfaces.py\u001b[0m in \u001b[0;36mwrapper\u001b[0;34m(*args, **kwargs)\u001b[0m\n\u001b[1;32m     85\u001b[0m                 warnings.warn('Update your `' + object_name +\n\u001b[1;32m     86\u001b[0m                               '` call to the Keras 2 API: ' + signature, stacklevel=2)\n\u001b[0;32m---> 87\u001b[0;31m             \u001b[0;32mreturn\u001b[0m \u001b[0mfunc\u001b[0m\u001b[0;34m(\u001b[0m\u001b[0;34m*\u001b[0m\u001b[0margs\u001b[0m\u001b[0;34m,\u001b[0m \u001b[0;34m**\u001b[0m\u001b[0mkwargs\u001b[0m\u001b[0;34m)\u001b[0m\u001b[0;34m\u001b[0m\u001b[0m\n\u001b[0m\u001b[1;32m     88\u001b[0m         \u001b[0mwrapper\u001b[0m\u001b[0;34m.\u001b[0m\u001b[0m_original_function\u001b[0m \u001b[0;34m=\u001b[0m \u001b[0mfunc\u001b[0m\u001b[0;34m\u001b[0m\u001b[0m\n\u001b[1;32m     89\u001b[0m         \u001b[0;32mreturn\u001b[0m \u001b[0mwrapper\u001b[0m\u001b[0;34m\u001b[0m\u001b[0m\n",
      "\u001b[0;32m/home/carnd/anaconda3/envs/carnd-term1/lib/python3.5/site-packages/keras/models.py\u001b[0m in \u001b[0;36mfit_generator\u001b[0;34m(self, generator, steps_per_epoch, epochs, verbose, callbacks, validation_data, validation_steps, class_weight, max_queue_size, workers, use_multiprocessing, initial_epoch)\u001b[0m\n\u001b[1;32m   1115\u001b[0m                                         \u001b[0mworkers\u001b[0m\u001b[0;34m=\u001b[0m\u001b[0mworkers\u001b[0m\u001b[0;34m,\u001b[0m\u001b[0;34m\u001b[0m\u001b[0m\n\u001b[1;32m   1116\u001b[0m                                         \u001b[0muse_multiprocessing\u001b[0m\u001b[0;34m=\u001b[0m\u001b[0muse_multiprocessing\u001b[0m\u001b[0;34m,\u001b[0m\u001b[0;34m\u001b[0m\u001b[0m\n\u001b[0;32m-> 1117\u001b[0;31m                                         initial_epoch=initial_epoch)\n\u001b[0m\u001b[1;32m   1118\u001b[0m \u001b[0;34m\u001b[0m\u001b[0m\n\u001b[1;32m   1119\u001b[0m     \u001b[0;34m@\u001b[0m\u001b[0minterfaces\u001b[0m\u001b[0;34m.\u001b[0m\u001b[0mlegacy_generator_methods_support\u001b[0m\u001b[0;34m\u001b[0m\u001b[0m\n",
      "\u001b[0;32m/home/carnd/anaconda3/envs/carnd-term1/lib/python3.5/site-packages/keras/legacy/interfaces.py\u001b[0m in \u001b[0;36mwrapper\u001b[0;34m(*args, **kwargs)\u001b[0m\n\u001b[1;32m     85\u001b[0m                 warnings.warn('Update your `' + object_name +\n\u001b[1;32m     86\u001b[0m                               '` call to the Keras 2 API: ' + signature, stacklevel=2)\n\u001b[0;32m---> 87\u001b[0;31m             \u001b[0;32mreturn\u001b[0m \u001b[0mfunc\u001b[0m\u001b[0;34m(\u001b[0m\u001b[0;34m*\u001b[0m\u001b[0margs\u001b[0m\u001b[0;34m,\u001b[0m \u001b[0;34m**\u001b[0m\u001b[0mkwargs\u001b[0m\u001b[0;34m)\u001b[0m\u001b[0;34m\u001b[0m\u001b[0m\n\u001b[0m\u001b[1;32m     88\u001b[0m         \u001b[0mwrapper\u001b[0m\u001b[0;34m.\u001b[0m\u001b[0m_original_function\u001b[0m \u001b[0;34m=\u001b[0m \u001b[0mfunc\u001b[0m\u001b[0;34m\u001b[0m\u001b[0m\n\u001b[1;32m     89\u001b[0m         \u001b[0;32mreturn\u001b[0m \u001b[0mwrapper\u001b[0m\u001b[0;34m\u001b[0m\u001b[0m\n",
      "\u001b[0;32m/home/carnd/anaconda3/envs/carnd-term1/lib/python3.5/site-packages/keras/engine/training.py\u001b[0m in \u001b[0;36mfit_generator\u001b[0;34m(self, generator, steps_per_epoch, epochs, verbose, callbacks, validation_data, validation_steps, class_weight, max_queue_size, workers, use_multiprocessing, initial_epoch)\u001b[0m\n\u001b[1;32m   1882\u001b[0m         \u001b[0;32mfinally\u001b[0m\u001b[0;34m:\u001b[0m\u001b[0;34m\u001b[0m\u001b[0m\n\u001b[1;32m   1883\u001b[0m             \u001b[0;32mif\u001b[0m \u001b[0menqueuer\u001b[0m \u001b[0;32mis\u001b[0m \u001b[0;32mnot\u001b[0m \u001b[0;32mNone\u001b[0m\u001b[0;34m:\u001b[0m\u001b[0;34m\u001b[0m\u001b[0m\n\u001b[0;32m-> 1884\u001b[0;31m                 \u001b[0menqueuer\u001b[0m\u001b[0;34m.\u001b[0m\u001b[0mstop\u001b[0m\u001b[0;34m(\u001b[0m\u001b[0;34m)\u001b[0m\u001b[0;34m\u001b[0m\u001b[0m\n\u001b[0m\u001b[1;32m   1885\u001b[0m \u001b[0;34m\u001b[0m\u001b[0m\n\u001b[1;32m   1886\u001b[0m         \u001b[0mcallbacks\u001b[0m\u001b[0;34m.\u001b[0m\u001b[0mon_train_end\u001b[0m\u001b[0;34m(\u001b[0m\u001b[0;34m)\u001b[0m\u001b[0;34m\u001b[0m\u001b[0m\n",
      "\u001b[0;32m/home/carnd/anaconda3/envs/carnd-term1/lib/python3.5/site-packages/keras/utils/data_utils.py\u001b[0m in \u001b[0;36mstop\u001b[0;34m(self, timeout)\u001b[0m\n\u001b[1;32m    610\u001b[0m                     \u001b[0mthread\u001b[0m\u001b[0;34m.\u001b[0m\u001b[0mterminate\u001b[0m\u001b[0;34m(\u001b[0m\u001b[0;34m)\u001b[0m\u001b[0;34m\u001b[0m\u001b[0m\n\u001b[1;32m    611\u001b[0m                 \u001b[0;32melse\u001b[0m\u001b[0;34m:\u001b[0m\u001b[0;34m\u001b[0m\u001b[0m\n\u001b[0;32m--> 612\u001b[0;31m                     \u001b[0mthread\u001b[0m\u001b[0;34m.\u001b[0m\u001b[0mjoin\u001b[0m\u001b[0;34m(\u001b[0m\u001b[0mtimeout\u001b[0m\u001b[0;34m)\u001b[0m\u001b[0;34m\u001b[0m\u001b[0m\n\u001b[0m\u001b[1;32m    613\u001b[0m \u001b[0;34m\u001b[0m\u001b[0m\n\u001b[1;32m    614\u001b[0m         \u001b[0;32mif\u001b[0m \u001b[0mself\u001b[0m\u001b[0;34m.\u001b[0m\u001b[0m_use_multiprocessing\u001b[0m\u001b[0;34m:\u001b[0m\u001b[0;34m\u001b[0m\u001b[0m\n",
      "\u001b[0;32m/home/carnd/anaconda3/envs/carnd-term1/lib/python3.5/threading.py\u001b[0m in \u001b[0;36mjoin\u001b[0;34m(self, timeout)\u001b[0m\n\u001b[1;32m   1052\u001b[0m \u001b[0;34m\u001b[0m\u001b[0m\n\u001b[1;32m   1053\u001b[0m         \u001b[0;32mif\u001b[0m \u001b[0mtimeout\u001b[0m \u001b[0;32mis\u001b[0m \u001b[0;32mNone\u001b[0m\u001b[0;34m:\u001b[0m\u001b[0;34m\u001b[0m\u001b[0m\n\u001b[0;32m-> 1054\u001b[0;31m             \u001b[0mself\u001b[0m\u001b[0;34m.\u001b[0m\u001b[0m_wait_for_tstate_lock\u001b[0m\u001b[0;34m(\u001b[0m\u001b[0;34m)\u001b[0m\u001b[0;34m\u001b[0m\u001b[0m\n\u001b[0m\u001b[1;32m   1055\u001b[0m         \u001b[0;32melse\u001b[0m\u001b[0;34m:\u001b[0m\u001b[0;34m\u001b[0m\u001b[0m\n\u001b[1;32m   1056\u001b[0m             \u001b[0;31m# the behavior of a negative timeout isn't documented, but\u001b[0m\u001b[0;34m\u001b[0m\u001b[0;34m\u001b[0m\u001b[0m\n",
      "\u001b[0;32m/home/carnd/anaconda3/envs/carnd-term1/lib/python3.5/threading.py\u001b[0m in \u001b[0;36m_wait_for_tstate_lock\u001b[0;34m(self, block, timeout)\u001b[0m\n\u001b[1;32m   1068\u001b[0m         \u001b[0;32mif\u001b[0m \u001b[0mlock\u001b[0m \u001b[0;32mis\u001b[0m \u001b[0;32mNone\u001b[0m\u001b[0;34m:\u001b[0m  \u001b[0;31m# already determined that the C code is done\u001b[0m\u001b[0;34m\u001b[0m\u001b[0m\n\u001b[1;32m   1069\u001b[0m             \u001b[0;32massert\u001b[0m \u001b[0mself\u001b[0m\u001b[0;34m.\u001b[0m\u001b[0m_is_stopped\u001b[0m\u001b[0;34m\u001b[0m\u001b[0m\n\u001b[0;32m-> 1070\u001b[0;31m         \u001b[0;32melif\u001b[0m \u001b[0mlock\u001b[0m\u001b[0;34m.\u001b[0m\u001b[0macquire\u001b[0m\u001b[0;34m(\u001b[0m\u001b[0mblock\u001b[0m\u001b[0;34m,\u001b[0m \u001b[0mtimeout\u001b[0m\u001b[0;34m)\u001b[0m\u001b[0;34m:\u001b[0m\u001b[0;34m\u001b[0m\u001b[0m\n\u001b[0m\u001b[1;32m   1071\u001b[0m             \u001b[0mlock\u001b[0m\u001b[0;34m.\u001b[0m\u001b[0mrelease\u001b[0m\u001b[0;34m(\u001b[0m\u001b[0;34m)\u001b[0m\u001b[0;34m\u001b[0m\u001b[0m\n\u001b[1;32m   1072\u001b[0m             \u001b[0mself\u001b[0m\u001b[0;34m.\u001b[0m\u001b[0m_stop\u001b[0m\u001b[0;34m(\u001b[0m\u001b[0;34m)\u001b[0m\u001b[0;34m\u001b[0m\u001b[0m\n",
      "\u001b[0;31mKeyboardInterrupt\u001b[0m: "
     ]
    }
   ],
   "source": [
    "for i in range(150000000):\n",
    "    history = covnet_sigma.fit_generator(sigma_train_gen, steps_per_epoch = 10, epochs = 1)\n",
    "    histories_covnet_sigma.append(history.history)\n",
    "    predictions_covnet_sigma.append(covnet_sigma.predict(test_set_pred))\n",
    "    covnet_sigma.save(\"covnet_sigma_FULLMODEL.h5\")\n",
    "    \n",
    "    if (i%10 == 0):\n",
    "        np.save(\"histories_covnet_sigma.npy\", histories_covnet_sigma)\n",
    "        np.save(\"predictions_covnet_sigma.npy\", predictions_covnet_sigma)\n",
    "\n",
    "        !git add --all\n",
    "        !git commit -am \"Model trained\"\n",
    "        !git push --quiet"
   ]
  },
  {
   "cell_type": "markdown",
   "metadata": {},
   "source": [
    "# Convnet Single Output Prediction - Jump Mu"
   ]
  },
  {
   "cell_type": "code",
   "execution_count": 35,
   "metadata": {
    "collapsed": true
   },
   "outputs": [],
   "source": [
    "covnet_jump_mu = load_model(\"./Models/covnet_jump_mu.h5\", custom_objects={\"r2\":r2})#covnet_single_ReLUs_6_layers()"
   ]
  },
  {
   "cell_type": "code",
   "execution_count": 36,
   "metadata": {
    "collapsed": true
   },
   "outputs": [],
   "source": [
    "def jump_mu_batch_generator(all_time = 2000, paramset_size = 32, paths_p_paramset = 5):\n",
    "    while True:\n",
    "        RETURNS_ = []\n",
    "        PARAMS_ = []\n",
    "        \n",
    "        for i in range(paramset_size):\n",
    "            mp = random_model_params()\n",
    "            mp.all_time = all_time\n",
    "            \n",
    "            for j in range(paths_p_paramset):\n",
    "                PARAMS_.append(mp)\n",
    "                RETURNS_.append(geometric_brownian_motion_jump_diffusion_log_returns(mp))\n",
    "        \n",
    "        train_data = np.reshape(np.array(RETURNS_), (paramset_size*paths_p_paramset, 40, 50, 1))\n",
    "        \n",
    "        jumps_mus = np.array([[mp.jumps_mu] for mp in PARAMS_])\n",
    "        \n",
    "        yield train_data, jumps_mus\n",
    "\n",
    "jump_mu_train_gen = jump_mu_batch_generator(paramset_size=1750, paths_p_paramset=1)"
   ]
  },
  {
   "cell_type": "code",
   "execution_count": null,
   "metadata": {
    "collapsed": true
   },
   "outputs": [],
   "source": [
    "test_set_pred = standard_convolutional_test_set()"
   ]
  },
  {
   "cell_type": "code",
   "execution_count": null,
   "metadata": {
    "collapsed": true
   },
   "outputs": [],
   "source": [
    "covnet_jump_mu = load_model(H5_DIR_COVNET_JUMP_MU+\"_FULLMODEL.h5\", custom_objects={\"r2\":r2})"
   ]
  },
  {
   "cell_type": "code",
   "execution_count": 37,
   "metadata": {
    "collapsed": true
   },
   "outputs": [],
   "source": [
    "histories_covnet_jump_mu = np.load(\"histories_covnet_jump_mu.npy\").tolist()\n",
    "predictions_covnet_jump_mu = np.load(\"predictions_covnet_jump_mu.npy\").tolist()"
   ]
  },
  {
   "cell_type": "code",
   "execution_count": null,
   "metadata": {
    "collapsed": true
   },
   "outputs": [],
   "source": [
    "covnet_jump_mu.save(\"./Models/covnet_jump_mu.h5\")"
   ]
  },
  {
   "cell_type": "code",
   "execution_count": 38,
   "metadata": {},
   "outputs": [
    {
     "name": "stdout",
     "output_type": "stream",
     "text": [
      "Epoch 1/1\n",
      "10/10 [==============================] - 172s - loss: 0.0031 - mean_absolute_percentage_error: 56.5280 - r2: 0.9636    \n",
      "[master 0ebbe03] Model trained\n",
      " 5 files changed, 78 insertions(+), 13 deletions(-)\n",
      " rewrite Source_Code/histories_covnet_jump_mu.npy (85%)\n",
      "warning: push.default is unset; its implicit value has changed in\n",
      "Git 2.0 from 'matching' to 'simple'. To squelch this message\n",
      "and maintain the traditional behavior, use:\n",
      "\n",
      "  git config --global push.default matching\n",
      "\n",
      "To squelch this message and adopt the new behavior now, use:\n",
      "\n",
      "  git config --global push.default simple\n",
      "\n",
      "When push.default is set to 'matching', git will push local branches\n",
      "to the remote branches that already exist with the same name.\n",
      "\n",
      "Since Git 2.0, Git defaults to the more conservative 'simple'\n",
      "behavior, which only pushes the current branch to the corresponding\n",
      "remote branch that 'git pull' uses to update the current branch.\n",
      "\n",
      "See 'git help config' and search for 'push.default' for further information.\n",
      "(the 'simple' mode was introduced in Git 1.7.11. Use the similar mode\n",
      "'current' instead of 'simple' if you sometimes use older versions of Git)\n",
      "\n",
      "Epoch 1/1\n",
      "10/10 [==============================] - 172s - loss: 0.0031 - mean_absolute_percentage_error: 81.1408 - r2: 0.9638    \n",
      "Epoch 1/1\n",
      "10/10 [==============================] - 172s - loss: 0.0032 - mean_absolute_percentage_error: 61.9278 - r2: 0.9622    \n",
      "Epoch 1/1\n",
      "10/10 [==============================] - 174s - loss: 0.0029 - mean_absolute_percentage_error: 64.6069 - r2: 0.9648    \n",
      "Epoch 1/1\n",
      "10/10 [==============================] - 172s - loss: 0.0033 - mean_absolute_percentage_error: 50.2714 - r2: 0.9603    \n",
      "Epoch 1/1\n",
      "10/10 [==============================] - 173s - loss: 0.0030 - mean_absolute_percentage_error: 69.5316 - r2: 0.9638    \n",
      "Epoch 1/1\n",
      "10/10 [==============================] - 172s - loss: 0.0030 - mean_absolute_percentage_error: 64.4599 - r2: 0.9634    \n",
      "Epoch 1/1\n",
      " 2/10 [=====>........................] - ETA: 140s - loss: 0.0030 - mean_absolute_percentage_error: 52.5638 - r2: 0.9634"
     ]
    },
    {
     "ename": "KeyboardInterrupt",
     "evalue": "",
     "output_type": "error",
     "traceback": [
      "\u001b[0;31m---------------------------------------------------------------------------\u001b[0m",
      "\u001b[0;31mKeyboardInterrupt\u001b[0m                         Traceback (most recent call last)",
      "\u001b[0;32m<ipython-input-38-8bf3355a5f66>\u001b[0m in \u001b[0;36m<module>\u001b[0;34m()\u001b[0m\n\u001b[1;32m      1\u001b[0m \u001b[0;32mfor\u001b[0m \u001b[0mi\u001b[0m \u001b[0;32min\u001b[0m \u001b[0mrange\u001b[0m\u001b[0;34m(\u001b[0m\u001b[0;36m150000000\u001b[0m\u001b[0;34m)\u001b[0m\u001b[0;34m:\u001b[0m\u001b[0;34m\u001b[0m\u001b[0m\n\u001b[0;32m----> 2\u001b[0;31m     \u001b[0mhistory\u001b[0m \u001b[0;34m=\u001b[0m \u001b[0mcovnet_jump_mu\u001b[0m\u001b[0;34m.\u001b[0m\u001b[0mfit_generator\u001b[0m\u001b[0;34m(\u001b[0m\u001b[0mjump_mu_train_gen\u001b[0m\u001b[0;34m,\u001b[0m \u001b[0msteps_per_epoch\u001b[0m \u001b[0;34m=\u001b[0m \u001b[0;36m10\u001b[0m\u001b[0;34m,\u001b[0m \u001b[0mepochs\u001b[0m \u001b[0;34m=\u001b[0m \u001b[0;36m1\u001b[0m\u001b[0;34m)\u001b[0m\u001b[0;34m\u001b[0m\u001b[0m\n\u001b[0m\u001b[1;32m      3\u001b[0m     \u001b[0mhistories_covnet_jump_mu\u001b[0m\u001b[0;34m.\u001b[0m\u001b[0mappend\u001b[0m\u001b[0;34m(\u001b[0m\u001b[0mhistory\u001b[0m\u001b[0;34m.\u001b[0m\u001b[0mhistory\u001b[0m\u001b[0;34m)\u001b[0m\u001b[0;34m\u001b[0m\u001b[0m\n\u001b[1;32m      4\u001b[0m     \u001b[0mpredictions_covnet_jump_mu\u001b[0m\u001b[0;34m.\u001b[0m\u001b[0mappend\u001b[0m\u001b[0;34m(\u001b[0m\u001b[0mcovnet_jump_mu\u001b[0m\u001b[0;34m.\u001b[0m\u001b[0mpredict\u001b[0m\u001b[0;34m(\u001b[0m\u001b[0mtest_set_pred\u001b[0m\u001b[0;34m)\u001b[0m\u001b[0;34m)\u001b[0m\u001b[0;34m\u001b[0m\u001b[0m\n\u001b[1;32m      5\u001b[0m     \u001b[0mcovnet_jump_mu\u001b[0m\u001b[0;34m.\u001b[0m\u001b[0msave\u001b[0m\u001b[0;34m(\u001b[0m\u001b[0;34m\"./Models/covnet_jump_mu.h5\"\u001b[0m\u001b[0;34m)\u001b[0m\u001b[0;34m\u001b[0m\u001b[0m\n",
      "\u001b[0;32m/home/carnd/anaconda3/envs/carnd-term1/lib/python3.5/site-packages/keras/legacy/interfaces.py\u001b[0m in \u001b[0;36mwrapper\u001b[0;34m(*args, **kwargs)\u001b[0m\n\u001b[1;32m     85\u001b[0m                 warnings.warn('Update your `' + object_name +\n\u001b[1;32m     86\u001b[0m                               '` call to the Keras 2 API: ' + signature, stacklevel=2)\n\u001b[0;32m---> 87\u001b[0;31m             \u001b[0;32mreturn\u001b[0m \u001b[0mfunc\u001b[0m\u001b[0;34m(\u001b[0m\u001b[0;34m*\u001b[0m\u001b[0margs\u001b[0m\u001b[0;34m,\u001b[0m \u001b[0;34m**\u001b[0m\u001b[0mkwargs\u001b[0m\u001b[0;34m)\u001b[0m\u001b[0;34m\u001b[0m\u001b[0m\n\u001b[0m\u001b[1;32m     88\u001b[0m         \u001b[0mwrapper\u001b[0m\u001b[0;34m.\u001b[0m\u001b[0m_original_function\u001b[0m \u001b[0;34m=\u001b[0m \u001b[0mfunc\u001b[0m\u001b[0;34m\u001b[0m\u001b[0m\n\u001b[1;32m     89\u001b[0m         \u001b[0;32mreturn\u001b[0m \u001b[0mwrapper\u001b[0m\u001b[0;34m\u001b[0m\u001b[0m\n",
      "\u001b[0;32m/home/carnd/anaconda3/envs/carnd-term1/lib/python3.5/site-packages/keras/models.py\u001b[0m in \u001b[0;36mfit_generator\u001b[0;34m(self, generator, steps_per_epoch, epochs, verbose, callbacks, validation_data, validation_steps, class_weight, max_queue_size, workers, use_multiprocessing, initial_epoch)\u001b[0m\n\u001b[1;32m   1115\u001b[0m                                         \u001b[0mworkers\u001b[0m\u001b[0;34m=\u001b[0m\u001b[0mworkers\u001b[0m\u001b[0;34m,\u001b[0m\u001b[0;34m\u001b[0m\u001b[0m\n\u001b[1;32m   1116\u001b[0m                                         \u001b[0muse_multiprocessing\u001b[0m\u001b[0;34m=\u001b[0m\u001b[0muse_multiprocessing\u001b[0m\u001b[0;34m,\u001b[0m\u001b[0;34m\u001b[0m\u001b[0m\n\u001b[0;32m-> 1117\u001b[0;31m                                         initial_epoch=initial_epoch)\n\u001b[0m\u001b[1;32m   1118\u001b[0m \u001b[0;34m\u001b[0m\u001b[0m\n\u001b[1;32m   1119\u001b[0m     \u001b[0;34m@\u001b[0m\u001b[0minterfaces\u001b[0m\u001b[0;34m.\u001b[0m\u001b[0mlegacy_generator_methods_support\u001b[0m\u001b[0;34m\u001b[0m\u001b[0m\n",
      "\u001b[0;32m/home/carnd/anaconda3/envs/carnd-term1/lib/python3.5/site-packages/keras/legacy/interfaces.py\u001b[0m in \u001b[0;36mwrapper\u001b[0;34m(*args, **kwargs)\u001b[0m\n\u001b[1;32m     85\u001b[0m                 warnings.warn('Update your `' + object_name +\n\u001b[1;32m     86\u001b[0m                               '` call to the Keras 2 API: ' + signature, stacklevel=2)\n\u001b[0;32m---> 87\u001b[0;31m             \u001b[0;32mreturn\u001b[0m \u001b[0mfunc\u001b[0m\u001b[0;34m(\u001b[0m\u001b[0;34m*\u001b[0m\u001b[0margs\u001b[0m\u001b[0;34m,\u001b[0m \u001b[0;34m**\u001b[0m\u001b[0mkwargs\u001b[0m\u001b[0;34m)\u001b[0m\u001b[0;34m\u001b[0m\u001b[0m\n\u001b[0m\u001b[1;32m     88\u001b[0m         \u001b[0mwrapper\u001b[0m\u001b[0;34m.\u001b[0m\u001b[0m_original_function\u001b[0m \u001b[0;34m=\u001b[0m \u001b[0mfunc\u001b[0m\u001b[0;34m\u001b[0m\u001b[0m\n\u001b[1;32m     89\u001b[0m         \u001b[0;32mreturn\u001b[0m \u001b[0mwrapper\u001b[0m\u001b[0;34m\u001b[0m\u001b[0m\n",
      "\u001b[0;32m/home/carnd/anaconda3/envs/carnd-term1/lib/python3.5/site-packages/keras/engine/training.py\u001b[0m in \u001b[0;36mfit_generator\u001b[0;34m(self, generator, steps_per_epoch, epochs, verbose, callbacks, validation_data, validation_steps, class_weight, max_queue_size, workers, use_multiprocessing, initial_epoch)\u001b[0m\n\u001b[1;32m   1807\u001b[0m                 \u001b[0mbatch_index\u001b[0m \u001b[0;34m=\u001b[0m \u001b[0;36m0\u001b[0m\u001b[0;34m\u001b[0m\u001b[0m\n\u001b[1;32m   1808\u001b[0m                 \u001b[0;32mwhile\u001b[0m \u001b[0msteps_done\u001b[0m \u001b[0;34m<\u001b[0m \u001b[0msteps_per_epoch\u001b[0m\u001b[0;34m:\u001b[0m\u001b[0;34m\u001b[0m\u001b[0m\n\u001b[0;32m-> 1809\u001b[0;31m                     \u001b[0mgenerator_output\u001b[0m \u001b[0;34m=\u001b[0m \u001b[0mnext\u001b[0m\u001b[0;34m(\u001b[0m\u001b[0moutput_generator\u001b[0m\u001b[0;34m)\u001b[0m\u001b[0;34m\u001b[0m\u001b[0m\n\u001b[0m\u001b[1;32m   1810\u001b[0m \u001b[0;34m\u001b[0m\u001b[0m\n\u001b[1;32m   1811\u001b[0m                     \u001b[0;32mif\u001b[0m \u001b[0;32mnot\u001b[0m \u001b[0mhasattr\u001b[0m\u001b[0;34m(\u001b[0m\u001b[0mgenerator_output\u001b[0m\u001b[0;34m,\u001b[0m \u001b[0;34m'__len__'\u001b[0m\u001b[0;34m)\u001b[0m\u001b[0;34m:\u001b[0m\u001b[0;34m\u001b[0m\u001b[0m\n",
      "\u001b[0;32m/home/carnd/anaconda3/envs/carnd-term1/lib/python3.5/site-packages/keras/utils/data_utils.py\u001b[0m in \u001b[0;36mget\u001b[0;34m(self)\u001b[0m\n\u001b[1;32m    634\u001b[0m                     \u001b[0;32myield\u001b[0m \u001b[0minputs\u001b[0m\u001b[0;34m\u001b[0m\u001b[0m\n\u001b[1;32m    635\u001b[0m             \u001b[0;32melse\u001b[0m\u001b[0;34m:\u001b[0m\u001b[0;34m\u001b[0m\u001b[0m\n\u001b[0;32m--> 636\u001b[0;31m                 \u001b[0mtime\u001b[0m\u001b[0;34m.\u001b[0m\u001b[0msleep\u001b[0m\u001b[0;34m(\u001b[0m\u001b[0mself\u001b[0m\u001b[0;34m.\u001b[0m\u001b[0mwait_time\u001b[0m\u001b[0;34m)\u001b[0m\u001b[0;34m\u001b[0m\u001b[0m\n\u001b[0m",
      "\u001b[0;31mKeyboardInterrupt\u001b[0m: "
     ]
    }
   ],
   "source": [
    "for i in range(150000000):\n",
    "    history = covnet_jump_mu.fit_generator(jump_mu_train_gen, steps_per_epoch = 10, epochs = 1)\n",
    "    histories_covnet_jump_mu.append(history.history)\n",
    "    predictions_covnet_jump_mu.append(covnet_jump_mu.predict(test_set_pred))\n",
    "    covnet_jump_mu.save(\"./Models/covnet_jump_mu.h5\")\n",
    "    \n",
    "    if (i%10 == 0):\n",
    "        np.save(\"histories_covnet_jump_mu.npy\", histories_covnet_jump_mu)\n",
    "        np.save(\"predictions_covnet_jump_mu.npy\", predictions_covnet_jump_mu)\n",
    "\n",
    "        !git add --all\n",
    "        !git commit -am \"Model trained\"\n",
    "        !git push --quiet"
   ]
  },
  {
   "cell_type": "markdown",
   "metadata": {},
   "source": [
    "# Convnet Single Output Prediction - Jump Sigma"
   ]
  },
  {
   "cell_type": "code",
   "execution_count": 9,
   "metadata": {},
   "outputs": [
    {
     "ename": "NameError",
     "evalue": "name 'covnet_jump_sigma' is not defined",
     "output_type": "error",
     "traceback": [
      "\u001b[0;31m---------------------------------------------------------------------------\u001b[0m",
      "\u001b[0;31mNameError\u001b[0m                                 Traceback (most recent call last)",
      "\u001b[0;32m<ipython-input-9-7f003b169ad7>\u001b[0m in \u001b[0;36m<module>\u001b[0;34m()\u001b[0m\n\u001b[1;32m     12\u001b[0m     \u001b[0;32mreturn\u001b[0m \u001b[0;36m1\u001b[0m\u001b[0;34m-\u001b[0m\u001b[0mSSE\u001b[0m\u001b[0;34m/\u001b[0m\u001b[0mSST\u001b[0m\u001b[0;34m\u001b[0m\u001b[0m\n\u001b[1;32m     13\u001b[0m \u001b[0;34m\u001b[0m\u001b[0m\n\u001b[0;32m---> 14\u001b[0;31m \u001b[0mcovnet_jump_sigma\u001b[0m\u001b[0;34m.\u001b[0m\u001b[0mcompile\u001b[0m\u001b[0;34m(\u001b[0m\u001b[0;34m'adam'\u001b[0m\u001b[0;34m,\u001b[0m \u001b[0;34m'mean_squared_error'\u001b[0m\u001b[0;34m,\u001b[0m \u001b[0mmetrics\u001b[0m\u001b[0;34m=\u001b[0m\u001b[0;34m[\u001b[0m\u001b[0;34m'mean_absolute_percentage_error'\u001b[0m\u001b[0;34m,\u001b[0m \u001b[0mr2\u001b[0m\u001b[0;34m]\u001b[0m\u001b[0;34m)\u001b[0m\u001b[0;34m\u001b[0m\u001b[0m\n\u001b[0m",
      "\u001b[0;31mNameError\u001b[0m: name 'covnet_jump_sigma' is not defined"
     ]
    }
   ],
   "source": [
    "def r2(y_true, y_pred):\n",
    "    \"\"\"\n",
    "    returns the correlation coefficient of y_pred against y_true.\n",
    "\n",
    "    :param y_true: the true values (independent variable)\n",
    "    :param y_pred: the predicted values (dependent variable)\n",
    "    \"\"\"\n",
    "    \n",
    "    SSE = K.sum(K.square(y_true-y_pred))\n",
    "    SST = K.sum(K.square(y_true-K.mean(y_true)))\n",
    "    \n",
    "    return 1-SSE/SST\n",
    "\n",
    "covnet_jump_sigma.compile('adam', 'mean_squared_error', metrics=['mean_absolute_percentage_error', r2])"
   ]
  },
  {
   "cell_type": "code",
   "execution_count": 43,
   "metadata": {
    "collapsed": true
   },
   "outputs": [],
   "source": [
    "covnet_jump_sigma.compile('adam', 'mean_squared_error', metrics=['mean_absolute_percentage_error', r2])"
   ]
  },
  {
   "cell_type": "code",
   "execution_count": null,
   "metadata": {
    "collapsed": true
   },
   "outputs": [],
   "source": [
    "keras.__version__"
   ]
  },
  {
   "cell_type": "code",
   "execution_count": 39,
   "metadata": {
    "collapsed": true
   },
   "outputs": [],
   "source": [
    "covnet_jump_sigma = load_model(\"./Models/covnet_jump_sigma.h5\", custom_objects={\"r2\":r2})#covnet_single_ReLUs_6_layers()\n",
    "#covnet_jump_sigma.load_weights(H5_DIR_COVNET_JUMP_SIGMA)"
   ]
  },
  {
   "cell_type": "code",
   "execution_count": 40,
   "metadata": {
    "collapsed": true
   },
   "outputs": [],
   "source": [
    "def jump_sigma_batch_generator(all_time = 2000, paramset_size = 32, paths_p_paramset = 5):\n",
    "    while True:\n",
    "        RETURNS_ = []\n",
    "        PARAMS_ = []\n",
    "        \n",
    "        for i in range(paramset_size):\n",
    "            mp = random_model_params()\n",
    "            mp.all_time = all_time\n",
    "            \n",
    "            for j in range(paths_p_paramset):\n",
    "                PARAMS_.append(mp)\n",
    "                RETURNS_.append(geometric_brownian_motion_jump_diffusion_log_returns(mp))\n",
    "        \n",
    "        train_data = np.reshape(np.array(RETURNS_), (paramset_size*paths_p_paramset, 40, 50, 1))\n",
    "        \n",
    "        jumps_sigmas = np.array([[mp.jumps_sigma] for mp in PARAMS_])\n",
    "        \n",
    "        yield train_data, jumps_sigmas\n",
    "\n",
    "jump_sigma_train_gen = jump_sigma_batch_generator(paramset_size=1750, paths_p_paramset=1)"
   ]
  },
  {
   "cell_type": "code",
   "execution_count": null,
   "metadata": {
    "collapsed": true
   },
   "outputs": [],
   "source": [
    "test_set_pred = standard_convolutional_test_set()"
   ]
  },
  {
   "cell_type": "code",
   "execution_count": 41,
   "metadata": {
    "collapsed": true
   },
   "outputs": [],
   "source": [
    "histories_covnet_jump_sigma = np.load(\"histories_covnet_jump_sigma.npy\").tolist()\n",
    "predictions_covnet_jump_sigma = np.load(\"predictions_covnet_jump_sigma.npy\").tolist()\n",
    "    \n",
    "#histories_covnet_jump_sigma = []\n",
    "#predictions_covnet_jump_sigma = []"
   ]
  },
  {
   "cell_type": "code",
   "execution_count": null,
   "metadata": {
    "collapsed": true
   },
   "outputs": [],
   "source": [
    "covnet_jump_sigma.save(\"./Models/covnet_jump_sigma.h5\")"
   ]
  },
  {
   "cell_type": "code",
   "execution_count": null,
   "metadata": {
    "scrolled": true
   },
   "outputs": [
    {
     "name": "stdout",
     "output_type": "stream",
     "text": [
      "Epoch 1/3\n",
      "3/3 [==============================] - 52s - loss: 7.3159e-04 - mean_absolute_percentage_error: 53.4050 - r2: 0.7824     \n",
      "Epoch 2/3\n",
      "3/3 [==============================] - 51s - loss: 6.6728e-04 - mean_absolute_percentage_error: 55.9392 - r2: 0.8002     \n",
      "Epoch 3/3\n"
     ]
    }
   ],
   "source": [
    "for i in range(100000):\n",
    "    \n",
    "    history = covnet_jump_sigma.fit_generator(jump_sigma_train_gen, steps_per_epoch = 3, epochs = 3)\n",
    "    histories_covnet_jump_sigma.append(history.history)\n",
    "    predictions_covnet_jump_sigma.append(covnet_jump_sigma.predict(test_set_pred))\n",
    "    covnet_jump_sigma.save(\"./Models/covnet_jump_sigma.h5\")\n",
    "    \n",
    "    np.save(\"histories_covnet_jump_sigma.npy\", histories_covnet_jump_sigma)\n",
    "    np.save(\"predictions_covnet_jump_sigma.npy\", predictions_covnet_jump_sigma)\n",
    "    \n",
    "    if i % 5 == 0:\n",
    "        !cd ..\n",
    "        !git config --global user.email \"rwmmostert@gmail.com\"\n",
    "        !git config --global user.name \"RWMostert\"\n",
    "        !git add --all\n",
    "        !git commit -am \"updated history, predictions and model\"\n",
    "        !git push -u origin master --quiet"
   ]
  },
  {
   "cell_type": "markdown",
   "metadata": {},
   "source": [
    "# Ensembling Network"
   ]
  },
  {
   "cell_type": "code",
   "execution_count": null,
   "metadata": {
    "collapsed": true
   },
   "outputs": [],
   "source": [
    "ff_ensembling = Sequential()\n",
    "ff_ensembling.add(Dense(128, input_dim = 8, activation='relu'))\n",
    "ff_ensembling.add(Dense(256, activation='relu'))\n",
    "ff_ensembling.add(Dense(128, activation='relu'))\n",
    "ff_ensembling.add(Dense(64, activation='relu'))\n",
    "ff_ensembling.add(Dense(32, activation='relu'))\n",
    "ff_ensembling.add(Dense(5))\n",
    "\n",
    "ff_ensembling.compile('adam', 'mean_squared_error', metrics=['mean_absolute_percentage_error', r2])"
   ]
  },
  {
   "cell_type": "code",
   "execution_count": null,
   "metadata": {
    "collapsed": true
   },
   "outputs": [],
   "source": [
    "all_time = 2000\n",
    "paramset_size = 1\n",
    "paths_p_paramset = 1\n",
    "\n",
    "RETURNS_ = []\n",
    "PARAMS_ = []\n",
    "        \n",
    "for i in range(paramset_size):\n",
    "    mp = random_model_params()\n",
    "    mp.all_time = all_time\n",
    "            \n",
    "    for j in range(paths_p_paramset):\n",
    "        PARAMS_.append([mp.all_sigma, mp.gbm_mu, mp.jumps_sigma, mp.jumps_mu, mp.lamda])\n",
    "        RETURNS_.append(geometric_brownian_motion_jump_diffusion_log_returns(mp))\n",
    "        \n",
    "train_data = np.reshape(np.array(RETURNS_), (paramset_size*paths_p_paramset, 40, 50, 1))\n",
    "                \n",
    "predictions = []\n",
    "for return_set in train_data:\n",
    "    output1 = covnet_mo.predict(np.array([return_set]))\n",
    "    output2 = covnet_lambda.predict(np.array([return_set]))\n",
    "    output3 = covnet_jump_mu.predict(np.array([return_set]))\n",
    "    output4 = covnet_jump_sigma.predict(np.array([return_set]))\n",
    "    for output in output1:\n",
    "        predictions.append(output[0][0])\n",
    "    predictions.append(output2[0][0])\n",
    "    predictions.append(output3[0][0])\n",
    "    predictions.append(output4[0][0])\n",
    "        \n",
    "print(predictions)\n",
    "        \n",
    "print(PARAMS_)"
   ]
  },
  {
   "cell_type": "code",
   "execution_count": null,
   "metadata": {
    "collapsed": true
   },
   "outputs": [],
   "source": [
    "def ensemble_batch_generator(all_time = 2000, paramset_size = 32, paths_p_paramset = 5):\n",
    "    while True:\n",
    "        RETURNS_ = []\n",
    "        PARAMS_ = []\n",
    "        \n",
    "        for i in range(paramset_size):\n",
    "            mp = random_model_params()\n",
    "            mp.all_time = all_time\n",
    "            \n",
    "            for j in range(paths_p_paramset):\n",
    "                PARAMS_.append([mp.all_sigma, mp.gbm_mu, mp.jumps_sigma, mp.jumps_mu, mp.lamda])\n",
    "                RETURNS_.append(geometric_brownian_motion_jump_diffusion_log_returns(mp))\n",
    "        \n",
    "        train_data = np.reshape(np.array(RETURNS_), (paramset_size*paths_p_paramset, 40, 50, 1))\n",
    "                \n",
    "        predictionset = []\n",
    "        for return_set in train_data:\n",
    "            prediction = []\n",
    "            output1 = covnet_mo.predict(np.array([return_set]))\n",
    "            output2 = covnet_lambda.predict(np.array([return_set]))\n",
    "            output3 = covnet_jump_mu.predict(np.array([return_set]))\n",
    "            output4 = covnet_jump_sigma.predict(np.array([return_set]))\n",
    "            for output in output1:\n",
    "                prediction.append(output[0][0])\n",
    "            prediction.append(output2[0][0])\n",
    "            prediction.append(output3[0][0])\n",
    "            prediction.append(output4[0][0])\n",
    "            predictionset.append(prediction)\n",
    "        \n",
    "        \n",
    "        yield np.array(predictionset), np.array(PARAMS_)\n",
    "\n",
    "ensemble_batch_gen = ensemble_batch_generator(paramset_size=10, paths_p_paramset=5)"
   ]
  },
  {
   "cell_type": "code",
   "execution_count": null,
   "metadata": {
    "collapsed": true
   },
   "outputs": [],
   "source": [
    "ff_ensembling.load_weights(H5_DIR_ENSEMBLING)"
   ]
  },
  {
   "cell_type": "code",
   "execution_count": null,
   "metadata": {
    "collapsed": true
   },
   "outputs": [],
   "source": [
    "\n",
    "\n",
    "for i in range(150):\n",
    "    ff_ensembling.fit_generator(ensemble_batch_gen, steps_per_epoch = 10, epochs = 1)\n",
    "    ff_ensembling.save_weights(H5_DIR_ENSEMBLING)"
   ]
  },
  {
   "cell_type": "markdown",
   "metadata": {},
   "source": [
    "# Sensitivity Tests"
   ]
  },
  {
   "cell_type": "markdown",
   "metadata": {},
   "source": [
    "### Sensitivity Test: Mu"
   ]
  },
  {
   "cell_type": "code",
   "execution_count": null,
   "metadata": {
    "collapsed": true
   },
   "outputs": [],
   "source": [
    "mu_s = []\n",
    "preds_MEAN = []\n",
    "preds_Lower_16 = []\n",
    "preds_Upper_84 = []\n",
    "\n",
    "\n",
    "preds_SO_MEAN = []\n",
    "preds_SO_Upper_84 = []\n",
    "preds_SO_Lower_16 = []"
   ]
  },
  {
   "cell_type": "code",
   "execution_count": null,
   "metadata": {
    "collapsed": true
   },
   "outputs": [],
   "source": [
    "for j in range(100):\n",
    "    mp = test_set_model_params()\n",
    "    mp.gbm_mu = -1 + float(j)/50\n",
    "    test_set = []\n",
    "    \n",
    "    print(j)\n",
    "    \n",
    "    print(\"GENERATION...\")\n",
    "    test_set_pred = standard_convolutional_test_set(mp=mp)\n",
    "    \n",
    "    \n",
    "    print(\"PREDICTION...\\n\")\n",
    "    predictions_lambda = covnet_lambda.predict(test_set_pred)\n",
    "    predictions_jump_mu = covnet_jump_mu.predict(test_set_pred)\n",
    "    predictions_jump_sigma = covnet_jump_sigma.predict(test_set_pred)\n",
    "    predictions_sigma = covnet_sigma.predict(test_set_pred)\n",
    "    predictions_mu = covnet_mu.predict(test_set_pred)\n",
    "    \n",
    "    predictions_so = [predictions_sigma, predictions_mu, predictions_jump_sigma, predictions_jump_mu, predictions_lambda]\n",
    "    \n",
    "    preds_SO_MEAN.append(np.mean(predictions_so, axis = 1))\n",
    "    preds_SO_Upper_84.append(np.percentile(predictions_so, 84, axis = 1))\n",
    "    preds_SO_Lower_16.append(np.percentile(predictions_so, 16, axis = 1))\n",
    "    \n",
    "    mu_s.append(mp.gbm_mu)\n",
    "    \n",
    "    predictions_elu = covnet_mo_elu.predict(test_set_pred)\n",
    "    \n",
    "    preds_MEAN.append(np.mean(predictions_elu, axis = 1))\n",
    "    preds_Upper_84.append(np.percentile(predictions_elu, 84, axis = 1))\n",
    "    preds_Lower_16.append(np.percentile(predictions_elu, 16, axis = 1))\n",
    "    \n",
    "    print(np.transpose(np.mean(predictions_so, axis = 1)))\n",
    "    print(\"   sigma,       mu,      jump_sigma,   jump_mu,    lambda\")\n",
    "    print(\"    0.1         \"+str(mp.gbm_mu)+\"     0.07              0.05       0.02\")\n",
    "    print(np.transpose(np.mean(predictions_elu, axis = 1)))\n",
    "    \n",
    "np.save(\"./Sensitivity-Test-Results/Sensitivity_Test-covnet_SO-Mu_preds_Upper_84.npy\", preds_SO_Upper_84)\n",
    "np.save(\"./Sensitivity-Test-Results/Sensitivity_Test-covnet_SO-Mu_preds_Lower_16.npy\", preds_SO_Lower_16)\n",
    "np.save(\"./Sensitivity-Test-Results/Sensitivity_Test-covnet_SO-Mu_preds_MEAN.npy\", preds_SO_MEAN)\n",
    "    \n",
    "np.save(\"./Sensitivity-Test-Results/Sensitivity_Test-covnet_MultipleO-Mu_preds_Upper_84.npy\", preds_Upper_84)\n",
    "np.save(\"./Sensitivity-Test-Results/Sensitivity_Test-covnet_MultipleO-Mu_preds_Lower_16.npy\", preds_Lower_16)\n",
    "np.save(\"./Sensitivity-Test-Results/Sensitivity_Test-covnet_MultipleO-Mu_preds_MEAN.npy\", preds_MEAN)\n",
    "    \n",
    "np.save(\"./Sensitivity-Test-Results/Sensitivity_Test-covnet_lambda_Mu_mu_s.npy\", mu_s)"
   ]
  },
  {
   "cell_type": "code",
   "execution_count": null,
   "metadata": {
    "collapsed": true
   },
   "outputs": [],
   "source": [
    "np.save(\"./Sensitivity-Test-Results/Sensitivity_Test-covnet_SO-Mu_preds_Upper_84.npy\", preds_SO_Upper_84)\n",
    "np.save(\"./Sensitivity-Test-Results/Sensitivity_Test-covnet_SO-Mu_preds_Lower_16.npy\", preds_SO_Lower_16)\n",
    "np.save(\"./Sensitivity-Test-Results/Sensitivity_Test-covnet_SO-Mu_preds_MEAN.npy\", preds_SO_MEAN)\n",
    "    \n",
    "np.save(\"./Sensitivity-Test-Results/Sensitivity_Test-covnet_MultipleO-Mu_preds_Upper_84.npy\", preds_Upper_84)\n",
    "np.save(\"./Sensitivity-Test-Results/Sensitivity_Test-covnet_MultipleO-Mu_preds_Lower_16.npy\", preds_Lower_16)\n",
    "np.save(\"./Sensitivity-Test-Results/Sensitivity_Test-covnet_MultipleO-Mu_preds_MEAN.npy\", preds_MEAN)\n",
    "    \n",
    "np.save(\"./Sensitivity-Test-Results/Sensitivity_Test-covnet_lambda_Mu_mu_s.npy\", mu_s)"
   ]
  },
  {
   "cell_type": "code",
   "execution_count": null,
   "metadata": {
    "collapsed": true
   },
   "outputs": [],
   "source": [
    "sigmas = np.array(preds_MEAN)[:,0].reshape(100)\n",
    "sigma_upper_84 = np.array(preds_Upper_84)[:,0].reshape(100)\n",
    "sigma_lower_16 = np.array(preds_Lower_16)[:,0].reshape(100)\n",
    "\n",
    "sigmas_single = np.array(preds_SO_MEAN)[:,0].reshape(100)\n",
    "sigma_upper_84_single = np.array(preds_SO_Upper_84)[:,0].reshape(100)\n",
    "sigma_lower_16_single = np.array(preds_SO_Lower_16)[:,0].reshape(100)"
   ]
  },
  {
   "cell_type": "code",
   "execution_count": null,
   "metadata": {
    "collapsed": true
   },
   "outputs": [],
   "source": [
    "fig = pylab.figure()\n",
    "sns.set_style(\"white\")\n",
    "pylab.plot(mu_s, sigmas, color='r', label=\"predicted value\");\n",
    "pylab.axhline(y=0.1, color='black', linestyle='-', label=\"actual value\")\n",
    "pylab.fill_between(mu_s, sigma_lower_16, sigma_upper_84, color='r', alpha=0.1, edgecolor='none')\n",
    "pylab.xlabel(\"Mu\")\n",
    "pylab.ylabel(\"Sigma\")\n",
    "\n",
    "pylab.legend(bbox_to_anchor=(1, 1), loc=1, borderaxespad=0.)\n",
    "pylab.show();\n",
    "fig.savefig(ROOT_DIR + \"/Images/Output-Sensitivity-Results/ConvolutionalNN-MultipleOutput-ELU/Varying-Mu/\"+\"sigma.png\")"
   ]
  },
  {
   "cell_type": "code",
   "execution_count": null,
   "metadata": {
    "collapsed": true
   },
   "outputs": [],
   "source": [
    "fig = pylab.figure()\n",
    "sns.set_style(\"white\")\n",
    "pylab.plot(mu_s, sigmas_single, color='r', label=\"predicted value\");\n",
    "pylab.axhline(y=0.1, color='black', linestyle='-', label=\"actual value\")\n",
    "pylab.fill_between(mu_s, sigma_lower_16_single, sigma_upper_84_single, color='r', alpha=0.1, edgecolor='none')\n",
    "pylab.xlabel(\"Mu\")\n",
    "pylab.ylabel(\"Sigma\")\n",
    "\n",
    "pylab.legend(bbox_to_anchor=(1, 1), loc=1, borderaxespad=0.)\n",
    "pylab.show();\n",
    "fig.savefig(ROOT_DIR + \"/Images/Output-Sensitivity-Results/ConvolutionalNN-SingleOutput/Varying-Mu/\"+\"sigma.png\")"
   ]
  },
  {
   "cell_type": "code",
   "execution_count": null,
   "metadata": {
    "collapsed": true
   },
   "outputs": [],
   "source": [
    "jump_sigmas = np.array(preds_MEAN)[:,2].reshape(100)\n",
    "jump_sigmas_upper_84 = np.array(preds_Upper_84)[:,2].reshape(100)\n",
    "jump_sigmas_lower_16 = np.array(preds_Lower_16)[:,2].reshape(100)"
   ]
  },
  {
   "cell_type": "code",
   "execution_count": null,
   "metadata": {
    "collapsed": true
   },
   "outputs": [],
   "source": [
    "fig = pylab.figure()\n",
    "pylab.plot(mu_s, jump_sigmas, color='b', label=\"predicted value\");\n",
    "pylab.axhline(y=0.07, color='black', linestyle='-', label=\"actual value\")\n",
    "pylab.fill_between(mu_s, jump_sigmas_lower_16, jump_sigmas_upper_84, color='b', alpha=0.1, edgecolor='none')\n",
    "pylab.xlabel(\"Mu\")\n",
    "pylab.ylabel(\"Jumps Sigma\")\n",
    "\n",
    "pylab.legend(bbox_to_anchor=(1, 1), loc=1, borderaxespad=0.)\n",
    "pylab.show();\n",
    "fig.savefig(ROOT_DIR + \"/Images/Output-Sensitivity-Results/ConvolutionalNN-MultipleOutput-ELU/Varying-Mu/\"+\"Jumps_Sigma.png\")"
   ]
  },
  {
   "cell_type": "code",
   "execution_count": null,
   "metadata": {
    "collapsed": true
   },
   "outputs": [],
   "source": [
    "jump_mus = np.array(preds_MEAN)[:,3].reshape(100)\n",
    "jump_mus_upper_84 = np.array(preds_Upper_84)[:,3].reshape(100)\n",
    "jump_mus_lower_16 = np.array(preds_Lower_16)[:,3].reshape(100)"
   ]
  },
  {
   "cell_type": "code",
   "execution_count": null,
   "metadata": {
    "collapsed": true
   },
   "outputs": [],
   "source": [
    "fig = pylab.figure()\n",
    "pylab.plot(mu_s, jump_mus, color='g', label=\"predicted value\");\n",
    "pylab.axhline(y=0.05, color='black', linestyle='-', label=\"actual value\")\n",
    "pylab.fill_between(mu_s, jump_mus_lower_16, jump_mus_upper_84, color='g', alpha=0.1, edgecolor='none')\n",
    "pylab.xlabel(\"Mu\")\n",
    "pylab.ylabel(\"Jumps Mu\")\n",
    "\n",
    "pylab.legend(bbox_to_anchor=(1, 1), loc=1, borderaxespad=0.)\n",
    "pylab.show();\n",
    "fig.savefig(ROOT_DIR + \"/Images/Output-Sensitivity-Results/ConvolutionalNN-MultipleOutput-ELU/Varying-Mu/\"+\"Jumps_Mu.png\")"
   ]
  },
  {
   "cell_type": "code",
   "execution_count": null,
   "metadata": {
    "collapsed": true
   },
   "outputs": [],
   "source": [
    "lambdas = np.array(preds_MEAN)[:,4].reshape(100)\n",
    "lambdas_upper_84 = np.array(preds_Upper_84)[:,4].reshape(100)\n",
    "lambdas_lower_16 = np.array(preds_Lower_16)[:,4].reshape(100)"
   ]
  },
  {
   "cell_type": "code",
   "execution_count": null,
   "metadata": {
    "collapsed": true
   },
   "outputs": [],
   "source": [
    "fig = pylab.figure()\n",
    "pylab.plot(mu_s, lambdas, color='y', label=\"predicted value\");\n",
    "pylab.axhline(y=0.02, color='black', linestyle='-', label=\"actual value\")\n",
    "pylab.fill_between(mu_s, lambdas_lower_16, lambdas_upper_84, color='y', alpha=0.2, edgecolor='none')\n",
    "pylab.xlabel(\"Mu\")\n",
    "pylab.ylabel(\"Lambda\")\n",
    "\n",
    "pylab.legend(bbox_to_anchor=(1, 1), loc=1, borderaxespad=0.)\n",
    "pylab.show();\n",
    "fig.savefig(ROOT_DIR + \"/Images/Output-Sensitivity-Results/ConvolutionalNN-MultipleOutput-ELU/Varying-Mu/\"+\"Lambda.png\")"
   ]
  },
  {
   "cell_type": "code",
   "execution_count": null,
   "metadata": {
    "collapsed": true
   },
   "outputs": [],
   "source": [
    "mus_ = np.array(preds_MEAN)[:,1].reshape(100)\n",
    "mus_upper_84 = np.array(preds_Upper_84)[:,1].reshape(100)\n",
    "mus_lower_16 = np.array(preds_Lower_16)[:,1].reshape(100)"
   ]
  },
  {
   "cell_type": "code",
   "execution_count": null,
   "metadata": {
    "collapsed": true
   },
   "outputs": [],
   "source": [
    "fig = pylab.figure()\n",
    "pylab.plot(mu_s, mus_-mu_s, color='g', label=\"predicted value\");\n",
    "#pylab.plot(0, mu_s, color='black', alpha = 0.5, label=\"actual value\");\n",
    "pylab.axhline(y=0, color='black', linestyle='-', label=\"actual value\")\n",
    "pylab.fill_between(mu_s, mus_lower_16-mu_s, mus_upper_84-mu_s, color='g', alpha=0.1, edgecolor='none')\n",
    "pylab.xlabel(\"Mu\")\n",
    "pylab.ylabel(\"Prediction Deviation from Mu\")\n",
    "ax = pylab.gca()\n",
    "vals = ax.get_yticks()\n",
    "ax.set_yticklabels(['-'+str(x) for x in vals[vals<0]] + [0] + ['+'+str(x) for x in vals[vals>0]])\n",
    "\n",
    "pylab.legend(bbox_to_anchor=(1, 0.185), loc=1, borderaxespad=0.)\n",
    "pylab.show();\n",
    "fig.savefig(ROOT_DIR + \"/Images/Output-Sensitivity-Results/ConvolutionalNN-MultipleOutput-ELU/Varying-Mu/\"+\"Mu.png\")"
   ]
  },
  {
   "cell_type": "markdown",
   "metadata": {},
   "source": [
    "# Sensitivity Test - Sigma"
   ]
  },
  {
   "cell_type": "code",
   "execution_count": null,
   "metadata": {
    "collapsed": true
   },
   "outputs": [],
   "source": [
    "sigma_s = []\n",
    "\n",
    "preds_MEAN = []\n",
    "preds_Lower_16 = []\n",
    "preds_Upper_84 = []\n",
    "\n",
    "preds_SO_MEAN = []\n",
    "preds_SO_Upper_84 = []\n",
    "preds_SO_Lower_16 = []\n",
    "\n",
    "for j in range(100):\n",
    "    mp = test_set_model_params()\n",
    "    mp.all_sigma = 0.001 + j*(0.2 - 0.001)/100\n",
    "    test_set = []\n",
    "    \n",
    "    print(j)\n",
    "    \n",
    "    print(\"GENERATION...\")\n",
    "    test_set_pred = standard_convolutional_test_set(mp=mp)\n",
    "    \n",
    "    \n",
    "    print(\"PREDICTION...\\n\")\n",
    "    predictions_lambda = covnet_lambda.predict(test_set_pred)\n",
    "    predictions_jump_mu = covnet_jump_mu.predict(test_set_pred)\n",
    "    predictions_jump_sigma = covnet_jump_sigma.predict(test_set_pred)\n",
    "    predictions_sigma = covnet_sigma.predict(test_set_pred)\n",
    "    predictions_mu = covnet_mu.predict(test_set_pred)\n",
    "    \n",
    "    predictions_so = [predictions_sigma, predictions_mu, predictions_jump_sigma, predictions_jump_mu, predictions_lambda]\n",
    "    \n",
    "    preds_SO_MEAN.append(np.mean(predictions_so, axis = 1))\n",
    "    preds_SO_Upper_84.append(np.percentile(predictions_so, 84, axis = 1))\n",
    "    preds_SO_Lower_16.append(np.percentile(predictions_so, 16, axis = 1))\n",
    "    \n",
    "    sigma_s.append(mp.all_sigma)\n",
    "    \n",
    "    predictions_elu = covnet_mo_elu.predict(test_set_pred)\n",
    "    \n",
    "    preds_MEAN.append(np.mean(predictions_elu, axis = 1))\n",
    "    preds_Upper_84.append(np.percentile(predictions_elu, 84, axis = 1))\n",
    "    preds_Lower_16.append(np.percentile(predictions_elu, 16, axis = 1))\n",
    "    \n",
    "    print(np.transpose(np.mean(predictions_so, axis = 1)))\n",
    "    print(\"   sigma,       mu,      jump_sigma,   jump_mu,    lambda\")\n",
    "    print(\"   \"+str(mp.all_sigma)+\"      0.05       0.07              0.05       0.02\")\n",
    "    print(np.transpose(np.mean(predictions_elu, axis = 1)))\n",
    "    \n",
    "np.save(\"./Sensitivity-Test-Results/Sensitivity_Test-Covnet_MO_Sigma_sigma_s.npy\", sigma_s)\n",
    "   \n",
    "np.save(\"./Sensitivity-Test-Results/Sensitivity_Test-covnet_SO-Sigma_preds_Upper_84.npy\", preds_SO_Upper_84)\n",
    "np.save(\"./Sensitivity-Test-Results/Sensitivity_Test-covnet_SO-Sigma_preds_Lower_16.npy\", preds_SO_Lower_16)\n",
    "np.save(\"./Sensitivity-Test-Results/Sensitivity_Test-covnet_SO-Sigma_preds_MEAN.npy\", preds_SO_MEAN)\n",
    "    \n",
    "np.save(\"./Sensitivity-Test-Results/Sensitivity_Test-covnet_MultipleO-Sigma_preds_Upper_84.npy\", preds_Upper_84)\n",
    "np.save(\"./Sensitivity-Test-Results/Sensitivity_Test-covnet_MultipleO-Sigma_preds_Lower_16.npy\", preds_Lower_16)\n",
    "np.save(\"./Sensitivity-Test-Results/Sensitivity_Test-covnet_MultipleO-Sigma_preds_MEAN.npy\", preds_MEAN)"
   ]
  },
  {
   "cell_type": "code",
   "execution_count": null,
   "metadata": {
    "collapsed": true
   },
   "outputs": [],
   "source": [
    "sigma_s = []\n",
    "preds_MEAN = []\n",
    "preds_Lower_16 = []\n",
    "preds_Upper_84 = []\n",
    "\n",
    "for j in range(100):\n",
    "    covnet_mo_elu = covnet_multiple_output_with_ELUs()\n",
    "    covnet_mo_elu.load_weights(H5_DIR_COVNET_MULTIPLE_ELU)\n",
    "    \n",
    "    mp.all_sigma = 0.001 + j*(0.2 - 0.001)/100\n",
    "    test_set = []\n",
    "    \n",
    "    print(j)\n",
    "    \n",
    "    print(\"GENERATION...\")\n",
    "    test_set_pred = standard_convolutional_test_set()\n",
    "    \n",
    "    print(\"PREDICTION...\\n\")\n",
    "    predictions_elu = covnet_mo_elu.predict(test_set_pred)\n",
    "    \n",
    "    print(np.transpose(np.mean(predictions_elu, axis = 1)))\n",
    "    print(\"   sigma,    mu,      jump_sigma,      jump_mu,    lambda\")\n",
    "    print(\"   \"+str(mp.all_sigma)+\"      0.05       0.07              0.05       0.02\")\n",
    "    print(np.mean(predictions_elu, axis = 1)+np.std(predictions_elu, axis = 1))\n",
    "    print(np.percentile(predictions_elu, 84, axis = 1))\n",
    "    preds_MEAN.append(np.mean(predictions_elu, axis = 1))\n",
    "    preds_Upper_84.append(np.percentile(predictions_elu, 84, axis = 1))\n",
    "    preds_Lower_16.append(np.percentile(predictions_elu, 16, axis = 1))\n",
    "    sigma_s.append(mp.all_sigma)\n",
    "    \n",
    "np.save(\"Sensitivity_Test-Covnet_MO_Sigma_sigma_s.npy\", sigma_s)\n",
    "np.save(\"Sensitivity_Test-Covnet_MO_Sigma_preds_MEAN.npy\", preds_MEAN)\n",
    "np.save(\"Sensitivity_Test-Covnet_MO_Sigma_preds_Upper_84.npy\", preds_Upper_84)\n",
    "np.save(\"Sensitivity_Test-Covnet_MO_Sigma_preds_Lower_16.npy\", preds_Lower_16)"
   ]
  },
  {
   "cell_type": "code",
   "execution_count": null,
   "metadata": {
    "collapsed": true
   },
   "outputs": [],
   "source": [
    "sigma_s = np.load(\"Sensitivity_Test-Covnet_MO_Sigma_sigma_s.npy\")\n",
    "preds_MEAN = np.load(\"Sensitivity_Test-Covnet_MO_Sigma_preds_MEAN.npy\")\n",
    "preds_Upper_84 = np.load(\"Sensitivity_Test-Covnet_MO_Sigma_preds_Upper_84.npy\")\n",
    "preds_Lower_16 = np.load(\"Sensitivity_Test-Covnet_MO_Sigma_preds_Lower_16.npy\")"
   ]
  },
  {
   "cell_type": "code",
   "execution_count": null,
   "metadata": {
    "collapsed": true
   },
   "outputs": [],
   "source": [
    "sigmas = np.array(preds_MEAN)[:,0].reshape(100)\n",
    "sigma_upper_84 = np.array(preds_Upper_84)[:,0].reshape(100)\n",
    "sigma_lower_16 = np.array(preds_Lower_16)[:,0].reshape(100)\n",
    "\n",
    "fig = pylab.figure()\n",
    "pylab.plot(sigma_s, sigmas-sigma_s, color='r', label=\"predicted value\");\n",
    "#pylab.plot(sigma_s, sigma_s, color='black', label=\"actual value\");\n",
    "pylab.axhline(y=0, color='black', linestyle='-', label=\"actual value\")\n",
    "pylab.fill_between(sigma_s, sigma_lower_16-sigma_s, sigma_upper_84-sigma_s, color='r', alpha=0.1, edgecolor='none')\n",
    "pylab.xlabel(\"Sigma\")\n",
    "pylab.ylabel(\"Prediction Deviation from Sigma\")\n",
    "ax = pylab.gca()\n",
    "vals = ax.get_yticks()\n",
    "ax.set_yticklabels(['-'+str(x) for x in vals[vals<0]] + [0] + ['+'+str(x) for x in vals[vals>0]])\n",
    "\n",
    "\n",
    "pylab.legend(bbox_to_anchor=(1, 0.185), loc=0, borderaxespad=0.)\n",
    "pylab.show();\n",
    "fig.savefig(ROOT_DIR + \"/Images/Output-Sensitivity-Results/ConvolutionalNN-MultipleOutput-ELU/Varying-Sigma/\"+\"Sigma.png\")"
   ]
  },
  {
   "cell_type": "code",
   "execution_count": null,
   "metadata": {
    "collapsed": true
   },
   "outputs": [],
   "source": [
    "jump_sigmas = np.array(preds_MEAN)[:,2].reshape(100)\n",
    "jump_sigmas_upper_84 = np.array(preds_Upper_84)[:,2].reshape(100)\n",
    "jump_sigmas_lower_16 = np.array(preds_Lower_16)[:,2].reshape(100)\n",
    "\n",
    "fig = pylab.figure()\n",
    "pylab.plot(sigma_s, jump_sigmas, color='b', label=\"predicted value\");\n",
    "pylab.axhline(y=0.07, color='black', linestyle='-', label=\"actual value\")\n",
    "pylab.fill_between(sigma_s, jump_sigmas_lower_16, jump_sigmas_upper_84, color='b', alpha=0.1, edgecolor='none')\n",
    "pylab.xlabel(\"Sigma\")\n",
    "pylab.ylabel(\"Jumps Sigma\")\n",
    "\n",
    "pylab.legend(bbox_to_anchor=(1, 0.185), loc=1, borderaxespad=0.)\n",
    "pylab.show();\n",
    "fig.savefig(ROOT_DIR + \"/Images/Output-Sensitivity-Results/ConvolutionalNN-MultipleOutput-ELU/Varying-Sigma/\"+\"Jumps_Sigma.png\")"
   ]
  },
  {
   "cell_type": "code",
   "execution_count": null,
   "metadata": {
    "collapsed": true
   },
   "outputs": [],
   "source": [
    "jump_mus = np.array(preds_MEAN)[:,3].reshape(100)\n",
    "jump_mus_upper_84 = np.array(preds_Upper_84)[:,3].reshape(100)\n",
    "jump_mus_lower_16 = np.array(preds_Lower_16)[:,3].reshape(100)\n",
    "\n",
    "fig = pylab.figure()\n",
    "pylab.plot(sigma_s, jump_mus, color='g', label=\"predicted value\");\n",
    "pylab.axhline(y=0.05, color='black', linestyle='-', label=\"actual value\")\n",
    "pylab.fill_between(sigma_s, jump_mus_lower_16, jump_mus_upper_84, color='g', alpha=0.1, edgecolor='none')\n",
    "pylab.xlabel(\"Sigma\")\n",
    "pylab.ylabel(\"Jumps Mu\")\n",
    "\n",
    "pylab.legend(bbox_to_anchor=(1, 0.185), loc=1, borderaxespad=0.)\n",
    "pylab.show();\n",
    "fig.savefig(ROOT_DIR + \"/Images/Output-Sensitivity-Results/ConvolutionalNN-MultipleOutput-ELU/Varying-Sigma/\"+\"Jumps_Mu.png\")"
   ]
  },
  {
   "cell_type": "code",
   "execution_count": null,
   "metadata": {
    "collapsed": true
   },
   "outputs": [],
   "source": [
    "lambdas = np.array(preds_MEAN)[:,4].reshape(100)\n",
    "lambdas_upper_84 = np.array(preds_Upper_84)[:,4].reshape(100)\n",
    "lambdas_lower_16 = np.array(preds_Lower_16)[:,4].reshape(100)\n",
    "\n",
    "fig = pylab.figure()\n",
    "pylab.plot(sigma_s, lambdas, color='y', label=\"predicted value\");\n",
    "pylab.axhline(y=0.02, color='black', linestyle='-', label=\"actual value\")\n",
    "pylab.fill_between(sigma_s, lambdas_lower_16, lambdas_upper_84, color='y', alpha=0.2, edgecolor='none')\n",
    "pylab.xlabel(\"Sigma\")\n",
    "pylab.ylabel(\"Lambda\")\n",
    "\n",
    "pylab.legend(bbox_to_anchor=(1, 0.185), loc=1, borderaxespad=0.)\n",
    "pylab.show();\n",
    "fig.savefig(ROOT_DIR + \"/Images/Output-Sensitivity-Results/ConvolutionalNN-MultipleOutput-ELU/Varying-Sigma/\"+\"Lambda.png\")"
   ]
  },
  {
   "cell_type": "code",
   "execution_count": null,
   "metadata": {
    "collapsed": true
   },
   "outputs": [],
   "source": [
    "mus_ = np.array(preds_MEAN)[:,1].reshape(100)\n",
    "mus_upper_84 = np.array(preds_Upper_84)[:,1].reshape(100)\n",
    "mus_lower_16 = np.array(preds_Lower_16)[:,1].reshape(100)\n",
    "\n",
    "fig = pylab.figure()\n",
    "pylab.plot(sigma_s, mus_, color='g', label=\"predicted value\");\n",
    "pylab.axhline(y=0.05, color='black', linestyle='-', label=\"actual value\")\n",
    "pylab.fill_between(sigma_s, mus_lower_16, mus_upper_84, color='g', alpha=0.1, edgecolor='none')\n",
    "pylab.xlabel(\"Sigma\")\n",
    "pylab.ylabel(\"Mu\")\n",
    "\n",
    "pylab.legend(bbox_to_anchor=(0.4085, 1), loc=1, borderaxespad=0.)\n",
    "pylab.show();\n",
    "fig.savefig(ROOT_DIR + \"/Images/Output-Sensitivity-Results/ConvolutionalNN-MultipleOutput-ELU/Varying-Sigma/\"+\"Mu.png\")"
   ]
  },
  {
   "cell_type": "markdown",
   "metadata": {},
   "source": [
    "# Sensitivity Test - Jumps Sigma"
   ]
  },
  {
   "cell_type": "code",
   "execution_count": null,
   "metadata": {
    "collapsed": true
   },
   "outputs": [],
   "source": [
    "jump_sigma_s = []\n",
    "\n",
    "preds_MEAN = []\n",
    "preds_Lower_16 = []\n",
    "preds_Upper_84 = []\n",
    "\n",
    "preds_SO_MEAN = []\n",
    "preds_SO_Upper_84 = []\n",
    "preds_SO_Lower_16 = []\n",
    "\n",
    "for j in range(100):\n",
    "    mp = test_set_model_params()\n",
    "    mp.jumps_sigma = 0.001 + j*(0.2 - 0.001)/100\n",
    "    test_set = []\n",
    "    \n",
    "    print(j)\n",
    "    \n",
    "    print(\"GENERATION...\")\n",
    "    test_set_pred = standard_convolutional_test_set(mp=mp)\n",
    "    \n",
    "    \n",
    "    print(\"PREDICTION...\\n\")\n",
    "    predictions_lambda = covnet_lambda.predict(test_set_pred)\n",
    "    predictions_jump_mu = covnet_jump_mu.predict(test_set_pred)\n",
    "    predictions_jump_sigma = covnet_jump_sigma.predict(test_set_pred)\n",
    "    predictions_sigma = covnet_sigma.predict(test_set_pred)\n",
    "    predictions_mu = covnet_mu.predict(test_set_pred)\n",
    "    \n",
    "    predictions_so = [predictions_sigma, predictions_mu, predictions_jump_sigma, predictions_jump_mu, predictions_lambda]\n",
    "    \n",
    "    preds_SO_MEAN.append(np.mean(predictions_so, axis = 1))\n",
    "    preds_SO_Upper_84.append(np.percentile(predictions_so, 84, axis = 1))\n",
    "    preds_SO_Lower_16.append(np.percentile(predictions_so, 16, axis = 1))\n",
    "    \n",
    "    jump_sigma_s.append(mp.jumps_sigma)\n",
    "    \n",
    "    predictions_elu = covnet_mo_elu.predict(test_set_pred)\n",
    "    \n",
    "    preds_MEAN.append(np.mean(predictions_elu, axis = 1))\n",
    "    preds_Upper_84.append(np.percentile(predictions_elu, 84, axis = 1))\n",
    "    preds_Lower_16.append(np.percentile(predictions_elu, 16, axis = 1))\n",
    "    \n",
    "    print(np.transpose(np.mean(predictions_so, axis = 1)))\n",
    "    print(\"   sigma,       mu,      jump_sigma,   jump_mu,    lambda\")\n",
    "    print(\"   0.1      0.05       \"+str(mp.jumps_sigma)+\"              0.05       0.02\")\n",
    "    print(np.transpose(np.mean(predictions_elu, axis = 1)))\n",
    "    \n",
    "np.save(\"Sensitivity_Test-Covnet_MO_JumpSigma_jumpsigma_s.npy\", jump_sigma_s)\n",
    "   \n",
    "np.save(\"./Sensitivity-Test-Results/Sensitivity_Test-covnet_SO-JumpSigma_preds_Upper_84.npy\", preds_SO_Upper_84)\n",
    "np.save(\"./Sensitivity-Test-Results/Sensitivity_Test-covnet_SO-JumpSigma_preds_Lower_16.npy\", preds_SO_Lower_16)\n",
    "np.save(\"./Sensitivity-Test-Results/Sensitivity_Test-covnet_SO-JumpSigma_preds_MEAN.npy\", preds_SO_MEAN)\n",
    "    \n",
    "np.save(\"./Sensitivity-Test-Results/Sensitivity_Test-covnet_MultipleO-JumpSigma_preds_Upper_84.npy\", preds_Upper_84)\n",
    "np.save(\"./Sensitivity-Test-Results/Sensitivity_Test-covnet_MultipleO-JumpSigma_preds_Lower_16.npy\", preds_Lower_16)\n",
    "np.save(\"./Sensitivity-Test-Results/Sensitivity_Test-covnet_MultipleO-JumpSigma_preds_MEAN.npy\", preds_MEAN)"
   ]
  },
  {
   "cell_type": "code",
   "execution_count": null,
   "metadata": {
    "collapsed": true
   },
   "outputs": [],
   "source": [
    "jump_sigma_s = []\n",
    "preds_MEAN = []\n",
    "preds_Lower_16 = []\n",
    "preds_Upper_84 = []\n",
    "\n",
    "for j in range(100):\n",
    "    covnet_mo_elu = covnet_multiple_output_with_ELUs()\n",
    "    covnet_mo_elu.load_weights(H5_DIR_COVNET_MULTIPLE_ELU)\n",
    "    \n",
    "    mp.jumps_sigma = 0.001 + j*(0.2 - 0.001)/100\n",
    "    test_set = []\n",
    "    \n",
    "    print(str(j) + \" out of \"+str(100))\n",
    "    \n",
    "    print(\"GENERATION...\")\n",
    "    test_set_pred = standard_convolutional_test_set()\n",
    "    \n",
    "    \n",
    "    print(\"PREDICTION...\\n\")\n",
    "    predictions_elu = covnet_mo_elu.predict(test_set_pred)\n",
    "    \n",
    "    print(np.transpose(np.mean(predictions_elu, axis = 1)))\n",
    "    print(\"   sigma,    mu,      jump_sigma,      jump_mu,    lambda\")\n",
    "    print(\"   0.1      0.05       \"+str(mp.jumps_sigma)+\"              0.05       0.02\")\n",
    "    preds_MEAN.append(np.mean(predictions_elu, axis = 1))\n",
    "    jump_sigma_s.append(mp.jumps_sigma)\n",
    "    preds_Upper_84.append(np.percentile(predictions_elu, 84, axis = 1))\n",
    "    preds_Lower_16.append(np.percentile(predictions_elu, 16, axis = 1))\n",
    "    \n",
    "np.save(\"Sensitivity_Test-Covnet_MO_JumpSigma_preds_Upper_84.npy\", preds_Upper_84)\n",
    "np.save(\"Sensitivity_Test-Covnet_MO_JumpSigma_preds_Lower_16.npy\", preds_Lower_16)\n",
    "np.save(\"Sensitivity_Test-Covnet_MO_JumpSigma_jump_sigma_s.npy\", jump_sigma_s)\n",
    "np.save(\"Sensitivity_Test-Covnet_MO_JumpSigma_preds_MEAN.npy\", preds_MEAN)"
   ]
  },
  {
   "cell_type": "code",
   "execution_count": null,
   "metadata": {
    "collapsed": true
   },
   "outputs": [],
   "source": [
    "preds_Upper_84 = np.load(\"Sensitivity_Test-Covnet_MO_JumpSigma_preds_Upper_84.npy\")\n",
    "preds_Lower_16 = np.load(\"Sensitivity_Test-Covnet_MO_JumpSigma_preds_Lower_16.npy\")\n",
    "jump_sigma_s = np.load(\"Sensitivity_Test-Covnet_MO_JumpSigma_jump_sigma_s.npy\")\n",
    "preds_MEAN = np.load(\"Sensitivity_Test-Covnet_MO_JumpSigma_preds_MEAN.npy\")"
   ]
  },
  {
   "cell_type": "code",
   "execution_count": null,
   "metadata": {
    "collapsed": true
   },
   "outputs": [],
   "source": [
    "def sensitivity_plot_w_true_value(x_values, predictions, true_value, upper_confidence_predictions, lower_confidence_predictions, \n",
    "                                  x_name, y_name, line_color = 'b', save_dir = None, legend_anchor = (1,1)):\n",
    "    fig = pylab.figure()\n",
    "    pylab.plot(x_values, predictions, color=line_color, label=\"predicted value\");\n",
    "    pylab.axhline(y=true_value, color='black', linestyle='-', label=\"actual value\")\n",
    "    pylab.fill_between(x_values, mus_lower_16, mus_upper_84, color=line_color, alpha=0.1, edgecolor='none')\n",
    "    pylab.xlabel(x_name)\n",
    "    pylab.ylabel(y_name)\n",
    "\n",
    "    pylab.legend(bbox_to_anchor=legend_anchor, loc=1, borderaxespad=0.)\n",
    "    if save_dir != None:\n",
    "        fig.savefig(save_dir)\n",
    "    \n",
    "    return fig"
   ]
  },
  {
   "cell_type": "code",
   "execution_count": null,
   "metadata": {
    "collapsed": true
   },
   "outputs": [],
   "source": [
    "mus_ = np.array(preds_MEAN)[:,1].reshape(100)\n",
    "mus_upper_84 = np.array(preds_Upper_84)[:,1].reshape(100)\n",
    "mus_lower_16 = np.array(preds_Lower_16)[:,1].reshape(100)\n",
    "save_dir = ROOT_DIR + \"/Images/Output-Sensitivity-Results/ConvolutionalNN-MultipleOutput-ELU/Varying-Jumps_sigma/\"+\"Mu.png\"\n",
    "\n",
    "sensitivity_plot_w_true_value(jump_sigma_s, mus_, test_set_model_params().jumps_sigma, mus_upper_84, mus_lower_16, \n",
    "                              \"Jumps Mu\", \"Mu\", line_color = 'g', save_dir = \"./Mu.png\")"
   ]
  },
  {
   "cell_type": "code",
   "execution_count": null,
   "metadata": {
    "collapsed": true
   },
   "outputs": [],
   "source": [
    "sigmas = np.array(preds_MEAN)[:,0].reshape(100)\n",
    "sigmas_upper_84 = np.array(preds_Upper_84)[:,0].reshape(100)\n",
    "sigmas_lower_16 = np.array(preds_Lower_16)[:,0].reshape(100)\n",
    "\n",
    "fig = pylab.figure()\n",
    "pylab.plot(jump_sigma_s, sigmas, color='r', label=\"predicted value\");\n",
    "pylab.axhline(y=0.1, color='black', linestyle='-', label=\"actual value\")\n",
    "pylab.fill_between(jump_sigma_s, sigmas_lower_16, sigmas_upper_84, color='r', alpha=0.1, edgecolor='none')\n",
    "pylab.xlabel(\"Jumps Sigma\")\n",
    "pylab.ylabel(\"Sigma\")\n",
    "\n",
    "pylab.legend(bbox_to_anchor=(1, 1), loc=0, borderaxespad=0.)\n",
    "pylab.show();\n",
    "fig.savefig(ROOT_DIR + \"/Images/Output-Sensitivity-Results/ConvolutionalNN-MultipleOutput-ELU/Varying-Jumps_sigma/\"+\"Sigma.png\")"
   ]
  },
  {
   "cell_type": "code",
   "execution_count": null,
   "metadata": {
    "collapsed": true
   },
   "outputs": [],
   "source": [
    "jump_sigmas = np.array(preds_MEAN)[:,2].reshape(100)\n",
    "jump_sigmas_upper_84 = np.array(preds_Upper_84)[:,2].reshape(100)\n",
    "jump_sigmas_lower_16 = np.array(preds_Lower_16)[:,2].reshape(100)\n",
    "\n",
    "fig = pylab.figure()\n",
    "pylab.plot(jump_sigma_s, jump_sigmas, color='b', label=\"predicted value\");\n",
    "pylab.plot(jump_sigma_s, jump_sigma_s, color='black', label=\"actual value\");\n",
    "pylab.fill_between(jump_sigma_s, jump_sigmas_lower_16, jump_sigmas_upper_84, color='b', alpha=0.1, edgecolor='none')\n",
    "pylab.xlabel(\"Jumps Sigma\")\n",
    "pylab.ylabel(\"Jumps Sigma\")\n",
    "\n",
    "pylab.legend(bbox_to_anchor=(1, 0.185), loc=1, borderaxespad=0.)\n",
    "pylab.show();\n",
    "fig.savefig(ROOT_DIR + \"/Images/Output-Sensitivity-Results/ConvolutionalNN-MultipleOutput-ELU/Varying-Jumps_sigma/\"+\"Jumps_Sigma.png\")"
   ]
  },
  {
   "cell_type": "code",
   "execution_count": null,
   "metadata": {
    "collapsed": true
   },
   "outputs": [],
   "source": [
    "jump_mus = np.array(preds_MEAN)[:,3].reshape(100)\n",
    "jump_mus_upper_84 = np.array(preds_Upper_84)[:,3].reshape(100)\n",
    "jump_mus_lower_16 = np.array(preds_Lower_16)[:,3].reshape(100)\n",
    "\n",
    "fig = pylab.figure()\n",
    "pylab.plot(jump_sigma_s, jump_mus, color='g', label=\"predicted value\");\n",
    "pylab.axhline(y=0.05, color='black', linestyle='-', label=\"actual value\")\n",
    "pylab.fill_between(jump_sigma_s, jump_mus_lower_16, jump_mus_upper_84, color='g', alpha=0.1, edgecolor='none')\n",
    "pylab.xlabel(\"Jumps Sigma\")\n",
    "pylab.ylabel(\"Jumps Mu\")\n",
    "\n",
    "pylab.legend(bbox_to_anchor=(1, 0.185), loc=1, borderaxespad=0.)\n",
    "pylab.show();\n",
    "fig.savefig(ROOT_DIR + \"/Images/Output-Sensitivity-Results/ConvolutionalNN-MultipleOutput-ELU/Varying-Jumps_sigma/\"+\"Jumps_Mu.png\")"
   ]
  },
  {
   "cell_type": "code",
   "execution_count": null,
   "metadata": {
    "collapsed": true
   },
   "outputs": [],
   "source": [
    "lambdas = np.array(preds_MEAN)[:,4].reshape(100)\n",
    "lambdas_upper_84 = np.array(preds_Upper_84)[:,4].reshape(100)\n",
    "lambdas_lower_16 = np.array(preds_Lower_16)[:,4].reshape(100)\n",
    "\n",
    "fig = pylab.figure()\n",
    "pylab.plot(jump_sigma_s, lambdas, color='y', label=\"predicted value\");\n",
    "pylab.axhline(y=0.02, color='black', linestyle='-', label=\"actual value\")\n",
    "pylab.fill_between(jump_sigma_s, lambdas_lower_16, lambdas_upper_84, color='y', alpha=0.2, edgecolor='none')\n",
    "pylab.xlabel(\"Jumps Sigma\")\n",
    "pylab.ylabel(\"Lambda\")\n",
    "\n",
    "pylab.legend(bbox_to_anchor=(1, 0.185), loc=1, borderaxespad=0.)\n",
    "pylab.show();\n",
    "fig.savefig(ROOT_DIR + \"/Images/Output-Sensitivity-Results/ConvolutionalNN-MultipleOutput-ELU/Varying-Jumps_sigma/\"+\"Lambda.png\")"
   ]
  },
  {
   "cell_type": "markdown",
   "metadata": {},
   "source": [
    "# Sensitivity Test - Jumps Mu"
   ]
  },
  {
   "cell_type": "code",
   "execution_count": null,
   "metadata": {
    "collapsed": true
   },
   "outputs": [],
   "source": [
    "jump_mu_s = []\n",
    "\n",
    "preds_MEAN = []\n",
    "preds_Lower_16 = []\n",
    "preds_Upper_84 = []\n",
    "\n",
    "preds_SO_MEAN = []\n",
    "preds_SO_Upper_84 = []\n",
    "preds_SO_Lower_16 = []\n",
    "\n",
    "for j in range(100):\n",
    "    mp = test_set_model_params()\n",
    "    mp.jumps_mu = -0.5 + j/100\n",
    "    test_set = []\n",
    "    \n",
    "    print(j)\n",
    "    \n",
    "    print(\"GENERATION...\")\n",
    "    test_set_pred = standard_convolutional_test_set(mp=mp)\n",
    "    \n",
    "    \n",
    "    print(\"PREDICTION...\\n\")\n",
    "    predictions_lambda = covnet_lambda.predict(test_set_pred)\n",
    "    predictions_jump_mu = covnet_jump_mu.predict(test_set_pred)\n",
    "    predictions_jump_sigma = covnet_jump_sigma.predict(test_set_pred)\n",
    "    predictions_sigma = covnet_sigma.predict(test_set_pred)\n",
    "    predictions_mu = covnet_mu.predict(test_set_pred)\n",
    "    \n",
    "    predictions_so = [predictions_sigma, predictions_mu, predictions_jump_sigma, predictions_jump_mu, predictions_lambda]\n",
    "    \n",
    "    preds_SO_MEAN.append(np.mean(predictions_so, axis = 1))\n",
    "    preds_SO_Upper_84.append(np.percentile(predictions_so, 84, axis = 1))\n",
    "    preds_SO_Lower_16.append(np.percentile(predictions_so, 16, axis = 1))\n",
    "    \n",
    "    jump_mu_s.append(mp.jumps_mu)\n",
    "    \n",
    "    predictions_elu = covnet_mo_elu.predict(test_set_pred)\n",
    "    \n",
    "    preds_MEAN.append(np.mean(predictions_elu, axis = 1))\n",
    "    preds_Upper_84.append(np.percentile(predictions_elu, 84, axis = 1))\n",
    "    preds_Lower_16.append(np.percentile(predictions_elu, 16, axis = 1))\n",
    "    \n",
    "    print(np.transpose(np.mean(predictions_so, axis = 1)))\n",
    "    print(\"   sigma,       mu,      jump_sigma,   jump_mu,    lambda\")\n",
    "    print(\"   0.1      0.05       0.07              \"+str(mp.jumps_mu)+\"       0.02\")\n",
    "    print(np.transpose(np.mean(predictions_elu, axis = 1)))\n",
    "    \n",
    "np.save(\"Sensitivity_Test-Covnet_MO_JumpMu_jump_mu_s.npy\", jump_mu_s)\n",
    "\n",
    "np.save(\"./Sensitivity-Test-Results/Sensitivity_Test-covnet_SO-JumpMu_preds_Upper_84.npy\", preds_SO_Upper_84)\n",
    "np.save(\"./Sensitivity-Test-Results/Sensitivity_Test-covnet_SO-JumpMu_preds_Lower_16.npy\", preds_SO_Lower_16)\n",
    "np.save(\"./Sensitivity-Test-Results/Sensitivity_Test-covnet_SO-JumpMu_preds_MEAN.npy\", preds_SO_MEAN)\n",
    "    \n",
    "np.save(\"./Sensitivity-Test-Results/Sensitivity_Test-covnet_MultipleO-JumpMu_preds_Upper_84.npy\", preds_Upper_84)\n",
    "np.save(\"./Sensitivity-Test-Results/Sensitivity_Test-covnet_MultipleO-JumpMu_preds_Lower_16.npy\", preds_Lower_16)\n",
    "np.save(\"./Sensitivity-Test-Results/Sensitivity_Test-covnet_MultipleO-JumpMu_preds_MEAN.npy\", preds_MEAN)"
   ]
  },
  {
   "cell_type": "code",
   "execution_count": null,
   "metadata": {
    "collapsed": true
   },
   "outputs": [],
   "source": [
    "jump_mu_s = []\n",
    "preds_MEAN = []\n",
    "preds_Upper_84 = []\n",
    "preds_Lower_16 = []\n",
    "\n",
    "for j in range(100):\n",
    "    covnet_mo_elu = covnet_multiple_output_with_ELUs()\n",
    "    covnet_mo_elu.load_weights(H5_DIR_COVNET_MULTIPLE_ELU)\n",
    "    \n",
    "    mp.jumps_mu = -0.5 + j/100\n",
    "    test_set = []\n",
    "    \n",
    "    print(j)\n",
    "    \n",
    "    print(\"GENERATION...\")\n",
    "    test_set_pred = standard_convolutional_test_set()\n",
    "    \n",
    "    \n",
    "    print(\"PREDICTION...\\n\")\n",
    "    predictions_elu = covnet_mo_elu.predict(test_set_pred)\n",
    "    \n",
    "    print(np.transpose(np.mean(predictions_elu, axis = 1)))\n",
    "    print(\"   sigma,    mu,      jump_sigma,      jump_mu,    lambda\")\n",
    "    print(\"   0.1      0.05       0.07              \"+str(mp.jumps_mu)+\"       0.02\")\n",
    "    preds_MEAN.append(np.mean(predictions_elu, axis = 1))\n",
    "    jump_mu_s.append(mp.jumps_mu)\n",
    "    preds_Upper_84.append(np.percentile(predictions_elu, 84, axis = 1))\n",
    "    preds_Lower_16.append(np.percentile(predictions_elu, 16, axis = 1))\n",
    "    \n",
    "np.save(\"Sensitivity_Test-Covnet_MO_JumpMu_preds_Upper_84.npy\", preds_Upper_84)\n",
    "np.save(\"Sensitivity_Test-Covnet_MO_JumpMu_preds_Lower_16.npy\", preds_Lower_16)\n",
    "    \n",
    "np.save(\"Sensitivity_Test-Covnet_MO_JumpMu_jump_mu_s.npy\", jump_mu_s)\n",
    "np.save(\"Sensitivity_Test-Covnet_MO_JumpMu_preds_MEAN.npy\", preds_MEAN)"
   ]
  },
  {
   "cell_type": "code",
   "execution_count": null,
   "metadata": {
    "collapsed": true
   },
   "outputs": [],
   "source": [
    "preds_Upper_84 = np.load(\"Sensitivity_Test-Covnet_MO_JumpMu_preds_Upper_84.npy\")\n",
    "preds_Lower_16 = np.load(\"Sensitivity_Test-Covnet_MO_JumpMu_preds_Lower_16.npy\")\n",
    "    \n",
    "jump_mu_s = np.load(\"Sensitivity_Test-Covnet_MO_JumpMu_jump_mu_s.npy\")\n",
    "preds_MEAN = np.load(\"Sensitivity_Test-Covnet_MO_JumpMu_preds_MEAN.npy\")"
   ]
  },
  {
   "cell_type": "code",
   "execution_count": null,
   "metadata": {
    "collapsed": true
   },
   "outputs": [],
   "source": [
    "mus_ = np.array(preds_MEAN)[:,1].reshape(100)\n",
    "mus_upper_84 = np.array(preds_Upper_84)[:,1].reshape(100)\n",
    "mus_lower_16 = np.array(preds_Lower_16)[:,1].reshape(100)\n",
    "\n",
    "fig = pylab.figure()\n",
    "pylab.plot(jump_mu_s, mus_, color='g', label=\"predicted value\");\n",
    "pylab.axhline(y=0.05, color='black', linestyle='-', label=\"actual value\")\n",
    "pylab.fill_between(jump_mu_s, mus_lower_16, mus_upper_84, color='g', alpha=0.1, edgecolor='none')\n",
    "pylab.xlabel(\"Jumps Mu\")\n",
    "pylab.ylabel(\"Mu\")\n",
    "pylab.xlim(-0.5, 0.5)\n",
    "\n",
    "pylab.legend(bbox_to_anchor=(1, 0.19), loc=1, borderaxespad=0.)\n",
    "pylab.show();\n",
    "fig.savefig(ROOT_DIR + \"/Images/Output-Sensitivity-Results/ConvolutionalNN-MultipleOutput-ELU/Varying-Jumps_mu/\"+\"Mu.png\")"
   ]
  },
  {
   "cell_type": "code",
   "execution_count": null,
   "metadata": {
    "collapsed": true
   },
   "outputs": [],
   "source": [
    "sigmas = np.array(preds_MEAN)[:,0].reshape(100)\n",
    "sigmas_upper_84 = np.array(preds_Upper_84)[:,0].reshape(100)\n",
    "sigmas_lower_16 = np.array(preds_Lower_16)[:,0].reshape(100)\n",
    "\n",
    "fig = pylab.figure()\n",
    "pylab.plot(jump_mu_s, sigmas, color='r', label=\"predicted value\");\n",
    "pylab.axhline(y=0.1, color='black', linestyle='-', label=\"actual value\")\n",
    "pylab.fill_between(jump_mu_s, sigmas_lower_16, sigmas_upper_84, color='r', alpha=0.1, edgecolor='none')\n",
    "pylab.xlabel(\"Jumps Mu\")\n",
    "pylab.ylabel(\"Sigma\")\n",
    "pylab.xlim(-0.5, 0.5)\n",
    "\n",
    "pylab.legend(bbox_to_anchor=(1, 0.185), loc=0, borderaxespad=0.)\n",
    "pylab.show();\n",
    "fig.savefig(ROOT_DIR + \"/Images/Output-Sensitivity-Results/ConvolutionalNN-MultipleOutput-ELU/Varying-Jumps_mu/\"+\"Sigma.png\")"
   ]
  },
  {
   "cell_type": "code",
   "execution_count": null,
   "metadata": {
    "collapsed": true
   },
   "outputs": [],
   "source": [
    "jump_sigmas = np.array(preds_MEAN)[:,2].reshape(100)\n",
    "jump_sigmas_upper_84 = np.array(preds_Upper_84)[:,2].reshape(100)\n",
    "jump_sigmas_lower_16 = np.array(preds_Lower_16)[:,2].reshape(100)\n",
    "\n",
    "fig = pylab.figure()\n",
    "pylab.plot(jump_mu_s, jump_sigmas, color='b', label=\"predicted value\");\n",
    "pylab.axhline(y=0.07, color='black', linestyle='-', label=\"actual value\")\n",
    "pylab.fill_between(jump_mu_s, jump_sigmas_lower_16, jump_sigmas_upper_84, color='b', alpha=0.1, edgecolor='none')\n",
    "pylab.xlabel(\"Jumps Mu\")\n",
    "pylab.ylabel(\"Jumps Sigma\")\n",
    "pylab.xlim(-0.5, 0.5)\n",
    "\n",
    "pylab.legend(bbox_to_anchor=(1, 1), loc=1, borderaxespad=0.)\n",
    "pylab.show();\n",
    "fig.savefig(ROOT_DIR + \"/Images/Output-Sensitivity-Results/ConvolutionalNN-MultipleOutput-ELU/Varying-Jumps_mu/\"+\"Jumps_Sigma.png\")"
   ]
  },
  {
   "cell_type": "code",
   "execution_count": null,
   "metadata": {
    "collapsed": true
   },
   "outputs": [],
   "source": [
    "jump_mus = np.array(preds_MEAN)[:,3].reshape(100)\n",
    "jump_mus_upper_84 = np.array(preds_Upper_84)[:,3].reshape(100)\n",
    "jump_mus_lower_16 = np.array(preds_Lower_16)[:,3].reshape(100)\n",
    "\n",
    "fig = pylab.figure()\n",
    "pylab.plot(jump_mu_s, jump_mus-jump_mu_s, color='g', label=\"predicted value\");\n",
    "pylab.axhline(y=0, color='black', linestyle='-', label=\"actual value\")\n",
    "\n",
    "#pylab.plot(jump_mu_s, jump_mu_s, color='black', label=\"actual value\");\n",
    "pylab.fill_between(jump_mu_s, jump_mus_lower_16-jump_mu_s, jump_mus_upper_84-jump_mu_s, color='g', alpha=0.1, edgecolor='none')\n",
    "pylab.xlabel(\"Jumps Mu\")\n",
    "pylab.ylabel(\"Prediction Deviation from Jumps Mu\")\n",
    "pylab.xlim(-0.5, 0.5)\n",
    "ax = pylab.gca()\n",
    "vals = ax.get_yticks()\n",
    "ax.set_yticklabels(['-'+str(x) for x in vals[vals<0]] + [0] + ['+'+str(x) for x in vals[vals>0]])\n",
    "\n",
    "\n",
    "pylab.legend(bbox_to_anchor=(1, 0.185), loc=1, borderaxespad=0.)\n",
    "pylab.show();\n",
    "fig.savefig(ROOT_DIR + \"/Images/Output-Sensitivity-Results/ConvolutionalNN-MultipleOutput-ELU/Varying-Jumps_mu/\"+\"Jumps_Mu.png\")"
   ]
  },
  {
   "cell_type": "code",
   "execution_count": null,
   "metadata": {
    "collapsed": true
   },
   "outputs": [],
   "source": [
    "lambdas = np.array(preds_MEAN)[:,4].reshape(100)\n",
    "lambdas_upper_84 = np.array(preds_Upper_84)[:,4].reshape(100)\n",
    "lambdas_lower_16 = np.array(preds_Lower_16)[:,4].reshape(100)\n",
    "\n",
    "fig = pylab.figure()\n",
    "pylab.plot(jump_mu_s, lambdas, color='y', label=\"predicted value\");\n",
    "pylab.axhline(y=0.02, color='black', linestyle='-', label=\"actual value\")\n",
    "pylab.fill_between(jump_mu_s, lambdas_lower_16, lambdas_upper_84, color='y', alpha=0.2, edgecolor='none')\n",
    "pylab.xlabel(\"Jumps Mu\")\n",
    "pylab.ylabel(\"Lambda\")\n",
    "pylab.xlim(-0.5, 0.5)\n",
    "\n",
    "pylab.legend(bbox_to_anchor=(1, 0.185), loc=1, borderaxespad=0.)\n",
    "pylab.show();\n",
    "fig.savefig(ROOT_DIR + \"/Images/Output-Sensitivity-Results/ConvolutionalNN-MultipleOutput-ELU/Varying-Jumps_mu/\"+\"Lambda.png\")"
   ]
  },
  {
   "cell_type": "markdown",
   "metadata": {},
   "source": [
    "# Sensitivity Test - Lambda"
   ]
  },
  {
   "cell_type": "code",
   "execution_count": null,
   "metadata": {
    "collapsed": true
   },
   "outputs": [],
   "source": [
    "jump_lambda_s = []\n",
    "\n",
    "preds_MEAN = []\n",
    "preds_Lower_16 = []\n",
    "preds_Upper_84 = []\n",
    "\n",
    "preds_SO_MEAN = []\n",
    "preds_SO_Upper_84 = []\n",
    "preds_SO_Lower_16 = []\n",
    "\n",
    "for j in range(100):\n",
    "    mp = test_set_model_params()\n",
    "    mp.lamda = 0.0001 + j*(0.025 - 0.0001)/100\n",
    "    test_set = []\n",
    "    \n",
    "    print(j)\n",
    "    \n",
    "    print(\"GENERATION...\")\n",
    "    test_set_pred = standard_convolutional_test_set(mp=mp)\n",
    "    \n",
    "    \n",
    "    print(\"PREDICTION...\\n\")\n",
    "    predictions_lambda = covnet_lambda.predict(test_set_pred)\n",
    "    predictions_jump_mu = covnet_jump_mu.predict(test_set_pred)\n",
    "    predictions_jump_sigma = covnet_jump_sigma.predict(test_set_pred)\n",
    "    predictions_sigma = covnet_sigma.predict(test_set_pred)\n",
    "    predictions_mu = covnet_mu.predict(test_set_pred)\n",
    "    \n",
    "    predictions_so = [predictions_sigma, predictions_mu, predictions_jump_sigma, predictions_jump_mu, predictions_lambda]\n",
    "    \n",
    "    preds_SO_MEAN.append(np.mean(predictions_so, axis = 1))\n",
    "    preds_SO_Upper_84.append(np.percentile(predictions_so, 84, axis = 1))\n",
    "    preds_SO_Lower_16.append(np.percentile(predictions_so, 16, axis = 1))\n",
    "    \n",
    "    jump_mu_s.append(mp.jumps_mu)\n",
    "    \n",
    "    predictions_elu = covnet_mo_elu.predict(test_set_pred)\n",
    "    \n",
    "    preds_MEAN.append(np.mean(predictions_elu, axis = 1))\n",
    "    preds_Upper_84.append(np.percentile(predictions_elu, 84, axis = 1))\n",
    "    preds_Lower_16.append(np.percentile(predictions_elu, 16, axis = 1))\n",
    "    \n",
    "    print(np.transpose(np.mean(predictions_so, axis = 1)))\n",
    "    print(\"   sigma,       mu,      jump_sigma,   jump_mu,    lambda\")\n",
    "    print(\"   0.1      0.05       0.07              0.05       \"+str(mp.lamda))\n",
    "    print(np.transpose(np.mean(predictions_elu, axis = 1)))\n",
    "    \n",
    "np.save(\"Sensitivity_Test-Covnet_MO_Lambda_jump_lambda_s.npy\", jump_lambda_s)\n",
    "\n",
    "\n",
    "np.save(\"./Sensitivity-Test-Results/Sensitivity_Test-covnet_SO-Lambda_preds_Upper_84.npy\", preds_SO_Upper_84)\n",
    "np.save(\"./Sensitivity-Test-Results/Sensitivity_Test-covnet_SO-Lambda_preds_Lower_16.npy\", preds_SO_Lower_16)\n",
    "np.save(\"./Sensitivity-Test-Results/Sensitivity_Test-covnet_SO-Lambda_preds_MEAN.npy\", preds_SO_MEAN)\n",
    "    \n",
    "np.save(\"./Sensitivity-Test-Results/Sensitivity_Test-covnet_MultipleO-Lambda_preds_Upper_84.npy\", preds_Upper_84)\n",
    "np.save(\"./Sensitivity-Test-Results/Sensitivity_Test-covnet_MultipleO-Lambda_preds_Lower_16.npy\", preds_Lower_16)\n",
    "np.save(\"./Sensitivity-Test-Results/Sensitivity_Test-covnet_MultipleO-Lambda_preds_MEAN.npy\", preds_MEAN)"
   ]
  },
  {
   "cell_type": "code",
   "execution_count": null,
   "metadata": {
    "collapsed": true
   },
   "outputs": [],
   "source": [
    "jump_lambda_s = []\n",
    "preds_MEAN = []\n",
    "preds_Upper_84 = []\n",
    "preds_Lower_16 = []\n",
    "\n",
    "for j in range(100):\n",
    "    covnet_mo_elu = covnet_multiple_output_with_ELUs()\n",
    "    covnet_mo_elu.load_weights(H5_DIR_COVNET_MULTIPLE_ELU)\n",
    "    \n",
    "    mp.lamda = 0.0001 + j*(0.025 - 0.0001)/100\n",
    "    test_set = []\n",
    "    \n",
    "    print(j)\n",
    "    \n",
    "    print(\"GENERATION...\")\n",
    "    test_set_pred = standard_convolutional_test_set()\n",
    "    \n",
    "    \n",
    "    print(\"PREDICTION...\\n\")\n",
    "    predictions_elu = covnet_mo_elu.predict(test_set_pred)\n",
    "    \n",
    "    print(np.transpose(np.mean(predictions_elu, axis = 1)))\n",
    "    print(\"   sigma,    mu,      jump_sigma,      jump_mu,    lambda\")\n",
    "    print(\"   0.1      0.05       0.07              0.05       \"+str(mp.lamda))\n",
    "    preds_MEAN.append(np.mean(predictions_elu, axis = 1))\n",
    "    jump_lambda_s.append(mp.lamda)\n",
    "    preds_Upper_84.append(np.percentile(predictions_elu, 84, axis = 1))\n",
    "    preds_Lower_16.append(np.percentile(predictions_elu, 16, axis = 1))\n",
    "    \n",
    "np.save(\"Sensitivity_Test-Covnet_MO_Lambda_preds_Upper_84.npy\", preds_Upper_84)\n",
    "np.save(\"Sensitivity_Test-Covnet_MO_Lambda_preds_Lower_16.npy\", preds_Lower_16)\n",
    "    \n",
    "np.save(\"Sensitivity_Test-Covnet_MO_Lambda_jump_lambda_s.npy\", jump_lambda_s)\n",
    "np.save(\"Sensitivity_Test-Covnet_MO_Lambda_preds_MEAN.npy\", preds_MEAN)"
   ]
  },
  {
   "cell_type": "code",
   "execution_count": null,
   "metadata": {
    "collapsed": true
   },
   "outputs": [],
   "source": [
    "preds_Upper_84 = np.load(\"Sensitivity_Test-Covnet_MO_Lambda_preds_Upper_84.npy\")\n",
    "preds_Lower_16 = np.load(\"Sensitivity_Test-Covnet_MO_Lambda_preds_Lower_16.npy\")\n",
    "    \n",
    "jump_lambda_s = np.load(\"Sensitivity_Test-Covnet_MO_Lambda_jump_lambda_s.npy\")\n",
    "preds_MEAN = np.load(\"Sensitivity_Test-Covnet_MO_Lambda_preds_MEAN.npy\")"
   ]
  },
  {
   "cell_type": "code",
   "execution_count": null,
   "metadata": {
    "collapsed": true
   },
   "outputs": [],
   "source": [
    "mus_ = np.array(preds_MEAN)[:,1].reshape(100)\n",
    "mus_upper_84 = np.array(preds_Upper_84)[:,1].reshape(100)\n",
    "mus_lower_16 = np.array(preds_Lower_16)[:,1].reshape(100)\n",
    "\n",
    "fig = pylab.figure()\n",
    "pylab.plot(jump_lambda_s, mus_, color='g', label=\"predicted value\");\n",
    "pylab.axhline(y=0.05, color='black', linestyle='-', label=\"actual value\")\n",
    "pylab.fill_between(jump_lambda_s, mus_lower_16, mus_upper_84, color='g', alpha=0.1, edgecolor='none')\n",
    "pylab.xlabel(\"Lambda\")\n",
    "pylab.ylabel(\"Mu\")\n",
    "\n",
    "pylab.legend(bbox_to_anchor=(1, 0.19), loc=1, borderaxespad=0.)\n",
    "pylab.show();\n",
    "fig.savefig(ROOT_DIR + \"/Images/Output-Sensitivity-Results/ConvolutionalNN-MultipleOutput-ELU/Varying-Lambda/\"+\"Mu.png\")"
   ]
  },
  {
   "cell_type": "code",
   "execution_count": null,
   "metadata": {
    "collapsed": true
   },
   "outputs": [],
   "source": [
    "sigmas = np.array(preds_MEAN)[:,0].reshape(100)\n",
    "sigmas_upper_84 = np.array(preds_Upper_84)[:,0].reshape(100)\n",
    "sigmas_lower_16 = np.array(preds_Lower_16)[:,0].reshape(100)\n",
    "\n",
    "fig = pylab.figure()\n",
    "pylab.plot(jump_lambda_s, sigmas, color='r', label=\"predicted value\");\n",
    "pylab.axhline(y=0.1, color='black', linestyle='-', label=\"actual value\")\n",
    "pylab.fill_between(jump_lambda_s, sigmas_lower_16, sigmas_upper_84, color='r', alpha=0.1, edgecolor='none')\n",
    "pylab.xlabel(\"Lambda\")\n",
    "pylab.ylabel(\"Sigma\")\n",
    "\n",
    "pylab.legend(bbox_to_anchor=(1, 0.185), loc=0, borderaxespad=0.)\n",
    "pylab.show();\n",
    "fig.savefig(ROOT_DIR + \"/Images/Output-Sensitivity-Results/ConvolutionalNN-MultipleOutput-ELU/Varying-Lambda/\"+\"Sigma.png\")"
   ]
  },
  {
   "cell_type": "code",
   "execution_count": null,
   "metadata": {
    "collapsed": true
   },
   "outputs": [],
   "source": [
    "jump_sigmas = np.array(preds_MEAN)[:,2].reshape(100)\n",
    "jump_sigmas_upper_84 = np.array(preds_Upper_84)[:,2].reshape(100)\n",
    "jump_sigmas_lower_16 = np.array(preds_Lower_16)[:,2].reshape(100)\n",
    "\n",
    "fig = pylab.figure()\n",
    "pylab.plot(jump_lambda_s, jump_sigmas, color='b', label=\"predicted value\");\n",
    "pylab.axhline(y=0.07, color='black', linestyle='-', label=\"actual value\")\n",
    "pylab.fill_between(jump_lambda_s, jump_sigmas_lower_16, jump_sigmas_upper_84, color='b', alpha=0.1, edgecolor='none')\n",
    "pylab.xlabel(\"Lambda\")\n",
    "pylab.ylabel(\"Jumps Sigma\")\n",
    "\n",
    "pylab.legend(bbox_to_anchor=(1, 0.185), loc=1, borderaxespad=0.)\n",
    "pylab.show();\n",
    "fig.savefig(ROOT_DIR + \"/Images/Output-Sensitivity-Results/ConvolutionalNN-MultipleOutput-ELU/Varying-Lambda/\"+\"Jumps_Sigma.png\")"
   ]
  },
  {
   "cell_type": "code",
   "execution_count": null,
   "metadata": {
    "collapsed": true
   },
   "outputs": [],
   "source": [
    "jump_mus = np.array(preds_MEAN)[:,3].reshape(100)\n",
    "jump_mus_upper_84 = np.array(preds_Upper_84)[:,3].reshape(100)\n",
    "jump_mus_lower_16 = np.array(preds_Lower_16)[:,3].reshape(100)\n",
    "\n",
    "fig = pylab.figure()\n",
    "pylab.plot(jump_lambda_s, jump_mus, color='g', label=\"predicted value\");\n",
    "pylab.axhline(y=0.05, color='black', linestyle='-', label=\"actual value\")\n",
    "pylab.fill_between(jump_lambda_s, jump_mus_lower_16, jump_mus_upper_84, color='g', alpha=0.1, edgecolor='none')\n",
    "pylab.xlabel(\"Lambda\")\n",
    "pylab.ylabel(\"Jumps Mu\")\n",
    "\n",
    "pylab.legend(bbox_to_anchor=(1, 0.185), loc=1, borderaxespad=0.)\n",
    "pylab.show();\n",
    "fig.savefig(ROOT_DIR + \"/Images/Output-Sensitivity-Results/ConvolutionalNN-MultipleOutput-ELU/Varying-Lambda/\"+\"Jumps_Mu.png\")"
   ]
  },
  {
   "cell_type": "code",
   "execution_count": null,
   "metadata": {
    "collapsed": true
   },
   "outputs": [],
   "source": [
    "lambdas = np.array(preds_MEAN)[:,4].reshape(100)\n",
    "lambdas_upper_84 = np.array(preds_Upper_84)[:,4].reshape(100)\n",
    "lambdas_lower_16 = np.array(preds_Lower_16)[:,4].reshape(100)\n",
    "\n",
    "fig = pylab.figure()\n",
    "pylab.plot(jump_lambda_s, lambdas, color='y', label=\"predicted value\");\n",
    "pylab.plot(jump_lambda_s, jump_lambda_s, color='black', label=\"actual value\");\n",
    "pylab.fill_between(jump_lambda_s, lambdas_lower_16, lambdas_upper_84, color='y', alpha=0.2, edgecolor='none')\n",
    "pylab.xlabel(\"Lambda\")\n",
    "pylab.ylabel(\"Lambda\")\n",
    "\n",
    "pylab.legend(bbox_to_anchor=(1, 0.185), loc=1, borderaxespad=0.)\n",
    "pylab.show();\n",
    "fig.savefig(ROOT_DIR + \"/Images/Output-Sensitivity-Results/ConvolutionalNN-MultipleOutput-ELU/Varying-Lambda/\"+\"Lambda.png\")"
   ]
  },
  {
   "cell_type": "markdown",
   "metadata": {},
   "source": [
    "# Sensitivity Tests"
   ]
  },
  {
   "cell_type": "markdown",
   "metadata": {},
   "source": [
    "### Sensitivity Test: Mu"
   ]
  },
  {
   "cell_type": "code",
   "execution_count": null,
   "metadata": {
    "collapsed": true
   },
   "outputs": [],
   "source": [
    "mu_s = []\n",
    "preds_MEAN = []\n",
    "preds_Lower_16 = []\n",
    "preds_Upper_84 = []\n",
    "\n",
    "\n",
    "preds_SINGLE_LAMBDA_MEAN = []\n",
    "preds_SINGLE_LAMBDA_Lower_16 = []\n",
    "preds_SINGLE_LAMBDA_Upper_84 = []"
   ]
  },
  {
   "cell_type": "code",
   "execution_count": null,
   "metadata": {
    "collapsed": true
   },
   "outputs": [],
   "source": [
    "for j in range(100):\n",
    "    covnet_lambda = covnet_single_lambda()\n",
    "    covnet_lambda.load_weights(H5_DIR_COVNET_LAMBDA)\n",
    "    \n",
    "    mp.gbm_mu = -1 + float(j)/50\n",
    "    test_set = []\n",
    "    \n",
    "    print(j)\n",
    "    \n",
    "    print(\"GENERATION...\")\n",
    "    test_set_pred = standard_convolutional_test_set()\n",
    "    \n",
    "    \n",
    "    print(\"PREDICTION...\\n\")\n",
    "    predictions_elu = covnet_lambda.predict(test_set_pred)\n",
    "    \n",
    "    #predictions_lambda = covnet_lambda.predict(test_set_pred)\n",
    "    \n",
    "    print(np.transpose(np.mean(predictions_elu, axis = 1)))\n",
    "    print(\"   sigma,       mu,      jump_sigma,   jump_mu,    lambda\")\n",
    "    print(\"    0.1         \"+str(mp.gbm_mu)+\"     0.07              0.05       0.02\")\n",
    "    \n",
    "    preds_MEAN.append(np.mean(predictions_elu, axis = 1))\n",
    "    mu_s.append(mp.gbm_mu)\n",
    "    preds_Upper_84.append(np.percentile(predictions_elu, 84, axis = 1))\n",
    "    preds_Lower_16.append(np.percentile(predictions_elu, 16, axis = 1))\n",
    "    \n",
    "np.save(\"Sensitivity_Test-covnet_lambda_Mu_preds_Upper_84.npy\", preds_Upper_84)\n",
    "np.save(\"Sensitivity_Test-covnet_lambda_Mu_preds_Lower_16.npy\", preds_Lower_16)\n",
    "    \n",
    "np.save(\"Sensitivity_Test-covnet_lambda_Mu_mu_s.npy\", mu_s)\n",
    "np.save(\"Sensitivity_Test-covnet_lambda_Mu_preds_MEAN.npy\", preds_MEAN)\n",
    "\n",
    "#np.save(\"Sensitivity_Test-preds_VaryingMu_SINGLE_LAMBDA_MEAN.npy\", preds_SINGLE_LAMBDA_MEAN)\n",
    "#np.save(\"Sensitivity_Test-preds_VaryingMu_preds_SINGLE_LAMBDA_Lower_16\", preds_SINGLE_LAMBDA_Lower_16)\n",
    "#np.save(\"Sensitivity_Test-preds_VaryingMu_preds_SINGLE_LAMBDA_Upper_84\", preds_SINGLE_LAMBDA_Upper_84)"
   ]
  },
  {
   "cell_type": "code",
   "execution_count": null,
   "metadata": {
    "collapsed": true
   },
   "outputs": [],
   "source": [
    "preds_Upper_84 = np.load(\"Sensitivity_Test-covnet_lambda_Mu_preds_Upper_84.npy\")\n",
    "preds_Lower_16 = np.load(\"Sensitivity_Test-covnet_lambda_Mu_preds_Lower_16.npy\")\n",
    "    \n",
    "mu_s = np.load(\"Sensitivity_Test-covnet_lambda_Mu_mu_s.npy\")\n",
    "preds_MEAN = np.load(\"Sensitivity_Test-covnet_lambda_Mu_preds_MEAN.npy\")"
   ]
  },
  {
   "cell_type": "code",
   "execution_count": null,
   "metadata": {
    "collapsed": true
   },
   "outputs": [],
   "source": [
    "sigmas = np.array(preds_MEAN)[:,0].reshape(100)\n",
    "sigma_upper_84 = np.array(preds_Upper_84)[:,0].reshape(100)\n",
    "sigma_lower_16 = np.array(preds_Lower_16)[:,0].reshape(100)"
   ]
  },
  {
   "cell_type": "code",
   "execution_count": null,
   "metadata": {
    "collapsed": true
   },
   "outputs": [],
   "source": [
    "fig = pylab.figure()\n",
    "pylab.plot(mu_s, sigmas, color='r', label=\"predicted value\");\n",
    "pylab.axhline(y=0.1, color='black', linestyle='-', label=\"actual value\")\n",
    "pylab.fill_between(mu_s, sigma_lower_16, sigma_upper_84, color='r', alpha=0.1, edgecolor='none')\n",
    "pylab.xlabel(\"Mu\")\n",
    "pylab.ylabel(\"Sigma\")\n",
    "\n",
    "pylab.legend(bbox_to_anchor=(1, 1), loc=1, borderaxespad=0.)\n",
    "pylab.show();\n",
    "fig.savefig(ROOT_DIR + \"/Images/Output-Sensitivity-Results/ConvolutionalNN-MultipleOutput-ELU/Varying-Mu/\"+\"sigma.png\")"
   ]
  },
  {
   "cell_type": "code",
   "execution_count": null,
   "metadata": {
    "collapsed": true
   },
   "outputs": [],
   "source": [
    "jump_sigmas = np.array(preds_MEAN)[:,2].reshape(100)\n",
    "jump_sigmas_upper_84 = np.array(preds_Upper_84)[:,2].reshape(100)\n",
    "jump_sigmas_lower_16 = np.array(preds_Lower_16)[:,2].reshape(100)"
   ]
  },
  {
   "cell_type": "code",
   "execution_count": null,
   "metadata": {
    "collapsed": true
   },
   "outputs": [],
   "source": [
    "plt.plot(mu_s, jump_sigmas, color='b', label=\"predicted value\");\n",
    "plt.axhline(y=0.07, color='black', linestyle='-', label=\"actual value\")\n",
    "plt.fill_between(mu_s, jump_sigmas_lower_16, jump_sigmas_upper_84, color='b', alpha=0.1, edgecolor='none')\n",
    "plt.xlabel(\"Mu\")\n",
    "plt.ylabel(\"Jumps Sigma\")\n",
    "\n",
    "plt.legend(bbox_to_anchor=(1, 0.185), loc=1, borderaxespad=0.)\n",
    "plt.show();"
   ]
  },
  {
   "cell_type": "code",
   "execution_count": null,
   "metadata": {
    "collapsed": true
   },
   "outputs": [],
   "source": [
    "jump_mus = np.array(preds_MEAN)[:,3].reshape(100)\n",
    "jump_mus_upper_84 = np.array(preds_Upper_84)[:,3].reshape(100)\n",
    "jump_mus_lower_16 = np.array(preds_Lower_16)[:,3].reshape(100)"
   ]
  },
  {
   "cell_type": "code",
   "execution_count": null,
   "metadata": {
    "collapsed": true
   },
   "outputs": [],
   "source": [
    "plt.plot(mu_s, jump_mus, color='g', label=\"predicted value\");\n",
    "plt.axhline(y=0.05, color='black', linestyle='-', label=\"actual value\")\n",
    "plt.fill_between(mu_s, jump_mus_lower_16, jump_mus_upper_84, color='g', alpha=0.1, edgecolor='none')\n",
    "plt.xlabel(\"Mu\")\n",
    "plt.ylabel(\"Jumps Mu\")\n",
    "\n",
    "plt.legend(bbox_to_anchor=(1, 1), loc=1, borderaxespad=0.)\n",
    "plt.show();"
   ]
  },
  {
   "cell_type": "code",
   "execution_count": null,
   "metadata": {
    "collapsed": true
   },
   "outputs": [],
   "source": [
    "lambdas = np.array(preds_MEAN)[:,0].reshape(100)\n",
    "lambdas_upper_84 = np.array(preds_Upper_84)[:,0].reshape(100)\n",
    "lambdas_lower_16 = np.array(preds_Lower_16)[:,0].reshape(100)"
   ]
  },
  {
   "cell_type": "code",
   "execution_count": null,
   "metadata": {
    "collapsed": true
   },
   "outputs": [],
   "source": [
    "lambdas_upper_84"
   ]
  },
  {
   "cell_type": "code",
   "execution_count": null,
   "metadata": {
    "collapsed": true
   },
   "outputs": [],
   "source": [
    "plt.plot(mu_s, lambdas, color='y', label=\"predicted value\");\n",
    "plt.axhline(y=0.02, color='black', linestyle='-', label=\"actual value\")\n",
    "plt.fill_between(mu_s, lambdas_lower_16, lambdas_upper_84, color='b', alpha=1, edgecolor='none')\n",
    "plt.xlabel(\"Mu\")\n",
    "plt.ylabel(\"Lambda\")\n",
    "\n",
    "plt.legend(bbox_to_anchor=(1, 1), loc=1, borderaxespad=0.)\n",
    "plt.show();"
   ]
  },
  {
   "cell_type": "code",
   "execution_count": null,
   "metadata": {
    "collapsed": true
   },
   "outputs": [],
   "source": [
    "mus_ = np.array(preds_MEAN)[:,1].reshape(100)\n",
    "mus_upper_84 = np.array(preds_Upper_84)[:,1].reshape(100)\n",
    "mus_lower_16 = np.array(preds_Lower_16)[:,1].reshape(100)"
   ]
  },
  {
   "cell_type": "code",
   "execution_count": null,
   "metadata": {
    "collapsed": true
   },
   "outputs": [],
   "source": [
    "plt.plot(mu_s, mus_, color='g', label=\"predicted value\");\n",
    "plt.plot(mu_s, mu_s, color='black', label=\"actual value\");\n",
    "plt.fill_between(mu_s, mus_lower_16, mus_upper_84, color='g', alpha=0.1, edgecolor='none')\n",
    "plt.xlabel(\"Mu\")\n",
    "plt.ylabel(\"Mu\")\n",
    "\n",
    "plt.legend(bbox_to_anchor=(1, 0.185), loc=1, borderaxespad=0.)\n",
    "plt.show();"
   ]
  },
  {
   "cell_type": "markdown",
   "metadata": {},
   "source": [
    "# Sensitivity Test - Sigma"
   ]
  },
  {
   "cell_type": "code",
   "execution_count": null,
   "metadata": {
    "collapsed": true
   },
   "outputs": [],
   "source": [
    "sigma_s = []\n",
    "preds_MEAN = []\n",
    "preds_Lower_16 = []\n",
    "preds_Upper_84 = []\n",
    "\n",
    "for j in range(100):\n",
    "    covnet_lambda = covnet_multiple_output_with_ELUs()\n",
    "    covnet_lambda.load_weights(H5_DIR_COVNET_MULTIPLE_ELU)\n",
    "    \n",
    "    mp.all_sigma = 0.001 + j*(0.2 - 0.001)/100\n",
    "    test_set = []\n",
    "    \n",
    "    print(j)\n",
    "    \n",
    "    print(\"GENERATION...\")\n",
    "    test_set_pred = standard_convolutional_test_set()\n",
    "    \n",
    "    print(\"PREDICTION...\\n\")\n",
    "    predictions_elu = covnet_lambda.predict(test_set_pred)\n",
    "    \n",
    "    print(np.transpose(np.mean(predictions_elu, axis = 1)))\n",
    "    print(\"   sigma,    mu,      jump_sigma,      jump_mu,    lambda\")\n",
    "    print(\"   \"+str(mp.all_sigma)+\"      0.05       0.07              0.05       0.02\")\n",
    "    print(np.mean(predictions_elu, axis = 1)+np.std(predictions_elu, axis = 1))\n",
    "    print(np.percentile(predictions_elu, 84, axis = 1))\n",
    "    preds_MEAN.append(np.mean(predictions_elu, axis = 1))\n",
    "    preds_Upper_84.append(np.percentile(predictions_elu, 84, axis = 1))\n",
    "    preds_Lower_16.append(np.percentile(predictions_elu, 16, axis = 1))\n",
    "    sigma_s.append(mp.all_sigma)\n",
    "    \n",
    "np.save(\"Sensitivity_Test-covnet_lambda_Sigma_sigma_s.npy\", sigma_s)\n",
    "np.save(\"Sensitivity_Test-covnet_lambda_Sigma_preds_MEAN.npy\", preds_MEAN)\n",
    "np.save(\"Sensitivity_Test-covnet_lambda_Sigma_preds_Upper_84.npy\", preds_Upper_84)\n",
    "np.save(\"Sensitivity_Test-covnet_lambda_Sigma_preds_Lower_16.npy\", preds_Lower_16)"
   ]
  },
  {
   "cell_type": "code",
   "execution_count": null,
   "metadata": {
    "collapsed": true
   },
   "outputs": [],
   "source": []
  },
  {
   "cell_type": "code",
   "execution_count": null,
   "metadata": {
    "collapsed": true
   },
   "outputs": [],
   "source": [
    "sigmas = np.array(preds_MEAN)[:,0].reshape(100)\n",
    "sigma_upper_84 = np.array(preds_Upper_84)[:,0].reshape(100)\n",
    "sigma_lower_16 = np.array(preds_Lower_16)[:,0].reshape(100)\n",
    "\n",
    "plt.plot(sigma_s, sigmas, color='r', label=\"predicted value\");\n",
    "plt.plot(sigma_s, sigma_s, color='black', label=\"actual value\");\n",
    "plt.fill_between(sigma_s, sigma_lower_16, sigma_upper_84, color='r', alpha=0.1, edgecolor='none')\n",
    "plt.xlabel(\"Sigma\")\n",
    "plt.ylabel(\"Sigma\")\n",
    "\n",
    "plt.legend(bbox_to_anchor=(1, 0.185), loc=0, borderaxespad=0.)\n",
    "plt.show();"
   ]
  },
  {
   "cell_type": "code",
   "execution_count": null,
   "metadata": {
    "collapsed": true
   },
   "outputs": [],
   "source": [
    "jump_sigmas = np.array(preds_MEAN)[:,2].reshape(100)\n",
    "jump_sigmas_upper_84 = np.array(preds_Upper_84)[:,2].reshape(100)\n",
    "jump_sigmas_lower_16 = np.array(preds_Lower_16)[:,2].reshape(100)\n",
    "\n",
    "plt.plot(sigma_s, jump_sigmas, color='b', label=\"predicted value\");\n",
    "plt.axhline(y=0.07, color='black', linestyle='-', label=\"actual value\")\n",
    "plt.fill_between(sigma_s, jump_sigmas_lower_16, jump_sigmas_upper_84, color='b', alpha=0.1, edgecolor='none')\n",
    "plt.xlabel(\"Sigma\")\n",
    "plt.ylabel(\"Jumps Sigma\")\n",
    "\n",
    "plt.legend(bbox_to_anchor=(1, 0.185), loc=1, borderaxespad=0.)\n",
    "plt.show();"
   ]
  },
  {
   "cell_type": "code",
   "execution_count": null,
   "metadata": {
    "collapsed": true
   },
   "outputs": [],
   "source": [
    "jump_mus = np.array(preds_MEAN)[:,3].reshape(100)\n",
    "jump_mus_upper_84 = np.array(preds_Upper_84)[:,3].reshape(100)\n",
    "jump_mus_lower_16 = np.array(preds_Lower_16)[:,3].reshape(100)\n",
    "\n",
    "plt.plot(sigma_s, jump_mus, color='g', label=\"predicted value\");\n",
    "plt.axhline(y=0.05, color='black', linestyle='-', label=\"actual value\")\n",
    "plt.fill_between(sigma_s, jump_mus_lower_16, jump_mus_upper_84, color='g', alpha=0.1, edgecolor='none')\n",
    "plt.xlabel(\"Sigma\")\n",
    "plt.ylabel(\"Jumps Mu\")\n",
    "\n",
    "plt.legend(bbox_to_anchor=(1, 0.185), loc=1, borderaxespad=0.)\n",
    "plt.show();"
   ]
  },
  {
   "cell_type": "code",
   "execution_count": null,
   "metadata": {
    "collapsed": true
   },
   "outputs": [],
   "source": [
    "lambdas = np.array(preds_MEAN)[:,4].reshape(100)\n",
    "lambdas_upper_84 = np.array(preds_Upper_84)[:,4].reshape(100)\n",
    "lambdas_lower_16 = np.array(preds_Lower_16)[:,4].reshape(100)\n",
    "\n",
    "plt.plot(sigma_s, lambdas, color='y', label=\"predicted value\");\n",
    "plt.axhline(y=0.02, color='black', linestyle='-', label=\"actual value\")\n",
    "plt.fill_between(sigma_s, lambdas_lower_16, lambdas_upper_84, color='y', alpha=0.1, edgecolor='none')\n",
    "plt.xlabel(\"Sigma\")\n",
    "plt.ylabel(\"Lambda\")\n",
    "\n",
    "plt.legend(bbox_to_anchor=(1, 0.185), loc=1, borderaxespad=0.)\n",
    "plt.show();"
   ]
  },
  {
   "cell_type": "code",
   "execution_count": null,
   "metadata": {
    "collapsed": true
   },
   "outputs": [],
   "source": [
    "mus_ = np.array(preds_MEAN)[:,1].reshape(100)\n",
    "mus_upper_84 = np.array(preds_Upper_84)[:,1].reshape(100)\n",
    "mus_lower_16 = np.array(preds_Lower_16)[:,1].reshape(100)\n",
    "\n",
    "plt.plot(sigma_s, mus_, color='g', label=\"predicted value\");\n",
    "plt.axhline(y=0.05, color='black', linestyle='-', label=\"actual value\")\n",
    "plt.fill_between(sigma_s, mus_lower_16, mus_upper_84, color='g', alpha=0.1, edgecolor='none')\n",
    "plt.xlabel(\"Sigma\")\n",
    "plt.ylabel(\"Mu\")\n",
    "\n",
    "plt.legend(bbox_to_anchor=(0.4085, 1), loc=1, borderaxespad=0.)\n",
    "plt.show();"
   ]
  },
  {
   "cell_type": "markdown",
   "metadata": {},
   "source": [
    "# Sensitivity Test - Jumps Sigma"
   ]
  },
  {
   "cell_type": "code",
   "execution_count": null,
   "metadata": {
    "collapsed": true
   },
   "outputs": [],
   "source": [
    "jump_sigma_s = []\n",
    "preds_MEAN = []\n",
    "preds_Lower_16 = []\n",
    "preds_Upper_84 = []\n",
    "\n",
    "for j in range(100):\n",
    "    covnet_lambda = covnet_multiple_output_with_ELUs()\n",
    "    covnet_lambda.load_weights(H5_DIR_COVNET_MULTIPLE_ELU)\n",
    "    \n",
    "    mp.jumps_sigma = 0.001 + j*(0.2 - 0.001)/100\n",
    "    test_set = []\n",
    "    \n",
    "    print(j)\n",
    "    \n",
    "    print(\"GENERATION...\")\n",
    "    test_set_pred = standard_convolutional_test_set()\n",
    "    \n",
    "    \n",
    "    print(\"PREDICTION...\\n\")\n",
    "    predictions_elu = covnet_lambda.predict(test_set_pred)\n",
    "    \n",
    "    print(np.transpose(np.mean(predictions_elu, axis = 1)))\n",
    "    print(\"   sigma,    mu,      jump_sigma,      jump_mu,    lambda\")\n",
    "    print(\"   0.1      0.05       \"+str(mp.jumps_sigma)+\"              0.05       0.02\")\n",
    "    preds_MEAN.append(np.mean(predictions_elu, axis = 1))\n",
    "    jump_sigma_s.append(mp.jumps_sigma)\n",
    "    preds_Upper_84.append(np.percentile(predictions_elu, 84, axis = 1))\n",
    "    preds_Lower_16.append(np.percentile(predictions_elu, 16, axis = 1))\n",
    "    \n",
    "np.save(\"Sensitivity_Test-covnet_lambda_JumpSigma_preds_Upper_84.npy\", preds_Upper_84)\n",
    "np.save(\"Sensitivity_Test-covnet_lambda_JumpSigma_preds_Lower_16.npy\", preds_Lower_16)\n",
    "np.save(\"Sensitivity_Test-covnet_lambda_JumpSigma_jump_sigma_s.npy\", jump_sigma_s)\n",
    "np.save(\"Sensitivity_Test-covnet_lambda_JumpSigma_preds_MEAN.npy\", preds_MEAN)"
   ]
  },
  {
   "cell_type": "code",
   "execution_count": null,
   "metadata": {
    "collapsed": true
   },
   "outputs": [],
   "source": [
    "preds_Upper_84 = np.load(\"Sensitivity_Test-covnet_lambda_JumpSigma_preds_Upper_84.npy\")\n",
    "preds_Lower_16 = np.load(\"Sensitivity_Test-covnet_lambda_JumpSigma_preds_Lower_16.npy\")\n",
    "jump_sigma_s = np.load(\"Sensitivity_Test-covnet_lambda_JumpSigma_jump_sigma_s.npy\")\n",
    "preds_MEAN = np.load(\"Sensitivity_Test-covnet_lambda_JumpSigma_preds_MEAN.npy\")"
   ]
  },
  {
   "cell_type": "code",
   "execution_count": null,
   "metadata": {
    "collapsed": true
   },
   "outputs": [],
   "source": [
    "mus_ = np.array(preds_MEAN)[:,1].reshape(100)\n",
    "mus_upper_84 = np.array(preds_Upper_84)[:,1].reshape(100)\n",
    "mus_lower_16 = np.array(preds_Lower_16)[:,1].reshape(100)\n",
    "\n",
    "plt.plot(jump_sigma_s, mus_, color='g', label=\"predicted value\");\n",
    "plt.axhline(y=0.05, color='black', linestyle='-', label=\"actual value\")\n",
    "plt.fill_between(jump_sigma_s, mus_lower_16, mus_upper_84, color='g', alpha=0.1, edgecolor='none')\n",
    "plt.xlabel(\"Jumps Sigma\")\n",
    "plt.ylabel(\"Mu\")\n",
    "\n",
    "plt.legend(bbox_to_anchor=(1, 0.19), loc=1, borderaxespad=0.)\n",
    "plt.show();"
   ]
  },
  {
   "cell_type": "code",
   "execution_count": null,
   "metadata": {
    "collapsed": true
   },
   "outputs": [],
   "source": [
    "sigmas = np.array(preds_MEAN)[:,0].reshape(100)\n",
    "sigmas_upper_84 = np.array(preds_Upper_84)[:,0].reshape(100)\n",
    "sigmas_lower_16 = np.array(preds_Lower_16)[:,0].reshape(100)\n",
    "\n",
    "plt.plot(jump_sigma_s, sigmas, color='r', label=\"predicted value\");\n",
    "plt.axhline(y=0.1, color='black', linestyle='-', label=\"actual value\")\n",
    "plt.fill_between(jump_sigma_s, sigmas_lower_16, sigmas_upper_84, color='r', alpha=0.1, edgecolor='none')\n",
    "plt.xlabel(\"Jumps Sigma\")\n",
    "plt.ylabel(\"Sigma\")\n",
    "\n",
    "plt.legend(bbox_to_anchor=(1, 0.185), loc=0, borderaxespad=0.)\n",
    "plt.show();"
   ]
  },
  {
   "cell_type": "code",
   "execution_count": null,
   "metadata": {
    "collapsed": true
   },
   "outputs": [],
   "source": [
    "jump_sigmas = np.array(preds_MEAN)[:,2].reshape(100)\n",
    "jump_sigmas_upper_84 = np.array(preds_Upper_84)[:,2].reshape(100)\n",
    "jump_sigmas_lower_16 = np.array(preds_Lower_16)[:,2].reshape(100)\n",
    "\n",
    "plt.plot(jump_sigma_s, jump_sigmas, color='b', label=\"predicted value\");\n",
    "plt.plot(jump_sigma_s, jump_sigma_s, color='black', label=\"actual value\");\n",
    "plt.fill_between(jump_sigma_s, jump_sigmas_lower_16, jump_sigmas_upper_84, color='b', alpha=0.1, edgecolor='none')\n",
    "plt.xlabel(\"Jumps Sigma\")\n",
    "plt.ylabel(\"Jumps Sigma\")\n",
    "\n",
    "plt.legend(bbox_to_anchor=(1, 0.185), loc=1, borderaxespad=0.)\n",
    "plt.show();"
   ]
  },
  {
   "cell_type": "code",
   "execution_count": null,
   "metadata": {
    "collapsed": true
   },
   "outputs": [],
   "source": [
    "jump_mus = np.array(preds_MEAN)[:,3].reshape(100)\n",
    "jump_mus_upper_84 = np.array(preds_Upper_84)[:,3].reshape(100)\n",
    "jump_mus_lower_16 = np.array(preds_Lower_16)[:,3].reshape(100)\n",
    "\n",
    "plt.plot(jump_sigma_s, jump_mus, color='g', label=\"predicted value\");\n",
    "plt.axhline(y=0.05, color='black', linestyle='-', label=\"actual value\")\n",
    "plt.fill_between(jump_sigma_s, jump_mus_lower_16, jump_mus_upper_84, color='g', alpha=0.1, edgecolor='none')\n",
    "plt.xlabel(\"Jumps Sigma\")\n",
    "plt.ylabel(\"Jumps Mu\")\n",
    "\n",
    "plt.legend(bbox_to_anchor=(1, 0.185), loc=1, borderaxespad=0.)\n",
    "plt.show();"
   ]
  },
  {
   "cell_type": "code",
   "execution_count": null,
   "metadata": {
    "collapsed": true
   },
   "outputs": [],
   "source": [
    "lambdas = np.array(preds_MEAN)[:,4].reshape(100)\n",
    "lambdas_upper_84 = np.array(preds_Upper_84)[:,4].reshape(100)\n",
    "lambdas_lower_16 = np.array(preds_Lower_16)[:,4].reshape(100)\n",
    "\n",
    "plt.plot(jump_sigma_s, lambdas, color='y', label=\"predicted value\");\n",
    "plt.axhline(y=0.02, color='black', linestyle='-', label=\"actual value\")\n",
    "plt.fill_between(jump_sigma_s, lambdas_lower_16, lambdas_upper_84, color='y', alpha=0.2, edgecolor='none')\n",
    "plt.xlabel(\"Jumps Sigma\")\n",
    "plt.ylabel(\"Lambda\")\n",
    "\n",
    "plt.legend(bbox_to_anchor=(1, 0.185), loc=1, borderaxespad=0.)\n",
    "plt.show();"
   ]
  },
  {
   "cell_type": "markdown",
   "metadata": {},
   "source": [
    "# Sensitivity Test - Jumps Mu"
   ]
  },
  {
   "cell_type": "code",
   "execution_count": null,
   "metadata": {
    "collapsed": true
   },
   "outputs": [],
   "source": [
    "jump_mu_s = []\n",
    "preds_MEAN = []\n",
    "preds_Upper_84 = []\n",
    "preds_Lower_16 = []\n",
    "\n",
    "for j in range(100):\n",
    "    covnet_lambda = covnet_multiple_output_with_ELUs()\n",
    "    covnet_lambda.load_weights(H5_DIR_COVNET_MULTIPLE_ELU)\n",
    "    \n",
    "    mp.jumps_mu = -0.5 + j/100\n",
    "    test_set = []\n",
    "    \n",
    "    print(j)\n",
    "    \n",
    "    print(\"GENERATION...\")\n",
    "    test_set_pred = standard_convolutional_test_set()\n",
    "    \n",
    "    \n",
    "    print(\"PREDICTION...\\n\")\n",
    "    predictions_elu = covnet_lambda.predict(test_set_pred)\n",
    "    \n",
    "    print(np.transpose(np.mean(predictions_elu, axis = 1)))\n",
    "    print(\"   sigma,    mu,      jump_sigma,      jump_mu,    lambda\")\n",
    "    print(\"   0.1      0.05       0.07              \"+str(mp.jumps_mu)+\"       0.02\")\n",
    "    preds_MEAN.append(np.mean(predictions_elu, axis = 1))\n",
    "    jump_mu_s.append(mp.jumps_mu)\n",
    "    preds_Upper_84.append(np.percentile(predictions_elu, 84, axis = 1))\n",
    "    preds_Lower_16.append(np.percentile(predictions_elu, 16, axis = 1))\n",
    "    \n",
    "np.save(\"Sensitivity_Test-covnet_lambda_JumpMu_preds_Upper_84.npy\", preds_Upper_84)\n",
    "np.save(\"Sensitivity_Test-covnet_lambda_JumpMu_preds_Lower_16.npy\", preds_Lower_16)\n",
    "    \n",
    "np.save(\"Sensitivity_Test-covnet_lambda_JumpMu_jump_mu_s.npy\", jump_mu_s)\n",
    "np.save(\"Sensitivity_Test-covnet_lambda_JumpMu_preds_MEAN.npy\", preds_MEAN)"
   ]
  },
  {
   "cell_type": "code",
   "execution_count": null,
   "metadata": {
    "collapsed": true
   },
   "outputs": [],
   "source": []
  },
  {
   "cell_type": "code",
   "execution_count": null,
   "metadata": {
    "collapsed": true
   },
   "outputs": [],
   "source": [
    "mus_ = np.array(preds_MEAN)[:,1].reshape(100)\n",
    "mus_upper_84 = np.array(preds_Upper_84)[:,1].reshape(100)\n",
    "mus_lower_16 = np.array(preds_Lower_16)[:,1].reshape(100)\n",
    "\n",
    "plt.plot(jump_mu_s, mus_, color='g', label=\"predicted value\");\n",
    "plt.axhline(y=0.05, color='black', linestyle='-', label=\"actual value\")\n",
    "plt.fill_between(jump_mu_s, mus_lower_16, mus_upper_84, color='g', alpha=0.1, edgecolor='none')\n",
    "plt.xlabel(\"Jumps Mu\")\n",
    "plt.ylabel(\"Mu\")\n",
    "\n",
    "plt.legend(bbox_to_anchor=(1, 0.19), loc=1, borderaxespad=0.)\n",
    "plt.show();"
   ]
  },
  {
   "cell_type": "code",
   "execution_count": null,
   "metadata": {
    "collapsed": true
   },
   "outputs": [],
   "source": [
    "sigmas = np.array(preds_MEAN)[:,0].reshape(100)\n",
    "sigmas_upper_84 = np.array(preds_Upper_84)[:,0].reshape(100)\n",
    "sigmas_lower_16 = np.array(preds_Lower_16)[:,0].reshape(100)\n",
    "\n",
    "plt.plot(jump_mu_s, sigmas, color='r', label=\"predicted value\");\n",
    "plt.axhline(y=0.1, color='black', linestyle='-', label=\"actual value\")\n",
    "plt.fill_between(jump_mu_s, sigmas_lower_16, sigmas_upper_84, color='r', alpha=0.1, edgecolor='none')\n",
    "plt.xlabel(\"Jumps Mu\")\n",
    "plt.ylabel(\"Sigma\")\n",
    "\n",
    "plt.legend(bbox_to_anchor=(1, 0.185), loc=0, borderaxespad=0.)\n",
    "plt.show();"
   ]
  },
  {
   "cell_type": "code",
   "execution_count": null,
   "metadata": {
    "collapsed": true
   },
   "outputs": [],
   "source": [
    "jump_sigmas = np.array(preds_MEAN)[:,2].reshape(100)\n",
    "jump_sigmas_upper_84 = np.array(preds_Upper_84)[:,2].reshape(100)\n",
    "jump_sigmas_lower_16 = np.array(preds_Lower_16)[:,2].reshape(100)\n",
    "\n",
    "plt.plot(jump_mu_s, jump_sigmas, color='b', label=\"predicted value\");\n",
    "plt.axhline(y=0.05, color='black', linestyle='-', label=\"actual value\")\n",
    "plt.fill_between(jump_mu_s, jump_sigmas_lower_16, jump_sigmas_upper_84, color='b', alpha=0.1, edgecolor='none')\n",
    "plt.xlabel(\"Jumps Mu\")\n",
    "plt.ylabel(\"Jumps Sigma\")\n",
    "\n",
    "plt.legend(bbox_to_anchor=(1, 0.185), loc=1, borderaxespad=0.)\n",
    "plt.show();"
   ]
  },
  {
   "cell_type": "code",
   "execution_count": null,
   "metadata": {
    "collapsed": true
   },
   "outputs": [],
   "source": [
    "jump_mus = np.array(preds_MEAN)[:,3].reshape(100)\n",
    "jump_mus_upper_84 = np.array(preds_Upper_84)[:,3].reshape(100)\n",
    "jump_mus_lower_16 = np.array(preds_Lower_16)[:,3].reshape(100)\n",
    "\n",
    "plt.plot(jump_mu_s, jump_mus, color='g', label=\"predicted value\");\n",
    "plt.plot(jump_mu_s, jump_mu_s, color='black', label=\"actual value\");\n",
    "plt.fill_between(jump_mu_s, jump_mus_lower_16, jump_mus_upper_84, color='g', alpha=0.1, edgecolor='none')\n",
    "plt.xlabel(\"Jumps Mu\")\n",
    "plt.ylabel(\"Jumps Mu\")\n",
    "\n",
    "plt.legend(bbox_to_anchor=(1, 0.185), loc=1, borderaxespad=0.)\n",
    "plt.show();"
   ]
  },
  {
   "cell_type": "code",
   "execution_count": null,
   "metadata": {
    "collapsed": true
   },
   "outputs": [],
   "source": [
    "lambdas = np.array(preds_MEAN)[:,4].reshape(100)\n",
    "lambdas_upper_84 = np.array(preds_Upper_84)[:,4].reshape(100)\n",
    "lambdas_lower_16 = np.array(preds_Lower_16)[:,4].reshape(100)\n",
    "\n",
    "plt.plot(jump_mu_s, lambdas, color='y', label=\"predicted value\");\n",
    "plt.axhline(y=0.02, color='black', linestyle='-', label=\"actual value\")\n",
    "plt.fill_between(jump_mu_s, lambdas_lower_16, lambdas_upper_84, color='y', alpha=0.2, edgecolor='none')\n",
    "plt.xlabel(\"Jumps Mu\")\n",
    "plt.ylabel(\"Lambda\")\n",
    "\n",
    "plt.legend(bbox_to_anchor=(1, 0.185), loc=1, borderaxespad=0.)\n",
    "plt.show();"
   ]
  },
  {
   "cell_type": "markdown",
   "metadata": {},
   "source": [
    "# Sensitivity Test - Lambda"
   ]
  },
  {
   "cell_type": "code",
   "execution_count": null,
   "metadata": {
    "collapsed": true
   },
   "outputs": [],
   "source": [
    "jump_lambda_s = []\n",
    "preds_MEAN = []\n",
    "preds_Upper_84 = []\n",
    "preds_Lower_16 = []\n",
    "\n",
    "for j in range(100):\n",
    "    covnet_lambda = covnet_multiple_output_with_ELUs()\n",
    "    covnet_lambda.load_weights(H5_DIR_COVNET_MULTIPLE_ELU)\n",
    "    \n",
    "    mp.lamda = 0.0001 + j*(0.025 - 0.0001)/100\n",
    "    test_set = []\n",
    "    \n",
    "    print(j)\n",
    "    \n",
    "    print(\"GENERATION...\")\n",
    "    test_set_pred = standard_convolutional_test_set()\n",
    "    \n",
    "    \n",
    "    print(\"PREDICTION...\\n\")\n",
    "    predictions_elu = covnet_lambda.predict(test_set_pred)\n",
    "    \n",
    "    print(np.transpose(np.mean(predictions_elu, axis = 1)))\n",
    "    print(\"   sigma,    mu,      jump_sigma,      jump_mu,    lambda\")\n",
    "    print(\"   0.1      0.05       0.07              0.05       \"+str(mp.lamda))\n",
    "    preds_MEAN.append(np.mean(predictions_elu, axis = 1))\n",
    "    jump_lambda_s.append(mp.lamda)\n",
    "    preds_Upper_84.append(np.percentile(predictions_elu, 84, axis = 1))\n",
    "    preds_Lower_16.append(np.percentile(predictions_elu, 16, axis = 1))\n",
    "    \n",
    "np.save(\"Sensitivity_Test-covnet_lambda_Lambda_preds_Upper_84.npy\", preds_Upper_84)\n",
    "np.save(\"Sensitivity_Test-covnet_lambda_Lambda_preds_Lower_16.npy\", preds_Lower_16)\n",
    "    \n",
    "np.save(\"Sensitivity_Test-covnet_lambda_Lambda_jump_lambda_s.npy\", jump_lambda_s)\n",
    "np.save(\"Sensitivity_Test-covnet_lambda_Lambda_preds_MEAN.npy\", preds_MEAN)"
   ]
  },
  {
   "cell_type": "code",
   "execution_count": null,
   "metadata": {
    "collapsed": true
   },
   "outputs": [],
   "source": [
    "mus_ = np.array(preds_MEAN)[:,1].reshape(100)\n",
    "mus_upper_84 = np.array(preds_Upper_84)[:,1].reshape(100)\n",
    "mus_lower_16 = np.array(preds_Lower_16)[:,1].reshape(100)\n",
    "\n",
    "plt.plot(jump_lambda_s, mus_, color='g', label=\"predicted value\");\n",
    "plt.axhline(y=0.05, color='black', linestyle='-', label=\"actual value\")\n",
    "plt.fill_between(jump_lambda_s, mus_lower_16, mus_upper_84, color='g', alpha=0.1, edgecolor='none')\n",
    "plt.xlabel(\"Lambda\")\n",
    "plt.ylabel(\"Mu\")\n",
    "\n",
    "plt.legend(bbox_to_anchor=(1, 0.19), loc=1, borderaxespad=0.)\n",
    "plt.show();"
   ]
  },
  {
   "cell_type": "code",
   "execution_count": null,
   "metadata": {
    "collapsed": true
   },
   "outputs": [],
   "source": [
    "sigmas = np.array(preds_MEAN)[:,0].reshape(100)\n",
    "sigmas_upper_84 = np.array(preds_Upper_84)[:,0].reshape(100)\n",
    "sigmas_lower_16 = np.array(preds_Lower_16)[:,0].reshape(100)\n",
    "\n",
    "plt.plot(jump_lambda_s, sigmas, color='r', label=\"predicted value\");\n",
    "plt.axhline(y=0.1, color='black', linestyle='-', label=\"actual value\")\n",
    "plt.fill_between(jump_lambda_s, sigmas_lower_16, sigmas_upper_84, color='r', alpha=0.1, edgecolor='none')\n",
    "plt.xlabel(\"Lambda\")\n",
    "plt.ylabel(\"Sigma\")\n",
    "\n",
    "plt.legend(bbox_to_anchor=(1, 0.185), loc=0, borderaxespad=0.)\n",
    "plt.show();"
   ]
  },
  {
   "cell_type": "code",
   "execution_count": null,
   "metadata": {
    "collapsed": true
   },
   "outputs": [],
   "source": [
    "jump_sigmas = np.array(preds_MEAN)[:,2].reshape(100)\n",
    "jump_sigmas_upper_84 = np.array(preds_Upper_84)[:,2].reshape(100)\n",
    "jump_sigmas_lower_16 = np.array(preds_Lower_16)[:,2].reshape(100)\n",
    "\n",
    "plt.plot(jump_lambda_s, jump_sigmas, color='b', label=\"predicted value\");\n",
    "plt.axhline(y=0.05, color='black', linestyle='-', label=\"actual value\")\n",
    "plt.fill_between(jump_lambda_s, jump_sigmas_lower_16, jump_sigmas_upper_84, color='b', alpha=0.1, edgecolor='none')\n",
    "plt.xlabel(\"Lambda\")\n",
    "plt.ylabel(\"Jumps Sigma\")\n",
    "\n",
    "plt.legend(bbox_to_anchor=(1, 0.185), loc=1, borderaxespad=0.)\n",
    "plt.show();"
   ]
  },
  {
   "cell_type": "code",
   "execution_count": null,
   "metadata": {
    "collapsed": true
   },
   "outputs": [],
   "source": [
    "jump_sigmas = np.array(preds_MEAN)[:,2].reshape(100)\n",
    "jump_sigmas_upper_84 = np.array(preds_Upper_84)[:,2].reshape(100)\n",
    "jump_sigmas_lower_16 = np.array(preds_Lower_16)[:,2].reshape(100)\n",
    "\n",
    "\n",
    "plt.plot(jump_lambda_s, jump_sigmas, color='b', label=\"predicted value\");\n",
    "plt.axhline(y=0.05, color='black', linestyle='-', label=\"actual value\")\n",
    "plt.fill_between(jump_lambda_s, jump_sigmas_lower_16, jump_sigmas_upper_84, color='b', alpha=0.1, edgecolor='none')\n",
    "plt.xlabel(\"Lambda\")\n",
    "plt.ylabel(\"Jumps Sigma\")\n",
    "\n",
    "plt.legend(bbox_to_anchor=(1, 0.185), loc=1, borderaxespad=0.)\n",
    "plt.show();"
   ]
  },
  {
   "cell_type": "code",
   "execution_count": null,
   "metadata": {
    "collapsed": true
   },
   "outputs": [],
   "source": [
    "jump_mus = np.array(preds_MEAN)[:,3].reshape(100)\n",
    "jump_mus_upper_84 = np.array(preds_Upper_84)[:,3].reshape(100)\n",
    "jump_mus_lower_16 = np.array(preds_Lower_16)[:,3].reshape(100)\n",
    "\n",
    "plt.plot(jump_lambda_s, jump_mus, color='g', label=\"predicted value\");\n",
    "plt.axhline(y=0.05, color='black', linestyle='-', label=\"actual value\")\n",
    "plt.fill_between(jump_lambda_s, jump_mus_lower_16, jump_mus_upper_84, color='g', alpha=0.1, edgecolor='none')\n",
    "plt.xlabel(\"Lambda\")\n",
    "plt.ylabel(\"Jumps Mu\")\n",
    "\n",
    "plt.legend(bbox_to_anchor=(1, 0.185), loc=1, borderaxespad=0.)\n",
    "plt.show();"
   ]
  },
  {
   "cell_type": "code",
   "execution_count": null,
   "metadata": {
    "collapsed": true
   },
   "outputs": [],
   "source": [
    "lambdas = np.array(preds_MEAN)[:,4].reshape(100)\n",
    "lambdas_upper_84 = np.array(preds_Upper_84)[:,4].reshape(100)\n",
    "lambdas_lower_16 = np.array(preds_Lower_16)[:,4].reshape(100)\n",
    "\n",
    "plt.plot(jump_lambda_s, lambdas, color='y', label=\"predicted value\");\n",
    "plt.plot(jump_lambda_s, jump_lambda_s, color='black', label=\"actual value\");\n",
    "plt.fill_between(jump_lambda_s, lambdas_lower_16, lambdas_upper_84, color='y', alpha=0.2, edgecolor='none')\n",
    "plt.xlabel(\"Lambda\")\n",
    "plt.ylabel(\"Lambda\")\n",
    "\n",
    "plt.legend(bbox_to_anchor=(1, 0.185), loc=1, borderaxespad=0.)\n",
    "plt.show();"
   ]
  },
  {
   "cell_type": "markdown",
   "metadata": {
    "collapsed": true
   },
   "source": [
    "# Tests"
   ]
  },
  {
   "cell_type": "code",
   "execution_count": null,
   "metadata": {
    "collapsed": true
   },
   "outputs": [],
   "source": [
    "test_set_pred, train_statistics = standard_test_sets()"
   ]
  },
  {
   "cell_type": "code",
   "execution_count": null,
   "metadata": {
    "collapsed": true
   },
   "outputs": [],
   "source": [
    "#predictions = covnet_mo.predict(test_set_pred)\n",
    "predictions_elu = covnet_mo_elu.predict(test_set_pred)"
   ]
  },
  {
   "cell_type": "code",
   "execution_count": null,
   "metadata": {
    "collapsed": true
   },
   "outputs": [],
   "source": [
    "predictions_ff = feedforward.predict(train_statistics)"
   ]
  },
  {
   "cell_type": "code",
   "execution_count": null,
   "metadata": {
    "collapsed": true
   },
   "outputs": [],
   "source": [
    "np.mean(predictions_ff, axis = 1)"
   ]
  },
  {
   "cell_type": "code",
   "execution_count": null,
   "metadata": {
    "collapsed": true
   },
   "outputs": [],
   "source": [
    "np.mean(predictions_elu, axis = 1)"
   ]
  },
  {
   "cell_type": "code",
   "execution_count": null,
   "metadata": {
    "collapsed": true
   },
   "outputs": [],
   "source": [
    "mp = test_set_model_params()\n",
    "print(mp.all_sigma, mp.gbm_mu, mp.jumps_sigma, mp.jumps_mu, mp.lamda)"
   ]
  },
  {
   "cell_type": "code",
   "execution_count": null,
   "metadata": {
    "collapsed": true
   },
   "outputs": [],
   "source": [
    "from PIL import Image"
   ]
  },
  {
   "cell_type": "code",
   "execution_count": null,
   "metadata": {
    "collapsed": true
   },
   "outputs": [],
   "source": [
    "def predictions_hist(predictions, true_value, plot_title = \"model\", param_name = \"param\", min_edge = None, max_edge = None, y_lim = (None, None), bin_size = 0.0025, img_subdir = \"/Images/\", save_to_file = True):\n",
    "    \n",
    "    if min_edge == None:\n",
    "        min_edge = np.min(predictions)\n",
    "    \n",
    "    if max_edge == None:\n",
    "        max_edge = np.max(predictions)\n",
    "    \n",
    "    bin_size = (max_edge-min_edge)/50\n",
    "    N = (max_edge-min_edge)/bin_size; Nplus1 = N + 1\n",
    "    bin_list = np.linspace(min_edge, max_edge, Nplus1)\n",
    "\n",
    "    fig = pylab.figure();\n",
    "    l = pylab.hist(predictions, bins=bin_list);\n",
    "    #pylab.title(plot_title);\n",
    "    pylab.axvline(x = true_value, c='k');\n",
    "    pylab.xlim(min_edge, max_edge);\n",
    "    \n",
    "    if y_lim != (None, None):\n",
    "        pylab.ylim(y_lim[0], y_lim[1])\n",
    "    \n",
    "    fig.set_dpi(120)     # draw the canvas, cache the renderer\n",
    "    \n",
    "    def fig2data ( fig ):\n",
    "        \"\"\"\n",
    "        @brief Convert a Matplotlib figure to a 4D numpy array with RGBA channels and return it\n",
    "        @param fig a matplotlib figure\n",
    "        @return a numpy 3D array of RGBA values\n",
    "        \"\"\"\n",
    "        # draw the renderer\n",
    "        fig.canvas.draw ( )\n",
    "\n",
    "        # Get the RGBA buffer from the figure\n",
    "        w,h = fig.canvas.get_width_height()\n",
    "        buf = numpy.fromstring ( fig.canvas.tostring_argb(), dtype=numpy.uint8 )\n",
    "        buf.shape = ( w, h,4 )\n",
    "\n",
    "        # canvas.tostring_argb give pixmap in ARGB mode. Roll the ALPHA channel to have it in RGBA mode\n",
    "        buf = numpy.roll ( buf, 3, axis = 2 )\n",
    "        return buf\n",
    "\n",
    "    def fig2img ( fig ):\n",
    "        \"\"\"\n",
    "        @brief Convert a Matplotlib figure to a PIL Image in RGBA format and return it\n",
    "        @param fig a matplotlib figure\n",
    "        @return a Python Imaging Library ( PIL ) image\n",
    "        \"\"\"\n",
    "        # put the figure pixmap into a numpy array\n",
    "        buf = fig2data ( fig )\n",
    "        w, h, d = buf.shape\n",
    "        return Image.frombytes( \"RGBA\", ( w ,h ), buf.tostring( ) )\n",
    "    \n",
    "    #width, height = fig.get_size_inches() * fig.get_dpi()\n",
    "    #img = (np.fromstring(fig.canvas.tostring_rgb(), dtype='uint8', sep='')).reshape(fig.canvas.get_width_height()[::-1] + (3,))\n",
    "    \n",
    "    if save_to_file:\n",
    "        fig.savefig(ROOT_DIR + img_subdir + plot_title + \"_\" + param_name + \".png\");\n",
    "    return fig, l"
   ]
  },
  {
   "cell_type": "code",
   "execution_count": null,
   "metadata": {
    "collapsed": true
   },
   "outputs": [],
   "source": [
    "\"\"\"predictions_hist(predictions[0], mp.all_sigma, \n",
    "                 \"Convolutional Architecture - Multiple Output - ReLU\", \n",
    "                 \"Sigma\",\n",
    "                 min_edge = 0.08,\n",
    "                 max_edge = 0.155,\n",
    "                 y_lim = (0, 210),\n",
    "                 img_subdir = \"/Images/Parameter-Prediction-Results/ConvolutionalNN-MultipleOutput-ReLU/\");\n",
    "\"\"\"\n",
    "predictions_hist(predictions_elu[0], mp.all_sigma, \n",
    "                 \"Convolutional Architecture - Multiple Output - ELU\", \n",
    "                 \"Sigma\",\n",
    "                 min_edge = 0.08,\n",
    "                 max_edge = 0.155,\n",
    "                 y_lim = (0, 210),\n",
    "                 img_subdir = \"/Images/Parameter-Prediction-Results/ConvolutionalNN-MultipleOutput-ELU/\");\n",
    "\n",
    "predictions_hist(predictions_ff[0], mp.all_sigma, \n",
    "                 \"Fully Connected Architecture - Multiple Output - ELU\", \n",
    "                 \"Sigma\",\n",
    "                 min_edge = 0.08,\n",
    "                 max_edge = 0.155,\n",
    "                 img_subdir = \"/Images/Parameter-Prediction-Results/FullyConnected-MultipleOutput-ELU/\");"
   ]
  },
  {
   "cell_type": "code",
   "execution_count": null,
   "metadata": {
    "collapsed": true
   },
   "outputs": [],
   "source": [
    "\"\"\"predictions_hist(predictions[1], mp.gbm_mu, \n",
    "                 \"Convolutional Architecture - Multiple Output - ReLU\", \n",
    "                 \"Mu\",\n",
    "                 min_edge = -0.1,\n",
    "                 max_edge = 0.4,\n",
    "                 y_lim = (0, 120),\n",
    "                 img_subdir = \"/Images/Parameter-Prediction-Results/ConvolutionalNN-MultipleOutput-ReLU/\");\n",
    "\"\"\"\n",
    "predictions_hist(predictions_elu[1], mp.gbm_mu, \n",
    "                 \"Convolutional Architecture - Multiple Output - ELU\", \n",
    "                 \"Mu\",\n",
    "                 min_edge = -0.1,\n",
    "                 max_edge = 0.4,\n",
    "                 y_lim = (0, 120),\n",
    "                 img_subdir = \"/Images/Parameter-Prediction-Results/ConvolutionalNN-MultipleOutput-ELU/\");\n",
    "\n",
    "predictions_hist(predictions_ff[1], mp.gbm_mu, \n",
    "                 \"Fully Connected Architecture - Multiple Output - ELU\", \n",
    "                 \"Mu\",\n",
    "                 min_edge = -0.1,\n",
    "                 max_edge = 0.4,\n",
    "                 y_lim = (0, 120),\n",
    "                 img_subdir = \"/Images/Parameter-Prediction-Results/FullyConnected-MultipleOutput-ELU/\");"
   ]
  },
  {
   "cell_type": "code",
   "execution_count": null,
   "metadata": {
    "collapsed": true
   },
   "outputs": [],
   "source": [
    "\"\"\"predictions_hist(predictions[2], mp.jumps_sigma, \n",
    "                 \"Convolutional Architecture - Multiple Output - ReLU\", \n",
    "                 \"Jumps Sigma\",\n",
    "                 min_edge = 0.02,\n",
    "                 max_edge = 0.13,\n",
    "                 y_lim = (0, 80),\n",
    "                 img_subdir = \"/Images/Parameter-Prediction-Results/ConvolutionalNN-MultipleOutput-ReLU/\");\n",
    "\"\"\"\n",
    "predictions_hist(predictions_elu[2], mp.jumps_sigma, \n",
    "                 \"Convolutional Architecture - Multiple Output - ELU\", \n",
    "                 \"Jumps Sigma\",\n",
    "                 min_edge = 0.02,\n",
    "                 max_edge = 0.13,\n",
    "                 y_lim = (0, 80),\n",
    "                 img_subdir = \"/Images/Parameter-Prediction-Results/ConvolutionalNN-MultipleOutput-ELU/\");\n",
    "\n",
    "\"\"\"predictions_hist(predictions_ff[2], mp.jumps_sigma, \n",
    "                 \"Fully Connected Architecture - Multiple Output - ELU\", \n",
    "                 \"Jumps Sigma\",\n",
    "                 min_edge = 0.02,\n",
    "                 max_edge = 0.13,\n",
    "                 img_subdir = \"/Images/Parameter-Prediction-Results/FullyConnected-MultipleOutput-ELU/\");\"\"\"\n",
    "\n",
    "preds_so = covnet_jump_sigma.predict(test_set_pred)\n",
    "predictions_hist(preds_so, mp.jumps_sigma, \n",
    "                 \"Convolutional Architecture - Multiple Output - ELU\", \n",
    "                 \"Jumps Sigma\",\n",
    "                 min_edge = 0.02,\n",
    "                 max_edge = 0.13,\n",
    "                 y_lim = (0, 80),\n",
    "                 img_subdir = \"/Images/Parameter-Prediction-Results/ConvolutionalNN-MultipleOutput-ELU/\");"
   ]
  },
  {
   "cell_type": "code",
   "execution_count": null,
   "metadata": {
    "collapsed": true
   },
   "outputs": [],
   "source": [
    "\"\"\"predictions_hist(predictions[3], mp.jumps_mu, \n",
    "                 \"Convolutional Architecture - Multiple Output - ReLU\", \n",
    "                 \"Jumps Mu\",\n",
    "                 min_edge = -0.1,\n",
    "                 max_edge = 0.15,\n",
    "                 y_lim = (0, 120),\n",
    "                 img_subdir = \"/Images/Parameter-Prediction-Results/ConvolutionalNN-MultipleOutput-ReLU/\");\n",
    "\"\"\"\n",
    "predictions_hist(predictions_elu[3], mp.jumps_mu, \n",
    "                 \"Convolutional Architecture - Multiple Output - ELU\", \n",
    "                 \"Jumps Mu\",\n",
    "                 min_edge = -0.1,\n",
    "                 max_edge = 0.15,\n",
    "                 y_lim = (0, 120),\n",
    "                 img_subdir = \"/Images/Parameter-Prediction-Results/ConvolutionalNN-MultipleOutput-ELU/\");\n",
    "\n",
    "predictions_hist(predictions_so, mp.jumps_mu, \n",
    "                 \"Convolutional Architecture - Single Output - ELU\", \n",
    "                 \"Jumps Mu\",\n",
    "                 min_edge = -0.1,\n",
    "                 max_edge = 0.15,\n",
    "                 y_lim = (0, 120),\n",
    "                 img_subdir = \"/Images/Parameter-Prediction-Results/ConvolutionalNN-SingleOutput/\");\n",
    "\n",
    "predictions_hist(predictions_ff[3], mp.jumps_mu, \n",
    "                 \"Fully Connected Architecture - Multiple Output - ELU\", \n",
    "                 \"Jumps Mu\",\n",
    "                 min_edge = -0.1,\n",
    "                 max_edge = 0.15,\n",
    "                 y_lim = (0, 120),\n",
    "                 img_subdir = \"/Images/Parameter-Prediction-Results/FullyConnected-MultipleOutput-ELU/\");"
   ]
  },
  {
   "cell_type": "code",
   "execution_count": null,
   "metadata": {
    "collapsed": true
   },
   "outputs": [],
   "source": [
    "predictions_so = covnet_jump_mu.predict(test_set_pred)"
   ]
  },
  {
   "cell_type": "code",
   "execution_count": null,
   "metadata": {
    "collapsed": true
   },
   "outputs": [],
   "source": [
    "predictions_so"
   ]
  },
  {
   "cell_type": "code",
   "execution_count": null,
   "metadata": {
    "collapsed": true
   },
   "outputs": [],
   "source": [
    "predictions_hist(np.reshape(predictions_so, len(predictions_so)), mp.jumps_mu, \n",
    "                 \"Fully Connected Architecture - Multiple Output - ELU\", \n",
    "                 \"Jumps Mu\",\n",
    "                 min_edge = -0.1,\n",
    "                 max_edge = 0.15,\n",
    "                 y_lim = (0, 120),\n",
    "                 img_subdir = \"/Images/Parameter-Prediction-Results/FullyConnected-MultipleOutput-ELU/\");\n"
   ]
  },
  {
   "cell_type": "code",
   "execution_count": null,
   "metadata": {
    "collapsed": true
   },
   "outputs": [],
   "source": [
    "single_param_predictions_lambda = covnet_lambda.predict(test_set_pred)"
   ]
  },
  {
   "cell_type": "code",
   "execution_count": null,
   "metadata": {
    "collapsed": true
   },
   "outputs": [],
   "source": [
    "\"\"\"predictions_hist(predictions[4], mp.lamda, \n",
    "                 \"Convolutional Architecture - Multiple Output - ReLU\", \n",
    "                 \"Lambda\",\n",
    "                 min_edge = 0.004,\n",
    "                 max_edge = 0.025,\n",
    "                 y_lim = (0, 100),\n",
    "                 img_subdir = \"/Images/Parameter-Prediction-Results/ConvolutionalNN-MultipleOutput-ReLU/\");\n",
    "\"\"\"\n",
    "\n",
    "predictions_hist(predictions_elu[4], mp.lamda, \n",
    "                 \"Convolutional Architecture - Multiple Output - ELU\", \n",
    "                 \"Lambda\",\n",
    "                 min_edge = 0.004,\n",
    "                 max_edge = 0.025,\n",
    "                 y_lim = (0, 100),\n",
    "                 img_subdir = \"/Images/Parameter-Prediction-Results/ConvolutionalNN-MultipleOutput-ELU/\");\n",
    "\n",
    "predictions_hist(predictions_ff[4], mp.lamda, \n",
    "                 \"Fully Connected Architecture - Multiple Output - ELU\", \n",
    "                 \"Lambda\",\n",
    "                 min_edge = 0.004,\n",
    "                 max_edge = 0.025,\n",
    "                 img_subdir = \"/Images/Parameter-Prediction-Results/FullyConnected-MultipleOutput-ELU/\");\n",
    "\n",
    "predictions_hist(single_param_predictions_lambda, mp.lamda, \n",
    "                 \"Convolutional Architecture - Single Output - ELU\", \n",
    "                 \"Lambda\",\n",
    "                 min_edge = 0.004,\n",
    "                 max_edge = 0.025,\n",
    "                 img_subdir = \"/Images/Parameter-Prediction-Results/ConvolutionalNN-SingleOutput/\");"
   ]
  },
  {
   "cell_type": "code",
   "execution_count": null,
   "metadata": {
    "collapsed": true
   },
   "outputs": [],
   "source": [
    "predictionset = []\n",
    "for return_set in test_set:\n",
    "    prediction = []\n",
    "    output1 = covnet_mo.predict(np.array([return_set]))\n",
    "    output2 = covnet_lambda.predict(np.array([return_set]))\n",
    "    output3 = covnet_jump_mu.predict(np.array([return_set]))\n",
    "    output4 = covnet_jump_sigma.predict(np.array([return_set]))\n",
    "    for output in output1:\n",
    "        prediction.append(output[0][0])\n",
    "    prediction.append(output2[0][0])\n",
    "    prediction.append(output3[0][0])\n",
    "    prediction.append(output4[0][0])\n",
    "    predictionset.append(prediction)\n",
    "        "
   ]
  },
  {
   "cell_type": "code",
   "execution_count": null,
   "metadata": {
    "collapsed": true
   },
   "outputs": [],
   "source": [
    "preds = ff_ensembling.predict(np.array(predictionset))\n",
    "np.transpose(preds)[4]"
   ]
  },
  {
   "cell_type": "code",
   "execution_count": null,
   "metadata": {
    "collapsed": true
   },
   "outputs": [],
   "source": [
    "lambdas = np.transpose(preds)[4]\n",
    "\n",
    "bin_size = 0.0005; min_edge = np.min(lambdas)-0.003; max_edge = np.max(lambdas)\n",
    "N = (max_edge-min_edge)/bin_size; Nplus1 = N + 1\n",
    "bin_list = np.linspace(min_edge, max_edge, Nplus1)\n",
    "\n",
    "plt.hist(lambdas, bins=bin_list);\n",
    "plt.title(\"Single Output:  Lambda with true value = \"+str(mp.lamda));\n",
    "plt.axvline(x=mp.lamda, c='k')\n",
    "plt.show();"
   ]
  },
  {
   "cell_type": "code",
   "execution_count": null,
   "metadata": {
    "collapsed": true
   },
   "outputs": [],
   "source": [
    "jump_mus = np.transpose(preds)[3]\n",
    "\n",
    "bin_size = 0.0025; min_edge = np.min(jump_mus)-0.03; max_edge = np.max(jump_mus)\n",
    "N = (max_edge-min_edge)/bin_size; Nplus1 = N + 1\n",
    "bin_list = np.linspace(min_edge, max_edge, Nplus1)\n",
    "\n",
    "plt.hist(jump_mus, bins=bin_list);\n",
    "plt.axvline(x=mp.jumps_mu, c='k')\n",
    "plt.title(\"Multiple Output: Mu_jumps with true value = \"+str(mp.jumps_mu));\n",
    "plt.show();"
   ]
  },
  {
   "cell_type": "code",
   "execution_count": null,
   "metadata": {
    "collapsed": true
   },
   "outputs": [],
   "source": [
    "jump_sigmas = np.transpose(preds)[2]\n",
    "\n",
    "bin_size = 0.0025; min_edge = np.min(jump_sigmas)-0.025; max_edge = np.max(jump_sigmas)\n",
    "N = (max_edge-min_edge)/bin_size; Nplus1 = N + 1\n",
    "bin_list = np.linspace(min_edge, max_edge, Nplus1)\n",
    "\n",
    "plt.hist(jump_sigmas, bins=bin_list);\n",
    "plt.title(\"Multiple Output: Sigma_jumps with true value = \"+str(mp.jumps_sigma));\n",
    "plt.axvline(x=mp.jumps_sigma, c='k')\n",
    "plt.show();"
   ]
  },
  {
   "cell_type": "code",
   "execution_count": null,
   "metadata": {
    "collapsed": true
   },
   "outputs": [],
   "source": [
    "preds"
   ]
  },
  {
   "cell_type": "code",
   "execution_count": null,
   "metadata": {
    "collapsed": true
   },
   "outputs": [],
   "source": [
    "random_seed = System.currentTimeMillis()\n",
    "print(random_seed)"
   ]
  },
  {
   "cell_type": "code",
   "execution_count": null,
   "metadata": {
    "collapsed": true
   },
   "outputs": [],
   "source": [
    "mp = random_model_params()\n",
    "mp.gbm_mu = 0.1\n",
    "mp.all_sigma = 0.1\n",
    "mp.lamda = 0.02\n",
    "mp.jumps_mu = 0.1\n",
    "mp.jumps_sigma = 0.05\n",
    "\n",
    "nrand.seed(random_seed)\n",
    "random.seed(random_seed)\n",
    "RETURNS_ = np.exp(geometric_brownian_motion_jump_diffusion_log_returns(mp))"
   ]
  },
  {
   "cell_type": "code",
   "execution_count": null,
   "metadata": {
    "collapsed": true
   },
   "outputs": [],
   "source": [
    "path1 = [1]\n",
    "for i in range(len(RETURNS_)):\n",
    "    path1.append(path1[i]*RETURNS_[i])"
   ]
  },
  {
   "cell_type": "code",
   "execution_count": null,
   "metadata": {
    "collapsed": true
   },
   "outputs": [],
   "source": [
    "nrand.seed(random_seed)\n",
    "random.seed(random_seed)\n",
    "return_set = np.reshape(np.array(geometric_brownian_motion_jump_diffusion_log_returns(mp)), (40, 50, 1))\n",
    "\n",
    "output1 = covnet_mo.predict(np.array([return_set]))\n",
    "output2 = covnet_lambda.predict(np.array([return_set]))\n",
    "output3 = covnet_jump_mu.predict(np.array([return_set]))\n",
    "output4 = covnet_jump_sigma.predict(np.array([return_set]))\n",
    "prediction = []\n",
    "\n",
    "for output in output1:\n",
    "    prediction.append(output[0][0])\n",
    "prediction.append(output2[0][0])\n",
    "prediction.append(output3[0][0])\n",
    "prediction.append(output4[0][0])    "
   ]
  },
  {
   "cell_type": "code",
   "execution_count": null,
   "metadata": {
    "collapsed": true
   },
   "outputs": [],
   "source": []
  },
  {
   "cell_type": "code",
   "execution_count": null,
   "metadata": {
    "collapsed": true
   },
   "outputs": [],
   "source": [
    "preds = covnet_mo_elu.predict(np.array([return_set]))"
   ]
  },
  {
   "cell_type": "code",
   "execution_count": null,
   "metadata": {
    "collapsed": true
   },
   "outputs": [],
   "source": [
    "mp.all_sigma = preds[0][0][0]\n",
    "mp.gbm_mu = preds[1][0][0]\n",
    "mp.jumps_sigma = preds[2][0][0]\n",
    "mp.jumps_mu = preds[3][0][0]\n",
    "mp.lamda = preds[4][0][0]"
   ]
  },
  {
   "cell_type": "code",
   "execution_count": null,
   "metadata": {
    "collapsed": true
   },
   "outputs": [],
   "source": [
    "preds"
   ]
  },
  {
   "cell_type": "code",
   "execution_count": null,
   "metadata": {
    "collapsed": true
   },
   "outputs": [],
   "source": [
    "nrand.seed(random_seed)\n",
    "random.seed(random_seed)\n",
    "RETURNS_ = np.exp(geometric_brownian_motion_jump_diffusion_log_returns(mp))\n",
    "path2 = [1]\n",
    "for i in range(len(RETURNS_)):\n",
    "    path2.append(path2[i]*RETURNS_[i])\n",
    "plt.plot(path2);\n",
    "plt.plot(path1);"
   ]
  },
  {
   "cell_type": "code",
   "execution_count": null,
   "metadata": {
    "collapsed": true
   },
   "outputs": [],
   "source": []
  },
  {
   "cell_type": "code",
   "execution_count": null,
   "metadata": {
    "collapsed": true
   },
   "outputs": [],
   "source": []
  },
  {
   "cell_type": "code",
   "execution_count": null,
   "metadata": {
    "collapsed": true
   },
   "outputs": [],
   "source": []
  }
 ],
 "metadata": {
  "anaconda-cloud": {},
  "kernelspec": {
   "display_name": "Python 2",
   "language": "python",
   "name": "python2"
  },
  "language_info": {
   "codemirror_mode": {
    "name": "ipython",
    "version": 2
   },
   "file_extension": ".py",
   "mimetype": "text/x-python",
   "name": "python",
   "nbconvert_exporter": "python",
   "pygments_lexer": "ipython2",
   "version": "2.7.12"
  },
  "widgets": {
   "state": {},
   "version": "1.1.2"
  }
 },
 "nbformat": 4,
 "nbformat_minor": 2
}
