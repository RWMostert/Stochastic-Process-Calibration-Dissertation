{
 "cells": [
  {
   "cell_type": "code",
   "execution_count": 1,
   "metadata": {},
   "outputs": [
    {
     "name": "stdout",
     "output_type": "stream",
     "text": [
      "Collecting keras\n",
      "  Using cached Keras-2.0.8-py2.py3-none-any.whl\n",
      "Collecting six>=1.9.0 (from keras)\n",
      "  Using cached six-1.11.0-py2.py3-none-any.whl\n",
      "Requirement already up-to-date: pyyaml in /usr/lib64/python2.7/dist-packages (from keras)\n",
      "Requirement already up-to-date: numpy>=1.9.1 in /usr/lib64/python2.7/dist-packages (from keras)\n",
      "Requirement already up-to-date: scipy>=0.14 in /usr/lib64/python2.7/dist-packages (from keras)\n",
      "Installing collected packages: six, keras\n",
      "  Found existing installation: six 1.10.0\n",
      "    Uninstalling six-1.10.0:\n",
      "      Successfully uninstalled six-1.10.0\n",
      "  Found existing installation: Keras 1.2.2\n",
      "    Uninstalling Keras-1.2.2:\n",
      "      Successfully uninstalled Keras-1.2.2\n",
      "Successfully installed keras-2.0.8 six-1.11.0\n"
     ]
    }
   ],
   "source": [
    "#!pip install seaborn\n",
    "!sudo pip install keras --upgrade"
   ]
  },
  {
   "cell_type": "code",
   "execution_count": 2,
   "metadata": {
    "collapsed": true
   },
   "outputs": [],
   "source": [
    "from Constants import ROOT_DIR, \\\n",
    "    H5_DIR_FULLYCONNECTED_MULTIPLE_RELU,\\\n",
    "    H5_DIR_FULLYCONNECTED_MULTIPLE_ELU,\\\n",
    "    H5_DIR_COVNET_MULTIPLE_RELU,\\\n",
    "    H5_DIR_COVNET_MULTIPLE_ELU,\\\n",
    "    H5_DIR_COVNET_JUMP_SIGMA,\\\n",
    "    H5_DIR_COVNET_JUMP_MU,\\\n",
    "    H5_DIR_COVNET_LAMBDA,\\\n",
    "    H5_DIR_ENSEMBLING,\\\n",
    "    HISTORY_DIR_FEEDFORWARD_RELU,\\\n",
    "    PREDICTIONS_DIR_FEEDFORWARD_RELU"
   ]
  },
  {
   "cell_type": "code",
   "execution_count": 3,
   "metadata": {},
   "outputs": [
    {
     "ename": "ImportError",
     "evalue": "No module named seaborn",
     "output_type": "error",
     "traceback": [
      "\u001b[0;31m---------------------------------------------------------------------------\u001b[0m",
      "\u001b[0;31mImportError\u001b[0m                               Traceback (most recent call last)",
      "\u001b[0;32m<ipython-input-3-50e9e615b4be>\u001b[0m in \u001b[0;36m<module>\u001b[0;34m()\u001b[0m\n\u001b[1;32m     12\u001b[0m \u001b[0;34m\u001b[0m\u001b[0m\n\u001b[1;32m     13\u001b[0m \u001b[0;31m# Optional:\u001b[0m\u001b[0;34m\u001b[0m\u001b[0;34m\u001b[0m\u001b[0m\n\u001b[0;32m---> 14\u001b[0;31m \u001b[0;32mimport\u001b[0m \u001b[0mseaborn\u001b[0m \u001b[0;32mas\u001b[0m \u001b[0msns\u001b[0m\u001b[0;34m\u001b[0m\u001b[0m\n\u001b[0m\u001b[1;32m     15\u001b[0m \u001b[0msns\u001b[0m\u001b[0;34m.\u001b[0m\u001b[0mset\u001b[0m\u001b[0;34m(\u001b[0m\u001b[0mcolor_codes\u001b[0m\u001b[0;34m=\u001b[0m\u001b[0mTrue\u001b[0m\u001b[0;34m)\u001b[0m\u001b[0;34m\u001b[0m\u001b[0m\n\u001b[1;32m     16\u001b[0m \u001b[0msns\u001b[0m\u001b[0;34m.\u001b[0m\u001b[0mset_style\u001b[0m\u001b[0;34m(\u001b[0m\u001b[0mstyle\u001b[0m\u001b[0;34m=\u001b[0m\u001b[0;34m'white'\u001b[0m\u001b[0;34m)\u001b[0m\u001b[0;34m\u001b[0m\u001b[0m\n",
      "\u001b[0;31mImportError\u001b[0m: No module named seaborn"
     ]
    }
   ],
   "source": [
    "import numpy as np\n",
    "import math\n",
    "import random\n",
    "#import statsmodels.api as sm\n",
    "import matplotlib.pyplot as plt\n",
    "import pylab\n",
    "\n",
    "from scipy import stats\n",
    "from numpy import random as nrand\n",
    "\n",
    "%matplotlib inline\n",
    "\n",
    "# Optional:\n",
    "import seaborn as sns\n",
    "sns.set(color_codes=True)\n",
    "sns.set_style(style='white')\n",
    "sns.set(font_scale=1.6)"
   ]
  },
  {
   "cell_type": "code",
   "execution_count": 4,
   "metadata": {},
   "outputs": [
    {
     "name": "stderr",
     "output_type": "stream",
     "text": [
      "Using TensorFlow backend.\n"
     ]
    }
   ],
   "source": [
    "import tensorflow as tf\n",
    "import keras\n",
    "from keras.models import Model, Sequential, load_model\n",
    "from keras.layers import Input, Dense, Flatten, LSTM, Convolution2D, MaxPooling2D, Input\n",
    "from keras.optimizers import Adam\n",
    "from keras import backend as K"
   ]
  },
  {
   "cell_type": "code",
   "execution_count": 5,
   "metadata": {},
   "outputs": [
    {
     "name": "stdout",
     "output_type": "stream",
     "text": [
      "2.0.8\n"
     ]
    }
   ],
   "source": [
    "print(keras.__version__)"
   ]
  },
  {
   "cell_type": "code",
   "execution_count": 6,
   "metadata": {
    "collapsed": true
   },
   "outputs": [],
   "source": [
    "sess = tf.Session(config=tf.ConfigProto(log_device_placement=True))"
   ]
  },
  {
   "cell_type": "code",
   "execution_count": 7,
   "metadata": {
    "collapsed": true
   },
   "outputs": [],
   "source": [
    "from Merton_Jump_Diffusion_SDE_Utilities import \\\n",
    "    ModelParameters, \\\n",
    "    random_model_params, \\\n",
    "    geometric_brownian_motion_jump_diffusion_log_returns\n",
    "    \n",
    "from Models import \\\n",
    "    fullyconnected_multiple_ELUs, \\\n",
    "    covnet_multiple_ELUs_8_layers, \\\n",
    "    covnet_single_ReLUs_6_layers, \\\n",
    "    fullyconnected_multiple_ReLUs, \\\n",
    "    covnet_multiple_ELUs_10_layers, \\\n",
    "    covnet_multiple_ELUs_10_layers_dilated"
   ]
  },
  {
   "cell_type": "code",
   "execution_count": 8,
   "metadata": {
    "collapsed": true
   },
   "outputs": [],
   "source": [
    "def test_set_model_params():\n",
    "    return ModelParameters(\n",
    "        all_time=2000,\n",
    "        all_delta=0.00396825396,\n",
    "        all_sigma = 0.1,\n",
    "        gbm_mu = 0.05,\n",
    "        jumps_sigma=0.07,\n",
    "        jumps_mu=0.05,\n",
    "        jumps_lamda=0.02)\n",
    "\n",
    "def standard_convolutional_test_set(sample_size = 1000, dim = (40, 50), mp = None):\n",
    "    if mp == None:\n",
    "        mp = test_set_model_params()\n",
    "        \n",
    "    test_set = []\n",
    "    for i in range(sample_size):\n",
    "        if (i%100 == 0):\n",
    "            print(i)\n",
    "        test_set.append(geometric_brownian_motion_jump_diffusion_log_returns(mp))\n",
    "\n",
    "    test_set_pred = np.reshape(np.array(test_set), (sample_size, dim[0], dim[1], 1))\n",
    "    return test_set_pred\n",
    "\n",
    "def convolutional_batch_generator(all_time = 2000, paramset_size = 32, paths_p_paramset = 5, constraint_all_sigma = (0.001,0.2), constraint_gbm_mu = (-1,1), constraint_jumps_lamda = (0.0001,0.025), constraint_jumps_sigma = (0.001, 0.2), constraint_jumps_mu = (-0.5,0.5)):\n",
    "    while True:\n",
    "        RETURNS_ = []\n",
    "        PARAMS_ = []\n",
    "        \n",
    "        for i in range(paramset_size):\n",
    "            mp = random_model_params(constraint_all_sigma, constraint_gbm_mu, constraint_jumps_lamda, constraint_jumps_sigma, constraint_jumps_mu)\n",
    "            mp.all_time = all_time\n",
    "            \n",
    "            for j in range(paths_p_paramset):\n",
    "                PARAMS_.append(mp)\n",
    "                RETURNS_.append(geometric_brownian_motion_jump_diffusion_log_returns(mp))\n",
    "        \n",
    "        train_data = np.reshape(np.array(RETURNS_), (paramset_size*paths_p_paramset, 40, 50, 1))\n",
    "        sigmas = np.array([[mp.all_sigma] for mp in PARAMS_])\n",
    "        mus = np.array([[mp.gbm_mu] for mp in PARAMS_])\n",
    "        jump_sigmas = np.array([[mp.jumps_sigma] for mp in PARAMS_])\n",
    "        jump_mus = np.array([[mp.jumps_mu] for mp in PARAMS_])\n",
    "        lambdas = np.array([[mp.lamda] for mp in PARAMS_])\n",
    "        \n",
    "        yield train_data, [sigmas, mus, jump_sigmas, jump_mus, lambdas]\n",
    "\n",
    "def standard_fullyconnected_test_set(sample_size = 1000):\n",
    "    test_set = []\n",
    "    for i in range(sample_size):\n",
    "        if (i%100 == 0):\n",
    "            print(i)\n",
    "        test_set.append(geometric_brownian_motion_jump_diffusion_log_returns(test_set_model_params()))\n",
    "\n",
    "    train_moments = [np.append(stats.moment(example, moment = range(2,20)), np.mean(example)) for example in test_set]\n",
    "    train_statistics = np.array([np.append(train_moments[i], \n",
    "                                  sm.tsa.stattools.acf(test_set[i])) \n",
    "                        for i in range(len(test_set))])\n",
    "    return train_statistics\n",
    "\n",
    "\n",
    "def standard_test_sets(sample_size = 1000, dim = (40, 50)):\n",
    "    test_set = []\n",
    "    for i in range(sample_size):\n",
    "        if (i%100 == 0):\n",
    "            print(i)\n",
    "        test_set.append(geometric_brownian_motion_jump_diffusion_log_returns(test_set_model_params()))\n",
    "\n",
    "    test_set_pred = np.reshape(np.array(test_set), (sample_size, dim[0], dim[1], 1))\n",
    "    \n",
    "    train_moments = [np.append(stats.moment(example, moment = range(2,20)), np.mean(example)) for example in test_set]\n",
    "    train_statistics = np.array([np.append(train_moments[i], \n",
    "                                  sm.tsa.stattools.acf(test_set[i])) \n",
    "                        for i in range(len(test_set))])\n",
    "    return test_set_pred, train_statistics\n",
    "\n",
    "def fullyconnected_batch_generator(all_time = 2000, paramset_size = 32, paths_p_paramset = 5):\n",
    "    while True:\n",
    "        RETURNS_ = []\n",
    "        PARAMS_ = []\n",
    "        \n",
    "        for i in range(paramset_size):\n",
    "            mp = random_model_params()\n",
    "            mp.all_time = all_time\n",
    "            \n",
    "            for j in range(paths_p_paramset):\n",
    "                PARAMS_.append(mp)\n",
    "                RETURNS_.append(geometric_brownian_motion_jump_diffusion_log_returns(mp))\n",
    "        \n",
    "        train_moments = [np.append(stats.moment(example, moment = range(2,20)), np.mean(example)) for example in RETURNS_]\n",
    "\n",
    "        train_statistics = np.array([np.append(train_moments[i], \n",
    "                              sm.tsa.stattools.acf(RETURNS_[i])) \n",
    "                    for i in range(len(RETURNS_))])\n",
    "        \n",
    "        sigmas = np.array([[mp.all_sigma] for mp in PARAMS_])\n",
    "        mus = np.array([[mp.gbm_mu] for mp in PARAMS_])\n",
    "        jump_sigmas = np.array([[mp.jumps_sigma] for mp in PARAMS_])\n",
    "        jump_mus = np.array([[mp.jumps_mu] for mp in PARAMS_])\n",
    "        lambdas = np.array([[mp.lamda] for mp in PARAMS_])\n",
    "        \n",
    "        yield train_statistics, [sigmas, mus, jump_sigmas, jump_mus, lambdas]"
   ]
  },
  {
   "cell_type": "markdown",
   "metadata": {},
   "source": [
    "### Fully Connected Multiple ReLUs"
   ]
  },
  {
   "cell_type": "code",
   "execution_count": null,
   "metadata": {
    "collapsed": true
   },
   "outputs": [],
   "source": [
    "feedforward = fullyconnected_multiple_ReLUs()\n",
    "#feedforward.load_weights(H5_DIR_FULLYCONNECTED_MULTIPLE_RELU)"
   ]
  },
  {
   "cell_type": "code",
   "execution_count": null,
   "metadata": {
    "collapsed": true
   },
   "outputs": [],
   "source": [
    "test_set = standard_fullyconnected_test_set()"
   ]
  },
  {
   "cell_type": "code",
   "execution_count": null,
   "metadata": {
    "collapsed": true
   },
   "outputs": [],
   "source": [
    "#feedforward_relu_histories = np.load(HISTORY_DIR_FEEDFORWARD_RELU).tolist()\n",
    "#feedforward_relu_predictions = np.load(PREDICTIONS_DIR_FEEDFORWARD_RELU).tolist()\n",
    "feedforward_relu_histories = []\n",
    "feedforward_relu_predictions = []"
   ]
  },
  {
   "cell_type": "code",
   "execution_count": null,
   "metadata": {
    "collapsed": true
   },
   "outputs": [],
   "source": [
    "train_gen = fullyconnected_batch_generator(paramset_size=1500, paths_p_paramset=1)"
   ]
  },
  {
   "cell_type": "code",
   "execution_count": null,
   "metadata": {
    "collapsed": true
   },
   "outputs": [],
   "source": [
    "!git pull"
   ]
  },
  {
   "cell_type": "code",
   "execution_count": null,
   "metadata": {
    "collapsed": true
   },
   "outputs": [],
   "source": [
    "for i in range(1000):\n",
    "    history = feedforward.fit_generator(train_gen, steps_per_epoch = 10, epochs = 1)\n",
    "    feedforward_relu_histories.append(history.history)\n",
    "    feedforward_relu_predictions.append(feedforward.predict(test_set))\n",
    "    \n",
    "    feedforward.save_weights(H5_DIR_FULLYCONNECTED_MULTIPLE_RELU)\n",
    "\n",
    "    np.save(HISTORY_DIR_FEEDFORWARD_RELU, feedforward_relu_histories)\n",
    "    np.save(PREDICTIONS_DIR_FEEDFORWARD_RELU, feedforward_relu_predictions)\n",
    "\n",
    "    if i%5 == 0:\n",
    "        !git config --global user.email \"rwmmostert@gmail.com\"\n",
    "        !git config --global user.name \"RWMostert\"\n",
    "        !git add --all\n",
    "        !git commit -am \"updated history, predictions and model\" \n",
    "        !git push -u origin master --quiet -f"
   ]
  },
  {
   "cell_type": "markdown",
   "metadata": {},
   "source": [
    "# Fully Connected Multiple ELUs"
   ]
  },
  {
   "cell_type": "code",
   "execution_count": null,
   "metadata": {
    "collapsed": true
   },
   "outputs": [],
   "source": [
    "feedforward = fullyconnected_multiple_ELUs()\n",
    "feedforward.load_weights(H5_DIR_FULLYCONNECTED_MULTIPLE_ELU)"
   ]
  },
  {
   "cell_type": "code",
   "execution_count": null,
   "metadata": {
    "collapsed": true
   },
   "outputs": [],
   "source": [
    "feedforward.load_weights(H5_DIR_FULLYCONNECTED_MULTIPLE_ELU)"
   ]
  },
  {
   "cell_type": "code",
   "execution_count": null,
   "metadata": {
    "collapsed": true
   },
   "outputs": [],
   "source": [
    "train_gen = fullyconnected_batch_generator(paramset_size=50, paths_p_paramset=1)\n",
    "#test_set = standard_fullyconnected_test_set()"
   ]
  },
  {
   "cell_type": "code",
   "execution_count": null,
   "metadata": {
    "collapsed": true
   },
   "outputs": [],
   "source": [
    "histories2 = np.load(\"feedforward_mo_histories.npy\").tolist()\n",
    "ff_predicts = np.load(\"ff_predicts.npy\").tolist()\n",
    "#histories2 = []\n",
    "#ff_predicts = []"
   ]
  },
  {
   "cell_type": "code",
   "execution_count": null,
   "metadata": {
    "collapsed": true
   },
   "outputs": [],
   "source": [
    "for i in range(1000):\n",
    "    history = feedforward.fit_generator(train_gen, steps_per_epoch = 1000, epochs = 1)\n",
    "    histories2.append(history.history)\n",
    "    ff_predicts.append(feedforward.predict(test_set))\n",
    "    \n",
    "    feedforward.save_weights(H5_DIR_FULLYCONNECTED_MULTIPLE_ELU)\n",
    "    np.save(\"feedforward_mo_histories.npy\", histories2)\n",
    "    np.save(\"ff_predicts.npy\", ff_predicts)\n",
    "    \n",
    "    !git config --global user.email \"rwmmostert@gmail.com\"\n",
    "    !git config --global user.name \"RWMostert\"\n",
    "    !git add --all\n",
    "    !git commit -am \"updated history, predictions and model\"\n",
    "    !git push -u origin master --quiet"
   ]
  },
  {
   "cell_type": "markdown",
   "metadata": {},
   "source": [
    "# Covnet Multiple Output with ELUs"
   ]
  },
  {
   "cell_type": "code",
   "execution_count": null,
   "metadata": {
    "collapsed": true
   },
   "outputs": [],
   "source": [
    "covnet_mo_elu = load_model(\"FULLMODEL_RELAXED_ELU_COVNET.h5\")"
   ]
  },
  {
   "cell_type": "code",
   "execution_count": null,
   "metadata": {
    "collapsed": true
   },
   "outputs": [],
   "source": [
    "#covnet_mo_elu = covnet_multiple_ELUs_8_layers(r_squared = False)\n",
    "#covnet_mo_elu.load_weights(\"RELAXED_ELU_COVNET.h5\")"
   ]
  },
  {
   "cell_type": "code",
   "execution_count": null,
   "metadata": {
    "collapsed": true
   },
   "outputs": [],
   "source": [
    "#covnet_mo_elu.save(H5_DIR_COVNET_MULTIPLE_ELU)"
   ]
  },
  {
   "cell_type": "code",
   "execution_count": null,
   "metadata": {
    "collapsed": true
   },
   "outputs": [],
   "source": [
    "test_set_pred = standard_convolutional_test_set()"
   ]
  },
  {
   "cell_type": "code",
   "execution_count": null,
   "metadata": {
    "collapsed": true
   },
   "outputs": [],
   "source": [
    "train_gen = convolutional_batch_generator(paramset_size=50, paths_p_paramset=1, constraint_gbm_mu=(-0.5, 0.5))"
   ]
  },
  {
   "cell_type": "code",
   "execution_count": null,
   "metadata": {
    "collapsed": true
   },
   "outputs": [],
   "source": [
    "histories_elu = np.load(\"covnet_histories_elu_RELAXED.npy\").tolist()\n",
    "covnet_mo_elu_predictions = np.load(\"covnet_mo_elu_predictions_RELAXED.npy\").tolist()"
   ]
  },
  {
   "cell_type": "code",
   "execution_count": null,
   "metadata": {
    "collapsed": true,
    "scrolled": true
   },
   "outputs": [],
   "source": [
    "for i in range(150000):\n",
    "    history = covnet_mo_elu.fit_generator(train_gen, samples_per_epoch = 100, nb_epoch = 10)\n",
    "    \n",
    "    histories_elu.append(history.history)\n",
    "    \n",
    "    predictions_elu = covnet_mo_elu.predict(test_set_pred)\n",
    "    \n",
    "    covnet_mo_elu_predictions.append(predictions_elu)\n",
    "    \n",
    "    covnet_mo_elu.save(\"FULLMODEL_RELAXED_ELU_COVNET.h5\")\n",
    "    \n",
    "    np.save(\"covnet_histories_elu_RELAXED.npy\", histories_elu)\n",
    "    np.save(\"covnet_mo_elu_predictions_RELAXED.npy\", covnet_mo_elu_predictions)\n",
    "    \n",
    "    !git config --global user.email \"rwmmostert@gmail.com\"\n",
    "    !git config --global user.name \"RWMostert\"\n",
    "    !git add --all\n",
    "    !git commit -am \"updated history, predictions and model\"\n",
    "    !git push -u origin master --quiet"
   ]
  },
  {
   "cell_type": "code",
   "execution_count": null,
   "metadata": {
    "collapsed": true
   },
   "outputs": [],
   "source": [
    "print()"
   ]
  },
  {
   "cell_type": "markdown",
   "metadata": {},
   "source": [
    "# DILATED Covnet Multiple Output with ELUs 10 Layers"
   ]
  },
  {
   "cell_type": "code",
   "execution_count": 8,
   "metadata": {},
   "outputs": [
    {
     "name": "stderr",
     "output_type": "stream",
     "text": [
      "/home/carnd/Stochastic-Process-Calibration-Dissertation/Source_Code/Models.py:192: UserWarning: The `merge` function is deprecated and will be removed after 08/2017. Use instead layers from `keras.layers.merge`, e.g. `add`, `concatenate`, etc.\n",
      "  merged = merge([layer1, dilated_layer], mode='concat',concat_axis=1) #or 'concat' or 'mul'\n",
      "/home/carnd/anaconda3/envs/carnd-term1/lib/python3.5/site-packages/keras/legacy/layers.py:460: UserWarning: The `Merge` layer is deprecated and will be removed after 08/2017. Use instead layers from `keras.layers.merge`, e.g. `add`, `concatenate`, etc.\n",
      "  name=name)\n",
      "/home/carnd/Stochastic-Process-Calibration-Dissertation/Source_Code/Models.py:227: UserWarning: Update your `Model` call to the Keras 2 API: `Model(outputs=[<tf.Tenso..., inputs=Tensor(\"in...)`\n",
      "  convnet_mo_elu = Model(input = input_1, output=[output1, output2, output3, output4, output5])\n"
     ]
    }
   ],
   "source": [
    "#covnet_mo_elu = load_model(\"FULLMODEL_10LAYERS_COVNET.h5\", custom_objects={\"r2\":r2})\n",
    "covnet_mo_elu = covnet_multiple_ELUs_10_layers_dilated()"
   ]
  },
  {
   "cell_type": "code",
   "execution_count": 9,
   "metadata": {
    "collapsed": true
   },
   "outputs": [],
   "source": [
    "#covnet_mo_elu = covnet_multiple_ELUs_10_layers()\n",
    "#covnet_mo_elu.load_weights(\"RELAXED_ELU_COVNET.h5\")"
   ]
  },
  {
   "cell_type": "code",
   "execution_count": 10,
   "metadata": {
    "collapsed": true
   },
   "outputs": [],
   "source": [
    "#covnet_mo_elu.save(H5_DIR_COVNET_MULTIPLE_ELU)"
   ]
  },
  {
   "cell_type": "code",
   "execution_count": 11,
   "metadata": {},
   "outputs": [
    {
     "name": "stdout",
     "output_type": "stream",
     "text": [
      "0\n",
      "100\n",
      "200\n",
      "300\n",
      "400\n",
      "500\n",
      "600\n",
      "700\n",
      "800\n",
      "900\n"
     ]
    }
   ],
   "source": [
    "test_set_pred = standard_convolutional_test_set()"
   ]
  },
  {
   "cell_type": "code",
   "execution_count": 25,
   "metadata": {
    "collapsed": true
   },
   "outputs": [],
   "source": [
    "train_gen = convolutional_batch_generator(paramset_size=1250, paths_p_paramset=1, constraint_gbm_mu=(-0.5, 0.5))"
   ]
  },
  {
   "cell_type": "code",
   "execution_count": 13,
   "metadata": {
    "collapsed": true
   },
   "outputs": [],
   "source": [
    "histories_elu = []#np.load(\"covnet_histories_elu_10LAYERS.npy\").tolist()\n",
    "covnet_mo_elu_predictions = []#np.load(\"covnet_mo_elu_predictions_10LAYERS.npy\").tolist()"
   ]
  },
  {
   "cell_type": "code",
   "execution_count": 14,
   "metadata": {
    "collapsed": true
   },
   "outputs": [],
   "source": [
    "smallest_loss = 20"
   ]
  },
  {
   "cell_type": "markdown",
   "metadata": {},
   "source": [
    "# Covnet Multiple Output with ELUs 10 Layers"
   ]
  },
  {
   "cell_type": "code",
   "execution_count": 10,
   "metadata": {
    "collapsed": true
   },
   "outputs": [],
   "source": [
    "covnet_mo_elu = load_model(\"FULLMODEL_10LAYERS_COVNET.h5\", custom_objects={\"r2\":r2})"
   ]
  },
  {
   "cell_type": "code",
   "execution_count": null,
   "metadata": {
    "collapsed": true
   },
   "outputs": [],
   "source": [
    "#covnet_mo_elu = covnet_multiple_ELUs_10_layers()\n",
    "#covnet_mo_elu.load_weights(\"RELAXED_ELU_COVNET.h5\")"
   ]
  },
  {
   "cell_type": "code",
   "execution_count": null,
   "metadata": {
    "collapsed": true
   },
   "outputs": [],
   "source": [
    "#covnet_mo_elu.save(H5_DIR_COVNET_MULTIPLE_ELU)"
   ]
  },
  {
   "cell_type": "code",
   "execution_count": 11,
   "metadata": {},
   "outputs": [
    {
     "name": "stdout",
     "output_type": "stream",
     "text": [
      "0\n",
      "100\n",
      "200\n",
      "300\n",
      "400\n",
      "500\n",
      "600\n",
      "700\n",
      "800\n",
      "900\n"
     ]
    }
   ],
   "source": [
    "test_set_pred = standard_convolutional_test_set()"
   ]
  },
  {
   "cell_type": "code",
   "execution_count": 16,
   "metadata": {
    "collapsed": true
   },
   "outputs": [],
   "source": [
    "train_gen = convolutional_batch_generator(paramset_size=1750, paths_p_paramset=1, constraint_gbm_mu=(-0.5, 0.5))"
   ]
  },
  {
   "cell_type": "code",
   "execution_count": 13,
   "metadata": {
    "collapsed": true
   },
   "outputs": [],
   "source": [
    "histories_elu = np.load(\"covnet_histories_elu_10LAYERS.npy\").tolist()\n",
    "covnet_mo_elu_predictions = np.load(\"covnet_mo_elu_predictions_10LAYERS.npy\").tolist()"
   ]
  },
  {
   "cell_type": "code",
   "execution_count": 14,
   "metadata": {
    "collapsed": true
   },
   "outputs": [],
   "source": [
    "smallest_loss = 20"
   ]
  },
  {
   "cell_type": "code",
   "execution_count": 19,
   "metadata": {
    "scrolled": true
   },
   "outputs": [
    {
     "name": "stderr",
     "output_type": "stream",
     "text": [
      "/home/carnd/anaconda3/envs/carnd-term1/lib/python3.5/site-packages/ipykernel_launcher.py:2: UserWarning: The semantics of the Keras 2 argument `steps_per_epoch` is not the same as the Keras 1 argument `samples_per_epoch`. `steps_per_epoch` is the number of batches to draw from the generator at each epoch. Basically steps_per_epoch = samples_per_epoch/batch_size. Similarly `nb_val_samples`->`validation_steps` and `val_samples`->`steps` arguments have changed. Update your method calls accordingly.\n",
      "  \n",
      "/home/carnd/anaconda3/envs/carnd-term1/lib/python3.5/site-packages/ipykernel_launcher.py:2: UserWarning: Update your `fit_generator` call to the Keras 2 API: `fit_generator(<generator..., epochs=1, steps_per_epoch=10)`\n",
      "  \n"
     ]
    },
    {
     "name": "stdout",
     "output_type": "stream",
     "text": [
      "Epoch 1/1\n",
      "10/10 [==============================] - 172s - loss: 0.0069 - sigma_loss: 5.1815e-05 - mu_loss: 0.0024 - jump_sigma_loss: 0.0012 - jump_mu_loss: 0.0033 - lambda_loss: 1.2211e-05 - sigma_mean_absolute_percentage_error: 17.4387 - sigma_r2: 0.9842 - mu_mean_absolute_percentage_error: 82.4425 - mu_r2: 0.9717 - jump_sigma_mean_absolute_percentage_error: 91.5152 - jump_sigma_r2: 0.6515 - jump_mu_mean_absolute_percentage_error: 51.5976 - jump_mu_r2: 0.9599 - lambda_mean_absolute_percentage_error: 50.5395 - lambda_r2: 0.7641    \n",
      "[master a478fe8] updated history, predictions and model\n",
      " 1 file changed, 1 insertion(+), 1 deletion(-)\n",
      "Branch master set up to track remote branch master from origin.\n",
      "Epoch 1/1\n",
      "10/10 [==============================] - 172s - loss: 0.0066 - sigma_loss: 5.1216e-05 - mu_loss: 0.0023 - jump_sigma_loss: 0.0011 - jump_mu_loss: 0.0031 - lambda_loss: 1.0300e-05 - sigma_mean_absolute_percentage_error: 16.1368 - sigma_r2: 0.9843 - mu_mean_absolute_percentage_error: 62.9775 - mu_r2: 0.9720 - jump_sigma_mean_absolute_percentage_error: 86.0733 - jump_sigma_r2: 0.6612 - jump_mu_mean_absolute_percentage_error: 60.4562 - jump_mu_r2: 0.9628 - lambda_mean_absolute_percentage_error: 48.8079 - lambda_r2: 0.7982    \n",
      "SAVE\n",
      "Epoch 1/1\n",
      "10/10 [==============================] - 171s - loss: 0.0067 - sigma_loss: 5.7669e-05 - mu_loss: 0.0023 - jump_sigma_loss: 0.0011 - jump_mu_loss: 0.0033 - lambda_loss: 9.7974e-06 - sigma_mean_absolute_percentage_error: 17.4026 - sigma_r2: 0.9826 - mu_mean_absolute_percentage_error: 237.5184 - mu_r2: 0.9726 - jump_sigma_mean_absolute_percentage_error: 84.1353 - jump_sigma_r2: 0.6569 - jump_mu_mean_absolute_percentage_error: 65.1540 - jump_mu_r2: 0.9605 - lambda_mean_absolute_percentage_error: 43.1536 - lambda_r2: 0.8098    \n",
      "Epoch 1/1\n",
      "10/10 [==============================] - 177s - loss: 0.0069 - sigma_loss: 6.5194e-05 - mu_loss: 0.0024 - jump_sigma_loss: 0.0011 - jump_mu_loss: 0.0033 - lambda_loss: 1.0057e-05 - sigma_mean_absolute_percentage_error: 18.0691 - sigma_r2: 0.9803 - mu_mean_absolute_percentage_error: 76.0986 - mu_r2: 0.9706 - jump_sigma_mean_absolute_percentage_error: 89.3161 - jump_sigma_r2: 0.6544 - jump_mu_mean_absolute_percentage_error: 49.0444 - jump_mu_r2: 0.9607 - lambda_mean_absolute_percentage_error: 48.4414 - lambda_r2: 0.8031    \n",
      "Epoch 1/1\n",
      "10/10 [==============================] - 172s - loss: 0.0066 - sigma_loss: 5.2166e-05 - mu_loss: 0.0021 - jump_sigma_loss: 0.0011 - jump_mu_loss: 0.0032 - lambda_loss: 1.0500e-05 - sigma_mean_absolute_percentage_error: 15.9854 - sigma_r2: 0.9840 - mu_mean_absolute_percentage_error: 59.8715 - mu_r2: 0.9740 - jump_sigma_mean_absolute_percentage_error: 86.6707 - jump_sigma_r2: 0.6559 - jump_mu_mean_absolute_percentage_error: 49.7293 - jump_mu_r2: 0.9610 - lambda_mean_absolute_percentage_error: 44.5212 - lambda_r2: 0.7955    \n",
      "SAVE\n",
      "Epoch 1/1\n",
      "10/10 [==============================] - 172s - loss: 0.0065 - sigma_loss: 5.2249e-05 - mu_loss: 0.0021 - jump_sigma_loss: 0.0011 - jump_mu_loss: 0.0033 - lambda_loss: 1.0148e-05 - sigma_mean_absolute_percentage_error: 17.0226 - sigma_r2: 0.9842 - mu_mean_absolute_percentage_error: 93.9248 - mu_r2: 0.9750 - jump_sigma_mean_absolute_percentage_error: 83.0682 - jump_sigma_r2: 0.6651 - jump_mu_mean_absolute_percentage_error: 78.4308 - jump_mu_r2: 0.9607 - lambda_mean_absolute_percentage_error: 47.3557 - lambda_r2: 0.8036    \n",
      "SAVE\n",
      "[master 15de666] updated history, predictions and model\n",
      " 4 files changed, 16 insertions(+), 1 deletion(-)\n",
      "Branch master set up to track remote branch master from origin.\n",
      "Epoch 1/1\n",
      "10/10 [==============================] - 171s - loss: 0.0066 - sigma_loss: 6.5812e-05 - mu_loss: 0.0022 - jump_sigma_loss: 0.0012 - jump_mu_loss: 0.0032 - lambda_loss: 1.1597e-05 - sigma_mean_absolute_percentage_error: 19.6260 - sigma_r2: 0.9801 - mu_mean_absolute_percentage_error: 57.3707 - mu_r2: 0.9741 - jump_sigma_mean_absolute_percentage_error: 87.3784 - jump_sigma_r2: 0.6428 - jump_mu_mean_absolute_percentage_error: 49.8862 - jump_mu_r2: 0.9615 - lambda_mean_absolute_percentage_error: 52.3950 - lambda_r2: 0.7774    \n",
      "Epoch 1/1\n",
      "10/10 [==============================] - 171s - loss: 0.0066 - sigma_loss: 5.8489e-05 - mu_loss: 0.0023 - jump_sigma_loss: 0.0012 - jump_mu_loss: 0.0031 - lambda_loss: 1.0182e-05 - sigma_mean_absolute_percentage_error: 16.8041 - sigma_r2: 0.9822 - mu_mean_absolute_percentage_error: 92.5004 - mu_r2: 0.9728 - jump_sigma_mean_absolute_percentage_error: 84.0767 - jump_sigma_r2: 0.6528 - jump_mu_mean_absolute_percentage_error: 123.7011 - jump_mu_r2: 0.9628 - lambda_mean_absolute_percentage_error: 46.8480 - lambda_r2: 0.8034    \n",
      "Epoch 1/1\n",
      "10/10 [==============================] - 171s - loss: 0.0066 - sigma_loss: 4.9538e-05 - mu_loss: 0.0021 - jump_sigma_loss: 0.0011 - jump_mu_loss: 0.0033 - lambda_loss: 9.6705e-06 - sigma_mean_absolute_percentage_error: 16.0828 - sigma_r2: 0.9849 - mu_mean_absolute_percentage_error: 63.7799 - mu_r2: 0.9749 - jump_sigma_mean_absolute_percentage_error: 86.2903 - jump_sigma_r2: 0.6621 - jump_mu_mean_absolute_percentage_error: 70.0619 - jump_mu_r2: 0.9608 - lambda_mean_absolute_percentage_error: 46.7639 - lambda_r2: 0.8121    \n",
      "Epoch 1/1\n",
      "10/10 [==============================] - 170s - loss: 0.0066 - sigma_loss: 5.0825e-05 - mu_loss: 0.0022 - jump_sigma_loss: 0.0011 - jump_mu_loss: 0.0032 - lambda_loss: 1.0815e-05 - sigma_mean_absolute_percentage_error: 15.5784 - sigma_r2: 0.9846 - mu_mean_absolute_percentage_error: 94.6141 - mu_r2: 0.9733 - jump_sigma_mean_absolute_percentage_error: 85.8130 - jump_sigma_r2: 0.6565 - jump_mu_mean_absolute_percentage_error: 66.6627 - jump_mu_r2: 0.9607 - lambda_mean_absolute_percentage_error: 52.0126 - lambda_r2: 0.7892    \n",
      "Epoch 1/1\n",
      "10/10 [==============================] - 172s - loss: 0.0066 - sigma_loss: 6.5518e-05 - mu_loss: 0.0022 - jump_sigma_loss: 0.0011 - jump_mu_loss: 0.0031 - lambda_loss: 1.0078e-05 - sigma_mean_absolute_percentage_error: 19.3619 - sigma_r2: 0.9801 - mu_mean_absolute_percentage_error: 69.2087 - mu_r2: 0.9731 - jump_sigma_mean_absolute_percentage_error: 88.1139 - jump_sigma_r2: 0.6652 - jump_mu_mean_absolute_percentage_error: 54.0758 - jump_mu_r2: 0.9624 - lambda_mean_absolute_percentage_error: 44.9872 - lambda_r2: 0.8035    \n",
      "[master 83f6f7a] updated history, predictions and model\n",
      " 1 file changed, 15 insertions(+), 1 deletion(-)\n",
      "Branch master set up to track remote branch master from origin.\n",
      "Epoch 1/1\n",
      "10/10 [==============================] - 171s - loss: 0.0065 - sigma_loss: 5.7281e-05 - mu_loss: 0.0022 - jump_sigma_loss: 0.0011 - jump_mu_loss: 0.0032 - lambda_loss: 1.0173e-05 - sigma_mean_absolute_percentage_error: 16.8327 - sigma_r2: 0.9826 - mu_mean_absolute_percentage_error: 65.6483 - mu_r2: 0.9737 - jump_sigma_mean_absolute_percentage_error: 89.3418 - jump_sigma_r2: 0.6661 - jump_mu_mean_absolute_percentage_error: 64.2400 - jump_mu_r2: 0.9613 - lambda_mean_absolute_percentage_error: 45.9581 - lambda_r2: 0.8028    \n",
      "SAVE\n",
      "Epoch 1/1\n",
      "10/10 [==============================] - 171s - loss: 0.0070 - sigma_loss: 4.9659e-05 - mu_loss: 0.0023 - jump_sigma_loss: 0.0011 - jump_mu_loss: 0.0035 - lambda_loss: 1.0217e-05 - sigma_mean_absolute_percentage_error: 16.5037 - sigma_r2: 0.9850 - mu_mean_absolute_percentage_error: 71.5816 - mu_r2: 0.9719 - jump_sigma_mean_absolute_percentage_error: 89.7370 - jump_sigma_r2: 0.6542 - jump_mu_mean_absolute_percentage_error: 61.8265 - jump_mu_r2: 0.9582 - lambda_mean_absolute_percentage_error: 46.7908 - lambda_r2: 0.8033    \n",
      "Epoch 1/1\n",
      "10/10 [==============================] - 170s - loss: 0.0065 - sigma_loss: 5.8943e-05 - mu_loss: 0.0022 - jump_sigma_loss: 0.0012 - jump_mu_loss: 0.0031 - lambda_loss: 1.0101e-05 - sigma_mean_absolute_percentage_error: 16.8085 - sigma_r2: 0.9821 - mu_mean_absolute_percentage_error: 71.2795 - mu_r2: 0.9733 - jump_sigma_mean_absolute_percentage_error: 84.5162 - jump_sigma_r2: 0.6475 - jump_mu_mean_absolute_percentage_error: 57.2974 - jump_mu_r2: 0.9632 - lambda_mean_absolute_percentage_error: 49.0876 - lambda_r2: 0.8041    \n",
      "Epoch 1/1\n",
      "10/10 [==============================] - 172s - loss: 0.0063 - sigma_loss: 6.3821e-05 - mu_loss: 0.0021 - jump_sigma_loss: 0.0011 - jump_mu_loss: 0.0030 - lambda_loss: 1.0018e-05 - sigma_mean_absolute_percentage_error: 18.6011 - sigma_r2: 0.9805 - mu_mean_absolute_percentage_error: 92.6168 - mu_r2: 0.9749 - jump_sigma_mean_absolute_percentage_error: 85.0444 - jump_sigma_r2: 0.6722 - jump_mu_mean_absolute_percentage_error: 127.8110 - jump_mu_r2: 0.9635 - lambda_mean_absolute_percentage_error: 47.0981 - lambda_r2: 0.8044   \n",
      "SAVE\n",
      "Epoch 1/1\n",
      "10/10 [==============================] - 171s - loss: 0.0065 - sigma_loss: 5.5324e-05 - mu_loss: 0.0020 - jump_sigma_loss: 0.0011 - jump_mu_loss: 0.0032 - lambda_loss: 9.0393e-06 - sigma_mean_absolute_percentage_error: 18.7198 - sigma_r2: 0.9832 - mu_mean_absolute_percentage_error: 89.7616 - mu_r2: 0.9754 - jump_sigma_mean_absolute_percentage_error: 87.3481 - jump_sigma_r2: 0.6654 - jump_mu_mean_absolute_percentage_error: 92.0683 - jump_mu_r2: 0.9613 - lambda_mean_absolute_percentage_error: 45.5917 - lambda_r2: 0.8240    \n",
      "[master 721e653] updated history, predictions and model\n",
      " 4 files changed, 22 insertions(+), 1 deletion(-)\n",
      "Branch master set up to track remote branch master from origin.\n",
      "Epoch 1/1\n",
      "10/10 [==============================] - 172s - loss: 0.0065 - sigma_loss: 5.3397e-05 - mu_loss: 0.0021 - jump_sigma_loss: 0.0011 - jump_mu_loss: 0.0033 - lambda_loss: 9.7977e-06 - sigma_mean_absolute_percentage_error: 17.4263 - sigma_r2: 0.9839 - mu_mean_absolute_percentage_error: 468.4030 - mu_r2: 0.9749 - jump_sigma_mean_absolute_percentage_error: 85.6092 - jump_sigma_r2: 0.6670 - jump_mu_mean_absolute_percentage_error: 72.1314 - jump_mu_r2: 0.9610 - lambda_mean_absolute_percentage_error: 44.6116 - lambda_r2: 0.8115    \n",
      "Epoch 1/1\n",
      "10/10 [==============================] - 170s - loss: 0.0067 - sigma_loss: 5.9114e-05 - mu_loss: 0.0022 - jump_sigma_loss: 0.0011 - jump_mu_loss: 0.0033 - lambda_loss: 1.0618e-05 - sigma_mean_absolute_percentage_error: 16.0411 - sigma_r2: 0.9821 - mu_mean_absolute_percentage_error: 103.4835 - mu_r2: 0.9733 - jump_sigma_mean_absolute_percentage_error: 86.7290 - jump_sigma_r2: 0.6630 - jump_mu_mean_absolute_percentage_error: 243.4583 - jump_mu_r2: 0.9604 - lambda_mean_absolute_percentage_error: 52.7069 - lambda_r2: 0.7947    \n",
      "Epoch 1/1\n",
      " 2/10 [=====>........................] - ETA: 142s - loss: 0.0064 - sigma_loss: 5.2947e-05 - mu_loss: 0.0023 - jump_sigma_loss: 0.0011 - jump_mu_loss: 0.0030 - lambda_loss: 9.7430e-06 - sigma_mean_absolute_percentage_error: 20.4087 - sigma_r2: 0.9841 - mu_mean_absolute_percentage_error: 75.3367 - mu_r2: 0.9726 - jump_sigma_mean_absolute_percentage_error: 84.0292 - jump_sigma_r2: 0.6696 - jump_mu_mean_absolute_percentage_error: 41.1556 - jump_mu_r2: 0.9628 - lambda_mean_absolute_percentage_error: 42.4517 - lambda_r2: 0.8089"
     ]
    },
    {
     "ename": "KeyboardInterrupt",
     "evalue": "",
     "output_type": "error",
     "traceback": [
      "\u001b[0;31m---------------------------------------------------------------------------\u001b[0m",
      "\u001b[0;31mKeyboardInterrupt\u001b[0m                         Traceback (most recent call last)",
      "\u001b[0;32m<ipython-input-19-0a56e8b13eb6>\u001b[0m in \u001b[0;36m<module>\u001b[0;34m()\u001b[0m\n\u001b[1;32m      1\u001b[0m \u001b[0;32mfor\u001b[0m \u001b[0mi\u001b[0m \u001b[0;32min\u001b[0m \u001b[0mrange\u001b[0m\u001b[0;34m(\u001b[0m\u001b[0;36m150000\u001b[0m\u001b[0;34m)\u001b[0m\u001b[0;34m:\u001b[0m\u001b[0;34m\u001b[0m\u001b[0m\n\u001b[0;32m----> 2\u001b[0;31m     \u001b[0mhistory\u001b[0m \u001b[0;34m=\u001b[0m \u001b[0mcovnet_mo_elu\u001b[0m\u001b[0;34m.\u001b[0m\u001b[0mfit_generator\u001b[0m\u001b[0;34m(\u001b[0m\u001b[0mtrain_gen\u001b[0m\u001b[0;34m,\u001b[0m \u001b[0msamples_per_epoch\u001b[0m \u001b[0;34m=\u001b[0m \u001b[0;36m10\u001b[0m\u001b[0;34m,\u001b[0m \u001b[0mnb_epoch\u001b[0m \u001b[0;34m=\u001b[0m \u001b[0;36m1\u001b[0m\u001b[0;34m)\u001b[0m\u001b[0;34m\u001b[0m\u001b[0m\n\u001b[0m\u001b[1;32m      3\u001b[0m \u001b[0;34m\u001b[0m\u001b[0m\n\u001b[1;32m      4\u001b[0m     \u001b[0;32mif\u001b[0m \u001b[0mhistory\u001b[0m\u001b[0;34m.\u001b[0m\u001b[0mhistory\u001b[0m\u001b[0;34m[\u001b[0m\u001b[0;34m'loss'\u001b[0m\u001b[0;34m]\u001b[0m\u001b[0;34m[\u001b[0m\u001b[0;34m-\u001b[0m\u001b[0;36m1\u001b[0m\u001b[0;34m]\u001b[0m\u001b[0;34m<\u001b[0m\u001b[0msmallest_loss\u001b[0m\u001b[0;34m:\u001b[0m\u001b[0;34m\u001b[0m\u001b[0m\n\u001b[1;32m      5\u001b[0m         \u001b[0mprint\u001b[0m\u001b[0;34m(\u001b[0m\u001b[0;34m\"SAVE\"\u001b[0m\u001b[0;34m)\u001b[0m\u001b[0;34m\u001b[0m\u001b[0m\n",
      "\u001b[0;32m/home/carnd/anaconda3/envs/carnd-term1/lib/python3.5/site-packages/keras/legacy/interfaces.py\u001b[0m in \u001b[0;36mwrapper\u001b[0;34m(*args, **kwargs)\u001b[0m\n\u001b[1;32m     85\u001b[0m                 warnings.warn('Update your `' + object_name +\n\u001b[1;32m     86\u001b[0m                               '` call to the Keras 2 API: ' + signature, stacklevel=2)\n\u001b[0;32m---> 87\u001b[0;31m             \u001b[0;32mreturn\u001b[0m \u001b[0mfunc\u001b[0m\u001b[0;34m(\u001b[0m\u001b[0;34m*\u001b[0m\u001b[0margs\u001b[0m\u001b[0;34m,\u001b[0m \u001b[0;34m**\u001b[0m\u001b[0mkwargs\u001b[0m\u001b[0;34m)\u001b[0m\u001b[0;34m\u001b[0m\u001b[0m\n\u001b[0m\u001b[1;32m     88\u001b[0m         \u001b[0mwrapper\u001b[0m\u001b[0;34m.\u001b[0m\u001b[0m_original_function\u001b[0m \u001b[0;34m=\u001b[0m \u001b[0mfunc\u001b[0m\u001b[0;34m\u001b[0m\u001b[0m\n\u001b[1;32m     89\u001b[0m         \u001b[0;32mreturn\u001b[0m \u001b[0mwrapper\u001b[0m\u001b[0;34m\u001b[0m\u001b[0m\n",
      "\u001b[0;32m/home/carnd/anaconda3/envs/carnd-term1/lib/python3.5/site-packages/keras/engine/training.py\u001b[0m in \u001b[0;36mfit_generator\u001b[0;34m(self, generator, steps_per_epoch, epochs, verbose, callbacks, validation_data, validation_steps, class_weight, max_queue_size, workers, use_multiprocessing, initial_epoch)\u001b[0m\n\u001b[1;32m   1838\u001b[0m                     outs = self.train_on_batch(x, y,\n\u001b[1;32m   1839\u001b[0m                                                \u001b[0msample_weight\u001b[0m\u001b[0;34m=\u001b[0m\u001b[0msample_weight\u001b[0m\u001b[0;34m,\u001b[0m\u001b[0;34m\u001b[0m\u001b[0m\n\u001b[0;32m-> 1840\u001b[0;31m                                                class_weight=class_weight)\n\u001b[0m\u001b[1;32m   1841\u001b[0m \u001b[0;34m\u001b[0m\u001b[0m\n\u001b[1;32m   1842\u001b[0m                     \u001b[0;32mif\u001b[0m \u001b[0;32mnot\u001b[0m \u001b[0misinstance\u001b[0m\u001b[0;34m(\u001b[0m\u001b[0mouts\u001b[0m\u001b[0;34m,\u001b[0m \u001b[0mlist\u001b[0m\u001b[0;34m)\u001b[0m\u001b[0;34m:\u001b[0m\u001b[0;34m\u001b[0m\u001b[0m\n",
      "\u001b[0;32m/home/carnd/anaconda3/envs/carnd-term1/lib/python3.5/site-packages/keras/engine/training.py\u001b[0m in \u001b[0;36mtrain_on_batch\u001b[0;34m(self, x, y, sample_weight, class_weight)\u001b[0m\n\u001b[1;32m   1563\u001b[0m             \u001b[0mins\u001b[0m \u001b[0;34m=\u001b[0m \u001b[0mx\u001b[0m \u001b[0;34m+\u001b[0m \u001b[0my\u001b[0m \u001b[0;34m+\u001b[0m \u001b[0msample_weights\u001b[0m\u001b[0;34m\u001b[0m\u001b[0m\n\u001b[1;32m   1564\u001b[0m         \u001b[0mself\u001b[0m\u001b[0;34m.\u001b[0m\u001b[0m_make_train_function\u001b[0m\u001b[0;34m(\u001b[0m\u001b[0;34m)\u001b[0m\u001b[0;34m\u001b[0m\u001b[0m\n\u001b[0;32m-> 1565\u001b[0;31m         \u001b[0moutputs\u001b[0m \u001b[0;34m=\u001b[0m \u001b[0mself\u001b[0m\u001b[0;34m.\u001b[0m\u001b[0mtrain_function\u001b[0m\u001b[0;34m(\u001b[0m\u001b[0mins\u001b[0m\u001b[0;34m)\u001b[0m\u001b[0;34m\u001b[0m\u001b[0m\n\u001b[0m\u001b[1;32m   1566\u001b[0m         \u001b[0;32mif\u001b[0m \u001b[0mlen\u001b[0m\u001b[0;34m(\u001b[0m\u001b[0moutputs\u001b[0m\u001b[0;34m)\u001b[0m \u001b[0;34m==\u001b[0m \u001b[0;36m1\u001b[0m\u001b[0;34m:\u001b[0m\u001b[0;34m\u001b[0m\u001b[0m\n\u001b[1;32m   1567\u001b[0m             \u001b[0;32mreturn\u001b[0m \u001b[0moutputs\u001b[0m\u001b[0;34m[\u001b[0m\u001b[0;36m0\u001b[0m\u001b[0;34m]\u001b[0m\u001b[0;34m\u001b[0m\u001b[0m\n",
      "\u001b[0;32m/home/carnd/anaconda3/envs/carnd-term1/lib/python3.5/site-packages/keras/backend/tensorflow_backend.py\u001b[0m in \u001b[0;36m__call__\u001b[0;34m(self, inputs)\u001b[0m\n\u001b[1;32m   2266\u001b[0m         updated = session.run(self.outputs + [self.updates_op],\n\u001b[1;32m   2267\u001b[0m                               \u001b[0mfeed_dict\u001b[0m\u001b[0;34m=\u001b[0m\u001b[0mfeed_dict\u001b[0m\u001b[0;34m,\u001b[0m\u001b[0;34m\u001b[0m\u001b[0m\n\u001b[0;32m-> 2268\u001b[0;31m                               **self.session_kwargs)\n\u001b[0m\u001b[1;32m   2269\u001b[0m         \u001b[0;32mreturn\u001b[0m \u001b[0mupdated\u001b[0m\u001b[0;34m[\u001b[0m\u001b[0;34m:\u001b[0m\u001b[0mlen\u001b[0m\u001b[0;34m(\u001b[0m\u001b[0mself\u001b[0m\u001b[0;34m.\u001b[0m\u001b[0moutputs\u001b[0m\u001b[0;34m)\u001b[0m\u001b[0;34m]\u001b[0m\u001b[0;34m\u001b[0m\u001b[0m\n\u001b[1;32m   2270\u001b[0m \u001b[0;34m\u001b[0m\u001b[0m\n",
      "\u001b[0;32m/home/carnd/anaconda3/envs/carnd-term1/lib/python3.5/site-packages/tensorflow/python/client/session.py\u001b[0m in \u001b[0;36mrun\u001b[0;34m(self, fetches, feed_dict, options, run_metadata)\u001b[0m\n\u001b[1;32m    787\u001b[0m     \u001b[0;32mtry\u001b[0m\u001b[0;34m:\u001b[0m\u001b[0;34m\u001b[0m\u001b[0m\n\u001b[1;32m    788\u001b[0m       result = self._run(None, fetches, feed_dict, options_ptr,\n\u001b[0;32m--> 789\u001b[0;31m                          run_metadata_ptr)\n\u001b[0m\u001b[1;32m    790\u001b[0m       \u001b[0;32mif\u001b[0m \u001b[0mrun_metadata\u001b[0m\u001b[0;34m:\u001b[0m\u001b[0;34m\u001b[0m\u001b[0m\n\u001b[1;32m    791\u001b[0m         \u001b[0mproto_data\u001b[0m \u001b[0;34m=\u001b[0m \u001b[0mtf_session\u001b[0m\u001b[0;34m.\u001b[0m\u001b[0mTF_GetBuffer\u001b[0m\u001b[0;34m(\u001b[0m\u001b[0mrun_metadata_ptr\u001b[0m\u001b[0;34m)\u001b[0m\u001b[0;34m\u001b[0m\u001b[0m\n",
      "\u001b[0;32m/home/carnd/anaconda3/envs/carnd-term1/lib/python3.5/site-packages/tensorflow/python/client/session.py\u001b[0m in \u001b[0;36m_run\u001b[0;34m(self, handle, fetches, feed_dict, options, run_metadata)\u001b[0m\n\u001b[1;32m    995\u001b[0m     \u001b[0;32mif\u001b[0m \u001b[0mfinal_fetches\u001b[0m \u001b[0;32mor\u001b[0m \u001b[0mfinal_targets\u001b[0m\u001b[0;34m:\u001b[0m\u001b[0;34m\u001b[0m\u001b[0m\n\u001b[1;32m    996\u001b[0m       results = self._do_run(handle, final_targets, final_fetches,\n\u001b[0;32m--> 997\u001b[0;31m                              feed_dict_string, options, run_metadata)\n\u001b[0m\u001b[1;32m    998\u001b[0m     \u001b[0;32melse\u001b[0m\u001b[0;34m:\u001b[0m\u001b[0;34m\u001b[0m\u001b[0m\n\u001b[1;32m    999\u001b[0m       \u001b[0mresults\u001b[0m \u001b[0;34m=\u001b[0m \u001b[0;34m[\u001b[0m\u001b[0;34m]\u001b[0m\u001b[0;34m\u001b[0m\u001b[0m\n",
      "\u001b[0;32m/home/carnd/anaconda3/envs/carnd-term1/lib/python3.5/site-packages/tensorflow/python/client/session.py\u001b[0m in \u001b[0;36m_do_run\u001b[0;34m(self, handle, target_list, fetch_list, feed_dict, options, run_metadata)\u001b[0m\n\u001b[1;32m   1130\u001b[0m     \u001b[0;32mif\u001b[0m \u001b[0mhandle\u001b[0m \u001b[0;32mis\u001b[0m \u001b[0;32mNone\u001b[0m\u001b[0;34m:\u001b[0m\u001b[0;34m\u001b[0m\u001b[0m\n\u001b[1;32m   1131\u001b[0m       return self._do_call(_run_fn, self._session, feed_dict, fetch_list,\n\u001b[0;32m-> 1132\u001b[0;31m                            target_list, options, run_metadata)\n\u001b[0m\u001b[1;32m   1133\u001b[0m     \u001b[0;32melse\u001b[0m\u001b[0;34m:\u001b[0m\u001b[0;34m\u001b[0m\u001b[0m\n\u001b[1;32m   1134\u001b[0m       return self._do_call(_prun_fn, self._session, handle, feed_dict,\n",
      "\u001b[0;32m/home/carnd/anaconda3/envs/carnd-term1/lib/python3.5/site-packages/tensorflow/python/client/session.py\u001b[0m in \u001b[0;36m_do_call\u001b[0;34m(self, fn, *args)\u001b[0m\n\u001b[1;32m   1137\u001b[0m   \u001b[0;32mdef\u001b[0m \u001b[0m_do_call\u001b[0m\u001b[0;34m(\u001b[0m\u001b[0mself\u001b[0m\u001b[0;34m,\u001b[0m \u001b[0mfn\u001b[0m\u001b[0;34m,\u001b[0m \u001b[0;34m*\u001b[0m\u001b[0margs\u001b[0m\u001b[0;34m)\u001b[0m\u001b[0;34m:\u001b[0m\u001b[0;34m\u001b[0m\u001b[0m\n\u001b[1;32m   1138\u001b[0m     \u001b[0;32mtry\u001b[0m\u001b[0;34m:\u001b[0m\u001b[0;34m\u001b[0m\u001b[0m\n\u001b[0;32m-> 1139\u001b[0;31m       \u001b[0;32mreturn\u001b[0m \u001b[0mfn\u001b[0m\u001b[0;34m(\u001b[0m\u001b[0;34m*\u001b[0m\u001b[0margs\u001b[0m\u001b[0;34m)\u001b[0m\u001b[0;34m\u001b[0m\u001b[0m\n\u001b[0m\u001b[1;32m   1140\u001b[0m     \u001b[0;32mexcept\u001b[0m \u001b[0merrors\u001b[0m\u001b[0;34m.\u001b[0m\u001b[0mOpError\u001b[0m \u001b[0;32mas\u001b[0m \u001b[0me\u001b[0m\u001b[0;34m:\u001b[0m\u001b[0;34m\u001b[0m\u001b[0m\n\u001b[1;32m   1141\u001b[0m       \u001b[0mmessage\u001b[0m \u001b[0;34m=\u001b[0m \u001b[0mcompat\u001b[0m\u001b[0;34m.\u001b[0m\u001b[0mas_text\u001b[0m\u001b[0;34m(\u001b[0m\u001b[0me\u001b[0m\u001b[0;34m.\u001b[0m\u001b[0mmessage\u001b[0m\u001b[0;34m)\u001b[0m\u001b[0;34m\u001b[0m\u001b[0m\n",
      "\u001b[0;32m/home/carnd/anaconda3/envs/carnd-term1/lib/python3.5/site-packages/tensorflow/python/client/session.py\u001b[0m in \u001b[0;36m_run_fn\u001b[0;34m(session, feed_dict, fetch_list, target_list, options, run_metadata)\u001b[0m\n\u001b[1;32m   1119\u001b[0m         return tf_session.TF_Run(session, options,\n\u001b[1;32m   1120\u001b[0m                                  \u001b[0mfeed_dict\u001b[0m\u001b[0;34m,\u001b[0m \u001b[0mfetch_list\u001b[0m\u001b[0;34m,\u001b[0m \u001b[0mtarget_list\u001b[0m\u001b[0;34m,\u001b[0m\u001b[0;34m\u001b[0m\u001b[0m\n\u001b[0;32m-> 1121\u001b[0;31m                                  status, run_metadata)\n\u001b[0m\u001b[1;32m   1122\u001b[0m \u001b[0;34m\u001b[0m\u001b[0m\n\u001b[1;32m   1123\u001b[0m     \u001b[0;32mdef\u001b[0m \u001b[0m_prun_fn\u001b[0m\u001b[0;34m(\u001b[0m\u001b[0msession\u001b[0m\u001b[0;34m,\u001b[0m \u001b[0mhandle\u001b[0m\u001b[0;34m,\u001b[0m \u001b[0mfeed_dict\u001b[0m\u001b[0;34m,\u001b[0m \u001b[0mfetch_list\u001b[0m\u001b[0;34m)\u001b[0m\u001b[0;34m:\u001b[0m\u001b[0;34m\u001b[0m\u001b[0m\n",
      "\u001b[0;31mKeyboardInterrupt\u001b[0m: "
     ]
    }
   ],
   "source": [
    "for i in range(150000):\n",
    "    history = covnet_mo_elu.fit_generator(train_gen, samples_per_epoch = 10, nb_epoch = 1)\n",
    "    \n",
    "    if history.history['loss'][-1]<smallest_loss:\n",
    "        print(\"SAVE\")\n",
    "        smallest_loss = history.history['loss'][-1]\n",
    "        covnet_mo_elu.save(\"FULLMODEL_10LAYERS_COVNET.h5\")\n",
    "        histories_elu.append(history.history)\n",
    "\n",
    "        predictions_elu = covnet_mo_elu.predict(test_set_pred)\n",
    "\n",
    "        covnet_mo_elu_predictions.append(predictions_elu)\n",
    "    \n",
    "    if i%5 == 0:\n",
    "        np.save(\"covnet_histories_elu_10LAYERS.npy\", histories_elu)\n",
    "        np.save(\"covnet_mo_elu_predictions_10LAYERS.npy\", covnet_mo_elu_predictions)\n",
    "\n",
    "        !git config --global user.email \"rwmmostert@gmail.com\"\n",
    "        !git config --global user.name \"RWMostert\"\n",
    "        !git add --all\n",
    "        !git commit -am \"updated history, predictions and model\"\n",
    "        !git push -u origin master --quiet"
   ]
  },
  {
   "cell_type": "markdown",
   "metadata": {},
   "source": [
    "# SAME Covnet Multiple Output with ELUs 10 Layers"
   ]
  },
  {
   "cell_type": "code",
   "execution_count": 14,
   "metadata": {
    "collapsed": true
   },
   "outputs": [],
   "source": [
    "import tensorflow as tf\n",
    "import keras\n",
    "from keras.models import Model, Sequential\n",
    "from keras.layers import Input, Dense, Flatten, LSTM, MaxPooling2D, Input, merge\n",
    "from keras.layers.convolutional import Conv2D\n",
    "from keras.optimizers import Adam\n",
    "from keras import backend as K"
   ]
  },
  {
   "cell_type": "code",
   "execution_count": 15,
   "metadata": {
    "collapsed": true
   },
   "outputs": [],
   "source": [
    "def r2(y_true, y_pred):\n",
    "    \"\"\"\n",
    "    returns the correlation coefficient of y_pred against y_true.\n",
    "\n",
    "    :param y_true: the true values (independent variable)\n",
    "    :param y_pred: the predicted values (dependent variable)\n",
    "    \"\"\"\n",
    "    \n",
    "    SSE = K.sum(K.square(y_true-y_pred))\n",
    "    SST = K.sum(K.square(y_true-K.mean(y_true)))\n",
    "    \n",
    "    return 1-SSE/SST"
   ]
  },
  {
   "cell_type": "code",
   "execution_count": 19,
   "metadata": {},
   "outputs": [
    {
     "name": "stderr",
     "output_type": "stream",
     "text": [
      "/home/carnd/anaconda3/envs/carnd-term1/lib/python3.5/site-packages/ipykernel_launcher.py:35: UserWarning: Update your `Model` call to the Keras 2 API: `Model(inputs=Tensor(\"in..., outputs=[<tf.Tenso...)`\n"
     ]
    }
   ],
   "source": [
    "#covnet_mo_elu = load_model(\"FULLMODEL_10LAYERS_COVNET.h5\", custom_objects={\"r2\":r2})\n",
    "\n",
    "input_1 = Input(shape = (40, 50, 1))\n",
    "\n",
    "layer1 = Conv2D(32, (3, 3), activation='elu')(input_1)\n",
    "layer2 = Conv2D(32, (3, 3), activation='elu')(layer1)\n",
    "layer3 = MaxPooling2D(pool_size=(2,2))(layer2)\n",
    "\n",
    "layer4 = Conv2D(64, (3, 3), activation='elu')(layer3)\n",
    "layer5 = Conv2D(64, (3, 3), activation='elu')(layer4)\n",
    "layer6 = MaxPooling2D(pool_size=(2,2))(layer5)\n",
    "\n",
    "flatten = Flatten()(layer6)\n",
    "\n",
    "output1_layer1 = Dense(32, activation='elu')(flatten)\n",
    "output1_layer2 = Dense(16, activation='elu')(output1_layer1)\n",
    "output1 = Dense(1, name=\"sigma\")(output1_layer2)\n",
    "\n",
    "output2_layer1 = Dense(32, activation='elu')(flatten)\n",
    "output2_layer2 = Dense(16, activation='elu')(output2_layer1)\n",
    "output2 = Dense(1, name=\"mu\")(output2_layer2)\n",
    "\n",
    "output3_layer1 = Dense(32, activation='elu')(flatten)\n",
    "output3_layer2 = Dense(16, activation='elu')(output3_layer1)\n",
    "output3 = Dense(1, name=\"jump_sigma\")(output3_layer2)\n",
    "\n",
    "output4_layer1 = Dense(32, activation='elu')(flatten)\n",
    "output4_layer2 = Dense(16, activation='elu')(output4_layer1)\n",
    "output4 = Dense(1, name=\"jump_mu\")(output4_layer2)\n",
    "\n",
    "output5_layer1 = Dense(32, activation='elu')(flatten)\n",
    "output5_layer2 = Dense(16, activation='elu')(output5_layer1)\n",
    "output5 = Dense(1, name=\"lambda\")(output5_layer2)\n",
    "\n",
    "convnet_mo_elu = Model(input = input_1, output=[output1, output2, output3, output4, output5])\n",
    "convnet_mo_elu.compile('adam', 'mean_squared_error', metrics=['mean_absolute_percentage_error', r2])"
   ]
  },
  {
   "cell_type": "code",
   "execution_count": 20,
   "metadata": {
    "collapsed": true
   },
   "outputs": [],
   "source": [
    "#covnet_mo_elu = covnet_multiple_ELUs_10_layers()\n",
    "#covnet_mo_elu.load_weights(\"RELAXED_ELU_COVNET.h5\")"
   ]
  },
  {
   "cell_type": "code",
   "execution_count": 21,
   "metadata": {
    "collapsed": true
   },
   "outputs": [],
   "source": [
    "#covnet_mo_elu.save(H5_DIR_COVNET_MULTIPLE_ELU)"
   ]
  },
  {
   "cell_type": "code",
   "execution_count": 17,
   "metadata": {},
   "outputs": [
    {
     "name": "stdout",
     "output_type": "stream",
     "text": [
      "0\n",
      "100\n",
      "200\n",
      "300\n",
      "400\n",
      "500\n",
      "600\n",
      "700\n",
      "800\n",
      "900\n"
     ]
    }
   ],
   "source": [
    "test_set_pred = standard_convolutional_test_set()"
   ]
  },
  {
   "cell_type": "code",
   "execution_count": 28,
   "metadata": {
    "collapsed": true
   },
   "outputs": [],
   "source": [
    "train_gen = convolutional_batch_generator(paramset_size=1000, paths_p_paramset=1, constraint_gbm_mu=(-0.5, 0.5))"
   ]
  },
  {
   "cell_type": "code",
   "execution_count": 23,
   "metadata": {
    "collapsed": true
   },
   "outputs": [],
   "source": [
    "histories_elu = []#np.load(\"covnet_histories_elu_10LAYERS.npy\").tolist()\n",
    "covnet_mo_elu_predictions = []# np.load(\"covnet_mo_elu_predictions_10LAYERS.npy\").tolist()"
   ]
  },
  {
   "cell_type": "code",
   "execution_count": 24,
   "metadata": {
    "collapsed": true
   },
   "outputs": [],
   "source": [
    "smallest_loss = 20"
   ]
  },
  {
   "cell_type": "code",
   "execution_count": 31,
   "metadata": {
    "scrolled": true
   },
   "outputs": [
    {
     "name": "stderr",
     "output_type": "stream",
     "text": [
      "/home/carnd/anaconda3/envs/carnd-term1/lib/python3.5/site-packages/ipykernel_launcher.py:2: UserWarning: The semantics of the Keras 2 argument `steps_per_epoch` is not the same as the Keras 1 argument `samples_per_epoch`. `steps_per_epoch` is the number of batches to draw from the generator at each epoch. Basically steps_per_epoch = samples_per_epoch/batch_size. Similarly `nb_val_samples`->`validation_steps` and `val_samples`->`steps` arguments have changed. Update your method calls accordingly.\n",
      "  \n",
      "/home/carnd/anaconda3/envs/carnd-term1/lib/python3.5/site-packages/ipykernel_launcher.py:2: UserWarning: Update your `fit_generator` call to the Keras 2 API: `fit_generator(<generator..., epochs=1, steps_per_epoch=5)`\n",
      "  \n"
     ]
    },
    {
     "name": "stdout",
     "output_type": "stream",
     "text": [
      "Epoch 1/1\n",
      "5/5 [==============================] - 24s - loss: 0.0150 - sigma_loss: 1.3124e-04 - mu_loss: 0.0039 - jump_sigma_loss: 0.0028 - jump_mu_loss: 0.0081 - lambda_loss: 3.3283e-05 - sigma_mean_absolute_percentage_error: 19.2965 - sigma_r2: 0.9596 - mu_mean_absolute_percentage_error: 91.9332 - mu_r2: 0.9534 - jump_sigma_mean_absolute_percentage_error: 186.1557 - jump_sigma_r2: 0.1522 - jump_mu_mean_absolute_percentage_error: 63.5254 - jump_mu_r2: 0.9031 - lambda_mean_absolute_percentage_error: 96.7844 - lambda_r2: 0.3501     \n",
      "[master 85a4da5] updated history, predictions and model\n",
      " 3 files changed, 16 insertions(+), 4 deletions(-)\n",
      " create mode 100644 Source_Code/covnet_histories_elu_6_hidden_LAYERS.npy\n",
      " create mode 100644 Source_Code/covnet_mo_elu_predictions_6_hidden_LAYERS.npy\n",
      "Branch master set up to track remote branch master from origin.\n",
      "Epoch 1/1\n"
     ]
    },
    {
     "ename": "KeyboardInterrupt",
     "evalue": "",
     "output_type": "error",
     "traceback": [
      "\u001b[0;31m---------------------------------------------------------------------------\u001b[0m",
      "\u001b[0;31mKeyboardInterrupt\u001b[0m                         Traceback (most recent call last)",
      "\u001b[0;32m<ipython-input-31-0aa70532c914>\u001b[0m in \u001b[0;36m<module>\u001b[0;34m()\u001b[0m\n\u001b[1;32m      1\u001b[0m \u001b[0;32mfor\u001b[0m \u001b[0mi\u001b[0m \u001b[0;32min\u001b[0m \u001b[0mrange\u001b[0m\u001b[0;34m(\u001b[0m\u001b[0;36m150000\u001b[0m\u001b[0;34m)\u001b[0m\u001b[0;34m:\u001b[0m\u001b[0;34m\u001b[0m\u001b[0m\n\u001b[0;32m----> 2\u001b[0;31m     \u001b[0mhistory\u001b[0m \u001b[0;34m=\u001b[0m \u001b[0mconvnet_mo_elu\u001b[0m\u001b[0;34m.\u001b[0m\u001b[0mfit_generator\u001b[0m\u001b[0;34m(\u001b[0m\u001b[0mtrain_gen\u001b[0m\u001b[0;34m,\u001b[0m \u001b[0msamples_per_epoch\u001b[0m \u001b[0;34m=\u001b[0m \u001b[0;36m5\u001b[0m\u001b[0;34m,\u001b[0m \u001b[0mnb_epoch\u001b[0m \u001b[0;34m=\u001b[0m \u001b[0;36m1\u001b[0m\u001b[0;34m)\u001b[0m\u001b[0;34m\u001b[0m\u001b[0m\n\u001b[0m\u001b[1;32m      3\u001b[0m     \u001b[0mhistories_elu\u001b[0m\u001b[0;34m.\u001b[0m\u001b[0mappend\u001b[0m\u001b[0;34m(\u001b[0m\u001b[0mhistory\u001b[0m\u001b[0;34m.\u001b[0m\u001b[0mhistory\u001b[0m\u001b[0;34m)\u001b[0m\u001b[0;34m\u001b[0m\u001b[0m\n\u001b[1;32m      4\u001b[0m \u001b[0;34m\u001b[0m\u001b[0m\n\u001b[1;32m      5\u001b[0m     \u001b[0mpredictions_elu\u001b[0m \u001b[0;34m=\u001b[0m \u001b[0mconvnet_mo_elu\u001b[0m\u001b[0;34m.\u001b[0m\u001b[0mpredict\u001b[0m\u001b[0;34m(\u001b[0m\u001b[0mtest_set_pred\u001b[0m\u001b[0;34m)\u001b[0m\u001b[0;34m\u001b[0m\u001b[0m\n",
      "\u001b[0;32m/home/carnd/anaconda3/envs/carnd-term1/lib/python3.5/site-packages/keras/legacy/interfaces.py\u001b[0m in \u001b[0;36mwrapper\u001b[0;34m(*args, **kwargs)\u001b[0m\n\u001b[1;32m     85\u001b[0m                 warnings.warn('Update your `' + object_name +\n\u001b[1;32m     86\u001b[0m                               '` call to the Keras 2 API: ' + signature, stacklevel=2)\n\u001b[0;32m---> 87\u001b[0;31m             \u001b[0;32mreturn\u001b[0m \u001b[0mfunc\u001b[0m\u001b[0;34m(\u001b[0m\u001b[0;34m*\u001b[0m\u001b[0margs\u001b[0m\u001b[0;34m,\u001b[0m \u001b[0;34m**\u001b[0m\u001b[0mkwargs\u001b[0m\u001b[0;34m)\u001b[0m\u001b[0;34m\u001b[0m\u001b[0m\n\u001b[0m\u001b[1;32m     88\u001b[0m         \u001b[0mwrapper\u001b[0m\u001b[0;34m.\u001b[0m\u001b[0m_original_function\u001b[0m \u001b[0;34m=\u001b[0m \u001b[0mfunc\u001b[0m\u001b[0;34m\u001b[0m\u001b[0m\n\u001b[1;32m     89\u001b[0m         \u001b[0;32mreturn\u001b[0m \u001b[0mwrapper\u001b[0m\u001b[0;34m\u001b[0m\u001b[0m\n",
      "\u001b[0;32m/home/carnd/anaconda3/envs/carnd-term1/lib/python3.5/site-packages/keras/engine/training.py\u001b[0m in \u001b[0;36mfit_generator\u001b[0;34m(self, generator, steps_per_epoch, epochs, verbose, callbacks, validation_data, validation_steps, class_weight, max_queue_size, workers, use_multiprocessing, shuffle, initial_epoch)\u001b[0m\n\u001b[1;32m   2009\u001b[0m                 \u001b[0mbatch_index\u001b[0m \u001b[0;34m=\u001b[0m \u001b[0;36m0\u001b[0m\u001b[0;34m\u001b[0m\u001b[0m\n\u001b[1;32m   2010\u001b[0m                 \u001b[0;32mwhile\u001b[0m \u001b[0msteps_done\u001b[0m \u001b[0;34m<\u001b[0m \u001b[0msteps_per_epoch\u001b[0m\u001b[0;34m:\u001b[0m\u001b[0;34m\u001b[0m\u001b[0m\n\u001b[0;32m-> 2011\u001b[0;31m                     \u001b[0mgenerator_output\u001b[0m \u001b[0;34m=\u001b[0m \u001b[0mnext\u001b[0m\u001b[0;34m(\u001b[0m\u001b[0moutput_generator\u001b[0m\u001b[0;34m)\u001b[0m\u001b[0;34m\u001b[0m\u001b[0m\n\u001b[0m\u001b[1;32m   2012\u001b[0m \u001b[0;34m\u001b[0m\u001b[0m\n\u001b[1;32m   2013\u001b[0m                     \u001b[0;32mif\u001b[0m \u001b[0;32mnot\u001b[0m \u001b[0mhasattr\u001b[0m\u001b[0;34m(\u001b[0m\u001b[0mgenerator_output\u001b[0m\u001b[0;34m,\u001b[0m \u001b[0;34m'__len__'\u001b[0m\u001b[0;34m)\u001b[0m\u001b[0;34m:\u001b[0m\u001b[0;34m\u001b[0m\u001b[0m\n",
      "\u001b[0;32m/home/carnd/anaconda3/envs/carnd-term1/lib/python3.5/site-packages/keras/utils/data_utils.py\u001b[0m in \u001b[0;36mget\u001b[0;34m(self)\u001b[0m\n\u001b[1;32m    642\u001b[0m                     \u001b[0;32myield\u001b[0m \u001b[0minputs\u001b[0m\u001b[0;34m\u001b[0m\u001b[0m\n\u001b[1;32m    643\u001b[0m             \u001b[0;32melse\u001b[0m\u001b[0;34m:\u001b[0m\u001b[0;34m\u001b[0m\u001b[0m\n\u001b[0;32m--> 644\u001b[0;31m                 \u001b[0mtime\u001b[0m\u001b[0;34m.\u001b[0m\u001b[0msleep\u001b[0m\u001b[0;34m(\u001b[0m\u001b[0mself\u001b[0m\u001b[0;34m.\u001b[0m\u001b[0mwait_time\u001b[0m\u001b[0;34m)\u001b[0m\u001b[0;34m\u001b[0m\u001b[0m\n\u001b[0m",
      "\u001b[0;31mKeyboardInterrupt\u001b[0m: "
     ]
    }
   ],
   "source": [
    "for i in range(150000):\n",
    "    history = convnet_mo_elu.fit_generator(train_gen, samples_per_epoch = 5, nb_epoch = 1)\n",
    "    histories_elu.append(history.history)\n",
    "\n",
    "    predictions_elu = convnet_mo_elu.predict(test_set_pred)\n",
    "\n",
    "    covnet_mo_elu_predictions.append(predictions_elu)\n",
    "    \n",
    "    if history.history['loss'][-1]<smallest_loss:\n",
    "        print(\"SAVE\")\n",
    "        smallest_loss = history.history['loss'][-1]\n",
    "        convnet_mo_elu.save(\"FULLMODEL_6_hidden_LAYERS.h5\")\n",
    "    \n",
    "    if i%5 == 0:\n",
    "        np.save(\"covnet_histories_elu_6_hidden_LAYERS.npy\", histories_elu)\n",
    "        np.save(\"covnet_mo_elu_predictions_6_hidden_LAYERS.npy\", covnet_mo_elu_predictions)\n",
    "\n",
    "        !git config --global user.email \"rwmmostert@gmail.com\"\n",
    "        !git config --global user.name \"RWMostert\"\n",
    "        !git add --all\n",
    "        !git commit -am \"updated history, predictions and model\"\n",
    "        !git push -u origin master --quiet"
   ]
  },
  {
   "cell_type": "code",
   "execution_count": 26,
   "metadata": {
    "scrolled": true
   },
   "outputs": [
    {
     "name": "stderr",
     "output_type": "stream",
     "text": [
      "/home/carnd/anaconda3/envs/carnd-term1/lib/python3.5/site-packages/ipykernel_launcher.py:2: UserWarning: The semantics of the Keras 2 argument  `steps_per_epoch` is not the same as the Keras 1 argument `samples_per_epoch`. `steps_per_epoch` is the number of batches to draw from the generator at each epoch. Update your method calls accordingly.\n",
      "  \n",
      "/home/carnd/anaconda3/envs/carnd-term1/lib/python3.5/site-packages/ipykernel_launcher.py:2: UserWarning: Update your `fit_generator` call to the Keras 2 API: `fit_generator(<generator..., steps_per_epoch=10, epochs=1)`\n",
      "  \n"
     ]
    },
    {
     "name": "stdout",
     "output_type": "stream",
     "text": [
      "Epoch 1/1\n",
      "10/10 [==============================] - 124s - loss: 0.0321 - sigma_loss: 0.0026 - mu_loss: 0.0175 - jump_sigma_loss: 0.0030 - jump_mu_loss: 0.0090 - lambda_loss: 6.6771e-05 - sigma_mean_absolute_percentage_error: 158.1034 - sigma_r2: 0.2157 - mu_mean_absolute_percentage_error: 266.4196 - mu_r2: 0.7900 - jump_sigma_mean_absolute_percentage_error: 182.5469 - jump_sigma_r2: 0.0875 - jump_mu_mean_absolute_percentage_error: 91.8385 - jump_mu_r2: 0.8915 - lambda_mean_absolute_percentage_error: 132.3332 - lambda_r2: -0.2917    \n",
      "SAVE\n",
      "[master cf49ed9] updated history, predictions and model\n",
      " 4 files changed, 6 insertions(+), 22 deletions(-)\n",
      "Branch master set up to track remote branch master from origin.\n",
      "Epoch 1/1\n",
      "10/10 [==============================] - 124s - loss: 0.0310 - sigma_loss: 0.0026 - mu_loss: 0.0163 - jump_sigma_loss: 0.0030 - jump_mu_loss: 0.0091 - lambda_loss: 6.1937e-05 - sigma_mean_absolute_percentage_error: 157.1786 - sigma_r2: 0.2261 - mu_mean_absolute_percentage_error: 148.7495 - mu_r2: 0.8034 - jump_sigma_mean_absolute_percentage_error: 187.1650 - jump_sigma_r2: 0.0889 - jump_mu_mean_absolute_percentage_error: 112.1127 - jump_mu_r2: 0.8919 - lambda_mean_absolute_percentage_error: 142.2984 - lambda_r2: -0.1997    \n",
      "SAVE\n",
      "Epoch 1/1\n",
      "10/10 [==============================] - 123s - loss: 0.0299 - sigma_loss: 0.0024 - mu_loss: 0.0156 - jump_sigma_loss: 0.0029 - jump_mu_loss: 0.0089 - lambda_loss: 5.8360e-05 - sigma_mean_absolute_percentage_error: 153.0024 - sigma_r2: 0.2873 - mu_mean_absolute_percentage_error: 155.2785 - mu_r2: 0.8106 - jump_sigma_mean_absolute_percentage_error: 174.0854 - jump_sigma_r2: 0.0963 - jump_mu_mean_absolute_percentage_error: 123.5186 - jump_mu_r2: 0.8926 - lambda_mean_absolute_percentage_error: 163.6590 - lambda_r2: -0.1326    \n",
      "SAVE\n",
      "Epoch 1/1\n",
      "10/10 [==============================] - 123s - loss: 0.0287 - sigma_loss: 0.0022 - mu_loss: 0.0143 - jump_sigma_loss: 0.0030 - jump_mu_loss: 0.0091 - lambda_loss: 5.8522e-05 - sigma_mean_absolute_percentage_error: 146.3418 - sigma_r2: 0.3150 - mu_mean_absolute_percentage_error: 170.2344 - mu_r2: 0.8240 - jump_sigma_mean_absolute_percentage_error: 185.9072 - jump_sigma_r2: 0.1094 - jump_mu_mean_absolute_percentage_error: 89.9862 - jump_mu_r2: 0.8904 - lambda_mean_absolute_percentage_error: 142.0796 - lambda_r2: -0.1274    \n",
      "SAVE\n",
      "Epoch 1/1\n",
      "10/10 [==============================] - 123s - loss: 0.0283 - sigma_loss: 0.0023 - mu_loss: 0.0141 - jump_sigma_loss: 0.0029 - jump_mu_loss: 0.0090 - lambda_loss: 5.9000e-05 - sigma_mean_absolute_percentage_error: 138.2225 - sigma_r2: 0.3016 - mu_mean_absolute_percentage_error: 154.7261 - mu_r2: 0.8297 - jump_sigma_mean_absolute_percentage_error: 170.3082 - jump_sigma_r2: 0.1149 - jump_mu_mean_absolute_percentage_error: 80.6549 - jump_mu_r2: 0.8943 - lambda_mean_absolute_percentage_error: 143.7285 - lambda_r2: -0.1456    \n",
      "SAVE\n",
      "Epoch 1/1\n",
      "10/10 [==============================] - 123s - loss: 0.0284 - sigma_loss: 0.0022 - mu_loss: 0.0144 - jump_sigma_loss: 0.0030 - jump_mu_loss: 0.0087 - lambda_loss: 5.9896e-05 - sigma_mean_absolute_percentage_error: 139.9352 - sigma_r2: 0.3432 - mu_mean_absolute_percentage_error: 135.2027 - mu_r2: 0.8246 - jump_sigma_mean_absolute_percentage_error: 186.2393 - jump_sigma_r2: 0.1099 - jump_mu_mean_absolute_percentage_error: 109.0133 - jump_mu_r2: 0.8943 - lambda_mean_absolute_percentage_error: 143.2961 - lambda_r2: -0.1576    \n",
      "[master e426403] updated history, predictions and model\n",
      " 4 files changed, 19 insertions(+), 1 deletion(-)\n",
      "Branch master set up to track remote branch master from origin.\n",
      "Epoch 1/1\n",
      "10/10 [==============================] - 124s - loss: 0.0283 - sigma_loss: 0.0022 - mu_loss: 0.0145 - jump_sigma_loss: 0.0029 - jump_mu_loss: 0.0085 - lambda_loss: 6.2564e-05 - sigma_mean_absolute_percentage_error: 138.2138 - sigma_r2: 0.3248 - mu_mean_absolute_percentage_error: 156.7408 - mu_r2: 0.8247 - jump_sigma_mean_absolute_percentage_error: 178.8331 - jump_sigma_r2: 0.1235 - jump_mu_mean_absolute_percentage_error: 102.3747 - jump_mu_r2: 0.8969 - lambda_mean_absolute_percentage_error: 151.2465 - lambda_r2: -0.2251   \n",
      "SAVE\n",
      "Epoch 1/1\n",
      "10/10 [==============================] - 124s - loss: 0.0269 - sigma_loss: 0.0021 - mu_loss: 0.0131 - jump_sigma_loss: 0.0029 - jump_mu_loss: 0.0088 - lambda_loss: 6.0153e-05 - sigma_mean_absolute_percentage_error: 136.0947 - sigma_r2: 0.3709 - mu_mean_absolute_percentage_error: 158.5473 - mu_r2: 0.8440 - jump_sigma_mean_absolute_percentage_error: 178.5396 - jump_sigma_r2: 0.1173 - jump_mu_mean_absolute_percentage_error: 152.6841 - jump_mu_r2: 0.8940 - lambda_mean_absolute_percentage_error: 151.9829 - lambda_r2: -0.1753    \n",
      "SAVE\n",
      "Epoch 1/1\n",
      "10/10 [==============================] - 135s - loss: 0.0260 - sigma_loss: 0.0020 - mu_loss: 0.0120 - jump_sigma_loss: 0.0029 - jump_mu_loss: 0.0090 - lambda_loss: 6.5939e-05 - sigma_mean_absolute_percentage_error: 132.6365 - sigma_r2: 0.3811 - mu_mean_absolute_percentage_error: 151.9239 - mu_r2: 0.8540 - jump_sigma_mean_absolute_percentage_error: 178.6275 - jump_sigma_r2: 0.1207 - jump_mu_mean_absolute_percentage_error: 161.5607 - jump_mu_r2: 0.8912 - lambda_mean_absolute_percentage_error: 158.3958 - lambda_r2: -0.2671    \n"
     ]
    },
    {
     "ename": "KeyboardInterrupt",
     "evalue": "",
     "output_type": "error",
     "traceback": [
      "\u001b[0;31m---------------------------------------------------------------------------\u001b[0m",
      "\u001b[0;31mKeyboardInterrupt\u001b[0m                         Traceback (most recent call last)",
      "\u001b[0;32m<ipython-input-26-0a56e8b13eb6>\u001b[0m in \u001b[0;36m<module>\u001b[0;34m()\u001b[0m\n\u001b[1;32m      1\u001b[0m \u001b[0;32mfor\u001b[0m \u001b[0mi\u001b[0m \u001b[0;32min\u001b[0m \u001b[0mrange\u001b[0m\u001b[0;34m(\u001b[0m\u001b[0;36m150000\u001b[0m\u001b[0;34m)\u001b[0m\u001b[0;34m:\u001b[0m\u001b[0;34m\u001b[0m\u001b[0m\n\u001b[0;32m----> 2\u001b[0;31m     \u001b[0mhistory\u001b[0m \u001b[0;34m=\u001b[0m \u001b[0mcovnet_mo_elu\u001b[0m\u001b[0;34m.\u001b[0m\u001b[0mfit_generator\u001b[0m\u001b[0;34m(\u001b[0m\u001b[0mtrain_gen\u001b[0m\u001b[0;34m,\u001b[0m \u001b[0msamples_per_epoch\u001b[0m \u001b[0;34m=\u001b[0m \u001b[0;36m10\u001b[0m\u001b[0;34m,\u001b[0m \u001b[0mnb_epoch\u001b[0m \u001b[0;34m=\u001b[0m \u001b[0;36m1\u001b[0m\u001b[0;34m)\u001b[0m\u001b[0;34m\u001b[0m\u001b[0m\n\u001b[0m\u001b[1;32m      3\u001b[0m \u001b[0;34m\u001b[0m\u001b[0m\n\u001b[1;32m      4\u001b[0m     \u001b[0;32mif\u001b[0m \u001b[0mhistory\u001b[0m\u001b[0;34m.\u001b[0m\u001b[0mhistory\u001b[0m\u001b[0;34m[\u001b[0m\u001b[0;34m'loss'\u001b[0m\u001b[0;34m]\u001b[0m\u001b[0;34m[\u001b[0m\u001b[0;34m-\u001b[0m\u001b[0;36m1\u001b[0m\u001b[0;34m]\u001b[0m\u001b[0;34m<\u001b[0m\u001b[0msmallest_loss\u001b[0m\u001b[0;34m:\u001b[0m\u001b[0;34m\u001b[0m\u001b[0m\n\u001b[1;32m      5\u001b[0m         \u001b[0mprint\u001b[0m\u001b[0;34m(\u001b[0m\u001b[0;34m\"SAVE\"\u001b[0m\u001b[0;34m)\u001b[0m\u001b[0;34m\u001b[0m\u001b[0m\n",
      "\u001b[0;32m/home/carnd/anaconda3/envs/carnd-term1/lib/python3.5/site-packages/keras/legacy/interfaces.py\u001b[0m in \u001b[0;36mwrapper\u001b[0;34m(*args, **kwargs)\u001b[0m\n\u001b[1;32m     86\u001b[0m                 warnings.warn('Update your `' + object_name +\n\u001b[1;32m     87\u001b[0m                               '` call to the Keras 2 API: ' + signature, stacklevel=2)\n\u001b[0;32m---> 88\u001b[0;31m             \u001b[0;32mreturn\u001b[0m \u001b[0mfunc\u001b[0m\u001b[0;34m(\u001b[0m\u001b[0;34m*\u001b[0m\u001b[0margs\u001b[0m\u001b[0;34m,\u001b[0m \u001b[0;34m**\u001b[0m\u001b[0mkwargs\u001b[0m\u001b[0;34m)\u001b[0m\u001b[0;34m\u001b[0m\u001b[0m\n\u001b[0m\u001b[1;32m     89\u001b[0m         \u001b[0mwrapper\u001b[0m\u001b[0;34m.\u001b[0m\u001b[0m_legacy_support_signature\u001b[0m \u001b[0;34m=\u001b[0m \u001b[0minspect\u001b[0m\u001b[0;34m.\u001b[0m\u001b[0mgetargspec\u001b[0m\u001b[0;34m(\u001b[0m\u001b[0mfunc\u001b[0m\u001b[0;34m)\u001b[0m\u001b[0;34m\u001b[0m\u001b[0m\n\u001b[1;32m     90\u001b[0m         \u001b[0;32mreturn\u001b[0m \u001b[0mwrapper\u001b[0m\u001b[0;34m\u001b[0m\u001b[0m\n",
      "\u001b[0;32m/home/carnd/anaconda3/envs/carnd-term1/lib/python3.5/site-packages/keras/engine/training.py\u001b[0m in \u001b[0;36mfit_generator\u001b[0;34m(self, generator, steps_per_epoch, epochs, verbose, callbacks, validation_data, validation_steps, class_weight, max_q_size, workers, pickle_safe, initial_epoch)\u001b[0m\n\u001b[1;32m   1944\u001b[0m         \u001b[0;32mfinally\u001b[0m\u001b[0;34m:\u001b[0m\u001b[0;34m\u001b[0m\u001b[0m\n\u001b[1;32m   1945\u001b[0m             \u001b[0;32mif\u001b[0m \u001b[0menqueuer\u001b[0m \u001b[0;32mis\u001b[0m \u001b[0;32mnot\u001b[0m \u001b[0;32mNone\u001b[0m\u001b[0;34m:\u001b[0m\u001b[0;34m\u001b[0m\u001b[0m\n\u001b[0;32m-> 1946\u001b[0;31m                 \u001b[0menqueuer\u001b[0m\u001b[0;34m.\u001b[0m\u001b[0mstop\u001b[0m\u001b[0;34m(\u001b[0m\u001b[0;34m)\u001b[0m\u001b[0;34m\u001b[0m\u001b[0m\n\u001b[0m\u001b[1;32m   1947\u001b[0m \u001b[0;34m\u001b[0m\u001b[0m\n\u001b[1;32m   1948\u001b[0m         \u001b[0mcallbacks\u001b[0m\u001b[0;34m.\u001b[0m\u001b[0mon_train_end\u001b[0m\u001b[0;34m(\u001b[0m\u001b[0;34m)\u001b[0m\u001b[0;34m\u001b[0m\u001b[0m\n",
      "\u001b[0;32m/home/carnd/anaconda3/envs/carnd-term1/lib/python3.5/site-packages/keras/engine/training.py\u001b[0m in \u001b[0;36mstop\u001b[0;34m(self, timeout)\u001b[0m\n\u001b[1;32m    660\u001b[0m                     \u001b[0mthread\u001b[0m\u001b[0;34m.\u001b[0m\u001b[0mterminate\u001b[0m\u001b[0;34m(\u001b[0m\u001b[0;34m)\u001b[0m\u001b[0;34m\u001b[0m\u001b[0m\n\u001b[1;32m    661\u001b[0m                 \u001b[0;32melse\u001b[0m\u001b[0;34m:\u001b[0m\u001b[0;34m\u001b[0m\u001b[0m\n\u001b[0;32m--> 662\u001b[0;31m                     \u001b[0mthread\u001b[0m\u001b[0;34m.\u001b[0m\u001b[0mjoin\u001b[0m\u001b[0;34m(\u001b[0m\u001b[0mtimeout\u001b[0m\u001b[0;34m)\u001b[0m\u001b[0;34m\u001b[0m\u001b[0m\n\u001b[0m\u001b[1;32m    663\u001b[0m \u001b[0;34m\u001b[0m\u001b[0m\n\u001b[1;32m    664\u001b[0m         \u001b[0;32mif\u001b[0m \u001b[0mself\u001b[0m\u001b[0;34m.\u001b[0m\u001b[0m_pickle_safe\u001b[0m\u001b[0;34m:\u001b[0m\u001b[0;34m\u001b[0m\u001b[0m\n",
      "\u001b[0;32m/home/carnd/anaconda3/envs/carnd-term1/lib/python3.5/threading.py\u001b[0m in \u001b[0;36mjoin\u001b[0;34m(self, timeout)\u001b[0m\n\u001b[1;32m   1052\u001b[0m \u001b[0;34m\u001b[0m\u001b[0m\n\u001b[1;32m   1053\u001b[0m         \u001b[0;32mif\u001b[0m \u001b[0mtimeout\u001b[0m \u001b[0;32mis\u001b[0m \u001b[0;32mNone\u001b[0m\u001b[0;34m:\u001b[0m\u001b[0;34m\u001b[0m\u001b[0m\n\u001b[0;32m-> 1054\u001b[0;31m             \u001b[0mself\u001b[0m\u001b[0;34m.\u001b[0m\u001b[0m_wait_for_tstate_lock\u001b[0m\u001b[0;34m(\u001b[0m\u001b[0;34m)\u001b[0m\u001b[0;34m\u001b[0m\u001b[0m\n\u001b[0m\u001b[1;32m   1055\u001b[0m         \u001b[0;32melse\u001b[0m\u001b[0;34m:\u001b[0m\u001b[0;34m\u001b[0m\u001b[0m\n\u001b[1;32m   1056\u001b[0m             \u001b[0;31m# the behavior of a negative timeout isn't documented, but\u001b[0m\u001b[0;34m\u001b[0m\u001b[0;34m\u001b[0m\u001b[0m\n",
      "\u001b[0;32m/home/carnd/anaconda3/envs/carnd-term1/lib/python3.5/threading.py\u001b[0m in \u001b[0;36m_wait_for_tstate_lock\u001b[0;34m(self, block, timeout)\u001b[0m\n\u001b[1;32m   1068\u001b[0m         \u001b[0;32mif\u001b[0m \u001b[0mlock\u001b[0m \u001b[0;32mis\u001b[0m \u001b[0;32mNone\u001b[0m\u001b[0;34m:\u001b[0m  \u001b[0;31m# already determined that the C code is done\u001b[0m\u001b[0;34m\u001b[0m\u001b[0m\n\u001b[1;32m   1069\u001b[0m             \u001b[0;32massert\u001b[0m \u001b[0mself\u001b[0m\u001b[0;34m.\u001b[0m\u001b[0m_is_stopped\u001b[0m\u001b[0;34m\u001b[0m\u001b[0m\n\u001b[0;32m-> 1070\u001b[0;31m         \u001b[0;32melif\u001b[0m \u001b[0mlock\u001b[0m\u001b[0;34m.\u001b[0m\u001b[0macquire\u001b[0m\u001b[0;34m(\u001b[0m\u001b[0mblock\u001b[0m\u001b[0;34m,\u001b[0m \u001b[0mtimeout\u001b[0m\u001b[0;34m)\u001b[0m\u001b[0;34m:\u001b[0m\u001b[0;34m\u001b[0m\u001b[0m\n\u001b[0m\u001b[1;32m   1071\u001b[0m             \u001b[0mlock\u001b[0m\u001b[0;34m.\u001b[0m\u001b[0mrelease\u001b[0m\u001b[0;34m(\u001b[0m\u001b[0;34m)\u001b[0m\u001b[0;34m\u001b[0m\u001b[0m\n\u001b[1;32m   1072\u001b[0m             \u001b[0mself\u001b[0m\u001b[0;34m.\u001b[0m\u001b[0m_stop\u001b[0m\u001b[0;34m(\u001b[0m\u001b[0;34m)\u001b[0m\u001b[0;34m\u001b[0m\u001b[0m\n",
      "\u001b[0;31mKeyboardInterrupt\u001b[0m: "
     ]
    }
   ],
   "source": [
    "for i in range(150000):\n",
    "    history = covnet_mo_elu.fit_generator(train_gen, samples_per_epoch = 10, nb_epoch = 1)\n",
    "    \n",
    "    if history.history['loss'][-1]<smallest_loss:\n",
    "        print(\"SAVE\")\n",
    "        smallest_loss = history.history['loss'][-1]\n",
    "        covnet_mo_elu.save(\"FULLMODEL_10LAYERS_COVNET.h5\")\n",
    "        histories_elu.append(history.history)\n",
    "\n",
    "        predictions_elu = covnet_mo_elu.predict(test_set_pred)\n",
    "\n",
    "        covnet_mo_elu_predictions.append(predictions_elu)\n",
    "    \n",
    "    if i%5 == 0:\n",
    "        np.save(\"covnet_histories_elu_10LAYERS.npy\", histories_elu)\n",
    "        np.save(\"covnet_mo_elu_predictions_10LAYERS.npy\", covnet_mo_elu_predictions)\n",
    "\n",
    "        !git config --global user.email \"rwmmostert@gmail.com\"\n",
    "        !git config --global user.name \"RWMostert\"\n",
    "        !git add --all\n",
    "        !git commit -am \"updated history, predictions and model\"\n",
    "        !git push -u origin master --quiet"
   ]
  },
  {
   "cell_type": "code",
   "execution_count": null,
   "metadata": {
    "collapsed": true
   },
   "outputs": [],
   "source": [
    "print()"
   ]
  },
  {
   "cell_type": "markdown",
   "metadata": {},
   "source": [
    "# SAME Covnet Multiple Output with ELUs 10 Layers"
   ]
  },
  {
   "cell_type": "code",
   "execution_count": 9,
   "metadata": {
    "collapsed": true
   },
   "outputs": [],
   "source": [
    "from keras.layers.merge import Concatenate"
   ]
  },
  {
   "cell_type": "code",
   "execution_count": 10,
   "metadata": {
    "collapsed": true
   },
   "outputs": [],
   "source": [
    "import tensorflow as tf\n",
    "import keras\n",
    "from keras.models import Model, Sequential, load_model\n",
    "from keras.layers import Input, Dense, Flatten, LSTM, MaxPooling2D, Input, merge\n",
    "from keras.layers.convolutional import Conv2D\n",
    "from keras.optimizers import Adam\n",
    "from keras import backend as K"
   ]
  },
  {
   "cell_type": "code",
   "execution_count": 11,
   "metadata": {
    "collapsed": true
   },
   "outputs": [],
   "source": [
    "def r2(y_true, y_pred):\n",
    "    \"\"\"\n",
    "    returns the correlation coefficient of y_pred against y_true.\n",
    "\n",
    "    :param y_true: the true values (independent variable)\n",
    "    :param y_pred: the predicted values (dependent variable)\n",
    "    \"\"\"\n",
    "    \n",
    "    SSE = K.sum(K.square(y_true-y_pred))\n",
    "    SST = K.sum(K.square(y_true-K.mean(y_true)))\n",
    "    \n",
    "    return 1-SSE/SST"
   ]
  },
  {
   "cell_type": "code",
   "execution_count": 12,
   "metadata": {},
   "outputs": [],
   "source": [
    "import h5py as h5py"
   ]
  },
  {
   "cell_type": "code",
   "execution_count": 26,
   "metadata": {},
   "outputs": [
    {
     "name": "stdout",
     "output_type": "stream",
     "text": [
      "sudo: apt-get: command not found\r\n"
     ]
    }
   ],
   "source": [
    "!sudo apt-get install libhdf5-dev"
   ]
  },
  {
   "cell_type": "code",
   "execution_count": 19,
   "metadata": {},
   "outputs": [],
   "source": [
    "convnet_mo_elu = load_model(\"diluted_FULLMODEL_6_hidden_LAYERS.h5\", custom_objects={\"r2\":r2})"
   ]
  },
  {
   "cell_type": "code",
   "execution_count": 36,
   "metadata": {},
   "outputs": [
    {
     "name": "stderr",
     "output_type": "stream",
     "text": [
      "/usr/lib/python3.4/dist-packages/ipykernel_launcher.py:11: UserWarning: The `merge` function is deprecated and will be removed after 08/2017. Use instead layers from `keras.layers.merge`, e.g. `add`, `concatenate`, etc.\n",
      "  # This is added back by InteractiveShellApp.init_path()\n",
      "/usr/local/lib64/python3.4/site-packages/keras/legacy/layers.py:458: UserWarning: The `Merge` layer is deprecated and will be removed after 08/2017. Use instead layers from `keras.layers.merge`, e.g. `add`, `concatenate`, etc.\n",
      "  name=name)\n",
      "/usr/lib/python3.4/dist-packages/ipykernel_launcher.py:39: UserWarning: Update your `Model` call to the Keras 2 API: `Model(outputs=[<tf.Tenso..., inputs=Tensor(\"in...)`\n"
     ]
    }
   ],
   "source": [
    "input_1 = Input(shape = (40, 50, 1))\n",
    "\n",
    "layer1 = Conv2D(32, (6, 6), activation='elu')(input_1)\n",
    "layer2 = Conv2D(32, (6, 6), activation='elu')(layer1)\n",
    "layer3 = MaxPooling2D(pool_size=(2,2))(layer2)\n",
    "\n",
    "dil_layer1 = Conv2D(32, (3, 3), dilation_rate=(3, 3), activation='elu')(input_1)\n",
    "dil_layer2 = Conv2D(32, (3, 3), dilation_rate=(2, 2), activation='elu')(dil_layer1)\n",
    "dil_layer3 = MaxPooling2D(pool_size=(2,2))(dil_layer2)\n",
    "\n",
    "concat = merge([layer3, dil_layer3], mode=\"concat\")\n",
    "\n",
    "layer4 = Conv2D(64, (3, 3), activation='elu')(concat)\n",
    "layer5 = Conv2D(64, (3, 3), activation='elu')(layer4)\n",
    "layer6 = MaxPooling2D(pool_size=(2,2))(layer5)\n",
    "\n",
    "flatten = Flatten()(layer6)\n",
    "\n",
    "output1_layer1 = Dense(32, activation='elu')(flatten)\n",
    "output1_layer2 = Dense(16, activation='elu')(output1_layer1)\n",
    "output1 = Dense(1, name=\"sigma\")(output1_layer2)\n",
    "\n",
    "output2_layer1 = Dense(32, activation='elu')(flatten)\n",
    "output2_layer2 = Dense(16, activation='elu')(output2_layer1)\n",
    "output2 = Dense(1, name=\"mu\")(output2_layer2)\n",
    "\n",
    "output3_layer1 = Dense(32, activation='elu')(flatten)\n",
    "output3_layer2 = Dense(16, activation='elu')(output3_layer1)\n",
    "output3 = Dense(1, name=\"jump_sigma\")(output3_layer2)\n",
    "\n",
    "output4_layer1 = Dense(32, activation='elu')(flatten)\n",
    "output4_layer2 = Dense(16, activation='elu')(output4_layer1)\n",
    "output4 = Dense(1, name=\"jump_mu\")(output4_layer2)\n",
    "\n",
    "output5_layer1 = Dense(32, activation='elu')(flatten)\n",
    "output5_layer2 = Dense(16, activation='elu')(output5_layer1)\n",
    "output5 = Dense(1, name=\"lambda\")(output5_layer2)\n",
    "\n",
    "convnet_mo_elu = Model(input = input_1, output=[output1, output2, output3, output4, output5])\n",
    "convnet_mo_elu.compile('adam', 'mean_squared_error', metrics=['mean_absolute_percentage_error', r2])"
   ]
  },
  {
   "cell_type": "code",
   "execution_count": 20,
   "metadata": {
    "collapsed": true
   },
   "outputs": [],
   "source": [
    "#covnet_mo_elu = covnet_multiple_ELUs_10_layers()\n",
    "#covnet_mo_elu.load_weights(\"RELAXED_ELU_COVNET.h5\")"
   ]
  },
  {
   "cell_type": "code",
   "execution_count": 21,
   "metadata": {
    "collapsed": true
   },
   "outputs": [],
   "source": [
    "#covnet_mo_elu.save(H5_DIR_COVNET_MULTIPLE_ELU)"
   ]
  },
  {
   "cell_type": "code",
   "execution_count": 14,
   "metadata": {},
   "outputs": [
    {
     "name": "stdout",
     "output_type": "stream",
     "text": [
      "0\n",
      "100\n",
      "200\n",
      "300\n",
      "400\n",
      "500\n",
      "600\n",
      "700\n",
      "800\n",
      "900\n"
     ]
    }
   ],
   "source": [
    "test_set_pred = standard_convolutional_test_set()"
   ]
  },
  {
   "cell_type": "code",
   "execution_count": 23,
   "metadata": {
    "collapsed": true
   },
   "outputs": [],
   "source": [
    "train_gen = convolutional_batch_generator(paramset_size=1500, paths_p_paramset=1, constraint_gbm_mu=(-0.5, 0.5))"
   ]
  },
  {
   "cell_type": "code",
   "execution_count": 16,
   "metadata": {
    "collapsed": true
   },
   "outputs": [],
   "source": [
    "histories_elu = np.load(\"diluted_covnet_histories_elu_6_hidden_LAYERS.npy\").tolist()\n",
    "covnet_mo_elu_predictions = np.load(\"diluted_covnet_mo_elu_predictions_6_hidden_LAYERS.npy\").tolist()"
   ]
  },
  {
   "cell_type": "code",
   "execution_count": 17,
   "metadata": {
    "collapsed": true
   },
   "outputs": [],
   "source": [
    "smallest_loss = 20"
   ]
  },
  {
   "cell_type": "code",
   "execution_count": 24,
   "metadata": {
    "scrolled": true
   },
   "outputs": [
    {
     "name": "stderr",
     "output_type": "stream",
     "text": [
      "/usr/lib/python2.7/dist-packages/ipykernel_launcher.py:2: UserWarning: The semantics of the Keras 2 argument `steps_per_epoch` is not the same as the Keras 1 argument `samples_per_epoch`. `steps_per_epoch` is the number of batches to draw from the generator at each epoch. Basically steps_per_epoch = samples_per_epoch/batch_size. Similarly `nb_val_samples`->`validation_steps` and `val_samples`->`steps` arguments have changed. Update your method calls accordingly.\n",
      "  \n",
      "/usr/lib/python2.7/dist-packages/ipykernel_launcher.py:2: UserWarning: Update your `fit_generator` call to the Keras 2 API: `fit_generator(<generator..., epochs=2, steps_per_epoch=10)`\n",
      "  \n"
     ]
    },
    {
     "name": "stdout",
     "output_type": "stream",
     "text": [
      "Epoch 1/2\n",
      "10/10 [==============================] - 118s - loss: 0.0133 - sigma_loss: 1.5233e-04 - mu_loss: 0.0041 - jump_sigma_loss: 0.0025 - jump_mu_loss: 0.0065 - lambda_loss: 2.1806e-05 - sigma_mean_absolute_percentage_error: 28.8632 - sigma_r2: 0.9540 - mu_mean_absolute_percentage_error: 173.2073 - mu_r2: 0.9508 - jump_sigma_mean_absolute_percentage_error: 164.6798 - jump_sigma_r2: 0.2423 - jump_mu_mean_absolute_percentage_error: 2081.3686 - jump_mu_r2: 0.9219 - lambda_mean_absolute_percentage_error: 84.5745 - lambda_r2: 0.5785    \n",
      "Epoch 2/2\n",
      "10/10 [==============================] - 118s - loss: 0.0125 - sigma_loss: 1.2332e-04 - mu_loss: 0.0039 - jump_sigma_loss: 0.0025 - jump_mu_loss: 0.0061 - lambda_loss: 2.1574e-05 - sigma_mean_absolute_percentage_error: 25.4978 - sigma_r2: 0.9629 - mu_mean_absolute_percentage_error: 84.1750 - mu_r2: 0.9536 - jump_sigma_mean_absolute_percentage_error: 153.2035 - jump_sigma_r2: 0.2406 - jump_mu_mean_absolute_percentage_error: 86.0331 - jump_mu_r2: 0.9275 - lambda_mean_absolute_percentage_error: 89.0946 - lambda_r2: 0.5808    \n",
      "SAVE\n",
      "[master 0a8bac2] updated history, predictions and model\n",
      " 4 files changed, 5 insertions(+), 43 deletions(-)\n",
      "Branch master set up to track remote branch master from origin.\n",
      "Epoch 1/2\n",
      "10/10 [==============================] - 119s - loss: 0.0123 - sigma_loss: 1.0968e-04 - mu_loss: 0.0039 - jump_sigma_loss: 0.0024 - jump_mu_loss: 0.0058 - lambda_loss: 1.8980e-05 - sigma_mean_absolute_percentage_error: 20.5938 - sigma_r2: 0.9661 - mu_mean_absolute_percentage_error: 133.6080 - mu_r2: 0.9526 - jump_sigma_mean_absolute_percentage_error: 161.0571 - jump_sigma_r2: 0.2624 - jump_mu_mean_absolute_percentage_error: 134.1396 - jump_mu_r2: 0.9288 - lambda_mean_absolute_percentage_error: 82.3602 - lambda_r2: 0.6333    \n",
      "Epoch 2/2\n",
      "10/10 [==============================] - 117s - loss: 0.0124 - sigma_loss: 9.8045e-05 - mu_loss: 0.0039 - jump_sigma_loss: 0.0025 - jump_mu_loss: 0.0059 - lambda_loss: 1.8845e-05 - sigma_mean_absolute_percentage_error: 21.3525 - sigma_r2: 0.9703 - mu_mean_absolute_percentage_error: 85.3549 - mu_r2: 0.9526 - jump_sigma_mean_absolute_percentage_error: 167.5285 - jump_sigma_r2: 0.2519 - jump_mu_mean_absolute_percentage_error: 124.4340 - jump_mu_r2: 0.9286 - lambda_mean_absolute_percentage_error: 77.4286 - lambda_r2: 0.6373    \n",
      "SAVE\n",
      "Epoch 1/2\n",
      " 7/10 [====================>.........] - ETA: 36s - loss: 0.0127 - sigma_loss: 1.0144e-04 - mu_loss: 0.0040 - jump_sigma_loss: 0.0025 - jump_mu_loss: 0.0061 - lambda_loss: 1.9875e-05 - sigma_mean_absolute_percentage_error: 20.2923 - sigma_r2: 0.9695 - mu_mean_absolute_percentage_error: 95.0778 - mu_r2: 0.9518 - jump_sigma_mean_absolute_percentage_error: 157.5689 - jump_sigma_r2: 0.2387 - jump_mu_mean_absolute_percentage_error: 107.8510 - jump_mu_r2: 0.9273 - lambda_mean_absolute_percentage_error: 78.4127 - lambda_r2: 0.6206"
     ]
    },
    {
     "ename": "KeyboardInterrupt",
     "evalue": "",
     "output_type": "error",
     "traceback": [
      "\u001b[0;31m---------------------------------------------------------------------------\u001b[0m",
      "\u001b[0;31mKeyboardInterrupt\u001b[0m                         Traceback (most recent call last)",
      "\u001b[0;32m<ipython-input-24-804e6d593fc1>\u001b[0m in \u001b[0;36m<module>\u001b[0;34m()\u001b[0m\n\u001b[1;32m      1\u001b[0m \u001b[0;32mfor\u001b[0m \u001b[0mi\u001b[0m \u001b[0;32min\u001b[0m \u001b[0mrange\u001b[0m\u001b[0;34m(\u001b[0m\u001b[0;36m150000\u001b[0m\u001b[0;34m)\u001b[0m\u001b[0;34m:\u001b[0m\u001b[0;34m\u001b[0m\u001b[0m\n\u001b[0;32m----> 2\u001b[0;31m     \u001b[0mhistory\u001b[0m \u001b[0;34m=\u001b[0m \u001b[0mconvnet_mo_elu\u001b[0m\u001b[0;34m.\u001b[0m\u001b[0mfit_generator\u001b[0m\u001b[0;34m(\u001b[0m\u001b[0mtrain_gen\u001b[0m\u001b[0;34m,\u001b[0m \u001b[0msamples_per_epoch\u001b[0m \u001b[0;34m=\u001b[0m \u001b[0;36m10\u001b[0m\u001b[0;34m,\u001b[0m \u001b[0mnb_epoch\u001b[0m \u001b[0;34m=\u001b[0m \u001b[0;36m2\u001b[0m\u001b[0;34m)\u001b[0m\u001b[0;34m\u001b[0m\u001b[0m\n\u001b[0m\u001b[1;32m      3\u001b[0m     \u001b[0mhistories_elu\u001b[0m\u001b[0;34m.\u001b[0m\u001b[0mappend\u001b[0m\u001b[0;34m(\u001b[0m\u001b[0mhistory\u001b[0m\u001b[0;34m.\u001b[0m\u001b[0mhistory\u001b[0m\u001b[0;34m)\u001b[0m\u001b[0;34m\u001b[0m\u001b[0m\n\u001b[1;32m      4\u001b[0m \u001b[0;34m\u001b[0m\u001b[0m\n\u001b[1;32m      5\u001b[0m     \u001b[0mpredictions_elu\u001b[0m \u001b[0;34m=\u001b[0m \u001b[0mconvnet_mo_elu\u001b[0m\u001b[0;34m.\u001b[0m\u001b[0mpredict\u001b[0m\u001b[0;34m(\u001b[0m\u001b[0mtest_set_pred\u001b[0m\u001b[0;34m)\u001b[0m\u001b[0;34m\u001b[0m\u001b[0m\n",
      "\u001b[0;32m/usr/local/lib64/python2.7/site-packages/keras/legacy/interfaces.pyc\u001b[0m in \u001b[0;36mwrapper\u001b[0;34m(*args, **kwargs)\u001b[0m\n\u001b[1;32m     85\u001b[0m                 warnings.warn('Update your `' + object_name +\n\u001b[1;32m     86\u001b[0m                               '` call to the Keras 2 API: ' + signature, stacklevel=2)\n\u001b[0;32m---> 87\u001b[0;31m             \u001b[0;32mreturn\u001b[0m \u001b[0mfunc\u001b[0m\u001b[0;34m(\u001b[0m\u001b[0;34m*\u001b[0m\u001b[0margs\u001b[0m\u001b[0;34m,\u001b[0m \u001b[0;34m**\u001b[0m\u001b[0mkwargs\u001b[0m\u001b[0;34m)\u001b[0m\u001b[0;34m\u001b[0m\u001b[0m\n\u001b[0m\u001b[1;32m     88\u001b[0m         \u001b[0mwrapper\u001b[0m\u001b[0;34m.\u001b[0m\u001b[0m_original_function\u001b[0m \u001b[0;34m=\u001b[0m \u001b[0mfunc\u001b[0m\u001b[0;34m\u001b[0m\u001b[0m\n\u001b[1;32m     89\u001b[0m         \u001b[0;32mreturn\u001b[0m \u001b[0mwrapper\u001b[0m\u001b[0;34m\u001b[0m\u001b[0m\n",
      "\u001b[0;32m/usr/local/lib64/python2.7/site-packages/keras/engine/training.pyc\u001b[0m in \u001b[0;36mfit_generator\u001b[0;34m(self, generator, steps_per_epoch, epochs, verbose, callbacks, validation_data, validation_steps, class_weight, max_queue_size, workers, use_multiprocessing, shuffle, initial_epoch)\u001b[0m\n\u001b[1;32m   2087\u001b[0m         \u001b[0;32mfinally\u001b[0m\u001b[0;34m:\u001b[0m\u001b[0;34m\u001b[0m\u001b[0m\n\u001b[1;32m   2088\u001b[0m             \u001b[0;32mif\u001b[0m \u001b[0menqueuer\u001b[0m \u001b[0;32mis\u001b[0m \u001b[0;32mnot\u001b[0m \u001b[0mNone\u001b[0m\u001b[0;34m:\u001b[0m\u001b[0;34m\u001b[0m\u001b[0m\n\u001b[0;32m-> 2089\u001b[0;31m                 \u001b[0menqueuer\u001b[0m\u001b[0;34m.\u001b[0m\u001b[0mstop\u001b[0m\u001b[0;34m(\u001b[0m\u001b[0;34m)\u001b[0m\u001b[0;34m\u001b[0m\u001b[0m\n\u001b[0m\u001b[1;32m   2090\u001b[0m \u001b[0;34m\u001b[0m\u001b[0m\n\u001b[1;32m   2091\u001b[0m         \u001b[0mcallbacks\u001b[0m\u001b[0;34m.\u001b[0m\u001b[0mon_train_end\u001b[0m\u001b[0;34m(\u001b[0m\u001b[0;34m)\u001b[0m\u001b[0;34m\u001b[0m\u001b[0m\n",
      "\u001b[0;32m/usr/local/lib64/python2.7/site-packages/keras/utils/data_utils.pyc\u001b[0m in \u001b[0;36mstop\u001b[0;34m(self, timeout)\u001b[0m\n\u001b[1;32m    618\u001b[0m                     \u001b[0mthread\u001b[0m\u001b[0;34m.\u001b[0m\u001b[0mterminate\u001b[0m\u001b[0;34m(\u001b[0m\u001b[0;34m)\u001b[0m\u001b[0;34m\u001b[0m\u001b[0m\n\u001b[1;32m    619\u001b[0m                 \u001b[0;32melse\u001b[0m\u001b[0;34m:\u001b[0m\u001b[0;34m\u001b[0m\u001b[0m\n\u001b[0;32m--> 620\u001b[0;31m                     \u001b[0mthread\u001b[0m\u001b[0;34m.\u001b[0m\u001b[0mjoin\u001b[0m\u001b[0;34m(\u001b[0m\u001b[0mtimeout\u001b[0m\u001b[0;34m)\u001b[0m\u001b[0;34m\u001b[0m\u001b[0m\n\u001b[0m\u001b[1;32m    621\u001b[0m \u001b[0;34m\u001b[0m\u001b[0m\n\u001b[1;32m    622\u001b[0m         \u001b[0;32mif\u001b[0m \u001b[0mself\u001b[0m\u001b[0;34m.\u001b[0m\u001b[0m_use_multiprocessing\u001b[0m\u001b[0;34m:\u001b[0m\u001b[0;34m\u001b[0m\u001b[0m\n",
      "\u001b[0;32m/usr/lib64/python2.7/threading.pyc\u001b[0m in \u001b[0;36mjoin\u001b[0;34m(self, timeout, balancing)\u001b[0m\n\u001b[1;32m    941\u001b[0m             \u001b[0;32mif\u001b[0m \u001b[0mtimeout\u001b[0m \u001b[0;32mis\u001b[0m \u001b[0mNone\u001b[0m\u001b[0;34m:\u001b[0m\u001b[0;34m\u001b[0m\u001b[0m\n\u001b[1;32m    942\u001b[0m                 \u001b[0;32mwhile\u001b[0m \u001b[0;32mnot\u001b[0m \u001b[0mself\u001b[0m\u001b[0;34m.\u001b[0m\u001b[0m__stopped\u001b[0m\u001b[0;34m:\u001b[0m\u001b[0;34m\u001b[0m\u001b[0m\n\u001b[0;32m--> 943\u001b[0;31m                     \u001b[0mself\u001b[0m\u001b[0;34m.\u001b[0m\u001b[0m__block\u001b[0m\u001b[0;34m.\u001b[0m\u001b[0mwait\u001b[0m\u001b[0;34m(\u001b[0m\u001b[0;34m)\u001b[0m\u001b[0;34m\u001b[0m\u001b[0m\n\u001b[0m\u001b[1;32m    944\u001b[0m                 \u001b[0;32mif\u001b[0m \u001b[0m__debug__\u001b[0m\u001b[0;34m:\u001b[0m\u001b[0;34m\u001b[0m\u001b[0m\n\u001b[1;32m    945\u001b[0m                     \u001b[0mself\u001b[0m\u001b[0;34m.\u001b[0m\u001b[0m_note\u001b[0m\u001b[0;34m(\u001b[0m\u001b[0;34m\"%s.join(): thread stopped\"\u001b[0m\u001b[0;34m,\u001b[0m \u001b[0mself\u001b[0m\u001b[0;34m)\u001b[0m\u001b[0;34m\u001b[0m\u001b[0m\n",
      "\u001b[0;32m/usr/lib64/python2.7/threading.pyc\u001b[0m in \u001b[0;36mwait\u001b[0;34m(self, timeout, balancing)\u001b[0m\n\u001b[1;32m    338\u001b[0m         \u001b[0;32mtry\u001b[0m\u001b[0;34m:\u001b[0m    \u001b[0;31m# restore state no matter what (e.g., KeyboardInterrupt)\u001b[0m\u001b[0;34m\u001b[0m\u001b[0m\n\u001b[1;32m    339\u001b[0m             \u001b[0;32mif\u001b[0m \u001b[0mtimeout\u001b[0m \u001b[0;32mis\u001b[0m \u001b[0mNone\u001b[0m\u001b[0;34m:\u001b[0m\u001b[0;34m\u001b[0m\u001b[0m\n\u001b[0;32m--> 340\u001b[0;31m                 \u001b[0mwaiter\u001b[0m\u001b[0;34m.\u001b[0m\u001b[0macquire\u001b[0m\u001b[0;34m(\u001b[0m\u001b[0;34m)\u001b[0m\u001b[0;34m\u001b[0m\u001b[0m\n\u001b[0m\u001b[1;32m    341\u001b[0m                 \u001b[0;32mif\u001b[0m \u001b[0m__debug__\u001b[0m\u001b[0;34m:\u001b[0m\u001b[0;34m\u001b[0m\u001b[0m\n\u001b[1;32m    342\u001b[0m                     \u001b[0mself\u001b[0m\u001b[0;34m.\u001b[0m\u001b[0m_note\u001b[0m\u001b[0;34m(\u001b[0m\u001b[0;34m\"%s.wait(): got it\"\u001b[0m\u001b[0;34m,\u001b[0m \u001b[0mself\u001b[0m\u001b[0;34m)\u001b[0m\u001b[0;34m\u001b[0m\u001b[0m\n",
      "\u001b[0;31mKeyboardInterrupt\u001b[0m: "
     ]
    }
   ],
   "source": [
    "for i in range(150000):\n",
    "    history = convnet_mo_elu.fit_generator(train_gen, samples_per_epoch = 10, nb_epoch = 2)\n",
    "    histories_elu.append(history.history)\n",
    "\n",
    "    predictions_elu = convnet_mo_elu.predict(test_set_pred)\n",
    "\n",
    "    covnet_mo_elu_predictions.append(predictions_elu)\n",
    "    \n",
    "    if history.history['loss'][-1]<smallest_loss:\n",
    "        print(\"SAVE\")\n",
    "        smallest_loss = history.history['loss'][-1]\n",
    "        convnet_mo_elu.save(\"diluted_FULLMODEL_6_hidden_LAYERS.h5\")\n",
    "    \n",
    "    if i%5 == 0:\n",
    "        np.save(\"diluted_covnet_histories_elu_6_hidden_LAYERS.npy\", histories_elu)\n",
    "        np.save(\"diluted_covnet_mo_elu_predictions_6_hidden_LAYERS.npy\", covnet_mo_elu_predictions)\n",
    "\n",
    "        !git config --global user.email \"rwmmostert@gmail.com\"\n",
    "        !git config --global user.name \"RWMostert\"\n",
    "        !git add --all\n",
    "        !git commit -am \"updated history, predictions and model\"\n",
    "        !git push -u origin master --quiet"
   ]
  },
  {
   "cell_type": "markdown",
   "metadata": {},
   "source": [
    "# SAME Covnet Multiple Output with ELUs 10 Layers"
   ]
  },
  {
   "cell_type": "code",
   "execution_count": 41,
   "metadata": {
    "collapsed": true
   },
   "outputs": [],
   "source": [
    "from keras.layers.merge import Concatenate"
   ]
  },
  {
   "cell_type": "code",
   "execution_count": 35,
   "metadata": {
    "collapsed": true
   },
   "outputs": [],
   "source": [
    "import tensorflow as tf\n",
    "import keras\n",
    "from keras.models import Model, Sequential\n",
    "from keras.layers import Input, Dense, Flatten, LSTM, MaxPooling2D, Input, Merge\n",
    "from keras.layers.convolutional import Conv2D\n",
    "from keras.optimizers import Adam\n",
    "from keras import backend as K"
   ]
  },
  {
   "cell_type": "code",
   "execution_count": 36,
   "metadata": {
    "collapsed": true
   },
   "outputs": [],
   "source": [
    "def r2(y_true, y_pred):\n",
    "    \"\"\"\n",
    "    returns the correlation coefficient of y_pred against y_true.\n",
    "\n",
    "    :param y_true: the true values (independent variable)\n",
    "    :param y_pred: the predicted values (dependent variable)\n",
    "    \"\"\"\n",
    "    \n",
    "    SSE = K.sum(K.square(y_true-y_pred))\n",
    "    SST = K.sum(K.square(y_true-K.mean(y_true)))\n",
    "    \n",
    "    return 1-SSE/SST"
   ]
  },
  {
   "cell_type": "code",
   "execution_count": 40,
   "metadata": {},
   "outputs": [
    {
     "name": "stderr",
     "output_type": "stream",
     "text": [
      "/usr/lib/python2.7/dist-packages/ipykernel_launcher.py:13: UserWarning: The `merge` function is deprecated and will be removed after 08/2017. Use instead layers from `keras.layers.merge`, e.g. `add`, `concatenate`, etc.\n",
      "  del sys.path[0]\n",
      "/usr/lib/python2.7/dist-packages/ipykernel_launcher.py:41: UserWarning: Update your `Model` call to the Keras 2 API: `Model(outputs=[<tf.Tenso..., inputs=Tensor(\"in...)`\n"
     ]
    }
   ],
   "source": [
    "#covnet_mo_elu = load_model(\"FULLMODEL_10LAYERS_COVNET.h5\", custom_objects={\"r2\":r2})\n",
    "\n",
    "input_1 = Input(shape = (40, 50, 1))\n",
    "\n",
    "layer1 = Conv2D(128, (6, 6), activation='elu')(input_1)\n",
    "layer2 = Conv2D(64, (6, 6), activation='elu')(layer1)\n",
    "layer3 = MaxPooling2D(pool_size=(2,2))(layer2)\n",
    "\n",
    "dil_layer1 = Conv2D(128, (3, 3), dilation_rate=(3, 3), activation='elu')(input_1)\n",
    "dil_layer2 = Conv2D(64, (3, 3), dilation_rate=(2, 2), activation='elu')(dil_layer1)\n",
    "dil_layer3 = MaxPooling2D(pool_size=(2,2))(dil_layer2)\n",
    "\n",
    "concat = merge([layer3, dil_layer3], mode=\"concat\")\n",
    "\n",
    "layer4 = Conv2D(64, (3, 3), activation='elu')(concat)\n",
    "layer5 = Conv2D(32, (3, 3), activation='elu')(layer4)\n",
    "layer6 = MaxPooling2D(pool_size=(2,2))(layer5)\n",
    "\n",
    "flatten = Flatten()(layer6)\n",
    "\n",
    "output1_layer1 = Dense(32, activation='elu')(flatten)\n",
    "output1_layer2 = Dense(16, activation='elu')(output1_layer1)\n",
    "output1 = Dense(1, name=\"sigma\")(output1_layer2)\n",
    "\n",
    "output2_layer1 = Dense(32, activation='elu')(flatten)\n",
    "output2_layer2 = Dense(16, activation='elu')(output2_layer1)\n",
    "output2 = Dense(1, name=\"mu\")(output2_layer2)\n",
    "\n",
    "output3_layer1 = Dense(32, activation='elu')(flatten)\n",
    "output3_layer2 = Dense(16, activation='elu')(output3_layer1)\n",
    "output3 = Dense(1, name=\"jump_sigma\")(output3_layer2)\n",
    "\n",
    "output4_layer1 = Dense(32, activation='elu')(flatten)\n",
    "output4_layer2 = Dense(16, activation='elu')(output4_layer1)\n",
    "output4 = Dense(1, name=\"jump_mu\")(output4_layer2)\n",
    "\n",
    "output5_layer1 = Dense(32, activation='elu')(flatten)\n",
    "output5_layer2 = Dense(16, activation='elu')(output5_layer1)\n",
    "output5 = Dense(1, name=\"lambda\")(output5_layer2)\n",
    "\n",
    "convnet_mo_elu = Model(input = input_1, output=[output1, output2, output3, output4, output5])\n",
    "convnet_mo_elu.compile('adam', 'mean_squared_error', metrics=['mean_absolute_percentage_error', r2])"
   ]
  },
  {
   "cell_type": "code",
   "execution_count": 20,
   "metadata": {
    "collapsed": true
   },
   "outputs": [],
   "source": [
    "#covnet_mo_elu = covnet_multiple_ELUs_10_layers()\n",
    "#covnet_mo_elu.load_weights(\"RELAXED_ELU_COVNET.h5\")"
   ]
  },
  {
   "cell_type": "code",
   "execution_count": 21,
   "metadata": {
    "collapsed": true
   },
   "outputs": [],
   "source": [
    "#covnet_mo_elu.save(H5_DIR_COVNET_MULTIPLE_ELU)"
   ]
  },
  {
   "cell_type": "code",
   "execution_count": 17,
   "metadata": {},
   "outputs": [
    {
     "name": "stdout",
     "output_type": "stream",
     "text": [
      "0\n",
      "100\n",
      "200\n",
      "300\n",
      "400\n",
      "500\n",
      "600\n",
      "700\n",
      "800\n",
      "900\n"
     ]
    }
   ],
   "source": [
    "test_set_pred = standard_convolutional_test_set()"
   ]
  },
  {
   "cell_type": "code",
   "execution_count": 41,
   "metadata": {
    "collapsed": true
   },
   "outputs": [],
   "source": [
    "train_gen = convolutional_batch_generator(paramset_size=50, paths_p_paramset=1, constraint_gbm_mu=(-0.5, 0.5))"
   ]
  },
  {
   "cell_type": "code",
   "execution_count": 42,
   "metadata": {
    "collapsed": true
   },
   "outputs": [],
   "source": [
    "histories_elu = []#np.load(\"covnet_histories_elu_10LAYERS.npy\").tolist()\n",
    "covnet_mo_elu_predictions = []# np.load(\"covnet_mo_elu_predictions_10LAYERS.npy\").tolist()"
   ]
  },
  {
   "cell_type": "code",
   "execution_count": 43,
   "metadata": {
    "collapsed": true
   },
   "outputs": [],
   "source": [
    "smallest_loss = 20"
   ]
  },
  {
   "cell_type": "code",
   "execution_count": null,
   "metadata": {
    "scrolled": true
   },
   "outputs": [
    {
     "name": "stderr",
     "output_type": "stream",
     "text": [
      "/usr/lib/python2.7/dist-packages/ipykernel_launcher.py:2: UserWarning: The semantics of the Keras 2 argument `steps_per_epoch` is not the same as the Keras 1 argument `samples_per_epoch`. `steps_per_epoch` is the number of batches to draw from the generator at each epoch. Basically steps_per_epoch = samples_per_epoch/batch_size. Similarly `nb_val_samples`->`validation_steps` and `val_samples`->`steps` arguments have changed. Update your method calls accordingly.\n",
      "  \n",
      "/usr/lib/python2.7/dist-packages/ipykernel_launcher.py:2: UserWarning: Update your `fit_generator` call to the Keras 2 API: `fit_generator(<generator..., epochs=1, steps_per_epoch=10)`\n",
      "  \n"
     ]
    },
    {
     "name": "stdout",
     "output_type": "stream",
     "text": [
      "Epoch 1/1\n",
      "10/10 [==============================] - 4s - loss: 0.1697 - sigma_loss: 0.0075 - mu_loss: 0.0893 - jump_sigma_loss: 0.0069 - jump_mu_loss: 0.0642 - lambda_loss: 0.0018 - sigma_mean_absolute_percentage_error: 218.1846 - sigma_r2: -1.1836 - mu_mean_absolute_percentage_error: 139.3608 - mu_r2: -0.1122 - jump_sigma_mean_absolute_percentage_error: 218.4393 - jump_sigma_r2: -1.0500 - jump_mu_mean_absolute_percentage_error: 228.6622 - jump_mu_r2: 0.2030 - lambda_mean_absolute_percentage_error: 532.2628 - lambda_r2: -35.4295     \n",
      "SAVE\n",
      "[master dd9b027] updated history, predictions and model\n",
      " 4 files changed, 6 insertions(+), 58 deletions(-)\n",
      " rewrite Source_Code/beta_FULLMODEL_6_hidden_LAYERS.h5 (87%)\n",
      " rewrite Source_Code/beta_covnet_histories_elu_6_hidden_LAYERS.npy (98%)\n",
      " rewrite Source_Code/beta_covnet_mo_elu_predictions_6_hidden_LAYERS.npy (99%)\n",
      "Branch master set up to track remote branch master from origin.\n",
      "Epoch 1/1\n",
      "10/10 [==============================] - 3s - loss: 0.1339 - sigma_loss: 0.0052 - mu_loss: 0.0845 - jump_sigma_loss: 0.0051 - jump_mu_loss: 0.0378 - lambda_loss: 0.0013 - sigma_mean_absolute_percentage_error: 192.2175 - sigma_r2: -0.7375 - mu_mean_absolute_percentage_error: 151.4326 - mu_r2: 0.0316 - jump_sigma_mean_absolute_percentage_error: 257.5126 - jump_sigma_r2: -0.4897 - jump_mu_mean_absolute_percentage_error: 129.9678 - jump_mu_r2: 0.5057 - lambda_mean_absolute_percentage_error: 565.0650 - lambda_r2: -24.4470     \n",
      "SAVE\n",
      "Epoch 1/1\n",
      "10/10 [==============================] - 3s - loss: 0.1132 - sigma_loss: 0.0043 - mu_loss: 0.0749 - jump_sigma_loss: 0.0044 - jump_mu_loss: 0.0283 - lambda_loss: 0.0012 - sigma_mean_absolute_percentage_error: 277.2812 - sigma_r2: -0.2022 - mu_mean_absolute_percentage_error: 144.7666 - mu_r2: 0.0311 - jump_sigma_mean_absolute_percentage_error: 232.2256 - jump_sigma_r2: -0.4014 - jump_mu_mean_absolute_percentage_error: 111.4993 - jump_mu_r2: 0.6396 - lambda_mean_absolute_percentage_error: 523.8389 - lambda_r2: -25.2981     \n",
      "SAVE\n",
      "Epoch 1/1\n",
      "10/10 [==============================] - 3s - loss: 0.1148 - sigma_loss: 0.0038 - mu_loss: 0.0821 - jump_sigma_loss: 0.0049 - jump_mu_loss: 0.0232 - lambda_loss: 8.1381e-04 - sigma_mean_absolute_percentage_error: 195.1616 - sigma_r2: -0.2183 - mu_mean_absolute_percentage_error: 153.5206 - mu_r2: 0.0812 - jump_sigma_mean_absolute_percentage_error: 187.7903 - jump_sigma_r2: -0.5593 - jump_mu_mean_absolute_percentage_error: 86.9410 - jump_mu_r2: 0.7055 - lambda_mean_absolute_percentage_error: 402.3615 - lambda_r2: -14.3798     \n",
      "Epoch 1/1\n",
      "10/10 [==============================] - 4s - loss: 0.1051 - sigma_loss: 0.0042 - mu_loss: 0.0726 - jump_sigma_loss: 0.0043 - jump_mu_loss: 0.0234 - lambda_loss: 6.1516e-04 - sigma_mean_absolute_percentage_error: 217.9839 - sigma_r2: -0.2387 - mu_mean_absolute_percentage_error: 126.8407 - mu_r2: 0.1324 - jump_sigma_mean_absolute_percentage_error: 137.1505 - jump_sigma_r2: -0.4250 - jump_mu_mean_absolute_percentage_error: 72.6552 - jump_mu_r2: 0.7252 - lambda_mean_absolute_percentage_error: 240.8425 - lambda_r2: -11.8262     \n",
      "SAVE\n",
      "Epoch 1/1\n",
      "10/10 [==============================] - 3s - loss: 0.0964 - sigma_loss: 0.0042 - mu_loss: 0.0604 - jump_sigma_loss: 0.0041 - jump_mu_loss: 0.0270 - lambda_loss: 7.0726e-04 - sigma_mean_absolute_percentage_error: 165.4415 - sigma_r2: -0.4348 - mu_mean_absolute_percentage_error: 274.9398 - mu_r2: 0.2846 - jump_sigma_mean_absolute_percentage_error: 258.0099 - jump_sigma_r2: -0.2849 - jump_mu_mean_absolute_percentage_error: 114.8800 - jump_mu_r2: 0.6818 - lambda_mean_absolute_percentage_error: 306.9375 - lambda_r2: -13.1928     \n",
      "SAVE\n",
      "[master 3be5e76] updated history, predictions and model\n",
      " 3 files changed, 0 insertions(+), 0 deletions(-)\n",
      "Branch master set up to track remote branch master from origin.\n",
      "Epoch 1/1\n",
      "10/10 [==============================] - 4s - loss: 0.0699 - sigma_loss: 0.0031 - mu_loss: 0.0444 - jump_sigma_loss: 0.0041 - jump_mu_loss: 0.0174 - lambda_loss: 7.5472e-04 - sigma_mean_absolute_percentage_error: 152.2615 - sigma_r2: -0.0431 - mu_mean_absolute_percentage_error: 214.1842 - mu_r2: 0.4005 - jump_sigma_mean_absolute_percentage_error: 220.7394 - jump_sigma_r2: -0.2803 - jump_mu_mean_absolute_percentage_error: 105.3776 - jump_mu_r2: 0.7739 - lambda_mean_absolute_percentage_error: 241.2821 - lambda_r2: -14.8844    \n",
      "SAVE\n",
      "Epoch 1/1\n",
      "10/10 [==============================] - 3s - loss: 0.0586 - sigma_loss: 0.0033 - mu_loss: 0.0349 - jump_sigma_loss: 0.0042 - jump_mu_loss: 0.0155 - lambda_loss: 6.3303e-04 - sigma_mean_absolute_percentage_error: 151.9614 - sigma_r2: -0.0492 - mu_mean_absolute_percentage_error: 357.6994 - mu_r2: 0.5325 - jump_sigma_mean_absolute_percentage_error: 206.0112 - jump_sigma_r2: -0.3377 - jump_mu_mean_absolute_percentage_error: 51.6107 - jump_mu_r2: 0.8099 - lambda_mean_absolute_percentage_error: 231.1127 - lambda_r2: -11.4878     \n",
      "SAVE\n",
      "Epoch 1/1\n",
      "10/10 [==============================] - 4s - loss: 0.0536 - sigma_loss: 0.0036 - mu_loss: 0.0286 - jump_sigma_loss: 0.0037 - jump_mu_loss: 0.0168 - lambda_loss: 9.8257e-04 - sigma_mean_absolute_percentage_error: 164.4774 - sigma_r2: -0.1179 - mu_mean_absolute_percentage_error: 149.5848 - mu_r2: 0.6713 - jump_sigma_mean_absolute_percentage_error: 176.8728 - jump_sigma_r2: -0.1530 - jump_mu_mean_absolute_percentage_error: 73.7310 - jump_mu_r2: 0.7961 - lambda_mean_absolute_percentage_error: 325.5402 - lambda_r2: -18.5181     \n",
      "SAVE\n",
      "Epoch 1/1\n",
      "10/10 [==============================] - 3s - loss: 0.0522 - sigma_loss: 0.0034 - mu_loss: 0.0284 - jump_sigma_loss: 0.0037 - jump_mu_loss: 0.0161 - lambda_loss: 5.8539e-04 - sigma_mean_absolute_percentage_error: 140.7947 - sigma_r2: -0.0531 - mu_mean_absolute_percentage_error: 252.6981 - mu_r2: 0.6260 - jump_sigma_mean_absolute_percentage_error: 164.4074 - jump_sigma_r2: -0.1575 - jump_mu_mean_absolute_percentage_error: 80.5876 - jump_mu_r2: 0.7978 - lambda_mean_absolute_percentage_error: 240.1536 - lambda_r2: -11.7487     \n",
      "SAVE\n",
      "Epoch 1/1\n",
      "10/10 [==============================] - 3s - loss: 0.0469 - sigma_loss: 0.0029 - mu_loss: 0.0236 - jump_sigma_loss: 0.0038 - jump_mu_loss: 0.0161 - lambda_loss: 4.3095e-04 - sigma_mean_absolute_percentage_error: 148.2323 - sigma_r2: 0.1035 - mu_mean_absolute_percentage_error: 102.0915 - mu_r2: 0.7417 - jump_sigma_mean_absolute_percentage_error: 171.2055 - jump_sigma_r2: -0.1774 - jump_mu_mean_absolute_percentage_error: 82.6905 - jump_mu_r2: 0.8027 - lambda_mean_absolute_percentage_error: 187.8850 - lambda_r2: -8.3528     \n",
      "SAVE\n",
      "[master 45783fb] updated history, predictions and model\n",
      " 4 files changed, 46 insertions(+), 17 deletions(-)\n",
      "Branch master set up to track remote branch master from origin.\n",
      "Epoch 1/1\n",
      "10/10 [==============================] - 3s - loss: 0.0494 - sigma_loss: 0.0024 - mu_loss: 0.0274 - jump_sigma_loss: 0.0036 - jump_mu_loss: 0.0157 - lambda_loss: 3.6736e-04 - sigma_mean_absolute_percentage_error: 112.0268 - sigma_r2: 0.2232 - mu_mean_absolute_percentage_error: 137.8336 - mu_r2: 0.6615 - jump_sigma_mean_absolute_percentage_error: 184.1147 - jump_sigma_r2: -0.1280 - jump_mu_mean_absolute_percentage_error: 75.5120 - jump_mu_r2: 0.8078 - lambda_mean_absolute_percentage_error: 232.9830 - lambda_r2: -6.9720     \n",
      "Epoch 1/1\n",
      "10/10 [==============================] - 4s - loss: 0.0665 - sigma_loss: 0.0031 - mu_loss: 0.0440 - jump_sigma_loss: 0.0037 - jump_mu_loss: 0.0153 - lambda_loss: 3.6169e-04 - sigma_mean_absolute_percentage_error: 156.0237 - sigma_r2: 0.0419 - mu_mean_absolute_percentage_error: 900.7681 - mu_r2: 0.4880 - jump_sigma_mean_absolute_percentage_error: 163.6268 - jump_sigma_r2: -0.2286 - jump_mu_mean_absolute_percentage_error: 116.3180 - jump_mu_r2: 0.8102 - lambda_mean_absolute_percentage_error: 259.9359 - lambda_r2: -6.1137     \n",
      "Epoch 1/1\n"
     ]
    },
    {
     "name": "stdout",
     "output_type": "stream",
     "text": [
      "10/10 [==============================] - 4s - loss: 0.0647 - sigma_loss: 0.0047 - mu_loss: 0.0399 - jump_sigma_loss: 0.0038 - jump_mu_loss: 0.0159 - lambda_loss: 4.4954e-04 - sigma_mean_absolute_percentage_error: 176.8314 - sigma_r2: -0.3993 - mu_mean_absolute_percentage_error: 224.3015 - mu_r2: 0.5185 - jump_sigma_mean_absolute_percentage_error: 177.2034 - jump_sigma_r2: -0.2453 - jump_mu_mean_absolute_percentage_error: 83.1739 - jump_mu_r2: 0.8071 - lambda_mean_absolute_percentage_error: 237.6480 - lambda_r2: -7.9770     \n",
      "Epoch 1/1\n",
      "10/10 [==============================] - 3s - loss: 0.0497 - sigma_loss: 0.0031 - mu_loss: 0.0266 - jump_sigma_loss: 0.0040 - jump_mu_loss: 0.0157 - lambda_loss: 2.6182e-04 - sigma_mean_absolute_percentage_error: 132.9137 - sigma_r2: 0.0109 - mu_mean_absolute_percentage_error: 117.4087 - mu_r2: 0.6508 - jump_sigma_mean_absolute_percentage_error: 219.2118 - jump_sigma_r2: -0.1769 - jump_mu_mean_absolute_percentage_error: 85.3671 - jump_mu_r2: 0.8147 - lambda_mean_absolute_percentage_error: 196.1550 - lambda_r2: -4.3506     \n",
      "Epoch 1/1\n",
      "10/10 [==============================] - 4s - loss: 0.0421 - sigma_loss: 0.0024 - mu_loss: 0.0219 - jump_sigma_loss: 0.0035 - jump_mu_loss: 0.0140 - lambda_loss: 2.5496e-04 - sigma_mean_absolute_percentage_error: 154.9481 - sigma_r2: 0.2496 - mu_mean_absolute_percentage_error: 195.4763 - mu_r2: 0.7210 - jump_sigma_mean_absolute_percentage_error: 215.8532 - jump_sigma_r2: -0.1636 - jump_mu_mean_absolute_percentage_error: 111.2302 - jump_mu_r2: 0.8226 - lambda_mean_absolute_percentage_error: 183.4958 - lambda_r2: -4.3630     \n",
      "SAVE\n",
      "[master f152645] updated history, predictions and model\n",
      " 3 files changed, 0 insertions(+), 0 deletions(-)\n",
      "Branch master set up to track remote branch master from origin.\n",
      "Epoch 1/1\n",
      "10/10 [==============================] - 3s - loss: 0.0405 - sigma_loss: 0.0014 - mu_loss: 0.0199 - jump_sigma_loss: 0.0034 - jump_mu_loss: 0.0157 - lambda_loss: 2.0667e-04 - sigma_mean_absolute_percentage_error: 103.0388 - sigma_r2: 0.5487 - mu_mean_absolute_percentage_error: 496.0541 - mu_r2: 0.7445 - jump_sigma_mean_absolute_percentage_error: 147.6619 - jump_sigma_r2: -0.0561 - jump_mu_mean_absolute_percentage_error: 84.7491 - jump_mu_r2: 0.8136 - lambda_mean_absolute_percentage_error: 236.8501 - lambda_r2: -2.9400     \n",
      "SAVE\n",
      "Epoch 1/1\n",
      "10/10 [==============================] - 3s - loss: 0.0400 - sigma_loss: 0.0014 - mu_loss: 0.0216 - jump_sigma_loss: 0.0034 - jump_mu_loss: 0.0134 - lambda_loss: 1.8896e-04 - sigma_mean_absolute_percentage_error: 73.5636 - sigma_r2: 0.5764 - mu_mean_absolute_percentage_error: 166.6673 - mu_r2: 0.7284 - jump_sigma_mean_absolute_percentage_error: 175.1857 - jump_sigma_r2: -0.0599 - jump_mu_mean_absolute_percentage_error: 153.8579 - jump_mu_r2: 0.8327 - lambda_mean_absolute_percentage_error: 148.2383 - lambda_r2: -3.0470     \n",
      "SAVE\n",
      "Epoch 1/1\n",
      "10/10 [==============================] - 4s - loss: 0.0530 - sigma_loss: 0.0014 - mu_loss: 0.0336 - jump_sigma_loss: 0.0038 - jump_mu_loss: 0.0140 - lambda_loss: 2.2356e-04 - sigma_mean_absolute_percentage_error: 88.1882 - sigma_r2: 0.5569 - mu_mean_absolute_percentage_error: 135.5767 - mu_r2: 0.5783 - jump_sigma_mean_absolute_percentage_error: 215.5364 - jump_sigma_r2: -0.1220 - jump_mu_mean_absolute_percentage_error: 66.0947 - jump_mu_r2: 0.8337 - lambda_mean_absolute_percentage_error: 136.1049 - lambda_r2: -3.7717     \n",
      "Epoch 1/1\n",
      "10/10 [==============================] - 4s - loss: 0.0383 - sigma_loss: 0.0011 - mu_loss: 0.0192 - jump_sigma_loss: 0.0037 - jump_mu_loss: 0.0142 - lambda_loss: 1.9102e-04 - sigma_mean_absolute_percentage_error: 68.3589 - sigma_r2: 0.6506 - mu_mean_absolute_percentage_error: 82.5253 - mu_r2: 0.7721 - jump_sigma_mean_absolute_percentage_error: 201.1924 - jump_sigma_r2: -0.1007 - jump_mu_mean_absolute_percentage_error: 71.3124 - jump_mu_r2: 0.8087 - lambda_mean_absolute_percentage_error: 146.6385 - lambda_r2: -2.7518     \n",
      "SAVE\n",
      "Epoch 1/1\n",
      "10/10 [==============================] - 4s - loss: 0.0457 - sigma_loss: 0.0014 - mu_loss: 0.0243 - jump_sigma_loss: 0.0036 - jump_mu_loss: 0.0161 - lambda_loss: 1.8943e-04 - sigma_mean_absolute_percentage_error: 116.4618 - sigma_r2: 0.5855 - mu_mean_absolute_percentage_error: 136.1791 - mu_r2: 0.6991 - jump_sigma_mean_absolute_percentage_error: 176.9809 - jump_sigma_r2: -0.0762 - jump_mu_mean_absolute_percentage_error: 102.3534 - jump_mu_r2: 0.7932 - lambda_mean_absolute_percentage_error: 202.9317 - lambda_r2: -2.8131     \n",
      "[master fbe3a5f] updated history, predictions and model\n",
      " 3 files changed, 0 insertions(+), 0 deletions(-)\n",
      "Branch master set up to track remote branch master from origin.\n",
      "Epoch 1/1\n",
      "10/10 [==============================] - 3s - loss: 0.0413 - sigma_loss: 0.0012 - mu_loss: 0.0234 - jump_sigma_loss: 0.0032 - jump_mu_loss: 0.0134 - lambda_loss: 1.2870e-04 - sigma_mean_absolute_percentage_error: 73.0928 - sigma_r2: 0.6172 - mu_mean_absolute_percentage_error: 148.8325 - mu_r2: 0.7097 - jump_sigma_mean_absolute_percentage_error: 168.7333 - jump_sigma_r2: -0.0304 - jump_mu_mean_absolute_percentage_error: 70.2481 - jump_mu_r2: 0.8406 - lambda_mean_absolute_percentage_error: 126.0138 - lambda_r2: -1.8303     \n",
      "Epoch 1/1\n",
      "10/10 [==============================] - 3s - loss: 0.0395 - sigma_loss: 0.0011 - mu_loss: 0.0219 - jump_sigma_loss: 0.0031 - jump_mu_loss: 0.0132 - lambda_loss: 1.6131e-04 - sigma_mean_absolute_percentage_error: 78.8106 - sigma_r2: 0.6434 - mu_mean_absolute_percentage_error: 143.4238 - mu_r2: 0.7358 - jump_sigma_mean_absolute_percentage_error: 129.0766 - jump_sigma_r2: 0.0021 - jump_mu_mean_absolute_percentage_error: 122.9175 - jump_mu_r2: 0.8233 - lambda_mean_absolute_percentage_error: 133.7325 - lambda_r2: -2.2776          \n",
      "Epoch 1/1\n",
      "10/10 [==============================] - 3s - loss: 0.0447 - sigma_loss: 0.0010 - mu_loss: 0.0265 - jump_sigma_loss: 0.0033 - jump_mu_loss: 0.0137 - lambda_loss: 1.1294e-04 - sigma_mean_absolute_percentage_error: 77.4174 - sigma_r2: 0.6868 - mu_mean_absolute_percentage_error: 181.6321 - mu_r2: 0.6629 - jump_sigma_mean_absolute_percentage_error: 182.8100 - jump_sigma_r2: -0.0183 - jump_mu_mean_absolute_percentage_error: 73.1772 - jump_mu_r2: 0.8303 - lambda_mean_absolute_percentage_error: 140.1885 - lambda_r2: -1.2658       \n",
      "Epoch 1/1\n",
      "10/10 [==============================] - 3s - loss: 0.0435 - sigma_loss: 0.0011 - mu_loss: 0.0238 - jump_sigma_loss: 0.0033 - jump_mu_loss: 0.0152 - lambda_loss: 1.2042e-04 - sigma_mean_absolute_percentage_error: 104.6350 - sigma_r2: 0.6638 - mu_mean_absolute_percentage_error: 303.8668 - mu_r2: 0.6813 - jump_sigma_mean_absolute_percentage_error: 143.5535 - jump_sigma_r2: -0.0658 - jump_mu_mean_absolute_percentage_error: 62.6769 - jump_mu_r2: 0.8171 - lambda_mean_absolute_percentage_error: 170.3994 - lambda_r2: -1.4193    \n",
      "Epoch 1/1\n",
      "10/10 [==============================] - 3s - loss: 0.0360 - sigma_loss: 0.0012 - mu_loss: 0.0181 - jump_sigma_loss: 0.0036 - jump_mu_loss: 0.0129 - lambda_loss: 1.2424e-04 - sigma_mean_absolute_percentage_error: 92.6669 - sigma_r2: 0.6489 - mu_mean_absolute_percentage_error: 322.6514 - mu_r2: 0.7748 - jump_sigma_mean_absolute_percentage_error: 173.4259 - jump_sigma_r2: -0.0472 - jump_mu_mean_absolute_percentage_error: 59.1983 - jump_mu_r2: 0.8419 - lambda_mean_absolute_percentage_error: 177.4183 - lambda_r2: -1.4352     \n",
      "SAVE\n",
      "[master 4b7b57f] updated history, predictions and model\n",
      " 3 files changed, 0 insertions(+), 0 deletions(-)\n",
      "Branch master set up to track remote branch master from origin.\n",
      "Epoch 1/1\n",
      "10/10 [==============================] - 3s - loss: 0.0303 - sigma_loss: 0.0011 - mu_loss: 0.0135 - jump_sigma_loss: 0.0035 - jump_mu_loss: 0.0121 - lambda_loss: 1.4121e-04 - sigma_mean_absolute_percentage_error: 77.6544 - sigma_r2: 0.6620 - mu_mean_absolute_percentage_error: 122.6558 - mu_r2: 0.8323 - jump_sigma_mean_absolute_percentage_error: 188.3796 - jump_sigma_r2: -0.0383 - jump_mu_mean_absolute_percentage_error: 82.5585 - jump_mu_r2: 0.8345 - lambda_mean_absolute_percentage_error: 153.0626 - lambda_r2: -1.7335     \n",
      "SAVE\n",
      "Epoch 1/1\n"
     ]
    },
    {
     "name": "stdout",
     "output_type": "stream",
     "text": [
      "10/10 [==============================] - 4s - loss: 0.0356 - sigma_loss: 0.0014 - mu_loss: 0.0185 - jump_sigma_loss: 0.0035 - jump_mu_loss: 0.0121 - lambda_loss: 1.3800e-04 - sigma_mean_absolute_percentage_error: 89.8835 - sigma_r2: 0.5661 - mu_mean_absolute_percentage_error: 86.5726 - mu_r2: 0.7703 - jump_sigma_mean_absolute_percentage_error: 201.5223 - jump_sigma_r2: -0.0393 - jump_mu_mean_absolute_percentage_error: 102.8601 - jump_mu_r2: 0.8503 - lambda_mean_absolute_percentage_error: 138.0551 - lambda_r2: -1.9802     \n",
      "Epoch 1/1\n",
      "10/10 [==============================] - 4s - loss: 0.0365 - sigma_loss: 0.0012 - mu_loss: 0.0186 - jump_sigma_loss: 0.0033 - jump_mu_loss: 0.0132 - lambda_loss: 1.0482e-04 - sigma_mean_absolute_percentage_error: 75.3399 - sigma_r2: 0.6077 - mu_mean_absolute_percentage_error: 108.7623 - mu_r2: 0.7730 - jump_sigma_mean_absolute_percentage_error: 199.8369 - jump_sigma_r2: -0.0390 - jump_mu_mean_absolute_percentage_error: 75.4493 - jump_mu_r2: 0.8343 - lambda_mean_absolute_percentage_error: 173.2469 - lambda_r2: -0.9590     \n",
      "Epoch 1/1\n",
      "10/10 [==============================] - 4s - loss: 0.0299 - sigma_loss: 0.0012 - mu_loss: 0.0131 - jump_sigma_loss: 0.0035 - jump_mu_loss: 0.0119 - lambda_loss: 1.1292e-04 - sigma_mean_absolute_percentage_error: 75.4278 - sigma_r2: 0.6238 - mu_mean_absolute_percentage_error: 106.3601 - mu_r2: 0.8356 - jump_sigma_mean_absolute_percentage_error: 154.9766 - jump_sigma_r2: -0.0566 - jump_mu_mean_absolute_percentage_error: 69.0477 - jump_mu_r2: 0.8509 - lambda_mean_absolute_percentage_error: 142.8637 - lambda_r2: -1.1263     \n",
      "SAVE\n",
      "Epoch 1/1\n",
      "10/10 [==============================] - 3s - loss: 0.0334 - sigma_loss: 0.0010 - mu_loss: 0.0161 - jump_sigma_loss: 0.0035 - jump_mu_loss: 0.0127 - lambda_loss: 1.0070e-04 - sigma_mean_absolute_percentage_error: 90.1212 - sigma_r2: 0.6918 - mu_mean_absolute_percentage_error: 85.4119 - mu_r2: 0.7948 - jump_sigma_mean_absolute_percentage_error: 215.5343 - jump_sigma_r2: -0.0138 - jump_mu_mean_absolute_percentage_error: 93.7402 - jump_mu_r2: 0.8424 - lambda_mean_absolute_percentage_error: 112.0623 - lambda_r2: -0.9548       \n",
      "[master 6b1d123] updated history, predictions and model\n",
      " 4 files changed, 68 insertions(+)\n",
      "Branch master set up to track remote branch master from origin.\n",
      "Epoch 1/1\n",
      "10/10 [==============================] - 3s - loss: 0.0323 - sigma_loss: 0.0012 - mu_loss: 0.0129 - jump_sigma_loss: 0.0033 - jump_mu_loss: 0.0148 - lambda_loss: 9.6220e-05 - sigma_mean_absolute_percentage_error: 97.6632 - sigma_r2: 0.5996 - mu_mean_absolute_percentage_error: 116.3457 - mu_r2: 0.8434 - jump_sigma_mean_absolute_percentage_error: 175.0079 - jump_sigma_r2: -0.0262 - jump_mu_mean_absolute_percentage_error: 94.7399 - jump_mu_r2: 0.8324 - lambda_mean_absolute_percentage_error: 143.9545 - lambda_r2: -0.9213     \n",
      "Epoch 1/1\n",
      "10/10 [==============================] - 3s - loss: 0.0333 - sigma_loss: 0.0011 - mu_loss: 0.0149 - jump_sigma_loss: 0.0032 - jump_mu_loss: 0.0141 - lambda_loss: 8.2204e-05 - sigma_mean_absolute_percentage_error: 84.6400 - sigma_r2: 0.6766 - mu_mean_absolute_percentage_error: 115.3042 - mu_r2: 0.8100 - jump_sigma_mean_absolute_percentage_error: 162.8139 - jump_sigma_r2: -0.0780 - jump_mu_mean_absolute_percentage_error: 80.9069 - jump_mu_r2: 0.8171 - lambda_mean_absolute_percentage_error: 196.2939 - lambda_r2: -0.6887     \n",
      "Epoch 1/1\n",
      "10/10 [==============================] - 3s - loss: 0.0330 - sigma_loss: 0.0011 - mu_loss: 0.0156 - jump_sigma_loss: 0.0035 - jump_mu_loss: 0.0128 - lambda_loss: 8.2096e-05 - sigma_mean_absolute_percentage_error: 59.1216 - sigma_r2: 0.6486 - mu_mean_absolute_percentage_error: 290.9896 - mu_r2: 0.8109 - jump_sigma_mean_absolute_percentage_error: 189.1699 - jump_sigma_r2: -0.0026 - jump_mu_mean_absolute_percentage_error: 168.0245 - jump_mu_r2: 0.8341 - lambda_mean_absolute_percentage_error: 128.8468 - lambda_r2: -0.6250    \n",
      "Epoch 1/1\n",
      "10/10 [==============================] - 3s - loss: 0.0321 - sigma_loss: 7.6613e-04 - mu_loss: 0.0132 - jump_sigma_loss: 0.0034 - jump_mu_loss: 0.0145 - lambda_loss: 7.0901e-05 - sigma_mean_absolute_percentage_error: 62.5484 - sigma_r2: 0.7616 - mu_mean_absolute_percentage_error: 224.5374 - mu_r2: 0.8394 - jump_sigma_mean_absolute_percentage_error: 186.3094 - jump_sigma_r2: -0.0313 - jump_mu_mean_absolute_percentage_error: 69.0400 - jump_mu_r2: 0.8211 - lambda_mean_absolute_percentage_error: 129.9864 - lambda_r2: -0.4206     \n",
      "Epoch 1/1\n",
      "10/10 [==============================] - 4s - loss: 0.0315 - sigma_loss: 8.9980e-04 - mu_loss: 0.0132 - jump_sigma_loss: 0.0032 - jump_mu_loss: 0.0141 - lambda_loss: 9.0842e-05 - sigma_mean_absolute_percentage_error: 64.5363 - sigma_r2: 0.7276 - mu_mean_absolute_percentage_error: 907.2097 - mu_r2: 0.8324 - jump_sigma_mean_absolute_percentage_error: 181.3051 - jump_sigma_r2: 0.0055 - jump_mu_mean_absolute_percentage_error: 74.7050 - jump_mu_r2: 0.8362 - lambda_mean_absolute_percentage_error: 132.2754 - lambda_r2: -0.6498    \n",
      "[master 9402179] updated history, predictions and model\n",
      " 2 files changed, 0 insertions(+), 0 deletions(-)\n",
      "Branch master set up to track remote branch master from origin.\n",
      "Epoch 1/1\n",
      "10/10 [==============================] - 4s - loss: 0.0255 - sigma_loss: 7.9447e-04 - mu_loss: 0.0108 - jump_sigma_loss: 0.0032 - jump_mu_loss: 0.0105 - lambda_loss: 8.3770e-05 - sigma_mean_absolute_percentage_error: 57.8574 - sigma_r2: 0.7378 - mu_mean_absolute_percentage_error: 76.8020 - mu_r2: 0.8609 - jump_sigma_mean_absolute_percentage_error: 211.3821 - jump_sigma_r2: -0.0034 - jump_mu_mean_absolute_percentage_error: 103.2701 - jump_mu_r2: 0.8598 - lambda_mean_absolute_percentage_error: 148.2649 - lambda_r2: -0.7405     \n",
      "SAVE\n",
      "Epoch 1/1\n",
      "10/10 [==============================] - 3s - loss: 0.0306 - sigma_loss: 8.0537e-04 - mu_loss: 0.0118 - jump_sigma_loss: 0.0033 - jump_mu_loss: 0.0146 - lambda_loss: 7.0868e-05 - sigma_mean_absolute_percentage_error: 50.1072 - sigma_r2: 0.7343 - mu_mean_absolute_percentage_error: 146.6190 - mu_r2: 0.8532 - jump_sigma_mean_absolute_percentage_error: 194.2015 - jump_sigma_r2: -0.0413 - jump_mu_mean_absolute_percentage_error: 64.5995 - jump_mu_r2: 0.8205 - lambda_mean_absolute_percentage_error: 153.9965 - lambda_r2: -0.4195     \n",
      "Epoch 1/1\n",
      "10/10 [==============================] - 3s - loss: 0.0304 - sigma_loss: 0.0011 - mu_loss: 0.0150 - jump_sigma_loss: 0.0032 - jump_mu_loss: 0.0110 - lambda_loss: 5.8109e-05 - sigma_mean_absolute_percentage_error: 75.6348 - sigma_r2: 0.6348 - mu_mean_absolute_percentage_error: 215.7945 - mu_r2: 0.8023 - jump_sigma_mean_absolute_percentage_error: 163.3678 - jump_sigma_r2: -0.0278 - jump_mu_mean_absolute_percentage_error: 78.0999 - jump_mu_r2: 0.8674 - lambda_mean_absolute_percentage_error: 112.4721 - lambda_r2: -0.1761      \n",
      "Epoch 1/1\n",
      "10/10 [==============================] - 4s - loss: 0.0345 - sigma_loss: 0.0012 - mu_loss: 0.0152 - jump_sigma_loss: 0.0031 - jump_mu_loss: 0.0149 - lambda_loss: 7.6238e-05 - sigma_mean_absolute_percentage_error: 64.6232 - sigma_r2: 0.6425 - mu_mean_absolute_percentage_error: 194.1382 - mu_r2: 0.8136 - jump_sigma_mean_absolute_percentage_error: 184.2710 - jump_sigma_r2: 0.0057 - jump_mu_mean_absolute_percentage_error: 194.9404 - jump_mu_r2: 0.8248 - lambda_mean_absolute_percentage_error: 102.0904 - lambda_r2: -0.4686      \n",
      "Epoch 1/1\n",
      "10/10 [==============================] - 4s - loss: 0.0360 - sigma_loss: 8.9405e-04 - mu_loss: 0.0163 - jump_sigma_loss: 0.0034 - jump_mu_loss: 0.0154 - lambda_loss: 6.4572e-05 - sigma_mean_absolute_percentage_error: 74.8514 - sigma_r2: 0.7248 - mu_mean_absolute_percentage_error: 227.4833 - mu_r2: 0.7870 - jump_sigma_mean_absolute_percentage_error: 220.9374 - jump_sigma_r2: -0.0088 - jump_mu_mean_absolute_percentage_error: 77.4383 - jump_mu_r2: 0.8066 - lambda_mean_absolute_percentage_error: 135.0098 - lambda_r2: -0.1433    \n",
      "[master 1d9daff] updated history, predictions and model\n",
      " 3 files changed, 0 insertions(+), 0 deletions(-)\n",
      "Branch master set up to track remote branch master from origin.\n",
      "Epoch 1/1\n"
     ]
    },
    {
     "name": "stdout",
     "output_type": "stream",
     "text": [
      "10/10 [==============================] - 3s - loss: 0.0294 - sigma_loss: 8.9159e-04 - mu_loss: 0.0133 - jump_sigma_loss: 0.0034 - jump_mu_loss: 0.0117 - lambda_loss: 7.1847e-05 - sigma_mean_absolute_percentage_error: 83.9552 - sigma_r2: 0.7139 - mu_mean_absolute_percentage_error: 130.7166 - mu_r2: 0.8317 - jump_sigma_mean_absolute_percentage_error: 204.2744 - jump_sigma_r2: 0.0033 - jump_mu_mean_absolute_percentage_error: 60.7133 - jump_mu_r2: 0.8566 - lambda_mean_absolute_percentage_error: 129.3159 - lambda_r2: -0.4466     \n",
      "Epoch 1/1\n",
      "10/10 [==============================] - 4s - loss: 0.0310 - sigma_loss: 0.0011 - mu_loss: 0.0133 - jump_sigma_loss: 0.0034 - jump_mu_loss: 0.0130 - lambda_loss: 7.6894e-05 - sigma_mean_absolute_percentage_error: 87.2310 - sigma_r2: 0.6504 - mu_mean_absolute_percentage_error: 111.6362 - mu_r2: 0.8361 - jump_sigma_mean_absolute_percentage_error: 202.2116 - jump_sigma_r2: -0.0483 - jump_mu_mean_absolute_percentage_error: 123.8065 - jump_mu_r2: 0.8294 - lambda_mean_absolute_percentage_error: 104.9660 - lambda_r2: -0.5065     \n",
      "Epoch 1/1\n",
      "10/10 [==============================] - 4s - loss: 0.0254 - sigma_loss: 8.7774e-04 - mu_loss: 0.0096 - jump_sigma_loss: 0.0032 - jump_mu_loss: 0.0116 - lambda_loss: 6.0420e-05 - sigma_mean_absolute_percentage_error: 58.9634 - sigma_r2: 0.7299 - mu_mean_absolute_percentage_error: 95.6567 - mu_r2: 0.8784 - jump_sigma_mean_absolute_percentage_error: 173.8118 - jump_sigma_r2: -0.0159 - jump_mu_mean_absolute_percentage_error: 85.4588 - jump_mu_r2: 0.8630 - lambda_mean_absolute_percentage_error: 105.0023 - lambda_r2: -0.1906       \n",
      "SAVE\n",
      "Epoch 1/1\n",
      "10/10 [==============================] - 4s - loss: 0.0296 - sigma_loss: 7.5801e-04 - mu_loss: 0.0136 - jump_sigma_loss: 0.0033 - jump_mu_loss: 0.0119 - lambda_loss: 5.9388e-05 - sigma_mean_absolute_percentage_error: 71.6130 - sigma_r2: 0.7629 - mu_mean_absolute_percentage_error: 198.3837 - mu_r2: 0.8307 - jump_sigma_mean_absolute_percentage_error: 211.2494 - jump_sigma_r2: -0.0157 - jump_mu_mean_absolute_percentage_error: 80.0586 - jump_mu_r2: 0.8534 - lambda_mean_absolute_percentage_error: 164.9597 - lambda_r2: -0.2647     \n",
      "Epoch 1/1\n",
      "10/10 [==============================] - 3s - loss: 0.0286 - sigma_loss: 8.0219e-04 - mu_loss: 0.0113 - jump_sigma_loss: 0.0032 - jump_mu_loss: 0.0132 - lambda_loss: 6.3888e-05 - sigma_mean_absolute_percentage_error: 57.4877 - sigma_r2: 0.7586 - mu_mean_absolute_percentage_error: 119.2423 - mu_r2: 0.8600 - jump_sigma_mean_absolute_percentage_error: 228.8839 - jump_sigma_r2: 0.0338 - jump_mu_mean_absolute_percentage_error: 73.3438 - jump_mu_r2: 0.8373 - lambda_mean_absolute_percentage_error: 167.2660 - lambda_r2: -0.2655     \n",
      "[master 4b43753] updated history, predictions and model\n",
      " 3 files changed, 0 insertions(+), 0 deletions(-)\n",
      "Branch master set up to track remote branch master from origin.\n",
      "Epoch 1/1\n",
      "10/10 [==============================] - 4s - loss: 0.0354 - sigma_loss: 0.0011 - mu_loss: 0.0174 - jump_sigma_loss: 0.0030 - jump_mu_loss: 0.0138 - lambda_loss: 6.1934e-05 - sigma_mean_absolute_percentage_error: 84.8482 - sigma_r2: 0.6547 - mu_mean_absolute_percentage_error: 323.5193 - mu_r2: 0.7748 - jump_sigma_mean_absolute_percentage_error: 161.3614 - jump_sigma_r2: 0.0188 - jump_mu_mean_absolute_percentage_error: 133.5071 - jump_mu_r2: 0.8320 - lambda_mean_absolute_percentage_error: 118.5970 - lambda_r2: -0.2539     \n",
      "Epoch 1/1\n",
      " 5/10 [==============>...............] - ETA: 2s - loss: 0.0318 - sigma_loss: 7.8597e-04 - mu_loss: 0.0168 - jump_sigma_loss: 0.0037 - jump_mu_loss: 0.0104 - lambda_loss: 5.3512e-05 - sigma_mean_absolute_percentage_error: 67.7034 - sigma_r2: 0.7627 - mu_mean_absolute_percentage_error: 125.8298 - mu_r2: 0.7987 - jump_sigma_mean_absolute_percentage_error: 218.7377 - jump_sigma_r2: -0.0702 - jump_mu_mean_absolute_percentage_error: 119.3377 - jump_mu_r2: 0.8757 - lambda_mean_absolute_percentage_error: 123.5031 - lambda_r2: -0.1098"
     ]
    }
   ],
   "source": [
    "for i in range(150000):\n",
    "    history = convnet_mo_elu.fit_generator(train_gen, samples_per_epoch = 10, nb_epoch = 1)\n",
    "    histories_elu.append(history.history)\n",
    "\n",
    "    predictions_elu = convnet_mo_elu.predict(test_set_pred)\n",
    "\n",
    "    covnet_mo_elu_predictions.append(predictions_elu)\n",
    "    \n",
    "    if history.history['loss'][-1]<smallest_loss:\n",
    "        print(\"SAVE\")\n",
    "        smallest_loss = history.history['loss'][-1]\n",
    "        convnet_mo_elu.save(\"beta_FULLMODEL_6_hidden_LAYERS.h5\")\n",
    "    \n",
    "    if i%5 == 0:\n",
    "        np.save(\"beta_covnet_histories_elu_6_hidden_LAYERS.npy\", histories_elu)\n",
    "        np.save(\"beta_covnet_mo_elu_predictions_6_hidden_LAYERS.npy\", covnet_mo_elu_predictions)\n",
    "\n",
    "        !git config --global user.email \"rwmmostert@gmail.com\"\n",
    "        !git config --global user.name \"RWMostert\"\n",
    "        !git add --all\n",
    "        !git commit -am \"updated history, predictions and model\"\n",
    "        !git push -u origin master --quiet"
   ]
  },
  {
   "cell_type": "markdown",
   "metadata": {},
   "source": [
    "# Covnet Single Output Prediction - Lambda Smaller"
   ]
  },
  {
   "cell_type": "code",
   "execution_count": 46,
   "metadata": {
    "collapsed": true
   },
   "outputs": [],
   "source": [
    "covnet_lambda = load_model(\"./Models/covnet_lambda.h5\", custom_objects={\"r2\":r2})"
   ]
  },
  {
   "cell_type": "code",
   "execution_count": 47,
   "metadata": {},
   "outputs": [
    {
     "name": "stdout",
     "output_type": "stream",
     "text": [
      "_________________________________________________________________\n",
      "Layer (type)                 Output Shape              Param #   \n",
      "=================================================================\n",
      "conv2d_21 (Conv2D)           (None, 40, 50, 32)        4640      \n",
      "_________________________________________________________________\n",
      "conv2d_22 (Conv2D)           (None, 40, 50, 32)        147488    \n",
      "_________________________________________________________________\n",
      "max_pooling2d_11 (MaxPooling (None, 20, 25, 32)        0         \n",
      "_________________________________________________________________\n",
      "conv2d_23 (Conv2D)           (None, 20, 25, 64)        73792     \n",
      "_________________________________________________________________\n",
      "conv2d_24 (Conv2D)           (None, 20, 25, 64)        147520    \n",
      "_________________________________________________________________\n",
      "max_pooling2d_12 (MaxPooling (None, 10, 12, 64)        0         \n",
      "_________________________________________________________________\n",
      "flatten_6 (Flatten)          (None, 7680)              0         \n",
      "_________________________________________________________________\n",
      "dense_11 (Dense)             (None, 512)               3932672   \n",
      "_________________________________________________________________\n",
      "dense_12 (Dense)             (None, 1)                 513       \n",
      "=================================================================\n",
      "Total params: 4,306,625\n",
      "Trainable params: 4,306,625\n",
      "Non-trainable params: 0\n",
      "_________________________________________________________________\n"
     ]
    }
   ],
   "source": [
    "covnet_lambda.summary()"
   ]
  },
  {
   "cell_type": "code",
   "execution_count": 23,
   "metadata": {
    "collapsed": true
   },
   "outputs": [],
   "source": [
    "def lambda_batch_generator(all_time = 2000, paramset_size = 32, paths_p_paramset = 5):\n",
    "    while True:\n",
    "        RETURNS_ = []\n",
    "        PARAMS_ = []\n",
    "        \n",
    "        for i in range(paramset_size):\n",
    "            mp = random_model_params()\n",
    "            mp.all_time = all_time\n",
    "            \n",
    "            for j in range(paths_p_paramset):\n",
    "                PARAMS_.append(mp)\n",
    "                RETURNS_.append(geometric_brownian_motion_jump_diffusion_log_returns(mp))\n",
    "        \n",
    "        train_data = np.reshape(np.array(RETURNS_), (paramset_size*paths_p_paramset, 40, 50, 1))\n",
    "        \n",
    "        lambdas = np.array([[mp.lamda] for mp in PARAMS_])\n",
    "        \n",
    "        yield train_data, lambdas\n",
    "\n",
    "lambda_train_gen = lambda_batch_generator(paramset_size=1750, paths_p_paramset=1)"
   ]
  },
  {
   "cell_type": "code",
   "execution_count": null,
   "metadata": {
    "collapsed": true
   },
   "outputs": [],
   "source": [
    "test_set_pred = standard_convolutional_test_set()"
   ]
  },
  {
   "cell_type": "code",
   "execution_count": null,
   "metadata": {
    "collapsed": true
   },
   "outputs": [],
   "source": [
    "covnet_lambda.load_weights(H5_DIR_COVNET_LAMBDA)"
   ]
  },
  {
   "cell_type": "code",
   "execution_count": 48,
   "metadata": {
    "collapsed": true
   },
   "outputs": [],
   "source": [
    "histories_lambda = np.load(\"Lambda_histories.npy\").tolist()\n",
    "preds_lambda = np.load(\"preds_lambda.npy\").tolist()"
   ]
  },
  {
   "cell_type": "code",
   "execution_count": 49,
   "metadata": {},
   "outputs": [
    {
     "name": "stdout",
     "output_type": "stream",
     "text": [
      "Epoch 1/3\n",
      "3/3 [==============================] - 52s - loss: 7.4174e-06 - mean_absolute_percentage_error: 32.1472 - r2: 0.8554     \n",
      "Epoch 2/3\n",
      "3/3 [==============================] - 51s - loss: 7.4208e-06 - mean_absolute_percentage_error: 32.2215 - r2: 0.8567     \n",
      "Epoch 3/3\n",
      "3/3 [==============================] - 51s - loss: 7.4522e-06 - mean_absolute_percentage_error: 32.1867 - r2: 0.8556     \n",
      "[master 2126606] Model trained\n",
      " 4 files changed, 38 insertions(+), 143 deletions(-)\n",
      "warning: push.default is unset; its implicit value has changed in\n",
      "Git 2.0 from 'matching' to 'simple'. To squelch this message\n",
      "and maintain the traditional behavior, use:\n",
      "\n",
      "  git config --global push.default matching\n",
      "\n",
      "To squelch this message and adopt the new behavior now, use:\n",
      "\n",
      "  git config --global push.default simple\n",
      "\n",
      "When push.default is set to 'matching', git will push local branches\n",
      "to the remote branches that already exist with the same name.\n",
      "\n",
      "Since Git 2.0, Git defaults to the more conservative 'simple'\n",
      "behavior, which only pushes the current branch to the corresponding\n",
      "remote branch that 'git pull' uses to update the current branch.\n",
      "\n",
      "See 'git help config' and search for 'push.default' for further information.\n",
      "(the 'simple' mode was introduced in Git 1.7.11. Use the similar mode\n",
      "'current' instead of 'simple' if you sometimes use older versions of Git)\n",
      "\n",
      "Epoch 1/3\n",
      "3/3 [==============================] - 52s - loss: 7.5332e-06 - mean_absolute_percentage_error: 33.7208 - r2: 0.8527     \n",
      "Epoch 2/3\n",
      "3/3 [==============================] - 51s - loss: 7.9208e-06 - mean_absolute_percentage_error: 39.2620 - r2: 0.8494     \n",
      "Epoch 3/3\n",
      "3/3 [==============================] - 50s - loss: 7.6471e-06 - mean_absolute_percentage_error: 33.0316 - r2: 0.8543     \n",
      "Epoch 1/3\n",
      "3/3 [==============================] - 51s - loss: 7.4909e-06 - mean_absolute_percentage_error: 30.3747 - r2: 0.8545     \n",
      "Epoch 2/3\n",
      "1/3 [=========>....................] - ETA: 33s - loss: 7.0161e-06 - mean_absolute_percentage_error: 34.1442 - r2: 0.8542"
     ]
    },
    {
     "ename": "KeyboardInterrupt",
     "evalue": "",
     "output_type": "error",
     "traceback": [
      "\u001b[0;31m---------------------------------------------------------------------------\u001b[0m",
      "\u001b[0;31mKeyboardInterrupt\u001b[0m                         Traceback (most recent call last)",
      "\u001b[0;32m<ipython-input-49-fc8b15ed7023>\u001b[0m in \u001b[0;36m<module>\u001b[0;34m()\u001b[0m\n\u001b[1;32m      1\u001b[0m \u001b[0;32mfor\u001b[0m \u001b[0mi\u001b[0m \u001b[0;32min\u001b[0m \u001b[0mrange\u001b[0m\u001b[0;34m(\u001b[0m\u001b[0;36m15000\u001b[0m\u001b[0;34m)\u001b[0m\u001b[0;34m:\u001b[0m\u001b[0;34m\u001b[0m\u001b[0m\n\u001b[0;32m----> 2\u001b[0;31m     \u001b[0mhistory\u001b[0m \u001b[0;34m=\u001b[0m \u001b[0mcovnet_lambda\u001b[0m\u001b[0;34m.\u001b[0m\u001b[0mfit_generator\u001b[0m\u001b[0;34m(\u001b[0m\u001b[0mlambda_train_gen\u001b[0m\u001b[0;34m,\u001b[0m \u001b[0msteps_per_epoch\u001b[0m \u001b[0;34m=\u001b[0m \u001b[0;36m3\u001b[0m\u001b[0;34m,\u001b[0m \u001b[0mepochs\u001b[0m \u001b[0;34m=\u001b[0m \u001b[0;36m3\u001b[0m\u001b[0;34m)\u001b[0m\u001b[0;34m\u001b[0m\u001b[0m\n\u001b[0m\u001b[1;32m      3\u001b[0m \u001b[0;34m\u001b[0m\u001b[0m\n\u001b[1;32m      4\u001b[0m     \u001b[0mhistories_lambda\u001b[0m\u001b[0;34m.\u001b[0m\u001b[0mappend\u001b[0m\u001b[0;34m(\u001b[0m\u001b[0mhistory\u001b[0m\u001b[0;34m.\u001b[0m\u001b[0mhistory\u001b[0m\u001b[0;34m)\u001b[0m\u001b[0;34m\u001b[0m\u001b[0m\n\u001b[1;32m      5\u001b[0m     \u001b[0mpreds_lambda\u001b[0m\u001b[0;34m.\u001b[0m\u001b[0mappend\u001b[0m\u001b[0;34m(\u001b[0m\u001b[0mcovnet_lambda\u001b[0m\u001b[0;34m.\u001b[0m\u001b[0mpredict\u001b[0m\u001b[0;34m(\u001b[0m\u001b[0mtest_set_pred\u001b[0m\u001b[0;34m)\u001b[0m\u001b[0;34m)\u001b[0m\u001b[0;34m\u001b[0m\u001b[0m\n",
      "\u001b[0;32m/home/carnd/anaconda3/envs/carnd-term1/lib/python3.5/site-packages/keras/legacy/interfaces.py\u001b[0m in \u001b[0;36mwrapper\u001b[0;34m(*args, **kwargs)\u001b[0m\n\u001b[1;32m     85\u001b[0m                 warnings.warn('Update your `' + object_name +\n\u001b[1;32m     86\u001b[0m                               '` call to the Keras 2 API: ' + signature, stacklevel=2)\n\u001b[0;32m---> 87\u001b[0;31m             \u001b[0;32mreturn\u001b[0m \u001b[0mfunc\u001b[0m\u001b[0;34m(\u001b[0m\u001b[0;34m*\u001b[0m\u001b[0margs\u001b[0m\u001b[0;34m,\u001b[0m \u001b[0;34m**\u001b[0m\u001b[0mkwargs\u001b[0m\u001b[0;34m)\u001b[0m\u001b[0;34m\u001b[0m\u001b[0m\n\u001b[0m\u001b[1;32m     88\u001b[0m         \u001b[0mwrapper\u001b[0m\u001b[0;34m.\u001b[0m\u001b[0m_original_function\u001b[0m \u001b[0;34m=\u001b[0m \u001b[0mfunc\u001b[0m\u001b[0;34m\u001b[0m\u001b[0m\n\u001b[1;32m     89\u001b[0m         \u001b[0;32mreturn\u001b[0m \u001b[0mwrapper\u001b[0m\u001b[0;34m\u001b[0m\u001b[0m\n",
      "\u001b[0;32m/home/carnd/anaconda3/envs/carnd-term1/lib/python3.5/site-packages/keras/models.py\u001b[0m in \u001b[0;36mfit_generator\u001b[0;34m(self, generator, steps_per_epoch, epochs, verbose, callbacks, validation_data, validation_steps, class_weight, max_queue_size, workers, use_multiprocessing, initial_epoch)\u001b[0m\n\u001b[1;32m   1115\u001b[0m                                         \u001b[0mworkers\u001b[0m\u001b[0;34m=\u001b[0m\u001b[0mworkers\u001b[0m\u001b[0;34m,\u001b[0m\u001b[0;34m\u001b[0m\u001b[0m\n\u001b[1;32m   1116\u001b[0m                                         \u001b[0muse_multiprocessing\u001b[0m\u001b[0;34m=\u001b[0m\u001b[0muse_multiprocessing\u001b[0m\u001b[0;34m,\u001b[0m\u001b[0;34m\u001b[0m\u001b[0m\n\u001b[0;32m-> 1117\u001b[0;31m                                         initial_epoch=initial_epoch)\n\u001b[0m\u001b[1;32m   1118\u001b[0m \u001b[0;34m\u001b[0m\u001b[0m\n\u001b[1;32m   1119\u001b[0m     \u001b[0;34m@\u001b[0m\u001b[0minterfaces\u001b[0m\u001b[0;34m.\u001b[0m\u001b[0mlegacy_generator_methods_support\u001b[0m\u001b[0;34m\u001b[0m\u001b[0m\n",
      "\u001b[0;32m/home/carnd/anaconda3/envs/carnd-term1/lib/python3.5/site-packages/keras/legacy/interfaces.py\u001b[0m in \u001b[0;36mwrapper\u001b[0;34m(*args, **kwargs)\u001b[0m\n\u001b[1;32m     85\u001b[0m                 warnings.warn('Update your `' + object_name +\n\u001b[1;32m     86\u001b[0m                               '` call to the Keras 2 API: ' + signature, stacklevel=2)\n\u001b[0;32m---> 87\u001b[0;31m             \u001b[0;32mreturn\u001b[0m \u001b[0mfunc\u001b[0m\u001b[0;34m(\u001b[0m\u001b[0;34m*\u001b[0m\u001b[0margs\u001b[0m\u001b[0;34m,\u001b[0m \u001b[0;34m**\u001b[0m\u001b[0mkwargs\u001b[0m\u001b[0;34m)\u001b[0m\u001b[0;34m\u001b[0m\u001b[0m\n\u001b[0m\u001b[1;32m     88\u001b[0m         \u001b[0mwrapper\u001b[0m\u001b[0;34m.\u001b[0m\u001b[0m_original_function\u001b[0m \u001b[0;34m=\u001b[0m \u001b[0mfunc\u001b[0m\u001b[0;34m\u001b[0m\u001b[0m\n\u001b[1;32m     89\u001b[0m         \u001b[0;32mreturn\u001b[0m \u001b[0mwrapper\u001b[0m\u001b[0;34m\u001b[0m\u001b[0m\n",
      "\u001b[0;32m/home/carnd/anaconda3/envs/carnd-term1/lib/python3.5/site-packages/keras/engine/training.py\u001b[0m in \u001b[0;36mfit_generator\u001b[0;34m(self, generator, steps_per_epoch, epochs, verbose, callbacks, validation_data, validation_steps, class_weight, max_queue_size, workers, use_multiprocessing, initial_epoch)\u001b[0m\n\u001b[1;32m   1807\u001b[0m                 \u001b[0mbatch_index\u001b[0m \u001b[0;34m=\u001b[0m \u001b[0;36m0\u001b[0m\u001b[0;34m\u001b[0m\u001b[0m\n\u001b[1;32m   1808\u001b[0m                 \u001b[0;32mwhile\u001b[0m \u001b[0msteps_done\u001b[0m \u001b[0;34m<\u001b[0m \u001b[0msteps_per_epoch\u001b[0m\u001b[0;34m:\u001b[0m\u001b[0;34m\u001b[0m\u001b[0m\n\u001b[0;32m-> 1809\u001b[0;31m                     \u001b[0mgenerator_output\u001b[0m \u001b[0;34m=\u001b[0m \u001b[0mnext\u001b[0m\u001b[0;34m(\u001b[0m\u001b[0moutput_generator\u001b[0m\u001b[0;34m)\u001b[0m\u001b[0;34m\u001b[0m\u001b[0m\n\u001b[0m\u001b[1;32m   1810\u001b[0m \u001b[0;34m\u001b[0m\u001b[0m\n\u001b[1;32m   1811\u001b[0m                     \u001b[0;32mif\u001b[0m \u001b[0;32mnot\u001b[0m \u001b[0mhasattr\u001b[0m\u001b[0;34m(\u001b[0m\u001b[0mgenerator_output\u001b[0m\u001b[0;34m,\u001b[0m \u001b[0;34m'__len__'\u001b[0m\u001b[0;34m)\u001b[0m\u001b[0;34m:\u001b[0m\u001b[0;34m\u001b[0m\u001b[0m\n",
      "\u001b[0;32m/home/carnd/anaconda3/envs/carnd-term1/lib/python3.5/site-packages/keras/utils/data_utils.py\u001b[0m in \u001b[0;36mget\u001b[0;34m(self)\u001b[0m\n\u001b[1;32m    634\u001b[0m                     \u001b[0;32myield\u001b[0m \u001b[0minputs\u001b[0m\u001b[0;34m\u001b[0m\u001b[0m\n\u001b[1;32m    635\u001b[0m             \u001b[0;32melse\u001b[0m\u001b[0;34m:\u001b[0m\u001b[0;34m\u001b[0m\u001b[0m\n\u001b[0;32m--> 636\u001b[0;31m                 \u001b[0mtime\u001b[0m\u001b[0;34m.\u001b[0m\u001b[0msleep\u001b[0m\u001b[0;34m(\u001b[0m\u001b[0mself\u001b[0m\u001b[0;34m.\u001b[0m\u001b[0mwait_time\u001b[0m\u001b[0;34m)\u001b[0m\u001b[0;34m\u001b[0m\u001b[0m\n\u001b[0m",
      "\u001b[0;31mKeyboardInterrupt\u001b[0m: "
     ]
    }
   ],
   "source": [
    "for i in range(15000):\n",
    "    history = covnet_lambda.fit_generator(lambda_train_gen, steps_per_epoch = 3, epochs = 3)\n",
    "    \n",
    "    histories_lambda.append(history.history)\n",
    "    preds_lambda.append(covnet_lambda.predict(test_set_pred))\n",
    "    \n",
    "    covnet_lambda.save(\"./Models/covnet_lambda.h5\")\n",
    "    if i%10 == 0:\n",
    "        np.save(\"Lambda_histories.npy\", histories_lambda)\n",
    "        np.save(\"preds_lambda.npy\", preds_lambda)\n",
    "        !git add --all\n",
    "        !git commit -am \"Model trained\"\n",
    "        !git push --quiet"
   ]
  },
  {
   "cell_type": "code",
   "execution_count": null,
   "metadata": {
    "collapsed": true
   },
   "outputs": [],
   "source": []
  },
  {
   "cell_type": "markdown",
   "metadata": {},
   "source": [
    "# Convnet Single Output Prediction - Mu"
   ]
  },
  {
   "cell_type": "code",
   "execution_count": 26,
   "metadata": {
    "collapsed": true
   },
   "outputs": [],
   "source": [
    "covnet_mu = load_model(\"./Models/covnet_mu.h5\", custom_objects={\"r2\":r2})"
   ]
  },
  {
   "cell_type": "code",
   "execution_count": 28,
   "metadata": {
    "collapsed": true
   },
   "outputs": [],
   "source": [
    "def jump_mu_batch_generator(all_time = 2000, paramset_size = 32, paths_p_paramset = 5):\n",
    "    while True:\n",
    "        RETURNS_ = []\n",
    "        PARAMS_ = []\n",
    "        \n",
    "        for i in range(paramset_size):\n",
    "            mp = random_model_params()\n",
    "            mp.all_time = all_time\n",
    "            \n",
    "            for j in range(paths_p_paramset):\n",
    "                PARAMS_.append(mp)\n",
    "                RETURNS_.append(geometric_brownian_motion_jump_diffusion_log_returns(mp))\n",
    "        \n",
    "        train_data = np.reshape(np.array(RETURNS_), (paramset_size*paths_p_paramset, 40, 50, 1))\n",
    "        \n",
    "        mus = np.array([[mp.gbm_mu] for mp in PARAMS_])\n",
    "        \n",
    "        yield train_data, mus\n",
    "\n",
    "mu_train_gen = jump_mu_batch_generator(paramset_size=1750, paths_p_paramset=1)"
   ]
  },
  {
   "cell_type": "code",
   "execution_count": null,
   "metadata": {
    "collapsed": true
   },
   "outputs": [],
   "source": [
    "test_set_pred = standard_convolutional_test_set()"
   ]
  },
  {
   "cell_type": "code",
   "execution_count": 29,
   "metadata": {
    "collapsed": true
   },
   "outputs": [],
   "source": [
    "histories_covnet_mu = np.load(\"histories_covnet_mu.npy\").tolist()\n",
    "predictions_covnet_mu = np.load(\"predictions_covnet_mu.npy\").tolist()"
   ]
  },
  {
   "cell_type": "code",
   "execution_count": null,
   "metadata": {
    "collapsed": true
   },
   "outputs": [],
   "source": [
    "covnet_mu.save(\"./Models/covnet_mu.h5\")"
   ]
  },
  {
   "cell_type": "code",
   "execution_count": 30,
   "metadata": {},
   "outputs": [
    {
     "name": "stdout",
     "output_type": "stream",
     "text": [
      "Epoch 1/1\n",
      "10/10 [==============================] - 171s - loss: 0.0046 - mean_absolute_percentage_error: 52.0238 - r2: 0.9862    \n",
      "[master 725c1fd] Model trained\n",
      " 5 files changed, 69 insertions(+), 24 deletions(-)\n",
      " rewrite Source_Code/histories_covnet_mu.npy (85%)\n",
      " rewrite Source_Code/predictions_covnet_mu.npy (91%)\n",
      "warning: push.default is unset; its implicit value has changed in\n",
      "Git 2.0 from 'matching' to 'simple'. To squelch this message\n",
      "and maintain the traditional behavior, use:\n",
      "\n",
      "  git config --global push.default matching\n",
      "\n",
      "To squelch this message and adopt the new behavior now, use:\n",
      "\n",
      "  git config --global push.default simple\n",
      "\n",
      "When push.default is set to 'matching', git will push local branches\n",
      "to the remote branches that already exist with the same name.\n",
      "\n",
      "Since Git 2.0, Git defaults to the more conservative 'simple'\n",
      "behavior, which only pushes the current branch to the corresponding\n",
      "remote branch that 'git pull' uses to update the current branch.\n",
      "\n",
      "See 'git help config' and search for 'push.default' for further information.\n",
      "(the 'simple' mode was introduced in Git 1.7.11. Use the similar mode\n",
      "'current' instead of 'simple' if you sometimes use older versions of Git)\n",
      "\n",
      "Epoch 1/1\n",
      "10/10 [==============================] - 171s - loss: 0.0045 - mean_absolute_percentage_error: 63.3570 - r2: 0.9866    \n",
      "Epoch 1/1\n",
      "10/10 [==============================] - 172s - loss: 0.0045 - mean_absolute_percentage_error: 53.2375 - r2: 0.9863    \n",
      "Epoch 1/1\n",
      "10/10 [==============================] - 173s - loss: 0.0043 - mean_absolute_percentage_error: 35.5094 - r2: 0.9871    \n",
      "Epoch 1/1\n",
      "10/10 [==============================] - 171s - loss: 0.0045 - mean_absolute_percentage_error: 75.3489 - r2: 0.9867    \n",
      "Epoch 1/1\n",
      "10/10 [==============================] - 171s - loss: 0.0042 - mean_absolute_percentage_error: 45.6431 - r2: 0.9876    \n",
      "Epoch 1/1\n",
      "10/10 [==============================] - 171s - loss: 0.0040 - mean_absolute_percentage_error: 78.8929 - r2: 0.9878    \n",
      "Epoch 1/1\n",
      "10/10 [==============================] - 172s - loss: 0.0044 - mean_absolute_percentage_error: 70.5170 - r2: 0.9869    \n",
      "Epoch 1/1\n",
      "10/10 [==============================] - 172s - loss: 0.0042 - mean_absolute_percentage_error: 39.7731 - r2: 0.9873    \n",
      "Epoch 1/1\n",
      "10/10 [==============================] - 171s - loss: 0.0041 - mean_absolute_percentage_error: 83.1227 - r2: 0.9876    \n",
      "Epoch 1/1\n",
      "10/10 [==============================] - 171s - loss: 0.0042 - mean_absolute_percentage_error: 55.1716 - r2: 0.9874    \n",
      "[master 25cedd7] Model trained\n",
      " 4 files changed, 46 insertions(+), 1 deletion(-)\n",
      "warning: push.default is unset; its implicit value has changed in\n",
      "Git 2.0 from 'matching' to 'simple'. To squelch this message\n",
      "and maintain the traditional behavior, use:\n",
      "\n",
      "  git config --global push.default matching\n",
      "\n",
      "To squelch this message and adopt the new behavior now, use:\n",
      "\n",
      "  git config --global push.default simple\n",
      "\n",
      "When push.default is set to 'matching', git will push local branches\n",
      "to the remote branches that already exist with the same name.\n",
      "\n",
      "Since Git 2.0, Git defaults to the more conservative 'simple'\n",
      "behavior, which only pushes the current branch to the corresponding\n",
      "remote branch that 'git pull' uses to update the current branch.\n",
      "\n",
      "See 'git help config' and search for 'push.default' for further information.\n",
      "(the 'simple' mode was introduced in Git 1.7.11. Use the similar mode\n",
      "'current' instead of 'simple' if you sometimes use older versions of Git)\n",
      "\n",
      "Epoch 1/1\n",
      "10/10 [==============================] - 172s - loss: 0.0044 - mean_absolute_percentage_error: 54.7149 - r2: 0.9865    \n",
      "Epoch 1/1\n",
      "10/10 [==============================] - 171s - loss: 0.0044 - mean_absolute_percentage_error: 95.3935 - r2: 0.9869     \n",
      "Epoch 1/1\n",
      "10/10 [==============================] - 170s - loss: 0.0044 - mean_absolute_percentage_error: 45.6176 - r2: 0.9868    \n",
      "Epoch 1/1\n",
      "10/10 [==============================] - 171s - loss: 0.0043 - mean_absolute_percentage_error: 146.5084 - r2: 0.9871   \n",
      "Epoch 1/1\n",
      "10/10 [==============================] - 172s - loss: 0.0040 - mean_absolute_percentage_error: 409.0020 - r2: 0.9881    \n",
      "Epoch 1/1\n",
      "10/10 [==============================] - 172s - loss: 0.0039 - mean_absolute_percentage_error: 56.1694 - r2: 0.9883    \n",
      "Epoch 1/1\n",
      "10/10 [==============================] - 171s - loss: 0.0039 - mean_absolute_percentage_error: 61.6461 - r2: 0.9885    \n",
      "Epoch 1/1\n",
      "10/10 [==============================] - 173s - loss: 0.0040 - mean_absolute_percentage_error: 47.8394 - r2: 0.9881    \n",
      "Epoch 1/1\n",
      "10/10 [==============================] - 172s - loss: 0.0040 - mean_absolute_percentage_error: 43.5371 - r2: 0.9879    \n",
      "Epoch 1/1\n",
      "10/10 [==============================] - 171s - loss: 0.0039 - mean_absolute_percentage_error: 94.9585 - r2: 0.9882     \n",
      "[master af801be] Model trained\n",
      " 4 files changed, 44 insertions(+), 1 deletion(-)\n",
      "warning: push.default is unset; its implicit value has changed in\n",
      "Git 2.0 from 'matching' to 'simple'. To squelch this message\n",
      "and maintain the traditional behavior, use:\n",
      "\n",
      "  git config --global push.default matching\n",
      "\n",
      "To squelch this message and adopt the new behavior now, use:\n",
      "\n",
      "  git config --global push.default simple\n",
      "\n",
      "When push.default is set to 'matching', git will push local branches\n",
      "to the remote branches that already exist with the same name.\n",
      "\n",
      "Since Git 2.0, Git defaults to the more conservative 'simple'\n",
      "behavior, which only pushes the current branch to the corresponding\n",
      "remote branch that 'git pull' uses to update the current branch.\n",
      "\n",
      "See 'git help config' and search for 'push.default' for further information.\n",
      "(the 'simple' mode was introduced in Git 1.7.11. Use the similar mode\n",
      "'current' instead of 'simple' if you sometimes use older versions of Git)\n",
      "\n",
      "Epoch 1/1\n",
      "10/10 [==============================] - 171s - loss: 0.0038 - mean_absolute_percentage_error: 44.8348 - r2: 0.9885    \n",
      "Epoch 1/1\n",
      "10/10 [==============================] - 171s - loss: 0.0037 - mean_absolute_percentage_error: 54.2280 - r2: 0.9888    \n",
      "Epoch 1/1\n",
      "10/10 [==============================] - 171s - loss: 0.0037 - mean_absolute_percentage_error: 77.9082 - r2: 0.9891    \n",
      "Epoch 1/1\n",
      "10/10 [==============================] - 172s - loss: 0.0037 - mean_absolute_percentage_error: 117.2014 - r2: 0.9890    \n",
      "Epoch 1/1\n",
      "10/10 [==============================] - 171s - loss: 0.0042 - mean_absolute_percentage_error: 110.1120 - r2: 0.9873    \n",
      "Epoch 1/1\n",
      "10/10 [==============================] - 171s - loss: 0.0040 - mean_absolute_percentage_error: 47.3915 - r2: 0.9881    \n",
      "Epoch 1/1\n",
      " 9/10 [==========================>...] - ETA: 17s - loss: 0.0039 - mean_absolute_percentage_error: 50.4894 - r2: 0.9882"
     ]
    },
    {
     "ename": "KeyboardInterrupt",
     "evalue": "",
     "output_type": "error",
     "traceback": [
      "\u001b[0;31m---------------------------------------------------------------------------\u001b[0m",
      "\u001b[0;31mKeyboardInterrupt\u001b[0m                         Traceback (most recent call last)",
      "\u001b[0;32m<ipython-input-30-ab4169fb586e>\u001b[0m in \u001b[0;36m<module>\u001b[0;34m()\u001b[0m\n\u001b[1;32m      1\u001b[0m \u001b[0;32mfor\u001b[0m \u001b[0mi\u001b[0m \u001b[0;32min\u001b[0m \u001b[0mrange\u001b[0m\u001b[0;34m(\u001b[0m\u001b[0;36m150000000\u001b[0m\u001b[0;34m)\u001b[0m\u001b[0;34m:\u001b[0m\u001b[0;34m\u001b[0m\u001b[0m\n\u001b[0;32m----> 2\u001b[0;31m     \u001b[0mhistory\u001b[0m \u001b[0;34m=\u001b[0m \u001b[0mcovnet_mu\u001b[0m\u001b[0;34m.\u001b[0m\u001b[0mfit_generator\u001b[0m\u001b[0;34m(\u001b[0m\u001b[0mmu_train_gen\u001b[0m\u001b[0;34m,\u001b[0m \u001b[0msteps_per_epoch\u001b[0m \u001b[0;34m=\u001b[0m \u001b[0;36m10\u001b[0m\u001b[0;34m,\u001b[0m \u001b[0mepochs\u001b[0m \u001b[0;34m=\u001b[0m \u001b[0;36m1\u001b[0m\u001b[0;34m)\u001b[0m\u001b[0;34m\u001b[0m\u001b[0m\n\u001b[0m\u001b[1;32m      3\u001b[0m     \u001b[0mhistories_covnet_mu\u001b[0m\u001b[0;34m.\u001b[0m\u001b[0mappend\u001b[0m\u001b[0;34m(\u001b[0m\u001b[0mhistory\u001b[0m\u001b[0;34m.\u001b[0m\u001b[0mhistory\u001b[0m\u001b[0;34m)\u001b[0m\u001b[0;34m\u001b[0m\u001b[0m\n\u001b[1;32m      4\u001b[0m     \u001b[0mpredictions_covnet_mu\u001b[0m\u001b[0;34m.\u001b[0m\u001b[0mappend\u001b[0m\u001b[0;34m(\u001b[0m\u001b[0mcovnet_mu\u001b[0m\u001b[0;34m.\u001b[0m\u001b[0mpredict\u001b[0m\u001b[0;34m(\u001b[0m\u001b[0mtest_set_pred\u001b[0m\u001b[0;34m)\u001b[0m\u001b[0;34m)\u001b[0m\u001b[0;34m\u001b[0m\u001b[0m\n\u001b[1;32m      5\u001b[0m     \u001b[0mcovnet_mu\u001b[0m\u001b[0;34m.\u001b[0m\u001b[0msave\u001b[0m\u001b[0;34m(\u001b[0m\u001b[0;34m\"covnet_mu_FULLMODEL.h5\"\u001b[0m\u001b[0;34m)\u001b[0m\u001b[0;34m\u001b[0m\u001b[0m\n",
      "\u001b[0;32m/home/carnd/anaconda3/envs/carnd-term1/lib/python3.5/site-packages/keras/legacy/interfaces.py\u001b[0m in \u001b[0;36mwrapper\u001b[0;34m(*args, **kwargs)\u001b[0m\n\u001b[1;32m     85\u001b[0m                 warnings.warn('Update your `' + object_name +\n\u001b[1;32m     86\u001b[0m                               '` call to the Keras 2 API: ' + signature, stacklevel=2)\n\u001b[0;32m---> 87\u001b[0;31m             \u001b[0;32mreturn\u001b[0m \u001b[0mfunc\u001b[0m\u001b[0;34m(\u001b[0m\u001b[0;34m*\u001b[0m\u001b[0margs\u001b[0m\u001b[0;34m,\u001b[0m \u001b[0;34m**\u001b[0m\u001b[0mkwargs\u001b[0m\u001b[0;34m)\u001b[0m\u001b[0;34m\u001b[0m\u001b[0m\n\u001b[0m\u001b[1;32m     88\u001b[0m         \u001b[0mwrapper\u001b[0m\u001b[0;34m.\u001b[0m\u001b[0m_original_function\u001b[0m \u001b[0;34m=\u001b[0m \u001b[0mfunc\u001b[0m\u001b[0;34m\u001b[0m\u001b[0m\n\u001b[1;32m     89\u001b[0m         \u001b[0;32mreturn\u001b[0m \u001b[0mwrapper\u001b[0m\u001b[0;34m\u001b[0m\u001b[0m\n",
      "\u001b[0;32m/home/carnd/anaconda3/envs/carnd-term1/lib/python3.5/site-packages/keras/models.py\u001b[0m in \u001b[0;36mfit_generator\u001b[0;34m(self, generator, steps_per_epoch, epochs, verbose, callbacks, validation_data, validation_steps, class_weight, max_queue_size, workers, use_multiprocessing, initial_epoch)\u001b[0m\n\u001b[1;32m   1115\u001b[0m                                         \u001b[0mworkers\u001b[0m\u001b[0;34m=\u001b[0m\u001b[0mworkers\u001b[0m\u001b[0;34m,\u001b[0m\u001b[0;34m\u001b[0m\u001b[0m\n\u001b[1;32m   1116\u001b[0m                                         \u001b[0muse_multiprocessing\u001b[0m\u001b[0;34m=\u001b[0m\u001b[0muse_multiprocessing\u001b[0m\u001b[0;34m,\u001b[0m\u001b[0;34m\u001b[0m\u001b[0m\n\u001b[0;32m-> 1117\u001b[0;31m                                         initial_epoch=initial_epoch)\n\u001b[0m\u001b[1;32m   1118\u001b[0m \u001b[0;34m\u001b[0m\u001b[0m\n\u001b[1;32m   1119\u001b[0m     \u001b[0;34m@\u001b[0m\u001b[0minterfaces\u001b[0m\u001b[0;34m.\u001b[0m\u001b[0mlegacy_generator_methods_support\u001b[0m\u001b[0;34m\u001b[0m\u001b[0m\n",
      "\u001b[0;32m/home/carnd/anaconda3/envs/carnd-term1/lib/python3.5/site-packages/keras/legacy/interfaces.py\u001b[0m in \u001b[0;36mwrapper\u001b[0;34m(*args, **kwargs)\u001b[0m\n\u001b[1;32m     85\u001b[0m                 warnings.warn('Update your `' + object_name +\n\u001b[1;32m     86\u001b[0m                               '` call to the Keras 2 API: ' + signature, stacklevel=2)\n\u001b[0;32m---> 87\u001b[0;31m             \u001b[0;32mreturn\u001b[0m \u001b[0mfunc\u001b[0m\u001b[0;34m(\u001b[0m\u001b[0;34m*\u001b[0m\u001b[0margs\u001b[0m\u001b[0;34m,\u001b[0m \u001b[0;34m**\u001b[0m\u001b[0mkwargs\u001b[0m\u001b[0;34m)\u001b[0m\u001b[0;34m\u001b[0m\u001b[0m\n\u001b[0m\u001b[1;32m     88\u001b[0m         \u001b[0mwrapper\u001b[0m\u001b[0;34m.\u001b[0m\u001b[0m_original_function\u001b[0m \u001b[0;34m=\u001b[0m \u001b[0mfunc\u001b[0m\u001b[0;34m\u001b[0m\u001b[0m\n\u001b[1;32m     89\u001b[0m         \u001b[0;32mreturn\u001b[0m \u001b[0mwrapper\u001b[0m\u001b[0;34m\u001b[0m\u001b[0m\n",
      "\u001b[0;32m/home/carnd/anaconda3/envs/carnd-term1/lib/python3.5/site-packages/keras/engine/training.py\u001b[0m in \u001b[0;36mfit_generator\u001b[0;34m(self, generator, steps_per_epoch, epochs, verbose, callbacks, validation_data, validation_steps, class_weight, max_queue_size, workers, use_multiprocessing, initial_epoch)\u001b[0m\n\u001b[1;32m   1807\u001b[0m                 \u001b[0mbatch_index\u001b[0m \u001b[0;34m=\u001b[0m \u001b[0;36m0\u001b[0m\u001b[0;34m\u001b[0m\u001b[0m\n\u001b[1;32m   1808\u001b[0m                 \u001b[0;32mwhile\u001b[0m \u001b[0msteps_done\u001b[0m \u001b[0;34m<\u001b[0m \u001b[0msteps_per_epoch\u001b[0m\u001b[0;34m:\u001b[0m\u001b[0;34m\u001b[0m\u001b[0m\n\u001b[0;32m-> 1809\u001b[0;31m                     \u001b[0mgenerator_output\u001b[0m \u001b[0;34m=\u001b[0m \u001b[0mnext\u001b[0m\u001b[0;34m(\u001b[0m\u001b[0moutput_generator\u001b[0m\u001b[0;34m)\u001b[0m\u001b[0;34m\u001b[0m\u001b[0m\n\u001b[0m\u001b[1;32m   1810\u001b[0m \u001b[0;34m\u001b[0m\u001b[0m\n\u001b[1;32m   1811\u001b[0m                     \u001b[0;32mif\u001b[0m \u001b[0;32mnot\u001b[0m \u001b[0mhasattr\u001b[0m\u001b[0;34m(\u001b[0m\u001b[0mgenerator_output\u001b[0m\u001b[0;34m,\u001b[0m \u001b[0;34m'__len__'\u001b[0m\u001b[0;34m)\u001b[0m\u001b[0;34m:\u001b[0m\u001b[0;34m\u001b[0m\u001b[0m\n",
      "\u001b[0;32m/home/carnd/anaconda3/envs/carnd-term1/lib/python3.5/site-packages/keras/utils/data_utils.py\u001b[0m in \u001b[0;36mget\u001b[0;34m(self)\u001b[0m\n\u001b[1;32m    634\u001b[0m                     \u001b[0;32myield\u001b[0m \u001b[0minputs\u001b[0m\u001b[0;34m\u001b[0m\u001b[0m\n\u001b[1;32m    635\u001b[0m             \u001b[0;32melse\u001b[0m\u001b[0;34m:\u001b[0m\u001b[0;34m\u001b[0m\u001b[0m\n\u001b[0;32m--> 636\u001b[0;31m                 \u001b[0mtime\u001b[0m\u001b[0;34m.\u001b[0m\u001b[0msleep\u001b[0m\u001b[0;34m(\u001b[0m\u001b[0mself\u001b[0m\u001b[0;34m.\u001b[0m\u001b[0mwait_time\u001b[0m\u001b[0;34m)\u001b[0m\u001b[0;34m\u001b[0m\u001b[0m\n\u001b[0m",
      "\u001b[0;31mKeyboardInterrupt\u001b[0m: "
     ]
    }
   ],
   "source": [
    "for i in range(150000000):\n",
    "    history = covnet_mu.fit_generator(mu_train_gen, steps_per_epoch = 10, epochs = 1)\n",
    "    histories_covnet_mu.append(history.history)\n",
    "    predictions_covnet_mu.append(covnet_mu.predict(test_set_pred))\n",
    "    covnet_mu.save(\"covnet_mu_FULLMODEL.h5\")\n",
    "    \n",
    "    if (i%10 == 0):\n",
    "        np.save(\"histories_covnet_mu.npy\", histories_covnet_mu)\n",
    "        np.save(\"predictions_covnet_mu.npy\", predictions_covnet_mu)\n",
    "\n",
    "        !git add --all\n",
    "        !git commit -am \"Model trained\"\n",
    "        !git push --quiet"
   ]
  },
  {
   "cell_type": "markdown",
   "metadata": {},
   "source": [
    "# Convnet Single Output Prediction - Sigma"
   ]
  },
  {
   "cell_type": "code",
   "execution_count": 31,
   "metadata": {
    "collapsed": true
   },
   "outputs": [],
   "source": [
    "covnet_sigma = load_model(\"./Models/covnet_sigma.h5\", custom_objects={\"r2\":r2})#covnet_single_ReLUs_6_layers()"
   ]
  },
  {
   "cell_type": "code",
   "execution_count": 32,
   "metadata": {
    "collapsed": true
   },
   "outputs": [],
   "source": [
    "def sigma_batch_generator(all_time = 2000, paramset_size = 32, paths_p_paramset = 5):\n",
    "    while True:\n",
    "        RETURNS_ = []\n",
    "        PARAMS_ = []\n",
    "        \n",
    "        for i in range(paramset_size):\n",
    "            mp = random_model_params()\n",
    "            mp.all_time = all_time\n",
    "            \n",
    "            for j in range(paths_p_paramset):\n",
    "                PARAMS_.append(mp)\n",
    "                RETURNS_.append(geometric_brownian_motion_jump_diffusion_log_returns(mp))\n",
    "        \n",
    "        train_data = np.reshape(np.array(RETURNS_), (paramset_size*paths_p_paramset, 40, 50, 1))\n",
    "        \n",
    "        sigmas = np.array([[mp.all_sigma] for mp in PARAMS_])\n",
    "        \n",
    "        yield train_data, sigmas\n",
    "\n",
    "sigma_train_gen = sigma_batch_generator(paramset_size=1500, paths_p_paramset=1)"
   ]
  },
  {
   "cell_type": "code",
   "execution_count": null,
   "metadata": {
    "collapsed": true
   },
   "outputs": [],
   "source": [
    "test_set_pred = standard_convolutional_test_set()"
   ]
  },
  {
   "cell_type": "code",
   "execution_count": null,
   "metadata": {
    "collapsed": true
   },
   "outputs": [],
   "source": [
    "covnet_jump_mu.load_weights(H5_DIR_COVNET_JUMP_MU)"
   ]
  },
  {
   "cell_type": "code",
   "execution_count": 33,
   "metadata": {
    "collapsed": true
   },
   "outputs": [],
   "source": [
    "histories_covnet_sigma = np.load(\"histories_covnet_sigma.npy\").tolist()\n",
    "predictions_covnet_sigma = np.load(\"predictions_covnet_sigma.npy\").tolist()"
   ]
  },
  {
   "cell_type": "code",
   "execution_count": null,
   "metadata": {
    "collapsed": true
   },
   "outputs": [],
   "source": [
    "#covnet_sigma.save(\"./Models/covnet_sigma.h5\")"
   ]
  },
  {
   "cell_type": "code",
   "execution_count": 34,
   "metadata": {},
   "outputs": [
    {
     "name": "stdout",
     "output_type": "stream",
     "text": [
      "Epoch 1/1\n",
      "10/10 [==============================] - 146s - loss: 6.2224e-05 - mean_absolute_percentage_error: 16.7434 - r2: 0.9810    \n",
      "[master 487b5f3] Model trained\n",
      " 5 files changed, 74 insertions(+), 14 deletions(-)\n",
      " rewrite Source_Code/histories_covnet_sigma.npy (88%)\n",
      " rewrite Source_Code/predictions_covnet_sigma.npy (92%)\n",
      "warning: push.default is unset; its implicit value has changed in\n",
      "Git 2.0 from 'matching' to 'simple'. To squelch this message\n",
      "and maintain the traditional behavior, use:\n",
      "\n",
      "  git config --global push.default matching\n",
      "\n",
      "To squelch this message and adopt the new behavior now, use:\n",
      "\n",
      "  git config --global push.default simple\n",
      "\n",
      "When push.default is set to 'matching', git will push local branches\n",
      "to the remote branches that already exist with the same name.\n",
      "\n",
      "Since Git 2.0, Git defaults to the more conservative 'simple'\n",
      "behavior, which only pushes the current branch to the corresponding\n",
      "remote branch that 'git pull' uses to update the current branch.\n",
      "\n",
      "See 'git help config' and search for 'push.default' for further information.\n",
      "(the 'simple' mode was introduced in Git 1.7.11. Use the similar mode\n",
      "'current' instead of 'simple' if you sometimes use older versions of Git)\n",
      "\n",
      "Epoch 1/1\n",
      "10/10 [==============================] - 147s - loss: 5.5155e-05 - mean_absolute_percentage_error: 14.3079 - r2: 0.9831    \n",
      "Epoch 1/1\n",
      "10/10 [==============================] - 146s - loss: 6.0429e-05 - mean_absolute_percentage_error: 15.5408 - r2: 0.9818    \n",
      "Epoch 1/1\n",
      " 1/10 [==>...........................] - ETA: 140s - loss: 7.0915e-05 - mean_absolute_percentage_error: 21.1011 - r2: 0.9784"
     ]
    },
    {
     "ename": "KeyboardInterrupt",
     "evalue": "",
     "output_type": "error",
     "traceback": [
      "\u001b[0;31m---------------------------------------------------------------------------\u001b[0m",
      "\u001b[0;31mKeyboardInterrupt\u001b[0m                         Traceback (most recent call last)",
      "\u001b[0;32m/home/carnd/anaconda3/envs/carnd-term1/lib/python3.5/site-packages/keras/engine/training.py\u001b[0m in \u001b[0;36mfit_generator\u001b[0;34m(self, generator, steps_per_epoch, epochs, verbose, callbacks, validation_data, validation_steps, class_weight, max_queue_size, workers, use_multiprocessing, initial_epoch)\u001b[0m\n\u001b[1;32m   1835\u001b[0m                     \u001b[0mbatch_logs\u001b[0m\u001b[0;34m[\u001b[0m\u001b[0;34m'size'\u001b[0m\u001b[0;34m]\u001b[0m \u001b[0;34m=\u001b[0m \u001b[0mbatch_size\u001b[0m\u001b[0;34m\u001b[0m\u001b[0m\n\u001b[0;32m-> 1836\u001b[0;31m                     \u001b[0mcallbacks\u001b[0m\u001b[0;34m.\u001b[0m\u001b[0mon_batch_begin\u001b[0m\u001b[0;34m(\u001b[0m\u001b[0mbatch_index\u001b[0m\u001b[0;34m,\u001b[0m \u001b[0mbatch_logs\u001b[0m\u001b[0;34m)\u001b[0m\u001b[0;34m\u001b[0m\u001b[0m\n\u001b[0m\u001b[1;32m   1837\u001b[0m \u001b[0;34m\u001b[0m\u001b[0m\n",
      "\u001b[0;32m/home/carnd/anaconda3/envs/carnd-term1/lib/python3.5/site-packages/keras/callbacks.py\u001b[0m in \u001b[0;36mon_batch_begin\u001b[0;34m(self, batch, logs)\u001b[0m\n\u001b[1;32m     90\u001b[0m         \u001b[0mself\u001b[0m\u001b[0;34m.\u001b[0m\u001b[0m_delta_ts_batch_begin\u001b[0m\u001b[0;34m.\u001b[0m\u001b[0mappend\u001b[0m\u001b[0;34m(\u001b[0m\u001b[0mtime\u001b[0m\u001b[0;34m.\u001b[0m\u001b[0mtime\u001b[0m\u001b[0;34m(\u001b[0m\u001b[0;34m)\u001b[0m \u001b[0;34m-\u001b[0m \u001b[0mt_before_callbacks\u001b[0m\u001b[0;34m)\u001b[0m\u001b[0;34m\u001b[0m\u001b[0m\n\u001b[0;32m---> 91\u001b[0;31m         \u001b[0mdelta_t_median\u001b[0m \u001b[0;34m=\u001b[0m \u001b[0mnp\u001b[0m\u001b[0;34m.\u001b[0m\u001b[0mmedian\u001b[0m\u001b[0;34m(\u001b[0m\u001b[0mself\u001b[0m\u001b[0;34m.\u001b[0m\u001b[0m_delta_ts_batch_begin\u001b[0m\u001b[0;34m)\u001b[0m\u001b[0;34m\u001b[0m\u001b[0m\n\u001b[0m\u001b[1;32m     92\u001b[0m         if (self._delta_t_batch > 0. and\n",
      "\u001b[0;32m/home/carnd/anaconda3/envs/carnd-term1/lib/python3.5/site-packages/numpy/lib/function_base.py\u001b[0m in \u001b[0;36mmedian\u001b[0;34m(a, axis, out, overwrite_input, keepdims)\u001b[0m\n\u001b[1;32m   3943\u001b[0m     r, k = _ureduce(a, func=_median, axis=axis, out=out,\n\u001b[0;32m-> 3944\u001b[0;31m                     overwrite_input=overwrite_input)\n\u001b[0m\u001b[1;32m   3945\u001b[0m     \u001b[0;32mif\u001b[0m \u001b[0mkeepdims\u001b[0m\u001b[0;34m:\u001b[0m\u001b[0;34m\u001b[0m\u001b[0m\n",
      "\u001b[0;32m/home/carnd/anaconda3/envs/carnd-term1/lib/python3.5/site-packages/numpy/lib/function_base.py\u001b[0m in \u001b[0;36m_ureduce\u001b[0;34m(a, func, **kwargs)\u001b[0m\n\u001b[1;32m   3857\u001b[0m \u001b[0;34m\u001b[0m\u001b[0m\n\u001b[0;32m-> 3858\u001b[0;31m     \u001b[0mr\u001b[0m \u001b[0;34m=\u001b[0m \u001b[0mfunc\u001b[0m\u001b[0;34m(\u001b[0m\u001b[0ma\u001b[0m\u001b[0;34m,\u001b[0m \u001b[0;34m**\u001b[0m\u001b[0mkwargs\u001b[0m\u001b[0;34m)\u001b[0m\u001b[0;34m\u001b[0m\u001b[0m\n\u001b[0m\u001b[1;32m   3859\u001b[0m     \u001b[0;32mreturn\u001b[0m \u001b[0mr\u001b[0m\u001b[0;34m,\u001b[0m \u001b[0mkeepdim\u001b[0m\u001b[0;34m\u001b[0m\u001b[0m\n",
      "\u001b[0;32m/home/carnd/anaconda3/envs/carnd-term1/lib/python3.5/site-packages/numpy/lib/function_base.py\u001b[0m in \u001b[0;36m_median\u001b[0;34m(a, axis, out, overwrite_input)\u001b[0m\n\u001b[1;32m   3976\u001b[0m     \u001b[0;32melse\u001b[0m\u001b[0;34m:\u001b[0m\u001b[0;34m\u001b[0m\u001b[0m\n\u001b[0;32m-> 3977\u001b[0;31m         \u001b[0mpart\u001b[0m \u001b[0;34m=\u001b[0m \u001b[0mpartition\u001b[0m\u001b[0;34m(\u001b[0m\u001b[0ma\u001b[0m\u001b[0;34m,\u001b[0m \u001b[0mkth\u001b[0m\u001b[0;34m,\u001b[0m \u001b[0maxis\u001b[0m\u001b[0;34m=\u001b[0m\u001b[0maxis\u001b[0m\u001b[0;34m)\u001b[0m\u001b[0;34m\u001b[0m\u001b[0m\n\u001b[0m\u001b[1;32m   3978\u001b[0m \u001b[0;34m\u001b[0m\u001b[0m\n",
      "\u001b[0;32m/home/carnd/anaconda3/envs/carnd-term1/lib/python3.5/site-packages/numpy/core/fromnumeric.py\u001b[0m in \u001b[0;36mpartition\u001b[0;34m(a, kth, axis, kind, order)\u001b[0m\n\u001b[1;32m    638\u001b[0m         \u001b[0ma\u001b[0m \u001b[0;34m=\u001b[0m \u001b[0masanyarray\u001b[0m\u001b[0;34m(\u001b[0m\u001b[0ma\u001b[0m\u001b[0;34m)\u001b[0m\u001b[0;34m.\u001b[0m\u001b[0mcopy\u001b[0m\u001b[0;34m(\u001b[0m\u001b[0morder\u001b[0m\u001b[0;34m=\u001b[0m\u001b[0;34m\"K\"\u001b[0m\u001b[0;34m)\u001b[0m\u001b[0;34m\u001b[0m\u001b[0m\n\u001b[0;32m--> 639\u001b[0;31m     \u001b[0ma\u001b[0m\u001b[0;34m.\u001b[0m\u001b[0mpartition\u001b[0m\u001b[0;34m(\u001b[0m\u001b[0mkth\u001b[0m\u001b[0;34m,\u001b[0m \u001b[0maxis\u001b[0m\u001b[0;34m=\u001b[0m\u001b[0maxis\u001b[0m\u001b[0;34m,\u001b[0m \u001b[0mkind\u001b[0m\u001b[0;34m=\u001b[0m\u001b[0mkind\u001b[0m\u001b[0;34m,\u001b[0m \u001b[0morder\u001b[0m\u001b[0;34m=\u001b[0m\u001b[0morder\u001b[0m\u001b[0;34m)\u001b[0m\u001b[0;34m\u001b[0m\u001b[0m\n\u001b[0m\u001b[1;32m    640\u001b[0m     \u001b[0;32mreturn\u001b[0m \u001b[0ma\u001b[0m\u001b[0;34m\u001b[0m\u001b[0m\n",
      "\u001b[0;31mKeyboardInterrupt\u001b[0m: ",
      "\nDuring handling of the above exception, another exception occurred:\n",
      "\u001b[0;31mKeyboardInterrupt\u001b[0m                         Traceback (most recent call last)",
      "\u001b[0;32m<ipython-input-34-d0a6104f6a08>\u001b[0m in \u001b[0;36m<module>\u001b[0;34m()\u001b[0m\n\u001b[1;32m      1\u001b[0m \u001b[0;32mfor\u001b[0m \u001b[0mi\u001b[0m \u001b[0;32min\u001b[0m \u001b[0mrange\u001b[0m\u001b[0;34m(\u001b[0m\u001b[0;36m150000000\u001b[0m\u001b[0;34m)\u001b[0m\u001b[0;34m:\u001b[0m\u001b[0;34m\u001b[0m\u001b[0m\n\u001b[0;32m----> 2\u001b[0;31m     \u001b[0mhistory\u001b[0m \u001b[0;34m=\u001b[0m \u001b[0mcovnet_sigma\u001b[0m\u001b[0;34m.\u001b[0m\u001b[0mfit_generator\u001b[0m\u001b[0;34m(\u001b[0m\u001b[0msigma_train_gen\u001b[0m\u001b[0;34m,\u001b[0m \u001b[0msteps_per_epoch\u001b[0m \u001b[0;34m=\u001b[0m \u001b[0;36m10\u001b[0m\u001b[0;34m,\u001b[0m \u001b[0mepochs\u001b[0m \u001b[0;34m=\u001b[0m \u001b[0;36m1\u001b[0m\u001b[0;34m)\u001b[0m\u001b[0;34m\u001b[0m\u001b[0m\n\u001b[0m\u001b[1;32m      3\u001b[0m     \u001b[0mhistories_covnet_sigma\u001b[0m\u001b[0;34m.\u001b[0m\u001b[0mappend\u001b[0m\u001b[0;34m(\u001b[0m\u001b[0mhistory\u001b[0m\u001b[0;34m.\u001b[0m\u001b[0mhistory\u001b[0m\u001b[0;34m)\u001b[0m\u001b[0;34m\u001b[0m\u001b[0m\n\u001b[1;32m      4\u001b[0m     \u001b[0mpredictions_covnet_sigma\u001b[0m\u001b[0;34m.\u001b[0m\u001b[0mappend\u001b[0m\u001b[0;34m(\u001b[0m\u001b[0mcovnet_sigma\u001b[0m\u001b[0;34m.\u001b[0m\u001b[0mpredict\u001b[0m\u001b[0;34m(\u001b[0m\u001b[0mtest_set_pred\u001b[0m\u001b[0;34m)\u001b[0m\u001b[0;34m)\u001b[0m\u001b[0;34m\u001b[0m\u001b[0m\n\u001b[1;32m      5\u001b[0m     \u001b[0mcovnet_sigma\u001b[0m\u001b[0;34m.\u001b[0m\u001b[0msave\u001b[0m\u001b[0;34m(\u001b[0m\u001b[0;34m\"covnet_sigma_FULLMODEL.h5\"\u001b[0m\u001b[0;34m)\u001b[0m\u001b[0;34m\u001b[0m\u001b[0m\n",
      "\u001b[0;32m/home/carnd/anaconda3/envs/carnd-term1/lib/python3.5/site-packages/keras/legacy/interfaces.py\u001b[0m in \u001b[0;36mwrapper\u001b[0;34m(*args, **kwargs)\u001b[0m\n\u001b[1;32m     85\u001b[0m                 warnings.warn('Update your `' + object_name +\n\u001b[1;32m     86\u001b[0m                               '` call to the Keras 2 API: ' + signature, stacklevel=2)\n\u001b[0;32m---> 87\u001b[0;31m             \u001b[0;32mreturn\u001b[0m \u001b[0mfunc\u001b[0m\u001b[0;34m(\u001b[0m\u001b[0;34m*\u001b[0m\u001b[0margs\u001b[0m\u001b[0;34m,\u001b[0m \u001b[0;34m**\u001b[0m\u001b[0mkwargs\u001b[0m\u001b[0;34m)\u001b[0m\u001b[0;34m\u001b[0m\u001b[0m\n\u001b[0m\u001b[1;32m     88\u001b[0m         \u001b[0mwrapper\u001b[0m\u001b[0;34m.\u001b[0m\u001b[0m_original_function\u001b[0m \u001b[0;34m=\u001b[0m \u001b[0mfunc\u001b[0m\u001b[0;34m\u001b[0m\u001b[0m\n\u001b[1;32m     89\u001b[0m         \u001b[0;32mreturn\u001b[0m \u001b[0mwrapper\u001b[0m\u001b[0;34m\u001b[0m\u001b[0m\n",
      "\u001b[0;32m/home/carnd/anaconda3/envs/carnd-term1/lib/python3.5/site-packages/keras/models.py\u001b[0m in \u001b[0;36mfit_generator\u001b[0;34m(self, generator, steps_per_epoch, epochs, verbose, callbacks, validation_data, validation_steps, class_weight, max_queue_size, workers, use_multiprocessing, initial_epoch)\u001b[0m\n\u001b[1;32m   1115\u001b[0m                                         \u001b[0mworkers\u001b[0m\u001b[0;34m=\u001b[0m\u001b[0mworkers\u001b[0m\u001b[0;34m,\u001b[0m\u001b[0;34m\u001b[0m\u001b[0m\n\u001b[1;32m   1116\u001b[0m                                         \u001b[0muse_multiprocessing\u001b[0m\u001b[0;34m=\u001b[0m\u001b[0muse_multiprocessing\u001b[0m\u001b[0;34m,\u001b[0m\u001b[0;34m\u001b[0m\u001b[0m\n\u001b[0;32m-> 1117\u001b[0;31m                                         initial_epoch=initial_epoch)\n\u001b[0m\u001b[1;32m   1118\u001b[0m \u001b[0;34m\u001b[0m\u001b[0m\n\u001b[1;32m   1119\u001b[0m     \u001b[0;34m@\u001b[0m\u001b[0minterfaces\u001b[0m\u001b[0;34m.\u001b[0m\u001b[0mlegacy_generator_methods_support\u001b[0m\u001b[0;34m\u001b[0m\u001b[0m\n",
      "\u001b[0;32m/home/carnd/anaconda3/envs/carnd-term1/lib/python3.5/site-packages/keras/legacy/interfaces.py\u001b[0m in \u001b[0;36mwrapper\u001b[0;34m(*args, **kwargs)\u001b[0m\n\u001b[1;32m     85\u001b[0m                 warnings.warn('Update your `' + object_name +\n\u001b[1;32m     86\u001b[0m                               '` call to the Keras 2 API: ' + signature, stacklevel=2)\n\u001b[0;32m---> 87\u001b[0;31m             \u001b[0;32mreturn\u001b[0m \u001b[0mfunc\u001b[0m\u001b[0;34m(\u001b[0m\u001b[0;34m*\u001b[0m\u001b[0margs\u001b[0m\u001b[0;34m,\u001b[0m \u001b[0;34m**\u001b[0m\u001b[0mkwargs\u001b[0m\u001b[0;34m)\u001b[0m\u001b[0;34m\u001b[0m\u001b[0m\n\u001b[0m\u001b[1;32m     88\u001b[0m         \u001b[0mwrapper\u001b[0m\u001b[0;34m.\u001b[0m\u001b[0m_original_function\u001b[0m \u001b[0;34m=\u001b[0m \u001b[0mfunc\u001b[0m\u001b[0;34m\u001b[0m\u001b[0m\n\u001b[1;32m     89\u001b[0m         \u001b[0;32mreturn\u001b[0m \u001b[0mwrapper\u001b[0m\u001b[0;34m\u001b[0m\u001b[0m\n",
      "\u001b[0;32m/home/carnd/anaconda3/envs/carnd-term1/lib/python3.5/site-packages/keras/engine/training.py\u001b[0m in \u001b[0;36mfit_generator\u001b[0;34m(self, generator, steps_per_epoch, epochs, verbose, callbacks, validation_data, validation_steps, class_weight, max_queue_size, workers, use_multiprocessing, initial_epoch)\u001b[0m\n\u001b[1;32m   1882\u001b[0m         \u001b[0;32mfinally\u001b[0m\u001b[0;34m:\u001b[0m\u001b[0;34m\u001b[0m\u001b[0m\n\u001b[1;32m   1883\u001b[0m             \u001b[0;32mif\u001b[0m \u001b[0menqueuer\u001b[0m \u001b[0;32mis\u001b[0m \u001b[0;32mnot\u001b[0m \u001b[0;32mNone\u001b[0m\u001b[0;34m:\u001b[0m\u001b[0;34m\u001b[0m\u001b[0m\n\u001b[0;32m-> 1884\u001b[0;31m                 \u001b[0menqueuer\u001b[0m\u001b[0;34m.\u001b[0m\u001b[0mstop\u001b[0m\u001b[0;34m(\u001b[0m\u001b[0;34m)\u001b[0m\u001b[0;34m\u001b[0m\u001b[0m\n\u001b[0m\u001b[1;32m   1885\u001b[0m \u001b[0;34m\u001b[0m\u001b[0m\n\u001b[1;32m   1886\u001b[0m         \u001b[0mcallbacks\u001b[0m\u001b[0;34m.\u001b[0m\u001b[0mon_train_end\u001b[0m\u001b[0;34m(\u001b[0m\u001b[0;34m)\u001b[0m\u001b[0;34m\u001b[0m\u001b[0m\n",
      "\u001b[0;32m/home/carnd/anaconda3/envs/carnd-term1/lib/python3.5/site-packages/keras/utils/data_utils.py\u001b[0m in \u001b[0;36mstop\u001b[0;34m(self, timeout)\u001b[0m\n\u001b[1;32m    610\u001b[0m                     \u001b[0mthread\u001b[0m\u001b[0;34m.\u001b[0m\u001b[0mterminate\u001b[0m\u001b[0;34m(\u001b[0m\u001b[0;34m)\u001b[0m\u001b[0;34m\u001b[0m\u001b[0m\n\u001b[1;32m    611\u001b[0m                 \u001b[0;32melse\u001b[0m\u001b[0;34m:\u001b[0m\u001b[0;34m\u001b[0m\u001b[0m\n\u001b[0;32m--> 612\u001b[0;31m                     \u001b[0mthread\u001b[0m\u001b[0;34m.\u001b[0m\u001b[0mjoin\u001b[0m\u001b[0;34m(\u001b[0m\u001b[0mtimeout\u001b[0m\u001b[0;34m)\u001b[0m\u001b[0;34m\u001b[0m\u001b[0m\n\u001b[0m\u001b[1;32m    613\u001b[0m \u001b[0;34m\u001b[0m\u001b[0m\n\u001b[1;32m    614\u001b[0m         \u001b[0;32mif\u001b[0m \u001b[0mself\u001b[0m\u001b[0;34m.\u001b[0m\u001b[0m_use_multiprocessing\u001b[0m\u001b[0;34m:\u001b[0m\u001b[0;34m\u001b[0m\u001b[0m\n",
      "\u001b[0;32m/home/carnd/anaconda3/envs/carnd-term1/lib/python3.5/threading.py\u001b[0m in \u001b[0;36mjoin\u001b[0;34m(self, timeout)\u001b[0m\n\u001b[1;32m   1052\u001b[0m \u001b[0;34m\u001b[0m\u001b[0m\n\u001b[1;32m   1053\u001b[0m         \u001b[0;32mif\u001b[0m \u001b[0mtimeout\u001b[0m \u001b[0;32mis\u001b[0m \u001b[0;32mNone\u001b[0m\u001b[0;34m:\u001b[0m\u001b[0;34m\u001b[0m\u001b[0m\n\u001b[0;32m-> 1054\u001b[0;31m             \u001b[0mself\u001b[0m\u001b[0;34m.\u001b[0m\u001b[0m_wait_for_tstate_lock\u001b[0m\u001b[0;34m(\u001b[0m\u001b[0;34m)\u001b[0m\u001b[0;34m\u001b[0m\u001b[0m\n\u001b[0m\u001b[1;32m   1055\u001b[0m         \u001b[0;32melse\u001b[0m\u001b[0;34m:\u001b[0m\u001b[0;34m\u001b[0m\u001b[0m\n\u001b[1;32m   1056\u001b[0m             \u001b[0;31m# the behavior of a negative timeout isn't documented, but\u001b[0m\u001b[0;34m\u001b[0m\u001b[0;34m\u001b[0m\u001b[0m\n",
      "\u001b[0;32m/home/carnd/anaconda3/envs/carnd-term1/lib/python3.5/threading.py\u001b[0m in \u001b[0;36m_wait_for_tstate_lock\u001b[0;34m(self, block, timeout)\u001b[0m\n\u001b[1;32m   1068\u001b[0m         \u001b[0;32mif\u001b[0m \u001b[0mlock\u001b[0m \u001b[0;32mis\u001b[0m \u001b[0;32mNone\u001b[0m\u001b[0;34m:\u001b[0m  \u001b[0;31m# already determined that the C code is done\u001b[0m\u001b[0;34m\u001b[0m\u001b[0m\n\u001b[1;32m   1069\u001b[0m             \u001b[0;32massert\u001b[0m \u001b[0mself\u001b[0m\u001b[0;34m.\u001b[0m\u001b[0m_is_stopped\u001b[0m\u001b[0;34m\u001b[0m\u001b[0m\n\u001b[0;32m-> 1070\u001b[0;31m         \u001b[0;32melif\u001b[0m \u001b[0mlock\u001b[0m\u001b[0;34m.\u001b[0m\u001b[0macquire\u001b[0m\u001b[0;34m(\u001b[0m\u001b[0mblock\u001b[0m\u001b[0;34m,\u001b[0m \u001b[0mtimeout\u001b[0m\u001b[0;34m)\u001b[0m\u001b[0;34m:\u001b[0m\u001b[0;34m\u001b[0m\u001b[0m\n\u001b[0m\u001b[1;32m   1071\u001b[0m             \u001b[0mlock\u001b[0m\u001b[0;34m.\u001b[0m\u001b[0mrelease\u001b[0m\u001b[0;34m(\u001b[0m\u001b[0;34m)\u001b[0m\u001b[0;34m\u001b[0m\u001b[0m\n\u001b[1;32m   1072\u001b[0m             \u001b[0mself\u001b[0m\u001b[0;34m.\u001b[0m\u001b[0m_stop\u001b[0m\u001b[0;34m(\u001b[0m\u001b[0;34m)\u001b[0m\u001b[0;34m\u001b[0m\u001b[0m\n",
      "\u001b[0;31mKeyboardInterrupt\u001b[0m: "
     ]
    }
   ],
   "source": [
    "for i in range(150000000):\n",
    "    history = covnet_sigma.fit_generator(sigma_train_gen, steps_per_epoch = 10, epochs = 1)\n",
    "    histories_covnet_sigma.append(history.history)\n",
    "    predictions_covnet_sigma.append(covnet_sigma.predict(test_set_pred))\n",
    "    covnet_sigma.save(\"covnet_sigma_FULLMODEL.h5\")\n",
    "    \n",
    "    if (i%10 == 0):\n",
    "        np.save(\"histories_covnet_sigma.npy\", histories_covnet_sigma)\n",
    "        np.save(\"predictions_covnet_sigma.npy\", predictions_covnet_sigma)\n",
    "\n",
    "        !git add --all\n",
    "        !git commit -am \"Model trained\"\n",
    "        !git push --quiet"
   ]
  },
  {
   "cell_type": "markdown",
   "metadata": {},
   "source": [
    "# Convnet Single Output Prediction - Jump Mu"
   ]
  },
  {
   "cell_type": "code",
   "execution_count": 35,
   "metadata": {
    "collapsed": true
   },
   "outputs": [],
   "source": [
    "covnet_jump_mu = load_model(\"./Models/covnet_jump_mu.h5\", custom_objects={\"r2\":r2})#covnet_single_ReLUs_6_layers()"
   ]
  },
  {
   "cell_type": "code",
   "execution_count": 36,
   "metadata": {
    "collapsed": true
   },
   "outputs": [],
   "source": [
    "def jump_mu_batch_generator(all_time = 2000, paramset_size = 32, paths_p_paramset = 5):\n",
    "    while True:\n",
    "        RETURNS_ = []\n",
    "        PARAMS_ = []\n",
    "        \n",
    "        for i in range(paramset_size):\n",
    "            mp = random_model_params()\n",
    "            mp.all_time = all_time\n",
    "            \n",
    "            for j in range(paths_p_paramset):\n",
    "                PARAMS_.append(mp)\n",
    "                RETURNS_.append(geometric_brownian_motion_jump_diffusion_log_returns(mp))\n",
    "        \n",
    "        train_data = np.reshape(np.array(RETURNS_), (paramset_size*paths_p_paramset, 40, 50, 1))\n",
    "        \n",
    "        jumps_mus = np.array([[mp.jumps_mu] for mp in PARAMS_])\n",
    "        \n",
    "        yield train_data, jumps_mus\n",
    "\n",
    "jump_mu_train_gen = jump_mu_batch_generator(paramset_size=1750, paths_p_paramset=1)"
   ]
  },
  {
   "cell_type": "code",
   "execution_count": null,
   "metadata": {
    "collapsed": true
   },
   "outputs": [],
   "source": [
    "test_set_pred = standard_convolutional_test_set()"
   ]
  },
  {
   "cell_type": "code",
   "execution_count": null,
   "metadata": {
    "collapsed": true
   },
   "outputs": [],
   "source": [
    "covnet_jump_mu = load_model(H5_DIR_COVNET_JUMP_MU+\"_FULLMODEL.h5\", custom_objects={\"r2\":r2})"
   ]
  },
  {
   "cell_type": "code",
   "execution_count": 37,
   "metadata": {
    "collapsed": true
   },
   "outputs": [],
   "source": [
    "histories_covnet_jump_mu = np.load(\"histories_covnet_jump_mu.npy\").tolist()\n",
    "predictions_covnet_jump_mu = np.load(\"predictions_covnet_jump_mu.npy\").tolist()"
   ]
  },
  {
   "cell_type": "code",
   "execution_count": null,
   "metadata": {
    "collapsed": true
   },
   "outputs": [],
   "source": [
    "covnet_jump_mu.save(\"./Models/covnet_jump_mu.h5\")"
   ]
  },
  {
   "cell_type": "code",
   "execution_count": 38,
   "metadata": {},
   "outputs": [
    {
     "name": "stdout",
     "output_type": "stream",
     "text": [
      "Epoch 1/1\n",
      "10/10 [==============================] - 172s - loss: 0.0031 - mean_absolute_percentage_error: 56.5280 - r2: 0.9636    \n",
      "[master 0ebbe03] Model trained\n",
      " 5 files changed, 78 insertions(+), 13 deletions(-)\n",
      " rewrite Source_Code/histories_covnet_jump_mu.npy (85%)\n",
      "warning: push.default is unset; its implicit value has changed in\n",
      "Git 2.0 from 'matching' to 'simple'. To squelch this message\n",
      "and maintain the traditional behavior, use:\n",
      "\n",
      "  git config --global push.default matching\n",
      "\n",
      "To squelch this message and adopt the new behavior now, use:\n",
      "\n",
      "  git config --global push.default simple\n",
      "\n",
      "When push.default is set to 'matching', git will push local branches\n",
      "to the remote branches that already exist with the same name.\n",
      "\n",
      "Since Git 2.0, Git defaults to the more conservative 'simple'\n",
      "behavior, which only pushes the current branch to the corresponding\n",
      "remote branch that 'git pull' uses to update the current branch.\n",
      "\n",
      "See 'git help config' and search for 'push.default' for further information.\n",
      "(the 'simple' mode was introduced in Git 1.7.11. Use the similar mode\n",
      "'current' instead of 'simple' if you sometimes use older versions of Git)\n",
      "\n",
      "Epoch 1/1\n",
      "10/10 [==============================] - 172s - loss: 0.0031 - mean_absolute_percentage_error: 81.1408 - r2: 0.9638    \n",
      "Epoch 1/1\n",
      "10/10 [==============================] - 172s - loss: 0.0032 - mean_absolute_percentage_error: 61.9278 - r2: 0.9622    \n",
      "Epoch 1/1\n",
      "10/10 [==============================] - 174s - loss: 0.0029 - mean_absolute_percentage_error: 64.6069 - r2: 0.9648    \n",
      "Epoch 1/1\n",
      "10/10 [==============================] - 172s - loss: 0.0033 - mean_absolute_percentage_error: 50.2714 - r2: 0.9603    \n",
      "Epoch 1/1\n",
      "10/10 [==============================] - 173s - loss: 0.0030 - mean_absolute_percentage_error: 69.5316 - r2: 0.9638    \n",
      "Epoch 1/1\n",
      "10/10 [==============================] - 172s - loss: 0.0030 - mean_absolute_percentage_error: 64.4599 - r2: 0.9634    \n",
      "Epoch 1/1\n",
      " 2/10 [=====>........................] - ETA: 140s - loss: 0.0030 - mean_absolute_percentage_error: 52.5638 - r2: 0.9634"
     ]
    },
    {
     "ename": "KeyboardInterrupt",
     "evalue": "",
     "output_type": "error",
     "traceback": [
      "\u001b[0;31m---------------------------------------------------------------------------\u001b[0m",
      "\u001b[0;31mKeyboardInterrupt\u001b[0m                         Traceback (most recent call last)",
      "\u001b[0;32m<ipython-input-38-8bf3355a5f66>\u001b[0m in \u001b[0;36m<module>\u001b[0;34m()\u001b[0m\n\u001b[1;32m      1\u001b[0m \u001b[0;32mfor\u001b[0m \u001b[0mi\u001b[0m \u001b[0;32min\u001b[0m \u001b[0mrange\u001b[0m\u001b[0;34m(\u001b[0m\u001b[0;36m150000000\u001b[0m\u001b[0;34m)\u001b[0m\u001b[0;34m:\u001b[0m\u001b[0;34m\u001b[0m\u001b[0m\n\u001b[0;32m----> 2\u001b[0;31m     \u001b[0mhistory\u001b[0m \u001b[0;34m=\u001b[0m \u001b[0mcovnet_jump_mu\u001b[0m\u001b[0;34m.\u001b[0m\u001b[0mfit_generator\u001b[0m\u001b[0;34m(\u001b[0m\u001b[0mjump_mu_train_gen\u001b[0m\u001b[0;34m,\u001b[0m \u001b[0msteps_per_epoch\u001b[0m \u001b[0;34m=\u001b[0m \u001b[0;36m10\u001b[0m\u001b[0;34m,\u001b[0m \u001b[0mepochs\u001b[0m \u001b[0;34m=\u001b[0m \u001b[0;36m1\u001b[0m\u001b[0;34m)\u001b[0m\u001b[0;34m\u001b[0m\u001b[0m\n\u001b[0m\u001b[1;32m      3\u001b[0m     \u001b[0mhistories_covnet_jump_mu\u001b[0m\u001b[0;34m.\u001b[0m\u001b[0mappend\u001b[0m\u001b[0;34m(\u001b[0m\u001b[0mhistory\u001b[0m\u001b[0;34m.\u001b[0m\u001b[0mhistory\u001b[0m\u001b[0;34m)\u001b[0m\u001b[0;34m\u001b[0m\u001b[0m\n\u001b[1;32m      4\u001b[0m     \u001b[0mpredictions_covnet_jump_mu\u001b[0m\u001b[0;34m.\u001b[0m\u001b[0mappend\u001b[0m\u001b[0;34m(\u001b[0m\u001b[0mcovnet_jump_mu\u001b[0m\u001b[0;34m.\u001b[0m\u001b[0mpredict\u001b[0m\u001b[0;34m(\u001b[0m\u001b[0mtest_set_pred\u001b[0m\u001b[0;34m)\u001b[0m\u001b[0;34m)\u001b[0m\u001b[0;34m\u001b[0m\u001b[0m\n\u001b[1;32m      5\u001b[0m     \u001b[0mcovnet_jump_mu\u001b[0m\u001b[0;34m.\u001b[0m\u001b[0msave\u001b[0m\u001b[0;34m(\u001b[0m\u001b[0;34m\"./Models/covnet_jump_mu.h5\"\u001b[0m\u001b[0;34m)\u001b[0m\u001b[0;34m\u001b[0m\u001b[0m\n",
      "\u001b[0;32m/home/carnd/anaconda3/envs/carnd-term1/lib/python3.5/site-packages/keras/legacy/interfaces.py\u001b[0m in \u001b[0;36mwrapper\u001b[0;34m(*args, **kwargs)\u001b[0m\n\u001b[1;32m     85\u001b[0m                 warnings.warn('Update your `' + object_name +\n\u001b[1;32m     86\u001b[0m                               '` call to the Keras 2 API: ' + signature, stacklevel=2)\n\u001b[0;32m---> 87\u001b[0;31m             \u001b[0;32mreturn\u001b[0m \u001b[0mfunc\u001b[0m\u001b[0;34m(\u001b[0m\u001b[0;34m*\u001b[0m\u001b[0margs\u001b[0m\u001b[0;34m,\u001b[0m \u001b[0;34m**\u001b[0m\u001b[0mkwargs\u001b[0m\u001b[0;34m)\u001b[0m\u001b[0;34m\u001b[0m\u001b[0m\n\u001b[0m\u001b[1;32m     88\u001b[0m         \u001b[0mwrapper\u001b[0m\u001b[0;34m.\u001b[0m\u001b[0m_original_function\u001b[0m \u001b[0;34m=\u001b[0m \u001b[0mfunc\u001b[0m\u001b[0;34m\u001b[0m\u001b[0m\n\u001b[1;32m     89\u001b[0m         \u001b[0;32mreturn\u001b[0m \u001b[0mwrapper\u001b[0m\u001b[0;34m\u001b[0m\u001b[0m\n",
      "\u001b[0;32m/home/carnd/anaconda3/envs/carnd-term1/lib/python3.5/site-packages/keras/models.py\u001b[0m in \u001b[0;36mfit_generator\u001b[0;34m(self, generator, steps_per_epoch, epochs, verbose, callbacks, validation_data, validation_steps, class_weight, max_queue_size, workers, use_multiprocessing, initial_epoch)\u001b[0m\n\u001b[1;32m   1115\u001b[0m                                         \u001b[0mworkers\u001b[0m\u001b[0;34m=\u001b[0m\u001b[0mworkers\u001b[0m\u001b[0;34m,\u001b[0m\u001b[0;34m\u001b[0m\u001b[0m\n\u001b[1;32m   1116\u001b[0m                                         \u001b[0muse_multiprocessing\u001b[0m\u001b[0;34m=\u001b[0m\u001b[0muse_multiprocessing\u001b[0m\u001b[0;34m,\u001b[0m\u001b[0;34m\u001b[0m\u001b[0m\n\u001b[0;32m-> 1117\u001b[0;31m                                         initial_epoch=initial_epoch)\n\u001b[0m\u001b[1;32m   1118\u001b[0m \u001b[0;34m\u001b[0m\u001b[0m\n\u001b[1;32m   1119\u001b[0m     \u001b[0;34m@\u001b[0m\u001b[0minterfaces\u001b[0m\u001b[0;34m.\u001b[0m\u001b[0mlegacy_generator_methods_support\u001b[0m\u001b[0;34m\u001b[0m\u001b[0m\n",
      "\u001b[0;32m/home/carnd/anaconda3/envs/carnd-term1/lib/python3.5/site-packages/keras/legacy/interfaces.py\u001b[0m in \u001b[0;36mwrapper\u001b[0;34m(*args, **kwargs)\u001b[0m\n\u001b[1;32m     85\u001b[0m                 warnings.warn('Update your `' + object_name +\n\u001b[1;32m     86\u001b[0m                               '` call to the Keras 2 API: ' + signature, stacklevel=2)\n\u001b[0;32m---> 87\u001b[0;31m             \u001b[0;32mreturn\u001b[0m \u001b[0mfunc\u001b[0m\u001b[0;34m(\u001b[0m\u001b[0;34m*\u001b[0m\u001b[0margs\u001b[0m\u001b[0;34m,\u001b[0m \u001b[0;34m**\u001b[0m\u001b[0mkwargs\u001b[0m\u001b[0;34m)\u001b[0m\u001b[0;34m\u001b[0m\u001b[0m\n\u001b[0m\u001b[1;32m     88\u001b[0m         \u001b[0mwrapper\u001b[0m\u001b[0;34m.\u001b[0m\u001b[0m_original_function\u001b[0m \u001b[0;34m=\u001b[0m \u001b[0mfunc\u001b[0m\u001b[0;34m\u001b[0m\u001b[0m\n\u001b[1;32m     89\u001b[0m         \u001b[0;32mreturn\u001b[0m \u001b[0mwrapper\u001b[0m\u001b[0;34m\u001b[0m\u001b[0m\n",
      "\u001b[0;32m/home/carnd/anaconda3/envs/carnd-term1/lib/python3.5/site-packages/keras/engine/training.py\u001b[0m in \u001b[0;36mfit_generator\u001b[0;34m(self, generator, steps_per_epoch, epochs, verbose, callbacks, validation_data, validation_steps, class_weight, max_queue_size, workers, use_multiprocessing, initial_epoch)\u001b[0m\n\u001b[1;32m   1807\u001b[0m                 \u001b[0mbatch_index\u001b[0m \u001b[0;34m=\u001b[0m \u001b[0;36m0\u001b[0m\u001b[0;34m\u001b[0m\u001b[0m\n\u001b[1;32m   1808\u001b[0m                 \u001b[0;32mwhile\u001b[0m \u001b[0msteps_done\u001b[0m \u001b[0;34m<\u001b[0m \u001b[0msteps_per_epoch\u001b[0m\u001b[0;34m:\u001b[0m\u001b[0;34m\u001b[0m\u001b[0m\n\u001b[0;32m-> 1809\u001b[0;31m                     \u001b[0mgenerator_output\u001b[0m \u001b[0;34m=\u001b[0m \u001b[0mnext\u001b[0m\u001b[0;34m(\u001b[0m\u001b[0moutput_generator\u001b[0m\u001b[0;34m)\u001b[0m\u001b[0;34m\u001b[0m\u001b[0m\n\u001b[0m\u001b[1;32m   1810\u001b[0m \u001b[0;34m\u001b[0m\u001b[0m\n\u001b[1;32m   1811\u001b[0m                     \u001b[0;32mif\u001b[0m \u001b[0;32mnot\u001b[0m \u001b[0mhasattr\u001b[0m\u001b[0;34m(\u001b[0m\u001b[0mgenerator_output\u001b[0m\u001b[0;34m,\u001b[0m \u001b[0;34m'__len__'\u001b[0m\u001b[0;34m)\u001b[0m\u001b[0;34m:\u001b[0m\u001b[0;34m\u001b[0m\u001b[0m\n",
      "\u001b[0;32m/home/carnd/anaconda3/envs/carnd-term1/lib/python3.5/site-packages/keras/utils/data_utils.py\u001b[0m in \u001b[0;36mget\u001b[0;34m(self)\u001b[0m\n\u001b[1;32m    634\u001b[0m                     \u001b[0;32myield\u001b[0m \u001b[0minputs\u001b[0m\u001b[0;34m\u001b[0m\u001b[0m\n\u001b[1;32m    635\u001b[0m             \u001b[0;32melse\u001b[0m\u001b[0;34m:\u001b[0m\u001b[0;34m\u001b[0m\u001b[0m\n\u001b[0;32m--> 636\u001b[0;31m                 \u001b[0mtime\u001b[0m\u001b[0;34m.\u001b[0m\u001b[0msleep\u001b[0m\u001b[0;34m(\u001b[0m\u001b[0mself\u001b[0m\u001b[0;34m.\u001b[0m\u001b[0mwait_time\u001b[0m\u001b[0;34m)\u001b[0m\u001b[0;34m\u001b[0m\u001b[0m\n\u001b[0m",
      "\u001b[0;31mKeyboardInterrupt\u001b[0m: "
     ]
    }
   ],
   "source": [
    "for i in range(150000000):\n",
    "    history = covnet_jump_mu.fit_generator(jump_mu_train_gen, steps_per_epoch = 10, epochs = 1)\n",
    "    histories_covnet_jump_mu.append(history.history)\n",
    "    predictions_covnet_jump_mu.append(covnet_jump_mu.predict(test_set_pred))\n",
    "    covnet_jump_mu.save(\"./Models/covnet_jump_mu.h5\")\n",
    "    \n",
    "    if (i%10 == 0):\n",
    "        np.save(\"histories_covnet_jump_mu.npy\", histories_covnet_jump_mu)\n",
    "        np.save(\"predictions_covnet_jump_mu.npy\", predictions_covnet_jump_mu)\n",
    "\n",
    "        !git add --all\n",
    "        !git commit -am \"Model trained\"\n",
    "        !git push --quiet"
   ]
  },
  {
   "cell_type": "markdown",
   "metadata": {},
   "source": [
    "# Convnet Single Output Prediction - Jump Sigma"
   ]
  },
  {
   "cell_type": "code",
   "execution_count": 9,
   "metadata": {},
   "outputs": [
    {
     "ename": "NameError",
     "evalue": "name 'covnet_jump_sigma' is not defined",
     "output_type": "error",
     "traceback": [
      "\u001b[0;31m---------------------------------------------------------------------------\u001b[0m",
      "\u001b[0;31mNameError\u001b[0m                                 Traceback (most recent call last)",
      "\u001b[0;32m<ipython-input-9-7f003b169ad7>\u001b[0m in \u001b[0;36m<module>\u001b[0;34m()\u001b[0m\n\u001b[1;32m     12\u001b[0m     \u001b[0;32mreturn\u001b[0m \u001b[0;36m1\u001b[0m\u001b[0;34m-\u001b[0m\u001b[0mSSE\u001b[0m\u001b[0;34m/\u001b[0m\u001b[0mSST\u001b[0m\u001b[0;34m\u001b[0m\u001b[0m\n\u001b[1;32m     13\u001b[0m \u001b[0;34m\u001b[0m\u001b[0m\n\u001b[0;32m---> 14\u001b[0;31m \u001b[0mcovnet_jump_sigma\u001b[0m\u001b[0;34m.\u001b[0m\u001b[0mcompile\u001b[0m\u001b[0;34m(\u001b[0m\u001b[0;34m'adam'\u001b[0m\u001b[0;34m,\u001b[0m \u001b[0;34m'mean_squared_error'\u001b[0m\u001b[0;34m,\u001b[0m \u001b[0mmetrics\u001b[0m\u001b[0;34m=\u001b[0m\u001b[0;34m[\u001b[0m\u001b[0;34m'mean_absolute_percentage_error'\u001b[0m\u001b[0;34m,\u001b[0m \u001b[0mr2\u001b[0m\u001b[0;34m]\u001b[0m\u001b[0;34m)\u001b[0m\u001b[0;34m\u001b[0m\u001b[0m\n\u001b[0m",
      "\u001b[0;31mNameError\u001b[0m: name 'covnet_jump_sigma' is not defined"
     ]
    }
   ],
   "source": [
    "def r2(y_true, y_pred):\n",
    "    \"\"\"\n",
    "    returns the correlation coefficient of y_pred against y_true.\n",
    "\n",
    "    :param y_true: the true values (independent variable)\n",
    "    :param y_pred: the predicted values (dependent variable)\n",
    "    \"\"\"\n",
    "    \n",
    "    SSE = K.sum(K.square(y_true-y_pred))\n",
    "    SST = K.sum(K.square(y_true-K.mean(y_true)))\n",
    "    \n",
    "    return 1-SSE/SST\n",
    "\n",
    "covnet_jump_sigma.compile('adam', 'mean_squared_error', metrics=['mean_absolute_percentage_error', r2])"
   ]
  },
  {
   "cell_type": "code",
   "execution_count": 43,
   "metadata": {
    "collapsed": true
   },
   "outputs": [],
   "source": [
    "covnet_jump_sigma.compile('adam', 'mean_squared_error', metrics=['mean_absolute_percentage_error', r2])"
   ]
  },
  {
   "cell_type": "code",
   "execution_count": null,
   "metadata": {
    "collapsed": true
   },
   "outputs": [],
   "source": [
    "keras.__version__"
   ]
  },
  {
   "cell_type": "code",
   "execution_count": 39,
   "metadata": {
    "collapsed": true
   },
   "outputs": [],
   "source": [
    "covnet_jump_sigma = load_model(\"./Models/covnet_jump_sigma.h5\", custom_objects={\"r2\":r2})#covnet_single_ReLUs_6_layers()\n",
    "#covnet_jump_sigma.load_weights(H5_DIR_COVNET_JUMP_SIGMA)"
   ]
  },
  {
   "cell_type": "code",
   "execution_count": 40,
   "metadata": {
    "collapsed": true
   },
   "outputs": [],
   "source": [
    "def jump_sigma_batch_generator(all_time = 2000, paramset_size = 32, paths_p_paramset = 5):\n",
    "    while True:\n",
    "        RETURNS_ = []\n",
    "        PARAMS_ = []\n",
    "        \n",
    "        for i in range(paramset_size):\n",
    "            mp = random_model_params()\n",
    "            mp.all_time = all_time\n",
    "            \n",
    "            for j in range(paths_p_paramset):\n",
    "                PARAMS_.append(mp)\n",
    "                RETURNS_.append(geometric_brownian_motion_jump_diffusion_log_returns(mp))\n",
    "        \n",
    "        train_data = np.reshape(np.array(RETURNS_), (paramset_size*paths_p_paramset, 40, 50, 1))\n",
    "        \n",
    "        jumps_sigmas = np.array([[mp.jumps_sigma] for mp in PARAMS_])\n",
    "        \n",
    "        yield train_data, jumps_sigmas\n",
    "\n",
    "jump_sigma_train_gen = jump_sigma_batch_generator(paramset_size=1750, paths_p_paramset=1)"
   ]
  },
  {
   "cell_type": "code",
   "execution_count": null,
   "metadata": {
    "collapsed": true
   },
   "outputs": [],
   "source": [
    "test_set_pred = standard_convolutional_test_set()"
   ]
  },
  {
   "cell_type": "code",
   "execution_count": 41,
   "metadata": {
    "collapsed": true
   },
   "outputs": [],
   "source": [
    "histories_covnet_jump_sigma = np.load(\"histories_covnet_jump_sigma.npy\").tolist()\n",
    "predictions_covnet_jump_sigma = np.load(\"predictions_covnet_jump_sigma.npy\").tolist()\n",
    "    \n",
    "#histories_covnet_jump_sigma = []\n",
    "#predictions_covnet_jump_sigma = []"
   ]
  },
  {
   "cell_type": "code",
   "execution_count": null,
   "metadata": {
    "collapsed": true
   },
   "outputs": [],
   "source": [
    "covnet_jump_sigma.save(\"./Models/covnet_jump_sigma.h5\")"
   ]
  },
  {
   "cell_type": "code",
   "execution_count": null,
   "metadata": {
    "scrolled": true
   },
   "outputs": [
    {
     "name": "stdout",
     "output_type": "stream",
     "text": [
      "Epoch 1/3\n",
      "3/3 [==============================] - 52s - loss: 7.3159e-04 - mean_absolute_percentage_error: 53.4050 - r2: 0.7824     \n",
      "Epoch 2/3\n",
      "3/3 [==============================] - 51s - loss: 6.6728e-04 - mean_absolute_percentage_error: 55.9392 - r2: 0.8002     \n",
      "Epoch 3/3\n"
     ]
    }
   ],
   "source": [
    "for i in range(100000):\n",
    "    \n",
    "    history = covnet_jump_sigma.fit_generator(jump_sigma_train_gen, steps_per_epoch = 3, epochs = 3)\n",
    "    histories_covnet_jump_sigma.append(history.history)\n",
    "    predictions_covnet_jump_sigma.append(covnet_jump_sigma.predict(test_set_pred))\n",
    "    covnet_jump_sigma.save(\"./Models/covnet_jump_sigma.h5\")\n",
    "    \n",
    "    np.save(\"histories_covnet_jump_sigma.npy\", histories_covnet_jump_sigma)\n",
    "    np.save(\"predictions_covnet_jump_sigma.npy\", predictions_covnet_jump_sigma)\n",
    "    \n",
    "    if i % 5 == 0:\n",
    "        !cd ..\n",
    "        !git config --global user.email \"rwmmostert@gmail.com\"\n",
    "        !git config --global user.name \"RWMostert\"\n",
    "        !git add --all\n",
    "        !git commit -am \"updated history, predictions and model\"\n",
    "        !git push -u origin master --quiet"
   ]
  },
  {
   "cell_type": "markdown",
   "metadata": {},
   "source": [
    "# Ensembling Network"
   ]
  },
  {
   "cell_type": "code",
   "execution_count": null,
   "metadata": {
    "collapsed": true
   },
   "outputs": [],
   "source": [
    "ff_ensembling = Sequential()\n",
    "ff_ensembling.add(Dense(128, input_dim = 8, activation='relu'))\n",
    "ff_ensembling.add(Dense(256, activation='relu'))\n",
    "ff_ensembling.add(Dense(128, activation='relu'))\n",
    "ff_ensembling.add(Dense(64, activation='relu'))\n",
    "ff_ensembling.add(Dense(32, activation='relu'))\n",
    "ff_ensembling.add(Dense(5))\n",
    "\n",
    "ff_ensembling.compile('adam', 'mean_squared_error', metrics=['mean_absolute_percentage_error', r2])"
   ]
  },
  {
   "cell_type": "code",
   "execution_count": null,
   "metadata": {
    "collapsed": true
   },
   "outputs": [],
   "source": [
    "all_time = 2000\n",
    "paramset_size = 1\n",
    "paths_p_paramset = 1\n",
    "\n",
    "RETURNS_ = []\n",
    "PARAMS_ = []\n",
    "        \n",
    "for i in range(paramset_size):\n",
    "    mp = random_model_params()\n",
    "    mp.all_time = all_time\n",
    "            \n",
    "    for j in range(paths_p_paramset):\n",
    "        PARAMS_.append([mp.all_sigma, mp.gbm_mu, mp.jumps_sigma, mp.jumps_mu, mp.lamda])\n",
    "        RETURNS_.append(geometric_brownian_motion_jump_diffusion_log_returns(mp))\n",
    "        \n",
    "train_data = np.reshape(np.array(RETURNS_), (paramset_size*paths_p_paramset, 40, 50, 1))\n",
    "                \n",
    "predictions = []\n",
    "for return_set in train_data:\n",
    "    output1 = covnet_mo.predict(np.array([return_set]))\n",
    "    output2 = covnet_lambda.predict(np.array([return_set]))\n",
    "    output3 = covnet_jump_mu.predict(np.array([return_set]))\n",
    "    output4 = covnet_jump_sigma.predict(np.array([return_set]))\n",
    "    for output in output1:\n",
    "        predictions.append(output[0][0])\n",
    "    predictions.append(output2[0][0])\n",
    "    predictions.append(output3[0][0])\n",
    "    predictions.append(output4[0][0])\n",
    "        \n",
    "print(predictions)\n",
    "        \n",
    "print(PARAMS_)"
   ]
  },
  {
   "cell_type": "code",
   "execution_count": null,
   "metadata": {
    "collapsed": true
   },
   "outputs": [],
   "source": [
    "def ensemble_batch_generator(all_time = 2000, paramset_size = 32, paths_p_paramset = 5):\n",
    "    while True:\n",
    "        RETURNS_ = []\n",
    "        PARAMS_ = []\n",
    "        \n",
    "        for i in range(paramset_size):\n",
    "            mp = random_model_params()\n",
    "            mp.all_time = all_time\n",
    "            \n",
    "            for j in range(paths_p_paramset):\n",
    "                PARAMS_.append([mp.all_sigma, mp.gbm_mu, mp.jumps_sigma, mp.jumps_mu, mp.lamda])\n",
    "                RETURNS_.append(geometric_brownian_motion_jump_diffusion_log_returns(mp))\n",
    "        \n",
    "        train_data = np.reshape(np.array(RETURNS_), (paramset_size*paths_p_paramset, 40, 50, 1))\n",
    "                \n",
    "        predictionset = []\n",
    "        for return_set in train_data:\n",
    "            prediction = []\n",
    "            output1 = covnet_mo.predict(np.array([return_set]))\n",
    "            output2 = covnet_lambda.predict(np.array([return_set]))\n",
    "            output3 = covnet_jump_mu.predict(np.array([return_set]))\n",
    "            output4 = covnet_jump_sigma.predict(np.array([return_set]))\n",
    "            for output in output1:\n",
    "                prediction.append(output[0][0])\n",
    "            prediction.append(output2[0][0])\n",
    "            prediction.append(output3[0][0])\n",
    "            prediction.append(output4[0][0])\n",
    "            predictionset.append(prediction)\n",
    "        \n",
    "        \n",
    "        yield np.array(predictionset), np.array(PARAMS_)\n",
    "\n",
    "ensemble_batch_gen = ensemble_batch_generator(paramset_size=10, paths_p_paramset=5)"
   ]
  },
  {
   "cell_type": "code",
   "execution_count": null,
   "metadata": {
    "collapsed": true
   },
   "outputs": [],
   "source": [
    "ff_ensembling.load_weights(H5_DIR_ENSEMBLING)"
   ]
  },
  {
   "cell_type": "code",
   "execution_count": null,
   "metadata": {
    "collapsed": true
   },
   "outputs": [],
   "source": [
    "\n",
    "\n",
    "for i in range(150):\n",
    "    ff_ensembling.fit_generator(ensemble_batch_gen, steps_per_epoch = 10, epochs = 1)\n",
    "    ff_ensembling.save_weights(H5_DIR_ENSEMBLING)"
   ]
  },
  {
   "cell_type": "markdown",
   "metadata": {},
   "source": [
    "# Sensitivity Tests"
   ]
  },
  {
   "cell_type": "markdown",
   "metadata": {},
   "source": [
    "### Sensitivity Test: Mu"
   ]
  },
  {
   "cell_type": "code",
   "execution_count": null,
   "metadata": {
    "collapsed": true
   },
   "outputs": [],
   "source": [
    "mu_s = []\n",
    "preds_MEAN = []\n",
    "preds_Lower_16 = []\n",
    "preds_Upper_84 = []\n",
    "\n",
    "\n",
    "preds_SO_MEAN = []\n",
    "preds_SO_Upper_84 = []\n",
    "preds_SO_Lower_16 = []"
   ]
  },
  {
   "cell_type": "code",
   "execution_count": null,
   "metadata": {
    "collapsed": true
   },
   "outputs": [],
   "source": [
    "for j in range(100):\n",
    "    mp = test_set_model_params()\n",
    "    mp.gbm_mu = -1 + float(j)/50\n",
    "    test_set = []\n",
    "    \n",
    "    print(j)\n",
    "    \n",
    "    print(\"GENERATION...\")\n",
    "    test_set_pred = standard_convolutional_test_set(mp=mp)\n",
    "    \n",
    "    \n",
    "    print(\"PREDICTION...\\n\")\n",
    "    predictions_lambda = covnet_lambda.predict(test_set_pred)\n",
    "    predictions_jump_mu = covnet_jump_mu.predict(test_set_pred)\n",
    "    predictions_jump_sigma = covnet_jump_sigma.predict(test_set_pred)\n",
    "    predictions_sigma = covnet_sigma.predict(test_set_pred)\n",
    "    predictions_mu = covnet_mu.predict(test_set_pred)\n",
    "    \n",
    "    predictions_so = [predictions_sigma, predictions_mu, predictions_jump_sigma, predictions_jump_mu, predictions_lambda]\n",
    "    \n",
    "    preds_SO_MEAN.append(np.mean(predictions_so, axis = 1))\n",
    "    preds_SO_Upper_84.append(np.percentile(predictions_so, 84, axis = 1))\n",
    "    preds_SO_Lower_16.append(np.percentile(predictions_so, 16, axis = 1))\n",
    "    \n",
    "    mu_s.append(mp.gbm_mu)\n",
    "    \n",
    "    predictions_elu = covnet_mo_elu.predict(test_set_pred)\n",
    "    \n",
    "    preds_MEAN.append(np.mean(predictions_elu, axis = 1))\n",
    "    preds_Upper_84.append(np.percentile(predictions_elu, 84, axis = 1))\n",
    "    preds_Lower_16.append(np.percentile(predictions_elu, 16, axis = 1))\n",
    "    \n",
    "    print(np.transpose(np.mean(predictions_so, axis = 1)))\n",
    "    print(\"   sigma,       mu,      jump_sigma,   jump_mu,    lambda\")\n",
    "    print(\"    0.1         \"+str(mp.gbm_mu)+\"     0.07              0.05       0.02\")\n",
    "    print(np.transpose(np.mean(predictions_elu, axis = 1)))\n",
    "    \n",
    "np.save(\"./Sensitivity-Test-Results/Sensitivity_Test-covnet_SO-Mu_preds_Upper_84.npy\", preds_SO_Upper_84)\n",
    "np.save(\"./Sensitivity-Test-Results/Sensitivity_Test-covnet_SO-Mu_preds_Lower_16.npy\", preds_SO_Lower_16)\n",
    "np.save(\"./Sensitivity-Test-Results/Sensitivity_Test-covnet_SO-Mu_preds_MEAN.npy\", preds_SO_MEAN)\n",
    "    \n",
    "np.save(\"./Sensitivity-Test-Results/Sensitivity_Test-covnet_MultipleO-Mu_preds_Upper_84.npy\", preds_Upper_84)\n",
    "np.save(\"./Sensitivity-Test-Results/Sensitivity_Test-covnet_MultipleO-Mu_preds_Lower_16.npy\", preds_Lower_16)\n",
    "np.save(\"./Sensitivity-Test-Results/Sensitivity_Test-covnet_MultipleO-Mu_preds_MEAN.npy\", preds_MEAN)\n",
    "    \n",
    "np.save(\"./Sensitivity-Test-Results/Sensitivity_Test-covnet_lambda_Mu_mu_s.npy\", mu_s)"
   ]
  },
  {
   "cell_type": "code",
   "execution_count": null,
   "metadata": {
    "collapsed": true
   },
   "outputs": [],
   "source": [
    "np.save(\"./Sensitivity-Test-Results/Sensitivity_Test-covnet_SO-Mu_preds_Upper_84.npy\", preds_SO_Upper_84)\n",
    "np.save(\"./Sensitivity-Test-Results/Sensitivity_Test-covnet_SO-Mu_preds_Lower_16.npy\", preds_SO_Lower_16)\n",
    "np.save(\"./Sensitivity-Test-Results/Sensitivity_Test-covnet_SO-Mu_preds_MEAN.npy\", preds_SO_MEAN)\n",
    "    \n",
    "np.save(\"./Sensitivity-Test-Results/Sensitivity_Test-covnet_MultipleO-Mu_preds_Upper_84.npy\", preds_Upper_84)\n",
    "np.save(\"./Sensitivity-Test-Results/Sensitivity_Test-covnet_MultipleO-Mu_preds_Lower_16.npy\", preds_Lower_16)\n",
    "np.save(\"./Sensitivity-Test-Results/Sensitivity_Test-covnet_MultipleO-Mu_preds_MEAN.npy\", preds_MEAN)\n",
    "    \n",
    "np.save(\"./Sensitivity-Test-Results/Sensitivity_Test-covnet_lambda_Mu_mu_s.npy\", mu_s)"
   ]
  },
  {
   "cell_type": "code",
   "execution_count": null,
   "metadata": {
    "collapsed": true
   },
   "outputs": [],
   "source": [
    "sigmas = np.array(preds_MEAN)[:,0].reshape(100)\n",
    "sigma_upper_84 = np.array(preds_Upper_84)[:,0].reshape(100)\n",
    "sigma_lower_16 = np.array(preds_Lower_16)[:,0].reshape(100)\n",
    "\n",
    "sigmas_single = np.array(preds_SO_MEAN)[:,0].reshape(100)\n",
    "sigma_upper_84_single = np.array(preds_SO_Upper_84)[:,0].reshape(100)\n",
    "sigma_lower_16_single = np.array(preds_SO_Lower_16)[:,0].reshape(100)"
   ]
  },
  {
   "cell_type": "code",
   "execution_count": null,
   "metadata": {
    "collapsed": true
   },
   "outputs": [],
   "source": [
    "fig = pylab.figure()\n",
    "sns.set_style(\"white\")\n",
    "pylab.plot(mu_s, sigmas, color='r', label=\"predicted value\");\n",
    "pylab.axhline(y=0.1, color='black', linestyle='-', label=\"actual value\")\n",
    "pylab.fill_between(mu_s, sigma_lower_16, sigma_upper_84, color='r', alpha=0.1, edgecolor='none')\n",
    "pylab.xlabel(\"Mu\")\n",
    "pylab.ylabel(\"Sigma\")\n",
    "\n",
    "pylab.legend(bbox_to_anchor=(1, 1), loc=1, borderaxespad=0.)\n",
    "pylab.show();\n",
    "fig.savefig(ROOT_DIR + \"/Images/Output-Sensitivity-Results/ConvolutionalNN-MultipleOutput-ELU/Varying-Mu/\"+\"sigma.png\")"
   ]
  },
  {
   "cell_type": "code",
   "execution_count": null,
   "metadata": {
    "collapsed": true
   },
   "outputs": [],
   "source": [
    "fig = pylab.figure()\n",
    "sns.set_style(\"white\")\n",
    "pylab.plot(mu_s, sigmas_single, color='r', label=\"predicted value\");\n",
    "pylab.axhline(y=0.1, color='black', linestyle='-', label=\"actual value\")\n",
    "pylab.fill_between(mu_s, sigma_lower_16_single, sigma_upper_84_single, color='r', alpha=0.1, edgecolor='none')\n",
    "pylab.xlabel(\"Mu\")\n",
    "pylab.ylabel(\"Sigma\")\n",
    "\n",
    "pylab.legend(bbox_to_anchor=(1, 1), loc=1, borderaxespad=0.)\n",
    "pylab.show();\n",
    "fig.savefig(ROOT_DIR + \"/Images/Output-Sensitivity-Results/ConvolutionalNN-SingleOutput/Varying-Mu/\"+\"sigma.png\")"
   ]
  },
  {
   "cell_type": "code",
   "execution_count": null,
   "metadata": {
    "collapsed": true
   },
   "outputs": [],
   "source": [
    "jump_sigmas = np.array(preds_MEAN)[:,2].reshape(100)\n",
    "jump_sigmas_upper_84 = np.array(preds_Upper_84)[:,2].reshape(100)\n",
    "jump_sigmas_lower_16 = np.array(preds_Lower_16)[:,2].reshape(100)"
   ]
  },
  {
   "cell_type": "code",
   "execution_count": null,
   "metadata": {
    "collapsed": true
   },
   "outputs": [],
   "source": [
    "fig = pylab.figure()\n",
    "pylab.plot(mu_s, jump_sigmas, color='b', label=\"predicted value\");\n",
    "pylab.axhline(y=0.07, color='black', linestyle='-', label=\"actual value\")\n",
    "pylab.fill_between(mu_s, jump_sigmas_lower_16, jump_sigmas_upper_84, color='b', alpha=0.1, edgecolor='none')\n",
    "pylab.xlabel(\"Mu\")\n",
    "pylab.ylabel(\"Jumps Sigma\")\n",
    "\n",
    "pylab.legend(bbox_to_anchor=(1, 1), loc=1, borderaxespad=0.)\n",
    "pylab.show();\n",
    "fig.savefig(ROOT_DIR + \"/Images/Output-Sensitivity-Results/ConvolutionalNN-MultipleOutput-ELU/Varying-Mu/\"+\"Jumps_Sigma.png\")"
   ]
  },
  {
   "cell_type": "code",
   "execution_count": null,
   "metadata": {
    "collapsed": true
   },
   "outputs": [],
   "source": [
    "jump_mus = np.array(preds_MEAN)[:,3].reshape(100)\n",
    "jump_mus_upper_84 = np.array(preds_Upper_84)[:,3].reshape(100)\n",
    "jump_mus_lower_16 = np.array(preds_Lower_16)[:,3].reshape(100)"
   ]
  },
  {
   "cell_type": "code",
   "execution_count": null,
   "metadata": {
    "collapsed": true
   },
   "outputs": [],
   "source": [
    "fig = pylab.figure()\n",
    "pylab.plot(mu_s, jump_mus, color='g', label=\"predicted value\");\n",
    "pylab.axhline(y=0.05, color='black', linestyle='-', label=\"actual value\")\n",
    "pylab.fill_between(mu_s, jump_mus_lower_16, jump_mus_upper_84, color='g', alpha=0.1, edgecolor='none')\n",
    "pylab.xlabel(\"Mu\")\n",
    "pylab.ylabel(\"Jumps Mu\")\n",
    "\n",
    "pylab.legend(bbox_to_anchor=(1, 1), loc=1, borderaxespad=0.)\n",
    "pylab.show();\n",
    "fig.savefig(ROOT_DIR + \"/Images/Output-Sensitivity-Results/ConvolutionalNN-MultipleOutput-ELU/Varying-Mu/\"+\"Jumps_Mu.png\")"
   ]
  },
  {
   "cell_type": "code",
   "execution_count": null,
   "metadata": {
    "collapsed": true
   },
   "outputs": [],
   "source": [
    "lambdas = np.array(preds_MEAN)[:,4].reshape(100)\n",
    "lambdas_upper_84 = np.array(preds_Upper_84)[:,4].reshape(100)\n",
    "lambdas_lower_16 = np.array(preds_Lower_16)[:,4].reshape(100)"
   ]
  },
  {
   "cell_type": "code",
   "execution_count": null,
   "metadata": {
    "collapsed": true
   },
   "outputs": [],
   "source": [
    "fig = pylab.figure()\n",
    "pylab.plot(mu_s, lambdas, color='y', label=\"predicted value\");\n",
    "pylab.axhline(y=0.02, color='black', linestyle='-', label=\"actual value\")\n",
    "pylab.fill_between(mu_s, lambdas_lower_16, lambdas_upper_84, color='y', alpha=0.2, edgecolor='none')\n",
    "pylab.xlabel(\"Mu\")\n",
    "pylab.ylabel(\"Lambda\")\n",
    "\n",
    "pylab.legend(bbox_to_anchor=(1, 1), loc=1, borderaxespad=0.)\n",
    "pylab.show();\n",
    "fig.savefig(ROOT_DIR + \"/Images/Output-Sensitivity-Results/ConvolutionalNN-MultipleOutput-ELU/Varying-Mu/\"+\"Lambda.png\")"
   ]
  },
  {
   "cell_type": "code",
   "execution_count": null,
   "metadata": {
    "collapsed": true
   },
   "outputs": [],
   "source": [
    "mus_ = np.array(preds_MEAN)[:,1].reshape(100)\n",
    "mus_upper_84 = np.array(preds_Upper_84)[:,1].reshape(100)\n",
    "mus_lower_16 = np.array(preds_Lower_16)[:,1].reshape(100)"
   ]
  },
  {
   "cell_type": "code",
   "execution_count": null,
   "metadata": {
    "collapsed": true
   },
   "outputs": [],
   "source": [
    "fig = pylab.figure()\n",
    "pylab.plot(mu_s, mus_-mu_s, color='g', label=\"predicted value\");\n",
    "#pylab.plot(0, mu_s, color='black', alpha = 0.5, label=\"actual value\");\n",
    "pylab.axhline(y=0, color='black', linestyle='-', label=\"actual value\")\n",
    "pylab.fill_between(mu_s, mus_lower_16-mu_s, mus_upper_84-mu_s, color='g', alpha=0.1, edgecolor='none')\n",
    "pylab.xlabel(\"Mu\")\n",
    "pylab.ylabel(\"Prediction Deviation from Mu\")\n",
    "ax = pylab.gca()\n",
    "vals = ax.get_yticks()\n",
    "ax.set_yticklabels(['-'+str(x) for x in vals[vals<0]] + [0] + ['+'+str(x) for x in vals[vals>0]])\n",
    "\n",
    "pylab.legend(bbox_to_anchor=(1, 0.185), loc=1, borderaxespad=0.)\n",
    "pylab.show();\n",
    "fig.savefig(ROOT_DIR + \"/Images/Output-Sensitivity-Results/ConvolutionalNN-MultipleOutput-ELU/Varying-Mu/\"+\"Mu.png\")"
   ]
  },
  {
   "cell_type": "markdown",
   "metadata": {},
   "source": [
    "# Sensitivity Test - Sigma"
   ]
  },
  {
   "cell_type": "code",
   "execution_count": null,
   "metadata": {
    "collapsed": true
   },
   "outputs": [],
   "source": [
    "sigma_s = []\n",
    "\n",
    "preds_MEAN = []\n",
    "preds_Lower_16 = []\n",
    "preds_Upper_84 = []\n",
    "\n",
    "preds_SO_MEAN = []\n",
    "preds_SO_Upper_84 = []\n",
    "preds_SO_Lower_16 = []\n",
    "\n",
    "for j in range(100):\n",
    "    mp = test_set_model_params()\n",
    "    mp.all_sigma = 0.001 + j*(0.2 - 0.001)/100\n",
    "    test_set = []\n",
    "    \n",
    "    print(j)\n",
    "    \n",
    "    print(\"GENERATION...\")\n",
    "    test_set_pred = standard_convolutional_test_set(mp=mp)\n",
    "    \n",
    "    \n",
    "    print(\"PREDICTION...\\n\")\n",
    "    predictions_lambda = covnet_lambda.predict(test_set_pred)\n",
    "    predictions_jump_mu = covnet_jump_mu.predict(test_set_pred)\n",
    "    predictions_jump_sigma = covnet_jump_sigma.predict(test_set_pred)\n",
    "    predictions_sigma = covnet_sigma.predict(test_set_pred)\n",
    "    predictions_mu = covnet_mu.predict(test_set_pred)\n",
    "    \n",
    "    predictions_so = [predictions_sigma, predictions_mu, predictions_jump_sigma, predictions_jump_mu, predictions_lambda]\n",
    "    \n",
    "    preds_SO_MEAN.append(np.mean(predictions_so, axis = 1))\n",
    "    preds_SO_Upper_84.append(np.percentile(predictions_so, 84, axis = 1))\n",
    "    preds_SO_Lower_16.append(np.percentile(predictions_so, 16, axis = 1))\n",
    "    \n",
    "    sigma_s.append(mp.all_sigma)\n",
    "    \n",
    "    predictions_elu = covnet_mo_elu.predict(test_set_pred)\n",
    "    \n",
    "    preds_MEAN.append(np.mean(predictions_elu, axis = 1))\n",
    "    preds_Upper_84.append(np.percentile(predictions_elu, 84, axis = 1))\n",
    "    preds_Lower_16.append(np.percentile(predictions_elu, 16, axis = 1))\n",
    "    \n",
    "    print(np.transpose(np.mean(predictions_so, axis = 1)))\n",
    "    print(\"   sigma,       mu,      jump_sigma,   jump_mu,    lambda\")\n",
    "    print(\"   \"+str(mp.all_sigma)+\"      0.05       0.07              0.05       0.02\")\n",
    "    print(np.transpose(np.mean(predictions_elu, axis = 1)))\n",
    "    \n",
    "np.save(\"./Sensitivity-Test-Results/Sensitivity_Test-Covnet_MO_Sigma_sigma_s.npy\", sigma_s)\n",
    "   \n",
    "np.save(\"./Sensitivity-Test-Results/Sensitivity_Test-covnet_SO-Sigma_preds_Upper_84.npy\", preds_SO_Upper_84)\n",
    "np.save(\"./Sensitivity-Test-Results/Sensitivity_Test-covnet_SO-Sigma_preds_Lower_16.npy\", preds_SO_Lower_16)\n",
    "np.save(\"./Sensitivity-Test-Results/Sensitivity_Test-covnet_SO-Sigma_preds_MEAN.npy\", preds_SO_MEAN)\n",
    "    \n",
    "np.save(\"./Sensitivity-Test-Results/Sensitivity_Test-covnet_MultipleO-Sigma_preds_Upper_84.npy\", preds_Upper_84)\n",
    "np.save(\"./Sensitivity-Test-Results/Sensitivity_Test-covnet_MultipleO-Sigma_preds_Lower_16.npy\", preds_Lower_16)\n",
    "np.save(\"./Sensitivity-Test-Results/Sensitivity_Test-covnet_MultipleO-Sigma_preds_MEAN.npy\", preds_MEAN)"
   ]
  },
  {
   "cell_type": "code",
   "execution_count": null,
   "metadata": {
    "collapsed": true
   },
   "outputs": [],
   "source": [
    "sigma_s = []\n",
    "preds_MEAN = []\n",
    "preds_Lower_16 = []\n",
    "preds_Upper_84 = []\n",
    "\n",
    "for j in range(100):\n",
    "    covnet_mo_elu = covnet_multiple_output_with_ELUs()\n",
    "    covnet_mo_elu.load_weights(H5_DIR_COVNET_MULTIPLE_ELU)\n",
    "    \n",
    "    mp.all_sigma = 0.001 + j*(0.2 - 0.001)/100\n",
    "    test_set = []\n",
    "    \n",
    "    print(j)\n",
    "    \n",
    "    print(\"GENERATION...\")\n",
    "    test_set_pred = standard_convolutional_test_set()\n",
    "    \n",
    "    print(\"PREDICTION...\\n\")\n",
    "    predictions_elu = covnet_mo_elu.predict(test_set_pred)\n",
    "    \n",
    "    print(np.transpose(np.mean(predictions_elu, axis = 1)))\n",
    "    print(\"   sigma,    mu,      jump_sigma,      jump_mu,    lambda\")\n",
    "    print(\"   \"+str(mp.all_sigma)+\"      0.05       0.07              0.05       0.02\")\n",
    "    print(np.mean(predictions_elu, axis = 1)+np.std(predictions_elu, axis = 1))\n",
    "    print(np.percentile(predictions_elu, 84, axis = 1))\n",
    "    preds_MEAN.append(np.mean(predictions_elu, axis = 1))\n",
    "    preds_Upper_84.append(np.percentile(predictions_elu, 84, axis = 1))\n",
    "    preds_Lower_16.append(np.percentile(predictions_elu, 16, axis = 1))\n",
    "    sigma_s.append(mp.all_sigma)\n",
    "    \n",
    "np.save(\"Sensitivity_Test-Covnet_MO_Sigma_sigma_s.npy\", sigma_s)\n",
    "np.save(\"Sensitivity_Test-Covnet_MO_Sigma_preds_MEAN.npy\", preds_MEAN)\n",
    "np.save(\"Sensitivity_Test-Covnet_MO_Sigma_preds_Upper_84.npy\", preds_Upper_84)\n",
    "np.save(\"Sensitivity_Test-Covnet_MO_Sigma_preds_Lower_16.npy\", preds_Lower_16)"
   ]
  },
  {
   "cell_type": "code",
   "execution_count": null,
   "metadata": {
    "collapsed": true
   },
   "outputs": [],
   "source": [
    "sigma_s = np.load(\"Sensitivity_Test-Covnet_MO_Sigma_sigma_s.npy\")\n",
    "preds_MEAN = np.load(\"Sensitivity_Test-Covnet_MO_Sigma_preds_MEAN.npy\")\n",
    "preds_Upper_84 = np.load(\"Sensitivity_Test-Covnet_MO_Sigma_preds_Upper_84.npy\")\n",
    "preds_Lower_16 = np.load(\"Sensitivity_Test-Covnet_MO_Sigma_preds_Lower_16.npy\")"
   ]
  },
  {
   "cell_type": "code",
   "execution_count": null,
   "metadata": {
    "collapsed": true
   },
   "outputs": [],
   "source": [
    "sigmas = np.array(preds_MEAN)[:,0].reshape(100)\n",
    "sigma_upper_84 = np.array(preds_Upper_84)[:,0].reshape(100)\n",
    "sigma_lower_16 = np.array(preds_Lower_16)[:,0].reshape(100)\n",
    "\n",
    "fig = pylab.figure()\n",
    "pylab.plot(sigma_s, sigmas-sigma_s, color='r', label=\"predicted value\");\n",
    "#pylab.plot(sigma_s, sigma_s, color='black', label=\"actual value\");\n",
    "pylab.axhline(y=0, color='black', linestyle='-', label=\"actual value\")\n",
    "pylab.fill_between(sigma_s, sigma_lower_16-sigma_s, sigma_upper_84-sigma_s, color='r', alpha=0.1, edgecolor='none')\n",
    "pylab.xlabel(\"Sigma\")\n",
    "pylab.ylabel(\"Prediction Deviation from Sigma\")\n",
    "ax = pylab.gca()\n",
    "vals = ax.get_yticks()\n",
    "ax.set_yticklabels(['-'+str(x) for x in vals[vals<0]] + [0] + ['+'+str(x) for x in vals[vals>0]])\n",
    "\n",
    "\n",
    "pylab.legend(bbox_to_anchor=(1, 0.185), loc=0, borderaxespad=0.)\n",
    "pylab.show();\n",
    "fig.savefig(ROOT_DIR + \"/Images/Output-Sensitivity-Results/ConvolutionalNN-MultipleOutput-ELU/Varying-Sigma/\"+\"Sigma.png\")"
   ]
  },
  {
   "cell_type": "code",
   "execution_count": null,
   "metadata": {
    "collapsed": true
   },
   "outputs": [],
   "source": [
    "jump_sigmas = np.array(preds_MEAN)[:,2].reshape(100)\n",
    "jump_sigmas_upper_84 = np.array(preds_Upper_84)[:,2].reshape(100)\n",
    "jump_sigmas_lower_16 = np.array(preds_Lower_16)[:,2].reshape(100)\n",
    "\n",
    "fig = pylab.figure()\n",
    "pylab.plot(sigma_s, jump_sigmas, color='b', label=\"predicted value\");\n",
    "pylab.axhline(y=0.07, color='black', linestyle='-', label=\"actual value\")\n",
    "pylab.fill_between(sigma_s, jump_sigmas_lower_16, jump_sigmas_upper_84, color='b', alpha=0.1, edgecolor='none')\n",
    "pylab.xlabel(\"Sigma\")\n",
    "pylab.ylabel(\"Jumps Sigma\")\n",
    "\n",
    "pylab.legend(bbox_to_anchor=(1, 0.185), loc=1, borderaxespad=0.)\n",
    "pylab.show();\n",
    "fig.savefig(ROOT_DIR + \"/Images/Output-Sensitivity-Results/ConvolutionalNN-MultipleOutput-ELU/Varying-Sigma/\"+\"Jumps_Sigma.png\")"
   ]
  },
  {
   "cell_type": "code",
   "execution_count": null,
   "metadata": {
    "collapsed": true
   },
   "outputs": [],
   "source": [
    "jump_mus = np.array(preds_MEAN)[:,3].reshape(100)\n",
    "jump_mus_upper_84 = np.array(preds_Upper_84)[:,3].reshape(100)\n",
    "jump_mus_lower_16 = np.array(preds_Lower_16)[:,3].reshape(100)\n",
    "\n",
    "fig = pylab.figure()\n",
    "pylab.plot(sigma_s, jump_mus, color='g', label=\"predicted value\");\n",
    "pylab.axhline(y=0.05, color='black', linestyle='-', label=\"actual value\")\n",
    "pylab.fill_between(sigma_s, jump_mus_lower_16, jump_mus_upper_84, color='g', alpha=0.1, edgecolor='none')\n",
    "pylab.xlabel(\"Sigma\")\n",
    "pylab.ylabel(\"Jumps Mu\")\n",
    "\n",
    "pylab.legend(bbox_to_anchor=(1, 0.185), loc=1, borderaxespad=0.)\n",
    "pylab.show();\n",
    "fig.savefig(ROOT_DIR + \"/Images/Output-Sensitivity-Results/ConvolutionalNN-MultipleOutput-ELU/Varying-Sigma/\"+\"Jumps_Mu.png\")"
   ]
  },
  {
   "cell_type": "code",
   "execution_count": null,
   "metadata": {
    "collapsed": true
   },
   "outputs": [],
   "source": [
    "lambdas = np.array(preds_MEAN)[:,4].reshape(100)\n",
    "lambdas_upper_84 = np.array(preds_Upper_84)[:,4].reshape(100)\n",
    "lambdas_lower_16 = np.array(preds_Lower_16)[:,4].reshape(100)\n",
    "\n",
    "fig = pylab.figure()\n",
    "pylab.plot(sigma_s, lambdas, color='y', label=\"predicted value\");\n",
    "pylab.axhline(y=0.02, color='black', linestyle='-', label=\"actual value\")\n",
    "pylab.fill_between(sigma_s, lambdas_lower_16, lambdas_upper_84, color='y', alpha=0.2, edgecolor='none')\n",
    "pylab.xlabel(\"Sigma\")\n",
    "pylab.ylabel(\"Lambda\")\n",
    "\n",
    "pylab.legend(bbox_to_anchor=(1, 0.185), loc=1, borderaxespad=0.)\n",
    "pylab.show();\n",
    "fig.savefig(ROOT_DIR + \"/Images/Output-Sensitivity-Results/ConvolutionalNN-MultipleOutput-ELU/Varying-Sigma/\"+\"Lambda.png\")"
   ]
  },
  {
   "cell_type": "code",
   "execution_count": null,
   "metadata": {
    "collapsed": true
   },
   "outputs": [],
   "source": [
    "mus_ = np.array(preds_MEAN)[:,1].reshape(100)\n",
    "mus_upper_84 = np.array(preds_Upper_84)[:,1].reshape(100)\n",
    "mus_lower_16 = np.array(preds_Lower_16)[:,1].reshape(100)\n",
    "\n",
    "fig = pylab.figure()\n",
    "pylab.plot(sigma_s, mus_, color='g', label=\"predicted value\");\n",
    "pylab.axhline(y=0.05, color='black', linestyle='-', label=\"actual value\")\n",
    "pylab.fill_between(sigma_s, mus_lower_16, mus_upper_84, color='g', alpha=0.1, edgecolor='none')\n",
    "pylab.xlabel(\"Sigma\")\n",
    "pylab.ylabel(\"Mu\")\n",
    "\n",
    "pylab.legend(bbox_to_anchor=(0.4085, 1), loc=1, borderaxespad=0.)\n",
    "pylab.show();\n",
    "fig.savefig(ROOT_DIR + \"/Images/Output-Sensitivity-Results/ConvolutionalNN-MultipleOutput-ELU/Varying-Sigma/\"+\"Mu.png\")"
   ]
  },
  {
   "cell_type": "markdown",
   "metadata": {},
   "source": [
    "# Sensitivity Test - Jumps Sigma"
   ]
  },
  {
   "cell_type": "code",
   "execution_count": null,
   "metadata": {
    "collapsed": true
   },
   "outputs": [],
   "source": [
    "jump_sigma_s = []\n",
    "\n",
    "preds_MEAN = []\n",
    "preds_Lower_16 = []\n",
    "preds_Upper_84 = []\n",
    "\n",
    "preds_SO_MEAN = []\n",
    "preds_SO_Upper_84 = []\n",
    "preds_SO_Lower_16 = []\n",
    "\n",
    "for j in range(100):\n",
    "    mp = test_set_model_params()\n",
    "    mp.jumps_sigma = 0.001 + j*(0.2 - 0.001)/100\n",
    "    test_set = []\n",
    "    \n",
    "    print(j)\n",
    "    \n",
    "    print(\"GENERATION...\")\n",
    "    test_set_pred = standard_convolutional_test_set(mp=mp)\n",
    "    \n",
    "    \n",
    "    print(\"PREDICTION...\\n\")\n",
    "    predictions_lambda = covnet_lambda.predict(test_set_pred)\n",
    "    predictions_jump_mu = covnet_jump_mu.predict(test_set_pred)\n",
    "    predictions_jump_sigma = covnet_jump_sigma.predict(test_set_pred)\n",
    "    predictions_sigma = covnet_sigma.predict(test_set_pred)\n",
    "    predictions_mu = covnet_mu.predict(test_set_pred)\n",
    "    \n",
    "    predictions_so = [predictions_sigma, predictions_mu, predictions_jump_sigma, predictions_jump_mu, predictions_lambda]\n",
    "    \n",
    "    preds_SO_MEAN.append(np.mean(predictions_so, axis = 1))\n",
    "    preds_SO_Upper_84.append(np.percentile(predictions_so, 84, axis = 1))\n",
    "    preds_SO_Lower_16.append(np.percentile(predictions_so, 16, axis = 1))\n",
    "    \n",
    "    jump_sigma_s.append(mp.jumps_sigma)\n",
    "    \n",
    "    predictions_elu = covnet_mo_elu.predict(test_set_pred)\n",
    "    \n",
    "    preds_MEAN.append(np.mean(predictions_elu, axis = 1))\n",
    "    preds_Upper_84.append(np.percentile(predictions_elu, 84, axis = 1))\n",
    "    preds_Lower_16.append(np.percentile(predictions_elu, 16, axis = 1))\n",
    "    \n",
    "    print(np.transpose(np.mean(predictions_so, axis = 1)))\n",
    "    print(\"   sigma,       mu,      jump_sigma,   jump_mu,    lambda\")\n",
    "    print(\"   0.1      0.05       \"+str(mp.jumps_sigma)+\"              0.05       0.02\")\n",
    "    print(np.transpose(np.mean(predictions_elu, axis = 1)))\n",
    "    \n",
    "np.save(\"Sensitivity_Test-Covnet_MO_JumpSigma_jumpsigma_s.npy\", jump_sigma_s)\n",
    "   \n",
    "np.save(\"./Sensitivity-Test-Results/Sensitivity_Test-covnet_SO-JumpSigma_preds_Upper_84.npy\", preds_SO_Upper_84)\n",
    "np.save(\"./Sensitivity-Test-Results/Sensitivity_Test-covnet_SO-JumpSigma_preds_Lower_16.npy\", preds_SO_Lower_16)\n",
    "np.save(\"./Sensitivity-Test-Results/Sensitivity_Test-covnet_SO-JumpSigma_preds_MEAN.npy\", preds_SO_MEAN)\n",
    "    \n",
    "np.save(\"./Sensitivity-Test-Results/Sensitivity_Test-covnet_MultipleO-JumpSigma_preds_Upper_84.npy\", preds_Upper_84)\n",
    "np.save(\"./Sensitivity-Test-Results/Sensitivity_Test-covnet_MultipleO-JumpSigma_preds_Lower_16.npy\", preds_Lower_16)\n",
    "np.save(\"./Sensitivity-Test-Results/Sensitivity_Test-covnet_MultipleO-JumpSigma_preds_MEAN.npy\", preds_MEAN)"
   ]
  },
  {
   "cell_type": "code",
   "execution_count": null,
   "metadata": {
    "collapsed": true
   },
   "outputs": [],
   "source": [
    "jump_sigma_s = []\n",
    "preds_MEAN = []\n",
    "preds_Lower_16 = []\n",
    "preds_Upper_84 = []\n",
    "\n",
    "for j in range(100):\n",
    "    covnet_mo_elu = covnet_multiple_output_with_ELUs()\n",
    "    covnet_mo_elu.load_weights(H5_DIR_COVNET_MULTIPLE_ELU)\n",
    "    \n",
    "    mp.jumps_sigma = 0.001 + j*(0.2 - 0.001)/100\n",
    "    test_set = []\n",
    "    \n",
    "    print(str(j) + \" out of \"+str(100))\n",
    "    \n",
    "    print(\"GENERATION...\")\n",
    "    test_set_pred = standard_convolutional_test_set()\n",
    "    \n",
    "    \n",
    "    print(\"PREDICTION...\\n\")\n",
    "    predictions_elu = covnet_mo_elu.predict(test_set_pred)\n",
    "    \n",
    "    print(np.transpose(np.mean(predictions_elu, axis = 1)))\n",
    "    print(\"   sigma,    mu,      jump_sigma,      jump_mu,    lambda\")\n",
    "    print(\"   0.1      0.05       \"+str(mp.jumps_sigma)+\"              0.05       0.02\")\n",
    "    preds_MEAN.append(np.mean(predictions_elu, axis = 1))\n",
    "    jump_sigma_s.append(mp.jumps_sigma)\n",
    "    preds_Upper_84.append(np.percentile(predictions_elu, 84, axis = 1))\n",
    "    preds_Lower_16.append(np.percentile(predictions_elu, 16, axis = 1))\n",
    "    \n",
    "np.save(\"Sensitivity_Test-Covnet_MO_JumpSigma_preds_Upper_84.npy\", preds_Upper_84)\n",
    "np.save(\"Sensitivity_Test-Covnet_MO_JumpSigma_preds_Lower_16.npy\", preds_Lower_16)\n",
    "np.save(\"Sensitivity_Test-Covnet_MO_JumpSigma_jump_sigma_s.npy\", jump_sigma_s)\n",
    "np.save(\"Sensitivity_Test-Covnet_MO_JumpSigma_preds_MEAN.npy\", preds_MEAN)"
   ]
  },
  {
   "cell_type": "code",
   "execution_count": null,
   "metadata": {
    "collapsed": true
   },
   "outputs": [],
   "source": [
    "preds_Upper_84 = np.load(\"Sensitivity_Test-Covnet_MO_JumpSigma_preds_Upper_84.npy\")\n",
    "preds_Lower_16 = np.load(\"Sensitivity_Test-Covnet_MO_JumpSigma_preds_Lower_16.npy\")\n",
    "jump_sigma_s = np.load(\"Sensitivity_Test-Covnet_MO_JumpSigma_jump_sigma_s.npy\")\n",
    "preds_MEAN = np.load(\"Sensitivity_Test-Covnet_MO_JumpSigma_preds_MEAN.npy\")"
   ]
  },
  {
   "cell_type": "code",
   "execution_count": null,
   "metadata": {
    "collapsed": true
   },
   "outputs": [],
   "source": [
    "def sensitivity_plot_w_true_value(x_values, predictions, true_value, upper_confidence_predictions, lower_confidence_predictions, \n",
    "                                  x_name, y_name, line_color = 'b', save_dir = None, legend_anchor = (1,1)):\n",
    "    fig = pylab.figure()\n",
    "    pylab.plot(x_values, predictions, color=line_color, label=\"predicted value\");\n",
    "    pylab.axhline(y=true_value, color='black', linestyle='-', label=\"actual value\")\n",
    "    pylab.fill_between(x_values, mus_lower_16, mus_upper_84, color=line_color, alpha=0.1, edgecolor='none')\n",
    "    pylab.xlabel(x_name)\n",
    "    pylab.ylabel(y_name)\n",
    "\n",
    "    pylab.legend(bbox_to_anchor=legend_anchor, loc=1, borderaxespad=0.)\n",
    "    if save_dir != None:\n",
    "        fig.savefig(save_dir)\n",
    "    \n",
    "    return fig"
   ]
  },
  {
   "cell_type": "code",
   "execution_count": null,
   "metadata": {
    "collapsed": true
   },
   "outputs": [],
   "source": [
    "mus_ = np.array(preds_MEAN)[:,1].reshape(100)\n",
    "mus_upper_84 = np.array(preds_Upper_84)[:,1].reshape(100)\n",
    "mus_lower_16 = np.array(preds_Lower_16)[:,1].reshape(100)\n",
    "save_dir = ROOT_DIR + \"/Images/Output-Sensitivity-Results/ConvolutionalNN-MultipleOutput-ELU/Varying-Jumps_sigma/\"+\"Mu.png\"\n",
    "\n",
    "sensitivity_plot_w_true_value(jump_sigma_s, mus_, test_set_model_params().jumps_sigma, mus_upper_84, mus_lower_16, \n",
    "                              \"Jumps Mu\", \"Mu\", line_color = 'g', save_dir = \"./Mu.png\")"
   ]
  },
  {
   "cell_type": "code",
   "execution_count": null,
   "metadata": {
    "collapsed": true
   },
   "outputs": [],
   "source": [
    "sigmas = np.array(preds_MEAN)[:,0].reshape(100)\n",
    "sigmas_upper_84 = np.array(preds_Upper_84)[:,0].reshape(100)\n",
    "sigmas_lower_16 = np.array(preds_Lower_16)[:,0].reshape(100)\n",
    "\n",
    "fig = pylab.figure()\n",
    "pylab.plot(jump_sigma_s, sigmas, color='r', label=\"predicted value\");\n",
    "pylab.axhline(y=0.1, color='black', linestyle='-', label=\"actual value\")\n",
    "pylab.fill_between(jump_sigma_s, sigmas_lower_16, sigmas_upper_84, color='r', alpha=0.1, edgecolor='none')\n",
    "pylab.xlabel(\"Jumps Sigma\")\n",
    "pylab.ylabel(\"Sigma\")\n",
    "\n",
    "pylab.legend(bbox_to_anchor=(1, 1), loc=0, borderaxespad=0.)\n",
    "pylab.show();\n",
    "fig.savefig(ROOT_DIR + \"/Images/Output-Sensitivity-Results/ConvolutionalNN-MultipleOutput-ELU/Varying-Jumps_sigma/\"+\"Sigma.png\")"
   ]
  },
  {
   "cell_type": "code",
   "execution_count": null,
   "metadata": {
    "collapsed": true
   },
   "outputs": [],
   "source": [
    "jump_sigmas = np.array(preds_MEAN)[:,2].reshape(100)\n",
    "jump_sigmas_upper_84 = np.array(preds_Upper_84)[:,2].reshape(100)\n",
    "jump_sigmas_lower_16 = np.array(preds_Lower_16)[:,2].reshape(100)\n",
    "\n",
    "fig = pylab.figure()\n",
    "pylab.plot(jump_sigma_s, jump_sigmas, color='b', label=\"predicted value\");\n",
    "pylab.plot(jump_sigma_s, jump_sigma_s, color='black', label=\"actual value\");\n",
    "pylab.fill_between(jump_sigma_s, jump_sigmas_lower_16, jump_sigmas_upper_84, color='b', alpha=0.1, edgecolor='none')\n",
    "pylab.xlabel(\"Jumps Sigma\")\n",
    "pylab.ylabel(\"Jumps Sigma\")\n",
    "\n",
    "pylab.legend(bbox_to_anchor=(1, 0.185), loc=1, borderaxespad=0.)\n",
    "pylab.show();\n",
    "fig.savefig(ROOT_DIR + \"/Images/Output-Sensitivity-Results/ConvolutionalNN-MultipleOutput-ELU/Varying-Jumps_sigma/\"+\"Jumps_Sigma.png\")"
   ]
  },
  {
   "cell_type": "code",
   "execution_count": null,
   "metadata": {
    "collapsed": true
   },
   "outputs": [],
   "source": [
    "jump_mus = np.array(preds_MEAN)[:,3].reshape(100)\n",
    "jump_mus_upper_84 = np.array(preds_Upper_84)[:,3].reshape(100)\n",
    "jump_mus_lower_16 = np.array(preds_Lower_16)[:,3].reshape(100)\n",
    "\n",
    "fig = pylab.figure()\n",
    "pylab.plot(jump_sigma_s, jump_mus, color='g', label=\"predicted value\");\n",
    "pylab.axhline(y=0.05, color='black', linestyle='-', label=\"actual value\")\n",
    "pylab.fill_between(jump_sigma_s, jump_mus_lower_16, jump_mus_upper_84, color='g', alpha=0.1, edgecolor='none')\n",
    "pylab.xlabel(\"Jumps Sigma\")\n",
    "pylab.ylabel(\"Jumps Mu\")\n",
    "\n",
    "pylab.legend(bbox_to_anchor=(1, 0.185), loc=1, borderaxespad=0.)\n",
    "pylab.show();\n",
    "fig.savefig(ROOT_DIR + \"/Images/Output-Sensitivity-Results/ConvolutionalNN-MultipleOutput-ELU/Varying-Jumps_sigma/\"+\"Jumps_Mu.png\")"
   ]
  },
  {
   "cell_type": "code",
   "execution_count": null,
   "metadata": {
    "collapsed": true
   },
   "outputs": [],
   "source": [
    "lambdas = np.array(preds_MEAN)[:,4].reshape(100)\n",
    "lambdas_upper_84 = np.array(preds_Upper_84)[:,4].reshape(100)\n",
    "lambdas_lower_16 = np.array(preds_Lower_16)[:,4].reshape(100)\n",
    "\n",
    "fig = pylab.figure()\n",
    "pylab.plot(jump_sigma_s, lambdas, color='y', label=\"predicted value\");\n",
    "pylab.axhline(y=0.02, color='black', linestyle='-', label=\"actual value\")\n",
    "pylab.fill_between(jump_sigma_s, lambdas_lower_16, lambdas_upper_84, color='y', alpha=0.2, edgecolor='none')\n",
    "pylab.xlabel(\"Jumps Sigma\")\n",
    "pylab.ylabel(\"Lambda\")\n",
    "\n",
    "pylab.legend(bbox_to_anchor=(1, 0.185), loc=1, borderaxespad=0.)\n",
    "pylab.show();\n",
    "fig.savefig(ROOT_DIR + \"/Images/Output-Sensitivity-Results/ConvolutionalNN-MultipleOutput-ELU/Varying-Jumps_sigma/\"+\"Lambda.png\")"
   ]
  },
  {
   "cell_type": "markdown",
   "metadata": {},
   "source": [
    "# Sensitivity Test - Jumps Mu"
   ]
  },
  {
   "cell_type": "code",
   "execution_count": null,
   "metadata": {
    "collapsed": true
   },
   "outputs": [],
   "source": [
    "jump_mu_s = []\n",
    "\n",
    "preds_MEAN = []\n",
    "preds_Lower_16 = []\n",
    "preds_Upper_84 = []\n",
    "\n",
    "preds_SO_MEAN = []\n",
    "preds_SO_Upper_84 = []\n",
    "preds_SO_Lower_16 = []\n",
    "\n",
    "for j in range(100):\n",
    "    mp = test_set_model_params()\n",
    "    mp.jumps_mu = -0.5 + j/100\n",
    "    test_set = []\n",
    "    \n",
    "    print(j)\n",
    "    \n",
    "    print(\"GENERATION...\")\n",
    "    test_set_pred = standard_convolutional_test_set(mp=mp)\n",
    "    \n",
    "    \n",
    "    print(\"PREDICTION...\\n\")\n",
    "    predictions_lambda = covnet_lambda.predict(test_set_pred)\n",
    "    predictions_jump_mu = covnet_jump_mu.predict(test_set_pred)\n",
    "    predictions_jump_sigma = covnet_jump_sigma.predict(test_set_pred)\n",
    "    predictions_sigma = covnet_sigma.predict(test_set_pred)\n",
    "    predictions_mu = covnet_mu.predict(test_set_pred)\n",
    "    \n",
    "    predictions_so = [predictions_sigma, predictions_mu, predictions_jump_sigma, predictions_jump_mu, predictions_lambda]\n",
    "    \n",
    "    preds_SO_MEAN.append(np.mean(predictions_so, axis = 1))\n",
    "    preds_SO_Upper_84.append(np.percentile(predictions_so, 84, axis = 1))\n",
    "    preds_SO_Lower_16.append(np.percentile(predictions_so, 16, axis = 1))\n",
    "    \n",
    "    jump_mu_s.append(mp.jumps_mu)\n",
    "    \n",
    "    predictions_elu = covnet_mo_elu.predict(test_set_pred)\n",
    "    \n",
    "    preds_MEAN.append(np.mean(predictions_elu, axis = 1))\n",
    "    preds_Upper_84.append(np.percentile(predictions_elu, 84, axis = 1))\n",
    "    preds_Lower_16.append(np.percentile(predictions_elu, 16, axis = 1))\n",
    "    \n",
    "    print(np.transpose(np.mean(predictions_so, axis = 1)))\n",
    "    print(\"   sigma,       mu,      jump_sigma,   jump_mu,    lambda\")\n",
    "    print(\"   0.1      0.05       0.07              \"+str(mp.jumps_mu)+\"       0.02\")\n",
    "    print(np.transpose(np.mean(predictions_elu, axis = 1)))\n",
    "    \n",
    "np.save(\"Sensitivity_Test-Covnet_MO_JumpMu_jump_mu_s.npy\", jump_mu_s)\n",
    "\n",
    "np.save(\"./Sensitivity-Test-Results/Sensitivity_Test-covnet_SO-JumpMu_preds_Upper_84.npy\", preds_SO_Upper_84)\n",
    "np.save(\"./Sensitivity-Test-Results/Sensitivity_Test-covnet_SO-JumpMu_preds_Lower_16.npy\", preds_SO_Lower_16)\n",
    "np.save(\"./Sensitivity-Test-Results/Sensitivity_Test-covnet_SO-JumpMu_preds_MEAN.npy\", preds_SO_MEAN)\n",
    "    \n",
    "np.save(\"./Sensitivity-Test-Results/Sensitivity_Test-covnet_MultipleO-JumpMu_preds_Upper_84.npy\", preds_Upper_84)\n",
    "np.save(\"./Sensitivity-Test-Results/Sensitivity_Test-covnet_MultipleO-JumpMu_preds_Lower_16.npy\", preds_Lower_16)\n",
    "np.save(\"./Sensitivity-Test-Results/Sensitivity_Test-covnet_MultipleO-JumpMu_preds_MEAN.npy\", preds_MEAN)"
   ]
  },
  {
   "cell_type": "code",
   "execution_count": null,
   "metadata": {
    "collapsed": true
   },
   "outputs": [],
   "source": [
    "jump_mu_s = []\n",
    "preds_MEAN = []\n",
    "preds_Upper_84 = []\n",
    "preds_Lower_16 = []\n",
    "\n",
    "for j in range(100):\n",
    "    covnet_mo_elu = covnet_multiple_output_with_ELUs()\n",
    "    covnet_mo_elu.load_weights(H5_DIR_COVNET_MULTIPLE_ELU)\n",
    "    \n",
    "    mp.jumps_mu = -0.5 + j/100\n",
    "    test_set = []\n",
    "    \n",
    "    print(j)\n",
    "    \n",
    "    print(\"GENERATION...\")\n",
    "    test_set_pred = standard_convolutional_test_set()\n",
    "    \n",
    "    \n",
    "    print(\"PREDICTION...\\n\")\n",
    "    predictions_elu = covnet_mo_elu.predict(test_set_pred)\n",
    "    \n",
    "    print(np.transpose(np.mean(predictions_elu, axis = 1)))\n",
    "    print(\"   sigma,    mu,      jump_sigma,      jump_mu,    lambda\")\n",
    "    print(\"   0.1      0.05       0.07              \"+str(mp.jumps_mu)+\"       0.02\")\n",
    "    preds_MEAN.append(np.mean(predictions_elu, axis = 1))\n",
    "    jump_mu_s.append(mp.jumps_mu)\n",
    "    preds_Upper_84.append(np.percentile(predictions_elu, 84, axis = 1))\n",
    "    preds_Lower_16.append(np.percentile(predictions_elu, 16, axis = 1))\n",
    "    \n",
    "np.save(\"Sensitivity_Test-Covnet_MO_JumpMu_preds_Upper_84.npy\", preds_Upper_84)\n",
    "np.save(\"Sensitivity_Test-Covnet_MO_JumpMu_preds_Lower_16.npy\", preds_Lower_16)\n",
    "    \n",
    "np.save(\"Sensitivity_Test-Covnet_MO_JumpMu_jump_mu_s.npy\", jump_mu_s)\n",
    "np.save(\"Sensitivity_Test-Covnet_MO_JumpMu_preds_MEAN.npy\", preds_MEAN)"
   ]
  },
  {
   "cell_type": "code",
   "execution_count": null,
   "metadata": {
    "collapsed": true
   },
   "outputs": [],
   "source": [
    "preds_Upper_84 = np.load(\"Sensitivity_Test-Covnet_MO_JumpMu_preds_Upper_84.npy\")\n",
    "preds_Lower_16 = np.load(\"Sensitivity_Test-Covnet_MO_JumpMu_preds_Lower_16.npy\")\n",
    "    \n",
    "jump_mu_s = np.load(\"Sensitivity_Test-Covnet_MO_JumpMu_jump_mu_s.npy\")\n",
    "preds_MEAN = np.load(\"Sensitivity_Test-Covnet_MO_JumpMu_preds_MEAN.npy\")"
   ]
  },
  {
   "cell_type": "code",
   "execution_count": null,
   "metadata": {
    "collapsed": true
   },
   "outputs": [],
   "source": [
    "mus_ = np.array(preds_MEAN)[:,1].reshape(100)\n",
    "mus_upper_84 = np.array(preds_Upper_84)[:,1].reshape(100)\n",
    "mus_lower_16 = np.array(preds_Lower_16)[:,1].reshape(100)\n",
    "\n",
    "fig = pylab.figure()\n",
    "pylab.plot(jump_mu_s, mus_, color='g', label=\"predicted value\");\n",
    "pylab.axhline(y=0.05, color='black', linestyle='-', label=\"actual value\")\n",
    "pylab.fill_between(jump_mu_s, mus_lower_16, mus_upper_84, color='g', alpha=0.1, edgecolor='none')\n",
    "pylab.xlabel(\"Jumps Mu\")\n",
    "pylab.ylabel(\"Mu\")\n",
    "pylab.xlim(-0.5, 0.5)\n",
    "\n",
    "pylab.legend(bbox_to_anchor=(1, 0.19), loc=1, borderaxespad=0.)\n",
    "pylab.show();\n",
    "fig.savefig(ROOT_DIR + \"/Images/Output-Sensitivity-Results/ConvolutionalNN-MultipleOutput-ELU/Varying-Jumps_mu/\"+\"Mu.png\")"
   ]
  },
  {
   "cell_type": "code",
   "execution_count": null,
   "metadata": {
    "collapsed": true
   },
   "outputs": [],
   "source": [
    "sigmas = np.array(preds_MEAN)[:,0].reshape(100)\n",
    "sigmas_upper_84 = np.array(preds_Upper_84)[:,0].reshape(100)\n",
    "sigmas_lower_16 = np.array(preds_Lower_16)[:,0].reshape(100)\n",
    "\n",
    "fig = pylab.figure()\n",
    "pylab.plot(jump_mu_s, sigmas, color='r', label=\"predicted value\");\n",
    "pylab.axhline(y=0.1, color='black', linestyle='-', label=\"actual value\")\n",
    "pylab.fill_between(jump_mu_s, sigmas_lower_16, sigmas_upper_84, color='r', alpha=0.1, edgecolor='none')\n",
    "pylab.xlabel(\"Jumps Mu\")\n",
    "pylab.ylabel(\"Sigma\")\n",
    "pylab.xlim(-0.5, 0.5)\n",
    "\n",
    "pylab.legend(bbox_to_anchor=(1, 0.185), loc=0, borderaxespad=0.)\n",
    "pylab.show();\n",
    "fig.savefig(ROOT_DIR + \"/Images/Output-Sensitivity-Results/ConvolutionalNN-MultipleOutput-ELU/Varying-Jumps_mu/\"+\"Sigma.png\")"
   ]
  },
  {
   "cell_type": "code",
   "execution_count": null,
   "metadata": {
    "collapsed": true
   },
   "outputs": [],
   "source": [
    "jump_sigmas = np.array(preds_MEAN)[:,2].reshape(100)\n",
    "jump_sigmas_upper_84 = np.array(preds_Upper_84)[:,2].reshape(100)\n",
    "jump_sigmas_lower_16 = np.array(preds_Lower_16)[:,2].reshape(100)\n",
    "\n",
    "fig = pylab.figure()\n",
    "pylab.plot(jump_mu_s, jump_sigmas, color='b', label=\"predicted value\");\n",
    "pylab.axhline(y=0.07, color='black', linestyle='-', label=\"actual value\")\n",
    "pylab.fill_between(jump_mu_s, jump_sigmas_lower_16, jump_sigmas_upper_84, color='b', alpha=0.1, edgecolor='none')\n",
    "pylab.xlabel(\"Jumps Mu\")\n",
    "pylab.ylabel(\"Jumps Sigma\")\n",
    "pylab.xlim(-0.5, 0.5)\n",
    "\n",
    "pylab.legend(bbox_to_anchor=(1, 1), loc=1, borderaxespad=0.)\n",
    "pylab.show();\n",
    "fig.savefig(ROOT_DIR + \"/Images/Output-Sensitivity-Results/ConvolutionalNN-MultipleOutput-ELU/Varying-Jumps_mu/\"+\"Jumps_Sigma.png\")"
   ]
  },
  {
   "cell_type": "code",
   "execution_count": null,
   "metadata": {
    "collapsed": true
   },
   "outputs": [],
   "source": [
    "jump_mus = np.array(preds_MEAN)[:,3].reshape(100)\n",
    "jump_mus_upper_84 = np.array(preds_Upper_84)[:,3].reshape(100)\n",
    "jump_mus_lower_16 = np.array(preds_Lower_16)[:,3].reshape(100)\n",
    "\n",
    "fig = pylab.figure()\n",
    "pylab.plot(jump_mu_s, jump_mus-jump_mu_s, color='g', label=\"predicted value\");\n",
    "pylab.axhline(y=0, color='black', linestyle='-', label=\"actual value\")\n",
    "\n",
    "#pylab.plot(jump_mu_s, jump_mu_s, color='black', label=\"actual value\");\n",
    "pylab.fill_between(jump_mu_s, jump_mus_lower_16-jump_mu_s, jump_mus_upper_84-jump_mu_s, color='g', alpha=0.1, edgecolor='none')\n",
    "pylab.xlabel(\"Jumps Mu\")\n",
    "pylab.ylabel(\"Prediction Deviation from Jumps Mu\")\n",
    "pylab.xlim(-0.5, 0.5)\n",
    "ax = pylab.gca()\n",
    "vals = ax.get_yticks()\n",
    "ax.set_yticklabels(['-'+str(x) for x in vals[vals<0]] + [0] + ['+'+str(x) for x in vals[vals>0]])\n",
    "\n",
    "\n",
    "pylab.legend(bbox_to_anchor=(1, 0.185), loc=1, borderaxespad=0.)\n",
    "pylab.show();\n",
    "fig.savefig(ROOT_DIR + \"/Images/Output-Sensitivity-Results/ConvolutionalNN-MultipleOutput-ELU/Varying-Jumps_mu/\"+\"Jumps_Mu.png\")"
   ]
  },
  {
   "cell_type": "code",
   "execution_count": null,
   "metadata": {
    "collapsed": true
   },
   "outputs": [],
   "source": [
    "lambdas = np.array(preds_MEAN)[:,4].reshape(100)\n",
    "lambdas_upper_84 = np.array(preds_Upper_84)[:,4].reshape(100)\n",
    "lambdas_lower_16 = np.array(preds_Lower_16)[:,4].reshape(100)\n",
    "\n",
    "fig = pylab.figure()\n",
    "pylab.plot(jump_mu_s, lambdas, color='y', label=\"predicted value\");\n",
    "pylab.axhline(y=0.02, color='black', linestyle='-', label=\"actual value\")\n",
    "pylab.fill_between(jump_mu_s, lambdas_lower_16, lambdas_upper_84, color='y', alpha=0.2, edgecolor='none')\n",
    "pylab.xlabel(\"Jumps Mu\")\n",
    "pylab.ylabel(\"Lambda\")\n",
    "pylab.xlim(-0.5, 0.5)\n",
    "\n",
    "pylab.legend(bbox_to_anchor=(1, 0.185), loc=1, borderaxespad=0.)\n",
    "pylab.show();\n",
    "fig.savefig(ROOT_DIR + \"/Images/Output-Sensitivity-Results/ConvolutionalNN-MultipleOutput-ELU/Varying-Jumps_mu/\"+\"Lambda.png\")"
   ]
  },
  {
   "cell_type": "markdown",
   "metadata": {},
   "source": [
    "# Sensitivity Test - Lambda"
   ]
  },
  {
   "cell_type": "code",
   "execution_count": null,
   "metadata": {
    "collapsed": true
   },
   "outputs": [],
   "source": [
    "jump_lambda_s = []\n",
    "\n",
    "preds_MEAN = []\n",
    "preds_Lower_16 = []\n",
    "preds_Upper_84 = []\n",
    "\n",
    "preds_SO_MEAN = []\n",
    "preds_SO_Upper_84 = []\n",
    "preds_SO_Lower_16 = []\n",
    "\n",
    "for j in range(100):\n",
    "    mp = test_set_model_params()\n",
    "    mp.lamda = 0.0001 + j*(0.025 - 0.0001)/100\n",
    "    test_set = []\n",
    "    \n",
    "    print(j)\n",
    "    \n",
    "    print(\"GENERATION...\")\n",
    "    test_set_pred = standard_convolutional_test_set(mp=mp)\n",
    "    \n",
    "    \n",
    "    print(\"PREDICTION...\\n\")\n",
    "    predictions_lambda = covnet_lambda.predict(test_set_pred)\n",
    "    predictions_jump_mu = covnet_jump_mu.predict(test_set_pred)\n",
    "    predictions_jump_sigma = covnet_jump_sigma.predict(test_set_pred)\n",
    "    predictions_sigma = covnet_sigma.predict(test_set_pred)\n",
    "    predictions_mu = covnet_mu.predict(test_set_pred)\n",
    "    \n",
    "    predictions_so = [predictions_sigma, predictions_mu, predictions_jump_sigma, predictions_jump_mu, predictions_lambda]\n",
    "    \n",
    "    preds_SO_MEAN.append(np.mean(predictions_so, axis = 1))\n",
    "    preds_SO_Upper_84.append(np.percentile(predictions_so, 84, axis = 1))\n",
    "    preds_SO_Lower_16.append(np.percentile(predictions_so, 16, axis = 1))\n",
    "    \n",
    "    jump_mu_s.append(mp.jumps_mu)\n",
    "    \n",
    "    predictions_elu = covnet_mo_elu.predict(test_set_pred)\n",
    "    \n",
    "    preds_MEAN.append(np.mean(predictions_elu, axis = 1))\n",
    "    preds_Upper_84.append(np.percentile(predictions_elu, 84, axis = 1))\n",
    "    preds_Lower_16.append(np.percentile(predictions_elu, 16, axis = 1))\n",
    "    \n",
    "    print(np.transpose(np.mean(predictions_so, axis = 1)))\n",
    "    print(\"   sigma,       mu,      jump_sigma,   jump_mu,    lambda\")\n",
    "    print(\"   0.1      0.05       0.07              0.05       \"+str(mp.lamda))\n",
    "    print(np.transpose(np.mean(predictions_elu, axis = 1)))\n",
    "    \n",
    "np.save(\"Sensitivity_Test-Covnet_MO_Lambda_jump_lambda_s.npy\", jump_lambda_s)\n",
    "\n",
    "\n",
    "np.save(\"./Sensitivity-Test-Results/Sensitivity_Test-covnet_SO-Lambda_preds_Upper_84.npy\", preds_SO_Upper_84)\n",
    "np.save(\"./Sensitivity-Test-Results/Sensitivity_Test-covnet_SO-Lambda_preds_Lower_16.npy\", preds_SO_Lower_16)\n",
    "np.save(\"./Sensitivity-Test-Results/Sensitivity_Test-covnet_SO-Lambda_preds_MEAN.npy\", preds_SO_MEAN)\n",
    "    \n",
    "np.save(\"./Sensitivity-Test-Results/Sensitivity_Test-covnet_MultipleO-Lambda_preds_Upper_84.npy\", preds_Upper_84)\n",
    "np.save(\"./Sensitivity-Test-Results/Sensitivity_Test-covnet_MultipleO-Lambda_preds_Lower_16.npy\", preds_Lower_16)\n",
    "np.save(\"./Sensitivity-Test-Results/Sensitivity_Test-covnet_MultipleO-Lambda_preds_MEAN.npy\", preds_MEAN)"
   ]
  },
  {
   "cell_type": "code",
   "execution_count": null,
   "metadata": {
    "collapsed": true
   },
   "outputs": [],
   "source": [
    "jump_lambda_s = []\n",
    "preds_MEAN = []\n",
    "preds_Upper_84 = []\n",
    "preds_Lower_16 = []\n",
    "\n",
    "for j in range(100):\n",
    "    covnet_mo_elu = covnet_multiple_output_with_ELUs()\n",
    "    covnet_mo_elu.load_weights(H5_DIR_COVNET_MULTIPLE_ELU)\n",
    "    \n",
    "    mp.lamda = 0.0001 + j*(0.025 - 0.0001)/100\n",
    "    test_set = []\n",
    "    \n",
    "    print(j)\n",
    "    \n",
    "    print(\"GENERATION...\")\n",
    "    test_set_pred = standard_convolutional_test_set()\n",
    "    \n",
    "    \n",
    "    print(\"PREDICTION...\\n\")\n",
    "    predictions_elu = covnet_mo_elu.predict(test_set_pred)\n",
    "    \n",
    "    print(np.transpose(np.mean(predictions_elu, axis = 1)))\n",
    "    print(\"   sigma,    mu,      jump_sigma,      jump_mu,    lambda\")\n",
    "    print(\"   0.1      0.05       0.07              0.05       \"+str(mp.lamda))\n",
    "    preds_MEAN.append(np.mean(predictions_elu, axis = 1))\n",
    "    jump_lambda_s.append(mp.lamda)\n",
    "    preds_Upper_84.append(np.percentile(predictions_elu, 84, axis = 1))\n",
    "    preds_Lower_16.append(np.percentile(predictions_elu, 16, axis = 1))\n",
    "    \n",
    "np.save(\"Sensitivity_Test-Covnet_MO_Lambda_preds_Upper_84.npy\", preds_Upper_84)\n",
    "np.save(\"Sensitivity_Test-Covnet_MO_Lambda_preds_Lower_16.npy\", preds_Lower_16)\n",
    "    \n",
    "np.save(\"Sensitivity_Test-Covnet_MO_Lambda_jump_lambda_s.npy\", jump_lambda_s)\n",
    "np.save(\"Sensitivity_Test-Covnet_MO_Lambda_preds_MEAN.npy\", preds_MEAN)"
   ]
  },
  {
   "cell_type": "code",
   "execution_count": null,
   "metadata": {
    "collapsed": true
   },
   "outputs": [],
   "source": [
    "preds_Upper_84 = np.load(\"Sensitivity_Test-Covnet_MO_Lambda_preds_Upper_84.npy\")\n",
    "preds_Lower_16 = np.load(\"Sensitivity_Test-Covnet_MO_Lambda_preds_Lower_16.npy\")\n",
    "    \n",
    "jump_lambda_s = np.load(\"Sensitivity_Test-Covnet_MO_Lambda_jump_lambda_s.npy\")\n",
    "preds_MEAN = np.load(\"Sensitivity_Test-Covnet_MO_Lambda_preds_MEAN.npy\")"
   ]
  },
  {
   "cell_type": "code",
   "execution_count": null,
   "metadata": {
    "collapsed": true
   },
   "outputs": [],
   "source": [
    "mus_ = np.array(preds_MEAN)[:,1].reshape(100)\n",
    "mus_upper_84 = np.array(preds_Upper_84)[:,1].reshape(100)\n",
    "mus_lower_16 = np.array(preds_Lower_16)[:,1].reshape(100)\n",
    "\n",
    "fig = pylab.figure()\n",
    "pylab.plot(jump_lambda_s, mus_, color='g', label=\"predicted value\");\n",
    "pylab.axhline(y=0.05, color='black', linestyle='-', label=\"actual value\")\n",
    "pylab.fill_between(jump_lambda_s, mus_lower_16, mus_upper_84, color='g', alpha=0.1, edgecolor='none')\n",
    "pylab.xlabel(\"Lambda\")\n",
    "pylab.ylabel(\"Mu\")\n",
    "\n",
    "pylab.legend(bbox_to_anchor=(1, 0.19), loc=1, borderaxespad=0.)\n",
    "pylab.show();\n",
    "fig.savefig(ROOT_DIR + \"/Images/Output-Sensitivity-Results/ConvolutionalNN-MultipleOutput-ELU/Varying-Lambda/\"+\"Mu.png\")"
   ]
  },
  {
   "cell_type": "code",
   "execution_count": null,
   "metadata": {
    "collapsed": true
   },
   "outputs": [],
   "source": [
    "sigmas = np.array(preds_MEAN)[:,0].reshape(100)\n",
    "sigmas_upper_84 = np.array(preds_Upper_84)[:,0].reshape(100)\n",
    "sigmas_lower_16 = np.array(preds_Lower_16)[:,0].reshape(100)\n",
    "\n",
    "fig = pylab.figure()\n",
    "pylab.plot(jump_lambda_s, sigmas, color='r', label=\"predicted value\");\n",
    "pylab.axhline(y=0.1, color='black', linestyle='-', label=\"actual value\")\n",
    "pylab.fill_between(jump_lambda_s, sigmas_lower_16, sigmas_upper_84, color='r', alpha=0.1, edgecolor='none')\n",
    "pylab.xlabel(\"Lambda\")\n",
    "pylab.ylabel(\"Sigma\")\n",
    "\n",
    "pylab.legend(bbox_to_anchor=(1, 0.185), loc=0, borderaxespad=0.)\n",
    "pylab.show();\n",
    "fig.savefig(ROOT_DIR + \"/Images/Output-Sensitivity-Results/ConvolutionalNN-MultipleOutput-ELU/Varying-Lambda/\"+\"Sigma.png\")"
   ]
  },
  {
   "cell_type": "code",
   "execution_count": null,
   "metadata": {
    "collapsed": true
   },
   "outputs": [],
   "source": [
    "jump_sigmas = np.array(preds_MEAN)[:,2].reshape(100)\n",
    "jump_sigmas_upper_84 = np.array(preds_Upper_84)[:,2].reshape(100)\n",
    "jump_sigmas_lower_16 = np.array(preds_Lower_16)[:,2].reshape(100)\n",
    "\n",
    "fig = pylab.figure()\n",
    "pylab.plot(jump_lambda_s, jump_sigmas, color='b', label=\"predicted value\");\n",
    "pylab.axhline(y=0.07, color='black', linestyle='-', label=\"actual value\")\n",
    "pylab.fill_between(jump_lambda_s, jump_sigmas_lower_16, jump_sigmas_upper_84, color='b', alpha=0.1, edgecolor='none')\n",
    "pylab.xlabel(\"Lambda\")\n",
    "pylab.ylabel(\"Jumps Sigma\")\n",
    "\n",
    "pylab.legend(bbox_to_anchor=(1, 0.185), loc=1, borderaxespad=0.)\n",
    "pylab.show();\n",
    "fig.savefig(ROOT_DIR + \"/Images/Output-Sensitivity-Results/ConvolutionalNN-MultipleOutput-ELU/Varying-Lambda/\"+\"Jumps_Sigma.png\")"
   ]
  },
  {
   "cell_type": "code",
   "execution_count": null,
   "metadata": {
    "collapsed": true
   },
   "outputs": [],
   "source": [
    "jump_mus = np.array(preds_MEAN)[:,3].reshape(100)\n",
    "jump_mus_upper_84 = np.array(preds_Upper_84)[:,3].reshape(100)\n",
    "jump_mus_lower_16 = np.array(preds_Lower_16)[:,3].reshape(100)\n",
    "\n",
    "fig = pylab.figure()\n",
    "pylab.plot(jump_lambda_s, jump_mus, color='g', label=\"predicted value\");\n",
    "pylab.axhline(y=0.05, color='black', linestyle='-', label=\"actual value\")\n",
    "pylab.fill_between(jump_lambda_s, jump_mus_lower_16, jump_mus_upper_84, color='g', alpha=0.1, edgecolor='none')\n",
    "pylab.xlabel(\"Lambda\")\n",
    "pylab.ylabel(\"Jumps Mu\")\n",
    "\n",
    "pylab.legend(bbox_to_anchor=(1, 0.185), loc=1, borderaxespad=0.)\n",
    "pylab.show();\n",
    "fig.savefig(ROOT_DIR + \"/Images/Output-Sensitivity-Results/ConvolutionalNN-MultipleOutput-ELU/Varying-Lambda/\"+\"Jumps_Mu.png\")"
   ]
  },
  {
   "cell_type": "code",
   "execution_count": null,
   "metadata": {
    "collapsed": true
   },
   "outputs": [],
   "source": [
    "lambdas = np.array(preds_MEAN)[:,4].reshape(100)\n",
    "lambdas_upper_84 = np.array(preds_Upper_84)[:,4].reshape(100)\n",
    "lambdas_lower_16 = np.array(preds_Lower_16)[:,4].reshape(100)\n",
    "\n",
    "fig = pylab.figure()\n",
    "pylab.plot(jump_lambda_s, lambdas, color='y', label=\"predicted value\");\n",
    "pylab.plot(jump_lambda_s, jump_lambda_s, color='black', label=\"actual value\");\n",
    "pylab.fill_between(jump_lambda_s, lambdas_lower_16, lambdas_upper_84, color='y', alpha=0.2, edgecolor='none')\n",
    "pylab.xlabel(\"Lambda\")\n",
    "pylab.ylabel(\"Lambda\")\n",
    "\n",
    "pylab.legend(bbox_to_anchor=(1, 0.185), loc=1, borderaxespad=0.)\n",
    "pylab.show();\n",
    "fig.savefig(ROOT_DIR + \"/Images/Output-Sensitivity-Results/ConvolutionalNN-MultipleOutput-ELU/Varying-Lambda/\"+\"Lambda.png\")"
   ]
  },
  {
   "cell_type": "markdown",
   "metadata": {},
   "source": [
    "# Sensitivity Tests"
   ]
  },
  {
   "cell_type": "markdown",
   "metadata": {},
   "source": [
    "### Sensitivity Test: Mu"
   ]
  },
  {
   "cell_type": "code",
   "execution_count": null,
   "metadata": {
    "collapsed": true
   },
   "outputs": [],
   "source": [
    "mu_s = []\n",
    "preds_MEAN = []\n",
    "preds_Lower_16 = []\n",
    "preds_Upper_84 = []\n",
    "\n",
    "\n",
    "preds_SINGLE_LAMBDA_MEAN = []\n",
    "preds_SINGLE_LAMBDA_Lower_16 = []\n",
    "preds_SINGLE_LAMBDA_Upper_84 = []"
   ]
  },
  {
   "cell_type": "code",
   "execution_count": null,
   "metadata": {
    "collapsed": true
   },
   "outputs": [],
   "source": [
    "for j in range(100):\n",
    "    covnet_lambda = covnet_single_lambda()\n",
    "    covnet_lambda.load_weights(H5_DIR_COVNET_LAMBDA)\n",
    "    \n",
    "    mp.gbm_mu = -1 + float(j)/50\n",
    "    test_set = []\n",
    "    \n",
    "    print(j)\n",
    "    \n",
    "    print(\"GENERATION...\")\n",
    "    test_set_pred = standard_convolutional_test_set()\n",
    "    \n",
    "    \n",
    "    print(\"PREDICTION...\\n\")\n",
    "    predictions_elu = covnet_lambda.predict(test_set_pred)\n",
    "    \n",
    "    #predictions_lambda = covnet_lambda.predict(test_set_pred)\n",
    "    \n",
    "    print(np.transpose(np.mean(predictions_elu, axis = 1)))\n",
    "    print(\"   sigma,       mu,      jump_sigma,   jump_mu,    lambda\")\n",
    "    print(\"    0.1         \"+str(mp.gbm_mu)+\"     0.07              0.05       0.02\")\n",
    "    \n",
    "    preds_MEAN.append(np.mean(predictions_elu, axis = 1))\n",
    "    mu_s.append(mp.gbm_mu)\n",
    "    preds_Upper_84.append(np.percentile(predictions_elu, 84, axis = 1))\n",
    "    preds_Lower_16.append(np.percentile(predictions_elu, 16, axis = 1))\n",
    "    \n",
    "np.save(\"Sensitivity_Test-covnet_lambda_Mu_preds_Upper_84.npy\", preds_Upper_84)\n",
    "np.save(\"Sensitivity_Test-covnet_lambda_Mu_preds_Lower_16.npy\", preds_Lower_16)\n",
    "    \n",
    "np.save(\"Sensitivity_Test-covnet_lambda_Mu_mu_s.npy\", mu_s)\n",
    "np.save(\"Sensitivity_Test-covnet_lambda_Mu_preds_MEAN.npy\", preds_MEAN)\n",
    "\n",
    "#np.save(\"Sensitivity_Test-preds_VaryingMu_SINGLE_LAMBDA_MEAN.npy\", preds_SINGLE_LAMBDA_MEAN)\n",
    "#np.save(\"Sensitivity_Test-preds_VaryingMu_preds_SINGLE_LAMBDA_Lower_16\", preds_SINGLE_LAMBDA_Lower_16)\n",
    "#np.save(\"Sensitivity_Test-preds_VaryingMu_preds_SINGLE_LAMBDA_Upper_84\", preds_SINGLE_LAMBDA_Upper_84)"
   ]
  },
  {
   "cell_type": "code",
   "execution_count": null,
   "metadata": {
    "collapsed": true
   },
   "outputs": [],
   "source": [
    "preds_Upper_84 = np.load(\"Sensitivity_Test-covnet_lambda_Mu_preds_Upper_84.npy\")\n",
    "preds_Lower_16 = np.load(\"Sensitivity_Test-covnet_lambda_Mu_preds_Lower_16.npy\")\n",
    "    \n",
    "mu_s = np.load(\"Sensitivity_Test-covnet_lambda_Mu_mu_s.npy\")\n",
    "preds_MEAN = np.load(\"Sensitivity_Test-covnet_lambda_Mu_preds_MEAN.npy\")"
   ]
  },
  {
   "cell_type": "code",
   "execution_count": null,
   "metadata": {
    "collapsed": true
   },
   "outputs": [],
   "source": [
    "sigmas = np.array(preds_MEAN)[:,0].reshape(100)\n",
    "sigma_upper_84 = np.array(preds_Upper_84)[:,0].reshape(100)\n",
    "sigma_lower_16 = np.array(preds_Lower_16)[:,0].reshape(100)"
   ]
  },
  {
   "cell_type": "code",
   "execution_count": null,
   "metadata": {
    "collapsed": true
   },
   "outputs": [],
   "source": [
    "fig = pylab.figure()\n",
    "pylab.plot(mu_s, sigmas, color='r', label=\"predicted value\");\n",
    "pylab.axhline(y=0.1, color='black', linestyle='-', label=\"actual value\")\n",
    "pylab.fill_between(mu_s, sigma_lower_16, sigma_upper_84, color='r', alpha=0.1, edgecolor='none')\n",
    "pylab.xlabel(\"Mu\")\n",
    "pylab.ylabel(\"Sigma\")\n",
    "\n",
    "pylab.legend(bbox_to_anchor=(1, 1), loc=1, borderaxespad=0.)\n",
    "pylab.show();\n",
    "fig.savefig(ROOT_DIR + \"/Images/Output-Sensitivity-Results/ConvolutionalNN-MultipleOutput-ELU/Varying-Mu/\"+\"sigma.png\")"
   ]
  },
  {
   "cell_type": "code",
   "execution_count": null,
   "metadata": {
    "collapsed": true
   },
   "outputs": [],
   "source": [
    "jump_sigmas = np.array(preds_MEAN)[:,2].reshape(100)\n",
    "jump_sigmas_upper_84 = np.array(preds_Upper_84)[:,2].reshape(100)\n",
    "jump_sigmas_lower_16 = np.array(preds_Lower_16)[:,2].reshape(100)"
   ]
  },
  {
   "cell_type": "code",
   "execution_count": null,
   "metadata": {
    "collapsed": true
   },
   "outputs": [],
   "source": [
    "plt.plot(mu_s, jump_sigmas, color='b', label=\"predicted value\");\n",
    "plt.axhline(y=0.07, color='black', linestyle='-', label=\"actual value\")\n",
    "plt.fill_between(mu_s, jump_sigmas_lower_16, jump_sigmas_upper_84, color='b', alpha=0.1, edgecolor='none')\n",
    "plt.xlabel(\"Mu\")\n",
    "plt.ylabel(\"Jumps Sigma\")\n",
    "\n",
    "plt.legend(bbox_to_anchor=(1, 0.185), loc=1, borderaxespad=0.)\n",
    "plt.show();"
   ]
  },
  {
   "cell_type": "code",
   "execution_count": null,
   "metadata": {
    "collapsed": true
   },
   "outputs": [],
   "source": [
    "jump_mus = np.array(preds_MEAN)[:,3].reshape(100)\n",
    "jump_mus_upper_84 = np.array(preds_Upper_84)[:,3].reshape(100)\n",
    "jump_mus_lower_16 = np.array(preds_Lower_16)[:,3].reshape(100)"
   ]
  },
  {
   "cell_type": "code",
   "execution_count": null,
   "metadata": {
    "collapsed": true
   },
   "outputs": [],
   "source": [
    "plt.plot(mu_s, jump_mus, color='g', label=\"predicted value\");\n",
    "plt.axhline(y=0.05, color='black', linestyle='-', label=\"actual value\")\n",
    "plt.fill_between(mu_s, jump_mus_lower_16, jump_mus_upper_84, color='g', alpha=0.1, edgecolor='none')\n",
    "plt.xlabel(\"Mu\")\n",
    "plt.ylabel(\"Jumps Mu\")\n",
    "\n",
    "plt.legend(bbox_to_anchor=(1, 1), loc=1, borderaxespad=0.)\n",
    "plt.show();"
   ]
  },
  {
   "cell_type": "code",
   "execution_count": null,
   "metadata": {
    "collapsed": true
   },
   "outputs": [],
   "source": [
    "lambdas = np.array(preds_MEAN)[:,0].reshape(100)\n",
    "lambdas_upper_84 = np.array(preds_Upper_84)[:,0].reshape(100)\n",
    "lambdas_lower_16 = np.array(preds_Lower_16)[:,0].reshape(100)"
   ]
  },
  {
   "cell_type": "code",
   "execution_count": null,
   "metadata": {
    "collapsed": true
   },
   "outputs": [],
   "source": [
    "lambdas_upper_84"
   ]
  },
  {
   "cell_type": "code",
   "execution_count": null,
   "metadata": {
    "collapsed": true
   },
   "outputs": [],
   "source": [
    "plt.plot(mu_s, lambdas, color='y', label=\"predicted value\");\n",
    "plt.axhline(y=0.02, color='black', linestyle='-', label=\"actual value\")\n",
    "plt.fill_between(mu_s, lambdas_lower_16, lambdas_upper_84, color='b', alpha=1, edgecolor='none')\n",
    "plt.xlabel(\"Mu\")\n",
    "plt.ylabel(\"Lambda\")\n",
    "\n",
    "plt.legend(bbox_to_anchor=(1, 1), loc=1, borderaxespad=0.)\n",
    "plt.show();"
   ]
  },
  {
   "cell_type": "code",
   "execution_count": null,
   "metadata": {
    "collapsed": true
   },
   "outputs": [],
   "source": [
    "mus_ = np.array(preds_MEAN)[:,1].reshape(100)\n",
    "mus_upper_84 = np.array(preds_Upper_84)[:,1].reshape(100)\n",
    "mus_lower_16 = np.array(preds_Lower_16)[:,1].reshape(100)"
   ]
  },
  {
   "cell_type": "code",
   "execution_count": null,
   "metadata": {
    "collapsed": true
   },
   "outputs": [],
   "source": [
    "plt.plot(mu_s, mus_, color='g', label=\"predicted value\");\n",
    "plt.plot(mu_s, mu_s, color='black', label=\"actual value\");\n",
    "plt.fill_between(mu_s, mus_lower_16, mus_upper_84, color='g', alpha=0.1, edgecolor='none')\n",
    "plt.xlabel(\"Mu\")\n",
    "plt.ylabel(\"Mu\")\n",
    "\n",
    "plt.legend(bbox_to_anchor=(1, 0.185), loc=1, borderaxespad=0.)\n",
    "plt.show();"
   ]
  },
  {
   "cell_type": "markdown",
   "metadata": {},
   "source": [
    "# Sensitivity Test - Sigma"
   ]
  },
  {
   "cell_type": "code",
   "execution_count": null,
   "metadata": {
    "collapsed": true
   },
   "outputs": [],
   "source": [
    "sigma_s = []\n",
    "preds_MEAN = []\n",
    "preds_Lower_16 = []\n",
    "preds_Upper_84 = []\n",
    "\n",
    "for j in range(100):\n",
    "    covnet_lambda = covnet_multiple_output_with_ELUs()\n",
    "    covnet_lambda.load_weights(H5_DIR_COVNET_MULTIPLE_ELU)\n",
    "    \n",
    "    mp.all_sigma = 0.001 + j*(0.2 - 0.001)/100\n",
    "    test_set = []\n",
    "    \n",
    "    print(j)\n",
    "    \n",
    "    print(\"GENERATION...\")\n",
    "    test_set_pred = standard_convolutional_test_set()\n",
    "    \n",
    "    print(\"PREDICTION...\\n\")\n",
    "    predictions_elu = covnet_lambda.predict(test_set_pred)\n",
    "    \n",
    "    print(np.transpose(np.mean(predictions_elu, axis = 1)))\n",
    "    print(\"   sigma,    mu,      jump_sigma,      jump_mu,    lambda\")\n",
    "    print(\"   \"+str(mp.all_sigma)+\"      0.05       0.07              0.05       0.02\")\n",
    "    print(np.mean(predictions_elu, axis = 1)+np.std(predictions_elu, axis = 1))\n",
    "    print(np.percentile(predictions_elu, 84, axis = 1))\n",
    "    preds_MEAN.append(np.mean(predictions_elu, axis = 1))\n",
    "    preds_Upper_84.append(np.percentile(predictions_elu, 84, axis = 1))\n",
    "    preds_Lower_16.append(np.percentile(predictions_elu, 16, axis = 1))\n",
    "    sigma_s.append(mp.all_sigma)\n",
    "    \n",
    "np.save(\"Sensitivity_Test-covnet_lambda_Sigma_sigma_s.npy\", sigma_s)\n",
    "np.save(\"Sensitivity_Test-covnet_lambda_Sigma_preds_MEAN.npy\", preds_MEAN)\n",
    "np.save(\"Sensitivity_Test-covnet_lambda_Sigma_preds_Upper_84.npy\", preds_Upper_84)\n",
    "np.save(\"Sensitivity_Test-covnet_lambda_Sigma_preds_Lower_16.npy\", preds_Lower_16)"
   ]
  },
  {
   "cell_type": "code",
   "execution_count": null,
   "metadata": {
    "collapsed": true
   },
   "outputs": [],
   "source": []
  },
  {
   "cell_type": "code",
   "execution_count": null,
   "metadata": {
    "collapsed": true
   },
   "outputs": [],
   "source": [
    "sigmas = np.array(preds_MEAN)[:,0].reshape(100)\n",
    "sigma_upper_84 = np.array(preds_Upper_84)[:,0].reshape(100)\n",
    "sigma_lower_16 = np.array(preds_Lower_16)[:,0].reshape(100)\n",
    "\n",
    "plt.plot(sigma_s, sigmas, color='r', label=\"predicted value\");\n",
    "plt.plot(sigma_s, sigma_s, color='black', label=\"actual value\");\n",
    "plt.fill_between(sigma_s, sigma_lower_16, sigma_upper_84, color='r', alpha=0.1, edgecolor='none')\n",
    "plt.xlabel(\"Sigma\")\n",
    "plt.ylabel(\"Sigma\")\n",
    "\n",
    "plt.legend(bbox_to_anchor=(1, 0.185), loc=0, borderaxespad=0.)\n",
    "plt.show();"
   ]
  },
  {
   "cell_type": "code",
   "execution_count": null,
   "metadata": {
    "collapsed": true
   },
   "outputs": [],
   "source": [
    "jump_sigmas = np.array(preds_MEAN)[:,2].reshape(100)\n",
    "jump_sigmas_upper_84 = np.array(preds_Upper_84)[:,2].reshape(100)\n",
    "jump_sigmas_lower_16 = np.array(preds_Lower_16)[:,2].reshape(100)\n",
    "\n",
    "plt.plot(sigma_s, jump_sigmas, color='b', label=\"predicted value\");\n",
    "plt.axhline(y=0.07, color='black', linestyle='-', label=\"actual value\")\n",
    "plt.fill_between(sigma_s, jump_sigmas_lower_16, jump_sigmas_upper_84, color='b', alpha=0.1, edgecolor='none')\n",
    "plt.xlabel(\"Sigma\")\n",
    "plt.ylabel(\"Jumps Sigma\")\n",
    "\n",
    "plt.legend(bbox_to_anchor=(1, 0.185), loc=1, borderaxespad=0.)\n",
    "plt.show();"
   ]
  },
  {
   "cell_type": "code",
   "execution_count": null,
   "metadata": {
    "collapsed": true
   },
   "outputs": [],
   "source": [
    "jump_mus = np.array(preds_MEAN)[:,3].reshape(100)\n",
    "jump_mus_upper_84 = np.array(preds_Upper_84)[:,3].reshape(100)\n",
    "jump_mus_lower_16 = np.array(preds_Lower_16)[:,3].reshape(100)\n",
    "\n",
    "plt.plot(sigma_s, jump_mus, color='g', label=\"predicted value\");\n",
    "plt.axhline(y=0.05, color='black', linestyle='-', label=\"actual value\")\n",
    "plt.fill_between(sigma_s, jump_mus_lower_16, jump_mus_upper_84, color='g', alpha=0.1, edgecolor='none')\n",
    "plt.xlabel(\"Sigma\")\n",
    "plt.ylabel(\"Jumps Mu\")\n",
    "\n",
    "plt.legend(bbox_to_anchor=(1, 0.185), loc=1, borderaxespad=0.)\n",
    "plt.show();"
   ]
  },
  {
   "cell_type": "code",
   "execution_count": null,
   "metadata": {
    "collapsed": true
   },
   "outputs": [],
   "source": [
    "lambdas = np.array(preds_MEAN)[:,4].reshape(100)\n",
    "lambdas_upper_84 = np.array(preds_Upper_84)[:,4].reshape(100)\n",
    "lambdas_lower_16 = np.array(preds_Lower_16)[:,4].reshape(100)\n",
    "\n",
    "plt.plot(sigma_s, lambdas, color='y', label=\"predicted value\");\n",
    "plt.axhline(y=0.02, color='black', linestyle='-', label=\"actual value\")\n",
    "plt.fill_between(sigma_s, lambdas_lower_16, lambdas_upper_84, color='y', alpha=0.1, edgecolor='none')\n",
    "plt.xlabel(\"Sigma\")\n",
    "plt.ylabel(\"Lambda\")\n",
    "\n",
    "plt.legend(bbox_to_anchor=(1, 0.185), loc=1, borderaxespad=0.)\n",
    "plt.show();"
   ]
  },
  {
   "cell_type": "code",
   "execution_count": null,
   "metadata": {
    "collapsed": true
   },
   "outputs": [],
   "source": [
    "mus_ = np.array(preds_MEAN)[:,1].reshape(100)\n",
    "mus_upper_84 = np.array(preds_Upper_84)[:,1].reshape(100)\n",
    "mus_lower_16 = np.array(preds_Lower_16)[:,1].reshape(100)\n",
    "\n",
    "plt.plot(sigma_s, mus_, color='g', label=\"predicted value\");\n",
    "plt.axhline(y=0.05, color='black', linestyle='-', label=\"actual value\")\n",
    "plt.fill_between(sigma_s, mus_lower_16, mus_upper_84, color='g', alpha=0.1, edgecolor='none')\n",
    "plt.xlabel(\"Sigma\")\n",
    "plt.ylabel(\"Mu\")\n",
    "\n",
    "plt.legend(bbox_to_anchor=(0.4085, 1), loc=1, borderaxespad=0.)\n",
    "plt.show();"
   ]
  },
  {
   "cell_type": "markdown",
   "metadata": {},
   "source": [
    "# Sensitivity Test - Jumps Sigma"
   ]
  },
  {
   "cell_type": "code",
   "execution_count": null,
   "metadata": {
    "collapsed": true
   },
   "outputs": [],
   "source": [
    "jump_sigma_s = []\n",
    "preds_MEAN = []\n",
    "preds_Lower_16 = []\n",
    "preds_Upper_84 = []\n",
    "\n",
    "for j in range(100):\n",
    "    covnet_lambda = covnet_multiple_output_with_ELUs()\n",
    "    covnet_lambda.load_weights(H5_DIR_COVNET_MULTIPLE_ELU)\n",
    "    \n",
    "    mp.jumps_sigma = 0.001 + j*(0.2 - 0.001)/100\n",
    "    test_set = []\n",
    "    \n",
    "    print(j)\n",
    "    \n",
    "    print(\"GENERATION...\")\n",
    "    test_set_pred = standard_convolutional_test_set()\n",
    "    \n",
    "    \n",
    "    print(\"PREDICTION...\\n\")\n",
    "    predictions_elu = covnet_lambda.predict(test_set_pred)\n",
    "    \n",
    "    print(np.transpose(np.mean(predictions_elu, axis = 1)))\n",
    "    print(\"   sigma,    mu,      jump_sigma,      jump_mu,    lambda\")\n",
    "    print(\"   0.1      0.05       \"+str(mp.jumps_sigma)+\"              0.05       0.02\")\n",
    "    preds_MEAN.append(np.mean(predictions_elu, axis = 1))\n",
    "    jump_sigma_s.append(mp.jumps_sigma)\n",
    "    preds_Upper_84.append(np.percentile(predictions_elu, 84, axis = 1))\n",
    "    preds_Lower_16.append(np.percentile(predictions_elu, 16, axis = 1))\n",
    "    \n",
    "np.save(\"Sensitivity_Test-covnet_lambda_JumpSigma_preds_Upper_84.npy\", preds_Upper_84)\n",
    "np.save(\"Sensitivity_Test-covnet_lambda_JumpSigma_preds_Lower_16.npy\", preds_Lower_16)\n",
    "np.save(\"Sensitivity_Test-covnet_lambda_JumpSigma_jump_sigma_s.npy\", jump_sigma_s)\n",
    "np.save(\"Sensitivity_Test-covnet_lambda_JumpSigma_preds_MEAN.npy\", preds_MEAN)"
   ]
  },
  {
   "cell_type": "code",
   "execution_count": null,
   "metadata": {
    "collapsed": true
   },
   "outputs": [],
   "source": [
    "preds_Upper_84 = np.load(\"Sensitivity_Test-covnet_lambda_JumpSigma_preds_Upper_84.npy\")\n",
    "preds_Lower_16 = np.load(\"Sensitivity_Test-covnet_lambda_JumpSigma_preds_Lower_16.npy\")\n",
    "jump_sigma_s = np.load(\"Sensitivity_Test-covnet_lambda_JumpSigma_jump_sigma_s.npy\")\n",
    "preds_MEAN = np.load(\"Sensitivity_Test-covnet_lambda_JumpSigma_preds_MEAN.npy\")"
   ]
  },
  {
   "cell_type": "code",
   "execution_count": null,
   "metadata": {
    "collapsed": true
   },
   "outputs": [],
   "source": [
    "mus_ = np.array(preds_MEAN)[:,1].reshape(100)\n",
    "mus_upper_84 = np.array(preds_Upper_84)[:,1].reshape(100)\n",
    "mus_lower_16 = np.array(preds_Lower_16)[:,1].reshape(100)\n",
    "\n",
    "plt.plot(jump_sigma_s, mus_, color='g', label=\"predicted value\");\n",
    "plt.axhline(y=0.05, color='black', linestyle='-', label=\"actual value\")\n",
    "plt.fill_between(jump_sigma_s, mus_lower_16, mus_upper_84, color='g', alpha=0.1, edgecolor='none')\n",
    "plt.xlabel(\"Jumps Sigma\")\n",
    "plt.ylabel(\"Mu\")\n",
    "\n",
    "plt.legend(bbox_to_anchor=(1, 0.19), loc=1, borderaxespad=0.)\n",
    "plt.show();"
   ]
  },
  {
   "cell_type": "code",
   "execution_count": null,
   "metadata": {
    "collapsed": true
   },
   "outputs": [],
   "source": [
    "sigmas = np.array(preds_MEAN)[:,0].reshape(100)\n",
    "sigmas_upper_84 = np.array(preds_Upper_84)[:,0].reshape(100)\n",
    "sigmas_lower_16 = np.array(preds_Lower_16)[:,0].reshape(100)\n",
    "\n",
    "plt.plot(jump_sigma_s, sigmas, color='r', label=\"predicted value\");\n",
    "plt.axhline(y=0.1, color='black', linestyle='-', label=\"actual value\")\n",
    "plt.fill_between(jump_sigma_s, sigmas_lower_16, sigmas_upper_84, color='r', alpha=0.1, edgecolor='none')\n",
    "plt.xlabel(\"Jumps Sigma\")\n",
    "plt.ylabel(\"Sigma\")\n",
    "\n",
    "plt.legend(bbox_to_anchor=(1, 0.185), loc=0, borderaxespad=0.)\n",
    "plt.show();"
   ]
  },
  {
   "cell_type": "code",
   "execution_count": null,
   "metadata": {
    "collapsed": true
   },
   "outputs": [],
   "source": [
    "jump_sigmas = np.array(preds_MEAN)[:,2].reshape(100)\n",
    "jump_sigmas_upper_84 = np.array(preds_Upper_84)[:,2].reshape(100)\n",
    "jump_sigmas_lower_16 = np.array(preds_Lower_16)[:,2].reshape(100)\n",
    "\n",
    "plt.plot(jump_sigma_s, jump_sigmas, color='b', label=\"predicted value\");\n",
    "plt.plot(jump_sigma_s, jump_sigma_s, color='black', label=\"actual value\");\n",
    "plt.fill_between(jump_sigma_s, jump_sigmas_lower_16, jump_sigmas_upper_84, color='b', alpha=0.1, edgecolor='none')\n",
    "plt.xlabel(\"Jumps Sigma\")\n",
    "plt.ylabel(\"Jumps Sigma\")\n",
    "\n",
    "plt.legend(bbox_to_anchor=(1, 0.185), loc=1, borderaxespad=0.)\n",
    "plt.show();"
   ]
  },
  {
   "cell_type": "code",
   "execution_count": null,
   "metadata": {
    "collapsed": true
   },
   "outputs": [],
   "source": [
    "jump_mus = np.array(preds_MEAN)[:,3].reshape(100)\n",
    "jump_mus_upper_84 = np.array(preds_Upper_84)[:,3].reshape(100)\n",
    "jump_mus_lower_16 = np.array(preds_Lower_16)[:,3].reshape(100)\n",
    "\n",
    "plt.plot(jump_sigma_s, jump_mus, color='g', label=\"predicted value\");\n",
    "plt.axhline(y=0.05, color='black', linestyle='-', label=\"actual value\")\n",
    "plt.fill_between(jump_sigma_s, jump_mus_lower_16, jump_mus_upper_84, color='g', alpha=0.1, edgecolor='none')\n",
    "plt.xlabel(\"Jumps Sigma\")\n",
    "plt.ylabel(\"Jumps Mu\")\n",
    "\n",
    "plt.legend(bbox_to_anchor=(1, 0.185), loc=1, borderaxespad=0.)\n",
    "plt.show();"
   ]
  },
  {
   "cell_type": "code",
   "execution_count": null,
   "metadata": {
    "collapsed": true
   },
   "outputs": [],
   "source": [
    "lambdas = np.array(preds_MEAN)[:,4].reshape(100)\n",
    "lambdas_upper_84 = np.array(preds_Upper_84)[:,4].reshape(100)\n",
    "lambdas_lower_16 = np.array(preds_Lower_16)[:,4].reshape(100)\n",
    "\n",
    "plt.plot(jump_sigma_s, lambdas, color='y', label=\"predicted value\");\n",
    "plt.axhline(y=0.02, color='black', linestyle='-', label=\"actual value\")\n",
    "plt.fill_between(jump_sigma_s, lambdas_lower_16, lambdas_upper_84, color='y', alpha=0.2, edgecolor='none')\n",
    "plt.xlabel(\"Jumps Sigma\")\n",
    "plt.ylabel(\"Lambda\")\n",
    "\n",
    "plt.legend(bbox_to_anchor=(1, 0.185), loc=1, borderaxespad=0.)\n",
    "plt.show();"
   ]
  },
  {
   "cell_type": "markdown",
   "metadata": {},
   "source": [
    "# Sensitivity Test - Jumps Mu"
   ]
  },
  {
   "cell_type": "code",
   "execution_count": null,
   "metadata": {
    "collapsed": true
   },
   "outputs": [],
   "source": [
    "jump_mu_s = []\n",
    "preds_MEAN = []\n",
    "preds_Upper_84 = []\n",
    "preds_Lower_16 = []\n",
    "\n",
    "for j in range(100):\n",
    "    covnet_lambda = covnet_multiple_output_with_ELUs()\n",
    "    covnet_lambda.load_weights(H5_DIR_COVNET_MULTIPLE_ELU)\n",
    "    \n",
    "    mp.jumps_mu = -0.5 + j/100\n",
    "    test_set = []\n",
    "    \n",
    "    print(j)\n",
    "    \n",
    "    print(\"GENERATION...\")\n",
    "    test_set_pred = standard_convolutional_test_set()\n",
    "    \n",
    "    \n",
    "    print(\"PREDICTION...\\n\")\n",
    "    predictions_elu = covnet_lambda.predict(test_set_pred)\n",
    "    \n",
    "    print(np.transpose(np.mean(predictions_elu, axis = 1)))\n",
    "    print(\"   sigma,    mu,      jump_sigma,      jump_mu,    lambda\")\n",
    "    print(\"   0.1      0.05       0.07              \"+str(mp.jumps_mu)+\"       0.02\")\n",
    "    preds_MEAN.append(np.mean(predictions_elu, axis = 1))\n",
    "    jump_mu_s.append(mp.jumps_mu)\n",
    "    preds_Upper_84.append(np.percentile(predictions_elu, 84, axis = 1))\n",
    "    preds_Lower_16.append(np.percentile(predictions_elu, 16, axis = 1))\n",
    "    \n",
    "np.save(\"Sensitivity_Test-covnet_lambda_JumpMu_preds_Upper_84.npy\", preds_Upper_84)\n",
    "np.save(\"Sensitivity_Test-covnet_lambda_JumpMu_preds_Lower_16.npy\", preds_Lower_16)\n",
    "    \n",
    "np.save(\"Sensitivity_Test-covnet_lambda_JumpMu_jump_mu_s.npy\", jump_mu_s)\n",
    "np.save(\"Sensitivity_Test-covnet_lambda_JumpMu_preds_MEAN.npy\", preds_MEAN)"
   ]
  },
  {
   "cell_type": "code",
   "execution_count": null,
   "metadata": {
    "collapsed": true
   },
   "outputs": [],
   "source": []
  },
  {
   "cell_type": "code",
   "execution_count": null,
   "metadata": {
    "collapsed": true
   },
   "outputs": [],
   "source": [
    "mus_ = np.array(preds_MEAN)[:,1].reshape(100)\n",
    "mus_upper_84 = np.array(preds_Upper_84)[:,1].reshape(100)\n",
    "mus_lower_16 = np.array(preds_Lower_16)[:,1].reshape(100)\n",
    "\n",
    "plt.plot(jump_mu_s, mus_, color='g', label=\"predicted value\");\n",
    "plt.axhline(y=0.05, color='black', linestyle='-', label=\"actual value\")\n",
    "plt.fill_between(jump_mu_s, mus_lower_16, mus_upper_84, color='g', alpha=0.1, edgecolor='none')\n",
    "plt.xlabel(\"Jumps Mu\")\n",
    "plt.ylabel(\"Mu\")\n",
    "\n",
    "plt.legend(bbox_to_anchor=(1, 0.19), loc=1, borderaxespad=0.)\n",
    "plt.show();"
   ]
  },
  {
   "cell_type": "code",
   "execution_count": null,
   "metadata": {
    "collapsed": true
   },
   "outputs": [],
   "source": [
    "sigmas = np.array(preds_MEAN)[:,0].reshape(100)\n",
    "sigmas_upper_84 = np.array(preds_Upper_84)[:,0].reshape(100)\n",
    "sigmas_lower_16 = np.array(preds_Lower_16)[:,0].reshape(100)\n",
    "\n",
    "plt.plot(jump_mu_s, sigmas, color='r', label=\"predicted value\");\n",
    "plt.axhline(y=0.1, color='black', linestyle='-', label=\"actual value\")\n",
    "plt.fill_between(jump_mu_s, sigmas_lower_16, sigmas_upper_84, color='r', alpha=0.1, edgecolor='none')\n",
    "plt.xlabel(\"Jumps Mu\")\n",
    "plt.ylabel(\"Sigma\")\n",
    "\n",
    "plt.legend(bbox_to_anchor=(1, 0.185), loc=0, borderaxespad=0.)\n",
    "plt.show();"
   ]
  },
  {
   "cell_type": "code",
   "execution_count": null,
   "metadata": {
    "collapsed": true
   },
   "outputs": [],
   "source": [
    "jump_sigmas = np.array(preds_MEAN)[:,2].reshape(100)\n",
    "jump_sigmas_upper_84 = np.array(preds_Upper_84)[:,2].reshape(100)\n",
    "jump_sigmas_lower_16 = np.array(preds_Lower_16)[:,2].reshape(100)\n",
    "\n",
    "plt.plot(jump_mu_s, jump_sigmas, color='b', label=\"predicted value\");\n",
    "plt.axhline(y=0.05, color='black', linestyle='-', label=\"actual value\")\n",
    "plt.fill_between(jump_mu_s, jump_sigmas_lower_16, jump_sigmas_upper_84, color='b', alpha=0.1, edgecolor='none')\n",
    "plt.xlabel(\"Jumps Mu\")\n",
    "plt.ylabel(\"Jumps Sigma\")\n",
    "\n",
    "plt.legend(bbox_to_anchor=(1, 0.185), loc=1, borderaxespad=0.)\n",
    "plt.show();"
   ]
  },
  {
   "cell_type": "code",
   "execution_count": null,
   "metadata": {
    "collapsed": true
   },
   "outputs": [],
   "source": [
    "jump_mus = np.array(preds_MEAN)[:,3].reshape(100)\n",
    "jump_mus_upper_84 = np.array(preds_Upper_84)[:,3].reshape(100)\n",
    "jump_mus_lower_16 = np.array(preds_Lower_16)[:,3].reshape(100)\n",
    "\n",
    "plt.plot(jump_mu_s, jump_mus, color='g', label=\"predicted value\");\n",
    "plt.plot(jump_mu_s, jump_mu_s, color='black', label=\"actual value\");\n",
    "plt.fill_between(jump_mu_s, jump_mus_lower_16, jump_mus_upper_84, color='g', alpha=0.1, edgecolor='none')\n",
    "plt.xlabel(\"Jumps Mu\")\n",
    "plt.ylabel(\"Jumps Mu\")\n",
    "\n",
    "plt.legend(bbox_to_anchor=(1, 0.185), loc=1, borderaxespad=0.)\n",
    "plt.show();"
   ]
  },
  {
   "cell_type": "code",
   "execution_count": null,
   "metadata": {
    "collapsed": true
   },
   "outputs": [],
   "source": [
    "lambdas = np.array(preds_MEAN)[:,4].reshape(100)\n",
    "lambdas_upper_84 = np.array(preds_Upper_84)[:,4].reshape(100)\n",
    "lambdas_lower_16 = np.array(preds_Lower_16)[:,4].reshape(100)\n",
    "\n",
    "plt.plot(jump_mu_s, lambdas, color='y', label=\"predicted value\");\n",
    "plt.axhline(y=0.02, color='black', linestyle='-', label=\"actual value\")\n",
    "plt.fill_between(jump_mu_s, lambdas_lower_16, lambdas_upper_84, color='y', alpha=0.2, edgecolor='none')\n",
    "plt.xlabel(\"Jumps Mu\")\n",
    "plt.ylabel(\"Lambda\")\n",
    "\n",
    "plt.legend(bbox_to_anchor=(1, 0.185), loc=1, borderaxespad=0.)\n",
    "plt.show();"
   ]
  },
  {
   "cell_type": "markdown",
   "metadata": {},
   "source": [
    "# Sensitivity Test - Lambda"
   ]
  },
  {
   "cell_type": "code",
   "execution_count": null,
   "metadata": {
    "collapsed": true
   },
   "outputs": [],
   "source": [
    "jump_lambda_s = []\n",
    "preds_MEAN = []\n",
    "preds_Upper_84 = []\n",
    "preds_Lower_16 = []\n",
    "\n",
    "for j in range(100):\n",
    "    covnet_lambda = covnet_multiple_output_with_ELUs()\n",
    "    covnet_lambda.load_weights(H5_DIR_COVNET_MULTIPLE_ELU)\n",
    "    \n",
    "    mp.lamda = 0.0001 + j*(0.025 - 0.0001)/100\n",
    "    test_set = []\n",
    "    \n",
    "    print(j)\n",
    "    \n",
    "    print(\"GENERATION...\")\n",
    "    test_set_pred = standard_convolutional_test_set()\n",
    "    \n",
    "    \n",
    "    print(\"PREDICTION...\\n\")\n",
    "    predictions_elu = covnet_lambda.predict(test_set_pred)\n",
    "    \n",
    "    print(np.transpose(np.mean(predictions_elu, axis = 1)))\n",
    "    print(\"   sigma,    mu,      jump_sigma,      jump_mu,    lambda\")\n",
    "    print(\"   0.1      0.05       0.07              0.05       \"+str(mp.lamda))\n",
    "    preds_MEAN.append(np.mean(predictions_elu, axis = 1))\n",
    "    jump_lambda_s.append(mp.lamda)\n",
    "    preds_Upper_84.append(np.percentile(predictions_elu, 84, axis = 1))\n",
    "    preds_Lower_16.append(np.percentile(predictions_elu, 16, axis = 1))\n",
    "    \n",
    "np.save(\"Sensitivity_Test-covnet_lambda_Lambda_preds_Upper_84.npy\", preds_Upper_84)\n",
    "np.save(\"Sensitivity_Test-covnet_lambda_Lambda_preds_Lower_16.npy\", preds_Lower_16)\n",
    "    \n",
    "np.save(\"Sensitivity_Test-covnet_lambda_Lambda_jump_lambda_s.npy\", jump_lambda_s)\n",
    "np.save(\"Sensitivity_Test-covnet_lambda_Lambda_preds_MEAN.npy\", preds_MEAN)"
   ]
  },
  {
   "cell_type": "code",
   "execution_count": null,
   "metadata": {
    "collapsed": true
   },
   "outputs": [],
   "source": [
    "mus_ = np.array(preds_MEAN)[:,1].reshape(100)\n",
    "mus_upper_84 = np.array(preds_Upper_84)[:,1].reshape(100)\n",
    "mus_lower_16 = np.array(preds_Lower_16)[:,1].reshape(100)\n",
    "\n",
    "plt.plot(jump_lambda_s, mus_, color='g', label=\"predicted value\");\n",
    "plt.axhline(y=0.05, color='black', linestyle='-', label=\"actual value\")\n",
    "plt.fill_between(jump_lambda_s, mus_lower_16, mus_upper_84, color='g', alpha=0.1, edgecolor='none')\n",
    "plt.xlabel(\"Lambda\")\n",
    "plt.ylabel(\"Mu\")\n",
    "\n",
    "plt.legend(bbox_to_anchor=(1, 0.19), loc=1, borderaxespad=0.)\n",
    "plt.show();"
   ]
  },
  {
   "cell_type": "code",
   "execution_count": null,
   "metadata": {
    "collapsed": true
   },
   "outputs": [],
   "source": [
    "sigmas = np.array(preds_MEAN)[:,0].reshape(100)\n",
    "sigmas_upper_84 = np.array(preds_Upper_84)[:,0].reshape(100)\n",
    "sigmas_lower_16 = np.array(preds_Lower_16)[:,0].reshape(100)\n",
    "\n",
    "plt.plot(jump_lambda_s, sigmas, color='r', label=\"predicted value\");\n",
    "plt.axhline(y=0.1, color='black', linestyle='-', label=\"actual value\")\n",
    "plt.fill_between(jump_lambda_s, sigmas_lower_16, sigmas_upper_84, color='r', alpha=0.1, edgecolor='none')\n",
    "plt.xlabel(\"Lambda\")\n",
    "plt.ylabel(\"Sigma\")\n",
    "\n",
    "plt.legend(bbox_to_anchor=(1, 0.185), loc=0, borderaxespad=0.)\n",
    "plt.show();"
   ]
  },
  {
   "cell_type": "code",
   "execution_count": null,
   "metadata": {
    "collapsed": true
   },
   "outputs": [],
   "source": [
    "jump_sigmas = np.array(preds_MEAN)[:,2].reshape(100)\n",
    "jump_sigmas_upper_84 = np.array(preds_Upper_84)[:,2].reshape(100)\n",
    "jump_sigmas_lower_16 = np.array(preds_Lower_16)[:,2].reshape(100)\n",
    "\n",
    "plt.plot(jump_lambda_s, jump_sigmas, color='b', label=\"predicted value\");\n",
    "plt.axhline(y=0.05, color='black', linestyle='-', label=\"actual value\")\n",
    "plt.fill_between(jump_lambda_s, jump_sigmas_lower_16, jump_sigmas_upper_84, color='b', alpha=0.1, edgecolor='none')\n",
    "plt.xlabel(\"Lambda\")\n",
    "plt.ylabel(\"Jumps Sigma\")\n",
    "\n",
    "plt.legend(bbox_to_anchor=(1, 0.185), loc=1, borderaxespad=0.)\n",
    "plt.show();"
   ]
  },
  {
   "cell_type": "code",
   "execution_count": null,
   "metadata": {
    "collapsed": true
   },
   "outputs": [],
   "source": [
    "jump_sigmas = np.array(preds_MEAN)[:,2].reshape(100)\n",
    "jump_sigmas_upper_84 = np.array(preds_Upper_84)[:,2].reshape(100)\n",
    "jump_sigmas_lower_16 = np.array(preds_Lower_16)[:,2].reshape(100)\n",
    "\n",
    "\n",
    "plt.plot(jump_lambda_s, jump_sigmas, color='b', label=\"predicted value\");\n",
    "plt.axhline(y=0.05, color='black', linestyle='-', label=\"actual value\")\n",
    "plt.fill_between(jump_lambda_s, jump_sigmas_lower_16, jump_sigmas_upper_84, color='b', alpha=0.1, edgecolor='none')\n",
    "plt.xlabel(\"Lambda\")\n",
    "plt.ylabel(\"Jumps Sigma\")\n",
    "\n",
    "plt.legend(bbox_to_anchor=(1, 0.185), loc=1, borderaxespad=0.)\n",
    "plt.show();"
   ]
  },
  {
   "cell_type": "code",
   "execution_count": null,
   "metadata": {
    "collapsed": true
   },
   "outputs": [],
   "source": [
    "jump_mus = np.array(preds_MEAN)[:,3].reshape(100)\n",
    "jump_mus_upper_84 = np.array(preds_Upper_84)[:,3].reshape(100)\n",
    "jump_mus_lower_16 = np.array(preds_Lower_16)[:,3].reshape(100)\n",
    "\n",
    "plt.plot(jump_lambda_s, jump_mus, color='g', label=\"predicted value\");\n",
    "plt.axhline(y=0.05, color='black', linestyle='-', label=\"actual value\")\n",
    "plt.fill_between(jump_lambda_s, jump_mus_lower_16, jump_mus_upper_84, color='g', alpha=0.1, edgecolor='none')\n",
    "plt.xlabel(\"Lambda\")\n",
    "plt.ylabel(\"Jumps Mu\")\n",
    "\n",
    "plt.legend(bbox_to_anchor=(1, 0.185), loc=1, borderaxespad=0.)\n",
    "plt.show();"
   ]
  },
  {
   "cell_type": "code",
   "execution_count": null,
   "metadata": {
    "collapsed": true
   },
   "outputs": [],
   "source": [
    "lambdas = np.array(preds_MEAN)[:,4].reshape(100)\n",
    "lambdas_upper_84 = np.array(preds_Upper_84)[:,4].reshape(100)\n",
    "lambdas_lower_16 = np.array(preds_Lower_16)[:,4].reshape(100)\n",
    "\n",
    "plt.plot(jump_lambda_s, lambdas, color='y', label=\"predicted value\");\n",
    "plt.plot(jump_lambda_s, jump_lambda_s, color='black', label=\"actual value\");\n",
    "plt.fill_between(jump_lambda_s, lambdas_lower_16, lambdas_upper_84, color='y', alpha=0.2, edgecolor='none')\n",
    "plt.xlabel(\"Lambda\")\n",
    "plt.ylabel(\"Lambda\")\n",
    "\n",
    "plt.legend(bbox_to_anchor=(1, 0.185), loc=1, borderaxespad=0.)\n",
    "plt.show();"
   ]
  },
  {
   "cell_type": "markdown",
   "metadata": {
    "collapsed": true
   },
   "source": [
    "# Tests"
   ]
  },
  {
   "cell_type": "code",
   "execution_count": null,
   "metadata": {
    "collapsed": true
   },
   "outputs": [],
   "source": [
    "test_set_pred, train_statistics = standard_test_sets()"
   ]
  },
  {
   "cell_type": "code",
   "execution_count": null,
   "metadata": {
    "collapsed": true
   },
   "outputs": [],
   "source": [
    "#predictions = covnet_mo.predict(test_set_pred)\n",
    "predictions_elu = covnet_mo_elu.predict(test_set_pred)"
   ]
  },
  {
   "cell_type": "code",
   "execution_count": null,
   "metadata": {
    "collapsed": true
   },
   "outputs": [],
   "source": [
    "predictions_ff = feedforward.predict(train_statistics)"
   ]
  },
  {
   "cell_type": "code",
   "execution_count": null,
   "metadata": {
    "collapsed": true
   },
   "outputs": [],
   "source": [
    "np.mean(predictions_ff, axis = 1)"
   ]
  },
  {
   "cell_type": "code",
   "execution_count": null,
   "metadata": {
    "collapsed": true
   },
   "outputs": [],
   "source": [
    "np.mean(predictions_elu, axis = 1)"
   ]
  },
  {
   "cell_type": "code",
   "execution_count": null,
   "metadata": {
    "collapsed": true
   },
   "outputs": [],
   "source": [
    "mp = test_set_model_params()\n",
    "print(mp.all_sigma, mp.gbm_mu, mp.jumps_sigma, mp.jumps_mu, mp.lamda)"
   ]
  },
  {
   "cell_type": "code",
   "execution_count": null,
   "metadata": {
    "collapsed": true
   },
   "outputs": [],
   "source": [
    "from PIL import Image"
   ]
  },
  {
   "cell_type": "code",
   "execution_count": null,
   "metadata": {
    "collapsed": true
   },
   "outputs": [],
   "source": [
    "def predictions_hist(predictions, true_value, plot_title = \"model\", param_name = \"param\", min_edge = None, max_edge = None, y_lim = (None, None), bin_size = 0.0025, img_subdir = \"/Images/\", save_to_file = True):\n",
    "    \n",
    "    if min_edge == None:\n",
    "        min_edge = np.min(predictions)\n",
    "    \n",
    "    if max_edge == None:\n",
    "        max_edge = np.max(predictions)\n",
    "    \n",
    "    bin_size = (max_edge-min_edge)/50\n",
    "    N = (max_edge-min_edge)/bin_size; Nplus1 = N + 1\n",
    "    bin_list = np.linspace(min_edge, max_edge, Nplus1)\n",
    "\n",
    "    fig = pylab.figure();\n",
    "    l = pylab.hist(predictions, bins=bin_list);\n",
    "    #pylab.title(plot_title);\n",
    "    pylab.axvline(x = true_value, c='k');\n",
    "    pylab.xlim(min_edge, max_edge);\n",
    "    \n",
    "    if y_lim != (None, None):\n",
    "        pylab.ylim(y_lim[0], y_lim[1])\n",
    "    \n",
    "    fig.set_dpi(120)     # draw the canvas, cache the renderer\n",
    "    \n",
    "    def fig2data ( fig ):\n",
    "        \"\"\"\n",
    "        @brief Convert a Matplotlib figure to a 4D numpy array with RGBA channels and return it\n",
    "        @param fig a matplotlib figure\n",
    "        @return a numpy 3D array of RGBA values\n",
    "        \"\"\"\n",
    "        # draw the renderer\n",
    "        fig.canvas.draw ( )\n",
    "\n",
    "        # Get the RGBA buffer from the figure\n",
    "        w,h = fig.canvas.get_width_height()\n",
    "        buf = numpy.fromstring ( fig.canvas.tostring_argb(), dtype=numpy.uint8 )\n",
    "        buf.shape = ( w, h,4 )\n",
    "\n",
    "        # canvas.tostring_argb give pixmap in ARGB mode. Roll the ALPHA channel to have it in RGBA mode\n",
    "        buf = numpy.roll ( buf, 3, axis = 2 )\n",
    "        return buf\n",
    "\n",
    "    def fig2img ( fig ):\n",
    "        \"\"\"\n",
    "        @brief Convert a Matplotlib figure to a PIL Image in RGBA format and return it\n",
    "        @param fig a matplotlib figure\n",
    "        @return a Python Imaging Library ( PIL ) image\n",
    "        \"\"\"\n",
    "        # put the figure pixmap into a numpy array\n",
    "        buf = fig2data ( fig )\n",
    "        w, h, d = buf.shape\n",
    "        return Image.frombytes( \"RGBA\", ( w ,h ), buf.tostring( ) )\n",
    "    \n",
    "    #width, height = fig.get_size_inches() * fig.get_dpi()\n",
    "    #img = (np.fromstring(fig.canvas.tostring_rgb(), dtype='uint8', sep='')).reshape(fig.canvas.get_width_height()[::-1] + (3,))\n",
    "    \n",
    "    if save_to_file:\n",
    "        fig.savefig(ROOT_DIR + img_subdir + plot_title + \"_\" + param_name + \".png\");\n",
    "    return fig, l"
   ]
  },
  {
   "cell_type": "code",
   "execution_count": null,
   "metadata": {
    "collapsed": true
   },
   "outputs": [],
   "source": [
    "\"\"\"predictions_hist(predictions[0], mp.all_sigma, \n",
    "                 \"Convolutional Architecture - Multiple Output - ReLU\", \n",
    "                 \"Sigma\",\n",
    "                 min_edge = 0.08,\n",
    "                 max_edge = 0.155,\n",
    "                 y_lim = (0, 210),\n",
    "                 img_subdir = \"/Images/Parameter-Prediction-Results/ConvolutionalNN-MultipleOutput-ReLU/\");\n",
    "\"\"\"\n",
    "predictions_hist(predictions_elu[0], mp.all_sigma, \n",
    "                 \"Convolutional Architecture - Multiple Output - ELU\", \n",
    "                 \"Sigma\",\n",
    "                 min_edge = 0.08,\n",
    "                 max_edge = 0.155,\n",
    "                 y_lim = (0, 210),\n",
    "                 img_subdir = \"/Images/Parameter-Prediction-Results/ConvolutionalNN-MultipleOutput-ELU/\");\n",
    "\n",
    "predictions_hist(predictions_ff[0], mp.all_sigma, \n",
    "                 \"Fully Connected Architecture - Multiple Output - ELU\", \n",
    "                 \"Sigma\",\n",
    "                 min_edge = 0.08,\n",
    "                 max_edge = 0.155,\n",
    "                 img_subdir = \"/Images/Parameter-Prediction-Results/FullyConnected-MultipleOutput-ELU/\");"
   ]
  },
  {
   "cell_type": "code",
   "execution_count": null,
   "metadata": {
    "collapsed": true
   },
   "outputs": [],
   "source": [
    "\"\"\"predictions_hist(predictions[1], mp.gbm_mu, \n",
    "                 \"Convolutional Architecture - Multiple Output - ReLU\", \n",
    "                 \"Mu\",\n",
    "                 min_edge = -0.1,\n",
    "                 max_edge = 0.4,\n",
    "                 y_lim = (0, 120),\n",
    "                 img_subdir = \"/Images/Parameter-Prediction-Results/ConvolutionalNN-MultipleOutput-ReLU/\");\n",
    "\"\"\"\n",
    "predictions_hist(predictions_elu[1], mp.gbm_mu, \n",
    "                 \"Convolutional Architecture - Multiple Output - ELU\", \n",
    "                 \"Mu\",\n",
    "                 min_edge = -0.1,\n",
    "                 max_edge = 0.4,\n",
    "                 y_lim = (0, 120),\n",
    "                 img_subdir = \"/Images/Parameter-Prediction-Results/ConvolutionalNN-MultipleOutput-ELU/\");\n",
    "\n",
    "predictions_hist(predictions_ff[1], mp.gbm_mu, \n",
    "                 \"Fully Connected Architecture - Multiple Output - ELU\", \n",
    "                 \"Mu\",\n",
    "                 min_edge = -0.1,\n",
    "                 max_edge = 0.4,\n",
    "                 y_lim = (0, 120),\n",
    "                 img_subdir = \"/Images/Parameter-Prediction-Results/FullyConnected-MultipleOutput-ELU/\");"
   ]
  },
  {
   "cell_type": "code",
   "execution_count": null,
   "metadata": {
    "collapsed": true
   },
   "outputs": [],
   "source": [
    "\"\"\"predictions_hist(predictions[2], mp.jumps_sigma, \n",
    "                 \"Convolutional Architecture - Multiple Output - ReLU\", \n",
    "                 \"Jumps Sigma\",\n",
    "                 min_edge = 0.02,\n",
    "                 max_edge = 0.13,\n",
    "                 y_lim = (0, 80),\n",
    "                 img_subdir = \"/Images/Parameter-Prediction-Results/ConvolutionalNN-MultipleOutput-ReLU/\");\n",
    "\"\"\"\n",
    "predictions_hist(predictions_elu[2], mp.jumps_sigma, \n",
    "                 \"Convolutional Architecture - Multiple Output - ELU\", \n",
    "                 \"Jumps Sigma\",\n",
    "                 min_edge = 0.02,\n",
    "                 max_edge = 0.13,\n",
    "                 y_lim = (0, 80),\n",
    "                 img_subdir = \"/Images/Parameter-Prediction-Results/ConvolutionalNN-MultipleOutput-ELU/\");\n",
    "\n",
    "\"\"\"predictions_hist(predictions_ff[2], mp.jumps_sigma, \n",
    "                 \"Fully Connected Architecture - Multiple Output - ELU\", \n",
    "                 \"Jumps Sigma\",\n",
    "                 min_edge = 0.02,\n",
    "                 max_edge = 0.13,\n",
    "                 img_subdir = \"/Images/Parameter-Prediction-Results/FullyConnected-MultipleOutput-ELU/\");\"\"\"\n",
    "\n",
    "preds_so = covnet_jump_sigma.predict(test_set_pred)\n",
    "predictions_hist(preds_so, mp.jumps_sigma, \n",
    "                 \"Convolutional Architecture - Multiple Output - ELU\", \n",
    "                 \"Jumps Sigma\",\n",
    "                 min_edge = 0.02,\n",
    "                 max_edge = 0.13,\n",
    "                 y_lim = (0, 80),\n",
    "                 img_subdir = \"/Images/Parameter-Prediction-Results/ConvolutionalNN-MultipleOutput-ELU/\");"
   ]
  },
  {
   "cell_type": "code",
   "execution_count": null,
   "metadata": {
    "collapsed": true
   },
   "outputs": [],
   "source": [
    "\"\"\"predictions_hist(predictions[3], mp.jumps_mu, \n",
    "                 \"Convolutional Architecture - Multiple Output - ReLU\", \n",
    "                 \"Jumps Mu\",\n",
    "                 min_edge = -0.1,\n",
    "                 max_edge = 0.15,\n",
    "                 y_lim = (0, 120),\n",
    "                 img_subdir = \"/Images/Parameter-Prediction-Results/ConvolutionalNN-MultipleOutput-ReLU/\");\n",
    "\"\"\"\n",
    "predictions_hist(predictions_elu[3], mp.jumps_mu, \n",
    "                 \"Convolutional Architecture - Multiple Output - ELU\", \n",
    "                 \"Jumps Mu\",\n",
    "                 min_edge = -0.1,\n",
    "                 max_edge = 0.15,\n",
    "                 y_lim = (0, 120),\n",
    "                 img_subdir = \"/Images/Parameter-Prediction-Results/ConvolutionalNN-MultipleOutput-ELU/\");\n",
    "\n",
    "predictions_hist(predictions_so, mp.jumps_mu, \n",
    "                 \"Convolutional Architecture - Single Output - ELU\", \n",
    "                 \"Jumps Mu\",\n",
    "                 min_edge = -0.1,\n",
    "                 max_edge = 0.15,\n",
    "                 y_lim = (0, 120),\n",
    "                 img_subdir = \"/Images/Parameter-Prediction-Results/ConvolutionalNN-SingleOutput/\");\n",
    "\n",
    "predictions_hist(predictions_ff[3], mp.jumps_mu, \n",
    "                 \"Fully Connected Architecture - Multiple Output - ELU\", \n",
    "                 \"Jumps Mu\",\n",
    "                 min_edge = -0.1,\n",
    "                 max_edge = 0.15,\n",
    "                 y_lim = (0, 120),\n",
    "                 img_subdir = \"/Images/Parameter-Prediction-Results/FullyConnected-MultipleOutput-ELU/\");"
   ]
  },
  {
   "cell_type": "code",
   "execution_count": null,
   "metadata": {
    "collapsed": true
   },
   "outputs": [],
   "source": [
    "predictions_so = covnet_jump_mu.predict(test_set_pred)"
   ]
  },
  {
   "cell_type": "code",
   "execution_count": null,
   "metadata": {
    "collapsed": true
   },
   "outputs": [],
   "source": [
    "predictions_so"
   ]
  },
  {
   "cell_type": "code",
   "execution_count": null,
   "metadata": {
    "collapsed": true
   },
   "outputs": [],
   "source": [
    "predictions_hist(np.reshape(predictions_so, len(predictions_so)), mp.jumps_mu, \n",
    "                 \"Fully Connected Architecture - Multiple Output - ELU\", \n",
    "                 \"Jumps Mu\",\n",
    "                 min_edge = -0.1,\n",
    "                 max_edge = 0.15,\n",
    "                 y_lim = (0, 120),\n",
    "                 img_subdir = \"/Images/Parameter-Prediction-Results/FullyConnected-MultipleOutput-ELU/\");\n"
   ]
  },
  {
   "cell_type": "code",
   "execution_count": null,
   "metadata": {
    "collapsed": true
   },
   "outputs": [],
   "source": [
    "single_param_predictions_lambda = covnet_lambda.predict(test_set_pred)"
   ]
  },
  {
   "cell_type": "code",
   "execution_count": null,
   "metadata": {
    "collapsed": true
   },
   "outputs": [],
   "source": [
    "\"\"\"predictions_hist(predictions[4], mp.lamda, \n",
    "                 \"Convolutional Architecture - Multiple Output - ReLU\", \n",
    "                 \"Lambda\",\n",
    "                 min_edge = 0.004,\n",
    "                 max_edge = 0.025,\n",
    "                 y_lim = (0, 100),\n",
    "                 img_subdir = \"/Images/Parameter-Prediction-Results/ConvolutionalNN-MultipleOutput-ReLU/\");\n",
    "\"\"\"\n",
    "\n",
    "predictions_hist(predictions_elu[4], mp.lamda, \n",
    "                 \"Convolutional Architecture - Multiple Output - ELU\", \n",
    "                 \"Lambda\",\n",
    "                 min_edge = 0.004,\n",
    "                 max_edge = 0.025,\n",
    "                 y_lim = (0, 100),\n",
    "                 img_subdir = \"/Images/Parameter-Prediction-Results/ConvolutionalNN-MultipleOutput-ELU/\");\n",
    "\n",
    "predictions_hist(predictions_ff[4], mp.lamda, \n",
    "                 \"Fully Connected Architecture - Multiple Output - ELU\", \n",
    "                 \"Lambda\",\n",
    "                 min_edge = 0.004,\n",
    "                 max_edge = 0.025,\n",
    "                 img_subdir = \"/Images/Parameter-Prediction-Results/FullyConnected-MultipleOutput-ELU/\");\n",
    "\n",
    "predictions_hist(single_param_predictions_lambda, mp.lamda, \n",
    "                 \"Convolutional Architecture - Single Output - ELU\", \n",
    "                 \"Lambda\",\n",
    "                 min_edge = 0.004,\n",
    "                 max_edge = 0.025,\n",
    "                 img_subdir = \"/Images/Parameter-Prediction-Results/ConvolutionalNN-SingleOutput/\");"
   ]
  },
  {
   "cell_type": "code",
   "execution_count": null,
   "metadata": {
    "collapsed": true
   },
   "outputs": [],
   "source": [
    "predictionset = []\n",
    "for return_set in test_set:\n",
    "    prediction = []\n",
    "    output1 = covnet_mo.predict(np.array([return_set]))\n",
    "    output2 = covnet_lambda.predict(np.array([return_set]))\n",
    "    output3 = covnet_jump_mu.predict(np.array([return_set]))\n",
    "    output4 = covnet_jump_sigma.predict(np.array([return_set]))\n",
    "    for output in output1:\n",
    "        prediction.append(output[0][0])\n",
    "    prediction.append(output2[0][0])\n",
    "    prediction.append(output3[0][0])\n",
    "    prediction.append(output4[0][0])\n",
    "    predictionset.append(prediction)\n",
    "        "
   ]
  },
  {
   "cell_type": "code",
   "execution_count": null,
   "metadata": {
    "collapsed": true
   },
   "outputs": [],
   "source": [
    "preds = ff_ensembling.predict(np.array(predictionset))\n",
    "np.transpose(preds)[4]"
   ]
  },
  {
   "cell_type": "code",
   "execution_count": null,
   "metadata": {
    "collapsed": true
   },
   "outputs": [],
   "source": [
    "lambdas = np.transpose(preds)[4]\n",
    "\n",
    "bin_size = 0.0005; min_edge = np.min(lambdas)-0.003; max_edge = np.max(lambdas)\n",
    "N = (max_edge-min_edge)/bin_size; Nplus1 = N + 1\n",
    "bin_list = np.linspace(min_edge, max_edge, Nplus1)\n",
    "\n",
    "plt.hist(lambdas, bins=bin_list);\n",
    "plt.title(\"Single Output:  Lambda with true value = \"+str(mp.lamda));\n",
    "plt.axvline(x=mp.lamda, c='k')\n",
    "plt.show();"
   ]
  },
  {
   "cell_type": "code",
   "execution_count": null,
   "metadata": {
    "collapsed": true
   },
   "outputs": [],
   "source": [
    "jump_mus = np.transpose(preds)[3]\n",
    "\n",
    "bin_size = 0.0025; min_edge = np.min(jump_mus)-0.03; max_edge = np.max(jump_mus)\n",
    "N = (max_edge-min_edge)/bin_size; Nplus1 = N + 1\n",
    "bin_list = np.linspace(min_edge, max_edge, Nplus1)\n",
    "\n",
    "plt.hist(jump_mus, bins=bin_list);\n",
    "plt.axvline(x=mp.jumps_mu, c='k')\n",
    "plt.title(\"Multiple Output: Mu_jumps with true value = \"+str(mp.jumps_mu));\n",
    "plt.show();"
   ]
  },
  {
   "cell_type": "code",
   "execution_count": null,
   "metadata": {
    "collapsed": true
   },
   "outputs": [],
   "source": [
    "jump_sigmas = np.transpose(preds)[2]\n",
    "\n",
    "bin_size = 0.0025; min_edge = np.min(jump_sigmas)-0.025; max_edge = np.max(jump_sigmas)\n",
    "N = (max_edge-min_edge)/bin_size; Nplus1 = N + 1\n",
    "bin_list = np.linspace(min_edge, max_edge, Nplus1)\n",
    "\n",
    "plt.hist(jump_sigmas, bins=bin_list);\n",
    "plt.title(\"Multiple Output: Sigma_jumps with true value = \"+str(mp.jumps_sigma));\n",
    "plt.axvline(x=mp.jumps_sigma, c='k')\n",
    "plt.show();"
   ]
  },
  {
   "cell_type": "code",
   "execution_count": null,
   "metadata": {
    "collapsed": true
   },
   "outputs": [],
   "source": [
    "preds"
   ]
  },
  {
   "cell_type": "code",
   "execution_count": null,
   "metadata": {
    "collapsed": true
   },
   "outputs": [],
   "source": [
    "random_seed = System.currentTimeMillis()\n",
    "print(random_seed)"
   ]
  },
  {
   "cell_type": "code",
   "execution_count": null,
   "metadata": {
    "collapsed": true
   },
   "outputs": [],
   "source": [
    "mp = random_model_params()\n",
    "mp.gbm_mu = 0.1\n",
    "mp.all_sigma = 0.1\n",
    "mp.lamda = 0.02\n",
    "mp.jumps_mu = 0.1\n",
    "mp.jumps_sigma = 0.05\n",
    "\n",
    "nrand.seed(random_seed)\n",
    "random.seed(random_seed)\n",
    "RETURNS_ = np.exp(geometric_brownian_motion_jump_diffusion_log_returns(mp))"
   ]
  },
  {
   "cell_type": "code",
   "execution_count": null,
   "metadata": {
    "collapsed": true
   },
   "outputs": [],
   "source": [
    "path1 = [1]\n",
    "for i in range(len(RETURNS_)):\n",
    "    path1.append(path1[i]*RETURNS_[i])"
   ]
  },
  {
   "cell_type": "code",
   "execution_count": null,
   "metadata": {
    "collapsed": true
   },
   "outputs": [],
   "source": [
    "nrand.seed(random_seed)\n",
    "random.seed(random_seed)\n",
    "return_set = np.reshape(np.array(geometric_brownian_motion_jump_diffusion_log_returns(mp)), (40, 50, 1))\n",
    "\n",
    "output1 = covnet_mo.predict(np.array([return_set]))\n",
    "output2 = covnet_lambda.predict(np.array([return_set]))\n",
    "output3 = covnet_jump_mu.predict(np.array([return_set]))\n",
    "output4 = covnet_jump_sigma.predict(np.array([return_set]))\n",
    "prediction = []\n",
    "\n",
    "for output in output1:\n",
    "    prediction.append(output[0][0])\n",
    "prediction.append(output2[0][0])\n",
    "prediction.append(output3[0][0])\n",
    "prediction.append(output4[0][0])    "
   ]
  },
  {
   "cell_type": "code",
   "execution_count": null,
   "metadata": {
    "collapsed": true
   },
   "outputs": [],
   "source": []
  },
  {
   "cell_type": "code",
   "execution_count": null,
   "metadata": {
    "collapsed": true
   },
   "outputs": [],
   "source": [
    "preds = covnet_mo_elu.predict(np.array([return_set]))"
   ]
  },
  {
   "cell_type": "code",
   "execution_count": null,
   "metadata": {
    "collapsed": true
   },
   "outputs": [],
   "source": [
    "mp.all_sigma = preds[0][0][0]\n",
    "mp.gbm_mu = preds[1][0][0]\n",
    "mp.jumps_sigma = preds[2][0][0]\n",
    "mp.jumps_mu = preds[3][0][0]\n",
    "mp.lamda = preds[4][0][0]"
   ]
  },
  {
   "cell_type": "code",
   "execution_count": null,
   "metadata": {
    "collapsed": true
   },
   "outputs": [],
   "source": [
    "preds"
   ]
  },
  {
   "cell_type": "code",
   "execution_count": null,
   "metadata": {
    "collapsed": true
   },
   "outputs": [],
   "source": [
    "nrand.seed(random_seed)\n",
    "random.seed(random_seed)\n",
    "RETURNS_ = np.exp(geometric_brownian_motion_jump_diffusion_log_returns(mp))\n",
    "path2 = [1]\n",
    "for i in range(len(RETURNS_)):\n",
    "    path2.append(path2[i]*RETURNS_[i])\n",
    "plt.plot(path2);\n",
    "plt.plot(path1);"
   ]
  },
  {
   "cell_type": "code",
   "execution_count": null,
   "metadata": {
    "collapsed": true
   },
   "outputs": [],
   "source": []
  },
  {
   "cell_type": "code",
   "execution_count": null,
   "metadata": {
    "collapsed": true
   },
   "outputs": [],
   "source": []
  },
  {
   "cell_type": "code",
   "execution_count": null,
   "metadata": {
    "collapsed": true
   },
   "outputs": [],
   "source": []
  }
 ],
 "metadata": {
  "anaconda-cloud": {},
  "kernelspec": {
   "display_name": "Python 2",
   "language": "python",
   "name": "python2"
  },
  "language_info": {
   "codemirror_mode": {
    "name": "ipython",
    "version": 2
   },
   "file_extension": ".py",
   "mimetype": "text/x-python",
   "name": "python",
   "nbconvert_exporter": "python",
   "pygments_lexer": "ipython2",
   "version": "2.7.12"
  },
  "widgets": {
   "state": {},
   "version": "1.1.2"
  }
 },
 "nbformat": 4,
 "nbformat_minor": 2
}
